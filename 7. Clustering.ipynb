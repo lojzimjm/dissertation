{
 "cells": [
  {
   "cell_type": "code",
   "execution_count": 1,
   "id": "5cf12049",
   "metadata": {},
   "outputs": [],
   "source": [
    "# Clear workspace\n",
    "rm(list=ls())"
   ]
  },
  {
   "cell_type": "code",
   "execution_count": 2,
   "id": "37fed206",
   "metadata": {},
   "outputs": [
    {
     "data": {
      "text/html": [
       "<table class=\"dataframe\">\n",
       "<caption>A matrix: 2 × 6 of type dbl</caption>\n",
       "<thead>\n",
       "\t<tr><th></th><th scope=col>used</th><th scope=col>(Mb)</th><th scope=col>gc trigger</th><th scope=col>(Mb)</th><th scope=col>max used</th><th scope=col>(Mb)</th></tr>\n",
       "</thead>\n",
       "<tbody>\n",
       "\t<tr><th scope=row>Ncells</th><td> 610809</td><td>32.7</td><td>1320457</td><td>70.6</td><td>1307896</td><td>69.9</td></tr>\n",
       "\t<tr><th scope=row>Vcells</th><td>1141732</td><td> 8.8</td><td>8388608</td><td>64.0</td><td>1821309</td><td>13.9</td></tr>\n",
       "</tbody>\n",
       "</table>\n"
      ],
      "text/latex": [
       "A matrix: 2 × 6 of type dbl\n",
       "\\begin{tabular}{r|llllll}\n",
       "  & used & (Mb) & gc trigger & (Mb) & max used & (Mb)\\\\\n",
       "\\hline\n",
       "\tNcells &  610809 & 32.7 & 1320457 & 70.6 & 1307896 & 69.9\\\\\n",
       "\tVcells & 1141732 &  8.8 & 8388608 & 64.0 & 1821309 & 13.9\\\\\n",
       "\\end{tabular}\n"
      ],
      "text/markdown": [
       "\n",
       "A matrix: 2 × 6 of type dbl\n",
       "\n",
       "| <!--/--> | used | (Mb) | gc trigger | (Mb) | max used | (Mb) |\n",
       "|---|---|---|---|---|---|---|\n",
       "| Ncells |  610809 | 32.7 | 1320457 | 70.6 | 1307896 | 69.9 |\n",
       "| Vcells | 1141732 |  8.8 | 8388608 | 64.0 | 1821309 | 13.9 |\n",
       "\n"
      ],
      "text/plain": [
       "       used    (Mb) gc trigger (Mb) max used (Mb)\n",
       "Ncells  610809 32.7 1320457    70.6 1307896  69.9\n",
       "Vcells 1141732  8.8 8388608    64.0 1821309  13.9"
      ]
     },
     "metadata": {},
     "output_type": "display_data"
    }
   ],
   "source": [
    "# Garabage collect to help with memory issues\n",
    "gc()"
   ]
  },
  {
   "cell_type": "code",
   "execution_count": 3,
   "id": "916dc064",
   "metadata": {},
   "outputs": [],
   "source": [
    "# Uncomment and run to install packages if needed\n",
    "# install.packages(\"tidyverse\")\n",
    "# install.packages(\"cluster\")\n",
    "# install.packages(\"tsfeatures\")\n",
    "# install.packages(\"Rcatch22\")\n",
    "# install.packages(\"tseries\")\n",
    "# install.packages(\"factoextra\")\n",
    "# install.packages(\"forecast\")\n",
    "# install.packages(\"dtwclust\")"
   ]
  },
  {
   "cell_type": "code",
   "execution_count": 4,
   "id": "d71a267e",
   "metadata": {},
   "outputs": [
    {
     "name": "stderr",
     "output_type": "stream",
     "text": [
      "Warning message:\n",
      "“‘timedatectl’ indicates the non-existent timezone name ‘n/a’”\n",
      "Warning message:\n",
      "“Your system is mis-configured: ‘/etc/localtime’ is not a symlink”\n",
      "Warning message:\n",
      "“It is strongly recommended to set envionment variable TZ to ‘Etc/UCT’ (or equivalent)”\n",
      "── \u001b[1mAttaching packages\u001b[22m ─────────────────────────────────────── tidyverse 1.3.1 ──\n",
      "\n",
      "\u001b[32m✔\u001b[39m \u001b[34mggplot2\u001b[39m 3.3.6     \u001b[32m✔\u001b[39m \u001b[34mpurrr  \u001b[39m 0.3.4\n",
      "\u001b[32m✔\u001b[39m \u001b[34mtibble \u001b[39m 3.1.7     \u001b[32m✔\u001b[39m \u001b[34mdplyr  \u001b[39m 1.0.9\n",
      "\u001b[32m✔\u001b[39m \u001b[34mtidyr  \u001b[39m 1.2.0     \u001b[32m✔\u001b[39m \u001b[34mstringr\u001b[39m 1.4.0\n",
      "\u001b[32m✔\u001b[39m \u001b[34mreadr  \u001b[39m 2.1.2     \u001b[32m✔\u001b[39m \u001b[34mforcats\u001b[39m 0.5.1\n",
      "\n",
      "── \u001b[1mConflicts\u001b[22m ────────────────────────────────────────── tidyverse_conflicts() ──\n",
      "\u001b[31m✖\u001b[39m \u001b[34mdplyr\u001b[39m::\u001b[32mfilter()\u001b[39m masks \u001b[34mstats\u001b[39m::filter()\n",
      "\u001b[31m✖\u001b[39m \u001b[34mdplyr\u001b[39m::\u001b[32mlag()\u001b[39m    masks \u001b[34mstats\u001b[39m::lag()\n",
      "\n",
      "Registered S3 method overwritten by 'quantmod':\n",
      "  method            from\n",
      "  as.zoo.data.frame zoo \n",
      "\n",
      "Welcome! Want to learn more? See two factoextra-related books at https://goo.gl/ve3WBa\n",
      "\n",
      "Loading required package: proxy\n",
      "\n",
      "\n",
      "Attaching package: ‘proxy’\n",
      "\n",
      "\n",
      "The following objects are masked from ‘package:stats’:\n",
      "\n",
      "    as.dist, dist\n",
      "\n",
      "\n",
      "The following object is masked from ‘package:base’:\n",
      "\n",
      "    as.matrix\n",
      "\n",
      "\n",
      "Loading required package: dtw\n",
      "\n",
      "Loaded dtw v1.22-3. See ?dtw for help, citation(\"dtw\") for use in publication.\n",
      "\n",
      "\n",
      "dtwclust:\n",
      "Setting random number generator to L'Ecuyer-CMRG (see RNGkind()).\n",
      "To read the included vignettes type: browseVignettes(\"dtwclust\").\n",
      "See news(package = \"dtwclust\") after package updates.\n",
      "\n"
     ]
    }
   ],
   "source": [
    "library(tidyverse)\n",
    "library(cluster)\n",
    "library(tsfeatures)\n",
    "library(Rcatch22)\n",
    "library(tseries)\n",
    "library(factoextra)\n",
    "library(forecast)\n",
    "library(dtwclust)"
   ]
  },
  {
   "cell_type": "code",
   "execution_count": 5,
   "id": "aeed3fb3",
   "metadata": {},
   "outputs": [],
   "source": [
    "# Create the folders to save results in\n",
    "res_folder1 <- \"Results/Clustering/Random/\"\n",
    "if (!file.exists(res_folder1)) {\n",
    " dir.create(res_folder1, recursive=TRUE)\n",
    "}\n",
    "\n",
    "res_folder2 <- \"Results/Clustering/KMeans/\"\n",
    "if (!file.exists(res_folder2)) {\n",
    " dir.create(res_folder2, recursive=TRUE)\n",
    "}\n",
    "\n",
    "res_folder3 <- \"Results/Clustering/DTW/\"\n",
    "if (!file.exists(res_folder3)) {\n",
    " dir.create(res_folder3, recursive=TRUE)\n",
    "}"
   ]
  },
  {
   "cell_type": "markdown",
   "id": "bd303dd3",
   "metadata": {},
   "source": [
    "# Read In and Subset Data"
   ]
  },
  {
   "cell_type": "code",
   "execution_count": 6,
   "id": "6e875d24",
   "metadata": {},
   "outputs": [
    {
     "name": "stderr",
     "output_type": "stream",
     "text": [
      "\u001b[1mRows: \u001b[22m\u001b[34m35040\u001b[39m \u001b[1mColumns: \u001b[22m\u001b[34m10\u001b[39m\n",
      "\u001b[36m──\u001b[39m \u001b[1mColumn specification\u001b[22m \u001b[36m────────────────────────────────────────────────────────\u001b[39m\n",
      "\u001b[1mDelimiter:\u001b[22m \",\"\n",
      "\u001b[31mchr\u001b[39m  (1): site_name\n",
      "\u001b[32mdbl\u001b[39m  (5): day_of_week, day_of_year, interval_of_day, avg_mph, total_volume\n",
      "\u001b[33mlgl\u001b[39m  (2): missing_speed, missing_volume\n",
      "\u001b[34mdttm\u001b[39m (1): timestamp\n",
      "\u001b[34mdate\u001b[39m (1): date\n",
      "\n",
      "\u001b[36mℹ\u001b[39m Use `spec()` to retrieve the full column specification for this data.\n",
      "\u001b[36mℹ\u001b[39m Specify the column types or set `show_col_types = FALSE` to quiet this message.\n",
      "\u001b[1mRows: \u001b[22m\u001b[34m35040\u001b[39m \u001b[1mColumns: \u001b[22m\u001b[34m10\u001b[39m\n",
      "\u001b[36m──\u001b[39m \u001b[1mColumn specification\u001b[22m \u001b[36m────────────────────────────────────────────────────────\u001b[39m\n",
      "\u001b[1mDelimiter:\u001b[22m \",\"\n",
      "\u001b[31mchr\u001b[39m  (1): site_name\n",
      "\u001b[32mdbl\u001b[39m  (5): day_of_week, day_of_year, interval_of_day, avg_mph, total_volume\n",
      "\u001b[33mlgl\u001b[39m  (2): missing_speed, missing_volume\n",
      "\u001b[34mdttm\u001b[39m (1): timestamp\n",
      "\u001b[34mdate\u001b[39m (1): date\n",
      "\n",
      "\u001b[36mℹ\u001b[39m Use `spec()` to retrieve the full column specification for this data.\n",
      "\u001b[36mℹ\u001b[39m Specify the column types or set `show_col_types = FALSE` to quiet this message.\n",
      "\u001b[1mRows: \u001b[22m\u001b[34m35040\u001b[39m \u001b[1mColumns: \u001b[22m\u001b[34m10\u001b[39m\n",
      "\u001b[36m──\u001b[39m \u001b[1mColumn specification\u001b[22m \u001b[36m────────────────────────────────────────────────────────\u001b[39m\n",
      "\u001b[1mDelimiter:\u001b[22m \",\"\n",
      "\u001b[31mchr\u001b[39m  (1): site_name\n",
      "\u001b[32mdbl\u001b[39m  (5): day_of_week, day_of_year, interval_of_day, avg_mph, total_volume\n",
      "\u001b[33mlgl\u001b[39m  (2): missing_speed, missing_volume\n",
      "\u001b[34mdttm\u001b[39m (1): timestamp\n",
      "\u001b[34mdate\u001b[39m (1): date\n",
      "\n",
      "\u001b[36mℹ\u001b[39m Use `spec()` to retrieve the full column specification for this data.\n",
      "\u001b[36mℹ\u001b[39m Specify the column types or set `show_col_types = FALSE` to quiet this message.\n",
      "\u001b[1mRows: \u001b[22m\u001b[34m35040\u001b[39m \u001b[1mColumns: \u001b[22m\u001b[34m10\u001b[39m\n",
      "\u001b[36m──\u001b[39m \u001b[1mColumn specification\u001b[22m \u001b[36m────────────────────────────────────────────────────────\u001b[39m\n",
      "\u001b[1mDelimiter:\u001b[22m \",\"\n",
      "\u001b[31mchr\u001b[39m  (1): site_name\n",
      "\u001b[32mdbl\u001b[39m  (5): day_of_week, day_of_year, interval_of_day, avg_mph, total_volume\n",
      "\u001b[33mlgl\u001b[39m  (2): missing_speed, missing_volume\n",
      "\u001b[34mdttm\u001b[39m (1): timestamp\n",
      "\u001b[34mdate\u001b[39m (1): date\n",
      "\n",
      "\u001b[36mℹ\u001b[39m Use `spec()` to retrieve the full column specification for this data.\n",
      "\u001b[36mℹ\u001b[39m Specify the column types or set `show_col_types = FALSE` to quiet this message.\n",
      "\u001b[1mRows: \u001b[22m\u001b[34m35040\u001b[39m \u001b[1mColumns: \u001b[22m\u001b[34m10\u001b[39m\n",
      "\u001b[36m──\u001b[39m \u001b[1mColumn specification\u001b[22m \u001b[36m────────────────────────────────────────────────────────\u001b[39m\n",
      "\u001b[1mDelimiter:\u001b[22m \",\"\n",
      "\u001b[31mchr\u001b[39m  (1): site_name\n",
      "\u001b[32mdbl\u001b[39m  (5): day_of_week, day_of_year, interval_of_day, avg_mph, total_volume\n",
      "\u001b[33mlgl\u001b[39m  (2): missing_speed, missing_volume\n",
      "\u001b[34mdttm\u001b[39m (1): timestamp\n",
      "\u001b[34mdate\u001b[39m (1): date\n",
      "\n",
      "\u001b[36mℹ\u001b[39m Use `spec()` to retrieve the full column specification for this data.\n",
      "\u001b[36mℹ\u001b[39m Specify the column types or set `show_col_types = FALSE` to quiet this message.\n",
      "\u001b[1mRows: \u001b[22m\u001b[34m35040\u001b[39m \u001b[1mColumns: \u001b[22m\u001b[34m10\u001b[39m\n",
      "\u001b[36m──\u001b[39m \u001b[1mColumn specification\u001b[22m \u001b[36m────────────────────────────────────────────────────────\u001b[39m\n",
      "\u001b[1mDelimiter:\u001b[22m \",\"\n",
      "\u001b[31mchr\u001b[39m  (1): site_name\n",
      "\u001b[32mdbl\u001b[39m  (5): day_of_week, day_of_year, interval_of_day, avg_mph, total_volume\n",
      "\u001b[33mlgl\u001b[39m  (2): missing_speed, missing_volume\n",
      "\u001b[34mdttm\u001b[39m (1): timestamp\n",
      "\u001b[34mdate\u001b[39m (1): date\n",
      "\n",
      "\u001b[36mℹ\u001b[39m Use `spec()` to retrieve the full column specification for this data.\n",
      "\u001b[36mℹ\u001b[39m Specify the column types or set `show_col_types = FALSE` to quiet this message.\n",
      "\u001b[1mRows: \u001b[22m\u001b[34m35040\u001b[39m \u001b[1mColumns: \u001b[22m\u001b[34m10\u001b[39m\n",
      "\u001b[36m──\u001b[39m \u001b[1mColumn specification\u001b[22m \u001b[36m────────────────────────────────────────────────────────\u001b[39m\n",
      "\u001b[1mDelimiter:\u001b[22m \",\"\n",
      "\u001b[31mchr\u001b[39m  (1): site_name\n",
      "\u001b[32mdbl\u001b[39m  (5): day_of_week, day_of_year, interval_of_day, avg_mph, total_volume\n",
      "\u001b[33mlgl\u001b[39m  (2): missing_speed, missing_volume\n",
      "\u001b[34mdttm\u001b[39m (1): timestamp\n",
      "\u001b[34mdate\u001b[39m (1): date\n",
      "\n",
      "\u001b[36mℹ\u001b[39m Use `spec()` to retrieve the full column specification for this data.\n",
      "\u001b[36mℹ\u001b[39m Specify the column types or set `show_col_types = FALSE` to quiet this message.\n",
      "\u001b[1mRows: \u001b[22m\u001b[34m35040\u001b[39m \u001b[1mColumns: \u001b[22m\u001b[34m10\u001b[39m\n",
      "\u001b[36m──\u001b[39m \u001b[1mColumn specification\u001b[22m \u001b[36m────────────────────────────────────────────────────────\u001b[39m\n",
      "\u001b[1mDelimiter:\u001b[22m \",\"\n",
      "\u001b[31mchr\u001b[39m  (1): site_name\n",
      "\u001b[32mdbl\u001b[39m  (5): day_of_week, day_of_year, interval_of_day, avg_mph, total_volume\n",
      "\u001b[33mlgl\u001b[39m  (2): missing_speed, missing_volume\n",
      "\u001b[34mdttm\u001b[39m (1): timestamp\n",
      "\u001b[34mdate\u001b[39m (1): date\n",
      "\n",
      "\u001b[36mℹ\u001b[39m Use `spec()` to retrieve the full column specification for this data.\n",
      "\u001b[36mℹ\u001b[39m Specify the column types or set `show_col_types = FALSE` to quiet this message.\n",
      "\u001b[1mRows: \u001b[22m\u001b[34m35040\u001b[39m \u001b[1mColumns: \u001b[22m\u001b[34m10\u001b[39m\n",
      "\u001b[36m──\u001b[39m \u001b[1mColumn specification\u001b[22m \u001b[36m────────────────────────────────────────────────────────\u001b[39m\n",
      "\u001b[1mDelimiter:\u001b[22m \",\"\n",
      "\u001b[31mchr\u001b[39m  (1): site_name\n",
      "\u001b[32mdbl\u001b[39m  (5): day_of_week, day_of_year, interval_of_day, avg_mph, total_volume\n",
      "\u001b[33mlgl\u001b[39m  (2): missing_speed, missing_volume\n",
      "\u001b[34mdttm\u001b[39m (1): timestamp\n",
      "\u001b[34mdate\u001b[39m (1): date\n",
      "\n",
      "\u001b[36mℹ\u001b[39m Use `spec()` to retrieve the full column specification for this data.\n",
      "\u001b[36mℹ\u001b[39m Specify the column types or set `show_col_types = FALSE` to quiet this message.\n",
      "\u001b[1mRows: \u001b[22m\u001b[34m35040\u001b[39m \u001b[1mColumns: \u001b[22m\u001b[34m10\u001b[39m\n",
      "\u001b[36m──\u001b[39m \u001b[1mColumn specification\u001b[22m \u001b[36m────────────────────────────────────────────────────────\u001b[39m\n",
      "\u001b[1mDelimiter:\u001b[22m \",\"\n",
      "\u001b[31mchr\u001b[39m  (1): site_name\n",
      "\u001b[32mdbl\u001b[39m  (5): day_of_week, day_of_year, interval_of_day, avg_mph, total_volume\n",
      "\u001b[33mlgl\u001b[39m  (2): missing_speed, missing_volume\n",
      "\u001b[34mdttm\u001b[39m (1): timestamp\n",
      "\u001b[34mdate\u001b[39m (1): date\n",
      "\n",
      "\u001b[36mℹ\u001b[39m Use `spec()` to retrieve the full column specification for this data.\n",
      "\u001b[36mℹ\u001b[39m Specify the column types or set `show_col_types = FALSE` to quiet this message.\n",
      "\u001b[1mRows: \u001b[22m\u001b[34m35040\u001b[39m \u001b[1mColumns: \u001b[22m\u001b[34m10\u001b[39m\n",
      "\u001b[36m──\u001b[39m \u001b[1mColumn specification\u001b[22m \u001b[36m────────────────────────────────────────────────────────\u001b[39m\n",
      "\u001b[1mDelimiter:\u001b[22m \",\"\n",
      "\u001b[31mchr\u001b[39m  (1): site_name\n",
      "\u001b[32mdbl\u001b[39m  (5): day_of_week, day_of_year, interval_of_day, avg_mph, total_volume\n",
      "\u001b[33mlgl\u001b[39m  (2): missing_speed, missing_volume\n",
      "\u001b[34mdttm\u001b[39m (1): timestamp\n",
      "\u001b[34mdate\u001b[39m (1): date\n",
      "\n",
      "\u001b[36mℹ\u001b[39m Use `spec()` to retrieve the full column specification for this data.\n",
      "\u001b[36mℹ\u001b[39m Specify the column types or set `show_col_types = FALSE` to quiet this message.\n",
      "\u001b[1mRows: \u001b[22m\u001b[34m35040\u001b[39m \u001b[1mColumns: \u001b[22m\u001b[34m10\u001b[39m\n",
      "\u001b[36m──\u001b[39m \u001b[1mColumn specification\u001b[22m \u001b[36m────────────────────────────────────────────────────────\u001b[39m\n",
      "\u001b[1mDelimiter:\u001b[22m \",\"\n",
      "\u001b[31mchr\u001b[39m  (1): site_name\n",
      "\u001b[32mdbl\u001b[39m  (5): day_of_week, day_of_year, interval_of_day, avg_mph, total_volume\n",
      "\u001b[33mlgl\u001b[39m  (2): missing_speed, missing_volume\n",
      "\u001b[34mdttm\u001b[39m (1): timestamp\n",
      "\u001b[34mdate\u001b[39m (1): date\n",
      "\n",
      "\u001b[36mℹ\u001b[39m Use `spec()` to retrieve the full column specification for this data.\n",
      "\u001b[36mℹ\u001b[39m Specify the column types or set `show_col_types = FALSE` to quiet this message.\n",
      "\u001b[1mRows: \u001b[22m\u001b[34m35040\u001b[39m \u001b[1mColumns: \u001b[22m\u001b[34m10\u001b[39m\n",
      "\u001b[36m──\u001b[39m \u001b[1mColumn specification\u001b[22m \u001b[36m────────────────────────────────────────────────────────\u001b[39m\n",
      "\u001b[1mDelimiter:\u001b[22m \",\"\n",
      "\u001b[31mchr\u001b[39m  (1): site_name\n",
      "\u001b[32mdbl\u001b[39m  (5): day_of_week, day_of_year, interval_of_day, avg_mph, total_volume\n",
      "\u001b[33mlgl\u001b[39m  (2): missing_speed, missing_volume\n",
      "\u001b[34mdttm\u001b[39m (1): timestamp\n",
      "\u001b[34mdate\u001b[39m (1): date\n",
      "\n",
      "\u001b[36mℹ\u001b[39m Use `spec()` to retrieve the full column specification for this data.\n",
      "\u001b[36mℹ\u001b[39m Specify the column types or set `show_col_types = FALSE` to quiet this message.\n",
      "\u001b[1mRows: \u001b[22m\u001b[34m35040\u001b[39m \u001b[1mColumns: \u001b[22m\u001b[34m10\u001b[39m\n",
      "\u001b[36m──\u001b[39m \u001b[1mColumn specification\u001b[22m \u001b[36m────────────────────────────────────────────────────────\u001b[39m\n",
      "\u001b[1mDelimiter:\u001b[22m \",\"\n",
      "\u001b[31mchr\u001b[39m  (1): site_name\n",
      "\u001b[32mdbl\u001b[39m  (5): day_of_week, day_of_year, interval_of_day, avg_mph, total_volume\n",
      "\u001b[33mlgl\u001b[39m  (2): missing_speed, missing_volume\n",
      "\u001b[34mdttm\u001b[39m (1): timestamp\n",
      "\u001b[34mdate\u001b[39m (1): date\n",
      "\n",
      "\u001b[36mℹ\u001b[39m Use `spec()` to retrieve the full column specification for this data.\n",
      "\u001b[36mℹ\u001b[39m Specify the column types or set `show_col_types = FALSE` to quiet this message.\n"
     ]
    },
    {
     "name": "stderr",
     "output_type": "stream",
     "text": [
      "\u001b[1mRows: \u001b[22m\u001b[34m35040\u001b[39m \u001b[1mColumns: \u001b[22m\u001b[34m10\u001b[39m\n",
      "\u001b[36m──\u001b[39m \u001b[1mColumn specification\u001b[22m \u001b[36m────────────────────────────────────────────────────────\u001b[39m\n",
      "\u001b[1mDelimiter:\u001b[22m \",\"\n",
      "\u001b[31mchr\u001b[39m  (1): site_name\n",
      "\u001b[32mdbl\u001b[39m  (5): day_of_week, day_of_year, interval_of_day, avg_mph, total_volume\n",
      "\u001b[33mlgl\u001b[39m  (2): missing_speed, missing_volume\n",
      "\u001b[34mdttm\u001b[39m (1): timestamp\n",
      "\u001b[34mdate\u001b[39m (1): date\n",
      "\n",
      "\u001b[36mℹ\u001b[39m Use `spec()` to retrieve the full column specification for this data.\n",
      "\u001b[36mℹ\u001b[39m Specify the column types or set `show_col_types = FALSE` to quiet this message.\n",
      "\u001b[1mRows: \u001b[22m\u001b[34m35040\u001b[39m \u001b[1mColumns: \u001b[22m\u001b[34m10\u001b[39m\n",
      "\u001b[36m──\u001b[39m \u001b[1mColumn specification\u001b[22m \u001b[36m────────────────────────────────────────────────────────\u001b[39m\n",
      "\u001b[1mDelimiter:\u001b[22m \",\"\n",
      "\u001b[31mchr\u001b[39m  (1): site_name\n",
      "\u001b[32mdbl\u001b[39m  (5): day_of_week, day_of_year, interval_of_day, avg_mph, total_volume\n",
      "\u001b[33mlgl\u001b[39m  (2): missing_speed, missing_volume\n",
      "\u001b[34mdttm\u001b[39m (1): timestamp\n",
      "\u001b[34mdate\u001b[39m (1): date\n",
      "\n",
      "\u001b[36mℹ\u001b[39m Use `spec()` to retrieve the full column specification for this data.\n",
      "\u001b[36mℹ\u001b[39m Specify the column types or set `show_col_types = FALSE` to quiet this message.\n",
      "\u001b[1mRows: \u001b[22m\u001b[34m35040\u001b[39m \u001b[1mColumns: \u001b[22m\u001b[34m10\u001b[39m\n",
      "\u001b[36m──\u001b[39m \u001b[1mColumn specification\u001b[22m \u001b[36m────────────────────────────────────────────────────────\u001b[39m\n",
      "\u001b[1mDelimiter:\u001b[22m \",\"\n",
      "\u001b[31mchr\u001b[39m  (1): site_name\n",
      "\u001b[32mdbl\u001b[39m  (5): day_of_week, day_of_year, interval_of_day, avg_mph, total_volume\n",
      "\u001b[33mlgl\u001b[39m  (2): missing_speed, missing_volume\n",
      "\u001b[34mdttm\u001b[39m (1): timestamp\n",
      "\u001b[34mdate\u001b[39m (1): date\n",
      "\n",
      "\u001b[36mℹ\u001b[39m Use `spec()` to retrieve the full column specification for this data.\n",
      "\u001b[36mℹ\u001b[39m Specify the column types or set `show_col_types = FALSE` to quiet this message.\n",
      "\u001b[1mRows: \u001b[22m\u001b[34m35040\u001b[39m \u001b[1mColumns: \u001b[22m\u001b[34m10\u001b[39m\n",
      "\u001b[36m──\u001b[39m \u001b[1mColumn specification\u001b[22m \u001b[36m────────────────────────────────────────────────────────\u001b[39m\n",
      "\u001b[1mDelimiter:\u001b[22m \",\"\n",
      "\u001b[31mchr\u001b[39m  (1): site_name\n",
      "\u001b[32mdbl\u001b[39m  (5): day_of_week, day_of_year, interval_of_day, avg_mph, total_volume\n",
      "\u001b[33mlgl\u001b[39m  (2): missing_speed, missing_volume\n",
      "\u001b[34mdttm\u001b[39m (1): timestamp\n",
      "\u001b[34mdate\u001b[39m (1): date\n",
      "\n",
      "\u001b[36mℹ\u001b[39m Use `spec()` to retrieve the full column specification for this data.\n",
      "\u001b[36mℹ\u001b[39m Specify the column types or set `show_col_types = FALSE` to quiet this message.\n",
      "\u001b[1mRows: \u001b[22m\u001b[34m35040\u001b[39m \u001b[1mColumns: \u001b[22m\u001b[34m10\u001b[39m\n",
      "\u001b[36m──\u001b[39m \u001b[1mColumn specification\u001b[22m \u001b[36m────────────────────────────────────────────────────────\u001b[39m\n",
      "\u001b[1mDelimiter:\u001b[22m \",\"\n",
      "\u001b[31mchr\u001b[39m  (1): site_name\n",
      "\u001b[32mdbl\u001b[39m  (5): day_of_week, day_of_year, interval_of_day, avg_mph, total_volume\n",
      "\u001b[33mlgl\u001b[39m  (2): missing_speed, missing_volume\n",
      "\u001b[34mdttm\u001b[39m (1): timestamp\n",
      "\u001b[34mdate\u001b[39m (1): date\n",
      "\n",
      "\u001b[36mℹ\u001b[39m Use `spec()` to retrieve the full column specification for this data.\n",
      "\u001b[36mℹ\u001b[39m Specify the column types or set `show_col_types = FALSE` to quiet this message.\n",
      "\u001b[1mRows: \u001b[22m\u001b[34m35040\u001b[39m \u001b[1mColumns: \u001b[22m\u001b[34m10\u001b[39m\n",
      "\u001b[36m──\u001b[39m \u001b[1mColumn specification\u001b[22m \u001b[36m────────────────────────────────────────────────────────\u001b[39m\n",
      "\u001b[1mDelimiter:\u001b[22m \",\"\n",
      "\u001b[31mchr\u001b[39m  (1): site_name\n",
      "\u001b[32mdbl\u001b[39m  (5): day_of_week, day_of_year, interval_of_day, avg_mph, total_volume\n",
      "\u001b[33mlgl\u001b[39m  (2): missing_speed, missing_volume\n",
      "\u001b[34mdttm\u001b[39m (1): timestamp\n",
      "\u001b[34mdate\u001b[39m (1): date\n",
      "\n",
      "\u001b[36mℹ\u001b[39m Use `spec()` to retrieve the full column specification for this data.\n",
      "\u001b[36mℹ\u001b[39m Specify the column types or set `show_col_types = FALSE` to quiet this message.\n",
      "\u001b[1mRows: \u001b[22m\u001b[34m35040\u001b[39m \u001b[1mColumns: \u001b[22m\u001b[34m10\u001b[39m\n",
      "\u001b[36m──\u001b[39m \u001b[1mColumn specification\u001b[22m \u001b[36m────────────────────────────────────────────────────────\u001b[39m\n",
      "\u001b[1mDelimiter:\u001b[22m \",\"\n",
      "\u001b[31mchr\u001b[39m  (1): site_name\n",
      "\u001b[32mdbl\u001b[39m  (5): day_of_week, day_of_year, interval_of_day, avg_mph, total_volume\n",
      "\u001b[33mlgl\u001b[39m  (2): missing_speed, missing_volume\n",
      "\u001b[34mdttm\u001b[39m (1): timestamp\n",
      "\u001b[34mdate\u001b[39m (1): date\n",
      "\n",
      "\u001b[36mℹ\u001b[39m Use `spec()` to retrieve the full column specification for this data.\n",
      "\u001b[36mℹ\u001b[39m Specify the column types or set `show_col_types = FALSE` to quiet this message.\n",
      "\u001b[1mRows: \u001b[22m\u001b[34m35040\u001b[39m \u001b[1mColumns: \u001b[22m\u001b[34m10\u001b[39m\n",
      "\u001b[36m──\u001b[39m \u001b[1mColumn specification\u001b[22m \u001b[36m────────────────────────────────────────────────────────\u001b[39m\n",
      "\u001b[1mDelimiter:\u001b[22m \",\"\n",
      "\u001b[31mchr\u001b[39m  (1): site_name\n",
      "\u001b[32mdbl\u001b[39m  (5): day_of_week, day_of_year, interval_of_day, avg_mph, total_volume\n",
      "\u001b[33mlgl\u001b[39m  (2): missing_speed, missing_volume\n",
      "\u001b[34mdttm\u001b[39m (1): timestamp\n",
      "\u001b[34mdate\u001b[39m (1): date\n",
      "\n",
      "\u001b[36mℹ\u001b[39m Use `spec()` to retrieve the full column specification for this data.\n",
      "\u001b[36mℹ\u001b[39m Specify the column types or set `show_col_types = FALSE` to quiet this message.\n",
      "\u001b[1mRows: \u001b[22m\u001b[34m35040\u001b[39m \u001b[1mColumns: \u001b[22m\u001b[34m10\u001b[39m\n",
      "\u001b[36m──\u001b[39m \u001b[1mColumn specification\u001b[22m \u001b[36m────────────────────────────────────────────────────────\u001b[39m\n",
      "\u001b[1mDelimiter:\u001b[22m \",\"\n",
      "\u001b[31mchr\u001b[39m  (1): site_name\n",
      "\u001b[32mdbl\u001b[39m  (5): day_of_week, day_of_year, interval_of_day, avg_mph, total_volume\n",
      "\u001b[33mlgl\u001b[39m  (2): missing_speed, missing_volume\n",
      "\u001b[34mdttm\u001b[39m (1): timestamp\n",
      "\u001b[34mdate\u001b[39m (1): date\n",
      "\n",
      "\u001b[36mℹ\u001b[39m Use `spec()` to retrieve the full column specification for this data.\n",
      "\u001b[36mℹ\u001b[39m Specify the column types or set `show_col_types = FALSE` to quiet this message.\n",
      "\u001b[1mRows: \u001b[22m\u001b[34m35040\u001b[39m \u001b[1mColumns: \u001b[22m\u001b[34m10\u001b[39m\n",
      "\u001b[36m──\u001b[39m \u001b[1mColumn specification\u001b[22m \u001b[36m────────────────────────────────────────────────────────\u001b[39m\n",
      "\u001b[1mDelimiter:\u001b[22m \",\"\n",
      "\u001b[31mchr\u001b[39m  (1): site_name\n",
      "\u001b[32mdbl\u001b[39m  (5): day_of_week, day_of_year, interval_of_day, avg_mph, total_volume\n",
      "\u001b[33mlgl\u001b[39m  (2): missing_speed, missing_volume\n",
      "\u001b[34mdttm\u001b[39m (1): timestamp\n",
      "\u001b[34mdate\u001b[39m (1): date\n",
      "\n",
      "\u001b[36mℹ\u001b[39m Use `spec()` to retrieve the full column specification for this data.\n",
      "\u001b[36mℹ\u001b[39m Specify the column types or set `show_col_types = FALSE` to quiet this message.\n",
      "\u001b[1mRows: \u001b[22m\u001b[34m35040\u001b[39m \u001b[1mColumns: \u001b[22m\u001b[34m10\u001b[39m\n",
      "\u001b[36m──\u001b[39m \u001b[1mColumn specification\u001b[22m \u001b[36m────────────────────────────────────────────────────────\u001b[39m\n",
      "\u001b[1mDelimiter:\u001b[22m \",\"\n",
      "\u001b[31mchr\u001b[39m  (1): site_name\n",
      "\u001b[32mdbl\u001b[39m  (5): day_of_week, day_of_year, interval_of_day, avg_mph, total_volume\n",
      "\u001b[33mlgl\u001b[39m  (2): missing_speed, missing_volume\n",
      "\u001b[34mdttm\u001b[39m (1): timestamp\n",
      "\u001b[34mdate\u001b[39m (1): date\n",
      "\n",
      "\u001b[36mℹ\u001b[39m Use `spec()` to retrieve the full column specification for this data.\n",
      "\u001b[36mℹ\u001b[39m Specify the column types or set `show_col_types = FALSE` to quiet this message.\n",
      "\u001b[1mRows: \u001b[22m\u001b[34m35040\u001b[39m \u001b[1mColumns: \u001b[22m\u001b[34m10\u001b[39m\n",
      "\u001b[36m──\u001b[39m \u001b[1mColumn specification\u001b[22m \u001b[36m────────────────────────────────────────────────────────\u001b[39m\n",
      "\u001b[1mDelimiter:\u001b[22m \",\"\n",
      "\u001b[31mchr\u001b[39m  (1): site_name\n",
      "\u001b[32mdbl\u001b[39m  (5): day_of_week, day_of_year, interval_of_day, avg_mph, total_volume\n",
      "\u001b[33mlgl\u001b[39m  (2): missing_speed, missing_volume\n",
      "\u001b[34mdttm\u001b[39m (1): timestamp\n",
      "\u001b[34mdate\u001b[39m (1): date\n",
      "\n",
      "\u001b[36mℹ\u001b[39m Use `spec()` to retrieve the full column specification for this data.\n",
      "\u001b[36mℹ\u001b[39m Specify the column types or set `show_col_types = FALSE` to quiet this message.\n",
      "\u001b[1mRows: \u001b[22m\u001b[34m35040\u001b[39m \u001b[1mColumns: \u001b[22m\u001b[34m10\u001b[39m\n",
      "\u001b[36m──\u001b[39m \u001b[1mColumn specification\u001b[22m \u001b[36m────────────────────────────────────────────────────────\u001b[39m\n",
      "\u001b[1mDelimiter:\u001b[22m \",\"\n",
      "\u001b[31mchr\u001b[39m  (1): site_name\n",
      "\u001b[32mdbl\u001b[39m  (5): day_of_week, day_of_year, interval_of_day, avg_mph, total_volume\n",
      "\u001b[33mlgl\u001b[39m  (2): missing_speed, missing_volume\n",
      "\u001b[34mdttm\u001b[39m (1): timestamp\n",
      "\u001b[34mdate\u001b[39m (1): date\n",
      "\n",
      "\u001b[36mℹ\u001b[39m Use `spec()` to retrieve the full column specification for this data.\n",
      "\u001b[36mℹ\u001b[39m Specify the column types or set `show_col_types = FALSE` to quiet this message.\n",
      "\u001b[1mRows: \u001b[22m\u001b[34m35040\u001b[39m \u001b[1mColumns: \u001b[22m\u001b[34m10\u001b[39m\n",
      "\u001b[36m──\u001b[39m \u001b[1mColumn specification\u001b[22m \u001b[36m────────────────────────────────────────────────────────\u001b[39m\n",
      "\u001b[1mDelimiter:\u001b[22m \",\"\n",
      "\u001b[31mchr\u001b[39m  (1): site_name\n",
      "\u001b[32mdbl\u001b[39m  (5): day_of_week, day_of_year, interval_of_day, avg_mph, total_volume\n",
      "\u001b[33mlgl\u001b[39m  (2): missing_speed, missing_volume\n",
      "\u001b[34mdttm\u001b[39m (1): timestamp\n",
      "\u001b[34mdate\u001b[39m (1): date\n",
      "\n",
      "\u001b[36mℹ\u001b[39m Use `spec()` to retrieve the full column specification for this data.\n",
      "\u001b[36mℹ\u001b[39m Specify the column types or set `show_col_types = FALSE` to quiet this message.\n"
     ]
    },
    {
     "name": "stderr",
     "output_type": "stream",
     "text": [
      "\u001b[1mRows: \u001b[22m\u001b[34m35040\u001b[39m \u001b[1mColumns: \u001b[22m\u001b[34m10\u001b[39m\n",
      "\u001b[36m──\u001b[39m \u001b[1mColumn specification\u001b[22m \u001b[36m────────────────────────────────────────────────────────\u001b[39m\n",
      "\u001b[1mDelimiter:\u001b[22m \",\"\n",
      "\u001b[31mchr\u001b[39m  (1): site_name\n",
      "\u001b[32mdbl\u001b[39m  (5): day_of_week, day_of_year, interval_of_day, avg_mph, total_volume\n",
      "\u001b[33mlgl\u001b[39m  (2): missing_speed, missing_volume\n",
      "\u001b[34mdttm\u001b[39m (1): timestamp\n",
      "\u001b[34mdate\u001b[39m (1): date\n",
      "\n",
      "\u001b[36mℹ\u001b[39m Use `spec()` to retrieve the full column specification for this data.\n",
      "\u001b[36mℹ\u001b[39m Specify the column types or set `show_col_types = FALSE` to quiet this message.\n",
      "\u001b[1mRows: \u001b[22m\u001b[34m35040\u001b[39m \u001b[1mColumns: \u001b[22m\u001b[34m10\u001b[39m\n",
      "\u001b[36m──\u001b[39m \u001b[1mColumn specification\u001b[22m \u001b[36m────────────────────────────────────────────────────────\u001b[39m\n",
      "\u001b[1mDelimiter:\u001b[22m \",\"\n",
      "\u001b[31mchr\u001b[39m  (1): site_name\n",
      "\u001b[32mdbl\u001b[39m  (5): day_of_week, day_of_year, interval_of_day, avg_mph, total_volume\n",
      "\u001b[33mlgl\u001b[39m  (2): missing_speed, missing_volume\n",
      "\u001b[34mdttm\u001b[39m (1): timestamp\n",
      "\u001b[34mdate\u001b[39m (1): date\n",
      "\n",
      "\u001b[36mℹ\u001b[39m Use `spec()` to retrieve the full column specification for this data.\n",
      "\u001b[36mℹ\u001b[39m Specify the column types or set `show_col_types = FALSE` to quiet this message.\n",
      "\u001b[1mRows: \u001b[22m\u001b[34m35040\u001b[39m \u001b[1mColumns: \u001b[22m\u001b[34m10\u001b[39m\n",
      "\u001b[36m──\u001b[39m \u001b[1mColumn specification\u001b[22m \u001b[36m────────────────────────────────────────────────────────\u001b[39m\n",
      "\u001b[1mDelimiter:\u001b[22m \",\"\n",
      "\u001b[31mchr\u001b[39m  (1): site_name\n",
      "\u001b[32mdbl\u001b[39m  (5): day_of_week, day_of_year, interval_of_day, avg_mph, total_volume\n",
      "\u001b[33mlgl\u001b[39m  (2): missing_speed, missing_volume\n",
      "\u001b[34mdttm\u001b[39m (1): timestamp\n",
      "\u001b[34mdate\u001b[39m (1): date\n",
      "\n",
      "\u001b[36mℹ\u001b[39m Use `spec()` to retrieve the full column specification for this data.\n",
      "\u001b[36mℹ\u001b[39m Specify the column types or set `show_col_types = FALSE` to quiet this message.\n",
      "\u001b[1mRows: \u001b[22m\u001b[34m35040\u001b[39m \u001b[1mColumns: \u001b[22m\u001b[34m10\u001b[39m\n",
      "\u001b[36m──\u001b[39m \u001b[1mColumn specification\u001b[22m \u001b[36m────────────────────────────────────────────────────────\u001b[39m\n",
      "\u001b[1mDelimiter:\u001b[22m \",\"\n",
      "\u001b[31mchr\u001b[39m  (1): site_name\n",
      "\u001b[32mdbl\u001b[39m  (5): day_of_week, day_of_year, interval_of_day, avg_mph, total_volume\n",
      "\u001b[33mlgl\u001b[39m  (2): missing_speed, missing_volume\n",
      "\u001b[34mdttm\u001b[39m (1): timestamp\n",
      "\u001b[34mdate\u001b[39m (1): date\n",
      "\n",
      "\u001b[36mℹ\u001b[39m Use `spec()` to retrieve the full column specification for this data.\n",
      "\u001b[36mℹ\u001b[39m Specify the column types or set `show_col_types = FALSE` to quiet this message.\n",
      "\u001b[1mRows: \u001b[22m\u001b[34m35040\u001b[39m \u001b[1mColumns: \u001b[22m\u001b[34m10\u001b[39m\n",
      "\u001b[36m──\u001b[39m \u001b[1mColumn specification\u001b[22m \u001b[36m────────────────────────────────────────────────────────\u001b[39m\n",
      "\u001b[1mDelimiter:\u001b[22m \",\"\n",
      "\u001b[31mchr\u001b[39m  (1): site_name\n",
      "\u001b[32mdbl\u001b[39m  (5): day_of_week, day_of_year, interval_of_day, avg_mph, total_volume\n",
      "\u001b[33mlgl\u001b[39m  (2): missing_speed, missing_volume\n",
      "\u001b[34mdttm\u001b[39m (1): timestamp\n",
      "\u001b[34mdate\u001b[39m (1): date\n",
      "\n",
      "\u001b[36mℹ\u001b[39m Use `spec()` to retrieve the full column specification for this data.\n",
      "\u001b[36mℹ\u001b[39m Specify the column types or set `show_col_types = FALSE` to quiet this message.\n",
      "\u001b[1mRows: \u001b[22m\u001b[34m35040\u001b[39m \u001b[1mColumns: \u001b[22m\u001b[34m10\u001b[39m\n",
      "\u001b[36m──\u001b[39m \u001b[1mColumn specification\u001b[22m \u001b[36m────────────────────────────────────────────────────────\u001b[39m\n",
      "\u001b[1mDelimiter:\u001b[22m \",\"\n",
      "\u001b[31mchr\u001b[39m  (1): site_name\n",
      "\u001b[32mdbl\u001b[39m  (5): day_of_week, day_of_year, interval_of_day, avg_mph, total_volume\n",
      "\u001b[33mlgl\u001b[39m  (2): missing_speed, missing_volume\n",
      "\u001b[34mdttm\u001b[39m (1): timestamp\n",
      "\u001b[34mdate\u001b[39m (1): date\n",
      "\n",
      "\u001b[36mℹ\u001b[39m Use `spec()` to retrieve the full column specification for this data.\n",
      "\u001b[36mℹ\u001b[39m Specify the column types or set `show_col_types = FALSE` to quiet this message.\n",
      "\u001b[1mRows: \u001b[22m\u001b[34m35040\u001b[39m \u001b[1mColumns: \u001b[22m\u001b[34m10\u001b[39m\n",
      "\u001b[36m──\u001b[39m \u001b[1mColumn specification\u001b[22m \u001b[36m────────────────────────────────────────────────────────\u001b[39m\n",
      "\u001b[1mDelimiter:\u001b[22m \",\"\n",
      "\u001b[31mchr\u001b[39m  (1): site_name\n",
      "\u001b[32mdbl\u001b[39m  (5): day_of_week, day_of_year, interval_of_day, avg_mph, total_volume\n",
      "\u001b[33mlgl\u001b[39m  (2): missing_speed, missing_volume\n",
      "\u001b[34mdttm\u001b[39m (1): timestamp\n",
      "\u001b[34mdate\u001b[39m (1): date\n",
      "\n",
      "\u001b[36mℹ\u001b[39m Use `spec()` to retrieve the full column specification for this data.\n",
      "\u001b[36mℹ\u001b[39m Specify the column types or set `show_col_types = FALSE` to quiet this message.\n",
      "\u001b[1mRows: \u001b[22m\u001b[34m35040\u001b[39m \u001b[1mColumns: \u001b[22m\u001b[34m10\u001b[39m\n",
      "\u001b[36m──\u001b[39m \u001b[1mColumn specification\u001b[22m \u001b[36m────────────────────────────────────────────────────────\u001b[39m\n",
      "\u001b[1mDelimiter:\u001b[22m \",\"\n",
      "\u001b[31mchr\u001b[39m  (1): site_name\n",
      "\u001b[32mdbl\u001b[39m  (5): day_of_week, day_of_year, interval_of_day, avg_mph, total_volume\n",
      "\u001b[33mlgl\u001b[39m  (2): missing_speed, missing_volume\n",
      "\u001b[34mdttm\u001b[39m (1): timestamp\n",
      "\u001b[34mdate\u001b[39m (1): date\n",
      "\n",
      "\u001b[36mℹ\u001b[39m Use `spec()` to retrieve the full column specification for this data.\n",
      "\u001b[36mℹ\u001b[39m Specify the column types or set `show_col_types = FALSE` to quiet this message.\n",
      "\u001b[1mRows: \u001b[22m\u001b[34m35040\u001b[39m \u001b[1mColumns: \u001b[22m\u001b[34m10\u001b[39m\n",
      "\u001b[36m──\u001b[39m \u001b[1mColumn specification\u001b[22m \u001b[36m────────────────────────────────────────────────────────\u001b[39m\n",
      "\u001b[1mDelimiter:\u001b[22m \",\"\n",
      "\u001b[31mchr\u001b[39m  (1): site_name\n",
      "\u001b[32mdbl\u001b[39m  (5): day_of_week, day_of_year, interval_of_day, avg_mph, total_volume\n",
      "\u001b[33mlgl\u001b[39m  (2): missing_speed, missing_volume\n",
      "\u001b[34mdttm\u001b[39m (1): timestamp\n",
      "\u001b[34mdate\u001b[39m (1): date\n",
      "\n",
      "\u001b[36mℹ\u001b[39m Use `spec()` to retrieve the full column specification for this data.\n",
      "\u001b[36mℹ\u001b[39m Specify the column types or set `show_col_types = FALSE` to quiet this message.\n",
      "\u001b[1mRows: \u001b[22m\u001b[34m35040\u001b[39m \u001b[1mColumns: \u001b[22m\u001b[34m10\u001b[39m\n",
      "\u001b[36m──\u001b[39m \u001b[1mColumn specification\u001b[22m \u001b[36m────────────────────────────────────────────────────────\u001b[39m\n",
      "\u001b[1mDelimiter:\u001b[22m \",\"\n",
      "\u001b[31mchr\u001b[39m  (1): site_name\n",
      "\u001b[32mdbl\u001b[39m  (5): day_of_week, day_of_year, interval_of_day, avg_mph, total_volume\n",
      "\u001b[33mlgl\u001b[39m  (2): missing_speed, missing_volume\n",
      "\u001b[34mdttm\u001b[39m (1): timestamp\n",
      "\u001b[34mdate\u001b[39m (1): date\n",
      "\n",
      "\u001b[36mℹ\u001b[39m Use `spec()` to retrieve the full column specification for this data.\n",
      "\u001b[36mℹ\u001b[39m Specify the column types or set `show_col_types = FALSE` to quiet this message.\n",
      "\u001b[1mRows: \u001b[22m\u001b[34m35040\u001b[39m \u001b[1mColumns: \u001b[22m\u001b[34m10\u001b[39m\n",
      "\u001b[36m──\u001b[39m \u001b[1mColumn specification\u001b[22m \u001b[36m────────────────────────────────────────────────────────\u001b[39m\n",
      "\u001b[1mDelimiter:\u001b[22m \",\"\n",
      "\u001b[31mchr\u001b[39m  (1): site_name\n",
      "\u001b[32mdbl\u001b[39m  (5): day_of_week, day_of_year, interval_of_day, avg_mph, total_volume\n",
      "\u001b[33mlgl\u001b[39m  (2): missing_speed, missing_volume\n",
      "\u001b[34mdttm\u001b[39m (1): timestamp\n",
      "\u001b[34mdate\u001b[39m (1): date\n",
      "\n",
      "\u001b[36mℹ\u001b[39m Use `spec()` to retrieve the full column specification for this data.\n",
      "\u001b[36mℹ\u001b[39m Specify the column types or set `show_col_types = FALSE` to quiet this message.\n",
      "\u001b[1mRows: \u001b[22m\u001b[34m35040\u001b[39m \u001b[1mColumns: \u001b[22m\u001b[34m10\u001b[39m\n",
      "\u001b[36m──\u001b[39m \u001b[1mColumn specification\u001b[22m \u001b[36m────────────────────────────────────────────────────────\u001b[39m\n",
      "\u001b[1mDelimiter:\u001b[22m \",\"\n",
      "\u001b[31mchr\u001b[39m  (1): site_name\n",
      "\u001b[32mdbl\u001b[39m  (5): day_of_week, day_of_year, interval_of_day, avg_mph, total_volume\n",
      "\u001b[33mlgl\u001b[39m  (2): missing_speed, missing_volume\n",
      "\u001b[34mdttm\u001b[39m (1): timestamp\n",
      "\u001b[34mdate\u001b[39m (1): date\n",
      "\n",
      "\u001b[36mℹ\u001b[39m Use `spec()` to retrieve the full column specification for this data.\n",
      "\u001b[36mℹ\u001b[39m Specify the column types or set `show_col_types = FALSE` to quiet this message.\n",
      "\u001b[1mRows: \u001b[22m\u001b[34m35040\u001b[39m \u001b[1mColumns: \u001b[22m\u001b[34m10\u001b[39m\n",
      "\u001b[36m──\u001b[39m \u001b[1mColumn specification\u001b[22m \u001b[36m────────────────────────────────────────────────────────\u001b[39m\n",
      "\u001b[1mDelimiter:\u001b[22m \",\"\n",
      "\u001b[31mchr\u001b[39m  (1): site_name\n",
      "\u001b[32mdbl\u001b[39m  (5): day_of_week, day_of_year, interval_of_day, avg_mph, total_volume\n",
      "\u001b[33mlgl\u001b[39m  (2): missing_speed, missing_volume\n",
      "\u001b[34mdttm\u001b[39m (1): timestamp\n",
      "\u001b[34mdate\u001b[39m (1): date\n",
      "\n",
      "\u001b[36mℹ\u001b[39m Use `spec()` to retrieve the full column specification for this data.\n",
      "\u001b[36mℹ\u001b[39m Specify the column types or set `show_col_types = FALSE` to quiet this message.\n",
      "\u001b[1mRows: \u001b[22m\u001b[34m35040\u001b[39m \u001b[1mColumns: \u001b[22m\u001b[34m10\u001b[39m\n",
      "\u001b[36m──\u001b[39m \u001b[1mColumn specification\u001b[22m \u001b[36m────────────────────────────────────────────────────────\u001b[39m\n",
      "\u001b[1mDelimiter:\u001b[22m \",\"\n",
      "\u001b[31mchr\u001b[39m  (1): site_name\n",
      "\u001b[32mdbl\u001b[39m  (5): day_of_week, day_of_year, interval_of_day, avg_mph, total_volume\n",
      "\u001b[33mlgl\u001b[39m  (2): missing_speed, missing_volume\n",
      "\u001b[34mdttm\u001b[39m (1): timestamp\n",
      "\u001b[34mdate\u001b[39m (1): date\n",
      "\n",
      "\u001b[36mℹ\u001b[39m Use `spec()` to retrieve the full column specification for this data.\n",
      "\u001b[36mℹ\u001b[39m Specify the column types or set `show_col_types = FALSE` to quiet this message.\n"
     ]
    },
    {
     "name": "stderr",
     "output_type": "stream",
     "text": [
      "\u001b[1mRows: \u001b[22m\u001b[34m35040\u001b[39m \u001b[1mColumns: \u001b[22m\u001b[34m10\u001b[39m\n",
      "\u001b[36m──\u001b[39m \u001b[1mColumn specification\u001b[22m \u001b[36m────────────────────────────────────────────────────────\u001b[39m\n",
      "\u001b[1mDelimiter:\u001b[22m \",\"\n",
      "\u001b[31mchr\u001b[39m  (1): site_name\n",
      "\u001b[32mdbl\u001b[39m  (5): day_of_week, day_of_year, interval_of_day, avg_mph, total_volume\n",
      "\u001b[33mlgl\u001b[39m  (2): missing_speed, missing_volume\n",
      "\u001b[34mdttm\u001b[39m (1): timestamp\n",
      "\u001b[34mdate\u001b[39m (1): date\n",
      "\n",
      "\u001b[36mℹ\u001b[39m Use `spec()` to retrieve the full column specification for this data.\n",
      "\u001b[36mℹ\u001b[39m Specify the column types or set `show_col_types = FALSE` to quiet this message.\n",
      "\u001b[1mRows: \u001b[22m\u001b[34m35040\u001b[39m \u001b[1mColumns: \u001b[22m\u001b[34m10\u001b[39m\n",
      "\u001b[36m──\u001b[39m \u001b[1mColumn specification\u001b[22m \u001b[36m────────────────────────────────────────────────────────\u001b[39m\n",
      "\u001b[1mDelimiter:\u001b[22m \",\"\n",
      "\u001b[31mchr\u001b[39m  (1): site_name\n",
      "\u001b[32mdbl\u001b[39m  (5): day_of_week, day_of_year, interval_of_day, avg_mph, total_volume\n",
      "\u001b[33mlgl\u001b[39m  (2): missing_speed, missing_volume\n",
      "\u001b[34mdttm\u001b[39m (1): timestamp\n",
      "\u001b[34mdate\u001b[39m (1): date\n",
      "\n",
      "\u001b[36mℹ\u001b[39m Use `spec()` to retrieve the full column specification for this data.\n",
      "\u001b[36mℹ\u001b[39m Specify the column types or set `show_col_types = FALSE` to quiet this message.\n",
      "\u001b[1mRows: \u001b[22m\u001b[34m35040\u001b[39m \u001b[1mColumns: \u001b[22m\u001b[34m10\u001b[39m\n",
      "\u001b[36m──\u001b[39m \u001b[1mColumn specification\u001b[22m \u001b[36m────────────────────────────────────────────────────────\u001b[39m\n",
      "\u001b[1mDelimiter:\u001b[22m \",\"\n",
      "\u001b[31mchr\u001b[39m  (1): site_name\n",
      "\u001b[32mdbl\u001b[39m  (5): day_of_week, day_of_year, interval_of_day, avg_mph, total_volume\n",
      "\u001b[33mlgl\u001b[39m  (2): missing_speed, missing_volume\n",
      "\u001b[34mdttm\u001b[39m (1): timestamp\n",
      "\u001b[34mdate\u001b[39m (1): date\n",
      "\n",
      "\u001b[36mℹ\u001b[39m Use `spec()` to retrieve the full column specification for this data.\n",
      "\u001b[36mℹ\u001b[39m Specify the column types or set `show_col_types = FALSE` to quiet this message.\n",
      "\u001b[1mRows: \u001b[22m\u001b[34m35040\u001b[39m \u001b[1mColumns: \u001b[22m\u001b[34m10\u001b[39m\n",
      "\u001b[36m──\u001b[39m \u001b[1mColumn specification\u001b[22m \u001b[36m────────────────────────────────────────────────────────\u001b[39m\n",
      "\u001b[1mDelimiter:\u001b[22m \",\"\n",
      "\u001b[31mchr\u001b[39m  (1): site_name\n",
      "\u001b[32mdbl\u001b[39m  (5): day_of_week, day_of_year, interval_of_day, avg_mph, total_volume\n",
      "\u001b[33mlgl\u001b[39m  (2): missing_speed, missing_volume\n",
      "\u001b[34mdttm\u001b[39m (1): timestamp\n",
      "\u001b[34mdate\u001b[39m (1): date\n",
      "\n",
      "\u001b[36mℹ\u001b[39m Use `spec()` to retrieve the full column specification for this data.\n",
      "\u001b[36mℹ\u001b[39m Specify the column types or set `show_col_types = FALSE` to quiet this message.\n",
      "\u001b[1mRows: \u001b[22m\u001b[34m35040\u001b[39m \u001b[1mColumns: \u001b[22m\u001b[34m10\u001b[39m\n",
      "\u001b[36m──\u001b[39m \u001b[1mColumn specification\u001b[22m \u001b[36m────────────────────────────────────────────────────────\u001b[39m\n",
      "\u001b[1mDelimiter:\u001b[22m \",\"\n",
      "\u001b[31mchr\u001b[39m  (1): site_name\n",
      "\u001b[32mdbl\u001b[39m  (5): day_of_week, day_of_year, interval_of_day, avg_mph, total_volume\n",
      "\u001b[33mlgl\u001b[39m  (2): missing_speed, missing_volume\n",
      "\u001b[34mdttm\u001b[39m (1): timestamp\n",
      "\u001b[34mdate\u001b[39m (1): date\n",
      "\n",
      "\u001b[36mℹ\u001b[39m Use `spec()` to retrieve the full column specification for this data.\n",
      "\u001b[36mℹ\u001b[39m Specify the column types or set `show_col_types = FALSE` to quiet this message.\n",
      "\u001b[1mRows: \u001b[22m\u001b[34m35040\u001b[39m \u001b[1mColumns: \u001b[22m\u001b[34m10\u001b[39m\n",
      "\u001b[36m──\u001b[39m \u001b[1mColumn specification\u001b[22m \u001b[36m────────────────────────────────────────────────────────\u001b[39m\n",
      "\u001b[1mDelimiter:\u001b[22m \",\"\n",
      "\u001b[31mchr\u001b[39m  (1): site_name\n",
      "\u001b[32mdbl\u001b[39m  (5): day_of_week, day_of_year, interval_of_day, avg_mph, total_volume\n",
      "\u001b[33mlgl\u001b[39m  (2): missing_speed, missing_volume\n",
      "\u001b[34mdttm\u001b[39m (1): timestamp\n",
      "\u001b[34mdate\u001b[39m (1): date\n",
      "\n",
      "\u001b[36mℹ\u001b[39m Use `spec()` to retrieve the full column specification for this data.\n",
      "\u001b[36mℹ\u001b[39m Specify the column types or set `show_col_types = FALSE` to quiet this message.\n",
      "\u001b[1mRows: \u001b[22m\u001b[34m35040\u001b[39m \u001b[1mColumns: \u001b[22m\u001b[34m10\u001b[39m\n",
      "\u001b[36m──\u001b[39m \u001b[1mColumn specification\u001b[22m \u001b[36m────────────────────────────────────────────────────────\u001b[39m\n",
      "\u001b[1mDelimiter:\u001b[22m \",\"\n",
      "\u001b[31mchr\u001b[39m  (1): site_name\n",
      "\u001b[32mdbl\u001b[39m  (5): day_of_week, day_of_year, interval_of_day, avg_mph, total_volume\n",
      "\u001b[33mlgl\u001b[39m  (2): missing_speed, missing_volume\n",
      "\u001b[34mdttm\u001b[39m (1): timestamp\n",
      "\u001b[34mdate\u001b[39m (1): date\n",
      "\n",
      "\u001b[36mℹ\u001b[39m Use `spec()` to retrieve the full column specification for this data.\n",
      "\u001b[36mℹ\u001b[39m Specify the column types or set `show_col_types = FALSE` to quiet this message.\n",
      "\u001b[1mRows: \u001b[22m\u001b[34m35040\u001b[39m \u001b[1mColumns: \u001b[22m\u001b[34m10\u001b[39m\n",
      "\u001b[36m──\u001b[39m \u001b[1mColumn specification\u001b[22m \u001b[36m────────────────────────────────────────────────────────\u001b[39m\n",
      "\u001b[1mDelimiter:\u001b[22m \",\"\n",
      "\u001b[31mchr\u001b[39m  (1): site_name\n",
      "\u001b[32mdbl\u001b[39m  (5): day_of_week, day_of_year, interval_of_day, avg_mph, total_volume\n",
      "\u001b[33mlgl\u001b[39m  (2): missing_speed, missing_volume\n",
      "\u001b[34mdttm\u001b[39m (1): timestamp\n",
      "\u001b[34mdate\u001b[39m (1): date\n",
      "\n",
      "\u001b[36mℹ\u001b[39m Use `spec()` to retrieve the full column specification for this data.\n",
      "\u001b[36mℹ\u001b[39m Specify the column types or set `show_col_types = FALSE` to quiet this message.\n",
      "\u001b[1mRows: \u001b[22m\u001b[34m35040\u001b[39m \u001b[1mColumns: \u001b[22m\u001b[34m10\u001b[39m\n",
      "\u001b[36m──\u001b[39m \u001b[1mColumn specification\u001b[22m \u001b[36m────────────────────────────────────────────────────────\u001b[39m\n",
      "\u001b[1mDelimiter:\u001b[22m \",\"\n",
      "\u001b[31mchr\u001b[39m  (1): site_name\n",
      "\u001b[32mdbl\u001b[39m  (5): day_of_week, day_of_year, interval_of_day, avg_mph, total_volume\n",
      "\u001b[33mlgl\u001b[39m  (2): missing_speed, missing_volume\n",
      "\u001b[34mdttm\u001b[39m (1): timestamp\n",
      "\u001b[34mdate\u001b[39m (1): date\n",
      "\n",
      "\u001b[36mℹ\u001b[39m Use `spec()` to retrieve the full column specification for this data.\n",
      "\u001b[36mℹ\u001b[39m Specify the column types or set `show_col_types = FALSE` to quiet this message.\n",
      "\u001b[1mRows: \u001b[22m\u001b[34m35040\u001b[39m \u001b[1mColumns: \u001b[22m\u001b[34m10\u001b[39m\n",
      "\u001b[36m──\u001b[39m \u001b[1mColumn specification\u001b[22m \u001b[36m────────────────────────────────────────────────────────\u001b[39m\n",
      "\u001b[1mDelimiter:\u001b[22m \",\"\n",
      "\u001b[31mchr\u001b[39m  (1): site_name\n",
      "\u001b[32mdbl\u001b[39m  (5): day_of_week, day_of_year, interval_of_day, avg_mph, total_volume\n",
      "\u001b[33mlgl\u001b[39m  (2): missing_speed, missing_volume\n",
      "\u001b[34mdttm\u001b[39m (1): timestamp\n",
      "\u001b[34mdate\u001b[39m (1): date\n",
      "\n",
      "\u001b[36mℹ\u001b[39m Use `spec()` to retrieve the full column specification for this data.\n",
      "\u001b[36mℹ\u001b[39m Specify the column types or set `show_col_types = FALSE` to quiet this message.\n",
      "\u001b[1mRows: \u001b[22m\u001b[34m35040\u001b[39m \u001b[1mColumns: \u001b[22m\u001b[34m10\u001b[39m\n",
      "\u001b[36m──\u001b[39m \u001b[1mColumn specification\u001b[22m \u001b[36m────────────────────────────────────────────────────────\u001b[39m\n",
      "\u001b[1mDelimiter:\u001b[22m \",\"\n",
      "\u001b[31mchr\u001b[39m  (1): site_name\n",
      "\u001b[32mdbl\u001b[39m  (5): day_of_week, day_of_year, interval_of_day, avg_mph, total_volume\n",
      "\u001b[33mlgl\u001b[39m  (2): missing_speed, missing_volume\n",
      "\u001b[34mdttm\u001b[39m (1): timestamp\n",
      "\u001b[34mdate\u001b[39m (1): date\n",
      "\n",
      "\u001b[36mℹ\u001b[39m Use `spec()` to retrieve the full column specification for this data.\n",
      "\u001b[36mℹ\u001b[39m Specify the column types or set `show_col_types = FALSE` to quiet this message.\n",
      "\u001b[1mRows: \u001b[22m\u001b[34m35040\u001b[39m \u001b[1mColumns: \u001b[22m\u001b[34m10\u001b[39m\n",
      "\u001b[36m──\u001b[39m \u001b[1mColumn specification\u001b[22m \u001b[36m────────────────────────────────────────────────────────\u001b[39m\n",
      "\u001b[1mDelimiter:\u001b[22m \",\"\n",
      "\u001b[31mchr\u001b[39m  (1): site_name\n",
      "\u001b[32mdbl\u001b[39m  (5): day_of_week, day_of_year, interval_of_day, avg_mph, total_volume\n",
      "\u001b[33mlgl\u001b[39m  (2): missing_speed, missing_volume\n",
      "\u001b[34mdttm\u001b[39m (1): timestamp\n",
      "\u001b[34mdate\u001b[39m (1): date\n",
      "\n",
      "\u001b[36mℹ\u001b[39m Use `spec()` to retrieve the full column specification for this data.\n",
      "\u001b[36mℹ\u001b[39m Specify the column types or set `show_col_types = FALSE` to quiet this message.\n",
      "\u001b[1mRows: \u001b[22m\u001b[34m35040\u001b[39m \u001b[1mColumns: \u001b[22m\u001b[34m10\u001b[39m\n",
      "\u001b[36m──\u001b[39m \u001b[1mColumn specification\u001b[22m \u001b[36m────────────────────────────────────────────────────────\u001b[39m\n",
      "\u001b[1mDelimiter:\u001b[22m \",\"\n",
      "\u001b[31mchr\u001b[39m  (1): site_name\n",
      "\u001b[32mdbl\u001b[39m  (5): day_of_week, day_of_year, interval_of_day, avg_mph, total_volume\n",
      "\u001b[33mlgl\u001b[39m  (2): missing_speed, missing_volume\n",
      "\u001b[34mdttm\u001b[39m (1): timestamp\n",
      "\u001b[34mdate\u001b[39m (1): date\n",
      "\n",
      "\u001b[36mℹ\u001b[39m Use `spec()` to retrieve the full column specification for this data.\n",
      "\u001b[36mℹ\u001b[39m Specify the column types or set `show_col_types = FALSE` to quiet this message.\n",
      "\u001b[1mRows: \u001b[22m\u001b[34m35040\u001b[39m \u001b[1mColumns: \u001b[22m\u001b[34m10\u001b[39m\n",
      "\u001b[36m──\u001b[39m \u001b[1mColumn specification\u001b[22m \u001b[36m────────────────────────────────────────────────────────\u001b[39m\n",
      "\u001b[1mDelimiter:\u001b[22m \",\"\n",
      "\u001b[31mchr\u001b[39m  (1): site_name\n",
      "\u001b[32mdbl\u001b[39m  (5): day_of_week, day_of_year, interval_of_day, avg_mph, total_volume\n",
      "\u001b[33mlgl\u001b[39m  (2): missing_speed, missing_volume\n",
      "\u001b[34mdttm\u001b[39m (1): timestamp\n",
      "\u001b[34mdate\u001b[39m (1): date\n",
      "\n",
      "\u001b[36mℹ\u001b[39m Use `spec()` to retrieve the full column specification for this data.\n",
      "\u001b[36mℹ\u001b[39m Specify the column types or set `show_col_types = FALSE` to quiet this message.\n"
     ]
    },
    {
     "name": "stderr",
     "output_type": "stream",
     "text": [
      "\u001b[1mRows: \u001b[22m\u001b[34m35040\u001b[39m \u001b[1mColumns: \u001b[22m\u001b[34m10\u001b[39m\n",
      "\u001b[36m──\u001b[39m \u001b[1mColumn specification\u001b[22m \u001b[36m────────────────────────────────────────────────────────\u001b[39m\n",
      "\u001b[1mDelimiter:\u001b[22m \",\"\n",
      "\u001b[31mchr\u001b[39m  (1): site_name\n",
      "\u001b[32mdbl\u001b[39m  (5): day_of_week, day_of_year, interval_of_day, avg_mph, total_volume\n",
      "\u001b[33mlgl\u001b[39m  (2): missing_speed, missing_volume\n",
      "\u001b[34mdttm\u001b[39m (1): timestamp\n",
      "\u001b[34mdate\u001b[39m (1): date\n",
      "\n",
      "\u001b[36mℹ\u001b[39m Use `spec()` to retrieve the full column specification for this data.\n",
      "\u001b[36mℹ\u001b[39m Specify the column types or set `show_col_types = FALSE` to quiet this message.\n",
      "\u001b[1mRows: \u001b[22m\u001b[34m35040\u001b[39m \u001b[1mColumns: \u001b[22m\u001b[34m10\u001b[39m\n",
      "\u001b[36m──\u001b[39m \u001b[1mColumn specification\u001b[22m \u001b[36m────────────────────────────────────────────────────────\u001b[39m\n",
      "\u001b[1mDelimiter:\u001b[22m \",\"\n",
      "\u001b[31mchr\u001b[39m  (1): site_name\n",
      "\u001b[32mdbl\u001b[39m  (5): day_of_week, day_of_year, interval_of_day, avg_mph, total_volume\n",
      "\u001b[33mlgl\u001b[39m  (2): missing_speed, missing_volume\n",
      "\u001b[34mdttm\u001b[39m (1): timestamp\n",
      "\u001b[34mdate\u001b[39m (1): date\n",
      "\n",
      "\u001b[36mℹ\u001b[39m Use `spec()` to retrieve the full column specification for this data.\n",
      "\u001b[36mℹ\u001b[39m Specify the column types or set `show_col_types = FALSE` to quiet this message.\n",
      "\u001b[1mRows: \u001b[22m\u001b[34m35040\u001b[39m \u001b[1mColumns: \u001b[22m\u001b[34m10\u001b[39m\n",
      "\u001b[36m──\u001b[39m \u001b[1mColumn specification\u001b[22m \u001b[36m────────────────────────────────────────────────────────\u001b[39m\n",
      "\u001b[1mDelimiter:\u001b[22m \",\"\n",
      "\u001b[31mchr\u001b[39m  (1): site_name\n",
      "\u001b[32mdbl\u001b[39m  (5): day_of_week, day_of_year, interval_of_day, avg_mph, total_volume\n",
      "\u001b[33mlgl\u001b[39m  (2): missing_speed, missing_volume\n",
      "\u001b[34mdttm\u001b[39m (1): timestamp\n",
      "\u001b[34mdate\u001b[39m (1): date\n",
      "\n",
      "\u001b[36mℹ\u001b[39m Use `spec()` to retrieve the full column specification for this data.\n",
      "\u001b[36mℹ\u001b[39m Specify the column types or set `show_col_types = FALSE` to quiet this message.\n",
      "\u001b[1mRows: \u001b[22m\u001b[34m35040\u001b[39m \u001b[1mColumns: \u001b[22m\u001b[34m10\u001b[39m\n",
      "\u001b[36m──\u001b[39m \u001b[1mColumn specification\u001b[22m \u001b[36m────────────────────────────────────────────────────────\u001b[39m\n",
      "\u001b[1mDelimiter:\u001b[22m \",\"\n",
      "\u001b[31mchr\u001b[39m  (1): site_name\n",
      "\u001b[32mdbl\u001b[39m  (5): day_of_week, day_of_year, interval_of_day, avg_mph, total_volume\n",
      "\u001b[33mlgl\u001b[39m  (2): missing_speed, missing_volume\n",
      "\u001b[34mdttm\u001b[39m (1): timestamp\n",
      "\u001b[34mdate\u001b[39m (1): date\n",
      "\n",
      "\u001b[36mℹ\u001b[39m Use `spec()` to retrieve the full column specification for this data.\n",
      "\u001b[36mℹ\u001b[39m Specify the column types or set `show_col_types = FALSE` to quiet this message.\n",
      "\u001b[1mRows: \u001b[22m\u001b[34m35040\u001b[39m \u001b[1mColumns: \u001b[22m\u001b[34m10\u001b[39m\n",
      "\u001b[36m──\u001b[39m \u001b[1mColumn specification\u001b[22m \u001b[36m────────────────────────────────────────────────────────\u001b[39m\n",
      "\u001b[1mDelimiter:\u001b[22m \",\"\n",
      "\u001b[31mchr\u001b[39m  (1): site_name\n",
      "\u001b[32mdbl\u001b[39m  (5): day_of_week, day_of_year, interval_of_day, avg_mph, total_volume\n",
      "\u001b[33mlgl\u001b[39m  (2): missing_speed, missing_volume\n",
      "\u001b[34mdttm\u001b[39m (1): timestamp\n",
      "\u001b[34mdate\u001b[39m (1): date\n",
      "\n",
      "\u001b[36mℹ\u001b[39m Use `spec()` to retrieve the full column specification for this data.\n",
      "\u001b[36mℹ\u001b[39m Specify the column types or set `show_col_types = FALSE` to quiet this message.\n",
      "\u001b[1mRows: \u001b[22m\u001b[34m35040\u001b[39m \u001b[1mColumns: \u001b[22m\u001b[34m10\u001b[39m\n",
      "\u001b[36m──\u001b[39m \u001b[1mColumn specification\u001b[22m \u001b[36m────────────────────────────────────────────────────────\u001b[39m\n",
      "\u001b[1mDelimiter:\u001b[22m \",\"\n",
      "\u001b[31mchr\u001b[39m  (1): site_name\n",
      "\u001b[32mdbl\u001b[39m  (5): day_of_week, day_of_year, interval_of_day, avg_mph, total_volume\n",
      "\u001b[33mlgl\u001b[39m  (2): missing_speed, missing_volume\n",
      "\u001b[34mdttm\u001b[39m (1): timestamp\n",
      "\u001b[34mdate\u001b[39m (1): date\n",
      "\n",
      "\u001b[36mℹ\u001b[39m Use `spec()` to retrieve the full column specification for this data.\n",
      "\u001b[36mℹ\u001b[39m Specify the column types or set `show_col_types = FALSE` to quiet this message.\n",
      "\u001b[1mRows: \u001b[22m\u001b[34m35040\u001b[39m \u001b[1mColumns: \u001b[22m\u001b[34m10\u001b[39m\n",
      "\u001b[36m──\u001b[39m \u001b[1mColumn specification\u001b[22m \u001b[36m────────────────────────────────────────────────────────\u001b[39m\n",
      "\u001b[1mDelimiter:\u001b[22m \",\"\n",
      "\u001b[31mchr\u001b[39m  (1): site_name\n",
      "\u001b[32mdbl\u001b[39m  (5): day_of_week, day_of_year, interval_of_day, avg_mph, total_volume\n",
      "\u001b[33mlgl\u001b[39m  (2): missing_speed, missing_volume\n",
      "\u001b[34mdttm\u001b[39m (1): timestamp\n",
      "\u001b[34mdate\u001b[39m (1): date\n",
      "\n",
      "\u001b[36mℹ\u001b[39m Use `spec()` to retrieve the full column specification for this data.\n",
      "\u001b[36mℹ\u001b[39m Specify the column types or set `show_col_types = FALSE` to quiet this message.\n",
      "\u001b[1mRows: \u001b[22m\u001b[34m35040\u001b[39m \u001b[1mColumns: \u001b[22m\u001b[34m10\u001b[39m\n",
      "\u001b[36m──\u001b[39m \u001b[1mColumn specification\u001b[22m \u001b[36m────────────────────────────────────────────────────────\u001b[39m\n",
      "\u001b[1mDelimiter:\u001b[22m \",\"\n",
      "\u001b[31mchr\u001b[39m  (1): site_name\n",
      "\u001b[32mdbl\u001b[39m  (5): day_of_week, day_of_year, interval_of_day, avg_mph, total_volume\n",
      "\u001b[33mlgl\u001b[39m  (2): missing_speed, missing_volume\n",
      "\u001b[34mdttm\u001b[39m (1): timestamp\n",
      "\u001b[34mdate\u001b[39m (1): date\n",
      "\n",
      "\u001b[36mℹ\u001b[39m Use `spec()` to retrieve the full column specification for this data.\n",
      "\u001b[36mℹ\u001b[39m Specify the column types or set `show_col_types = FALSE` to quiet this message.\n",
      "\u001b[1mRows: \u001b[22m\u001b[34m35040\u001b[39m \u001b[1mColumns: \u001b[22m\u001b[34m10\u001b[39m\n",
      "\u001b[36m──\u001b[39m \u001b[1mColumn specification\u001b[22m \u001b[36m────────────────────────────────────────────────────────\u001b[39m\n",
      "\u001b[1mDelimiter:\u001b[22m \",\"\n",
      "\u001b[31mchr\u001b[39m  (1): site_name\n",
      "\u001b[32mdbl\u001b[39m  (5): day_of_week, day_of_year, interval_of_day, avg_mph, total_volume\n",
      "\u001b[33mlgl\u001b[39m  (2): missing_speed, missing_volume\n",
      "\u001b[34mdttm\u001b[39m (1): timestamp\n",
      "\u001b[34mdate\u001b[39m (1): date\n",
      "\n",
      "\u001b[36mℹ\u001b[39m Use `spec()` to retrieve the full column specification for this data.\n",
      "\u001b[36mℹ\u001b[39m Specify the column types or set `show_col_types = FALSE` to quiet this message.\n",
      "\u001b[1mRows: \u001b[22m\u001b[34m35040\u001b[39m \u001b[1mColumns: \u001b[22m\u001b[34m10\u001b[39m\n",
      "\u001b[36m──\u001b[39m \u001b[1mColumn specification\u001b[22m \u001b[36m────────────────────────────────────────────────────────\u001b[39m\n",
      "\u001b[1mDelimiter:\u001b[22m \",\"\n",
      "\u001b[31mchr\u001b[39m  (1): site_name\n",
      "\u001b[32mdbl\u001b[39m  (5): day_of_week, day_of_year, interval_of_day, avg_mph, total_volume\n",
      "\u001b[33mlgl\u001b[39m  (2): missing_speed, missing_volume\n",
      "\u001b[34mdttm\u001b[39m (1): timestamp\n",
      "\u001b[34mdate\u001b[39m (1): date\n",
      "\n",
      "\u001b[36mℹ\u001b[39m Use `spec()` to retrieve the full column specification for this data.\n",
      "\u001b[36mℹ\u001b[39m Specify the column types or set `show_col_types = FALSE` to quiet this message.\n",
      "\u001b[1mRows: \u001b[22m\u001b[34m35040\u001b[39m \u001b[1mColumns: \u001b[22m\u001b[34m10\u001b[39m\n",
      "\u001b[36m──\u001b[39m \u001b[1mColumn specification\u001b[22m \u001b[36m────────────────────────────────────────────────────────\u001b[39m\n",
      "\u001b[1mDelimiter:\u001b[22m \",\"\n",
      "\u001b[31mchr\u001b[39m  (1): site_name\n",
      "\u001b[32mdbl\u001b[39m  (5): day_of_week, day_of_year, interval_of_day, avg_mph, total_volume\n",
      "\u001b[33mlgl\u001b[39m  (2): missing_speed, missing_volume\n",
      "\u001b[34mdttm\u001b[39m (1): timestamp\n",
      "\u001b[34mdate\u001b[39m (1): date\n",
      "\n",
      "\u001b[36mℹ\u001b[39m Use `spec()` to retrieve the full column specification for this data.\n",
      "\u001b[36mℹ\u001b[39m Specify the column types or set `show_col_types = FALSE` to quiet this message.\n",
      "\u001b[1mRows: \u001b[22m\u001b[34m35040\u001b[39m \u001b[1mColumns: \u001b[22m\u001b[34m10\u001b[39m\n",
      "\u001b[36m──\u001b[39m \u001b[1mColumn specification\u001b[22m \u001b[36m────────────────────────────────────────────────────────\u001b[39m\n",
      "\u001b[1mDelimiter:\u001b[22m \",\"\n",
      "\u001b[31mchr\u001b[39m  (1): site_name\n",
      "\u001b[32mdbl\u001b[39m  (5): day_of_week, day_of_year, interval_of_day, avg_mph, total_volume\n",
      "\u001b[33mlgl\u001b[39m  (2): missing_speed, missing_volume\n",
      "\u001b[34mdttm\u001b[39m (1): timestamp\n",
      "\u001b[34mdate\u001b[39m (1): date\n",
      "\n",
      "\u001b[36mℹ\u001b[39m Use `spec()` to retrieve the full column specification for this data.\n",
      "\u001b[36mℹ\u001b[39m Specify the column types or set `show_col_types = FALSE` to quiet this message.\n",
      "\u001b[1mRows: \u001b[22m\u001b[34m35040\u001b[39m \u001b[1mColumns: \u001b[22m\u001b[34m10\u001b[39m\n",
      "\u001b[36m──\u001b[39m \u001b[1mColumn specification\u001b[22m \u001b[36m────────────────────────────────────────────────────────\u001b[39m\n",
      "\u001b[1mDelimiter:\u001b[22m \",\"\n",
      "\u001b[31mchr\u001b[39m  (1): site_name\n",
      "\u001b[32mdbl\u001b[39m  (5): day_of_week, day_of_year, interval_of_day, avg_mph, total_volume\n",
      "\u001b[33mlgl\u001b[39m  (2): missing_speed, missing_volume\n",
      "\u001b[34mdttm\u001b[39m (1): timestamp\n",
      "\u001b[34mdate\u001b[39m (1): date\n",
      "\n",
      "\u001b[36mℹ\u001b[39m Use `spec()` to retrieve the full column specification for this data.\n",
      "\u001b[36mℹ\u001b[39m Specify the column types or set `show_col_types = FALSE` to quiet this message.\n",
      "\u001b[1mRows: \u001b[22m\u001b[34m35040\u001b[39m \u001b[1mColumns: \u001b[22m\u001b[34m10\u001b[39m\n",
      "\u001b[36m──\u001b[39m \u001b[1mColumn specification\u001b[22m \u001b[36m────────────────────────────────────────────────────────\u001b[39m\n",
      "\u001b[1mDelimiter:\u001b[22m \",\"\n",
      "\u001b[31mchr\u001b[39m  (1): site_name\n",
      "\u001b[32mdbl\u001b[39m  (5): day_of_week, day_of_year, interval_of_day, avg_mph, total_volume\n",
      "\u001b[33mlgl\u001b[39m  (2): missing_speed, missing_volume\n",
      "\u001b[34mdttm\u001b[39m (1): timestamp\n",
      "\u001b[34mdate\u001b[39m (1): date\n",
      "\n",
      "\u001b[36mℹ\u001b[39m Use `spec()` to retrieve the full column specification for this data.\n",
      "\u001b[36mℹ\u001b[39m Specify the column types or set `show_col_types = FALSE` to quiet this message.\n"
     ]
    },
    {
     "name": "stderr",
     "output_type": "stream",
     "text": [
      "\u001b[1mRows: \u001b[22m\u001b[34m35040\u001b[39m \u001b[1mColumns: \u001b[22m\u001b[34m10\u001b[39m\n",
      "\u001b[36m──\u001b[39m \u001b[1mColumn specification\u001b[22m \u001b[36m────────────────────────────────────────────────────────\u001b[39m\n",
      "\u001b[1mDelimiter:\u001b[22m \",\"\n",
      "\u001b[31mchr\u001b[39m  (1): site_name\n",
      "\u001b[32mdbl\u001b[39m  (5): day_of_week, day_of_year, interval_of_day, avg_mph, total_volume\n",
      "\u001b[33mlgl\u001b[39m  (2): missing_speed, missing_volume\n",
      "\u001b[34mdttm\u001b[39m (1): timestamp\n",
      "\u001b[34mdate\u001b[39m (1): date\n",
      "\n",
      "\u001b[36mℹ\u001b[39m Use `spec()` to retrieve the full column specification for this data.\n",
      "\u001b[36mℹ\u001b[39m Specify the column types or set `show_col_types = FALSE` to quiet this message.\n",
      "\u001b[1mRows: \u001b[22m\u001b[34m35040\u001b[39m \u001b[1mColumns: \u001b[22m\u001b[34m10\u001b[39m\n",
      "\u001b[36m──\u001b[39m \u001b[1mColumn specification\u001b[22m \u001b[36m────────────────────────────────────────────────────────\u001b[39m\n",
      "\u001b[1mDelimiter:\u001b[22m \",\"\n",
      "\u001b[31mchr\u001b[39m  (1): site_name\n",
      "\u001b[32mdbl\u001b[39m  (5): day_of_week, day_of_year, interval_of_day, avg_mph, total_volume\n",
      "\u001b[33mlgl\u001b[39m  (2): missing_speed, missing_volume\n",
      "\u001b[34mdttm\u001b[39m (1): timestamp\n",
      "\u001b[34mdate\u001b[39m (1): date\n",
      "\n",
      "\u001b[36mℹ\u001b[39m Use `spec()` to retrieve the full column specification for this data.\n",
      "\u001b[36mℹ\u001b[39m Specify the column types or set `show_col_types = FALSE` to quiet this message.\n",
      "\u001b[1mRows: \u001b[22m\u001b[34m35040\u001b[39m \u001b[1mColumns: \u001b[22m\u001b[34m10\u001b[39m\n",
      "\u001b[36m──\u001b[39m \u001b[1mColumn specification\u001b[22m \u001b[36m────────────────────────────────────────────────────────\u001b[39m\n",
      "\u001b[1mDelimiter:\u001b[22m \",\"\n",
      "\u001b[31mchr\u001b[39m  (1): site_name\n",
      "\u001b[32mdbl\u001b[39m  (5): day_of_week, day_of_year, interval_of_day, avg_mph, total_volume\n",
      "\u001b[33mlgl\u001b[39m  (2): missing_speed, missing_volume\n",
      "\u001b[34mdttm\u001b[39m (1): timestamp\n",
      "\u001b[34mdate\u001b[39m (1): date\n",
      "\n",
      "\u001b[36mℹ\u001b[39m Use `spec()` to retrieve the full column specification for this data.\n",
      "\u001b[36mℹ\u001b[39m Specify the column types or set `show_col_types = FALSE` to quiet this message.\n",
      "\u001b[1mRows: \u001b[22m\u001b[34m35040\u001b[39m \u001b[1mColumns: \u001b[22m\u001b[34m10\u001b[39m\n",
      "\u001b[36m──\u001b[39m \u001b[1mColumn specification\u001b[22m \u001b[36m────────────────────────────────────────────────────────\u001b[39m\n",
      "\u001b[1mDelimiter:\u001b[22m \",\"\n",
      "\u001b[31mchr\u001b[39m  (1): site_name\n",
      "\u001b[32mdbl\u001b[39m  (5): day_of_week, day_of_year, interval_of_day, avg_mph, total_volume\n",
      "\u001b[33mlgl\u001b[39m  (2): missing_speed, missing_volume\n",
      "\u001b[34mdttm\u001b[39m (1): timestamp\n",
      "\u001b[34mdate\u001b[39m (1): date\n",
      "\n",
      "\u001b[36mℹ\u001b[39m Use `spec()` to retrieve the full column specification for this data.\n",
      "\u001b[36mℹ\u001b[39m Specify the column types or set `show_col_types = FALSE` to quiet this message.\n",
      "\u001b[1mRows: \u001b[22m\u001b[34m35040\u001b[39m \u001b[1mColumns: \u001b[22m\u001b[34m10\u001b[39m\n",
      "\u001b[36m──\u001b[39m \u001b[1mColumn specification\u001b[22m \u001b[36m────────────────────────────────────────────────────────\u001b[39m\n",
      "\u001b[1mDelimiter:\u001b[22m \",\"\n",
      "\u001b[31mchr\u001b[39m  (1): site_name\n",
      "\u001b[32mdbl\u001b[39m  (5): day_of_week, day_of_year, interval_of_day, avg_mph, total_volume\n",
      "\u001b[33mlgl\u001b[39m  (2): missing_speed, missing_volume\n",
      "\u001b[34mdttm\u001b[39m (1): timestamp\n",
      "\u001b[34mdate\u001b[39m (1): date\n",
      "\n",
      "\u001b[36mℹ\u001b[39m Use `spec()` to retrieve the full column specification for this data.\n",
      "\u001b[36mℹ\u001b[39m Specify the column types or set `show_col_types = FALSE` to quiet this message.\n",
      "\u001b[1mRows: \u001b[22m\u001b[34m35040\u001b[39m \u001b[1mColumns: \u001b[22m\u001b[34m10\u001b[39m\n",
      "\u001b[36m──\u001b[39m \u001b[1mColumn specification\u001b[22m \u001b[36m────────────────────────────────────────────────────────\u001b[39m\n",
      "\u001b[1mDelimiter:\u001b[22m \",\"\n",
      "\u001b[31mchr\u001b[39m  (1): site_name\n",
      "\u001b[32mdbl\u001b[39m  (5): day_of_week, day_of_year, interval_of_day, avg_mph, total_volume\n",
      "\u001b[33mlgl\u001b[39m  (2): missing_speed, missing_volume\n",
      "\u001b[34mdttm\u001b[39m (1): timestamp\n",
      "\u001b[34mdate\u001b[39m (1): date\n",
      "\n",
      "\u001b[36mℹ\u001b[39m Use `spec()` to retrieve the full column specification for this data.\n",
      "\u001b[36mℹ\u001b[39m Specify the column types or set `show_col_types = FALSE` to quiet this message.\n"
     ]
    }
   ],
   "source": [
    "# Read in all files from the Data/Processed directory\n",
    "england_fnames <- list.files(\"Data/Processed/Highways_England/\", pattern=\"*.csv\", full.names=TRUE)\n",
    "england_df_list <- lapply(england_fnames, read_csv)\n",
    "\n",
    "portland_fnames <- list.files(\"Data/Processed/Portland/\", pattern=\"*.csv\", full.names=TRUE)\n",
    "portland_df_list <- lapply(portland_fnames, read_csv)\n",
    "\n",
    "utah_fnames <- list.files(\"Data/Processed/Utah/\", pattern=\"*.csv\", full.names=TRUE)\n",
    "utah_df_list <- lapply(utah_fnames, read_csv)"
   ]
  },
  {
   "cell_type": "code",
   "execution_count": 7,
   "id": "a323cff2",
   "metadata": {},
   "outputs": [],
   "source": [
    "# Ensure that the rows in each data frame are in proper chronological order \n",
    "england_df_list <- lapply(england_df_list, function(x) x %>% arrange(timestamp))\n",
    "portland_df_list <- lapply(portland_df_list, function(x) x %>% arrange(timestamp))\n",
    "utah_df_list <- lapply(utah_df_list, function(x) x %>% arrange(timestamp))    "
   ]
  },
  {
   "cell_type": "code",
   "execution_count": 8,
   "id": "bfb66cbd",
   "metadata": {},
   "outputs": [],
   "source": [
    "# Create one list of all data frames\n",
    "total_df_list <- append(append(england_df_list, portland_df_list), utah_df_list)"
   ]
  },
  {
   "cell_type": "code",
   "execution_count": 9,
   "id": "6b73e5eb",
   "metadata": {},
   "outputs": [
    {
     "name": "stderr",
     "output_type": "stream",
     "text": [
      "\u001b[1mRows: \u001b[22m\u001b[34m76\u001b[39m \u001b[1mColumns: \u001b[22m\u001b[34m2\u001b[39m\n",
      "\u001b[36m──\u001b[39m \u001b[1mColumn specification\u001b[22m \u001b[36m────────────────────────────────────────────────────────\u001b[39m\n",
      "\u001b[1mDelimiter:\u001b[22m \",\"\n",
      "\u001b[32mdbl\u001b[39m (2): start, end\n",
      "\n",
      "\u001b[36mℹ\u001b[39m Use `spec()` to retrieve the full column specification for this data.\n",
      "\u001b[36mℹ\u001b[39m Specify the column types or set `show_col_types = FALSE` to quiet this message.\n"
     ]
    }
   ],
   "source": [
    "# Grab the csv of starting and ending points for sampling each time series\n",
    "\n",
    "start_end_points <- read_csv('start_end_points.csv')\n",
    "starting_points <- start_end_points$start\n",
    "ending_points <- start_end_points$end"
   ]
  },
  {
   "cell_type": "code",
   "execution_count": 10,
   "id": "fd48f21e",
   "metadata": {},
   "outputs": [],
   "source": [
    "# For each df in our list, create a row number column called 'rn' - this will allow us to find the starting point\n",
    "# for each sample using the above starting_points array\n",
    "total_df_list <- lapply(total_df_list, function(x) x %>% mutate(rn = row_number()))"
   ]
  },
  {
   "cell_type": "code",
   "execution_count": 11,
   "id": "cd63a0a9",
   "metadata": {},
   "outputs": [],
   "source": [
    "# Sample each df in the list according to its corresponding starting and ending point - this creates 12-week\n",
    "# long samples of each data frame which will be used for modeling and testing\n",
    "total_df_list_samples <- lapply(1:length(total_df_list), \n",
    "                                function(x) total_df_list[[x]] %>% \n",
    "                                    filter(rn >= starting_points[x]) %>%\n",
    "                                    filter(rn <= ending_points[x]))"
   ]
  },
  {
   "cell_type": "code",
   "execution_count": 12,
   "id": "fcf1fe4f",
   "metadata": {},
   "outputs": [],
   "source": [
    "# Add a new column to each data frame to denote whether each row should be part of the training set, validation set\n",
    "# or test set - the first 8 weeks are designated as train, the next 2 as val, and the final 2 as test. It may be \n",
    "# the case that train and val get used for training, depending on the modeling task\n",
    "total_df_list_samples <- lapply(total_df_list_samples, \n",
    "                                function(x) x %>% mutate(rn = row_number()) %>%\n",
    "                                    mutate(train_val_test = ifelse(rn <= (96*7*8), \n",
    "                                                                   \"train\", \n",
    "                                                                   ifelse(rn <= (96*7*10), \n",
    "                                                                          \"val\", \n",
    "                                                                          \"test\")))\n",
    "                                \n",
    "                               )"
   ]
  },
  {
   "cell_type": "code",
   "execution_count": 13,
   "id": "ed39c406",
   "metadata": {},
   "outputs": [],
   "source": [
    "# Create a list of data frames which only have the training and validation rows of each df\n",
    "train_val_samples <- lapply(total_df_list_samples, function(x) x %>% filter(train_val_test != \"test\"))"
   ]
  },
  {
   "cell_type": "code",
   "execution_count": 14,
   "id": "68fd68f3",
   "metadata": {},
   "outputs": [],
   "source": [
    "# Create a list of data frames which only have the training rows of each df\n",
    "train_samples <- lapply(total_df_list_samples, function(x) x %>% filter(train_val_test == \"train\"))"
   ]
  },
  {
   "cell_type": "code",
   "execution_count": 15,
   "id": "73e1c03d",
   "metadata": {},
   "outputs": [],
   "source": [
    "# Create a list of data frames which only have the test rows of each df\n",
    "test_samples <- lapply(total_df_list_samples, function(x) x %>% filter(train_val_test == \"test\"))"
   ]
  },
  {
   "cell_type": "code",
   "execution_count": 16,
   "id": "5b9b41b2",
   "metadata": {},
   "outputs": [],
   "source": [
    "# Get the target field (total_volume) from the dfs in the above lists and create msts objects instead of dfs\n",
    "train_val_samples_ts <- lapply(train_val_samples, \n",
    "                               function(x) msts(x$total_volume, seasonal.periods=c(24*4, 24*4*7)))"
   ]
  },
  {
   "cell_type": "code",
   "execution_count": 17,
   "id": "74045ac9",
   "metadata": {},
   "outputs": [],
   "source": [
    "# Get the target field (total_volume) from the dfs in the above lists and create msts objects instead of dfs\n",
    "train_samples_ts <- lapply(train_samples, \n",
    "                           function(x) msts(x$total_volume, seasonal.periods=c(24*4, 24*4*7)))"
   ]
  },
  {
   "cell_type": "code",
   "execution_count": 18,
   "id": "52cc5b1c",
   "metadata": {},
   "outputs": [],
   "source": [
    "# Get the target field (total_volume) from the dfs in the above lists and create msts objects instead of dfs\n",
    "test_samples_ts <- lapply(test_samples,\n",
    "                          function(x) msts(x$total_volume, seasonal.periods=c(24*4, 24*4*7)))"
   ]
  },
  {
   "cell_type": "markdown",
   "id": "fd0bf189",
   "metadata": {},
   "source": [
    "# Random Cluster Assignments\n",
    "We will start with random cluster assignments - we will create 4 as 76 is easily divisble by 4, allowing for equal sized clusters"
   ]
  },
  {
   "cell_type": "code",
   "execution_count": 19,
   "id": "cd75812e",
   "metadata": {},
   "outputs": [],
   "source": [
    "# Total number of time series in the data set\n",
    "total_clust <- 1:length(train_samples_ts)"
   ]
  },
  {
   "cell_type": "code",
   "execution_count": 20,
   "id": "01a52324",
   "metadata": {},
   "outputs": [],
   "source": [
    "# Randomly sample from the total number of time series, removing previously sampled values and sampling without\n",
    "# replacement each time to create 4 unique clusters\n",
    "set.seed(54321)\n",
    "clust1 <- sample(total_clust, length(train_samples_ts)/4, replace=FALSE)\n",
    "set.seed(54321)\n",
    "clust2 <- sample(total_clust[-clust1], length(train_samples_ts)/4, replace=FALSE)\n",
    "set.seed(54321)\n",
    "clust3 <- sample(total_clust[-c(clust1,clust2)], length(train_samples_ts)/4, replace=FALSE)\n",
    "set.seed(54321)\n",
    "clust4 <- sample(total_clust[-c(clust1,clust2,clust3)], length(train_samples_ts)/4, replace=FALSE)"
   ]
  },
  {
   "cell_type": "code",
   "execution_count": 21,
   "id": "e66b5d26",
   "metadata": {},
   "outputs": [
    {
     "data": {
      "text/html": [
       "<style>\n",
       ".list-inline {list-style: none; margin:0; padding: 0}\n",
       ".list-inline>li {display: inline-block}\n",
       ".list-inline>li:not(:last-child)::after {content: \"\\00b7\"; padding: 0 .5ex}\n",
       "</style>\n",
       "<ol class=list-inline><li>41</li><li>49</li><li>39</li><li>58</li><li>46</li><li>51</li><li>62</li><li>26</li><li>15</li><li>37</li><li>69</li><li>11</li><li>67</li><li>53</li><li>30</li><li>13</li><li>16</li><li>72</li><li>74</li></ol>\n"
      ],
      "text/latex": [
       "\\begin{enumerate*}\n",
       "\\item 41\n",
       "\\item 49\n",
       "\\item 39\n",
       "\\item 58\n",
       "\\item 46\n",
       "\\item 51\n",
       "\\item 62\n",
       "\\item 26\n",
       "\\item 15\n",
       "\\item 37\n",
       "\\item 69\n",
       "\\item 11\n",
       "\\item 67\n",
       "\\item 53\n",
       "\\item 30\n",
       "\\item 13\n",
       "\\item 16\n",
       "\\item 72\n",
       "\\item 74\n",
       "\\end{enumerate*}\n"
      ],
      "text/markdown": [
       "1. 41\n",
       "2. 49\n",
       "3. 39\n",
       "4. 58\n",
       "5. 46\n",
       "6. 51\n",
       "7. 62\n",
       "8. 26\n",
       "9. 15\n",
       "10. 37\n",
       "11. 69\n",
       "12. 11\n",
       "13. 67\n",
       "14. 53\n",
       "15. 30\n",
       "16. 13\n",
       "17. 16\n",
       "18. 72\n",
       "19. 74\n",
       "\n",
       "\n"
      ],
      "text/plain": [
       " [1] 41 49 39 58 46 51 62 26 15 37 69 11 67 53 30 13 16 72 74"
      ]
     },
     "metadata": {},
     "output_type": "display_data"
    }
   ],
   "source": [
    "# Sanity check the clusters\n",
    "clust1"
   ]
  },
  {
   "cell_type": "code",
   "execution_count": 22,
   "id": "59fec018",
   "metadata": {},
   "outputs": [
    {
     "data": {
      "text/html": [
       "<style>\n",
       ".list-inline {list-style: none; margin:0; padding: 0}\n",
       ".list-inline>li {display: inline-block}\n",
       ".list-inline>li:not(:last-child)::after {content: \"\\00b7\"; padding: 0 .5ex}\n",
       "</style>\n",
       "<ol class=list-inline><li>59</li><li>54</li><li>64</li><li>65</li><li>14</li><li>50</li><li>25</li><li>56</li><li>19</li><li>60</li><li>32</li><li>73</li><li>63</li><li>47</li><li>76</li><li>61</li><li>12</li><li>57</li><li>36</li></ol>\n"
      ],
      "text/latex": [
       "\\begin{enumerate*}\n",
       "\\item 59\n",
       "\\item 54\n",
       "\\item 64\n",
       "\\item 65\n",
       "\\item 14\n",
       "\\item 50\n",
       "\\item 25\n",
       "\\item 56\n",
       "\\item 19\n",
       "\\item 60\n",
       "\\item 32\n",
       "\\item 73\n",
       "\\item 63\n",
       "\\item 47\n",
       "\\item 76\n",
       "\\item 61\n",
       "\\item 12\n",
       "\\item 57\n",
       "\\item 36\n",
       "\\end{enumerate*}\n"
      ],
      "text/markdown": [
       "1. 59\n",
       "2. 54\n",
       "3. 64\n",
       "4. 65\n",
       "5. 14\n",
       "6. 50\n",
       "7. 25\n",
       "8. 56\n",
       "9. 19\n",
       "10. 60\n",
       "11. 32\n",
       "12. 73\n",
       "13. 63\n",
       "14. 47\n",
       "15. 76\n",
       "16. 61\n",
       "17. 12\n",
       "18. 57\n",
       "19. 36\n",
       "\n",
       "\n"
      ],
      "text/plain": [
       " [1] 59 54 64 65 14 50 25 56 19 60 32 73 63 47 76 61 12 57 36"
      ]
     },
     "metadata": {},
     "output_type": "display_data"
    }
   ],
   "source": [
    "clust2"
   ]
  },
  {
   "cell_type": "code",
   "execution_count": 23,
   "id": "502f9e89",
   "metadata": {},
   "outputs": [
    {
     "data": {
      "text/html": [
       "<style>\n",
       ".list-inline {list-style: none; margin:0; padding: 0}\n",
       ".list-inline>li {display: inline-block}\n",
       ".list-inline>li:not(:last-child)::after {content: \"\\00b7\"; padding: 0 .5ex}\n",
       "</style>\n",
       "<ol class=list-inline><li>18</li><li>31</li><li>22</li><li>40</li><li>70</li><li>66</li><li>5</li><li>55</li><li>23</li><li>68</li><li>21</li><li>17</li><li>52</li><li>71</li><li>20</li><li>45</li><li>43</li><li>7</li><li>29</li></ol>\n"
      ],
      "text/latex": [
       "\\begin{enumerate*}\n",
       "\\item 18\n",
       "\\item 31\n",
       "\\item 22\n",
       "\\item 40\n",
       "\\item 70\n",
       "\\item 66\n",
       "\\item 5\n",
       "\\item 55\n",
       "\\item 23\n",
       "\\item 68\n",
       "\\item 21\n",
       "\\item 17\n",
       "\\item 52\n",
       "\\item 71\n",
       "\\item 20\n",
       "\\item 45\n",
       "\\item 43\n",
       "\\item 7\n",
       "\\item 29\n",
       "\\end{enumerate*}\n"
      ],
      "text/markdown": [
       "1. 18\n",
       "2. 31\n",
       "3. 22\n",
       "4. 40\n",
       "5. 70\n",
       "6. 66\n",
       "7. 5\n",
       "8. 55\n",
       "9. 23\n",
       "10. 68\n",
       "11. 21\n",
       "12. 17\n",
       "13. 52\n",
       "14. 71\n",
       "15. 20\n",
       "16. 45\n",
       "17. 43\n",
       "18. 7\n",
       "19. 29\n",
       "\n",
       "\n"
      ],
      "text/plain": [
       " [1] 18 31 22 40 70 66  5 55 23 68 21 17 52 71 20 45 43  7 29"
      ]
     },
     "metadata": {},
     "output_type": "display_data"
    }
   ],
   "source": [
    "clust3"
   ]
  },
  {
   "cell_type": "code",
   "execution_count": 24,
   "id": "11cfd628",
   "metadata": {},
   "outputs": [
    {
     "data": {
      "text/html": [
       "<style>\n",
       ".list-inline {list-style: none; margin:0; padding: 0}\n",
       ".list-inline>li {display: inline-block}\n",
       ".list-inline>li:not(:last-child)::after {content: \"\\00b7\"; padding: 0 .5ex}\n",
       "</style>\n",
       "<ol class=list-inline><li>34</li><li>24</li><li>44</li><li>2</li><li>33</li><li>9</li><li>6</li><li>28</li><li>27</li><li>3</li><li>75</li><li>35</li><li>42</li><li>8</li><li>38</li><li>1</li><li>4</li><li>10</li><li>48</li></ol>\n"
      ],
      "text/latex": [
       "\\begin{enumerate*}\n",
       "\\item 34\n",
       "\\item 24\n",
       "\\item 44\n",
       "\\item 2\n",
       "\\item 33\n",
       "\\item 9\n",
       "\\item 6\n",
       "\\item 28\n",
       "\\item 27\n",
       "\\item 3\n",
       "\\item 75\n",
       "\\item 35\n",
       "\\item 42\n",
       "\\item 8\n",
       "\\item 38\n",
       "\\item 1\n",
       "\\item 4\n",
       "\\item 10\n",
       "\\item 48\n",
       "\\end{enumerate*}\n"
      ],
      "text/markdown": [
       "1. 34\n",
       "2. 24\n",
       "3. 44\n",
       "4. 2\n",
       "5. 33\n",
       "6. 9\n",
       "7. 6\n",
       "8. 28\n",
       "9. 27\n",
       "10. 3\n",
       "11. 75\n",
       "12. 35\n",
       "13. 42\n",
       "14. 8\n",
       "15. 38\n",
       "16. 1\n",
       "17. 4\n",
       "18. 10\n",
       "19. 48\n",
       "\n",
       "\n"
      ],
      "text/plain": [
       " [1] 34 24 44  2 33  9  6 28 27  3 75 35 42  8 38  1  4 10 48"
      ]
     },
     "metadata": {},
     "output_type": "display_data"
    }
   ],
   "source": [
    "clust4"
   ]
  },
  {
   "cell_type": "code",
   "execution_count": 25,
   "id": "d8bb9d75",
   "metadata": {},
   "outputs": [],
   "source": [
    "# Assign each ts_index to its respective cluster\n",
    "random_clust_assignments <- c()\n",
    "for (idx in total_clust){\n",
    "    if (idx %in% clust1){\n",
    "        assign <- 1\n",
    "    }\n",
    "    \n",
    "    else if (idx %in% clust2){\n",
    "        assign <- 2\n",
    "    }\n",
    "    \n",
    "    else if (idx %in% clust3){\n",
    "        assign <- 3\n",
    "    }\n",
    "\n",
    "    else if (idx %in% clust4){\n",
    "        assign <- 4\n",
    "    }\n",
    "    random_clust_assignments <- c(random_clust_assignments, assign)\n",
    "}\n",
    "\n",
    "# Save assignments in a data frame\n",
    "random_clust_df <- data.frame(ts_index=total_clust, random_clust_assign=random_clust_assignments)"
   ]
  },
  {
   "cell_type": "code",
   "execution_count": 26,
   "id": "1a2007fe",
   "metadata": {},
   "outputs": [],
   "source": [
    "# Write the random clusters to a CSV\n",
    "write.csv(random_clust_df, \"Results/Clustering/Random/random_clustering_assign.csv\", row.names=FALSE)"
   ]
  },
  {
   "cell_type": "markdown",
   "id": "1816b1ce",
   "metadata": {},
   "source": [
    "# Catch22 Based Feature Computation\n",
    "In this section, we utilize the Catch22 feature computation framework for computing time series features for clustering"
   ]
  },
  {
   "cell_type": "code",
   "execution_count": 27,
   "id": "672f56a5",
   "metadata": {},
   "outputs": [
    {
     "name": "stderr",
     "output_type": "stream",
     "text": [
      "Warning message:\n",
      "“As of 0.1.14 the feature 'CO_f1ecac' returns a double instead of int\n",
      "\u001b[90mThis warning is displayed once per session.\u001b[39m”\n"
     ]
    }
   ],
   "source": [
    "# For each train time series in our list, compute the Catch22 features using the catch22_all function \n",
    "# and save the results in a df\n",
    "train_catch22_feat <- lapply(lapply(train_samples_ts, function(x) catch22_all(x)), \n",
    "                             function(x) x %>% \n",
    "                                 pivot_wider(names_from=names, values_from=values))"
   ]
  },
  {
   "cell_type": "code",
   "execution_count": 28,
   "id": "33edc345",
   "metadata": {},
   "outputs": [],
   "source": [
    "# Create a dataframe of the catch22 features plus mean and variance where each row corresponds to one time series\n",
    "train_catch22_feat_df <- do.call(\"rbind\", train_catch22_feat)"
   ]
  },
  {
   "cell_type": "code",
   "execution_count": 29,
   "id": "e24d32e6",
   "metadata": {},
   "outputs": [
    {
     "data": {
      "text/html": [
       "<table class=\"dataframe\">\n",
       "<caption>A tibble: 6 × 22</caption>\n",
       "<thead>\n",
       "\t<tr><th scope=col>DN_HistogramMode_5</th><th scope=col>DN_HistogramMode_10</th><th scope=col>CO_f1ecac</th><th scope=col>CO_FirstMin_ac</th><th scope=col>CO_HistogramAMI_even_2_5</th><th scope=col>CO_trev_1_num</th><th scope=col>MD_hrv_classic_pnn40</th><th scope=col>SB_BinaryStats_mean_longstretch1</th><th scope=col>SB_TransitionMatrix_3ac_sumdiagcov</th><th scope=col>PD_PeriodicityWang_th0_01</th><th scope=col>⋯</th><th scope=col>FC_LocalSimple_mean1_tauresrat</th><th scope=col>DN_OutlierInclude_p_001_mdrmd</th><th scope=col>DN_OutlierInclude_n_001_mdrmd</th><th scope=col>SP_Summaries_welch_rect_area_5_1</th><th scope=col>SB_BinaryStats_diff_longstretch0</th><th scope=col>SB_MotifThree_quantile_hh</th><th scope=col>SC_FluctAnal_2_rsrangefit_50_1_logi_prop_r1</th><th scope=col>SC_FluctAnal_2_dfa_50_1_2_logi_prop_r1</th><th scope=col>SP_Summaries_welch_rect_centroid</th><th scope=col>FC_LocalSimple_mean3_stderr</th></tr>\n",
       "\t<tr><th scope=col>&lt;dbl&gt;</th><th scope=col>&lt;dbl&gt;</th><th scope=col>&lt;dbl&gt;</th><th scope=col>&lt;dbl&gt;</th><th scope=col>&lt;dbl&gt;</th><th scope=col>&lt;dbl&gt;</th><th scope=col>&lt;dbl&gt;</th><th scope=col>&lt;dbl&gt;</th><th scope=col>&lt;dbl&gt;</th><th scope=col>&lt;dbl&gt;</th><th scope=col>⋯</th><th scope=col>&lt;dbl&gt;</th><th scope=col>&lt;dbl&gt;</th><th scope=col>&lt;dbl&gt;</th><th scope=col>&lt;dbl&gt;</th><th scope=col>&lt;dbl&gt;</th><th scope=col>&lt;dbl&gt;</th><th scope=col>&lt;dbl&gt;</th><th scope=col>&lt;dbl&gt;</th><th scope=col>&lt;dbl&gt;</th><th scope=col>&lt;dbl&gt;</th></tr>\n",
       "</thead>\n",
       "<tbody>\n",
       "\t<tr><td>-0.9218226</td><td>-1.148470</td><td>13.82386</td><td>48</td><td>0.7703660</td><td> 0.0023764235</td><td>0.7365581</td><td>55</td><td>0.007384888</td><td>95</td><td>⋯</td><td>0.36363636</td><td> 0.03218006</td><td>-0.024925595</td><td>0.9887043</td><td>15</td><td>1.472521</td><td>0.4081633</td><td>0.3265306</td><td>0.06596117</td><td>0.2699762</td></tr>\n",
       "\t<tr><td>-1.0160128</td><td>-1.230913</td><td>16.25543</td><td>48</td><td>0.7362338</td><td>-0.0015322646</td><td>0.7856744</td><td>61</td><td>0.023279508</td><td>95</td><td>⋯</td><td>0.04166667</td><td> 0.04389881</td><td>-0.001302083</td><td>0.9768737</td><td>15</td><td>1.515340</td><td>0.4489796</td><td>0.3469388</td><td>0.06519418</td><td>0.2904009</td></tr>\n",
       "\t<tr><td>-0.9109971</td><td>-1.118617</td><td>16.70035</td><td>48</td><td>0.7820858</td><td> 0.0021162446</td><td>0.7389767</td><td>60</td><td>0.007085068</td><td>95</td><td>⋯</td><td>0.04166667</td><td> 0.03218006</td><td>-0.021763393</td><td>0.9825842</td><td>20</td><td>1.526881</td><td>0.4285714</td><td>0.3673469</td><td>0.06519418</td><td>0.2591757</td></tr>\n",
       "\t<tr><td>-0.8799034</td><td>-1.093104</td><td>14.82659</td><td>48</td><td>0.7899539</td><td> 0.0028058063</td><td>0.6803721</td><td>55</td><td>0.002621771</td><td>95</td><td>⋯</td><td>0.43478261</td><td>-0.05747768</td><td> 0.007068452</td><td>0.9892416</td><td>18</td><td>1.430336</td><td>0.4285714</td><td>0.3469388</td><td>0.06596117</td><td>0.2620395</td></tr>\n",
       "\t<tr><td>-0.9038058</td><td>-1.100202</td><td>17.63207</td><td>48</td><td>0.8039572</td><td> 0.0041442076</td><td>0.6682791</td><td>54</td><td>0.003598341</td><td>95</td><td>⋯</td><td>0.52000000</td><td> 0.02027530</td><td>-0.017578125</td><td>0.9910389</td><td>22</td><td>1.417460</td><td>0.4285714</td><td>0.3469388</td><td>0.06519418</td><td>0.2157951</td></tr>\n",
       "\t<tr><td>-0.9946967</td><td>-1.207999</td><td>17.64684</td><td>48</td><td>0.8148260</td><td> 0.0003571444</td><td>0.7205581</td><td>64</td><td>0.004398774</td><td>95</td><td>⋯</td><td>0.04000000</td><td> 0.02994792</td><td>-0.022321429</td><td>0.9901210</td><td>18</td><td>1.428618</td><td>0.4285714</td><td>0.3469388</td><td>0.06519418</td><td>0.2194032</td></tr>\n",
       "</tbody>\n",
       "</table>\n"
      ],
      "text/latex": [
       "A tibble: 6 × 22\n",
       "\\begin{tabular}{lllllllllllllllllllll}\n",
       " DN\\_HistogramMode\\_5 & DN\\_HistogramMode\\_10 & CO\\_f1ecac & CO\\_FirstMin\\_ac & CO\\_HistogramAMI\\_even\\_2\\_5 & CO\\_trev\\_1\\_num & MD\\_hrv\\_classic\\_pnn40 & SB\\_BinaryStats\\_mean\\_longstretch1 & SB\\_TransitionMatrix\\_3ac\\_sumdiagcov & PD\\_PeriodicityWang\\_th0\\_01 & ⋯ & FC\\_LocalSimple\\_mean1\\_tauresrat & DN\\_OutlierInclude\\_p\\_001\\_mdrmd & DN\\_OutlierInclude\\_n\\_001\\_mdrmd & SP\\_Summaries\\_welch\\_rect\\_area\\_5\\_1 & SB\\_BinaryStats\\_diff\\_longstretch0 & SB\\_MotifThree\\_quantile\\_hh & SC\\_FluctAnal\\_2\\_rsrangefit\\_50\\_1\\_logi\\_prop\\_r1 & SC\\_FluctAnal\\_2\\_dfa\\_50\\_1\\_2\\_logi\\_prop\\_r1 & SP\\_Summaries\\_welch\\_rect\\_centroid & FC\\_LocalSimple\\_mean3\\_stderr\\\\\n",
       " <dbl> & <dbl> & <dbl> & <dbl> & <dbl> & <dbl> & <dbl> & <dbl> & <dbl> & <dbl> & ⋯ & <dbl> & <dbl> & <dbl> & <dbl> & <dbl> & <dbl> & <dbl> & <dbl> & <dbl> & <dbl>\\\\\n",
       "\\hline\n",
       "\t -0.9218226 & -1.148470 & 13.82386 & 48 & 0.7703660 &  0.0023764235 & 0.7365581 & 55 & 0.007384888 & 95 & ⋯ & 0.36363636 &  0.03218006 & -0.024925595 & 0.9887043 & 15 & 1.472521 & 0.4081633 & 0.3265306 & 0.06596117 & 0.2699762\\\\\n",
       "\t -1.0160128 & -1.230913 & 16.25543 & 48 & 0.7362338 & -0.0015322646 & 0.7856744 & 61 & 0.023279508 & 95 & ⋯ & 0.04166667 &  0.04389881 & -0.001302083 & 0.9768737 & 15 & 1.515340 & 0.4489796 & 0.3469388 & 0.06519418 & 0.2904009\\\\\n",
       "\t -0.9109971 & -1.118617 & 16.70035 & 48 & 0.7820858 &  0.0021162446 & 0.7389767 & 60 & 0.007085068 & 95 & ⋯ & 0.04166667 &  0.03218006 & -0.021763393 & 0.9825842 & 20 & 1.526881 & 0.4285714 & 0.3673469 & 0.06519418 & 0.2591757\\\\\n",
       "\t -0.8799034 & -1.093104 & 14.82659 & 48 & 0.7899539 &  0.0028058063 & 0.6803721 & 55 & 0.002621771 & 95 & ⋯ & 0.43478261 & -0.05747768 &  0.007068452 & 0.9892416 & 18 & 1.430336 & 0.4285714 & 0.3469388 & 0.06596117 & 0.2620395\\\\\n",
       "\t -0.9038058 & -1.100202 & 17.63207 & 48 & 0.8039572 &  0.0041442076 & 0.6682791 & 54 & 0.003598341 & 95 & ⋯ & 0.52000000 &  0.02027530 & -0.017578125 & 0.9910389 & 22 & 1.417460 & 0.4285714 & 0.3469388 & 0.06519418 & 0.2157951\\\\\n",
       "\t -0.9946967 & -1.207999 & 17.64684 & 48 & 0.8148260 &  0.0003571444 & 0.7205581 & 64 & 0.004398774 & 95 & ⋯ & 0.04000000 &  0.02994792 & -0.022321429 & 0.9901210 & 18 & 1.428618 & 0.4285714 & 0.3469388 & 0.06519418 & 0.2194032\\\\\n",
       "\\end{tabular}\n"
      ],
      "text/markdown": [
       "\n",
       "A tibble: 6 × 22\n",
       "\n",
       "| DN_HistogramMode_5 &lt;dbl&gt; | DN_HistogramMode_10 &lt;dbl&gt; | CO_f1ecac &lt;dbl&gt; | CO_FirstMin_ac &lt;dbl&gt; | CO_HistogramAMI_even_2_5 &lt;dbl&gt; | CO_trev_1_num &lt;dbl&gt; | MD_hrv_classic_pnn40 &lt;dbl&gt; | SB_BinaryStats_mean_longstretch1 &lt;dbl&gt; | SB_TransitionMatrix_3ac_sumdiagcov &lt;dbl&gt; | PD_PeriodicityWang_th0_01 &lt;dbl&gt; | ⋯ ⋯ | FC_LocalSimple_mean1_tauresrat &lt;dbl&gt; | DN_OutlierInclude_p_001_mdrmd &lt;dbl&gt; | DN_OutlierInclude_n_001_mdrmd &lt;dbl&gt; | SP_Summaries_welch_rect_area_5_1 &lt;dbl&gt; | SB_BinaryStats_diff_longstretch0 &lt;dbl&gt; | SB_MotifThree_quantile_hh &lt;dbl&gt; | SC_FluctAnal_2_rsrangefit_50_1_logi_prop_r1 &lt;dbl&gt; | SC_FluctAnal_2_dfa_50_1_2_logi_prop_r1 &lt;dbl&gt; | SP_Summaries_welch_rect_centroid &lt;dbl&gt; | FC_LocalSimple_mean3_stderr &lt;dbl&gt; |\n",
       "|---|---|---|---|---|---|---|---|---|---|---|---|---|---|---|---|---|---|---|---|---|\n",
       "| -0.9218226 | -1.148470 | 13.82386 | 48 | 0.7703660 |  0.0023764235 | 0.7365581 | 55 | 0.007384888 | 95 | ⋯ | 0.36363636 |  0.03218006 | -0.024925595 | 0.9887043 | 15 | 1.472521 | 0.4081633 | 0.3265306 | 0.06596117 | 0.2699762 |\n",
       "| -1.0160128 | -1.230913 | 16.25543 | 48 | 0.7362338 | -0.0015322646 | 0.7856744 | 61 | 0.023279508 | 95 | ⋯ | 0.04166667 |  0.04389881 | -0.001302083 | 0.9768737 | 15 | 1.515340 | 0.4489796 | 0.3469388 | 0.06519418 | 0.2904009 |\n",
       "| -0.9109971 | -1.118617 | 16.70035 | 48 | 0.7820858 |  0.0021162446 | 0.7389767 | 60 | 0.007085068 | 95 | ⋯ | 0.04166667 |  0.03218006 | -0.021763393 | 0.9825842 | 20 | 1.526881 | 0.4285714 | 0.3673469 | 0.06519418 | 0.2591757 |\n",
       "| -0.8799034 | -1.093104 | 14.82659 | 48 | 0.7899539 |  0.0028058063 | 0.6803721 | 55 | 0.002621771 | 95 | ⋯ | 0.43478261 | -0.05747768 |  0.007068452 | 0.9892416 | 18 | 1.430336 | 0.4285714 | 0.3469388 | 0.06596117 | 0.2620395 |\n",
       "| -0.9038058 | -1.100202 | 17.63207 | 48 | 0.8039572 |  0.0041442076 | 0.6682791 | 54 | 0.003598341 | 95 | ⋯ | 0.52000000 |  0.02027530 | -0.017578125 | 0.9910389 | 22 | 1.417460 | 0.4285714 | 0.3469388 | 0.06519418 | 0.2157951 |\n",
       "| -0.9946967 | -1.207999 | 17.64684 | 48 | 0.8148260 |  0.0003571444 | 0.7205581 | 64 | 0.004398774 | 95 | ⋯ | 0.04000000 |  0.02994792 | -0.022321429 | 0.9901210 | 18 | 1.428618 | 0.4285714 | 0.3469388 | 0.06519418 | 0.2194032 |\n",
       "\n"
      ],
      "text/plain": [
       "  DN_HistogramMode_5 DN_HistogramMode_10 CO_f1ecac CO_FirstMin_ac\n",
       "1 -0.9218226         -1.148470           13.82386  48            \n",
       "2 -1.0160128         -1.230913           16.25543  48            \n",
       "3 -0.9109971         -1.118617           16.70035  48            \n",
       "4 -0.8799034         -1.093104           14.82659  48            \n",
       "5 -0.9038058         -1.100202           17.63207  48            \n",
       "6 -0.9946967         -1.207999           17.64684  48            \n",
       "  CO_HistogramAMI_even_2_5 CO_trev_1_num MD_hrv_classic_pnn40\n",
       "1 0.7703660                 0.0023764235 0.7365581           \n",
       "2 0.7362338                -0.0015322646 0.7856744           \n",
       "3 0.7820858                 0.0021162446 0.7389767           \n",
       "4 0.7899539                 0.0028058063 0.6803721           \n",
       "5 0.8039572                 0.0041442076 0.6682791           \n",
       "6 0.8148260                 0.0003571444 0.7205581           \n",
       "  SB_BinaryStats_mean_longstretch1 SB_TransitionMatrix_3ac_sumdiagcov\n",
       "1 55                               0.007384888                       \n",
       "2 61                               0.023279508                       \n",
       "3 60                               0.007085068                       \n",
       "4 55                               0.002621771                       \n",
       "5 54                               0.003598341                       \n",
       "6 64                               0.004398774                       \n",
       "  PD_PeriodicityWang_th0_01 ⋯ FC_LocalSimple_mean1_tauresrat\n",
       "1 95                        ⋯ 0.36363636                    \n",
       "2 95                        ⋯ 0.04166667                    \n",
       "3 95                        ⋯ 0.04166667                    \n",
       "4 95                        ⋯ 0.43478261                    \n",
       "5 95                        ⋯ 0.52000000                    \n",
       "6 95                        ⋯ 0.04000000                    \n",
       "  DN_OutlierInclude_p_001_mdrmd DN_OutlierInclude_n_001_mdrmd\n",
       "1  0.03218006                   -0.024925595                 \n",
       "2  0.04389881                   -0.001302083                 \n",
       "3  0.03218006                   -0.021763393                 \n",
       "4 -0.05747768                    0.007068452                 \n",
       "5  0.02027530                   -0.017578125                 \n",
       "6  0.02994792                   -0.022321429                 \n",
       "  SP_Summaries_welch_rect_area_5_1 SB_BinaryStats_diff_longstretch0\n",
       "1 0.9887043                        15                              \n",
       "2 0.9768737                        15                              \n",
       "3 0.9825842                        20                              \n",
       "4 0.9892416                        18                              \n",
       "5 0.9910389                        22                              \n",
       "6 0.9901210                        18                              \n",
       "  SB_MotifThree_quantile_hh SC_FluctAnal_2_rsrangefit_50_1_logi_prop_r1\n",
       "1 1.472521                  0.4081633                                  \n",
       "2 1.515340                  0.4489796                                  \n",
       "3 1.526881                  0.4285714                                  \n",
       "4 1.430336                  0.4285714                                  \n",
       "5 1.417460                  0.4285714                                  \n",
       "6 1.428618                  0.4285714                                  \n",
       "  SC_FluctAnal_2_dfa_50_1_2_logi_prop_r1 SP_Summaries_welch_rect_centroid\n",
       "1 0.3265306                              0.06596117                      \n",
       "2 0.3469388                              0.06519418                      \n",
       "3 0.3673469                              0.06519418                      \n",
       "4 0.3469388                              0.06596117                      \n",
       "5 0.3469388                              0.06519418                      \n",
       "6 0.3469388                              0.06519418                      \n",
       "  FC_LocalSimple_mean3_stderr\n",
       "1 0.2699762                  \n",
       "2 0.2904009                  \n",
       "3 0.2591757                  \n",
       "4 0.2620395                  \n",
       "5 0.2157951                  \n",
       "6 0.2194032                  "
      ]
     },
     "metadata": {},
     "output_type": "display_data"
    }
   ],
   "source": [
    "# Sanity check by printing df head\n",
    "head(train_catch22_feat_df)"
   ]
  },
  {
   "cell_type": "code",
   "execution_count": 30,
   "id": "82016607",
   "metadata": {},
   "outputs": [
    {
     "data": {
      "text/plain": [
       " DN_HistogramMode_5 DN_HistogramMode_10   CO_f1ecac      CO_FirstMin_ac \n",
       " Min.   :-1.2146    Min.   :-1.5185     Min.   : 9.688   Min.   :24.00  \n",
       " 1st Qu.:-0.9886    1st Qu.:-1.2141     1st Qu.:15.152   1st Qu.:48.00  \n",
       " Median :-0.8918    Median :-1.1209     Median :16.214   Median :48.00  \n",
       " Mean   :-0.6055    Mean   :-0.9360     Mean   :15.894   Mean   :47.04  \n",
       " 3rd Qu.:-0.6440    3rd Qu.:-0.9796     3rd Qu.:17.082   3rd Qu.:48.00  \n",
       " Max.   : 1.1815    Max.   : 1.0095     Max.   :19.284   Max.   :49.00  \n",
       " CO_HistogramAMI_even_2_5 CO_trev_1_num        MD_hrv_classic_pnn40\n",
       " Min.   :0.2940           Min.   :-0.0217085   Min.   :0.6160      \n",
       " 1st Qu.:0.6754           1st Qu.: 0.0002076   1st Qu.:0.7126      \n",
       " Median :0.7424           Median : 0.0025954   Median :0.7516      \n",
       " Mean   :0.7154           Mean   : 0.0022936   Mean   :0.7617      \n",
       " 3rd Qu.:0.8027           3rd Qu.: 0.0051715   3rd Qu.:0.8040      \n",
       " Max.   :0.8648           Max.   : 0.0147870   Max.   :0.9485      \n",
       " SB_BinaryStats_mean_longstretch1 SB_TransitionMatrix_3ac_sumdiagcov\n",
       " Min.   :26.00                    Min.   :0.0009854                 \n",
       " 1st Qu.:55.75                    1st Qu.:0.0043330                 \n",
       " Median :60.00                    Median :0.0069209                 \n",
       " Mean   :58.36                    Mean   :0.0084250                 \n",
       " 3rd Qu.:62.00                    3rd Qu.:0.0099551                 \n",
       " Max.   :69.00                    Max.   :0.0271404                 \n",
       " PD_PeriodicityWang_th0_01 CO_Embed2_Dist_tau_d_expfit_meandiff\n",
       " Min.   :95                Min.   :0.2091                      \n",
       " 1st Qu.:95                1st Qu.:0.3746                      \n",
       " Median :95                Median :0.4279                      \n",
       " Mean   :95                Mean   :0.4991                      \n",
       " 3rd Qu.:95                3rd Qu.:0.5975                      \n",
       " Max.   :95                Max.   :1.0319                      \n",
       " IN_AutoMutualInfoStats_40_gaussian_fmmi FC_LocalSimple_mean1_tauresrat\n",
       " Min.   :13.00                           Min.   :0.03704               \n",
       " 1st Qu.:21.75                           1st Qu.:0.04167               \n",
       " Median :22.00                           Median :0.04257               \n",
       " Mean   :21.96                           Mean   :0.14588               \n",
       " 3rd Qu.:23.00                           3rd Qu.:0.30435               \n",
       " Max.   :26.00                           Max.   :0.54167               \n",
       " DN_OutlierInclude_p_001_mdrmd DN_OutlierInclude_n_001_mdrmd\n",
       " Min.   :-0.36161              Min.   :-0.130394            \n",
       " 1st Qu.:-0.02483              1st Qu.:-0.024507            \n",
       " Median : 0.01953              Median :-0.010045            \n",
       " Mean   : 0.03085              Mean   :-0.009682            \n",
       " 3rd Qu.: 0.06931              3rd Qu.: 0.009161            \n",
       " Max.   : 0.71131              Max.   : 0.073847            \n",
       " SP_Summaries_welch_rect_area_5_1 SB_BinaryStats_diff_longstretch0\n",
       " Min.   :0.8795                   Min.   : 6.00                   \n",
       " 1st Qu.:0.9657                   1st Qu.:12.00                   \n",
       " Median :0.9802                   Median :14.50                   \n",
       " Mean   :0.9731                   Mean   :14.66                   \n",
       " 3rd Qu.:0.9867                   3rd Qu.:18.00                   \n",
       " Max.   :0.9910                   Max.   :27.00                   \n",
       " SB_MotifThree_quantile_hh SC_FluctAnal_2_rsrangefit_50_1_logi_prop_r1\n",
       " Min.   :1.390             Min.   :0.3265                             \n",
       " 1st Qu.:1.456             1st Qu.:0.4082                             \n",
       " Median :1.506             Median :0.4082                             \n",
       " Mean   :1.509             Mean   :0.4141                             \n",
       " 3rd Qu.:1.543             3rd Qu.:0.4286                             \n",
       " Max.   :1.785             Max.   :0.4898                             \n",
       " SC_FluctAnal_2_dfa_50_1_2_logi_prop_r1 SP_Summaries_welch_rect_centroid\n",
       " Min.   :0.2449                         Min.   :0.06519                 \n",
       " 1st Qu.:0.3061                         1st Qu.:0.06519                 \n",
       " Median :0.3265                         Median :0.06519                 \n",
       " Mean   :0.3265                         Mean   :0.06725                 \n",
       " 3rd Qu.:0.3469                         3rd Qu.:0.06596                 \n",
       " Max.   :0.3673                         Max.   :0.13039                 \n",
       " FC_LocalSimple_mean3_stderr\n",
       " Min.   :0.2158             \n",
       " 1st Qu.:0.2530             \n",
       " Median :0.2881             \n",
       " Mean   :0.2944             \n",
       " 3rd Qu.:0.3177             \n",
       " Max.   :0.4689             "
      ]
     },
     "metadata": {},
     "output_type": "display_data"
    }
   ],
   "source": [
    "# Print and examine the summary\n",
    "summary(train_catch22_feat_df)"
   ]
  },
  {
   "cell_type": "code",
   "execution_count": 31,
   "id": "e93ba64a",
   "metadata": {},
   "outputs": [
    {
     "data": {
      "text/html": [
       "<style>\n",
       ".list-inline {list-style: none; margin:0; padding: 0}\n",
       ".list-inline>li {display: inline-block}\n",
       ".list-inline>li:not(:last-child)::after {content: \"\\00b7\"; padding: 0 .5ex}\n",
       "</style>\n",
       "<ol class=list-inline><li>'CO_FirstMin_ac'</li><li>'PD_PeriodicityWang_th0_01'</li></ol>\n"
      ],
      "text/latex": [
       "\\begin{enumerate*}\n",
       "\\item 'CO\\_FirstMin\\_ac'\n",
       "\\item 'PD\\_PeriodicityWang\\_th0\\_01'\n",
       "\\end{enumerate*}\n"
      ],
      "text/markdown": [
       "1. 'CO_FirstMin_ac'\n",
       "2. 'PD_PeriodicityWang_th0_01'\n",
       "\n",
       "\n"
      ],
      "text/plain": [
       "[1] \"CO_FirstMin_ac\"            \"PD_PeriodicityWang_th0_01\""
      ]
     },
     "metadata": {},
     "output_type": "display_data"
    }
   ],
   "source": [
    "# Check for features where the lower and upper quantiles and median are identical - these likely do not provide\n",
    "# enough useful information to include them for clustering\n",
    "rownames(data.frame(t(sapply(train_catch22_feat_df, function(i) quantile(i, c(0.25, 0.5, 0.75))))) %>%\n",
    "    mutate(is_lower_equal_med = ifelse(X25.==X50., TRUE, FALSE)) %>%\n",
    "    mutate(is_upper_equal_med = ifelse(X50.==X75., TRUE, FALSE)) %>%\n",
    "    mutate(all_same = is_lower_equal_med+is_upper_equal_med) %>%\n",
    "    filter(all_same==2))"
   ]
  },
  {
   "cell_type": "code",
   "execution_count": 32,
   "id": "a53a2d54",
   "metadata": {},
   "outputs": [],
   "source": [
    "# Remove features with too little variation\n",
    "train_catch22_feat_df <- train_catch22_feat_df %>% select(-c('CO_FirstMin_ac', 'PD_PeriodicityWang_th0_01'))"
   ]
  },
  {
   "cell_type": "code",
   "execution_count": 33,
   "id": "deb5d2ae",
   "metadata": {},
   "outputs": [],
   "source": [
    "write.csv(train_catch22_feat_df, \"Results/Clustering/KMeans/catch22_feat_df.csv\")"
   ]
  },
  {
   "cell_type": "code",
   "execution_count": 34,
   "id": "e36c4356",
   "metadata": {},
   "outputs": [],
   "source": [
    "# Scale features to unit interval per Catch22 paper - first make a copy of the df\n",
    "train_catch22_feat_df_scaled <- train_catch22_feat_df"
   ]
  },
  {
   "cell_type": "code",
   "execution_count": 35,
   "id": "67f9d35a",
   "metadata": {},
   "outputs": [],
   "source": [
    "# Next, for each feature in the data frame, compute the min and max and \n",
    "# scale by subtracting the min and dividing by the range\n",
    "for (n in 1:ncol(train_catch22_feat_df_scaled)){\n",
    "    min_n <- min(train_catch22_feat_df_scaled[,n])\n",
    "    max_n <- max(train_catch22_feat_df_scaled[,n])\n",
    "    train_catch22_feat_df_scaled[,n] <- (train_catch22_feat_df_scaled[,n] - min_n)/(max_n - min_n)\n",
    "}"
   ]
  },
  {
   "cell_type": "code",
   "execution_count": 36,
   "id": "fe127819",
   "metadata": {},
   "outputs": [
    {
     "data": {
      "text/plain": [
       " DN_HistogramMode_5 DN_HistogramMode_10   CO_f1ecac     \n",
       " Min.   :0.00000    Min.   :0.0000      Min.   :0.0000  \n",
       " 1st Qu.:0.09434    1st Qu.:0.1204      1st Qu.:0.5694  \n",
       " Median :0.13474    Median :0.1573      Median :0.6801  \n",
       " Mean   :0.25420    Mean   :0.2304      Mean   :0.6467  \n",
       " 3rd Qu.:0.23816    3rd Qu.:0.2132      3rd Qu.:0.7705  \n",
       " Max.   :1.00000    Max.   :1.0000      Max.   :1.0000  \n",
       " CO_HistogramAMI_even_2_5 CO_trev_1_num    MD_hrv_classic_pnn40\n",
       " Min.   :0.0000           Min.   :0.0000   Min.   :0.0000      \n",
       " 1st Qu.:0.6682           1st Qu.:0.6005   1st Qu.:0.2906      \n",
       " Median :0.7856           Median :0.6659   Median :0.4079      \n",
       " Mean   :0.7382           Mean   :0.6577   Mean   :0.4381      \n",
       " 3rd Qu.:0.8912           3rd Qu.:0.7365   3rd Qu.:0.5653      \n",
       " Max.   :1.0000           Max.   :1.0000   Max.   :1.0000      \n",
       " SB_BinaryStats_mean_longstretch1 SB_TransitionMatrix_3ac_sumdiagcov\n",
       " Min.   :0.0000                   Min.   :0.0000                    \n",
       " 1st Qu.:0.6919                   1st Qu.:0.1280                    \n",
       " Median :0.7907                   Median :0.2269                    \n",
       " Mean   :0.7524                   Mean   :0.2844                    \n",
       " 3rd Qu.:0.8372                   3rd Qu.:0.3429                    \n",
       " Max.   :1.0000                   Max.   :1.0000                    \n",
       " CO_Embed2_Dist_tau_d_expfit_meandiff IN_AutoMutualInfoStats_40_gaussian_fmmi\n",
       " Min.   :0.0000                       Min.   :0.0000                         \n",
       " 1st Qu.:0.2012                       1st Qu.:0.6731                         \n",
       " Median :0.2659                       Median :0.6923                         \n",
       " Mean   :0.3524                       Mean   :0.6893                         \n",
       " 3rd Qu.:0.4721                       3rd Qu.:0.7692                         \n",
       " Max.   :1.0000                       Max.   :1.0000                         \n",
       " FC_LocalSimple_mean1_tauresrat DN_OutlierInclude_p_001_mdrmd\n",
       " Min.   :0.000000               Min.   :0.0000               \n",
       " 1st Qu.:0.009174               1st Qu.:0.3139               \n",
       " Median :0.010969               Median :0.3552               \n",
       " Mean   :0.215680               Mean   :0.3658               \n",
       " 3rd Qu.:0.529717               3rd Qu.:0.4016               \n",
       " Max.   :1.000000               Max.   :1.0000               \n",
       " DN_OutlierInclude_n_001_mdrmd SP_Summaries_welch_rect_area_5_1\n",
       " Min.   :0.0000                Min.   :0.0000                  \n",
       " 1st Qu.:0.5184                1st Qu.:0.7726                  \n",
       " Median :0.5893                Median :0.9025                  \n",
       " Mean   :0.5910                Mean   :0.8395                  \n",
       " 3rd Qu.:0.6833                3rd Qu.:0.9610                  \n",
       " Max.   :1.0000                Max.   :1.0000                  \n",
       " SB_BinaryStats_diff_longstretch0 SB_MotifThree_quantile_hh\n",
       " Min.   :0.0000                   Min.   :0.0000           \n",
       " 1st Qu.:0.2857                   1st Qu.:0.1675           \n",
       " Median :0.4048                   Median :0.2936           \n",
       " Mean   :0.4123                   Mean   :0.3020           \n",
       " 3rd Qu.:0.5714                   3rd Qu.:0.3886           \n",
       " Max.   :1.0000                   Max.   :1.0000           \n",
       " SC_FluctAnal_2_rsrangefit_50_1_logi_prop_r1\n",
       " Min.   :0.0000                             \n",
       " 1st Qu.:0.5000                             \n",
       " Median :0.5000                             \n",
       " Mean   :0.5362                             \n",
       " 3rd Qu.:0.6250                             \n",
       " Max.   :1.0000                             \n",
       " SC_FluctAnal_2_dfa_50_1_2_logi_prop_r1 SP_Summaries_welch_rect_centroid\n",
       " Min.   :0.0000                         Min.   :0.00000                 \n",
       " 1st Qu.:0.5000                         1st Qu.:0.00000                 \n",
       " Median :0.6667                         Median :0.00000                 \n",
       " Mean   :0.6667                         Mean   :0.03158                 \n",
       " 3rd Qu.:0.8333                         3rd Qu.:0.01176                 \n",
       " Max.   :1.0000                         Max.   :1.00000                 \n",
       " FC_LocalSimple_mean3_stderr\n",
       " Min.   :0.0000             \n",
       " 1st Qu.:0.1469             \n",
       " Median :0.2856             \n",
       " Mean   :0.3107             \n",
       " 3rd Qu.:0.4025             \n",
       " Max.   :1.0000             "
      ]
     },
     "metadata": {},
     "output_type": "display_data"
    }
   ],
   "source": [
    "summary(train_catch22_feat_df_scaled)"
   ]
  },
  {
   "cell_type": "markdown",
   "id": "3a406eec",
   "metadata": {},
   "source": [
    "## K-Means Clustering with Catch22 Features"
   ]
  },
  {
   "cell_type": "code",
   "execution_count": 37,
   "id": "7d8c6ebf",
   "metadata": {},
   "outputs": [
    {
     "data": {
      "image/png": "[encoded data removed]",
      "text/plain": [
       "plot without title"
      ]
     },
     "metadata": {
      "image/png": {
       "height": 420,
       "width": 420
      }
     },
     "output_type": "display_data"
    }
   ],
   "source": [
    "# Eblow Method based on WSS\n",
    "set.seed(54321)\n",
    "wss_catch22 <- fviz_nbclust(train_catch22_feat_df_scaled, \n",
    "             kmeans, \n",
    "             method = \"wss\", \n",
    "             k.max=12, \n",
    "             iter.max=1000, \n",
    "             nstart=100, \n",
    "             algorithm=\"Hartigan-Wong\") + \n",
    "labs(title=\"WSS for Catch22-Based Clusters\")\n",
    "\n",
    "wss_catch22 # No clear best number, maybe 2?"
   ]
  },
  {
   "cell_type": "code",
   "execution_count": 38,
   "id": "8497b4f1",
   "metadata": {},
   "outputs": [],
   "source": [
    "ggsave(\"Results/Clustering/KMeans/wss_catch22.png\", wss_catch22, width=10, height=5)"
   ]
  },
  {
   "cell_type": "code",
   "execution_count": 39,
   "id": "cf7a51d5",
   "metadata": {},
   "outputs": [
    {
     "data": {
      "image/png": "[encoded data removed]",
      "text/plain": [
       "plot without title"
      ]
     },
     "metadata": {
      "image/png": {
       "height": 420,
       "width": 420
      }
     },
     "output_type": "display_data"
    }
   ],
   "source": [
    "# Let's try the silhouette method instead\n",
    "set.seed(54321)\n",
    "sil_catch22 <- fviz_nbclust(train_catch22_feat_df_scaled, \n",
    "             kmeans, \n",
    "             method=\"silhouette\", \n",
    "             k.max=12, \n",
    "             iter.max=10000, \n",
    "             nstart=500, \n",
    "             algorithm=\"Hartigan-Wong\", \n",
    "            ) + \n",
    "labs(title=\"Average Silhouette Width for Catch22-Based Clusters\")\n",
    "\n",
    "sil_catch22 # Much clearer indication of 2 being the best, with 3 also looking reasonable"
   ]
  },
  {
   "cell_type": "code",
   "execution_count": 40,
   "id": "79f791da",
   "metadata": {},
   "outputs": [],
   "source": [
    "ggsave(\"Results/Clustering/KMeans/sil_catch22.png\", sil_catch22, width=10, height=5)"
   ]
  },
  {
   "cell_type": "code",
   "execution_count": 41,
   "id": "cb9e9cdc",
   "metadata": {},
   "outputs": [],
   "source": [
    "# Let's examine the sillouhettes for K=5 and K=6 more closely. First, we create both sets of clusters\n",
    "k1 <- 5\n",
    "k2 <- 6\n",
    "\n",
    "set.seed(54321)\n",
    "kmeans_clust1 <- kmeans(train_catch22_feat_df_scaled, k1, iter.max=10000, nstart=500, algorithm=\"Hartigan-Wong\") \n",
    "set.seed(54321)\n",
    "kmeans_clust2 <- kmeans(train_catch22_feat_df_scaled, k2, iter.max=10000, nstart=500, algorithm=\"Hartigan-Wong\") "
   ]
  },
  {
   "cell_type": "code",
   "execution_count": 42,
   "id": "c196ada4",
   "metadata": {},
   "outputs": [],
   "source": [
    "# Next, we compute the distance or dissimilarity matrix of the Catch22 features, to be used for visualizaing the \n",
    "# cluster silouhettes to make a final choice on the number of clusters\n",
    "D <- dist(train_catch22_feat_df_scaled) # daisy(train_catch22_feat_df_scaled)"
   ]
  },
  {
   "cell_type": "code",
   "execution_count": 43,
   "id": "59798b52",
   "metadata": {},
   "outputs": [],
   "source": [
    "sil_catch22_k1 <- silhouette(kmeans_clust1$cluster, D) "
   ]
  },
  {
   "cell_type": "code",
   "execution_count": 44,
   "id": "08b8163d",
   "metadata": {},
   "outputs": [
    {
     "data": {
      "image/png": "[encoded data removed]",
      "text/plain": [
       "Plot with title “Silhouette plot of (x = kmeans_clust1$cluster, dist = D)”"
      ]
     },
     "metadata": {
      "image/png": {
       "height": 420,
       "width": 420
      }
     },
     "output_type": "display_data"
    }
   ],
   "source": [
    "plot(sil_catch22_k1)"
   ]
  },
  {
   "cell_type": "code",
   "execution_count": 45,
   "id": "28a13bc4",
   "metadata": {},
   "outputs": [
    {
     "name": "stdout",
     "output_type": "stream",
     "text": [
      "  cluster size ave.sil.width\n",
      "1       1   37          0.25\n",
      "2       2    3          0.19\n",
      "3       3    4          0.11\n",
      "4       4   20          0.31\n",
      "5       5   12          0.16\n"
     ]
    }
   ],
   "source": [
    "sil_catch22_k1_plot <- fviz_silhouette(sil_catch22_k1) + \n",
    "    ggtitle(\"Silhouette Width for Catch22-Based Clusters with K=5\")\n",
    "sil_catch22_k1_plot$layers[[2]]$aes_params$colour <- \"black\""
   ]
  },
  {
   "cell_type": "code",
   "execution_count": 46,
   "id": "8fed0457",
   "metadata": {},
   "outputs": [
    {
     "data": {
      "image/png": "[encoded data removed]",
      "text/plain": [
       "plot without title"
      ]
     },
     "metadata": {
      "image/png": {
       "height": 420,
       "width": 420
      }
     },
     "output_type": "display_data"
    }
   ],
   "source": [
    "sil_catch22_k1_plot"
   ]
  },
  {
   "cell_type": "code",
   "execution_count": 47,
   "id": "3ab8f36c",
   "metadata": {},
   "outputs": [],
   "source": [
    "ggsave(\"Results/Clustering/KMeans/avg_sil_catch22_k2.png\", sil_catch22_k1_plot, width=10, height=5)"
   ]
  },
  {
   "cell_type": "code",
   "execution_count": 48,
   "id": "ec7e9929",
   "metadata": {},
   "outputs": [
    {
     "name": "stdout",
     "output_type": "stream",
     "text": [
      "  cluster size ave.sil.width\n",
      "1       1   31          0.26\n",
      "2       2    5          0.35\n",
      "3       3    2          0.43\n",
      "4       4   20          0.28\n",
      "5       5   15          0.07\n",
      "6       6    3          0.19\n"
     ]
    }
   ],
   "source": [
    "sil_catch22_k2 <- silhouette(kmeans_clust2$cluster, D)\n",
    "\n",
    "sil_catch22_k2_plot <- fviz_silhouette(sil_catch22_k2) + \n",
    "    ggtitle(\"Silhouette Width for Catch22-Based Clusters with K=6\")\n",
    "sil_catch22_k2_plot$layers[[2]]$aes_params$colour <- \"black\""
   ]
  },
  {
   "cell_type": "code",
   "execution_count": 49,
   "id": "af26342e",
   "metadata": {},
   "outputs": [
    {
     "data": {
      "image/png": "[encoded data removed]",
      "text/plain": [
       "Plot with title “Silhouette plot of (x = kmeans_clust2$cluster, dist = D)”"
      ]
     },
     "metadata": {
      "image/png": {
       "height": 420,
       "width": 420
      }
     },
     "output_type": "display_data"
    }
   ],
   "source": [
    "plot(sil_catch22_k2)"
   ]
  },
  {
   "cell_type": "code",
   "execution_count": 50,
   "id": "641f8cbb",
   "metadata": {
    "scrolled": false
   },
   "outputs": [
    {
     "data": {
      "image/png": "[encoded data removed]",
      "text/plain": [
       "plot without title"
      ]
     },
     "metadata": {
      "image/png": {
       "height": 420,
       "width": 420
      }
     },
     "output_type": "display_data"
    }
   ],
   "source": [
    "sil_catch22_k2_plot"
   ]
  },
  {
   "cell_type": "code",
   "execution_count": 51,
   "id": "f2c05f5d",
   "metadata": {},
   "outputs": [],
   "source": [
    "ggsave(\"Results/Clustering/KMeans/avg_sil_catch22_k3.png\", sil_catch22_k2_plot, width=10, height=5)"
   ]
  },
  {
   "cell_type": "markdown",
   "id": "5ab498c1",
   "metadata": {},
   "source": [
    "We proceed with K=5, as it is the simpler choice with slighly better performance"
   ]
  },
  {
   "cell_type": "code",
   "execution_count": 52,
   "id": "a54e5cd0",
   "metadata": {},
   "outputs": [],
   "source": [
    "# Create the final clusters with k=3\n",
    "\n",
    "# Set seed\n",
    "set.seed(54321)\n",
    "\n",
    "# Set K\n",
    "kfinal <- 5\n",
    "\n",
    "# Create the clusters\n",
    "kmeans_final <- kmeans(train_catch22_feat_df_scaled, kfinal, \n",
    "                       iter.max=10000, nstart=500, algorithm=\"Hartigan-Wong\") "
   ]
  },
  {
   "cell_type": "code",
   "execution_count": 53,
   "id": "62a6c9f4",
   "metadata": {},
   "outputs": [],
   "source": [
    "# Save the cluster results in an RData file for future use\n",
    "saveRDS(kmeans_final, \n",
    "        file=\"Results/Clustering/KMeans/kmeans_catch22.RData\")"
   ]
  },
  {
   "cell_type": "code",
   "execution_count": 54,
   "id": "56b72f77",
   "metadata": {},
   "outputs": [
    {
     "data": {
      "text/html": [
       "<style>\n",
       ".list-inline {list-style: none; margin:0; padding: 0}\n",
       ".list-inline>li {display: inline-block}\n",
       ".list-inline>li:not(:last-child)::after {content: \"\\00b7\"; padding: 0 .5ex}\n",
       "</style>\n",
       "<ol class=list-inline><li>4</li><li>1</li><li>1</li><li>4</li><li>4</li><li>1</li><li>1</li><li>1</li><li>1</li><li>1</li><li>5</li><li>4</li><li>1</li><li>1</li><li>4</li><li>4</li><li>4</li><li>1</li><li>2</li><li>5</li><li>5</li><li>1</li><li>4</li><li>4</li><li>4</li><li>4</li><li>5</li><li>4</li><li>1</li><li>4</li><li>5</li><li>4</li><li>1</li><li>1</li><li>1</li><li>4</li><li>4</li><li>4</li><li>1</li><li>1</li><li>1</li><li>5</li><li>5</li><li>1</li><li>5</li><li>5</li><li>1</li><li>1</li><li>3</li><li>1</li><li>1</li><li>1</li><li>5</li><li>3</li><li>1</li><li>5</li><li>5</li><li>1</li><li>1</li><li>4</li><li>4</li><li>3</li><li>3</li><li>4</li><li>1</li><li>1</li><li>1</li><li>2</li><li>2</li><li>1</li><li>1</li><li>1</li><li>1</li><li>1</li><li>1</li><li>1</li></ol>\n"
      ],
      "text/latex": [
       "\\begin{enumerate*}\n",
       "\\item 4\n",
       "\\item 1\n",
       "\\item 1\n",
       "\\item 4\n",
       "\\item 4\n",
       "\\item 1\n",
       "\\item 1\n",
       "\\item 1\n",
       "\\item 1\n",
       "\\item 1\n",
       "\\item 5\n",
       "\\item 4\n",
       "\\item 1\n",
       "\\item 1\n",
       "\\item 4\n",
       "\\item 4\n",
       "\\item 4\n",
       "\\item 1\n",
       "\\item 2\n",
       "\\item 5\n",
       "\\item 5\n",
       "\\item 1\n",
       "\\item 4\n",
       "\\item 4\n",
       "\\item 4\n",
       "\\item 4\n",
       "\\item 5\n",
       "\\item 4\n",
       "\\item 1\n",
       "\\item 4\n",
       "\\item 5\n",
       "\\item 4\n",
       "\\item 1\n",
       "\\item 1\n",
       "\\item 1\n",
       "\\item 4\n",
       "\\item 4\n",
       "\\item 4\n",
       "\\item 1\n",
       "\\item 1\n",
       "\\item 1\n",
       "\\item 5\n",
       "\\item 5\n",
       "\\item 1\n",
       "\\item 5\n",
       "\\item 5\n",
       "\\item 1\n",
       "\\item 1\n",
       "\\item 3\n",
       "\\item 1\n",
       "\\item 1\n",
       "\\item 1\n",
       "\\item 5\n",
       "\\item 3\n",
       "\\item 1\n",
       "\\item 5\n",
       "\\item 5\n",
       "\\item 1\n",
       "\\item 1\n",
       "\\item 4\n",
       "\\item 4\n",
       "\\item 3\n",
       "\\item 3\n",
       "\\item 4\n",
       "\\item 1\n",
       "\\item 1\n",
       "\\item 1\n",
       "\\item 2\n",
       "\\item 2\n",
       "\\item 1\n",
       "\\item 1\n",
       "\\item 1\n",
       "\\item 1\n",
       "\\item 1\n",
       "\\item 1\n",
       "\\item 1\n",
       "\\end{enumerate*}\n"
      ],
      "text/markdown": [
       "1. 4\n",
       "2. 1\n",
       "3. 1\n",
       "4. 4\n",
       "5. 4\n",
       "6. 1\n",
       "7. 1\n",
       "8. 1\n",
       "9. 1\n",
       "10. 1\n",
       "11. 5\n",
       "12. 4\n",
       "13. 1\n",
       "14. 1\n",
       "15. 4\n",
       "16. 4\n",
       "17. 4\n",
       "18. 1\n",
       "19. 2\n",
       "20. 5\n",
       "21. 5\n",
       "22. 1\n",
       "23. 4\n",
       "24. 4\n",
       "25. 4\n",
       "26. 4\n",
       "27. 5\n",
       "28. 4\n",
       "29. 1\n",
       "30. 4\n",
       "31. 5\n",
       "32. 4\n",
       "33. 1\n",
       "34. 1\n",
       "35. 1\n",
       "36. 4\n",
       "37. 4\n",
       "38. 4\n",
       "39. 1\n",
       "40. 1\n",
       "41. 1\n",
       "42. 5\n",
       "43. 5\n",
       "44. 1\n",
       "45. 5\n",
       "46. 5\n",
       "47. 1\n",
       "48. 1\n",
       "49. 3\n",
       "50. 1\n",
       "51. 1\n",
       "52. 1\n",
       "53. 5\n",
       "54. 3\n",
       "55. 1\n",
       "56. 5\n",
       "57. 5\n",
       "58. 1\n",
       "59. 1\n",
       "60. 4\n",
       "61. 4\n",
       "62. 3\n",
       "63. 3\n",
       "64. 4\n",
       "65. 1\n",
       "66. 1\n",
       "67. 1\n",
       "68. 2\n",
       "69. 2\n",
       "70. 1\n",
       "71. 1\n",
       "72. 1\n",
       "73. 1\n",
       "74. 1\n",
       "75. 1\n",
       "76. 1\n",
       "\n",
       "\n"
      ],
      "text/plain": [
       " [1] 4 1 1 4 4 1 1 1 1 1 5 4 1 1 4 4 4 1 2 5 5 1 4 4 4 4 5 4 1 4 5 4 1 1 1 4 4 4\n",
       "[39] 1 1 1 5 5 1 5 5 1 1 3 1 1 1 5 3 1 5 5 1 1 4 4 3 3 4 1 1 1 2 2 1 1 1 1 1 1 1"
      ]
     },
     "metadata": {},
     "output_type": "display_data"
    }
   ],
   "source": [
    "# Sanity check the clusters\n",
    "kmeans_final$cluster"
   ]
  },
  {
   "cell_type": "code",
   "execution_count": 55,
   "id": "25fcb55f",
   "metadata": {},
   "outputs": [],
   "source": [
    "# Re-format cluster assignments into a data frame with a ts_index field for joining later\n",
    "kmeans_clust_df <- data.frame(ts_index=1:length(kmeans_final$cluster), \n",
    "                              kmeans_catch22_clust_assign=kmeans_final$cluster)"
   ]
  },
  {
   "cell_type": "code",
   "execution_count": 56,
   "id": "7f8ead2b",
   "metadata": {},
   "outputs": [
    {
     "data": {
      "text/html": [
       "<table class=\"dataframe\">\n",
       "<caption>A data.frame: 6 × 2</caption>\n",
       "<thead>\n",
       "\t<tr><th></th><th scope=col>ts_index</th><th scope=col>kmeans_catch22_clust_assign</th></tr>\n",
       "\t<tr><th></th><th scope=col>&lt;int&gt;</th><th scope=col>&lt;int&gt;</th></tr>\n",
       "</thead>\n",
       "<tbody>\n",
       "\t<tr><th scope=row>1</th><td>1</td><td>4</td></tr>\n",
       "\t<tr><th scope=row>2</th><td>2</td><td>1</td></tr>\n",
       "\t<tr><th scope=row>3</th><td>3</td><td>1</td></tr>\n",
       "\t<tr><th scope=row>4</th><td>4</td><td>4</td></tr>\n",
       "\t<tr><th scope=row>5</th><td>5</td><td>4</td></tr>\n",
       "\t<tr><th scope=row>6</th><td>6</td><td>1</td></tr>\n",
       "</tbody>\n",
       "</table>\n"
      ],
      "text/latex": [
       "A data.frame: 6 × 2\n",
       "\\begin{tabular}{r|ll}\n",
       "  & ts\\_index & kmeans\\_catch22\\_clust\\_assign\\\\\n",
       "  & <int> & <int>\\\\\n",
       "\\hline\n",
       "\t1 & 1 & 4\\\\\n",
       "\t2 & 2 & 1\\\\\n",
       "\t3 & 3 & 1\\\\\n",
       "\t4 & 4 & 4\\\\\n",
       "\t5 & 5 & 4\\\\\n",
       "\t6 & 6 & 1\\\\\n",
       "\\end{tabular}\n"
      ],
      "text/markdown": [
       "\n",
       "A data.frame: 6 × 2\n",
       "\n",
       "| <!--/--> | ts_index &lt;int&gt; | kmeans_catch22_clust_assign &lt;int&gt; |\n",
       "|---|---|---|\n",
       "| 1 | 1 | 4 |\n",
       "| 2 | 2 | 1 |\n",
       "| 3 | 3 | 1 |\n",
       "| 4 | 4 | 4 |\n",
       "| 5 | 5 | 4 |\n",
       "| 6 | 6 | 1 |\n",
       "\n"
      ],
      "text/plain": [
       "  ts_index kmeans_catch22_clust_assign\n",
       "1 1        4                          \n",
       "2 2        1                          \n",
       "3 3        1                          \n",
       "4 4        4                          \n",
       "5 5        4                          \n",
       "6 6        1                          "
      ]
     },
     "metadata": {},
     "output_type": "display_data"
    }
   ],
   "source": [
    "head(kmeans_clust_df)"
   ]
  },
  {
   "cell_type": "code",
   "execution_count": 57,
   "id": "acc06103",
   "metadata": {},
   "outputs": [],
   "source": [
    "# Save that df to a csv file\n",
    "write.csv(kmeans_clust_df, \n",
    "          \"Results/Clustering/KMeans/kmeans_catch22_clustering_assign.csv\", \n",
    "          row.names=FALSE)"
   ]
  },
  {
   "cell_type": "markdown",
   "id": "38f73310",
   "metadata": {},
   "source": [
    "# TSFeatures Computation  \n",
    "Next, we will compute features using the tsfeatures function"
   ]
  },
  {
   "cell_type": "code",
   "execution_count": 58,
   "id": "83f4a9a2",
   "metadata": {},
   "outputs": [],
   "source": [
    "# Compute basic set of tsfeatures - \n",
    "# Set scale to FALSE as to not scale the time series before computing the features\n",
    "ts_feat_list <- tsfeatures(train_samples_ts, scale=FALSE)"
   ]
  },
  {
   "cell_type": "code",
   "execution_count": 59,
   "id": "f55c18eb",
   "metadata": {},
   "outputs": [
    {
     "data": {
      "text/html": [
       "<table class=\"dataframe\">\n",
       "<caption>A tibble: 6 × 24</caption>\n",
       "<thead>\n",
       "\t<tr><th scope=col>frequency</th><th scope=col>nperiods</th><th scope=col>seasonal_period1</th><th scope=col>seasonal_period2</th><th scope=col>trend</th><th scope=col>spike</th><th scope=col>linearity</th><th scope=col>curvature</th><th scope=col>e_acf1</th><th scope=col>e_acf10</th><th scope=col>⋯</th><th scope=col>trough1</th><th scope=col>trough2</th><th scope=col>entropy</th><th scope=col>x_acf1</th><th scope=col>x_acf10</th><th scope=col>diff1_acf1</th><th scope=col>diff1_acf10</th><th scope=col>diff2_acf1</th><th scope=col>diff2_acf10</th><th scope=col>seas_acf1</th></tr>\n",
       "\t<tr><th scope=col>&lt;dbl&gt;</th><th scope=col>&lt;dbl&gt;</th><th scope=col>&lt;dbl&gt;</th><th scope=col>&lt;dbl&gt;</th><th scope=col>&lt;dbl&gt;</th><th scope=col>&lt;dbl&gt;</th><th scope=col>&lt;dbl&gt;</th><th scope=col>&lt;dbl&gt;</th><th scope=col>&lt;dbl&gt;</th><th scope=col>&lt;dbl&gt;</th><th scope=col>⋯</th><th scope=col>&lt;dbl&gt;</th><th scope=col>&lt;dbl&gt;</th><th scope=col>&lt;dbl&gt;</th><th scope=col>&lt;dbl&gt;</th><th scope=col>&lt;dbl&gt;</th><th scope=col>&lt;dbl&gt;</th><th scope=col>&lt;dbl&gt;</th><th scope=col>&lt;dbl&gt;</th><th scope=col>&lt;dbl&gt;</th><th scope=col>&lt;dbl&gt;</th></tr>\n",
       "</thead>\n",
       "<tbody>\n",
       "\t<tr><td>672</td><td>2</td><td>96</td><td>672</td><td>0.04524545</td><td>1.7871660</td><td> 401.41853</td><td>-70.57600</td><td>0.8260487</td><td>3.9629383</td><td>⋯</td><td>44</td><td>357</td><td>0.6668819</td><td>0.9805245</td><td>6.359669</td><td> 0.062382170</td><td>0.23763458</td><td>-0.6324652</td><td>0.4378136</td><td>0.8142246</td></tr>\n",
       "\t<tr><td>672</td><td>2</td><td>96</td><td>672</td><td>0.03397202</td><td>0.1025198</td><td>  51.03854</td><td> 65.12821</td><td>0.4686588</td><td>0.6192512</td><td>⋯</td><td>79</td><td>  2</td><td>0.6373192</td><td>0.9691490</td><td>6.666140</td><td>-0.142832055</td><td>0.05915397</td><td>-0.6091203</td><td>0.3868450</td><td>0.8416136</td></tr>\n",
       "\t<tr><td>672</td><td>2</td><td>96</td><td>672</td><td>0.07414295</td><td>0.1453130</td><td> 109.43050</td><td>289.22413</td><td>0.4314831</td><td>0.3724309</td><td>⋯</td><td>31</td><td>375</td><td>0.6242515</td><td>0.9766606</td><td>7.098263</td><td>-0.101996517</td><td>0.07086743</td><td>-0.5910288</td><td>0.3578037</td><td>0.8420068</td></tr>\n",
       "\t<tr><td>672</td><td>2</td><td>96</td><td>672</td><td>0.04656582</td><td>2.8257168</td><td>-300.58885</td><td> 14.81884</td><td>0.5182204</td><td>0.6470061</td><td>⋯</td><td>95</td><td> 20</td><td>0.6476451</td><td>0.9825183</td><td>6.572835</td><td> 0.123384277</td><td>0.23594217</td><td>-0.6188357</td><td>0.4237040</td><td>0.8603121</td></tr>\n",
       "\t<tr><td>672</td><td>2</td><td>96</td><td>672</td><td>0.32395416</td><td>0.2786917</td><td> 691.13302</td><td>-57.02537</td><td>0.4035557</td><td>0.6414066</td><td>⋯</td><td>35</td><td>633</td><td>0.5452204</td><td>0.9863194</td><td>7.482607</td><td> 0.015309680</td><td>0.21314835</td><td>-0.6136182</td><td>0.3911170</td><td>0.8586035</td></tr>\n",
       "\t<tr><td>672</td><td>2</td><td>96</td><td>672</td><td>0.08106612</td><td>3.2968714</td><td> 146.63715</td><td>576.99568</td><td>0.7109443</td><td>2.1812341</td><td>⋯</td><td>35</td><td>245</td><td>0.5721557</td><td>0.9856025</td><td>7.505656</td><td>-0.001428731</td><td>0.17599982</td><td>-0.6095278</td><td>0.3944185</td><td>0.8349258</td></tr>\n",
       "</tbody>\n",
       "</table>\n"
      ],
      "text/latex": [
       "A tibble: 6 × 24\n",
       "\\begin{tabular}{lllllllllllllllllllll}\n",
       " frequency & nperiods & seasonal\\_period1 & seasonal\\_period2 & trend & spike & linearity & curvature & e\\_acf1 & e\\_acf10 & ⋯ & trough1 & trough2 & entropy & x\\_acf1 & x\\_acf10 & diff1\\_acf1 & diff1\\_acf10 & diff2\\_acf1 & diff2\\_acf10 & seas\\_acf1\\\\\n",
       " <dbl> & <dbl> & <dbl> & <dbl> & <dbl> & <dbl> & <dbl> & <dbl> & <dbl> & <dbl> & ⋯ & <dbl> & <dbl> & <dbl> & <dbl> & <dbl> & <dbl> & <dbl> & <dbl> & <dbl> & <dbl>\\\\\n",
       "\\hline\n",
       "\t 672 & 2 & 96 & 672 & 0.04524545 & 1.7871660 &  401.41853 & -70.57600 & 0.8260487 & 3.9629383 & ⋯ & 44 & 357 & 0.6668819 & 0.9805245 & 6.359669 &  0.062382170 & 0.23763458 & -0.6324652 & 0.4378136 & 0.8142246\\\\\n",
       "\t 672 & 2 & 96 & 672 & 0.03397202 & 0.1025198 &   51.03854 &  65.12821 & 0.4686588 & 0.6192512 & ⋯ & 79 &   2 & 0.6373192 & 0.9691490 & 6.666140 & -0.142832055 & 0.05915397 & -0.6091203 & 0.3868450 & 0.8416136\\\\\n",
       "\t 672 & 2 & 96 & 672 & 0.07414295 & 0.1453130 &  109.43050 & 289.22413 & 0.4314831 & 0.3724309 & ⋯ & 31 & 375 & 0.6242515 & 0.9766606 & 7.098263 & -0.101996517 & 0.07086743 & -0.5910288 & 0.3578037 & 0.8420068\\\\\n",
       "\t 672 & 2 & 96 & 672 & 0.04656582 & 2.8257168 & -300.58885 &  14.81884 & 0.5182204 & 0.6470061 & ⋯ & 95 &  20 & 0.6476451 & 0.9825183 & 6.572835 &  0.123384277 & 0.23594217 & -0.6188357 & 0.4237040 & 0.8603121\\\\\n",
       "\t 672 & 2 & 96 & 672 & 0.32395416 & 0.2786917 &  691.13302 & -57.02537 & 0.4035557 & 0.6414066 & ⋯ & 35 & 633 & 0.5452204 & 0.9863194 & 7.482607 &  0.015309680 & 0.21314835 & -0.6136182 & 0.3911170 & 0.8586035\\\\\n",
       "\t 672 & 2 & 96 & 672 & 0.08106612 & 3.2968714 &  146.63715 & 576.99568 & 0.7109443 & 2.1812341 & ⋯ & 35 & 245 & 0.5721557 & 0.9856025 & 7.505656 & -0.001428731 & 0.17599982 & -0.6095278 & 0.3944185 & 0.8349258\\\\\n",
       "\\end{tabular}\n"
      ],
      "text/markdown": [
       "\n",
       "A tibble: 6 × 24\n",
       "\n",
       "| frequency &lt;dbl&gt; | nperiods &lt;dbl&gt; | seasonal_period1 &lt;dbl&gt; | seasonal_period2 &lt;dbl&gt; | trend &lt;dbl&gt; | spike &lt;dbl&gt; | linearity &lt;dbl&gt; | curvature &lt;dbl&gt; | e_acf1 &lt;dbl&gt; | e_acf10 &lt;dbl&gt; | ⋯ ⋯ | trough1 &lt;dbl&gt; | trough2 &lt;dbl&gt; | entropy &lt;dbl&gt; | x_acf1 &lt;dbl&gt; | x_acf10 &lt;dbl&gt; | diff1_acf1 &lt;dbl&gt; | diff1_acf10 &lt;dbl&gt; | diff2_acf1 &lt;dbl&gt; | diff2_acf10 &lt;dbl&gt; | seas_acf1 &lt;dbl&gt; |\n",
       "|---|---|---|---|---|---|---|---|---|---|---|---|---|---|---|---|---|---|---|---|---|\n",
       "| 672 | 2 | 96 | 672 | 0.04524545 | 1.7871660 |  401.41853 | -70.57600 | 0.8260487 | 3.9629383 | ⋯ | 44 | 357 | 0.6668819 | 0.9805245 | 6.359669 |  0.062382170 | 0.23763458 | -0.6324652 | 0.4378136 | 0.8142246 |\n",
       "| 672 | 2 | 96 | 672 | 0.03397202 | 0.1025198 |   51.03854 |  65.12821 | 0.4686588 | 0.6192512 | ⋯ | 79 |   2 | 0.6373192 | 0.9691490 | 6.666140 | -0.142832055 | 0.05915397 | -0.6091203 | 0.3868450 | 0.8416136 |\n",
       "| 672 | 2 | 96 | 672 | 0.07414295 | 0.1453130 |  109.43050 | 289.22413 | 0.4314831 | 0.3724309 | ⋯ | 31 | 375 | 0.6242515 | 0.9766606 | 7.098263 | -0.101996517 | 0.07086743 | -0.5910288 | 0.3578037 | 0.8420068 |\n",
       "| 672 | 2 | 96 | 672 | 0.04656582 | 2.8257168 | -300.58885 |  14.81884 | 0.5182204 | 0.6470061 | ⋯ | 95 |  20 | 0.6476451 | 0.9825183 | 6.572835 |  0.123384277 | 0.23594217 | -0.6188357 | 0.4237040 | 0.8603121 |\n",
       "| 672 | 2 | 96 | 672 | 0.32395416 | 0.2786917 |  691.13302 | -57.02537 | 0.4035557 | 0.6414066 | ⋯ | 35 | 633 | 0.5452204 | 0.9863194 | 7.482607 |  0.015309680 | 0.21314835 | -0.6136182 | 0.3911170 | 0.8586035 |\n",
       "| 672 | 2 | 96 | 672 | 0.08106612 | 3.2968714 |  146.63715 | 576.99568 | 0.7109443 | 2.1812341 | ⋯ | 35 | 245 | 0.5721557 | 0.9856025 | 7.505656 | -0.001428731 | 0.17599982 | -0.6095278 | 0.3944185 | 0.8349258 |\n",
       "\n"
      ],
      "text/plain": [
       "  frequency nperiods seasonal_period1 seasonal_period2 trend      spike    \n",
       "1 672       2        96               672              0.04524545 1.7871660\n",
       "2 672       2        96               672              0.03397202 0.1025198\n",
       "3 672       2        96               672              0.07414295 0.1453130\n",
       "4 672       2        96               672              0.04656582 2.8257168\n",
       "5 672       2        96               672              0.32395416 0.2786917\n",
       "6 672       2        96               672              0.08106612 3.2968714\n",
       "  linearity  curvature e_acf1    e_acf10   ⋯ trough1 trough2 entropy  \n",
       "1  401.41853 -70.57600 0.8260487 3.9629383 ⋯ 44      357     0.6668819\n",
       "2   51.03854  65.12821 0.4686588 0.6192512 ⋯ 79        2     0.6373192\n",
       "3  109.43050 289.22413 0.4314831 0.3724309 ⋯ 31      375     0.6242515\n",
       "4 -300.58885  14.81884 0.5182204 0.6470061 ⋯ 95       20     0.6476451\n",
       "5  691.13302 -57.02537 0.4035557 0.6414066 ⋯ 35      633     0.5452204\n",
       "6  146.63715 576.99568 0.7109443 2.1812341 ⋯ 35      245     0.5721557\n",
       "  x_acf1    x_acf10  diff1_acf1   diff1_acf10 diff2_acf1 diff2_acf10 seas_acf1\n",
       "1 0.9805245 6.359669  0.062382170 0.23763458  -0.6324652 0.4378136   0.8142246\n",
       "2 0.9691490 6.666140 -0.142832055 0.05915397  -0.6091203 0.3868450   0.8416136\n",
       "3 0.9766606 7.098263 -0.101996517 0.07086743  -0.5910288 0.3578037   0.8420068\n",
       "4 0.9825183 6.572835  0.123384277 0.23594217  -0.6188357 0.4237040   0.8603121\n",
       "5 0.9863194 7.482607  0.015309680 0.21314835  -0.6136182 0.3911170   0.8586035\n",
       "6 0.9856025 7.505656 -0.001428731 0.17599982  -0.6095278 0.3944185   0.8349258"
      ]
     },
     "metadata": {},
     "output_type": "display_data"
    }
   ],
   "source": [
    "# Sanity check and inspect the summary\n",
    "head(ts_feat_list)"
   ]
  },
  {
   "cell_type": "code",
   "execution_count": 60,
   "id": "6f9b7b55",
   "metadata": {},
   "outputs": [
    {
     "data": {
      "text/plain": [
       "   frequency      nperiods seasonal_period1 seasonal_period2     trend        \n",
       " Min.   :672   Min.   :2   Min.   :96       Min.   :672      Min.   :0.02012  \n",
       " 1st Qu.:672   1st Qu.:2   1st Qu.:96       1st Qu.:672      1st Qu.:0.07360  \n",
       " Median :672   Median :2   Median :96       Median :672      Median :0.13166  \n",
       " Mean   :672   Mean   :2   Mean   :96       Mean   :672      Mean   :0.16886  \n",
       " 3rd Qu.:672   3rd Qu.:2   3rd Qu.:96       3rd Qu.:672      3rd Qu.:0.24688  \n",
       " Max.   :672   Max.   :2   Max.   :96       Max.   :672      Max.   :0.67756  \n",
       "     spike           linearity          curvature             e_acf1      \n",
       " Min.   : 0.0001   Min.   :-1444.07   Min.   :-1144.412   Min.   :0.1459  \n",
       " 1st Qu.: 0.0401   1st Qu.: -202.47   1st Qu.: -197.149   1st Qu.:0.4874  \n",
       " Median : 0.1535   Median :  107.91   Median :   -6.804   Median :0.5615  \n",
       " Mean   : 2.6742   Mean   :   86.56   Mean   :  -35.651   Mean   :0.5717  \n",
       " 3rd Qu.: 1.4251   3rd Qu.:  425.55   3rd Qu.:  142.497   3rd Qu.:0.6813  \n",
       " Max.   :41.3869   Max.   : 1665.07   Max.   :  676.552   Max.   :0.8528  \n",
       "    e_acf10       seasonal_strength1 seasonal_strength2     peak1      \n",
       " Min.   :0.1345   Min.   :0.8424     Min.   :0.2994     Min.   : 4.00  \n",
       " 1st Qu.:0.7623   1st Qu.:0.9406     1st Qu.:0.6925     1st Qu.:25.00  \n",
       " Median :1.4031   Median :0.9601     Median :0.7679     Median :48.50  \n",
       " Mean   :1.5909   Mean   :0.9538     Mean   :0.7522     Mean   :50.29  \n",
       " 3rd Qu.:2.2600   3rd Qu.:0.9747     3rd Qu.:0.8454     3rd Qu.:75.00  \n",
       " Max.   :3.9629   Max.   :0.9905     Max.   :0.9551     Max.   :96.00  \n",
       "     peak2          trough1         trough2         entropy      \n",
       " Min.   :  2.0   Min.   : 2.00   Min.   :  2.0   Min.   :0.4726  \n",
       " 1st Qu.:161.2   1st Qu.:23.00   1st Qu.:221.5   1st Qu.:0.6061  \n",
       " Median :330.5   Median :44.00   Median :371.0   Median :0.6387  \n",
       " Mean   :333.1   Mean   :47.62   Mean   :360.6   Mean   :0.6421  \n",
       " 3rd Qu.:501.5   3rd Qu.:77.25   3rd Qu.:542.8   3rd Qu.:0.6799  \n",
       " Max.   :657.0   Max.   :96.00   Max.   :649.0   Max.   :0.7496  \n",
       "     x_acf1          x_acf10        diff1_acf1        diff1_acf10     \n",
       " Min.   :0.8539   Min.   :4.726   Min.   :-0.49072   Min.   :0.03409  \n",
       " 1st Qu.:0.9570   1st Qu.:6.330   1st Qu.:-0.23763   1st Qu.:0.08315  \n",
       " Median :0.9724   Median :6.733   Median :-0.10757   Median :0.11365  \n",
       " Mean   :0.9649   Mean   :6.637   Mean   :-0.09529   Mean   :0.14260  \n",
       " 3rd Qu.:0.9804   3rd Qu.:7.069   3rd Qu.: 0.04223   3rd Qu.:0.17758  \n",
       " Max.   :0.9863   Max.   :7.784   Max.   : 0.31299   Max.   :0.48205  \n",
       "   diff2_acf1       diff2_acf10       seas_acf1     \n",
       " Min.   :-0.6723   Min.   :0.2530   Min.   :0.6196  \n",
       " 1st Qu.:-0.6329   1st Qu.:0.3490   1st Qu.:0.7974  \n",
       " Median :-0.5990   Median :0.3866   Median :0.8263  \n",
       " Mean   :-0.5973   Mean   :0.3973   Mean   :0.8129  \n",
       " 3rd Qu.:-0.5756   3rd Qu.:0.4552   3rd Qu.:0.8403  \n",
       " Max.   :-0.3864   Max.   :0.5747   Max.   :0.8664  "
      ]
     },
     "metadata": {},
     "output_type": "display_data"
    }
   ],
   "source": [
    "summary(ts_feat_list)"
   ]
  },
  {
   "cell_type": "code",
   "execution_count": 61,
   "id": "76156463",
   "metadata": {},
   "outputs": [
    {
     "data": {
      "text/html": [
       "<style>\n",
       ".list-inline {list-style: none; margin:0; padding: 0}\n",
       ".list-inline>li {display: inline-block}\n",
       ".list-inline>li:not(:last-child)::after {content: \"\\00b7\"; padding: 0 .5ex}\n",
       "</style>\n",
       "<ol class=list-inline><li>'frequency'</li><li>'nperiods'</li><li>'seasonal_period1'</li><li>'seasonal_period2'</li></ol>\n"
      ],
      "text/latex": [
       "\\begin{enumerate*}\n",
       "\\item 'frequency'\n",
       "\\item 'nperiods'\n",
       "\\item 'seasonal\\_period1'\n",
       "\\item 'seasonal\\_period2'\n",
       "\\end{enumerate*}\n"
      ],
      "text/markdown": [
       "1. 'frequency'\n",
       "2. 'nperiods'\n",
       "3. 'seasonal_period1'\n",
       "4. 'seasonal_period2'\n",
       "\n",
       "\n"
      ],
      "text/plain": [
       "[1] \"frequency\"        \"nperiods\"         \"seasonal_period1\" \"seasonal_period2\""
      ]
     },
     "metadata": {},
     "output_type": "display_data"
    }
   ],
   "source": [
    "# Check for features where the lower and upper quantiles and median are identical - these likely do not provide\n",
    "# enough useful information to include them for clustering\n",
    "rownames(data.frame(t(sapply(ts_feat_list, function(i) quantile(i, c(0.25, 0.5, 0.75))))) %>%\n",
    "    mutate(is_lower_equal_med = ifelse(X25.==X50., TRUE, FALSE)) %>%\n",
    "    mutate(is_upper_equal_med = ifelse(X50.==X75., TRUE, FALSE)) %>%\n",
    "    mutate(all_same = is_lower_equal_med+is_upper_equal_med) %>%\n",
    "    filter(all_same==2))"
   ]
  },
  {
   "cell_type": "code",
   "execution_count": 62,
   "id": "8c2c431e",
   "metadata": {},
   "outputs": [],
   "source": [
    "# Remove features with very low variation\n",
    "ts_feat_list <- ts_feat_list%>% select(-c(frequency, nperiods, seasonal_period1, seasonal_period2))"
   ]
  },
  {
   "cell_type": "code",
   "execution_count": 63,
   "id": "7a8f1050",
   "metadata": {},
   "outputs": [],
   "source": [
    "write.csv(ts_feat_list, \"Results/Clustering/KMeans/tsfeat_feat_df.csv\")"
   ]
  },
  {
   "cell_type": "code",
   "execution_count": 64,
   "id": "7c855f6c",
   "metadata": {},
   "outputs": [],
   "source": [
    "# Scale features to unit interval to be consistent with how we used Catch22 features\n",
    "ts_feat_list_df_scaled <- ts_feat_list\n",
    "\n",
    "# Scale by looping through each feature and subtracting the min and dividing by the range\n",
    "for (n in 1:ncol(ts_feat_list_df_scaled)){\n",
    "    min_n <- min(ts_feat_list_df_scaled[,n])\n",
    "    max_n <- max(ts_feat_list_df_scaled[,n])\n",
    "    ts_feat_list_df_scaled[,n] <- (ts_feat_list_df_scaled[,n] - min_n)/(max_n - min_n)\n",
    "}"
   ]
  },
  {
   "cell_type": "markdown",
   "id": "aff145c9",
   "metadata": {},
   "source": [
    "## K-Means Clustering with TS Features"
   ]
  },
  {
   "cell_type": "code",
   "execution_count": 65,
   "id": "1950948f",
   "metadata": {},
   "outputs": [
    {
     "data": {
      "image/png": "[encoded data removed]",
      "text/plain": [
       "plot without title"
      ]
     },
     "metadata": {
      "image/png": {
       "height": 420,
       "width": 420
      }
     },
     "output_type": "display_data"
    }
   ],
   "source": [
    "# Cluster using the Eblow Method based on WSS\n",
    "set.seed(54321)\n",
    "wss_tsfeat <- fviz_nbclust(ts_feat_list_df_scaled, \n",
    "             kmeans, \n",
    "             method = \"wss\", \n",
    "             k.max=12, \n",
    "             iter.max=1000, \n",
    "             nstart=100, \n",
    "             algorithm=\"Hartigan-Wong\") + \n",
    "labs(title=\"WSS for TSFeat-Based Clusters\")\n",
    "\n",
    "wss_tsfeat\n",
    "# No clear best number"
   ]
  },
  {
   "cell_type": "code",
   "execution_count": 66,
   "id": "4948c08a",
   "metadata": {},
   "outputs": [],
   "source": [
    "ggsave(\"Results/Clustering/KMeans/wss_tsfeat.png\", wss_tsfeat, width=10, height=5)"
   ]
  },
  {
   "cell_type": "code",
   "execution_count": 67,
   "id": "4d754705",
   "metadata": {},
   "outputs": [
    {
     "data": {
      "image/png": "[encoded data removed]",
      "text/plain": [
       "plot without title"
      ]
     },
     "metadata": {
      "image/png": {
       "height": 420,
       "width": 420
      }
     },
     "output_type": "display_data"
    }
   ],
   "source": [
    "# Let's try the silhouette method instead\n",
    "set.seed(54321)\n",
    "sil_tsfeat <- fviz_nbclust(ts_feat_list_df_scaled,  \n",
    "             kmeans, \n",
    "             method=\"silhouette\", \n",
    "             k.max=12, \n",
    "             iter.max=10000, \n",
    "             nstart=500, \n",
    "             algorithm=\"Hartigan-Wong\") + \n",
    "labs(title=\"Average Silhouette Width for TSFeat-Based Clusters\")\n",
    "\n",
    "sil_tsfeat\n",
    "# Much clearer indication of 6 being optimal, with 3 another potential option"
   ]
  },
  {
   "cell_type": "code",
   "execution_count": 68,
   "id": "9515918e",
   "metadata": {},
   "outputs": [],
   "source": [
    "ggsave(\"Results/Clustering/KMeans/sil_tsfeat.png\", sil_tsfeat, width=10, height=5)"
   ]
  },
  {
   "cell_type": "code",
   "execution_count": 69,
   "id": "49cf14fc",
   "metadata": {},
   "outputs": [],
   "source": [
    "# Inspect further results for 3 best looking options\n",
    "# Choose the K's\n",
    "k1 <- 2\n",
    "k2 <- 3\n",
    "\n",
    "# Create the clusters\n",
    "set.seed(54321)\n",
    "kmeans_clust1 <- kmeans(ts_feat_list_df_scaled, \n",
    "                        k1, iter.max=10000, nstart=500, algorithm=\"Hartigan-Wong\") \n",
    "set.seed(54321)\n",
    "kmeans_clust2 <- kmeans(ts_feat_list_df_scaled, \n",
    "                        k2, iter.max=10000, nstart=500, algorithm=\"Hartigan-Wong\")  "
   ]
  },
  {
   "cell_type": "code",
   "execution_count": 70,
   "id": "6f373fbf",
   "metadata": {},
   "outputs": [],
   "source": [
    "# Compute distance matrix\n",
    "D <- dist(ts_feat_list_df_scaled) # daisy(ts_feat_list_df_scaled)"
   ]
  },
  {
   "cell_type": "code",
   "execution_count": 71,
   "id": "6de10f4e",
   "metadata": {},
   "outputs": [],
   "source": [
    "sil_tsfeat_k1 <- silhouette(kmeans_clust1$cluster, D) "
   ]
  },
  {
   "cell_type": "code",
   "execution_count": 72,
   "id": "36aeeff8",
   "metadata": {},
   "outputs": [
    {
     "data": {
      "image/png": "[encoded data removed]",
      "text/plain": [
       "Plot with title “Silhouette plot of (x = kmeans_clust1$cluster, dist = D)”"
      ]
     },
     "metadata": {
      "image/png": {
       "height": 420,
       "width": 420
      }
     },
     "output_type": "display_data"
    }
   ],
   "source": [
    "plot(sil_tsfeat_k1)"
   ]
  },
  {
   "cell_type": "code",
   "execution_count": 73,
   "id": "446a8183",
   "metadata": {},
   "outputs": [
    {
     "name": "stdout",
     "output_type": "stream",
     "text": [
      "  cluster size ave.sil.width\n",
      "1       1   52          0.13\n",
      "2       2   24          0.16\n"
     ]
    },
    {
     "data": {
      "image/png": "[encoded data removed]",
      "text/plain": [
       "plot without title"
      ]
     },
     "metadata": {
      "image/png": {
       "height": 420,
       "width": 420
      }
     },
     "output_type": "display_data"
    }
   ],
   "source": [
    "sil_tsfeat_k1_plot <- fviz_silhouette(sil_tsfeat_k1) + \n",
    "    ggtitle(\"Silhouette Width for TSFeat-Based Clusters with K=2\")\n",
    "sil_tsfeat_k1_plot$layers[[2]]$aes_params$colour <- \"black\"\n",
    "\n",
    "sil_tsfeat_k1_plot"
   ]
  },
  {
   "cell_type": "code",
   "execution_count": 74,
   "id": "e3531dda",
   "metadata": {},
   "outputs": [],
   "source": [
    "ggsave(\"Results/Clustering/KMeans/avg_sil_tsfeat_k2.png\", sil_tsfeat_k1_plot, width=10, height=5)"
   ]
  },
  {
   "cell_type": "code",
   "execution_count": 75,
   "id": "81d72d3c",
   "metadata": {},
   "outputs": [],
   "source": [
    "sil_tsfeat_k2 <- silhouette(kmeans_clust2$cluster, D) "
   ]
  },
  {
   "cell_type": "code",
   "execution_count": 76,
   "id": "b2933b4d",
   "metadata": {},
   "outputs": [
    {
     "data": {
      "image/png": "[encoded data removed]",
      "text/plain": [
       "Plot with title “Silhouette plot of (x = kmeans_clust2$cluster, dist = D)”"
      ]
     },
     "metadata": {
      "image/png": {
       "height": 420,
       "width": 420
      }
     },
     "output_type": "display_data"
    }
   ],
   "source": [
    "plot(sil_tsfeat_k2)"
   ]
  },
  {
   "cell_type": "code",
   "execution_count": 77,
   "id": "0cb5b49e",
   "metadata": {},
   "outputs": [
    {
     "name": "stdout",
     "output_type": "stream",
     "text": [
      "  cluster size ave.sil.width\n",
      "1       1   25          0.09\n",
      "2       2   33          0.16\n",
      "3       3   18          0.15\n"
     ]
    },
    {
     "data": {
      "image/png": "[encoded data removed]",
      "text/plain": [
       "plot without title"
      ]
     },
     "metadata": {
      "image/png": {
       "height": 420,
       "width": 420
      }
     },
     "output_type": "display_data"
    }
   ],
   "source": [
    "sil_tsfeat_k2_plot <- fviz_silhouette(sil_tsfeat_k2) + \n",
    "    ggtitle(\"Silhouette Width for TSFeat-Based Clusters with K=3\")\n",
    "sil_tsfeat_k2_plot$layers[[2]]$aes_params$colour <- \"black\"\n",
    "\n",
    "sil_tsfeat_k2_plot"
   ]
  },
  {
   "cell_type": "code",
   "execution_count": 78,
   "id": "e3d55d74",
   "metadata": {},
   "outputs": [],
   "source": [
    "ggsave(\"Results/Clustering/KMeans/avg_sil_tsfeat_k3.png\", sil_tsfeat_k2_plot, width=10, height=5)"
   ]
  },
  {
   "cell_type": "code",
   "execution_count": 79,
   "id": "f055fa89",
   "metadata": {},
   "outputs": [],
   "source": [
    "# We choose k=2 - it is the simplest solution with the best average width\n",
    "set.seed(54321)\n",
    "kfinal <- 2\n",
    "kmeans_final <- kmeans(ts_feat_list_df_scaled,\n",
    "                       kfinal, iter.max=10000, nstart=500, algorithm=\"Hartigan-Wong\") "
   ]
  },
  {
   "cell_type": "code",
   "execution_count": 80,
   "id": "31c159a3",
   "metadata": {},
   "outputs": [],
   "source": [
    "# Save the results in an RData file\n",
    "saveRDS(kmeans_final, \n",
    "        file=\"Results/Clustering/KMeans/kmeans_tsfeat.RData\")"
   ]
  },
  {
   "cell_type": "code",
   "execution_count": 81,
   "id": "6c3f764b",
   "metadata": {},
   "outputs": [
    {
     "data": {
      "text/html": [
       "<style>\n",
       ".list-inline {list-style: none; margin:0; padding: 0}\n",
       ".list-inline>li {display: inline-block}\n",
       ".list-inline>li:not(:last-child)::after {content: \"\\00b7\"; padding: 0 .5ex}\n",
       "</style>\n",
       "<ol class=list-inline><li>1</li><li>1</li><li>1</li><li>1</li><li>1</li><li>1</li><li>1</li><li>2</li><li>1</li><li>1</li><li>2</li><li>1</li><li>1</li><li>2</li><li>1</li><li>1</li><li>1</li><li>1</li><li>1</li><li>2</li><li>1</li><li>1</li><li>1</li><li>1</li><li>1</li><li>1</li><li>1</li><li>1</li><li>1</li><li>1</li><li>1</li><li>1</li><li>1</li><li>1</li><li>1</li><li>1</li><li>1</li><li>1</li><li>2</li><li>2</li><li>1</li><li>2</li><li>2</li><li>1</li><li>2</li><li>2</li><li>1</li><li>2</li><li>2</li><li>2</li><li>2</li><li>2</li><li>1</li><li>2</li><li>2</li><li>2</li><li>1</li><li>1</li><li>1</li><li>1</li><li>1</li><li>2</li><li>2</li><li>1</li><li>1</li><li>2</li><li>2</li><li>1</li><li>1</li><li>1</li><li>2</li><li>2</li><li>1</li><li>1</li><li>1</li><li>1</li></ol>\n"
      ],
      "text/latex": [
       "\\begin{enumerate*}\n",
       "\\item 1\n",
       "\\item 1\n",
       "\\item 1\n",
       "\\item 1\n",
       "\\item 1\n",
       "\\item 1\n",
       "\\item 1\n",
       "\\item 2\n",
       "\\item 1\n",
       "\\item 1\n",
       "\\item 2\n",
       "\\item 1\n",
       "\\item 1\n",
       "\\item 2\n",
       "\\item 1\n",
       "\\item 1\n",
       "\\item 1\n",
       "\\item 1\n",
       "\\item 1\n",
       "\\item 2\n",
       "\\item 1\n",
       "\\item 1\n",
       "\\item 1\n",
       "\\item 1\n",
       "\\item 1\n",
       "\\item 1\n",
       "\\item 1\n",
       "\\item 1\n",
       "\\item 1\n",
       "\\item 1\n",
       "\\item 1\n",
       "\\item 1\n",
       "\\item 1\n",
       "\\item 1\n",
       "\\item 1\n",
       "\\item 1\n",
       "\\item 1\n",
       "\\item 1\n",
       "\\item 2\n",
       "\\item 2\n",
       "\\item 1\n",
       "\\item 2\n",
       "\\item 2\n",
       "\\item 1\n",
       "\\item 2\n",
       "\\item 2\n",
       "\\item 1\n",
       "\\item 2\n",
       "\\item 2\n",
       "\\item 2\n",
       "\\item 2\n",
       "\\item 2\n",
       "\\item 1\n",
       "\\item 2\n",
       "\\item 2\n",
       "\\item 2\n",
       "\\item 1\n",
       "\\item 1\n",
       "\\item 1\n",
       "\\item 1\n",
       "\\item 1\n",
       "\\item 2\n",
       "\\item 2\n",
       "\\item 1\n",
       "\\item 1\n",
       "\\item 2\n",
       "\\item 2\n",
       "\\item 1\n",
       "\\item 1\n",
       "\\item 1\n",
       "\\item 2\n",
       "\\item 2\n",
       "\\item 1\n",
       "\\item 1\n",
       "\\item 1\n",
       "\\item 1\n",
       "\\end{enumerate*}\n"
      ],
      "text/markdown": [
       "1. 1\n",
       "2. 1\n",
       "3. 1\n",
       "4. 1\n",
       "5. 1\n",
       "6. 1\n",
       "7. 1\n",
       "8. 2\n",
       "9. 1\n",
       "10. 1\n",
       "11. 2\n",
       "12. 1\n",
       "13. 1\n",
       "14. 2\n",
       "15. 1\n",
       "16. 1\n",
       "17. 1\n",
       "18. 1\n",
       "19. 1\n",
       "20. 2\n",
       "21. 1\n",
       "22. 1\n",
       "23. 1\n",
       "24. 1\n",
       "25. 1\n",
       "26. 1\n",
       "27. 1\n",
       "28. 1\n",
       "29. 1\n",
       "30. 1\n",
       "31. 1\n",
       "32. 1\n",
       "33. 1\n",
       "34. 1\n",
       "35. 1\n",
       "36. 1\n",
       "37. 1\n",
       "38. 1\n",
       "39. 2\n",
       "40. 2\n",
       "41. 1\n",
       "42. 2\n",
       "43. 2\n",
       "44. 1\n",
       "45. 2\n",
       "46. 2\n",
       "47. 1\n",
       "48. 2\n",
       "49. 2\n",
       "50. 2\n",
       "51. 2\n",
       "52. 2\n",
       "53. 1\n",
       "54. 2\n",
       "55. 2\n",
       "56. 2\n",
       "57. 1\n",
       "58. 1\n",
       "59. 1\n",
       "60. 1\n",
       "61. 1\n",
       "62. 2\n",
       "63. 2\n",
       "64. 1\n",
       "65. 1\n",
       "66. 2\n",
       "67. 2\n",
       "68. 1\n",
       "69. 1\n",
       "70. 1\n",
       "71. 2\n",
       "72. 2\n",
       "73. 1\n",
       "74. 1\n",
       "75. 1\n",
       "76. 1\n",
       "\n",
       "\n"
      ],
      "text/plain": [
       " [1] 1 1 1 1 1 1 1 2 1 1 2 1 1 2 1 1 1 1 1 2 1 1 1 1 1 1 1 1 1 1 1 1 1 1 1 1 1 1\n",
       "[39] 2 2 1 2 2 1 2 2 1 2 2 2 2 2 1 2 2 2 1 1 1 1 1 2 2 1 1 2 2 1 1 1 2 2 1 1 1 1"
      ]
     },
     "metadata": {},
     "output_type": "display_data"
    }
   ],
   "source": [
    "# Print cluster assignments\n",
    "kmeans_final$cluster"
   ]
  },
  {
   "cell_type": "code",
   "execution_count": 82,
   "id": "270076c3",
   "metadata": {},
   "outputs": [],
   "source": [
    "# Format cluster assignments into a df\n",
    "kmeans_clust_df <- data.frame(ts_index=1:length(kmeans_final$cluster), \n",
    "                              kmeans_tsfeat_clust_assign=kmeans_final$cluster)"
   ]
  },
  {
   "cell_type": "code",
   "execution_count": 83,
   "id": "ee4d0e7c",
   "metadata": {},
   "outputs": [
    {
     "data": {
      "text/html": [
       "<table class=\"dataframe\">\n",
       "<caption>A data.frame: 6 × 2</caption>\n",
       "<thead>\n",
       "\t<tr><th></th><th scope=col>ts_index</th><th scope=col>kmeans_tsfeat_clust_assign</th></tr>\n",
       "\t<tr><th></th><th scope=col>&lt;int&gt;</th><th scope=col>&lt;int&gt;</th></tr>\n",
       "</thead>\n",
       "<tbody>\n",
       "\t<tr><th scope=row>1</th><td>1</td><td>1</td></tr>\n",
       "\t<tr><th scope=row>2</th><td>2</td><td>1</td></tr>\n",
       "\t<tr><th scope=row>3</th><td>3</td><td>1</td></tr>\n",
       "\t<tr><th scope=row>4</th><td>4</td><td>1</td></tr>\n",
       "\t<tr><th scope=row>5</th><td>5</td><td>1</td></tr>\n",
       "\t<tr><th scope=row>6</th><td>6</td><td>1</td></tr>\n",
       "</tbody>\n",
       "</table>\n"
      ],
      "text/latex": [
       "A data.frame: 6 × 2\n",
       "\\begin{tabular}{r|ll}\n",
       "  & ts\\_index & kmeans\\_tsfeat\\_clust\\_assign\\\\\n",
       "  & <int> & <int>\\\\\n",
       "\\hline\n",
       "\t1 & 1 & 1\\\\\n",
       "\t2 & 2 & 1\\\\\n",
       "\t3 & 3 & 1\\\\\n",
       "\t4 & 4 & 1\\\\\n",
       "\t5 & 5 & 1\\\\\n",
       "\t6 & 6 & 1\\\\\n",
       "\\end{tabular}\n"
      ],
      "text/markdown": [
       "\n",
       "A data.frame: 6 × 2\n",
       "\n",
       "| <!--/--> | ts_index &lt;int&gt; | kmeans_tsfeat_clust_assign &lt;int&gt; |\n",
       "|---|---|---|\n",
       "| 1 | 1 | 1 |\n",
       "| 2 | 2 | 1 |\n",
       "| 3 | 3 | 1 |\n",
       "| 4 | 4 | 1 |\n",
       "| 5 | 5 | 1 |\n",
       "| 6 | 6 | 1 |\n",
       "\n"
      ],
      "text/plain": [
       "  ts_index kmeans_tsfeat_clust_assign\n",
       "1 1        1                         \n",
       "2 2        1                         \n",
       "3 3        1                         \n",
       "4 4        1                         \n",
       "5 5        1                         \n",
       "6 6        1                         "
      ]
     },
     "metadata": {},
     "output_type": "display_data"
    }
   ],
   "source": [
    "head(kmeans_clust_df)"
   ]
  },
  {
   "cell_type": "code",
   "execution_count": 84,
   "id": "a4c38865",
   "metadata": {},
   "outputs": [],
   "source": [
    "# Save the df to a csv file for future use\n",
    "write.csv(kmeans_clust_df, \n",
    "          \"Results/Clustering/KMeans/kmeans_tsfeat_clustering_assign.csv\", \n",
    "          row.names=FALSE)"
   ]
  },
  {
   "cell_type": "markdown",
   "id": "f04e7111",
   "metadata": {},
   "source": [
    "# K-Medoids Clustering on Raw Time Series"
   ]
  },
  {
   "cell_type": "code",
   "execution_count": 85,
   "id": "5de20aee",
   "metadata": {},
   "outputs": [
    {
     "name": "stdout",
     "output_type": "stream",
     "text": [
      "\n",
      "\tPrecomputing distance matrix...\n",
      "\n"
     ]
    },
    {
     "name": "stderr",
     "output_type": "stream",
     "text": [
      "Repetition 1 for k = 2\n",
      "\n"
     ]
    },
    {
     "name": "stdout",
     "output_type": "stream",
     "text": [
      "Iteration 1: Changes / Distsum = 76 / 48882793\n",
      "Iteration 2: Changes / Distsum = 13 / 29522034\n",
      "Iteration 3: Changes / Distsum = 9 / 27466548\n",
      "Iteration 4: Changes / Distsum = 11 / 25081948\n",
      "Iteration 5: Changes / Distsum = 8 / 21838090\n",
      "Iteration 6: Changes / Distsum = 2 / 21178702\n",
      "Iteration 7: Changes / Distsum = 0 / 21178702\n",
      "\n"
     ]
    },
    {
     "name": "stderr",
     "output_type": "stream",
     "text": [
      "Repetition 1 for k = 3\n",
      "\n"
     ]
    },
    {
     "name": "stdout",
     "output_type": "stream",
     "text": [
      "Iteration 1: Changes / Distsum = 76 / 21366880\n",
      "Iteration 2: Changes / Distsum = 1 / 17977236\n",
      "Iteration 3: Changes / Distsum = 0 / 17977236\n",
      "\n"
     ]
    },
    {
     "name": "stderr",
     "output_type": "stream",
     "text": [
      "Repetition 1 for k = 4\n",
      "\n"
     ]
    },
    {
     "name": "stdout",
     "output_type": "stream",
     "text": [
      "Iteration 1: Changes / Distsum = 76 / 28403230\n",
      "Iteration 2: Changes / Distsum = 18 / 17309848\n",
      "Iteration 3: Changes / Distsum = 1 / 17198462\n",
      "Iteration 4: Changes / Distsum = 0 / 17198462\n",
      "\n"
     ]
    },
    {
     "name": "stderr",
     "output_type": "stream",
     "text": [
      "Repetition 1 for k = 5\n",
      "\n"
     ]
    },
    {
     "name": "stdout",
     "output_type": "stream",
     "text": [
      "Iteration 1: Changes / Distsum = 76 / 22398099\n",
      "Iteration 2: Changes / Distsum = 10 / 16667736\n",
      "Iteration 3: Changes / Distsum = 0 / 16667736\n",
      "\n"
     ]
    },
    {
     "name": "stderr",
     "output_type": "stream",
     "text": [
      "Repetition 1 for k = 6\n",
      "\n"
     ]
    },
    {
     "name": "stdout",
     "output_type": "stream",
     "text": [
      "Iteration 1: Changes / Distsum = 76 / 20058729\n",
      "Iteration 2: Changes / Distsum = 13 / 16217950\n",
      "Iteration 3: Changes / Distsum = 7 / 14919477\n",
      "Iteration 4: Changes / Distsum = 5 / 14858180\n",
      "Iteration 5: Changes / Distsum = 0 / 14858180\n",
      "\n"
     ]
    },
    {
     "name": "stderr",
     "output_type": "stream",
     "text": [
      "Repetition 1 for k = 7\n",
      "\n"
     ]
    },
    {
     "name": "stdout",
     "output_type": "stream",
     "text": [
      "Iteration 1: Changes / Distsum = 76 / 18907562\n",
      "Iteration 2: Changes / Distsum = 10 / 15931280\n",
      "Iteration 3: Changes / Distsum = 6 / 15684996\n",
      "Iteration 4: Changes / Distsum = 0 / 15684996\n",
      "\n"
     ]
    },
    {
     "name": "stderr",
     "output_type": "stream",
     "text": [
      "Repetition 1 for k = 8\n",
      "\n"
     ]
    },
    {
     "name": "stdout",
     "output_type": "stream",
     "text": [
      "Iteration 1: Changes / Distsum = 76 / 18409872\n",
      "Iteration 2: Changes / Distsum = 19 / 15431546\n",
      "Iteration 3: Changes / Distsum = 12 / 14226661\n",
      "Iteration 4: Changes / Distsum = 1 / 13968878\n",
      "Iteration 5: Changes / Distsum = 0 / 13968878\n",
      "\n"
     ]
    },
    {
     "name": "stderr",
     "output_type": "stream",
     "text": [
      "Repetition 1 for k = 9\n",
      "\n"
     ]
    },
    {
     "name": "stdout",
     "output_type": "stream",
     "text": [
      "Iteration 1: Changes / Distsum = 76 / 16144896\n",
      "Iteration 2: Changes / Distsum = 10 / 15083237\n",
      "Iteration 3: Changes / Distsum = 3 / 14971431\n",
      "Iteration 4: Changes / Distsum = 0 / 14971431\n",
      "\n"
     ]
    },
    {
     "name": "stderr",
     "output_type": "stream",
     "text": [
      "Repetition 1 for k = 10\n",
      "\n"
     ]
    },
    {
     "name": "stdout",
     "output_type": "stream",
     "text": [
      "Iteration 1: Changes / Distsum = 76 / 16555205\n",
      "Iteration 2: Changes / Distsum = 24 / 13096320\n",
      "Iteration 3: Changes / Distsum = 1 / 13068710\n",
      "Iteration 4: Changes / Distsum = 2 / 13024572\n",
      "Iteration 5: Changes / Distsum = 0 / 13024572\n",
      "\n"
     ]
    },
    {
     "name": "stderr",
     "output_type": "stream",
     "text": [
      "Repetition 1 for k = 11\n",
      "\n"
     ]
    },
    {
     "name": "stdout",
     "output_type": "stream",
     "text": [
      "Iteration 1: Changes / Distsum = 76 / 24976178\n",
      "Iteration 2: Changes / Distsum = 11 / 16155206\n",
      "Iteration 3: Changes / Distsum = 4 / 15787392\n",
      "Iteration 4: Changes / Distsum = 0 / 15726653\n",
      "\n"
     ]
    },
    {
     "name": "stderr",
     "output_type": "stream",
     "text": [
      "Repetition 1 for k = 12\n",
      "\n"
     ]
    },
    {
     "name": "stdout",
     "output_type": "stream",
     "text": [
      "Iteration 1: Changes / Distsum = 76 / 13714237\n",
      "Iteration 2: Changes / Distsum = 17 / 12602140\n",
      "Iteration 3: Changes / Distsum = 3 / 12556903\n",
      "Iteration 4: Changes / Distsum = 0 / 12556903\n",
      "\n",
      "\tElapsed time is 145.714 seconds.\n",
      "\n"
     ]
    }
   ],
   "source": [
    "# Create pam (medoids) clusters using the dtw distance metric between the raw time series rather than computing\n",
    "# features first. We try K=2:12 to find an optimal value\n",
    "dtw_clusters <- tsclust(train_samples_ts, \n",
    "                        k=2:12, \n",
    "                        type=\"partitional\", \n",
    "                        distance = \"dtw_basic\", \n",
    "                        centroid = \"pam\",\n",
    "                        seed=54321,\n",
    "                        trace=TRUE\n",
    "                       )"
   ]
  },
  {
   "cell_type": "code",
   "execution_count": 86,
   "id": "aac46fa9",
   "metadata": {},
   "outputs": [],
   "source": [
    "# Create a list of cluster quality for each K\n",
    "dtw_cluster_quality <- lapply(dtw_clusters, cvi)"
   ]
  },
  {
   "cell_type": "code",
   "execution_count": 87,
   "id": "eec45e1a",
   "metadata": {},
   "outputs": [],
   "source": [
    "# Turn that list into a df\n",
    "dtw_cluster_quality_df <- data.frame(do.call(\"rbind\", dtw_cluster_quality))"
   ]
  },
  {
   "cell_type": "code",
   "execution_count": 88,
   "id": "40773169",
   "metadata": {},
   "outputs": [
    {
     "data": {
      "text/html": [
       "<table class=\"dataframe\">\n",
       "<caption>A data.frame: 11 × 7</caption>\n",
       "<thead>\n",
       "\t<tr><th scope=col>Sil</th><th scope=col>SF</th><th scope=col>CH</th><th scope=col>DB</th><th scope=col>DBstar</th><th scope=col>D</th><th scope=col>COP</th></tr>\n",
       "\t<tr><th scope=col>&lt;dbl&gt;</th><th scope=col>&lt;dbl&gt;</th><th scope=col>&lt;dbl&gt;</th><th scope=col>&lt;dbl&gt;</th><th scope=col>&lt;dbl&gt;</th><th scope=col>&lt;dbl&gt;</th><th scope=col>&lt;dbl&gt;</th></tr>\n",
       "</thead>\n",
       "<tbody>\n",
       "\t<tr><td>0.66834012</td><td>0</td><td>93.51513</td><td>0.5703287</td><td>0.5703287</td><td>0.09323396</td><td>0.19186189</td></tr>\n",
       "\t<tr><td>0.45474960</td><td>0</td><td>62.41023</td><td>1.0821090</td><td>1.8284635</td><td>0.07488925</td><td>0.13339877</td></tr>\n",
       "\t<tr><td>0.32363901</td><td>0</td><td>42.98229</td><td>1.0567137</td><td>2.1596081</td><td>0.06367784</td><td>0.11717964</td></tr>\n",
       "\t<tr><td>0.24637949</td><td>0</td><td>33.63636</td><td>1.5064870</td><td>2.6408581</td><td>0.07232007</td><td>0.10498518</td></tr>\n",
       "\t<tr><td>0.21766076</td><td>0</td><td>31.93582</td><td>1.3445337</td><td>3.0488670</td><td>0.12060646</td><td>0.09681783</td></tr>\n",
       "\t<tr><td>0.22508008</td><td>0</td><td>22.83161</td><td>1.3174245</td><td>2.8535753</td><td>0.06239187</td><td>0.09921761</td></tr>\n",
       "\t<tr><td>0.24032627</td><td>0</td><td>24.34722</td><td>1.2918005</td><td>2.6816887</td><td>0.12060646</td><td>0.08321669</td></tr>\n",
       "\t<tr><td>0.15022426</td><td>0</td><td>17.55772</td><td>1.4007202</td><td>2.9295874</td><td>0.05206966</td><td>0.09047485</td></tr>\n",
       "\t<tr><td>0.13270301</td><td>0</td><td>18.81024</td><td>1.5543637</td><td>2.5671406</td><td>0.10442214</td><td>0.07827907</td></tr>\n",
       "\t<tr><td>0.18012940</td><td>0</td><td>12.92836</td><td>1.2421258</td><td>3.8846519</td><td>0.04120256</td><td>0.11522179</td></tr>\n",
       "\t<tr><td>0.07391471</td><td>0</td><td>16.05045</td><td>1.6575174</td><td>2.9900457</td><td>0.09007862</td><td>0.07445661</td></tr>\n",
       "</tbody>\n",
       "</table>\n"
      ],
      "text/latex": [
       "A data.frame: 11 × 7\n",
       "\\begin{tabular}{lllllll}\n",
       " Sil & SF & CH & DB & DBstar & D & COP\\\\\n",
       " <dbl> & <dbl> & <dbl> & <dbl> & <dbl> & <dbl> & <dbl>\\\\\n",
       "\\hline\n",
       "\t 0.66834012 & 0 & 93.51513 & 0.5703287 & 0.5703287 & 0.09323396 & 0.19186189\\\\\n",
       "\t 0.45474960 & 0 & 62.41023 & 1.0821090 & 1.8284635 & 0.07488925 & 0.13339877\\\\\n",
       "\t 0.32363901 & 0 & 42.98229 & 1.0567137 & 2.1596081 & 0.06367784 & 0.11717964\\\\\n",
       "\t 0.24637949 & 0 & 33.63636 & 1.5064870 & 2.6408581 & 0.07232007 & 0.10498518\\\\\n",
       "\t 0.21766076 & 0 & 31.93582 & 1.3445337 & 3.0488670 & 0.12060646 & 0.09681783\\\\\n",
       "\t 0.22508008 & 0 & 22.83161 & 1.3174245 & 2.8535753 & 0.06239187 & 0.09921761\\\\\n",
       "\t 0.24032627 & 0 & 24.34722 & 1.2918005 & 2.6816887 & 0.12060646 & 0.08321669\\\\\n",
       "\t 0.15022426 & 0 & 17.55772 & 1.4007202 & 2.9295874 & 0.05206966 & 0.09047485\\\\\n",
       "\t 0.13270301 & 0 & 18.81024 & 1.5543637 & 2.5671406 & 0.10442214 & 0.07827907\\\\\n",
       "\t 0.18012940 & 0 & 12.92836 & 1.2421258 & 3.8846519 & 0.04120256 & 0.11522179\\\\\n",
       "\t 0.07391471 & 0 & 16.05045 & 1.6575174 & 2.9900457 & 0.09007862 & 0.07445661\\\\\n",
       "\\end{tabular}\n"
      ],
      "text/markdown": [
       "\n",
       "A data.frame: 11 × 7\n",
       "\n",
       "| Sil &lt;dbl&gt; | SF &lt;dbl&gt; | CH &lt;dbl&gt; | DB &lt;dbl&gt; | DBstar &lt;dbl&gt; | D &lt;dbl&gt; | COP &lt;dbl&gt; |\n",
       "|---|---|---|---|---|---|---|\n",
       "| 0.66834012 | 0 | 93.51513 | 0.5703287 | 0.5703287 | 0.09323396 | 0.19186189 |\n",
       "| 0.45474960 | 0 | 62.41023 | 1.0821090 | 1.8284635 | 0.07488925 | 0.13339877 |\n",
       "| 0.32363901 | 0 | 42.98229 | 1.0567137 | 2.1596081 | 0.06367784 | 0.11717964 |\n",
       "| 0.24637949 | 0 | 33.63636 | 1.5064870 | 2.6408581 | 0.07232007 | 0.10498518 |\n",
       "| 0.21766076 | 0 | 31.93582 | 1.3445337 | 3.0488670 | 0.12060646 | 0.09681783 |\n",
       "| 0.22508008 | 0 | 22.83161 | 1.3174245 | 2.8535753 | 0.06239187 | 0.09921761 |\n",
       "| 0.24032627 | 0 | 24.34722 | 1.2918005 | 2.6816887 | 0.12060646 | 0.08321669 |\n",
       "| 0.15022426 | 0 | 17.55772 | 1.4007202 | 2.9295874 | 0.05206966 | 0.09047485 |\n",
       "| 0.13270301 | 0 | 18.81024 | 1.5543637 | 2.5671406 | 0.10442214 | 0.07827907 |\n",
       "| 0.18012940 | 0 | 12.92836 | 1.2421258 | 3.8846519 | 0.04120256 | 0.11522179 |\n",
       "| 0.07391471 | 0 | 16.05045 | 1.6575174 | 2.9900457 | 0.09007862 | 0.07445661 |\n",
       "\n"
      ],
      "text/plain": [
       "   Sil        SF CH       DB        DBstar    D          COP       \n",
       "1  0.66834012 0  93.51513 0.5703287 0.5703287 0.09323396 0.19186189\n",
       "2  0.45474960 0  62.41023 1.0821090 1.8284635 0.07488925 0.13339877\n",
       "3  0.32363901 0  42.98229 1.0567137 2.1596081 0.06367784 0.11717964\n",
       "4  0.24637949 0  33.63636 1.5064870 2.6408581 0.07232007 0.10498518\n",
       "5  0.21766076 0  31.93582 1.3445337 3.0488670 0.12060646 0.09681783\n",
       "6  0.22508008 0  22.83161 1.3174245 2.8535753 0.06239187 0.09921761\n",
       "7  0.24032627 0  24.34722 1.2918005 2.6816887 0.12060646 0.08321669\n",
       "8  0.15022426 0  17.55772 1.4007202 2.9295874 0.05206966 0.09047485\n",
       "9  0.13270301 0  18.81024 1.5543637 2.5671406 0.10442214 0.07827907\n",
       "10 0.18012940 0  12.92836 1.2421258 3.8846519 0.04120256 0.11522179\n",
       "11 0.07391471 0  16.05045 1.6575174 2.9900457 0.09007862 0.07445661"
      ]
     },
     "metadata": {},
     "output_type": "display_data"
    }
   ],
   "source": [
    "dtw_cluster_quality_df"
   ]
  },
  {
   "cell_type": "code",
   "execution_count": 89,
   "id": "a17ad9de",
   "metadata": {},
   "outputs": [
    {
     "data": {
      "image/png": "[encoded data removed]",
      "text/plain": [
       "plot without title"
      ]
     },
     "metadata": {
      "image/png": {
       "height": 420,
       "width": 420
      }
     },
     "output_type": "display_data"
    }
   ],
   "source": [
    "# Plot cluster quality to pick a K\n",
    "dtw_clust_qual <- ggplot() + \n",
    "    geom_point(aes(x=2:12, y=dtw_cluster_quality_df$Sil), col='blue') + \n",
    "    geom_line(aes(x=2:12, y=dtw_cluster_quality_df$Sil), col='blue') +\n",
    "    xlab(\"Number of clusters k\") + \n",
    "    ylab(\"Aveage silhouette width\") + \n",
    "    ggtitle(\"Average Silhouette Width for DTW-Based Clustering\")\n",
    "dtw_clust_qual"
   ]
  },
  {
   "cell_type": "code",
   "execution_count": 90,
   "id": "be98c7b7",
   "metadata": {},
   "outputs": [],
   "source": [
    "ggsave(\"Results/Clustering/DTW/dtw_clust_qual.png\", dtw_clust_qual, width=10, height=5)"
   ]
  },
  {
   "cell_type": "code",
   "execution_count": 91,
   "id": "fd41efe7",
   "metadata": {},
   "outputs": [
    {
     "name": "stdout",
     "output_type": "stream",
     "text": [
      "\n",
      "\tPrecomputing distance matrix...\n",
      "\n",
      "Iteration 1: Changes / Distsum = 76 / 48882793\n",
      "Iteration 2: Changes / Distsum = 13 / 29522034\n",
      "Iteration 3: Changes / Distsum = 9 / 27466548\n",
      "Iteration 4: Changes / Distsum = 11 / 25081948\n",
      "Iteration 5: Changes / Distsum = 8 / 21838090\n",
      "Iteration 6: Changes / Distsum = 2 / 21178702\n",
      "Iteration 7: Changes / Distsum = 0 / 21178702\n",
      "\n",
      "\tElapsed time is 145.18 seconds.\n",
      "\n"
     ]
    }
   ],
   "source": [
    "# Based on the above, we choose K=2 as our final K\n",
    "# Create the final clusters with K=2\n",
    "final_dtw_clust <- tsclust(train_samples_ts,\n",
    "                           k=2, \n",
    "                           type=\"partitional\", \n",
    "                           distance = \"dtw_basic\", \n",
    "                           centroid = \"pam\",\n",
    "                           seed=54321,\n",
    "                           trace=TRUE\n",
    "                       )"
   ]
  },
  {
   "cell_type": "code",
   "execution_count": 92,
   "id": "15298645",
   "metadata": {},
   "outputs": [
    {
     "data": {
      "text/plain": [
       "partitional clustering with 2 clusters\n",
       "Using dtw_basic distance\n",
       "Using pam centroids\n",
       "\n",
       "Time required for analysis:\n",
       "    user   system  elapsed \n",
       "2264.315    1.126  145.180 \n",
       "\n",
       "Cluster sizes with average intra-cluster distance:\n",
       "\n",
       "  size  av_dist\n",
       "1   25 437202.5\n",
       "2   51 200953.7"
      ]
     },
     "metadata": {},
     "output_type": "display_data"
    }
   ],
   "source": [
    "# Inspect cluster results\n",
    "final_dtw_clust"
   ]
  },
  {
   "cell_type": "code",
   "execution_count": 93,
   "id": "941e8b2f",
   "metadata": {},
   "outputs": [],
   "source": [
    "# Save results in RData files\n",
    "saveRDS(final_dtw_clust, file=\"Results/Clustering/DTW/dtw_clust.RData\")"
   ]
  },
  {
   "cell_type": "code",
   "execution_count": 94,
   "id": "835a74d9",
   "metadata": {},
   "outputs": [],
   "source": [
    "# Extract the clusters assignments\n",
    "dtw_clust_assign <- final_dtw_clust@cluster"
   ]
  },
  {
   "cell_type": "code",
   "execution_count": 95,
   "id": "d10ba56b",
   "metadata": {},
   "outputs": [],
   "source": [
    "# Save the assignments into a df\n",
    "dtw_clust_df <- data.frame(ts_index=1:length(dtw_clust_assign), \n",
    "                           dtw_clust_assign=dtw_clust_assign\n",
    "                          )"
   ]
  },
  {
   "cell_type": "code",
   "execution_count": 96,
   "id": "b8894fad",
   "metadata": {},
   "outputs": [
    {
     "data": {
      "text/html": [
       "<table class=\"dataframe\">\n",
       "<caption>A data.frame: 6 × 2</caption>\n",
       "<thead>\n",
       "\t<tr><th></th><th scope=col>ts_index</th><th scope=col>dtw_clust_assign</th></tr>\n",
       "\t<tr><th></th><th scope=col>&lt;int&gt;</th><th scope=col>&lt;int&gt;</th></tr>\n",
       "</thead>\n",
       "<tbody>\n",
       "\t<tr><th scope=row>1</th><td>1</td><td>2</td></tr>\n",
       "\t<tr><th scope=row>2</th><td>2</td><td>2</td></tr>\n",
       "\t<tr><th scope=row>3</th><td>3</td><td>2</td></tr>\n",
       "\t<tr><th scope=row>4</th><td>4</td><td>1</td></tr>\n",
       "\t<tr><th scope=row>5</th><td>5</td><td>1</td></tr>\n",
       "\t<tr><th scope=row>6</th><td>6</td><td>1</td></tr>\n",
       "</tbody>\n",
       "</table>\n"
      ],
      "text/latex": [
       "A data.frame: 6 × 2\n",
       "\\begin{tabular}{r|ll}\n",
       "  & ts\\_index & dtw\\_clust\\_assign\\\\\n",
       "  & <int> & <int>\\\\\n",
       "\\hline\n",
       "\t1 & 1 & 2\\\\\n",
       "\t2 & 2 & 2\\\\\n",
       "\t3 & 3 & 2\\\\\n",
       "\t4 & 4 & 1\\\\\n",
       "\t5 & 5 & 1\\\\\n",
       "\t6 & 6 & 1\\\\\n",
       "\\end{tabular}\n"
      ],
      "text/markdown": [
       "\n",
       "A data.frame: 6 × 2\n",
       "\n",
       "| <!--/--> | ts_index &lt;int&gt; | dtw_clust_assign &lt;int&gt; |\n",
       "|---|---|---|\n",
       "| 1 | 1 | 2 |\n",
       "| 2 | 2 | 2 |\n",
       "| 3 | 3 | 2 |\n",
       "| 4 | 4 | 1 |\n",
       "| 5 | 5 | 1 |\n",
       "| 6 | 6 | 1 |\n",
       "\n"
      ],
      "text/plain": [
       "  ts_index dtw_clust_assign\n",
       "1 1        2               \n",
       "2 2        2               \n",
       "3 3        2               \n",
       "4 4        1               \n",
       "5 5        1               \n",
       "6 6        1               "
      ]
     },
     "metadata": {},
     "output_type": "display_data"
    }
   ],
   "source": [
    "head(dtw_clust_df)"
   ]
  },
  {
   "cell_type": "code",
   "execution_count": 97,
   "id": "0bee9684",
   "metadata": {},
   "outputs": [],
   "source": [
    "# Save that df to a csv file\n",
    "write.csv(dtw_clust_df, \"Results/Clustering/DTW/dtw_clustering_assign.csv\", row.names=FALSE)"
   ]
  },
  {
   "cell_type": "code",
   "execution_count": null,
   "id": "439eae39",
   "metadata": {},
   "outputs": [],
   "source": []
  }
 ],
 "metadata": {
  "kernelspec": {
   "display_name": "R",
   "language": "R",
   "name": "ir"
  },
  "language_info": {
   "codemirror_mode": "r",
   "file_extension": ".r",
   "mimetype": "text/x-r-source",
   "name": "R",
   "pygments_lexer": "r",
   "version": "4.1.3"
  }
 },
 "nbformat": 4,
 "nbformat_minor": 5
}
