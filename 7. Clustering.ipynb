{
 "cells": [
  {
   "cell_type": "code",
   "execution_count": 158,
   "id": "5cf12049",
   "metadata": {},
   "outputs": [],
   "source": [
    "# Clear workspace\n",
    "rm(list=ls())"
   ]
  },
  {
   "cell_type": "code",
   "execution_count": 1,
   "id": "37fed206",
   "metadata": {},
   "outputs": [
    {
     "data": {
      "text/html": [
       "<table class=\"dataframe\">\n",
       "<caption>A matrix: 2 × 6 of type dbl</caption>\n",
       "<thead>\n",
       "\t<tr><th></th><th scope=col>used</th><th scope=col>(Mb)</th><th scope=col>gc trigger</th><th scope=col>(Mb)</th><th scope=col>max used</th><th scope=col>(Mb)</th></tr>\n",
       "</thead>\n",
       "<tbody>\n",
       "\t<tr><th scope=row>Ncells</th><td> 608908</td><td>32.6</td><td>1319145</td><td>70.5</td><td> 947078</td><td>50.6</td></tr>\n",
       "\t<tr><th scope=row>Vcells</th><td>1137116</td><td> 8.7</td><td>8388608</td><td>64.0</td><td>1821133</td><td>13.9</td></tr>\n",
       "</tbody>\n",
       "</table>\n"
      ],
      "text/latex": [
       "A matrix: 2 × 6 of type dbl\n",
       "\\begin{tabular}{r|llllll}\n",
       "  & used & (Mb) & gc trigger & (Mb) & max used & (Mb)\\\\\n",
       "\\hline\n",
       "\tNcells &  608908 & 32.6 & 1319145 & 70.5 &  947078 & 50.6\\\\\n",
       "\tVcells & 1137116 &  8.7 & 8388608 & 64.0 & 1821133 & 13.9\\\\\n",
       "\\end{tabular}\n"
      ],
      "text/markdown": [
       "\n",
       "A matrix: 2 × 6 of type dbl\n",
       "\n",
       "| <!--/--> | used | (Mb) | gc trigger | (Mb) | max used | (Mb) |\n",
       "|---|---|---|---|---|---|---|\n",
       "| Ncells |  608908 | 32.6 | 1319145 | 70.5 |  947078 | 50.6 |\n",
       "| Vcells | 1137116 |  8.7 | 8388608 | 64.0 | 1821133 | 13.9 |\n",
       "\n"
      ],
      "text/plain": [
       "       used    (Mb) gc trigger (Mb) max used (Mb)\n",
       "Ncells  608908 32.6 1319145    70.5  947078  50.6\n",
       "Vcells 1137116  8.7 8388608    64.0 1821133  13.9"
      ]
     },
     "metadata": {},
     "output_type": "display_data"
    }
   ],
   "source": [
    "# Garabage collect to help with memory issues\n",
    "gc()"
   ]
  },
  {
   "cell_type": "code",
   "execution_count": 2,
   "id": "a1421435",
   "metadata": {},
   "outputs": [
    {
     "name": "stderr",
     "output_type": "stream",
     "text": [
      "Warning message:\n",
      "“‘timedatectl’ indicates the non-existent timezone name ‘n/a’”\n",
      "Warning message:\n",
      "“Your system is mis-configured: ‘/etc/localtime’ is not a symlink”\n",
      "Warning message:\n",
      "“It is strongly recommended to set envionment variable TZ to ‘Etc/UCT’ (or equivalent)”\n",
      "── \u001b[1mAttaching packages\u001b[22m ─────────────────────────────────────── tidyverse 1.3.1 ──\n",
      "\n",
      "\u001b[32m✔\u001b[39m \u001b[34mggplot2\u001b[39m 3.3.5     \u001b[32m✔\u001b[39m \u001b[34mpurrr  \u001b[39m 0.3.4\n",
      "\u001b[32m✔\u001b[39m \u001b[34mtibble \u001b[39m 3.1.6     \u001b[32m✔\u001b[39m \u001b[34mdplyr  \u001b[39m 1.0.8\n",
      "\u001b[32m✔\u001b[39m \u001b[34mtidyr  \u001b[39m 1.2.0     \u001b[32m✔\u001b[39m \u001b[34mstringr\u001b[39m 1.4.0\n",
      "\u001b[32m✔\u001b[39m \u001b[34mreadr  \u001b[39m 2.1.2     \u001b[32m✔\u001b[39m \u001b[34mforcats\u001b[39m 0.5.1\n",
      "\n",
      "── \u001b[1mConflicts\u001b[22m ────────────────────────────────────────── tidyverse_conflicts() ──\n",
      "\u001b[31m✖\u001b[39m \u001b[34mdplyr\u001b[39m::\u001b[32mfilter()\u001b[39m masks \u001b[34mstats\u001b[39m::filter()\n",
      "\u001b[31m✖\u001b[39m \u001b[34mdplyr\u001b[39m::\u001b[32mlag()\u001b[39m    masks \u001b[34mstats\u001b[39m::lag()\n",
      "\n",
      "Registered S3 method overwritten by 'quantmod':\n",
      "  method            from\n",
      "  as.zoo.data.frame zoo \n",
      "\n",
      "Package 'mclust' version 5.4.10\n",
      "Type 'citation(\"mclust\")' for citing this R package in publications.\n",
      "\n",
      "\n",
      "Attaching package: ‘mclust’\n",
      "\n",
      "\n",
      "The following object is masked from ‘package:purrr’:\n",
      "\n",
      "    map\n",
      "\n",
      "\n",
      "Welcome! Want to learn more? See two factoextra-related books at https://goo.gl/ve3WBa\n",
      "\n",
      "Loading required package: proxy\n",
      "\n",
      "\n",
      "Attaching package: ‘proxy’\n",
      "\n",
      "\n",
      "The following objects are masked from ‘package:stats’:\n",
      "\n",
      "    as.dist, dist\n",
      "\n",
      "\n",
      "The following object is masked from ‘package:base’:\n",
      "\n",
      "    as.matrix\n",
      "\n",
      "\n",
      "Loading required package: dtw\n",
      "\n",
      "Loaded dtw v1.22-3. See ?dtw for help, citation(\"dtw\") for use in publication.\n",
      "\n",
      "\n",
      "dtwclust:\n",
      "Setting random number generator to L'Ecuyer-CMRG (see RNGkind()).\n",
      "To read the included vignettes type: browseVignettes(\"dtwclust\").\n",
      "See news(package = \"dtwclust\") after package updates.\n",
      "\n"
     ]
    }
   ],
   "source": [
    "# install.packages(\"tidyverse\") # sagemaker has\n",
    "library(tidyverse)\n",
    "\n",
    "# install.packages(\"cluster\") # sagemaker has\n",
    "library(cluster)\n",
    "\n",
    "# install.packages(\"tsfeatures\") # sagemaker doesn't have\n",
    "library(tsfeatures)\n",
    "\n",
    "# install.packages(\"mclust\") # sagemaker doesn't have\n",
    "library(mclust)\n",
    "\n",
    "# install.packages(\"Rcatch22\") # sagemaker doesn't have\n",
    "library(Rcatch22)\n",
    "\n",
    "# install.packages(\"tseries\") # sagemaker doesn't have\n",
    "library(tseries)\n",
    "\n",
    "# install.packages(\"factoextra\") # sagemaker doesn't have\n",
    "library(factoextra)\n",
    "\n",
    "# install.packages(\"forecast\") # sagemaker doesn't have\n",
    "library(forecast)\n",
    "\n",
    "# install.packages(\"dtwclust\") # sagemaker doesn't have\n",
    "library(dtwclust)"
   ]
  },
  {
   "cell_type": "markdown",
   "id": "bd303dd3",
   "metadata": {},
   "source": [
    "# Read In and Subset Data"
   ]
  },
  {
   "cell_type": "code",
   "execution_count": 3,
   "id": "6e875d24",
   "metadata": {},
   "outputs": [
    {
     "name": "stderr",
     "output_type": "stream",
     "text": [
      "\u001b[1mRows: \u001b[22m\u001b[34m35040\u001b[39m \u001b[1mColumns: \u001b[22m\u001b[34m10\u001b[39m\n",
      "\u001b[36m──\u001b[39m \u001b[1mColumn specification\u001b[22m \u001b[36m────────────────────────────────────────────────────────\u001b[39m\n",
      "\u001b[1mDelimiter:\u001b[22m \",\"\n",
      "\u001b[31mchr\u001b[39m  (1): site_name\n",
      "\u001b[32mdbl\u001b[39m  (5): day_of_week, day_of_year, interval_of_day, avg_mph, total_volume\n",
      "\u001b[33mlgl\u001b[39m  (2): missing_speed, missing_volume\n",
      "\u001b[34mdttm\u001b[39m (1): timestamp\n",
      "\u001b[34mdate\u001b[39m (1): date\n",
      "\n",
      "\u001b[36mℹ\u001b[39m Use `spec()` to retrieve the full column specification for this data.\n",
      "\u001b[36mℹ\u001b[39m Specify the column types or set `show_col_types = FALSE` to quiet this message.\n",
      "\u001b[1mRows: \u001b[22m\u001b[34m35040\u001b[39m \u001b[1mColumns: \u001b[22m\u001b[34m10\u001b[39m\n",
      "\u001b[36m──\u001b[39m \u001b[1mColumn specification\u001b[22m \u001b[36m────────────────────────────────────────────────────────\u001b[39m\n",
      "\u001b[1mDelimiter:\u001b[22m \",\"\n",
      "\u001b[31mchr\u001b[39m  (1): site_name\n",
      "\u001b[32mdbl\u001b[39m  (5): day_of_week, day_of_year, interval_of_day, avg_mph, total_volume\n",
      "\u001b[33mlgl\u001b[39m  (2): missing_speed, missing_volume\n",
      "\u001b[34mdttm\u001b[39m (1): timestamp\n",
      "\u001b[34mdate\u001b[39m (1): date\n",
      "\n",
      "\u001b[36mℹ\u001b[39m Use `spec()` to retrieve the full column specification for this data.\n",
      "\u001b[36mℹ\u001b[39m Specify the column types or set `show_col_types = FALSE` to quiet this message.\n",
      "\u001b[1mRows: \u001b[22m\u001b[34m35040\u001b[39m \u001b[1mColumns: \u001b[22m\u001b[34m10\u001b[39m\n",
      "\u001b[36m──\u001b[39m \u001b[1mColumn specification\u001b[22m \u001b[36m────────────────────────────────────────────────────────\u001b[39m\n",
      "\u001b[1mDelimiter:\u001b[22m \",\"\n",
      "\u001b[31mchr\u001b[39m  (1): site_name\n",
      "\u001b[32mdbl\u001b[39m  (5): day_of_week, day_of_year, interval_of_day, avg_mph, total_volume\n",
      "\u001b[33mlgl\u001b[39m  (2): missing_speed, missing_volume\n",
      "\u001b[34mdttm\u001b[39m (1): timestamp\n",
      "\u001b[34mdate\u001b[39m (1): date\n",
      "\n",
      "\u001b[36mℹ\u001b[39m Use `spec()` to retrieve the full column specification for this data.\n",
      "\u001b[36mℹ\u001b[39m Specify the column types or set `show_col_types = FALSE` to quiet this message.\n",
      "\u001b[1mRows: \u001b[22m\u001b[34m35040\u001b[39m \u001b[1mColumns: \u001b[22m\u001b[34m10\u001b[39m\n",
      "\u001b[36m──\u001b[39m \u001b[1mColumn specification\u001b[22m \u001b[36m────────────────────────────────────────────────────────\u001b[39m\n",
      "\u001b[1mDelimiter:\u001b[22m \",\"\n",
      "\u001b[31mchr\u001b[39m  (1): site_name\n",
      "\u001b[32mdbl\u001b[39m  (5): day_of_week, day_of_year, interval_of_day, avg_mph, total_volume\n",
      "\u001b[33mlgl\u001b[39m  (2): missing_speed, missing_volume\n",
      "\u001b[34mdttm\u001b[39m (1): timestamp\n",
      "\u001b[34mdate\u001b[39m (1): date\n",
      "\n",
      "\u001b[36mℹ\u001b[39m Use `spec()` to retrieve the full column specification for this data.\n",
      "\u001b[36mℹ\u001b[39m Specify the column types or set `show_col_types = FALSE` to quiet this message.\n",
      "\u001b[1mRows: \u001b[22m\u001b[34m35040\u001b[39m \u001b[1mColumns: \u001b[22m\u001b[34m10\u001b[39m\n",
      "\u001b[36m──\u001b[39m \u001b[1mColumn specification\u001b[22m \u001b[36m────────────────────────────────────────────────────────\u001b[39m\n",
      "\u001b[1mDelimiter:\u001b[22m \",\"\n",
      "\u001b[31mchr\u001b[39m  (1): site_name\n",
      "\u001b[32mdbl\u001b[39m  (5): day_of_week, day_of_year, interval_of_day, avg_mph, total_volume\n",
      "\u001b[33mlgl\u001b[39m  (2): missing_speed, missing_volume\n",
      "\u001b[34mdttm\u001b[39m (1): timestamp\n",
      "\u001b[34mdate\u001b[39m (1): date\n",
      "\n",
      "\u001b[36mℹ\u001b[39m Use `spec()` to retrieve the full column specification for this data.\n",
      "\u001b[36mℹ\u001b[39m Specify the column types or set `show_col_types = FALSE` to quiet this message.\n",
      "\u001b[1mRows: \u001b[22m\u001b[34m35040\u001b[39m \u001b[1mColumns: \u001b[22m\u001b[34m10\u001b[39m\n",
      "\u001b[36m──\u001b[39m \u001b[1mColumn specification\u001b[22m \u001b[36m────────────────────────────────────────────────────────\u001b[39m\n",
      "\u001b[1mDelimiter:\u001b[22m \",\"\n",
      "\u001b[31mchr\u001b[39m  (1): site_name\n",
      "\u001b[32mdbl\u001b[39m  (5): day_of_week, day_of_year, interval_of_day, avg_mph, total_volume\n",
      "\u001b[33mlgl\u001b[39m  (2): missing_speed, missing_volume\n",
      "\u001b[34mdttm\u001b[39m (1): timestamp\n",
      "\u001b[34mdate\u001b[39m (1): date\n",
      "\n",
      "\u001b[36mℹ\u001b[39m Use `spec()` to retrieve the full column specification for this data.\n",
      "\u001b[36mℹ\u001b[39m Specify the column types or set `show_col_types = FALSE` to quiet this message.\n",
      "\u001b[1mRows: \u001b[22m\u001b[34m35040\u001b[39m \u001b[1mColumns: \u001b[22m\u001b[34m10\u001b[39m\n",
      "\u001b[36m──\u001b[39m \u001b[1mColumn specification\u001b[22m \u001b[36m────────────────────────────────────────────────────────\u001b[39m\n",
      "\u001b[1mDelimiter:\u001b[22m \",\"\n",
      "\u001b[31mchr\u001b[39m  (1): site_name\n",
      "\u001b[32mdbl\u001b[39m  (5): day_of_week, day_of_year, interval_of_day, avg_mph, total_volume\n",
      "\u001b[33mlgl\u001b[39m  (2): missing_speed, missing_volume\n",
      "\u001b[34mdttm\u001b[39m (1): timestamp\n",
      "\u001b[34mdate\u001b[39m (1): date\n",
      "\n",
      "\u001b[36mℹ\u001b[39m Use `spec()` to retrieve the full column specification for this data.\n",
      "\u001b[36mℹ\u001b[39m Specify the column types or set `show_col_types = FALSE` to quiet this message.\n",
      "\u001b[1mRows: \u001b[22m\u001b[34m35040\u001b[39m \u001b[1mColumns: \u001b[22m\u001b[34m10\u001b[39m\n",
      "\u001b[36m──\u001b[39m \u001b[1mColumn specification\u001b[22m \u001b[36m────────────────────────────────────────────────────────\u001b[39m\n",
      "\u001b[1mDelimiter:\u001b[22m \",\"\n",
      "\u001b[31mchr\u001b[39m  (1): site_name\n",
      "\u001b[32mdbl\u001b[39m  (5): day_of_week, day_of_year, interval_of_day, avg_mph, total_volume\n",
      "\u001b[33mlgl\u001b[39m  (2): missing_speed, missing_volume\n",
      "\u001b[34mdttm\u001b[39m (1): timestamp\n",
      "\u001b[34mdate\u001b[39m (1): date\n",
      "\n",
      "\u001b[36mℹ\u001b[39m Use `spec()` to retrieve the full column specification for this data.\n",
      "\u001b[36mℹ\u001b[39m Specify the column types or set `show_col_types = FALSE` to quiet this message.\n",
      "\u001b[1mRows: \u001b[22m\u001b[34m35040\u001b[39m \u001b[1mColumns: \u001b[22m\u001b[34m10\u001b[39m\n",
      "\u001b[36m──\u001b[39m \u001b[1mColumn specification\u001b[22m \u001b[36m────────────────────────────────────────────────────────\u001b[39m\n",
      "\u001b[1mDelimiter:\u001b[22m \",\"\n",
      "\u001b[31mchr\u001b[39m  (1): site_name\n",
      "\u001b[32mdbl\u001b[39m  (5): day_of_week, day_of_year, interval_of_day, avg_mph, total_volume\n",
      "\u001b[33mlgl\u001b[39m  (2): missing_speed, missing_volume\n",
      "\u001b[34mdttm\u001b[39m (1): timestamp\n",
      "\u001b[34mdate\u001b[39m (1): date\n",
      "\n",
      "\u001b[36mℹ\u001b[39m Use `spec()` to retrieve the full column specification for this data.\n",
      "\u001b[36mℹ\u001b[39m Specify the column types or set `show_col_types = FALSE` to quiet this message.\n",
      "\u001b[1mRows: \u001b[22m\u001b[34m35040\u001b[39m \u001b[1mColumns: \u001b[22m\u001b[34m10\u001b[39m\n",
      "\u001b[36m──\u001b[39m \u001b[1mColumn specification\u001b[22m \u001b[36m────────────────────────────────────────────────────────\u001b[39m\n",
      "\u001b[1mDelimiter:\u001b[22m \",\"\n",
      "\u001b[31mchr\u001b[39m  (1): site_name\n",
      "\u001b[32mdbl\u001b[39m  (5): day_of_week, day_of_year, interval_of_day, avg_mph, total_volume\n",
      "\u001b[33mlgl\u001b[39m  (2): missing_speed, missing_volume\n",
      "\u001b[34mdttm\u001b[39m (1): timestamp\n",
      "\u001b[34mdate\u001b[39m (1): date\n",
      "\n",
      "\u001b[36mℹ\u001b[39m Use `spec()` to retrieve the full column specification for this data.\n",
      "\u001b[36mℹ\u001b[39m Specify the column types or set `show_col_types = FALSE` to quiet this message.\n",
      "\u001b[1mRows: \u001b[22m\u001b[34m35040\u001b[39m \u001b[1mColumns: \u001b[22m\u001b[34m10\u001b[39m\n",
      "\u001b[36m──\u001b[39m \u001b[1mColumn specification\u001b[22m \u001b[36m────────────────────────────────────────────────────────\u001b[39m\n",
      "\u001b[1mDelimiter:\u001b[22m \",\"\n",
      "\u001b[31mchr\u001b[39m  (1): site_name\n",
      "\u001b[32mdbl\u001b[39m  (5): day_of_week, day_of_year, interval_of_day, avg_mph, total_volume\n",
      "\u001b[33mlgl\u001b[39m  (2): missing_speed, missing_volume\n",
      "\u001b[34mdttm\u001b[39m (1): timestamp\n",
      "\u001b[34mdate\u001b[39m (1): date\n",
      "\n",
      "\u001b[36mℹ\u001b[39m Use `spec()` to retrieve the full column specification for this data.\n",
      "\u001b[36mℹ\u001b[39m Specify the column types or set `show_col_types = FALSE` to quiet this message.\n",
      "\u001b[1mRows: \u001b[22m\u001b[34m35040\u001b[39m \u001b[1mColumns: \u001b[22m\u001b[34m10\u001b[39m\n",
      "\u001b[36m──\u001b[39m \u001b[1mColumn specification\u001b[22m \u001b[36m────────────────────────────────────────────────────────\u001b[39m\n",
      "\u001b[1mDelimiter:\u001b[22m \",\"\n",
      "\u001b[31mchr\u001b[39m  (1): site_name\n",
      "\u001b[32mdbl\u001b[39m  (5): day_of_week, day_of_year, interval_of_day, avg_mph, total_volume\n",
      "\u001b[33mlgl\u001b[39m  (2): missing_speed, missing_volume\n",
      "\u001b[34mdttm\u001b[39m (1): timestamp\n",
      "\u001b[34mdate\u001b[39m (1): date\n",
      "\n",
      "\u001b[36mℹ\u001b[39m Use `spec()` to retrieve the full column specification for this data.\n",
      "\u001b[36mℹ\u001b[39m Specify the column types or set `show_col_types = FALSE` to quiet this message.\n",
      "\u001b[1mRows: \u001b[22m\u001b[34m35040\u001b[39m \u001b[1mColumns: \u001b[22m\u001b[34m10\u001b[39m\n",
      "\u001b[36m──\u001b[39m \u001b[1mColumn specification\u001b[22m \u001b[36m────────────────────────────────────────────────────────\u001b[39m\n",
      "\u001b[1mDelimiter:\u001b[22m \",\"\n",
      "\u001b[31mchr\u001b[39m  (1): site_name\n",
      "\u001b[32mdbl\u001b[39m  (5): day_of_week, day_of_year, interval_of_day, avg_mph, total_volume\n",
      "\u001b[33mlgl\u001b[39m  (2): missing_speed, missing_volume\n",
      "\u001b[34mdttm\u001b[39m (1): timestamp\n",
      "\u001b[34mdate\u001b[39m (1): date\n",
      "\n",
      "\u001b[36mℹ\u001b[39m Use `spec()` to retrieve the full column specification for this data.\n",
      "\u001b[36mℹ\u001b[39m Specify the column types or set `show_col_types = FALSE` to quiet this message.\n",
      "\u001b[1mRows: \u001b[22m\u001b[34m35040\u001b[39m \u001b[1mColumns: \u001b[22m\u001b[34m10\u001b[39m\n",
      "\u001b[36m──\u001b[39m \u001b[1mColumn specification\u001b[22m \u001b[36m────────────────────────────────────────────────────────\u001b[39m\n",
      "\u001b[1mDelimiter:\u001b[22m \",\"\n",
      "\u001b[31mchr\u001b[39m  (1): site_name\n",
      "\u001b[32mdbl\u001b[39m  (5): day_of_week, day_of_year, interval_of_day, avg_mph, total_volume\n",
      "\u001b[33mlgl\u001b[39m  (2): missing_speed, missing_volume\n",
      "\u001b[34mdttm\u001b[39m (1): timestamp\n",
      "\u001b[34mdate\u001b[39m (1): date\n",
      "\n",
      "\u001b[36mℹ\u001b[39m Use `spec()` to retrieve the full column specification for this data.\n",
      "\u001b[36mℹ\u001b[39m Specify the column types or set `show_col_types = FALSE` to quiet this message.\n"
     ]
    },
    {
     "name": "stderr",
     "output_type": "stream",
     "text": [
      "\u001b[1mRows: \u001b[22m\u001b[34m35040\u001b[39m \u001b[1mColumns: \u001b[22m\u001b[34m10\u001b[39m\n",
      "\u001b[36m──\u001b[39m \u001b[1mColumn specification\u001b[22m \u001b[36m────────────────────────────────────────────────────────\u001b[39m\n",
      "\u001b[1mDelimiter:\u001b[22m \",\"\n",
      "\u001b[31mchr\u001b[39m  (1): site_name\n",
      "\u001b[32mdbl\u001b[39m  (5): day_of_week, day_of_year, interval_of_day, avg_mph, total_volume\n",
      "\u001b[33mlgl\u001b[39m  (2): missing_speed, missing_volume\n",
      "\u001b[34mdttm\u001b[39m (1): timestamp\n",
      "\u001b[34mdate\u001b[39m (1): date\n",
      "\n",
      "\u001b[36mℹ\u001b[39m Use `spec()` to retrieve the full column specification for this data.\n",
      "\u001b[36mℹ\u001b[39m Specify the column types or set `show_col_types = FALSE` to quiet this message.\n",
      "\u001b[1mRows: \u001b[22m\u001b[34m35040\u001b[39m \u001b[1mColumns: \u001b[22m\u001b[34m10\u001b[39m\n",
      "\u001b[36m──\u001b[39m \u001b[1mColumn specification\u001b[22m \u001b[36m────────────────────────────────────────────────────────\u001b[39m\n",
      "\u001b[1mDelimiter:\u001b[22m \",\"\n",
      "\u001b[31mchr\u001b[39m  (1): site_name\n",
      "\u001b[32mdbl\u001b[39m  (5): day_of_week, day_of_year, interval_of_day, avg_mph, total_volume\n",
      "\u001b[33mlgl\u001b[39m  (2): missing_speed, missing_volume\n",
      "\u001b[34mdttm\u001b[39m (1): timestamp\n",
      "\u001b[34mdate\u001b[39m (1): date\n",
      "\n",
      "\u001b[36mℹ\u001b[39m Use `spec()` to retrieve the full column specification for this data.\n",
      "\u001b[36mℹ\u001b[39m Specify the column types or set `show_col_types = FALSE` to quiet this message.\n",
      "\u001b[1mRows: \u001b[22m\u001b[34m35040\u001b[39m \u001b[1mColumns: \u001b[22m\u001b[34m10\u001b[39m\n",
      "\u001b[36m──\u001b[39m \u001b[1mColumn specification\u001b[22m \u001b[36m────────────────────────────────────────────────────────\u001b[39m\n",
      "\u001b[1mDelimiter:\u001b[22m \",\"\n",
      "\u001b[31mchr\u001b[39m  (1): site_name\n",
      "\u001b[32mdbl\u001b[39m  (5): day_of_week, day_of_year, interval_of_day, avg_mph, total_volume\n",
      "\u001b[33mlgl\u001b[39m  (2): missing_speed, missing_volume\n",
      "\u001b[34mdttm\u001b[39m (1): timestamp\n",
      "\u001b[34mdate\u001b[39m (1): date\n",
      "\n",
      "\u001b[36mℹ\u001b[39m Use `spec()` to retrieve the full column specification for this data.\n",
      "\u001b[36mℹ\u001b[39m Specify the column types or set `show_col_types = FALSE` to quiet this message.\n",
      "\u001b[1mRows: \u001b[22m\u001b[34m35040\u001b[39m \u001b[1mColumns: \u001b[22m\u001b[34m10\u001b[39m\n",
      "\u001b[36m──\u001b[39m \u001b[1mColumn specification\u001b[22m \u001b[36m────────────────────────────────────────────────────────\u001b[39m\n",
      "\u001b[1mDelimiter:\u001b[22m \",\"\n",
      "\u001b[31mchr\u001b[39m  (1): site_name\n",
      "\u001b[32mdbl\u001b[39m  (5): day_of_week, day_of_year, interval_of_day, avg_mph, total_volume\n",
      "\u001b[33mlgl\u001b[39m  (2): missing_speed, missing_volume\n",
      "\u001b[34mdttm\u001b[39m (1): timestamp\n",
      "\u001b[34mdate\u001b[39m (1): date\n",
      "\n",
      "\u001b[36mℹ\u001b[39m Use `spec()` to retrieve the full column specification for this data.\n",
      "\u001b[36mℹ\u001b[39m Specify the column types or set `show_col_types = FALSE` to quiet this message.\n",
      "\u001b[1mRows: \u001b[22m\u001b[34m35040\u001b[39m \u001b[1mColumns: \u001b[22m\u001b[34m10\u001b[39m\n",
      "\u001b[36m──\u001b[39m \u001b[1mColumn specification\u001b[22m \u001b[36m────────────────────────────────────────────────────────\u001b[39m\n",
      "\u001b[1mDelimiter:\u001b[22m \",\"\n",
      "\u001b[31mchr\u001b[39m  (1): site_name\n",
      "\u001b[32mdbl\u001b[39m  (5): day_of_week, day_of_year, interval_of_day, avg_mph, total_volume\n",
      "\u001b[33mlgl\u001b[39m  (2): missing_speed, missing_volume\n",
      "\u001b[34mdttm\u001b[39m (1): timestamp\n",
      "\u001b[34mdate\u001b[39m (1): date\n",
      "\n",
      "\u001b[36mℹ\u001b[39m Use `spec()` to retrieve the full column specification for this data.\n",
      "\u001b[36mℹ\u001b[39m Specify the column types or set `show_col_types = FALSE` to quiet this message.\n",
      "\u001b[1mRows: \u001b[22m\u001b[34m35040\u001b[39m \u001b[1mColumns: \u001b[22m\u001b[34m10\u001b[39m\n",
      "\u001b[36m──\u001b[39m \u001b[1mColumn specification\u001b[22m \u001b[36m────────────────────────────────────────────────────────\u001b[39m\n",
      "\u001b[1mDelimiter:\u001b[22m \",\"\n",
      "\u001b[31mchr\u001b[39m  (1): site_name\n",
      "\u001b[32mdbl\u001b[39m  (5): day_of_week, day_of_year, interval_of_day, avg_mph, total_volume\n",
      "\u001b[33mlgl\u001b[39m  (2): missing_speed, missing_volume\n",
      "\u001b[34mdttm\u001b[39m (1): timestamp\n",
      "\u001b[34mdate\u001b[39m (1): date\n",
      "\n",
      "\u001b[36mℹ\u001b[39m Use `spec()` to retrieve the full column specification for this data.\n",
      "\u001b[36mℹ\u001b[39m Specify the column types or set `show_col_types = FALSE` to quiet this message.\n",
      "\u001b[1mRows: \u001b[22m\u001b[34m35040\u001b[39m \u001b[1mColumns: \u001b[22m\u001b[34m10\u001b[39m\n",
      "\u001b[36m──\u001b[39m \u001b[1mColumn specification\u001b[22m \u001b[36m────────────────────────────────────────────────────────\u001b[39m\n",
      "\u001b[1mDelimiter:\u001b[22m \",\"\n",
      "\u001b[31mchr\u001b[39m  (1): site_name\n",
      "\u001b[32mdbl\u001b[39m  (5): day_of_week, day_of_year, interval_of_day, avg_mph, total_volume\n",
      "\u001b[33mlgl\u001b[39m  (2): missing_speed, missing_volume\n",
      "\u001b[34mdttm\u001b[39m (1): timestamp\n",
      "\u001b[34mdate\u001b[39m (1): date\n",
      "\n",
      "\u001b[36mℹ\u001b[39m Use `spec()` to retrieve the full column specification for this data.\n",
      "\u001b[36mℹ\u001b[39m Specify the column types or set `show_col_types = FALSE` to quiet this message.\n",
      "\u001b[1mRows: \u001b[22m\u001b[34m35040\u001b[39m \u001b[1mColumns: \u001b[22m\u001b[34m10\u001b[39m\n",
      "\u001b[36m──\u001b[39m \u001b[1mColumn specification\u001b[22m \u001b[36m────────────────────────────────────────────────────────\u001b[39m\n",
      "\u001b[1mDelimiter:\u001b[22m \",\"\n",
      "\u001b[31mchr\u001b[39m  (1): site_name\n",
      "\u001b[32mdbl\u001b[39m  (5): day_of_week, day_of_year, interval_of_day, avg_mph, total_volume\n",
      "\u001b[33mlgl\u001b[39m  (2): missing_speed, missing_volume\n",
      "\u001b[34mdttm\u001b[39m (1): timestamp\n",
      "\u001b[34mdate\u001b[39m (1): date\n",
      "\n",
      "\u001b[36mℹ\u001b[39m Use `spec()` to retrieve the full column specification for this data.\n",
      "\u001b[36mℹ\u001b[39m Specify the column types or set `show_col_types = FALSE` to quiet this message.\n",
      "\u001b[1mRows: \u001b[22m\u001b[34m35040\u001b[39m \u001b[1mColumns: \u001b[22m\u001b[34m10\u001b[39m\n",
      "\u001b[36m──\u001b[39m \u001b[1mColumn specification\u001b[22m \u001b[36m────────────────────────────────────────────────────────\u001b[39m\n",
      "\u001b[1mDelimiter:\u001b[22m \",\"\n",
      "\u001b[31mchr\u001b[39m  (1): site_name\n",
      "\u001b[32mdbl\u001b[39m  (5): day_of_week, day_of_year, interval_of_day, avg_mph, total_volume\n",
      "\u001b[33mlgl\u001b[39m  (2): missing_speed, missing_volume\n",
      "\u001b[34mdttm\u001b[39m (1): timestamp\n",
      "\u001b[34mdate\u001b[39m (1): date\n",
      "\n",
      "\u001b[36mℹ\u001b[39m Use `spec()` to retrieve the full column specification for this data.\n",
      "\u001b[36mℹ\u001b[39m Specify the column types or set `show_col_types = FALSE` to quiet this message.\n",
      "\u001b[1mRows: \u001b[22m\u001b[34m35040\u001b[39m \u001b[1mColumns: \u001b[22m\u001b[34m10\u001b[39m\n",
      "\u001b[36m──\u001b[39m \u001b[1mColumn specification\u001b[22m \u001b[36m────────────────────────────────────────────────────────\u001b[39m\n",
      "\u001b[1mDelimiter:\u001b[22m \",\"\n",
      "\u001b[31mchr\u001b[39m  (1): site_name\n",
      "\u001b[32mdbl\u001b[39m  (5): day_of_week, day_of_year, interval_of_day, avg_mph, total_volume\n",
      "\u001b[33mlgl\u001b[39m  (2): missing_speed, missing_volume\n",
      "\u001b[34mdttm\u001b[39m (1): timestamp\n",
      "\u001b[34mdate\u001b[39m (1): date\n",
      "\n",
      "\u001b[36mℹ\u001b[39m Use `spec()` to retrieve the full column specification for this data.\n",
      "\u001b[36mℹ\u001b[39m Specify the column types or set `show_col_types = FALSE` to quiet this message.\n",
      "\u001b[1mRows: \u001b[22m\u001b[34m35040\u001b[39m \u001b[1mColumns: \u001b[22m\u001b[34m10\u001b[39m\n",
      "\u001b[36m──\u001b[39m \u001b[1mColumn specification\u001b[22m \u001b[36m────────────────────────────────────────────────────────\u001b[39m\n",
      "\u001b[1mDelimiter:\u001b[22m \",\"\n",
      "\u001b[31mchr\u001b[39m  (1): site_name\n",
      "\u001b[32mdbl\u001b[39m  (5): day_of_week, day_of_year, interval_of_day, avg_mph, total_volume\n",
      "\u001b[33mlgl\u001b[39m  (2): missing_speed, missing_volume\n",
      "\u001b[34mdttm\u001b[39m (1): timestamp\n",
      "\u001b[34mdate\u001b[39m (1): date\n",
      "\n",
      "\u001b[36mℹ\u001b[39m Use `spec()` to retrieve the full column specification for this data.\n",
      "\u001b[36mℹ\u001b[39m Specify the column types or set `show_col_types = FALSE` to quiet this message.\n",
      "\u001b[1mRows: \u001b[22m\u001b[34m35040\u001b[39m \u001b[1mColumns: \u001b[22m\u001b[34m10\u001b[39m\n",
      "\u001b[36m──\u001b[39m \u001b[1mColumn specification\u001b[22m \u001b[36m────────────────────────────────────────────────────────\u001b[39m\n",
      "\u001b[1mDelimiter:\u001b[22m \",\"\n",
      "\u001b[31mchr\u001b[39m  (1): site_name\n",
      "\u001b[32mdbl\u001b[39m  (5): day_of_week, day_of_year, interval_of_day, avg_mph, total_volume\n",
      "\u001b[33mlgl\u001b[39m  (2): missing_speed, missing_volume\n",
      "\u001b[34mdttm\u001b[39m (1): timestamp\n",
      "\u001b[34mdate\u001b[39m (1): date\n",
      "\n",
      "\u001b[36mℹ\u001b[39m Use `spec()` to retrieve the full column specification for this data.\n",
      "\u001b[36mℹ\u001b[39m Specify the column types or set `show_col_types = FALSE` to quiet this message.\n",
      "\u001b[1mRows: \u001b[22m\u001b[34m35040\u001b[39m \u001b[1mColumns: \u001b[22m\u001b[34m10\u001b[39m\n",
      "\u001b[36m──\u001b[39m \u001b[1mColumn specification\u001b[22m \u001b[36m────────────────────────────────────────────────────────\u001b[39m\n",
      "\u001b[1mDelimiter:\u001b[22m \",\"\n",
      "\u001b[31mchr\u001b[39m  (1): site_name\n",
      "\u001b[32mdbl\u001b[39m  (5): day_of_week, day_of_year, interval_of_day, avg_mph, total_volume\n",
      "\u001b[33mlgl\u001b[39m  (2): missing_speed, missing_volume\n",
      "\u001b[34mdttm\u001b[39m (1): timestamp\n",
      "\u001b[34mdate\u001b[39m (1): date\n",
      "\n",
      "\u001b[36mℹ\u001b[39m Use `spec()` to retrieve the full column specification for this data.\n",
      "\u001b[36mℹ\u001b[39m Specify the column types or set `show_col_types = FALSE` to quiet this message.\n",
      "\u001b[1mRows: \u001b[22m\u001b[34m35040\u001b[39m \u001b[1mColumns: \u001b[22m\u001b[34m10\u001b[39m\n",
      "\u001b[36m──\u001b[39m \u001b[1mColumn specification\u001b[22m \u001b[36m────────────────────────────────────────────────────────\u001b[39m\n",
      "\u001b[1mDelimiter:\u001b[22m \",\"\n",
      "\u001b[31mchr\u001b[39m  (1): site_name\n",
      "\u001b[32mdbl\u001b[39m  (5): day_of_week, day_of_year, interval_of_day, avg_mph, total_volume\n",
      "\u001b[33mlgl\u001b[39m  (2): missing_speed, missing_volume\n",
      "\u001b[34mdttm\u001b[39m (1): timestamp\n",
      "\u001b[34mdate\u001b[39m (1): date\n",
      "\n",
      "\u001b[36mℹ\u001b[39m Use `spec()` to retrieve the full column specification for this data.\n",
      "\u001b[36mℹ\u001b[39m Specify the column types or set `show_col_types = FALSE` to quiet this message.\n"
     ]
    },
    {
     "name": "stderr",
     "output_type": "stream",
     "text": [
      "\u001b[1mRows: \u001b[22m\u001b[34m35040\u001b[39m \u001b[1mColumns: \u001b[22m\u001b[34m10\u001b[39m\n",
      "\u001b[36m──\u001b[39m \u001b[1mColumn specification\u001b[22m \u001b[36m────────────────────────────────────────────────────────\u001b[39m\n",
      "\u001b[1mDelimiter:\u001b[22m \",\"\n",
      "\u001b[31mchr\u001b[39m  (1): site_name\n",
      "\u001b[32mdbl\u001b[39m  (5): day_of_week, day_of_year, interval_of_day, avg_mph, total_volume\n",
      "\u001b[33mlgl\u001b[39m  (2): missing_speed, missing_volume\n",
      "\u001b[34mdttm\u001b[39m (1): timestamp\n",
      "\u001b[34mdate\u001b[39m (1): date\n",
      "\n",
      "\u001b[36mℹ\u001b[39m Use `spec()` to retrieve the full column specification for this data.\n",
      "\u001b[36mℹ\u001b[39m Specify the column types or set `show_col_types = FALSE` to quiet this message.\n",
      "\u001b[1mRows: \u001b[22m\u001b[34m35040\u001b[39m \u001b[1mColumns: \u001b[22m\u001b[34m10\u001b[39m\n",
      "\u001b[36m──\u001b[39m \u001b[1mColumn specification\u001b[22m \u001b[36m────────────────────────────────────────────────────────\u001b[39m\n",
      "\u001b[1mDelimiter:\u001b[22m \",\"\n",
      "\u001b[31mchr\u001b[39m  (1): site_name\n",
      "\u001b[32mdbl\u001b[39m  (5): day_of_week, day_of_year, interval_of_day, avg_mph, total_volume\n",
      "\u001b[33mlgl\u001b[39m  (2): missing_speed, missing_volume\n",
      "\u001b[34mdttm\u001b[39m (1): timestamp\n",
      "\u001b[34mdate\u001b[39m (1): date\n",
      "\n",
      "\u001b[36mℹ\u001b[39m Use `spec()` to retrieve the full column specification for this data.\n",
      "\u001b[36mℹ\u001b[39m Specify the column types or set `show_col_types = FALSE` to quiet this message.\n",
      "\u001b[1mRows: \u001b[22m\u001b[34m35040\u001b[39m \u001b[1mColumns: \u001b[22m\u001b[34m10\u001b[39m\n",
      "\u001b[36m──\u001b[39m \u001b[1mColumn specification\u001b[22m \u001b[36m────────────────────────────────────────────────────────\u001b[39m\n",
      "\u001b[1mDelimiter:\u001b[22m \",\"\n",
      "\u001b[31mchr\u001b[39m  (1): site_name\n",
      "\u001b[32mdbl\u001b[39m  (5): day_of_week, day_of_year, interval_of_day, avg_mph, total_volume\n",
      "\u001b[33mlgl\u001b[39m  (2): missing_speed, missing_volume\n",
      "\u001b[34mdttm\u001b[39m (1): timestamp\n",
      "\u001b[34mdate\u001b[39m (1): date\n",
      "\n",
      "\u001b[36mℹ\u001b[39m Use `spec()` to retrieve the full column specification for this data.\n",
      "\u001b[36mℹ\u001b[39m Specify the column types or set `show_col_types = FALSE` to quiet this message.\n",
      "\u001b[1mRows: \u001b[22m\u001b[34m35040\u001b[39m \u001b[1mColumns: \u001b[22m\u001b[34m10\u001b[39m\n",
      "\u001b[36m──\u001b[39m \u001b[1mColumn specification\u001b[22m \u001b[36m────────────────────────────────────────────────────────\u001b[39m\n",
      "\u001b[1mDelimiter:\u001b[22m \",\"\n",
      "\u001b[31mchr\u001b[39m  (1): site_name\n",
      "\u001b[32mdbl\u001b[39m  (5): day_of_week, day_of_year, interval_of_day, avg_mph, total_volume\n",
      "\u001b[33mlgl\u001b[39m  (2): missing_speed, missing_volume\n",
      "\u001b[34mdttm\u001b[39m (1): timestamp\n",
      "\u001b[34mdate\u001b[39m (1): date\n",
      "\n",
      "\u001b[36mℹ\u001b[39m Use `spec()` to retrieve the full column specification for this data.\n",
      "\u001b[36mℹ\u001b[39m Specify the column types or set `show_col_types = FALSE` to quiet this message.\n",
      "\u001b[1mRows: \u001b[22m\u001b[34m35040\u001b[39m \u001b[1mColumns: \u001b[22m\u001b[34m10\u001b[39m\n",
      "\u001b[36m──\u001b[39m \u001b[1mColumn specification\u001b[22m \u001b[36m────────────────────────────────────────────────────────\u001b[39m\n",
      "\u001b[1mDelimiter:\u001b[22m \",\"\n",
      "\u001b[31mchr\u001b[39m  (1): site_name\n",
      "\u001b[32mdbl\u001b[39m  (5): day_of_week, day_of_year, interval_of_day, avg_mph, total_volume\n",
      "\u001b[33mlgl\u001b[39m  (2): missing_speed, missing_volume\n",
      "\u001b[34mdttm\u001b[39m (1): timestamp\n",
      "\u001b[34mdate\u001b[39m (1): date\n",
      "\n",
      "\u001b[36mℹ\u001b[39m Use `spec()` to retrieve the full column specification for this data.\n",
      "\u001b[36mℹ\u001b[39m Specify the column types or set `show_col_types = FALSE` to quiet this message.\n",
      "\u001b[1mRows: \u001b[22m\u001b[34m35040\u001b[39m \u001b[1mColumns: \u001b[22m\u001b[34m10\u001b[39m\n",
      "\u001b[36m──\u001b[39m \u001b[1mColumn specification\u001b[22m \u001b[36m────────────────────────────────────────────────────────\u001b[39m\n",
      "\u001b[1mDelimiter:\u001b[22m \",\"\n",
      "\u001b[31mchr\u001b[39m  (1): site_name\n",
      "\u001b[32mdbl\u001b[39m  (5): day_of_week, day_of_year, interval_of_day, avg_mph, total_volume\n",
      "\u001b[33mlgl\u001b[39m  (2): missing_speed, missing_volume\n",
      "\u001b[34mdttm\u001b[39m (1): timestamp\n",
      "\u001b[34mdate\u001b[39m (1): date\n",
      "\n",
      "\u001b[36mℹ\u001b[39m Use `spec()` to retrieve the full column specification for this data.\n",
      "\u001b[36mℹ\u001b[39m Specify the column types or set `show_col_types = FALSE` to quiet this message.\n",
      "\u001b[1mRows: \u001b[22m\u001b[34m35040\u001b[39m \u001b[1mColumns: \u001b[22m\u001b[34m10\u001b[39m\n",
      "\u001b[36m──\u001b[39m \u001b[1mColumn specification\u001b[22m \u001b[36m────────────────────────────────────────────────────────\u001b[39m\n",
      "\u001b[1mDelimiter:\u001b[22m \",\"\n",
      "\u001b[31mchr\u001b[39m  (1): site_name\n",
      "\u001b[32mdbl\u001b[39m  (5): day_of_week, day_of_year, interval_of_day, avg_mph, total_volume\n",
      "\u001b[33mlgl\u001b[39m  (2): missing_speed, missing_volume\n",
      "\u001b[34mdttm\u001b[39m (1): timestamp\n",
      "\u001b[34mdate\u001b[39m (1): date\n",
      "\n",
      "\u001b[36mℹ\u001b[39m Use `spec()` to retrieve the full column specification for this data.\n",
      "\u001b[36mℹ\u001b[39m Specify the column types or set `show_col_types = FALSE` to quiet this message.\n",
      "\u001b[1mRows: \u001b[22m\u001b[34m35040\u001b[39m \u001b[1mColumns: \u001b[22m\u001b[34m10\u001b[39m\n",
      "\u001b[36m──\u001b[39m \u001b[1mColumn specification\u001b[22m \u001b[36m────────────────────────────────────────────────────────\u001b[39m\n",
      "\u001b[1mDelimiter:\u001b[22m \",\"\n",
      "\u001b[31mchr\u001b[39m  (1): site_name\n",
      "\u001b[32mdbl\u001b[39m  (5): day_of_week, day_of_year, interval_of_day, avg_mph, total_volume\n",
      "\u001b[33mlgl\u001b[39m  (2): missing_speed, missing_volume\n",
      "\u001b[34mdttm\u001b[39m (1): timestamp\n",
      "\u001b[34mdate\u001b[39m (1): date\n",
      "\n",
      "\u001b[36mℹ\u001b[39m Use `spec()` to retrieve the full column specification for this data.\n",
      "\u001b[36mℹ\u001b[39m Specify the column types or set `show_col_types = FALSE` to quiet this message.\n",
      "\u001b[1mRows: \u001b[22m\u001b[34m35040\u001b[39m \u001b[1mColumns: \u001b[22m\u001b[34m10\u001b[39m\n",
      "\u001b[36m──\u001b[39m \u001b[1mColumn specification\u001b[22m \u001b[36m────────────────────────────────────────────────────────\u001b[39m\n",
      "\u001b[1mDelimiter:\u001b[22m \",\"\n",
      "\u001b[31mchr\u001b[39m  (1): site_name\n",
      "\u001b[32mdbl\u001b[39m  (5): day_of_week, day_of_year, interval_of_day, avg_mph, total_volume\n",
      "\u001b[33mlgl\u001b[39m  (2): missing_speed, missing_volume\n",
      "\u001b[34mdttm\u001b[39m (1): timestamp\n",
      "\u001b[34mdate\u001b[39m (1): date\n",
      "\n",
      "\u001b[36mℹ\u001b[39m Use `spec()` to retrieve the full column specification for this data.\n",
      "\u001b[36mℹ\u001b[39m Specify the column types or set `show_col_types = FALSE` to quiet this message.\n",
      "\u001b[1mRows: \u001b[22m\u001b[34m35040\u001b[39m \u001b[1mColumns: \u001b[22m\u001b[34m10\u001b[39m\n",
      "\u001b[36m──\u001b[39m \u001b[1mColumn specification\u001b[22m \u001b[36m────────────────────────────────────────────────────────\u001b[39m\n",
      "\u001b[1mDelimiter:\u001b[22m \",\"\n",
      "\u001b[31mchr\u001b[39m  (1): site_name\n",
      "\u001b[32mdbl\u001b[39m  (5): day_of_week, day_of_year, interval_of_day, avg_mph, total_volume\n",
      "\u001b[33mlgl\u001b[39m  (2): missing_speed, missing_volume\n",
      "\u001b[34mdttm\u001b[39m (1): timestamp\n",
      "\u001b[34mdate\u001b[39m (1): date\n",
      "\n",
      "\u001b[36mℹ\u001b[39m Use `spec()` to retrieve the full column specification for this data.\n",
      "\u001b[36mℹ\u001b[39m Specify the column types or set `show_col_types = FALSE` to quiet this message.\n",
      "\u001b[1mRows: \u001b[22m\u001b[34m35040\u001b[39m \u001b[1mColumns: \u001b[22m\u001b[34m10\u001b[39m\n",
      "\u001b[36m──\u001b[39m \u001b[1mColumn specification\u001b[22m \u001b[36m────────────────────────────────────────────────────────\u001b[39m\n",
      "\u001b[1mDelimiter:\u001b[22m \",\"\n",
      "\u001b[31mchr\u001b[39m  (1): site_name\n",
      "\u001b[32mdbl\u001b[39m  (5): day_of_week, day_of_year, interval_of_day, avg_mph, total_volume\n",
      "\u001b[33mlgl\u001b[39m  (2): missing_speed, missing_volume\n",
      "\u001b[34mdttm\u001b[39m (1): timestamp\n",
      "\u001b[34mdate\u001b[39m (1): date\n",
      "\n",
      "\u001b[36mℹ\u001b[39m Use `spec()` to retrieve the full column specification for this data.\n",
      "\u001b[36mℹ\u001b[39m Specify the column types or set `show_col_types = FALSE` to quiet this message.\n",
      "\u001b[1mRows: \u001b[22m\u001b[34m35040\u001b[39m \u001b[1mColumns: \u001b[22m\u001b[34m10\u001b[39m\n",
      "\u001b[36m──\u001b[39m \u001b[1mColumn specification\u001b[22m \u001b[36m────────────────────────────────────────────────────────\u001b[39m\n",
      "\u001b[1mDelimiter:\u001b[22m \",\"\n",
      "\u001b[31mchr\u001b[39m  (1): site_name\n",
      "\u001b[32mdbl\u001b[39m  (5): day_of_week, day_of_year, interval_of_day, avg_mph, total_volume\n",
      "\u001b[33mlgl\u001b[39m  (2): missing_speed, missing_volume\n",
      "\u001b[34mdttm\u001b[39m (1): timestamp\n",
      "\u001b[34mdate\u001b[39m (1): date\n",
      "\n",
      "\u001b[36mℹ\u001b[39m Use `spec()` to retrieve the full column specification for this data.\n",
      "\u001b[36mℹ\u001b[39m Specify the column types or set `show_col_types = FALSE` to quiet this message.\n",
      "\u001b[1mRows: \u001b[22m\u001b[34m35040\u001b[39m \u001b[1mColumns: \u001b[22m\u001b[34m10\u001b[39m\n",
      "\u001b[36m──\u001b[39m \u001b[1mColumn specification\u001b[22m \u001b[36m────────────────────────────────────────────────────────\u001b[39m\n",
      "\u001b[1mDelimiter:\u001b[22m \",\"\n",
      "\u001b[31mchr\u001b[39m  (1): site_name\n",
      "\u001b[32mdbl\u001b[39m  (5): day_of_week, day_of_year, interval_of_day, avg_mph, total_volume\n",
      "\u001b[33mlgl\u001b[39m  (2): missing_speed, missing_volume\n",
      "\u001b[34mdttm\u001b[39m (1): timestamp\n",
      "\u001b[34mdate\u001b[39m (1): date\n",
      "\n",
      "\u001b[36mℹ\u001b[39m Use `spec()` to retrieve the full column specification for this data.\n",
      "\u001b[36mℹ\u001b[39m Specify the column types or set `show_col_types = FALSE` to quiet this message.\n",
      "\u001b[1mRows: \u001b[22m\u001b[34m35040\u001b[39m \u001b[1mColumns: \u001b[22m\u001b[34m10\u001b[39m\n",
      "\u001b[36m──\u001b[39m \u001b[1mColumn specification\u001b[22m \u001b[36m────────────────────────────────────────────────────────\u001b[39m\n",
      "\u001b[1mDelimiter:\u001b[22m \",\"\n",
      "\u001b[31mchr\u001b[39m  (1): site_name\n",
      "\u001b[32mdbl\u001b[39m  (5): day_of_week, day_of_year, interval_of_day, avg_mph, total_volume\n",
      "\u001b[33mlgl\u001b[39m  (2): missing_speed, missing_volume\n",
      "\u001b[34mdttm\u001b[39m (1): timestamp\n",
      "\u001b[34mdate\u001b[39m (1): date\n",
      "\n",
      "\u001b[36mℹ\u001b[39m Use `spec()` to retrieve the full column specification for this data.\n",
      "\u001b[36mℹ\u001b[39m Specify the column types or set `show_col_types = FALSE` to quiet this message.\n"
     ]
    },
    {
     "name": "stderr",
     "output_type": "stream",
     "text": [
      "\u001b[1mRows: \u001b[22m\u001b[34m35040\u001b[39m \u001b[1mColumns: \u001b[22m\u001b[34m10\u001b[39m\n",
      "\u001b[36m──\u001b[39m \u001b[1mColumn specification\u001b[22m \u001b[36m────────────────────────────────────────────────────────\u001b[39m\n",
      "\u001b[1mDelimiter:\u001b[22m \",\"\n",
      "\u001b[31mchr\u001b[39m  (1): site_name\n",
      "\u001b[32mdbl\u001b[39m  (5): day_of_week, day_of_year, interval_of_day, avg_mph, total_volume\n",
      "\u001b[33mlgl\u001b[39m  (2): missing_speed, missing_volume\n",
      "\u001b[34mdttm\u001b[39m (1): timestamp\n",
      "\u001b[34mdate\u001b[39m (1): date\n",
      "\n",
      "\u001b[36mℹ\u001b[39m Use `spec()` to retrieve the full column specification for this data.\n",
      "\u001b[36mℹ\u001b[39m Specify the column types or set `show_col_types = FALSE` to quiet this message.\n",
      "\u001b[1mRows: \u001b[22m\u001b[34m35040\u001b[39m \u001b[1mColumns: \u001b[22m\u001b[34m10\u001b[39m\n",
      "\u001b[36m──\u001b[39m \u001b[1mColumn specification\u001b[22m \u001b[36m────────────────────────────────────────────────────────\u001b[39m\n",
      "\u001b[1mDelimiter:\u001b[22m \",\"\n",
      "\u001b[31mchr\u001b[39m  (1): site_name\n",
      "\u001b[32mdbl\u001b[39m  (5): day_of_week, day_of_year, interval_of_day, avg_mph, total_volume\n",
      "\u001b[33mlgl\u001b[39m  (2): missing_speed, missing_volume\n",
      "\u001b[34mdttm\u001b[39m (1): timestamp\n",
      "\u001b[34mdate\u001b[39m (1): date\n",
      "\n",
      "\u001b[36mℹ\u001b[39m Use `spec()` to retrieve the full column specification for this data.\n",
      "\u001b[36mℹ\u001b[39m Specify the column types or set `show_col_types = FALSE` to quiet this message.\n",
      "\u001b[1mRows: \u001b[22m\u001b[34m35040\u001b[39m \u001b[1mColumns: \u001b[22m\u001b[34m10\u001b[39m\n",
      "\u001b[36m──\u001b[39m \u001b[1mColumn specification\u001b[22m \u001b[36m────────────────────────────────────────────────────────\u001b[39m\n",
      "\u001b[1mDelimiter:\u001b[22m \",\"\n",
      "\u001b[31mchr\u001b[39m  (1): site_name\n",
      "\u001b[32mdbl\u001b[39m  (5): day_of_week, day_of_year, interval_of_day, avg_mph, total_volume\n",
      "\u001b[33mlgl\u001b[39m  (2): missing_speed, missing_volume\n",
      "\u001b[34mdttm\u001b[39m (1): timestamp\n",
      "\u001b[34mdate\u001b[39m (1): date\n",
      "\n",
      "\u001b[36mℹ\u001b[39m Use `spec()` to retrieve the full column specification for this data.\n",
      "\u001b[36mℹ\u001b[39m Specify the column types or set `show_col_types = FALSE` to quiet this message.\n",
      "\u001b[1mRows: \u001b[22m\u001b[34m35040\u001b[39m \u001b[1mColumns: \u001b[22m\u001b[34m10\u001b[39m\n",
      "\u001b[36m──\u001b[39m \u001b[1mColumn specification\u001b[22m \u001b[36m────────────────────────────────────────────────────────\u001b[39m\n",
      "\u001b[1mDelimiter:\u001b[22m \",\"\n",
      "\u001b[31mchr\u001b[39m  (1): site_name\n",
      "\u001b[32mdbl\u001b[39m  (5): day_of_week, day_of_year, interval_of_day, avg_mph, total_volume\n",
      "\u001b[33mlgl\u001b[39m  (2): missing_speed, missing_volume\n",
      "\u001b[34mdttm\u001b[39m (1): timestamp\n",
      "\u001b[34mdate\u001b[39m (1): date\n",
      "\n",
      "\u001b[36mℹ\u001b[39m Use `spec()` to retrieve the full column specification for this data.\n",
      "\u001b[36mℹ\u001b[39m Specify the column types or set `show_col_types = FALSE` to quiet this message.\n",
      "\u001b[1mRows: \u001b[22m\u001b[34m35040\u001b[39m \u001b[1mColumns: \u001b[22m\u001b[34m10\u001b[39m\n",
      "\u001b[36m──\u001b[39m \u001b[1mColumn specification\u001b[22m \u001b[36m────────────────────────────────────────────────────────\u001b[39m\n",
      "\u001b[1mDelimiter:\u001b[22m \",\"\n",
      "\u001b[31mchr\u001b[39m  (1): site_name\n",
      "\u001b[32mdbl\u001b[39m  (5): day_of_week, day_of_year, interval_of_day, avg_mph, total_volume\n",
      "\u001b[33mlgl\u001b[39m  (2): missing_speed, missing_volume\n",
      "\u001b[34mdttm\u001b[39m (1): timestamp\n",
      "\u001b[34mdate\u001b[39m (1): date\n",
      "\n",
      "\u001b[36mℹ\u001b[39m Use `spec()` to retrieve the full column specification for this data.\n",
      "\u001b[36mℹ\u001b[39m Specify the column types or set `show_col_types = FALSE` to quiet this message.\n",
      "\u001b[1mRows: \u001b[22m\u001b[34m35040\u001b[39m \u001b[1mColumns: \u001b[22m\u001b[34m10\u001b[39m\n",
      "\u001b[36m──\u001b[39m \u001b[1mColumn specification\u001b[22m \u001b[36m────────────────────────────────────────────────────────\u001b[39m\n",
      "\u001b[1mDelimiter:\u001b[22m \",\"\n",
      "\u001b[31mchr\u001b[39m  (1): site_name\n",
      "\u001b[32mdbl\u001b[39m  (5): day_of_week, day_of_year, interval_of_day, avg_mph, total_volume\n",
      "\u001b[33mlgl\u001b[39m  (2): missing_speed, missing_volume\n",
      "\u001b[34mdttm\u001b[39m (1): timestamp\n",
      "\u001b[34mdate\u001b[39m (1): date\n",
      "\n",
      "\u001b[36mℹ\u001b[39m Use `spec()` to retrieve the full column specification for this data.\n",
      "\u001b[36mℹ\u001b[39m Specify the column types or set `show_col_types = FALSE` to quiet this message.\n",
      "\u001b[1mRows: \u001b[22m\u001b[34m35040\u001b[39m \u001b[1mColumns: \u001b[22m\u001b[34m10\u001b[39m\n",
      "\u001b[36m──\u001b[39m \u001b[1mColumn specification\u001b[22m \u001b[36m────────────────────────────────────────────────────────\u001b[39m\n",
      "\u001b[1mDelimiter:\u001b[22m \",\"\n",
      "\u001b[31mchr\u001b[39m  (1): site_name\n",
      "\u001b[32mdbl\u001b[39m  (5): day_of_week, day_of_year, interval_of_day, avg_mph, total_volume\n",
      "\u001b[33mlgl\u001b[39m  (2): missing_speed, missing_volume\n",
      "\u001b[34mdttm\u001b[39m (1): timestamp\n",
      "\u001b[34mdate\u001b[39m (1): date\n",
      "\n",
      "\u001b[36mℹ\u001b[39m Use `spec()` to retrieve the full column specification for this data.\n",
      "\u001b[36mℹ\u001b[39m Specify the column types or set `show_col_types = FALSE` to quiet this message.\n",
      "\u001b[1mRows: \u001b[22m\u001b[34m35040\u001b[39m \u001b[1mColumns: \u001b[22m\u001b[34m10\u001b[39m\n",
      "\u001b[36m──\u001b[39m \u001b[1mColumn specification\u001b[22m \u001b[36m────────────────────────────────────────────────────────\u001b[39m\n",
      "\u001b[1mDelimiter:\u001b[22m \",\"\n",
      "\u001b[31mchr\u001b[39m  (1): site_name\n",
      "\u001b[32mdbl\u001b[39m  (5): day_of_week, day_of_year, interval_of_day, avg_mph, total_volume\n",
      "\u001b[33mlgl\u001b[39m  (2): missing_speed, missing_volume\n",
      "\u001b[34mdttm\u001b[39m (1): timestamp\n",
      "\u001b[34mdate\u001b[39m (1): date\n",
      "\n",
      "\u001b[36mℹ\u001b[39m Use `spec()` to retrieve the full column specification for this data.\n",
      "\u001b[36mℹ\u001b[39m Specify the column types or set `show_col_types = FALSE` to quiet this message.\n",
      "\u001b[1mRows: \u001b[22m\u001b[34m35040\u001b[39m \u001b[1mColumns: \u001b[22m\u001b[34m10\u001b[39m\n",
      "\u001b[36m──\u001b[39m \u001b[1mColumn specification\u001b[22m \u001b[36m────────────────────────────────────────────────────────\u001b[39m\n",
      "\u001b[1mDelimiter:\u001b[22m \",\"\n",
      "\u001b[31mchr\u001b[39m  (1): site_name\n",
      "\u001b[32mdbl\u001b[39m  (5): day_of_week, day_of_year, interval_of_day, avg_mph, total_volume\n",
      "\u001b[33mlgl\u001b[39m  (2): missing_speed, missing_volume\n",
      "\u001b[34mdttm\u001b[39m (1): timestamp\n",
      "\u001b[34mdate\u001b[39m (1): date\n",
      "\n",
      "\u001b[36mℹ\u001b[39m Use `spec()` to retrieve the full column specification for this data.\n",
      "\u001b[36mℹ\u001b[39m Specify the column types or set `show_col_types = FALSE` to quiet this message.\n",
      "\u001b[1mRows: \u001b[22m\u001b[34m35040\u001b[39m \u001b[1mColumns: \u001b[22m\u001b[34m10\u001b[39m\n",
      "\u001b[36m──\u001b[39m \u001b[1mColumn specification\u001b[22m \u001b[36m────────────────────────────────────────────────────────\u001b[39m\n",
      "\u001b[1mDelimiter:\u001b[22m \",\"\n",
      "\u001b[31mchr\u001b[39m  (1): site_name\n",
      "\u001b[32mdbl\u001b[39m  (5): day_of_week, day_of_year, interval_of_day, avg_mph, total_volume\n",
      "\u001b[33mlgl\u001b[39m  (2): missing_speed, missing_volume\n",
      "\u001b[34mdttm\u001b[39m (1): timestamp\n",
      "\u001b[34mdate\u001b[39m (1): date\n",
      "\n",
      "\u001b[36mℹ\u001b[39m Use `spec()` to retrieve the full column specification for this data.\n",
      "\u001b[36mℹ\u001b[39m Specify the column types or set `show_col_types = FALSE` to quiet this message.\n",
      "\u001b[1mRows: \u001b[22m\u001b[34m35040\u001b[39m \u001b[1mColumns: \u001b[22m\u001b[34m10\u001b[39m\n",
      "\u001b[36m──\u001b[39m \u001b[1mColumn specification\u001b[22m \u001b[36m────────────────────────────────────────────────────────\u001b[39m\n",
      "\u001b[1mDelimiter:\u001b[22m \",\"\n",
      "\u001b[31mchr\u001b[39m  (1): site_name\n",
      "\u001b[32mdbl\u001b[39m  (5): day_of_week, day_of_year, interval_of_day, avg_mph, total_volume\n",
      "\u001b[33mlgl\u001b[39m  (2): missing_speed, missing_volume\n",
      "\u001b[34mdttm\u001b[39m (1): timestamp\n",
      "\u001b[34mdate\u001b[39m (1): date\n",
      "\n",
      "\u001b[36mℹ\u001b[39m Use `spec()` to retrieve the full column specification for this data.\n",
      "\u001b[36mℹ\u001b[39m Specify the column types or set `show_col_types = FALSE` to quiet this message.\n",
      "\u001b[1mRows: \u001b[22m\u001b[34m35040\u001b[39m \u001b[1mColumns: \u001b[22m\u001b[34m10\u001b[39m\n",
      "\u001b[36m──\u001b[39m \u001b[1mColumn specification\u001b[22m \u001b[36m────────────────────────────────────────────────────────\u001b[39m\n",
      "\u001b[1mDelimiter:\u001b[22m \",\"\n",
      "\u001b[31mchr\u001b[39m  (1): site_name\n",
      "\u001b[32mdbl\u001b[39m  (5): day_of_week, day_of_year, interval_of_day, avg_mph, total_volume\n",
      "\u001b[33mlgl\u001b[39m  (2): missing_speed, missing_volume\n",
      "\u001b[34mdttm\u001b[39m (1): timestamp\n",
      "\u001b[34mdate\u001b[39m (1): date\n",
      "\n",
      "\u001b[36mℹ\u001b[39m Use `spec()` to retrieve the full column specification for this data.\n",
      "\u001b[36mℹ\u001b[39m Specify the column types or set `show_col_types = FALSE` to quiet this message.\n",
      "\u001b[1mRows: \u001b[22m\u001b[34m35040\u001b[39m \u001b[1mColumns: \u001b[22m\u001b[34m10\u001b[39m\n",
      "\u001b[36m──\u001b[39m \u001b[1mColumn specification\u001b[22m \u001b[36m────────────────────────────────────────────────────────\u001b[39m\n",
      "\u001b[1mDelimiter:\u001b[22m \",\"\n",
      "\u001b[31mchr\u001b[39m  (1): site_name\n",
      "\u001b[32mdbl\u001b[39m  (5): day_of_week, day_of_year, interval_of_day, avg_mph, total_volume\n",
      "\u001b[33mlgl\u001b[39m  (2): missing_speed, missing_volume\n",
      "\u001b[34mdttm\u001b[39m (1): timestamp\n",
      "\u001b[34mdate\u001b[39m (1): date\n",
      "\n",
      "\u001b[36mℹ\u001b[39m Use `spec()` to retrieve the full column specification for this data.\n",
      "\u001b[36mℹ\u001b[39m Specify the column types or set `show_col_types = FALSE` to quiet this message.\n",
      "\u001b[1mRows: \u001b[22m\u001b[34m35040\u001b[39m \u001b[1mColumns: \u001b[22m\u001b[34m10\u001b[39m\n",
      "\u001b[36m──\u001b[39m \u001b[1mColumn specification\u001b[22m \u001b[36m────────────────────────────────────────────────────────\u001b[39m\n",
      "\u001b[1mDelimiter:\u001b[22m \",\"\n",
      "\u001b[31mchr\u001b[39m  (1): site_name\n",
      "\u001b[32mdbl\u001b[39m  (5): day_of_week, day_of_year, interval_of_day, avg_mph, total_volume\n",
      "\u001b[33mlgl\u001b[39m  (2): missing_speed, missing_volume\n",
      "\u001b[34mdttm\u001b[39m (1): timestamp\n",
      "\u001b[34mdate\u001b[39m (1): date\n",
      "\n",
      "\u001b[36mℹ\u001b[39m Use `spec()` to retrieve the full column specification for this data.\n",
      "\u001b[36mℹ\u001b[39m Specify the column types or set `show_col_types = FALSE` to quiet this message.\n"
     ]
    },
    {
     "name": "stderr",
     "output_type": "stream",
     "text": [
      "\u001b[1mRows: \u001b[22m\u001b[34m35040\u001b[39m \u001b[1mColumns: \u001b[22m\u001b[34m10\u001b[39m\n",
      "\u001b[36m──\u001b[39m \u001b[1mColumn specification\u001b[22m \u001b[36m────────────────────────────────────────────────────────\u001b[39m\n",
      "\u001b[1mDelimiter:\u001b[22m \",\"\n",
      "\u001b[31mchr\u001b[39m  (1): site_name\n",
      "\u001b[32mdbl\u001b[39m  (5): day_of_week, day_of_year, interval_of_day, avg_mph, total_volume\n",
      "\u001b[33mlgl\u001b[39m  (2): missing_speed, missing_volume\n",
      "\u001b[34mdttm\u001b[39m (1): timestamp\n",
      "\u001b[34mdate\u001b[39m (1): date\n",
      "\n",
      "\u001b[36mℹ\u001b[39m Use `spec()` to retrieve the full column specification for this data.\n",
      "\u001b[36mℹ\u001b[39m Specify the column types or set `show_col_types = FALSE` to quiet this message.\n",
      "\u001b[1mRows: \u001b[22m\u001b[34m35040\u001b[39m \u001b[1mColumns: \u001b[22m\u001b[34m10\u001b[39m\n",
      "\u001b[36m──\u001b[39m \u001b[1mColumn specification\u001b[22m \u001b[36m────────────────────────────────────────────────────────\u001b[39m\n",
      "\u001b[1mDelimiter:\u001b[22m \",\"\n",
      "\u001b[31mchr\u001b[39m  (1): site_name\n",
      "\u001b[32mdbl\u001b[39m  (5): day_of_week, day_of_year, interval_of_day, avg_mph, total_volume\n",
      "\u001b[33mlgl\u001b[39m  (2): missing_speed, missing_volume\n",
      "\u001b[34mdttm\u001b[39m (1): timestamp\n",
      "\u001b[34mdate\u001b[39m (1): date\n",
      "\n",
      "\u001b[36mℹ\u001b[39m Use `spec()` to retrieve the full column specification for this data.\n",
      "\u001b[36mℹ\u001b[39m Specify the column types or set `show_col_types = FALSE` to quiet this message.\n",
      "\u001b[1mRows: \u001b[22m\u001b[34m35040\u001b[39m \u001b[1mColumns: \u001b[22m\u001b[34m10\u001b[39m\n",
      "\u001b[36m──\u001b[39m \u001b[1mColumn specification\u001b[22m \u001b[36m────────────────────────────────────────────────────────\u001b[39m\n",
      "\u001b[1mDelimiter:\u001b[22m \",\"\n",
      "\u001b[31mchr\u001b[39m  (1): site_name\n",
      "\u001b[32mdbl\u001b[39m  (5): day_of_week, day_of_year, interval_of_day, avg_mph, total_volume\n",
      "\u001b[33mlgl\u001b[39m  (2): missing_speed, missing_volume\n",
      "\u001b[34mdttm\u001b[39m (1): timestamp\n",
      "\u001b[34mdate\u001b[39m (1): date\n",
      "\n",
      "\u001b[36mℹ\u001b[39m Use `spec()` to retrieve the full column specification for this data.\n",
      "\u001b[36mℹ\u001b[39m Specify the column types or set `show_col_types = FALSE` to quiet this message.\n",
      "\u001b[1mRows: \u001b[22m\u001b[34m35040\u001b[39m \u001b[1mColumns: \u001b[22m\u001b[34m10\u001b[39m\n",
      "\u001b[36m──\u001b[39m \u001b[1mColumn specification\u001b[22m \u001b[36m────────────────────────────────────────────────────────\u001b[39m\n",
      "\u001b[1mDelimiter:\u001b[22m \",\"\n",
      "\u001b[31mchr\u001b[39m  (1): site_name\n",
      "\u001b[32mdbl\u001b[39m  (5): day_of_week, day_of_year, interval_of_day, avg_mph, total_volume\n",
      "\u001b[33mlgl\u001b[39m  (2): missing_speed, missing_volume\n",
      "\u001b[34mdttm\u001b[39m (1): timestamp\n",
      "\u001b[34mdate\u001b[39m (1): date\n",
      "\n",
      "\u001b[36mℹ\u001b[39m Use `spec()` to retrieve the full column specification for this data.\n",
      "\u001b[36mℹ\u001b[39m Specify the column types or set `show_col_types = FALSE` to quiet this message.\n",
      "\u001b[1mRows: \u001b[22m\u001b[34m35040\u001b[39m \u001b[1mColumns: \u001b[22m\u001b[34m10\u001b[39m\n",
      "\u001b[36m──\u001b[39m \u001b[1mColumn specification\u001b[22m \u001b[36m────────────────────────────────────────────────────────\u001b[39m\n",
      "\u001b[1mDelimiter:\u001b[22m \",\"\n",
      "\u001b[31mchr\u001b[39m  (1): site_name\n",
      "\u001b[32mdbl\u001b[39m  (5): day_of_week, day_of_year, interval_of_day, avg_mph, total_volume\n",
      "\u001b[33mlgl\u001b[39m  (2): missing_speed, missing_volume\n",
      "\u001b[34mdttm\u001b[39m (1): timestamp\n",
      "\u001b[34mdate\u001b[39m (1): date\n",
      "\n",
      "\u001b[36mℹ\u001b[39m Use `spec()` to retrieve the full column specification for this data.\n",
      "\u001b[36mℹ\u001b[39m Specify the column types or set `show_col_types = FALSE` to quiet this message.\n",
      "\u001b[1mRows: \u001b[22m\u001b[34m35040\u001b[39m \u001b[1mColumns: \u001b[22m\u001b[34m10\u001b[39m\n",
      "\u001b[36m──\u001b[39m \u001b[1mColumn specification\u001b[22m \u001b[36m────────────────────────────────────────────────────────\u001b[39m\n",
      "\u001b[1mDelimiter:\u001b[22m \",\"\n",
      "\u001b[31mchr\u001b[39m  (1): site_name\n",
      "\u001b[32mdbl\u001b[39m  (5): day_of_week, day_of_year, interval_of_day, avg_mph, total_volume\n",
      "\u001b[33mlgl\u001b[39m  (2): missing_speed, missing_volume\n",
      "\u001b[34mdttm\u001b[39m (1): timestamp\n",
      "\u001b[34mdate\u001b[39m (1): date\n",
      "\n",
      "\u001b[36mℹ\u001b[39m Use `spec()` to retrieve the full column specification for this data.\n",
      "\u001b[36mℹ\u001b[39m Specify the column types or set `show_col_types = FALSE` to quiet this message.\n",
      "\u001b[1mRows: \u001b[22m\u001b[34m35040\u001b[39m \u001b[1mColumns: \u001b[22m\u001b[34m10\u001b[39m\n",
      "\u001b[36m──\u001b[39m \u001b[1mColumn specification\u001b[22m \u001b[36m────────────────────────────────────────────────────────\u001b[39m\n",
      "\u001b[1mDelimiter:\u001b[22m \",\"\n",
      "\u001b[31mchr\u001b[39m  (1): site_name\n",
      "\u001b[32mdbl\u001b[39m  (5): day_of_week, day_of_year, interval_of_day, avg_mph, total_volume\n",
      "\u001b[33mlgl\u001b[39m  (2): missing_speed, missing_volume\n",
      "\u001b[34mdttm\u001b[39m (1): timestamp\n",
      "\u001b[34mdate\u001b[39m (1): date\n",
      "\n",
      "\u001b[36mℹ\u001b[39m Use `spec()` to retrieve the full column specification for this data.\n",
      "\u001b[36mℹ\u001b[39m Specify the column types or set `show_col_types = FALSE` to quiet this message.\n",
      "\u001b[1mRows: \u001b[22m\u001b[34m35040\u001b[39m \u001b[1mColumns: \u001b[22m\u001b[34m10\u001b[39m\n",
      "\u001b[36m──\u001b[39m \u001b[1mColumn specification\u001b[22m \u001b[36m────────────────────────────────────────────────────────\u001b[39m\n",
      "\u001b[1mDelimiter:\u001b[22m \",\"\n",
      "\u001b[31mchr\u001b[39m  (1): site_name\n",
      "\u001b[32mdbl\u001b[39m  (5): day_of_week, day_of_year, interval_of_day, avg_mph, total_volume\n",
      "\u001b[33mlgl\u001b[39m  (2): missing_speed, missing_volume\n",
      "\u001b[34mdttm\u001b[39m (1): timestamp\n",
      "\u001b[34mdate\u001b[39m (1): date\n",
      "\n",
      "\u001b[36mℹ\u001b[39m Use `spec()` to retrieve the full column specification for this data.\n",
      "\u001b[36mℹ\u001b[39m Specify the column types or set `show_col_types = FALSE` to quiet this message.\n",
      "\u001b[1mRows: \u001b[22m\u001b[34m35040\u001b[39m \u001b[1mColumns: \u001b[22m\u001b[34m10\u001b[39m\n",
      "\u001b[36m──\u001b[39m \u001b[1mColumn specification\u001b[22m \u001b[36m────────────────────────────────────────────────────────\u001b[39m\n",
      "\u001b[1mDelimiter:\u001b[22m \",\"\n",
      "\u001b[31mchr\u001b[39m  (1): site_name\n",
      "\u001b[32mdbl\u001b[39m  (5): day_of_week, day_of_year, interval_of_day, avg_mph, total_volume\n",
      "\u001b[33mlgl\u001b[39m  (2): missing_speed, missing_volume\n",
      "\u001b[34mdttm\u001b[39m (1): timestamp\n",
      "\u001b[34mdate\u001b[39m (1): date\n",
      "\n",
      "\u001b[36mℹ\u001b[39m Use `spec()` to retrieve the full column specification for this data.\n",
      "\u001b[36mℹ\u001b[39m Specify the column types or set `show_col_types = FALSE` to quiet this message.\n",
      "\u001b[1mRows: \u001b[22m\u001b[34m35040\u001b[39m \u001b[1mColumns: \u001b[22m\u001b[34m10\u001b[39m\n",
      "\u001b[36m──\u001b[39m \u001b[1mColumn specification\u001b[22m \u001b[36m────────────────────────────────────────────────────────\u001b[39m\n",
      "\u001b[1mDelimiter:\u001b[22m \",\"\n",
      "\u001b[31mchr\u001b[39m  (1): site_name\n",
      "\u001b[32mdbl\u001b[39m  (5): day_of_week, day_of_year, interval_of_day, avg_mph, total_volume\n",
      "\u001b[33mlgl\u001b[39m  (2): missing_speed, missing_volume\n",
      "\u001b[34mdttm\u001b[39m (1): timestamp\n",
      "\u001b[34mdate\u001b[39m (1): date\n",
      "\n",
      "\u001b[36mℹ\u001b[39m Use `spec()` to retrieve the full column specification for this data.\n",
      "\u001b[36mℹ\u001b[39m Specify the column types or set `show_col_types = FALSE` to quiet this message.\n",
      "\u001b[1mRows: \u001b[22m\u001b[34m35040\u001b[39m \u001b[1mColumns: \u001b[22m\u001b[34m10\u001b[39m\n",
      "\u001b[36m──\u001b[39m \u001b[1mColumn specification\u001b[22m \u001b[36m────────────────────────────────────────────────────────\u001b[39m\n",
      "\u001b[1mDelimiter:\u001b[22m \",\"\n",
      "\u001b[31mchr\u001b[39m  (1): site_name\n",
      "\u001b[32mdbl\u001b[39m  (5): day_of_week, day_of_year, interval_of_day, avg_mph, total_volume\n",
      "\u001b[33mlgl\u001b[39m  (2): missing_speed, missing_volume\n",
      "\u001b[34mdttm\u001b[39m (1): timestamp\n",
      "\u001b[34mdate\u001b[39m (1): date\n",
      "\n",
      "\u001b[36mℹ\u001b[39m Use `spec()` to retrieve the full column specification for this data.\n",
      "\u001b[36mℹ\u001b[39m Specify the column types or set `show_col_types = FALSE` to quiet this message.\n",
      "\u001b[1mRows: \u001b[22m\u001b[34m35040\u001b[39m \u001b[1mColumns: \u001b[22m\u001b[34m10\u001b[39m\n",
      "\u001b[36m──\u001b[39m \u001b[1mColumn specification\u001b[22m \u001b[36m────────────────────────────────────────────────────────\u001b[39m\n",
      "\u001b[1mDelimiter:\u001b[22m \",\"\n",
      "\u001b[31mchr\u001b[39m  (1): site_name\n",
      "\u001b[32mdbl\u001b[39m  (5): day_of_week, day_of_year, interval_of_day, avg_mph, total_volume\n",
      "\u001b[33mlgl\u001b[39m  (2): missing_speed, missing_volume\n",
      "\u001b[34mdttm\u001b[39m (1): timestamp\n",
      "\u001b[34mdate\u001b[39m (1): date\n",
      "\n",
      "\u001b[36mℹ\u001b[39m Use `spec()` to retrieve the full column specification for this data.\n",
      "\u001b[36mℹ\u001b[39m Specify the column types or set `show_col_types = FALSE` to quiet this message.\n",
      "\u001b[1mRows: \u001b[22m\u001b[34m35040\u001b[39m \u001b[1mColumns: \u001b[22m\u001b[34m10\u001b[39m\n",
      "\u001b[36m──\u001b[39m \u001b[1mColumn specification\u001b[22m \u001b[36m────────────────────────────────────────────────────────\u001b[39m\n",
      "\u001b[1mDelimiter:\u001b[22m \",\"\n",
      "\u001b[31mchr\u001b[39m  (1): site_name\n",
      "\u001b[32mdbl\u001b[39m  (5): day_of_week, day_of_year, interval_of_day, avg_mph, total_volume\n",
      "\u001b[33mlgl\u001b[39m  (2): missing_speed, missing_volume\n",
      "\u001b[34mdttm\u001b[39m (1): timestamp\n",
      "\u001b[34mdate\u001b[39m (1): date\n",
      "\n",
      "\u001b[36mℹ\u001b[39m Use `spec()` to retrieve the full column specification for this data.\n",
      "\u001b[36mℹ\u001b[39m Specify the column types or set `show_col_types = FALSE` to quiet this message.\n",
      "\u001b[1mRows: \u001b[22m\u001b[34m35040\u001b[39m \u001b[1mColumns: \u001b[22m\u001b[34m10\u001b[39m\n",
      "\u001b[36m──\u001b[39m \u001b[1mColumn specification\u001b[22m \u001b[36m────────────────────────────────────────────────────────\u001b[39m\n",
      "\u001b[1mDelimiter:\u001b[22m \",\"\n",
      "\u001b[31mchr\u001b[39m  (1): site_name\n",
      "\u001b[32mdbl\u001b[39m  (5): day_of_week, day_of_year, interval_of_day, avg_mph, total_volume\n",
      "\u001b[33mlgl\u001b[39m  (2): missing_speed, missing_volume\n",
      "\u001b[34mdttm\u001b[39m (1): timestamp\n",
      "\u001b[34mdate\u001b[39m (1): date\n",
      "\n",
      "\u001b[36mℹ\u001b[39m Use `spec()` to retrieve the full column specification for this data.\n",
      "\u001b[36mℹ\u001b[39m Specify the column types or set `show_col_types = FALSE` to quiet this message.\n"
     ]
    },
    {
     "name": "stderr",
     "output_type": "stream",
     "text": [
      "\u001b[1mRows: \u001b[22m\u001b[34m35040\u001b[39m \u001b[1mColumns: \u001b[22m\u001b[34m10\u001b[39m\n",
      "\u001b[36m──\u001b[39m \u001b[1mColumn specification\u001b[22m \u001b[36m────────────────────────────────────────────────────────\u001b[39m\n",
      "\u001b[1mDelimiter:\u001b[22m \",\"\n",
      "\u001b[31mchr\u001b[39m  (1): site_name\n",
      "\u001b[32mdbl\u001b[39m  (5): day_of_week, day_of_year, interval_of_day, avg_mph, total_volume\n",
      "\u001b[33mlgl\u001b[39m  (2): missing_speed, missing_volume\n",
      "\u001b[34mdttm\u001b[39m (1): timestamp\n",
      "\u001b[34mdate\u001b[39m (1): date\n",
      "\n",
      "\u001b[36mℹ\u001b[39m Use `spec()` to retrieve the full column specification for this data.\n",
      "\u001b[36mℹ\u001b[39m Specify the column types or set `show_col_types = FALSE` to quiet this message.\n",
      "\u001b[1mRows: \u001b[22m\u001b[34m35040\u001b[39m \u001b[1mColumns: \u001b[22m\u001b[34m10\u001b[39m\n",
      "\u001b[36m──\u001b[39m \u001b[1mColumn specification\u001b[22m \u001b[36m────────────────────────────────────────────────────────\u001b[39m\n",
      "\u001b[1mDelimiter:\u001b[22m \",\"\n",
      "\u001b[31mchr\u001b[39m  (1): site_name\n",
      "\u001b[32mdbl\u001b[39m  (5): day_of_week, day_of_year, interval_of_day, avg_mph, total_volume\n",
      "\u001b[33mlgl\u001b[39m  (2): missing_speed, missing_volume\n",
      "\u001b[34mdttm\u001b[39m (1): timestamp\n",
      "\u001b[34mdate\u001b[39m (1): date\n",
      "\n",
      "\u001b[36mℹ\u001b[39m Use `spec()` to retrieve the full column specification for this data.\n",
      "\u001b[36mℹ\u001b[39m Specify the column types or set `show_col_types = FALSE` to quiet this message.\n",
      "\u001b[1mRows: \u001b[22m\u001b[34m35040\u001b[39m \u001b[1mColumns: \u001b[22m\u001b[34m10\u001b[39m\n",
      "\u001b[36m──\u001b[39m \u001b[1mColumn specification\u001b[22m \u001b[36m────────────────────────────────────────────────────────\u001b[39m\n",
      "\u001b[1mDelimiter:\u001b[22m \",\"\n",
      "\u001b[31mchr\u001b[39m  (1): site_name\n",
      "\u001b[32mdbl\u001b[39m  (5): day_of_week, day_of_year, interval_of_day, avg_mph, total_volume\n",
      "\u001b[33mlgl\u001b[39m  (2): missing_speed, missing_volume\n",
      "\u001b[34mdttm\u001b[39m (1): timestamp\n",
      "\u001b[34mdate\u001b[39m (1): date\n",
      "\n",
      "\u001b[36mℹ\u001b[39m Use `spec()` to retrieve the full column specification for this data.\n",
      "\u001b[36mℹ\u001b[39m Specify the column types or set `show_col_types = FALSE` to quiet this message.\n",
      "\u001b[1mRows: \u001b[22m\u001b[34m35040\u001b[39m \u001b[1mColumns: \u001b[22m\u001b[34m10\u001b[39m\n",
      "\u001b[36m──\u001b[39m \u001b[1mColumn specification\u001b[22m \u001b[36m────────────────────────────────────────────────────────\u001b[39m\n",
      "\u001b[1mDelimiter:\u001b[22m \",\"\n",
      "\u001b[31mchr\u001b[39m  (1): site_name\n",
      "\u001b[32mdbl\u001b[39m  (5): day_of_week, day_of_year, interval_of_day, avg_mph, total_volume\n",
      "\u001b[33mlgl\u001b[39m  (2): missing_speed, missing_volume\n",
      "\u001b[34mdttm\u001b[39m (1): timestamp\n",
      "\u001b[34mdate\u001b[39m (1): date\n",
      "\n",
      "\u001b[36mℹ\u001b[39m Use `spec()` to retrieve the full column specification for this data.\n",
      "\u001b[36mℹ\u001b[39m Specify the column types or set `show_col_types = FALSE` to quiet this message.\n",
      "\u001b[1mRows: \u001b[22m\u001b[34m35040\u001b[39m \u001b[1mColumns: \u001b[22m\u001b[34m10\u001b[39m\n",
      "\u001b[36m──\u001b[39m \u001b[1mColumn specification\u001b[22m \u001b[36m────────────────────────────────────────────────────────\u001b[39m\n",
      "\u001b[1mDelimiter:\u001b[22m \",\"\n",
      "\u001b[31mchr\u001b[39m  (1): site_name\n",
      "\u001b[32mdbl\u001b[39m  (5): day_of_week, day_of_year, interval_of_day, avg_mph, total_volume\n",
      "\u001b[33mlgl\u001b[39m  (2): missing_speed, missing_volume\n",
      "\u001b[34mdttm\u001b[39m (1): timestamp\n",
      "\u001b[34mdate\u001b[39m (1): date\n",
      "\n",
      "\u001b[36mℹ\u001b[39m Use `spec()` to retrieve the full column specification for this data.\n",
      "\u001b[36mℹ\u001b[39m Specify the column types or set `show_col_types = FALSE` to quiet this message.\n",
      "\u001b[1mRows: \u001b[22m\u001b[34m35040\u001b[39m \u001b[1mColumns: \u001b[22m\u001b[34m10\u001b[39m\n",
      "\u001b[36m──\u001b[39m \u001b[1mColumn specification\u001b[22m \u001b[36m────────────────────────────────────────────────────────\u001b[39m\n",
      "\u001b[1mDelimiter:\u001b[22m \",\"\n",
      "\u001b[31mchr\u001b[39m  (1): site_name\n",
      "\u001b[32mdbl\u001b[39m  (5): day_of_week, day_of_year, interval_of_day, avg_mph, total_volume\n",
      "\u001b[33mlgl\u001b[39m  (2): missing_speed, missing_volume\n",
      "\u001b[34mdttm\u001b[39m (1): timestamp\n",
      "\u001b[34mdate\u001b[39m (1): date\n",
      "\n",
      "\u001b[36mℹ\u001b[39m Use `spec()` to retrieve the full column specification for this data.\n",
      "\u001b[36mℹ\u001b[39m Specify the column types or set `show_col_types = FALSE` to quiet this message.\n"
     ]
    }
   ],
   "source": [
    "# Read in all files from the Data/Processed directory\n",
    "england_fnames <- list.files(\"Data/Processed/Highways_England/\", pattern=\"*.csv\", full.names=TRUE)\n",
    "england_df_list <- lapply(england_fnames, read_csv)\n",
    "\n",
    "portland_fnames <- list.files(\"Data/Processed/Portland/\", pattern=\"*.csv\", full.names=TRUE)\n",
    "portland_df_list <- lapply(portland_fnames, read_csv)\n",
    "\n",
    "utah_fnames <- list.files(\"Data/Processed/Utah/\", pattern=\"*.csv\", full.names=TRUE)\n",
    "utah_df_list <- lapply(utah_fnames, read_csv)"
   ]
  },
  {
   "cell_type": "code",
   "execution_count": 4,
   "id": "a323cff2",
   "metadata": {},
   "outputs": [],
   "source": [
    "# Ensure that the rows in each data frame are in proper chronological order \n",
    "england_df_list <- lapply(england_df_list, function(x) x %>% arrange(timestamp))\n",
    "portland_df_list <- lapply(portland_df_list, function(x) x %>% arrange(timestamp))\n",
    "utah_df_list <- lapply(utah_df_list, function(x) x %>% arrange(timestamp))    "
   ]
  },
  {
   "cell_type": "code",
   "execution_count": 5,
   "id": "bfb66cbd",
   "metadata": {},
   "outputs": [],
   "source": [
    "# Create one list of all data frames\n",
    "total_df_list <- append(append(england_df_list, portland_df_list), utah_df_list)"
   ]
  },
  {
   "cell_type": "code",
   "execution_count": 6,
   "id": "6b73e5eb",
   "metadata": {},
   "outputs": [],
   "source": [
    "# Randomly create a list of starting points from which we we sample each data frame\n",
    "\n",
    "# Set the seed\n",
    "set.seed(54321)\n",
    "\n",
    "# Sample without replacement as to ensure the starting time for each time series is different\n",
    "starting_points <- sample(1:((96*365)-(96*12*7)), \n",
    "                          length(total_df_list), \n",
    "                          replace=FALSE)\n",
    "\n",
    "# Create the ending points by adding on 12 weeks to the starting points\n",
    "ending_points <- starting_points + (96*7*12) - 1"
   ]
  },
  {
   "cell_type": "code",
   "execution_count": 7,
   "id": "fd48f21e",
   "metadata": {},
   "outputs": [],
   "source": [
    "# For each df in our list, create a row number column called 'rn' - this will allow us to find the starting point\n",
    "# for each sample using the above starting_points array\n",
    "total_df_list <- lapply(total_df_list, function(x) x %>% mutate(rn = row_number()))"
   ]
  },
  {
   "cell_type": "code",
   "execution_count": 8,
   "id": "cd63a0a9",
   "metadata": {},
   "outputs": [],
   "source": [
    "# Sample each df in the list according to its corresponding starting and ending point - this creates 12-week\n",
    "# long samples of each data frame which will be used for modeling and testing\n",
    "total_df_list_samples <- lapply(1:length(total_df_list), \n",
    "                                function(x) total_df_list[[x]] %>% \n",
    "                                    filter(rn >= starting_points[x]) %>%\n",
    "                                    filter(rn <= ending_points[x]))"
   ]
  },
  {
   "cell_type": "code",
   "execution_count": 9,
   "id": "fcf1fe4f",
   "metadata": {},
   "outputs": [],
   "source": [
    "# Add a new column to each data frame to denote whether each row should be part of the training set, validation set\n",
    "# or test set - the first 8 weeks are designated as train, the next 2 as val, and the final 2 as test. It may be \n",
    "# the case that train and val get used for training, depending on the modeling task\n",
    "total_df_list_samples <- lapply(total_df_list_samples, \n",
    "                                function(x) x %>% mutate(rn = row_number()) %>%\n",
    "                                    mutate(train_val_test = ifelse(rn <= (96*7*8), \n",
    "                                                                   \"train\", \n",
    "                                                                   ifelse(rn <= (96*7*10), \n",
    "                                                                          \"val\", \n",
    "                                                                          \"test\")))\n",
    "                                \n",
    "                               )"
   ]
  },
  {
   "cell_type": "code",
   "execution_count": 10,
   "id": "ed39c406",
   "metadata": {},
   "outputs": [],
   "source": [
    "# Create a list of data frames which only have the training and validation rows of each df\n",
    "train_val_samples <- lapply(total_df_list_samples, function(x) x %>% filter(train_val_test != \"test\"))"
   ]
  },
  {
   "cell_type": "code",
   "execution_count": 11,
   "id": "68fd68f3",
   "metadata": {},
   "outputs": [],
   "source": [
    "# Create a list of data frames which only have the training rows of each df\n",
    "train_samples <- lapply(total_df_list_samples, function(x) x %>% filter(train_val_test == \"train\"))"
   ]
  },
  {
   "cell_type": "code",
   "execution_count": 12,
   "id": "73e1c03d",
   "metadata": {},
   "outputs": [],
   "source": [
    "# Create a list of data frames which only have the test rows of each df\n",
    "test_samples <- lapply(total_df_list_samples, function(x) x %>% filter(train_val_test == \"test\"))"
   ]
  },
  {
   "cell_type": "code",
   "execution_count": 13,
   "id": "5b9b41b2",
   "metadata": {},
   "outputs": [],
   "source": [
    "# Get the target field (total_volume) from the dfs in the above lists and create msts objects instead of dfs\n",
    "train_val_samples_ts <- lapply(train_val_samples, \n",
    "                               function(x) msts(x$total_volume, seasonal.periods=c(24*4, 24*4*7)))"
   ]
  },
  {
   "cell_type": "code",
   "execution_count": 14,
   "id": "74045ac9",
   "metadata": {},
   "outputs": [],
   "source": [
    "# Get the target field (total_volume) from the dfs in the above lists and create msts objects instead of dfs\n",
    "train_samples_ts <- lapply(train_samples, \n",
    "                           function(x) msts(x$total_volume, seasonal.periods=c(24*4, 24*4*7)))"
   ]
  },
  {
   "cell_type": "code",
   "execution_count": 15,
   "id": "52cc5b1c",
   "metadata": {},
   "outputs": [],
   "source": [
    "# Get the target field (total_volume) from the dfs in the above lists and create msts objects instead of dfs\n",
    "test_samples_ts <- lapply(test_samples,\n",
    "                          function(x) msts(x$total_volume, seasonal.periods=c(24*4, 24*4*7)))"
   ]
  },
  {
   "cell_type": "markdown",
   "id": "fd0bf189",
   "metadata": {},
   "source": [
    "# Random Cluster Assignments\n",
    "We will start with random cluster assignments - we will create 4 as 76 is easily divisble by 4, allowing for equal sized clusters"
   ]
  },
  {
   "cell_type": "code",
   "execution_count": 173,
   "id": "cd75812e",
   "metadata": {},
   "outputs": [],
   "source": [
    "# Total number of time series in the data set\n",
    "total_clust <- 1:length(train_samples_ts)"
   ]
  },
  {
   "cell_type": "code",
   "execution_count": 174,
   "id": "01a52324",
   "metadata": {},
   "outputs": [],
   "source": [
    "# Randomly sample from the total number of time series, removing previously sampled values and sampling without\n",
    "# replacement each time to create 4 unique clusters\n",
    "set.seed(54321)\n",
    "clust1 <- sample(total_clust, length(train_samples_ts)/4, replace=FALSE)\n",
    "set.seed(54321)\n",
    "clust2 <- sample(total_clust[-clust1], length(train_samples_ts)/4, replace=FALSE)\n",
    "set.seed(54321)\n",
    "clust3 <- sample(total_clust[-c(clust1,clust2)], length(train_samples_ts)/4, replace=FALSE)\n",
    "set.seed(54321)\n",
    "clust4 <- sample(total_clust[-c(clust1,clust2,clust3)], length(train_samples_ts)/4, replace=FALSE)"
   ]
  },
  {
   "cell_type": "code",
   "execution_count": 175,
   "id": "e66b5d26",
   "metadata": {},
   "outputs": [
    {
     "data": {
      "text/html": [
       "<style>\n",
       ".list-inline {list-style: none; margin:0; padding: 0}\n",
       ".list-inline>li {display: inline-block}\n",
       ".list-inline>li:not(:last-child)::after {content: \"\\00b7\"; padding: 0 .5ex}\n",
       "</style>\n",
       "<ol class=list-inline><li>41</li><li>49</li><li>39</li><li>58</li><li>46</li><li>51</li><li>62</li><li>26</li><li>15</li><li>37</li><li>69</li><li>11</li><li>67</li><li>53</li><li>30</li><li>13</li><li>16</li><li>72</li><li>74</li></ol>\n"
      ],
      "text/latex": [
       "\\begin{enumerate*}\n",
       "\\item 41\n",
       "\\item 49\n",
       "\\item 39\n",
       "\\item 58\n",
       "\\item 46\n",
       "\\item 51\n",
       "\\item 62\n",
       "\\item 26\n",
       "\\item 15\n",
       "\\item 37\n",
       "\\item 69\n",
       "\\item 11\n",
       "\\item 67\n",
       "\\item 53\n",
       "\\item 30\n",
       "\\item 13\n",
       "\\item 16\n",
       "\\item 72\n",
       "\\item 74\n",
       "\\end{enumerate*}\n"
      ],
      "text/markdown": [
       "1. 41\n",
       "2. 49\n",
       "3. 39\n",
       "4. 58\n",
       "5. 46\n",
       "6. 51\n",
       "7. 62\n",
       "8. 26\n",
       "9. 15\n",
       "10. 37\n",
       "11. 69\n",
       "12. 11\n",
       "13. 67\n",
       "14. 53\n",
       "15. 30\n",
       "16. 13\n",
       "17. 16\n",
       "18. 72\n",
       "19. 74\n",
       "\n",
       "\n"
      ],
      "text/plain": [
       " [1] 41 49 39 58 46 51 62 26 15 37 69 11 67 53 30 13 16 72 74"
      ]
     },
     "metadata": {},
     "output_type": "display_data"
    }
   ],
   "source": [
    "# Sanity check the clusters\n",
    "clust1"
   ]
  },
  {
   "cell_type": "code",
   "execution_count": 176,
   "id": "59fec018",
   "metadata": {},
   "outputs": [
    {
     "data": {
      "text/html": [
       "<style>\n",
       ".list-inline {list-style: none; margin:0; padding: 0}\n",
       ".list-inline>li {display: inline-block}\n",
       ".list-inline>li:not(:last-child)::after {content: \"\\00b7\"; padding: 0 .5ex}\n",
       "</style>\n",
       "<ol class=list-inline><li>59</li><li>54</li><li>64</li><li>65</li><li>14</li><li>50</li><li>25</li><li>56</li><li>19</li><li>60</li><li>32</li><li>73</li><li>63</li><li>47</li><li>76</li><li>61</li><li>12</li><li>57</li><li>36</li></ol>\n"
      ],
      "text/latex": [
       "\\begin{enumerate*}\n",
       "\\item 59\n",
       "\\item 54\n",
       "\\item 64\n",
       "\\item 65\n",
       "\\item 14\n",
       "\\item 50\n",
       "\\item 25\n",
       "\\item 56\n",
       "\\item 19\n",
       "\\item 60\n",
       "\\item 32\n",
       "\\item 73\n",
       "\\item 63\n",
       "\\item 47\n",
       "\\item 76\n",
       "\\item 61\n",
       "\\item 12\n",
       "\\item 57\n",
       "\\item 36\n",
       "\\end{enumerate*}\n"
      ],
      "text/markdown": [
       "1. 59\n",
       "2. 54\n",
       "3. 64\n",
       "4. 65\n",
       "5. 14\n",
       "6. 50\n",
       "7. 25\n",
       "8. 56\n",
       "9. 19\n",
       "10. 60\n",
       "11. 32\n",
       "12. 73\n",
       "13. 63\n",
       "14. 47\n",
       "15. 76\n",
       "16. 61\n",
       "17. 12\n",
       "18. 57\n",
       "19. 36\n",
       "\n",
       "\n"
      ],
      "text/plain": [
       " [1] 59 54 64 65 14 50 25 56 19 60 32 73 63 47 76 61 12 57 36"
      ]
     },
     "metadata": {},
     "output_type": "display_data"
    }
   ],
   "source": [
    "clust2"
   ]
  },
  {
   "cell_type": "code",
   "execution_count": 177,
   "id": "502f9e89",
   "metadata": {},
   "outputs": [
    {
     "data": {
      "text/html": [
       "<style>\n",
       ".list-inline {list-style: none; margin:0; padding: 0}\n",
       ".list-inline>li {display: inline-block}\n",
       ".list-inline>li:not(:last-child)::after {content: \"\\00b7\"; padding: 0 .5ex}\n",
       "</style>\n",
       "<ol class=list-inline><li>18</li><li>31</li><li>22</li><li>40</li><li>70</li><li>66</li><li>5</li><li>55</li><li>23</li><li>68</li><li>21</li><li>17</li><li>52</li><li>71</li><li>20</li><li>45</li><li>43</li><li>7</li><li>29</li></ol>\n"
      ],
      "text/latex": [
       "\\begin{enumerate*}\n",
       "\\item 18\n",
       "\\item 31\n",
       "\\item 22\n",
       "\\item 40\n",
       "\\item 70\n",
       "\\item 66\n",
       "\\item 5\n",
       "\\item 55\n",
       "\\item 23\n",
       "\\item 68\n",
       "\\item 21\n",
       "\\item 17\n",
       "\\item 52\n",
       "\\item 71\n",
       "\\item 20\n",
       "\\item 45\n",
       "\\item 43\n",
       "\\item 7\n",
       "\\item 29\n",
       "\\end{enumerate*}\n"
      ],
      "text/markdown": [
       "1. 18\n",
       "2. 31\n",
       "3. 22\n",
       "4. 40\n",
       "5. 70\n",
       "6. 66\n",
       "7. 5\n",
       "8. 55\n",
       "9. 23\n",
       "10. 68\n",
       "11. 21\n",
       "12. 17\n",
       "13. 52\n",
       "14. 71\n",
       "15. 20\n",
       "16. 45\n",
       "17. 43\n",
       "18. 7\n",
       "19. 29\n",
       "\n",
       "\n"
      ],
      "text/plain": [
       " [1] 18 31 22 40 70 66  5 55 23 68 21 17 52 71 20 45 43  7 29"
      ]
     },
     "metadata": {},
     "output_type": "display_data"
    }
   ],
   "source": [
    "clust3"
   ]
  },
  {
   "cell_type": "code",
   "execution_count": 178,
   "id": "11cfd628",
   "metadata": {},
   "outputs": [
    {
     "data": {
      "text/html": [
       "<style>\n",
       ".list-inline {list-style: none; margin:0; padding: 0}\n",
       ".list-inline>li {display: inline-block}\n",
       ".list-inline>li:not(:last-child)::after {content: \"\\00b7\"; padding: 0 .5ex}\n",
       "</style>\n",
       "<ol class=list-inline><li>34</li><li>24</li><li>44</li><li>2</li><li>33</li><li>9</li><li>6</li><li>28</li><li>27</li><li>3</li><li>75</li><li>35</li><li>42</li><li>8</li><li>38</li><li>1</li><li>4</li><li>10</li><li>48</li></ol>\n"
      ],
      "text/latex": [
       "\\begin{enumerate*}\n",
       "\\item 34\n",
       "\\item 24\n",
       "\\item 44\n",
       "\\item 2\n",
       "\\item 33\n",
       "\\item 9\n",
       "\\item 6\n",
       "\\item 28\n",
       "\\item 27\n",
       "\\item 3\n",
       "\\item 75\n",
       "\\item 35\n",
       "\\item 42\n",
       "\\item 8\n",
       "\\item 38\n",
       "\\item 1\n",
       "\\item 4\n",
       "\\item 10\n",
       "\\item 48\n",
       "\\end{enumerate*}\n"
      ],
      "text/markdown": [
       "1. 34\n",
       "2. 24\n",
       "3. 44\n",
       "4. 2\n",
       "5. 33\n",
       "6. 9\n",
       "7. 6\n",
       "8. 28\n",
       "9. 27\n",
       "10. 3\n",
       "11. 75\n",
       "12. 35\n",
       "13. 42\n",
       "14. 8\n",
       "15. 38\n",
       "16. 1\n",
       "17. 4\n",
       "18. 10\n",
       "19. 48\n",
       "\n",
       "\n"
      ],
      "text/plain": [
       " [1] 34 24 44  2 33  9  6 28 27  3 75 35 42  8 38  1  4 10 48"
      ]
     },
     "metadata": {},
     "output_type": "display_data"
    }
   ],
   "source": [
    "clust4"
   ]
  },
  {
   "cell_type": "code",
   "execution_count": 179,
   "id": "d8bb9d75",
   "metadata": {},
   "outputs": [],
   "source": [
    "# Assign each ts_index to its respective cluster\n",
    "random_clust_assignments <- c()\n",
    "for (idx in total_clust){\n",
    "    if (idx %in% clust1){\n",
    "        assign <- 1\n",
    "    }\n",
    "    \n",
    "    else if (idx %in% clust2){\n",
    "        assign <- 2\n",
    "    }\n",
    "    \n",
    "    else if (idx %in% clust3){\n",
    "        assign <- 3\n",
    "    }\n",
    "\n",
    "    else if (idx %in% clust4){\n",
    "        assign <- 4\n",
    "    }\n",
    "    random_clust_assignments <- c(random_clust_assignments, assign)\n",
    "}\n",
    "\n",
    "# Save assignments in a data frame\n",
    "random_clust_df <- data.frame(ts_index=total_clust, random_clust_assign=random_clust_assignments)"
   ]
  },
  {
   "cell_type": "code",
   "execution_count": 180,
   "id": "1a2007fe",
   "metadata": {},
   "outputs": [],
   "source": [
    "# Write the random clusters to a CSV\n",
    "write.csv(random_clust_df, \"Results/Clustering/Random/random_clustering_assign.csv\", row.names=FALSE)"
   ]
  },
  {
   "cell_type": "markdown",
   "id": "1816b1ce",
   "metadata": {},
   "source": [
    "# Catch22 Based Feature Computation\n",
    "In this section, we utilize the Catch22 feature computation framework for computing time series features for clustering"
   ]
  },
  {
   "cell_type": "code",
   "execution_count": 16,
   "id": "672f56a5",
   "metadata": {},
   "outputs": [
    {
     "name": "stderr",
     "output_type": "stream",
     "text": [
      "Warning message:\n",
      "“As of 0.1.14 the feature 'CO_f1ecac' returns a double instead of int\n",
      "\u001b[90mThis warning is displayed once per session.\u001b[39m”\n"
     ]
    }
   ],
   "source": [
    "# For each train time series in our list, compute the Catch22 features using the catch22_all function \n",
    "# and save the results in a df\n",
    "train_catch22_feat <- lapply(lapply(train_samples_ts, function(x) catch22_all(x)), \n",
    "                             function(x) x %>% \n",
    "                                 pivot_wider(names_from=names, values_from=values))"
   ]
  },
  {
   "cell_type": "code",
   "execution_count": 17,
   "id": "33edc345",
   "metadata": {},
   "outputs": [],
   "source": [
    "# Create a dataframe of the catch22 features plus mean and variance where each row corresponds to one time series\n",
    "train_catch22_feat_df <- do.call(\"rbind\", train_catch22_feat)"
   ]
  },
  {
   "cell_type": "code",
   "execution_count": 18,
   "id": "e24d32e6",
   "metadata": {},
   "outputs": [
    {
     "data": {
      "text/html": [
       "<table class=\"dataframe\">\n",
       "<caption>A tibble: 6 × 22</caption>\n",
       "<thead>\n",
       "\t<tr><th scope=col>DN_HistogramMode_5</th><th scope=col>DN_HistogramMode_10</th><th scope=col>CO_f1ecac</th><th scope=col>CO_FirstMin_ac</th><th scope=col>CO_HistogramAMI_even_2_5</th><th scope=col>CO_trev_1_num</th><th scope=col>MD_hrv_classic_pnn40</th><th scope=col>SB_BinaryStats_mean_longstretch1</th><th scope=col>SB_TransitionMatrix_3ac_sumdiagcov</th><th scope=col>PD_PeriodicityWang_th0_01</th><th scope=col>⋯</th><th scope=col>FC_LocalSimple_mean1_tauresrat</th><th scope=col>DN_OutlierInclude_p_001_mdrmd</th><th scope=col>DN_OutlierInclude_n_001_mdrmd</th><th scope=col>SP_Summaries_welch_rect_area_5_1</th><th scope=col>SB_BinaryStats_diff_longstretch0</th><th scope=col>SB_MotifThree_quantile_hh</th><th scope=col>SC_FluctAnal_2_rsrangefit_50_1_logi_prop_r1</th><th scope=col>SC_FluctAnal_2_dfa_50_1_2_logi_prop_r1</th><th scope=col>SP_Summaries_welch_rect_centroid</th><th scope=col>FC_LocalSimple_mean3_stderr</th></tr>\n",
       "\t<tr><th scope=col>&lt;dbl&gt;</th><th scope=col>&lt;dbl&gt;</th><th scope=col>&lt;dbl&gt;</th><th scope=col>&lt;dbl&gt;</th><th scope=col>&lt;dbl&gt;</th><th scope=col>&lt;dbl&gt;</th><th scope=col>&lt;dbl&gt;</th><th scope=col>&lt;dbl&gt;</th><th scope=col>&lt;dbl&gt;</th><th scope=col>&lt;dbl&gt;</th><th scope=col>⋯</th><th scope=col>&lt;dbl&gt;</th><th scope=col>&lt;dbl&gt;</th><th scope=col>&lt;dbl&gt;</th><th scope=col>&lt;dbl&gt;</th><th scope=col>&lt;dbl&gt;</th><th scope=col>&lt;dbl&gt;</th><th scope=col>&lt;dbl&gt;</th><th scope=col>&lt;dbl&gt;</th><th scope=col>&lt;dbl&gt;</th><th scope=col>&lt;dbl&gt;</th></tr>\n",
       "</thead>\n",
       "<tbody>\n",
       "\t<tr><td>-0.8241913</td><td>-1.074272</td><td>13.07819</td><td>48</td><td>0.7280227</td><td> 0.0004981483</td><td>0.7266977</td><td>56</td><td>0.005869537</td><td>95</td><td>⋯</td><td>0.38095238</td><td> 0.012741815</td><td>-0.022693452</td><td>0.9873130</td><td>19</td><td>1.478522</td><td>0.4081633</td><td>0.3469388</td><td>0.06596117</td><td>0.2855363</td></tr>\n",
       "\t<tr><td>-1.0418788</td><td>-1.261398</td><td>15.21823</td><td>48</td><td>0.7337985</td><td> 0.0041718968</td><td>0.7942326</td><td>61</td><td>0.001731474</td><td>95</td><td>⋯</td><td>0.04347826</td><td> 0.019717262</td><td> 0.002046131</td><td>0.9784537</td><td>13</td><td>1.504746</td><td>0.4489796</td><td>0.3265306</td><td>0.06596117</td><td>0.2974666</td></tr>\n",
       "\t<tr><td>-0.8426436</td><td>-1.071948</td><td>16.49040</td><td>48</td><td>0.7523444</td><td>-0.0013779902</td><td>0.7281860</td><td>59</td><td>0.016181035</td><td>95</td><td>⋯</td><td>0.04166667</td><td>-0.003348214</td><td>-0.018973214</td><td>0.9842704</td><td>15</td><td>1.515349</td><td>0.4081633</td><td>0.3469388</td><td>0.06519418</td><td>0.2538126</td></tr>\n",
       "\t<tr><td>-0.8638443</td><td>-1.082631</td><td>14.80505</td><td>48</td><td>0.7816261</td><td> 0.0027961909</td><td>0.6716279</td><td>56</td><td>0.005071623</td><td>95</td><td>⋯</td><td>0.43478261</td><td>-0.032180060</td><td> 0.019717262</td><td>0.9871433</td><td>20</td><td>1.431369</td><td>0.4285714</td><td>0.3469388</td><td>0.06596117</td><td>0.2678449</td></tr>\n",
       "\t<tr><td>-0.9568506</td><td>-1.136406</td><td>18.01842</td><td>48</td><td>0.8454878</td><td> 0.0006537947</td><td>0.6874419</td><td>54</td><td>0.002624842</td><td>95</td><td>⋯</td><td>0.88000000</td><td>-0.011904762</td><td> 0.007068452</td><td>0.9923321</td><td>18</td><td>1.409810</td><td>0.4285714</td><td>0.3265306</td><td>0.06519418</td><td>0.2070834</td></tr>\n",
       "\t<tr><td>-1.0182364</td><td>-1.220609</td><td>17.61995</td><td>48</td><td>0.8269746</td><td> 0.0042333027</td><td>0.7337674</td><td>61</td><td>0.001824410</td><td>95</td><td>⋯</td><td>0.04000000</td><td>-0.026041667</td><td> 0.017671131</td><td>0.9882751</td><td>23</td><td>1.439875</td><td>0.4285714</td><td>0.3469388</td><td>0.06519418</td><td>0.2261327</td></tr>\n",
       "</tbody>\n",
       "</table>\n"
      ],
      "text/latex": [
       "A tibble: 6 × 22\n",
       "\\begin{tabular}{lllllllllllllllllllll}\n",
       " DN\\_HistogramMode\\_5 & DN\\_HistogramMode\\_10 & CO\\_f1ecac & CO\\_FirstMin\\_ac & CO\\_HistogramAMI\\_even\\_2\\_5 & CO\\_trev\\_1\\_num & MD\\_hrv\\_classic\\_pnn40 & SB\\_BinaryStats\\_mean\\_longstretch1 & SB\\_TransitionMatrix\\_3ac\\_sumdiagcov & PD\\_PeriodicityWang\\_th0\\_01 & ⋯ & FC\\_LocalSimple\\_mean1\\_tauresrat & DN\\_OutlierInclude\\_p\\_001\\_mdrmd & DN\\_OutlierInclude\\_n\\_001\\_mdrmd & SP\\_Summaries\\_welch\\_rect\\_area\\_5\\_1 & SB\\_BinaryStats\\_diff\\_longstretch0 & SB\\_MotifThree\\_quantile\\_hh & SC\\_FluctAnal\\_2\\_rsrangefit\\_50\\_1\\_logi\\_prop\\_r1 & SC\\_FluctAnal\\_2\\_dfa\\_50\\_1\\_2\\_logi\\_prop\\_r1 & SP\\_Summaries\\_welch\\_rect\\_centroid & FC\\_LocalSimple\\_mean3\\_stderr\\\\\n",
       " <dbl> & <dbl> & <dbl> & <dbl> & <dbl> & <dbl> & <dbl> & <dbl> & <dbl> & <dbl> & ⋯ & <dbl> & <dbl> & <dbl> & <dbl> & <dbl> & <dbl> & <dbl> & <dbl> & <dbl> & <dbl>\\\\\n",
       "\\hline\n",
       "\t -0.8241913 & -1.074272 & 13.07819 & 48 & 0.7280227 &  0.0004981483 & 0.7266977 & 56 & 0.005869537 & 95 & ⋯ & 0.38095238 &  0.012741815 & -0.022693452 & 0.9873130 & 19 & 1.478522 & 0.4081633 & 0.3469388 & 0.06596117 & 0.2855363\\\\\n",
       "\t -1.0418788 & -1.261398 & 15.21823 & 48 & 0.7337985 &  0.0041718968 & 0.7942326 & 61 & 0.001731474 & 95 & ⋯ & 0.04347826 &  0.019717262 &  0.002046131 & 0.9784537 & 13 & 1.504746 & 0.4489796 & 0.3265306 & 0.06596117 & 0.2974666\\\\\n",
       "\t -0.8426436 & -1.071948 & 16.49040 & 48 & 0.7523444 & -0.0013779902 & 0.7281860 & 59 & 0.016181035 & 95 & ⋯ & 0.04166667 & -0.003348214 & -0.018973214 & 0.9842704 & 15 & 1.515349 & 0.4081633 & 0.3469388 & 0.06519418 & 0.2538126\\\\\n",
       "\t -0.8638443 & -1.082631 & 14.80505 & 48 & 0.7816261 &  0.0027961909 & 0.6716279 & 56 & 0.005071623 & 95 & ⋯ & 0.43478261 & -0.032180060 &  0.019717262 & 0.9871433 & 20 & 1.431369 & 0.4285714 & 0.3469388 & 0.06596117 & 0.2678449\\\\\n",
       "\t -0.9568506 & -1.136406 & 18.01842 & 48 & 0.8454878 &  0.0006537947 & 0.6874419 & 54 & 0.002624842 & 95 & ⋯ & 0.88000000 & -0.011904762 &  0.007068452 & 0.9923321 & 18 & 1.409810 & 0.4285714 & 0.3265306 & 0.06519418 & 0.2070834\\\\\n",
       "\t -1.0182364 & -1.220609 & 17.61995 & 48 & 0.8269746 &  0.0042333027 & 0.7337674 & 61 & 0.001824410 & 95 & ⋯ & 0.04000000 & -0.026041667 &  0.017671131 & 0.9882751 & 23 & 1.439875 & 0.4285714 & 0.3469388 & 0.06519418 & 0.2261327\\\\\n",
       "\\end{tabular}\n"
      ],
      "text/markdown": [
       "\n",
       "A tibble: 6 × 22\n",
       "\n",
       "| DN_HistogramMode_5 &lt;dbl&gt; | DN_HistogramMode_10 &lt;dbl&gt; | CO_f1ecac &lt;dbl&gt; | CO_FirstMin_ac &lt;dbl&gt; | CO_HistogramAMI_even_2_5 &lt;dbl&gt; | CO_trev_1_num &lt;dbl&gt; | MD_hrv_classic_pnn40 &lt;dbl&gt; | SB_BinaryStats_mean_longstretch1 &lt;dbl&gt; | SB_TransitionMatrix_3ac_sumdiagcov &lt;dbl&gt; | PD_PeriodicityWang_th0_01 &lt;dbl&gt; | ⋯ ⋯ | FC_LocalSimple_mean1_tauresrat &lt;dbl&gt; | DN_OutlierInclude_p_001_mdrmd &lt;dbl&gt; | DN_OutlierInclude_n_001_mdrmd &lt;dbl&gt; | SP_Summaries_welch_rect_area_5_1 &lt;dbl&gt; | SB_BinaryStats_diff_longstretch0 &lt;dbl&gt; | SB_MotifThree_quantile_hh &lt;dbl&gt; | SC_FluctAnal_2_rsrangefit_50_1_logi_prop_r1 &lt;dbl&gt; | SC_FluctAnal_2_dfa_50_1_2_logi_prop_r1 &lt;dbl&gt; | SP_Summaries_welch_rect_centroid &lt;dbl&gt; | FC_LocalSimple_mean3_stderr &lt;dbl&gt; |\n",
       "|---|---|---|---|---|---|---|---|---|---|---|---|---|---|---|---|---|---|---|---|---|\n",
       "| -0.8241913 | -1.074272 | 13.07819 | 48 | 0.7280227 |  0.0004981483 | 0.7266977 | 56 | 0.005869537 | 95 | ⋯ | 0.38095238 |  0.012741815 | -0.022693452 | 0.9873130 | 19 | 1.478522 | 0.4081633 | 0.3469388 | 0.06596117 | 0.2855363 |\n",
       "| -1.0418788 | -1.261398 | 15.21823 | 48 | 0.7337985 |  0.0041718968 | 0.7942326 | 61 | 0.001731474 | 95 | ⋯ | 0.04347826 |  0.019717262 |  0.002046131 | 0.9784537 | 13 | 1.504746 | 0.4489796 | 0.3265306 | 0.06596117 | 0.2974666 |\n",
       "| -0.8426436 | -1.071948 | 16.49040 | 48 | 0.7523444 | -0.0013779902 | 0.7281860 | 59 | 0.016181035 | 95 | ⋯ | 0.04166667 | -0.003348214 | -0.018973214 | 0.9842704 | 15 | 1.515349 | 0.4081633 | 0.3469388 | 0.06519418 | 0.2538126 |\n",
       "| -0.8638443 | -1.082631 | 14.80505 | 48 | 0.7816261 |  0.0027961909 | 0.6716279 | 56 | 0.005071623 | 95 | ⋯ | 0.43478261 | -0.032180060 |  0.019717262 | 0.9871433 | 20 | 1.431369 | 0.4285714 | 0.3469388 | 0.06596117 | 0.2678449 |\n",
       "| -0.9568506 | -1.136406 | 18.01842 | 48 | 0.8454878 |  0.0006537947 | 0.6874419 | 54 | 0.002624842 | 95 | ⋯ | 0.88000000 | -0.011904762 |  0.007068452 | 0.9923321 | 18 | 1.409810 | 0.4285714 | 0.3265306 | 0.06519418 | 0.2070834 |\n",
       "| -1.0182364 | -1.220609 | 17.61995 | 48 | 0.8269746 |  0.0042333027 | 0.7337674 | 61 | 0.001824410 | 95 | ⋯ | 0.04000000 | -0.026041667 |  0.017671131 | 0.9882751 | 23 | 1.439875 | 0.4285714 | 0.3469388 | 0.06519418 | 0.2261327 |\n",
       "\n"
      ],
      "text/plain": [
       "  DN_HistogramMode_5 DN_HistogramMode_10 CO_f1ecac CO_FirstMin_ac\n",
       "1 -0.8241913         -1.074272           13.07819  48            \n",
       "2 -1.0418788         -1.261398           15.21823  48            \n",
       "3 -0.8426436         -1.071948           16.49040  48            \n",
       "4 -0.8638443         -1.082631           14.80505  48            \n",
       "5 -0.9568506         -1.136406           18.01842  48            \n",
       "6 -1.0182364         -1.220609           17.61995  48            \n",
       "  CO_HistogramAMI_even_2_5 CO_trev_1_num MD_hrv_classic_pnn40\n",
       "1 0.7280227                 0.0004981483 0.7266977           \n",
       "2 0.7337985                 0.0041718968 0.7942326           \n",
       "3 0.7523444                -0.0013779902 0.7281860           \n",
       "4 0.7816261                 0.0027961909 0.6716279           \n",
       "5 0.8454878                 0.0006537947 0.6874419           \n",
       "6 0.8269746                 0.0042333027 0.7337674           \n",
       "  SB_BinaryStats_mean_longstretch1 SB_TransitionMatrix_3ac_sumdiagcov\n",
       "1 56                               0.005869537                       \n",
       "2 61                               0.001731474                       \n",
       "3 59                               0.016181035                       \n",
       "4 56                               0.005071623                       \n",
       "5 54                               0.002624842                       \n",
       "6 61                               0.001824410                       \n",
       "  PD_PeriodicityWang_th0_01 ⋯ FC_LocalSimple_mean1_tauresrat\n",
       "1 95                        ⋯ 0.38095238                    \n",
       "2 95                        ⋯ 0.04347826                    \n",
       "3 95                        ⋯ 0.04166667                    \n",
       "4 95                        ⋯ 0.43478261                    \n",
       "5 95                        ⋯ 0.88000000                    \n",
       "6 95                        ⋯ 0.04000000                    \n",
       "  DN_OutlierInclude_p_001_mdrmd DN_OutlierInclude_n_001_mdrmd\n",
       "1  0.012741815                  -0.022693452                 \n",
       "2  0.019717262                   0.002046131                 \n",
       "3 -0.003348214                  -0.018973214                 \n",
       "4 -0.032180060                   0.019717262                 \n",
       "5 -0.011904762                   0.007068452                 \n",
       "6 -0.026041667                   0.017671131                 \n",
       "  SP_Summaries_welch_rect_area_5_1 SB_BinaryStats_diff_longstretch0\n",
       "1 0.9873130                        19                              \n",
       "2 0.9784537                        13                              \n",
       "3 0.9842704                        15                              \n",
       "4 0.9871433                        20                              \n",
       "5 0.9923321                        18                              \n",
       "6 0.9882751                        23                              \n",
       "  SB_MotifThree_quantile_hh SC_FluctAnal_2_rsrangefit_50_1_logi_prop_r1\n",
       "1 1.478522                  0.4081633                                  \n",
       "2 1.504746                  0.4489796                                  \n",
       "3 1.515349                  0.4081633                                  \n",
       "4 1.431369                  0.4285714                                  \n",
       "5 1.409810                  0.4285714                                  \n",
       "6 1.439875                  0.4285714                                  \n",
       "  SC_FluctAnal_2_dfa_50_1_2_logi_prop_r1 SP_Summaries_welch_rect_centroid\n",
       "1 0.3469388                              0.06596117                      \n",
       "2 0.3265306                              0.06596117                      \n",
       "3 0.3469388                              0.06519418                      \n",
       "4 0.3469388                              0.06596117                      \n",
       "5 0.3265306                              0.06519418                      \n",
       "6 0.3469388                              0.06519418                      \n",
       "  FC_LocalSimple_mean3_stderr\n",
       "1 0.2855363                  \n",
       "2 0.2974666                  \n",
       "3 0.2538126                  \n",
       "4 0.2678449                  \n",
       "5 0.2070834                  \n",
       "6 0.2261327                  "
      ]
     },
     "metadata": {},
     "output_type": "display_data"
    }
   ],
   "source": [
    "# Sanity check by printing df head\n",
    "head(train_catch22_feat_df)"
   ]
  },
  {
   "cell_type": "code",
   "execution_count": 19,
   "id": "82016607",
   "metadata": {},
   "outputs": [
    {
     "data": {
      "text/plain": [
       " DN_HistogramMode_5 DN_HistogramMode_10   CO_f1ecac      CO_FirstMin_ac \n",
       " Min.   :-1.2725    Min.   :-1.5028     Min.   : 9.639   Min.   : 3.00  \n",
       " 1st Qu.:-1.0196    1st Qu.:-1.2072     1st Qu.:14.991   1st Qu.:48.00  \n",
       " Median :-0.8929    Median :-1.0880     Median :16.144   Median :48.00  \n",
       " Mean   :-0.6522    Mean   :-0.8882     Mean   :15.900   Mean   :46.51  \n",
       " 3rd Qu.:-0.6680    3rd Qu.:-0.9851     3rd Qu.:17.125   3rd Qu.:48.00  \n",
       " Max.   : 1.3039    Max.   : 1.0329     Max.   :25.215   Max.   :49.00  \n",
       " CO_HistogramAMI_even_2_5 CO_trev_1_num       MD_hrv_classic_pnn40\n",
       " Min.   :0.0000001        Min.   :-0.022159   Min.   :0.4350      \n",
       " 1st Qu.:0.6754312        1st Qu.:-0.000719   1st Qu.:0.7119      \n",
       " Median :0.7368211        Median : 0.001790   Median :0.7493      \n",
       " Mean   :0.7088488        Mean   : 0.014978   Mean   :0.7540      \n",
       " 3rd Qu.:0.8099636        3rd Qu.: 0.004790   3rd Qu.:0.7960      \n",
       " Max.   :0.8900489        Max.   : 1.000498   Max.   :0.9321      \n",
       " SB_BinaryStats_mean_longstretch1 SB_TransitionMatrix_3ac_sumdiagcov\n",
       " Min.   :25.00                    Min.   :0.0003377                 \n",
       " 1st Qu.:56.00                    1st Qu.:0.0038686                 \n",
       " Median :58.50                    Median :0.0070065                 \n",
       " Mean   :58.16                    Mean   :0.0088973                 \n",
       " 3rd Qu.:62.00                    3rd Qu.:0.0091144                 \n",
       " Max.   :71.00                    Max.   :0.0816386                 \n",
       " PD_PeriodicityWang_th0_01 CO_Embed2_Dist_tau_d_expfit_meandiff\n",
       " Min.   : 3.00             Min.   :0.02867                     \n",
       " 1st Qu.:95.00             1st Qu.:0.34104                     \n",
       " Median :95.00             Median :0.48590                     \n",
       " Mean   :93.78             Mean   :0.49539                     \n",
       " 3rd Qu.:95.00             3rd Qu.:0.61822                     \n",
       " Max.   :95.00             Max.   :1.22099                     \n",
       " IN_AutoMutualInfoStats_40_gaussian_fmmi FC_LocalSimple_mean1_tauresrat\n",
       " Min.   : 2.00                           Min.   :0.02439               \n",
       " 1st Qu.:21.00                           1st Qu.:0.04167               \n",
       " Median :22.00                           Median :0.04447               \n",
       " Mean   :21.84                           Mean   :0.18048               \n",
       " 3rd Qu.:23.00                           3rd Qu.:0.33333               \n",
       " Max.   :40.00                           Max.   :0.88000               \n",
       " DN_OutlierInclude_p_001_mdrmd DN_OutlierInclude_n_001_mdrmd\n",
       " Min.   :-0.31938              Min.   :-0.163876            \n",
       " 1st Qu.:-0.02758              1st Qu.:-0.018508            \n",
       " Median : 0.01832              Median :-0.001767            \n",
       " Mean   : 0.02180              Mean   :-0.004965            \n",
       " 3rd Qu.: 0.06231              3rd Qu.: 0.016904            \n",
       " Max.   : 0.46317              Max.   : 0.062872            \n",
       " SP_Summaries_welch_rect_area_5_1 SB_BinaryStats_diff_longstretch0\n",
       " Min.   :0.8650                   Min.   : 6.00                   \n",
       " 1st Qu.:0.9654                   1st Qu.:12.00                   \n",
       " Median :0.9814                   Median :15.00                   \n",
       " Mean   :0.9723                   Mean   :15.25                   \n",
       " 3rd Qu.:0.9872                   3rd Qu.:18.25                   \n",
       " Max.   :0.9923                   Max.   :27.00                   \n",
       " SB_MotifThree_quantile_hh SC_FluctAnal_2_rsrangefit_50_1_logi_prop_r1\n",
       " Min.   :1.224             Min.   :0.3265                             \n",
       " 1st Qu.:1.458             1st Qu.:0.4082                             \n",
       " Median :1.497             Median :0.4286                             \n",
       " Mean   :1.504             Mean   :0.4173                             \n",
       " 3rd Qu.:1.535             3rd Qu.:0.4286                             \n",
       " Max.   :1.777             Max.   :0.4898                             \n",
       " SC_FluctAnal_2_dfa_50_1_2_logi_prop_r1 SP_Summaries_welch_rect_centroid\n",
       " Min.   :0.2245                         Min.   :0.06366                 \n",
       " 1st Qu.:0.3061                         1st Qu.:0.06519                 \n",
       " Median :0.3265                         Median :0.06519                 \n",
       " Mean   :0.3289                         Mean   :0.06720                 \n",
       " 3rd Qu.:0.3469                         3rd Qu.:0.06596                 \n",
       " Max.   :0.4082                         Max.   :0.13039                 \n",
       " FC_LocalSimple_mean3_stderr\n",
       " Min.   :0.2071             \n",
       " 1st Qu.:0.2573             \n",
       " Median :0.2851             \n",
       " Mean   :0.2967             \n",
       " 3rd Qu.:0.3219             \n",
       " Max.   :0.5095             "
      ]
     },
     "metadata": {},
     "output_type": "display_data"
    }
   ],
   "source": [
    "# Print and examine the summary\n",
    "summary(train_catch22_feat_df)"
   ]
  },
  {
   "cell_type": "code",
   "execution_count": 20,
   "id": "e93ba64a",
   "metadata": {},
   "outputs": [
    {
     "data": {
      "text/html": [
       "<style>\n",
       ".list-inline {list-style: none; margin:0; padding: 0}\n",
       ".list-inline>li {display: inline-block}\n",
       ".list-inline>li:not(:last-child)::after {content: \"\\00b7\"; padding: 0 .5ex}\n",
       "</style>\n",
       "<ol class=list-inline><li>'CO_FirstMin_ac'</li><li>'PD_PeriodicityWang_th0_01'</li></ol>\n"
      ],
      "text/latex": [
       "\\begin{enumerate*}\n",
       "\\item 'CO\\_FirstMin\\_ac'\n",
       "\\item 'PD\\_PeriodicityWang\\_th0\\_01'\n",
       "\\end{enumerate*}\n"
      ],
      "text/markdown": [
       "1. 'CO_FirstMin_ac'\n",
       "2. 'PD_PeriodicityWang_th0_01'\n",
       "\n",
       "\n"
      ],
      "text/plain": [
       "[1] \"CO_FirstMin_ac\"            \"PD_PeriodicityWang_th0_01\""
      ]
     },
     "metadata": {},
     "output_type": "display_data"
    }
   ],
   "source": [
    "# Check for features where the lower and upper quantiles and median are identical - these likely do not provide\n",
    "# enough useful information to include them for clustering\n",
    "rownames(data.frame(t(sapply(train_catch22_feat_df, function(i) quantile(i, c(0.25, 0.5, 0.75))))) %>%\n",
    "    mutate(is_lower_equal_med = ifelse(X25.==X50., TRUE, FALSE)) %>%\n",
    "    mutate(is_upper_equal_med = ifelse(X50.==X75., TRUE, FALSE)) %>%\n",
    "    mutate(all_same = is_lower_equal_med+is_upper_equal_med) %>%\n",
    "    filter(all_same==2))"
   ]
  },
  {
   "cell_type": "code",
   "execution_count": 21,
   "id": "a53a2d54",
   "metadata": {},
   "outputs": [],
   "source": [
    "# Remove features with too little variation\n",
    "train_catch22_feat_df <- train_catch22_feat_df %>% select(-c('CO_FirstMin_ac', 'PD_PeriodicityWang_th0_01'))"
   ]
  },
  {
   "cell_type": "code",
   "execution_count": 22,
   "id": "deb5d2ae",
   "metadata": {},
   "outputs": [],
   "source": [
    "write.csv(train_catch22_feat_df, \"Results/Clustering/KMeans/catch22_feat_df.csv\")"
   ]
  },
  {
   "cell_type": "code",
   "execution_count": 23,
   "id": "e36c4356",
   "metadata": {},
   "outputs": [],
   "source": [
    "# Scale features to unit interval per Catch22 paper - first make a copy of the df\n",
    "train_catch22_feat_df_scaled <- train_catch22_feat_df"
   ]
  },
  {
   "cell_type": "code",
   "execution_count": 24,
   "id": "67f9d35a",
   "metadata": {},
   "outputs": [],
   "source": [
    "# Next, for each feature in the data frame, compute the min and max and \n",
    "# scale by subtracting the min and dividing by the range\n",
    "for (n in 1:ncol(train_catch22_feat_df_scaled)){\n",
    "    min_n <- min(train_catch22_feat_df_scaled[,n])\n",
    "    max_n <- max(train_catch22_feat_df_scaled[,n])\n",
    "    train_catch22_feat_df_scaled[,n] <- (train_catch22_feat_df_scaled[,n] - min_n)/(max_n - min_n)\n",
    "}"
   ]
  },
  {
   "cell_type": "code",
   "execution_count": 26,
   "id": "fe127819",
   "metadata": {},
   "outputs": [
    {
     "data": {
      "text/plain": [
       " DN_HistogramMode_5 DN_HistogramMode_10   CO_f1ecac     \n",
       " Min.   :0.00000    Min.   :0.0000      Min.   :0.0000  \n",
       " 1st Qu.:0.09817    1st Qu.:0.1166      1st Qu.:0.3436  \n",
       " Median :0.14736    Median :0.1636      Median :0.4177  \n",
       " Mean   :0.24076    Mean   :0.2424      Mean   :0.4020  \n",
       " 3rd Qu.:0.23466    3rd Qu.:0.2042      3rd Qu.:0.4806  \n",
       " Max.   :1.00000    Max.   :1.0000      Max.   :1.0000  \n",
       " CO_HistogramAMI_even_2_5 CO_trev_1_num     MD_hrv_classic_pnn40\n",
       " Min.   :0.0000           Min.   :0.00000   Min.   :0.0000      \n",
       " 1st Qu.:0.7589           1st Qu.:0.02097   1st Qu.:0.5571      \n",
       " Median :0.8278           Median :0.02342   Median :0.6323      \n",
       " Mean   :0.7964           Mean   :0.03631   Mean   :0.6417      \n",
       " 3rd Qu.:0.9100           3rd Qu.:0.02635   3rd Qu.:0.7261      \n",
       " Max.   :1.0000           Max.   :1.00000   Max.   :1.0000      \n",
       " SB_BinaryStats_mean_longstretch1 SB_TransitionMatrix_3ac_sumdiagcov\n",
       " Min.   :0.0000                   Min.   :0.00000                   \n",
       " 1st Qu.:0.6739                   1st Qu.:0.04343                   \n",
       " Median :0.7283                   Median :0.08203                   \n",
       " Mean   :0.7208                   Mean   :0.10528                   \n",
       " 3rd Qu.:0.8043                   3rd Qu.:0.10795                   \n",
       " Max.   :1.0000                   Max.   :1.00000                   \n",
       " CO_Embed2_Dist_tau_d_expfit_meandiff IN_AutoMutualInfoStats_40_gaussian_fmmi\n",
       " Min.   :0.0000                       Min.   :0.0000                         \n",
       " 1st Qu.:0.2620                       1st Qu.:0.5000                         \n",
       " Median :0.3835                       Median :0.5263                         \n",
       " Mean   :0.3914                       Mean   :0.5222                         \n",
       " 3rd Qu.:0.4945                       3rd Qu.:0.5526                         \n",
       " Max.   :1.0000                       Max.   :1.0000                         \n",
       " FC_LocalSimple_mean1_tauresrat DN_OutlierInclude_p_001_mdrmd\n",
       " Min.   :0.00000                Min.   :0.0000               \n",
       " 1st Qu.:0.02019                1st Qu.:0.3729               \n",
       " Median :0.02346                Median :0.4315               \n",
       " Mean   :0.18243                Mean   :0.4360               \n",
       " 3rd Qu.:0.36108                3rd Qu.:0.4878               \n",
       " Max.   :1.00000                Max.   :1.0000               \n",
       " DN_OutlierInclude_n_001_mdrmd SP_Summaries_welch_rect_area_5_1\n",
       " Min.   :0.0000                Min.   :0.0000                  \n",
       " 1st Qu.:0.6411                1st Qu.:0.7888                  \n",
       " Median :0.7149                Median :0.9138                  \n",
       " Mean   :0.7008                Mean   :0.8425                  \n",
       " 3rd Qu.:0.7973                3rd Qu.:0.9596                  \n",
       " Max.   :1.0000                Max.   :1.0000                  \n",
       " SB_BinaryStats_diff_longstretch0 SB_MotifThree_quantile_hh\n",
       " Min.   :0.0000                   Min.   :0.0000           \n",
       " 1st Qu.:0.2857                   1st Qu.:0.4229           \n",
       " Median :0.4286                   Median :0.4946           \n",
       " Mean   :0.4405                   Mean   :0.5058           \n",
       " 3rd Qu.:0.5833                   3rd Qu.:0.5624           \n",
       " Max.   :1.0000                   Max.   :1.0000           \n",
       " SC_FluctAnal_2_rsrangefit_50_1_logi_prop_r1\n",
       " Min.   :0.0000                             \n",
       " 1st Qu.:0.5000                             \n",
       " Median :0.6250                             \n",
       " Mean   :0.5559                             \n",
       " 3rd Qu.:0.6250                             \n",
       " Max.   :1.0000                             \n",
       " SC_FluctAnal_2_dfa_50_1_2_logi_prop_r1 SP_Summaries_welch_rect_centroid\n",
       " Min.   :0.0000                         Min.   :0.00000                 \n",
       " 1st Qu.:0.4444                         1st Qu.:0.02299                 \n",
       " Median :0.5556                         Median :0.02299                 \n",
       " Mean   :0.5687                         Mean   :0.05309                 \n",
       " 3rd Qu.:0.6667                         3rd Qu.:0.03448                 \n",
       " Max.   :1.0000                         Max.   :1.00000                 \n",
       " FC_LocalSimple_mean3_stderr\n",
       " Min.   :0.0000             \n",
       " 1st Qu.:0.1662             \n",
       " Median :0.2578             \n",
       " Mean   :0.2962             \n",
       " 3rd Qu.:0.3796             \n",
       " Max.   :1.0000             "
      ]
     },
     "metadata": {},
     "output_type": "display_data"
    }
   ],
   "source": [
    "summary(train_catch22_feat_df_scaled)"
   ]
  },
  {
   "cell_type": "markdown",
   "id": "3a406eec",
   "metadata": {},
   "source": [
    "## K-Means Clustering with Catch22 Features"
   ]
  },
  {
   "cell_type": "code",
   "execution_count": 27,
   "id": "7d8c6ebf",
   "metadata": {},
   "outputs": [
    {
     "data": {
      "image/png": "[encoded data removed]",
      "text/plain": [
       "plot without title"
      ]
     },
     "metadata": {
      "image/png": {
       "height": 420,
       "width": 420
      }
     },
     "output_type": "display_data"
    }
   ],
   "source": [
    "# Eblow Method based on WSS\n",
    "set.seed(54321)\n",
    "wss_catch22 <- fviz_nbclust(train_catch22_feat_df_scaled, \n",
    "             kmeans, \n",
    "             method = \"wss\", \n",
    "             k.max=15, \n",
    "             iter.max=1000, \n",
    "             nstart=100, \n",
    "             algorithm=\"Hartigan-Wong\") + \n",
    "labs(title=\"WSS for Catch22-Based Clusters\")\n",
    "\n",
    "wss_catch22 # No clear best number, maybe 2?"
   ]
  },
  {
   "cell_type": "code",
   "execution_count": 28,
   "id": "8497b4f1",
   "metadata": {},
   "outputs": [],
   "source": [
    "ggsave(\"Results/Clustering/KMeans/wss_catch22.png\", wss_catch22, width=10, height=5)"
   ]
  },
  {
   "cell_type": "code",
   "execution_count": 29,
   "id": "cf7a51d5",
   "metadata": {},
   "outputs": [
    {
     "data": {
      "image/png": "[encoded data removed]",
      "text/plain": [
       "plot without title"
      ]
     },
     "metadata": {
      "image/png": {
       "height": 420,
       "width": 420
      }
     },
     "output_type": "display_data"
    }
   ],
   "source": [
    "# Let's try the silhouette method instead\n",
    "set.seed(54321)\n",
    "sil_catch22 <- fviz_nbclust(train_catch22_feat_df_scaled, \n",
    "             kmeans, \n",
    "             method=\"silhouette\", \n",
    "             k.max=15, \n",
    "             iter.max=10000, \n",
    "             nstart=500, \n",
    "             algorithm=\"Hartigan-Wong\", \n",
    "            ) + \n",
    "labs(title=\"Average Silhouette Width for Catch22-Based Clusters\")\n",
    "\n",
    "sil_catch22 # Much clearer indication of 2 being the best, with 3 also looking reasonable"
   ]
  },
  {
   "cell_type": "code",
   "execution_count": 30,
   "id": "79f791da",
   "metadata": {},
   "outputs": [],
   "source": [
    "ggsave(\"Results/Clustering/KMeans/sil_catch22.png\", sil_catch22, width=10, height=5)"
   ]
  },
  {
   "cell_type": "code",
   "execution_count": 31,
   "id": "cb9e9cdc",
   "metadata": {},
   "outputs": [],
   "source": [
    "# Let's examine the sillouhettes for K=2 and K=3 more closely. First, we create both sets of clusters\n",
    "k1 <- 2\n",
    "k2 <- 3\n",
    "\n",
    "set.seed(54321)\n",
    "kmeans_clust1 <- kmeans(train_catch22_feat_df_scaled, k1, iter.max=10000, nstart=500, algorithm=\"Hartigan-Wong\") \n",
    "set.seed(54321)\n",
    "kmeans_clust2 <- kmeans(train_catch22_feat_df_scaled, k2, iter.max=10000, nstart=500, algorithm=\"Hartigan-Wong\") "
   ]
  },
  {
   "cell_type": "code",
   "execution_count": 32,
   "id": "c196ada4",
   "metadata": {},
   "outputs": [],
   "source": [
    "# Next, we compute the distance or dissimilarity matrix of the Catch22 features, to be used for visualizaing the \n",
    "# cluster silouhettes to make a final choice on the number of clusters\n",
    "D <- dist(train_catch22_feat_df_scaled) # daisy(train_catch22_feat_df_scaled)"
   ]
  },
  {
   "cell_type": "code",
   "execution_count": 33,
   "id": "59798b52",
   "metadata": {},
   "outputs": [],
   "source": [
    "sil_catch22_k1 <- silhouette(kmeans_clust1$cluster, D) "
   ]
  },
  {
   "cell_type": "code",
   "execution_count": 34,
   "id": "08b8163d",
   "metadata": {},
   "outputs": [
    {
     "data": {
      "image/png": "[encoded data removed]",
      "text/plain": [
       "Plot with title “Silhouette plot of (x = kmeans_clust1$cluster, dist = D)”"
      ]
     },
     "metadata": {
      "image/png": {
       "height": 420,
       "width": 420
      }
     },
     "output_type": "display_data"
    }
   ],
   "source": [
    "plot(sil_catch22_k1)"
   ]
  },
  {
   "cell_type": "code",
   "execution_count": 35,
   "id": "28a13bc4",
   "metadata": {},
   "outputs": [
    {
     "name": "stdout",
     "output_type": "stream",
     "text": [
      "  cluster size ave.sil.width\n",
      "1       1   54          0.47\n",
      "2       2   22         -0.05\n"
     ]
    }
   ],
   "source": [
    "sil_catch22_k1_plot <- fviz_silhouette(sil_catch22_k1) + \n",
    "    ggtitle(\"Silhouette Width for Catch22-Based Clusters with K=2\")\n",
    "sil_catch22_k1_plot$layers[[2]]$aes_params$colour <- \"black\""
   ]
  },
  {
   "cell_type": "code",
   "execution_count": 36,
   "id": "8fed0457",
   "metadata": {},
   "outputs": [
    {
     "data": {
      "image/png": "[encoded data removed]",
      "text/plain": [
       "plot without title"
      ]
     },
     "metadata": {
      "image/png": {
       "height": 420,
       "width": 420
      }
     },
     "output_type": "display_data"
    }
   ],
   "source": [
    "sil_catch22_k1_plot"
   ]
  },
  {
   "cell_type": "code",
   "execution_count": 37,
   "id": "3ab8f36c",
   "metadata": {},
   "outputs": [],
   "source": [
    "ggsave(\"Results/Clustering/KMeans/avg_sil_catch22_k2.png\", sil_catch22_k1_plot, width=10, height=5)"
   ]
  },
  {
   "cell_type": "code",
   "execution_count": 38,
   "id": "ec7e9929",
   "metadata": {},
   "outputs": [
    {
     "name": "stdout",
     "output_type": "stream",
     "text": [
      "  cluster size ave.sil.width\n",
      "1       1   52          0.43\n",
      "2       2    9          0.08\n",
      "3       3   15          0.02\n"
     ]
    }
   ],
   "source": [
    "sil_catch22_k2 <- silhouette(kmeans_clust2$cluster, D)\n",
    "\n",
    "sil_catch22_k2_plot <- fviz_silhouette(sil_catch22_k2) + \n",
    "    ggtitle(\"Silhouette Width for Catch22-Based Clusters with K=3\")\n",
    "sil_catch22_k2_plot$layers[[2]]$aes_params$colour <- \"black\""
   ]
  },
  {
   "cell_type": "code",
   "execution_count": 39,
   "id": "af26342e",
   "metadata": {},
   "outputs": [
    {
     "data": {
      "image/png": "[encoded data removed]",
      "text/plain": [
       "Plot with title “Silhouette plot of (x = kmeans_clust2$cluster, dist = D)”"
      ]
     },
     "metadata": {
      "image/png": {
       "height": 420,
       "width": 420
      }
     },
     "output_type": "display_data"
    }
   ],
   "source": [
    "plot(sil_catch22_k2)"
   ]
  },
  {
   "cell_type": "code",
   "execution_count": 40,
   "id": "641f8cbb",
   "metadata": {
    "scrolled": false
   },
   "outputs": [
    {
     "data": {
      "image/png": "[encoded data removed]",
      "text/plain": [
       "plot without title"
      ]
     },
     "metadata": {
      "image/png": {
       "height": 420,
       "width": 420
      }
     },
     "output_type": "display_data"
    }
   ],
   "source": [
    "sil_catch22_k2_plot"
   ]
  },
  {
   "cell_type": "code",
   "execution_count": 41,
   "id": "f2c05f5d",
   "metadata": {},
   "outputs": [],
   "source": [
    "ggsave(\"Results/Clustering/KMeans/avg_sil_catch22_k3.png\", sil_catch22_k2_plot, width=10, height=5)"
   ]
  },
  {
   "cell_type": "markdown",
   "id": "5ab498c1",
   "metadata": {},
   "source": [
    "Even though 2 has a slightly higher average width, I don't like any clusters having negative width if it can be helped. As such, we will proceed with 3"
   ]
  },
  {
   "cell_type": "code",
   "execution_count": 42,
   "id": "a54e5cd0",
   "metadata": {},
   "outputs": [],
   "source": [
    "# Create the final clusters with k=3\n",
    "\n",
    "# Set seed\n",
    "set.seed(54321)\n",
    "\n",
    "# Set K\n",
    "kfinal <- 3\n",
    "\n",
    "# Create the clusters\n",
    "kmeans_final <- kmeans(train_catch22_feat_df_scaled, kfinal, \n",
    "                       iter.max=10000, nstart=500, algorithm=\"Hartigan-Wong\") "
   ]
  },
  {
   "cell_type": "code",
   "execution_count": 43,
   "id": "62a6c9f4",
   "metadata": {},
   "outputs": [],
   "source": [
    "# Save the cluster results in an RData file for future use\n",
    "saveRDS(kmeans_final, \n",
    "        file=\"Results/Clustering/KMeans/kmeans_catch22.RData\")"
   ]
  },
  {
   "cell_type": "code",
   "execution_count": 44,
   "id": "56b72f77",
   "metadata": {},
   "outputs": [
    {
     "data": {
      "text/html": [
       "<style>\n",
       ".list-inline {list-style: none; margin:0; padding: 0}\n",
       ".list-inline>li {display: inline-block}\n",
       ".list-inline>li:not(:last-child)::after {content: \"\\00b7\"; padding: 0 .5ex}\n",
       "</style>\n",
       "<ol class=list-inline><li>1</li><li>1</li><li>1</li><li>1</li><li>1</li><li>1</li><li>1</li><li>1</li><li>1</li><li>1</li><li>2</li><li>1</li><li>1</li><li>1</li><li>1</li><li>1</li><li>1</li><li>1</li><li>2</li><li>2</li><li>2</li><li>1</li><li>1</li><li>1</li><li>1</li><li>1</li><li>2</li><li>1</li><li>1</li><li>1</li><li>2</li><li>1</li><li>1</li><li>1</li><li>1</li><li>1</li><li>1</li><li>1</li><li>3</li><li>1</li><li>1</li><li>3</li><li>2</li><li>1</li><li>3</li><li>3</li><li>1</li><li>1</li><li>3</li><li>3</li><li>3</li><li>1</li><li>3</li><li>3</li><li>3</li><li>3</li><li>1</li><li>1</li><li>1</li><li>1</li><li>1</li><li>3</li><li>3</li><li>1</li><li>1</li><li>3</li><li>3</li><li>2</li><li>2</li><li>1</li><li>1</li><li>1</li><li>1</li><li>1</li><li>1</li><li>1</li></ol>\n"
      ],
      "text/latex": [
       "\\begin{enumerate*}\n",
       "\\item 1\n",
       "\\item 1\n",
       "\\item 1\n",
       "\\item 1\n",
       "\\item 1\n",
       "\\item 1\n",
       "\\item 1\n",
       "\\item 1\n",
       "\\item 1\n",
       "\\item 1\n",
       "\\item 2\n",
       "\\item 1\n",
       "\\item 1\n",
       "\\item 1\n",
       "\\item 1\n",
       "\\item 1\n",
       "\\item 1\n",
       "\\item 1\n",
       "\\item 2\n",
       "\\item 2\n",
       "\\item 2\n",
       "\\item 1\n",
       "\\item 1\n",
       "\\item 1\n",
       "\\item 1\n",
       "\\item 1\n",
       "\\item 2\n",
       "\\item 1\n",
       "\\item 1\n",
       "\\item 1\n",
       "\\item 2\n",
       "\\item 1\n",
       "\\item 1\n",
       "\\item 1\n",
       "\\item 1\n",
       "\\item 1\n",
       "\\item 1\n",
       "\\item 1\n",
       "\\item 3\n",
       "\\item 1\n",
       "\\item 1\n",
       "\\item 3\n",
       "\\item 2\n",
       "\\item 1\n",
       "\\item 3\n",
       "\\item 3\n",
       "\\item 1\n",
       "\\item 1\n",
       "\\item 3\n",
       "\\item 3\n",
       "\\item 3\n",
       "\\item 1\n",
       "\\item 3\n",
       "\\item 3\n",
       "\\item 3\n",
       "\\item 3\n",
       "\\item 1\n",
       "\\item 1\n",
       "\\item 1\n",
       "\\item 1\n",
       "\\item 1\n",
       "\\item 3\n",
       "\\item 3\n",
       "\\item 1\n",
       "\\item 1\n",
       "\\item 3\n",
       "\\item 3\n",
       "\\item 2\n",
       "\\item 2\n",
       "\\item 1\n",
       "\\item 1\n",
       "\\item 1\n",
       "\\item 1\n",
       "\\item 1\n",
       "\\item 1\n",
       "\\item 1\n",
       "\\end{enumerate*}\n"
      ],
      "text/markdown": [
       "1. 1\n",
       "2. 1\n",
       "3. 1\n",
       "4. 1\n",
       "5. 1\n",
       "6. 1\n",
       "7. 1\n",
       "8. 1\n",
       "9. 1\n",
       "10. 1\n",
       "11. 2\n",
       "12. 1\n",
       "13. 1\n",
       "14. 1\n",
       "15. 1\n",
       "16. 1\n",
       "17. 1\n",
       "18. 1\n",
       "19. 2\n",
       "20. 2\n",
       "21. 2\n",
       "22. 1\n",
       "23. 1\n",
       "24. 1\n",
       "25. 1\n",
       "26. 1\n",
       "27. 2\n",
       "28. 1\n",
       "29. 1\n",
       "30. 1\n",
       "31. 2\n",
       "32. 1\n",
       "33. 1\n",
       "34. 1\n",
       "35. 1\n",
       "36. 1\n",
       "37. 1\n",
       "38. 1\n",
       "39. 3\n",
       "40. 1\n",
       "41. 1\n",
       "42. 3\n",
       "43. 2\n",
       "44. 1\n",
       "45. 3\n",
       "46. 3\n",
       "47. 1\n",
       "48. 1\n",
       "49. 3\n",
       "50. 3\n",
       "51. 3\n",
       "52. 1\n",
       "53. 3\n",
       "54. 3\n",
       "55. 3\n",
       "56. 3\n",
       "57. 1\n",
       "58. 1\n",
       "59. 1\n",
       "60. 1\n",
       "61. 1\n",
       "62. 3\n",
       "63. 3\n",
       "64. 1\n",
       "65. 1\n",
       "66. 3\n",
       "67. 3\n",
       "68. 2\n",
       "69. 2\n",
       "70. 1\n",
       "71. 1\n",
       "72. 1\n",
       "73. 1\n",
       "74. 1\n",
       "75. 1\n",
       "76. 1\n",
       "\n",
       "\n"
      ],
      "text/plain": [
       " [1] 1 1 1 1 1 1 1 1 1 1 2 1 1 1 1 1 1 1 2 2 2 1 1 1 1 1 2 1 1 1 2 1 1 1 1 1 1 1\n",
       "[39] 3 1 1 3 2 1 3 3 1 1 3 3 3 1 3 3 3 3 1 1 1 1 1 3 3 1 1 3 3 2 2 1 1 1 1 1 1 1"
      ]
     },
     "metadata": {},
     "output_type": "display_data"
    }
   ],
   "source": [
    "# Sanity check the clusters\n",
    "kmeans_final$cluster"
   ]
  },
  {
   "cell_type": "code",
   "execution_count": 43,
   "id": "25fcb55f",
   "metadata": {},
   "outputs": [],
   "source": [
    "# Re-format cluster assignments into a data frame with a ts_index field for joining later\n",
    "kmeans_clust_df <- data.frame(ts_index=1:length(kmeans_final$cluster), \n",
    "                              kmeans_catch22_clust_assign=kmeans_final$cluster)"
   ]
  },
  {
   "cell_type": "code",
   "execution_count": 44,
   "id": "7f8ead2b",
   "metadata": {},
   "outputs": [
    {
     "data": {
      "text/html": [
       "<table class=\"dataframe\">\n",
       "<caption>A data.frame: 6 × 2</caption>\n",
       "<thead>\n",
       "\t<tr><th></th><th scope=col>ts_index</th><th scope=col>kmeans_catch22_clust_assign</th></tr>\n",
       "\t<tr><th></th><th scope=col>&lt;int&gt;</th><th scope=col>&lt;int&gt;</th></tr>\n",
       "</thead>\n",
       "<tbody>\n",
       "\t<tr><th scope=row>1</th><td>1</td><td>1</td></tr>\n",
       "\t<tr><th scope=row>2</th><td>2</td><td>1</td></tr>\n",
       "\t<tr><th scope=row>3</th><td>3</td><td>1</td></tr>\n",
       "\t<tr><th scope=row>4</th><td>4</td><td>1</td></tr>\n",
       "\t<tr><th scope=row>5</th><td>5</td><td>1</td></tr>\n",
       "\t<tr><th scope=row>6</th><td>6</td><td>1</td></tr>\n",
       "</tbody>\n",
       "</table>\n"
      ],
      "text/latex": [
       "A data.frame: 6 × 2\n",
       "\\begin{tabular}{r|ll}\n",
       "  & ts\\_index & kmeans\\_catch22\\_clust\\_assign\\\\\n",
       "  & <int> & <int>\\\\\n",
       "\\hline\n",
       "\t1 & 1 & 1\\\\\n",
       "\t2 & 2 & 1\\\\\n",
       "\t3 & 3 & 1\\\\\n",
       "\t4 & 4 & 1\\\\\n",
       "\t5 & 5 & 1\\\\\n",
       "\t6 & 6 & 1\\\\\n",
       "\\end{tabular}\n"
      ],
      "text/markdown": [
       "\n",
       "A data.frame: 6 × 2\n",
       "\n",
       "| <!--/--> | ts_index &lt;int&gt; | kmeans_catch22_clust_assign &lt;int&gt; |\n",
       "|---|---|---|\n",
       "| 1 | 1 | 1 |\n",
       "| 2 | 2 | 1 |\n",
       "| 3 | 3 | 1 |\n",
       "| 4 | 4 | 1 |\n",
       "| 5 | 5 | 1 |\n",
       "| 6 | 6 | 1 |\n",
       "\n"
      ],
      "text/plain": [
       "  ts_index kmeans_catch22_clust_assign\n",
       "1 1        1                          \n",
       "2 2        1                          \n",
       "3 3        1                          \n",
       "4 4        1                          \n",
       "5 5        1                          \n",
       "6 6        1                          "
      ]
     },
     "metadata": {},
     "output_type": "display_data"
    }
   ],
   "source": [
    "head(kmeans_clust_df)"
   ]
  },
  {
   "cell_type": "code",
   "execution_count": 45,
   "id": "acc06103",
   "metadata": {},
   "outputs": [],
   "source": [
    "# Save that df to a csv file\n",
    "write.csv(kmeans_clust_df, \n",
    "          \"Results/Clustering/KMeans/kmeans_catch22_clustering_assign.csv\", \n",
    "          row.names=FALSE)"
   ]
  },
  {
   "cell_type": "markdown",
   "id": "38f73310",
   "metadata": {},
   "source": [
    "# TSFeatures Computation  \n",
    "Next, we will compute features using the tsfeatures function"
   ]
  },
  {
   "cell_type": "code",
   "execution_count": 45,
   "id": "83f4a9a2",
   "metadata": {},
   "outputs": [],
   "source": [
    "# Compute basic set of tsfeatures - \n",
    "# Set scale to FALSE as to not scale the time series before computing the features\n",
    "ts_feat_list <- tsfeatures(train_samples_ts, scale=FALSE)"
   ]
  },
  {
   "cell_type": "code",
   "execution_count": 46,
   "id": "f55c18eb",
   "metadata": {},
   "outputs": [
    {
     "data": {
      "text/html": [
       "<table class=\"dataframe\">\n",
       "<caption>A tibble: 6 × 24</caption>\n",
       "<thead>\n",
       "\t<tr><th scope=col>frequency</th><th scope=col>nperiods</th><th scope=col>seasonal_period1</th><th scope=col>seasonal_period2</th><th scope=col>trend</th><th scope=col>spike</th><th scope=col>linearity</th><th scope=col>curvature</th><th scope=col>e_acf1</th><th scope=col>e_acf10</th><th scope=col>⋯</th><th scope=col>trough1</th><th scope=col>trough2</th><th scope=col>entropy</th><th scope=col>x_acf1</th><th scope=col>x_acf10</th><th scope=col>diff1_acf1</th><th scope=col>diff1_acf10</th><th scope=col>diff2_acf1</th><th scope=col>diff2_acf10</th><th scope=col>seas_acf1</th></tr>\n",
       "\t<tr><th scope=col>&lt;dbl&gt;</th><th scope=col>&lt;dbl&gt;</th><th scope=col>&lt;dbl&gt;</th><th scope=col>&lt;dbl&gt;</th><th scope=col>&lt;dbl&gt;</th><th scope=col>&lt;dbl&gt;</th><th scope=col>&lt;dbl&gt;</th><th scope=col>&lt;dbl&gt;</th><th scope=col>&lt;dbl&gt;</th><th scope=col>&lt;dbl&gt;</th><th scope=col>⋯</th><th scope=col>&lt;dbl&gt;</th><th scope=col>&lt;dbl&gt;</th><th scope=col>&lt;dbl&gt;</th><th scope=col>&lt;dbl&gt;</th><th scope=col>&lt;dbl&gt;</th><th scope=col>&lt;dbl&gt;</th><th scope=col>&lt;dbl&gt;</th><th scope=col>&lt;dbl&gt;</th><th scope=col>&lt;dbl&gt;</th><th scope=col>&lt;dbl&gt;</th></tr>\n",
       "</thead>\n",
       "<tbody>\n",
       "\t<tr><td>672</td><td>2</td><td>96</td><td>672</td><td>0.11873802</td><td>0.06236472</td><td>  94.46680</td><td>293.78410</td><td>0.3946537</td><td>0.6452961</td><td>⋯</td><td>11</td><td>609</td><td>0.6782436</td><td>0.9786684</td><td>6.071303</td><td> 0.09955463</td><td>0.22923628</td><td>-0.6079489</td><td>0.3943768</td><td>0.8540087</td></tr>\n",
       "\t<tr><td>672</td><td>2</td><td>96</td><td>672</td><td>0.06271599</td><td>0.04976898</td><td>  47.65461</td><td>156.29639</td><td>0.4293463</td><td>0.3973220</td><td>⋯</td><td> 5</td><td>500</td><td>0.6536231</td><td>0.9701665</td><td>6.374971</td><td>-0.09903519</td><td>0.07000481</td><td>-0.6268296</td><td>0.4218419</td><td>0.8425866</td></tr>\n",
       "\t<tr><td>672</td><td>2</td><td>96</td><td>672</td><td>0.03671964</td><td>0.15966406</td><td>-131.59435</td><td> 59.98838</td><td>0.6731399</td><td>1.8163552</td><td>⋯</td><td>28</td><td>282</td><td>0.6275385</td><td>0.9787455</td><td>7.026316</td><td>-0.05976278</td><td>0.09157036</td><td>-0.6038060</td><td>0.3817030</td><td>0.8231161</td></tr>\n",
       "\t<tr><td>672</td><td>2</td><td>96</td><td>672</td><td>0.08678362</td><td>3.59837926</td><td>-665.51716</td><td>-40.91422</td><td>0.4426123</td><td>0.4621727</td><td>⋯</td><td>56</td><td>173</td><td>0.6499062</td><td>0.9801411</td><td>6.558471</td><td> 0.04096415</td><td>0.16818353</td><td>-0.6292484</td><td>0.4389144</td><td>0.8525582</td></tr>\n",
       "\t<tr><td>672</td><td>2</td><td>96</td><td>672</td><td>0.18428037</td><td>0.21968109</td><td>-432.29089</td><td>420.92339</td><td>0.4280693</td><td>0.5778573</td><td>⋯</td><td>31</td><td>435</td><td>0.5140402</td><td>0.9878141</td><td>7.655158</td><td> 0.01152159</td><td>0.24774998</td><td>-0.6334273</td><td>0.4354897</td><td>0.8565159</td></tr>\n",
       "\t<tr><td>672</td><td>2</td><td>96</td><td>672</td><td>0.18287555</td><td>0.79600912</td><td>-630.66720</td><td> 52.72775</td><td>0.5222042</td><td>0.7548893</td><td>⋯</td><td>64</td><td> 88</td><td>0.5680445</td><td>0.9834137</td><td>7.483912</td><td>-0.06527288</td><td>0.13048659</td><td>-0.6088053</td><td>0.3851671</td><td>0.8532984</td></tr>\n",
       "</tbody>\n",
       "</table>\n"
      ],
      "text/latex": [
       "A tibble: 6 × 24\n",
       "\\begin{tabular}{lllllllllllllllllllll}\n",
       " frequency & nperiods & seasonal\\_period1 & seasonal\\_period2 & trend & spike & linearity & curvature & e\\_acf1 & e\\_acf10 & ⋯ & trough1 & trough2 & entropy & x\\_acf1 & x\\_acf10 & diff1\\_acf1 & diff1\\_acf10 & diff2\\_acf1 & diff2\\_acf10 & seas\\_acf1\\\\\n",
       " <dbl> & <dbl> & <dbl> & <dbl> & <dbl> & <dbl> & <dbl> & <dbl> & <dbl> & <dbl> & ⋯ & <dbl> & <dbl> & <dbl> & <dbl> & <dbl> & <dbl> & <dbl> & <dbl> & <dbl> & <dbl>\\\\\n",
       "\\hline\n",
       "\t 672 & 2 & 96 & 672 & 0.11873802 & 0.06236472 &   94.46680 & 293.78410 & 0.3946537 & 0.6452961 & ⋯ & 11 & 609 & 0.6782436 & 0.9786684 & 6.071303 &  0.09955463 & 0.22923628 & -0.6079489 & 0.3943768 & 0.8540087\\\\\n",
       "\t 672 & 2 & 96 & 672 & 0.06271599 & 0.04976898 &   47.65461 & 156.29639 & 0.4293463 & 0.3973220 & ⋯ &  5 & 500 & 0.6536231 & 0.9701665 & 6.374971 & -0.09903519 & 0.07000481 & -0.6268296 & 0.4218419 & 0.8425866\\\\\n",
       "\t 672 & 2 & 96 & 672 & 0.03671964 & 0.15966406 & -131.59435 &  59.98838 & 0.6731399 & 1.8163552 & ⋯ & 28 & 282 & 0.6275385 & 0.9787455 & 7.026316 & -0.05976278 & 0.09157036 & -0.6038060 & 0.3817030 & 0.8231161\\\\\n",
       "\t 672 & 2 & 96 & 672 & 0.08678362 & 3.59837926 & -665.51716 & -40.91422 & 0.4426123 & 0.4621727 & ⋯ & 56 & 173 & 0.6499062 & 0.9801411 & 6.558471 &  0.04096415 & 0.16818353 & -0.6292484 & 0.4389144 & 0.8525582\\\\\n",
       "\t 672 & 2 & 96 & 672 & 0.18428037 & 0.21968109 & -432.29089 & 420.92339 & 0.4280693 & 0.5778573 & ⋯ & 31 & 435 & 0.5140402 & 0.9878141 & 7.655158 &  0.01152159 & 0.24774998 & -0.6334273 & 0.4354897 & 0.8565159\\\\\n",
       "\t 672 & 2 & 96 & 672 & 0.18287555 & 0.79600912 & -630.66720 &  52.72775 & 0.5222042 & 0.7548893 & ⋯ & 64 &  88 & 0.5680445 & 0.9834137 & 7.483912 & -0.06527288 & 0.13048659 & -0.6088053 & 0.3851671 & 0.8532984\\\\\n",
       "\\end{tabular}\n"
      ],
      "text/markdown": [
       "\n",
       "A tibble: 6 × 24\n",
       "\n",
       "| frequency &lt;dbl&gt; | nperiods &lt;dbl&gt; | seasonal_period1 &lt;dbl&gt; | seasonal_period2 &lt;dbl&gt; | trend &lt;dbl&gt; | spike &lt;dbl&gt; | linearity &lt;dbl&gt; | curvature &lt;dbl&gt; | e_acf1 &lt;dbl&gt; | e_acf10 &lt;dbl&gt; | ⋯ ⋯ | trough1 &lt;dbl&gt; | trough2 &lt;dbl&gt; | entropy &lt;dbl&gt; | x_acf1 &lt;dbl&gt; | x_acf10 &lt;dbl&gt; | diff1_acf1 &lt;dbl&gt; | diff1_acf10 &lt;dbl&gt; | diff2_acf1 &lt;dbl&gt; | diff2_acf10 &lt;dbl&gt; | seas_acf1 &lt;dbl&gt; |\n",
       "|---|---|---|---|---|---|---|---|---|---|---|---|---|---|---|---|---|---|---|---|---|\n",
       "| 672 | 2 | 96 | 672 | 0.11873802 | 0.06236472 |   94.46680 | 293.78410 | 0.3946537 | 0.6452961 | ⋯ | 11 | 609 | 0.6782436 | 0.9786684 | 6.071303 |  0.09955463 | 0.22923628 | -0.6079489 | 0.3943768 | 0.8540087 |\n",
       "| 672 | 2 | 96 | 672 | 0.06271599 | 0.04976898 |   47.65461 | 156.29639 | 0.4293463 | 0.3973220 | ⋯ |  5 | 500 | 0.6536231 | 0.9701665 | 6.374971 | -0.09903519 | 0.07000481 | -0.6268296 | 0.4218419 | 0.8425866 |\n",
       "| 672 | 2 | 96 | 672 | 0.03671964 | 0.15966406 | -131.59435 |  59.98838 | 0.6731399 | 1.8163552 | ⋯ | 28 | 282 | 0.6275385 | 0.9787455 | 7.026316 | -0.05976278 | 0.09157036 | -0.6038060 | 0.3817030 | 0.8231161 |\n",
       "| 672 | 2 | 96 | 672 | 0.08678362 | 3.59837926 | -665.51716 | -40.91422 | 0.4426123 | 0.4621727 | ⋯ | 56 | 173 | 0.6499062 | 0.9801411 | 6.558471 |  0.04096415 | 0.16818353 | -0.6292484 | 0.4389144 | 0.8525582 |\n",
       "| 672 | 2 | 96 | 672 | 0.18428037 | 0.21968109 | -432.29089 | 420.92339 | 0.4280693 | 0.5778573 | ⋯ | 31 | 435 | 0.5140402 | 0.9878141 | 7.655158 |  0.01152159 | 0.24774998 | -0.6334273 | 0.4354897 | 0.8565159 |\n",
       "| 672 | 2 | 96 | 672 | 0.18287555 | 0.79600912 | -630.66720 |  52.72775 | 0.5222042 | 0.7548893 | ⋯ | 64 |  88 | 0.5680445 | 0.9834137 | 7.483912 | -0.06527288 | 0.13048659 | -0.6088053 | 0.3851671 | 0.8532984 |\n",
       "\n"
      ],
      "text/plain": [
       "  frequency nperiods seasonal_period1 seasonal_period2 trend      spike     \n",
       "1 672       2        96               672              0.11873802 0.06236472\n",
       "2 672       2        96               672              0.06271599 0.04976898\n",
       "3 672       2        96               672              0.03671964 0.15966406\n",
       "4 672       2        96               672              0.08678362 3.59837926\n",
       "5 672       2        96               672              0.18428037 0.21968109\n",
       "6 672       2        96               672              0.18287555 0.79600912\n",
       "  linearity  curvature e_acf1    e_acf10   ⋯ trough1 trough2 entropy  \n",
       "1   94.46680 293.78410 0.3946537 0.6452961 ⋯ 11      609     0.6782436\n",
       "2   47.65461 156.29639 0.4293463 0.3973220 ⋯  5      500     0.6536231\n",
       "3 -131.59435  59.98838 0.6731399 1.8163552 ⋯ 28      282     0.6275385\n",
       "4 -665.51716 -40.91422 0.4426123 0.4621727 ⋯ 56      173     0.6499062\n",
       "5 -432.29089 420.92339 0.4280693 0.5778573 ⋯ 31      435     0.5140402\n",
       "6 -630.66720  52.72775 0.5222042 0.7548893 ⋯ 64       88     0.5680445\n",
       "  x_acf1    x_acf10  diff1_acf1  diff1_acf10 diff2_acf1 diff2_acf10 seas_acf1\n",
       "1 0.9786684 6.071303  0.09955463 0.22923628  -0.6079489 0.3943768   0.8540087\n",
       "2 0.9701665 6.374971 -0.09903519 0.07000481  -0.6268296 0.4218419   0.8425866\n",
       "3 0.9787455 7.026316 -0.05976278 0.09157036  -0.6038060 0.3817030   0.8231161\n",
       "4 0.9801411 6.558471  0.04096415 0.16818353  -0.6292484 0.4389144   0.8525582\n",
       "5 0.9878141 7.655158  0.01152159 0.24774998  -0.6334273 0.4354897   0.8565159\n",
       "6 0.9834137 7.483912 -0.06527288 0.13048659  -0.6088053 0.3851671   0.8532984"
      ]
     },
     "metadata": {},
     "output_type": "display_data"
    }
   ],
   "source": [
    "# Sanity check and inspect the summary\n",
    "head(ts_feat_list)"
   ]
  },
  {
   "cell_type": "code",
   "execution_count": 47,
   "id": "6f9b7b55",
   "metadata": {},
   "outputs": [
    {
     "data": {
      "text/plain": [
       "   frequency      nperiods seasonal_period1 seasonal_period2     trend        \n",
       " Min.   :672   Min.   :2   Min.   :96       Min.   :672      Min.   :0.01055  \n",
       " 1st Qu.:672   1st Qu.:2   1st Qu.:96       1st Qu.:672      1st Qu.:0.05470  \n",
       " Median :672   Median :2   Median :96       Median :672      Median :0.11456  \n",
       " Mean   :672   Mean   :2   Mean   :96       Mean   :672      Mean   :0.14953  \n",
       " 3rd Qu.:672   3rd Qu.:2   3rd Qu.:96       3rd Qu.:672      3rd Qu.:0.18323  \n",
       " Max.   :672   Max.   :2   Max.   :96       Max.   :672      Max.   :0.78452  \n",
       "     spike            linearity           curvature             e_acf1      \n",
       " Min.   : 0.00007   Min.   :-1528.544   Min.   :-1433.660   Min.   :0.1373  \n",
       " 1st Qu.: 0.03781   1st Qu.: -210.866   1st Qu.: -163.041   1st Qu.:0.4283  \n",
       " Median : 0.17716   Median :   48.587   Median :   -1.206   Median :0.5735  \n",
       " Mean   : 3.55332   Mean   :    1.563   Mean   :   -1.467   Mean   :0.5463  \n",
       " 3rd Qu.: 1.41586   3rd Qu.:  248.994   3rd Qu.:  141.446   3rd Qu.:0.6241  \n",
       " Max.   :91.29526   Max.   : 1485.175   Max.   : 2712.416   Max.   :0.8889  \n",
       "    e_acf10       seasonal_strength1 seasonal_strength2     peak1      \n",
       " Min.   :0.1200   Min.   :0.8154     Min.   :0.3065     Min.   : 1.00  \n",
       " 1st Qu.:0.6284   1st Qu.:0.9415     1st Qu.:0.6974     1st Qu.:22.75  \n",
       " Median :1.1153   Median :0.9664     Median :0.7759     Median :49.00  \n",
       " Mean   :1.4385   Mean   :0.9520     Mean   :0.7527     Mean   :47.54  \n",
       " 3rd Qu.:1.7902   3rd Qu.:0.9787     3rd Qu.:0.8648     3rd Qu.:70.25  \n",
       " Max.   :5.7448   Max.   :0.9936     Max.   :0.9703     Max.   :96.00  \n",
       "     peak2          trough1         trough2         entropy      \n",
       " Min.   :  2.0   Min.   : 1.00   Min.   :  2.0   Min.   :0.4872  \n",
       " 1st Qu.:179.8   1st Qu.:27.50   1st Qu.:170.0   1st Qu.:0.6128  \n",
       " Median :349.5   Median :57.00   Median :362.5   Median :0.6414  \n",
       " Mean   :343.9   Mean   :52.05   Mean   :331.0   Mean   :0.6432  \n",
       " 3rd Qu.:541.8   3rd Qu.:80.25   3rd Qu.:491.5   3rd Qu.:0.6761  \n",
       " Max.   :666.0   Max.   :96.00   Max.   :664.0   Max.   :0.7505  \n",
       "     x_acf1          x_acf10        diff1_acf1        diff1_acf10     \n",
       " Min.   :0.8203   Min.   :4.707   Min.   :-0.48283   Min.   :0.02475  \n",
       " 1st Qu.:0.9574   1st Qu.:6.255   1st Qu.:-0.23368   1st Qu.:0.08817  \n",
       " Median :0.9731   Median :6.681   Median :-0.08985   Median :0.10977  \n",
       " Mean   :0.9635   Mean   :6.604   Mean   :-0.09174   Mean   :0.14393  \n",
       " 3rd Qu.:0.9806   3rd Qu.:6.998   3rd Qu.: 0.04180   3rd Qu.:0.17817  \n",
       " Max.   :0.9878   Max.   :7.783   Max.   : 0.31285   Max.   :0.47677  \n",
       "   diff2_acf1       diff2_acf10       seas_acf1     \n",
       " Min.   :-0.6758   Min.   :0.2627   Min.   :0.4234  \n",
       " 1st Qu.:-0.6285   1st Qu.:0.3536   1st Qu.:0.7966  \n",
       " Median :-0.6039   Median :0.3893   Median :0.8319  \n",
       " Mean   :-0.5983   Mean   :0.3969   Mean   :0.8091  \n",
       " 3rd Qu.:-0.5835   3rd Qu.:0.4416   3rd Qu.:0.8488  \n",
       " Max.   :-0.3789   Max.   :0.5936   Max.   :0.8642  "
      ]
     },
     "metadata": {},
     "output_type": "display_data"
    }
   ],
   "source": [
    "summary(ts_feat_list)"
   ]
  },
  {
   "cell_type": "code",
   "execution_count": 48,
   "id": "76156463",
   "metadata": {},
   "outputs": [
    {
     "data": {
      "text/html": [
       "<style>\n",
       ".list-inline {list-style: none; margin:0; padding: 0}\n",
       ".list-inline>li {display: inline-block}\n",
       ".list-inline>li:not(:last-child)::after {content: \"\\00b7\"; padding: 0 .5ex}\n",
       "</style>\n",
       "<ol class=list-inline><li>'frequency'</li><li>'nperiods'</li><li>'seasonal_period1'</li><li>'seasonal_period2'</li></ol>\n"
      ],
      "text/latex": [
       "\\begin{enumerate*}\n",
       "\\item 'frequency'\n",
       "\\item 'nperiods'\n",
       "\\item 'seasonal\\_period1'\n",
       "\\item 'seasonal\\_period2'\n",
       "\\end{enumerate*}\n"
      ],
      "text/markdown": [
       "1. 'frequency'\n",
       "2. 'nperiods'\n",
       "3. 'seasonal_period1'\n",
       "4. 'seasonal_period2'\n",
       "\n",
       "\n"
      ],
      "text/plain": [
       "[1] \"frequency\"        \"nperiods\"         \"seasonal_period1\" \"seasonal_period2\""
      ]
     },
     "metadata": {},
     "output_type": "display_data"
    }
   ],
   "source": [
    "# Check for features where the lower and upper quantiles and median are identical - these likely do not provide\n",
    "# enough useful information to include them for clustering\n",
    "rownames(data.frame(t(sapply(ts_feat_list, function(i) quantile(i, c(0.25, 0.5, 0.75))))) %>%\n",
    "    mutate(is_lower_equal_med = ifelse(X25.==X50., TRUE, FALSE)) %>%\n",
    "    mutate(is_upper_equal_med = ifelse(X50.==X75., TRUE, FALSE)) %>%\n",
    "    mutate(all_same = is_lower_equal_med+is_upper_equal_med) %>%\n",
    "    filter(all_same==2))"
   ]
  },
  {
   "cell_type": "code",
   "execution_count": 49,
   "id": "8c2c431e",
   "metadata": {},
   "outputs": [],
   "source": [
    "# Remove features with very low variation\n",
    "ts_feat_list <- ts_feat_list%>% select(-c(frequency, nperiods, seasonal_period1, seasonal_period2))"
   ]
  },
  {
   "cell_type": "code",
   "execution_count": 51,
   "id": "7a8f1050",
   "metadata": {},
   "outputs": [],
   "source": [
    "write.csv(ts_feat_list, \"Results/Clustering/KMeans/tsfeat_feat_df.csv\")"
   ]
  },
  {
   "cell_type": "code",
   "execution_count": 224,
   "id": "7c855f6c",
   "metadata": {},
   "outputs": [],
   "source": [
    "# Scale features to unit interval to be consistent with how we used Catch22 features\n",
    "ts_feat_list_df_scaled <- ts_feat_list\n",
    "\n",
    "# Scale by looping through each feature and subtracting the min and dividing by the range\n",
    "for (n in 1:ncol(ts_feat_list_df_scaled)){\n",
    "    min_n <- min(ts_feat_list_df_scaled[,n])\n",
    "    max_n <- max(ts_feat_list_df_scaled[,n])\n",
    "    ts_feat_list_df_scaled[,n] <- (ts_feat_list_df_scaled[,n] - min_n)/(max_n - min_n)\n",
    "}"
   ]
  },
  {
   "cell_type": "markdown",
   "id": "aff145c9",
   "metadata": {},
   "source": [
    "## K-Means Clustering with TS Features"
   ]
  },
  {
   "cell_type": "code",
   "execution_count": 225,
   "id": "1950948f",
   "metadata": {},
   "outputs": [
    {
     "data": {
      "image/png": "[encoded data removed]",
      "text/plain": [
       "plot without title"
      ]
     },
     "metadata": {
      "image/png": {
       "height": 420,
       "width": 420
      }
     },
     "output_type": "display_data"
    }
   ],
   "source": [
    "# Cluster using the Eblow Method based on WSS\n",
    "set.seed(54321)\n",
    "wss_tsfeat <- fviz_nbclust(ts_feat_list_df_scaled, \n",
    "             kmeans, \n",
    "             method = \"wss\", \n",
    "             k.max=15, \n",
    "             iter.max=1000, \n",
    "             nstart=100, \n",
    "             algorithm=\"Hartigan-Wong\") + \n",
    "labs(title=\"WSS for TSFeat-Based Clusters\")\n",
    "\n",
    "wss_tsfeat\n",
    "# No clear best number"
   ]
  },
  {
   "cell_type": "code",
   "execution_count": 226,
   "id": "4948c08a",
   "metadata": {},
   "outputs": [],
   "source": [
    "ggsave(\"Results/Clustering/KMeans/wss_tsfeat.png\", wss_tsfeat, width=10, height=5)"
   ]
  },
  {
   "cell_type": "code",
   "execution_count": 227,
   "id": "4d754705",
   "metadata": {},
   "outputs": [
    {
     "data": {
      "image/png": "[encoded data removed]",
      "text/plain": [
       "plot without title"
      ]
     },
     "metadata": {
      "image/png": {
       "height": 420,
       "width": 420
      }
     },
     "output_type": "display_data"
    }
   ],
   "source": [
    "# Let's try the silhouette method instead\n",
    "set.seed(54321)\n",
    "sil_tsfeat <- fviz_nbclust(ts_feat_list_df_scaled,  \n",
    "             kmeans, \n",
    "             method=\"silhouette\", \n",
    "             k.max=15, \n",
    "             iter.max=10000, \n",
    "             nstart=500, \n",
    "             algorithm=\"Hartigan-Wong\") + \n",
    "labs(title=\"Average Silhouette Width for TSFeat-Based Clusters\")\n",
    "\n",
    "sil_tsfeat\n",
    "# Much clearer indication of 6 being optimal, with 3 another potential option"
   ]
  },
  {
   "cell_type": "code",
   "execution_count": 228,
   "id": "9515918e",
   "metadata": {},
   "outputs": [],
   "source": [
    "ggsave(\"Results/Clustering/KMeans/sil_tsfeat.png\", sil_tsfeat, width=10, height=5)"
   ]
  },
  {
   "cell_type": "code",
   "execution_count": 229,
   "id": "49cf14fc",
   "metadata": {},
   "outputs": [],
   "source": [
    "# Inspect further results for 3 best looking options\n",
    "# Choose the K's\n",
    "k1 <- 2\n",
    "k2 <- 3\n",
    "k3 <- 6\n",
    "\n",
    "# Create the clusters\n",
    "set.seed(54321)\n",
    "kmeans_clust1 <- kmeans(ts_feat_list_df_scaled, \n",
    "                        k1, iter.max=10000, nstart=500, algorithm=\"Hartigan-Wong\") \n",
    "set.seed(54321)\n",
    "kmeans_clust2 <- kmeans(ts_feat_list_df_scaled, \n",
    "                        k2, iter.max=10000, nstart=500, algorithm=\"Hartigan-Wong\") \n",
    "\n",
    "set.seed(54321)\n",
    "kmeans_clust3 <- kmeans(ts_feat_list_df_scaled, \n",
    "                        k3, iter.max=10000, nstart=500, algorithm=\"Hartigan-Wong\") "
   ]
  },
  {
   "cell_type": "code",
   "execution_count": 230,
   "id": "6f373fbf",
   "metadata": {},
   "outputs": [],
   "source": [
    "# Compute distance matrix\n",
    "D <- dist(ts_feat_list_df_scaled) # daisy(ts_feat_list_df_scaled)"
   ]
  },
  {
   "cell_type": "code",
   "execution_count": 231,
   "id": "6de10f4e",
   "metadata": {},
   "outputs": [],
   "source": [
    "sil_tsfeat_k1 <- silhouette(kmeans_clust1$cluster, D) "
   ]
  },
  {
   "cell_type": "code",
   "execution_count": 232,
   "id": "36aeeff8",
   "metadata": {},
   "outputs": [
    {
     "data": {
      "image/png": "[encoded data removed]",
      "text/plain": [
       "Plot with title “Silhouette plot of (x = kmeans_clust1$cluster, dist = D)”"
      ]
     },
     "metadata": {
      "image/png": {
       "height": 420,
       "width": 420
      }
     },
     "output_type": "display_data"
    }
   ],
   "source": [
    "plot(sil_tsfeat_k1)"
   ]
  },
  {
   "cell_type": "code",
   "execution_count": 234,
   "id": "446a8183",
   "metadata": {},
   "outputs": [
    {
     "name": "stdout",
     "output_type": "stream",
     "text": [
      "  cluster size ave.sil.width\n",
      "1       1   28          0.09\n",
      "2       2   48          0.18\n"
     ]
    },
    {
     "data": {
      "image/png": "[encoded data removed]",
      "text/plain": [
       "plot without title"
      ]
     },
     "metadata": {
      "image/png": {
       "height": 420,
       "width": 420
      }
     },
     "output_type": "display_data"
    }
   ],
   "source": [
    "sil_tsfeat_k1_plot <- fviz_silhouette(sil_tsfeat_k1) + \n",
    "    ggtitle(\"Silhouette Width for TSFeat-Based Clusters with K=2\")\n",
    "sil_tsfeat_k1_plot$layers[[2]]$aes_params$colour <- \"black\"\n",
    "\n",
    "sil_tsfeat_k1_plot"
   ]
  },
  {
   "cell_type": "code",
   "execution_count": 236,
   "id": "e3531dda",
   "metadata": {},
   "outputs": [],
   "source": [
    "ggsave(\"Results/Clustering/KMeans/avg_sil_tsfeat_k2.png\", sil_tsfeat_k1_plot, width=10, height=5)"
   ]
  },
  {
   "cell_type": "code",
   "execution_count": 237,
   "id": "81d72d3c",
   "metadata": {},
   "outputs": [],
   "source": [
    "sil_tsfeat_k2 <- silhouette(kmeans_clust2$cluster, D) "
   ]
  },
  {
   "cell_type": "code",
   "execution_count": 238,
   "id": "b2933b4d",
   "metadata": {},
   "outputs": [
    {
     "data": {
      "image/png": "[encoded data removed]",
      "text/plain": [
       "Plot with title “Silhouette plot of (x = kmeans_clust2$cluster, dist = D)”"
      ]
     },
     "metadata": {
      "image/png": {
       "height": 420,
       "width": 420
      }
     },
     "output_type": "display_data"
    }
   ],
   "source": [
    "plot(sil_tsfeat_k2)"
   ]
  },
  {
   "cell_type": "code",
   "execution_count": 239,
   "id": "0cb5b49e",
   "metadata": {},
   "outputs": [
    {
     "name": "stdout",
     "output_type": "stream",
     "text": [
      "  cluster size ave.sil.width\n",
      "1       1   31          0.15\n",
      "2       2   38          0.17\n",
      "3       3    7          0.08\n"
     ]
    },
    {
     "data": {
      "image/png": "[encoded data removed]",
      "text/plain": [
       "plot without title"
      ]
     },
     "metadata": {
      "image/png": {
       "height": 420,
       "width": 420
      }
     },
     "output_type": "display_data"
    }
   ],
   "source": [
    "sil_tsfeat_k2_plot <- fviz_silhouette(sil_tsfeat_k2) + \n",
    "    ggtitle(\"Silhouette Width for TSFeat-Based Clusters with K=3\")\n",
    "sil_tsfeat_k2_plot$layers[[2]]$aes_params$colour <- \"black\"\n",
    "\n",
    "sil_tsfeat_k2_plot"
   ]
  },
  {
   "cell_type": "code",
   "execution_count": 240,
   "id": "e3d55d74",
   "metadata": {},
   "outputs": [],
   "source": [
    "ggsave(\"Results/Clustering/KMeans/avg_sil_tsfeat_k3.png\", sil_tsfeat_k2_plot, width=10, height=5)"
   ]
  },
  {
   "cell_type": "code",
   "execution_count": 241,
   "id": "7d692b38",
   "metadata": {},
   "outputs": [],
   "source": [
    "sil_tsfeat_k3 <- silhouette(kmeans_clust3$cluster, D) "
   ]
  },
  {
   "cell_type": "code",
   "execution_count": 242,
   "id": "dd6bd9ec",
   "metadata": {},
   "outputs": [
    {
     "data": {
      "image/png": "[encoded data removed]",
      "text/plain": [
       "Plot with title “Silhouette plot of (x = kmeans_clust3$cluster, dist = D)”"
      ]
     },
     "metadata": {
      "image/png": {
       "height": 420,
       "width": 420
      }
     },
     "output_type": "display_data"
    }
   ],
   "source": [
    "plot(sil_tsfeat_k3)"
   ]
  },
  {
   "cell_type": "code",
   "execution_count": 243,
   "id": "5458c148",
   "metadata": {},
   "outputs": [
    {
     "name": "stdout",
     "output_type": "stream",
     "text": [
      "  cluster size ave.sil.width\n",
      "1       1    4          0.16\n",
      "2       2   26          0.18\n",
      "3       3   16          0.18\n",
      "4       4    2          0.31\n",
      "5       5   14          0.09\n",
      "6       6   14          0.10\n"
     ]
    },
    {
     "data": {
      "image/png": "[encoded data removed]",
      "text/plain": [
       "plot without title"
      ]
     },
     "metadata": {
      "image/png": {
       "height": 420,
       "width": 420
      }
     },
     "output_type": "display_data"
    }
   ],
   "source": [
    "sil_tsfeat_k3_plot <- fviz_silhouette(sil_tsfeat_k3) + \n",
    "    ggtitle(\"Silhouette Width for TSFeat-Based Clusters with K=6\")\n",
    "sil_tsfeat_k3_plot$layers[[2]]$aes_params$colour <- \"black\"\n",
    "\n",
    "sil_tsfeat_k3_plot"
   ]
  },
  {
   "cell_type": "code",
   "execution_count": 244,
   "id": "295a9b0c",
   "metadata": {},
   "outputs": [],
   "source": [
    "ggsave(\"Results/Clustering/KMeans/avg_sil_tsfeat_k6.png\", sil_tsfeat_k3_plot, width=10, height=5)"
   ]
  },
  {
   "cell_type": "code",
   "execution_count": 61,
   "id": "f055fa89",
   "metadata": {},
   "outputs": [],
   "source": [
    "# We choose k=3 even though the width is slightly better for 6 as 3 is much simpler and several clusters with K=6\n",
    "# are just very small (too small to be practical)\n",
    "set.seed(54321)\n",
    "kfinal <- 3\n",
    "kmeans_final <- kmeans(ts_feat_list_df_scaled,\n",
    "                       kfinal, iter.max=10000, nstart=500, algorithm=\"Hartigan-Wong\") "
   ]
  },
  {
   "cell_type": "code",
   "execution_count": 62,
   "id": "31c159a3",
   "metadata": {},
   "outputs": [],
   "source": [
    "# Save the results in an RData file\n",
    "saveRDS(kmeans_final, \n",
    "        file=\"Results/Clustering/KMeans/kmeans_tsfeat.RData\")"
   ]
  },
  {
   "cell_type": "code",
   "execution_count": 85,
   "id": "6c3f764b",
   "metadata": {},
   "outputs": [
    {
     "data": {
      "text/html": [
       "<style>\n",
       ".list-inline {list-style: none; margin:0; padding: 0}\n",
       ".list-inline>li {display: inline-block}\n",
       ".list-inline>li:not(:last-child)::after {content: \"\\00b7\"; padding: 0 .5ex}\n",
       "</style>\n",
       "<ol class=list-inline><li>1</li><li>1</li><li>1</li><li>1</li><li>1</li><li>2</li><li>2</li><li>1</li><li>2</li><li>2</li><li>2</li><li>2</li><li>1</li><li>1</li><li>1</li><li>1</li><li>1</li><li>2</li><li>1</li><li>1</li><li>2</li><li>1</li><li>1</li><li>2</li><li>2</li><li>2</li><li>1</li><li>1</li><li>1</li><li>2</li><li>2</li><li>2</li><li>2</li><li>1</li><li>2</li><li>2</li><li>1</li><li>2</li><li>2</li><li>2</li><li>2</li><li>2</li><li>2</li><li>2</li><li>3</li><li>2</li><li>2</li><li>2</li><li>1</li><li>2</li><li>3</li><li>3</li><li>3</li><li>1</li><li>2</li><li>2</li><li>1</li><li>1</li><li>2</li><li>2</li><li>1</li><li>3</li><li>3</li><li>1</li><li>2</li><li>3</li><li>2</li><li>1</li><li>2</li><li>1</li><li>1</li><li>1</li><li>1</li><li>2</li><li>2</li><li>2</li></ol>\n"
      ],
      "text/latex": [
       "\\begin{enumerate*}\n",
       "\\item 1\n",
       "\\item 1\n",
       "\\item 1\n",
       "\\item 1\n",
       "\\item 1\n",
       "\\item 2\n",
       "\\item 2\n",
       "\\item 1\n",
       "\\item 2\n",
       "\\item 2\n",
       "\\item 2\n",
       "\\item 2\n",
       "\\item 1\n",
       "\\item 1\n",
       "\\item 1\n",
       "\\item 1\n",
       "\\item 1\n",
       "\\item 2\n",
       "\\item 1\n",
       "\\item 1\n",
       "\\item 2\n",
       "\\item 1\n",
       "\\item 1\n",
       "\\item 2\n",
       "\\item 2\n",
       "\\item 2\n",
       "\\item 1\n",
       "\\item 1\n",
       "\\item 1\n",
       "\\item 2\n",
       "\\item 2\n",
       "\\item 2\n",
       "\\item 2\n",
       "\\item 1\n",
       "\\item 2\n",
       "\\item 2\n",
       "\\item 1\n",
       "\\item 2\n",
       "\\item 2\n",
       "\\item 2\n",
       "\\item 2\n",
       "\\item 2\n",
       "\\item 2\n",
       "\\item 2\n",
       "\\item 3\n",
       "\\item 2\n",
       "\\item 2\n",
       "\\item 2\n",
       "\\item 1\n",
       "\\item 2\n",
       "\\item 3\n",
       "\\item 3\n",
       "\\item 3\n",
       "\\item 1\n",
       "\\item 2\n",
       "\\item 2\n",
       "\\item 1\n",
       "\\item 1\n",
       "\\item 2\n",
       "\\item 2\n",
       "\\item 1\n",
       "\\item 3\n",
       "\\item 3\n",
       "\\item 1\n",
       "\\item 2\n",
       "\\item 3\n",
       "\\item 2\n",
       "\\item 1\n",
       "\\item 2\n",
       "\\item 1\n",
       "\\item 1\n",
       "\\item 1\n",
       "\\item 1\n",
       "\\item 2\n",
       "\\item 2\n",
       "\\item 2\n",
       "\\end{enumerate*}\n"
      ],
      "text/markdown": [
       "1. 1\n",
       "2. 1\n",
       "3. 1\n",
       "4. 1\n",
       "5. 1\n",
       "6. 2\n",
       "7. 2\n",
       "8. 1\n",
       "9. 2\n",
       "10. 2\n",
       "11. 2\n",
       "12. 2\n",
       "13. 1\n",
       "14. 1\n",
       "15. 1\n",
       "16. 1\n",
       "17. 1\n",
       "18. 2\n",
       "19. 1\n",
       "20. 1\n",
       "21. 2\n",
       "22. 1\n",
       "23. 1\n",
       "24. 2\n",
       "25. 2\n",
       "26. 2\n",
       "27. 1\n",
       "28. 1\n",
       "29. 1\n",
       "30. 2\n",
       "31. 2\n",
       "32. 2\n",
       "33. 2\n",
       "34. 1\n",
       "35. 2\n",
       "36. 2\n",
       "37. 1\n",
       "38. 2\n",
       "39. 2\n",
       "40. 2\n",
       "41. 2\n",
       "42. 2\n",
       "43. 2\n",
       "44. 2\n",
       "45. 3\n",
       "46. 2\n",
       "47. 2\n",
       "48. 2\n",
       "49. 1\n",
       "50. 2\n",
       "51. 3\n",
       "52. 3\n",
       "53. 3\n",
       "54. 1\n",
       "55. 2\n",
       "56. 2\n",
       "57. 1\n",
       "58. 1\n",
       "59. 2\n",
       "60. 2\n",
       "61. 1\n",
       "62. 3\n",
       "63. 3\n",
       "64. 1\n",
       "65. 2\n",
       "66. 3\n",
       "67. 2\n",
       "68. 1\n",
       "69. 2\n",
       "70. 1\n",
       "71. 1\n",
       "72. 1\n",
       "73. 1\n",
       "74. 2\n",
       "75. 2\n",
       "76. 2\n",
       "\n",
       "\n"
      ],
      "text/plain": [
       " [1] 1 1 1 1 1 2 2 1 2 2 2 2 1 1 1 1 1 2 1 1 2 1 1 2 2 2 1 1 1 2 2 2 2 1 2 2 1 2\n",
       "[39] 2 2 2 2 2 2 3 2 2 2 1 2 3 3 3 1 2 2 1 1 2 2 1 3 3 1 2 3 2 1 2 1 1 1 1 2 2 2"
      ]
     },
     "metadata": {},
     "output_type": "display_data"
    }
   ],
   "source": [
    "# Print cluster assignments\n",
    "kmeans_final$cluster"
   ]
  },
  {
   "cell_type": "code",
   "execution_count": 86,
   "id": "270076c3",
   "metadata": {},
   "outputs": [],
   "source": [
    "# Format cluster assignments into a df\n",
    "kmeans_clust_df <- data.frame(ts_index=1:length(kmeans_final$cluster), \n",
    "                              kmeans_tsfeat_clust_assign=kmeans_final$cluster)"
   ]
  },
  {
   "cell_type": "code",
   "execution_count": 87,
   "id": "ee4d0e7c",
   "metadata": {},
   "outputs": [
    {
     "data": {
      "text/html": [
       "<table class=\"dataframe\">\n",
       "<caption>A data.frame: 6 × 2</caption>\n",
       "<thead>\n",
       "\t<tr><th></th><th scope=col>ts_index</th><th scope=col>kmeans_tsfeat_clust_assign</th></tr>\n",
       "\t<tr><th></th><th scope=col>&lt;int&gt;</th><th scope=col>&lt;int&gt;</th></tr>\n",
       "</thead>\n",
       "<tbody>\n",
       "\t<tr><th scope=row>1</th><td>1</td><td>1</td></tr>\n",
       "\t<tr><th scope=row>2</th><td>2</td><td>1</td></tr>\n",
       "\t<tr><th scope=row>3</th><td>3</td><td>1</td></tr>\n",
       "\t<tr><th scope=row>4</th><td>4</td><td>1</td></tr>\n",
       "\t<tr><th scope=row>5</th><td>5</td><td>1</td></tr>\n",
       "\t<tr><th scope=row>6</th><td>6</td><td>2</td></tr>\n",
       "</tbody>\n",
       "</table>\n"
      ],
      "text/latex": [
       "A data.frame: 6 × 2\n",
       "\\begin{tabular}{r|ll}\n",
       "  & ts\\_index & kmeans\\_tsfeat\\_clust\\_assign\\\\\n",
       "  & <int> & <int>\\\\\n",
       "\\hline\n",
       "\t1 & 1 & 1\\\\\n",
       "\t2 & 2 & 1\\\\\n",
       "\t3 & 3 & 1\\\\\n",
       "\t4 & 4 & 1\\\\\n",
       "\t5 & 5 & 1\\\\\n",
       "\t6 & 6 & 2\\\\\n",
       "\\end{tabular}\n"
      ],
      "text/markdown": [
       "\n",
       "A data.frame: 6 × 2\n",
       "\n",
       "| <!--/--> | ts_index &lt;int&gt; | kmeans_tsfeat_clust_assign &lt;int&gt; |\n",
       "|---|---|---|\n",
       "| 1 | 1 | 1 |\n",
       "| 2 | 2 | 1 |\n",
       "| 3 | 3 | 1 |\n",
       "| 4 | 4 | 1 |\n",
       "| 5 | 5 | 1 |\n",
       "| 6 | 6 | 2 |\n",
       "\n"
      ],
      "text/plain": [
       "  ts_index kmeans_tsfeat_clust_assign\n",
       "1 1        1                         \n",
       "2 2        1                         \n",
       "3 3        1                         \n",
       "4 4        1                         \n",
       "5 5        1                         \n",
       "6 6        2                         "
      ]
     },
     "metadata": {},
     "output_type": "display_data"
    }
   ],
   "source": [
    "head(kmeans_clust_df)"
   ]
  },
  {
   "cell_type": "code",
   "execution_count": 88,
   "id": "a4c38865",
   "metadata": {},
   "outputs": [],
   "source": [
    "# Save the df to a csv file for future use\n",
    "write.csv(kmeans_clust_df, \n",
    "          \"Results/Clustering/KMeans/kmeans_tsfeat_clustering_assign.csv\", \n",
    "          row.names=FALSE)"
   ]
  },
  {
   "cell_type": "markdown",
   "id": "f04e7111",
   "metadata": {},
   "source": [
    "# K-Medoids Clustering on Raw Time Series"
   ]
  },
  {
   "cell_type": "code",
   "execution_count": 245,
   "id": "5de20aee",
   "metadata": {},
   "outputs": [
    {
     "name": "stdout",
     "output_type": "stream",
     "text": [
      "\n",
      "\tPrecomputing distance matrix...\n",
      "\n"
     ]
    },
    {
     "name": "stderr",
     "output_type": "stream",
     "text": [
      "Repetition 1 for k = 2\n",
      "\n"
     ]
    },
    {
     "name": "stdout",
     "output_type": "stream",
     "text": [
      "Iteration 1: Changes / Distsum = 76 / 50165888\n",
      "Iteration 2: Changes / Distsum = 13 / 28649136\n",
      "Iteration 3: Changes / Distsum = 5 / 27246448\n",
      "Iteration 4: Changes / Distsum = 6 / 26470328\n",
      "Iteration 5: Changes / Distsum = 11 / 25018251\n",
      "Iteration 6: Changes / Distsum = 5 / 21254810\n",
      "Iteration 7: Changes / Distsum = 0 / 21254810\n",
      "\n"
     ]
    },
    {
     "name": "stderr",
     "output_type": "stream",
     "text": [
      "Repetition 1 for k = 3\n",
      "\n"
     ]
    },
    {
     "name": "stdout",
     "output_type": "stream",
     "text": [
      "Iteration 1: Changes / Distsum = 76 / 23250550\n",
      "Iteration 2: Changes / Distsum = 5 / 18803600\n",
      "Iteration 3: Changes / Distsum = 0 / 18803600\n",
      "\n"
     ]
    },
    {
     "name": "stderr",
     "output_type": "stream",
     "text": [
      "Repetition 1 for k = 4\n",
      "\n"
     ]
    },
    {
     "name": "stdout",
     "output_type": "stream",
     "text": [
      "Iteration 1: Changes / Distsum = 76 / 26811032\n",
      "Iteration 2: Changes / Distsum = 20 / 17464293\n",
      "Iteration 3: Changes / Distsum = 3 / 16770916\n",
      "Iteration 4: Changes / Distsum = 2 / 16745902\n",
      "Iteration 5: Changes / Distsum = 1 / 16728500\n",
      "Iteration 6: Changes / Distsum = 0 / 16728500\n",
      "\n"
     ]
    },
    {
     "name": "stderr",
     "output_type": "stream",
     "text": [
      "Repetition 1 for k = 5\n",
      "\n"
     ]
    },
    {
     "name": "stdout",
     "output_type": "stream",
     "text": [
      "Iteration 1: Changes / Distsum = 76 / 25647411\n",
      "Iteration 2: Changes / Distsum = 10 / 16531080\n",
      "Iteration 3: Changes / Distsum = 1 / 16398648\n",
      "Iteration 4: Changes / Distsum = 0 / 16398648\n",
      "\n"
     ]
    },
    {
     "name": "stderr",
     "output_type": "stream",
     "text": [
      "Repetition 1 for k = 6\n",
      "\n"
     ]
    },
    {
     "name": "stdout",
     "output_type": "stream",
     "text": [
      "Iteration 1: Changes / Distsum = 76 / 19713756\n",
      "Iteration 2: Changes / Distsum = 9 / 17175426\n",
      "Iteration 3: Changes / Distsum = 15 / 14968766\n",
      "Iteration 4: Changes / Distsum = 7 / 14225910\n",
      "Iteration 5: Changes / Distsum = 3 / 14071036\n",
      "Iteration 6: Changes / Distsum = 0 / 14063040\n",
      "\n"
     ]
    },
    {
     "name": "stderr",
     "output_type": "stream",
     "text": [
      "Repetition 1 for k = 7\n",
      "\n"
     ]
    },
    {
     "name": "stdout",
     "output_type": "stream",
     "text": [
      "Iteration 1: Changes / Distsum = 76 / 18495500\n",
      "Iteration 2: Changes / Distsum = 4 / 15454396\n",
      "Iteration 3: Changes / Distsum = 3 / 15293227\n",
      "Iteration 4: Changes / Distsum = 0 / 15285232\n",
      "\n"
     ]
    },
    {
     "name": "stderr",
     "output_type": "stream",
     "text": [
      "Repetition 1 for k = 8\n",
      "\n"
     ]
    },
    {
     "name": "stdout",
     "output_type": "stream",
     "text": [
      "Iteration 1: Changes / Distsum = 76 / 18826626\n",
      "Iteration 2: Changes / Distsum = 17 / 15138691\n",
      "Iteration 3: Changes / Distsum = 8 / 14866632\n",
      "Iteration 4: Changes / Distsum = 7 / 13665594\n",
      "Iteration 5: Changes / Distsum = 3 / 13480624\n",
      "Iteration 6: Changes / Distsum = 1 / 13463222\n",
      "Iteration 7: Changes / Distsum = 0 / 13463222\n",
      "\n"
     ]
    },
    {
     "name": "stderr",
     "output_type": "stream",
     "text": [
      "Repetition 1 for k = 9\n",
      "\n"
     ]
    },
    {
     "name": "stdout",
     "output_type": "stream",
     "text": [
      "Iteration 1: Changes / Distsum = 76 / 16228758\n",
      "Iteration 2: Changes / Distsum = 7 / 15023328\n",
      "Iteration 3: Changes / Distsum = 3 / 14908188\n",
      "Iteration 4: Changes / Distsum = 0 / 14904427\n",
      "\n"
     ]
    },
    {
     "name": "stderr",
     "output_type": "stream",
     "text": [
      "Repetition 1 for k = 10\n",
      "\n"
     ]
    },
    {
     "name": "stdout",
     "output_type": "stream",
     "text": [
      "Iteration 1: Changes / Distsum = 76 / 16407916\n",
      "Iteration 2: Changes / Distsum = 9 / 13655431\n",
      "Iteration 3: Changes / Distsum = 3 / 13405304\n",
      "Iteration 4: Changes / Distsum = 5 / 13231460\n",
      "Iteration 5: Changes / Distsum = 3 / 13099606\n",
      "Iteration 6: Changes / Distsum = 2 / 13074592\n",
      "Iteration 7: Changes / Distsum = 1 / 13057190\n",
      "Iteration 8: Changes / Distsum = 0 / 13057190\n",
      "\n"
     ]
    },
    {
     "name": "stderr",
     "output_type": "stream",
     "text": [
      "Repetition 1 for k = 11\n",
      "\n"
     ]
    },
    {
     "name": "stdout",
     "output_type": "stream",
     "text": [
      "Iteration 1: Changes / Distsum = 76 / 24343044\n",
      "Iteration 2: Changes / Distsum = 15 / 16027480\n",
      "Iteration 3: Changes / Distsum = 5 / 15159280\n",
      "Iteration 4: Changes / Distsum = 4 / 15062327\n",
      "Iteration 5: Changes / Distsum = 2 / 14924854\n",
      "Iteration 6: Changes / Distsum = 0 / 14924854\n",
      "\n"
     ]
    },
    {
     "name": "stderr",
     "output_type": "stream",
     "text": [
      "Repetition 1 for k = 12\n",
      "\n"
     ]
    },
    {
     "name": "stdout",
     "output_type": "stream",
     "text": [
      "Iteration 1: Changes / Distsum = 76 / 13055416\n",
      "Iteration 2: Changes / Distsum = 6 / 12268712\n",
      "Iteration 3: Changes / Distsum = 0 / 12268712\n",
      "\n",
      "\tElapsed time is 138.311 seconds.\n",
      "\n"
     ]
    }
   ],
   "source": [
    "# Create pam (medoids) clusters using the dtw distance metric between the raw time series rather than computing\n",
    "# features first. We try K=2:12 to find an optimal value\n",
    "dtw_clusters <- tsclust(train_samples_ts, \n",
    "                        k=2:12, \n",
    "                        type=\"partitional\", \n",
    "                        distance = \"dtw_basic\", \n",
    "                        centroid = \"pam\",\n",
    "                        seed=54321,\n",
    "                        trace=TRUE\n",
    "                       )"
   ]
  },
  {
   "cell_type": "code",
   "execution_count": 246,
   "id": "aac46fa9",
   "metadata": {},
   "outputs": [],
   "source": [
    "# Create a list of cluster quality for each K\n",
    "dtw_cluster_quality <- lapply(dtw_clusters, cvi)"
   ]
  },
  {
   "cell_type": "code",
   "execution_count": 247,
   "id": "eec45e1a",
   "metadata": {},
   "outputs": [],
   "source": [
    "# Turn that list into a df\n",
    "dtw_cluster_quality_df <- data.frame(do.call(\"rbind\", dtw_cluster_quality))"
   ]
  },
  {
   "cell_type": "code",
   "execution_count": 248,
   "id": "40773169",
   "metadata": {},
   "outputs": [
    {
     "data": {
      "text/html": [
       "<table class=\"dataframe\">\n",
       "<caption>A data.frame: 11 × 7</caption>\n",
       "<thead>\n",
       "\t<tr><th scope=col>Sil</th><th scope=col>SF</th><th scope=col>CH</th><th scope=col>DB</th><th scope=col>DBstar</th><th scope=col>D</th><th scope=col>COP</th></tr>\n",
       "\t<tr><th scope=col>&lt;dbl&gt;</th><th scope=col>&lt;dbl&gt;</th><th scope=col>&lt;dbl&gt;</th><th scope=col>&lt;dbl&gt;</th><th scope=col>&lt;dbl&gt;</th><th scope=col>&lt;dbl&gt;</th><th scope=col>&lt;dbl&gt;</th></tr>\n",
       "</thead>\n",
       "<tbody>\n",
       "\t<tr><td>0.66299893</td><td>0</td><td>95.42205</td><td>0.6039821</td><td>0.6039821</td><td>0.07647686</td><td>0.19125251</td></tr>\n",
       "\t<tr><td>0.37515449</td><td>0</td><td>56.24669</td><td>0.9308905</td><td>1.2862025</td><td>0.11771508</td><td>0.12822965</td></tr>\n",
       "\t<tr><td>0.37473669</td><td>0</td><td>42.98607</td><td>1.0896729</td><td>2.2428614</td><td>0.05554870</td><td>0.11779599</td></tr>\n",
       "\t<tr><td>0.24699064</td><td>0</td><td>33.28491</td><td>1.4745898</td><td>2.6645976</td><td>0.07437776</td><td>0.10499308</td></tr>\n",
       "\t<tr><td>0.30607597</td><td>0</td><td>34.34424</td><td>1.0951365</td><td>2.1026697</td><td>0.09848232</td><td>0.08743999</td></tr>\n",
       "\t<tr><td>0.29530648</td><td>0</td><td>22.84475</td><td>1.0225772</td><td>2.1938737</td><td>0.05554870</td><td>0.09703535</td></tr>\n",
       "\t<tr><td>0.28152895</td><td>0</td><td>24.81591</td><td>0.9819535</td><td>2.1043271</td><td>0.09848232</td><td>0.07815299</td></tr>\n",
       "\t<tr><td>0.18197460</td><td>0</td><td>17.88953</td><td>1.2165093</td><td>2.6006124</td><td>0.04625241</td><td>0.09367202</td></tr>\n",
       "\t<tr><td>0.21455359</td><td>0</td><td>19.23017</td><td>1.0069293</td><td>2.0003973</td><td>0.09644064</td><td>0.07661978</td></tr>\n",
       "\t<tr><td>0.16559216</td><td>0</td><td>13.49469</td><td>1.2604393</td><td>3.7082212</td><td>0.04880905</td><td>0.09639521</td></tr>\n",
       "\t<tr><td>0.09930903</td><td>0</td><td>17.12428</td><td>1.3811099</td><td>2.8086289</td><td>0.08206900</td><td>0.07165045</td></tr>\n",
       "</tbody>\n",
       "</table>\n"
      ],
      "text/latex": [
       "A data.frame: 11 × 7\n",
       "\\begin{tabular}{lllllll}\n",
       " Sil & SF & CH & DB & DBstar & D & COP\\\\\n",
       " <dbl> & <dbl> & <dbl> & <dbl> & <dbl> & <dbl> & <dbl>\\\\\n",
       "\\hline\n",
       "\t 0.66299893 & 0 & 95.42205 & 0.6039821 & 0.6039821 & 0.07647686 & 0.19125251\\\\\n",
       "\t 0.37515449 & 0 & 56.24669 & 0.9308905 & 1.2862025 & 0.11771508 & 0.12822965\\\\\n",
       "\t 0.37473669 & 0 & 42.98607 & 1.0896729 & 2.2428614 & 0.05554870 & 0.11779599\\\\\n",
       "\t 0.24699064 & 0 & 33.28491 & 1.4745898 & 2.6645976 & 0.07437776 & 0.10499308\\\\\n",
       "\t 0.30607597 & 0 & 34.34424 & 1.0951365 & 2.1026697 & 0.09848232 & 0.08743999\\\\\n",
       "\t 0.29530648 & 0 & 22.84475 & 1.0225772 & 2.1938737 & 0.05554870 & 0.09703535\\\\\n",
       "\t 0.28152895 & 0 & 24.81591 & 0.9819535 & 2.1043271 & 0.09848232 & 0.07815299\\\\\n",
       "\t 0.18197460 & 0 & 17.88953 & 1.2165093 & 2.6006124 & 0.04625241 & 0.09367202\\\\\n",
       "\t 0.21455359 & 0 & 19.23017 & 1.0069293 & 2.0003973 & 0.09644064 & 0.07661978\\\\\n",
       "\t 0.16559216 & 0 & 13.49469 & 1.2604393 & 3.7082212 & 0.04880905 & 0.09639521\\\\\n",
       "\t 0.09930903 & 0 & 17.12428 & 1.3811099 & 2.8086289 & 0.08206900 & 0.07165045\\\\\n",
       "\\end{tabular}\n"
      ],
      "text/markdown": [
       "\n",
       "A data.frame: 11 × 7\n",
       "\n",
       "| Sil &lt;dbl&gt; | SF &lt;dbl&gt; | CH &lt;dbl&gt; | DB &lt;dbl&gt; | DBstar &lt;dbl&gt; | D &lt;dbl&gt; | COP &lt;dbl&gt; |\n",
       "|---|---|---|---|---|---|---|\n",
       "| 0.66299893 | 0 | 95.42205 | 0.6039821 | 0.6039821 | 0.07647686 | 0.19125251 |\n",
       "| 0.37515449 | 0 | 56.24669 | 0.9308905 | 1.2862025 | 0.11771508 | 0.12822965 |\n",
       "| 0.37473669 | 0 | 42.98607 | 1.0896729 | 2.2428614 | 0.05554870 | 0.11779599 |\n",
       "| 0.24699064 | 0 | 33.28491 | 1.4745898 | 2.6645976 | 0.07437776 | 0.10499308 |\n",
       "| 0.30607597 | 0 | 34.34424 | 1.0951365 | 2.1026697 | 0.09848232 | 0.08743999 |\n",
       "| 0.29530648 | 0 | 22.84475 | 1.0225772 | 2.1938737 | 0.05554870 | 0.09703535 |\n",
       "| 0.28152895 | 0 | 24.81591 | 0.9819535 | 2.1043271 | 0.09848232 | 0.07815299 |\n",
       "| 0.18197460 | 0 | 17.88953 | 1.2165093 | 2.6006124 | 0.04625241 | 0.09367202 |\n",
       "| 0.21455359 | 0 | 19.23017 | 1.0069293 | 2.0003973 | 0.09644064 | 0.07661978 |\n",
       "| 0.16559216 | 0 | 13.49469 | 1.2604393 | 3.7082212 | 0.04880905 | 0.09639521 |\n",
       "| 0.09930903 | 0 | 17.12428 | 1.3811099 | 2.8086289 | 0.08206900 | 0.07165045 |\n",
       "\n"
      ],
      "text/plain": [
       "   Sil        SF CH       DB        DBstar    D          COP       \n",
       "1  0.66299893 0  95.42205 0.6039821 0.6039821 0.07647686 0.19125251\n",
       "2  0.37515449 0  56.24669 0.9308905 1.2862025 0.11771508 0.12822965\n",
       "3  0.37473669 0  42.98607 1.0896729 2.2428614 0.05554870 0.11779599\n",
       "4  0.24699064 0  33.28491 1.4745898 2.6645976 0.07437776 0.10499308\n",
       "5  0.30607597 0  34.34424 1.0951365 2.1026697 0.09848232 0.08743999\n",
       "6  0.29530648 0  22.84475 1.0225772 2.1938737 0.05554870 0.09703535\n",
       "7  0.28152895 0  24.81591 0.9819535 2.1043271 0.09848232 0.07815299\n",
       "8  0.18197460 0  17.88953 1.2165093 2.6006124 0.04625241 0.09367202\n",
       "9  0.21455359 0  19.23017 1.0069293 2.0003973 0.09644064 0.07661978\n",
       "10 0.16559216 0  13.49469 1.2604393 3.7082212 0.04880905 0.09639521\n",
       "11 0.09930903 0  17.12428 1.3811099 2.8086289 0.08206900 0.07165045"
      ]
     },
     "metadata": {},
     "output_type": "display_data"
    }
   ],
   "source": [
    "dtw_cluster_quality_df"
   ]
  },
  {
   "cell_type": "code",
   "execution_count": 251,
   "id": "a17ad9de",
   "metadata": {},
   "outputs": [
    {
     "data": {
      "image/png": "[encoded data removed]",
      "text/plain": [
       "plot without title"
      ]
     },
     "metadata": {
      "image/png": {
       "height": 420,
       "width": 420
      }
     },
     "output_type": "display_data"
    }
   ],
   "source": [
    "# Plot cluster quality to pick a K\n",
    "dtw_clust_qual <- ggplot() + \n",
    "    geom_point(aes(x=2:12, y=dtw_cluster_quality_df$Sil), col='blue') + \n",
    "    geom_line(aes(x=2:12, y=dtw_cluster_quality_df$Sil), col='blue') +\n",
    "    xlab(\"Number of clusters k\") + \n",
    "    ylab(\"Aveage silhouette width\") + \n",
    "    ggtitle(\"Average Silhouette Width for DTW-Based Clustering\")\n",
    "dtw_clust_qual"
   ]
  },
  {
   "cell_type": "code",
   "execution_count": 253,
   "id": "be98c7b7",
   "metadata": {},
   "outputs": [],
   "source": [
    "ggsave(\"Results/Clustering/DTW/dtw_clust_qual.png\", dtw_clust_qual, width=10, height=5)"
   ]
  },
  {
   "cell_type": "code",
   "execution_count": 71,
   "id": "fd41efe7",
   "metadata": {},
   "outputs": [
    {
     "name": "stdout",
     "output_type": "stream",
     "text": [
      "\n",
      "\tPrecomputing distance matrix...\n",
      "\n",
      "Iteration 1: Changes / Distsum = 76 / 50165888\n",
      "Iteration 2: Changes / Distsum = 13 / 28649136\n",
      "Iteration 3: Changes / Distsum = 5 / 27246448\n",
      "Iteration 4: Changes / Distsum = 6 / 26470328\n",
      "Iteration 5: Changes / Distsum = 11 / 25018251\n",
      "Iteration 6: Changes / Distsum = 5 / 21254810\n",
      "Iteration 7: Changes / Distsum = 0 / 21254810\n",
      "\n",
      "\tElapsed time is 135.383 seconds.\n",
      "\n"
     ]
    }
   ],
   "source": [
    "# Based on the above, we choose K=2 as our final K\n",
    "# Create the final clusters with K=2\n",
    "final_dtw_clust <- tsclust(train_samples_ts,\n",
    "                           k=2, \n",
    "                           type=\"partitional\", \n",
    "                           distance = \"dtw_basic\", \n",
    "                           centroid = \"pam\",\n",
    "                           seed=54321,\n",
    "                           trace=TRUE\n",
    "                       )"
   ]
  },
  {
   "cell_type": "code",
   "execution_count": 72,
   "id": "15298645",
   "metadata": {},
   "outputs": [
    {
     "data": {
      "text/plain": [
       "partitional clustering with 2 clusters\n",
       "Using dtw_basic distance\n",
       "Using pam centroids\n",
       "\n",
       "Time required for analysis:\n",
       "    user   system  elapsed \n",
       "2129.618    0.251  135.383 \n",
       "\n",
       "Cluster sizes with average intra-cluster distance:\n",
       "\n",
       "  size  av_dist\n",
       "1   25 444242.1\n",
       "2   51 198995.3"
      ]
     },
     "metadata": {},
     "output_type": "display_data"
    }
   ],
   "source": [
    "# Inspect cluster results\n",
    "final_dtw_clust"
   ]
  },
  {
   "cell_type": "code",
   "execution_count": 83,
   "id": "941e8b2f",
   "metadata": {},
   "outputs": [],
   "source": [
    "# Save results in RData files\n",
    "saveRDS(final_dtw_clust, file=\"Results/Clustering/DTW/dtw_clust.RData\")"
   ]
  },
  {
   "cell_type": "code",
   "execution_count": 79,
   "id": "835a74d9",
   "metadata": {},
   "outputs": [],
   "source": [
    "# Extract the clusters assignments\n",
    "dtw_clust_assign <- final_dtw_clust@cluster"
   ]
  },
  {
   "cell_type": "code",
   "execution_count": 80,
   "id": "d10ba56b",
   "metadata": {},
   "outputs": [],
   "source": [
    "# Save the assignments into a df\n",
    "dtw_clust_df <- data.frame(ts_index=1:length(dtw_clust_assign), \n",
    "                           dtw_clust_assign=dtw_clust_assign\n",
    "                          )"
   ]
  },
  {
   "cell_type": "code",
   "execution_count": 81,
   "id": "b8894fad",
   "metadata": {},
   "outputs": [
    {
     "data": {
      "text/html": [
       "<table class=\"dataframe\">\n",
       "<caption>A data.frame: 6 × 2</caption>\n",
       "<thead>\n",
       "\t<tr><th></th><th scope=col>ts_index</th><th scope=col>dtw_clust_assign</th></tr>\n",
       "\t<tr><th></th><th scope=col>&lt;int&gt;</th><th scope=col>&lt;int&gt;</th></tr>\n",
       "</thead>\n",
       "<tbody>\n",
       "\t<tr><th scope=row>1</th><td>1</td><td>2</td></tr>\n",
       "\t<tr><th scope=row>2</th><td>2</td><td>2</td></tr>\n",
       "\t<tr><th scope=row>3</th><td>3</td><td>2</td></tr>\n",
       "\t<tr><th scope=row>4</th><td>4</td><td>1</td></tr>\n",
       "\t<tr><th scope=row>5</th><td>5</td><td>1</td></tr>\n",
       "\t<tr><th scope=row>6</th><td>6</td><td>1</td></tr>\n",
       "</tbody>\n",
       "</table>\n"
      ],
      "text/latex": [
       "A data.frame: 6 × 2\n",
       "\\begin{tabular}{r|ll}\n",
       "  & ts\\_index & dtw\\_clust\\_assign\\\\\n",
       "  & <int> & <int>\\\\\n",
       "\\hline\n",
       "\t1 & 1 & 2\\\\\n",
       "\t2 & 2 & 2\\\\\n",
       "\t3 & 3 & 2\\\\\n",
       "\t4 & 4 & 1\\\\\n",
       "\t5 & 5 & 1\\\\\n",
       "\t6 & 6 & 1\\\\\n",
       "\\end{tabular}\n"
      ],
      "text/markdown": [
       "\n",
       "A data.frame: 6 × 2\n",
       "\n",
       "| <!--/--> | ts_index &lt;int&gt; | dtw_clust_assign &lt;int&gt; |\n",
       "|---|---|---|\n",
       "| 1 | 1 | 2 |\n",
       "| 2 | 2 | 2 |\n",
       "| 3 | 3 | 2 |\n",
       "| 4 | 4 | 1 |\n",
       "| 5 | 5 | 1 |\n",
       "| 6 | 6 | 1 |\n",
       "\n"
      ],
      "text/plain": [
       "  ts_index dtw_clust_assign\n",
       "1 1        2               \n",
       "2 2        2               \n",
       "3 3        2               \n",
       "4 4        1               \n",
       "5 5        1               \n",
       "6 6        1               "
      ]
     },
     "metadata": {},
     "output_type": "display_data"
    }
   ],
   "source": [
    "head(dtw_clust_df)"
   ]
  },
  {
   "cell_type": "code",
   "execution_count": 84,
   "id": "0bee9684",
   "metadata": {},
   "outputs": [],
   "source": [
    "# Save that df to a csv file\n",
    "write.csv(dtw_clust_df, \"Results/Clustering/DTW/dtw_clustering_assign.csv\", row.names=FALSE)"
   ]
  },
  {
   "cell_type": "code",
   "execution_count": null,
   "id": "439eae39",
   "metadata": {},
   "outputs": [],
   "source": []
  }
 ],
 "metadata": {
  "kernelspec": {
   "display_name": "R",
   "language": "R",
   "name": "ir"
  },
  "language_info": {
   "codemirror_mode": "r",
   "file_extension": ".r",
   "mimetype": "text/x-r-source",
   "name": "R",
   "pygments_lexer": "r",
   "version": "4.1.3"
  }
 },
 "nbformat": 4,
 "nbformat_minor": 5
}
