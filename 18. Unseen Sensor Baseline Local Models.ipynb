{
 "cells": [
  {
   "cell_type": "code",
   "execution_count": 5,
   "id": "ab4d26c4",
   "metadata": {},
   "outputs": [],
   "source": [
    "# Clear workspace\n",
    "rm(list=ls())"
   ]
  },
  {
   "cell_type": "code",
   "execution_count": 6,
   "id": "4b34f02e",
   "metadata": {
    "scrolled": true
   },
   "outputs": [
    {
     "data": {
      "text/html": [
       "<table class=\"dataframe\">\n",
       "<caption>A matrix: 2 × 6 of type dbl</caption>\n",
       "<thead>\n",
       "\t<tr><th></th><th scope=col>used</th><th scope=col>(Mb)</th><th scope=col>gc trigger</th><th scope=col>(Mb)</th><th scope=col>max used</th><th scope=col>(Mb)</th></tr>\n",
       "</thead>\n",
       "<tbody>\n",
       "\t<tr><th scope=row>Ncells</th><td>1444147</td><td>77.2</td><td>2371302</td><td>126.7</td><td>2371302</td><td>126.7</td></tr>\n",
       "\t<tr><th scope=row>Vcells</th><td>2416122</td><td>18.5</td><td>8388608</td><td> 64.0</td><td>4748694</td><td> 36.3</td></tr>\n",
       "</tbody>\n",
       "</table>\n"
      ],
      "text/latex": [
       "A matrix: 2 × 6 of type dbl\n",
       "\\begin{tabular}{r|llllll}\n",
       "  & used & (Mb) & gc trigger & (Mb) & max used & (Mb)\\\\\n",
       "\\hline\n",
       "\tNcells & 1444147 & 77.2 & 2371302 & 126.7 & 2371302 & 126.7\\\\\n",
       "\tVcells & 2416122 & 18.5 & 8388608 &  64.0 & 4748694 &  36.3\\\\\n",
       "\\end{tabular}\n"
      ],
      "text/markdown": [
       "\n",
       "A matrix: 2 × 6 of type dbl\n",
       "\n",
       "| <!--/--> | used | (Mb) | gc trigger | (Mb) | max used | (Mb) |\n",
       "|---|---|---|---|---|---|---|\n",
       "| Ncells | 1444147 | 77.2 | 2371302 | 126.7 | 2371302 | 126.7 |\n",
       "| Vcells | 2416122 | 18.5 | 8388608 |  64.0 | 4748694 |  36.3 |\n",
       "\n"
      ],
      "text/plain": [
       "       used    (Mb) gc trigger (Mb)  max used (Mb) \n",
       "Ncells 1444147 77.2 2371302    126.7 2371302  126.7\n",
       "Vcells 2416122 18.5 8388608     64.0 4748694   36.3"
      ]
     },
     "metadata": {},
     "output_type": "display_data"
    }
   ],
   "source": [
    "# Garabage collect to help with memory issues\n",
    "gc()"
   ]
  },
  {
   "cell_type": "code",
   "execution_count": 7,
   "id": "b1b19685",
   "metadata": {},
   "outputs": [],
   "source": [
    "# Uncomment and run to install packages if needed\n",
    "# install.packages(\"tidyverse\")\n",
    "# install.packages(\"cluster\") \n",
    "# install.packages(\"forecast\") \n",
    "# install.packages(\"Metrics\")\n",
    "# install.packages(\"tseries\")\n",
    "# install.packages(\"scoringutils\")"
   ]
  },
  {
   "cell_type": "code",
   "execution_count": 8,
   "id": "8eea409c",
   "metadata": {},
   "outputs": [],
   "source": [
    "# Load libraries\n",
    "library(tidyverse)\n",
    "library(parallel)\n",
    "library(cluster)\n",
    "library(forecast)\n",
    "library(Metrics)\n",
    "library(tseries)\n",
    "library(scoringutils)"
   ]
  },
  {
   "cell_type": "markdown",
   "id": "211a38a5",
   "metadata": {},
   "source": [
    "# Read In and Subset Data"
   ]
  },
  {
   "cell_type": "code",
   "execution_count": 9,
   "id": "7341beeb",
   "metadata": {},
   "outputs": [
    {
     "name": "stderr",
     "output_type": "stream",
     "text": [
      "\u001b[1mRows: \u001b[22m\u001b[34m35040\u001b[39m \u001b[1mColumns: \u001b[22m\u001b[34m10\u001b[39m\n",
      "\u001b[36m──\u001b[39m \u001b[1mColumn specification\u001b[22m \u001b[36m────────────────────────────────────────────────────────\u001b[39m\n",
      "\u001b[1mDelimiter:\u001b[22m \",\"\n",
      "\u001b[31mchr\u001b[39m  (1): site_name\n",
      "\u001b[32mdbl\u001b[39m  (5): day_of_week, day_of_year, interval_of_day, avg_mph, total_volume\n",
      "\u001b[33mlgl\u001b[39m  (2): missing_speed, missing_volume\n",
      "\u001b[34mdttm\u001b[39m (1): timestamp\n",
      "\u001b[34mdate\u001b[39m (1): date\n",
      "\n",
      "\u001b[36mℹ\u001b[39m Use `spec()` to retrieve the full column specification for this data.\n",
      "\u001b[36mℹ\u001b[39m Specify the column types or set `show_col_types = FALSE` to quiet this message.\n",
      "\u001b[1mRows: \u001b[22m\u001b[34m35040\u001b[39m \u001b[1mColumns: \u001b[22m\u001b[34m10\u001b[39m\n",
      "\u001b[36m──\u001b[39m \u001b[1mColumn specification\u001b[22m \u001b[36m────────────────────────────────────────────────────────\u001b[39m\n",
      "\u001b[1mDelimiter:\u001b[22m \",\"\n",
      "\u001b[31mchr\u001b[39m  (1): site_name\n",
      "\u001b[32mdbl\u001b[39m  (5): day_of_week, day_of_year, interval_of_day, avg_mph, total_volume\n",
      "\u001b[33mlgl\u001b[39m  (2): missing_speed, missing_volume\n",
      "\u001b[34mdttm\u001b[39m (1): timestamp\n",
      "\u001b[34mdate\u001b[39m (1): date\n",
      "\n",
      "\u001b[36mℹ\u001b[39m Use `spec()` to retrieve the full column specification for this data.\n",
      "\u001b[36mℹ\u001b[39m Specify the column types or set `show_col_types = FALSE` to quiet this message.\n",
      "\u001b[1mRows: \u001b[22m\u001b[34m35040\u001b[39m \u001b[1mColumns: \u001b[22m\u001b[34m10\u001b[39m\n",
      "\u001b[36m──\u001b[39m \u001b[1mColumn specification\u001b[22m \u001b[36m────────────────────────────────────────────────────────\u001b[39m\n",
      "\u001b[1mDelimiter:\u001b[22m \",\"\n",
      "\u001b[31mchr\u001b[39m  (1): site_name\n",
      "\u001b[32mdbl\u001b[39m  (5): day_of_week, day_of_year, interval_of_day, avg_mph, total_volume\n",
      "\u001b[33mlgl\u001b[39m  (2): missing_speed, missing_volume\n",
      "\u001b[34mdttm\u001b[39m (1): timestamp\n",
      "\u001b[34mdate\u001b[39m (1): date\n",
      "\n",
      "\u001b[36mℹ\u001b[39m Use `spec()` to retrieve the full column specification for this data.\n",
      "\u001b[36mℹ\u001b[39m Specify the column types or set `show_col_types = FALSE` to quiet this message.\n",
      "\u001b[1mRows: \u001b[22m\u001b[34m35040\u001b[39m \u001b[1mColumns: \u001b[22m\u001b[34m10\u001b[39m\n",
      "\u001b[36m──\u001b[39m \u001b[1mColumn specification\u001b[22m \u001b[36m────────────────────────────────────────────────────────\u001b[39m\n",
      "\u001b[1mDelimiter:\u001b[22m \",\"\n",
      "\u001b[31mchr\u001b[39m  (1): site_name\n",
      "\u001b[32mdbl\u001b[39m  (5): day_of_week, day_of_year, interval_of_day, avg_mph, total_volume\n",
      "\u001b[33mlgl\u001b[39m  (2): missing_speed, missing_volume\n",
      "\u001b[34mdttm\u001b[39m (1): timestamp\n",
      "\u001b[34mdate\u001b[39m (1): date\n",
      "\n",
      "\u001b[36mℹ\u001b[39m Use `spec()` to retrieve the full column specification for this data.\n",
      "\u001b[36mℹ\u001b[39m Specify the column types or set `show_col_types = FALSE` to quiet this message.\n"
     ]
    }
   ],
   "source": [
    "# Read in all csv files into a list of data frames\n",
    "fnames <- list.files(\"Data/Unseen Sensor/Processed/\", pattern=\"*.csv\", full.names=TRUE)\n",
    "total_df_list <- lapply(fnames, read_csv)"
   ]
  },
  {
   "cell_type": "code",
   "execution_count": 10,
   "id": "660de4ce",
   "metadata": {},
   "outputs": [],
   "source": [
    "# Ensure all data frames are in proper time series order\n",
    "total_df_list <- lapply(total_df_list, function(x) x %>% arrange(timestamp))    "
   ]
  },
  {
   "cell_type": "code",
   "execution_count": 11,
   "id": "33b0f4b2",
   "metadata": {},
   "outputs": [
    {
     "name": "stderr",
     "output_type": "stream",
     "text": [
      "\u001b[1mRows: \u001b[22m\u001b[34m4\u001b[39m \u001b[1mColumns: \u001b[22m\u001b[34m2\u001b[39m\n",
      "\u001b[36m──\u001b[39m \u001b[1mColumn specification\u001b[22m \u001b[36m────────────────────────────────────────────────────────\u001b[39m\n",
      "\u001b[1mDelimiter:\u001b[22m \",\"\n",
      "\u001b[32mdbl\u001b[39m (2): start, end\n",
      "\n",
      "\u001b[36mℹ\u001b[39m Use `spec()` to retrieve the full column specification for this data.\n",
      "\u001b[36mℹ\u001b[39m Specify the column types or set `show_col_types = FALSE` to quiet this message.\n"
     ]
    }
   ],
   "source": [
    "# Read in the start and end points for each time series from csv\n",
    "start_end <- read_csv(\"start_end_points_unseen.csv\")\n",
    "starting_points <- start_end$start\n",
    "ending_points <- start_end$end"
   ]
  },
  {
   "cell_type": "code",
   "execution_count": 12,
   "id": "1b01a047",
   "metadata": {},
   "outputs": [],
   "source": [
    "# For each df in our list, create a row number column called 'rn' - this will allow us to find the starting point\n",
    "# for each sample using the above starting_points array\n",
    "total_df_list <- lapply(total_df_list, function(x) x %>% mutate(rn = row_number()))"
   ]
  },
  {
   "cell_type": "code",
   "execution_count": 13,
   "id": "fed3c7d5",
   "metadata": {},
   "outputs": [],
   "source": [
    "# Sample each df in the list according to its corresponding starting and ending point - this creates 12-week\n",
    "# long samples of each data frame which will be used for modeling and testing\n",
    "total_df_list_samples <- lapply(1:length(total_df_list), \n",
    "                                function(x) total_df_list[[x]] %>% \n",
    "                                    filter(rn >= starting_points[x]) %>%\n",
    "                                    filter(rn <= ending_points[x]))"
   ]
  },
  {
   "cell_type": "code",
   "execution_count": 14,
   "id": "1d38e8fa",
   "metadata": {},
   "outputs": [],
   "source": [
    "# Add a new column to each data frame to denote whether each row should be part of the training set, validation set\n",
    "# or test set - the first 8 weeks are designated as train, the next 2 as val, and the final 2 as test. It may be \n",
    "# the case that train and val get used for training, depending on the modeling task\n",
    "total_df_list_samples <- lapply(total_df_list_samples, \n",
    "                                function(x) x %>% mutate(rn = row_number()) %>%\n",
    "                                    mutate(train_val_test = ifelse(rn <= (96*7*8), \n",
    "                                                                   \"train\", \n",
    "                                                                   ifelse(rn <= (96*7*10), \n",
    "                                                                          \"val\", \n",
    "                                                                          \"test\")))\n",
    "                                \n",
    "                               )"
   ]
  },
  {
   "cell_type": "code",
   "execution_count": 15,
   "id": "84a05b92",
   "metadata": {},
   "outputs": [],
   "source": [
    "# Create a list of data frames which only have the training and validation rows of each df\n",
    "train_val_samples <- lapply(total_df_list_samples, function(x) x %>% filter(train_val_test != \"test\"))"
   ]
  },
  {
   "cell_type": "code",
   "execution_count": 16,
   "id": "f820c608",
   "metadata": {},
   "outputs": [],
   "source": [
    "# Create a list of data frames which only contain the test samples for each df\n",
    "test_samples <- lapply(total_df_list_samples, function(x) x %>% filter(train_val_test == \"test\"))"
   ]
  },
  {
   "cell_type": "code",
   "execution_count": 17,
   "id": "b599eed3",
   "metadata": {},
   "outputs": [],
   "source": [
    "# Create a list of time series objects from the total_volume column of each data frame using the msts function\n",
    "# This function allows for time series with multiple seasonality, so we use both daily and weekly seasonal periods\n",
    "# Having time series objects instead of data frame columns is helpful for some tasks\n",
    "# Here, we create this list for the train_val samples list, next for the test samples\n",
    "train_val_samples_ts <- lapply(train_val_samples, \n",
    "                               function(x) msts(x$total_volume, seasonal.periods=c(24*4, 24*4*7)))"
   ]
  },
  {
   "cell_type": "code",
   "execution_count": 18,
   "id": "f5b0648d",
   "metadata": {},
   "outputs": [],
   "source": [
    "# Create a similar list for the test data\n",
    "test_samples_ts <- lapply(test_samples,\n",
    "                          function(x) msts(x$total_volume, seasonal.periods=c(24*4, 24*4*7)))"
   ]
  },
  {
   "cell_type": "code",
   "execution_count": 19,
   "id": "368336ae",
   "metadata": {},
   "outputs": [],
   "source": [
    "# Set the random seed for reproducibility\n",
    "set.seed(54321)"
   ]
  },
  {
   "cell_type": "markdown",
   "id": "0096bfe9",
   "metadata": {},
   "source": [
    "# ARIMA with Fourier Terms"
   ]
  },
  {
   "cell_type": "code",
   "execution_count": 20,
   "id": "f10395e0",
   "metadata": {},
   "outputs": [],
   "source": [
    "arima_w_fourier <- function(ts_train) { \n",
    "    # Function which takes in training time series object, creates Fourier terms for that ts,  \n",
    "    # and returns a model using auto.arima and fourier terms as regressors\n",
    "    \n",
    "    # Create Fourier terms with K=2 for both frequencies/seasonal periods\n",
    "    fourier_term_train <- fourier(ts_train, K=c(2,2))\n",
    "    \n",
    "    # Use auto.arima with default parameters and seasonal set to FALSE \n",
    "    # as the Fourier terms account for the seasonality\n",
    "    arima_model <- auto.arima(ts_train, xreg = fourier_term_train, seasonal = FALSE) \n",
    "    \n",
    "    # Return the model from auto.arim\n",
    "    arima_model\n",
    "}"
   ]
  },
  {
   "cell_type": "code",
   "execution_count": 21,
   "id": "b0d7a1c6",
   "metadata": {},
   "outputs": [],
   "source": [
    "# Call the above arima_w_fourier function for each train_val sample in our data set\n",
    "# Because we are allowing auto.arime to choose the final modeling structure for each time series, we\n",
    "# are passing the full train and validation time series together. We could also manually compute the best\n",
    "# model structure by creating models on the training time frames and computing forecast accuracy on the validation\n",
    "# time frames. It would be an interesting avenue of future work to test whether this makes any difference \n",
    "# in terms of model performance on the final test sets\n",
    "arima_res <- lapply(1:length(train_val_samples_ts), \n",
    "                    function(x) arima_w_fourier(train_val_samples_ts[[x]]))"
   ]
  },
  {
   "cell_type": "code",
   "execution_count": 22,
   "id": "e1751466",
   "metadata": {},
   "outputs": [],
   "source": [
    "arima_w_fourier_predict <- function(ts_train, ts_test, model) {\n",
    "    # Function to make one-step ahead forecasts given a model, the data the model was trained on, and testing data\n",
    "    \n",
    "    # Create the fourier terms for training and testing sets\n",
    "    fourier_term_train <- fourier(ts_train, K=c(2,2))\n",
    "    fourier_term_test <- fourier(ts_train, K=c(2,2), h=length(ts_test))\n",
    "\n",
    "    # Make one-step ahead forecasts on the training data using the fitted function\n",
    "    train_preds <- fitted(model)\n",
    "    \n",
    "    # Compute the rmse and mae of the one-step ahead predictions on the training data\n",
    "    train_rmse <- rmse(ts_train, train_preds)\n",
    "    train_mae <- mae(ts_train, train_preds)\n",
    "    \n",
    "    # Create a \"test\" version of the model by adding in the test data and calling Arima with the full data set\n",
    "    # and the already constructed model\n",
    "    mod_test <- Arima(y=c(ts_train, ts_test), \n",
    "                      xreg=rbind(fourier_term_train,\n",
    "                                 fourier_term_test),\n",
    "                      model=model)\n",
    "    \n",
    "    # Compute test preds by calling fitted on the new model and eliminating the training preds component of the \n",
    "    # results\n",
    "    test_preds <- fitted(mod_test)[-c(1:length(ts_train))]\n",
    "    \n",
    "    # Compute the rmse and mae on the one-step ahead forecasts on the test data\n",
    "    test_rmse <- rmse(ts_test, test_preds)\n",
    "    test_mae <- mae(ts_test, test_preds)\n",
    "    \n",
    "    # Return a list of the rmse and mae for train and test sets, as well as the actual forecasts on the test data\n",
    "    return_list <- list(\"train_rmse\"=train_rmse, \"train_mae\"=train_mae,\n",
    "                        \"test_rmse\"=test_rmse, \"test_mae\"=test_mae, \"raw_forecasts\"=test_preds)\n",
    "}"
   ]
  },
  {
   "cell_type": "code",
   "execution_count": 23,
   "id": "90974037",
   "metadata": {},
   "outputs": [],
   "source": [
    "# Call the above function for each time series in our data set and its corresponding ARIMA model\n",
    "arima_perf <- lapply(1:length(test_samples_ts),\n",
    "                     function(x) arima_w_fourier_predict(train_val_samples_ts[[x]],\n",
    "                                                         test_samples_ts[[x]],\n",
    "                                                         arima_res[[x]])\n",
    "                    )"
   ]
  },
  {
   "cell_type": "code",
   "execution_count": 25,
   "id": "9760dec2",
   "metadata": {},
   "outputs": [],
   "source": [
    "# Create a data frame from the above results, with one column for each train and test rmse and mae\n",
    "arima_results <- data.frame(train_rmse=unlist(lapply(arima_perf, function(x) x$train_rmse)),\n",
    "                            train_mae=unlist(lapply(arima_perf, function(x) x$train_mae)),\n",
    "                            test_rmse=unlist(lapply(arima_perf, function(x) x$test_rmse)),\n",
    "                            test_mae=unlist(lapply(arima_perf, function(x) x$test_mae)))"
   ]
  },
  {
   "cell_type": "code",
   "execution_count": 26,
   "id": "c62fc85b",
   "metadata": {},
   "outputs": [
    {
     "data": {
      "text/html": [
       "45.6195338065003"
      ],
      "text/latex": [
       "45.6195338065003"
      ],
      "text/markdown": [
       "45.6195338065003"
      ],
      "text/plain": [
       "[1] 45.61953"
      ]
     },
     "metadata": {},
     "output_type": "display_data"
    }
   ],
   "source": [
    "# In the next several cells, print and inspect the performance of each model on each time series, including\n",
    "# examining rmse, mae, and the normalized/standardized versions of each by first computing the mean of the time\n",
    "# series and scaling appropriately\n",
    "mean(arima_results$train_rmse)"
   ]
  },
  {
   "cell_type": "code",
   "execution_count": 27,
   "id": "b59a5d27",
   "metadata": {},
   "outputs": [
    {
     "data": {
      "text/html": [
       "30.9737770067854"
      ],
      "text/latex": [
       "30.9737770067854"
      ],
      "text/markdown": [
       "30.9737770067854"
      ],
      "text/plain": [
       "[1] 30.97378"
      ]
     },
     "metadata": {},
     "output_type": "display_data"
    }
   ],
   "source": [
    "mean(arima_results$train_mae)"
   ]
  },
  {
   "cell_type": "code",
   "execution_count": 28,
   "id": "bbddf2eb",
   "metadata": {},
   "outputs": [
    {
     "data": {
      "text/html": [
       "45.1990670725854"
      ],
      "text/latex": [
       "45.1990670725854"
      ],
      "text/markdown": [
       "45.1990670725854"
      ],
      "text/plain": [
       "[1] 45.19907"
      ]
     },
     "metadata": {},
     "output_type": "display_data"
    }
   ],
   "source": [
    "mean(arima_results$test_rmse)"
   ]
  },
  {
   "cell_type": "code",
   "execution_count": 29,
   "id": "9b3f1576",
   "metadata": {},
   "outputs": [
    {
     "data": {
      "text/html": [
       "30.9397588661696"
      ],
      "text/latex": [
       "30.9397588661696"
      ],
      "text/markdown": [
       "30.9397588661696"
      ],
      "text/plain": [
       "[1] 30.93976"
      ]
     },
     "metadata": {},
     "output_type": "display_data"
    }
   ],
   "source": [
    "mean(arima_results$test_mae)"
   ]
  },
  {
   "cell_type": "code",
   "execution_count": 30,
   "id": "41e8ec54",
   "metadata": {},
   "outputs": [],
   "source": [
    "# Compute means for scaling RMSE and MAE\n",
    "test_means <- unlist(lapply(test_samples_ts, mean))\n",
    "train_means <- unlist(lapply(train_val_samples_ts, mean))"
   ]
  },
  {
   "cell_type": "code",
   "execution_count": 31,
   "id": "55d28fc1",
   "metadata": {},
   "outputs": [
    {
     "data": {
      "text/html": [
       "0.135464634999735"
      ],
      "text/latex": [
       "0.135464634999735"
      ],
      "text/markdown": [
       "0.135464634999735"
      ],
      "text/plain": [
       "[1] 0.1354646"
      ]
     },
     "metadata": {},
     "output_type": "display_data"
    }
   ],
   "source": [
    "mean(arima_results$train_rmse/train_means)"
   ]
  },
  {
   "cell_type": "code",
   "execution_count": 32,
   "id": "a1be1cb8",
   "metadata": {},
   "outputs": [
    {
     "data": {
      "text/html": [
       "0.0937864144621646"
      ],
      "text/latex": [
       "0.0937864144621646"
      ],
      "text/markdown": [
       "0.0937864144621646"
      ],
      "text/plain": [
       "[1] 0.09378641"
      ]
     },
     "metadata": {},
     "output_type": "display_data"
    }
   ],
   "source": [
    "mean(arima_results$train_mae/train_means)"
   ]
  },
  {
   "cell_type": "code",
   "execution_count": 33,
   "id": "ecdf842c",
   "metadata": {},
   "outputs": [
    {
     "data": {
      "text/html": [
       "0.141573510315518"
      ],
      "text/latex": [
       "0.141573510315518"
      ],
      "text/markdown": [
       "0.141573510315518"
      ],
      "text/plain": [
       "[1] 0.1415735"
      ]
     },
     "metadata": {},
     "output_type": "display_data"
    }
   ],
   "source": [
    "mean(arima_results$test_rmse/test_means)"
   ]
  },
  {
   "cell_type": "code",
   "execution_count": 34,
   "id": "1d1c0e3b",
   "metadata": {},
   "outputs": [
    {
     "data": {
      "text/html": [
       "0.0972490082586969"
      ],
      "text/latex": [
       "0.0972490082586969"
      ],
      "text/markdown": [
       "0.0972490082586969"
      ],
      "text/plain": [
       "[1] 0.09724901"
      ]
     },
     "metadata": {},
     "output_type": "display_data"
    }
   ],
   "source": [
    "mean(arima_results$test_mae/test_means)"
   ]
  },
  {
   "cell_type": "code",
   "execution_count": 35,
   "id": "e36fba9f",
   "metadata": {},
   "outputs": [],
   "source": [
    "# Create a list of just the one-step ahead forecasts for each test set\n",
    "arima_raw_forecasts <- lapply(1:length(arima_perf), \n",
    "                              function(x) data.frame(forecast=arima_perf[[x]]$raw_forecasts, ts_index=x))"
   ]
  },
  {
   "cell_type": "code",
   "execution_count": 36,
   "id": "0d3b3082",
   "metadata": {},
   "outputs": [],
   "source": [
    "# Take that list and turn it into a data frame\n",
    "arima_raw_forecasts_df <- do.call(\"rbind\", arima_raw_forecasts)"
   ]
  },
  {
   "cell_type": "code",
   "execution_count": 37,
   "id": "cbb9f520",
   "metadata": {},
   "outputs": [
    {
     "data": {
      "text/html": [
       "<table class=\"dataframe\">\n",
       "<caption>A data.frame: 6 × 2</caption>\n",
       "<thead>\n",
       "\t<tr><th></th><th scope=col>forecast</th><th scope=col>ts_index</th></tr>\n",
       "\t<tr><th></th><th scope=col>&lt;dbl&gt;</th><th scope=col>&lt;int&gt;</th></tr>\n",
       "</thead>\n",
       "<tbody>\n",
       "\t<tr><th scope=row>1</th><td>247.0410</td><td>1</td></tr>\n",
       "\t<tr><th scope=row>2</th><td>241.0415</td><td>1</td></tr>\n",
       "\t<tr><th scope=row>3</th><td>307.1620</td><td>1</td></tr>\n",
       "\t<tr><th scope=row>4</th><td>324.4770</td><td>1</td></tr>\n",
       "\t<tr><th scope=row>5</th><td>319.4103</td><td>1</td></tr>\n",
       "\t<tr><th scope=row>6</th><td>274.4670</td><td>1</td></tr>\n",
       "</tbody>\n",
       "</table>\n"
      ],
      "text/latex": [
       "A data.frame: 6 × 2\n",
       "\\begin{tabular}{r|ll}\n",
       "  & forecast & ts\\_index\\\\\n",
       "  & <dbl> & <int>\\\\\n",
       "\\hline\n",
       "\t1 & 247.0410 & 1\\\\\n",
       "\t2 & 241.0415 & 1\\\\\n",
       "\t3 & 307.1620 & 1\\\\\n",
       "\t4 & 324.4770 & 1\\\\\n",
       "\t5 & 319.4103 & 1\\\\\n",
       "\t6 & 274.4670 & 1\\\\\n",
       "\\end{tabular}\n"
      ],
      "text/markdown": [
       "\n",
       "A data.frame: 6 × 2\n",
       "\n",
       "| <!--/--> | forecast &lt;dbl&gt; | ts_index &lt;int&gt; |\n",
       "|---|---|---|\n",
       "| 1 | 247.0410 | 1 |\n",
       "| 2 | 241.0415 | 1 |\n",
       "| 3 | 307.1620 | 1 |\n",
       "| 4 | 324.4770 | 1 |\n",
       "| 5 | 319.4103 | 1 |\n",
       "| 6 | 274.4670 | 1 |\n",
       "\n"
      ],
      "text/plain": [
       "  forecast ts_index\n",
       "1 247.0410 1       \n",
       "2 241.0415 1       \n",
       "3 307.1620 1       \n",
       "4 324.4770 1       \n",
       "5 319.4103 1       \n",
       "6 274.4670 1       "
      ]
     },
     "metadata": {},
     "output_type": "display_data"
    }
   ],
   "source": [
    "# Print head of the df\n",
    "head(arima_raw_forecasts_df)"
   ]
  },
  {
   "cell_type": "code",
   "execution_count": 38,
   "id": "26b9fbd5",
   "metadata": {},
   "outputs": [
    {
     "data": {
      "text/html": [
       "5376"
      ],
      "text/latex": [
       "5376"
      ],
      "text/markdown": [
       "5376"
      ],
      "text/plain": [
       "[1] 5376"
      ]
     },
     "metadata": {},
     "output_type": "display_data"
    }
   ],
   "source": [
    "# Check df length - just a sanity check to make sure things look alright\n",
    "nrow(arima_raw_forecasts_df)"
   ]
  },
  {
   "cell_type": "code",
   "execution_count": 39,
   "id": "0b2bfd5e",
   "metadata": {
    "scrolled": true
   },
   "outputs": [],
   "source": [
    "bootstrap_pred_int <- function(predictions,\n",
    "                               residuals,\n",
    "                               n_boot,\n",
    "                               actuals=NULL\n",
    "                              ) \n",
    "{\n",
    "    # Function to compute prediction intervals using bootstrapping with model residuals\n",
    "    # function takes in the predicted values, the model residuals, the number of bootstrap samples to use,\n",
    "    # and an optional set of true values (used for computing prediction interval scores)\n",
    "    \n",
    "    # Intialize empty lists for the hi and lo components of the 80% nad 95% PIs\n",
    "    boot_lo_80 <- c()\n",
    "    boot_hi_80 <- c()\n",
    "    boot_lo_95 <- c()\n",
    "    boot_hi_95 <- c()\n",
    "\n",
    "    # Loop through every row in the predictions\n",
    "    for (i in 1:nrow(predictions)){\n",
    "        # Reset the seed to the loop counter - could make this more random, but this is for reproducibility\n",
    "        set.seed(i)\n",
    "        \n",
    "        # Sample with replacement from the residuals n_boot times\n",
    "        boot_samples <- sample(residuals, n_boot, replace=TRUE)\n",
    "        # Add the predicted value to each sample\n",
    "        boot_preds <- boot_samples + predictions$forecast[i]\n",
    "        \n",
    "        # Compute the PIs as the quantiles of these pred+boot values\n",
    "        boot_pred_lo_80 <- quantile(boot_preds, 0.1)\n",
    "        boot_pred_hi_80 <- quantile(boot_preds, 0.9)\n",
    "\n",
    "        boot_pred_lo_95 <- quantile(boot_preds, 0.025)\n",
    "        boot_pred_hi_95 <- quantile(boot_preds, 0.975)\n",
    "        \n",
    "        # Append the PI values to the lists\n",
    "        boot_lo_80 <- c(boot_lo_80, boot_pred_lo_80)\n",
    "        boot_hi_80 <- c(boot_hi_80, boot_pred_hi_80)\n",
    "\n",
    "        boot_lo_95 <- c(boot_lo_95, boot_pred_lo_95)\n",
    "        boot_hi_95 <- c(boot_hi_95, boot_pred_hi_95)        \n",
    "    }\n",
    "    \n",
    "    # Create a copy of the input df called predicitons\n",
    "    pred_w_boot_int_df <- predictions\n",
    "    \n",
    "    # Add columns to the df for the PIs\n",
    "    pred_w_boot_int_df$lo_80 <- boot_lo_80\n",
    "    pred_w_boot_int_df$hi_80 <- boot_hi_80\n",
    "    pred_w_boot_int_df$lo_95 <- boot_lo_95\n",
    "    pred_w_boot_int_df$hi_95 <- boot_hi_95\n",
    "    \n",
    "    # If the true values are included\n",
    "    if (!is.null(actuals)){\n",
    "        \n",
    "        # Add a column for the true values\n",
    "        pred_w_boot_int_df$true_values <- actuals\n",
    "        \n",
    "        # Compute the 80% and 95% interval scores and add them as columns in the df\n",
    "        pred_w_boot_int_df <- pred_w_boot_int_df %>%\n",
    "            mutate(int_score_80 = interval_score(true_values=true_values,\n",
    "                                                 lower=lo_80,\n",
    "                                                 upper=hi_80,\n",
    "                                                 interval_range=80,\n",
    "                                                 weigh=FALSE\n",
    "                                                )) %>% \n",
    "            mutate(int_score_95 = interval_score(true_values=true_values,\n",
    "                                                 lower=lo_95,\n",
    "                                                 upper=hi_95,\n",
    "                                                 interval_range=95,\n",
    "                                                 weigh=FALSE\n",
    "                                                ))\n",
    "    }\n",
    "    \n",
    "    # Return the final set of preds with PIs (and interval scores if applicable)\n",
    "    pred_w_boot_int_df\n",
    "    \n",
    "}"
   ]
  },
  {
   "cell_type": "code",
   "execution_count": 40,
   "id": "15828bc5",
   "metadata": {},
   "outputs": [],
   "source": [
    "# Set the number of bootstrap samples to use\n",
    "n_boot <- 1000"
   ]
  },
  {
   "cell_type": "code",
   "execution_count": 41,
   "id": "3e8c77ab",
   "metadata": {},
   "outputs": [],
   "source": [
    "# Compute bootstrap PI for each model/ts\n",
    "bootstrap_pi <- lapply(1:length(arima_raw_forecasts), \n",
    "                      function(i) bootstrap_pred_int(arima_raw_forecasts[[i]], \n",
    "                                                     arima_res[[i]]$residuals, \n",
    "                                                     n_boot, \n",
    "                                                     test_samples_ts[[i]]))"
   ]
  },
  {
   "cell_type": "code",
   "execution_count": 42,
   "id": "91e6953d",
   "metadata": {},
   "outputs": [
    {
     "data": {
      "text/html": [
       "165.055300411613"
      ],
      "text/latex": [
       "165.055300411613"
      ],
      "text/markdown": [
       "165.055300411613"
      ],
      "text/plain": [
       "[1] 165.0553"
      ]
     },
     "metadata": {},
     "output_type": "display_data"
    }
   ],
   "source": [
    "# Print the mean of the 80% PI scores\n",
    "mean(unlist(lapply(bootstrap_pi, function(x) mean(x$int_score_80))))"
   ]
  },
  {
   "cell_type": "code",
   "execution_count": 43,
   "id": "e5e885ac",
   "metadata": {},
   "outputs": [
    {
     "data": {
      "text/html": [
       "270.917881221239"
      ],
      "text/latex": [
       "270.917881221239"
      ],
      "text/markdown": [
       "270.917881221239"
      ],
      "text/plain": [
       "[1] 270.9179"
      ]
     },
     "metadata": {},
     "output_type": "display_data"
    }
   ],
   "source": [
    "# Print the mean of the 95% PI scores\n",
    "mean(unlist(lapply(bootstrap_pi, function(x) mean(x$int_score_95))))"
   ]
  },
  {
   "cell_type": "code",
   "execution_count": 44,
   "id": "ce55eaeb",
   "metadata": {},
   "outputs": [
    {
     "data": {
      "text/html": [
       "0.520774304582637"
      ],
      "text/latex": [
       "0.520774304582637"
      ],
      "text/markdown": [
       "0.520774304582637"
      ],
      "text/plain": [
       "[1] 0.5207743"
      ]
     },
     "metadata": {},
     "output_type": "display_data"
    }
   ],
   "source": [
    "# Print the means of the scaled interval scores\n",
    "mean(unlist(lapply(bootstrap_pi, function(x) mean(x$int_score_80)))/test_means)"
   ]
  },
  {
   "cell_type": "code",
   "execution_count": 45,
   "id": "302a218d",
   "metadata": {},
   "outputs": [
    {
     "data": {
      "text/html": [
       "0.840632975381995"
      ],
      "text/latex": [
       "0.840632975381995"
      ],
      "text/markdown": [
       "0.840632975381995"
      ],
      "text/plain": [
       "[1] 0.840633"
      ]
     },
     "metadata": {},
     "output_type": "display_data"
    }
   ],
   "source": [
    "mean(unlist(lapply(bootstrap_pi, function(x) mean(x$int_score_95)))/test_means)"
   ]
  },
  {
   "cell_type": "markdown",
   "id": "c7849ca3",
   "metadata": {},
   "source": [
    "# Naive Forecasts"
   ]
  },
  {
   "cell_type": "code",
   "execution_count": 46,
   "id": "32f7709f",
   "metadata": {},
   "outputs": [],
   "source": [
    "naive_forec <- function(train_ts, test_ts, lag=1) {\n",
    "    # Function to make \"naive\" forecasts using a given lag, and then compute the accuracy metrics and residuals\n",
    "    \n",
    "    # Train forecasts are simply computed as the value at the time series lag steps ago\n",
    "    train_forec <- lag(train_ts, lag)\n",
    "    \n",
    "    # Compute the residuals on the train set, removing the first lag values because they will result in nulls\n",
    "    train_res <- train_ts[-c(1:lag)] - train_forec[-c(1:lag)]\n",
    "        \n",
    "    # Copmute the rmse and mae on the train set\n",
    "    train_rmse <- rmse(train_ts[-c(1:lag)], train_forec[-c(1:lag)])\n",
    "    train_mae <- mae(train_ts[-c(1:lag)], train_forec[-c(1:lag)])\n",
    "    \n",
    "    # Append the final time steps of the train and test data together\n",
    "    n <- length(train_ts)\n",
    "    n1 <- n-(lag-1)\n",
    "    train_test_data <- c(train_ts[n1:n], test_ts)\n",
    "    \n",
    "    # Compute test forecasts from this appended data set\n",
    "    test_forec <- lag(train_test_data, lag)\n",
    "    test_forec_final <- test_forec[-c(1:lag)]\n",
    "        \n",
    "    # Compute rmse and mae on the test data\n",
    "    test_rmse <- rmse(test_ts, test_forec_final)\n",
    "    test_mae <- mae(test_ts, test_forec_final)\n",
    "        \n",
    "    # Return a list which includes the rmse, mae for both train and test, the residuals on the train data,\n",
    "    # and the raw forecasts on the test data\n",
    "    return_list <- list(\"train_rmse\"=train_rmse, \"train_mae\"=train_mae, \"train_residuals\"=train_res,\n",
    "                        \"test_rmse\"=test_rmse, \"test_mae\"=test_mae, \"raw_forecasts\"=test_forec_final) \n",
    "\n",
    "}"
   ]
  },
  {
   "cell_type": "code",
   "execution_count": 47,
   "id": "4b2b8d0c",
   "metadata": {},
   "outputs": [],
   "source": [
    "bootstrap_pred_int_naive <- function(predictions,\n",
    "                                     residuals,\n",
    "                                     n_boot,\n",
    "                                     actuals=NULL\n",
    "                                    ) \n",
    "{\n",
    "    # Function to compute prediction intervals using bootstrapping with model residuals\n",
    "    # function takes in the predicted values, the model residuals, the number of bootstrap samples to use,\n",
    "    # and an optional set of true values (used for computing prediction interval scores)\n",
    "    \n",
    "    # Intialize empty lists for the hi and lo components of the 80% nad 95% PIs\n",
    "    boot_lo_80 <- c()\n",
    "    boot_hi_80 <- c()\n",
    "    boot_lo_95 <- c()\n",
    "    boot_hi_95 <- c()\n",
    "\n",
    "    # Loop through every row in the predictions\n",
    "    for (i in 1:length(predictions)){\n",
    "        # Reset the seed to the loop counter - could make this more random, but this is for reproducibility\n",
    "        set.seed(i)\n",
    "        \n",
    "        # Sample with replacement from the residuals n_boot times\n",
    "        boot_samples <- sample(residuals, n_boot, replace=TRUE)\n",
    "        # Add the predicted value to each sample\n",
    "        boot_preds <- boot_samples + predictions[i]\n",
    "        \n",
    "        # Compute the PIs as the quantiles of these pred+boot values\n",
    "        boot_pred_lo_80 <- quantile(boot_preds, 0.1)\n",
    "        boot_pred_hi_80 <- quantile(boot_preds, 0.9)\n",
    "\n",
    "        boot_pred_lo_95 <- quantile(boot_preds, 0.025)\n",
    "        boot_pred_hi_95 <- quantile(boot_preds, 0.975)\n",
    "        \n",
    "        # Append the PI values to the lists\n",
    "        boot_lo_80 <- c(boot_lo_80, boot_pred_lo_80)\n",
    "        boot_hi_80 <- c(boot_hi_80, boot_pred_hi_80)\n",
    "\n",
    "        boot_lo_95 <- c(boot_lo_95, boot_pred_lo_95)\n",
    "        boot_hi_95 <- c(boot_hi_95, boot_pred_hi_95)        \n",
    "    }\n",
    "    \n",
    "    # Create a copy of the input df called predicitons\n",
    "    pred_w_boot_int_df <- data.frame(forecast=predictions)\n",
    "    \n",
    "    # Add columns to the df for the PIs\n",
    "    pred_w_boot_int_df$lo_80 <- boot_lo_80\n",
    "    pred_w_boot_int_df$hi_80 <- boot_hi_80\n",
    "    pred_w_boot_int_df$lo_95 <- boot_lo_95\n",
    "    pred_w_boot_int_df$hi_95 <- boot_hi_95\n",
    "    \n",
    "    # If the true values are included\n",
    "    if (!is.null(actuals)){\n",
    "        \n",
    "        # Add a column for the true values\n",
    "        pred_w_boot_int_df$true_values <- actuals\n",
    "        \n",
    "        # Compute the 80% and 95% interval scores and add them as columns in the df\n",
    "        pred_w_boot_int_df <- pred_w_boot_int_df %>%\n",
    "            mutate(int_score_80 = interval_score(true_values=true_values,\n",
    "                                                 lower=lo_80,\n",
    "                                                 upper=hi_80,\n",
    "                                                 interval_range=80,\n",
    "                                                 weigh=FALSE\n",
    "                                                )) %>% \n",
    "            mutate(int_score_95 = interval_score(true_values=true_values,\n",
    "                                                 lower=lo_95,\n",
    "                                                 upper=hi_95,\n",
    "                                                 interval_range=95,\n",
    "                                                 weigh=FALSE\n",
    "                                                ))\n",
    "    }\n",
    "    \n",
    "    # Return the final set of preds with PIs (and interval scores if applicable)\n",
    "    pred_w_boot_int_df\n",
    "    \n",
    "}"
   ]
  },
  {
   "cell_type": "markdown",
   "id": "f2705563",
   "metadata": {},
   "source": [
    "## Simple Naive Forecast"
   ]
  },
  {
   "cell_type": "code",
   "execution_count": 48,
   "id": "bd10b9dc",
   "metadata": {},
   "outputs": [],
   "source": [
    "# Apply the above function to compute simple naive forecasts - that is, lag 1 naive forecasts\n",
    "simple_naive_forecasts <- lapply(1:length(train_val_samples),\n",
    "                                 function(x) naive_forec(train_val_samples[[x]]$total_volume,\n",
    "                                                         test_samples[[x]]$total_volume))"
   ]
  },
  {
   "cell_type": "code",
   "execution_count": 49,
   "id": "fb9b644f",
   "metadata": {},
   "outputs": [
    {
     "data": {
      "text/html": [
       "51.0199030793849"
      ],
      "text/latex": [
       "51.0199030793849"
      ],
      "text/markdown": [
       "51.0199030793849"
      ],
      "text/plain": [
       "[1] 51.0199"
      ]
     },
     "metadata": {},
     "output_type": "display_data"
    }
   ],
   "source": [
    "# Compute average performance across the data set\n",
    "mean(unlist(lapply(simple_naive_forecasts, function(x) x$test_rmse)))"
   ]
  },
  {
   "cell_type": "code",
   "execution_count": 50,
   "id": "e29bba49",
   "metadata": {},
   "outputs": [
    {
     "data": {
      "text/html": [
       "34.1104910714286"
      ],
      "text/latex": [
       "34.1104910714286"
      ],
      "text/markdown": [
       "34.1104910714286"
      ],
      "text/plain": [
       "[1] 34.11049"
      ]
     },
     "metadata": {},
     "output_type": "display_data"
    }
   ],
   "source": [
    "mean(unlist(lapply(simple_naive_forecasts, function(x) x$test_mae)))"
   ]
  },
  {
   "cell_type": "code",
   "execution_count": 51,
   "id": "f8ba6d0d",
   "metadata": {},
   "outputs": [
    {
     "data": {
      "text/html": [
       "0.161625484023806"
      ],
      "text/latex": [
       "0.161625484023806"
      ],
      "text/markdown": [
       "0.161625484023806"
      ],
      "text/plain": [
       "[1] 0.1616255"
      ]
     },
     "metadata": {},
     "output_type": "display_data"
    }
   ],
   "source": [
    "mean(unlist(lapply(simple_naive_forecasts, function(x) x$test_rmse))/test_means)"
   ]
  },
  {
   "cell_type": "code",
   "execution_count": 52,
   "id": "170601a2",
   "metadata": {},
   "outputs": [
    {
     "data": {
      "text/html": [
       "0.109031599247636"
      ],
      "text/latex": [
       "0.109031599247636"
      ],
      "text/markdown": [
       "0.109031599247636"
      ],
      "text/plain": [
       "[1] 0.1090316"
      ]
     },
     "metadata": {},
     "output_type": "display_data"
    }
   ],
   "source": [
    "mean(unlist(lapply(simple_naive_forecasts, function(x) x$test_mae))/test_means)"
   ]
  },
  {
   "cell_type": "code",
   "execution_count": 53,
   "id": "56794226",
   "metadata": {},
   "outputs": [],
   "source": [
    "# Compute bootstrap PI for each model/ts\n",
    "bootstrap_pi_naive <- lapply(1:length(simple_naive_forecasts), \n",
    "                      function(i) bootstrap_pred_int_naive(simple_naive_forecasts[[i]]$raw_forecasts,\n",
    "                                                           simple_naive_forecasts[[i]]$train_res, \n",
    "                                                           n_boot, \n",
    "                                                           test_samples_ts[[i]]))"
   ]
  },
  {
   "cell_type": "code",
   "execution_count": 54,
   "id": "f1a71cee",
   "metadata": {},
   "outputs": [
    {
     "data": {
      "text/html": [
       "188.264787946429"
      ],
      "text/latex": [
       "188.264787946429"
      ],
      "text/markdown": [
       "188.264787946429"
      ],
      "text/plain": [
       "[1] 188.2648"
      ]
     },
     "metadata": {},
     "output_type": "display_data"
    }
   ],
   "source": [
    "# Print the mean of the 80% PI scores\n",
    "mean(unlist(lapply(bootstrap_pi_naive, function(x) mean(x$int_score_80))))"
   ]
  },
  {
   "cell_type": "code",
   "execution_count": 55,
   "id": "2c4b416d",
   "metadata": {},
   "outputs": [
    {
     "data": {
      "text/html": [
       "306.71277436756"
      ],
      "text/latex": [
       "306.71277436756"
      ],
      "text/markdown": [
       "306.71277436756"
      ],
      "text/plain": [
       "[1] 306.7128"
      ]
     },
     "metadata": {},
     "output_type": "display_data"
    }
   ],
   "source": [
    "# Print the mean of the 95% PI scores\n",
    "mean(unlist(lapply(bootstrap_pi_naive, function(x) mean(x$int_score_95))))"
   ]
  },
  {
   "cell_type": "code",
   "execution_count": 56,
   "id": "d4159a8e",
   "metadata": {},
   "outputs": [
    {
     "data": {
      "text/html": [
       "0.601235443969804"
      ],
      "text/latex": [
       "0.601235443969804"
      ],
      "text/markdown": [
       "0.601235443969804"
      ],
      "text/plain": [
       "[1] 0.6012354"
      ]
     },
     "metadata": {},
     "output_type": "display_data"
    }
   ],
   "source": [
    "# Print the average scaled 80% PI score\n",
    "mean(unlist(lapply(bootstrap_pi_naive, function(x) mean(x$int_score_80)))/test_means)"
   ]
  },
  {
   "cell_type": "code",
   "execution_count": 57,
   "id": "2bd19469",
   "metadata": {},
   "outputs": [
    {
     "data": {
      "text/html": [
       "0.955505088806911"
      ],
      "text/latex": [
       "0.955505088806911"
      ],
      "text/markdown": [
       "0.955505088806911"
      ],
      "text/plain": [
       "[1] 0.9555051"
      ]
     },
     "metadata": {},
     "output_type": "display_data"
    }
   ],
   "source": [
    "# Print the average scaled 95% PI score\n",
    "mean(unlist(lapply(bootstrap_pi_naive, function(x) mean(x$int_score_95)))/test_means)"
   ]
  },
  {
   "cell_type": "markdown",
   "id": "465eb3f0",
   "metadata": {},
   "source": [
    "## Daily Seasonal Naive Forecast"
   ]
  },
  {
   "cell_type": "code",
   "execution_count": 58,
   "id": "4cae467f",
   "metadata": {},
   "outputs": [],
   "source": [
    "# Use the same approach, but this time with lag=96 to use a daily naive forecast instead of a simple one\n",
    "daily_naive_forecasts <- lapply(1:length(train_val_samples),\n",
    "                                function(x) naive_forec(train_val_samples[[x]]$total_volume,\n",
    "                                                        test_samples[[x]]$total_volume,\n",
    "                                                        lag=96\n",
    "                                                       )\n",
    "                                )"
   ]
  },
  {
   "cell_type": "code",
   "execution_count": 59,
   "id": "efc82aa5",
   "metadata": {},
   "outputs": [
    {
     "data": {
      "text/html": [
       "120.2998566953"
      ],
      "text/latex": [
       "120.2998566953"
      ],
      "text/markdown": [
       "120.2998566953"
      ],
      "text/plain": [
       "[1] 120.2999"
      ]
     },
     "metadata": {},
     "output_type": "display_data"
    }
   ],
   "source": [
    "# Examine model performance metrics\n",
    "mean(unlist(lapply(daily_naive_forecasts, function(x) x$test_rmse)))"
   ]
  },
  {
   "cell_type": "code",
   "execution_count": 60,
   "id": "08e27f88",
   "metadata": {},
   "outputs": [
    {
     "data": {
      "text/html": [
       "70.3686755952381"
      ],
      "text/latex": [
       "70.3686755952381"
      ],
      "text/markdown": [
       "70.3686755952381"
      ],
      "text/plain": [
       "[1] 70.36868"
      ]
     },
     "metadata": {},
     "output_type": "display_data"
    }
   ],
   "source": [
    "mean(unlist(lapply(daily_naive_forecasts, function(x) x$test_mae)))"
   ]
  },
  {
   "cell_type": "code",
   "execution_count": 61,
   "id": "b60268ee",
   "metadata": {},
   "outputs": [
    {
     "data": {
      "text/html": [
       "0.346946933519753"
      ],
      "text/latex": [
       "0.346946933519753"
      ],
      "text/markdown": [
       "0.346946933519753"
      ],
      "text/plain": [
       "[1] 0.3469469"
      ]
     },
     "metadata": {},
     "output_type": "display_data"
    }
   ],
   "source": [
    "# Print scaled model performance metrics\n",
    "mean(unlist(lapply(daily_naive_forecasts, function(x) x$test_rmse))/test_means)"
   ]
  },
  {
   "cell_type": "code",
   "execution_count": 62,
   "id": "ac6b8ecd",
   "metadata": {},
   "outputs": [
    {
     "data": {
      "text/html": [
       "0.210552917870432"
      ],
      "text/latex": [
       "0.210552917870432"
      ],
      "text/markdown": [
       "0.210552917870432"
      ],
      "text/plain": [
       "[1] 0.2105529"
      ]
     },
     "metadata": {},
     "output_type": "display_data"
    }
   ],
   "source": [
    "mean(unlist(lapply(daily_naive_forecasts, function(x) x$test_mae))/test_means)"
   ]
  },
  {
   "cell_type": "code",
   "execution_count": 63,
   "id": "042717e8",
   "metadata": {},
   "outputs": [],
   "source": [
    "# Compute bootstrap PI for each model/ts\n",
    "bootstrap_pi_naive_daily <- lapply(1:length(daily_naive_forecasts), \n",
    "                      function(i) bootstrap_pred_int_naive(daily_naive_forecasts[[i]]$raw_forecasts,\n",
    "                                                           daily_naive_forecasts[[i]]$train_res, \n",
    "                                                           n_boot, \n",
    "                                                           test_samples_ts[[i]]))"
   ]
  },
  {
   "cell_type": "code",
   "execution_count": 64,
   "id": "b097bc47",
   "metadata": {},
   "outputs": [
    {
     "data": {
      "text/html": [
       "437.647414434524"
      ],
      "text/latex": [
       "437.647414434524"
      ],
      "text/markdown": [
       "437.647414434524"
      ],
      "text/plain": [
       "[1] 437.6474"
      ]
     },
     "metadata": {},
     "output_type": "display_data"
    }
   ],
   "source": [
    "# Print the mean of the 80% PI scores\n",
    "mean(unlist(lapply(bootstrap_pi_naive_daily, function(x) mean(x$int_score_80))))"
   ]
  },
  {
   "cell_type": "code",
   "execution_count": 65,
   "id": "e6a79db7",
   "metadata": {},
   "outputs": [
    {
     "data": {
      "text/html": [
       "815.255822172619"
      ],
      "text/latex": [
       "815.255822172619"
      ],
      "text/markdown": [
       "815.255822172619"
      ],
      "text/plain": [
       "[1] 815.2558"
      ]
     },
     "metadata": {},
     "output_type": "display_data"
    }
   ],
   "source": [
    "# Print the mean of the 95% PI scores\n",
    "mean(unlist(lapply(bootstrap_pi_naive_daily, function(x) mean(x$int_score_95))))"
   ]
  },
  {
   "cell_type": "code",
   "execution_count": 66,
   "id": "874d1ae5",
   "metadata": {},
   "outputs": [
    {
     "data": {
      "text/html": [
       "1.28476804934586"
      ],
      "text/latex": [
       "1.28476804934586"
      ],
      "text/markdown": [
       "1.28476804934586"
      ],
      "text/plain": [
       "[1] 1.284768"
      ]
     },
     "metadata": {},
     "output_type": "display_data"
    }
   ],
   "source": [
    "# Print scaled 80% PI score\n",
    "mean(unlist(lapply(bootstrap_pi_naive_daily, function(x) mean(x$int_score_80)))/test_means)"
   ]
  },
  {
   "cell_type": "code",
   "execution_count": 67,
   "id": "442fd69b",
   "metadata": {},
   "outputs": [
    {
     "data": {
      "text/html": [
       "2.27009531071659"
      ],
      "text/latex": [
       "2.27009531071659"
      ],
      "text/markdown": [
       "2.27009531071659"
      ],
      "text/plain": [
       "[1] 2.270095"
      ]
     },
     "metadata": {},
     "output_type": "display_data"
    }
   ],
   "source": [
    "# Print scaled 95% PI score\n",
    "mean(unlist(lapply(bootstrap_pi_naive_daily, function(x) mean(x$int_score_95)))/test_means)"
   ]
  },
  {
   "cell_type": "markdown",
   "id": "6fb2acf1",
   "metadata": {},
   "source": [
    "## Weekly Naive Forecast"
   ]
  },
  {
   "cell_type": "code",
   "execution_count": 68,
   "id": "9e6479cd",
   "metadata": {},
   "outputs": [],
   "source": [
    "# Again, use the same methods but this time weekly so lag=672\n",
    "weekly_naive_forecasts <- lapply(1:length(train_val_samples),\n",
    "                                 function(x) naive_forec(train_val_samples[[x]]$total_volume,\n",
    "                                                         test_samples[[x]]$total_volume,\n",
    "                                                         lag=672\n",
    "                                                       )\n",
    "                                )"
   ]
  },
  {
   "cell_type": "code",
   "execution_count": 69,
   "id": "d53da841",
   "metadata": {},
   "outputs": [
    {
     "data": {
      "text/html": [
       "66.1018973612545"
      ],
      "text/latex": [
       "66.1018973612545"
      ],
      "text/markdown": [
       "66.1018973612545"
      ],
      "text/plain": [
       "[1] 66.1019"
      ]
     },
     "metadata": {},
     "output_type": "display_data"
    }
   ],
   "source": [
    "# Examine RMSE\n",
    "mean(unlist(lapply(weekly_naive_forecasts, function(x) x$test_rmse)))"
   ]
  },
  {
   "cell_type": "code",
   "execution_count": 70,
   "id": "72e2955d",
   "metadata": {},
   "outputs": [
    {
     "data": {
      "text/html": [
       "41.7163318452381"
      ],
      "text/latex": [
       "41.7163318452381"
      ],
      "text/markdown": [
       "41.7163318452381"
      ],
      "text/plain": [
       "[1] 41.71633"
      ]
     },
     "metadata": {},
     "output_type": "display_data"
    }
   ],
   "source": [
    "# Print average MAE\n",
    "mean(unlist(lapply(weekly_naive_forecasts, function(x) x$test_mae)))"
   ]
  },
  {
   "cell_type": "code",
   "execution_count": 71,
   "id": "4e880e49",
   "metadata": {},
   "outputs": [
    {
     "data": {
      "text/html": [
       "0.200492217219941"
      ],
      "text/latex": [
       "0.200492217219941"
      ],
      "text/markdown": [
       "0.200492217219941"
      ],
      "text/plain": [
       "[1] 0.2004922"
      ]
     },
     "metadata": {},
     "output_type": "display_data"
    }
   ],
   "source": [
    "# Print scaled average RMSE, or nRMSE\n",
    "mean(unlist(lapply(weekly_naive_forecasts, function(x) x$test_rmse))/test_means)"
   ]
  },
  {
   "cell_type": "code",
   "execution_count": 72,
   "id": "49214cfd",
   "metadata": {},
   "outputs": [
    {
     "data": {
      "text/html": [
       "0.126148617736968"
      ],
      "text/latex": [
       "0.126148617736968"
      ],
      "text/markdown": [
       "0.126148617736968"
      ],
      "text/plain": [
       "[1] 0.1261486"
      ]
     },
     "metadata": {},
     "output_type": "display_data"
    }
   ],
   "source": [
    "# Print average scaled MAE, or sMAE\n",
    "mean(unlist(lapply(weekly_naive_forecasts, function(x) x$test_mae))/test_means)"
   ]
  },
  {
   "cell_type": "code",
   "execution_count": 73,
   "id": "1728fa42",
   "metadata": {},
   "outputs": [],
   "source": [
    "# Compute bootstrap PI for each model/ts\n",
    "bootstrap_pi_naive_weekly <- lapply(1:length(weekly_naive_forecasts), \n",
    "                      function(i) bootstrap_pred_int_naive(weekly_naive_forecasts[[i]]$raw_forecasts,\n",
    "                                                           weekly_naive_forecasts[[i]]$train_res, \n",
    "                                                           n_boot, \n",
    "                                                           test_samples_ts[[i]]))"
   ]
  },
  {
   "cell_type": "code",
   "execution_count": 74,
   "id": "7ab3e276",
   "metadata": {},
   "outputs": [
    {
     "data": {
      "text/html": [
       "240.975744047619"
      ],
      "text/latex": [
       "240.975744047619"
      ],
      "text/markdown": [
       "240.975744047619"
      ],
      "text/plain": [
       "[1] 240.9757"
      ]
     },
     "metadata": {},
     "output_type": "display_data"
    }
   ],
   "source": [
    "# Print the mean of the 80% PI scores\n",
    "mean(unlist(lapply(bootstrap_pi_naive_weekly, function(x) mean(x$int_score_80))))"
   ]
  },
  {
   "cell_type": "code",
   "execution_count": 75,
   "id": "b772aa1c",
   "metadata": {},
   "outputs": [
    {
     "data": {
      "text/html": [
       "417.261374627976"
      ],
      "text/latex": [
       "417.261374627976"
      ],
      "text/markdown": [
       "417.261374627976"
      ],
      "text/plain": [
       "[1] 417.2614"
      ]
     },
     "metadata": {},
     "output_type": "display_data"
    }
   ],
   "source": [
    "# Print the mean of the 95% PI scores\n",
    "mean(unlist(lapply(bootstrap_pi_naive_weekly, function(x) mean(x$int_score_95))))"
   ]
  },
  {
   "cell_type": "code",
   "execution_count": 76,
   "id": "ceb37c0e",
   "metadata": {},
   "outputs": [
    {
     "data": {
      "text/html": [
       "0.727530347718749"
      ],
      "text/latex": [
       "0.727530347718749"
      ],
      "text/markdown": [
       "0.727530347718749"
      ],
      "text/plain": [
       "[1] 0.7275303"
      ]
     },
     "metadata": {},
     "output_type": "display_data"
    }
   ],
   "source": [
    "# Print the average scaled 80% PI score\n",
    "mean(unlist(lapply(bootstrap_pi_naive_weekly, function(x) mean(x$int_score_80)))/test_means)"
   ]
  },
  {
   "cell_type": "code",
   "execution_count": 77,
   "id": "a4bb8816",
   "metadata": {},
   "outputs": [
    {
     "data": {
      "text/html": [
       "1.27197702646255"
      ],
      "text/latex": [
       "1.27197702646255"
      ],
      "text/markdown": [
       "1.27197702646255"
      ],
      "text/plain": [
       "[1] 1.271977"
      ]
     },
     "metadata": {},
     "output_type": "display_data"
    }
   ],
   "source": [
    "# Print the average scaled 95% PI score\n",
    "mean(unlist(lapply(bootstrap_pi_naive_weekly, function(x) mean(x$int_score_95)))/test_means)"
   ]
  },
  {
   "cell_type": "code",
   "execution_count": null,
   "id": "e1bc5e4f",
   "metadata": {},
   "outputs": [],
   "source": []
  }
 ],
 "metadata": {
  "kernelspec": {
   "display_name": "R",
   "language": "R",
   "name": "ir"
  },
  "language_info": {
   "codemirror_mode": "r",
   "file_extension": ".r",
   "mimetype": "text/x-r-source",
   "name": "R",
   "pygments_lexer": "r",
   "version": "4.1.3"
  }
 },
 "nbformat": 4,
 "nbformat_minor": 5
}
