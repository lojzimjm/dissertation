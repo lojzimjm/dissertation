{
 "cells": [
  {
   "cell_type": "code",
   "execution_count": 1,
   "id": "0e8fee07",
   "metadata": {},
   "outputs": [],
   "source": [
    "# Clear workspace\n",
    "rm(list=ls())"
   ]
  },
  {
   "cell_type": "code",
   "execution_count": 2,
   "id": "1beecb5b",
   "metadata": {
    "scrolled": true
   },
   "outputs": [
    {
     "data": {
      "text/html": [
       "<table class=\"dataframe\">\n",
       "<caption>A matrix: 2 × 6 of type dbl</caption>\n",
       "<thead>\n",
       "\t<tr><th></th><th scope=col>used</th><th scope=col>(Mb)</th><th scope=col>gc trigger</th><th scope=col>(Mb)</th><th scope=col>max used</th><th scope=col>(Mb)</th></tr>\n",
       "</thead>\n",
       "<tbody>\n",
       "\t<tr><th scope=row>Ncells</th><td> 609305</td><td>32.6</td><td>1319145</td><td>70.5</td><td>1310998</td><td>70.1</td></tr>\n",
       "\t<tr><th scope=row>Vcells</th><td>1138733</td><td> 8.7</td><td>8388608</td><td>64.0</td><td>1821133</td><td>13.9</td></tr>\n",
       "</tbody>\n",
       "</table>\n"
      ],
      "text/latex": [
       "A matrix: 2 × 6 of type dbl\n",
       "\\begin{tabular}{r|llllll}\n",
       "  & used & (Mb) & gc trigger & (Mb) & max used & (Mb)\\\\\n",
       "\\hline\n",
       "\tNcells &  609305 & 32.6 & 1319145 & 70.5 & 1310998 & 70.1\\\\\n",
       "\tVcells & 1138733 &  8.7 & 8388608 & 64.0 & 1821133 & 13.9\\\\\n",
       "\\end{tabular}\n"
      ],
      "text/markdown": [
       "\n",
       "A matrix: 2 × 6 of type dbl\n",
       "\n",
       "| <!--/--> | used | (Mb) | gc trigger | (Mb) | max used | (Mb) |\n",
       "|---|---|---|---|---|---|---|\n",
       "| Ncells |  609305 | 32.6 | 1319145 | 70.5 | 1310998 | 70.1 |\n",
       "| Vcells | 1138733 |  8.7 | 8388608 | 64.0 | 1821133 | 13.9 |\n",
       "\n"
      ],
      "text/plain": [
       "       used    (Mb) gc trigger (Mb) max used (Mb)\n",
       "Ncells  609305 32.6 1319145    70.5 1310998  70.1\n",
       "Vcells 1138733  8.7 8388608    64.0 1821133  13.9"
      ]
     },
     "metadata": {},
     "output_type": "display_data"
    }
   ],
   "source": [
    "# Garabage collect to help with memory issues\n",
    "gc()"
   ]
  },
  {
   "cell_type": "code",
   "execution_count": 3,
   "id": "ee1545b3",
   "metadata": {},
   "outputs": [
    {
     "name": "stderr",
     "output_type": "stream",
     "text": [
      "Warning message:\n",
      "“‘timedatectl’ indicates the non-existent timezone name ‘n/a’”\n",
      "Warning message:\n",
      "“Your system is mis-configured: ‘/etc/localtime’ is not a symlink”\n",
      "Warning message:\n",
      "“It is strongly recommended to set envionment variable TZ to ‘Etc/UCT’ (or equivalent)”\n",
      "── \u001b[1mAttaching packages\u001b[22m ─────────────────────────────────────── tidyverse 1.3.1 ──\n",
      "\n",
      "\u001b[32m✔\u001b[39m \u001b[34mggplot2\u001b[39m 3.3.5     \u001b[32m✔\u001b[39m \u001b[34mpurrr  \u001b[39m 0.3.4\n",
      "\u001b[32m✔\u001b[39m \u001b[34mtibble \u001b[39m 3.1.6     \u001b[32m✔\u001b[39m \u001b[34mdplyr  \u001b[39m 1.0.8\n",
      "\u001b[32m✔\u001b[39m \u001b[34mtidyr  \u001b[39m 1.2.0     \u001b[32m✔\u001b[39m \u001b[34mstringr\u001b[39m 1.4.0\n",
      "\u001b[32m✔\u001b[39m \u001b[34mreadr  \u001b[39m 2.1.2     \u001b[32m✔\u001b[39m \u001b[34mforcats\u001b[39m 0.5.1\n",
      "\n",
      "── \u001b[1mConflicts\u001b[22m ────────────────────────────────────────── tidyverse_conflicts() ──\n",
      "\u001b[31m✖\u001b[39m \u001b[34mdplyr\u001b[39m::\u001b[32mfilter()\u001b[39m masks \u001b[34mstats\u001b[39m::filter()\n",
      "\u001b[31m✖\u001b[39m \u001b[34mdplyr\u001b[39m::\u001b[32mlag()\u001b[39m    masks \u001b[34mstats\u001b[39m::lag()\n",
      "\n",
      "Registered S3 method overwritten by 'quantmod':\n",
      "  method            from\n",
      "  as.zoo.data.frame zoo \n",
      "\n",
      "Package 'mclust' version 5.4.10\n",
      "Type 'citation(\"mclust\")' for citing this R package in publications.\n",
      "\n",
      "\n",
      "Attaching package: ‘mclust’\n",
      "\n",
      "\n",
      "The following object is masked from ‘package:purrr’:\n",
      "\n",
      "    map\n",
      "\n",
      "\n",
      "\n",
      "Attaching package: ‘Metrics’\n",
      "\n",
      "\n",
      "The following object is masked from ‘package:forecast’:\n",
      "\n",
      "    accuracy\n",
      "\n",
      "\n",
      "Welcome! Want to learn more? See two factoextra-related books at https://goo.gl/ve3WBa\n",
      "\n",
      "Note: scoringutils 1.0.0 introduces a lot of breaking changes and we apologise for any inconvenience. If you prefer the old interface, please download version 0.1.8 using remotes::install_github(\"epiforecasts/scoringutils@v0.1.8\")\n",
      "\n"
     ]
    }
   ],
   "source": [
    "# install.packages(\"tidyverse\") # sagemaker has\n",
    "library(tidyverse)\n",
    "# install.packages(\"parallel\") # sagemaker has\n",
    "library(parallel)\n",
    "# install.packages(\"cluster\") # sagemaker has\n",
    "library(cluster)\n",
    "# install.packages(\"forecast\") # sagemaker doesn't have\n",
    "library(forecast)\n",
    "# install.packages(\"mclust\") # sagemaker doesn't have\n",
    "library(mclust)\n",
    "# install.packages(\"Metrics\") # sagemaker doesn't have\n",
    "library(Metrics)\n",
    "# install.packages(\"Rcatch22\") # sagemaker doesn't have\n",
    "library(Rcatch22)\n",
    "# install.packages(\"tseries\") # sagemaker doesn't have\n",
    "library(tseries)\n",
    "# install.packages(\"factoextra\") # sagemaker doesn't have\n",
    "library(factoextra)\n",
    "# install.packages(\"scoringutils\") # sagemaker doesn't have\n",
    "library(scoringutils)"
   ]
  },
  {
   "cell_type": "markdown",
   "id": "976eb761",
   "metadata": {},
   "source": [
    "# Read In and Subset Data"
   ]
  },
  {
   "cell_type": "code",
   "execution_count": 4,
   "id": "cc5e4101",
   "metadata": {},
   "outputs": [
    {
     "name": "stderr",
     "output_type": "stream",
     "text": [
      "\u001b[1mRows: \u001b[22m\u001b[34m35040\u001b[39m \u001b[1mColumns: \u001b[22m\u001b[34m10\u001b[39m\n",
      "\u001b[36m──\u001b[39m \u001b[1mColumn specification\u001b[22m \u001b[36m────────────────────────────────────────────────────────\u001b[39m\n",
      "\u001b[1mDelimiter:\u001b[22m \",\"\n",
      "\u001b[31mchr\u001b[39m  (1): site_name\n",
      "\u001b[32mdbl\u001b[39m  (5): day_of_week, day_of_year, interval_of_day, avg_mph, total_volume\n",
      "\u001b[33mlgl\u001b[39m  (2): missing_speed, missing_volume\n",
      "\u001b[34mdttm\u001b[39m (1): timestamp\n",
      "\u001b[34mdate\u001b[39m (1): date\n",
      "\n",
      "\u001b[36mℹ\u001b[39m Use `spec()` to retrieve the full column specification for this data.\n",
      "\u001b[36mℹ\u001b[39m Specify the column types or set `show_col_types = FALSE` to quiet this message.\n",
      "\u001b[1mRows: \u001b[22m\u001b[34m35040\u001b[39m \u001b[1mColumns: \u001b[22m\u001b[34m10\u001b[39m\n",
      "\u001b[36m──\u001b[39m \u001b[1mColumn specification\u001b[22m \u001b[36m────────────────────────────────────────────────────────\u001b[39m\n",
      "\u001b[1mDelimiter:\u001b[22m \",\"\n",
      "\u001b[31mchr\u001b[39m  (1): site_name\n",
      "\u001b[32mdbl\u001b[39m  (5): day_of_week, day_of_year, interval_of_day, avg_mph, total_volume\n",
      "\u001b[33mlgl\u001b[39m  (2): missing_speed, missing_volume\n",
      "\u001b[34mdttm\u001b[39m (1): timestamp\n",
      "\u001b[34mdate\u001b[39m (1): date\n",
      "\n",
      "\u001b[36mℹ\u001b[39m Use `spec()` to retrieve the full column specification for this data.\n",
      "\u001b[36mℹ\u001b[39m Specify the column types or set `show_col_types = FALSE` to quiet this message.\n",
      "\u001b[1mRows: \u001b[22m\u001b[34m35040\u001b[39m \u001b[1mColumns: \u001b[22m\u001b[34m10\u001b[39m\n",
      "\u001b[36m──\u001b[39m \u001b[1mColumn specification\u001b[22m \u001b[36m────────────────────────────────────────────────────────\u001b[39m\n",
      "\u001b[1mDelimiter:\u001b[22m \",\"\n",
      "\u001b[31mchr\u001b[39m  (1): site_name\n",
      "\u001b[32mdbl\u001b[39m  (5): day_of_week, day_of_year, interval_of_day, avg_mph, total_volume\n",
      "\u001b[33mlgl\u001b[39m  (2): missing_speed, missing_volume\n",
      "\u001b[34mdttm\u001b[39m (1): timestamp\n",
      "\u001b[34mdate\u001b[39m (1): date\n",
      "\n",
      "\u001b[36mℹ\u001b[39m Use `spec()` to retrieve the full column specification for this data.\n",
      "\u001b[36mℹ\u001b[39m Specify the column types or set `show_col_types = FALSE` to quiet this message.\n",
      "\u001b[1mRows: \u001b[22m\u001b[34m35040\u001b[39m \u001b[1mColumns: \u001b[22m\u001b[34m10\u001b[39m\n",
      "\u001b[36m──\u001b[39m \u001b[1mColumn specification\u001b[22m \u001b[36m────────────────────────────────────────────────────────\u001b[39m\n",
      "\u001b[1mDelimiter:\u001b[22m \",\"\n",
      "\u001b[31mchr\u001b[39m  (1): site_name\n",
      "\u001b[32mdbl\u001b[39m  (5): day_of_week, day_of_year, interval_of_day, avg_mph, total_volume\n",
      "\u001b[33mlgl\u001b[39m  (2): missing_speed, missing_volume\n",
      "\u001b[34mdttm\u001b[39m (1): timestamp\n",
      "\u001b[34mdate\u001b[39m (1): date\n",
      "\n",
      "\u001b[36mℹ\u001b[39m Use `spec()` to retrieve the full column specification for this data.\n",
      "\u001b[36mℹ\u001b[39m Specify the column types or set `show_col_types = FALSE` to quiet this message.\n",
      "\u001b[1mRows: \u001b[22m\u001b[34m35040\u001b[39m \u001b[1mColumns: \u001b[22m\u001b[34m10\u001b[39m\n",
      "\u001b[36m──\u001b[39m \u001b[1mColumn specification\u001b[22m \u001b[36m────────────────────────────────────────────────────────\u001b[39m\n",
      "\u001b[1mDelimiter:\u001b[22m \",\"\n",
      "\u001b[31mchr\u001b[39m  (1): site_name\n",
      "\u001b[32mdbl\u001b[39m  (5): day_of_week, day_of_year, interval_of_day, avg_mph, total_volume\n",
      "\u001b[33mlgl\u001b[39m  (2): missing_speed, missing_volume\n",
      "\u001b[34mdttm\u001b[39m (1): timestamp\n",
      "\u001b[34mdate\u001b[39m (1): date\n",
      "\n",
      "\u001b[36mℹ\u001b[39m Use `spec()` to retrieve the full column specification for this data.\n",
      "\u001b[36mℹ\u001b[39m Specify the column types or set `show_col_types = FALSE` to quiet this message.\n",
      "\u001b[1mRows: \u001b[22m\u001b[34m35040\u001b[39m \u001b[1mColumns: \u001b[22m\u001b[34m10\u001b[39m\n",
      "\u001b[36m──\u001b[39m \u001b[1mColumn specification\u001b[22m \u001b[36m────────────────────────────────────────────────────────\u001b[39m\n",
      "\u001b[1mDelimiter:\u001b[22m \",\"\n",
      "\u001b[31mchr\u001b[39m  (1): site_name\n",
      "\u001b[32mdbl\u001b[39m  (5): day_of_week, day_of_year, interval_of_day, avg_mph, total_volume\n",
      "\u001b[33mlgl\u001b[39m  (2): missing_speed, missing_volume\n",
      "\u001b[34mdttm\u001b[39m (1): timestamp\n",
      "\u001b[34mdate\u001b[39m (1): date\n",
      "\n",
      "\u001b[36mℹ\u001b[39m Use `spec()` to retrieve the full column specification for this data.\n",
      "\u001b[36mℹ\u001b[39m Specify the column types or set `show_col_types = FALSE` to quiet this message.\n",
      "\u001b[1mRows: \u001b[22m\u001b[34m35040\u001b[39m \u001b[1mColumns: \u001b[22m\u001b[34m10\u001b[39m\n",
      "\u001b[36m──\u001b[39m \u001b[1mColumn specification\u001b[22m \u001b[36m────────────────────────────────────────────────────────\u001b[39m\n",
      "\u001b[1mDelimiter:\u001b[22m \",\"\n",
      "\u001b[31mchr\u001b[39m  (1): site_name\n",
      "\u001b[32mdbl\u001b[39m  (5): day_of_week, day_of_year, interval_of_day, avg_mph, total_volume\n",
      "\u001b[33mlgl\u001b[39m  (2): missing_speed, missing_volume\n",
      "\u001b[34mdttm\u001b[39m (1): timestamp\n",
      "\u001b[34mdate\u001b[39m (1): date\n",
      "\n",
      "\u001b[36mℹ\u001b[39m Use `spec()` to retrieve the full column specification for this data.\n",
      "\u001b[36mℹ\u001b[39m Specify the column types or set `show_col_types = FALSE` to quiet this message.\n",
      "\u001b[1mRows: \u001b[22m\u001b[34m35040\u001b[39m \u001b[1mColumns: \u001b[22m\u001b[34m10\u001b[39m\n",
      "\u001b[36m──\u001b[39m \u001b[1mColumn specification\u001b[22m \u001b[36m────────────────────────────────────────────────────────\u001b[39m\n",
      "\u001b[1mDelimiter:\u001b[22m \",\"\n",
      "\u001b[31mchr\u001b[39m  (1): site_name\n",
      "\u001b[32mdbl\u001b[39m  (5): day_of_week, day_of_year, interval_of_day, avg_mph, total_volume\n",
      "\u001b[33mlgl\u001b[39m  (2): missing_speed, missing_volume\n",
      "\u001b[34mdttm\u001b[39m (1): timestamp\n",
      "\u001b[34mdate\u001b[39m (1): date\n",
      "\n",
      "\u001b[36mℹ\u001b[39m Use `spec()` to retrieve the full column specification for this data.\n",
      "\u001b[36mℹ\u001b[39m Specify the column types or set `show_col_types = FALSE` to quiet this message.\n",
      "\u001b[1mRows: \u001b[22m\u001b[34m35040\u001b[39m \u001b[1mColumns: \u001b[22m\u001b[34m10\u001b[39m\n",
      "\u001b[36m──\u001b[39m \u001b[1mColumn specification\u001b[22m \u001b[36m────────────────────────────────────────────────────────\u001b[39m\n",
      "\u001b[1mDelimiter:\u001b[22m \",\"\n",
      "\u001b[31mchr\u001b[39m  (1): site_name\n",
      "\u001b[32mdbl\u001b[39m  (5): day_of_week, day_of_year, interval_of_day, avg_mph, total_volume\n",
      "\u001b[33mlgl\u001b[39m  (2): missing_speed, missing_volume\n",
      "\u001b[34mdttm\u001b[39m (1): timestamp\n",
      "\u001b[34mdate\u001b[39m (1): date\n",
      "\n",
      "\u001b[36mℹ\u001b[39m Use `spec()` to retrieve the full column specification for this data.\n",
      "\u001b[36mℹ\u001b[39m Specify the column types or set `show_col_types = FALSE` to quiet this message.\n",
      "\u001b[1mRows: \u001b[22m\u001b[34m35040\u001b[39m \u001b[1mColumns: \u001b[22m\u001b[34m10\u001b[39m\n",
      "\u001b[36m──\u001b[39m \u001b[1mColumn specification\u001b[22m \u001b[36m────────────────────────────────────────────────────────\u001b[39m\n",
      "\u001b[1mDelimiter:\u001b[22m \",\"\n",
      "\u001b[31mchr\u001b[39m  (1): site_name\n",
      "\u001b[32mdbl\u001b[39m  (5): day_of_week, day_of_year, interval_of_day, avg_mph, total_volume\n",
      "\u001b[33mlgl\u001b[39m  (2): missing_speed, missing_volume\n",
      "\u001b[34mdttm\u001b[39m (1): timestamp\n",
      "\u001b[34mdate\u001b[39m (1): date\n",
      "\n",
      "\u001b[36mℹ\u001b[39m Use `spec()` to retrieve the full column specification for this data.\n",
      "\u001b[36mℹ\u001b[39m Specify the column types or set `show_col_types = FALSE` to quiet this message.\n",
      "\u001b[1mRows: \u001b[22m\u001b[34m35040\u001b[39m \u001b[1mColumns: \u001b[22m\u001b[34m10\u001b[39m\n",
      "\u001b[36m──\u001b[39m \u001b[1mColumn specification\u001b[22m \u001b[36m────────────────────────────────────────────────────────\u001b[39m\n",
      "\u001b[1mDelimiter:\u001b[22m \",\"\n",
      "\u001b[31mchr\u001b[39m  (1): site_name\n",
      "\u001b[32mdbl\u001b[39m  (5): day_of_week, day_of_year, interval_of_day, avg_mph, total_volume\n",
      "\u001b[33mlgl\u001b[39m  (2): missing_speed, missing_volume\n",
      "\u001b[34mdttm\u001b[39m (1): timestamp\n",
      "\u001b[34mdate\u001b[39m (1): date\n",
      "\n",
      "\u001b[36mℹ\u001b[39m Use `spec()` to retrieve the full column specification for this data.\n",
      "\u001b[36mℹ\u001b[39m Specify the column types or set `show_col_types = FALSE` to quiet this message.\n",
      "\u001b[1mRows: \u001b[22m\u001b[34m35040\u001b[39m \u001b[1mColumns: \u001b[22m\u001b[34m10\u001b[39m\n",
      "\u001b[36m──\u001b[39m \u001b[1mColumn specification\u001b[22m \u001b[36m────────────────────────────────────────────────────────\u001b[39m\n",
      "\u001b[1mDelimiter:\u001b[22m \",\"\n",
      "\u001b[31mchr\u001b[39m  (1): site_name\n",
      "\u001b[32mdbl\u001b[39m  (5): day_of_week, day_of_year, interval_of_day, avg_mph, total_volume\n",
      "\u001b[33mlgl\u001b[39m  (2): missing_speed, missing_volume\n",
      "\u001b[34mdttm\u001b[39m (1): timestamp\n",
      "\u001b[34mdate\u001b[39m (1): date\n",
      "\n",
      "\u001b[36mℹ\u001b[39m Use `spec()` to retrieve the full column specification for this data.\n",
      "\u001b[36mℹ\u001b[39m Specify the column types or set `show_col_types = FALSE` to quiet this message.\n",
      "\u001b[1mRows: \u001b[22m\u001b[34m35040\u001b[39m \u001b[1mColumns: \u001b[22m\u001b[34m10\u001b[39m\n",
      "\u001b[36m──\u001b[39m \u001b[1mColumn specification\u001b[22m \u001b[36m────────────────────────────────────────────────────────\u001b[39m\n",
      "\u001b[1mDelimiter:\u001b[22m \",\"\n",
      "\u001b[31mchr\u001b[39m  (1): site_name\n",
      "\u001b[32mdbl\u001b[39m  (5): day_of_week, day_of_year, interval_of_day, avg_mph, total_volume\n",
      "\u001b[33mlgl\u001b[39m  (2): missing_speed, missing_volume\n",
      "\u001b[34mdttm\u001b[39m (1): timestamp\n",
      "\u001b[34mdate\u001b[39m (1): date\n",
      "\n",
      "\u001b[36mℹ\u001b[39m Use `spec()` to retrieve the full column specification for this data.\n",
      "\u001b[36mℹ\u001b[39m Specify the column types or set `show_col_types = FALSE` to quiet this message.\n",
      "\u001b[1mRows: \u001b[22m\u001b[34m35040\u001b[39m \u001b[1mColumns: \u001b[22m\u001b[34m10\u001b[39m\n",
      "\u001b[36m──\u001b[39m \u001b[1mColumn specification\u001b[22m \u001b[36m────────────────────────────────────────────────────────\u001b[39m\n",
      "\u001b[1mDelimiter:\u001b[22m \",\"\n",
      "\u001b[31mchr\u001b[39m  (1): site_name\n",
      "\u001b[32mdbl\u001b[39m  (5): day_of_week, day_of_year, interval_of_day, avg_mph, total_volume\n",
      "\u001b[33mlgl\u001b[39m  (2): missing_speed, missing_volume\n",
      "\u001b[34mdttm\u001b[39m (1): timestamp\n",
      "\u001b[34mdate\u001b[39m (1): date\n",
      "\n",
      "\u001b[36mℹ\u001b[39m Use `spec()` to retrieve the full column specification for this data.\n",
      "\u001b[36mℹ\u001b[39m Specify the column types or set `show_col_types = FALSE` to quiet this message.\n"
     ]
    },
    {
     "name": "stderr",
     "output_type": "stream",
     "text": [
      "\u001b[1mRows: \u001b[22m\u001b[34m35040\u001b[39m \u001b[1mColumns: \u001b[22m\u001b[34m10\u001b[39m\n",
      "\u001b[36m──\u001b[39m \u001b[1mColumn specification\u001b[22m \u001b[36m────────────────────────────────────────────────────────\u001b[39m\n",
      "\u001b[1mDelimiter:\u001b[22m \",\"\n",
      "\u001b[31mchr\u001b[39m  (1): site_name\n",
      "\u001b[32mdbl\u001b[39m  (5): day_of_week, day_of_year, interval_of_day, avg_mph, total_volume\n",
      "\u001b[33mlgl\u001b[39m  (2): missing_speed, missing_volume\n",
      "\u001b[34mdttm\u001b[39m (1): timestamp\n",
      "\u001b[34mdate\u001b[39m (1): date\n",
      "\n",
      "\u001b[36mℹ\u001b[39m Use `spec()` to retrieve the full column specification for this data.\n",
      "\u001b[36mℹ\u001b[39m Specify the column types or set `show_col_types = FALSE` to quiet this message.\n",
      "\u001b[1mRows: \u001b[22m\u001b[34m35040\u001b[39m \u001b[1mColumns: \u001b[22m\u001b[34m10\u001b[39m\n",
      "\u001b[36m──\u001b[39m \u001b[1mColumn specification\u001b[22m \u001b[36m────────────────────────────────────────────────────────\u001b[39m\n",
      "\u001b[1mDelimiter:\u001b[22m \",\"\n",
      "\u001b[31mchr\u001b[39m  (1): site_name\n",
      "\u001b[32mdbl\u001b[39m  (5): day_of_week, day_of_year, interval_of_day, avg_mph, total_volume\n",
      "\u001b[33mlgl\u001b[39m  (2): missing_speed, missing_volume\n",
      "\u001b[34mdttm\u001b[39m (1): timestamp\n",
      "\u001b[34mdate\u001b[39m (1): date\n",
      "\n",
      "\u001b[36mℹ\u001b[39m Use `spec()` to retrieve the full column specification for this data.\n",
      "\u001b[36mℹ\u001b[39m Specify the column types or set `show_col_types = FALSE` to quiet this message.\n",
      "\u001b[1mRows: \u001b[22m\u001b[34m35040\u001b[39m \u001b[1mColumns: \u001b[22m\u001b[34m10\u001b[39m\n",
      "\u001b[36m──\u001b[39m \u001b[1mColumn specification\u001b[22m \u001b[36m────────────────────────────────────────────────────────\u001b[39m\n",
      "\u001b[1mDelimiter:\u001b[22m \",\"\n",
      "\u001b[31mchr\u001b[39m  (1): site_name\n",
      "\u001b[32mdbl\u001b[39m  (5): day_of_week, day_of_year, interval_of_day, avg_mph, total_volume\n",
      "\u001b[33mlgl\u001b[39m  (2): missing_speed, missing_volume\n",
      "\u001b[34mdttm\u001b[39m (1): timestamp\n",
      "\u001b[34mdate\u001b[39m (1): date\n",
      "\n",
      "\u001b[36mℹ\u001b[39m Use `spec()` to retrieve the full column specification for this data.\n",
      "\u001b[36mℹ\u001b[39m Specify the column types or set `show_col_types = FALSE` to quiet this message.\n",
      "\u001b[1mRows: \u001b[22m\u001b[34m35040\u001b[39m \u001b[1mColumns: \u001b[22m\u001b[34m10\u001b[39m\n",
      "\u001b[36m──\u001b[39m \u001b[1mColumn specification\u001b[22m \u001b[36m────────────────────────────────────────────────────────\u001b[39m\n",
      "\u001b[1mDelimiter:\u001b[22m \",\"\n",
      "\u001b[31mchr\u001b[39m  (1): site_name\n",
      "\u001b[32mdbl\u001b[39m  (5): day_of_week, day_of_year, interval_of_day, avg_mph, total_volume\n",
      "\u001b[33mlgl\u001b[39m  (2): missing_speed, missing_volume\n",
      "\u001b[34mdttm\u001b[39m (1): timestamp\n",
      "\u001b[34mdate\u001b[39m (1): date\n",
      "\n",
      "\u001b[36mℹ\u001b[39m Use `spec()` to retrieve the full column specification for this data.\n",
      "\u001b[36mℹ\u001b[39m Specify the column types or set `show_col_types = FALSE` to quiet this message.\n",
      "\u001b[1mRows: \u001b[22m\u001b[34m35040\u001b[39m \u001b[1mColumns: \u001b[22m\u001b[34m10\u001b[39m\n",
      "\u001b[36m──\u001b[39m \u001b[1mColumn specification\u001b[22m \u001b[36m────────────────────────────────────────────────────────\u001b[39m\n",
      "\u001b[1mDelimiter:\u001b[22m \",\"\n",
      "\u001b[31mchr\u001b[39m  (1): site_name\n",
      "\u001b[32mdbl\u001b[39m  (5): day_of_week, day_of_year, interval_of_day, avg_mph, total_volume\n",
      "\u001b[33mlgl\u001b[39m  (2): missing_speed, missing_volume\n",
      "\u001b[34mdttm\u001b[39m (1): timestamp\n",
      "\u001b[34mdate\u001b[39m (1): date\n",
      "\n",
      "\u001b[36mℹ\u001b[39m Use `spec()` to retrieve the full column specification for this data.\n",
      "\u001b[36mℹ\u001b[39m Specify the column types or set `show_col_types = FALSE` to quiet this message.\n",
      "\u001b[1mRows: \u001b[22m\u001b[34m35040\u001b[39m \u001b[1mColumns: \u001b[22m\u001b[34m10\u001b[39m\n",
      "\u001b[36m──\u001b[39m \u001b[1mColumn specification\u001b[22m \u001b[36m────────────────────────────────────────────────────────\u001b[39m\n",
      "\u001b[1mDelimiter:\u001b[22m \",\"\n",
      "\u001b[31mchr\u001b[39m  (1): site_name\n",
      "\u001b[32mdbl\u001b[39m  (5): day_of_week, day_of_year, interval_of_day, avg_mph, total_volume\n",
      "\u001b[33mlgl\u001b[39m  (2): missing_speed, missing_volume\n",
      "\u001b[34mdttm\u001b[39m (1): timestamp\n",
      "\u001b[34mdate\u001b[39m (1): date\n",
      "\n",
      "\u001b[36mℹ\u001b[39m Use `spec()` to retrieve the full column specification for this data.\n",
      "\u001b[36mℹ\u001b[39m Specify the column types or set `show_col_types = FALSE` to quiet this message.\n",
      "\u001b[1mRows: \u001b[22m\u001b[34m35040\u001b[39m \u001b[1mColumns: \u001b[22m\u001b[34m10\u001b[39m\n",
      "\u001b[36m──\u001b[39m \u001b[1mColumn specification\u001b[22m \u001b[36m────────────────────────────────────────────────────────\u001b[39m\n",
      "\u001b[1mDelimiter:\u001b[22m \",\"\n",
      "\u001b[31mchr\u001b[39m  (1): site_name\n",
      "\u001b[32mdbl\u001b[39m  (5): day_of_week, day_of_year, interval_of_day, avg_mph, total_volume\n",
      "\u001b[33mlgl\u001b[39m  (2): missing_speed, missing_volume\n",
      "\u001b[34mdttm\u001b[39m (1): timestamp\n",
      "\u001b[34mdate\u001b[39m (1): date\n",
      "\n",
      "\u001b[36mℹ\u001b[39m Use `spec()` to retrieve the full column specification for this data.\n",
      "\u001b[36mℹ\u001b[39m Specify the column types or set `show_col_types = FALSE` to quiet this message.\n",
      "\u001b[1mRows: \u001b[22m\u001b[34m35040\u001b[39m \u001b[1mColumns: \u001b[22m\u001b[34m10\u001b[39m\n",
      "\u001b[36m──\u001b[39m \u001b[1mColumn specification\u001b[22m \u001b[36m────────────────────────────────────────────────────────\u001b[39m\n",
      "\u001b[1mDelimiter:\u001b[22m \",\"\n",
      "\u001b[31mchr\u001b[39m  (1): site_name\n",
      "\u001b[32mdbl\u001b[39m  (5): day_of_week, day_of_year, interval_of_day, avg_mph, total_volume\n",
      "\u001b[33mlgl\u001b[39m  (2): missing_speed, missing_volume\n",
      "\u001b[34mdttm\u001b[39m (1): timestamp\n",
      "\u001b[34mdate\u001b[39m (1): date\n",
      "\n",
      "\u001b[36mℹ\u001b[39m Use `spec()` to retrieve the full column specification for this data.\n",
      "\u001b[36mℹ\u001b[39m Specify the column types or set `show_col_types = FALSE` to quiet this message.\n",
      "\u001b[1mRows: \u001b[22m\u001b[34m35040\u001b[39m \u001b[1mColumns: \u001b[22m\u001b[34m10\u001b[39m\n",
      "\u001b[36m──\u001b[39m \u001b[1mColumn specification\u001b[22m \u001b[36m────────────────────────────────────────────────────────\u001b[39m\n",
      "\u001b[1mDelimiter:\u001b[22m \",\"\n",
      "\u001b[31mchr\u001b[39m  (1): site_name\n",
      "\u001b[32mdbl\u001b[39m  (5): day_of_week, day_of_year, interval_of_day, avg_mph, total_volume\n",
      "\u001b[33mlgl\u001b[39m  (2): missing_speed, missing_volume\n",
      "\u001b[34mdttm\u001b[39m (1): timestamp\n",
      "\u001b[34mdate\u001b[39m (1): date\n",
      "\n",
      "\u001b[36mℹ\u001b[39m Use `spec()` to retrieve the full column specification for this data.\n",
      "\u001b[36mℹ\u001b[39m Specify the column types or set `show_col_types = FALSE` to quiet this message.\n",
      "\u001b[1mRows: \u001b[22m\u001b[34m35040\u001b[39m \u001b[1mColumns: \u001b[22m\u001b[34m10\u001b[39m\n",
      "\u001b[36m──\u001b[39m \u001b[1mColumn specification\u001b[22m \u001b[36m────────────────────────────────────────────────────────\u001b[39m\n",
      "\u001b[1mDelimiter:\u001b[22m \",\"\n",
      "\u001b[31mchr\u001b[39m  (1): site_name\n",
      "\u001b[32mdbl\u001b[39m  (5): day_of_week, day_of_year, interval_of_day, avg_mph, total_volume\n",
      "\u001b[33mlgl\u001b[39m  (2): missing_speed, missing_volume\n",
      "\u001b[34mdttm\u001b[39m (1): timestamp\n",
      "\u001b[34mdate\u001b[39m (1): date\n",
      "\n",
      "\u001b[36mℹ\u001b[39m Use `spec()` to retrieve the full column specification for this data.\n",
      "\u001b[36mℹ\u001b[39m Specify the column types or set `show_col_types = FALSE` to quiet this message.\n",
      "\u001b[1mRows: \u001b[22m\u001b[34m35040\u001b[39m \u001b[1mColumns: \u001b[22m\u001b[34m10\u001b[39m\n",
      "\u001b[36m──\u001b[39m \u001b[1mColumn specification\u001b[22m \u001b[36m────────────────────────────────────────────────────────\u001b[39m\n",
      "\u001b[1mDelimiter:\u001b[22m \",\"\n",
      "\u001b[31mchr\u001b[39m  (1): site_name\n",
      "\u001b[32mdbl\u001b[39m  (5): day_of_week, day_of_year, interval_of_day, avg_mph, total_volume\n",
      "\u001b[33mlgl\u001b[39m  (2): missing_speed, missing_volume\n",
      "\u001b[34mdttm\u001b[39m (1): timestamp\n",
      "\u001b[34mdate\u001b[39m (1): date\n",
      "\n",
      "\u001b[36mℹ\u001b[39m Use `spec()` to retrieve the full column specification for this data.\n",
      "\u001b[36mℹ\u001b[39m Specify the column types or set `show_col_types = FALSE` to quiet this message.\n",
      "\u001b[1mRows: \u001b[22m\u001b[34m35040\u001b[39m \u001b[1mColumns: \u001b[22m\u001b[34m10\u001b[39m\n",
      "\u001b[36m──\u001b[39m \u001b[1mColumn specification\u001b[22m \u001b[36m────────────────────────────────────────────────────────\u001b[39m\n",
      "\u001b[1mDelimiter:\u001b[22m \",\"\n",
      "\u001b[31mchr\u001b[39m  (1): site_name\n",
      "\u001b[32mdbl\u001b[39m  (5): day_of_week, day_of_year, interval_of_day, avg_mph, total_volume\n",
      "\u001b[33mlgl\u001b[39m  (2): missing_speed, missing_volume\n",
      "\u001b[34mdttm\u001b[39m (1): timestamp\n",
      "\u001b[34mdate\u001b[39m (1): date\n",
      "\n",
      "\u001b[36mℹ\u001b[39m Use `spec()` to retrieve the full column specification for this data.\n",
      "\u001b[36mℹ\u001b[39m Specify the column types or set `show_col_types = FALSE` to quiet this message.\n",
      "\u001b[1mRows: \u001b[22m\u001b[34m35040\u001b[39m \u001b[1mColumns: \u001b[22m\u001b[34m10\u001b[39m\n",
      "\u001b[36m──\u001b[39m \u001b[1mColumn specification\u001b[22m \u001b[36m────────────────────────────────────────────────────────\u001b[39m\n",
      "\u001b[1mDelimiter:\u001b[22m \",\"\n",
      "\u001b[31mchr\u001b[39m  (1): site_name\n",
      "\u001b[32mdbl\u001b[39m  (5): day_of_week, day_of_year, interval_of_day, avg_mph, total_volume\n",
      "\u001b[33mlgl\u001b[39m  (2): missing_speed, missing_volume\n",
      "\u001b[34mdttm\u001b[39m (1): timestamp\n",
      "\u001b[34mdate\u001b[39m (1): date\n",
      "\n",
      "\u001b[36mℹ\u001b[39m Use `spec()` to retrieve the full column specification for this data.\n",
      "\u001b[36mℹ\u001b[39m Specify the column types or set `show_col_types = FALSE` to quiet this message.\n",
      "\u001b[1mRows: \u001b[22m\u001b[34m35040\u001b[39m \u001b[1mColumns: \u001b[22m\u001b[34m10\u001b[39m\n",
      "\u001b[36m──\u001b[39m \u001b[1mColumn specification\u001b[22m \u001b[36m────────────────────────────────────────────────────────\u001b[39m\n",
      "\u001b[1mDelimiter:\u001b[22m \",\"\n",
      "\u001b[31mchr\u001b[39m  (1): site_name\n",
      "\u001b[32mdbl\u001b[39m  (5): day_of_week, day_of_year, interval_of_day, avg_mph, total_volume\n",
      "\u001b[33mlgl\u001b[39m  (2): missing_speed, missing_volume\n",
      "\u001b[34mdttm\u001b[39m (1): timestamp\n",
      "\u001b[34mdate\u001b[39m (1): date\n",
      "\n",
      "\u001b[36mℹ\u001b[39m Use `spec()` to retrieve the full column specification for this data.\n",
      "\u001b[36mℹ\u001b[39m Specify the column types or set `show_col_types = FALSE` to quiet this message.\n"
     ]
    },
    {
     "name": "stderr",
     "output_type": "stream",
     "text": [
      "\u001b[1mRows: \u001b[22m\u001b[34m35040\u001b[39m \u001b[1mColumns: \u001b[22m\u001b[34m10\u001b[39m\n",
      "\u001b[36m──\u001b[39m \u001b[1mColumn specification\u001b[22m \u001b[36m────────────────────────────────────────────────────────\u001b[39m\n",
      "\u001b[1mDelimiter:\u001b[22m \",\"\n",
      "\u001b[31mchr\u001b[39m  (1): site_name\n",
      "\u001b[32mdbl\u001b[39m  (5): day_of_week, day_of_year, interval_of_day, avg_mph, total_volume\n",
      "\u001b[33mlgl\u001b[39m  (2): missing_speed, missing_volume\n",
      "\u001b[34mdttm\u001b[39m (1): timestamp\n",
      "\u001b[34mdate\u001b[39m (1): date\n",
      "\n",
      "\u001b[36mℹ\u001b[39m Use `spec()` to retrieve the full column specification for this data.\n",
      "\u001b[36mℹ\u001b[39m Specify the column types or set `show_col_types = FALSE` to quiet this message.\n",
      "\u001b[1mRows: \u001b[22m\u001b[34m35040\u001b[39m \u001b[1mColumns: \u001b[22m\u001b[34m10\u001b[39m\n",
      "\u001b[36m──\u001b[39m \u001b[1mColumn specification\u001b[22m \u001b[36m────────────────────────────────────────────────────────\u001b[39m\n",
      "\u001b[1mDelimiter:\u001b[22m \",\"\n",
      "\u001b[31mchr\u001b[39m  (1): site_name\n",
      "\u001b[32mdbl\u001b[39m  (5): day_of_week, day_of_year, interval_of_day, avg_mph, total_volume\n",
      "\u001b[33mlgl\u001b[39m  (2): missing_speed, missing_volume\n",
      "\u001b[34mdttm\u001b[39m (1): timestamp\n",
      "\u001b[34mdate\u001b[39m (1): date\n",
      "\n",
      "\u001b[36mℹ\u001b[39m Use `spec()` to retrieve the full column specification for this data.\n",
      "\u001b[36mℹ\u001b[39m Specify the column types or set `show_col_types = FALSE` to quiet this message.\n",
      "\u001b[1mRows: \u001b[22m\u001b[34m35040\u001b[39m \u001b[1mColumns: \u001b[22m\u001b[34m10\u001b[39m\n",
      "\u001b[36m──\u001b[39m \u001b[1mColumn specification\u001b[22m \u001b[36m────────────────────────────────────────────────────────\u001b[39m\n",
      "\u001b[1mDelimiter:\u001b[22m \",\"\n",
      "\u001b[31mchr\u001b[39m  (1): site_name\n",
      "\u001b[32mdbl\u001b[39m  (5): day_of_week, day_of_year, interval_of_day, avg_mph, total_volume\n",
      "\u001b[33mlgl\u001b[39m  (2): missing_speed, missing_volume\n",
      "\u001b[34mdttm\u001b[39m (1): timestamp\n",
      "\u001b[34mdate\u001b[39m (1): date\n",
      "\n",
      "\u001b[36mℹ\u001b[39m Use `spec()` to retrieve the full column specification for this data.\n",
      "\u001b[36mℹ\u001b[39m Specify the column types or set `show_col_types = FALSE` to quiet this message.\n",
      "\u001b[1mRows: \u001b[22m\u001b[34m35040\u001b[39m \u001b[1mColumns: \u001b[22m\u001b[34m10\u001b[39m\n",
      "\u001b[36m──\u001b[39m \u001b[1mColumn specification\u001b[22m \u001b[36m────────────────────────────────────────────────────────\u001b[39m\n",
      "\u001b[1mDelimiter:\u001b[22m \",\"\n",
      "\u001b[31mchr\u001b[39m  (1): site_name\n",
      "\u001b[32mdbl\u001b[39m  (5): day_of_week, day_of_year, interval_of_day, avg_mph, total_volume\n",
      "\u001b[33mlgl\u001b[39m  (2): missing_speed, missing_volume\n",
      "\u001b[34mdttm\u001b[39m (1): timestamp\n",
      "\u001b[34mdate\u001b[39m (1): date\n",
      "\n",
      "\u001b[36mℹ\u001b[39m Use `spec()` to retrieve the full column specification for this data.\n",
      "\u001b[36mℹ\u001b[39m Specify the column types or set `show_col_types = FALSE` to quiet this message.\n",
      "\u001b[1mRows: \u001b[22m\u001b[34m35040\u001b[39m \u001b[1mColumns: \u001b[22m\u001b[34m10\u001b[39m\n",
      "\u001b[36m──\u001b[39m \u001b[1mColumn specification\u001b[22m \u001b[36m────────────────────────────────────────────────────────\u001b[39m\n",
      "\u001b[1mDelimiter:\u001b[22m \",\"\n",
      "\u001b[31mchr\u001b[39m  (1): site_name\n",
      "\u001b[32mdbl\u001b[39m  (5): day_of_week, day_of_year, interval_of_day, avg_mph, total_volume\n",
      "\u001b[33mlgl\u001b[39m  (2): missing_speed, missing_volume\n",
      "\u001b[34mdttm\u001b[39m (1): timestamp\n",
      "\u001b[34mdate\u001b[39m (1): date\n",
      "\n",
      "\u001b[36mℹ\u001b[39m Use `spec()` to retrieve the full column specification for this data.\n",
      "\u001b[36mℹ\u001b[39m Specify the column types or set `show_col_types = FALSE` to quiet this message.\n",
      "\u001b[1mRows: \u001b[22m\u001b[34m35040\u001b[39m \u001b[1mColumns: \u001b[22m\u001b[34m10\u001b[39m\n",
      "\u001b[36m──\u001b[39m \u001b[1mColumn specification\u001b[22m \u001b[36m────────────────────────────────────────────────────────\u001b[39m\n",
      "\u001b[1mDelimiter:\u001b[22m \",\"\n",
      "\u001b[31mchr\u001b[39m  (1): site_name\n",
      "\u001b[32mdbl\u001b[39m  (5): day_of_week, day_of_year, interval_of_day, avg_mph, total_volume\n",
      "\u001b[33mlgl\u001b[39m  (2): missing_speed, missing_volume\n",
      "\u001b[34mdttm\u001b[39m (1): timestamp\n",
      "\u001b[34mdate\u001b[39m (1): date\n",
      "\n",
      "\u001b[36mℹ\u001b[39m Use `spec()` to retrieve the full column specification for this data.\n",
      "\u001b[36mℹ\u001b[39m Specify the column types or set `show_col_types = FALSE` to quiet this message.\n",
      "\u001b[1mRows: \u001b[22m\u001b[34m35040\u001b[39m \u001b[1mColumns: \u001b[22m\u001b[34m10\u001b[39m\n",
      "\u001b[36m──\u001b[39m \u001b[1mColumn specification\u001b[22m \u001b[36m────────────────────────────────────────────────────────\u001b[39m\n",
      "\u001b[1mDelimiter:\u001b[22m \",\"\n",
      "\u001b[31mchr\u001b[39m  (1): site_name\n",
      "\u001b[32mdbl\u001b[39m  (5): day_of_week, day_of_year, interval_of_day, avg_mph, total_volume\n",
      "\u001b[33mlgl\u001b[39m  (2): missing_speed, missing_volume\n",
      "\u001b[34mdttm\u001b[39m (1): timestamp\n",
      "\u001b[34mdate\u001b[39m (1): date\n",
      "\n",
      "\u001b[36mℹ\u001b[39m Use `spec()` to retrieve the full column specification for this data.\n",
      "\u001b[36mℹ\u001b[39m Specify the column types or set `show_col_types = FALSE` to quiet this message.\n",
      "\u001b[1mRows: \u001b[22m\u001b[34m35040\u001b[39m \u001b[1mColumns: \u001b[22m\u001b[34m10\u001b[39m\n",
      "\u001b[36m──\u001b[39m \u001b[1mColumn specification\u001b[22m \u001b[36m────────────────────────────────────────────────────────\u001b[39m\n",
      "\u001b[1mDelimiter:\u001b[22m \",\"\n",
      "\u001b[31mchr\u001b[39m  (1): site_name\n",
      "\u001b[32mdbl\u001b[39m  (5): day_of_week, day_of_year, interval_of_day, avg_mph, total_volume\n",
      "\u001b[33mlgl\u001b[39m  (2): missing_speed, missing_volume\n",
      "\u001b[34mdttm\u001b[39m (1): timestamp\n",
      "\u001b[34mdate\u001b[39m (1): date\n",
      "\n",
      "\u001b[36mℹ\u001b[39m Use `spec()` to retrieve the full column specification for this data.\n",
      "\u001b[36mℹ\u001b[39m Specify the column types or set `show_col_types = FALSE` to quiet this message.\n",
      "\u001b[1mRows: \u001b[22m\u001b[34m35040\u001b[39m \u001b[1mColumns: \u001b[22m\u001b[34m10\u001b[39m\n",
      "\u001b[36m──\u001b[39m \u001b[1mColumn specification\u001b[22m \u001b[36m────────────────────────────────────────────────────────\u001b[39m\n",
      "\u001b[1mDelimiter:\u001b[22m \",\"\n",
      "\u001b[31mchr\u001b[39m  (1): site_name\n",
      "\u001b[32mdbl\u001b[39m  (5): day_of_week, day_of_year, interval_of_day, avg_mph, total_volume\n",
      "\u001b[33mlgl\u001b[39m  (2): missing_speed, missing_volume\n",
      "\u001b[34mdttm\u001b[39m (1): timestamp\n",
      "\u001b[34mdate\u001b[39m (1): date\n",
      "\n",
      "\u001b[36mℹ\u001b[39m Use `spec()` to retrieve the full column specification for this data.\n",
      "\u001b[36mℹ\u001b[39m Specify the column types or set `show_col_types = FALSE` to quiet this message.\n",
      "\u001b[1mRows: \u001b[22m\u001b[34m35040\u001b[39m \u001b[1mColumns: \u001b[22m\u001b[34m10\u001b[39m\n",
      "\u001b[36m──\u001b[39m \u001b[1mColumn specification\u001b[22m \u001b[36m────────────────────────────────────────────────────────\u001b[39m\n",
      "\u001b[1mDelimiter:\u001b[22m \",\"\n",
      "\u001b[31mchr\u001b[39m  (1): site_name\n",
      "\u001b[32mdbl\u001b[39m  (5): day_of_week, day_of_year, interval_of_day, avg_mph, total_volume\n",
      "\u001b[33mlgl\u001b[39m  (2): missing_speed, missing_volume\n",
      "\u001b[34mdttm\u001b[39m (1): timestamp\n",
      "\u001b[34mdate\u001b[39m (1): date\n",
      "\n",
      "\u001b[36mℹ\u001b[39m Use `spec()` to retrieve the full column specification for this data.\n",
      "\u001b[36mℹ\u001b[39m Specify the column types or set `show_col_types = FALSE` to quiet this message.\n",
      "\u001b[1mRows: \u001b[22m\u001b[34m35040\u001b[39m \u001b[1mColumns: \u001b[22m\u001b[34m10\u001b[39m\n",
      "\u001b[36m──\u001b[39m \u001b[1mColumn specification\u001b[22m \u001b[36m────────────────────────────────────────────────────────\u001b[39m\n",
      "\u001b[1mDelimiter:\u001b[22m \",\"\n",
      "\u001b[31mchr\u001b[39m  (1): site_name\n",
      "\u001b[32mdbl\u001b[39m  (5): day_of_week, day_of_year, interval_of_day, avg_mph, total_volume\n",
      "\u001b[33mlgl\u001b[39m  (2): missing_speed, missing_volume\n",
      "\u001b[34mdttm\u001b[39m (1): timestamp\n",
      "\u001b[34mdate\u001b[39m (1): date\n",
      "\n",
      "\u001b[36mℹ\u001b[39m Use `spec()` to retrieve the full column specification for this data.\n",
      "\u001b[36mℹ\u001b[39m Specify the column types or set `show_col_types = FALSE` to quiet this message.\n",
      "\u001b[1mRows: \u001b[22m\u001b[34m35040\u001b[39m \u001b[1mColumns: \u001b[22m\u001b[34m10\u001b[39m\n",
      "\u001b[36m──\u001b[39m \u001b[1mColumn specification\u001b[22m \u001b[36m────────────────────────────────────────────────────────\u001b[39m\n",
      "\u001b[1mDelimiter:\u001b[22m \",\"\n",
      "\u001b[31mchr\u001b[39m  (1): site_name\n",
      "\u001b[32mdbl\u001b[39m  (5): day_of_week, day_of_year, interval_of_day, avg_mph, total_volume\n",
      "\u001b[33mlgl\u001b[39m  (2): missing_speed, missing_volume\n",
      "\u001b[34mdttm\u001b[39m (1): timestamp\n",
      "\u001b[34mdate\u001b[39m (1): date\n",
      "\n",
      "\u001b[36mℹ\u001b[39m Use `spec()` to retrieve the full column specification for this data.\n",
      "\u001b[36mℹ\u001b[39m Specify the column types or set `show_col_types = FALSE` to quiet this message.\n",
      "\u001b[1mRows: \u001b[22m\u001b[34m35040\u001b[39m \u001b[1mColumns: \u001b[22m\u001b[34m10\u001b[39m\n",
      "\u001b[36m──\u001b[39m \u001b[1mColumn specification\u001b[22m \u001b[36m────────────────────────────────────────────────────────\u001b[39m\n",
      "\u001b[1mDelimiter:\u001b[22m \",\"\n",
      "\u001b[31mchr\u001b[39m  (1): site_name\n",
      "\u001b[32mdbl\u001b[39m  (5): day_of_week, day_of_year, interval_of_day, avg_mph, total_volume\n",
      "\u001b[33mlgl\u001b[39m  (2): missing_speed, missing_volume\n",
      "\u001b[34mdttm\u001b[39m (1): timestamp\n",
      "\u001b[34mdate\u001b[39m (1): date\n",
      "\n",
      "\u001b[36mℹ\u001b[39m Use `spec()` to retrieve the full column specification for this data.\n",
      "\u001b[36mℹ\u001b[39m Specify the column types or set `show_col_types = FALSE` to quiet this message.\n",
      "\u001b[1mRows: \u001b[22m\u001b[34m35040\u001b[39m \u001b[1mColumns: \u001b[22m\u001b[34m10\u001b[39m\n",
      "\u001b[36m──\u001b[39m \u001b[1mColumn specification\u001b[22m \u001b[36m────────────────────────────────────────────────────────\u001b[39m\n",
      "\u001b[1mDelimiter:\u001b[22m \",\"\n",
      "\u001b[31mchr\u001b[39m  (1): site_name\n",
      "\u001b[32mdbl\u001b[39m  (5): day_of_week, day_of_year, interval_of_day, avg_mph, total_volume\n",
      "\u001b[33mlgl\u001b[39m  (2): missing_speed, missing_volume\n",
      "\u001b[34mdttm\u001b[39m (1): timestamp\n",
      "\u001b[34mdate\u001b[39m (1): date\n",
      "\n",
      "\u001b[36mℹ\u001b[39m Use `spec()` to retrieve the full column specification for this data.\n",
      "\u001b[36mℹ\u001b[39m Specify the column types or set `show_col_types = FALSE` to quiet this message.\n"
     ]
    },
    {
     "name": "stderr",
     "output_type": "stream",
     "text": [
      "\u001b[1mRows: \u001b[22m\u001b[34m35040\u001b[39m \u001b[1mColumns: \u001b[22m\u001b[34m10\u001b[39m\n",
      "\u001b[36m──\u001b[39m \u001b[1mColumn specification\u001b[22m \u001b[36m────────────────────────────────────────────────────────\u001b[39m\n",
      "\u001b[1mDelimiter:\u001b[22m \",\"\n",
      "\u001b[31mchr\u001b[39m  (1): site_name\n",
      "\u001b[32mdbl\u001b[39m  (5): day_of_week, day_of_year, interval_of_day, avg_mph, total_volume\n",
      "\u001b[33mlgl\u001b[39m  (2): missing_speed, missing_volume\n",
      "\u001b[34mdttm\u001b[39m (1): timestamp\n",
      "\u001b[34mdate\u001b[39m (1): date\n",
      "\n",
      "\u001b[36mℹ\u001b[39m Use `spec()` to retrieve the full column specification for this data.\n",
      "\u001b[36mℹ\u001b[39m Specify the column types or set `show_col_types = FALSE` to quiet this message.\n",
      "\u001b[1mRows: \u001b[22m\u001b[34m35040\u001b[39m \u001b[1mColumns: \u001b[22m\u001b[34m10\u001b[39m\n",
      "\u001b[36m──\u001b[39m \u001b[1mColumn specification\u001b[22m \u001b[36m────────────────────────────────────────────────────────\u001b[39m\n",
      "\u001b[1mDelimiter:\u001b[22m \",\"\n",
      "\u001b[31mchr\u001b[39m  (1): site_name\n",
      "\u001b[32mdbl\u001b[39m  (5): day_of_week, day_of_year, interval_of_day, avg_mph, total_volume\n",
      "\u001b[33mlgl\u001b[39m  (2): missing_speed, missing_volume\n",
      "\u001b[34mdttm\u001b[39m (1): timestamp\n",
      "\u001b[34mdate\u001b[39m (1): date\n",
      "\n",
      "\u001b[36mℹ\u001b[39m Use `spec()` to retrieve the full column specification for this data.\n",
      "\u001b[36mℹ\u001b[39m Specify the column types or set `show_col_types = FALSE` to quiet this message.\n",
      "\u001b[1mRows: \u001b[22m\u001b[34m35040\u001b[39m \u001b[1mColumns: \u001b[22m\u001b[34m10\u001b[39m\n",
      "\u001b[36m──\u001b[39m \u001b[1mColumn specification\u001b[22m \u001b[36m────────────────────────────────────────────────────────\u001b[39m\n",
      "\u001b[1mDelimiter:\u001b[22m \",\"\n",
      "\u001b[31mchr\u001b[39m  (1): site_name\n",
      "\u001b[32mdbl\u001b[39m  (5): day_of_week, day_of_year, interval_of_day, avg_mph, total_volume\n",
      "\u001b[33mlgl\u001b[39m  (2): missing_speed, missing_volume\n",
      "\u001b[34mdttm\u001b[39m (1): timestamp\n",
      "\u001b[34mdate\u001b[39m (1): date\n",
      "\n",
      "\u001b[36mℹ\u001b[39m Use `spec()` to retrieve the full column specification for this data.\n",
      "\u001b[36mℹ\u001b[39m Specify the column types or set `show_col_types = FALSE` to quiet this message.\n",
      "\u001b[1mRows: \u001b[22m\u001b[34m35040\u001b[39m \u001b[1mColumns: \u001b[22m\u001b[34m10\u001b[39m\n",
      "\u001b[36m──\u001b[39m \u001b[1mColumn specification\u001b[22m \u001b[36m────────────────────────────────────────────────────────\u001b[39m\n",
      "\u001b[1mDelimiter:\u001b[22m \",\"\n",
      "\u001b[31mchr\u001b[39m  (1): site_name\n",
      "\u001b[32mdbl\u001b[39m  (5): day_of_week, day_of_year, interval_of_day, avg_mph, total_volume\n",
      "\u001b[33mlgl\u001b[39m  (2): missing_speed, missing_volume\n",
      "\u001b[34mdttm\u001b[39m (1): timestamp\n",
      "\u001b[34mdate\u001b[39m (1): date\n",
      "\n",
      "\u001b[36mℹ\u001b[39m Use `spec()` to retrieve the full column specification for this data.\n",
      "\u001b[36mℹ\u001b[39m Specify the column types or set `show_col_types = FALSE` to quiet this message.\n",
      "\u001b[1mRows: \u001b[22m\u001b[34m35040\u001b[39m \u001b[1mColumns: \u001b[22m\u001b[34m10\u001b[39m\n",
      "\u001b[36m──\u001b[39m \u001b[1mColumn specification\u001b[22m \u001b[36m────────────────────────────────────────────────────────\u001b[39m\n",
      "\u001b[1mDelimiter:\u001b[22m \",\"\n",
      "\u001b[31mchr\u001b[39m  (1): site_name\n",
      "\u001b[32mdbl\u001b[39m  (5): day_of_week, day_of_year, interval_of_day, avg_mph, total_volume\n",
      "\u001b[33mlgl\u001b[39m  (2): missing_speed, missing_volume\n",
      "\u001b[34mdttm\u001b[39m (1): timestamp\n",
      "\u001b[34mdate\u001b[39m (1): date\n",
      "\n",
      "\u001b[36mℹ\u001b[39m Use `spec()` to retrieve the full column specification for this data.\n",
      "\u001b[36mℹ\u001b[39m Specify the column types or set `show_col_types = FALSE` to quiet this message.\n",
      "\u001b[1mRows: \u001b[22m\u001b[34m35040\u001b[39m \u001b[1mColumns: \u001b[22m\u001b[34m10\u001b[39m\n",
      "\u001b[36m──\u001b[39m \u001b[1mColumn specification\u001b[22m \u001b[36m────────────────────────────────────────────────────────\u001b[39m\n",
      "\u001b[1mDelimiter:\u001b[22m \",\"\n",
      "\u001b[31mchr\u001b[39m  (1): site_name\n",
      "\u001b[32mdbl\u001b[39m  (5): day_of_week, day_of_year, interval_of_day, avg_mph, total_volume\n",
      "\u001b[33mlgl\u001b[39m  (2): missing_speed, missing_volume\n",
      "\u001b[34mdttm\u001b[39m (1): timestamp\n",
      "\u001b[34mdate\u001b[39m (1): date\n",
      "\n",
      "\u001b[36mℹ\u001b[39m Use `spec()` to retrieve the full column specification for this data.\n",
      "\u001b[36mℹ\u001b[39m Specify the column types or set `show_col_types = FALSE` to quiet this message.\n",
      "\u001b[1mRows: \u001b[22m\u001b[34m35040\u001b[39m \u001b[1mColumns: \u001b[22m\u001b[34m10\u001b[39m\n",
      "\u001b[36m──\u001b[39m \u001b[1mColumn specification\u001b[22m \u001b[36m────────────────────────────────────────────────────────\u001b[39m\n",
      "\u001b[1mDelimiter:\u001b[22m \",\"\n",
      "\u001b[31mchr\u001b[39m  (1): site_name\n",
      "\u001b[32mdbl\u001b[39m  (5): day_of_week, day_of_year, interval_of_day, avg_mph, total_volume\n",
      "\u001b[33mlgl\u001b[39m  (2): missing_speed, missing_volume\n",
      "\u001b[34mdttm\u001b[39m (1): timestamp\n",
      "\u001b[34mdate\u001b[39m (1): date\n",
      "\n",
      "\u001b[36mℹ\u001b[39m Use `spec()` to retrieve the full column specification for this data.\n",
      "\u001b[36mℹ\u001b[39m Specify the column types or set `show_col_types = FALSE` to quiet this message.\n",
      "\u001b[1mRows: \u001b[22m\u001b[34m35040\u001b[39m \u001b[1mColumns: \u001b[22m\u001b[34m10\u001b[39m\n",
      "\u001b[36m──\u001b[39m \u001b[1mColumn specification\u001b[22m \u001b[36m────────────────────────────────────────────────────────\u001b[39m\n",
      "\u001b[1mDelimiter:\u001b[22m \",\"\n",
      "\u001b[31mchr\u001b[39m  (1): site_name\n",
      "\u001b[32mdbl\u001b[39m  (5): day_of_week, day_of_year, interval_of_day, avg_mph, total_volume\n",
      "\u001b[33mlgl\u001b[39m  (2): missing_speed, missing_volume\n",
      "\u001b[34mdttm\u001b[39m (1): timestamp\n",
      "\u001b[34mdate\u001b[39m (1): date\n",
      "\n",
      "\u001b[36mℹ\u001b[39m Use `spec()` to retrieve the full column specification for this data.\n",
      "\u001b[36mℹ\u001b[39m Specify the column types or set `show_col_types = FALSE` to quiet this message.\n",
      "\u001b[1mRows: \u001b[22m\u001b[34m35040\u001b[39m \u001b[1mColumns: \u001b[22m\u001b[34m10\u001b[39m\n",
      "\u001b[36m──\u001b[39m \u001b[1mColumn specification\u001b[22m \u001b[36m────────────────────────────────────────────────────────\u001b[39m\n",
      "\u001b[1mDelimiter:\u001b[22m \",\"\n",
      "\u001b[31mchr\u001b[39m  (1): site_name\n",
      "\u001b[32mdbl\u001b[39m  (5): day_of_week, day_of_year, interval_of_day, avg_mph, total_volume\n",
      "\u001b[33mlgl\u001b[39m  (2): missing_speed, missing_volume\n",
      "\u001b[34mdttm\u001b[39m (1): timestamp\n",
      "\u001b[34mdate\u001b[39m (1): date\n",
      "\n",
      "\u001b[36mℹ\u001b[39m Use `spec()` to retrieve the full column specification for this data.\n",
      "\u001b[36mℹ\u001b[39m Specify the column types or set `show_col_types = FALSE` to quiet this message.\n",
      "\u001b[1mRows: \u001b[22m\u001b[34m35040\u001b[39m \u001b[1mColumns: \u001b[22m\u001b[34m10\u001b[39m\n",
      "\u001b[36m──\u001b[39m \u001b[1mColumn specification\u001b[22m \u001b[36m────────────────────────────────────────────────────────\u001b[39m\n",
      "\u001b[1mDelimiter:\u001b[22m \",\"\n",
      "\u001b[31mchr\u001b[39m  (1): site_name\n",
      "\u001b[32mdbl\u001b[39m  (5): day_of_week, day_of_year, interval_of_day, avg_mph, total_volume\n",
      "\u001b[33mlgl\u001b[39m  (2): missing_speed, missing_volume\n",
      "\u001b[34mdttm\u001b[39m (1): timestamp\n",
      "\u001b[34mdate\u001b[39m (1): date\n",
      "\n",
      "\u001b[36mℹ\u001b[39m Use `spec()` to retrieve the full column specification for this data.\n",
      "\u001b[36mℹ\u001b[39m Specify the column types or set `show_col_types = FALSE` to quiet this message.\n",
      "\u001b[1mRows: \u001b[22m\u001b[34m35040\u001b[39m \u001b[1mColumns: \u001b[22m\u001b[34m10\u001b[39m\n",
      "\u001b[36m──\u001b[39m \u001b[1mColumn specification\u001b[22m \u001b[36m────────────────────────────────────────────────────────\u001b[39m\n",
      "\u001b[1mDelimiter:\u001b[22m \",\"\n",
      "\u001b[31mchr\u001b[39m  (1): site_name\n",
      "\u001b[32mdbl\u001b[39m  (5): day_of_week, day_of_year, interval_of_day, avg_mph, total_volume\n",
      "\u001b[33mlgl\u001b[39m  (2): missing_speed, missing_volume\n",
      "\u001b[34mdttm\u001b[39m (1): timestamp\n",
      "\u001b[34mdate\u001b[39m (1): date\n",
      "\n",
      "\u001b[36mℹ\u001b[39m Use `spec()` to retrieve the full column specification for this data.\n",
      "\u001b[36mℹ\u001b[39m Specify the column types or set `show_col_types = FALSE` to quiet this message.\n",
      "\u001b[1mRows: \u001b[22m\u001b[34m35040\u001b[39m \u001b[1mColumns: \u001b[22m\u001b[34m10\u001b[39m\n",
      "\u001b[36m──\u001b[39m \u001b[1mColumn specification\u001b[22m \u001b[36m────────────────────────────────────────────────────────\u001b[39m\n",
      "\u001b[1mDelimiter:\u001b[22m \",\"\n",
      "\u001b[31mchr\u001b[39m  (1): site_name\n",
      "\u001b[32mdbl\u001b[39m  (5): day_of_week, day_of_year, interval_of_day, avg_mph, total_volume\n",
      "\u001b[33mlgl\u001b[39m  (2): missing_speed, missing_volume\n",
      "\u001b[34mdttm\u001b[39m (1): timestamp\n",
      "\u001b[34mdate\u001b[39m (1): date\n",
      "\n",
      "\u001b[36mℹ\u001b[39m Use `spec()` to retrieve the full column specification for this data.\n",
      "\u001b[36mℹ\u001b[39m Specify the column types or set `show_col_types = FALSE` to quiet this message.\n",
      "\u001b[1mRows: \u001b[22m\u001b[34m35040\u001b[39m \u001b[1mColumns: \u001b[22m\u001b[34m10\u001b[39m\n",
      "\u001b[36m──\u001b[39m \u001b[1mColumn specification\u001b[22m \u001b[36m────────────────────────────────────────────────────────\u001b[39m\n",
      "\u001b[1mDelimiter:\u001b[22m \",\"\n",
      "\u001b[31mchr\u001b[39m  (1): site_name\n",
      "\u001b[32mdbl\u001b[39m  (5): day_of_week, day_of_year, interval_of_day, avg_mph, total_volume\n",
      "\u001b[33mlgl\u001b[39m  (2): missing_speed, missing_volume\n",
      "\u001b[34mdttm\u001b[39m (1): timestamp\n",
      "\u001b[34mdate\u001b[39m (1): date\n",
      "\n",
      "\u001b[36mℹ\u001b[39m Use `spec()` to retrieve the full column specification for this data.\n",
      "\u001b[36mℹ\u001b[39m Specify the column types or set `show_col_types = FALSE` to quiet this message.\n",
      "\u001b[1mRows: \u001b[22m\u001b[34m35040\u001b[39m \u001b[1mColumns: \u001b[22m\u001b[34m10\u001b[39m\n",
      "\u001b[36m──\u001b[39m \u001b[1mColumn specification\u001b[22m \u001b[36m────────────────────────────────────────────────────────\u001b[39m\n",
      "\u001b[1mDelimiter:\u001b[22m \",\"\n",
      "\u001b[31mchr\u001b[39m  (1): site_name\n",
      "\u001b[32mdbl\u001b[39m  (5): day_of_week, day_of_year, interval_of_day, avg_mph, total_volume\n",
      "\u001b[33mlgl\u001b[39m  (2): missing_speed, missing_volume\n",
      "\u001b[34mdttm\u001b[39m (1): timestamp\n",
      "\u001b[34mdate\u001b[39m (1): date\n",
      "\n",
      "\u001b[36mℹ\u001b[39m Use `spec()` to retrieve the full column specification for this data.\n",
      "\u001b[36mℹ\u001b[39m Specify the column types or set `show_col_types = FALSE` to quiet this message.\n"
     ]
    },
    {
     "name": "stderr",
     "output_type": "stream",
     "text": [
      "\u001b[1mRows: \u001b[22m\u001b[34m35040\u001b[39m \u001b[1mColumns: \u001b[22m\u001b[34m10\u001b[39m\n",
      "\u001b[36m──\u001b[39m \u001b[1mColumn specification\u001b[22m \u001b[36m────────────────────────────────────────────────────────\u001b[39m\n",
      "\u001b[1mDelimiter:\u001b[22m \",\"\n",
      "\u001b[31mchr\u001b[39m  (1): site_name\n",
      "\u001b[32mdbl\u001b[39m  (5): day_of_week, day_of_year, interval_of_day, avg_mph, total_volume\n",
      "\u001b[33mlgl\u001b[39m  (2): missing_speed, missing_volume\n",
      "\u001b[34mdttm\u001b[39m (1): timestamp\n",
      "\u001b[34mdate\u001b[39m (1): date\n",
      "\n",
      "\u001b[36mℹ\u001b[39m Use `spec()` to retrieve the full column specification for this data.\n",
      "\u001b[36mℹ\u001b[39m Specify the column types or set `show_col_types = FALSE` to quiet this message.\n",
      "\u001b[1mRows: \u001b[22m\u001b[34m35040\u001b[39m \u001b[1mColumns: \u001b[22m\u001b[34m10\u001b[39m\n",
      "\u001b[36m──\u001b[39m \u001b[1mColumn specification\u001b[22m \u001b[36m────────────────────────────────────────────────────────\u001b[39m\n",
      "\u001b[1mDelimiter:\u001b[22m \",\"\n",
      "\u001b[31mchr\u001b[39m  (1): site_name\n",
      "\u001b[32mdbl\u001b[39m  (5): day_of_week, day_of_year, interval_of_day, avg_mph, total_volume\n",
      "\u001b[33mlgl\u001b[39m  (2): missing_speed, missing_volume\n",
      "\u001b[34mdttm\u001b[39m (1): timestamp\n",
      "\u001b[34mdate\u001b[39m (1): date\n",
      "\n",
      "\u001b[36mℹ\u001b[39m Use `spec()` to retrieve the full column specification for this data.\n",
      "\u001b[36mℹ\u001b[39m Specify the column types or set `show_col_types = FALSE` to quiet this message.\n",
      "\u001b[1mRows: \u001b[22m\u001b[34m35040\u001b[39m \u001b[1mColumns: \u001b[22m\u001b[34m10\u001b[39m\n",
      "\u001b[36m──\u001b[39m \u001b[1mColumn specification\u001b[22m \u001b[36m────────────────────────────────────────────────────────\u001b[39m\n",
      "\u001b[1mDelimiter:\u001b[22m \",\"\n",
      "\u001b[31mchr\u001b[39m  (1): site_name\n",
      "\u001b[32mdbl\u001b[39m  (5): day_of_week, day_of_year, interval_of_day, avg_mph, total_volume\n",
      "\u001b[33mlgl\u001b[39m  (2): missing_speed, missing_volume\n",
      "\u001b[34mdttm\u001b[39m (1): timestamp\n",
      "\u001b[34mdate\u001b[39m (1): date\n",
      "\n",
      "\u001b[36mℹ\u001b[39m Use `spec()` to retrieve the full column specification for this data.\n",
      "\u001b[36mℹ\u001b[39m Specify the column types or set `show_col_types = FALSE` to quiet this message.\n",
      "\u001b[1mRows: \u001b[22m\u001b[34m35040\u001b[39m \u001b[1mColumns: \u001b[22m\u001b[34m10\u001b[39m\n",
      "\u001b[36m──\u001b[39m \u001b[1mColumn specification\u001b[22m \u001b[36m────────────────────────────────────────────────────────\u001b[39m\n",
      "\u001b[1mDelimiter:\u001b[22m \",\"\n",
      "\u001b[31mchr\u001b[39m  (1): site_name\n",
      "\u001b[32mdbl\u001b[39m  (5): day_of_week, day_of_year, interval_of_day, avg_mph, total_volume\n",
      "\u001b[33mlgl\u001b[39m  (2): missing_speed, missing_volume\n",
      "\u001b[34mdttm\u001b[39m (1): timestamp\n",
      "\u001b[34mdate\u001b[39m (1): date\n",
      "\n",
      "\u001b[36mℹ\u001b[39m Use `spec()` to retrieve the full column specification for this data.\n",
      "\u001b[36mℹ\u001b[39m Specify the column types or set `show_col_types = FALSE` to quiet this message.\n",
      "\u001b[1mRows: \u001b[22m\u001b[34m35040\u001b[39m \u001b[1mColumns: \u001b[22m\u001b[34m10\u001b[39m\n",
      "\u001b[36m──\u001b[39m \u001b[1mColumn specification\u001b[22m \u001b[36m────────────────────────────────────────────────────────\u001b[39m\n",
      "\u001b[1mDelimiter:\u001b[22m \",\"\n",
      "\u001b[31mchr\u001b[39m  (1): site_name\n",
      "\u001b[32mdbl\u001b[39m  (5): day_of_week, day_of_year, interval_of_day, avg_mph, total_volume\n",
      "\u001b[33mlgl\u001b[39m  (2): missing_speed, missing_volume\n",
      "\u001b[34mdttm\u001b[39m (1): timestamp\n",
      "\u001b[34mdate\u001b[39m (1): date\n",
      "\n",
      "\u001b[36mℹ\u001b[39m Use `spec()` to retrieve the full column specification for this data.\n",
      "\u001b[36mℹ\u001b[39m Specify the column types or set `show_col_types = FALSE` to quiet this message.\n",
      "\u001b[1mRows: \u001b[22m\u001b[34m35040\u001b[39m \u001b[1mColumns: \u001b[22m\u001b[34m10\u001b[39m\n",
      "\u001b[36m──\u001b[39m \u001b[1mColumn specification\u001b[22m \u001b[36m────────────────────────────────────────────────────────\u001b[39m\n",
      "\u001b[1mDelimiter:\u001b[22m \",\"\n",
      "\u001b[31mchr\u001b[39m  (1): site_name\n",
      "\u001b[32mdbl\u001b[39m  (5): day_of_week, day_of_year, interval_of_day, avg_mph, total_volume\n",
      "\u001b[33mlgl\u001b[39m  (2): missing_speed, missing_volume\n",
      "\u001b[34mdttm\u001b[39m (1): timestamp\n",
      "\u001b[34mdate\u001b[39m (1): date\n",
      "\n",
      "\u001b[36mℹ\u001b[39m Use `spec()` to retrieve the full column specification for this data.\n",
      "\u001b[36mℹ\u001b[39m Specify the column types or set `show_col_types = FALSE` to quiet this message.\n",
      "\u001b[1mRows: \u001b[22m\u001b[34m35040\u001b[39m \u001b[1mColumns: \u001b[22m\u001b[34m10\u001b[39m\n",
      "\u001b[36m──\u001b[39m \u001b[1mColumn specification\u001b[22m \u001b[36m────────────────────────────────────────────────────────\u001b[39m\n",
      "\u001b[1mDelimiter:\u001b[22m \",\"\n",
      "\u001b[31mchr\u001b[39m  (1): site_name\n",
      "\u001b[32mdbl\u001b[39m  (5): day_of_week, day_of_year, interval_of_day, avg_mph, total_volume\n",
      "\u001b[33mlgl\u001b[39m  (2): missing_speed, missing_volume\n",
      "\u001b[34mdttm\u001b[39m (1): timestamp\n",
      "\u001b[34mdate\u001b[39m (1): date\n",
      "\n",
      "\u001b[36mℹ\u001b[39m Use `spec()` to retrieve the full column specification for this data.\n",
      "\u001b[36mℹ\u001b[39m Specify the column types or set `show_col_types = FALSE` to quiet this message.\n",
      "\u001b[1mRows: \u001b[22m\u001b[34m35040\u001b[39m \u001b[1mColumns: \u001b[22m\u001b[34m10\u001b[39m\n",
      "\u001b[36m──\u001b[39m \u001b[1mColumn specification\u001b[22m \u001b[36m────────────────────────────────────────────────────────\u001b[39m\n",
      "\u001b[1mDelimiter:\u001b[22m \",\"\n",
      "\u001b[31mchr\u001b[39m  (1): site_name\n",
      "\u001b[32mdbl\u001b[39m  (5): day_of_week, day_of_year, interval_of_day, avg_mph, total_volume\n",
      "\u001b[33mlgl\u001b[39m  (2): missing_speed, missing_volume\n",
      "\u001b[34mdttm\u001b[39m (1): timestamp\n",
      "\u001b[34mdate\u001b[39m (1): date\n",
      "\n",
      "\u001b[36mℹ\u001b[39m Use `spec()` to retrieve the full column specification for this data.\n",
      "\u001b[36mℹ\u001b[39m Specify the column types or set `show_col_types = FALSE` to quiet this message.\n",
      "\u001b[1mRows: \u001b[22m\u001b[34m35040\u001b[39m \u001b[1mColumns: \u001b[22m\u001b[34m10\u001b[39m\n",
      "\u001b[36m──\u001b[39m \u001b[1mColumn specification\u001b[22m \u001b[36m────────────────────────────────────────────────────────\u001b[39m\n",
      "\u001b[1mDelimiter:\u001b[22m \",\"\n",
      "\u001b[31mchr\u001b[39m  (1): site_name\n",
      "\u001b[32mdbl\u001b[39m  (5): day_of_week, day_of_year, interval_of_day, avg_mph, total_volume\n",
      "\u001b[33mlgl\u001b[39m  (2): missing_speed, missing_volume\n",
      "\u001b[34mdttm\u001b[39m (1): timestamp\n",
      "\u001b[34mdate\u001b[39m (1): date\n",
      "\n",
      "\u001b[36mℹ\u001b[39m Use `spec()` to retrieve the full column specification for this data.\n",
      "\u001b[36mℹ\u001b[39m Specify the column types or set `show_col_types = FALSE` to quiet this message.\n",
      "\u001b[1mRows: \u001b[22m\u001b[34m35040\u001b[39m \u001b[1mColumns: \u001b[22m\u001b[34m10\u001b[39m\n",
      "\u001b[36m──\u001b[39m \u001b[1mColumn specification\u001b[22m \u001b[36m────────────────────────────────────────────────────────\u001b[39m\n",
      "\u001b[1mDelimiter:\u001b[22m \",\"\n",
      "\u001b[31mchr\u001b[39m  (1): site_name\n",
      "\u001b[32mdbl\u001b[39m  (5): day_of_week, day_of_year, interval_of_day, avg_mph, total_volume\n",
      "\u001b[33mlgl\u001b[39m  (2): missing_speed, missing_volume\n",
      "\u001b[34mdttm\u001b[39m (1): timestamp\n",
      "\u001b[34mdate\u001b[39m (1): date\n",
      "\n",
      "\u001b[36mℹ\u001b[39m Use `spec()` to retrieve the full column specification for this data.\n",
      "\u001b[36mℹ\u001b[39m Specify the column types or set `show_col_types = FALSE` to quiet this message.\n",
      "\u001b[1mRows: \u001b[22m\u001b[34m35040\u001b[39m \u001b[1mColumns: \u001b[22m\u001b[34m10\u001b[39m\n",
      "\u001b[36m──\u001b[39m \u001b[1mColumn specification\u001b[22m \u001b[36m────────────────────────────────────────────────────────\u001b[39m\n",
      "\u001b[1mDelimiter:\u001b[22m \",\"\n",
      "\u001b[31mchr\u001b[39m  (1): site_name\n",
      "\u001b[32mdbl\u001b[39m  (5): day_of_week, day_of_year, interval_of_day, avg_mph, total_volume\n",
      "\u001b[33mlgl\u001b[39m  (2): missing_speed, missing_volume\n",
      "\u001b[34mdttm\u001b[39m (1): timestamp\n",
      "\u001b[34mdate\u001b[39m (1): date\n",
      "\n",
      "\u001b[36mℹ\u001b[39m Use `spec()` to retrieve the full column specification for this data.\n",
      "\u001b[36mℹ\u001b[39m Specify the column types or set `show_col_types = FALSE` to quiet this message.\n",
      "\u001b[1mRows: \u001b[22m\u001b[34m35040\u001b[39m \u001b[1mColumns: \u001b[22m\u001b[34m10\u001b[39m\n",
      "\u001b[36m──\u001b[39m \u001b[1mColumn specification\u001b[22m \u001b[36m────────────────────────────────────────────────────────\u001b[39m\n",
      "\u001b[1mDelimiter:\u001b[22m \",\"\n",
      "\u001b[31mchr\u001b[39m  (1): site_name\n",
      "\u001b[32mdbl\u001b[39m  (5): day_of_week, day_of_year, interval_of_day, avg_mph, total_volume\n",
      "\u001b[33mlgl\u001b[39m  (2): missing_speed, missing_volume\n",
      "\u001b[34mdttm\u001b[39m (1): timestamp\n",
      "\u001b[34mdate\u001b[39m (1): date\n",
      "\n",
      "\u001b[36mℹ\u001b[39m Use `spec()` to retrieve the full column specification for this data.\n",
      "\u001b[36mℹ\u001b[39m Specify the column types or set `show_col_types = FALSE` to quiet this message.\n",
      "\u001b[1mRows: \u001b[22m\u001b[34m35040\u001b[39m \u001b[1mColumns: \u001b[22m\u001b[34m10\u001b[39m\n",
      "\u001b[36m──\u001b[39m \u001b[1mColumn specification\u001b[22m \u001b[36m────────────────────────────────────────────────────────\u001b[39m\n",
      "\u001b[1mDelimiter:\u001b[22m \",\"\n",
      "\u001b[31mchr\u001b[39m  (1): site_name\n",
      "\u001b[32mdbl\u001b[39m  (5): day_of_week, day_of_year, interval_of_day, avg_mph, total_volume\n",
      "\u001b[33mlgl\u001b[39m  (2): missing_speed, missing_volume\n",
      "\u001b[34mdttm\u001b[39m (1): timestamp\n",
      "\u001b[34mdate\u001b[39m (1): date\n",
      "\n",
      "\u001b[36mℹ\u001b[39m Use `spec()` to retrieve the full column specification for this data.\n",
      "\u001b[36mℹ\u001b[39m Specify the column types or set `show_col_types = FALSE` to quiet this message.\n",
      "\u001b[1mRows: \u001b[22m\u001b[34m35040\u001b[39m \u001b[1mColumns: \u001b[22m\u001b[34m10\u001b[39m\n",
      "\u001b[36m──\u001b[39m \u001b[1mColumn specification\u001b[22m \u001b[36m────────────────────────────────────────────────────────\u001b[39m\n",
      "\u001b[1mDelimiter:\u001b[22m \",\"\n",
      "\u001b[31mchr\u001b[39m  (1): site_name\n",
      "\u001b[32mdbl\u001b[39m  (5): day_of_week, day_of_year, interval_of_day, avg_mph, total_volume\n",
      "\u001b[33mlgl\u001b[39m  (2): missing_speed, missing_volume\n",
      "\u001b[34mdttm\u001b[39m (1): timestamp\n",
      "\u001b[34mdate\u001b[39m (1): date\n",
      "\n",
      "\u001b[36mℹ\u001b[39m Use `spec()` to retrieve the full column specification for this data.\n",
      "\u001b[36mℹ\u001b[39m Specify the column types or set `show_col_types = FALSE` to quiet this message.\n"
     ]
    },
    {
     "name": "stderr",
     "output_type": "stream",
     "text": [
      "\u001b[1mRows: \u001b[22m\u001b[34m35040\u001b[39m \u001b[1mColumns: \u001b[22m\u001b[34m10\u001b[39m\n",
      "\u001b[36m──\u001b[39m \u001b[1mColumn specification\u001b[22m \u001b[36m────────────────────────────────────────────────────────\u001b[39m\n",
      "\u001b[1mDelimiter:\u001b[22m \",\"\n",
      "\u001b[31mchr\u001b[39m  (1): site_name\n",
      "\u001b[32mdbl\u001b[39m  (5): day_of_week, day_of_year, interval_of_day, avg_mph, total_volume\n",
      "\u001b[33mlgl\u001b[39m  (2): missing_speed, missing_volume\n",
      "\u001b[34mdttm\u001b[39m (1): timestamp\n",
      "\u001b[34mdate\u001b[39m (1): date\n",
      "\n",
      "\u001b[36mℹ\u001b[39m Use `spec()` to retrieve the full column specification for this data.\n",
      "\u001b[36mℹ\u001b[39m Specify the column types or set `show_col_types = FALSE` to quiet this message.\n",
      "\u001b[1mRows: \u001b[22m\u001b[34m35040\u001b[39m \u001b[1mColumns: \u001b[22m\u001b[34m10\u001b[39m\n",
      "\u001b[36m──\u001b[39m \u001b[1mColumn specification\u001b[22m \u001b[36m────────────────────────────────────────────────────────\u001b[39m\n",
      "\u001b[1mDelimiter:\u001b[22m \",\"\n",
      "\u001b[31mchr\u001b[39m  (1): site_name\n",
      "\u001b[32mdbl\u001b[39m  (5): day_of_week, day_of_year, interval_of_day, avg_mph, total_volume\n",
      "\u001b[33mlgl\u001b[39m  (2): missing_speed, missing_volume\n",
      "\u001b[34mdttm\u001b[39m (1): timestamp\n",
      "\u001b[34mdate\u001b[39m (1): date\n",
      "\n",
      "\u001b[36mℹ\u001b[39m Use `spec()` to retrieve the full column specification for this data.\n",
      "\u001b[36mℹ\u001b[39m Specify the column types or set `show_col_types = FALSE` to quiet this message.\n",
      "\u001b[1mRows: \u001b[22m\u001b[34m35040\u001b[39m \u001b[1mColumns: \u001b[22m\u001b[34m10\u001b[39m\n",
      "\u001b[36m──\u001b[39m \u001b[1mColumn specification\u001b[22m \u001b[36m────────────────────────────────────────────────────────\u001b[39m\n",
      "\u001b[1mDelimiter:\u001b[22m \",\"\n",
      "\u001b[31mchr\u001b[39m  (1): site_name\n",
      "\u001b[32mdbl\u001b[39m  (5): day_of_week, day_of_year, interval_of_day, avg_mph, total_volume\n",
      "\u001b[33mlgl\u001b[39m  (2): missing_speed, missing_volume\n",
      "\u001b[34mdttm\u001b[39m (1): timestamp\n",
      "\u001b[34mdate\u001b[39m (1): date\n",
      "\n",
      "\u001b[36mℹ\u001b[39m Use `spec()` to retrieve the full column specification for this data.\n",
      "\u001b[36mℹ\u001b[39m Specify the column types or set `show_col_types = FALSE` to quiet this message.\n",
      "\u001b[1mRows: \u001b[22m\u001b[34m35040\u001b[39m \u001b[1mColumns: \u001b[22m\u001b[34m10\u001b[39m\n",
      "\u001b[36m──\u001b[39m \u001b[1mColumn specification\u001b[22m \u001b[36m────────────────────────────────────────────────────────\u001b[39m\n",
      "\u001b[1mDelimiter:\u001b[22m \",\"\n",
      "\u001b[31mchr\u001b[39m  (1): site_name\n",
      "\u001b[32mdbl\u001b[39m  (5): day_of_week, day_of_year, interval_of_day, avg_mph, total_volume\n",
      "\u001b[33mlgl\u001b[39m  (2): missing_speed, missing_volume\n",
      "\u001b[34mdttm\u001b[39m (1): timestamp\n",
      "\u001b[34mdate\u001b[39m (1): date\n",
      "\n",
      "\u001b[36mℹ\u001b[39m Use `spec()` to retrieve the full column specification for this data.\n",
      "\u001b[36mℹ\u001b[39m Specify the column types or set `show_col_types = FALSE` to quiet this message.\n",
      "\u001b[1mRows: \u001b[22m\u001b[34m35040\u001b[39m \u001b[1mColumns: \u001b[22m\u001b[34m10\u001b[39m\n",
      "\u001b[36m──\u001b[39m \u001b[1mColumn specification\u001b[22m \u001b[36m────────────────────────────────────────────────────────\u001b[39m\n",
      "\u001b[1mDelimiter:\u001b[22m \",\"\n",
      "\u001b[31mchr\u001b[39m  (1): site_name\n",
      "\u001b[32mdbl\u001b[39m  (5): day_of_week, day_of_year, interval_of_day, avg_mph, total_volume\n",
      "\u001b[33mlgl\u001b[39m  (2): missing_speed, missing_volume\n",
      "\u001b[34mdttm\u001b[39m (1): timestamp\n",
      "\u001b[34mdate\u001b[39m (1): date\n",
      "\n",
      "\u001b[36mℹ\u001b[39m Use `spec()` to retrieve the full column specification for this data.\n",
      "\u001b[36mℹ\u001b[39m Specify the column types or set `show_col_types = FALSE` to quiet this message.\n",
      "\u001b[1mRows: \u001b[22m\u001b[34m35040\u001b[39m \u001b[1mColumns: \u001b[22m\u001b[34m10\u001b[39m\n",
      "\u001b[36m──\u001b[39m \u001b[1mColumn specification\u001b[22m \u001b[36m────────────────────────────────────────────────────────\u001b[39m\n",
      "\u001b[1mDelimiter:\u001b[22m \",\"\n",
      "\u001b[31mchr\u001b[39m  (1): site_name\n",
      "\u001b[32mdbl\u001b[39m  (5): day_of_week, day_of_year, interval_of_day, avg_mph, total_volume\n",
      "\u001b[33mlgl\u001b[39m  (2): missing_speed, missing_volume\n",
      "\u001b[34mdttm\u001b[39m (1): timestamp\n",
      "\u001b[34mdate\u001b[39m (1): date\n",
      "\n",
      "\u001b[36mℹ\u001b[39m Use `spec()` to retrieve the full column specification for this data.\n",
      "\u001b[36mℹ\u001b[39m Specify the column types or set `show_col_types = FALSE` to quiet this message.\n"
     ]
    }
   ],
   "source": [
    "# Read in all files from the Data/Processed directory and create a list of data frames for each highway system\n",
    "england_fnames <- list.files(\"Data/Processed/Highways_England/\", pattern=\"*.csv\", full.names=TRUE)\n",
    "england_df_list <- lapply(england_fnames, read_csv)\n",
    "\n",
    "portland_fnames <- list.files(\"Data/Processed/Portland/\", pattern=\"*.csv\", full.names=TRUE)\n",
    "portland_df_list <- lapply(portland_fnames, read_csv)\n",
    "\n",
    "utah_fnames <- list.files(\"Data/Processed/Utah/\", pattern=\"*.csv\", full.names=TRUE)\n",
    "utah_df_list <- lapply(utah_fnames, read_csv)"
   ]
  },
  {
   "cell_type": "code",
   "execution_count": 5,
   "id": "af28a14e",
   "metadata": {},
   "outputs": [],
   "source": [
    "# Ensure that the rows in each data frame are in proper chronological order - this should have been taken care of\n",
    "# in a previous notebook, but it cannot hurt to make sure things are correct here as well\n",
    "england_df_list <- lapply(england_df_list, function(x) x %>% arrange(timestamp))\n",
    "portland_df_list <- lapply(portland_df_list, function(x) x %>% arrange(timestamp))\n",
    "utah_df_list <- lapply(utah_df_list, function(x) x %>% arrange(timestamp))    "
   ]
  },
  {
   "cell_type": "code",
   "execution_count": 6,
   "id": "e1d19c41",
   "metadata": {},
   "outputs": [],
   "source": [
    "# Create one list of all data frames\n",
    "total_df_list <- append(append(england_df_list, portland_df_list), utah_df_list)"
   ]
  },
  {
   "cell_type": "code",
   "execution_count": 7,
   "id": "8e2705ec",
   "metadata": {},
   "outputs": [],
   "source": [
    "# Randomly create a list of starting points from which we we sample each data frame\n",
    "\n",
    "# Set the seed\n",
    "set.seed(54321)\n",
    "\n",
    "# Sample without replacement as to ensure the starting time for each time series is different\n",
    "starting_points <- sample(1:((96*365)-(96*12*7)), \n",
    "                          length(total_df_list), \n",
    "                          replace=FALSE)\n",
    "\n",
    "# Create the ending points by adding on 12 weeks to the starting points\n",
    "ending_points <- starting_points + (96*7*12) - 1"
   ]
  },
  {
   "cell_type": "code",
   "execution_count": 8,
   "id": "b55a1cc8",
   "metadata": {},
   "outputs": [],
   "source": [
    "# Write the sample start/end points to a csv file for future use\n",
    "points_df <- data.frame(start=starting_points, end=ending_points)\n",
    "write.csv(points_df, 'start_end_points.csv', row.names=FALSE)"
   ]
  },
  {
   "cell_type": "code",
   "execution_count": 9,
   "id": "9fcf76a0",
   "metadata": {},
   "outputs": [],
   "source": [
    "# For each df in our list, create a row number column called 'rn' - this will allow us to find the starting point\n",
    "# for each sample using the above starting_points array\n",
    "total_df_list <- lapply(total_df_list, function(x) x %>% mutate(rn = row_number()))"
   ]
  },
  {
   "cell_type": "code",
   "execution_count": 10,
   "id": "b34d874d",
   "metadata": {},
   "outputs": [],
   "source": [
    "# Sample each df in the list according to its corresponding starting and ending point - this creates 12-week\n",
    "# long samples of each data frame which will be used for modeling and testing\n",
    "total_df_list_samples <- lapply(1:length(total_df_list), \n",
    "                                function(x) total_df_list[[x]] %>% \n",
    "                                    filter(rn >= starting_points[x]) %>%\n",
    "                                    filter(rn <= ending_points[x]))"
   ]
  },
  {
   "cell_type": "code",
   "execution_count": 11,
   "id": "3625b814",
   "metadata": {},
   "outputs": [],
   "source": [
    "# Add a new column to each data frame to denote whether each row should be part of the training set, validation set\n",
    "# or test set - the first 8 weeks are designated as train, the next 2 as val, and the final 2 as test. It may be \n",
    "# the case that train and val get used for training, depending on the modeling task\n",
    "total_df_list_samples <- lapply(total_df_list_samples, \n",
    "                                function(x) x %>% mutate(rn = row_number()) %>%\n",
    "                                    mutate(train_val_test = ifelse(rn <= (96*7*8), \n",
    "                                                                   \"train\", \n",
    "                                                                   ifelse(rn <= (96*7*10), \n",
    "                                                                          \"val\", \n",
    "                                                                          \"test\")))\n",
    "                                \n",
    "                               )"
   ]
  },
  {
   "cell_type": "code",
   "execution_count": 12,
   "id": "ee296005",
   "metadata": {},
   "outputs": [],
   "source": [
    "# Create a list of data frames which only have the training and validation rows of each df\n",
    "train_val_samples <- lapply(total_df_list_samples, function(x) x %>% filter(train_val_test != \"test\"))"
   ]
  },
  {
   "cell_type": "code",
   "execution_count": 13,
   "id": "0d6aeb6b",
   "metadata": {},
   "outputs": [],
   "source": [
    "# Create a list of data frames which only contain the test samples for each df\n",
    "test_samples <- lapply(total_df_list_samples, function(x) x %>% filter(train_val_test == \"test\"))"
   ]
  },
  {
   "cell_type": "code",
   "execution_count": 14,
   "id": "701b6cfd",
   "metadata": {},
   "outputs": [],
   "source": [
    "# Create a list of time series objects from the total_volume column of each data frame using the msts function\n",
    "# This function allows for time series with multiple seasonality, so we use both daily and weekly seasonal periods\n",
    "# Having time series objects instead of data frame columns is helpful for some tasks\n",
    "# Here, we create this list for the train_val samples list, next for the test samples\n",
    "train_val_samples_ts <- lapply(train_val_samples, \n",
    "                               function(x) msts(x$total_volume, seasonal.periods=c(24*4, 24*4*7)))"
   ]
  },
  {
   "cell_type": "code",
   "execution_count": 15,
   "id": "137403b2",
   "metadata": {},
   "outputs": [],
   "source": [
    "# Create a similar list for the test data\n",
    "test_samples_ts <- lapply(test_samples,\n",
    "                          function(x) msts(x$total_volume, seasonal.periods=c(24*4, 24*4*7)))"
   ]
  },
  {
   "cell_type": "markdown",
   "id": "fdd6575b",
   "metadata": {},
   "source": [
    "# ARIMA with Fourier Terms"
   ]
  },
  {
   "cell_type": "code",
   "execution_count": 16,
   "id": "9edf758e",
   "metadata": {},
   "outputs": [],
   "source": [
    "arima_w_fourier <- function(ts_train) { \n",
    "    # Function which takes in training time series object, creates Fourier terms for that ts,  \n",
    "    # and returns a model using auto.arima and fourier terms as regressors\n",
    "    \n",
    "    # Create Fourier terms with K=2 for both frequencies/seasonal periods\n",
    "    fourier_term_train <- fourier(ts_train, K=c(2,2))\n",
    "    \n",
    "    # Use auto.arima with default parameters and seasonal set to FALSE \n",
    "    # as the Fourier terms account for the seasonality\n",
    "    arima_model <- auto.arima(ts_train, xreg = fourier_term_train, seasonal = FALSE) \n",
    "    \n",
    "    # Return the model from auto.arim\n",
    "    arima_model\n",
    "}"
   ]
  },
  {
   "cell_type": "code",
   "execution_count": 27,
   "id": "8b0cf22a",
   "metadata": {},
   "outputs": [],
   "source": [
    "# Call the above arima_w_fourier function for each train_val sample in our data set\n",
    "# Because we are allowing auto.arime to choose the final modeling structure for each time series, we\n",
    "# are passing the full train and validation time series together. We could also manually compute the best\n",
    "# model structure by creating models on the training time frames and computing forecast accuracy on the validation\n",
    "# time frames. It would be an interesting avenue of future work to test whether this makes any difference \n",
    "# in terms of model performance on the final test sets\n",
    "arima_res <- lapply(1:length(train_val_samples_ts), \n",
    "                    function(x) arima_w_fourier(train_val_samples_ts[[x]]))"
   ]
  },
  {
   "cell_type": "code",
   "execution_count": 28,
   "id": "7c524f2a",
   "metadata": {},
   "outputs": [
    {
     "data": {
      "text/plain": [
       "[[1]]\n",
       "Series: ts_train \n",
       "Regression with ARIMA(5,0,2) errors \n",
       "\n",
       "Coefficients:\n",
       "         ar1      ar2     ar3     ar4      ar5      ma1     ma2  intercept\n",
       "      2.1629  -1.4528  0.1275  0.1893  -0.0571  -1.3374  0.6289   254.1495\n",
       "s.e.  0.0449   0.0758  0.0382  0.0368   0.0183   0.0430  0.0362     3.6324\n",
       "          S1-96     C1-96    S2-96     C2-96   S1-672   C1-672   S2-672\n",
       "      -116.5934  156.5264  39.4507  -64.8637  -7.8900  18.1517  16.6987\n",
       "s.e.     5.2674    5.2620   5.5492    5.5436   5.1423   5.1372   5.1504\n",
       "        C2-672\n",
       "      -24.4160\n",
       "s.e.    5.1453\n",
       "\n",
       "sigma^2 = 954.4:  log likelihood = -32581.97\n",
       "AIC=65197.94   AICc=65198.03   BIC=65313.75\n",
       "\n",
       "[[2]]\n",
       "Series: ts_train \n",
       "Regression with ARIMA(2,0,2) errors \n",
       "\n",
       "Coefficients:\n",
       "         ar1      ar2      ma1     ma2  intercept     S1-96     C1-96   S2-96\n",
       "      1.7889  -0.8335  -1.0928  0.3050   194.5906  152.7868  -27.9503  7.6994\n",
       "s.e.  0.0167   0.0145   0.0190  0.0141     1.6538    2.5016    2.5011  2.9966\n",
       "        C2-96    S1-672   C1-672  S2-672    C2-672\n",
       "      35.6481  -12.7397  -8.3027  3.3738  -20.9570\n",
       "s.e.   2.9952    2.3423   2.3420  2.3520    2.3517\n",
       "\n",
       "sigma^2 = 815.6:  log likelihood = -32054.64\n",
       "AIC=64137.28   AICc=64137.34   BIC=64232.66\n",
       "\n",
       "[[3]]\n",
       "Series: ts_train \n",
       "Regression with ARIMA(5,0,1) errors \n",
       "\n",
       "Coefficients:\n",
       "         ar1      ar2      ar3      ar4      ar5      ma1  intercept      S1-96\n",
       "      1.3672  -0.2826  -0.0365  -0.0304  -0.0800  -0.6719   203.7137  -176.3182\n",
       "s.e.  0.0341   0.0311   0.0220   0.0214   0.0149   0.0325     1.8567     2.8556\n",
       "        C1-96     S2-96    C2-96   S1-672   C1-672    S2-672   C2-672\n",
       "      63.3262  -28.5151  37.2941  24.1447  16.1943  -29.0253  -3.2202\n",
       "s.e.   2.8547    3.4877   3.4853   2.6306   2.6301    2.6444   2.6439\n",
       "\n",
       "sigma^2 = 838:  log likelihood = -32144.7\n",
       "AIC=64321.41   AICc=64321.49   BIC=64430.41\n",
       "\n",
       "[[4]]\n",
       "Series: ts_train \n",
       "Regression with ARIMA(2,0,2) errors \n",
       "\n",
       "Coefficients:\n",
       "         ar1     ar2      ma1     ma2  intercept     S1-96      C1-96    S2-96\n",
       "      1.7686  -0.815  -0.9105  0.2862   414.8726  183.0692  -304.6760  40.6741\n",
       "s.e.  0.0151   0.014   0.0178  0.0131     5.0162    7.4516     7.4465   8.4134\n",
       "          C2-96   S1-672    C1-672   S2-672    C2-672\n",
       "      -108.2788  10.2553  -35.0083  28.4225  -40.6005\n",
       "s.e.     8.4065   7.1034    7.0990   7.1252    7.1208\n",
       "\n",
       "sigma^2 = 2584:  log likelihood = -35930.39\n",
       "AIC=71888.77   AICc=71888.83   BIC=71984.15\n",
       "\n",
       "[[5]]\n",
       "Series: ts_train \n",
       "Regression with ARIMA(1,1,3) errors \n",
       "\n",
       "Coefficients:\n",
       "         ar1      ma1     ma2     ma3      S1-96     C1-96    S2-96    C2-96\n",
       "      0.4839  -0.6675  0.2339  0.0863  -347.2658  172.9365  16.7413  36.2973\n",
       "s.e.  0.0493   0.0502  0.0189  0.0169    14.8927   14.8950   7.2913   7.2923\n",
       "        S1-672    C1-672   S2-672   C2-672\n",
       "       34.5571  -23.7953  60.9504   8.1581\n",
       "s.e.  104.9791  104.9960  52.4645  52.4747\n",
       "\n",
       "sigma^2 = 2029:  log likelihood = -35111.45\n",
       "AIC=70248.91   AICc=70248.96   BIC=70337.47\n",
       "\n",
       "[[6]]\n",
       "Series: ts_train \n",
       "Regression with ARIMA(2,0,5) errors \n",
       "\n",
       "Coefficients:\n",
       "         ar1      ar2      ma1     ma2      ma3     ma4      ma5  intercept\n",
       "      1.7852  -0.8167  -1.0023  0.2506  -0.0145  0.0763  -0.0379   460.7551\n",
       "s.e.  0.0245   0.0217   0.0275  0.0175   0.0180  0.0175   0.0150     4.8029\n",
       "         S1-96     C1-96    S2-96    C2-96   S1-672   C1-672   S2-672   C2-672\n",
       "      -354.565  155.3995  16.8832  44.7943  -4.2424  42.8236  51.6351  36.8382\n",
       "s.e.     7.140    7.1326   7.5625   7.5546   6.8032   6.7968   6.8259   6.8195\n",
       "\n",
       "sigma^2 = 2082:  log likelihood = -35202.37\n",
       "AIC=70438.74   AICc=70438.83   BIC=70554.56\n"
      ]
     },
     "metadata": {},
     "output_type": "display_data"
    }
   ],
   "source": [
    "head(arima_res)"
   ]
  },
  {
   "cell_type": "code",
   "execution_count": 29,
   "id": "35577aaf",
   "metadata": {},
   "outputs": [],
   "source": [
    "# Save the ARIMA results to an R data file so they can be used later without having to re-run models\n",
    "saveRDS(arima_res, file=\"Results/Univariate/Auto Arima/auto_arima_models.RData\")"
   ]
  },
  {
   "cell_type": "code",
   "execution_count": 17,
   "id": "bc7fe4bc",
   "metadata": {},
   "outputs": [],
   "source": [
    "# Read in results from the above modeling\n",
    "arima_res <- readRDS(\"Results/Univariate/Auto Arima/auto_arima_models.RData\")"
   ]
  },
  {
   "cell_type": "code",
   "execution_count": 30,
   "id": "a1cbab41",
   "metadata": {},
   "outputs": [],
   "source": [
    "arima_w_fourier_predict <- function(ts_train, ts_test, model) {\n",
    "    # Function to make one-step ahead forecasts given a model, the data the model was trained on, and testing data\n",
    "    \n",
    "    # Create the fourier terms for training and testing sets\n",
    "    fourier_term_train <- fourier(ts_train, K=c(2,2))\n",
    "    fourier_term_test <- fourier(ts_train, K=c(2,2), h=length(ts_test))\n",
    "\n",
    "    # Make one-step ahead forecasts on the training data using the fitted function\n",
    "    train_preds <- fitted(model)\n",
    "    \n",
    "    # Compute the rmse and mae of the one-step ahead predictions on the training data\n",
    "    train_rmse <- rmse(ts_train, train_preds)\n",
    "    train_mae <- mae(ts_train, train_preds)\n",
    "    \n",
    "    # Create a \"test\" version of the model by adding in the test data and calling Arima with the full data set\n",
    "    # and the already constructed model\n",
    "    mod_test <- Arima(y=c(ts_train, ts_test), \n",
    "                      xreg=rbind(fourier_term_train,\n",
    "                                 fourier_term_test),\n",
    "                      model=model)\n",
    "    \n",
    "    # Compute test preds by calling fitted on the new model and eliminating the training preds component of the \n",
    "    # results\n",
    "    test_preds <- fitted(mod_test)[-c(1:length(ts_train))]\n",
    "    \n",
    "    # Compute the rmse and mae on the one-step ahead forecasts on the test data\n",
    "    test_rmse <- rmse(ts_test, test_preds)\n",
    "    test_mae <- mae(ts_test, test_preds)\n",
    "    \n",
    "    # Return a list of the rmse and mae for train and test sets, as well as the actual forecasts on the test data\n",
    "    return_list <- list(\"train_rmse\"=train_rmse, \"train_mae\"=train_mae,\n",
    "                        \"test_rmse\"=test_rmse, \"test_mae\"=test_mae, \"raw_forecasts\"=test_preds)\n",
    "}"
   ]
  },
  {
   "cell_type": "code",
   "execution_count": 31,
   "id": "09199321",
   "metadata": {},
   "outputs": [],
   "source": [
    "# Call the above function for each time series in our data set and its corresponding ARIMA model\n",
    "arima_perf <- lapply(1:length(test_samples_ts),\n",
    "                     function(x) arima_w_fourier_predict(train_val_samples_ts[[x]],\n",
    "                                                         test_samples_ts[[x]],\n",
    "                                                         arima_res[[x]])\n",
    "                    )"
   ]
  },
  {
   "cell_type": "code",
   "execution_count": 33,
   "id": "2aa11b2f",
   "metadata": {},
   "outputs": [],
   "source": [
    "# Create a data frame from the above results, with one column for each train and test rmse and mae\n",
    "arima_perf_df <- data.frame(train_rmse=unlist(lapply(arima_perf, function(x) x$train_rmse)),\n",
    "                            train_mae=unlist(lapply(arima_perf, function(x) x$train_mae)),\n",
    "                            test_rmse=unlist(lapply(arima_perf, function(x) x$test_rmse)),\n",
    "                            test_mae=unlist(lapply(arima_perf, function(x) x$test_mae)))"
   ]
  },
  {
   "cell_type": "code",
   "execution_count": 34,
   "id": "b9bbbf8d",
   "metadata": {},
   "outputs": [],
   "source": [
    "# Save the results to a CSV and an R data file\n",
    "write.csv(arima_perf_df, \"Results/Univariate/Auto Arima/auto_arima_performance.csv\", row.names=FALSE)\n",
    "saveRDS(arima_perf_df, file=\"Results/Univariate/Auto Arima/auto_arima_performance.RData\")"
   ]
  },
  {
   "cell_type": "code",
   "execution_count": 18,
   "id": "7a355fd8",
   "metadata": {},
   "outputs": [],
   "source": [
    "# Read in the results from the R data file\n",
    "arima_results <- readRDS(\"Results/Univariate/Auto Arima/auto_arima_performance.RData\")"
   ]
  },
  {
   "cell_type": "code",
   "execution_count": 19,
   "id": "a7bc9b5b",
   "metadata": {},
   "outputs": [
    {
     "data": {
      "text/html": [
       "35.192283766216"
      ],
      "text/latex": [
       "35.192283766216"
      ],
      "text/markdown": [
       "35.192283766216"
      ],
      "text/plain": [
       "[1] 35.19228"
      ]
     },
     "metadata": {},
     "output_type": "display_data"
    }
   ],
   "source": [
    "# In the next several cells, print and inspect the performance of each model on each time series, including\n",
    "# examining rmse, mae, and the normalized/standardized versions of each by first computing the mean of the time\n",
    "# series and scaling appropriately\n",
    "mean(arima_results$train_rmse)"
   ]
  },
  {
   "cell_type": "code",
   "execution_count": 20,
   "id": "74204933",
   "metadata": {},
   "outputs": [
    {
     "data": {
      "text/html": [
       "23.879109143043"
      ],
      "text/latex": [
       "23.879109143043"
      ],
      "text/markdown": [
       "23.879109143043"
      ],
      "text/plain": [
       "[1] 23.87911"
      ]
     },
     "metadata": {},
     "output_type": "display_data"
    }
   ],
   "source": [
    "mean(arima_results$train_mae)"
   ]
  },
  {
   "cell_type": "code",
   "execution_count": 21,
   "id": "66fc8cbe",
   "metadata": {},
   "outputs": [
    {
     "data": {
      "text/html": [
       "35.7221293080018"
      ],
      "text/latex": [
       "35.7221293080018"
      ],
      "text/markdown": [
       "35.7221293080018"
      ],
      "text/plain": [
       "[1] 35.72213"
      ]
     },
     "metadata": {},
     "output_type": "display_data"
    }
   ],
   "source": [
    "mean(arima_results$test_rmse)"
   ]
  },
  {
   "cell_type": "code",
   "execution_count": 22,
   "id": "189f2943",
   "metadata": {},
   "outputs": [
    {
     "data": {
      "text/html": [
       "24.2894293645729"
      ],
      "text/latex": [
       "24.2894293645729"
      ],
      "text/markdown": [
       "24.2894293645729"
      ],
      "text/plain": [
       "[1] 24.28943"
      ]
     },
     "metadata": {},
     "output_type": "display_data"
    }
   ],
   "source": [
    "mean(arima_results$test_mae)"
   ]
  },
  {
   "cell_type": "code",
   "execution_count": 23,
   "id": "b1047aeb",
   "metadata": {},
   "outputs": [],
   "source": [
    "# Compute means for scaling RMSE and MAE\n",
    "test_means <- unlist(lapply(test_samples_ts, mean))\n",
    "train_means <- unlist(lapply(train_val_samples_ts, mean))"
   ]
  },
  {
   "cell_type": "code",
   "execution_count": 24,
   "id": "efd0f450",
   "metadata": {},
   "outputs": [
    {
     "data": {
      "text/html": [
       "0.161563458307069"
      ],
      "text/latex": [
       "0.161563458307069"
      ],
      "text/markdown": [
       "0.161563458307069"
      ],
      "text/plain": [
       "[1] 0.1615635"
      ]
     },
     "metadata": {},
     "output_type": "display_data"
    }
   ],
   "source": [
    "mean(arima_results$train_rmse/train_means)"
   ]
  },
  {
   "cell_type": "code",
   "execution_count": 25,
   "id": "64bef34a",
   "metadata": {},
   "outputs": [
    {
     "data": {
      "text/html": [
       "0.110726725318333"
      ],
      "text/latex": [
       "0.110726725318333"
      ],
      "text/markdown": [
       "0.110726725318333"
      ],
      "text/plain": [
       "[1] 0.1107267"
      ]
     },
     "metadata": {},
     "output_type": "display_data"
    }
   ],
   "source": [
    "mean(arima_results$train_mae/train_means)"
   ]
  },
  {
   "cell_type": "code",
   "execution_count": 26,
   "id": "5c757caf",
   "metadata": {},
   "outputs": [
    {
     "data": {
      "text/html": [
       "0.159726603341635"
      ],
      "text/latex": [
       "0.159726603341635"
      ],
      "text/markdown": [
       "0.159726603341635"
      ],
      "text/plain": [
       "[1] 0.1597266"
      ]
     },
     "metadata": {},
     "output_type": "display_data"
    }
   ],
   "source": [
    "mean(arima_results$test_rmse/test_means)"
   ]
  },
  {
   "cell_type": "code",
   "execution_count": 27,
   "id": "6abd79f4",
   "metadata": {},
   "outputs": [
    {
     "data": {
      "text/html": [
       "0.10995052351241"
      ],
      "text/latex": [
       "0.10995052351241"
      ],
      "text/markdown": [
       "0.10995052351241"
      ],
      "text/plain": [
       "[1] 0.1099505"
      ]
     },
     "metadata": {},
     "output_type": "display_data"
    }
   ],
   "source": [
    "mean(arima_results$test_mae/test_means)"
   ]
  },
  {
   "cell_type": "code",
   "execution_count": 32,
   "id": "df3aed46",
   "metadata": {},
   "outputs": [],
   "source": [
    "# Create a list of just the one-step ahead forecasts for each test set\n",
    "arima_raw_forecasts <- lapply(1:length(arima_perf), \n",
    "                              function(x) data.frame(forecast=arima_perf[[x]]$raw_forecasts, ts_index=x))"
   ]
  },
  {
   "cell_type": "code",
   "execution_count": 33,
   "id": "083b4852",
   "metadata": {},
   "outputs": [],
   "source": [
    "# Take that list and turn it into a data frame\n",
    "arima_raw_forecasts_df <- do.call(\"rbind\", arima_raw_forecasts)"
   ]
  },
  {
   "cell_type": "code",
   "execution_count": 34,
   "id": "309256ec",
   "metadata": {},
   "outputs": [
    {
     "data": {
      "text/html": [
       "<table class=\"dataframe\">\n",
       "<caption>A data.frame: 6 × 2</caption>\n",
       "<thead>\n",
       "\t<tr><th></th><th scope=col>forecast</th><th scope=col>ts_index</th></tr>\n",
       "\t<tr><th></th><th scope=col>&lt;dbl&gt;</th><th scope=col>&lt;int&gt;</th></tr>\n",
       "</thead>\n",
       "<tbody>\n",
       "\t<tr><th scope=row>1</th><td>319.2737</td><td>1</td></tr>\n",
       "\t<tr><th scope=row>2</th><td>322.1082</td><td>1</td></tr>\n",
       "\t<tr><th scope=row>3</th><td>336.3362</td><td>1</td></tr>\n",
       "\t<tr><th scope=row>4</th><td>350.8188</td><td>1</td></tr>\n",
       "\t<tr><th scope=row>5</th><td>348.5756</td><td>1</td></tr>\n",
       "\t<tr><th scope=row>6</th><td>346.3648</td><td>1</td></tr>\n",
       "</tbody>\n",
       "</table>\n"
      ],
      "text/latex": [
       "A data.frame: 6 × 2\n",
       "\\begin{tabular}{r|ll}\n",
       "  & forecast & ts\\_index\\\\\n",
       "  & <dbl> & <int>\\\\\n",
       "\\hline\n",
       "\t1 & 319.2737 & 1\\\\\n",
       "\t2 & 322.1082 & 1\\\\\n",
       "\t3 & 336.3362 & 1\\\\\n",
       "\t4 & 350.8188 & 1\\\\\n",
       "\t5 & 348.5756 & 1\\\\\n",
       "\t6 & 346.3648 & 1\\\\\n",
       "\\end{tabular}\n"
      ],
      "text/markdown": [
       "\n",
       "A data.frame: 6 × 2\n",
       "\n",
       "| <!--/--> | forecast &lt;dbl&gt; | ts_index &lt;int&gt; |\n",
       "|---|---|---|\n",
       "| 1 | 319.2737 | 1 |\n",
       "| 2 | 322.1082 | 1 |\n",
       "| 3 | 336.3362 | 1 |\n",
       "| 4 | 350.8188 | 1 |\n",
       "| 5 | 348.5756 | 1 |\n",
       "| 6 | 346.3648 | 1 |\n",
       "\n"
      ],
      "text/plain": [
       "  forecast ts_index\n",
       "1 319.2737 1       \n",
       "2 322.1082 1       \n",
       "3 336.3362 1       \n",
       "4 350.8188 1       \n",
       "5 348.5756 1       \n",
       "6 346.3648 1       "
      ]
     },
     "metadata": {},
     "output_type": "display_data"
    }
   ],
   "source": [
    "# Print head of the df\n",
    "head(arima_raw_forecasts_df)"
   ]
  },
  {
   "cell_type": "code",
   "execution_count": 35,
   "id": "75d2a0d3",
   "metadata": {},
   "outputs": [
    {
     "data": {
      "text/html": [
       "102144"
      ],
      "text/latex": [
       "102144"
      ],
      "text/markdown": [
       "102144"
      ],
      "text/plain": [
       "[1] 102144"
      ]
     },
     "metadata": {},
     "output_type": "display_data"
    }
   ],
   "source": [
    "# Check df length - just a sanity check to make sure things look alright\n",
    "nrow(arima_raw_forecasts_df)"
   ]
  },
  {
   "cell_type": "code",
   "execution_count": null,
   "id": "ce454c61",
   "metadata": {},
   "outputs": [],
   "source": [
    "# Save the raw forecasts to a CSV file for future use\n",
    "write.csv(arima_raw_forecasts_df, \"Results/Univariate/Auto Arima/arima_raw_forecasts.csv\", row.names=FALSE)"
   ]
  },
  {
   "cell_type": "code",
   "execution_count": 36,
   "id": "2d1e897d",
   "metadata": {},
   "outputs": [
    {
     "name": "stderr",
     "output_type": "stream",
     "text": [
      "\u001b[1mRows: \u001b[22m\u001b[34m102144\u001b[39m \u001b[1mColumns: \u001b[22m\u001b[34m2\u001b[39m\n",
      "\u001b[36m──\u001b[39m \u001b[1mColumn specification\u001b[22m \u001b[36m────────────────────────────────────────────────────────\u001b[39m\n",
      "\u001b[1mDelimiter:\u001b[22m \",\"\n",
      "\u001b[32mdbl\u001b[39m (2): forecast, ts_index\n",
      "\n",
      "\u001b[36mℹ\u001b[39m Use `spec()` to retrieve the full column specification for this data.\n",
      "\u001b[36mℹ\u001b[39m Specify the column types or set `show_col_types = FALSE` to quiet this message.\n"
     ]
    }
   ],
   "source": [
    "# Read in the raw forecast results\n",
    "arima_raw_forecasts_df <- read_csv(\"Results/Univariate/Auto Arima/arima_raw_forecasts.csv\")"
   ]
  },
  {
   "cell_type": "code",
   "execution_count": 37,
   "id": "a0459717",
   "metadata": {
    "scrolled": true
   },
   "outputs": [],
   "source": [
    "bootstrap_pred_int <- function(predictions,\n",
    "                               residuals,\n",
    "                               n_boot,\n",
    "                               actuals=NULL\n",
    "                              ) \n",
    "{\n",
    "    # Function to compute prediction intervals using bootstrapping with model residuals\n",
    "    # function takes in the predicted values, the model residuals, the number of bootstrap samples to use,\n",
    "    # and an optional set of true values (used for computing prediction interval scores)\n",
    "    \n",
    "    # Intialize empty lists for the hi and lo components of the 80% nad 95% PIs\n",
    "    boot_lo_80 <- c()\n",
    "    boot_hi_80 <- c()\n",
    "    boot_lo_95 <- c()\n",
    "    boot_hi_95 <- c()\n",
    "\n",
    "    # Loop through every row in the predictions\n",
    "    for (i in 1:nrow(predictions)){\n",
    "        # Reset the seed to the loop counter - could make this more random, but this is for reproducibility\n",
    "        set.seed(i)\n",
    "        \n",
    "        # Sample with replacement from the residuals n_boot times\n",
    "        boot_samples <- sample(residuals, n_boot, replace=TRUE)\n",
    "        # Add the predicted value to each sample\n",
    "        boot_preds <- boot_samples + predictions$forecast[i]\n",
    "        \n",
    "        # Compute the PIs as the quantiles of these pred+boot values\n",
    "        boot_pred_lo_80 <- quantile(boot_preds, 0.1)\n",
    "        boot_pred_hi_80 <- quantile(boot_preds, 0.9)\n",
    "\n",
    "        boot_pred_lo_95 <- quantile(boot_preds, 0.025)\n",
    "        boot_pred_hi_95 <- quantile(boot_preds, 0.975)\n",
    "        \n",
    "        # Append the PI values to the lists\n",
    "        boot_lo_80 <- c(boot_lo_80, boot_pred_lo_80)\n",
    "        boot_hi_80 <- c(boot_hi_80, boot_pred_hi_80)\n",
    "\n",
    "        boot_lo_95 <- c(boot_lo_95, boot_pred_lo_95)\n",
    "        boot_hi_95 <- c(boot_hi_95, boot_pred_hi_95)        \n",
    "    }\n",
    "    \n",
    "    # Create a copy of the input df called predicitons\n",
    "    pred_w_boot_int_df <- predictions\n",
    "    \n",
    "    # Add columns to the df for the PIs\n",
    "    pred_w_boot_int_df$lo_80 <- boot_lo_80\n",
    "    pred_w_boot_int_df$hi_80 <- boot_hi_80\n",
    "    pred_w_boot_int_df$lo_95 <- boot_lo_95\n",
    "    pred_w_boot_int_df$hi_95 <- boot_hi_95\n",
    "    \n",
    "    # If the true values are included\n",
    "    if (!is.null(actuals)){\n",
    "        \n",
    "        # Add a column for the true values\n",
    "        pred_w_boot_int_df$true_values <- actuals\n",
    "        \n",
    "        # Compute the 80% and 95% interval scores and add them as columns in the df\n",
    "        pred_w_boot_int_df <- pred_w_boot_int_df %>%\n",
    "            mutate(int_score_80 = interval_score(true_values=true_values,\n",
    "                                                 lower=lo_80,\n",
    "                                                 upper=hi_80,\n",
    "                                                 interval_range=80,\n",
    "                                                 weigh=FALSE\n",
    "                                                )) %>% \n",
    "            mutate(int_score_95 = interval_score(true_values=true_values,\n",
    "                                                 lower=lo_95,\n",
    "                                                 upper=hi_95,\n",
    "                                                 interval_range=95,\n",
    "                                                 weigh=FALSE\n",
    "                                                ))\n",
    "    }\n",
    "    \n",
    "    # Return the final set of preds with PIs (and interval scores if applicable)\n",
    "    pred_w_boot_int_df\n",
    "    \n",
    "}"
   ]
  },
  {
   "cell_type": "code",
   "execution_count": 38,
   "id": "0d95fdf5",
   "metadata": {},
   "outputs": [],
   "source": [
    "# Set the number of bootstrap samples to use\n",
    "n_boot <- 1000"
   ]
  },
  {
   "cell_type": "code",
   "execution_count": 39,
   "id": "1180a652",
   "metadata": {},
   "outputs": [],
   "source": [
    "# Compute bootstrap PI for each model/ts\n",
    "bootstrap_pi <- lapply(1:length(arima_raw_forecasts), \n",
    "                      function(i) bootstrap_pred_int(arima_raw_forecasts[[i]], \n",
    "                                                     arima_res[[i]]$residuals, \n",
    "                                                     n_boot, \n",
    "                                                     test_samples_ts[[i]]))"
   ]
  },
  {
   "cell_type": "code",
   "execution_count": 40,
   "id": "9f853a9f",
   "metadata": {},
   "outputs": [
    {
     "data": {
      "text/html": [
       "128.978284473817"
      ],
      "text/latex": [
       "128.978284473817"
      ],
      "text/markdown": [
       "128.978284473817"
      ],
      "text/plain": [
       "[1] 128.9783"
      ]
     },
     "metadata": {},
     "output_type": "display_data"
    }
   ],
   "source": [
    "# Print the mean of the 80% PI scores\n",
    "mean(unlist(lapply(bootstrap_pi, function(x) mean(x$int_score_80))))"
   ]
  },
  {
   "cell_type": "code",
   "execution_count": 41,
   "id": "2a802515",
   "metadata": {},
   "outputs": [
    {
     "data": {
      "text/html": [
       "211.535316086033"
      ],
      "text/latex": [
       "211.535316086033"
      ],
      "text/markdown": [
       "211.535316086033"
      ],
      "text/plain": [
       "[1] 211.5353"
      ]
     },
     "metadata": {},
     "output_type": "display_data"
    }
   ],
   "source": [
    "# Print the mean of the 95% PI scores\n",
    "mean(unlist(lapply(bootstrap_pi, function(x) mean(x$int_score_95))))"
   ]
  },
  {
   "cell_type": "code",
   "execution_count": 45,
   "id": "207fb717",
   "metadata": {},
   "outputs": [
    {
     "data": {
      "text/html": [
       "0.58342035852832"
      ],
      "text/latex": [
       "0.58342035852832"
      ],
      "text/markdown": [
       "0.58342035852832"
      ],
      "text/plain": [
       "[1] 0.5834204"
      ]
     },
     "metadata": {},
     "output_type": "display_data"
    }
   ],
   "source": [
    "mean(unlist(lapply(bootstrap_pi, function(x) mean(x$int_score_80)))/test_means)"
   ]
  },
  {
   "cell_type": "code",
   "execution_count": 46,
   "id": "5b0d9241",
   "metadata": {},
   "outputs": [
    {
     "data": {
      "text/html": [
       "0.937893734522366"
      ],
      "text/latex": [
       "0.937893734522366"
      ],
      "text/markdown": [
       "0.937893734522366"
      ],
      "text/plain": [
       "[1] 0.9378937"
      ]
     },
     "metadata": {},
     "output_type": "display_data"
    }
   ],
   "source": [
    "mean(unlist(lapply(bootstrap_pi, function(x) mean(x$int_score_95)))/test_means)"
   ]
  },
  {
   "cell_type": "code",
   "execution_count": 64,
   "id": "023f848a",
   "metadata": {},
   "outputs": [],
   "source": [
    "# Save the bootstrap PIs to an RDS file\n",
    "saveRDS(bootstrap_pi, file=\"Results/Univariate/Auto Arima/auto_arima_bootstrap_pi.RData\")"
   ]
  },
  {
   "cell_type": "markdown",
   "id": "f7853425",
   "metadata": {},
   "source": [
    "# Naive Forecasts"
   ]
  },
  {
   "cell_type": "code",
   "execution_count": 47,
   "id": "6e33a27b",
   "metadata": {},
   "outputs": [],
   "source": [
    "naive_forec <- function(train_ts, test_ts, lag=1) {\n",
    "    # Function to make \"naive\" forecasts using a given lag, and then compute the accuracy metrics and residuals\n",
    "    \n",
    "    # Train forecasts are simply computed as the value at the time series lag steps ago\n",
    "    train_forec <- lag(train_ts, lag)\n",
    "    \n",
    "    # Compute the residuals on the train set, removing the first lag values because they will result in nulls\n",
    "    train_res <- train_ts[-c(1:lag)] - train_forec[-c(1:lag)]\n",
    "        \n",
    "    # Copmute the rmse and mae on the train set\n",
    "    train_rmse <- rmse(train_ts[-c(1:lag)], train_forec[-c(1:lag)])\n",
    "    train_mae <- mae(train_ts[-c(1:lag)], train_forec[-c(1:lag)])\n",
    "    \n",
    "    # Append the final time steps of the train and test data together\n",
    "    n <- length(train_ts)\n",
    "    n1 <- n-(lag-1)\n",
    "    train_test_data <- c(train_ts[n1:n], test_ts)\n",
    "    \n",
    "    # Compute test forecasts from this appended data set\n",
    "    test_forec <- lag(train_test_data, lag)\n",
    "    test_forec_final <- test_forec[-c(1:lag)]\n",
    "        \n",
    "    # Compute rmse and mae on the test data\n",
    "    test_rmse <- rmse(test_ts, test_forec_final)\n",
    "    test_mae <- mae(test_ts, test_forec_final)\n",
    "        \n",
    "    # Return a list which includes the rmse, mae for both train and test, the residuals on the train data,\n",
    "    # and the raw forecasts on the test data\n",
    "    return_list <- list(\"train_rmse\"=train_rmse, \"train_mae\"=train_mae, \"train_residuals\"=train_res,\n",
    "                        \"test_rmse\"=test_rmse, \"test_mae\"=test_mae, \"raw_forecasts\"=test_forec_final) \n",
    "\n",
    "}"
   ]
  },
  {
   "cell_type": "code",
   "execution_count": 48,
   "id": "3fa8bf10",
   "metadata": {},
   "outputs": [],
   "source": [
    "bootstrap_pred_int_naive <- function(predictions,\n",
    "                                     residuals,\n",
    "                                     n_boot,\n",
    "                                     actuals=NULL\n",
    "                                    ) \n",
    "{\n",
    "    # Function to compute prediction intervals using bootstrapping with model residuals\n",
    "    # function takes in the predicted values, the model residuals, the number of bootstrap samples to use,\n",
    "    # and an optional set of true values (used for computing prediction interval scores)\n",
    "    \n",
    "    # Intialize empty lists for the hi and lo components of the 80% nad 95% PIs\n",
    "    boot_lo_80 <- c()\n",
    "    boot_hi_80 <- c()\n",
    "    boot_lo_95 <- c()\n",
    "    boot_hi_95 <- c()\n",
    "\n",
    "    # Loop through every row in the predictions\n",
    "    for (i in 1:length(predictions)){\n",
    "        # Reset the seed to the loop counter - could make this more random, but this is for reproducibility\n",
    "        set.seed(i)\n",
    "        \n",
    "        # Sample with replacement from the residuals n_boot times\n",
    "        boot_samples <- sample(residuals, n_boot, replace=TRUE)\n",
    "        # Add the predicted value to each sample\n",
    "        boot_preds <- boot_samples + predictions[i]\n",
    "        \n",
    "        # Compute the PIs as the quantiles of these pred+boot values\n",
    "        boot_pred_lo_80 <- quantile(boot_preds, 0.1)\n",
    "        boot_pred_hi_80 <- quantile(boot_preds, 0.9)\n",
    "\n",
    "        boot_pred_lo_95 <- quantile(boot_preds, 0.025)\n",
    "        boot_pred_hi_95 <- quantile(boot_preds, 0.975)\n",
    "        \n",
    "        # Append the PI values to the lists\n",
    "        boot_lo_80 <- c(boot_lo_80, boot_pred_lo_80)\n",
    "        boot_hi_80 <- c(boot_hi_80, boot_pred_hi_80)\n",
    "\n",
    "        boot_lo_95 <- c(boot_lo_95, boot_pred_lo_95)\n",
    "        boot_hi_95 <- c(boot_hi_95, boot_pred_hi_95)        \n",
    "    }\n",
    "    \n",
    "    # Create a copy of the input df called predicitons\n",
    "    pred_w_boot_int_df <- data.frame(forecast=predictions)\n",
    "    \n",
    "    # Add columns to the df for the PIs\n",
    "    pred_w_boot_int_df$lo_80 <- boot_lo_80\n",
    "    pred_w_boot_int_df$hi_80 <- boot_hi_80\n",
    "    pred_w_boot_int_df$lo_95 <- boot_lo_95\n",
    "    pred_w_boot_int_df$hi_95 <- boot_hi_95\n",
    "    \n",
    "    # If the true values are included\n",
    "    if (!is.null(actuals)){\n",
    "        \n",
    "        # Add a column for the true values\n",
    "        pred_w_boot_int_df$true_values <- actuals\n",
    "        \n",
    "        # Compute the 80% and 95% interval scores and add them as columns in the df\n",
    "        pred_w_boot_int_df <- pred_w_boot_int_df %>%\n",
    "            mutate(int_score_80 = interval_score(true_values=true_values,\n",
    "                                                 lower=lo_80,\n",
    "                                                 upper=hi_80,\n",
    "                                                 interval_range=80,\n",
    "                                                 weigh=FALSE\n",
    "                                                )) %>% \n",
    "            mutate(int_score_95 = interval_score(true_values=true_values,\n",
    "                                                 lower=lo_95,\n",
    "                                                 upper=hi_95,\n",
    "                                                 interval_range=95,\n",
    "                                                 weigh=FALSE\n",
    "                                                ))\n",
    "    }\n",
    "    \n",
    "    # Return the final set of preds with PIs (and interval scores if applicable)\n",
    "    pred_w_boot_int_df\n",
    "    \n",
    "}"
   ]
  },
  {
   "cell_type": "markdown",
   "id": "bbff2e0a",
   "metadata": {},
   "source": [
    "## Simple Naive Forecast"
   ]
  },
  {
   "cell_type": "code",
   "execution_count": 49,
   "id": "81084904",
   "metadata": {},
   "outputs": [],
   "source": [
    "# Apply the above function to compute simple naive forecasts - that is, lag 1 naive forecasts\n",
    "simple_naive_forecasts <- lapply(1:length(train_val_samples),\n",
    "                                 function(x) naive_forec(train_val_samples[[x]]$total_volume,\n",
    "                                                         test_samples[[x]]$total_volume))"
   ]
  },
  {
   "cell_type": "code",
   "execution_count": 50,
   "id": "13f1cd84",
   "metadata": {},
   "outputs": [
    {
     "data": {
      "text/html": [
       "39.7706639371056"
      ],
      "text/latex": [
       "39.7706639371056"
      ],
      "text/markdown": [
       "39.7706639371056"
      ],
      "text/plain": [
       "[1] 39.77066"
      ]
     },
     "metadata": {},
     "output_type": "display_data"
    }
   ],
   "source": [
    "# Compute average performance across the data set\n",
    "mean(unlist(lapply(simple_naive_forecasts, function(x) x$test_rmse)))"
   ]
  },
  {
   "cell_type": "code",
   "execution_count": 54,
   "id": "f87dea60",
   "metadata": {},
   "outputs": [
    {
     "data": {
      "text/html": [
       "26.6659911497494"
      ],
      "text/latex": [
       "26.6659911497494"
      ],
      "text/markdown": [
       "26.6659911497494"
      ],
      "text/plain": [
       "[1] 26.66599"
      ]
     },
     "metadata": {},
     "output_type": "display_data"
    }
   ],
   "source": [
    "mean(unlist(lapply(simple_naive_forecasts, function(x) x$test_mae)))"
   ]
  },
  {
   "cell_type": "code",
   "execution_count": 55,
   "id": "7f3e3a03",
   "metadata": {},
   "outputs": [
    {
     "data": {
      "text/html": [
       "0.179344196528068"
      ],
      "text/latex": [
       "0.179344196528068"
      ],
      "text/markdown": [
       "0.179344196528068"
      ],
      "text/plain": [
       "[1] 0.1793442"
      ]
     },
     "metadata": {},
     "output_type": "display_data"
    }
   ],
   "source": [
    "mean(unlist(lapply(simple_naive_forecasts, function(x) x$test_rmse))/test_means)"
   ]
  },
  {
   "cell_type": "code",
   "execution_count": 56,
   "id": "c8e0561f",
   "metadata": {},
   "outputs": [
    {
     "data": {
      "text/html": [
       "0.121514360741162"
      ],
      "text/latex": [
       "0.121514360741162"
      ],
      "text/markdown": [
       "0.121514360741162"
      ],
      "text/plain": [
       "[1] 0.1215144"
      ]
     },
     "metadata": {},
     "output_type": "display_data"
    }
   ],
   "source": [
    "mean(unlist(lapply(simple_naive_forecasts, function(x) x$test_mae))/test_means)"
   ]
  },
  {
   "cell_type": "code",
   "execution_count": 57,
   "id": "e29df394",
   "metadata": {},
   "outputs": [],
   "source": [
    "# Compute bootstrap PI for each model/ts\n",
    "bootstrap_pi_naive <- lapply(1:length(simple_naive_forecasts), \n",
    "                      function(i) bootstrap_pred_int_naive(simple_naive_forecasts[[i]]$raw_forecasts,\n",
    "                                                           simple_naive_forecasts[[i]]$train_res, \n",
    "                                                           n_boot, \n",
    "                                                           test_samples_ts[[i]]))"
   ]
  },
  {
   "cell_type": "code",
   "execution_count": 58,
   "id": "a0c54582",
   "metadata": {},
   "outputs": [
    {
     "data": {
      "text/html": [
       "145.091315691573"
      ],
      "text/latex": [
       "145.091315691573"
      ],
      "text/markdown": [
       "145.091315691573"
      ],
      "text/plain": [
       "[1] 145.0913"
      ]
     },
     "metadata": {},
     "output_type": "display_data"
    }
   ],
   "source": [
    "# Print the mean of the 80% PI scores\n",
    "mean(unlist(lapply(bootstrap_pi_naive, function(x) mean(x$int_score_80))))"
   ]
  },
  {
   "cell_type": "code",
   "execution_count": 59,
   "id": "6d5e14fd",
   "metadata": {},
   "outputs": [
    {
     "data": {
      "text/html": [
       "236.249679374217"
      ],
      "text/latex": [
       "236.249679374217"
      ],
      "text/markdown": [
       "236.249679374217"
      ],
      "text/plain": [
       "[1] 236.2497"
      ]
     },
     "metadata": {},
     "output_type": "display_data"
    }
   ],
   "source": [
    "# Print the mean of the 95% PI scores\n",
    "mean(unlist(lapply(bootstrap_pi_naive, function(x) mean(x$int_score_95))))"
   ]
  },
  {
   "cell_type": "code",
   "execution_count": 60,
   "id": "c616a7f3",
   "metadata": {},
   "outputs": [
    {
     "data": {
      "text/html": [
       "0.660533564583222"
      ],
      "text/latex": [
       "0.660533564583222"
      ],
      "text/markdown": [
       "0.660533564583222"
      ],
      "text/plain": [
       "[1] 0.6605336"
      ]
     },
     "metadata": {},
     "output_type": "display_data"
    }
   ],
   "source": [
    "mean(unlist(lapply(bootstrap_pi_naive, function(x) mean(x$int_score_80)))/test_means)"
   ]
  },
  {
   "cell_type": "code",
   "execution_count": 61,
   "id": "6a294c17",
   "metadata": {},
   "outputs": [
    {
     "data": {
      "text/html": [
       "1.05555281589077"
      ],
      "text/latex": [
       "1.05555281589077"
      ],
      "text/markdown": [
       "1.05555281589077"
      ],
      "text/plain": [
       "[1] 1.055553"
      ]
     },
     "metadata": {},
     "output_type": "display_data"
    }
   ],
   "source": [
    "mean(unlist(lapply(bootstrap_pi_naive, function(x) mean(x$int_score_95)))/test_means)"
   ]
  },
  {
   "cell_type": "code",
   "execution_count": 114,
   "id": "2d05d430",
   "metadata": {},
   "outputs": [],
   "source": [
    "# Save the bootstrap PIs to an RDS file\n",
    "saveRDS(bootstrap_pi_naive, file=\"Results/Univariate/Naive/naive_bootstrap_pi.RData\")"
   ]
  },
  {
   "cell_type": "markdown",
   "id": "915c4d21",
   "metadata": {},
   "source": [
    "## Daily Seasonal Naive Forecast"
   ]
  },
  {
   "cell_type": "code",
   "execution_count": 62,
   "id": "50702801",
   "metadata": {},
   "outputs": [],
   "source": [
    "# Use the same approach, but this time with lag=96 to use a daily naive forecast instead of a simple one\n",
    "daily_naive_forecasts <- lapply(1:length(train_val_samples),\n",
    "                                function(x) naive_forec(train_val_samples[[x]]$total_volume,\n",
    "                                                        test_samples[[x]]$total_volume,\n",
    "                                                        lag=96\n",
    "                                                       )\n",
    "                                )"
   ]
  },
  {
   "cell_type": "code",
   "execution_count": 63,
   "id": "0b192f16",
   "metadata": {},
   "outputs": [
    {
     "data": {
      "text/html": [
       "89.4221840299215"
      ],
      "text/latex": [
       "89.4221840299215"
      ],
      "text/markdown": [
       "89.4221840299215"
      ],
      "text/plain": [
       "[1] 89.42218"
      ]
     },
     "metadata": {},
     "output_type": "display_data"
    }
   ],
   "source": [
    "mean(unlist(lapply(daily_naive_forecasts, function(x) x$test_rmse)))"
   ]
  },
  {
   "cell_type": "code",
   "execution_count": 64,
   "id": "17150737",
   "metadata": {},
   "outputs": [
    {
     "data": {
      "text/html": [
       "54.6655114348371"
      ],
      "text/latex": [
       "54.6655114348371"
      ],
      "text/markdown": [
       "54.6655114348371"
      ],
      "text/plain": [
       "[1] 54.66551"
      ]
     },
     "metadata": {},
     "output_type": "display_data"
    }
   ],
   "source": [
    "mean(unlist(lapply(daily_naive_forecasts, function(x) x$test_mae)))"
   ]
  },
  {
   "cell_type": "code",
   "execution_count": 65,
   "id": "73679d57",
   "metadata": {},
   "outputs": [
    {
     "data": {
      "text/html": [
       "0.370761337999588"
      ],
      "text/latex": [
       "0.370761337999588"
      ],
      "text/markdown": [
       "0.370761337999588"
      ],
      "text/plain": [
       "[1] 0.3707613"
      ]
     },
     "metadata": {},
     "output_type": "display_data"
    }
   ],
   "source": [
    "mean(unlist(lapply(daily_naive_forecasts, function(x) x$test_rmse))/test_means)"
   ]
  },
  {
   "cell_type": "code",
   "execution_count": 66,
   "id": "5d8677ac",
   "metadata": {},
   "outputs": [
    {
     "data": {
      "text/html": [
       "0.224603170775146"
      ],
      "text/latex": [
       "0.224603170775146"
      ],
      "text/markdown": [
       "0.224603170775146"
      ],
      "text/plain": [
       "[1] 0.2246032"
      ]
     },
     "metadata": {},
     "output_type": "display_data"
    }
   ],
   "source": [
    "mean(unlist(lapply(daily_naive_forecasts, function(x) x$test_mae))/test_means)"
   ]
  },
  {
   "cell_type": "code",
   "execution_count": 67,
   "id": "87c27d1a",
   "metadata": {},
   "outputs": [],
   "source": [
    "# Compute bootstrap PI for each model/ts\n",
    "bootstrap_pi_naive_daily <- lapply(1:length(daily_naive_forecasts), \n",
    "                      function(i) bootstrap_pred_int_naive(daily_naive_forecasts[[i]]$raw_forecasts,\n",
    "                                                           daily_naive_forecasts[[i]]$train_res, \n",
    "                                                           n_boot, \n",
    "                                                           test_samples_ts[[i]]))"
   ]
  },
  {
   "cell_type": "code",
   "execution_count": 68,
   "id": "40355648",
   "metadata": {},
   "outputs": [
    {
     "data": {
      "text/html": [
       "331.54120897948"
      ],
      "text/latex": [
       "331.54120897948"
      ],
      "text/markdown": [
       "331.54120897948"
      ],
      "text/plain": [
       "[1] 331.5412"
      ]
     },
     "metadata": {},
     "output_type": "display_data"
    }
   ],
   "source": [
    "# Print the mean of the 80% PI scores\n",
    "mean(unlist(lapply(bootstrap_pi_naive_daily, function(x) mean(x$int_score_80))))"
   ]
  },
  {
   "cell_type": "code",
   "execution_count": 69,
   "id": "bf25ec03",
   "metadata": {},
   "outputs": [
    {
     "data": {
      "text/html": [
       "585.624282875157"
      ],
      "text/latex": [
       "585.624282875157"
      ],
      "text/markdown": [
       "585.624282875157"
      ],
      "text/plain": [
       "[1] 585.6243"
      ]
     },
     "metadata": {},
     "output_type": "display_data"
    }
   ],
   "source": [
    "# Print the mean of the 95% PI scores\n",
    "mean(unlist(lapply(bootstrap_pi_naive_daily, function(x) mean(x$int_score_95))))"
   ]
  },
  {
   "cell_type": "code",
   "execution_count": 70,
   "id": "d5cb3b1c",
   "metadata": {},
   "outputs": [
    {
     "data": {
      "text/html": [
       "1.36727710987423"
      ],
      "text/latex": [
       "1.36727710987423"
      ],
      "text/markdown": [
       "1.36727710987423"
      ],
      "text/plain": [
       "[1] 1.367277"
      ]
     },
     "metadata": {},
     "output_type": "display_data"
    }
   ],
   "source": [
    "mean(unlist(lapply(bootstrap_pi_naive_daily, function(x) mean(x$int_score_80)))/test_means)"
   ]
  },
  {
   "cell_type": "code",
   "execution_count": 71,
   "id": "047f52ed",
   "metadata": {},
   "outputs": [
    {
     "data": {
      "text/html": [
       "2.46082562977696"
      ],
      "text/latex": [
       "2.46082562977696"
      ],
      "text/markdown": [
       "2.46082562977696"
      ],
      "text/plain": [
       "[1] 2.460826"
      ]
     },
     "metadata": {},
     "output_type": "display_data"
    }
   ],
   "source": [
    "mean(unlist(lapply(bootstrap_pi_naive_daily, function(x) mean(x$int_score_95)))/test_means)"
   ]
  },
  {
   "cell_type": "code",
   "execution_count": 115,
   "id": "d2536432",
   "metadata": {},
   "outputs": [],
   "source": [
    "# Save the bootstrap PIs to an RDS file\n",
    "saveRDS(bootstrap_pi_naive, file=\"Results/Univariate/Naive/daily_naive_bootstrap_pi.RData\")"
   ]
  },
  {
   "cell_type": "markdown",
   "id": "420e6782",
   "metadata": {},
   "source": [
    "## Weekly Naive Forecast"
   ]
  },
  {
   "cell_type": "code",
   "execution_count": 72,
   "id": "f242c832",
   "metadata": {},
   "outputs": [],
   "source": [
    "# Again, use the same methods but this time weekly so lag=672\n",
    "weekly_naive_forecasts <- lapply(1:length(train_val_samples),\n",
    "                                 function(x) naive_forec(train_val_samples[[x]]$total_volume,\n",
    "                                                         test_samples[[x]]$total_volume,\n",
    "                                                         lag=672\n",
    "                                                       )\n",
    "                                )"
   ]
  },
  {
   "cell_type": "code",
   "execution_count": 73,
   "id": "d10b027d",
   "metadata": {},
   "outputs": [
    {
     "data": {
      "text/html": [
       "60.715892434288"
      ],
      "text/latex": [
       "60.715892434288"
      ],
      "text/markdown": [
       "60.715892434288"
      ],
      "text/plain": [
       "[1] 60.71589"
      ]
     },
     "metadata": {},
     "output_type": "display_data"
    }
   ],
   "source": [
    "mean(unlist(lapply(weekly_naive_forecasts, function(x) x$test_rmse)))"
   ]
  },
  {
   "cell_type": "code",
   "execution_count": 74,
   "id": "0d8a5aec",
   "metadata": {},
   "outputs": [
    {
     "data": {
      "text/html": [
       "37.3768699091479"
      ],
      "text/latex": [
       "37.3768699091479"
      ],
      "text/markdown": [
       "37.3768699091479"
      ],
      "text/plain": [
       "[1] 37.37687"
      ]
     },
     "metadata": {},
     "output_type": "display_data"
    }
   ],
   "source": [
    "mean(unlist(lapply(weekly_naive_forecasts, function(x) x$test_mae)))"
   ]
  },
  {
   "cell_type": "code",
   "execution_count": 75,
   "id": "a99c780b",
   "metadata": {},
   "outputs": [
    {
     "data": {
      "text/html": [
       "0.253608329282738"
      ],
      "text/latex": [
       "0.253608329282738"
      ],
      "text/markdown": [
       "0.253608329282738"
      ],
      "text/plain": [
       "[1] 0.2536083"
      ]
     },
     "metadata": {},
     "output_type": "display_data"
    }
   ],
   "source": [
    "mean(unlist(lapply(weekly_naive_forecasts, function(x) x$test_rmse))/test_means)"
   ]
  },
  {
   "cell_type": "code",
   "execution_count": 76,
   "id": "3a68c747",
   "metadata": {},
   "outputs": [
    {
     "data": {
      "text/html": [
       "0.160882759028387"
      ],
      "text/latex": [
       "0.160882759028387"
      ],
      "text/markdown": [
       "0.160882759028387"
      ],
      "text/plain": [
       "[1] 0.1608828"
      ]
     },
     "metadata": {},
     "output_type": "display_data"
    }
   ],
   "source": [
    "mean(unlist(lapply(weekly_naive_forecasts, function(x) x$test_mae))/test_means)"
   ]
  },
  {
   "cell_type": "code",
   "execution_count": 77,
   "id": "9d69c650",
   "metadata": {},
   "outputs": [],
   "source": [
    "# Compute bootstrap PI for each model/ts\n",
    "bootstrap_pi_naive_weekly <- lapply(1:length(weekly_naive_forecasts), \n",
    "                      function(i) bootstrap_pred_int_naive(weekly_naive_forecasts[[i]]$raw_forecasts,\n",
    "                                                           weekly_naive_forecasts[[i]]$train_res, \n",
    "                                                           n_boot, \n",
    "                                                           test_samples_ts[[i]]))"
   ]
  },
  {
   "cell_type": "code",
   "execution_count": 78,
   "id": "8c032e15",
   "metadata": {},
   "outputs": [
    {
     "data": {
      "text/html": [
       "224.528140174655"
      ],
      "text/latex": [
       "224.528140174655"
      ],
      "text/markdown": [
       "224.528140174655"
      ],
      "text/plain": [
       "[1] 224.5281"
      ]
     },
     "metadata": {},
     "output_type": "display_data"
    }
   ],
   "source": [
    "# Print the mean of the 80% PI scores\n",
    "mean(unlist(lapply(bootstrap_pi_naive_weekly, function(x) mean(x$int_score_80))))"
   ]
  },
  {
   "cell_type": "code",
   "execution_count": 79,
   "id": "b77a6a95",
   "metadata": {},
   "outputs": [
    {
     "data": {
      "text/html": [
       "422.040061457354"
      ],
      "text/latex": [
       "422.040061457354"
      ],
      "text/markdown": [
       "422.040061457354"
      ],
      "text/plain": [
       "[1] 422.0401"
      ]
     },
     "metadata": {},
     "output_type": "display_data"
    }
   ],
   "source": [
    "# Print the mean of the 95% PI scores\n",
    "mean(unlist(lapply(bootstrap_pi_naive_weekly, function(x) mean(x$int_score_95))))"
   ]
  },
  {
   "cell_type": "code",
   "execution_count": 80,
   "id": "a193681d",
   "metadata": {},
   "outputs": [
    {
     "data": {
      "text/html": [
       "0.946054525868782"
      ],
      "text/latex": [
       "0.946054525868782"
      ],
      "text/markdown": [
       "0.946054525868782"
      ],
      "text/plain": [
       "[1] 0.9460545"
      ]
     },
     "metadata": {},
     "output_type": "display_data"
    }
   ],
   "source": [
    "mean(unlist(lapply(bootstrap_pi_naive_weekly, function(x) mean(x$int_score_80)))/test_means)"
   ]
  },
  {
   "cell_type": "code",
   "execution_count": 81,
   "id": "4d2f6857",
   "metadata": {},
   "outputs": [
    {
     "data": {
      "text/html": [
       "1.67040717206179"
      ],
      "text/latex": [
       "1.67040717206179"
      ],
      "text/markdown": [
       "1.67040717206179"
      ],
      "text/plain": [
       "[1] 1.670407"
      ]
     },
     "metadata": {},
     "output_type": "display_data"
    }
   ],
   "source": [
    "mean(unlist(lapply(bootstrap_pi_naive_weekly, function(x) mean(x$int_score_95)))/test_means)"
   ]
  },
  {
   "cell_type": "code",
   "execution_count": 117,
   "id": "7484913c",
   "metadata": {},
   "outputs": [],
   "source": [
    "# Save the bootstrap PIs to an RDS file\n",
    "saveRDS(bootstrap_pi_naive, file=\"Results/Univariate/Naive/weekly_naive_bootstrap_pi.RData\")"
   ]
  },
  {
   "cell_type": "code",
   "execution_count": null,
   "id": "ccfef4d4",
   "metadata": {},
   "outputs": [],
   "source": []
  }
 ],
 "metadata": {
  "kernelspec": {
   "display_name": "R",
   "language": "R",
   "name": "ir"
  },
  "language_info": {
   "codemirror_mode": "r",
   "file_extension": ".r",
   "mimetype": "text/x-r-source",
   "name": "R",
   "pygments_lexer": "r",
   "version": "4.1.3"
  }
 },
 "nbformat": 4,
 "nbformat_minor": 5
}
