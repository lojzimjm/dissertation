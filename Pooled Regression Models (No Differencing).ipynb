{
 "cells": [
  {
   "cell_type": "code",
   "execution_count": 1,
   "id": "fa8e30cd",
   "metadata": {},
   "outputs": [],
   "source": [
    "rm(list=ls())"
   ]
  },
  {
   "cell_type": "code",
   "execution_count": 2,
   "id": "da6543ef",
   "metadata": {},
   "outputs": [
    {
     "data": {
      "text/html": [
       "<table class=\"dataframe\">\n",
       "<caption>A matrix: 2 × 6 of type dbl</caption>\n",
       "<thead>\n",
       "\t<tr><th></th><th scope=col>used</th><th scope=col>(Mb)</th><th scope=col>gc trigger</th><th scope=col>(Mb)</th><th scope=col>max used</th><th scope=col>(Mb)</th></tr>\n",
       "</thead>\n",
       "<tbody>\n",
       "\t<tr><th scope=row>Ncells</th><td> 576475</td><td>30.8</td><td>1250430</td><td>66.8</td><td>1110223</td><td>59.3</td></tr>\n",
       "\t<tr><th scope=row>Vcells</th><td>1078577</td><td> 8.3</td><td>8388608</td><td>64.0</td><td>1820939</td><td>13.9</td></tr>\n",
       "</tbody>\n",
       "</table>\n"
      ],
      "text/latex": [
       "A matrix: 2 × 6 of type dbl\n",
       "\\begin{tabular}{r|llllll}\n",
       "  & used & (Mb) & gc trigger & (Mb) & max used & (Mb)\\\\\n",
       "\\hline\n",
       "\tNcells &  576475 & 30.8 & 1250430 & 66.8 & 1110223 & 59.3\\\\\n",
       "\tVcells & 1078577 &  8.3 & 8388608 & 64.0 & 1820939 & 13.9\\\\\n",
       "\\end{tabular}\n"
      ],
      "text/markdown": [
       "\n",
       "A matrix: 2 × 6 of type dbl\n",
       "\n",
       "| <!--/--> | used | (Mb) | gc trigger | (Mb) | max used | (Mb) |\n",
       "|---|---|---|---|---|---|---|\n",
       "| Ncells |  576475 | 30.8 | 1250430 | 66.8 | 1110223 | 59.3 |\n",
       "| Vcells | 1078577 |  8.3 | 8388608 | 64.0 | 1820939 | 13.9 |\n",
       "\n"
      ],
      "text/plain": [
       "       used    (Mb) gc trigger (Mb) max used (Mb)\n",
       "Ncells  576475 30.8 1250430    66.8 1110223  59.3\n",
       "Vcells 1078577  8.3 8388608    64.0 1820939  13.9"
      ]
     },
     "metadata": {},
     "output_type": "display_data"
    }
   ],
   "source": [
    "gc()"
   ]
  },
  {
   "cell_type": "code",
   "execution_count": 3,
   "id": "6eaf3724",
   "metadata": {},
   "outputs": [
    {
     "name": "stderr",
     "output_type": "stream",
     "text": [
      "── \u001b[1mAttaching packages\u001b[22m ─────────────────────────────────────── tidyverse 1.3.1 ──\n",
      "\n",
      "\u001b[32m✔\u001b[39m \u001b[34mggplot2\u001b[39m 3.3.5     \u001b[32m✔\u001b[39m \u001b[34mpurrr  \u001b[39m 0.3.4\n",
      "\u001b[32m✔\u001b[39m \u001b[34mtibble \u001b[39m 3.1.6     \u001b[32m✔\u001b[39m \u001b[34mdplyr  \u001b[39m 1.0.7\n",
      "\u001b[32m✔\u001b[39m \u001b[34mtidyr  \u001b[39m 1.1.4     \u001b[32m✔\u001b[39m \u001b[34mstringr\u001b[39m 1.4.0\n",
      "\u001b[32m✔\u001b[39m \u001b[34mreadr  \u001b[39m 2.1.1     \u001b[32m✔\u001b[39m \u001b[34mforcats\u001b[39m 0.5.1\n",
      "\n",
      "── \u001b[1mConflicts\u001b[22m ────────────────────────────────────────── tidyverse_conflicts() ──\n",
      "\u001b[31m✖\u001b[39m \u001b[34mdplyr\u001b[39m::\u001b[32mfilter()\u001b[39m masks \u001b[34mstats\u001b[39m::filter()\n",
      "\u001b[31m✖\u001b[39m \u001b[34mdplyr\u001b[39m::\u001b[32mlag()\u001b[39m    masks \u001b[34mstats\u001b[39m::lag()\n",
      "\n",
      "also installing the dependencies ‘quadprog’, ‘fracdiff’, ‘lmtest’, ‘tseries’, ‘urca’, ‘RcppArmadillo’\n",
      "\n",
      "\n",
      "Updating HTML index of packages in '.Library'\n",
      "\n",
      "Making 'packages.html' ...\n",
      " done\n",
      "\n",
      "Registered S3 method overwritten by 'quantmod':\n",
      "  method            from\n",
      "  as.zoo.data.frame zoo \n",
      "\n",
      "Updating HTML index of packages in '.Library'\n",
      "\n",
      "Making 'packages.html' ...\n",
      " done\n",
      "\n",
      "Updating HTML index of packages in '.Library'\n",
      "\n",
      "Making 'packages.html' ...\n",
      " done\n",
      "\n",
      "\n",
      "Attaching package: ‘Metrics’\n",
      "\n",
      "\n",
      "The following object is masked from ‘package:forecast’:\n",
      "\n",
      "    accuracy\n",
      "\n",
      "\n",
      "Updating HTML index of packages in '.Library'\n",
      "\n",
      "Making 'packages.html' ...\n",
      " done\n",
      "\n",
      "Loading required package: DBI\n",
      "\n",
      "Updating HTML index of packages in '.Library'\n",
      "\n",
      "Making 'packages.html' ...\n",
      " done\n",
      "\n"
     ]
    }
   ],
   "source": [
    "# install.packages(\"tidyverse\") # sagemaker has\n",
    "library(tidyverse)\n",
    "# install.packages(\"parallel\") # sagemaker has\n",
    "library(parallel)\n",
    "# install.packages(\"cluster\") # sagemaker has\n",
    "library(cluster)\n",
    "\n",
    "install.packages(\"forecast\") # sagemaker doesn't have\n",
    "library(forecast)\n",
    "\n",
    "install.packages(\"RcppArmadillo\") # sagemaker doesn't have\n",
    "library(RcppArmadillo)\n",
    "\n",
    "install.packages(\"Metrics\") # sagemaker doesn't have\n",
    "library(Metrics)\n",
    "\n",
    "install.packages(\"biglm\") # sagemaker doesn't have\n",
    "library(biglm)\n",
    "\n",
    "install.packages(\"tseries\") # sagemaker doesn't have\n",
    "library(tseries)"
   ]
  },
  {
   "cell_type": "markdown",
   "id": "163b94d6",
   "metadata": {},
   "source": [
    "# Read in and Subset Data"
   ]
  },
  {
   "cell_type": "code",
   "execution_count": 4,
   "id": "8a233ec1",
   "metadata": {},
   "outputs": [
    {
     "name": "stderr",
     "output_type": "stream",
     "text": [
      "\u001b[1mRows: \u001b[22m\u001b[34m35040\u001b[39m \u001b[1mColumns: \u001b[22m\u001b[34m10\u001b[39m\n",
      "\n",
      "\u001b[36m──\u001b[39m \u001b[1mColumn specification\u001b[22m \u001b[36m────────────────────────────────────────────────────────\u001b[39m\n",
      "\u001b[1mDelimiter:\u001b[22m \",\"\n",
      "\u001b[31mchr\u001b[39m  (1): site_name\n",
      "\u001b[32mdbl\u001b[39m  (5): day_of_week, day_of_year, interval_of_day, avg_mph, total_volume\n",
      "\u001b[33mlgl\u001b[39m  (2): missing_speed, missing_volume\n",
      "\u001b[34mdttm\u001b[39m (1): timestamp\n",
      "\u001b[34mdate\u001b[39m (1): date\n",
      "\n",
      "\n",
      "\u001b[36mℹ\u001b[39m Use \u001b[30m\u001b[47m\u001b[30m\u001b[47m`spec()`\u001b[47m\u001b[30m\u001b[49m\u001b[39m to retrieve the full column specification for this data.\n",
      "\u001b[36mℹ\u001b[39m Specify the column types or set \u001b[30m\u001b[47m\u001b[30m\u001b[47m`show_col_types = FALSE`\u001b[47m\u001b[30m\u001b[49m\u001b[39m to quiet this message.\n",
      "\n",
      "\u001b[1mRows: \u001b[22m\u001b[34m35040\u001b[39m \u001b[1mColumns: \u001b[22m\u001b[34m10\u001b[39m\n",
      "\n",
      "\u001b[36m──\u001b[39m \u001b[1mColumn specification\u001b[22m \u001b[36m────────────────────────────────────────────────────────\u001b[39m\n",
      "\u001b[1mDelimiter:\u001b[22m \",\"\n",
      "\u001b[31mchr\u001b[39m  (1): site_name\n",
      "\u001b[32mdbl\u001b[39m  (5): day_of_week, day_of_year, interval_of_day, avg_mph, total_volume\n",
      "\u001b[33mlgl\u001b[39m  (2): missing_speed, missing_volume\n",
      "\u001b[34mdttm\u001b[39m (1): timestamp\n",
      "\u001b[34mdate\u001b[39m (1): date\n",
      "\n",
      "\n",
      "\u001b[36mℹ\u001b[39m Use \u001b[30m\u001b[47m\u001b[30m\u001b[47m`spec()`\u001b[47m\u001b[30m\u001b[49m\u001b[39m to retrieve the full column specification for this data.\n",
      "\u001b[36mℹ\u001b[39m Specify the column types or set \u001b[30m\u001b[47m\u001b[30m\u001b[47m`show_col_types = FALSE`\u001b[47m\u001b[30m\u001b[49m\u001b[39m to quiet this message.\n",
      "\n",
      "\u001b[1mRows: \u001b[22m\u001b[34m35040\u001b[39m \u001b[1mColumns: \u001b[22m\u001b[34m10\u001b[39m\n",
      "\n",
      "\u001b[36m──\u001b[39m \u001b[1mColumn specification\u001b[22m \u001b[36m────────────────────────────────────────────────────────\u001b[39m\n",
      "\u001b[1mDelimiter:\u001b[22m \",\"\n",
      "\u001b[31mchr\u001b[39m  (1): site_name\n",
      "\u001b[32mdbl\u001b[39m  (5): day_of_week, day_of_year, interval_of_day, avg_mph, total_volume\n",
      "\u001b[33mlgl\u001b[39m  (2): missing_speed, missing_volume\n",
      "\u001b[34mdttm\u001b[39m (1): timestamp\n",
      "\u001b[34mdate\u001b[39m (1): date\n",
      "\n",
      "\n",
      "\u001b[36mℹ\u001b[39m Use \u001b[30m\u001b[47m\u001b[30m\u001b[47m`spec()`\u001b[47m\u001b[30m\u001b[49m\u001b[39m to retrieve the full column specification for this data.\n",
      "\u001b[36mℹ\u001b[39m Specify the column types or set \u001b[30m\u001b[47m\u001b[30m\u001b[47m`show_col_types = FALSE`\u001b[47m\u001b[30m\u001b[49m\u001b[39m to quiet this message.\n",
      "\n",
      "\u001b[1mRows: \u001b[22m\u001b[34m35040\u001b[39m \u001b[1mColumns: \u001b[22m\u001b[34m10\u001b[39m\n",
      "\n",
      "\u001b[36m──\u001b[39m \u001b[1mColumn specification\u001b[22m \u001b[36m────────────────────────────────────────────────────────\u001b[39m\n",
      "\u001b[1mDelimiter:\u001b[22m \",\"\n",
      "\u001b[31mchr\u001b[39m  (1): site_name\n",
      "\u001b[32mdbl\u001b[39m  (5): day_of_week, day_of_year, interval_of_day, avg_mph, total_volume\n",
      "\u001b[33mlgl\u001b[39m  (2): missing_speed, missing_volume\n",
      "\u001b[34mdttm\u001b[39m (1): timestamp\n",
      "\u001b[34mdate\u001b[39m (1): date\n",
      "\n",
      "\n",
      "\u001b[36mℹ\u001b[39m Use \u001b[30m\u001b[47m\u001b[30m\u001b[47m`spec()`\u001b[47m\u001b[30m\u001b[49m\u001b[39m to retrieve the full column specification for this data.\n",
      "\u001b[36mℹ\u001b[39m Specify the column types or set \u001b[30m\u001b[47m\u001b[30m\u001b[47m`show_col_types = FALSE`\u001b[47m\u001b[30m\u001b[49m\u001b[39m to quiet this message.\n",
      "\n",
      "\u001b[1mRows: \u001b[22m\u001b[34m35040\u001b[39m \u001b[1mColumns: \u001b[22m\u001b[34m10\u001b[39m\n",
      "\n",
      "\u001b[36m──\u001b[39m \u001b[1mColumn specification\u001b[22m \u001b[36m────────────────────────────────────────────────────────\u001b[39m\n",
      "\u001b[1mDelimiter:\u001b[22m \",\"\n",
      "\u001b[31mchr\u001b[39m  (1): site_name\n",
      "\u001b[32mdbl\u001b[39m  (5): day_of_week, day_of_year, interval_of_day, avg_mph, total_volume\n",
      "\u001b[33mlgl\u001b[39m  (2): missing_speed, missing_volume\n",
      "\u001b[34mdttm\u001b[39m (1): timestamp\n",
      "\u001b[34mdate\u001b[39m (1): date\n",
      "\n",
      "\n",
      "\u001b[36mℹ\u001b[39m Use \u001b[30m\u001b[47m\u001b[30m\u001b[47m`spec()`\u001b[47m\u001b[30m\u001b[49m\u001b[39m to retrieve the full column specification for this data.\n",
      "\u001b[36mℹ\u001b[39m Specify the column types or set \u001b[30m\u001b[47m\u001b[30m\u001b[47m`show_col_types = FALSE`\u001b[47m\u001b[30m\u001b[49m\u001b[39m to quiet this message.\n",
      "\n",
      "\u001b[1mRows: \u001b[22m\u001b[34m35040\u001b[39m \u001b[1mColumns: \u001b[22m\u001b[34m10\u001b[39m\n",
      "\n",
      "\u001b[36m──\u001b[39m \u001b[1mColumn specification\u001b[22m \u001b[36m────────────────────────────────────────────────────────\u001b[39m\n",
      "\u001b[1mDelimiter:\u001b[22m \",\"\n",
      "\u001b[31mchr\u001b[39m  (1): site_name\n",
      "\u001b[32mdbl\u001b[39m  (5): day_of_week, day_of_year, interval_of_day, avg_mph, total_volume\n",
      "\u001b[33mlgl\u001b[39m  (2): missing_speed, missing_volume\n",
      "\u001b[34mdttm\u001b[39m (1): timestamp\n",
      "\u001b[34mdate\u001b[39m (1): date\n",
      "\n",
      "\n",
      "\u001b[36mℹ\u001b[39m Use \u001b[30m\u001b[47m\u001b[30m\u001b[47m`spec()`\u001b[47m\u001b[30m\u001b[49m\u001b[39m to retrieve the full column specification for this data.\n",
      "\u001b[36mℹ\u001b[39m Specify the column types or set \u001b[30m\u001b[47m\u001b[30m\u001b[47m`show_col_types = FALSE`\u001b[47m\u001b[30m\u001b[49m\u001b[39m to quiet this message.\n",
      "\n",
      "\u001b[1mRows: \u001b[22m\u001b[34m35040\u001b[39m \u001b[1mColumns: \u001b[22m\u001b[34m10\u001b[39m\n",
      "\n",
      "\u001b[36m──\u001b[39m \u001b[1mColumn specification\u001b[22m \u001b[36m────────────────────────────────────────────────────────\u001b[39m\n",
      "\u001b[1mDelimiter:\u001b[22m \",\"\n",
      "\u001b[31mchr\u001b[39m  (1): site_name\n",
      "\u001b[32mdbl\u001b[39m  (5): day_of_week, day_of_year, interval_of_day, avg_mph, total_volume\n",
      "\u001b[33mlgl\u001b[39m  (2): missing_speed, missing_volume\n",
      "\u001b[34mdttm\u001b[39m (1): timestamp\n",
      "\u001b[34mdate\u001b[39m (1): date\n",
      "\n",
      "\n",
      "\u001b[36mℹ\u001b[39m Use \u001b[30m\u001b[47m\u001b[30m\u001b[47m`spec()`\u001b[47m\u001b[30m\u001b[49m\u001b[39m to retrieve the full column specification for this data.\n",
      "\u001b[36mℹ\u001b[39m Specify the column types or set \u001b[30m\u001b[47m\u001b[30m\u001b[47m`show_col_types = FALSE`\u001b[47m\u001b[30m\u001b[49m\u001b[39m to quiet this message.\n",
      "\n",
      "\u001b[1mRows: \u001b[22m\u001b[34m35040\u001b[39m \u001b[1mColumns: \u001b[22m\u001b[34m10\u001b[39m\n",
      "\n",
      "\u001b[36m──\u001b[39m \u001b[1mColumn specification\u001b[22m \u001b[36m────────────────────────────────────────────────────────\u001b[39m\n",
      "\u001b[1mDelimiter:\u001b[22m \",\"\n",
      "\u001b[31mchr\u001b[39m  (1): site_name\n",
      "\u001b[32mdbl\u001b[39m  (5): day_of_week, day_of_year, interval_of_day, avg_mph, total_volume\n",
      "\u001b[33mlgl\u001b[39m  (2): missing_speed, missing_volume\n",
      "\u001b[34mdttm\u001b[39m (1): timestamp\n",
      "\u001b[34mdate\u001b[39m (1): date\n",
      "\n",
      "\n",
      "\u001b[36mℹ\u001b[39m Use \u001b[30m\u001b[47m\u001b[30m\u001b[47m`spec()`\u001b[47m\u001b[30m\u001b[49m\u001b[39m to retrieve the full column specification for this data.\n",
      "\u001b[36mℹ\u001b[39m Specify the column types or set \u001b[30m\u001b[47m\u001b[30m\u001b[47m`show_col_types = FALSE`\u001b[47m\u001b[30m\u001b[49m\u001b[39m to quiet this message.\n",
      "\n",
      "\u001b[1mRows: \u001b[22m\u001b[34m35040\u001b[39m \u001b[1mColumns: \u001b[22m\u001b[34m10\u001b[39m\n",
      "\n",
      "\u001b[36m──\u001b[39m \u001b[1mColumn specification\u001b[22m \u001b[36m────────────────────────────────────────────────────────\u001b[39m\n",
      "\u001b[1mDelimiter:\u001b[22m \",\"\n",
      "\u001b[31mchr\u001b[39m  (1): site_name\n",
      "\u001b[32mdbl\u001b[39m  (5): day_of_week, day_of_year, interval_of_day, avg_mph, total_volume\n",
      "\u001b[33mlgl\u001b[39m  (2): missing_speed, missing_volume\n",
      "\u001b[34mdttm\u001b[39m (1): timestamp\n",
      "\u001b[34mdate\u001b[39m (1): date\n",
      "\n",
      "\n",
      "\u001b[36mℹ\u001b[39m Use \u001b[30m\u001b[47m\u001b[30m\u001b[47m`spec()`\u001b[47m\u001b[30m\u001b[49m\u001b[39m to retrieve the full column specification for this data.\n",
      "\u001b[36mℹ\u001b[39m Specify the column types or set \u001b[30m\u001b[47m\u001b[30m\u001b[47m`show_col_types = FALSE`\u001b[47m\u001b[30m\u001b[49m\u001b[39m to quiet this message.\n",
      "\n",
      "\u001b[1mRows: \u001b[22m\u001b[34m35040\u001b[39m \u001b[1mColumns: \u001b[22m\u001b[34m10\u001b[39m\n",
      "\n",
      "\u001b[36m──\u001b[39m \u001b[1mColumn specification\u001b[22m \u001b[36m────────────────────────────────────────────────────────\u001b[39m\n",
      "\u001b[1mDelimiter:\u001b[22m \",\"\n",
      "\u001b[31mchr\u001b[39m  (1): site_name\n",
      "\u001b[32mdbl\u001b[39m  (5): day_of_week, day_of_year, interval_of_day, avg_mph, total_volume\n",
      "\u001b[33mlgl\u001b[39m  (2): missing_speed, missing_volume\n",
      "\u001b[34mdttm\u001b[39m (1): timestamp\n",
      "\u001b[34mdate\u001b[39m (1): date\n",
      "\n",
      "\n",
      "\u001b[36mℹ\u001b[39m Use \u001b[30m\u001b[47m\u001b[30m\u001b[47m`spec()`\u001b[47m\u001b[30m\u001b[49m\u001b[39m to retrieve the full column specification for this data.\n",
      "\u001b[36mℹ\u001b[39m Specify the column types or set \u001b[30m\u001b[47m\u001b[30m\u001b[47m`show_col_types = FALSE`\u001b[47m\u001b[30m\u001b[49m\u001b[39m to quiet this message.\n",
      "\n",
      "\u001b[1mRows: \u001b[22m\u001b[34m35040\u001b[39m \u001b[1mColumns: \u001b[22m\u001b[34m10\u001b[39m\n",
      "\n",
      "\u001b[36m──\u001b[39m \u001b[1mColumn specification\u001b[22m \u001b[36m────────────────────────────────────────────────────────\u001b[39m\n",
      "\u001b[1mDelimiter:\u001b[22m \",\"\n",
      "\u001b[31mchr\u001b[39m  (1): site_name\n",
      "\u001b[32mdbl\u001b[39m  (5): day_of_week, day_of_year, interval_of_day, avg_mph, total_volume\n",
      "\u001b[33mlgl\u001b[39m  (2): missing_speed, missing_volume\n",
      "\u001b[34mdttm\u001b[39m (1): timestamp\n",
      "\u001b[34mdate\u001b[39m (1): date\n",
      "\n",
      "\n",
      "\u001b[36mℹ\u001b[39m Use \u001b[30m\u001b[47m\u001b[30m\u001b[47m`spec()`\u001b[47m\u001b[30m\u001b[49m\u001b[39m to retrieve the full column specification for this data.\n",
      "\u001b[36mℹ\u001b[39m Specify the column types or set \u001b[30m\u001b[47m\u001b[30m\u001b[47m`show_col_types = FALSE`\u001b[47m\u001b[30m\u001b[49m\u001b[39m to quiet this message.\n",
      "\n",
      "\u001b[1mRows: \u001b[22m\u001b[34m35040\u001b[39m \u001b[1mColumns: \u001b[22m\u001b[34m10\u001b[39m\n",
      "\n",
      "\u001b[36m──\u001b[39m \u001b[1mColumn specification\u001b[22m \u001b[36m────────────────────────────────────────────────────────\u001b[39m\n",
      "\u001b[1mDelimiter:\u001b[22m \",\"\n",
      "\u001b[31mchr\u001b[39m  (1): site_name\n",
      "\u001b[32mdbl\u001b[39m  (5): day_of_week, day_of_year, interval_of_day, avg_mph, total_volume\n",
      "\u001b[33mlgl\u001b[39m  (2): missing_speed, missing_volume\n",
      "\u001b[34mdttm\u001b[39m (1): timestamp\n",
      "\u001b[34mdate\u001b[39m (1): date\n",
      "\n",
      "\n",
      "\u001b[36mℹ\u001b[39m Use \u001b[30m\u001b[47m\u001b[30m\u001b[47m`spec()`\u001b[47m\u001b[30m\u001b[49m\u001b[39m to retrieve the full column specification for this data.\n",
      "\u001b[36mℹ\u001b[39m Specify the column types or set \u001b[30m\u001b[47m\u001b[30m\u001b[47m`show_col_types = FALSE`\u001b[47m\u001b[30m\u001b[49m\u001b[39m to quiet this message.\n",
      "\n",
      "\u001b[1mRows: \u001b[22m\u001b[34m35040\u001b[39m \u001b[1mColumns: \u001b[22m\u001b[34m10\u001b[39m\n",
      "\n",
      "\u001b[36m──\u001b[39m \u001b[1mColumn specification\u001b[22m \u001b[36m────────────────────────────────────────────────────────\u001b[39m\n",
      "\u001b[1mDelimiter:\u001b[22m \",\"\n",
      "\u001b[31mchr\u001b[39m  (1): site_name\n",
      "\u001b[32mdbl\u001b[39m  (5): day_of_week, day_of_year, interval_of_day, avg_mph, total_volume\n",
      "\u001b[33mlgl\u001b[39m  (2): missing_speed, missing_volume\n",
      "\u001b[34mdttm\u001b[39m (1): timestamp\n",
      "\u001b[34mdate\u001b[39m (1): date\n",
      "\n"
     ]
    },
    {
     "name": "stderr",
     "output_type": "stream",
     "text": [
      "\n",
      "\u001b[36mℹ\u001b[39m Use \u001b[30m\u001b[47m\u001b[30m\u001b[47m`spec()`\u001b[47m\u001b[30m\u001b[49m\u001b[39m to retrieve the full column specification for this data.\n",
      "\u001b[36mℹ\u001b[39m Specify the column types or set \u001b[30m\u001b[47m\u001b[30m\u001b[47m`show_col_types = FALSE`\u001b[47m\u001b[30m\u001b[49m\u001b[39m to quiet this message.\n",
      "\n",
      "\u001b[1mRows: \u001b[22m\u001b[34m35040\u001b[39m \u001b[1mColumns: \u001b[22m\u001b[34m10\u001b[39m\n",
      "\n",
      "\u001b[36m──\u001b[39m \u001b[1mColumn specification\u001b[22m \u001b[36m────────────────────────────────────────────────────────\u001b[39m\n",
      "\u001b[1mDelimiter:\u001b[22m \",\"\n",
      "\u001b[31mchr\u001b[39m  (1): site_name\n",
      "\u001b[32mdbl\u001b[39m  (5): day_of_week, day_of_year, interval_of_day, avg_mph, total_volume\n",
      "\u001b[33mlgl\u001b[39m  (2): missing_speed, missing_volume\n",
      "\u001b[34mdttm\u001b[39m (1): timestamp\n",
      "\u001b[34mdate\u001b[39m (1): date\n",
      "\n",
      "\n",
      "\u001b[36mℹ\u001b[39m Use \u001b[30m\u001b[47m\u001b[30m\u001b[47m`spec()`\u001b[47m\u001b[30m\u001b[49m\u001b[39m to retrieve the full column specification for this data.\n",
      "\u001b[36mℹ\u001b[39m Specify the column types or set \u001b[30m\u001b[47m\u001b[30m\u001b[47m`show_col_types = FALSE`\u001b[47m\u001b[30m\u001b[49m\u001b[39m to quiet this message.\n",
      "\n",
      "\u001b[1mRows: \u001b[22m\u001b[34m35040\u001b[39m \u001b[1mColumns: \u001b[22m\u001b[34m10\u001b[39m\n",
      "\n",
      "\u001b[36m──\u001b[39m \u001b[1mColumn specification\u001b[22m \u001b[36m────────────────────────────────────────────────────────\u001b[39m\n",
      "\u001b[1mDelimiter:\u001b[22m \",\"\n",
      "\u001b[31mchr\u001b[39m  (1): site_name\n",
      "\u001b[32mdbl\u001b[39m  (5): day_of_week, day_of_year, interval_of_day, avg_mph, total_volume\n",
      "\u001b[33mlgl\u001b[39m  (2): missing_speed, missing_volume\n",
      "\u001b[34mdttm\u001b[39m (1): timestamp\n",
      "\u001b[34mdate\u001b[39m (1): date\n",
      "\n",
      "\n",
      "\u001b[36mℹ\u001b[39m Use \u001b[30m\u001b[47m\u001b[30m\u001b[47m`spec()`\u001b[47m\u001b[30m\u001b[49m\u001b[39m to retrieve the full column specification for this data.\n",
      "\u001b[36mℹ\u001b[39m Specify the column types or set \u001b[30m\u001b[47m\u001b[30m\u001b[47m`show_col_types = FALSE`\u001b[47m\u001b[30m\u001b[49m\u001b[39m to quiet this message.\n",
      "\n",
      "\u001b[1mRows: \u001b[22m\u001b[34m35040\u001b[39m \u001b[1mColumns: \u001b[22m\u001b[34m10\u001b[39m\n",
      "\n",
      "\u001b[36m──\u001b[39m \u001b[1mColumn specification\u001b[22m \u001b[36m────────────────────────────────────────────────────────\u001b[39m\n",
      "\u001b[1mDelimiter:\u001b[22m \",\"\n",
      "\u001b[31mchr\u001b[39m  (1): site_name\n",
      "\u001b[32mdbl\u001b[39m  (5): day_of_week, day_of_year, interval_of_day, avg_mph, total_volume\n",
      "\u001b[33mlgl\u001b[39m  (2): missing_speed, missing_volume\n",
      "\u001b[34mdttm\u001b[39m (1): timestamp\n",
      "\u001b[34mdate\u001b[39m (1): date\n",
      "\n",
      "\n",
      "\u001b[36mℹ\u001b[39m Use \u001b[30m\u001b[47m\u001b[30m\u001b[47m`spec()`\u001b[47m\u001b[30m\u001b[49m\u001b[39m to retrieve the full column specification for this data.\n",
      "\u001b[36mℹ\u001b[39m Specify the column types or set \u001b[30m\u001b[47m\u001b[30m\u001b[47m`show_col_types = FALSE`\u001b[47m\u001b[30m\u001b[49m\u001b[39m to quiet this message.\n",
      "\n",
      "\u001b[1mRows: \u001b[22m\u001b[34m35040\u001b[39m \u001b[1mColumns: \u001b[22m\u001b[34m10\u001b[39m\n",
      "\n",
      "\u001b[36m──\u001b[39m \u001b[1mColumn specification\u001b[22m \u001b[36m────────────────────────────────────────────────────────\u001b[39m\n",
      "\u001b[1mDelimiter:\u001b[22m \",\"\n",
      "\u001b[31mchr\u001b[39m  (1): site_name\n",
      "\u001b[32mdbl\u001b[39m  (5): day_of_week, day_of_year, interval_of_day, avg_mph, total_volume\n",
      "\u001b[33mlgl\u001b[39m  (2): missing_speed, missing_volume\n",
      "\u001b[34mdttm\u001b[39m (1): timestamp\n",
      "\u001b[34mdate\u001b[39m (1): date\n",
      "\n",
      "\n",
      "\u001b[36mℹ\u001b[39m Use \u001b[30m\u001b[47m\u001b[30m\u001b[47m`spec()`\u001b[47m\u001b[30m\u001b[49m\u001b[39m to retrieve the full column specification for this data.\n",
      "\u001b[36mℹ\u001b[39m Specify the column types or set \u001b[30m\u001b[47m\u001b[30m\u001b[47m`show_col_types = FALSE`\u001b[47m\u001b[30m\u001b[49m\u001b[39m to quiet this message.\n",
      "\n",
      "\u001b[1mRows: \u001b[22m\u001b[34m35040\u001b[39m \u001b[1mColumns: \u001b[22m\u001b[34m10\u001b[39m\n",
      "\n",
      "\u001b[36m──\u001b[39m \u001b[1mColumn specification\u001b[22m \u001b[36m────────────────────────────────────────────────────────\u001b[39m\n",
      "\u001b[1mDelimiter:\u001b[22m \",\"\n",
      "\u001b[31mchr\u001b[39m  (1): site_name\n",
      "\u001b[32mdbl\u001b[39m  (5): day_of_week, day_of_year, interval_of_day, avg_mph, total_volume\n",
      "\u001b[33mlgl\u001b[39m  (2): missing_speed, missing_volume\n",
      "\u001b[34mdttm\u001b[39m (1): timestamp\n",
      "\u001b[34mdate\u001b[39m (1): date\n",
      "\n",
      "\n",
      "\u001b[36mℹ\u001b[39m Use \u001b[30m\u001b[47m\u001b[30m\u001b[47m`spec()`\u001b[47m\u001b[30m\u001b[49m\u001b[39m to retrieve the full column specification for this data.\n",
      "\u001b[36mℹ\u001b[39m Specify the column types or set \u001b[30m\u001b[47m\u001b[30m\u001b[47m`show_col_types = FALSE`\u001b[47m\u001b[30m\u001b[49m\u001b[39m to quiet this message.\n",
      "\n",
      "\u001b[1mRows: \u001b[22m\u001b[34m35040\u001b[39m \u001b[1mColumns: \u001b[22m\u001b[34m10\u001b[39m\n",
      "\n",
      "\u001b[36m──\u001b[39m \u001b[1mColumn specification\u001b[22m \u001b[36m────────────────────────────────────────────────────────\u001b[39m\n",
      "\u001b[1mDelimiter:\u001b[22m \",\"\n",
      "\u001b[31mchr\u001b[39m  (1): site_name\n",
      "\u001b[32mdbl\u001b[39m  (5): day_of_week, day_of_year, interval_of_day, avg_mph, total_volume\n",
      "\u001b[33mlgl\u001b[39m  (2): missing_speed, missing_volume\n",
      "\u001b[34mdttm\u001b[39m (1): timestamp\n",
      "\u001b[34mdate\u001b[39m (1): date\n",
      "\n",
      "\n",
      "\u001b[36mℹ\u001b[39m Use \u001b[30m\u001b[47m\u001b[30m\u001b[47m`spec()`\u001b[47m\u001b[30m\u001b[49m\u001b[39m to retrieve the full column specification for this data.\n",
      "\u001b[36mℹ\u001b[39m Specify the column types or set \u001b[30m\u001b[47m\u001b[30m\u001b[47m`show_col_types = FALSE`\u001b[47m\u001b[30m\u001b[49m\u001b[39m to quiet this message.\n",
      "\n",
      "\u001b[1mRows: \u001b[22m\u001b[34m35040\u001b[39m \u001b[1mColumns: \u001b[22m\u001b[34m10\u001b[39m\n",
      "\n",
      "\u001b[36m──\u001b[39m \u001b[1mColumn specification\u001b[22m \u001b[36m────────────────────────────────────────────────────────\u001b[39m\n",
      "\u001b[1mDelimiter:\u001b[22m \",\"\n",
      "\u001b[31mchr\u001b[39m  (1): site_name\n",
      "\u001b[32mdbl\u001b[39m  (5): day_of_week, day_of_year, interval_of_day, avg_mph, total_volume\n",
      "\u001b[33mlgl\u001b[39m  (2): missing_speed, missing_volume\n",
      "\u001b[34mdttm\u001b[39m (1): timestamp\n",
      "\u001b[34mdate\u001b[39m (1): date\n",
      "\n",
      "\n",
      "\u001b[36mℹ\u001b[39m Use \u001b[30m\u001b[47m\u001b[30m\u001b[47m`spec()`\u001b[47m\u001b[30m\u001b[49m\u001b[39m to retrieve the full column specification for this data.\n",
      "\u001b[36mℹ\u001b[39m Specify the column types or set \u001b[30m\u001b[47m\u001b[30m\u001b[47m`show_col_types = FALSE`\u001b[47m\u001b[30m\u001b[49m\u001b[39m to quiet this message.\n",
      "\n",
      "\u001b[1mRows: \u001b[22m\u001b[34m35040\u001b[39m \u001b[1mColumns: \u001b[22m\u001b[34m10\u001b[39m\n",
      "\n",
      "\u001b[36m──\u001b[39m \u001b[1mColumn specification\u001b[22m \u001b[36m────────────────────────────────────────────────────────\u001b[39m\n",
      "\u001b[1mDelimiter:\u001b[22m \",\"\n",
      "\u001b[31mchr\u001b[39m  (1): site_name\n",
      "\u001b[32mdbl\u001b[39m  (5): day_of_week, day_of_year, interval_of_day, avg_mph, total_volume\n",
      "\u001b[33mlgl\u001b[39m  (2): missing_speed, missing_volume\n",
      "\u001b[34mdttm\u001b[39m (1): timestamp\n",
      "\u001b[34mdate\u001b[39m (1): date\n",
      "\n",
      "\n",
      "\u001b[36mℹ\u001b[39m Use \u001b[30m\u001b[47m\u001b[30m\u001b[47m`spec()`\u001b[47m\u001b[30m\u001b[49m\u001b[39m to retrieve the full column specification for this data.\n",
      "\u001b[36mℹ\u001b[39m Specify the column types or set \u001b[30m\u001b[47m\u001b[30m\u001b[47m`show_col_types = FALSE`\u001b[47m\u001b[30m\u001b[49m\u001b[39m to quiet this message.\n",
      "\n",
      "\u001b[1mRows: \u001b[22m\u001b[34m35040\u001b[39m \u001b[1mColumns: \u001b[22m\u001b[34m10\u001b[39m\n",
      "\n",
      "\u001b[36m──\u001b[39m \u001b[1mColumn specification\u001b[22m \u001b[36m────────────────────────────────────────────────────────\u001b[39m\n",
      "\u001b[1mDelimiter:\u001b[22m \",\"\n",
      "\u001b[31mchr\u001b[39m  (1): site_name\n",
      "\u001b[32mdbl\u001b[39m  (5): day_of_week, day_of_year, interval_of_day, avg_mph, total_volume\n",
      "\u001b[33mlgl\u001b[39m  (2): missing_speed, missing_volume\n",
      "\u001b[34mdttm\u001b[39m (1): timestamp\n",
      "\u001b[34mdate\u001b[39m (1): date\n",
      "\n",
      "\n",
      "\u001b[36mℹ\u001b[39m Use \u001b[30m\u001b[47m\u001b[30m\u001b[47m`spec()`\u001b[47m\u001b[30m\u001b[49m\u001b[39m to retrieve the full column specification for this data.\n",
      "\u001b[36mℹ\u001b[39m Specify the column types or set \u001b[30m\u001b[47m\u001b[30m\u001b[47m`show_col_types = FALSE`\u001b[47m\u001b[30m\u001b[49m\u001b[39m to quiet this message.\n",
      "\n",
      "\u001b[1mRows: \u001b[22m\u001b[34m35040\u001b[39m \u001b[1mColumns: \u001b[22m\u001b[34m10\u001b[39m\n",
      "\n",
      "\u001b[36m──\u001b[39m \u001b[1mColumn specification\u001b[22m \u001b[36m────────────────────────────────────────────────────────\u001b[39m\n",
      "\u001b[1mDelimiter:\u001b[22m \",\"\n",
      "\u001b[31mchr\u001b[39m  (1): site_name\n",
      "\u001b[32mdbl\u001b[39m  (5): day_of_week, day_of_year, interval_of_day, avg_mph, total_volume\n",
      "\u001b[33mlgl\u001b[39m  (2): missing_speed, missing_volume\n",
      "\u001b[34mdttm\u001b[39m (1): timestamp\n",
      "\u001b[34mdate\u001b[39m (1): date\n",
      "\n",
      "\n",
      "\u001b[36mℹ\u001b[39m Use \u001b[30m\u001b[47m\u001b[30m\u001b[47m`spec()`\u001b[47m\u001b[30m\u001b[49m\u001b[39m to retrieve the full column specification for this data.\n",
      "\u001b[36mℹ\u001b[39m Specify the column types or set \u001b[30m\u001b[47m\u001b[30m\u001b[47m`show_col_types = FALSE`\u001b[47m\u001b[30m\u001b[49m\u001b[39m to quiet this message.\n",
      "\n",
      "\u001b[1mRows: \u001b[22m\u001b[34m35040\u001b[39m \u001b[1mColumns: \u001b[22m\u001b[34m10\u001b[39m\n",
      "\n",
      "\u001b[36m──\u001b[39m \u001b[1mColumn specification\u001b[22m \u001b[36m────────────────────────────────────────────────────────\u001b[39m\n",
      "\u001b[1mDelimiter:\u001b[22m \",\"\n",
      "\u001b[31mchr\u001b[39m  (1): site_name\n",
      "\u001b[32mdbl\u001b[39m  (5): day_of_week, day_of_year, interval_of_day, avg_mph, total_volume\n",
      "\u001b[33mlgl\u001b[39m  (2): missing_speed, missing_volume\n",
      "\u001b[34mdttm\u001b[39m (1): timestamp\n",
      "\u001b[34mdate\u001b[39m (1): date\n",
      "\n",
      "\n",
      "\u001b[36mℹ\u001b[39m Use \u001b[30m\u001b[47m\u001b[30m\u001b[47m`spec()`\u001b[47m\u001b[30m\u001b[49m\u001b[39m to retrieve the full column specification for this data.\n",
      "\u001b[36mℹ\u001b[39m Specify the column types or set \u001b[30m\u001b[47m\u001b[30m\u001b[47m`show_col_types = FALSE`\u001b[47m\u001b[30m\u001b[49m\u001b[39m to quiet this message.\n",
      "\n",
      "\u001b[1mRows: \u001b[22m\u001b[34m35040\u001b[39m \u001b[1mColumns: \u001b[22m\u001b[34m10\u001b[39m\n",
      "\n",
      "\u001b[36m──\u001b[39m \u001b[1mColumn specification\u001b[22m \u001b[36m────────────────────────────────────────────────────────\u001b[39m\n",
      "\u001b[1mDelimiter:\u001b[22m \",\"\n",
      "\u001b[31mchr\u001b[39m  (1): site_name\n",
      "\u001b[32mdbl\u001b[39m  (5): day_of_week, day_of_year, interval_of_day, avg_mph, total_volume\n",
      "\u001b[33mlgl\u001b[39m  (2): missing_speed, missing_volume\n",
      "\u001b[34mdttm\u001b[39m (1): timestamp\n",
      "\u001b[34mdate\u001b[39m (1): date\n",
      "\n",
      "\n",
      "\u001b[36mℹ\u001b[39m Use \u001b[30m\u001b[47m\u001b[30m\u001b[47m`spec()`\u001b[47m\u001b[30m\u001b[49m\u001b[39m to retrieve the full column specification for this data.\n",
      "\u001b[36mℹ\u001b[39m Specify the column types or set \u001b[30m\u001b[47m\u001b[30m\u001b[47m`show_col_types = FALSE`\u001b[47m\u001b[30m\u001b[49m\u001b[39m to quiet this message.\n",
      "\n"
     ]
    },
    {
     "name": "stderr",
     "output_type": "stream",
     "text": [
      "\u001b[1mRows: \u001b[22m\u001b[34m35040\u001b[39m \u001b[1mColumns: \u001b[22m\u001b[34m10\u001b[39m\n",
      "\n",
      "\u001b[36m──\u001b[39m \u001b[1mColumn specification\u001b[22m \u001b[36m────────────────────────────────────────────────────────\u001b[39m\n",
      "\u001b[1mDelimiter:\u001b[22m \",\"\n",
      "\u001b[31mchr\u001b[39m  (1): site_name\n",
      "\u001b[32mdbl\u001b[39m  (5): day_of_week, day_of_year, interval_of_day, avg_mph, total_volume\n",
      "\u001b[33mlgl\u001b[39m  (2): missing_speed, missing_volume\n",
      "\u001b[34mdttm\u001b[39m (1): timestamp\n",
      "\u001b[34mdate\u001b[39m (1): date\n",
      "\n",
      "\n",
      "\u001b[36mℹ\u001b[39m Use \u001b[30m\u001b[47m\u001b[30m\u001b[47m`spec()`\u001b[47m\u001b[30m\u001b[49m\u001b[39m to retrieve the full column specification for this data.\n",
      "\u001b[36mℹ\u001b[39m Specify the column types or set \u001b[30m\u001b[47m\u001b[30m\u001b[47m`show_col_types = FALSE`\u001b[47m\u001b[30m\u001b[49m\u001b[39m to quiet this message.\n",
      "\n",
      "\u001b[1mRows: \u001b[22m\u001b[34m35040\u001b[39m \u001b[1mColumns: \u001b[22m\u001b[34m10\u001b[39m\n",
      "\n",
      "\u001b[36m──\u001b[39m \u001b[1mColumn specification\u001b[22m \u001b[36m────────────────────────────────────────────────────────\u001b[39m\n",
      "\u001b[1mDelimiter:\u001b[22m \",\"\n",
      "\u001b[31mchr\u001b[39m  (1): site_name\n",
      "\u001b[32mdbl\u001b[39m  (5): day_of_week, day_of_year, interval_of_day, avg_mph, total_volume\n",
      "\u001b[33mlgl\u001b[39m  (2): missing_speed, missing_volume\n",
      "\u001b[34mdttm\u001b[39m (1): timestamp\n",
      "\u001b[34mdate\u001b[39m (1): date\n",
      "\n",
      "\n",
      "\u001b[36mℹ\u001b[39m Use \u001b[30m\u001b[47m\u001b[30m\u001b[47m`spec()`\u001b[47m\u001b[30m\u001b[49m\u001b[39m to retrieve the full column specification for this data.\n",
      "\u001b[36mℹ\u001b[39m Specify the column types or set \u001b[30m\u001b[47m\u001b[30m\u001b[47m`show_col_types = FALSE`\u001b[47m\u001b[30m\u001b[49m\u001b[39m to quiet this message.\n",
      "\n",
      "\u001b[1mRows: \u001b[22m\u001b[34m35040\u001b[39m \u001b[1mColumns: \u001b[22m\u001b[34m10\u001b[39m\n",
      "\n",
      "\u001b[36m──\u001b[39m \u001b[1mColumn specification\u001b[22m \u001b[36m────────────────────────────────────────────────────────\u001b[39m\n",
      "\u001b[1mDelimiter:\u001b[22m \",\"\n",
      "\u001b[31mchr\u001b[39m  (1): site_name\n",
      "\u001b[32mdbl\u001b[39m  (5): day_of_week, day_of_year, interval_of_day, avg_mph, total_volume\n",
      "\u001b[33mlgl\u001b[39m  (2): missing_speed, missing_volume\n",
      "\u001b[34mdttm\u001b[39m (1): timestamp\n",
      "\u001b[34mdate\u001b[39m (1): date\n",
      "\n",
      "\n",
      "\u001b[36mℹ\u001b[39m Use \u001b[30m\u001b[47m\u001b[30m\u001b[47m`spec()`\u001b[47m\u001b[30m\u001b[49m\u001b[39m to retrieve the full column specification for this data.\n",
      "\u001b[36mℹ\u001b[39m Specify the column types or set \u001b[30m\u001b[47m\u001b[30m\u001b[47m`show_col_types = FALSE`\u001b[47m\u001b[30m\u001b[49m\u001b[39m to quiet this message.\n",
      "\n",
      "\u001b[1mRows: \u001b[22m\u001b[34m35040\u001b[39m \u001b[1mColumns: \u001b[22m\u001b[34m10\u001b[39m\n",
      "\n",
      "\u001b[36m──\u001b[39m \u001b[1mColumn specification\u001b[22m \u001b[36m────────────────────────────────────────────────────────\u001b[39m\n",
      "\u001b[1mDelimiter:\u001b[22m \",\"\n",
      "\u001b[31mchr\u001b[39m  (1): site_name\n",
      "\u001b[32mdbl\u001b[39m  (5): day_of_week, day_of_year, interval_of_day, avg_mph, total_volume\n",
      "\u001b[33mlgl\u001b[39m  (2): missing_speed, missing_volume\n",
      "\u001b[34mdttm\u001b[39m (1): timestamp\n",
      "\u001b[34mdate\u001b[39m (1): date\n",
      "\n",
      "\n",
      "\u001b[36mℹ\u001b[39m Use \u001b[30m\u001b[47m\u001b[30m\u001b[47m`spec()`\u001b[47m\u001b[30m\u001b[49m\u001b[39m to retrieve the full column specification for this data.\n",
      "\u001b[36mℹ\u001b[39m Specify the column types or set \u001b[30m\u001b[47m\u001b[30m\u001b[47m`show_col_types = FALSE`\u001b[47m\u001b[30m\u001b[49m\u001b[39m to quiet this message.\n",
      "\n",
      "\u001b[1mRows: \u001b[22m\u001b[34m35040\u001b[39m \u001b[1mColumns: \u001b[22m\u001b[34m10\u001b[39m\n",
      "\n",
      "\u001b[36m──\u001b[39m \u001b[1mColumn specification\u001b[22m \u001b[36m────────────────────────────────────────────────────────\u001b[39m\n",
      "\u001b[1mDelimiter:\u001b[22m \",\"\n",
      "\u001b[31mchr\u001b[39m  (1): site_name\n",
      "\u001b[32mdbl\u001b[39m  (5): day_of_week, day_of_year, interval_of_day, avg_mph, total_volume\n",
      "\u001b[33mlgl\u001b[39m  (2): missing_speed, missing_volume\n",
      "\u001b[34mdttm\u001b[39m (1): timestamp\n",
      "\u001b[34mdate\u001b[39m (1): date\n",
      "\n",
      "\n",
      "\u001b[36mℹ\u001b[39m Use \u001b[30m\u001b[47m\u001b[30m\u001b[47m`spec()`\u001b[47m\u001b[30m\u001b[49m\u001b[39m to retrieve the full column specification for this data.\n",
      "\u001b[36mℹ\u001b[39m Specify the column types or set \u001b[30m\u001b[47m\u001b[30m\u001b[47m`show_col_types = FALSE`\u001b[47m\u001b[30m\u001b[49m\u001b[39m to quiet this message.\n",
      "\n",
      "\u001b[1mRows: \u001b[22m\u001b[34m35040\u001b[39m \u001b[1mColumns: \u001b[22m\u001b[34m10\u001b[39m\n",
      "\n",
      "\u001b[36m──\u001b[39m \u001b[1mColumn specification\u001b[22m \u001b[36m────────────────────────────────────────────────────────\u001b[39m\n",
      "\u001b[1mDelimiter:\u001b[22m \",\"\n",
      "\u001b[31mchr\u001b[39m  (1): site_name\n",
      "\u001b[32mdbl\u001b[39m  (5): day_of_week, day_of_year, interval_of_day, avg_mph, total_volume\n",
      "\u001b[33mlgl\u001b[39m  (2): missing_speed, missing_volume\n",
      "\u001b[34mdttm\u001b[39m (1): timestamp\n",
      "\u001b[34mdate\u001b[39m (1): date\n",
      "\n",
      "\n",
      "\u001b[36mℹ\u001b[39m Use \u001b[30m\u001b[47m\u001b[30m\u001b[47m`spec()`\u001b[47m\u001b[30m\u001b[49m\u001b[39m to retrieve the full column specification for this data.\n",
      "\u001b[36mℹ\u001b[39m Specify the column types or set \u001b[30m\u001b[47m\u001b[30m\u001b[47m`show_col_types = FALSE`\u001b[47m\u001b[30m\u001b[49m\u001b[39m to quiet this message.\n",
      "\n",
      "\u001b[1mRows: \u001b[22m\u001b[34m35040\u001b[39m \u001b[1mColumns: \u001b[22m\u001b[34m10\u001b[39m\n",
      "\n",
      "\u001b[36m──\u001b[39m \u001b[1mColumn specification\u001b[22m \u001b[36m────────────────────────────────────────────────────────\u001b[39m\n",
      "\u001b[1mDelimiter:\u001b[22m \",\"\n",
      "\u001b[31mchr\u001b[39m  (1): site_name\n",
      "\u001b[32mdbl\u001b[39m  (5): day_of_week, day_of_year, interval_of_day, avg_mph, total_volume\n",
      "\u001b[33mlgl\u001b[39m  (2): missing_speed, missing_volume\n",
      "\u001b[34mdttm\u001b[39m (1): timestamp\n",
      "\u001b[34mdate\u001b[39m (1): date\n",
      "\n",
      "\n",
      "\u001b[36mℹ\u001b[39m Use \u001b[30m\u001b[47m\u001b[30m\u001b[47m`spec()`\u001b[47m\u001b[30m\u001b[49m\u001b[39m to retrieve the full column specification for this data.\n",
      "\u001b[36mℹ\u001b[39m Specify the column types or set \u001b[30m\u001b[47m\u001b[30m\u001b[47m`show_col_types = FALSE`\u001b[47m\u001b[30m\u001b[49m\u001b[39m to quiet this message.\n",
      "\n",
      "\u001b[1mRows: \u001b[22m\u001b[34m35040\u001b[39m \u001b[1mColumns: \u001b[22m\u001b[34m10\u001b[39m\n",
      "\n",
      "\u001b[36m──\u001b[39m \u001b[1mColumn specification\u001b[22m \u001b[36m────────────────────────────────────────────────────────\u001b[39m\n",
      "\u001b[1mDelimiter:\u001b[22m \",\"\n",
      "\u001b[31mchr\u001b[39m  (1): site_name\n",
      "\u001b[32mdbl\u001b[39m  (5): day_of_week, day_of_year, interval_of_day, avg_mph, total_volume\n",
      "\u001b[33mlgl\u001b[39m  (2): missing_speed, missing_volume\n",
      "\u001b[34mdttm\u001b[39m (1): timestamp\n",
      "\u001b[34mdate\u001b[39m (1): date\n",
      "\n",
      "\n",
      "\u001b[36mℹ\u001b[39m Use \u001b[30m\u001b[47m\u001b[30m\u001b[47m`spec()`\u001b[47m\u001b[30m\u001b[49m\u001b[39m to retrieve the full column specification for this data.\n",
      "\u001b[36mℹ\u001b[39m Specify the column types or set \u001b[30m\u001b[47m\u001b[30m\u001b[47m`show_col_types = FALSE`\u001b[47m\u001b[30m\u001b[49m\u001b[39m to quiet this message.\n",
      "\n",
      "\u001b[1mRows: \u001b[22m\u001b[34m35040\u001b[39m \u001b[1mColumns: \u001b[22m\u001b[34m10\u001b[39m\n",
      "\n",
      "\u001b[36m──\u001b[39m \u001b[1mColumn specification\u001b[22m \u001b[36m────────────────────────────────────────────────────────\u001b[39m\n",
      "\u001b[1mDelimiter:\u001b[22m \",\"\n",
      "\u001b[31mchr\u001b[39m  (1): site_name\n",
      "\u001b[32mdbl\u001b[39m  (5): day_of_week, day_of_year, interval_of_day, avg_mph, total_volume\n",
      "\u001b[33mlgl\u001b[39m  (2): missing_speed, missing_volume\n",
      "\u001b[34mdttm\u001b[39m (1): timestamp\n",
      "\u001b[34mdate\u001b[39m (1): date\n",
      "\n",
      "\n",
      "\u001b[36mℹ\u001b[39m Use \u001b[30m\u001b[47m\u001b[30m\u001b[47m`spec()`\u001b[47m\u001b[30m\u001b[49m\u001b[39m to retrieve the full column specification for this data.\n",
      "\u001b[36mℹ\u001b[39m Specify the column types or set \u001b[30m\u001b[47m\u001b[30m\u001b[47m`show_col_types = FALSE`\u001b[47m\u001b[30m\u001b[49m\u001b[39m to quiet this message.\n",
      "\n",
      "\u001b[1mRows: \u001b[22m\u001b[34m35040\u001b[39m \u001b[1mColumns: \u001b[22m\u001b[34m10\u001b[39m\n",
      "\n",
      "\u001b[36m──\u001b[39m \u001b[1mColumn specification\u001b[22m \u001b[36m────────────────────────────────────────────────────────\u001b[39m\n",
      "\u001b[1mDelimiter:\u001b[22m \",\"\n",
      "\u001b[31mchr\u001b[39m  (1): site_name\n",
      "\u001b[32mdbl\u001b[39m  (5): day_of_week, day_of_year, interval_of_day, avg_mph, total_volume\n",
      "\u001b[33mlgl\u001b[39m  (2): missing_speed, missing_volume\n",
      "\u001b[34mdttm\u001b[39m (1): timestamp\n",
      "\u001b[34mdate\u001b[39m (1): date\n",
      "\n",
      "\n",
      "\u001b[36mℹ\u001b[39m Use \u001b[30m\u001b[47m\u001b[30m\u001b[47m`spec()`\u001b[47m\u001b[30m\u001b[49m\u001b[39m to retrieve the full column specification for this data.\n",
      "\u001b[36mℹ\u001b[39m Specify the column types or set \u001b[30m\u001b[47m\u001b[30m\u001b[47m`show_col_types = FALSE`\u001b[47m\u001b[30m\u001b[49m\u001b[39m to quiet this message.\n",
      "\n",
      "\u001b[1mRows: \u001b[22m\u001b[34m35040\u001b[39m \u001b[1mColumns: \u001b[22m\u001b[34m10\u001b[39m\n",
      "\n",
      "\u001b[36m──\u001b[39m \u001b[1mColumn specification\u001b[22m \u001b[36m────────────────────────────────────────────────────────\u001b[39m\n",
      "\u001b[1mDelimiter:\u001b[22m \",\"\n",
      "\u001b[31mchr\u001b[39m  (1): site_name\n",
      "\u001b[32mdbl\u001b[39m  (5): day_of_week, day_of_year, interval_of_day, avg_mph, total_volume\n",
      "\u001b[33mlgl\u001b[39m  (2): missing_speed, missing_volume\n",
      "\u001b[34mdttm\u001b[39m (1): timestamp\n",
      "\u001b[34mdate\u001b[39m (1): date\n",
      "\n",
      "\n",
      "\u001b[36mℹ\u001b[39m Use \u001b[30m\u001b[47m\u001b[30m\u001b[47m`spec()`\u001b[47m\u001b[30m\u001b[49m\u001b[39m to retrieve the full column specification for this data.\n",
      "\u001b[36mℹ\u001b[39m Specify the column types or set \u001b[30m\u001b[47m\u001b[30m\u001b[47m`show_col_types = FALSE`\u001b[47m\u001b[30m\u001b[49m\u001b[39m to quiet this message.\n",
      "\n",
      "\u001b[1mRows: \u001b[22m\u001b[34m35040\u001b[39m \u001b[1mColumns: \u001b[22m\u001b[34m10\u001b[39m\n",
      "\n",
      "\u001b[36m──\u001b[39m \u001b[1mColumn specification\u001b[22m \u001b[36m────────────────────────────────────────────────────────\u001b[39m\n",
      "\u001b[1mDelimiter:\u001b[22m \",\"\n",
      "\u001b[31mchr\u001b[39m  (1): site_name\n",
      "\u001b[32mdbl\u001b[39m  (5): day_of_week, day_of_year, interval_of_day, avg_mph, total_volume\n",
      "\u001b[33mlgl\u001b[39m  (2): missing_speed, missing_volume\n",
      "\u001b[34mdttm\u001b[39m (1): timestamp\n",
      "\u001b[34mdate\u001b[39m (1): date\n",
      "\n",
      "\n",
      "\u001b[36mℹ\u001b[39m Use \u001b[30m\u001b[47m\u001b[30m\u001b[47m`spec()`\u001b[47m\u001b[30m\u001b[49m\u001b[39m to retrieve the full column specification for this data.\n",
      "\u001b[36mℹ\u001b[39m Specify the column types or set \u001b[30m\u001b[47m\u001b[30m\u001b[47m`show_col_types = FALSE`\u001b[47m\u001b[30m\u001b[49m\u001b[39m to quiet this message.\n",
      "\n",
      "\u001b[1mRows: \u001b[22m\u001b[34m35040\u001b[39m \u001b[1mColumns: \u001b[22m\u001b[34m10\u001b[39m\n",
      "\n",
      "\u001b[36m──\u001b[39m \u001b[1mColumn specification\u001b[22m \u001b[36m────────────────────────────────────────────────────────\u001b[39m\n",
      "\u001b[1mDelimiter:\u001b[22m \",\"\n",
      "\u001b[31mchr\u001b[39m  (1): site_name\n",
      "\u001b[32mdbl\u001b[39m  (5): day_of_week, day_of_year, interval_of_day, avg_mph, total_volume\n",
      "\u001b[33mlgl\u001b[39m  (2): missing_speed, missing_volume\n",
      "\u001b[34mdttm\u001b[39m (1): timestamp\n",
      "\u001b[34mdate\u001b[39m (1): date\n",
      "\n"
     ]
    },
    {
     "name": "stderr",
     "output_type": "stream",
     "text": [
      "\n",
      "\u001b[36mℹ\u001b[39m Use \u001b[30m\u001b[47m\u001b[30m\u001b[47m`spec()`\u001b[47m\u001b[30m\u001b[49m\u001b[39m to retrieve the full column specification for this data.\n",
      "\u001b[36mℹ\u001b[39m Specify the column types or set \u001b[30m\u001b[47m\u001b[30m\u001b[47m`show_col_types = FALSE`\u001b[47m\u001b[30m\u001b[49m\u001b[39m to quiet this message.\n",
      "\n",
      "\u001b[1mRows: \u001b[22m\u001b[34m35040\u001b[39m \u001b[1mColumns: \u001b[22m\u001b[34m10\u001b[39m\n",
      "\n",
      "\u001b[36m──\u001b[39m \u001b[1mColumn specification\u001b[22m \u001b[36m────────────────────────────────────────────────────────\u001b[39m\n",
      "\u001b[1mDelimiter:\u001b[22m \",\"\n",
      "\u001b[31mchr\u001b[39m  (1): site_name\n",
      "\u001b[32mdbl\u001b[39m  (5): day_of_week, day_of_year, interval_of_day, avg_mph, total_volume\n",
      "\u001b[33mlgl\u001b[39m  (2): missing_speed, missing_volume\n",
      "\u001b[34mdttm\u001b[39m (1): timestamp\n",
      "\u001b[34mdate\u001b[39m (1): date\n",
      "\n",
      "\n",
      "\u001b[36mℹ\u001b[39m Use \u001b[30m\u001b[47m\u001b[30m\u001b[47m`spec()`\u001b[47m\u001b[30m\u001b[49m\u001b[39m to retrieve the full column specification for this data.\n",
      "\u001b[36mℹ\u001b[39m Specify the column types or set \u001b[30m\u001b[47m\u001b[30m\u001b[47m`show_col_types = FALSE`\u001b[47m\u001b[30m\u001b[49m\u001b[39m to quiet this message.\n",
      "\n",
      "\u001b[1mRows: \u001b[22m\u001b[34m35040\u001b[39m \u001b[1mColumns: \u001b[22m\u001b[34m10\u001b[39m\n",
      "\n",
      "\u001b[36m──\u001b[39m \u001b[1mColumn specification\u001b[22m \u001b[36m────────────────────────────────────────────────────────\u001b[39m\n",
      "\u001b[1mDelimiter:\u001b[22m \",\"\n",
      "\u001b[31mchr\u001b[39m  (1): site_name\n",
      "\u001b[32mdbl\u001b[39m  (5): day_of_week, day_of_year, interval_of_day, avg_mph, total_volume\n",
      "\u001b[33mlgl\u001b[39m  (2): missing_speed, missing_volume\n",
      "\u001b[34mdttm\u001b[39m (1): timestamp\n",
      "\u001b[34mdate\u001b[39m (1): date\n",
      "\n",
      "\n",
      "\u001b[36mℹ\u001b[39m Use \u001b[30m\u001b[47m\u001b[30m\u001b[47m`spec()`\u001b[47m\u001b[30m\u001b[49m\u001b[39m to retrieve the full column specification for this data.\n",
      "\u001b[36mℹ\u001b[39m Specify the column types or set \u001b[30m\u001b[47m\u001b[30m\u001b[47m`show_col_types = FALSE`\u001b[47m\u001b[30m\u001b[49m\u001b[39m to quiet this message.\n",
      "\n",
      "\u001b[1mRows: \u001b[22m\u001b[34m35040\u001b[39m \u001b[1mColumns: \u001b[22m\u001b[34m10\u001b[39m\n",
      "\n",
      "\u001b[36m──\u001b[39m \u001b[1mColumn specification\u001b[22m \u001b[36m────────────────────────────────────────────────────────\u001b[39m\n",
      "\u001b[1mDelimiter:\u001b[22m \",\"\n",
      "\u001b[31mchr\u001b[39m  (1): site_name\n",
      "\u001b[32mdbl\u001b[39m  (5): day_of_week, day_of_year, interval_of_day, avg_mph, total_volume\n",
      "\u001b[33mlgl\u001b[39m  (2): missing_speed, missing_volume\n",
      "\u001b[34mdttm\u001b[39m (1): timestamp\n",
      "\u001b[34mdate\u001b[39m (1): date\n",
      "\n",
      "\n",
      "\u001b[36mℹ\u001b[39m Use \u001b[30m\u001b[47m\u001b[30m\u001b[47m`spec()`\u001b[47m\u001b[30m\u001b[49m\u001b[39m to retrieve the full column specification for this data.\n",
      "\u001b[36mℹ\u001b[39m Specify the column types or set \u001b[30m\u001b[47m\u001b[30m\u001b[47m`show_col_types = FALSE`\u001b[47m\u001b[30m\u001b[49m\u001b[39m to quiet this message.\n",
      "\n",
      "\u001b[1mRows: \u001b[22m\u001b[34m35040\u001b[39m \u001b[1mColumns: \u001b[22m\u001b[34m10\u001b[39m\n",
      "\n",
      "\u001b[36m──\u001b[39m \u001b[1mColumn specification\u001b[22m \u001b[36m────────────────────────────────────────────────────────\u001b[39m\n",
      "\u001b[1mDelimiter:\u001b[22m \",\"\n",
      "\u001b[31mchr\u001b[39m  (1): site_name\n",
      "\u001b[32mdbl\u001b[39m  (5): day_of_week, day_of_year, interval_of_day, avg_mph, total_volume\n",
      "\u001b[33mlgl\u001b[39m  (2): missing_speed, missing_volume\n",
      "\u001b[34mdttm\u001b[39m (1): timestamp\n",
      "\u001b[34mdate\u001b[39m (1): date\n",
      "\n",
      "\n",
      "\u001b[36mℹ\u001b[39m Use \u001b[30m\u001b[47m\u001b[30m\u001b[47m`spec()`\u001b[47m\u001b[30m\u001b[49m\u001b[39m to retrieve the full column specification for this data.\n",
      "\u001b[36mℹ\u001b[39m Specify the column types or set \u001b[30m\u001b[47m\u001b[30m\u001b[47m`show_col_types = FALSE`\u001b[47m\u001b[30m\u001b[49m\u001b[39m to quiet this message.\n",
      "\n",
      "\u001b[1mRows: \u001b[22m\u001b[34m35040\u001b[39m \u001b[1mColumns: \u001b[22m\u001b[34m10\u001b[39m\n",
      "\n",
      "\u001b[36m──\u001b[39m \u001b[1mColumn specification\u001b[22m \u001b[36m────────────────────────────────────────────────────────\u001b[39m\n",
      "\u001b[1mDelimiter:\u001b[22m \",\"\n",
      "\u001b[31mchr\u001b[39m  (1): site_name\n",
      "\u001b[32mdbl\u001b[39m  (5): day_of_week, day_of_year, interval_of_day, avg_mph, total_volume\n",
      "\u001b[33mlgl\u001b[39m  (2): missing_speed, missing_volume\n",
      "\u001b[34mdttm\u001b[39m (1): timestamp\n",
      "\u001b[34mdate\u001b[39m (1): date\n",
      "\n",
      "\n",
      "\u001b[36mℹ\u001b[39m Use \u001b[30m\u001b[47m\u001b[30m\u001b[47m`spec()`\u001b[47m\u001b[30m\u001b[49m\u001b[39m to retrieve the full column specification for this data.\n",
      "\u001b[36mℹ\u001b[39m Specify the column types or set \u001b[30m\u001b[47m\u001b[30m\u001b[47m`show_col_types = FALSE`\u001b[47m\u001b[30m\u001b[49m\u001b[39m to quiet this message.\n",
      "\n",
      "\u001b[1mRows: \u001b[22m\u001b[34m35040\u001b[39m \u001b[1mColumns: \u001b[22m\u001b[34m10\u001b[39m\n",
      "\n",
      "\u001b[36m──\u001b[39m \u001b[1mColumn specification\u001b[22m \u001b[36m────────────────────────────────────────────────────────\u001b[39m\n",
      "\u001b[1mDelimiter:\u001b[22m \",\"\n",
      "\u001b[31mchr\u001b[39m  (1): site_name\n",
      "\u001b[32mdbl\u001b[39m  (5): day_of_week, day_of_year, interval_of_day, avg_mph, total_volume\n",
      "\u001b[33mlgl\u001b[39m  (2): missing_speed, missing_volume\n",
      "\u001b[34mdttm\u001b[39m (1): timestamp\n",
      "\u001b[34mdate\u001b[39m (1): date\n",
      "\n",
      "\n",
      "\u001b[36mℹ\u001b[39m Use \u001b[30m\u001b[47m\u001b[30m\u001b[47m`spec()`\u001b[47m\u001b[30m\u001b[49m\u001b[39m to retrieve the full column specification for this data.\n",
      "\u001b[36mℹ\u001b[39m Specify the column types or set \u001b[30m\u001b[47m\u001b[30m\u001b[47m`show_col_types = FALSE`\u001b[47m\u001b[30m\u001b[49m\u001b[39m to quiet this message.\n",
      "\n",
      "\u001b[1mRows: \u001b[22m\u001b[34m35040\u001b[39m \u001b[1mColumns: \u001b[22m\u001b[34m10\u001b[39m\n",
      "\n",
      "\u001b[36m──\u001b[39m \u001b[1mColumn specification\u001b[22m \u001b[36m────────────────────────────────────────────────────────\u001b[39m\n",
      "\u001b[1mDelimiter:\u001b[22m \",\"\n",
      "\u001b[31mchr\u001b[39m  (1): site_name\n",
      "\u001b[32mdbl\u001b[39m  (5): day_of_week, day_of_year, interval_of_day, avg_mph, total_volume\n",
      "\u001b[33mlgl\u001b[39m  (2): missing_speed, missing_volume\n",
      "\u001b[34mdttm\u001b[39m (1): timestamp\n",
      "\u001b[34mdate\u001b[39m (1): date\n",
      "\n",
      "\n",
      "\u001b[36mℹ\u001b[39m Use \u001b[30m\u001b[47m\u001b[30m\u001b[47m`spec()`\u001b[47m\u001b[30m\u001b[49m\u001b[39m to retrieve the full column specification for this data.\n",
      "\u001b[36mℹ\u001b[39m Specify the column types or set \u001b[30m\u001b[47m\u001b[30m\u001b[47m`show_col_types = FALSE`\u001b[47m\u001b[30m\u001b[49m\u001b[39m to quiet this message.\n",
      "\n",
      "\u001b[1mRows: \u001b[22m\u001b[34m35040\u001b[39m \u001b[1mColumns: \u001b[22m\u001b[34m10\u001b[39m\n",
      "\n",
      "\u001b[36m──\u001b[39m \u001b[1mColumn specification\u001b[22m \u001b[36m────────────────────────────────────────────────────────\u001b[39m\n",
      "\u001b[1mDelimiter:\u001b[22m \",\"\n",
      "\u001b[31mchr\u001b[39m  (1): site_name\n",
      "\u001b[32mdbl\u001b[39m  (5): day_of_week, day_of_year, interval_of_day, avg_mph, total_volume\n",
      "\u001b[33mlgl\u001b[39m  (2): missing_speed, missing_volume\n",
      "\u001b[34mdttm\u001b[39m (1): timestamp\n",
      "\u001b[34mdate\u001b[39m (1): date\n",
      "\n",
      "\n",
      "\u001b[36mℹ\u001b[39m Use \u001b[30m\u001b[47m\u001b[30m\u001b[47m`spec()`\u001b[47m\u001b[30m\u001b[49m\u001b[39m to retrieve the full column specification for this data.\n",
      "\u001b[36mℹ\u001b[39m Specify the column types or set \u001b[30m\u001b[47m\u001b[30m\u001b[47m`show_col_types = FALSE`\u001b[47m\u001b[30m\u001b[49m\u001b[39m to quiet this message.\n",
      "\n",
      "\u001b[1mRows: \u001b[22m\u001b[34m35040\u001b[39m \u001b[1mColumns: \u001b[22m\u001b[34m10\u001b[39m\n",
      "\n",
      "\u001b[36m──\u001b[39m \u001b[1mColumn specification\u001b[22m \u001b[36m────────────────────────────────────────────────────────\u001b[39m\n",
      "\u001b[1mDelimiter:\u001b[22m \",\"\n",
      "\u001b[31mchr\u001b[39m  (1): site_name\n",
      "\u001b[32mdbl\u001b[39m  (5): day_of_week, day_of_year, interval_of_day, avg_mph, total_volume\n",
      "\u001b[33mlgl\u001b[39m  (2): missing_speed, missing_volume\n",
      "\u001b[34mdttm\u001b[39m (1): timestamp\n",
      "\u001b[34mdate\u001b[39m (1): date\n",
      "\n",
      "\n",
      "\u001b[36mℹ\u001b[39m Use \u001b[30m\u001b[47m\u001b[30m\u001b[47m`spec()`\u001b[47m\u001b[30m\u001b[49m\u001b[39m to retrieve the full column specification for this data.\n",
      "\u001b[36mℹ\u001b[39m Specify the column types or set \u001b[30m\u001b[47m\u001b[30m\u001b[47m`show_col_types = FALSE`\u001b[47m\u001b[30m\u001b[49m\u001b[39m to quiet this message.\n",
      "\n",
      "\u001b[1mRows: \u001b[22m\u001b[34m35040\u001b[39m \u001b[1mColumns: \u001b[22m\u001b[34m10\u001b[39m\n",
      "\n",
      "\u001b[36m──\u001b[39m \u001b[1mColumn specification\u001b[22m \u001b[36m────────────────────────────────────────────────────────\u001b[39m\n",
      "\u001b[1mDelimiter:\u001b[22m \",\"\n",
      "\u001b[31mchr\u001b[39m  (1): site_name\n",
      "\u001b[32mdbl\u001b[39m  (5): day_of_week, day_of_year, interval_of_day, avg_mph, total_volume\n",
      "\u001b[33mlgl\u001b[39m  (2): missing_speed, missing_volume\n",
      "\u001b[34mdttm\u001b[39m (1): timestamp\n",
      "\u001b[34mdate\u001b[39m (1): date\n",
      "\n",
      "\n",
      "\u001b[36mℹ\u001b[39m Use \u001b[30m\u001b[47m\u001b[30m\u001b[47m`spec()`\u001b[47m\u001b[30m\u001b[49m\u001b[39m to retrieve the full column specification for this data.\n",
      "\u001b[36mℹ\u001b[39m Specify the column types or set \u001b[30m\u001b[47m\u001b[30m\u001b[47m`show_col_types = FALSE`\u001b[47m\u001b[30m\u001b[49m\u001b[39m to quiet this message.\n",
      "\n",
      "\u001b[1mRows: \u001b[22m\u001b[34m35040\u001b[39m \u001b[1mColumns: \u001b[22m\u001b[34m10\u001b[39m\n",
      "\n",
      "\u001b[36m──\u001b[39m \u001b[1mColumn specification\u001b[22m \u001b[36m────────────────────────────────────────────────────────\u001b[39m\n",
      "\u001b[1mDelimiter:\u001b[22m \",\"\n",
      "\u001b[31mchr\u001b[39m  (1): site_name\n",
      "\u001b[32mdbl\u001b[39m  (5): day_of_week, day_of_year, interval_of_day, avg_mph, total_volume\n",
      "\u001b[33mlgl\u001b[39m  (2): missing_speed, missing_volume\n",
      "\u001b[34mdttm\u001b[39m (1): timestamp\n",
      "\u001b[34mdate\u001b[39m (1): date\n",
      "\n",
      "\n",
      "\u001b[36mℹ\u001b[39m Use \u001b[30m\u001b[47m\u001b[30m\u001b[47m`spec()`\u001b[47m\u001b[30m\u001b[49m\u001b[39m to retrieve the full column specification for this data.\n",
      "\u001b[36mℹ\u001b[39m Specify the column types or set \u001b[30m\u001b[47m\u001b[30m\u001b[47m`show_col_types = FALSE`\u001b[47m\u001b[30m\u001b[49m\u001b[39m to quiet this message.\n",
      "\n",
      "\u001b[1mRows: \u001b[22m\u001b[34m35040\u001b[39m \u001b[1mColumns: \u001b[22m\u001b[34m10\u001b[39m\n",
      "\n",
      "\u001b[36m──\u001b[39m \u001b[1mColumn specification\u001b[22m \u001b[36m────────────────────────────────────────────────────────\u001b[39m\n",
      "\u001b[1mDelimiter:\u001b[22m \",\"\n",
      "\u001b[31mchr\u001b[39m  (1): site_name\n",
      "\u001b[32mdbl\u001b[39m  (5): day_of_week, day_of_year, interval_of_day, avg_mph, total_volume\n",
      "\u001b[33mlgl\u001b[39m  (2): missing_speed, missing_volume\n",
      "\u001b[34mdttm\u001b[39m (1): timestamp\n",
      "\u001b[34mdate\u001b[39m (1): date\n",
      "\n",
      "\n",
      "\u001b[36mℹ\u001b[39m Use \u001b[30m\u001b[47m\u001b[30m\u001b[47m`spec()`\u001b[47m\u001b[30m\u001b[49m\u001b[39m to retrieve the full column specification for this data.\n",
      "\u001b[36mℹ\u001b[39m Specify the column types or set \u001b[30m\u001b[47m\u001b[30m\u001b[47m`show_col_types = FALSE`\u001b[47m\u001b[30m\u001b[49m\u001b[39m to quiet this message.\n",
      "\n"
     ]
    },
    {
     "name": "stderr",
     "output_type": "stream",
     "text": [
      "\u001b[1mRows: \u001b[22m\u001b[34m35040\u001b[39m \u001b[1mColumns: \u001b[22m\u001b[34m10\u001b[39m\n",
      "\n",
      "\u001b[36m──\u001b[39m \u001b[1mColumn specification\u001b[22m \u001b[36m────────────────────────────────────────────────────────\u001b[39m\n",
      "\u001b[1mDelimiter:\u001b[22m \",\"\n",
      "\u001b[31mchr\u001b[39m  (1): site_name\n",
      "\u001b[32mdbl\u001b[39m  (5): day_of_week, day_of_year, interval_of_day, avg_mph, total_volume\n",
      "\u001b[33mlgl\u001b[39m  (2): missing_speed, missing_volume\n",
      "\u001b[34mdttm\u001b[39m (1): timestamp\n",
      "\u001b[34mdate\u001b[39m (1): date\n",
      "\n",
      "\n",
      "\u001b[36mℹ\u001b[39m Use \u001b[30m\u001b[47m\u001b[30m\u001b[47m`spec()`\u001b[47m\u001b[30m\u001b[49m\u001b[39m to retrieve the full column specification for this data.\n",
      "\u001b[36mℹ\u001b[39m Specify the column types or set \u001b[30m\u001b[47m\u001b[30m\u001b[47m`show_col_types = FALSE`\u001b[47m\u001b[30m\u001b[49m\u001b[39m to quiet this message.\n",
      "\n",
      "\u001b[1mRows: \u001b[22m\u001b[34m35040\u001b[39m \u001b[1mColumns: \u001b[22m\u001b[34m10\u001b[39m\n",
      "\n",
      "\u001b[36m──\u001b[39m \u001b[1mColumn specification\u001b[22m \u001b[36m────────────────────────────────────────────────────────\u001b[39m\n",
      "\u001b[1mDelimiter:\u001b[22m \",\"\n",
      "\u001b[31mchr\u001b[39m  (1): site_name\n",
      "\u001b[32mdbl\u001b[39m  (5): day_of_week, day_of_year, interval_of_day, avg_mph, total_volume\n",
      "\u001b[33mlgl\u001b[39m  (2): missing_speed, missing_volume\n",
      "\u001b[34mdttm\u001b[39m (1): timestamp\n",
      "\u001b[34mdate\u001b[39m (1): date\n",
      "\n",
      "\n",
      "\u001b[36mℹ\u001b[39m Use \u001b[30m\u001b[47m\u001b[30m\u001b[47m`spec()`\u001b[47m\u001b[30m\u001b[49m\u001b[39m to retrieve the full column specification for this data.\n",
      "\u001b[36mℹ\u001b[39m Specify the column types or set \u001b[30m\u001b[47m\u001b[30m\u001b[47m`show_col_types = FALSE`\u001b[47m\u001b[30m\u001b[49m\u001b[39m to quiet this message.\n",
      "\n",
      "\u001b[1mRows: \u001b[22m\u001b[34m35040\u001b[39m \u001b[1mColumns: \u001b[22m\u001b[34m10\u001b[39m\n",
      "\n",
      "\u001b[36m──\u001b[39m \u001b[1mColumn specification\u001b[22m \u001b[36m────────────────────────────────────────────────────────\u001b[39m\n",
      "\u001b[1mDelimiter:\u001b[22m \",\"\n",
      "\u001b[31mchr\u001b[39m  (1): site_name\n",
      "\u001b[32mdbl\u001b[39m  (5): day_of_week, day_of_year, interval_of_day, avg_mph, total_volume\n",
      "\u001b[33mlgl\u001b[39m  (2): missing_speed, missing_volume\n",
      "\u001b[34mdttm\u001b[39m (1): timestamp\n",
      "\u001b[34mdate\u001b[39m (1): date\n",
      "\n",
      "\n",
      "\u001b[36mℹ\u001b[39m Use \u001b[30m\u001b[47m\u001b[30m\u001b[47m`spec()`\u001b[47m\u001b[30m\u001b[49m\u001b[39m to retrieve the full column specification for this data.\n",
      "\u001b[36mℹ\u001b[39m Specify the column types or set \u001b[30m\u001b[47m\u001b[30m\u001b[47m`show_col_types = FALSE`\u001b[47m\u001b[30m\u001b[49m\u001b[39m to quiet this message.\n",
      "\n",
      "\u001b[1mRows: \u001b[22m\u001b[34m35040\u001b[39m \u001b[1mColumns: \u001b[22m\u001b[34m10\u001b[39m\n",
      "\n",
      "\u001b[36m──\u001b[39m \u001b[1mColumn specification\u001b[22m \u001b[36m────────────────────────────────────────────────────────\u001b[39m\n",
      "\u001b[1mDelimiter:\u001b[22m \",\"\n",
      "\u001b[31mchr\u001b[39m  (1): site_name\n",
      "\u001b[32mdbl\u001b[39m  (5): day_of_week, day_of_year, interval_of_day, avg_mph, total_volume\n",
      "\u001b[33mlgl\u001b[39m  (2): missing_speed, missing_volume\n",
      "\u001b[34mdttm\u001b[39m (1): timestamp\n",
      "\u001b[34mdate\u001b[39m (1): date\n",
      "\n",
      "\n",
      "\u001b[36mℹ\u001b[39m Use \u001b[30m\u001b[47m\u001b[30m\u001b[47m`spec()`\u001b[47m\u001b[30m\u001b[49m\u001b[39m to retrieve the full column specification for this data.\n",
      "\u001b[36mℹ\u001b[39m Specify the column types or set \u001b[30m\u001b[47m\u001b[30m\u001b[47m`show_col_types = FALSE`\u001b[47m\u001b[30m\u001b[49m\u001b[39m to quiet this message.\n",
      "\n",
      "\u001b[1mRows: \u001b[22m\u001b[34m35040\u001b[39m \u001b[1mColumns: \u001b[22m\u001b[34m10\u001b[39m\n",
      "\n",
      "\u001b[36m──\u001b[39m \u001b[1mColumn specification\u001b[22m \u001b[36m────────────────────────────────────────────────────────\u001b[39m\n",
      "\u001b[1mDelimiter:\u001b[22m \",\"\n",
      "\u001b[31mchr\u001b[39m  (1): site_name\n",
      "\u001b[32mdbl\u001b[39m  (5): day_of_week, day_of_year, interval_of_day, avg_mph, total_volume\n",
      "\u001b[33mlgl\u001b[39m  (2): missing_speed, missing_volume\n",
      "\u001b[34mdttm\u001b[39m (1): timestamp\n",
      "\u001b[34mdate\u001b[39m (1): date\n",
      "\n",
      "\n",
      "\u001b[36mℹ\u001b[39m Use \u001b[30m\u001b[47m\u001b[30m\u001b[47m`spec()`\u001b[47m\u001b[30m\u001b[49m\u001b[39m to retrieve the full column specification for this data.\n",
      "\u001b[36mℹ\u001b[39m Specify the column types or set \u001b[30m\u001b[47m\u001b[30m\u001b[47m`show_col_types = FALSE`\u001b[47m\u001b[30m\u001b[49m\u001b[39m to quiet this message.\n",
      "\n",
      "\u001b[1mRows: \u001b[22m\u001b[34m35040\u001b[39m \u001b[1mColumns: \u001b[22m\u001b[34m10\u001b[39m\n",
      "\n",
      "\u001b[36m──\u001b[39m \u001b[1mColumn specification\u001b[22m \u001b[36m────────────────────────────────────────────────────────\u001b[39m\n",
      "\u001b[1mDelimiter:\u001b[22m \",\"\n",
      "\u001b[31mchr\u001b[39m  (1): site_name\n",
      "\u001b[32mdbl\u001b[39m  (5): day_of_week, day_of_year, interval_of_day, avg_mph, total_volume\n",
      "\u001b[33mlgl\u001b[39m  (2): missing_speed, missing_volume\n",
      "\u001b[34mdttm\u001b[39m (1): timestamp\n",
      "\u001b[34mdate\u001b[39m (1): date\n",
      "\n",
      "\n",
      "\u001b[36mℹ\u001b[39m Use \u001b[30m\u001b[47m\u001b[30m\u001b[47m`spec()`\u001b[47m\u001b[30m\u001b[49m\u001b[39m to retrieve the full column specification for this data.\n",
      "\u001b[36mℹ\u001b[39m Specify the column types or set \u001b[30m\u001b[47m\u001b[30m\u001b[47m`show_col_types = FALSE`\u001b[47m\u001b[30m\u001b[49m\u001b[39m to quiet this message.\n",
      "\n",
      "\u001b[1mRows: \u001b[22m\u001b[34m35040\u001b[39m \u001b[1mColumns: \u001b[22m\u001b[34m10\u001b[39m\n",
      "\n",
      "\u001b[36m──\u001b[39m \u001b[1mColumn specification\u001b[22m \u001b[36m────────────────────────────────────────────────────────\u001b[39m\n",
      "\u001b[1mDelimiter:\u001b[22m \",\"\n",
      "\u001b[31mchr\u001b[39m  (1): site_name\n",
      "\u001b[32mdbl\u001b[39m  (5): day_of_week, day_of_year, interval_of_day, avg_mph, total_volume\n",
      "\u001b[33mlgl\u001b[39m  (2): missing_speed, missing_volume\n",
      "\u001b[34mdttm\u001b[39m (1): timestamp\n",
      "\u001b[34mdate\u001b[39m (1): date\n",
      "\n",
      "\n",
      "\u001b[36mℹ\u001b[39m Use \u001b[30m\u001b[47m\u001b[30m\u001b[47m`spec()`\u001b[47m\u001b[30m\u001b[49m\u001b[39m to retrieve the full column specification for this data.\n",
      "\u001b[36mℹ\u001b[39m Specify the column types or set \u001b[30m\u001b[47m\u001b[30m\u001b[47m`show_col_types = FALSE`\u001b[47m\u001b[30m\u001b[49m\u001b[39m to quiet this message.\n",
      "\n",
      "\u001b[1mRows: \u001b[22m\u001b[34m35040\u001b[39m \u001b[1mColumns: \u001b[22m\u001b[34m10\u001b[39m\n",
      "\n",
      "\u001b[36m──\u001b[39m \u001b[1mColumn specification\u001b[22m \u001b[36m────────────────────────────────────────────────────────\u001b[39m\n",
      "\u001b[1mDelimiter:\u001b[22m \",\"\n",
      "\u001b[31mchr\u001b[39m  (1): site_name\n",
      "\u001b[32mdbl\u001b[39m  (5): day_of_week, day_of_year, interval_of_day, avg_mph, total_volume\n",
      "\u001b[33mlgl\u001b[39m  (2): missing_speed, missing_volume\n",
      "\u001b[34mdttm\u001b[39m (1): timestamp\n",
      "\u001b[34mdate\u001b[39m (1): date\n",
      "\n",
      "\n",
      "\u001b[36mℹ\u001b[39m Use \u001b[30m\u001b[47m\u001b[30m\u001b[47m`spec()`\u001b[47m\u001b[30m\u001b[49m\u001b[39m to retrieve the full column specification for this data.\n",
      "\u001b[36mℹ\u001b[39m Specify the column types or set \u001b[30m\u001b[47m\u001b[30m\u001b[47m`show_col_types = FALSE`\u001b[47m\u001b[30m\u001b[49m\u001b[39m to quiet this message.\n",
      "\n",
      "\u001b[1mRows: \u001b[22m\u001b[34m35040\u001b[39m \u001b[1mColumns: \u001b[22m\u001b[34m10\u001b[39m\n",
      "\n",
      "\u001b[36m──\u001b[39m \u001b[1mColumn specification\u001b[22m \u001b[36m────────────────────────────────────────────────────────\u001b[39m\n",
      "\u001b[1mDelimiter:\u001b[22m \",\"\n",
      "\u001b[31mchr\u001b[39m  (1): site_name\n",
      "\u001b[32mdbl\u001b[39m  (5): day_of_week, day_of_year, interval_of_day, avg_mph, total_volume\n",
      "\u001b[33mlgl\u001b[39m  (2): missing_speed, missing_volume\n",
      "\u001b[34mdttm\u001b[39m (1): timestamp\n",
      "\u001b[34mdate\u001b[39m (1): date\n",
      "\n",
      "\n",
      "\u001b[36mℹ\u001b[39m Use \u001b[30m\u001b[47m\u001b[30m\u001b[47m`spec()`\u001b[47m\u001b[30m\u001b[49m\u001b[39m to retrieve the full column specification for this data.\n",
      "\u001b[36mℹ\u001b[39m Specify the column types or set \u001b[30m\u001b[47m\u001b[30m\u001b[47m`show_col_types = FALSE`\u001b[47m\u001b[30m\u001b[49m\u001b[39m to quiet this message.\n",
      "\n",
      "\u001b[1mRows: \u001b[22m\u001b[34m35040\u001b[39m \u001b[1mColumns: \u001b[22m\u001b[34m10\u001b[39m\n",
      "\n",
      "\u001b[36m──\u001b[39m \u001b[1mColumn specification\u001b[22m \u001b[36m────────────────────────────────────────────────────────\u001b[39m\n",
      "\u001b[1mDelimiter:\u001b[22m \",\"\n",
      "\u001b[31mchr\u001b[39m  (1): site_name\n",
      "\u001b[32mdbl\u001b[39m  (5): day_of_week, day_of_year, interval_of_day, avg_mph, total_volume\n",
      "\u001b[33mlgl\u001b[39m  (2): missing_speed, missing_volume\n",
      "\u001b[34mdttm\u001b[39m (1): timestamp\n",
      "\u001b[34mdate\u001b[39m (1): date\n",
      "\n",
      "\n",
      "\u001b[36mℹ\u001b[39m Use \u001b[30m\u001b[47m\u001b[30m\u001b[47m`spec()`\u001b[47m\u001b[30m\u001b[49m\u001b[39m to retrieve the full column specification for this data.\n",
      "\u001b[36mℹ\u001b[39m Specify the column types or set \u001b[30m\u001b[47m\u001b[30m\u001b[47m`show_col_types = FALSE`\u001b[47m\u001b[30m\u001b[49m\u001b[39m to quiet this message.\n",
      "\n",
      "\u001b[1mRows: \u001b[22m\u001b[34m35040\u001b[39m \u001b[1mColumns: \u001b[22m\u001b[34m10\u001b[39m\n",
      "\n",
      "\u001b[36m──\u001b[39m \u001b[1mColumn specification\u001b[22m \u001b[36m────────────────────────────────────────────────────────\u001b[39m\n",
      "\u001b[1mDelimiter:\u001b[22m \",\"\n",
      "\u001b[31mchr\u001b[39m  (1): site_name\n",
      "\u001b[32mdbl\u001b[39m  (5): day_of_week, day_of_year, interval_of_day, avg_mph, total_volume\n",
      "\u001b[33mlgl\u001b[39m  (2): missing_speed, missing_volume\n",
      "\u001b[34mdttm\u001b[39m (1): timestamp\n",
      "\u001b[34mdate\u001b[39m (1): date\n",
      "\n",
      "\n",
      "\u001b[36mℹ\u001b[39m Use \u001b[30m\u001b[47m\u001b[30m\u001b[47m`spec()`\u001b[47m\u001b[30m\u001b[49m\u001b[39m to retrieve the full column specification for this data.\n",
      "\u001b[36mℹ\u001b[39m Specify the column types or set \u001b[30m\u001b[47m\u001b[30m\u001b[47m`show_col_types = FALSE`\u001b[47m\u001b[30m\u001b[49m\u001b[39m to quiet this message.\n",
      "\n",
      "\u001b[1mRows: \u001b[22m\u001b[34m35040\u001b[39m \u001b[1mColumns: \u001b[22m\u001b[34m10\u001b[39m\n",
      "\n",
      "\u001b[36m──\u001b[39m \u001b[1mColumn specification\u001b[22m \u001b[36m────────────────────────────────────────────────────────\u001b[39m\n",
      "\u001b[1mDelimiter:\u001b[22m \",\"\n",
      "\u001b[31mchr\u001b[39m  (1): site_name\n",
      "\u001b[32mdbl\u001b[39m  (5): day_of_week, day_of_year, interval_of_day, avg_mph, total_volume\n",
      "\u001b[33mlgl\u001b[39m  (2): missing_speed, missing_volume\n",
      "\u001b[34mdttm\u001b[39m (1): timestamp\n",
      "\u001b[34mdate\u001b[39m (1): date\n",
      "\n",
      "\n",
      "\u001b[36mℹ\u001b[39m Use \u001b[30m\u001b[47m\u001b[30m\u001b[47m`spec()`\u001b[47m\u001b[30m\u001b[49m\u001b[39m to retrieve the full column specification for this data.\n",
      "\u001b[36mℹ\u001b[39m Specify the column types or set \u001b[30m\u001b[47m\u001b[30m\u001b[47m`show_col_types = FALSE`\u001b[47m\u001b[30m\u001b[49m\u001b[39m to quiet this message.\n",
      "\n",
      "\u001b[1mRows: \u001b[22m\u001b[34m35040\u001b[39m \u001b[1mColumns: \u001b[22m\u001b[34m10\u001b[39m\n",
      "\n",
      "\u001b[36m──\u001b[39m \u001b[1mColumn specification\u001b[22m \u001b[36m────────────────────────────────────────────────────────\u001b[39m\n",
      "\u001b[1mDelimiter:\u001b[22m \",\"\n",
      "\u001b[31mchr\u001b[39m  (1): site_name\n",
      "\u001b[32mdbl\u001b[39m  (5): day_of_week, day_of_year, interval_of_day, avg_mph, total_volume\n",
      "\u001b[33mlgl\u001b[39m  (2): missing_speed, missing_volume\n",
      "\u001b[34mdttm\u001b[39m (1): timestamp\n",
      "\u001b[34mdate\u001b[39m (1): date\n",
      "\n"
     ]
    },
    {
     "name": "stderr",
     "output_type": "stream",
     "text": [
      "\n",
      "\u001b[36mℹ\u001b[39m Use \u001b[30m\u001b[47m\u001b[30m\u001b[47m`spec()`\u001b[47m\u001b[30m\u001b[49m\u001b[39m to retrieve the full column specification for this data.\n",
      "\u001b[36mℹ\u001b[39m Specify the column types or set \u001b[30m\u001b[47m\u001b[30m\u001b[47m`show_col_types = FALSE`\u001b[47m\u001b[30m\u001b[49m\u001b[39m to quiet this message.\n",
      "\n",
      "\u001b[1mRows: \u001b[22m\u001b[34m35040\u001b[39m \u001b[1mColumns: \u001b[22m\u001b[34m10\u001b[39m\n",
      "\n",
      "\u001b[36m──\u001b[39m \u001b[1mColumn specification\u001b[22m \u001b[36m────────────────────────────────────────────────────────\u001b[39m\n",
      "\u001b[1mDelimiter:\u001b[22m \",\"\n",
      "\u001b[31mchr\u001b[39m  (1): site_name\n",
      "\u001b[32mdbl\u001b[39m  (5): day_of_week, day_of_year, interval_of_day, avg_mph, total_volume\n",
      "\u001b[33mlgl\u001b[39m  (2): missing_speed, missing_volume\n",
      "\u001b[34mdttm\u001b[39m (1): timestamp\n",
      "\u001b[34mdate\u001b[39m (1): date\n",
      "\n",
      "\n",
      "\u001b[36mℹ\u001b[39m Use \u001b[30m\u001b[47m\u001b[30m\u001b[47m`spec()`\u001b[47m\u001b[30m\u001b[49m\u001b[39m to retrieve the full column specification for this data.\n",
      "\u001b[36mℹ\u001b[39m Specify the column types or set \u001b[30m\u001b[47m\u001b[30m\u001b[47m`show_col_types = FALSE`\u001b[47m\u001b[30m\u001b[49m\u001b[39m to quiet this message.\n",
      "\n",
      "\u001b[1mRows: \u001b[22m\u001b[34m35040\u001b[39m \u001b[1mColumns: \u001b[22m\u001b[34m10\u001b[39m\n",
      "\n",
      "\u001b[36m──\u001b[39m \u001b[1mColumn specification\u001b[22m \u001b[36m────────────────────────────────────────────────────────\u001b[39m\n",
      "\u001b[1mDelimiter:\u001b[22m \",\"\n",
      "\u001b[31mchr\u001b[39m  (1): site_name\n",
      "\u001b[32mdbl\u001b[39m  (5): day_of_week, day_of_year, interval_of_day, avg_mph, total_volume\n",
      "\u001b[33mlgl\u001b[39m  (2): missing_speed, missing_volume\n",
      "\u001b[34mdttm\u001b[39m (1): timestamp\n",
      "\u001b[34mdate\u001b[39m (1): date\n",
      "\n",
      "\n",
      "\u001b[36mℹ\u001b[39m Use \u001b[30m\u001b[47m\u001b[30m\u001b[47m`spec()`\u001b[47m\u001b[30m\u001b[49m\u001b[39m to retrieve the full column specification for this data.\n",
      "\u001b[36mℹ\u001b[39m Specify the column types or set \u001b[30m\u001b[47m\u001b[30m\u001b[47m`show_col_types = FALSE`\u001b[47m\u001b[30m\u001b[49m\u001b[39m to quiet this message.\n",
      "\n",
      "\u001b[1mRows: \u001b[22m\u001b[34m35040\u001b[39m \u001b[1mColumns: \u001b[22m\u001b[34m10\u001b[39m\n",
      "\n",
      "\u001b[36m──\u001b[39m \u001b[1mColumn specification\u001b[22m \u001b[36m────────────────────────────────────────────────────────\u001b[39m\n",
      "\u001b[1mDelimiter:\u001b[22m \",\"\n",
      "\u001b[31mchr\u001b[39m  (1): site_name\n",
      "\u001b[32mdbl\u001b[39m  (5): day_of_week, day_of_year, interval_of_day, avg_mph, total_volume\n",
      "\u001b[33mlgl\u001b[39m  (2): missing_speed, missing_volume\n",
      "\u001b[34mdttm\u001b[39m (1): timestamp\n",
      "\u001b[34mdate\u001b[39m (1): date\n",
      "\n",
      "\n",
      "\u001b[36mℹ\u001b[39m Use \u001b[30m\u001b[47m\u001b[30m\u001b[47m`spec()`\u001b[47m\u001b[30m\u001b[49m\u001b[39m to retrieve the full column specification for this data.\n",
      "\u001b[36mℹ\u001b[39m Specify the column types or set \u001b[30m\u001b[47m\u001b[30m\u001b[47m`show_col_types = FALSE`\u001b[47m\u001b[30m\u001b[49m\u001b[39m to quiet this message.\n",
      "\n",
      "\u001b[1mRows: \u001b[22m\u001b[34m35040\u001b[39m \u001b[1mColumns: \u001b[22m\u001b[34m10\u001b[39m\n",
      "\n",
      "\u001b[36m──\u001b[39m \u001b[1mColumn specification\u001b[22m \u001b[36m────────────────────────────────────────────────────────\u001b[39m\n",
      "\u001b[1mDelimiter:\u001b[22m \",\"\n",
      "\u001b[31mchr\u001b[39m  (1): site_name\n",
      "\u001b[32mdbl\u001b[39m  (5): day_of_week, day_of_year, interval_of_day, avg_mph, total_volume\n",
      "\u001b[33mlgl\u001b[39m  (2): missing_speed, missing_volume\n",
      "\u001b[34mdttm\u001b[39m (1): timestamp\n",
      "\u001b[34mdate\u001b[39m (1): date\n",
      "\n",
      "\n",
      "\u001b[36mℹ\u001b[39m Use \u001b[30m\u001b[47m\u001b[30m\u001b[47m`spec()`\u001b[47m\u001b[30m\u001b[49m\u001b[39m to retrieve the full column specification for this data.\n",
      "\u001b[36mℹ\u001b[39m Specify the column types or set \u001b[30m\u001b[47m\u001b[30m\u001b[47m`show_col_types = FALSE`\u001b[47m\u001b[30m\u001b[49m\u001b[39m to quiet this message.\n",
      "\n",
      "\u001b[1mRows: \u001b[22m\u001b[34m35040\u001b[39m \u001b[1mColumns: \u001b[22m\u001b[34m10\u001b[39m\n",
      "\n",
      "\u001b[36m──\u001b[39m \u001b[1mColumn specification\u001b[22m \u001b[36m────────────────────────────────────────────────────────\u001b[39m\n",
      "\u001b[1mDelimiter:\u001b[22m \",\"\n",
      "\u001b[31mchr\u001b[39m  (1): site_name\n",
      "\u001b[32mdbl\u001b[39m  (5): day_of_week, day_of_year, interval_of_day, avg_mph, total_volume\n",
      "\u001b[33mlgl\u001b[39m  (2): missing_speed, missing_volume\n",
      "\u001b[34mdttm\u001b[39m (1): timestamp\n",
      "\u001b[34mdate\u001b[39m (1): date\n",
      "\n",
      "\n",
      "\u001b[36mℹ\u001b[39m Use \u001b[30m\u001b[47m\u001b[30m\u001b[47m`spec()`\u001b[47m\u001b[30m\u001b[49m\u001b[39m to retrieve the full column specification for this data.\n",
      "\u001b[36mℹ\u001b[39m Specify the column types or set \u001b[30m\u001b[47m\u001b[30m\u001b[47m`show_col_types = FALSE`\u001b[47m\u001b[30m\u001b[49m\u001b[39m to quiet this message.\n",
      "\n",
      "\u001b[1mRows: \u001b[22m\u001b[34m35040\u001b[39m \u001b[1mColumns: \u001b[22m\u001b[34m10\u001b[39m\n",
      "\n",
      "\u001b[36m──\u001b[39m \u001b[1mColumn specification\u001b[22m \u001b[36m────────────────────────────────────────────────────────\u001b[39m\n",
      "\u001b[1mDelimiter:\u001b[22m \",\"\n",
      "\u001b[31mchr\u001b[39m  (1): site_name\n",
      "\u001b[32mdbl\u001b[39m  (5): day_of_week, day_of_year, interval_of_day, avg_mph, total_volume\n",
      "\u001b[33mlgl\u001b[39m  (2): missing_speed, missing_volume\n",
      "\u001b[34mdttm\u001b[39m (1): timestamp\n",
      "\u001b[34mdate\u001b[39m (1): date\n",
      "\n",
      "\n",
      "\u001b[36mℹ\u001b[39m Use \u001b[30m\u001b[47m\u001b[30m\u001b[47m`spec()`\u001b[47m\u001b[30m\u001b[49m\u001b[39m to retrieve the full column specification for this data.\n",
      "\u001b[36mℹ\u001b[39m Specify the column types or set \u001b[30m\u001b[47m\u001b[30m\u001b[47m`show_col_types = FALSE`\u001b[47m\u001b[30m\u001b[49m\u001b[39m to quiet this message.\n",
      "\n",
      "\u001b[1mRows: \u001b[22m\u001b[34m35040\u001b[39m \u001b[1mColumns: \u001b[22m\u001b[34m10\u001b[39m\n",
      "\n",
      "\u001b[36m──\u001b[39m \u001b[1mColumn specification\u001b[22m \u001b[36m────────────────────────────────────────────────────────\u001b[39m\n",
      "\u001b[1mDelimiter:\u001b[22m \",\"\n",
      "\u001b[31mchr\u001b[39m  (1): site_name\n",
      "\u001b[32mdbl\u001b[39m  (5): day_of_week, day_of_year, interval_of_day, avg_mph, total_volume\n",
      "\u001b[33mlgl\u001b[39m  (2): missing_speed, missing_volume\n",
      "\u001b[34mdttm\u001b[39m (1): timestamp\n",
      "\u001b[34mdate\u001b[39m (1): date\n",
      "\n",
      "\n",
      "\u001b[36mℹ\u001b[39m Use \u001b[30m\u001b[47m\u001b[30m\u001b[47m`spec()`\u001b[47m\u001b[30m\u001b[49m\u001b[39m to retrieve the full column specification for this data.\n",
      "\u001b[36mℹ\u001b[39m Specify the column types or set \u001b[30m\u001b[47m\u001b[30m\u001b[47m`show_col_types = FALSE`\u001b[47m\u001b[30m\u001b[49m\u001b[39m to quiet this message.\n",
      "\n",
      "\u001b[1mRows: \u001b[22m\u001b[34m35040\u001b[39m \u001b[1mColumns: \u001b[22m\u001b[34m10\u001b[39m\n",
      "\n",
      "\u001b[36m──\u001b[39m \u001b[1mColumn specification\u001b[22m \u001b[36m────────────────────────────────────────────────────────\u001b[39m\n",
      "\u001b[1mDelimiter:\u001b[22m \",\"\n",
      "\u001b[31mchr\u001b[39m  (1): site_name\n",
      "\u001b[32mdbl\u001b[39m  (5): day_of_week, day_of_year, interval_of_day, avg_mph, total_volume\n",
      "\u001b[33mlgl\u001b[39m  (2): missing_speed, missing_volume\n",
      "\u001b[34mdttm\u001b[39m (1): timestamp\n",
      "\u001b[34mdate\u001b[39m (1): date\n",
      "\n",
      "\n",
      "\u001b[36mℹ\u001b[39m Use \u001b[30m\u001b[47m\u001b[30m\u001b[47m`spec()`\u001b[47m\u001b[30m\u001b[49m\u001b[39m to retrieve the full column specification for this data.\n",
      "\u001b[36mℹ\u001b[39m Specify the column types or set \u001b[30m\u001b[47m\u001b[30m\u001b[47m`show_col_types = FALSE`\u001b[47m\u001b[30m\u001b[49m\u001b[39m to quiet this message.\n",
      "\n",
      "\u001b[1mRows: \u001b[22m\u001b[34m35040\u001b[39m \u001b[1mColumns: \u001b[22m\u001b[34m10\u001b[39m\n",
      "\n",
      "\u001b[36m──\u001b[39m \u001b[1mColumn specification\u001b[22m \u001b[36m────────────────────────────────────────────────────────\u001b[39m\n",
      "\u001b[1mDelimiter:\u001b[22m \",\"\n",
      "\u001b[31mchr\u001b[39m  (1): site_name\n",
      "\u001b[32mdbl\u001b[39m  (5): day_of_week, day_of_year, interval_of_day, avg_mph, total_volume\n",
      "\u001b[33mlgl\u001b[39m  (2): missing_speed, missing_volume\n",
      "\u001b[34mdttm\u001b[39m (1): timestamp\n",
      "\u001b[34mdate\u001b[39m (1): date\n",
      "\n",
      "\n",
      "\u001b[36mℹ\u001b[39m Use \u001b[30m\u001b[47m\u001b[30m\u001b[47m`spec()`\u001b[47m\u001b[30m\u001b[49m\u001b[39m to retrieve the full column specification for this data.\n",
      "\u001b[36mℹ\u001b[39m Specify the column types or set \u001b[30m\u001b[47m\u001b[30m\u001b[47m`show_col_types = FALSE`\u001b[47m\u001b[30m\u001b[49m\u001b[39m to quiet this message.\n",
      "\n",
      "\u001b[1mRows: \u001b[22m\u001b[34m35040\u001b[39m \u001b[1mColumns: \u001b[22m\u001b[34m10\u001b[39m\n",
      "\n",
      "\u001b[36m──\u001b[39m \u001b[1mColumn specification\u001b[22m \u001b[36m────────────────────────────────────────────────────────\u001b[39m\n",
      "\u001b[1mDelimiter:\u001b[22m \",\"\n",
      "\u001b[31mchr\u001b[39m  (1): site_name\n",
      "\u001b[32mdbl\u001b[39m  (5): day_of_week, day_of_year, interval_of_day, avg_mph, total_volume\n",
      "\u001b[33mlgl\u001b[39m  (2): missing_speed, missing_volume\n",
      "\u001b[34mdttm\u001b[39m (1): timestamp\n",
      "\u001b[34mdate\u001b[39m (1): date\n",
      "\n",
      "\n",
      "\u001b[36mℹ\u001b[39m Use \u001b[30m\u001b[47m\u001b[30m\u001b[47m`spec()`\u001b[47m\u001b[30m\u001b[49m\u001b[39m to retrieve the full column specification for this data.\n",
      "\u001b[36mℹ\u001b[39m Specify the column types or set \u001b[30m\u001b[47m\u001b[30m\u001b[47m`show_col_types = FALSE`\u001b[47m\u001b[30m\u001b[49m\u001b[39m to quiet this message.\n",
      "\n",
      "\u001b[1mRows: \u001b[22m\u001b[34m35040\u001b[39m \u001b[1mColumns: \u001b[22m\u001b[34m10\u001b[39m\n",
      "\n",
      "\u001b[36m──\u001b[39m \u001b[1mColumn specification\u001b[22m \u001b[36m────────────────────────────────────────────────────────\u001b[39m\n",
      "\u001b[1mDelimiter:\u001b[22m \",\"\n",
      "\u001b[31mchr\u001b[39m  (1): site_name\n",
      "\u001b[32mdbl\u001b[39m  (5): day_of_week, day_of_year, interval_of_day, avg_mph, total_volume\n",
      "\u001b[33mlgl\u001b[39m  (2): missing_speed, missing_volume\n",
      "\u001b[34mdttm\u001b[39m (1): timestamp\n",
      "\u001b[34mdate\u001b[39m (1): date\n",
      "\n",
      "\n",
      "\u001b[36mℹ\u001b[39m Use \u001b[30m\u001b[47m\u001b[30m\u001b[47m`spec()`\u001b[47m\u001b[30m\u001b[49m\u001b[39m to retrieve the full column specification for this data.\n",
      "\u001b[36mℹ\u001b[39m Specify the column types or set \u001b[30m\u001b[47m\u001b[30m\u001b[47m`show_col_types = FALSE`\u001b[47m\u001b[30m\u001b[49m\u001b[39m to quiet this message.\n",
      "\n",
      "\u001b[1mRows: \u001b[22m\u001b[34m35040\u001b[39m \u001b[1mColumns: \u001b[22m\u001b[34m10\u001b[39m\n",
      "\n",
      "\u001b[36m──\u001b[39m \u001b[1mColumn specification\u001b[22m \u001b[36m────────────────────────────────────────────────────────\u001b[39m\n",
      "\u001b[1mDelimiter:\u001b[22m \",\"\n",
      "\u001b[31mchr\u001b[39m  (1): site_name\n",
      "\u001b[32mdbl\u001b[39m  (5): day_of_week, day_of_year, interval_of_day, avg_mph, total_volume\n",
      "\u001b[33mlgl\u001b[39m  (2): missing_speed, missing_volume\n",
      "\u001b[34mdttm\u001b[39m (1): timestamp\n",
      "\u001b[34mdate\u001b[39m (1): date\n",
      "\n",
      "\n",
      "\u001b[36mℹ\u001b[39m Use \u001b[30m\u001b[47m\u001b[30m\u001b[47m`spec()`\u001b[47m\u001b[30m\u001b[49m\u001b[39m to retrieve the full column specification for this data.\n",
      "\u001b[36mℹ\u001b[39m Specify the column types or set \u001b[30m\u001b[47m\u001b[30m\u001b[47m`show_col_types = FALSE`\u001b[47m\u001b[30m\u001b[49m\u001b[39m to quiet this message.\n",
      "\n"
     ]
    },
    {
     "name": "stderr",
     "output_type": "stream",
     "text": [
      "\u001b[1mRows: \u001b[22m\u001b[34m35040\u001b[39m \u001b[1mColumns: \u001b[22m\u001b[34m10\u001b[39m\n",
      "\n",
      "\u001b[36m──\u001b[39m \u001b[1mColumn specification\u001b[22m \u001b[36m────────────────────────────────────────────────────────\u001b[39m\n",
      "\u001b[1mDelimiter:\u001b[22m \",\"\n",
      "\u001b[31mchr\u001b[39m  (1): site_name\n",
      "\u001b[32mdbl\u001b[39m  (5): day_of_week, day_of_year, interval_of_day, avg_mph, total_volume\n",
      "\u001b[33mlgl\u001b[39m  (2): missing_speed, missing_volume\n",
      "\u001b[34mdttm\u001b[39m (1): timestamp\n",
      "\u001b[34mdate\u001b[39m (1): date\n",
      "\n",
      "\n",
      "\u001b[36mℹ\u001b[39m Use \u001b[30m\u001b[47m\u001b[30m\u001b[47m`spec()`\u001b[47m\u001b[30m\u001b[49m\u001b[39m to retrieve the full column specification for this data.\n",
      "\u001b[36mℹ\u001b[39m Specify the column types or set \u001b[30m\u001b[47m\u001b[30m\u001b[47m`show_col_types = FALSE`\u001b[47m\u001b[30m\u001b[49m\u001b[39m to quiet this message.\n",
      "\n"
     ]
    }
   ],
   "source": [
    "# Read in all files from the Data/Processed directory\n",
    "england_fnames <- list.files(\"Data/Processed/Highways_England/\", pattern=\"*.csv\", full.names=TRUE)\n",
    "england_df_list <- lapply(england_fnames, read_csv)\n",
    "\n",
    "portland_fnames <- list.files(\"Data/Processed/Portland/\", pattern=\"*.csv\", full.names=TRUE)\n",
    "portland_df_list <- lapply(portland_fnames, read_csv)\n",
    "\n",
    "utah_fnames <- list.files(\"Data/Processed/Utah/\", pattern=\"*.csv\", full.names=TRUE)\n",
    "utah_df_list <- lapply(utah_fnames, read_csv)"
   ]
  },
  {
   "cell_type": "code",
   "execution_count": 5,
   "id": "11260d4b",
   "metadata": {},
   "outputs": [],
   "source": [
    "england_df_list <- lapply(england_df_list, function(x) x %>% arrange(timestamp))\n",
    "portland_df_list <- lapply(portland_df_list, function(x) x %>% arrange(timestamp))\n",
    "utah_df_list <- lapply(utah_df_list, function(x) x %>% arrange(timestamp))    "
   ]
  },
  {
   "cell_type": "code",
   "execution_count": 6,
   "id": "b58c90cf",
   "metadata": {},
   "outputs": [],
   "source": [
    "total_df_list <- append(append(england_df_list, portland_df_list), utah_df_list)"
   ]
  },
  {
   "cell_type": "code",
   "execution_count": 7,
   "id": "1f639c3b",
   "metadata": {},
   "outputs": [],
   "source": [
    "set.seed(54321)\n",
    "starting_points <- sample(1:((96*365)-(96*12*7)), \n",
    "                          length(total_df_list), \n",
    "                          replace=FALSE)\n",
    "ending_points <- starting_points + (96*7*12) - 1"
   ]
  },
  {
   "cell_type": "code",
   "execution_count": 8,
   "id": "5d794dc9",
   "metadata": {},
   "outputs": [],
   "source": [
    "total_df_list <- lapply(total_df_list, function(x) x %>% mutate(rn = row_number()))"
   ]
  },
  {
   "cell_type": "code",
   "execution_count": 9,
   "id": "55073169",
   "metadata": {},
   "outputs": [],
   "source": [
    "total_df_list_samples <- lapply(1:length(total_df_list), \n",
    "                                function(x) total_df_list[[x]] %>% \n",
    "                                    filter(rn >= starting_points[x]) %>%\n",
    "                                    filter(rn <= ending_points[x]))"
   ]
  },
  {
   "cell_type": "code",
   "execution_count": 10,
   "id": "6c4e596e",
   "metadata": {},
   "outputs": [],
   "source": [
    "total_df_list_samples <- lapply(total_df_list_samples, \n",
    "                                function(x) x %>% mutate(rn = row_number()) %>%\n",
    "                                    mutate(train_val_test = ifelse(rn <= (96*7*8), \n",
    "                                                                   \"train\", \n",
    "                                                                   ifelse(rn <= (96*7*10), \n",
    "                                                                          \"val\", \n",
    "                                                                          \"test\")))\n",
    "                                \n",
    "                               )"
   ]
  },
  {
   "cell_type": "code",
   "execution_count": 11,
   "id": "c75bfe8e",
   "metadata": {},
   "outputs": [],
   "source": [
    "train_val_samples <- lapply(total_df_list_samples, function(x) x %>% filter(train_val_test != \"test\"))"
   ]
  },
  {
   "cell_type": "code",
   "execution_count": 12,
   "id": "38a7b9d3",
   "metadata": {},
   "outputs": [],
   "source": [
    "train_samples <- lapply(total_df_list_samples, function(x) x %>% filter(train_val_test == \"train\"))"
   ]
  },
  {
   "cell_type": "code",
   "execution_count": 13,
   "id": "42166980",
   "metadata": {},
   "outputs": [],
   "source": [
    "val_samples <- lapply(total_df_list_samples, function(x) x %>% filter(train_val_test == \"val\"))"
   ]
  },
  {
   "cell_type": "code",
   "execution_count": 14,
   "id": "3efce20a",
   "metadata": {},
   "outputs": [],
   "source": [
    "test_samples <- lapply(total_df_list_samples, function(x) x %>% filter(train_val_test == \"test\"))"
   ]
  },
  {
   "cell_type": "code",
   "execution_count": 15,
   "id": "4ef418df",
   "metadata": {},
   "outputs": [],
   "source": [
    "train_val_samples_ts <- lapply(train_val_samples, \n",
    "                               function(x) msts(x$total_volume, seasonal.periods=c(24*4, 24*4*7)))"
   ]
  },
  {
   "cell_type": "code",
   "execution_count": 16,
   "id": "70784028",
   "metadata": {},
   "outputs": [],
   "source": [
    "train_samples_ts <- lapply(train_samples,\n",
    "                           function(x) msts(x$total_volume, seasonal.periods=c(24*4, 24*4*7)))"
   ]
  },
  {
   "cell_type": "code",
   "execution_count": 17,
   "id": "7f9e24cf",
   "metadata": {},
   "outputs": [],
   "source": [
    "test_samples_ts <- lapply(test_samples,\n",
    "                          function(x) msts(x$total_volume, seasonal.periods=c(24*4, 24*4*7)))"
   ]
  },
  {
   "cell_type": "code",
   "execution_count": 18,
   "id": "87d70960",
   "metadata": {},
   "outputs": [],
   "source": [
    "val_samples_ts <- lapply(val_samples,\n",
    "                         function(x) msts(x$total_volume, seasonal.periods=c(24*4, 24*4*7)))"
   ]
  },
  {
   "cell_type": "markdown",
   "id": "210d0d62",
   "metadata": {},
   "source": [
    "# Functions for Global AR Models"
   ]
  },
  {
   "cell_type": "code",
   "execution_count": 19,
   "id": "bcf3d78d",
   "metadata": {},
   "outputs": [],
   "source": [
    "asinh_trans <- function(x, lambda) {\n",
    "    x_trans <- asinh(x*lambda)/lambda\n",
    "}"
   ]
  },
  {
   "cell_type": "code",
   "execution_count": 20,
   "id": "b4fff9bc",
   "metadata": {},
   "outputs": [],
   "source": [
    "inv_asinh_trans <- function(x, lambda) {\n",
    "    x_inv <- sinh(x*lambda)/lambda\n",
    "}"
   ]
  },
  {
   "cell_type": "code",
   "execution_count": 21,
   "id": "466494b0",
   "metadata": {},
   "outputs": [],
   "source": [
    "difference <- function(data, lag=1){\n",
    "    diff_data <- diff(data, lag=lag) #lapply(data, function(x) diff(x, lag=lag))                 \n",
    "}"
   ]
  },
  {
   "cell_type": "code",
   "execution_count": 22,
   "id": "1be54bcf",
   "metadata": {},
   "outputs": [],
   "source": [
    "inv_difference <- function(data, lag=1, initial_data=NULL) {\n",
    "    if (is.null(initial_data)) {\n",
    "        undiff <- diffinv(data, lag=lag, differences=1)\n",
    "        \n",
    "    }\n",
    "    else {\n",
    "        undiff <- diffinv(data, lag=lag, differences=1, xi=initial_data)\n",
    "    }\n",
    "}"
   ]
  },
  {
   "cell_type": "code",
   "execution_count": 23,
   "id": "8a448918",
   "metadata": {},
   "outputs": [],
   "source": [
    "# diffs <- c(1)\n",
    "# diff_series_list <- list(model_data$train)\n",
    "\n",
    "# for (i in 1:length(diffs)){\n",
    "#     diff_series <- difference(diff_series_list[[i]], diffs[i])\n",
    "#     diff_series_list <- append(diff_series_list, list(diff_series))\n",
    "# }\n",
    "\n",
    "# for (i in length(diffs):1) {\n",
    "#    undiff_series <- inv_difference(diff_series_list[[(i+1)]],\n",
    "#                                    diffs[i],\n",
    "#                                    lapply(diff_series_list[[i]], function(x) x[1:diffs[i]])\n",
    "#                                   ) \n",
    "# }"
   ]
  },
  {
   "cell_type": "code",
   "execution_count": 24,
   "id": "834de5df",
   "metadata": {},
   "outputs": [],
   "source": [
    "lag_embed <- function(data, lag=1) {\n",
    "    \n",
    "    n_test <- nrow(data %>% filter(train_val_test==\"test\"))\n",
    "    n_val <- nrow(data %>% filter(train_val_test==\"val\"))\n",
    "    \n",
    "    embed_mat <- embed(data$total_volume, (lag+1))\n",
    "    n_mat <- nrow(embed_mat)\n",
    "    \n",
    "    test_idx <- rev(1:n_mat)[1:n_test]\n",
    "    val_idx <- rev(1:n_mat)[-c(1:n_test)][1:n_val]\n",
    "    \n",
    "    train_mat <- embed_mat[-c(val_idx, test_idx),]\n",
    "    val_mat <- embed_mat[val_idx,]\n",
    "    test_mat <- embed_mat[test_idx,]\n",
    "    \n",
    "    return_list <- list(\"train\"=train_mat, \"val\"=val_mat, \"test\"=test_mat)\n",
    "}"
   ]
  },
  {
   "cell_type": "code",
   "execution_count": 25,
   "id": "dada8dc0",
   "metadata": {},
   "outputs": [],
   "source": [
    "global_ar_least_squares <- function(train_list,\n",
    "                                    val_list,\n",
    "                                    return_train_preds=TRUE,\n",
    "                                    return_val_preds=TRUE\n",
    "                                   ) \n",
    "{\n",
    "\n",
    "    model_formula <- paste(colnames(train_list[[1]][2:ncol(train_list[[1]])]), collapse='+')   \n",
    "    model_formula <- paste(paste(colnames(train_list[[1]][1]),model_formula,sep=\"~\"), \"1\", sep=\"-\")    \n",
    "\n",
    "    big_lm_mod <- biglm(as.formula(model_formula), train_list[[1]])    \n",
    "    for (ts in 2:length(train_list)){\n",
    "        big_lm_mod <- update(big_lm_mod, train_list[[ts]])\n",
    "    }     \n",
    "    \n",
    "    train_preds <- data.frame()\n",
    "    for (t in 1:length(train_list)) {\n",
    "        pred <- data.frame(forec=predict(big_lm_mod, newdata=train_list[[t]]), ts_index=t)\n",
    "        train_preds <- rbind(train_preds, pred)\n",
    "    }\n",
    "    \n",
    "    val_preds <- data.frame()\n",
    "    for (val_t in 1:length(val_list)) {\n",
    "        val_pred <- data.frame(forec=predict(big_lm_mod, newdata=val_list[[val_t]]), ts_index=val_t)\n",
    "        val_preds <- rbind(val_preds, val_pred)\n",
    "    }\n",
    "    \n",
    "    train_rmse_ls <- c()\n",
    "    train_mae_ls <- c()\n",
    "    for (idx in 1:length(train_list)) {\n",
    "        rmse_i <- rmse(train_list[[idx]][,1], (train_preds %>% filter(ts_index==idx))$forec)\n",
    "        train_rmse_ls <- c(train_rmse_ls, rmse_i)\n",
    "        \n",
    "        mae_i <- mae(train_list[[idx]][,1], (train_preds %>% filter(ts_index==idx))$forec)\n",
    "        train_mae_ls <- c(train_mae_ls, mae_i)\n",
    "    }\n",
    "    \n",
    "    val_rmse_ls <- c()\n",
    "    val_mae_ls <- c()\n",
    "    for (idx in 1:length(val_list)) {\n",
    "        rmse_val_i <- rmse(val_list[[idx]][,1], (val_preds %>% filter(ts_index==idx))$forec)\n",
    "        val_rmse_ls <- c(val_rmse_ls, rmse_val_i)\n",
    "        \n",
    "        mae_val_i <- mae(val_list[[idx]][,1], (val_preds %>% filter(ts_index==idx))$forec)\n",
    "        val_mae_ls <- c(val_mae_ls, mae_val_i)\n",
    "    }\n",
    "    \n",
    "    \n",
    "    return_list <- list(\"model\"=big_lm_mod, \n",
    "                        \"train_rmse\"=train_rmse_ls, \"train_mae\"=train_mae_ls,\n",
    "                        \"val_rmse\"=val_rmse_ls, \"val_mae\"=val_mae_ls)\n",
    "    \n",
    "    if (return_train_preds) {\n",
    "        return_list <- append(return_list, list(\"train_preds\"=train_preds))\n",
    "    }\n",
    "    \n",
    "    if (return_val_preds) {\n",
    "        return_list <- append(return_list, list(\"val_preds\"=val_preds))\n",
    "    }\n",
    "    \n",
    "    return_list                                           \n",
    "}"
   ]
  },
  {
   "cell_type": "code",
   "execution_count": 26,
   "id": "302f0ad3",
   "metadata": {},
   "outputs": [],
   "source": [
    "global_ar_least_squares_pred <- function(model,\n",
    "                                         test_list,\n",
    "                                         return_preds=TRUE\n",
    "                                        ) \n",
    "{\n",
    "    big_lm_mod <- model\n",
    "    \n",
    "    test_preds <- data.frame()\n",
    "    for (test_t in 1:length(test_list)) {\n",
    "        test_pred <- data.frame(forec=predict(big_lm_mod, newdata=test_list[[test_t]]), ts_index=test_t)\n",
    "        test_preds <- rbind(test_preds, test_pred)\n",
    "    }\n",
    "\n",
    "    test_rmse_ls <- c()\n",
    "    test_mae_ls <- c()\n",
    "    for (idx in 1:length(test_list)) {\n",
    "        rmse_test_i <- rmse(test_list[[idx]][,1], (test_preds %>% filter(ts_index==idx))$forec)\n",
    "        test_rmse_ls <- c(test_rmse_ls, rmse_test_i)\n",
    "    \n",
    "        mae_test_i <- mae(test_list[[idx]][,1], (test_preds %>% filter(ts_index==idx))$forec)\n",
    "        test_mae_ls <- c(test_mae_ls, mae_test_i)\n",
    "    }\n",
    "    \n",
    "    return_list <- list(\"test_rmse\"=test_rmse_ls, \"test_mae\"=test_mae_ls)\n",
    "    \n",
    "    if (return_preds) {\n",
    "        return_list <- append(return_list, list(\"test_preds\"=test_preds))\n",
    "    }\n",
    "    \n",
    "    return_list        \n",
    "}"
   ]
  },
  {
   "cell_type": "markdown",
   "id": "ea60ce6e",
   "metadata": {},
   "source": [
    "# Global AR Model - Full Data"
   ]
  },
  {
   "cell_type": "code",
   "execution_count": 41,
   "id": "dc0352f3",
   "metadata": {},
   "outputs": [],
   "source": [
    "lag_list <- c(1,2,4,24,48,60,96,120,192,240,288,360,384,480,576,600,672,720,768,840,960)"
   ]
  },
  {
   "cell_type": "code",
   "execution_count": 42,
   "id": "415444ba",
   "metadata": {},
   "outputs": [
    {
     "name": "stdout",
     "output_type": "stream",
     "text": [
      "[1] 1\n",
      "[1] 2\n",
      "[1] 4\n",
      "[1] 24\n",
      "[1] 48\n",
      "[1] 60\n",
      "[1] 96\n",
      "[1] 120\n",
      "[1] 192\n",
      "[1] 240\n",
      "[1] 288\n",
      "[1] 360\n",
      "[1] 384\n",
      "[1] 480\n",
      "[1] 576\n",
      "[1] 600\n",
      "[1] 672\n",
      "[1] 720\n",
      "[1] 768\n",
      "[1] 840\n",
      "[1] 960\n"
     ]
    }
   ],
   "source": [
    "mean_train_rmse <- c()\n",
    "median_train_rmse <- c()\n",
    "mean_train_mae <- c()\n",
    "median_train_mae <- c()\n",
    "\n",
    "mean_val_rmse <- c()\n",
    "median_val_rmse <- c()\n",
    "mean_val_mae <- c()\n",
    "median_val_mae <- c()\n",
    "\n",
    "for (lag in lag_list) {\n",
    "    \n",
    "    embed_mat_list <- lapply(total_df_list_samples,\n",
    "                     function(x) lag_embed(x, lag=lag))\n",
    "    embed_train_list <- lapply(embed_mat_list,\n",
    "                               function(x) data.frame(x$train))\n",
    "    embed_val_list <- lapply(embed_mat_list,\n",
    "                             function(x) data.frame(x$val))    \n",
    "                             \n",
    "    global_ar_mod <- global_ar_least_squares(embed_train_list, embed_val_list, FALSE, FALSE)\n",
    "                             \n",
    "    train_rmse_mean <- mean(global_ar_mod$train_rmse)\n",
    "    train_rmse_median <- median(global_ar_mod$train_rmse) \n",
    "    train_mae_mean <- mean(global_ar_mod$train_mae)\n",
    "    train_mae_median <- median(global_ar_mod$train_mae)   \n",
    "                             \n",
    "    val_rmse_mean <- mean(global_ar_mod$val_rmse)\n",
    "    val_rmse_median <- median(global_ar_mod$val_rmse)                                 \n",
    "    val_mae_mean <- mean(global_ar_mod$val_mae)\n",
    "    val_mae_median <- median(global_ar_mod$val_mae)  \n",
    "                             \n",
    "    mean_train_rmse <- c(mean_train_rmse, train_rmse_mean)      \n",
    "    median_train_rmse <- c(median_train_rmse, train_rmse_median)                        \n",
    "    mean_train_mae <- c(mean_train_mae, train_mae_mean)      \n",
    "    median_train_mae <- c(median_train_mae, train_mae_median)                        \n",
    "                             \n",
    "    mean_val_rmse <- c(mean_val_rmse, val_rmse_mean)                         \n",
    "    median_val_rmse <- c(median_val_rmse, val_rmse_median)                               \n",
    "    mean_val_mae <- c(mean_val_mae, val_mae_mean)                         \n",
    "    median_val_mae <- c(median_val_mae, val_mae_median)\n",
    "                             \n",
    "    print(lag)\n",
    "    flush.console()                          \n",
    "}"
   ]
  },
  {
   "cell_type": "code",
   "execution_count": 43,
   "id": "74b24615",
   "metadata": {},
   "outputs": [
    {
     "data": {
      "image/png": "[encoded data removed]",
      "text/plain": [
       "plot without title"
      ]
     },
     "metadata": {
      "image/png": {
       "height": 420,
       "width": 420
      }
     },
     "output_type": "display_data"
    }
   ],
   "source": [
    "ggplot() + \n",
    "    geom_point(aes(x=lag_list, y=mean_train_rmse), col=\"blue\") + \n",
    "    geom_point(aes(x=lag_list, y=mean_val_rmse), col=\"orange\") +\n",
    "    geom_line(aes(x=lag_list, y=mean_train_rmse), col=\"blue\") + \n",
    "    geom_line(aes(x=lag_list, y=mean_val_rmse), col=\"orange\") "
   ]
  },
  {
   "cell_type": "code",
   "execution_count": 44,
   "id": "0ecc75d4",
   "metadata": {},
   "outputs": [
    {
     "data": {
      "image/png": "[encoded data removed]",
      "text/plain": [
       "plot without title"
      ]
     },
     "metadata": {
      "image/png": {
       "height": 420,
       "width": 420
      }
     },
     "output_type": "display_data"
    }
   ],
   "source": [
    "ggplot() + \n",
    "    geom_point(aes(x=lag_list, y=median_train_rmse), col=\"blue\") + \n",
    "    geom_point(aes(x=lag_list, y=median_val_rmse), col=\"orange\") +\n",
    "    geom_line(aes(x=lag_list, y=median_train_rmse), col=\"blue\") + \n",
    "    geom_line(aes(x=lag_list, y=median_val_rmse), col=\"orange\")"
   ]
  },
  {
   "cell_type": "code",
   "execution_count": 45,
   "id": "467dae51",
   "metadata": {},
   "outputs": [
    {
     "data": {
      "image/png": "[encoded data removed]",
      "text/plain": [
       "plot without title"
      ]
     },
     "metadata": {
      "image/png": {
       "height": 420,
       "width": 420
      }
     },
     "output_type": "display_data"
    }
   ],
   "source": [
    "ggplot() + \n",
    "    geom_point(aes(x=lag_list, y=mean_train_mae), col=\"blue\") + \n",
    "    geom_point(aes(x=lag_list, y=mean_val_mae), col=\"orange\") +\n",
    "    geom_line(aes(x=lag_list, y=mean_train_mae), col=\"blue\") + \n",
    "    geom_line(aes(x=lag_list, y=mean_val_mae), col=\"orange\") "
   ]
  },
  {
   "cell_type": "code",
   "execution_count": 46,
   "id": "4f15b596",
   "metadata": {},
   "outputs": [
    {
     "data": {
      "image/png": "[encoded data removed]",
      "text/plain": [
       "plot without title"
      ]
     },
     "metadata": {
      "image/png": {
       "height": 420,
       "width": 420
      }
     },
     "output_type": "display_data"
    }
   ],
   "source": [
    "ggplot() + \n",
    "    geom_point(aes(x=lag_list, y=median_train_mae), col=\"blue\") + \n",
    "    geom_point(aes(x=lag_list, y=median_val_mae), col=\"orange\") +\n",
    "    geom_line(aes(x=lag_list, y=median_train_mae), col=\"blue\") + \n",
    "    geom_line(aes(x=lag_list, y=median_val_mae), col=\"orange\")"
   ]
  },
  {
   "cell_type": "code",
   "execution_count": null,
   "id": "ae516bec",
   "metadata": {},
   "outputs": [],
   "source": []
  },
  {
   "cell_type": "code",
   "execution_count": 50,
   "id": "1c0dc4b8",
   "metadata": {},
   "outputs": [],
   "source": [
    "global_lag_perf_df <- data.frame(lag=lag_list, \n",
    "                                 mean_train_rmse=mean_train_rmse, median_train_rmse=median_train_rmse,\n",
    "                                 mean_train_mae=mean_train_mae, median_train_mae=median_train_mae,\n",
    "                                 mean_val_rmse=mean_val_rmse, median_val_rmse=median_val_rmse,\n",
    "                                 mean_val_mae=mean_val_mae, median_val_mae=median_val_mae\n",
    "                                )"
   ]
  },
  {
   "cell_type": "code",
   "execution_count": 51,
   "id": "08675fd2",
   "metadata": {},
   "outputs": [],
   "source": [
    "write.csv(global_lag_perf_df, \"Results/Pooled Regression Full/lag_performance.csv\", row.names=FALSE)"
   ]
  },
  {
   "cell_type": "markdown",
   "id": "d3d94ae9",
   "metadata": {},
   "source": [
    "## Final Global AR Model - Full Data"
   ]
  },
  {
   "cell_type": "code",
   "execution_count": 31,
   "id": "578b7ea5",
   "metadata": {},
   "outputs": [],
   "source": [
    "embed_mat_list <- lapply(total_df_list_samples,\n",
    "                     function(x) lag_embed(x, lag=840))\n",
    "embed_train_list <- lapply(embed_mat_list,\n",
    "                           function(x) data.frame(x$train))\n",
    "embed_val_list <- lapply(embed_mat_list,\n",
    "                         function(x) data.frame(x$val))   \n",
    "embed_test_list <- lapply(embed_mat_list,\n",
    "                          function(x) data.frame(x$test))                             "
   ]
  },
  {
   "cell_type": "code",
   "execution_count": 77,
   "id": "5a111723",
   "metadata": {},
   "outputs": [],
   "source": [
    "global_ar_final <- global_ar_least_squares(embed_train_list, embed_val_list)"
   ]
  },
  {
   "cell_type": "code",
   "execution_count": 68,
   "id": "a17991be",
   "metadata": {},
   "outputs": [],
   "source": [
    "saveRDS(global_ar_final, \"Results/Pooled Regression Full/global_ar_model.RData\")"
   ]
  },
  {
   "cell_type": "code",
   "execution_count": 80,
   "id": "13e0f02b",
   "metadata": {},
   "outputs": [
    {
     "data": {
      "text/html": [
       "30.7614490641773"
      ],
      "text/latex": [
       "30.7614490641773"
      ],
      "text/markdown": [
       "30.7614490641773"
      ],
      "text/plain": [
       "[1] 30.76145"
      ]
     },
     "metadata": {},
     "output_type": "display_data"
    }
   ],
   "source": [
    "mean(global_ar_final$train_rmse)"
   ]
  },
  {
   "cell_type": "code",
   "execution_count": 81,
   "id": "d1742c72",
   "metadata": {},
   "outputs": [
    {
     "data": {
      "text/html": [
       "20.3194306348961"
      ],
      "text/latex": [
       "20.3194306348961"
      ],
      "text/markdown": [
       "20.3194306348961"
      ],
      "text/plain": [
       "[1] 20.31943"
      ]
     },
     "metadata": {},
     "output_type": "display_data"
    }
   ],
   "source": [
    "mean(global_ar_final$train_mae)"
   ]
  },
  {
   "cell_type": "code",
   "execution_count": 82,
   "id": "dfc6f1fe",
   "metadata": {},
   "outputs": [
    {
     "data": {
      "text/html": [
       "30.804687290443"
      ],
      "text/latex": [
       "30.804687290443"
      ],
      "text/markdown": [
       "30.804687290443"
      ],
      "text/plain": [
       "[1] 30.80469"
      ]
     },
     "metadata": {},
     "output_type": "display_data"
    }
   ],
   "source": [
    "mean(global_ar_final$val_rmse)"
   ]
  },
  {
   "cell_type": "code",
   "execution_count": 83,
   "id": "933a9304",
   "metadata": {},
   "outputs": [
    {
     "data": {
      "text/html": [
       "20.5031920259019"
      ],
      "text/latex": [
       "20.5031920259019"
      ],
      "text/markdown": [
       "20.5031920259019"
      ],
      "text/plain": [
       "[1] 20.50319"
      ]
     },
     "metadata": {},
     "output_type": "display_data"
    }
   ],
   "source": [
    "mean(global_ar_final$val_mae)"
   ]
  },
  {
   "cell_type": "markdown",
   "id": "4e7f6b5a",
   "metadata": {},
   "source": [
    "## Global AR Model Test Predictions - Full Data"
   ]
  },
  {
   "cell_type": "code",
   "execution_count": 79,
   "id": "5d0dcecc",
   "metadata": {},
   "outputs": [],
   "source": [
    "global_ar_final_test_preds <- global_ar_least_squares_pred(global_ar_final$model, embed_test_list)"
   ]
  },
  {
   "cell_type": "code",
   "execution_count": 84,
   "id": "541a00a2",
   "metadata": {},
   "outputs": [
    {
     "data": {
      "text/html": [
       "31.612279125807"
      ],
      "text/latex": [
       "31.612279125807"
      ],
      "text/markdown": [
       "31.612279125807"
      ],
      "text/plain": [
       "[1] 31.61228"
      ]
     },
     "metadata": {},
     "output_type": "display_data"
    }
   ],
   "source": [
    "mean(global_ar_final_test_preds$test_rmse)"
   ]
  },
  {
   "cell_type": "code",
   "execution_count": 85,
   "id": "be1b8883",
   "metadata": {},
   "outputs": [
    {
     "data": {
      "text/html": [
       "20.9212845358174"
      ],
      "text/latex": [
       "20.9212845358174"
      ],
      "text/markdown": [
       "20.9212845358174"
      ],
      "text/plain": [
       "[1] 20.92128"
      ]
     },
     "metadata": {},
     "output_type": "display_data"
    }
   ],
   "source": [
    "mean(global_ar_final_test_preds$test_mae)"
   ]
  },
  {
   "cell_type": "code",
   "execution_count": 87,
   "id": "248874ee",
   "metadata": {},
   "outputs": [],
   "source": [
    "saveRDS(global_ar_final_test_preds, \"Results/Pooled Regression Full/global_ar_model_test_pred.RData\")"
   ]
  },
  {
   "cell_type": "markdown",
   "id": "a241fa3f",
   "metadata": {},
   "source": [
    "# Global AR Model - Random Clustering"
   ]
  },
  {
   "cell_type": "code",
   "execution_count": 88,
   "id": "559cbac3",
   "metadata": {},
   "outputs": [
    {
     "name": "stderr",
     "output_type": "stream",
     "text": [
      "\u001b[1mRows: \u001b[22m\u001b[34m76\u001b[39m \u001b[1mColumns: \u001b[22m\u001b[34m2\u001b[39m\n",
      "\n",
      "\u001b[36m──\u001b[39m \u001b[1mColumn specification\u001b[22m \u001b[36m────────────────────────────────────────────────────────\u001b[39m\n",
      "\u001b[1mDelimiter:\u001b[22m \",\"\n",
      "\u001b[32mdbl\u001b[39m (2): ts_index, random_clust_assign\n",
      "\n",
      "\n",
      "\u001b[36mℹ\u001b[39m Use \u001b[30m\u001b[47m\u001b[30m\u001b[47m`spec()`\u001b[47m\u001b[30m\u001b[49m\u001b[39m to retrieve the full column specification for this data.\n",
      "\u001b[36mℹ\u001b[39m Specify the column types or set \u001b[30m\u001b[47m\u001b[30m\u001b[47m`show_col_types = FALSE`\u001b[47m\u001b[30m\u001b[49m\u001b[39m to quiet this message.\n",
      "\n"
     ]
    }
   ],
   "source": [
    "random_clust <- read_csv('Results/Clustering/Random/random_clustering_assign.csv')"
   ]
  },
  {
   "cell_type": "code",
   "execution_count": 90,
   "id": "3cb31ebe",
   "metadata": {},
   "outputs": [
    {
     "data": {
      "text/html": [
       "<table class=\"dataframe\">\n",
       "<caption>A tibble: 6 × 2</caption>\n",
       "<thead>\n",
       "\t<tr><th scope=col>ts_index</th><th scope=col>random_clust_assign</th></tr>\n",
       "\t<tr><th scope=col>&lt;dbl&gt;</th><th scope=col>&lt;dbl&gt;</th></tr>\n",
       "</thead>\n",
       "<tbody>\n",
       "\t<tr><td>1</td><td>4</td></tr>\n",
       "\t<tr><td>2</td><td>4</td></tr>\n",
       "\t<tr><td>3</td><td>4</td></tr>\n",
       "\t<tr><td>4</td><td>4</td></tr>\n",
       "\t<tr><td>5</td><td>3</td></tr>\n",
       "\t<tr><td>6</td><td>4</td></tr>\n",
       "</tbody>\n",
       "</table>\n"
      ],
      "text/latex": [
       "A tibble: 6 × 2\n",
       "\\begin{tabular}{ll}\n",
       " ts\\_index & random\\_clust\\_assign\\\\\n",
       " <dbl> & <dbl>\\\\\n",
       "\\hline\n",
       "\t 1 & 4\\\\\n",
       "\t 2 & 4\\\\\n",
       "\t 3 & 4\\\\\n",
       "\t 4 & 4\\\\\n",
       "\t 5 & 3\\\\\n",
       "\t 6 & 4\\\\\n",
       "\\end{tabular}\n"
      ],
      "text/markdown": [
       "\n",
       "A tibble: 6 × 2\n",
       "\n",
       "| ts_index &lt;dbl&gt; | random_clust_assign &lt;dbl&gt; |\n",
       "|---|---|\n",
       "| 1 | 4 |\n",
       "| 2 | 4 |\n",
       "| 3 | 4 |\n",
       "| 4 | 4 |\n",
       "| 5 | 3 |\n",
       "| 6 | 4 |\n",
       "\n"
      ],
      "text/plain": [
       "  ts_index random_clust_assign\n",
       "1 1        4                  \n",
       "2 2        4                  \n",
       "3 3        4                  \n",
       "4 4        4                  \n",
       "5 5        3                  \n",
       "6 6        4                  "
      ]
     },
     "metadata": {},
     "output_type": "display_data"
    }
   ],
   "source": [
    "head(random_clust)"
   ]
  },
  {
   "cell_type": "code",
   "execution_count": 98,
   "id": "47d3fe20",
   "metadata": {},
   "outputs": [],
   "source": [
    "embed_train_list_rand_clust_1 <- embed_train_list[c((random_clust %>% filter(random_clust_assign == 1))$ts_index)]\n",
    "embed_train_list_rand_clust_2 <- embed_train_list[c((random_clust %>% filter(random_clust_assign == 2))$ts_index)]\n",
    "embed_train_list_rand_clust_3 <- embed_train_list[c((random_clust %>% filter(random_clust_assign == 3))$ts_index)]\n",
    "embed_train_list_rand_clust_4 <- embed_train_list[c((random_clust %>% filter(random_clust_assign == 4))$ts_index)]\n"
   ]
  },
  {
   "cell_type": "code",
   "execution_count": 99,
   "id": "97e6d107",
   "metadata": {},
   "outputs": [],
   "source": [
    "embed_val_list_rand_clust_1 <- embed_val_list[c((random_clust %>% filter(random_clust_assign == 1))$ts_index)]\n",
    "embed_val_list_rand_clust_2 <- embed_val_list[c((random_clust %>% filter(random_clust_assign == 2))$ts_index)]\n",
    "embed_val_list_rand_clust_3 <- embed_val_list[c((random_clust %>% filter(random_clust_assign == 3))$ts_index)]\n",
    "embed_val_list_rand_clust_4 <- embed_val_list[c((random_clust %>% filter(random_clust_assign == 4))$ts_index)]\n"
   ]
  },
  {
   "cell_type": "code",
   "execution_count": 100,
   "id": "a37cc072",
   "metadata": {},
   "outputs": [],
   "source": [
    "embed_test_list_rand_clust_1 <- embed_test_list[c((random_clust %>% filter(random_clust_assign == 1))$ts_index)]\n",
    "embed_test_list_rand_clust_2 <- embed_test_list[c((random_clust %>% filter(random_clust_assign == 2))$ts_index)]\n",
    "embed_test_list_rand_clust_3 <- embed_test_list[c((random_clust %>% filter(random_clust_assign == 3))$ts_index)]\n",
    "embed_test_list_rand_clust_4 <- embed_test_list[c((random_clust %>% filter(random_clust_assign == 4))$ts_index)]\n"
   ]
  },
  {
   "cell_type": "code",
   "execution_count": 102,
   "id": "a121f234",
   "metadata": {},
   "outputs": [],
   "source": [
    "global_ar_rand_clust_1 <- global_ar_least_squares(embed_train_list_rand_clust_1, embed_val_list_rand_clust_1)\n",
    "global_ar_rand_clust_2 <- global_ar_least_squares(embed_train_list_rand_clust_2, embed_val_list_rand_clust_2)\n",
    "global_ar_rand_clust_3 <- global_ar_least_squares(embed_train_list_rand_clust_3, embed_val_list_rand_clust_3)\n",
    "global_ar_rand_clust_4 <- global_ar_least_squares(embed_train_list_rand_clust_4, embed_val_list_rand_clust_4)"
   ]
  },
  {
   "cell_type": "code",
   "execution_count": 103,
   "id": "799dc526",
   "metadata": {},
   "outputs": [],
   "source": [
    "saveRDS(global_ar_rand_clust_1, \n",
    "        \"Results/Pooled Regression Clustering/Random Clustering/global_ar_model_cluster_1.RData\")\n",
    "\n",
    "saveRDS(global_ar_rand_clust_2, \n",
    "        \"Results/Pooled Regression Clustering/Random Clustering/global_ar_model_cluster_2.RData\")\n",
    "\n",
    "saveRDS(global_ar_rand_clust_3, \n",
    "        \"Results/Pooled Regression Clustering/Random Clustering/global_ar_model_cluster_3.RData\")\n",
    "\n",
    "saveRDS(global_ar_rand_clust_4, \n",
    "        \"Results/Pooled Regression Clustering/Random Clustering/global_ar_model_cluster_4.RData\")"
   ]
  },
  {
   "cell_type": "code",
   "execution_count": 154,
   "id": "d9898567",
   "metadata": {},
   "outputs": [
    {
     "data": {
      "text/html": [
       "22.0800515284434"
      ],
      "text/latex": [
       "22.0800515284434"
      ],
      "text/markdown": [
       "22.0800515284434"
      ],
      "text/plain": [
       "[1] 22.08005"
      ]
     },
     "metadata": {},
     "output_type": "display_data"
    }
   ],
   "source": [
    "mean(global_ar_rand_clust_1$train_rmse)"
   ]
  },
  {
   "cell_type": "code",
   "execution_count": 155,
   "id": "f5894fcb",
   "metadata": {},
   "outputs": [
    {
     "data": {
      "text/html": [
       "28.7089638320962"
      ],
      "text/latex": [
       "28.7089638320962"
      ],
      "text/markdown": [
       "28.7089638320962"
      ],
      "text/plain": [
       "[1] 28.70896"
      ]
     },
     "metadata": {},
     "output_type": "display_data"
    }
   ],
   "source": [
    "mean(global_ar_rand_clust_2$train_rmse)"
   ]
  },
  {
   "cell_type": "code",
   "execution_count": 156,
   "id": "d3aea24a",
   "metadata": {},
   "outputs": [
    {
     "data": {
      "text/html": [
       "32.0699149774311"
      ],
      "text/latex": [
       "32.0699149774311"
      ],
      "text/markdown": [
       "32.0699149774311"
      ],
      "text/plain": [
       "[1] 32.06991"
      ]
     },
     "metadata": {},
     "output_type": "display_data"
    }
   ],
   "source": [
    "mean(global_ar_rand_clust_3$train_rmse)"
   ]
  },
  {
   "cell_type": "code",
   "execution_count": 157,
   "id": "73088d8e",
   "metadata": {},
   "outputs": [
    {
     "data": {
      "text/html": [
       "39.4543428097711"
      ],
      "text/latex": [
       "39.4543428097711"
      ],
      "text/markdown": [
       "39.4543428097711"
      ],
      "text/plain": [
       "[1] 39.45434"
      ]
     },
     "metadata": {},
     "output_type": "display_data"
    }
   ],
   "source": [
    "mean(global_ar_rand_clust_4$train_rmse)"
   ]
  },
  {
   "cell_type": "code",
   "execution_count": 158,
   "id": "b11e63a5",
   "metadata": {},
   "outputs": [
    {
     "data": {
      "text/html": [
       "22.7141264712803"
      ],
      "text/latex": [
       "22.7141264712803"
      ],
      "text/markdown": [
       "22.7141264712803"
      ],
      "text/plain": [
       "[1] 22.71413"
      ]
     },
     "metadata": {},
     "output_type": "display_data"
    }
   ],
   "source": [
    "mean(global_ar_rand_clust_1$val_rmse)"
   ]
  },
  {
   "cell_type": "code",
   "execution_count": 159,
   "id": "b4862aa2",
   "metadata": {},
   "outputs": [
    {
     "data": {
      "text/html": [
       "30.5951402055733"
      ],
      "text/latex": [
       "30.5951402055733"
      ],
      "text/markdown": [
       "30.5951402055733"
      ],
      "text/plain": [
       "[1] 30.59514"
      ]
     },
     "metadata": {},
     "output_type": "display_data"
    }
   ],
   "source": [
    "mean(global_ar_rand_clust_2$val_rmse)"
   ]
  },
  {
   "cell_type": "code",
   "execution_count": 160,
   "id": "c5592a72",
   "metadata": {},
   "outputs": [
    {
     "data": {
      "text/html": [
       "31.2432321986362"
      ],
      "text/latex": [
       "31.2432321986362"
      ],
      "text/markdown": [
       "31.2432321986362"
      ],
      "text/plain": [
       "[1] 31.24323"
      ]
     },
     "metadata": {},
     "output_type": "display_data"
    }
   ],
   "source": [
    "mean(global_ar_rand_clust_3$val_rmse)"
   ]
  },
  {
   "cell_type": "code",
   "execution_count": 161,
   "id": "7c004a1c",
   "metadata": {},
   "outputs": [
    {
     "data": {
      "text/html": [
       "39.1161678766602"
      ],
      "text/latex": [
       "39.1161678766602"
      ],
      "text/markdown": [
       "39.1161678766602"
      ],
      "text/plain": [
       "[1] 39.11617"
      ]
     },
     "metadata": {},
     "output_type": "display_data"
    }
   ],
   "source": [
    "mean(global_ar_rand_clust_4$val_rmse)"
   ]
  },
  {
   "cell_type": "markdown",
   "id": "28e59a0a",
   "metadata": {},
   "source": [
    "## Test Preds"
   ]
  },
  {
   "cell_type": "code",
   "execution_count": 104,
   "id": "f61174da",
   "metadata": {},
   "outputs": [],
   "source": [
    "global_ar_rand_clust_1_preds <- global_ar_least_squares_pred(global_ar_rand_clust_1$model, \n",
    "                                                             embed_test_list_rand_clust_1)\n",
    "\n",
    "global_ar_rand_clust_2_preds <- global_ar_least_squares_pred(global_ar_rand_clust_2$model, \n",
    "                                                             embed_test_list_rand_clust_2)\n",
    "\n",
    "global_ar_rand_clust_3_preds <- global_ar_least_squares_pred(global_ar_rand_clust_3$model, \n",
    "                                                             embed_test_list_rand_clust_3)\n",
    "\n",
    "global_ar_rand_clust_4_preds <- global_ar_least_squares_pred(global_ar_rand_clust_4$model, \n",
    "                                                             embed_test_list_rand_clust_4)"
   ]
  },
  {
   "cell_type": "code",
   "execution_count": 105,
   "id": "5ed16b1e",
   "metadata": {},
   "outputs": [
    {
     "data": {
      "text/html": [
       "22.7879513435866"
      ],
      "text/latex": [
       "22.7879513435866"
      ],
      "text/markdown": [
       "22.7879513435866"
      ],
      "text/plain": [
       "[1] 22.78795"
      ]
     },
     "metadata": {},
     "output_type": "display_data"
    }
   ],
   "source": [
    "mean(global_ar_rand_clust_1_preds$test_rmse)"
   ]
  },
  {
   "cell_type": "code",
   "execution_count": 106,
   "id": "a215f37a",
   "metadata": {},
   "outputs": [
    {
     "data": {
      "text/html": [
       "29.9561295664732"
      ],
      "text/latex": [
       "29.9561295664732"
      ],
      "text/markdown": [
       "29.9561295664732"
      ],
      "text/plain": [
       "[1] 29.95613"
      ]
     },
     "metadata": {},
     "output_type": "display_data"
    }
   ],
   "source": [
    "mean(global_ar_rand_clust_2_preds$test_rmse)"
   ]
  },
  {
   "cell_type": "code",
   "execution_count": 107,
   "id": "4e646c71",
   "metadata": {},
   "outputs": [
    {
     "data": {
      "text/html": [
       "33.0268789225398"
      ],
      "text/latex": [
       "33.0268789225398"
      ],
      "text/markdown": [
       "33.0268789225398"
      ],
      "text/plain": [
       "[1] 33.02688"
      ]
     },
     "metadata": {},
     "output_type": "display_data"
    }
   ],
   "source": [
    "mean(global_ar_rand_clust_3_preds$test_rmse)"
   ]
  },
  {
   "cell_type": "code",
   "execution_count": 108,
   "id": "ebf6cd81",
   "metadata": {},
   "outputs": [
    {
     "data": {
      "text/html": [
       "41.5820491412863"
      ],
      "text/latex": [
       "41.5820491412863"
      ],
      "text/markdown": [
       "41.5820491412863"
      ],
      "text/plain": [
       "[1] 41.58205"
      ]
     },
     "metadata": {},
     "output_type": "display_data"
    }
   ],
   "source": [
    "mean(global_ar_rand_clust_4_preds$test_rmse)"
   ]
  },
  {
   "cell_type": "code",
   "execution_count": 110,
   "id": "dfacbedc",
   "metadata": {},
   "outputs": [
    {
     "data": {
      "text/html": [
       "31.8382522434715"
      ],
      "text/latex": [
       "31.8382522434715"
      ],
      "text/markdown": [
       "31.8382522434715"
      ],
      "text/plain": [
       "[1] 31.83825"
      ]
     },
     "metadata": {},
     "output_type": "display_data"
    }
   ],
   "source": [
    "mean(c(global_ar_rand_clust_1_preds$test_rmse,\n",
    "       global_ar_rand_clust_2_preds$test_rmse,\n",
    "       global_ar_rand_clust_3_preds$test_rmse,\n",
    "       global_ar_rand_clust_4_preds$test_rmse\n",
    "      ))"
   ]
  },
  {
   "cell_type": "code",
   "execution_count": 111,
   "id": "a9b515c1",
   "metadata": {},
   "outputs": [
    {
     "data": {
      "text/html": [
       "15.3947734735681"
      ],
      "text/latex": [
       "15.3947734735681"
      ],
      "text/markdown": [
       "15.3947734735681"
      ],
      "text/plain": [
       "[1] 15.39477"
      ]
     },
     "metadata": {},
     "output_type": "display_data"
    }
   ],
   "source": [
    "mean(global_ar_rand_clust_1_preds$test_mae)"
   ]
  },
  {
   "cell_type": "code",
   "execution_count": 112,
   "id": "b75f0f9e",
   "metadata": {},
   "outputs": [
    {
     "data": {
      "text/html": [
       "20.2814769910862"
      ],
      "text/latex": [
       "20.2814769910862"
      ],
      "text/markdown": [
       "20.2814769910862"
      ],
      "text/plain": [
       "[1] 20.28148"
      ]
     },
     "metadata": {},
     "output_type": "display_data"
    }
   ],
   "source": [
    "mean(global_ar_rand_clust_2_preds$test_mae)"
   ]
  },
  {
   "cell_type": "code",
   "execution_count": 113,
   "id": "bdc4573d",
   "metadata": {},
   "outputs": [
    {
     "data": {
      "text/html": [
       "22.0757141008308"
      ],
      "text/latex": [
       "22.0757141008308"
      ],
      "text/markdown": [
       "22.0757141008308"
      ],
      "text/plain": [
       "[1] 22.07571"
      ]
     },
     "metadata": {},
     "output_type": "display_data"
    }
   ],
   "source": [
    "mean(global_ar_rand_clust_3_preds$test_mae)"
   ]
  },
  {
   "cell_type": "code",
   "execution_count": 114,
   "id": "04268b22",
   "metadata": {},
   "outputs": [
    {
     "data": {
      "text/html": [
       "27.0855854254544"
      ],
      "text/latex": [
       "27.0855854254544"
      ],
      "text/markdown": [
       "27.0855854254544"
      ],
      "text/plain": [
       "[1] 27.08559"
      ]
     },
     "metadata": {},
     "output_type": "display_data"
    }
   ],
   "source": [
    "mean(global_ar_rand_clust_4_preds$test_mae)"
   ]
  },
  {
   "cell_type": "code",
   "execution_count": 115,
   "id": "36b56020",
   "metadata": {},
   "outputs": [
    {
     "data": {
      "text/html": [
       "21.2093874977349"
      ],
      "text/latex": [
       "21.2093874977349"
      ],
      "text/markdown": [
       "21.2093874977349"
      ],
      "text/plain": [
       "[1] 21.20939"
      ]
     },
     "metadata": {},
     "output_type": "display_data"
    }
   ],
   "source": [
    "mean(c(global_ar_rand_clust_1_preds$test_mae,\n",
    "       global_ar_rand_clust_2_preds$test_mae,\n",
    "       global_ar_rand_clust_3_preds$test_mae,\n",
    "       global_ar_rand_clust_4_preds$test_mae\n",
    "      ))"
   ]
  },
  {
   "cell_type": "code",
   "execution_count": 117,
   "id": "aea7bf96",
   "metadata": {},
   "outputs": [],
   "source": [
    "saveRDS(global_ar_rand_clust_1_preds, \n",
    "        \"Results/Pooled Regression Clustering/Random Clustering/global_ar_model_cluster_1_test_pred.RData\")\n",
    "\n",
    "saveRDS(global_ar_rand_clust_2_preds, \n",
    "        \"Results/Pooled Regression Clustering/Random Clustering/global_ar_model_cluster_2_test_pred.RData\")\n",
    "\n",
    "saveRDS(global_ar_rand_clust_3_preds, \n",
    "        \"Results/Pooled Regression Clustering/Random Clustering/global_ar_model_cluster_3_test_pred.RData\")\n",
    "\n",
    "saveRDS(global_ar_rand_clust_4_preds, \n",
    "        \"Results/Pooled Regression Clustering/Random Clustering/global_ar_model_cluster_4_test_pred.RData\")"
   ]
  },
  {
   "cell_type": "markdown",
   "id": "1c87986e",
   "metadata": {},
   "source": [
    "# Global AR Model - KMeans Catch22 Clustering"
   ]
  },
  {
   "cell_type": "code",
   "execution_count": 147,
   "id": "6ce99d9c",
   "metadata": {},
   "outputs": [
    {
     "name": "stderr",
     "output_type": "stream",
     "text": [
      "\u001b[1mRows: \u001b[22m\u001b[34m76\u001b[39m \u001b[1mColumns: \u001b[22m\u001b[34m2\u001b[39m\n",
      "\n",
      "\u001b[36m──\u001b[39m \u001b[1mColumn specification\u001b[22m \u001b[36m────────────────────────────────────────────────────────\u001b[39m\n",
      "\u001b[1mDelimiter:\u001b[22m \",\"\n",
      "\u001b[32mdbl\u001b[39m (2): ts_index, kmeans_catch22_clust_assign\n",
      "\n",
      "\n",
      "\u001b[36mℹ\u001b[39m Use \u001b[30m\u001b[47m\u001b[30m\u001b[47m`spec()`\u001b[47m\u001b[30m\u001b[49m\u001b[39m to retrieve the full column specification for this data.\n",
      "\u001b[36mℹ\u001b[39m Specify the column types or set \u001b[30m\u001b[47m\u001b[30m\u001b[47m`show_col_types = FALSE`\u001b[47m\u001b[30m\u001b[49m\u001b[39m to quiet this message.\n",
      "\n"
     ]
    }
   ],
   "source": [
    "kmeans_catch22_clust <- read_csv('Results/Clustering/KMeans/kmeans_catch22_clustering_assign.csv')"
   ]
  },
  {
   "cell_type": "code",
   "execution_count": 148,
   "id": "cc1f7dd6",
   "metadata": {},
   "outputs": [
    {
     "data": {
      "text/html": [
       "<table class=\"dataframe\">\n",
       "<caption>A tibble: 6 × 2</caption>\n",
       "<thead>\n",
       "\t<tr><th scope=col>ts_index</th><th scope=col>kmeans_catch22_clust_assign</th></tr>\n",
       "\t<tr><th scope=col>&lt;dbl&gt;</th><th scope=col>&lt;dbl&gt;</th></tr>\n",
       "</thead>\n",
       "<tbody>\n",
       "\t<tr><td>1</td><td>1</td></tr>\n",
       "\t<tr><td>2</td><td>1</td></tr>\n",
       "\t<tr><td>3</td><td>1</td></tr>\n",
       "\t<tr><td>4</td><td>1</td></tr>\n",
       "\t<tr><td>5</td><td>1</td></tr>\n",
       "\t<tr><td>6</td><td>1</td></tr>\n",
       "</tbody>\n",
       "</table>\n"
      ],
      "text/latex": [
       "A tibble: 6 × 2\n",
       "\\begin{tabular}{ll}\n",
       " ts\\_index & kmeans\\_catch22\\_clust\\_assign\\\\\n",
       " <dbl> & <dbl>\\\\\n",
       "\\hline\n",
       "\t 1 & 1\\\\\n",
       "\t 2 & 1\\\\\n",
       "\t 3 & 1\\\\\n",
       "\t 4 & 1\\\\\n",
       "\t 5 & 1\\\\\n",
       "\t 6 & 1\\\\\n",
       "\\end{tabular}\n"
      ],
      "text/markdown": [
       "\n",
       "A tibble: 6 × 2\n",
       "\n",
       "| ts_index &lt;dbl&gt; | kmeans_catch22_clust_assign &lt;dbl&gt; |\n",
       "|---|---|\n",
       "| 1 | 1 |\n",
       "| 2 | 1 |\n",
       "| 3 | 1 |\n",
       "| 4 | 1 |\n",
       "| 5 | 1 |\n",
       "| 6 | 1 |\n",
       "\n"
      ],
      "text/plain": [
       "  ts_index kmeans_catch22_clust_assign\n",
       "1 1        1                          \n",
       "2 2        1                          \n",
       "3 3        1                          \n",
       "4 4        1                          \n",
       "5 5        1                          \n",
       "6 6        1                          "
      ]
     },
     "metadata": {},
     "output_type": "display_data"
    }
   ],
   "source": [
    "head(kmeans_catch22_clust)"
   ]
  },
  {
   "cell_type": "code",
   "execution_count": 149,
   "id": "92633608",
   "metadata": {},
   "outputs": [
    {
     "data": {
      "text/html": [
       "2"
      ],
      "text/latex": [
       "2"
      ],
      "text/markdown": [
       "2"
      ],
      "text/plain": [
       "[1] 2"
      ]
     },
     "metadata": {},
     "output_type": "display_data"
    }
   ],
   "source": [
    "max(kmeans_catch22_clust$kmeans_catch22_clust_assign)"
   ]
  },
  {
   "cell_type": "code",
   "execution_count": 150,
   "id": "fe5465d4",
   "metadata": {},
   "outputs": [],
   "source": [
    "embed_train_list_kmeans_catch22_clust_1 <- embed_train_list[c((kmeans_catch22_clust %>% \n",
    "                                                               filter(kmeans_catch22_clust_assign == 1))$ts_index)]\n",
    "embed_train_list_kmeans_catch22_clust_2 <- embed_train_list[c((kmeans_catch22_clust %>% \n",
    "                                                               filter(kmeans_catch22_clust_assign == 2))$ts_index)]"
   ]
  },
  {
   "cell_type": "code",
   "execution_count": 151,
   "id": "38a62cf5",
   "metadata": {},
   "outputs": [],
   "source": [
    "embed_val_list_kmeans_catch22_clust_1 <- embed_val_list[c((kmeans_catch22_clust %>% \n",
    "                                                               filter(kmeans_catch22_clust_assign == 1))$ts_index)]\n",
    "embed_val_list_kmeans_catch22_clust_2 <- embed_val_list[c((kmeans_catch22_clust %>% \n",
    "                                                               filter(kmeans_catch22_clust_assign == 2))$ts_index)]"
   ]
  },
  {
   "cell_type": "code",
   "execution_count": 152,
   "id": "22e0c653",
   "metadata": {},
   "outputs": [],
   "source": [
    "embed_test_list_kmeans_catch22_clust_1 <- embed_test_list[c((kmeans_catch22_clust %>% \n",
    "                                                               filter(kmeans_catch22_clust_assign == 1))$ts_index)]\n",
    "embed_test_list_kmeans_catch22_clust_2 <- embed_test_list[c((kmeans_catch22_clust %>% \n",
    "                                                               filter(kmeans_catch22_clust_assign == 2))$ts_index)]"
   ]
  },
  {
   "cell_type": "code",
   "execution_count": 153,
   "id": "e6ce4773",
   "metadata": {},
   "outputs": [],
   "source": [
    "global_ar_kmeans_catch22_clust_1 <- global_ar_least_squares(embed_train_list_kmeans_catch22_clust_1, \n",
    "                                                            embed_val_list_kmeans_catch22_clust_1)\n",
    "global_ar_kmeans_catch22_clust_2 <- global_ar_least_squares(embed_train_list_kmeans_catch22_clust_2, \n",
    "                                                            embed_val_list_kmeans_catch22_clust_2)"
   ]
  },
  {
   "cell_type": "code",
   "execution_count": 172,
   "id": "70b3838b",
   "metadata": {},
   "outputs": [],
   "source": [
    "saveRDS(global_ar_kmeans_catch22_clust_1, \n",
    "        \"Results/Pooled Regression Clustering/KMeans/global_ar_model_kmeans_catch22_clust_1.RData\")\n",
    "\n",
    "saveRDS(global_ar_kmeans_catch22_clust_2, \n",
    "        \"Results/Pooled Regression Clustering/KMeans/global_ar_model_kmeans_catch22_clust_2.RData\")"
   ]
  },
  {
   "cell_type": "markdown",
   "id": "5bc911c9",
   "metadata": {},
   "source": [
    "## Test Preds"
   ]
  },
  {
   "cell_type": "code",
   "execution_count": 163,
   "id": "6d267d4c",
   "metadata": {},
   "outputs": [],
   "source": [
    "global_ar_kmeans_catch22_clust_1_test_pred <- global_ar_least_squares_pred(global_ar_kmeans_catch22_clust_1$model, \n",
    "                                                                           embed_test_list_kmeans_catch22_clust_1)\n",
    "\n",
    "global_ar_kmeans_catch22_clust_2_test_pred <- global_ar_least_squares_pred(global_ar_kmeans_catch22_clust_2$model, \n",
    "                                                                           embed_test_list_kmeans_catch22_clust_2)"
   ]
  },
  {
   "cell_type": "code",
   "execution_count": 164,
   "id": "e1314589",
   "metadata": {},
   "outputs": [
    {
     "data": {
      "text/html": [
       "32.1798213786399"
      ],
      "text/latex": [
       "32.1798213786399"
      ],
      "text/markdown": [
       "32.1798213786399"
      ],
      "text/plain": [
       "[1] 32.17982"
      ]
     },
     "metadata": {},
     "output_type": "display_data"
    }
   ],
   "source": [
    "mean(global_ar_kmeans_catch22_clust_1_test_pred$test_rmse)"
   ]
  },
  {
   "cell_type": "code",
   "execution_count": 165,
   "id": "3e5140b5",
   "metadata": {},
   "outputs": [
    {
     "data": {
      "text/html": [
       "30.4889592549827"
      ],
      "text/latex": [
       "30.4889592549827"
      ],
      "text/markdown": [
       "30.4889592549827"
      ],
      "text/plain": [
       "[1] 30.48896"
      ]
     },
     "metadata": {},
     "output_type": "display_data"
    }
   ],
   "source": [
    "mean(global_ar_kmeans_catch22_clust_2_test_pred$test_rmse)"
   ]
  },
  {
   "cell_type": "code",
   "execution_count": 166,
   "id": "4ec10132",
   "metadata": {},
   "outputs": [
    {
     "data": {
      "text/html": [
       "31.6903612902128"
      ],
      "text/latex": [
       "31.6903612902128"
      ],
      "text/markdown": [
       "31.6903612902128"
      ],
      "text/plain": [
       "[1] 31.69036"
      ]
     },
     "metadata": {},
     "output_type": "display_data"
    }
   ],
   "source": [
    "mean(c(global_ar_kmeans_catch22_clust_1_test_pred$test_rmse,\n",
    "       global_ar_kmeans_catch22_clust_2_test_pred$test_rmse\n",
    "      ))"
   ]
  },
  {
   "cell_type": "code",
   "execution_count": 167,
   "id": "25065efd",
   "metadata": {},
   "outputs": [
    {
     "data": {
      "text/html": [
       "21.4417132362662"
      ],
      "text/latex": [
       "21.4417132362662"
      ],
      "text/markdown": [
       "21.4417132362662"
      ],
      "text/plain": [
       "[1] 21.44171"
      ]
     },
     "metadata": {},
     "output_type": "display_data"
    }
   ],
   "source": [
    "mean(global_ar_kmeans_catch22_clust_1_test_pred$test_mae)"
   ]
  },
  {
   "cell_type": "code",
   "execution_count": 168,
   "id": "cba8a501",
   "metadata": {},
   "outputs": [
    {
     "data": {
      "text/html": [
       "20.0722023826836"
      ],
      "text/latex": [
       "20.0722023826836"
      ],
      "text/markdown": [
       "20.0722023826836"
      ],
      "text/plain": [
       "[1] 20.0722"
      ]
     },
     "metadata": {},
     "output_type": "display_data"
    }
   ],
   "source": [
    "mean(global_ar_kmeans_catch22_clust_2_test_pred$test_mae)"
   ]
  },
  {
   "cell_type": "code",
   "execution_count": 169,
   "id": "43dea45d",
   "metadata": {},
   "outputs": [
    {
     "data": {
      "text/html": [
       "21.0452758839134"
      ],
      "text/latex": [
       "21.0452758839134"
      ],
      "text/markdown": [
       "21.0452758839134"
      ],
      "text/plain": [
       "[1] 21.04528"
      ]
     },
     "metadata": {},
     "output_type": "display_data"
    }
   ],
   "source": [
    "mean(c(global_ar_kmeans_catch22_clust_1_test_pred$test_mae,\n",
    "       global_ar_kmeans_catch22_clust_2_test_pred$test_mae\n",
    "      ))"
   ]
  },
  {
   "cell_type": "code",
   "execution_count": 171,
   "id": "330c0a48",
   "metadata": {},
   "outputs": [],
   "source": [
    "saveRDS(global_ar_kmeans_catch22_clust_1_test_pred, \n",
    "        \"Results/Pooled Regression Clustering/KMeans/global_ar_kmeans_catch22_clust_1_test_pred.RData\")\n",
    "\n",
    "saveRDS(global_ar_kmeans_catch22_clust_2_test_pred, \n",
    "        \"Results/Pooled Regression Clustering/KMeans/global_ar_kmeans_catch22_clust_2_test_pred.RData\")"
   ]
  },
  {
   "cell_type": "markdown",
   "id": "3dacd0ed",
   "metadata": {},
   "source": [
    "# Global AR Model - KMeans Catch22 Clustering w Mean and Variance"
   ]
  },
  {
   "cell_type": "code",
   "execution_count": 180,
   "id": "ca60fed6",
   "metadata": {},
   "outputs": [
    {
     "name": "stderr",
     "output_type": "stream",
     "text": [
      "\u001b[1mRows: \u001b[22m\u001b[34m76\u001b[39m \u001b[1mColumns: \u001b[22m\u001b[34m2\u001b[39m\n",
      "\n",
      "\u001b[36m──\u001b[39m \u001b[1mColumn specification\u001b[22m \u001b[36m────────────────────────────────────────────────────────\u001b[39m\n",
      "\u001b[1mDelimiter:\u001b[22m \",\"\n",
      "\u001b[32mdbl\u001b[39m (2): ts_index, kmeans_catch22_clust_assign\n",
      "\n",
      "\n",
      "\u001b[36mℹ\u001b[39m Use \u001b[30m\u001b[47m\u001b[30m\u001b[47m`spec()`\u001b[47m\u001b[30m\u001b[49m\u001b[39m to retrieve the full column specification for this data.\n",
      "\u001b[36mℹ\u001b[39m Specify the column types or set \u001b[30m\u001b[47m\u001b[30m\u001b[47m`show_col_types = FALSE`\u001b[47m\u001b[30m\u001b[49m\u001b[39m to quiet this message.\n",
      "\n"
     ]
    }
   ],
   "source": [
    "kmeans_catch22_mv_clust <- read_csv('Results/Clustering/KMeans/kmeans_catch22_mean_var_clustering_assign.csv')"
   ]
  },
  {
   "cell_type": "code",
   "execution_count": 181,
   "id": "923200d1",
   "metadata": {},
   "outputs": [
    {
     "data": {
      "text/html": [
       "5"
      ],
      "text/latex": [
       "5"
      ],
      "text/markdown": [
       "5"
      ],
      "text/plain": [
       "[1] 5"
      ]
     },
     "metadata": {},
     "output_type": "display_data"
    }
   ],
   "source": [
    "max(kmeans_catch22_mv_clust$kmeans_catch22_clust_assign)"
   ]
  },
  {
   "cell_type": "code",
   "execution_count": 182,
   "id": "55d15667",
   "metadata": {},
   "outputs": [],
   "source": [
    "embed_train_list_kmeans_catch22_mv_clust_1 <- embed_train_list[c((kmeans_catch22_mv_clust %>% \n",
    "                                                               filter(kmeans_catch22_clust_assign == 1))$ts_index)]\n",
    "embed_train_list_kmeans_catch22_mv_clust_2 <- embed_train_list[c((kmeans_catch22_mv_clust %>% \n",
    "                                                               filter(kmeans_catch22_clust_assign == 2))$ts_index)]\n",
    "embed_train_list_kmeans_catch22_mv_clust_3 <- embed_train_list[c((kmeans_catch22_mv_clust %>% \n",
    "                                                               filter(kmeans_catch22_clust_assign == 3))$ts_index)]\n",
    "embed_train_list_kmeans_catch22_mv_clust_4 <- embed_train_list[c((kmeans_catch22_mv_clust %>% \n",
    "                                                               filter(kmeans_catch22_clust_assign == 4))$ts_index)]\n",
    "embed_train_list_kmeans_catch22_mv_clust_5 <- embed_train_list[c((kmeans_catch22_mv_clust %>% \n",
    "                                                               filter(kmeans_catch22_clust_assign == 5))$ts_index)]"
   ]
  },
  {
   "cell_type": "code",
   "execution_count": 183,
   "id": "0bf95ad7",
   "metadata": {},
   "outputs": [],
   "source": [
    "embed_val_list_kmeans_catch22_mv_clust_1 <- embed_val_list[c((kmeans_catch22_mv_clust %>% \n",
    "                                                               filter(kmeans_catch22_clust_assign == 1))$ts_index)]\n",
    "embed_val_list_kmeans_catch22_mv_clust_2 <- embed_val_list[c((kmeans_catch22_mv_clust %>% \n",
    "                                                               filter(kmeans_catch22_clust_assign == 2))$ts_index)]\n",
    "embed_val_list_kmeans_catch22_mv_clust_3 <- embed_val_list[c((kmeans_catch22_mv_clust %>% \n",
    "                                                               filter(kmeans_catch22_clust_assign == 3))$ts_index)]\n",
    "embed_val_list_kmeans_catch22_mv_clust_4 <- embed_val_list[c((kmeans_catch22_mv_clust %>% \n",
    "                                                               filter(kmeans_catch22_clust_assign == 4))$ts_index)]\n",
    "embed_val_list_kmeans_catch22_mv_clust_5 <- embed_val_list[c((kmeans_catch22_mv_clust %>% \n",
    "                                                               filter(kmeans_catch22_clust_assign == 5))$ts_index)]"
   ]
  },
  {
   "cell_type": "code",
   "execution_count": 184,
   "id": "1872ef35",
   "metadata": {},
   "outputs": [],
   "source": [
    "embed_test_list_kmeans_catch22_mv_clust_1 <- embed_test_list[c((kmeans_catch22_mv_clust %>% \n",
    "                                                               filter(kmeans_catch22_clust_assign == 1))$ts_index)]\n",
    "embed_test_list_kmeans_catch22_mv_clust_2 <- embed_test_list[c((kmeans_catch22_mv_clust %>% \n",
    "                                                               filter(kmeans_catch22_clust_assign == 2))$ts_index)]\n",
    "embed_test_list_kmeans_catch22_mv_clust_3 <- embed_test_list[c((kmeans_catch22_mv_clust %>% \n",
    "                                                               filter(kmeans_catch22_clust_assign == 3))$ts_index)]\n",
    "embed_test_list_kmeans_catch22_mv_clust_4 <- embed_test_list[c((kmeans_catch22_mv_clust %>% \n",
    "                                                               filter(kmeans_catch22_clust_assign == 4))$ts_index)]\n",
    "embed_test_list_kmeans_catch22_mv_clust_5 <- embed_test_list[c((kmeans_catch22_mv_clust %>% \n",
    "                                                               filter(kmeans_catch22_clust_assign == 5))$ts_index)]"
   ]
  },
  {
   "cell_type": "code",
   "execution_count": 185,
   "id": "fd4dfa1f",
   "metadata": {},
   "outputs": [],
   "source": [
    "global_ar_kmeans_catch22_mv_clust_1 <- global_ar_least_squares(embed_train_list_kmeans_catch22_mv_clust_1,\n",
    "                                                               embed_val_list_kmeans_catch22_mv_clust_1)\n",
    "\n",
    "global_ar_kmeans_catch22_mv_clust_2 <- global_ar_least_squares(embed_train_list_kmeans_catch22_mv_clust_2, \n",
    "                                                               embed_val_list_kmeans_catch22_mv_clust_2)\n",
    "\n",
    "global_ar_kmeans_catch22_mv_clust_3 <- global_ar_least_squares(embed_train_list_kmeans_catch22_mv_clust_3,\n",
    "                                                               embed_val_list_kmeans_catch22_mv_clust_3)\n",
    "\n",
    "global_ar_kmeans_catch22_mv_clust_4 <- global_ar_least_squares(embed_train_list_kmeans_catch22_mv_clust_4, \n",
    "                                                               embed_val_list_kmeans_catch22_mv_clust_4)\n",
    "\n",
    "global_ar_kmeans_catch22_mv_clust_5 <- global_ar_least_squares(embed_train_list_kmeans_catch22_mv_clust_5,\n",
    "                                                               embed_val_list_kmeans_catch22_mv_clust_5)"
   ]
  },
  {
   "cell_type": "code",
   "execution_count": 186,
   "id": "8b2fc05d",
   "metadata": {},
   "outputs": [],
   "source": [
    "saveRDS(global_ar_kmeans_catch22_mv_clust_1, \n",
    "        \"Results/Pooled Regression Clustering/KMeans/global_ar_model_kmeans_catch22_mv_clust_1.RData\")\n",
    "\n",
    "saveRDS(global_ar_kmeans_catch22_mv_clust_2, \n",
    "        \"Results/Pooled Regression Clustering/KMeans/global_ar_model_kmeans_catch22_mv_clust_2.RData\")\n",
    "\n",
    "saveRDS(global_ar_kmeans_catch22_mv_clust_3, \n",
    "        \"Results/Pooled Regression Clustering/KMeans/global_ar_model_kmeans_catch22_mv_clust_3.RData\")\n",
    "\n",
    "saveRDS(global_ar_kmeans_catch22_mv_clust_4, \n",
    "        \"Results/Pooled Regression Clustering/KMeans/global_ar_model_kmeans_catch22_mv_clust_4.RData\")\n",
    "\n",
    "saveRDS(global_ar_kmeans_catch22_mv_clust_5, \n",
    "        \"Results/Pooled Regression Clustering/KMeans/global_ar_model_kmeans_catch22_mv_clust_5.RData\")\n"
   ]
  },
  {
   "cell_type": "markdown",
   "id": "c6d9f89f",
   "metadata": {},
   "source": [
    "## Test Preds"
   ]
  },
  {
   "cell_type": "code",
   "execution_count": 187,
   "id": "7b695885",
   "metadata": {},
   "outputs": [],
   "source": [
    "global_ar_kmeans_catch22_mv_clust_1_test_pred <- global_ar_least_squares_pred(global_ar_kmeans_catch22_mv_clust_1$model,\n",
    "                                                                              embed_test_list_kmeans_catch22_mv_clust_1)\n",
    "\n",
    "global_ar_kmeans_catch22_mv_clust_2_test_pred <- global_ar_least_squares_pred(global_ar_kmeans_catch22_mv_clust_2$model,\n",
    "                                                                              embed_test_list_kmeans_catch22_mv_clust_2)\n",
    "\n",
    "global_ar_kmeans_catch22_mv_clust_3_test_pred <- global_ar_least_squares_pred(global_ar_kmeans_catch22_mv_clust_3$model,\n",
    "                                                                              embed_test_list_kmeans_catch22_mv_clust_3)\n",
    "\n",
    "global_ar_kmeans_catch22_mv_clust_4_test_pred <- global_ar_least_squares_pred(global_ar_kmeans_catch22_mv_clust_4$model,\n",
    "                                                                              embed_test_list_kmeans_catch22_mv_clust_4)\n",
    "\n",
    "global_ar_kmeans_catch22_mv_clust_5_test_pred <- global_ar_least_squares_pred(global_ar_kmeans_catch22_mv_clust_5$model,\n",
    "                                                                              embed_test_list_kmeans_catch22_mv_clust_5)\n"
   ]
  },
  {
   "cell_type": "code",
   "execution_count": 188,
   "id": "ff3edb72",
   "metadata": {},
   "outputs": [
    {
     "data": {
      "text/html": [
       "42.7676770781728"
      ],
      "text/latex": [
       "42.7676770781728"
      ],
      "text/markdown": [
       "42.7676770781728"
      ],
      "text/plain": [
       "[1] 42.76768"
      ]
     },
     "metadata": {},
     "output_type": "display_data"
    }
   ],
   "source": [
    "mean(global_ar_kmeans_catch22_mv_clust_1_test_pred$test_rmse)"
   ]
  },
  {
   "cell_type": "code",
   "execution_count": 189,
   "id": "0385bedc",
   "metadata": {},
   "outputs": [
    {
     "data": {
      "text/html": [
       "78.9697903774522"
      ],
      "text/latex": [
       "78.9697903774522"
      ],
      "text/markdown": [
       "78.9697903774522"
      ],
      "text/plain": [
       "[1] 78.96979"
      ]
     },
     "metadata": {},
     "output_type": "display_data"
    }
   ],
   "source": [
    "mean(global_ar_kmeans_catch22_mv_clust_2_test_pred$test_rmse)"
   ]
  },
  {
   "cell_type": "code",
   "execution_count": 190,
   "id": "2982ef1a",
   "metadata": {},
   "outputs": [
    {
     "data": {
      "text/html": [
       "21.921666094587"
      ],
      "text/latex": [
       "21.921666094587"
      ],
      "text/markdown": [
       "21.921666094587"
      ],
      "text/plain": [
       "[1] 21.92167"
      ]
     },
     "metadata": {},
     "output_type": "display_data"
    }
   ],
   "source": [
    "mean(global_ar_kmeans_catch22_mv_clust_3_test_pred$test_rmse)"
   ]
  },
  {
   "cell_type": "code",
   "execution_count": 191,
   "id": "627049fa",
   "metadata": {},
   "outputs": [
    {
     "data": {
      "text/html": [
       "20.9890125934505"
      ],
      "text/latex": [
       "20.9890125934505"
      ],
      "text/markdown": [
       "20.9890125934505"
      ],
      "text/plain": [
       "[1] 20.98901"
      ]
     },
     "metadata": {},
     "output_type": "display_data"
    }
   ],
   "source": [
    "mean(global_ar_kmeans_catch22_mv_clust_4_test_pred$test_rmse)"
   ]
  },
  {
   "cell_type": "code",
   "execution_count": 192,
   "id": "396fb09e",
   "metadata": {},
   "outputs": [
    {
     "data": {
      "text/html": [
       "21.7491389776105"
      ],
      "text/latex": [
       "21.7491389776105"
      ],
      "text/markdown": [
       "21.7491389776105"
      ],
      "text/plain": [
       "[1] 21.74914"
      ]
     },
     "metadata": {},
     "output_type": "display_data"
    }
   ],
   "source": [
    "mean(global_ar_kmeans_catch22_mv_clust_5_test_pred$test_rmse)"
   ]
  },
  {
   "cell_type": "code",
   "execution_count": 193,
   "id": "cba1afb0",
   "metadata": {},
   "outputs": [
    {
     "data": {
      "text/html": [
       "31.547171622825"
      ],
      "text/latex": [
       "31.547171622825"
      ],
      "text/markdown": [
       "31.547171622825"
      ],
      "text/plain": [
       "[1] 31.54717"
      ]
     },
     "metadata": {},
     "output_type": "display_data"
    }
   ],
   "source": [
    "mean(c(global_ar_kmeans_catch22_mv_clust_1_test_pred$test_rmse,\n",
    "  global_ar_kmeans_catch22_mv_clust_2_test_pred$test_rmse,\n",
    "  global_ar_kmeans_catch22_mv_clust_3_test_pred$test_rmse,\n",
    "  global_ar_kmeans_catch22_mv_clust_4_test_pred$test_rmse,\n",
    "  global_ar_kmeans_catch22_mv_clust_5_test_pred$test_rmse))"
   ]
  },
  {
   "cell_type": "code",
   "execution_count": 194,
   "id": "4b6ee72b",
   "metadata": {},
   "outputs": [
    {
     "data": {
      "text/html": [
       "28.2182401097426"
      ],
      "text/latex": [
       "28.2182401097426"
      ],
      "text/markdown": [
       "28.2182401097426"
      ],
      "text/plain": [
       "[1] 28.21824"
      ]
     },
     "metadata": {},
     "output_type": "display_data"
    }
   ],
   "source": [
    "mean(global_ar_kmeans_catch22_mv_clust_1_test_pred$test_mae)"
   ]
  },
  {
   "cell_type": "code",
   "execution_count": 195,
   "id": "8b9381d4",
   "metadata": {},
   "outputs": [
    {
     "data": {
      "text/html": [
       "50.4702885868473"
      ],
      "text/latex": [
       "50.4702885868473"
      ],
      "text/markdown": [
       "50.4702885868473"
      ],
      "text/plain": [
       "[1] 50.47029"
      ]
     },
     "metadata": {},
     "output_type": "display_data"
    }
   ],
   "source": [
    "mean(global_ar_kmeans_catch22_mv_clust_2_test_pred$test_mae)"
   ]
  },
  {
   "cell_type": "code",
   "execution_count": 196,
   "id": "e9c2dfab",
   "metadata": {},
   "outputs": [
    {
     "data": {
      "text/html": [
       "14.7739302211236"
      ],
      "text/latex": [
       "14.7739302211236"
      ],
      "text/markdown": [
       "14.7739302211236"
      ],
      "text/plain": [
       "[1] 14.77393"
      ]
     },
     "metadata": {},
     "output_type": "display_data"
    }
   ],
   "source": [
    "mean(global_ar_kmeans_catch22_mv_clust_3_test_pred$test_mae)"
   ]
  },
  {
   "cell_type": "code",
   "execution_count": 197,
   "id": "cf700071",
   "metadata": {},
   "outputs": [
    {
     "data": {
      "text/html": [
       "14.4800511967485"
      ],
      "text/latex": [
       "14.4800511967485"
      ],
      "text/markdown": [
       "14.4800511967485"
      ],
      "text/plain": [
       "[1] 14.48005"
      ]
     },
     "metadata": {},
     "output_type": "display_data"
    }
   ],
   "source": [
    "mean(global_ar_kmeans_catch22_mv_clust_4_test_pred$test_mae)"
   ]
  },
  {
   "cell_type": "code",
   "execution_count": 198,
   "id": "4290c2e3",
   "metadata": {},
   "outputs": [
    {
     "data": {
      "text/html": [
       "14.3124817979138"
      ],
      "text/latex": [
       "14.3124817979138"
      ],
      "text/markdown": [
       "14.3124817979138"
      ],
      "text/plain": [
       "[1] 14.31248"
      ]
     },
     "metadata": {},
     "output_type": "display_data"
    }
   ],
   "source": [
    "mean(global_ar_kmeans_catch22_mv_clust_5_test_pred$test_mae)"
   ]
  },
  {
   "cell_type": "code",
   "execution_count": 199,
   "id": "c06a7737",
   "metadata": {},
   "outputs": [
    {
     "data": {
      "text/html": [
       "21.0374934861775"
      ],
      "text/latex": [
       "21.0374934861775"
      ],
      "text/markdown": [
       "21.0374934861775"
      ],
      "text/plain": [
       "[1] 21.03749"
      ]
     },
     "metadata": {},
     "output_type": "display_data"
    }
   ],
   "source": [
    "mean(c(global_ar_kmeans_catch22_mv_clust_1_test_pred$test_mae,\n",
    "  global_ar_kmeans_catch22_mv_clust_2_test_pred$test_mae,\n",
    "  global_ar_kmeans_catch22_mv_clust_3_test_pred$test_mae,\n",
    "  global_ar_kmeans_catch22_mv_clust_4_test_pred$test_mae,\n",
    "  global_ar_kmeans_catch22_mv_clust_5_test_pred$test_mae))"
   ]
  },
  {
   "cell_type": "code",
   "execution_count": 200,
   "id": "595d9794",
   "metadata": {},
   "outputs": [],
   "source": [
    "saveRDS(global_ar_kmeans_catch22_mv_clust_1_test_pred, \n",
    "        \"Results/Pooled Regression Clustering/KMeans/global_ar_kmeans_catch22_mv_clust_1_test_pred.RData\")\n",
    "\n",
    "saveRDS(global_ar_kmeans_catch22_mv_clust_2_test_pred, \n",
    "        \"Results/Pooled Regression Clustering/KMeans/global_ar_kmeans_catch22_mv_clust_2_test_pred.RData\")\n",
    "\n",
    "saveRDS(global_ar_kmeans_catch22_mv_clust_3_test_pred, \n",
    "        \"Results/Pooled Regression Clustering/KMeans/global_ar_kmeans_catch22_mv_clust_3_test_pred.RData\")\n",
    "\n",
    "saveRDS(global_ar_kmeans_catch22_mv_clust_4_test_pred, \n",
    "        \"Results/Pooled Regression Clustering/KMeans/global_ar_kmeans_catch22_mv_clust_4_test_pred.RData\")\n",
    "\n",
    "saveRDS(global_ar_kmeans_catch22_mv_clust_5_test_pred, \n",
    "        \"Results/Pooled Regression Clustering/KMeans/global_ar_kmeans_catch22_mv_clust_5_test_pred.RData\")\n"
   ]
  },
  {
   "cell_type": "markdown",
   "id": "9cc05506",
   "metadata": {},
   "source": [
    "# Global AR Model - GMM Using Catch22"
   ]
  },
  {
   "cell_type": "code",
   "execution_count": 27,
   "id": "3a99e62e",
   "metadata": {},
   "outputs": [
    {
     "name": "stderr",
     "output_type": "stream",
     "text": [
      "\u001b[1mRows: \u001b[22m\u001b[34m76\u001b[39m \u001b[1mColumns: \u001b[22m\u001b[34m3\u001b[39m\n",
      "\n",
      "\u001b[36m──\u001b[39m \u001b[1mColumn specification\u001b[22m \u001b[36m────────────────────────────────────────────────────────\u001b[39m\n",
      "\u001b[1mDelimiter:\u001b[22m \",\"\n",
      "\u001b[32mdbl\u001b[39m (3): ts_index, gmm_catch22_clust_assign, uncertainty\n",
      "\n",
      "\n",
      "\u001b[36mℹ\u001b[39m Use \u001b[30m\u001b[47m\u001b[30m\u001b[47m`spec()`\u001b[47m\u001b[30m\u001b[49m\u001b[39m to retrieve the full column specification for this data.\n",
      "\u001b[36mℹ\u001b[39m Specify the column types or set \u001b[30m\u001b[47m\u001b[30m\u001b[47m`show_col_types = FALSE`\u001b[47m\u001b[30m\u001b[49m\u001b[39m to quiet this message.\n",
      "\n"
     ]
    }
   ],
   "source": [
    "gmm_catch22_clust <- read_csv('Results/Clustering/GMM/gmm_catch22_clustering_assign.csv')"
   ]
  },
  {
   "cell_type": "code",
   "execution_count": 28,
   "id": "d30da971",
   "metadata": {},
   "outputs": [
    {
     "data": {
      "text/html": [
       "2"
      ],
      "text/latex": [
       "2"
      ],
      "text/markdown": [
       "2"
      ],
      "text/plain": [
       "[1] 2"
      ]
     },
     "metadata": {},
     "output_type": "display_data"
    }
   ],
   "source": [
    "max(gmm_catch22_clust$gmm_catch22_clust_assign)"
   ]
  },
  {
   "cell_type": "code",
   "execution_count": 29,
   "id": "8d49cf01",
   "metadata": {},
   "outputs": [
    {
     "data": {
      "text/html": [
       "<table class=\"dataframe\">\n",
       "<caption>A tibble: 2 × 2</caption>\n",
       "<thead>\n",
       "\t<tr><th scope=col>gmm_catch22_clust_assign</th><th scope=col>n()</th></tr>\n",
       "\t<tr><th scope=col>&lt;dbl&gt;</th><th scope=col>&lt;int&gt;</th></tr>\n",
       "</thead>\n",
       "<tbody>\n",
       "\t<tr><td>1</td><td>54</td></tr>\n",
       "\t<tr><td>2</td><td>22</td></tr>\n",
       "</tbody>\n",
       "</table>\n"
      ],
      "text/latex": [
       "A tibble: 2 × 2\n",
       "\\begin{tabular}{ll}\n",
       " gmm\\_catch22\\_clust\\_assign & n()\\\\\n",
       " <dbl> & <int>\\\\\n",
       "\\hline\n",
       "\t 1 & 54\\\\\n",
       "\t 2 & 22\\\\\n",
       "\\end{tabular}\n"
      ],
      "text/markdown": [
       "\n",
       "A tibble: 2 × 2\n",
       "\n",
       "| gmm_catch22_clust_assign &lt;dbl&gt; | n() &lt;int&gt; |\n",
       "|---|---|\n",
       "| 1 | 54 |\n",
       "| 2 | 22 |\n",
       "\n"
      ],
      "text/plain": [
       "  gmm_catch22_clust_assign n()\n",
       "1 1                        54 \n",
       "2 2                        22 "
      ]
     },
     "metadata": {},
     "output_type": "display_data"
    }
   ],
   "source": [
    "gmm_catch22_clust %>% group_by(gmm_catch22_clust_assign) %>% summarise(n())"
   ]
  },
  {
   "cell_type": "code",
   "execution_count": 33,
   "id": "86659c54",
   "metadata": {},
   "outputs": [],
   "source": [
    "embed_train_list_gmm_catch22_clust_1 <- embed_train_list[c((gmm_catch22_clust %>% \n",
    "                                                            filter(gmm_catch22_clust_assign == 1))$ts_index)]\n",
    "\n",
    "embed_train_list_gmm_catch22_clust_2 <- embed_train_list[c((gmm_catch22_clust %>% \n",
    "                                                            filter(gmm_catch22_clust_assign == 2))$ts_index)]\n"
   ]
  },
  {
   "cell_type": "code",
   "execution_count": 34,
   "id": "f17514c5",
   "metadata": {},
   "outputs": [],
   "source": [
    "embed_val_list_gmm_catch22_clust_1 <- embed_val_list[c((gmm_catch22_clust %>% \n",
    "                                                            filter(gmm_catch22_clust_assign == 1))$ts_index)]\n",
    "\n",
    "embed_val_list_gmm_catch22_clust_2 <- embed_val_list[c((gmm_catch22_clust %>% \n",
    "                                                            filter(gmm_catch22_clust_assign == 2))$ts_index)]"
   ]
  },
  {
   "cell_type": "code",
   "execution_count": 35,
   "id": "49573561",
   "metadata": {},
   "outputs": [],
   "source": [
    "embed_test_list_gmm_catch22_clust_1 <- embed_test_list[c((gmm_catch22_clust %>% \n",
    "                                                            filter(gmm_catch22_clust_assign == 1))$ts_index)]\n",
    "\n",
    "embed_test_list_gmm_catch22_clust_2 <- embed_test_list[c((gmm_catch22_clust %>% \n",
    "                                                            filter(gmm_catch22_clust_assign == 2))$ts_index)]"
   ]
  },
  {
   "cell_type": "code",
   "execution_count": 36,
   "id": "fa03a953",
   "metadata": {},
   "outputs": [],
   "source": [
    "global_ar_gmm_catch22_clust_1 <- global_ar_least_squares(embed_train_list_gmm_catch22_clust_1,\n",
    "                                                         embed_val_list_gmm_catch22_clust_1)\n",
    "\n",
    "global_ar_gmm_catch22_clust_2 <- global_ar_least_squares(embed_train_list_gmm_catch22_clust_2,\n",
    "                                                         embed_val_list_gmm_catch22_clust_2)"
   ]
  },
  {
   "cell_type": "code",
   "execution_count": 37,
   "id": "5857fa84",
   "metadata": {},
   "outputs": [],
   "source": [
    "saveRDS(global_ar_gmm_catch22_clust_1, \n",
    "        \"Results/Pooled Regression Clustering/GMM/global_ar_model_gmm_catch22_clust_1.RData\")\n",
    "\n",
    "saveRDS(global_ar_gmm_catch22_clust_2, \n",
    "        \"Results/Pooled Regression Clustering/GMM/global_ar_model_gmm_catch22_clust_2.RData\")\n"
   ]
  },
  {
   "cell_type": "markdown",
   "id": "3ee8be62",
   "metadata": {},
   "source": [
    "## Test Preds"
   ]
  },
  {
   "cell_type": "code",
   "execution_count": 38,
   "id": "69cf0323",
   "metadata": {},
   "outputs": [],
   "source": [
    "global_ar_gmm_catch22_clust_1_test_pred <- global_ar_least_squares_pred(global_ar_gmm_catch22_clust_1$model,\n",
    "                                                                        embed_test_list_gmm_catch22_clust_1)\n",
    "\n",
    "global_ar_gmm_catch22_clust_2_test_pred <- global_ar_least_squares_pred(global_ar_gmm_catch22_clust_2$model,\n",
    "                                                                        embed_test_list_gmm_catch22_clust_2)\n",
    "                                                                        "
   ]
  },
  {
   "cell_type": "code",
   "execution_count": 39,
   "id": "8e835b57",
   "metadata": {},
   "outputs": [
    {
     "data": {
      "text/html": [
       "29.1714598327503"
      ],
      "text/latex": [
       "29.1714598327503"
      ],
      "text/markdown": [
       "29.1714598327503"
      ],
      "text/plain": [
       "[1] 29.17146"
      ]
     },
     "metadata": {},
     "output_type": "display_data"
    }
   ],
   "source": [
    "mean(global_ar_gmm_catch22_clust_1_test_pred$test_rmse)"
   ]
  },
  {
   "cell_type": "code",
   "execution_count": 40,
   "id": "14d9e7b1",
   "metadata": {},
   "outputs": [
    {
     "data": {
      "text/html": [
       "37.9807357584594"
      ],
      "text/latex": [
       "37.9807357584594"
      ],
      "text/markdown": [
       "37.9807357584594"
      ],
      "text/plain": [
       "[1] 37.98074"
      ]
     },
     "metadata": {},
     "output_type": "display_data"
    }
   ],
   "source": [
    "mean(global_ar_gmm_catch22_clust_2_test_pred$test_rmse)"
   ]
  },
  {
   "cell_type": "code",
   "execution_count": 41,
   "id": "b274ed42",
   "metadata": {},
   "outputs": [
    {
     "data": {
      "text/html": [
       "31.7215133901924"
      ],
      "text/latex": [
       "31.7215133901924"
      ],
      "text/markdown": [
       "31.7215133901924"
      ],
      "text/plain": [
       "[1] 31.72151"
      ]
     },
     "metadata": {},
     "output_type": "display_data"
    }
   ],
   "source": [
    "mean(c(global_ar_gmm_catch22_clust_1_test_pred$test_rmse,\n",
    "       global_ar_gmm_catch22_clust_2_test_pred$test_rmse))"
   ]
  },
  {
   "cell_type": "code",
   "execution_count": 42,
   "id": "80e12b10",
   "metadata": {},
   "outputs": [
    {
     "data": {
      "text/html": [
       "19.5592382582571"
      ],
      "text/latex": [
       "19.5592382582571"
      ],
      "text/markdown": [
       "19.5592382582571"
      ],
      "text/plain": [
       "[1] 19.55924"
      ]
     },
     "metadata": {},
     "output_type": "display_data"
    }
   ],
   "source": [
    "mean(global_ar_gmm_catch22_clust_1_test_pred$test_mae)"
   ]
  },
  {
   "cell_type": "code",
   "execution_count": 43,
   "id": "d5d2249a",
   "metadata": {},
   "outputs": [
    {
     "data": {
      "text/html": [
       "24.7277235770549"
      ],
      "text/latex": [
       "24.7277235770549"
      ],
      "text/markdown": [
       "24.7277235770549"
      ],
      "text/plain": [
       "[1] 24.72772"
      ]
     },
     "metadata": {},
     "output_type": "display_data"
    }
   ],
   "source": [
    "mean(global_ar_gmm_catch22_clust_2_test_pred$test_mae)"
   ]
  },
  {
   "cell_type": "code",
   "execution_count": 44,
   "id": "ed1aed38",
   "metadata": {},
   "outputs": [
    {
     "data": {
      "text/html": [
       "21.0553787452775"
      ],
      "text/latex": [
       "21.0553787452775"
      ],
      "text/markdown": [
       "21.0553787452775"
      ],
      "text/plain": [
       "[1] 21.05538"
      ]
     },
     "metadata": {},
     "output_type": "display_data"
    }
   ],
   "source": [
    "mean(c(global_ar_gmm_catch22_clust_1_test_pred$test_mae,\n",
    "       global_ar_gmm_catch22_clust_2_test_pred$test_mae))"
   ]
  },
  {
   "cell_type": "code",
   "execution_count": 45,
   "id": "9f3158c4",
   "metadata": {},
   "outputs": [],
   "source": [
    "saveRDS(global_ar_gmm_catch22_clust_1_test_pred, \n",
    "        \"Results/Pooled Regression Clustering/GMM/global_ar_gmm_catch22_clust_1_test_pred.RData\")\n",
    "\n",
    "saveRDS(global_ar_gmm_catch22_clust_2_test_pred, \n",
    "        \"Results/Pooled Regression Clustering/GMM/global_ar_gmm_catch22_clust_2_test_pred.RData\")"
   ]
  },
  {
   "cell_type": "markdown",
   "id": "4ce0030a",
   "metadata": {},
   "source": [
    "# Global AR Model - GMM Using Catch22 w Mean and Variance"
   ]
  },
  {
   "cell_type": "code",
   "execution_count": 46,
   "id": "b0c0fe4c",
   "metadata": {},
   "outputs": [
    {
     "name": "stderr",
     "output_type": "stream",
     "text": [
      "\u001b[1mRows: \u001b[22m\u001b[34m76\u001b[39m \u001b[1mColumns: \u001b[22m\u001b[34m3\u001b[39m\n",
      "\n",
      "\u001b[36m──\u001b[39m \u001b[1mColumn specification\u001b[22m \u001b[36m────────────────────────────────────────────────────────\u001b[39m\n",
      "\u001b[1mDelimiter:\u001b[22m \",\"\n",
      "\u001b[32mdbl\u001b[39m (3): ts_index, gmm_catch22_clust_assign, uncertainty\n",
      "\n",
      "\n",
      "\u001b[36mℹ\u001b[39m Use \u001b[30m\u001b[47m\u001b[30m\u001b[47m`spec()`\u001b[47m\u001b[30m\u001b[49m\u001b[39m to retrieve the full column specification for this data.\n",
      "\u001b[36mℹ\u001b[39m Specify the column types or set \u001b[30m\u001b[47m\u001b[30m\u001b[47m`show_col_types = FALSE`\u001b[47m\u001b[30m\u001b[49m\u001b[39m to quiet this message.\n",
      "\n"
     ]
    }
   ],
   "source": [
    "gmm_catch22_mv_clust <- read_csv(\"Results/Clustering/GMM/gmm_catch22_mean_var_clustering_assign.csv\")"
   ]
  },
  {
   "cell_type": "code",
   "execution_count": 47,
   "id": "e804dd19",
   "metadata": {},
   "outputs": [
    {
     "data": {
      "text/html": [
       "2"
      ],
      "text/latex": [
       "2"
      ],
      "text/markdown": [
       "2"
      ],
      "text/plain": [
       "[1] 2"
      ]
     },
     "metadata": {},
     "output_type": "display_data"
    }
   ],
   "source": [
    "max(gmm_catch22_mv_clust$gmm_catch22_clust_assign)"
   ]
  },
  {
   "cell_type": "code",
   "execution_count": 48,
   "id": "84ff2fd9",
   "metadata": {},
   "outputs": [
    {
     "data": {
      "text/html": [
       "<table class=\"dataframe\">\n",
       "<caption>A tibble: 2 × 2</caption>\n",
       "<thead>\n",
       "\t<tr><th scope=col>gmm_catch22_clust_assign</th><th scope=col>n()</th></tr>\n",
       "\t<tr><th scope=col>&lt;dbl&gt;</th><th scope=col>&lt;int&gt;</th></tr>\n",
       "</thead>\n",
       "<tbody>\n",
       "\t<tr><td>1</td><td>57</td></tr>\n",
       "\t<tr><td>2</td><td>19</td></tr>\n",
       "</tbody>\n",
       "</table>\n"
      ],
      "text/latex": [
       "A tibble: 2 × 2\n",
       "\\begin{tabular}{ll}\n",
       " gmm\\_catch22\\_clust\\_assign & n()\\\\\n",
       " <dbl> & <int>\\\\\n",
       "\\hline\n",
       "\t 1 & 57\\\\\n",
       "\t 2 & 19\\\\\n",
       "\\end{tabular}\n"
      ],
      "text/markdown": [
       "\n",
       "A tibble: 2 × 2\n",
       "\n",
       "| gmm_catch22_clust_assign &lt;dbl&gt; | n() &lt;int&gt; |\n",
       "|---|---|\n",
       "| 1 | 57 |\n",
       "| 2 | 19 |\n",
       "\n"
      ],
      "text/plain": [
       "  gmm_catch22_clust_assign n()\n",
       "1 1                        57 \n",
       "2 2                        19 "
      ]
     },
     "metadata": {},
     "output_type": "display_data"
    }
   ],
   "source": [
    "gmm_catch22_mv_clust %>% group_by(gmm_catch22_clust_assign) %>% summarise(n())"
   ]
  },
  {
   "cell_type": "code",
   "execution_count": 49,
   "id": "706b6067",
   "metadata": {},
   "outputs": [],
   "source": [
    "embed_train_list_gmm_catch22_mv_clust_1 <- embed_train_list[c((gmm_catch22_mv_clust %>% \n",
    "                                                            filter(gmm_catch22_clust_assign == 1))$ts_index)]\n",
    "\n",
    "embed_train_list_gmm_catch22_mv_clust_2 <- embed_train_list[c((gmm_catch22_mv_clust %>% \n",
    "                                                            filter(gmm_catch22_clust_assign == 2))$ts_index)]\n"
   ]
  },
  {
   "cell_type": "code",
   "execution_count": 51,
   "id": "a4008fa9",
   "metadata": {},
   "outputs": [],
   "source": [
    "embed_val_list_gmm_catch22_mv_clust_1 <- embed_val_list[c((gmm_catch22_mv_clust %>% \n",
    "                                                            filter(gmm_catch22_clust_assign == 1))$ts_index)]\n",
    "\n",
    "embed_val_list_gmm_catch22_mv_clust_2 <- embed_val_list[c((gmm_catch22_mv_clust %>% \n",
    "                                                            filter(gmm_catch22_clust_assign == 2))$ts_index)]"
   ]
  },
  {
   "cell_type": "code",
   "execution_count": 50,
   "id": "15cdf6e0",
   "metadata": {},
   "outputs": [],
   "source": [
    "embed_test_list_gmm_catch22_mv_clust_1 <- embed_test_list[c((gmm_catch22_mv_clust %>% \n",
    "                                                            filter(gmm_catch22_clust_assign == 1))$ts_index)]\n",
    "\n",
    "embed_test_list_gmm_catch22_mv_clust_2 <- embed_test_list[c((gmm_catch22_mv_clust %>% \n",
    "                                                            filter(gmm_catch22_clust_assign == 2))$ts_index)]"
   ]
  },
  {
   "cell_type": "code",
   "execution_count": 52,
   "id": "20533e0c",
   "metadata": {},
   "outputs": [],
   "source": [
    "global_ar_gmm_catch22_mv_clust_1 <- global_ar_least_squares(embed_train_list_gmm_catch22_mv_clust_1,\n",
    "                                                            embed_val_list_gmm_catch22_mv_clust_1)\n",
    "\n",
    "global_ar_gmm_catch22_mv_clust_2 <- global_ar_least_squares(embed_train_list_gmm_catch22_mv_clust_2,\n",
    "                                                            embed_val_list_gmm_catch22_mv_clust_2)"
   ]
  },
  {
   "cell_type": "code",
   "execution_count": 53,
   "id": "d23307c9",
   "metadata": {},
   "outputs": [],
   "source": [
    "saveRDS(global_ar_gmm_catch22_mv_clust_1, \n",
    "        \"Results/Pooled Regression Clustering/GMM/global_ar_model_gmm_catch22_mv_clust_1.RData\")\n",
    "\n",
    "saveRDS(global_ar_gmm_catch22_mv_clust_2, \n",
    "        \"Results/Pooled Regression Clustering/GMM/global_ar_model_gmm_catch22_mv_clust_2.RData\")\n"
   ]
  },
  {
   "cell_type": "markdown",
   "id": "2d213436",
   "metadata": {},
   "source": [
    "## Test Preds"
   ]
  },
  {
   "cell_type": "code",
   "execution_count": 54,
   "id": "52aeeda5",
   "metadata": {},
   "outputs": [],
   "source": [
    "global_ar_gmm_catch22_mv_clust_1_test_pred <- global_ar_least_squares_pred(global_ar_gmm_catch22_mv_clust_1$model,\n",
    "                                                                           embed_test_list_gmm_catch22_mv_clust_1)\n",
    "\n",
    "global_ar_gmm_catch22_mv_clust_2_test_pred <- global_ar_least_squares_pred(global_ar_gmm_catch22_mv_clust_2$model,\n",
    "                                                                           embed_test_list_gmm_catch22_mv_clust_2)"
   ]
  },
  {
   "cell_type": "code",
   "execution_count": 55,
   "id": "33b6a604",
   "metadata": {},
   "outputs": [
    {
     "data": {
      "text/html": [
       "29.7756118048729"
      ],
      "text/latex": [
       "29.7756118048729"
      ],
      "text/markdown": [
       "29.7756118048729"
      ],
      "text/plain": [
       "[1] 29.77561"
      ]
     },
     "metadata": {},
     "output_type": "display_data"
    }
   ],
   "source": [
    "mean(global_ar_gmm_catch22_mv_clust_1_test_pred$test_rmse)"
   ]
  },
  {
   "cell_type": "code",
   "execution_count": 56,
   "id": "a731d8cb",
   "metadata": {},
   "outputs": [
    {
     "data": {
      "text/html": [
       "37.410298587943"
      ],
      "text/latex": [
       "37.410298587943"
      ],
      "text/markdown": [
       "37.410298587943"
      ],
      "text/plain": [
       "[1] 37.4103"
      ]
     },
     "metadata": {},
     "output_type": "display_data"
    }
   ],
   "source": [
    "mean(global_ar_gmm_catch22_mv_clust_2_test_pred$test_rmse)"
   ]
  },
  {
   "cell_type": "code",
   "execution_count": 57,
   "id": "bac8b5b6",
   "metadata": {},
   "outputs": [
    {
     "data": {
      "text/html": [
       "31.6842835006404"
      ],
      "text/latex": [
       "31.6842835006404"
      ],
      "text/markdown": [
       "31.6842835006404"
      ],
      "text/plain": [
       "[1] 31.68428"
      ]
     },
     "metadata": {},
     "output_type": "display_data"
    }
   ],
   "source": [
    "mean(c(global_ar_gmm_catch22_mv_clust_1_test_pred$test_rmse,\n",
    "       global_ar_gmm_catch22_mv_clust_2_test_pred$test_rmse))"
   ]
  },
  {
   "cell_type": "code",
   "execution_count": 58,
   "id": "8930b75c",
   "metadata": {},
   "outputs": [
    {
     "data": {
      "text/html": [
       "19.9775310101986"
      ],
      "text/latex": [
       "19.9775310101986"
      ],
      "text/markdown": [
       "19.9775310101986"
      ],
      "text/plain": [
       "[1] 19.97753"
      ]
     },
     "metadata": {},
     "output_type": "display_data"
    }
   ],
   "source": [
    "mean(global_ar_gmm_catch22_mv_clust_1_test_pred$test_mae)"
   ]
  },
  {
   "cell_type": "code",
   "execution_count": 59,
   "id": "552e0898",
   "metadata": {},
   "outputs": [
    {
     "data": {
      "text/html": [
       "24.2186427198037"
      ],
      "text/latex": [
       "24.2186427198037"
      ],
      "text/markdown": [
       "24.2186427198037"
      ],
      "text/plain": [
       "[1] 24.21864"
      ]
     },
     "metadata": {},
     "output_type": "display_data"
    }
   ],
   "source": [
    "mean(global_ar_gmm_catch22_mv_clust_2_test_pred$test_mae)"
   ]
  },
  {
   "cell_type": "code",
   "execution_count": 60,
   "id": "cb5d5512",
   "metadata": {},
   "outputs": [
    {
     "data": {
      "text/html": [
       "21.0378089375998"
      ],
      "text/latex": [
       "21.0378089375998"
      ],
      "text/markdown": [
       "21.0378089375998"
      ],
      "text/plain": [
       "[1] 21.03781"
      ]
     },
     "metadata": {},
     "output_type": "display_data"
    }
   ],
   "source": [
    "mean(c(global_ar_gmm_catch22_mv_clust_1_test_pred$test_mae,\n",
    "       global_ar_gmm_catch22_mv_clust_2_test_pred$test_mae))"
   ]
  },
  {
   "cell_type": "code",
   "execution_count": 61,
   "id": "fd984661",
   "metadata": {},
   "outputs": [],
   "source": [
    "saveRDS(global_ar_gmm_catch22_mv_clust_1_test_pred, \n",
    "        \"Results/Pooled Regression Clustering/GMM/global_ar_gmm_catch22_mv_clust_1_test_pred.RData\")\n",
    "\n",
    "saveRDS(global_ar_gmm_catch22_mv_clust_2_test_pred, \n",
    "        \"Results/Pooled Regression Clustering/GMM/global_ar_gmm_catch22_mv_clust_2_test_pred.RData\")"
   ]
  },
  {
   "cell_type": "markdown",
   "id": "9d883c2a",
   "metadata": {},
   "source": [
    "# Global AR Model - DTW"
   ]
  },
  {
   "cell_type": "code",
   "execution_count": 62,
   "id": "27736ab0",
   "metadata": {},
   "outputs": [
    {
     "name": "stderr",
     "output_type": "stream",
     "text": [
      "\u001b[1mRows: \u001b[22m\u001b[34m76\u001b[39m \u001b[1mColumns: \u001b[22m\u001b[34m2\u001b[39m\n",
      "\n",
      "\u001b[36m──\u001b[39m \u001b[1mColumn specification\u001b[22m \u001b[36m────────────────────────────────────────────────────────\u001b[39m\n",
      "\u001b[1mDelimiter:\u001b[22m \",\"\n",
      "\u001b[32mdbl\u001b[39m (2): ts_index, dtw_clust_assign\n",
      "\n",
      "\n",
      "\u001b[36mℹ\u001b[39m Use \u001b[30m\u001b[47m\u001b[30m\u001b[47m`spec()`\u001b[47m\u001b[30m\u001b[49m\u001b[39m to retrieve the full column specification for this data.\n",
      "\u001b[36mℹ\u001b[39m Specify the column types or set \u001b[30m\u001b[47m\u001b[30m\u001b[47m`show_col_types = FALSE`\u001b[47m\u001b[30m\u001b[49m\u001b[39m to quiet this message.\n",
      "\n"
     ]
    }
   ],
   "source": [
    "dtw_clust <- read_csv('Results/Clustering/DTW/dtw_clustering_assign.csv')"
   ]
  },
  {
   "cell_type": "code",
   "execution_count": 63,
   "id": "05e0b4e1",
   "metadata": {},
   "outputs": [
    {
     "data": {
      "text/html": [
       "2"
      ],
      "text/latex": [
       "2"
      ],
      "text/markdown": [
       "2"
      ],
      "text/plain": [
       "[1] 2"
      ]
     },
     "metadata": {},
     "output_type": "display_data"
    }
   ],
   "source": [
    "max(dtw_clust$dtw_clust_assign)"
   ]
  },
  {
   "cell_type": "code",
   "execution_count": 64,
   "id": "c71aa373",
   "metadata": {},
   "outputs": [
    {
     "data": {
      "text/html": [
       "<table class=\"dataframe\">\n",
       "<caption>A tibble: 2 × 2</caption>\n",
       "<thead>\n",
       "\t<tr><th scope=col>dtw_clust_assign</th><th scope=col>n()</th></tr>\n",
       "\t<tr><th scope=col>&lt;dbl&gt;</th><th scope=col>&lt;int&gt;</th></tr>\n",
       "</thead>\n",
       "<tbody>\n",
       "\t<tr><td>1</td><td>25</td></tr>\n",
       "\t<tr><td>2</td><td>51</td></tr>\n",
       "</tbody>\n",
       "</table>\n"
      ],
      "text/latex": [
       "A tibble: 2 × 2\n",
       "\\begin{tabular}{ll}\n",
       " dtw\\_clust\\_assign & n()\\\\\n",
       " <dbl> & <int>\\\\\n",
       "\\hline\n",
       "\t 1 & 25\\\\\n",
       "\t 2 & 51\\\\\n",
       "\\end{tabular}\n"
      ],
      "text/markdown": [
       "\n",
       "A tibble: 2 × 2\n",
       "\n",
       "| dtw_clust_assign &lt;dbl&gt; | n() &lt;int&gt; |\n",
       "|---|---|\n",
       "| 1 | 25 |\n",
       "| 2 | 51 |\n",
       "\n"
      ],
      "text/plain": [
       "  dtw_clust_assign n()\n",
       "1 1                25 \n",
       "2 2                51 "
      ]
     },
     "metadata": {},
     "output_type": "display_data"
    }
   ],
   "source": [
    "dtw_clust %>% group_by(dtw_clust_assign) %>% summarise(n())"
   ]
  },
  {
   "cell_type": "code",
   "execution_count": 65,
   "id": "388c02ec",
   "metadata": {},
   "outputs": [],
   "source": [
    "embed_train_list_dtw_clust_1 <- embed_train_list[c((dtw_clust %>% \n",
    "                                                    filter(dtw_clust_assign == 1))$ts_index)]\n",
    "\n",
    "embed_train_list_dtw_clust_2 <- embed_train_list[c((dtw_clust %>% \n",
    "                                                    filter(dtw_clust_assign == 2))$ts_index)]"
   ]
  },
  {
   "cell_type": "code",
   "execution_count": 67,
   "id": "fc0a2c92",
   "metadata": {},
   "outputs": [],
   "source": [
    "embed_val_list_dtw_clust_1 <- embed_val_list[c((dtw_clust %>% \n",
    "                                                    filter(dtw_clust_assign == 1))$ts_index)]\n",
    "\n",
    "embed_val_list_dtw_clust_2 <- embed_val_list[c((dtw_clust %>% \n",
    "                                                 filter(dtw_clust_assign == 2))$ts_index)]"
   ]
  },
  {
   "cell_type": "code",
   "execution_count": 68,
   "id": "c369352f",
   "metadata": {},
   "outputs": [],
   "source": [
    "embed_test_list_dtw_clust_1 <- embed_test_list[c((dtw_clust %>% \n",
    "                                                    filter(dtw_clust_assign == 1))$ts_index)]\n",
    "\n",
    "embed_test_list_dtw_clust_2 <- embed_test_list[c((dtw_clust %>% \n",
    "                                                    filter(dtw_clust_assign == 2))$ts_index)]"
   ]
  },
  {
   "cell_type": "code",
   "execution_count": 69,
   "id": "7e043bba",
   "metadata": {},
   "outputs": [],
   "source": [
    "global_ar_dtw_clust_1 <- global_ar_least_squares(embed_train_list_dtw_clust_1,\n",
    "                                                 embed_val_list_dtw_clust_1)\n",
    "\n",
    "global_ar_dtw_clust_2 <- global_ar_least_squares(embed_train_list_dtw_clust_2,\n",
    "                                                 embed_val_list_dtw_clust_2)"
   ]
  },
  {
   "cell_type": "code",
   "execution_count": 70,
   "id": "5b3548dc",
   "metadata": {},
   "outputs": [],
   "source": [
    "saveRDS(global_ar_dtw_clust_1, \n",
    "        \"Results/Pooled Regression Clustering/DTW/global_ar_dtw_clust_1.RData\")\n",
    "\n",
    "saveRDS(global_ar_dtw_clust_2, \n",
    "        \"Results/Pooled Regression Clustering/DTW/global_ar_dtw_clust_2.RData\")"
   ]
  },
  {
   "cell_type": "markdown",
   "id": "ecc01fcd",
   "metadata": {},
   "source": [
    "## Test Preds"
   ]
  },
  {
   "cell_type": "code",
   "execution_count": 71,
   "id": "3f70f4a9",
   "metadata": {},
   "outputs": [],
   "source": [
    "global_ar_dtw_clust_1_test_pred <- global_ar_least_squares_pred(global_ar_dtw_clust_1$model,\n",
    "                                                                embed_test_list_dtw_clust_1)\n",
    "\n",
    "global_ar_dtw_clust_2_test_pred <- global_ar_least_squares_pred(global_ar_dtw_clust_2$model,\n",
    "                                                                embed_test_list_dtw_clust_2)"
   ]
  },
  {
   "cell_type": "code",
   "execution_count": 72,
   "id": "5bfa02f0",
   "metadata": {},
   "outputs": [
    {
     "data": {
      "text/html": [
       "53.0312699366712"
      ],
      "text/latex": [
       "53.0312699366712"
      ],
      "text/markdown": [
       "53.0312699366712"
      ],
      "text/plain": [
       "[1] 53.03127"
      ]
     },
     "metadata": {},
     "output_type": "display_data"
    }
   ],
   "source": [
    "mean(global_ar_dtw_clust_1_test_pred$test_rmse)"
   ]
  },
  {
   "cell_type": "code",
   "execution_count": 73,
   "id": "3ec9c254",
   "metadata": {},
   "outputs": [
    {
     "data": {
      "text/html": [
       "21.0306182258548"
      ],
      "text/latex": [
       "21.0306182258548"
      ],
      "text/markdown": [
       "21.0306182258548"
      ],
      "text/plain": [
       "[1] 21.03062"
      ]
     },
     "metadata": {},
     "output_type": "display_data"
    }
   ],
   "source": [
    "mean(global_ar_dtw_clust_2_test_pred$test_rmse)"
   ]
  },
  {
   "cell_type": "code",
   "execution_count": 74,
   "id": "aea7f207",
   "metadata": {},
   "outputs": [
    {
     "data": {
      "text/html": [
       "31.5571483938865"
      ],
      "text/latex": [
       "31.5571483938865"
      ],
      "text/markdown": [
       "31.5571483938865"
      ],
      "text/plain": [
       "[1] 31.55715"
      ]
     },
     "metadata": {},
     "output_type": "display_data"
    }
   ],
   "source": [
    "mean(c(global_ar_dtw_clust_1_test_pred$test_rmse,\n",
    "       global_ar_dtw_clust_2_test_pred$test_rmse))"
   ]
  },
  {
   "cell_type": "code",
   "execution_count": 75,
   "id": "58bff3d4",
   "metadata": {},
   "outputs": [
    {
     "data": {
      "text/html": [
       "34.2431995772478"
      ],
      "text/latex": [
       "34.2431995772478"
      ],
      "text/markdown": [
       "34.2431995772478"
      ],
      "text/plain": [
       "[1] 34.2432"
      ]
     },
     "metadata": {},
     "output_type": "display_data"
    }
   ],
   "source": [
    "mean(global_ar_dtw_clust_1_test_pred$test_mae)"
   ]
  },
  {
   "cell_type": "code",
   "execution_count": 76,
   "id": "186180b4",
   "metadata": {},
   "outputs": [
    {
     "data": {
      "text/html": [
       "14.363893219975"
      ],
      "text/latex": [
       "14.363893219975"
      ],
      "text/markdown": [
       "14.363893219975"
      ],
      "text/plain": [
       "[1] 14.36389"
      ]
     },
     "metadata": {},
     "output_type": "display_data"
    }
   ],
   "source": [
    "mean(global_ar_dtw_clust_2_test_pred$test_mae)"
   ]
  },
  {
   "cell_type": "code",
   "execution_count": 77,
   "id": "042a2404",
   "metadata": {},
   "outputs": [
    {
     "data": {
      "text/html": [
       "20.9031387322358"
      ],
      "text/latex": [
       "20.9031387322358"
      ],
      "text/markdown": [
       "20.9031387322358"
      ],
      "text/plain": [
       "[1] 20.90314"
      ]
     },
     "metadata": {},
     "output_type": "display_data"
    }
   ],
   "source": [
    "mean(c(global_ar_dtw_clust_1_test_pred$test_mae,\n",
    "       global_ar_dtw_clust_2_test_pred$test_mae))"
   ]
  },
  {
   "cell_type": "code",
   "execution_count": 78,
   "id": "3057f739",
   "metadata": {},
   "outputs": [],
   "source": [
    "saveRDS(global_ar_dtw_clust_1_test_pred, \n",
    "        \"Results/Pooled Regression Clustering/DTW/global_ar_dtw_clust_1_test_pred.RData\")\n",
    "\n",
    "saveRDS(global_ar_dtw_clust_2_test_pred, \n",
    "        \"Results/Pooled Regression Clustering/DTW/global_ar_dtw_clust_2_test_pred.RData\")"
   ]
  },
  {
   "cell_type": "markdown",
   "id": "6a0cc55f",
   "metadata": {},
   "source": [
    "# Global AR Model - DTW Norm"
   ]
  },
  {
   "cell_type": "code",
   "execution_count": 79,
   "id": "cc2182fb",
   "metadata": {},
   "outputs": [
    {
     "name": "stderr",
     "output_type": "stream",
     "text": [
      "\u001b[1mRows: \u001b[22m\u001b[34m76\u001b[39m \u001b[1mColumns: \u001b[22m\u001b[34m2\u001b[39m\n",
      "\n",
      "\u001b[36m──\u001b[39m \u001b[1mColumn specification\u001b[22m \u001b[36m────────────────────────────────────────────────────────\u001b[39m\n",
      "\u001b[1mDelimiter:\u001b[22m \",\"\n",
      "\u001b[32mdbl\u001b[39m (2): ts_index, dtw_clust_assign\n",
      "\n",
      "\n",
      "\u001b[36mℹ\u001b[39m Use \u001b[30m\u001b[47m\u001b[30m\u001b[47m`spec()`\u001b[47m\u001b[30m\u001b[49m\u001b[39m to retrieve the full column specification for this data.\n",
      "\u001b[36mℹ\u001b[39m Specify the column types or set \u001b[30m\u001b[47m\u001b[30m\u001b[47m`show_col_types = FALSE`\u001b[47m\u001b[30m\u001b[49m\u001b[39m to quiet this message.\n",
      "\n"
     ]
    }
   ],
   "source": [
    "dtw_norm_clust <- read_csv('Results/Clustering/DTW/dtw_norm_clustering_assign.csv')"
   ]
  },
  {
   "cell_type": "code",
   "execution_count": 81,
   "id": "7289f308",
   "metadata": {},
   "outputs": [
    {
     "data": {
      "text/html": [
       "2"
      ],
      "text/latex": [
       "2"
      ],
      "text/markdown": [
       "2"
      ],
      "text/plain": [
       "[1] 2"
      ]
     },
     "metadata": {},
     "output_type": "display_data"
    }
   ],
   "source": [
    "max(dtw_norm_clust$dtw_clust_assign)"
   ]
  },
  {
   "cell_type": "code",
   "execution_count": 82,
   "id": "024ef10f",
   "metadata": {},
   "outputs": [
    {
     "data": {
      "text/html": [
       "<table class=\"dataframe\">\n",
       "<caption>A tibble: 2 × 2</caption>\n",
       "<thead>\n",
       "\t<tr><th scope=col>dtw_clust_assign</th><th scope=col>n()</th></tr>\n",
       "\t<tr><th scope=col>&lt;dbl&gt;</th><th scope=col>&lt;int&gt;</th></tr>\n",
       "</thead>\n",
       "<tbody>\n",
       "\t<tr><td>1</td><td>70</td></tr>\n",
       "\t<tr><td>2</td><td> 6</td></tr>\n",
       "</tbody>\n",
       "</table>\n"
      ],
      "text/latex": [
       "A tibble: 2 × 2\n",
       "\\begin{tabular}{ll}\n",
       " dtw\\_clust\\_assign & n()\\\\\n",
       " <dbl> & <int>\\\\\n",
       "\\hline\n",
       "\t 1 & 70\\\\\n",
       "\t 2 &  6\\\\\n",
       "\\end{tabular}\n"
      ],
      "text/markdown": [
       "\n",
       "A tibble: 2 × 2\n",
       "\n",
       "| dtw_clust_assign &lt;dbl&gt; | n() &lt;int&gt; |\n",
       "|---|---|\n",
       "| 1 | 70 |\n",
       "| 2 |  6 |\n",
       "\n"
      ],
      "text/plain": [
       "  dtw_clust_assign n()\n",
       "1 1                70 \n",
       "2 2                 6 "
      ]
     },
     "metadata": {},
     "output_type": "display_data"
    }
   ],
   "source": [
    "dtw_norm_clust %>% group_by(dtw_clust_assign) %>% summarise(n())"
   ]
  },
  {
   "cell_type": "code",
   "execution_count": 84,
   "id": "4c7ed526",
   "metadata": {},
   "outputs": [],
   "source": [
    "embed_train_list_dtw_norm_clust_1 <- embed_train_list[c((dtw_norm_clust %>%\n",
    "                                                         filter(dtw_clust_assign == 1))$ts_index)]\n",
    "\n",
    "embed_train_list_dtw_norm_clust_2 <- embed_train_list[c((dtw_norm_clust %>% \n",
    "                                                         filter(dtw_clust_assign == 2))$ts_index)]"
   ]
  },
  {
   "cell_type": "code",
   "execution_count": 85,
   "id": "db4c0d2b",
   "metadata": {},
   "outputs": [],
   "source": [
    "embed_val_list_dtw_norm_clust_1 <- embed_val_list[c((dtw_norm_clust %>%\n",
    "                                                         filter(dtw_clust_assign == 1))$ts_index)]\n",
    "\n",
    "embed_val_list_dtw_norm_clust_2 <- embed_val_list[c((dtw_norm_clust %>% \n",
    "                                                         filter(dtw_clust_assign == 2))$ts_index)]"
   ]
  },
  {
   "cell_type": "code",
   "execution_count": 86,
   "id": "e0682f47",
   "metadata": {},
   "outputs": [],
   "source": [
    "embed_test_list_dtw_norm_clust_1 <- embed_test_list[c((dtw_norm_clust %>%\n",
    "                                                         filter(dtw_clust_assign == 1))$ts_index)]\n",
    "\n",
    "embed_test_list_dtw_norm_clust_2 <- embed_test_list[c((dtw_norm_clust %>% \n",
    "                                                         filter(dtw_clust_assign == 2))$ts_index)]"
   ]
  },
  {
   "cell_type": "code",
   "execution_count": 87,
   "id": "c6619522",
   "metadata": {},
   "outputs": [],
   "source": [
    "global_ar_dtw_norm_clust_1 <- global_ar_least_squares(embed_train_list_dtw_norm_clust_1,\n",
    "                                                      embed_val_list_dtw_norm_clust_1)\n",
    "\n",
    "global_ar_dtw_norm_clust_2 <- global_ar_least_squares(embed_train_list_dtw_norm_clust_2,\n",
    "                                                      embed_val_list_dtw_norm_clust_2)"
   ]
  },
  {
   "cell_type": "code",
   "execution_count": 88,
   "id": "b58144ea",
   "metadata": {},
   "outputs": [],
   "source": [
    "saveRDS(global_ar_dtw_norm_clust_1, \n",
    "        \"Results/Pooled Regression Clustering/DTW/global_ar_dtw_norm_clust_1.RData\")\n",
    "\n",
    "saveRDS(global_ar_dtw_norm_clust_2, \n",
    "        \"Results/Pooled Regression Clustering/DTW/global_ar_dtw_norm_clust_2.RData\")"
   ]
  },
  {
   "cell_type": "markdown",
   "id": "bd4abc6d",
   "metadata": {},
   "source": [
    "## Test Preds"
   ]
  },
  {
   "cell_type": "code",
   "execution_count": 89,
   "id": "236b3c0d",
   "metadata": {},
   "outputs": [],
   "source": [
    "global_ar_dtw_norm_clust_1_test_pred <- global_ar_least_squares_pred(global_ar_dtw_norm_clust_1$model,\n",
    "                                                                     embed_test_list_dtw_norm_clust_1)\n",
    "\n",
    "global_ar_dtw_norm_clust_2_test_pred <- global_ar_least_squares_pred(global_ar_dtw_norm_clust_2$model,\n",
    "                                                                     embed_test_list_dtw_norm_clust_2)"
   ]
  },
  {
   "cell_type": "code",
   "execution_count": 90,
   "id": "d26e69b0",
   "metadata": {},
   "outputs": [
    {
     "data": {
      "text/html": [
       "32.3976163967025"
      ],
      "text/latex": [
       "32.3976163967025"
      ],
      "text/markdown": [
       "32.3976163967025"
      ],
      "text/plain": [
       "[1] 32.39762"
      ]
     },
     "metadata": {},
     "output_type": "display_data"
    }
   ],
   "source": [
    "mean(global_ar_dtw_norm_clust_1_test_pred$test_rmse)"
   ]
  },
  {
   "cell_type": "code",
   "execution_count": 91,
   "id": "b7b4f3d5",
   "metadata": {},
   "outputs": [
    {
     "data": {
      "text/html": [
       "22.5112046687878"
      ],
      "text/latex": [
       "22.5112046687878"
      ],
      "text/markdown": [
       "22.5112046687878"
      ],
      "text/plain": [
       "[1] 22.5112"
      ]
     },
     "metadata": {},
     "output_type": "display_data"
    }
   ],
   "source": [
    "mean(global_ar_dtw_norm_clust_2_test_pred$test_rmse)"
   ]
  },
  {
   "cell_type": "code",
   "execution_count": 92,
   "id": "7af48225",
   "metadata": {},
   "outputs": [
    {
     "data": {
      "text/html": [
       "31.6171102076566"
      ],
      "text/latex": [
       "31.6171102076566"
      ],
      "text/markdown": [
       "31.6171102076566"
      ],
      "text/plain": [
       "[1] 31.61711"
      ]
     },
     "metadata": {},
     "output_type": "display_data"
    }
   ],
   "source": [
    "mean(c(global_ar_dtw_norm_clust_1_test_pred$test_rmse,\n",
    "       global_ar_dtw_norm_clust_2_test_pred$test_rmse))"
   ]
  },
  {
   "cell_type": "code",
   "execution_count": 93,
   "id": "2519f325",
   "metadata": {},
   "outputs": [
    {
     "data": {
      "text/html": [
       "21.4892871525545"
      ],
      "text/latex": [
       "21.4892871525545"
      ],
      "text/markdown": [
       "21.4892871525545"
      ],
      "text/plain": [
       "[1] 21.48929"
      ]
     },
     "metadata": {},
     "output_type": "display_data"
    }
   ],
   "source": [
    "mean(global_ar_dtw_norm_clust_1_test_pred$test_mae)"
   ]
  },
  {
   "cell_type": "code",
   "execution_count": 94,
   "id": "a35c352f",
   "metadata": {},
   "outputs": [
    {
     "data": {
      "text/html": [
       "14.884500226751"
      ],
      "text/latex": [
       "14.884500226751"
      ],
      "text/markdown": [
       "14.884500226751"
      ],
      "text/plain": [
       "[1] 14.8845"
      ]
     },
     "metadata": {},
     "output_type": "display_data"
    }
   ],
   "source": [
    "mean(global_ar_dtw_norm_clust_2_test_pred$test_mae)"
   ]
  },
  {
   "cell_type": "code",
   "execution_count": 95,
   "id": "a9b2b982",
   "metadata": {},
   "outputs": [
    {
     "data": {
      "text/html": [
       "20.9678566057805"
      ],
      "text/latex": [
       "20.9678566057805"
      ],
      "text/markdown": [
       "20.9678566057805"
      ],
      "text/plain": [
       "[1] 20.96786"
      ]
     },
     "metadata": {},
     "output_type": "display_data"
    }
   ],
   "source": [
    "mean(c(global_ar_dtw_norm_clust_1_test_pred$test_mae,\n",
    "       global_ar_dtw_norm_clust_2_test_pred$test_mae))"
   ]
  },
  {
   "cell_type": "code",
   "execution_count": 96,
   "id": "571ed166",
   "metadata": {},
   "outputs": [],
   "source": [
    "saveRDS(global_ar_dtw_norm_clust_1_test_pred, \n",
    "        \"Results/Pooled Regression Clustering/DTW/global_ar_dtw_norm_clust_1_test_pred.RData\")\n",
    "\n",
    "saveRDS(global_ar_dtw_norm_clust_2_test_pred, \n",
    "        \"Results/Pooled Regression Clustering/DTW/global_ar_dtw_norm_clust_2_test_pred.RData\")"
   ]
  },
  {
   "cell_type": "code",
   "execution_count": null,
   "id": "4699d572",
   "metadata": {},
   "outputs": [],
   "source": []
  },
  {
   "cell_type": "code",
   "execution_count": null,
   "id": "72502f6a",
   "metadata": {},
   "outputs": [],
   "source": []
  },
  {
   "cell_type": "code",
   "execution_count": null,
   "id": "8e28d5ad",
   "metadata": {},
   "outputs": [],
   "source": []
  },
  {
   "cell_type": "code",
   "execution_count": null,
   "id": "f9ef5fe4",
   "metadata": {},
   "outputs": [],
   "source": []
  },
  {
   "cell_type": "code",
   "execution_count": null,
   "id": "a6683013",
   "metadata": {},
   "outputs": [],
   "source": []
  },
  {
   "cell_type": "code",
   "execution_count": null,
   "id": "0c54b458",
   "metadata": {},
   "outputs": [],
   "source": []
  },
  {
   "cell_type": "code",
   "execution_count": null,
   "id": "30c1451f",
   "metadata": {},
   "outputs": [],
   "source": []
  },
  {
   "cell_type": "code",
   "execution_count": null,
   "id": "80c868de",
   "metadata": {},
   "outputs": [],
   "source": []
  },
  {
   "cell_type": "code",
   "execution_count": null,
   "id": "9be35eb3",
   "metadata": {},
   "outputs": [],
   "source": []
  },
  {
   "cell_type": "code",
   "execution_count": null,
   "id": "176b2bd7",
   "metadata": {},
   "outputs": [],
   "source": []
  },
  {
   "cell_type": "code",
   "execution_count": null,
   "id": "1e22197f",
   "metadata": {},
   "outputs": [],
   "source": []
  },
  {
   "cell_type": "code",
   "execution_count": null,
   "id": "0e5d42d1",
   "metadata": {},
   "outputs": [],
   "source": []
  },
  {
   "cell_type": "code",
   "execution_count": null,
   "id": "e34597d9",
   "metadata": {},
   "outputs": [],
   "source": [
    "global_ar_least_squares <- function(train,\n",
    "                                    test=NULL,\n",
    "                                    lag=2, \n",
    "                                    normalize=TRUE,\n",
    "                                    # asinh=FALSE, \n",
    "                                    # lambda=NULL,\n",
    "                                    diff_lag=NULL,\n",
    "                                    return_model=TRUE,\n",
    "                                    return_fitted_values=TRUE,\n",
    "                                    return_residuals=TRUE,\n",
    "                                    return_train_rmse=TRUE,\n",
    "                                    return_test_preds=FALSE,\n",
    "                                    return_test_rmse=FALSE\n",
    "                                   ) \n",
    "{ \n",
    "    \n",
    "    # TRANSFORM DATA    \n",
    "                       \n",
    "    if (normalize) {                                  \n",
    "        norm <- normalize(train)\n",
    "        train_norm <- norm$norm\n",
    "        mu=norm$mu\n",
    "        sd=norm$sd\n",
    "        \n",
    "        if (!is.null(test)) {                     \n",
    "            test_norm <- normalize(test, mu, sd)$norm                 \n",
    "            }\n",
    "    }\n",
    "                        \n",
    "    else {\n",
    "        train_norm <- train_vec\n",
    "        if (!is.null(test)) {    \n",
    "            test_norm <- test_vec  \n",
    "            }\n",
    "    }                    \n",
    "    \n",
    "                        \n",
    "#     if (asinh) {\n",
    "#         train <- do.call(\"rbind\", lapply(train_norm, function(x) embed(x, lag+1)))\n",
    "#         train <- asinh_trans(train, lambda)\n",
    "                                         \n",
    "#         if (!is.null(test)) {\n",
    "#             test <- do.call(\"rbind\", lapply(test_norm, function(x) embed(x, lag+1)))\n",
    "#             test <- asinh_trans(test, lambda)      \n",
    "#         }                                       \n",
    "#     }\n",
    "#     else {                    \n",
    "#         train <- do.call(\"rbind\", lapply(train_norm, function(x) embed(x, lag+1)))   \n",
    "                                         \n",
    "#         if (!is.null(test)) {                                \n",
    "#             test <- do.call(\"rbind\", lapply(test_norm, function(x) embed(x, lag+1)))\n",
    "#         }                                        \n",
    "#     }\n",
    "    \n",
    "    if (!is.null(diff)){\n",
    "        train_diff <- \n",
    "    }                                        \n",
    "                                    \n",
    "    # Create vectors of dependent and independent variables\n",
    "    Y_train <- train[,1]\n",
    "    X_train <- train[,-1]\n",
    "    \n",
    "    if (!is.null(test)) {\n",
    "        Y_test <- test[,1]\n",
    "        X_test <- test[,-1]\n",
    "    }                                        \n",
    "\n",
    "                                        \n",
    "    # LINEAR AR MODEL BY LEAST SQUARES                                    \n",
    "                                        \n",
    "    # Linear AR model\n",
    "    ar_model <- RcppArmadillo::fastLm(X=X_train, y=Y_train)\n",
    "    ar_fitted_values <- fitted(ar_model) \n",
    "    ar_residuals <- residuals(ar_model)                                   \n",
    "    ar_train_rmse <- rmse(Y_train, ar_fitted_values)\n",
    "                                       \n",
    "    if (asinh) {\n",
    "        ar_train_rmse <- rmse(inv_asinh_trans(Y_train, lambda), \n",
    "                              inv_asinh_trans(ar_fitted_values, lambda))\n",
    "    }\n",
    "                                            \n",
    "    # Predict on Test Data\n",
    "    if (!is.null(test)) {\n",
    "        if (lag == 1) {\n",
    "            ar_test_preds <- ar_model$coefficients %*% X_test\n",
    "        }\n",
    "        else {\n",
    "            ar_test_preds <- predict(ar_model, newdata=X_test)\n",
    "        }\n",
    "                                           \n",
    "        ar_test_rmse <- rmse(Y_test, ar_test_preds)\n",
    "                                           \n",
    "        if (asinh) {\n",
    "            ar_test_rmse <- rmse(inv_asinh_trans(Y_test, lambda), \n",
    "                                 inv_asinh_trans(ar_test_preds, lambda))\n",
    "            ar_test_preds <- inv_asinh_trans(ar_test_preds, lambda)\n",
    "        }\n",
    "    }                                        \n",
    "    \n",
    "\n",
    "    # CREATE LIST TO RETURN\n",
    "                                        \n",
    "    return_list <- list()                                   \n",
    "                                       \n",
    "    if (return_model) {\n",
    "        return_list <- list(model=ar_model)\n",
    "    }\n",
    "\n",
    "    if (return_fitted_values) {                             \n",
    "        return_list <- append(return_list, list(fitted=ar_fitted_values))\n",
    "    }\n",
    "    \n",
    "    if (return_residuals) {                            \n",
    "        return_list <- append(return_list, list(residuals=ar_residuals))\n",
    "    }\n",
    "    \n",
    "    if (return_train_rmse) {                             \n",
    "        return_list <- append(return_list, list(train_rmse=ar_train_rmse))\n",
    "    }\n",
    "                                       \n",
    "    if (return_test_preds) {\n",
    "        return_list <- append(return_list, list(test_preds=ar_test_preds))\n",
    "    }\n",
    "                                       \n",
    "    if (return_test_rmse) {\n",
    "        return_list <- append(return_list, list(test_rmse=ar_test_rmse))\n",
    "    }\n",
    "\n",
    "    return_list                                           \n",
    "}"
   ]
  },
  {
   "cell_type": "code",
   "execution_count": null,
   "id": "61152895",
   "metadata": {},
   "outputs": [],
   "source": [
    "# global_ar_least_squares <- function(data, \n",
    "#                                     lag=2, \n",
    "#                                     train_test_split=0.7, \n",
    "#                                     normalize=TRUE,\n",
    "#                                     asinh=FALSE, \n",
    "#                                     lambda=NULL, \n",
    "#                                     return_data=FALSE,\n",
    "#                                     return_model=TRUE,\n",
    "#                                     return_fitted_values=TRUE,\n",
    "#                                     return_residuals=TRUE,\n",
    "#                                     return_train_rmse=TRUE,\n",
    "#                                     return_test_preds=TRUE,\n",
    "#                                     return_test_rmse=TRUE\n",
    "#                                    ) \n",
    "# { \n",
    "    \n",
    "#     # SPLIT AND TRANSFORM DATA\n",
    "    \n",
    "#     # For data argument, function expects a list of time series on which lapply \n",
    "#     # can be used to create lag embedded matrix for training\n",
    "        \n",
    "# #     lag_mat <- do.call(\"rbind\", lapply(data, function(x) embed(x, lag+1)))\n",
    "    \n",
    "# #     if (asinh) {\n",
    "# #         lag_mat <- asinh_trans(lag_mat, lambda) #(((lag_mat + 1)^lambda)-1)/lambda  #((lag_mat^lambda) - 1) / lambda\n",
    "# #     }\n",
    "    \n",
    "#     n <- lapply(data, function(x) floor(train_test_split*length(x)))                                    \n",
    "#     train_vec <- mapply(function(x, n) x[1:n], data, n, SIMPLIFY=FALSE)\n",
    "#     test_vec <- mapply(function(x, n) x[(n+1):length(x)], data, n, SIMPLIFY=FALSE) \n",
    "                       \n",
    "#     if (normalize) {                   \n",
    "#     train_mu <- lapply(train_vec, function(x) mean(x))               \n",
    "#     train_sd <- lapply(train_vec, function(x) sd(x))\n",
    "                       \n",
    "#     train_norm <- mapply(function(x, sd) x/sd, \n",
    "#                          mapply(function(x, mu) x-mu, train_vec, train_mu, SIMPLIFY=FALSE),\n",
    "#                          train_sd, SIMPLIFY=FALSE)\n",
    "#     test_norm <- mapply(function(x, sd) x/sd, \n",
    "#                         mapply(function(x, mu) x-mu, test_vec, train_mu, SIMPLIFY=FALSE),\n",
    "#                                train_sd, SIMPLIFY=FALSE)                   \n",
    "#     }\n",
    "                        \n",
    "#     else {\n",
    "#         train_norm <- train_vec\n",
    "#         test_norm <- test_vec  \n",
    "#     }                    \n",
    "    \n",
    "                        \n",
    "#     if (asinh) {\n",
    "#         train <- do.call(\"rbind\", lapply(train_norm, function(x) embed(x, lag+1)))                \n",
    "#         test <- do.call(\"rbind\", lapply(test_norm, function(x) embed(x, lag+1)))\n",
    "#         train <- asinh_trans(train, lambda)\n",
    "#         test <- asinh_trans(test, lambda)                                \n",
    "#     }\n",
    "#     else {                    \n",
    "#         train <- do.call(\"rbind\", lapply(train_norm, function(x) embed(x, lag+1)))                \n",
    "#         test <- do.call(\"rbind\", lapply(test_norm, function(x) embed(x, lag+1)))\n",
    "#     }\n",
    "                                    \n",
    "#     # Create vectors of dependent and independent variables\n",
    "#     Y_train <- train[,1]\n",
    "#     X_train <- train[,-1]\n",
    "                                       \n",
    "#     Y_test <- test[,1]\n",
    "#     X_test <- test[,-1]\n",
    "\n",
    "                                        \n",
    "#     # LINEAR AR MODEL BY LEAST SQUARES                                    \n",
    "                                        \n",
    "#     # Linear AR model\n",
    "#     ar_model <- RcppArmadillo::fastLm(X=X_train, y=Y_train)\n",
    "#     ar_fitted_values <- fitted(ar_model) \n",
    "#     ar_residuals <- residuals(ar_model)                                   \n",
    "#     ar_train_rmse <- rmse(Y_train, ar_fitted_values)\n",
    "                                       \n",
    "#     if (asinh) {\n",
    "#         ar_train_rmse <- rmse(inv_asinh_trans(Y_train, lambda), \n",
    "#                               inv_asinh_trans(ar_fitted_values, lambda))\n",
    "#     }\n",
    "                                                                               \n",
    "#     # Predict on Test Data\n",
    "#     if (lag == 1) {\n",
    "#         ar_test_preds <- ar_model$coefficients %*% X_test\n",
    "#     }\n",
    "#     else {\n",
    "#         ar_test_preds <- predict(ar_model, newdata=X_test)\n",
    "#     }\n",
    "                                       \n",
    "#     ar_test_rmse <- rmse(Y_test, ar_test_preds)\n",
    "                                       \n",
    "#     if (asinh) {\n",
    "#         ar_test_rmse <- rmse(inv_asinh_trans(Y_test, lambda), \n",
    "#                              inv_asinh_trans(ar_test_preds, lambda))\n",
    "#     }\n",
    "    \n",
    "#     # CREATE LIST TO RETURN\n",
    "                                        \n",
    "#     return_list <- list()                                   \n",
    "                                       \n",
    "#     if (return_model) {\n",
    "#         return_list <- list(model=ar_model)\n",
    "#     }\n",
    "\n",
    "#     if (return_fitted_values) {                             \n",
    "#         return_list <- append(return_list, list(fitted=ar_fitted_values))\n",
    "#     }\n",
    "    \n",
    "#     if (return_residuals) {                            \n",
    "#         return_list <- append(return_list, list(residuals=ar_residuals))\n",
    "#     }\n",
    "    \n",
    "#     if (return_train_rmse) {                             \n",
    "#         return_list <- append(return_list, list(train_rmse=ar_train_rmse))\n",
    "#     }\n",
    "                                       \n",
    "#     if (return_test_preds) {\n",
    "#         return_list <- append(return_list, list(test_preds=ar_test_preds))\n",
    "#     }\n",
    "                                       \n",
    "#     if (return_test_rmse) {\n",
    "#         return_list <- append(return_list, list(test_rmse=ar_test_rmse))\n",
    "#     }\n",
    "                                       \n",
    "#     if (return_data) {\n",
    "#         return_list <- append(return_list, list(train=train, test=test))\n",
    "#     }\n",
    "\n",
    "#     return_list                                           \n",
    "# }"
   ]
  },
  {
   "cell_type": "markdown",
   "id": "740ed5b2",
   "metadata": {},
   "source": [
    "## PoC with Global AR24"
   ]
  },
  {
   "cell_type": "code",
   "execution_count": null,
   "id": "7fcb51b1",
   "metadata": {},
   "outputs": [],
   "source": [
    "ar_24 <- global_ar_least_squares(model_data$train,\n",
    "                                 model_data$test,\n",
    "                                 lag=24, \n",
    "                                 normalize=TRUE,\n",
    "                                 asinh=FALSE, \n",
    "                                 lambda=NULL, \n",
    "                                 return_model=FALSE,\n",
    "                                 return_fitted_values=FALSE,\n",
    "                                 return_residuals=FALSE,\n",
    "                                 return_train_rmse=TRUE,\n",
    "                                 return_test_preds=FALSE,\n",
    "                                 return_test_rmse=TRUE)"
   ]
  },
  {
   "cell_type": "code",
   "execution_count": null,
   "id": "dd405e2e",
   "metadata": {},
   "outputs": [],
   "source": [
    "ar_24$train_rmse"
   ]
  },
  {
   "cell_type": "code",
   "execution_count": null,
   "id": "29d3147d",
   "metadata": {},
   "outputs": [],
   "source": [
    "ar_24$test_rmse"
   ]
  },
  {
   "cell_type": "markdown",
   "id": "65e26722",
   "metadata": {},
   "source": [
    "# AR Models"
   ]
  },
  {
   "cell_type": "markdown",
   "id": "a0ced5f1",
   "metadata": {},
   "source": [
    "## Full Data"
   ]
  },
  {
   "cell_type": "code",
   "execution_count": null,
   "id": "14f9715a",
   "metadata": {},
   "outputs": [],
   "source": [
    "gc()"
   ]
  },
  {
   "cell_type": "code",
   "execution_count": null,
   "id": "8fe02f5f",
   "metadata": {},
   "outputs": [],
   "source": [
    "lag_test_values <- c(1,2,12,24,48,96,97,193,289,385,481,577,673,769,865,961,1057,1153,1249,1345)\n",
    "                     #192,288,384,480,576,672,768,864,960,1056,1152,1248,1344) # 2016 - Very memory intensive"
   ]
  },
  {
   "cell_type": "code",
   "execution_count": null,
   "id": "4515621f",
   "metadata": {},
   "outputs": [],
   "source": [
    "full_ar_model_train_results <- c()\n",
    "full_ar_model_test_results <- c()\n",
    "\n",
    "for (lag in lag_test_values[1:length(lag_test_values-1)]) {\n",
    "    print(lag)\n",
    "    flush.console()\n",
    "    ar_full <- global_ar_least_squares(model_data$train,\n",
    "                                       model_data$test,\n",
    "                                       lag=lag, \n",
    "                                       normalize=TRUE,\n",
    "                                       asinh=FALSE, \n",
    "                                       lambda=NULL, \n",
    "                                       return_model=FALSE,\n",
    "                                       return_fitted_values=FALSE,\n",
    "                                       return_residuals=FALSE,\n",
    "                                       return_train_rmse=TRUE,\n",
    "                                       return_test_preds=FALSE,\n",
    "                                       return_test_rmse=TRUE)\n",
    "    full_ar_model_train_results <- c(full_ar_model_train_results, ar_full$train_rmse)\n",
    "    full_ar_model_test_results <- c(full_ar_model_test_results, ar_full$test_rmse)\n",
    "    gc()\n",
    "}"
   ]
  },
  {
   "cell_type": "code",
   "execution_count": null,
   "id": "704e057c",
   "metadata": {},
   "outputs": [],
   "source": [
    "plot(lag_test_values, full_ar_model_train_results)"
   ]
  },
  {
   "cell_type": "code",
   "execution_count": null,
   "id": "9bb4c61e",
   "metadata": {},
   "outputs": [],
   "source": [
    "plot(lag_test_values, full_ar_model_test_results)"
   ]
  },
  {
   "cell_type": "code",
   "execution_count": null,
   "id": "8013bd5d",
   "metadata": {},
   "outputs": [],
   "source": [
    "full_ar_test_perf <- ggplot() + \n",
    "    geom_point(aes(x=lag_test_values, y=full_ar_model_test_results)) +\n",
    "    geom_line(aes(x=lag_test_values, y=full_ar_model_test_results)) +\n",
    "    labs(y=\"Test RMSE\", x=\"Number of Lags in Model\") +\n",
    "    ggtitle(\"Performance of Pooled AR Model on Full Data\")"
   ]
  },
  {
   "cell_type": "code",
   "execution_count": null,
   "id": "34fb7198",
   "metadata": {},
   "outputs": [],
   "source": [
    "full_ar_test_perf"
   ]
  },
  {
   "cell_type": "code",
   "execution_count": null,
   "id": "1cbff5ca",
   "metadata": {},
   "outputs": [],
   "source": [
    "ggsave(\"Plots/Results/full_global_ar.png\", full_ar_test_perf, width=10, height=5)"
   ]
  },
  {
   "cell_type": "code",
   "execution_count": null,
   "id": "5ea7c05b",
   "metadata": {},
   "outputs": [],
   "source": [
    "gc()"
   ]
  },
  {
   "cell_type": "code",
   "execution_count": null,
   "id": "f9b583e8",
   "metadata": {},
   "outputs": [],
   "source": [
    "best_lag <- lag_test_values[which.min(full_ar_model_test_results)]"
   ]
  },
  {
   "cell_type": "code",
   "execution_count": null,
   "id": "d87641fa",
   "metadata": {},
   "outputs": [],
   "source": [
    "best_lag"
   ]
  },
  {
   "cell_type": "code",
   "execution_count": null,
   "id": "7a0bd42d",
   "metadata": {},
   "outputs": [],
   "source": [
    "ar_full_best <- global_ar_least_squares(model_data$train,\n",
    "                                        model_data$test,\n",
    "                                        lag=best_lag, \n",
    "                                        normalize=TRUE,\n",
    "                                        asinh=FALSE, \n",
    "                                        lambda=NULL, \n",
    "                                        return_model=TRUE,\n",
    "                                        return_fitted_values=TRUE,\n",
    "                                        return_residuals=TRUE,\n",
    "                                        return_train_rmse=TRUE,\n",
    "                                        return_test_preds=TRUE,\n",
    "                                        return_test_rmse=TRUE)"
   ]
  },
  {
   "cell_type": "code",
   "execution_count": null,
   "id": "b6b085b9",
   "metadata": {},
   "outputs": [],
   "source": [
    "gc()"
   ]
  },
  {
   "cell_type": "code",
   "execution_count": null,
   "id": "a43f7cdb",
   "metadata": {},
   "outputs": [],
   "source": [
    "summary(ar_full_best)"
   ]
  },
  {
   "cell_type": "markdown",
   "id": "4d47ece1",
   "metadata": {},
   "source": [
    "### Residual Analysis"
   ]
  },
  {
   "cell_type": "code",
   "execution_count": null,
   "id": "c981773e",
   "metadata": {},
   "outputs": [],
   "source": [
    "mean(ar_full_best$residuals)"
   ]
  },
  {
   "cell_type": "code",
   "execution_count": null,
   "id": "8c3fda82",
   "metadata": {},
   "outputs": [],
   "source": [
    "sd(ar_full_best$residuals)"
   ]
  },
  {
   "cell_type": "code",
   "execution_count": null,
   "id": "90461c1a",
   "metadata": {},
   "outputs": [],
   "source": [
    "ar_full_best_res_dens <- ggplot() + \n",
    "    geom_density(aes(x=ar_full_best$residuals)) + \n",
    "    labs(x=\"Residual\", y=\"Density\") + \n",
    "    ggtitle(\"Residual Density for Pooled AR-673 Model on Full Data\")"
   ]
  },
  {
   "cell_type": "code",
   "execution_count": null,
   "id": "8b796e80",
   "metadata": {},
   "outputs": [],
   "source": [
    "ar_full_best_res_dens"
   ]
  },
  {
   "cell_type": "code",
   "execution_count": null,
   "id": "28fbc0b7",
   "metadata": {},
   "outputs": [],
   "source": [
    "ggsave(\"Plots/Results/ar_full_673_res_dens.png\", ar_full_best_res_dens, width=6, height=6)"
   ]
  },
  {
   "cell_type": "code",
   "execution_count": null,
   "id": "3ab8cc79",
   "metadata": {},
   "outputs": [],
   "source": [
    "ar_full_best_res_v_fit <- ggplot() + \n",
    "    geom_point(aes(x=ar_full_best$fitted, y=ar_full_best$residuals), alpha=0.5) + \n",
    "    geom_smooth(aes(x=ar_full_best$fitted, y=ar_full_best$residuals)) + \n",
    "    labs(x=\"Fitted Value\", y=\"Residual\") + \n",
    "    ggtitle(\"Fitted Values vs Residuals for Pooled AR-673 Model on Full Data\")"
   ]
  },
  {
   "cell_type": "code",
   "execution_count": null,
   "id": "0886f09d",
   "metadata": {},
   "outputs": [],
   "source": [
    "ar_full_best_res_v_fit"
   ]
  },
  {
   "cell_type": "code",
   "execution_count": null,
   "id": "638f4b74",
   "metadata": {},
   "outputs": [],
   "source": [
    "ggsave(\"Plots/Results/ar_full_673_res_v_fit.png\", ar_full_best_res_v_fit, width=6, height=6)"
   ]
  },
  {
   "cell_type": "code",
   "execution_count": null,
   "id": "e56d3e2b",
   "metadata": {},
   "outputs": [],
   "source": [
    "ar_full_best_res_acf <- acf(ar_full_best$residuals, lag=best_lag, plot=FALSE)\n",
    "ar_full_best_res_acf_lo <- -1*1.96/(length(ar_full_best$residuals)^0.5)\n",
    "ar_full_best_res_acf_hi <- 1.96/(length(ar_full_best$residuals)^0.5)"
   ]
  },
  {
   "cell_type": "code",
   "execution_count": null,
   "id": "e2e8f7c2",
   "metadata": {},
   "outputs": [],
   "source": [
    "ar_full_best_res_acf_plot <- ggplot() + \n",
    "    geom_hline(aes(yintercept = 0)) +\n",
    "    geom_segment(aes(x=ar_full_best_res_acf$lag[-1], \n",
    "                     xend=ar_full_best_res_acf$lag[-1], \n",
    "                     y=ar_full_best_res_acf$acf[-1], \n",
    "                     yend=0)) +\n",
    "    geom_hline(aes(yintercept = ar_full_best_res_acf_lo), col=\"blue\", linetype=2) +\n",
    "    geom_hline(aes(yintercept = ar_full_best_res_acf_hi), col=\"blue\", linetype=2) +\n",
    "    labs(y=\"ACF\", x=\"Lag\") + \n",
    "    ggtitle(str_glue(\"ACF of Model Residuals for Pooled AR-673 Model on Full Data\"))"
   ]
  },
  {
   "cell_type": "code",
   "execution_count": null,
   "id": "832829b0",
   "metadata": {},
   "outputs": [],
   "source": [
    "ar_full_best_res_acf_plot"
   ]
  },
  {
   "cell_type": "code",
   "execution_count": null,
   "id": "54578b6b",
   "metadata": {},
   "outputs": [],
   "source": [
    "ggsave(\"Plots/Results/ar_full_673_res_acf_no_lag_0.png\", ar_full_best_res_acf_plot, width=10, height=5)"
   ]
  },
  {
   "cell_type": "markdown",
   "id": "19703b82",
   "metadata": {},
   "source": [
    "## Per Highway System Data"
   ]
  },
  {
   "cell_type": "markdown",
   "id": "56793b4a",
   "metadata": {},
   "source": [
    "### England"
   ]
  },
  {
   "cell_type": "code",
   "execution_count": null,
   "id": "476bc683",
   "metadata": {},
   "outputs": [],
   "source": [
    "england_model_data <- train_test_split(england_total_volume_vec, train_test_split=(672*37)/(96*365))"
   ]
  },
  {
   "cell_type": "code",
   "execution_count": null,
   "id": "07d661ac",
   "metadata": {},
   "outputs": [],
   "source": [
    "england_model_673 <- global_ar_least_squares(england_model_data$train,\n",
    "                                             england_model_data$test,\n",
    "                                             lag=best_lag, \n",
    "                                             normalize=TRUE,\n",
    "                                             asinh=FALSE, \n",
    "                                             lambda=NULL, \n",
    "                                             return_model=TRUE,\n",
    "                                             return_fitted_values=TRUE,\n",
    "                                             return_residuals=TRUE,\n",
    "                                             return_train_rmse=TRUE,\n",
    "                                             return_test_preds=FALSE,\n",
    "                                             return_test_rmse=TRUE)"
   ]
  },
  {
   "cell_type": "code",
   "execution_count": null,
   "id": "1aeb5268",
   "metadata": {},
   "outputs": [],
   "source": [
    "england_model_673$train_rmse"
   ]
  },
  {
   "cell_type": "code",
   "execution_count": null,
   "id": "816d077e",
   "metadata": {},
   "outputs": [],
   "source": [
    "england_model_673$test_rmse"
   ]
  },
  {
   "cell_type": "markdown",
   "id": "b96c565d",
   "metadata": {},
   "source": [
    "#### Residual Analysis"
   ]
  },
  {
   "cell_type": "code",
   "execution_count": null,
   "id": "d128db86",
   "metadata": {},
   "outputs": [],
   "source": [
    "mean(england_model_673$residuals)"
   ]
  },
  {
   "cell_type": "code",
   "execution_count": null,
   "id": "bf3aa712",
   "metadata": {},
   "outputs": [],
   "source": [
    "sd(england_model_673$residuals)"
   ]
  },
  {
   "cell_type": "code",
   "execution_count": null,
   "id": "1fb04ccb",
   "metadata": {},
   "outputs": [],
   "source": [
    "ggplot() + \n",
    "    geom_density(aes(x=england_model_673$residuals)) + \n",
    "    labs(x=\"Residual\", y=\"Density\") + \n",
    "    ggtitle(\"Residual Density for Pooled AR-673 Model on Highways England Data\")"
   ]
  },
  {
   "cell_type": "code",
   "execution_count": null,
   "id": "e8fdf582",
   "metadata": {
    "scrolled": false
   },
   "outputs": [],
   "source": [
    "ggplot() + \n",
    "    geom_point(aes(x=england_model_673$fitted, y=england_model_673$residuals), alpha=0.5) + \n",
    "    geom_smooth(aes(x=england_model_673$fitted, y=england_model_673$residuals)) + \n",
    "    labs(x=\"Fitted Value\", y=\"Residual\") + \n",
    "    ggtitle(\"Fitted Values vs Residuals for Pooled AR-673 Model on Highways England Data\")"
   ]
  },
  {
   "cell_type": "code",
   "execution_count": null,
   "id": "e8a6754e",
   "metadata": {},
   "outputs": [],
   "source": [
    "england_model_673_res_acf <- acf(england_model_673$residuals, lag=best_lag, plot=FALSE)\n",
    "england_model_673_res_acf_lo <- -1*1.96/(length(england_model_673$residuals)^0.5)\n",
    "england_model_673_res_acf_hi <- 1.96/(length(england_model_673$residuals)^0.5)"
   ]
  },
  {
   "cell_type": "code",
   "execution_count": null,
   "id": "ada19004",
   "metadata": {},
   "outputs": [],
   "source": [
    "ggplot() + \n",
    "    geom_hline(aes(yintercept = 0)) +\n",
    "    geom_segment(aes(x=england_model_673_res_acf$lag[-1], \n",
    "                     xend=england_model_673_res_acf$lag[-1], \n",
    "                     y=england_model_673_res_acf$acf[-1], \n",
    "                     yend=0)) +\n",
    "    geom_hline(aes(yintercept = england_model_673_res_acf_lo), col=\"blue\", linetype=2) +\n",
    "    geom_hline(aes(yintercept = england_model_673_res_acf_hi), col=\"blue\", linetype=2) +\n",
    "    labs(y=\"ACF\", x=\"Lag\") + \n",
    "    ggtitle(str_glue(\"ACF of Model Residuals for Pooled AR-673 Model on Highways England Data\"))"
   ]
  },
  {
   "cell_type": "markdown",
   "id": "16bc3868",
   "metadata": {},
   "source": [
    "### Portland"
   ]
  },
  {
   "cell_type": "code",
   "execution_count": null,
   "id": "0f321d81",
   "metadata": {},
   "outputs": [],
   "source": [
    "portland_model_data <- train_test_split(portland_total_volume_vec, train_test_split=(672*37)/(96*365))"
   ]
  },
  {
   "cell_type": "code",
   "execution_count": null,
   "id": "59c3afb8",
   "metadata": {},
   "outputs": [],
   "source": [
    "portland_model_673 <- global_ar_least_squares(portland_model_data$train,\n",
    "                                              portland_model_data$test,\n",
    "                                              lag=best_lag, \n",
    "                                              normalize=TRUE,\n",
    "                                              asinh=FALSE, \n",
    "                                              lambda=NULL, \n",
    "                                              return_model=TRUE,\n",
    "                                              return_fitted_values=TRUE,\n",
    "                                              return_residuals=TRUE,\n",
    "                                              return_train_rmse=TRUE,\n",
    "                                              return_test_preds=FALSE,\n",
    "                                              return_test_rmse=TRUE)"
   ]
  },
  {
   "cell_type": "code",
   "execution_count": null,
   "id": "8a09c0a5",
   "metadata": {},
   "outputs": [],
   "source": [
    "portland_model_673$train_rmse"
   ]
  },
  {
   "cell_type": "code",
   "execution_count": null,
   "id": "1edb6f5a",
   "metadata": {},
   "outputs": [],
   "source": [
    "portland_model_673$test_rmse"
   ]
  },
  {
   "cell_type": "markdown",
   "id": "472bf6ee",
   "metadata": {},
   "source": [
    "#### Residual Analysis"
   ]
  },
  {
   "cell_type": "code",
   "execution_count": null,
   "id": "e3d61a86",
   "metadata": {},
   "outputs": [],
   "source": [
    "mean(portland_model_673$residuals)"
   ]
  },
  {
   "cell_type": "code",
   "execution_count": null,
   "id": "28b45344",
   "metadata": {},
   "outputs": [],
   "source": [
    "sd(portland_model_673$residuals)"
   ]
  },
  {
   "cell_type": "code",
   "execution_count": null,
   "id": "3ab6e029",
   "metadata": {},
   "outputs": [],
   "source": [
    "ggplot() + \n",
    "    geom_density(aes(x=portland_model_673$residuals)) + \n",
    "    labs(x=\"Residual\", y=\"Density\") + \n",
    "    ggtitle(\"Residual Density for Pooled AR-673 Model on Portland Data\")"
   ]
  },
  {
   "cell_type": "code",
   "execution_count": null,
   "id": "a8544e64",
   "metadata": {
    "scrolled": false
   },
   "outputs": [],
   "source": [
    "ggplot() + \n",
    "    geom_point(aes(x=portland_model_673$fitted, y=portland_model_673$residuals), alpha=0.5) + \n",
    "    geom_smooth(aes(x=portland_model_673$fitted, y=portland_model_673$residuals)) + \n",
    "    labs(x=\"Fitted Value\", y=\"Residual\") + \n",
    "    ggtitle(\"Fitted Values vs Residuals for Pooled AR-673 Model on Portland Data\")"
   ]
  },
  {
   "cell_type": "code",
   "execution_count": null,
   "id": "c0d00277",
   "metadata": {},
   "outputs": [],
   "source": [
    "portland_model_673_res_acf <- acf(portland_model_673$residuals, lag=best_lag, plot=FALSE)\n",
    "portland_model_673_res_acf_lo <- -1*1.96/(length(portland_model_673$residuals)^0.5)\n",
    "portland_model_673_res_acf_hi <- 1.96/(length(portland_model_673$residuals)^0.5)"
   ]
  },
  {
   "cell_type": "code",
   "execution_count": null,
   "id": "cf0613ea",
   "metadata": {},
   "outputs": [],
   "source": [
    "ggplot() + \n",
    "    geom_hline(aes(yintercept = 0)) +\n",
    "    geom_segment(aes(x=portland_model_673_res_acf$lag[-1], \n",
    "                     xend=portland_model_673_res_acf$lag[-1], \n",
    "                     y=portland_model_673_res_acf$acf[-1], \n",
    "                     yend=0)) +\n",
    "    geom_hline(aes(yintercept = portland_model_673_res_acf_lo), col=\"blue\", linetype=2) +\n",
    "    geom_hline(aes(yintercept = portland_model_673_res_acf_hi), col=\"blue\", linetype=2) +\n",
    "    labs(y=\"ACF\", x=\"Lag\") + \n",
    "    ggtitle(str_glue(\"ACF of Model Residuals for Pooled AR-673 Model on Portland Data\"))"
   ]
  },
  {
   "cell_type": "markdown",
   "id": "2e2f17da",
   "metadata": {},
   "source": [
    "### Utah"
   ]
  },
  {
   "cell_type": "code",
   "execution_count": null,
   "id": "5c6a92fc",
   "metadata": {},
   "outputs": [],
   "source": [
    "utah_model_data <- train_test_split(utah_total_volume_vec, train_test_split=(672*37)/(96*365))"
   ]
  },
  {
   "cell_type": "code",
   "execution_count": null,
   "id": "8d029e38",
   "metadata": {},
   "outputs": [],
   "source": [
    "utah_model_673 <- global_ar_least_squares(utah_model_data$train,\n",
    "                                          utah_model_data$test,\n",
    "                                          lag=best_lag, \n",
    "                                          normalize=TRUE,\n",
    "                                          asinh=FALSE, \n",
    "                                          lambda=NULL, \n",
    "                                          return_model=TRUE,\n",
    "                                          return_fitted_values=TRUE,\n",
    "                                          return_residuals=TRUE,\n",
    "                                          return_train_rmse=TRUE,\n",
    "                                          return_test_preds=FALSE,\n",
    "                                          return_test_rmse=TRUE)"
   ]
  },
  {
   "cell_type": "code",
   "execution_count": null,
   "id": "f3951b61",
   "metadata": {},
   "outputs": [],
   "source": [
    "utah_model_673$train_rmse"
   ]
  },
  {
   "cell_type": "code",
   "execution_count": null,
   "id": "cc73fcf8",
   "metadata": {},
   "outputs": [],
   "source": [
    "utah_model_673$test_rmse"
   ]
  },
  {
   "cell_type": "markdown",
   "id": "02b45189",
   "metadata": {},
   "source": [
    "#### Residual Analysis"
   ]
  },
  {
   "cell_type": "code",
   "execution_count": null,
   "id": "c4fe5c0c",
   "metadata": {},
   "outputs": [],
   "source": [
    "mean(utah_model_673$residuals)"
   ]
  },
  {
   "cell_type": "code",
   "execution_count": null,
   "id": "c85bd14f",
   "metadata": {},
   "outputs": [],
   "source": [
    "sd(utah_model_673$residuals)"
   ]
  },
  {
   "cell_type": "code",
   "execution_count": null,
   "id": "babbe6a6",
   "metadata": {},
   "outputs": [],
   "source": [
    "ggplot() + \n",
    "    geom_density(aes(x=utah_model_673$residuals)) + \n",
    "    labs(x=\"Residual\", y=\"Density\") + \n",
    "    ggtitle(\"Residual Density for Pooled AR-673 Model on Utah Data\")"
   ]
  },
  {
   "cell_type": "code",
   "execution_count": null,
   "id": "4f8b65f3",
   "metadata": {
    "scrolled": false
   },
   "outputs": [],
   "source": [
    "ggplot() + \n",
    "    geom_point(aes(x=utah_model_673$fitted, y=utah_model_673$residuals), alpha=0.5) + \n",
    "    geom_smooth(aes(x=utah_model_673$fitted, y=utah_model_673$residuals)) + \n",
    "    labs(x=\"Fitted Value\", y=\"Residual\") + \n",
    "    ggtitle(\"Fitted Values vs Residuals for Pooled AR-673 Model on Utah Data\")"
   ]
  },
  {
   "cell_type": "code",
   "execution_count": null,
   "id": "9510e3f8",
   "metadata": {},
   "outputs": [],
   "source": [
    "utah_model_673_res_acf <- acf(utah_model_673$residuals, lag=best_lag, plot=FALSE)\n",
    "utah_model_673_res_acf_lo <- -1*1.96/(length(utah_model_673$residuals)^0.5)\n",
    "utah_model_673_res_acf_hi <- 1.96/(length(utah_model_673$residuals)^0.5)"
   ]
  },
  {
   "cell_type": "code",
   "execution_count": null,
   "id": "943821b8",
   "metadata": {},
   "outputs": [],
   "source": [
    "ggplot() + \n",
    "    geom_hline(aes(yintercept = 0)) +\n",
    "    geom_segment(aes(x=utah_model_673_res_acf$lag[-1], \n",
    "                     xend=utah_model_673_res_acf$lag[-1], \n",
    "                     y=utah_model_673_res_acf$acf[-1], \n",
    "                     yend=0)) +\n",
    "    geom_hline(aes(yintercept = utah_model_673_res_acf_lo), col=\"blue\", linetype=2) +\n",
    "    geom_hline(aes(yintercept = utah_model_673_res_acf_hi), col=\"blue\", linetype=2) +\n",
    "    labs(y=\"ACF\", x=\"Lag\") + \n",
    "    ggtitle(str_glue(\"ACF of Model Residuals for Pooled AR-673 Model on Utah Data\"))"
   ]
  },
  {
   "cell_type": "markdown",
   "id": "184e3e46",
   "metadata": {},
   "source": [
    "### Average Performance"
   ]
  },
  {
   "cell_type": "code",
   "execution_count": null,
   "id": "742130c8",
   "metadata": {},
   "outputs": [],
   "source": [
    "mean(england_model_673$test_rmse, portland_model_673$test_rmse, utah_model_673$test_rmse)"
   ]
  },
  {
   "cell_type": "markdown",
   "id": "6bb3c6ed",
   "metadata": {},
   "source": [
    "## Random Clusters"
   ]
  },
  {
   "cell_type": "markdown",
   "id": "5755da98",
   "metadata": {},
   "source": [
    "### Cluster 1"
   ]
  },
  {
   "cell_type": "code",
   "execution_count": null,
   "id": "de83e200",
   "metadata": {},
   "outputs": [],
   "source": [
    "clust1_model_data <- train_test_split(clust1_total_volume_vec, train_test_split=(672*37)/(96*365))"
   ]
  },
  {
   "cell_type": "code",
   "execution_count": null,
   "id": "6e46e3b0",
   "metadata": {},
   "outputs": [],
   "source": [
    "clus1_model_673 <- global_ar_least_squares(clust1_model_data$train,\n",
    "                                           clust1_model_data$test,\n",
    "                                           lag=best_lag, \n",
    "                                           normalize=TRUE,\n",
    "                                           asinh=FALSE, \n",
    "                                           lambda=NULL, \n",
    "                                           return_model=TRUE,\n",
    "                                           return_fitted_values=TRUE,\n",
    "                                           return_residuals=TRUE,\n",
    "                                           return_train_rmse=TRUE,\n",
    "                                           return_test_preds=FALSE,\n",
    "                                           return_test_rmse=TRUE)"
   ]
  },
  {
   "cell_type": "code",
   "execution_count": null,
   "id": "cd11b1d6",
   "metadata": {},
   "outputs": [],
   "source": [
    "clus1_model_673$train_rmse"
   ]
  },
  {
   "cell_type": "code",
   "execution_count": null,
   "id": "9963580f",
   "metadata": {},
   "outputs": [],
   "source": [
    "clus1_model_673$test_rmse"
   ]
  },
  {
   "cell_type": "markdown",
   "id": "d4c27783",
   "metadata": {},
   "source": [
    "#### Residual Analysis"
   ]
  },
  {
   "cell_type": "code",
   "execution_count": null,
   "id": "789aa465",
   "metadata": {},
   "outputs": [],
   "source": [
    "mean(clus1_model_673$residuals)"
   ]
  },
  {
   "cell_type": "code",
   "execution_count": null,
   "id": "b7c4d973",
   "metadata": {},
   "outputs": [],
   "source": [
    "sd(clus1_model_673$residuals)"
   ]
  },
  {
   "cell_type": "code",
   "execution_count": null,
   "id": "4c030a51",
   "metadata": {},
   "outputs": [],
   "source": [
    "ggplot() + \n",
    "    geom_density(aes(x=clus1_model_673$residuals)) + \n",
    "    labs(x=\"Residual\", y=\"Density\") + \n",
    "    ggtitle(\"Residual Density for Pooled AR-673 Model on Random Cluster 1\")"
   ]
  },
  {
   "cell_type": "code",
   "execution_count": null,
   "id": "f273ac51",
   "metadata": {
    "scrolled": false
   },
   "outputs": [],
   "source": [
    "ggplot() + \n",
    "    geom_point(aes(x=clus1_model_673$fitted, y=clus1_model_673$residuals), alpha=0.5) + \n",
    "    geom_smooth(aes(x=clus1_model_673$fitted, y=clus1_model_673$residuals)) + \n",
    "    labs(x=\"Fitted Value\", y=\"Residual\") + \n",
    "    ggtitle(\"Fitted Values vs Residuals for Pooled AR-673 Model on Random Cluster 1\")"
   ]
  },
  {
   "cell_type": "code",
   "execution_count": null,
   "id": "1dc61a0a",
   "metadata": {},
   "outputs": [],
   "source": [
    "clus1_model_673_res_acf <- acf(clus1_model_673$residuals, lag=best_lag, plot=FALSE)\n",
    "clus1_model_673_res_acf_lo <- -1*1.96/(length(clus1_model_673$residuals)^0.5)\n",
    "clus1_model_673_res_acf_hi <- 1.96/(length(clus1_model_673$residuals)^0.5)"
   ]
  },
  {
   "cell_type": "code",
   "execution_count": null,
   "id": "0372c950",
   "metadata": {},
   "outputs": [],
   "source": [
    "for (i in 0:5) {\n",
    "    n1 <- 24191*i + 1\n",
    "    n2 <- 24191*i + 24191 \n",
    "    res_acf <- acf(clus1_model_673$residuals[n1:n2], lag=best_lag, plot=FALSE)\n",
    "    res_acf_lo <- -1*1.96/(length(clus1_model_673$residuals[n1:n2])^0.5)\n",
    "    res_acf_hi <- 1.96/(length(clus1_model_673$residuals[n1:n2])^0.5)\n",
    "                           \n",
    "    p <- ggplot() + \n",
    "        geom_hline(aes(yintercept = 0)) +\n",
    "        geom_segment(aes(x=res_acf$lag[-1], \n",
    "                         xend=res_acf$lag[-1], \n",
    "                         y=res_acf$acf[-1], \n",
    "                         yend=0)) +\n",
    "        geom_hline(aes(yintercept = res_acf_lo), col=\"blue\", linetype=2) +\n",
    "        geom_hline(aes(yintercept = res_acf_hi), col=\"blue\", linetype=2) +\n",
    "        labs(y=\"ACF\", x=\"Lag\")   \n",
    "    \n",
    "    print(p)\n",
    "}"
   ]
  },
  {
   "cell_type": "code",
   "execution_count": null,
   "id": "d1930272",
   "metadata": {},
   "outputs": [],
   "source": [
    "ggplot() + \n",
    "    geom_hline(aes(yintercept = 0)) +\n",
    "    geom_segment(aes(x=clus1_model_673_res_acf$lag[-1], \n",
    "                     xend=clus1_model_673_res_acf$lag[-1], \n",
    "                     y=clus1_model_673_res_acf$acf[-1], \n",
    "                     yend=0)) +\n",
    "    geom_hline(aes(yintercept = clus1_model_673_res_acf_lo), col=\"blue\", linetype=2) +\n",
    "    geom_hline(aes(yintercept = clus1_model_673_res_acf_hi), col=\"blue\", linetype=2) +\n",
    "    labs(y=\"ACF\", x=\"Lag\") + \n",
    "    ggtitle(str_glue(\"ACF of Model Residuals for Pooled AR-673 Model on Random Cluster 1\"))"
   ]
  },
  {
   "cell_type": "markdown",
   "id": "281ba5cb",
   "metadata": {},
   "source": [
    "### Cluster 2"
   ]
  },
  {
   "cell_type": "code",
   "execution_count": null,
   "id": "a579fed8",
   "metadata": {},
   "outputs": [],
   "source": [
    "clust2_model_data <- train_test_split(clust2_total_volume_vec, train_test_split=(672*37)/(96*365))"
   ]
  },
  {
   "cell_type": "code",
   "execution_count": null,
   "id": "5342d81a",
   "metadata": {},
   "outputs": [],
   "source": [
    "clust2_model_673 <- global_ar_least_squares(clust2_model_data$train,\n",
    "                                            clust2_model_data$test,\n",
    "                                            lag=best_lag, \n",
    "                                            normalize=TRUE,\n",
    "                                            asinh=FALSE, \n",
    "                                            lambda=NULL, \n",
    "                                            return_model=TRUE,\n",
    "                                            return_fitted_values=TRUE,\n",
    "                                            return_residuals=TRUE,\n",
    "                                            return_train_rmse=TRUE,\n",
    "                                            return_test_preds=FALSE,\n",
    "                                            return_test_rmse=TRUE)"
   ]
  },
  {
   "cell_type": "code",
   "execution_count": null,
   "id": "31c60cd1",
   "metadata": {},
   "outputs": [],
   "source": [
    "clust2_model_673$train_rmse"
   ]
  },
  {
   "cell_type": "code",
   "execution_count": null,
   "id": "1d4bed5a",
   "metadata": {},
   "outputs": [],
   "source": [
    "clust2_model_673$test_rmse"
   ]
  },
  {
   "cell_type": "markdown",
   "id": "7d637bb8",
   "metadata": {},
   "source": [
    "#### Residual Analysis"
   ]
  },
  {
   "cell_type": "code",
   "execution_count": null,
   "id": "aac235cf",
   "metadata": {},
   "outputs": [],
   "source": [
    "mean(clust2_model_673$residuals)"
   ]
  },
  {
   "cell_type": "code",
   "execution_count": null,
   "id": "69818cdd",
   "metadata": {},
   "outputs": [],
   "source": [
    "sd(clust2_model_673$residuals)"
   ]
  },
  {
   "cell_type": "code",
   "execution_count": null,
   "id": "8f2f13ff",
   "metadata": {},
   "outputs": [],
   "source": [
    "ggplot() + \n",
    "    geom_density(aes(x=clust2_model_673$residuals)) + \n",
    "    labs(x=\"Residual\", y=\"Density\") + \n",
    "    ggtitle(\"Residual Density for Pooled AR-673 Model on Random Cluster 2\")"
   ]
  },
  {
   "cell_type": "code",
   "execution_count": null,
   "id": "70f680bc",
   "metadata": {
    "scrolled": false
   },
   "outputs": [],
   "source": [
    "ggplot() + \n",
    "    geom_point(aes(x=clust2_model_673$fitted, y=clust2_model_673$residuals), alpha=0.5) + \n",
    "    geom_smooth(aes(x=clust2_model_673$fitted, y=clust2_model_673$residuals)) + \n",
    "    labs(x=\"Fitted Value\", y=\"Residual\") + \n",
    "    ggtitle(\"Fitted Values vs Residuals for Pooled AR-673 Model on Random Cluster 2\")"
   ]
  },
  {
   "cell_type": "code",
   "execution_count": null,
   "id": "04c2e2f3",
   "metadata": {},
   "outputs": [],
   "source": [
    "clust2_model_673_res_acf <- acf(clust2_model_673$residuals, lag=best_lag, plot=FALSE)\n",
    "clust2_model_673_res_acf_lo <- -1*1.96/(length(clust2_model_673$residuals)^0.5)\n",
    "clust2_model_673_res_acf_hi <- 1.96/(length(clust2_model_673$residuals)^0.5)"
   ]
  },
  {
   "cell_type": "code",
   "execution_count": null,
   "id": "2f01b931",
   "metadata": {},
   "outputs": [],
   "source": [
    "ggplot() + \n",
    "    geom_hline(aes(yintercept = 0)) +\n",
    "    geom_segment(aes(x=clust2_model_673_res_acf$lag[-1], \n",
    "                     xend=clust2_model_673_res_acf$lag[-1], \n",
    "                     y=clust2_model_673_res_acf$acf[-1], \n",
    "                     yend=0)) +\n",
    "    geom_hline(aes(yintercept = clust2_model_673_res_acf_lo), col=\"blue\", linetype=2) +\n",
    "    geom_hline(aes(yintercept = clust2_model_673_res_acf_hi), col=\"blue\", linetype=2) +\n",
    "    labs(y=\"ACF\", x=\"Lag\") + \n",
    "    ggtitle(str_glue(\"ACF of Model Residuals for Pooled AR-673 Model on Random Cluster 2\"))"
   ]
  },
  {
   "cell_type": "markdown",
   "id": "f05e2ac0",
   "metadata": {},
   "source": [
    "### Cluster 3"
   ]
  },
  {
   "cell_type": "code",
   "execution_count": null,
   "id": "30623ffc",
   "metadata": {},
   "outputs": [],
   "source": [
    "clust3_model_data <- train_test_split(clust3_total_volume_vec, train_test_split=(672*37)/(96*365))"
   ]
  },
  {
   "cell_type": "code",
   "execution_count": null,
   "id": "ff3036cf",
   "metadata": {},
   "outputs": [],
   "source": [
    "clust3_model_673 <- global_ar_least_squares(clust3_model_data$train,\n",
    "                                            clust3_model_data$test,\n",
    "                                            lag=best_lag, \n",
    "                                            normalize=TRUE,\n",
    "                                            asinh=FALSE, \n",
    "                                            lambda=NULL, \n",
    "                                            return_model=TRUE,\n",
    "                                            return_fitted_values=TRUE,\n",
    "                                            return_residuals=TRUE,\n",
    "                                            return_train_rmse=TRUE,\n",
    "                                            return_test_preds=FALSE,\n",
    "                                            return_test_rmse=TRUE)"
   ]
  },
  {
   "cell_type": "code",
   "execution_count": null,
   "id": "164e37d0",
   "metadata": {},
   "outputs": [],
   "source": [
    "clust3_model_673$train_rmse"
   ]
  },
  {
   "cell_type": "code",
   "execution_count": null,
   "id": "d37ad1f6",
   "metadata": {},
   "outputs": [],
   "source": [
    "clust3_model_673$test_rmse"
   ]
  },
  {
   "cell_type": "markdown",
   "id": "95171e61",
   "metadata": {},
   "source": [
    "#### Residual Analysis"
   ]
  },
  {
   "cell_type": "code",
   "execution_count": null,
   "id": "f4b46425",
   "metadata": {},
   "outputs": [],
   "source": [
    "mean(clust3_model_673$residuals)"
   ]
  },
  {
   "cell_type": "code",
   "execution_count": null,
   "id": "93e25b91",
   "metadata": {},
   "outputs": [],
   "source": [
    "sd(clust3_model_673$residuals)"
   ]
  },
  {
   "cell_type": "code",
   "execution_count": null,
   "id": "29de3144",
   "metadata": {},
   "outputs": [],
   "source": [
    "ggplot() + \n",
    "    geom_density(aes(x=clust3_model_673$residuals)) + \n",
    "    labs(x=\"Residual\", y=\"Density\") + \n",
    "    ggtitle(\"Residual Density for Pooled AR-673 Model on Random Cluster 3\")"
   ]
  },
  {
   "cell_type": "code",
   "execution_count": null,
   "id": "488216e9",
   "metadata": {
    "scrolled": false
   },
   "outputs": [],
   "source": [
    "ggplot() + \n",
    "    geom_point(aes(x=clust3_model_673$fitted, y=clust3_model_673$residuals), alpha=0.5) + \n",
    "    geom_smooth(aes(x=clust3_model_673$fitted, y=clust3_model_673$residuals)) + \n",
    "    labs(x=\"Fitted Value\", y=\"Residual\") + \n",
    "    ggtitle(\"Fitted Values vs Residuals for Pooled AR-673 Model on Random Cluster 3\")"
   ]
  },
  {
   "cell_type": "code",
   "execution_count": null,
   "id": "ed9757d3",
   "metadata": {},
   "outputs": [],
   "source": [
    "clust3_model_673_res_acf <- acf(clust3_model_673$residuals, lag=best_lag, plot=FALSE)\n",
    "clust3_model_673_res_acf_lo <- -1*1.96/(length(clust3_model_673$residuals)^0.5)\n",
    "clust3_model_673_res_acf_hi <- 1.96/(length(clust3_model_673$residuals)^0.5)"
   ]
  },
  {
   "cell_type": "code",
   "execution_count": null,
   "id": "f6e6f855",
   "metadata": {},
   "outputs": [],
   "source": [
    "ggplot() + \n",
    "    geom_hline(aes(yintercept = 0)) +\n",
    "    geom_segment(aes(x=clust3_model_673_res_acf$lag[-1], \n",
    "                     xend=clust3_model_673_res_acf$lag[-1], \n",
    "                     y=clust3_model_673_res_acf$acf[-1], \n",
    "                     yend=0)) +\n",
    "    geom_hline(aes(yintercept = clust3_model_673_res_acf_lo), col=\"blue\", linetype=2) +\n",
    "    geom_hline(aes(yintercept = clust3_model_673_res_acf_hi), col=\"blue\", linetype=2) +\n",
    "    labs(y=\"ACF\", x=\"Lag\") + \n",
    "    ggtitle(str_glue(\"ACF of Model Residuals for Pooled AR-673 Model on Random Cluster 3\"))"
   ]
  },
  {
   "cell_type": "markdown",
   "id": "1a868735",
   "metadata": {},
   "source": [
    "### Average Performance"
   ]
  },
  {
   "cell_type": "code",
   "execution_count": null,
   "id": "6f79cb53",
   "metadata": {},
   "outputs": [],
   "source": [
    "mean(clus1_model_673$test_rmse, clust2_model_673$test_rmse, clust3_model_673$test_rmse)"
   ]
  },
  {
   "cell_type": "markdown",
   "id": "e01b93c9",
   "metadata": {},
   "source": [
    "## K-Means Clusters"
   ]
  },
  {
   "cell_type": "markdown",
   "id": "e34467cf",
   "metadata": {},
   "source": [
    "### Cluster 1"
   ]
  },
  {
   "cell_type": "code",
   "execution_count": null,
   "id": "7fe418d4",
   "metadata": {},
   "outputs": [],
   "source": [
    "kmeans_clust1_model_data <- train_test_split(kmeans_clust1_total_volume_vec, \n",
    "                                             train_test_split=(672*37)/(96*365))"
   ]
  },
  {
   "cell_type": "code",
   "execution_count": null,
   "id": "c335dda9",
   "metadata": {},
   "outputs": [],
   "source": [
    "kmeans_clust1_model_673 <- global_ar_least_squares(kmeans_clust1_model_data$train,\n",
    "                                                   kmeans_clust1_model_data$test,\n",
    "                                                   lag=best_lag, \n",
    "                                                   normalize=TRUE,\n",
    "                                                   asinh=FALSE, \n",
    "                                                   lambda=NULL, \n",
    "                                                   return_model=TRUE,\n",
    "                                                   return_fitted_values=TRUE,\n",
    "                                                   return_residuals=TRUE,\n",
    "                                                   return_train_rmse=TRUE,\n",
    "                                                   return_test_preds=FALSE,\n",
    "                                                   return_test_rmse=TRUE)"
   ]
  },
  {
   "cell_type": "code",
   "execution_count": null,
   "id": "cad8255b",
   "metadata": {},
   "outputs": [],
   "source": [
    "kmeans_clust1_model_673$train_rmse"
   ]
  },
  {
   "cell_type": "code",
   "execution_count": null,
   "id": "92a3ab3c",
   "metadata": {},
   "outputs": [],
   "source": [
    "kmeans_clust1_model_673$test_rmse"
   ]
  },
  {
   "cell_type": "markdown",
   "id": "b17275ce",
   "metadata": {},
   "source": [
    "#### Residual Analysis"
   ]
  },
  {
   "cell_type": "code",
   "execution_count": null,
   "id": "3ef0cea6",
   "metadata": {},
   "outputs": [],
   "source": [
    "mean(kmeans_clust1_model_673$residuals)"
   ]
  },
  {
   "cell_type": "code",
   "execution_count": null,
   "id": "5828f485",
   "metadata": {},
   "outputs": [],
   "source": [
    "sd(kmeans_clust1_model_673$residuals)"
   ]
  },
  {
   "cell_type": "code",
   "execution_count": null,
   "id": "4e140234",
   "metadata": {},
   "outputs": [],
   "source": [
    "ggplot() + \n",
    "    geom_density(aes(x=kmeans_clust1_model_673$residuals)) + \n",
    "    labs(x=\"Residual\", y=\"Density\") + \n",
    "    ggtitle(\"Residual Density for Pooled AR-673 Model on K-Means Cluster 1\")"
   ]
  },
  {
   "cell_type": "code",
   "execution_count": null,
   "id": "9a897248",
   "metadata": {
    "scrolled": false
   },
   "outputs": [],
   "source": [
    "ggplot() + \n",
    "    geom_point(aes(x=kmeans_clust1_model_673$fitted, y=kmeans_clust1_model_673$residuals), alpha=0.5) + \n",
    "    geom_smooth(aes(x=kmeans_clust1_model_673$fitted, y=kmeans_clust1_model_673$residuals)) + \n",
    "    labs(x=\"Fitted Value\", y=\"Residual\") + \n",
    "    ggtitle(\"Fitted Values vs Residuals for Pooled AR-673 Model on K-Means Cluster 1\")"
   ]
  },
  {
   "cell_type": "code",
   "execution_count": null,
   "id": "fe5fc4b8",
   "metadata": {},
   "outputs": [],
   "source": [
    "kmeans_clust1_model_673_res_acf <- acf(kmeans_clust1_model_673$residuals, lag=best_lag, plot=FALSE)\n",
    "kmeans_clust1_model_673_res_acf_lo <- -1*1.96/(length(kmeans_clust1_model_673$residuals)^0.5)\n",
    "kmeans_clust1_model_673_res_acf_hi <- 1.96/(length(kmeans_clust1_model_673$residuals)^0.5)"
   ]
  },
  {
   "cell_type": "code",
   "execution_count": null,
   "id": "09bb88f3",
   "metadata": {},
   "outputs": [],
   "source": [
    "ggplot() + \n",
    "    geom_hline(aes(yintercept = 0)) +\n",
    "    geom_segment(aes(x=kmeans_clust1_model_673_res_acf$lag[-1], \n",
    "                     xend=kmeans_clust1_model_673_res_acf$lag[-1], \n",
    "                     y=kmeans_clust1_model_673_res_acf$acf[-1], \n",
    "                     yend=0)) +\n",
    "    geom_hline(aes(yintercept = kmeans_clust1_model_673_res_acf_lo), col=\"blue\", linetype=2) +\n",
    "    geom_hline(aes(yintercept = kmeans_clust1_model_673_res_acf_hi), col=\"blue\", linetype=2) +\n",
    "    labs(y=\"ACF\", x=\"Lag\") + \n",
    "    ggtitle(str_glue(\"ACF of Model Residuals for Pooled AR-673 Model on K-Means Cluster 1\"))"
   ]
  },
  {
   "cell_type": "markdown",
   "id": "8ce68e56",
   "metadata": {},
   "source": [
    "### Cluster 2"
   ]
  },
  {
   "cell_type": "code",
   "execution_count": null,
   "id": "7bc66c8b",
   "metadata": {},
   "outputs": [],
   "source": [
    "kmeans_clust2_model_data <- train_test_split(kmeans_clust2_total_volume_vec, \n",
    "                                             train_test_split=(672*37)/(96*365))"
   ]
  },
  {
   "cell_type": "code",
   "execution_count": null,
   "id": "b8d7b536",
   "metadata": {},
   "outputs": [],
   "source": [
    "kmeans_clust2_model_673 <- global_ar_least_squares(kmeans_clust2_model_data$train,\n",
    "                                                   kmeans_clust2_model_data$test,\n",
    "                                                   lag=best_lag, \n",
    "                                                   normalize=TRUE,\n",
    "                                                   asinh=FALSE, \n",
    "                                                   lambda=NULL, \n",
    "                                                   return_model=TRUE,\n",
    "                                                   return_fitted_values=TRUE,\n",
    "                                                   return_residuals=TRUE,\n",
    "                                                   return_train_rmse=TRUE,\n",
    "                                                   return_test_preds=FALSE,\n",
    "                                                   return_test_rmse=TRUE)"
   ]
  },
  {
   "cell_type": "code",
   "execution_count": null,
   "id": "bbce5a4b",
   "metadata": {},
   "outputs": [],
   "source": [
    "kmeans_clust2_model_673$train_rmse"
   ]
  },
  {
   "cell_type": "code",
   "execution_count": null,
   "id": "58d3f472",
   "metadata": {},
   "outputs": [],
   "source": [
    "kmeans_clust2_model_673$test_rmse"
   ]
  },
  {
   "cell_type": "markdown",
   "id": "00904fc4",
   "metadata": {},
   "source": [
    "#### Residual Analysis"
   ]
  },
  {
   "cell_type": "code",
   "execution_count": null,
   "id": "1bc04d3a",
   "metadata": {},
   "outputs": [],
   "source": [
    "mean(kmeans_clust2_model_673$residuals)"
   ]
  },
  {
   "cell_type": "code",
   "execution_count": null,
   "id": "f4956b7b",
   "metadata": {},
   "outputs": [],
   "source": [
    "sd(kmeans_clust2_model_673$residuals)"
   ]
  },
  {
   "cell_type": "code",
   "execution_count": null,
   "id": "a0db70ed",
   "metadata": {},
   "outputs": [],
   "source": [
    "ggplot() + \n",
    "    geom_density(aes(x=kmeans_clust2_model_673$residuals)) + \n",
    "    labs(x=\"Residual\", y=\"Density\") + \n",
    "    ggtitle(\"Residual Density for Pooled AR-673 Model on K-Means Cluster 2\")"
   ]
  },
  {
   "cell_type": "code",
   "execution_count": null,
   "id": "07e925ed",
   "metadata": {
    "scrolled": false
   },
   "outputs": [],
   "source": [
    "ggplot() + \n",
    "    geom_point(aes(x=kmeans_clust2_model_673$fitted, y=kmeans_clust2_model_673$residuals), alpha=0.5) + \n",
    "    geom_smooth(aes(x=kmeans_clust2_model_673$fitted, y=kmeans_clust2_model_673$residuals)) + \n",
    "    labs(x=\"Fitted Value\", y=\"Residual\") + \n",
    "    ggtitle(\"Fitted Values vs Residuals for Pooled AR-673 Model on K-Means Cluster 2\")"
   ]
  },
  {
   "cell_type": "code",
   "execution_count": null,
   "id": "f8dc173b",
   "metadata": {},
   "outputs": [],
   "source": [
    "kmeans_clust2_model_673_res_acf <- acf(kmeans_clust2_model_673$residuals, lag=best_lag, plot=FALSE)\n",
    "kmeans_clust2_model_673_res_acf_lo <- -1*1.96/(length(kmeans_clust2_model_673$residuals)^0.5)\n",
    "kmeans_clust2_model_673_res_acf_hi <- 1.96/(length(kmeans_clust2_model_673$residuals)^0.5)"
   ]
  },
  {
   "cell_type": "code",
   "execution_count": null,
   "id": "b24cbbd3",
   "metadata": {},
   "outputs": [],
   "source": [
    "ggplot() + \n",
    "    geom_hline(aes(yintercept = 0)) +\n",
    "    geom_segment(aes(x=kmeans_clust2_model_673_res_acf$lag[-1], \n",
    "                     xend=kmeans_clust2_model_673_res_acf$lag[-1], \n",
    "                     y=kmeans_clust2_model_673_res_acf$acf[-1], \n",
    "                     yend=0)) +\n",
    "    geom_hline(aes(yintercept = kmeans_clust2_model_673_res_acf_lo), col=\"blue\", linetype=2) +\n",
    "    geom_hline(aes(yintercept = kmeans_clust2_model_673_res_acf_hi), col=\"blue\", linetype=2) +\n",
    "    labs(y=\"ACF\", x=\"Lag\") + \n",
    "    ggtitle(str_glue(\"ACF of Model Residuals for Pooled AR-673 Model on K-Means Cluster 2\"))"
   ]
  },
  {
   "cell_type": "markdown",
   "id": "f0d76768",
   "metadata": {},
   "source": [
    "### Cluster 3"
   ]
  },
  {
   "cell_type": "code",
   "execution_count": null,
   "id": "a68b4a00",
   "metadata": {},
   "outputs": [],
   "source": [
    "kmeans_clust3_model_data <- train_test_split(kmeans_clust3_total_volume_vec, \n",
    "                                             train_test_split=(672*37)/(96*365))"
   ]
  },
  {
   "cell_type": "code",
   "execution_count": null,
   "id": "5b495e61",
   "metadata": {},
   "outputs": [],
   "source": [
    "kmeans_clust3_model_673 <- global_ar_least_squares(kmeans_clust3_model_data$train,\n",
    "                                                   kmeans_clust3_model_data$test,\n",
    "                                                   lag=best_lag, \n",
    "                                                   normalize=TRUE,\n",
    "                                                   asinh=FALSE, \n",
    "                                                   lambda=NULL, \n",
    "                                                   return_model=TRUE,\n",
    "                                                   return_fitted_values=TRUE,\n",
    "                                                   return_residuals=TRUE,\n",
    "                                                   return_train_rmse=TRUE,\n",
    "                                                   return_test_preds=FALSE,\n",
    "                                                   return_test_rmse=TRUE)"
   ]
  },
  {
   "cell_type": "code",
   "execution_count": null,
   "id": "92e5e1c4",
   "metadata": {},
   "outputs": [],
   "source": [
    "kmeans_clust3_model_673$train_rmse"
   ]
  },
  {
   "cell_type": "code",
   "execution_count": null,
   "id": "a6c7ae7d",
   "metadata": {},
   "outputs": [],
   "source": [
    "kmeans_clust3_model_673$test_rmse"
   ]
  },
  {
   "cell_type": "markdown",
   "id": "1aae13e9",
   "metadata": {},
   "source": [
    "#### Residual Analysis"
   ]
  },
  {
   "cell_type": "code",
   "execution_count": null,
   "id": "4eb96916",
   "metadata": {},
   "outputs": [],
   "source": [
    "mean(kmeans_clust3_model_673$residuals)"
   ]
  },
  {
   "cell_type": "code",
   "execution_count": null,
   "id": "6004c05a",
   "metadata": {},
   "outputs": [],
   "source": [
    "sd(kmeans_clust3_model_673$residuals)"
   ]
  },
  {
   "cell_type": "code",
   "execution_count": null,
   "id": "05d38317",
   "metadata": {},
   "outputs": [],
   "source": [
    "ggplot() + \n",
    "    geom_density(aes(x=kmeans_clust3_model_673$residuals)) + \n",
    "    labs(x=\"Residual\", y=\"Density\") + \n",
    "    ggtitle(\"Residual Density for Pooled AR-673 Model on K-Means Cluster 3\")"
   ]
  },
  {
   "cell_type": "code",
   "execution_count": null,
   "id": "62a0ee91",
   "metadata": {
    "scrolled": false
   },
   "outputs": [],
   "source": [
    "ggplot() + \n",
    "    geom_point(aes(x=kmeans_clust3_model_673$fitted, y=kmeans_clust3_model_673$residuals), alpha=0.5) + \n",
    "    geom_smooth(aes(x=kmeans_clust3_model_673$fitted, y=kmeans_clust3_model_673$residuals)) + \n",
    "    labs(x=\"Fitted Value\", y=\"Residual\") + \n",
    "    ggtitle(\"Fitted Values vs Residuals for Pooled AR-673 Model on K-Means Cluster 3\")"
   ]
  },
  {
   "cell_type": "code",
   "execution_count": null,
   "id": "691817ce",
   "metadata": {},
   "outputs": [],
   "source": [
    "kmeans_clust3_model_673_res_acf <- acf(kmeans_clust3_model_673$residuals, lag=best_lag, plot=FALSE)\n",
    "kmeans_clust3_model_673_res_acf_lo <- -1*1.96/(length(kmeans_clust3_model_673$residuals)^0.5)\n",
    "kmeans_clust3_model_673_res_acf_hi <- 1.96/(length(kmeans_clust3_model_673$residuals)^0.5)"
   ]
  },
  {
   "cell_type": "code",
   "execution_count": null,
   "id": "13e42f22",
   "metadata": {},
   "outputs": [],
   "source": [
    "ggplot() + \n",
    "    geom_hline(aes(yintercept = 0)) +\n",
    "    geom_segment(aes(x=kmeans_clust3_model_673_res_acf$lag[-1], \n",
    "                     xend=kmeans_clust3_model_673_res_acf$lag[-1], \n",
    "                     y=kmeans_clust3_model_673_res_acf$acf[-1], \n",
    "                     yend=0)) +\n",
    "    geom_hline(aes(yintercept = kmeans_clust3_model_673_res_acf_lo), col=\"blue\", linetype=2) +\n",
    "    geom_hline(aes(yintercept = kmeans_clust3_model_673_res_acf_hi), col=\"blue\", linetype=2) +\n",
    "    labs(y=\"ACF\", x=\"Lag\") + \n",
    "    ggtitle(str_glue(\"ACF of Model Residuals for Pooled AR-673 Model on K-Means Cluster 3\"))"
   ]
  },
  {
   "cell_type": "markdown",
   "id": "7f3ddb61",
   "metadata": {},
   "source": [
    "### Cluster 4"
   ]
  },
  {
   "cell_type": "code",
   "execution_count": null,
   "id": "0e34c477",
   "metadata": {},
   "outputs": [],
   "source": [
    "kmeans_clust4_model_data <- train_test_split(kmeans_clust4_total_volume_vec, \n",
    "                                             train_test_split=(672*37)/(96*365))"
   ]
  },
  {
   "cell_type": "code",
   "execution_count": null,
   "id": "611e6a35",
   "metadata": {},
   "outputs": [],
   "source": [
    "kmeans_clust4_model_673 <- global_ar_least_squares(kmeans_clust4_model_data$train,\n",
    "                                                   kmeans_clust4_model_data$test,\n",
    "                                                   lag=best_lag, \n",
    "                                                   normalize=TRUE,\n",
    "                                                   asinh=FALSE, \n",
    "                                                   lambda=NULL, \n",
    "                                                   return_model=TRUE,\n",
    "                                                   return_fitted_values=TRUE,\n",
    "                                                   return_residuals=TRUE,\n",
    "                                                   return_train_rmse=TRUE,\n",
    "                                                   return_test_preds=FALSE,\n",
    "                                                   return_test_rmse=TRUE)"
   ]
  },
  {
   "cell_type": "code",
   "execution_count": null,
   "id": "1d9407aa",
   "metadata": {},
   "outputs": [],
   "source": [
    "kmeans_clust4_model_673$train_rmse"
   ]
  },
  {
   "cell_type": "code",
   "execution_count": null,
   "id": "47b6e0fb",
   "metadata": {},
   "outputs": [],
   "source": [
    "kmeans_clust4_model_673$test_rmse"
   ]
  },
  {
   "cell_type": "markdown",
   "id": "789f148d",
   "metadata": {},
   "source": [
    "#### Residual Analysis"
   ]
  },
  {
   "cell_type": "code",
   "execution_count": null,
   "id": "5a5468b8",
   "metadata": {},
   "outputs": [],
   "source": [
    "mean(kmeans_clust4_model_673$residuals)"
   ]
  },
  {
   "cell_type": "code",
   "execution_count": null,
   "id": "18efe67d",
   "metadata": {},
   "outputs": [],
   "source": [
    "sd(kmeans_clust4_model_673$residuals)"
   ]
  },
  {
   "cell_type": "code",
   "execution_count": null,
   "id": "a2892d59",
   "metadata": {},
   "outputs": [],
   "source": [
    "ggplot() + \n",
    "    geom_density(aes(x=kmeans_clust4_model_673$residuals)) + \n",
    "    labs(x=\"Residual\", y=\"Density\") + \n",
    "    ggtitle(\"Residual Density for Pooled AR-673 Model on K-Means Cluster 4\")"
   ]
  },
  {
   "cell_type": "code",
   "execution_count": null,
   "id": "5874a959",
   "metadata": {
    "scrolled": false
   },
   "outputs": [],
   "source": [
    "ggplot() + \n",
    "    geom_point(aes(x=kmeans_clust4_model_673$fitted, y=kmeans_clust4_model_673$residuals), alpha=0.5) + \n",
    "    geom_smooth(aes(x=kmeans_clust4_model_673$fitted, y=kmeans_clust4_model_673$residuals)) + \n",
    "    labs(x=\"Fitted Value\", y=\"Residual\") + \n",
    "    ggtitle(\"Fitted Values vs Residuals for Pooled AR-673 Model on K-Means Cluster 4\")"
   ]
  },
  {
   "cell_type": "code",
   "execution_count": null,
   "id": "1e3a36ed",
   "metadata": {},
   "outputs": [],
   "source": [
    "kmeans_clust4_model_673_res_acf <- acf(kmeans_clust4_model_673$residuals, lag=best_lag, plot=FALSE)\n",
    "kmeans_clust4_model_673_res_acf_lo <- -1*1.96/(length(kmeans_clust4_model_673$residuals)^0.5)\n",
    "kmeans_clust4_model_673_res_acf_hi <- 1.96/(length(kmeans_clust4_model_673$residuals)^0.5)"
   ]
  },
  {
   "cell_type": "code",
   "execution_count": null,
   "id": "12f9567d",
   "metadata": {},
   "outputs": [],
   "source": [
    "ggplot() + \n",
    "    geom_hline(aes(yintercept = 0)) +\n",
    "    geom_segment(aes(x=kmeans_clust4_model_673_res_acf$lag[-1], \n",
    "                     xend=kmeans_clust4_model_673_res_acf$lag[-1], \n",
    "                     y=kmeans_clust4_model_673_res_acf$acf[-1], \n",
    "                     yend=0)) +\n",
    "    geom_hline(aes(yintercept = kmeans_clust4_model_673_res_acf_lo), col=\"blue\", linetype=2) +\n",
    "    geom_hline(aes(yintercept = kmeans_clust4_model_673_res_acf_hi), col=\"blue\", linetype=2) +\n",
    "    labs(y=\"ACF\", x=\"Lag\") + \n",
    "    ggtitle(str_glue(\"ACF of Model Residuals for Pooled AR-673 Model on K-Means Cluster 4\"))"
   ]
  },
  {
   "cell_type": "markdown",
   "id": "b730a564",
   "metadata": {},
   "source": [
    "### Average Performance"
   ]
  },
  {
   "cell_type": "code",
   "execution_count": null,
   "id": "8c15b32c",
   "metadata": {},
   "outputs": [],
   "source": [
    "weighted.mean(c(kmeans_clust1_model_673$test_rmse, \n",
    "                kmeans_clust2_model_673$test_rmse, \n",
    "                kmeans_clust3_model_673$test_rmse,\n",
    "                kmeans_clust4_model_673$test_rmse),\n",
    "              c(length(kmeans_clust1_model_data$train),\n",
    "                length(kmeans_clust2_model_data$train),\n",
    "                length(kmeans_clust3_model_data$train),\n",
    "                length(kmeans_clust4_model_data$train))\n",
    "             )"
   ]
  },
  {
   "cell_type": "markdown",
   "id": "dc74305d",
   "metadata": {},
   "source": [
    "## GMM Clusters"
   ]
  },
  {
   "cell_type": "markdown",
   "id": "2713981b",
   "metadata": {},
   "source": [
    "### Cluster 1"
   ]
  },
  {
   "cell_type": "code",
   "execution_count": null,
   "id": "2ea882ed",
   "metadata": {},
   "outputs": [],
   "source": [
    "gmm_clust1_model_data <- train_test_split(gmm_clust1_total_volume_vec,\n",
    "                                          train_test_split=(672*37)/(96*365))"
   ]
  },
  {
   "cell_type": "code",
   "execution_count": null,
   "id": "8d7aa568",
   "metadata": {},
   "outputs": [],
   "source": [
    "gmm_clust1_model_673 <- global_ar_least_squares(gmm_clust1_model_data$train,\n",
    "                                                gmm_clust1_model_data$test,\n",
    "                                                lag=best_lag, \n",
    "                                                normalize=TRUE,\n",
    "                                                asinh=FALSE, \n",
    "                                                lambda=NULL, \n",
    "                                                return_model=TRUE,\n",
    "                                                return_fitted_values=TRUE,\n",
    "                                                return_residuals=TRUE,\n",
    "                                                return_train_rmse=TRUE,\n",
    "                                                return_test_preds=FALSE,\n",
    "                                                return_test_rmse=TRUE)"
   ]
  },
  {
   "cell_type": "code",
   "execution_count": null,
   "id": "ef0833be",
   "metadata": {},
   "outputs": [],
   "source": [
    "gmm_clust1_model_673$train_rmse"
   ]
  },
  {
   "cell_type": "code",
   "execution_count": null,
   "id": "7af3ae0d",
   "metadata": {},
   "outputs": [],
   "source": [
    "gmm_clust1_model_673$test_rmse"
   ]
  },
  {
   "cell_type": "markdown",
   "id": "bca4bc09",
   "metadata": {},
   "source": [
    "#### Residual Analysis"
   ]
  },
  {
   "cell_type": "code",
   "execution_count": null,
   "id": "f8616c82",
   "metadata": {},
   "outputs": [],
   "source": [
    "mean(gmm_clust1_model_673$residuals)"
   ]
  },
  {
   "cell_type": "code",
   "execution_count": null,
   "id": "e71a9d3f",
   "metadata": {},
   "outputs": [],
   "source": [
    "sd(gmm_clust1_model_673$residuals)"
   ]
  },
  {
   "cell_type": "code",
   "execution_count": null,
   "id": "97930e5a",
   "metadata": {},
   "outputs": [],
   "source": [
    "ggplot() + \n",
    "    geom_density(aes(x=gmm_clust1_model_673$residuals)) + \n",
    "    labs(x=\"Residual\", y=\"Density\") + \n",
    "    ggtitle(\"Residual Density for Pooled AR-673 Model on GMM Cluster 1\")"
   ]
  },
  {
   "cell_type": "code",
   "execution_count": null,
   "id": "85fcf61b",
   "metadata": {
    "scrolled": false
   },
   "outputs": [],
   "source": [
    "ggplot() + \n",
    "    geom_point(aes(x=gmm_clust1_model_673$fitted, y=gmm_clust1_model_673$residuals), alpha=0.5) + \n",
    "    geom_smooth(aes(x=gmm_clust1_model_673$fitted, y=gmm_clust1_model_673$residuals)) + \n",
    "    labs(x=\"Fitted Value\", y=\"Residual\") + \n",
    "    ggtitle(\"Fitted Values vs Residuals for Pooled AR-673 Model on GMM Cluster 1\")"
   ]
  },
  {
   "cell_type": "code",
   "execution_count": null,
   "id": "3cc99ef3",
   "metadata": {},
   "outputs": [],
   "source": [
    "gmm_clust1_model_673_res_acf <- acf(gmm_clust1_model_673$residuals, lag=best_lag, plot=FALSE)\n",
    "gmm_clust1_model_673_res_acf_lo <- -1*1.96/(length(gmm_clust1_model_673$residuals)^0.5)\n",
    "gmm_clust1_model_673_res_acf_hi <- 1.96/(length(gmm_clust1_model_673$residuals)^0.5)"
   ]
  },
  {
   "cell_type": "code",
   "execution_count": null,
   "id": "1a879e6f",
   "metadata": {},
   "outputs": [],
   "source": [
    "ggplot() + \n",
    "    geom_hline(aes(yintercept = 0)) +\n",
    "    geom_segment(aes(x=gmm_clust1_model_673_res_acf$lag[-1], \n",
    "                     xend=gmm_clust1_model_673_res_acf$lag[-1], \n",
    "                     y=gmm_clust1_model_673_res_acf$acf[-1], \n",
    "                     yend=0)) +\n",
    "    geom_hline(aes(yintercept = gmm_clust1_model_673_res_acf_lo), col=\"blue\", linetype=2) +\n",
    "    geom_hline(aes(yintercept = gmm_clust1_model_673_res_acf_hi), col=\"blue\", linetype=2) +\n",
    "    labs(y=\"ACF\", x=\"Lag\") + \n",
    "    ggtitle(str_glue(\"ACF of Model Residuals for Pooled AR-673 Model on GMM Cluster 1\"))"
   ]
  },
  {
   "cell_type": "markdown",
   "id": "fffefffa",
   "metadata": {},
   "source": [
    "### Cluster 2"
   ]
  },
  {
   "cell_type": "code",
   "execution_count": null,
   "id": "b04a519c",
   "metadata": {},
   "outputs": [],
   "source": [
    "gmm_clust2_model_data <- train_test_split(gmm_clust2_total_volume_vec,\n",
    "                                          train_test_split=(672*37)/(96*365))"
   ]
  },
  {
   "cell_type": "code",
   "execution_count": null,
   "id": "505613ee",
   "metadata": {},
   "outputs": [],
   "source": [
    "gmm_clust2_model_673 <- global_ar_least_squares(gmm_clust2_model_data$train,\n",
    "                                                gmm_clust2_model_data$test,\n",
    "                                                lag=best_lag, \n",
    "                                                normalize=TRUE,\n",
    "                                                asinh=FALSE, \n",
    "                                                lambda=NULL, \n",
    "                                                return_model=TRUE,\n",
    "                                                return_fitted_values=TRUE,\n",
    "                                                return_residuals=TRUE,\n",
    "                                                return_train_rmse=TRUE,\n",
    "                                                return_test_preds=FALSE,\n",
    "                                                return_test_rmse=TRUE)"
   ]
  },
  {
   "cell_type": "code",
   "execution_count": null,
   "id": "d2ee07b5",
   "metadata": {},
   "outputs": [],
   "source": [
    "gmm_clust2_model_673$train_rmse"
   ]
  },
  {
   "cell_type": "code",
   "execution_count": null,
   "id": "85ae8feb",
   "metadata": {},
   "outputs": [],
   "source": [
    "gmm_clust2_model_673$test_rmse"
   ]
  },
  {
   "cell_type": "markdown",
   "id": "409be426",
   "metadata": {},
   "source": [
    "#### Residual Analysis"
   ]
  },
  {
   "cell_type": "code",
   "execution_count": null,
   "id": "4e7de3e6",
   "metadata": {},
   "outputs": [],
   "source": [
    "mean(gmm_clust2_model_673$residuals)"
   ]
  },
  {
   "cell_type": "code",
   "execution_count": null,
   "id": "e2bcb82c",
   "metadata": {},
   "outputs": [],
   "source": [
    "sd(gmm_clust2_model_673$residuals)"
   ]
  },
  {
   "cell_type": "code",
   "execution_count": null,
   "id": "2f0527d1",
   "metadata": {},
   "outputs": [],
   "source": [
    "ggplot() + \n",
    "    geom_density(aes(x=gmm_clust2_model_673$residuals)) + \n",
    "    labs(x=\"Residual\", y=\"Density\") + \n",
    "    ggtitle(\"Residual Density for Pooled AR-673 Model on GMM Cluster 2\")"
   ]
  },
  {
   "cell_type": "code",
   "execution_count": null,
   "id": "f544b652",
   "metadata": {
    "scrolled": false
   },
   "outputs": [],
   "source": [
    "ggplot() + \n",
    "    geom_point(aes(x=gmm_clust2_model_673$fitted, y=gmm_clust2_model_673$residuals), alpha=0.5) + \n",
    "    geom_smooth(aes(x=gmm_clust2_model_673$fitted, y=gmm_clust2_model_673$residuals)) + \n",
    "    labs(x=\"Fitted Value\", y=\"Residual\") + \n",
    "    ggtitle(\"Fitted Values vs Residuals for Pooled AR-673 Model on GMM Cluster 2\")"
   ]
  },
  {
   "cell_type": "code",
   "execution_count": null,
   "id": "b62b60b7",
   "metadata": {},
   "outputs": [],
   "source": [
    "gmm_clust2_model_673_res_acf <- acf(gmm_clust2_model_673$residuals, lag=best_lag, plot=FALSE)\n",
    "gmm_clust2_model_673_res_acf_lo <- -1*1.96/(length(gmm_clust2_model_673$residuals)^0.5)\n",
    "gmm_clust2_model_673_res_acf_hi <- 1.96/(length(gmm_clust2_model_673$residuals)^0.5)"
   ]
  },
  {
   "cell_type": "code",
   "execution_count": null,
   "id": "2d78f797",
   "metadata": {},
   "outputs": [],
   "source": [
    "ggplot() + \n",
    "    geom_hline(aes(yintercept = 0)) +\n",
    "    geom_segment(aes(x=gmm_clust2_model_673_res_acf$lag[-1], \n",
    "                     xend=gmm_clust2_model_673_res_acf$lag[-1], \n",
    "                     y=gmm_clust2_model_673_res_acf$acf[-1], \n",
    "                     yend=0)) +\n",
    "    geom_hline(aes(yintercept = gmm_clust2_model_673_res_acf_lo), col=\"blue\", linetype=2) +\n",
    "    geom_hline(aes(yintercept = gmm_clust2_model_673_res_acf_hi), col=\"blue\", linetype=2) +\n",
    "    labs(y=\"ACF\", x=\"Lag\") + \n",
    "    ggtitle(str_glue(\"ACF of Model Residuals for Pooled AR-673 Model on GMM Cluster 2\"))"
   ]
  },
  {
   "cell_type": "markdown",
   "id": "378f4a18",
   "metadata": {},
   "source": [
    "### Cluster 3"
   ]
  },
  {
   "cell_type": "code",
   "execution_count": null,
   "id": "43f4be2c",
   "metadata": {},
   "outputs": [],
   "source": [
    "gmm_clust3_model_data <- train_test_split(gmm_clust3_total_volume_vec,\n",
    "                                          train_test_split=(672*37)/(96*365))"
   ]
  },
  {
   "cell_type": "code",
   "execution_count": null,
   "id": "bc176bcc",
   "metadata": {},
   "outputs": [],
   "source": [
    "gmm_clust3_model_673 <- global_ar_least_squares(gmm_clust3_model_data$train,\n",
    "                                                gmm_clust3_model_data$test,\n",
    "                                                lag=best_lag, \n",
    "                                                normalize=TRUE,\n",
    "                                                asinh=FALSE, \n",
    "                                                lambda=NULL, \n",
    "                                                return_model=TRUE,\n",
    "                                                return_fitted_values=TRUE,\n",
    "                                                return_residuals=TRUE,\n",
    "                                                return_train_rmse=TRUE,\n",
    "                                                return_test_preds=FALSE,\n",
    "                                                return_test_rmse=TRUE)"
   ]
  },
  {
   "cell_type": "code",
   "execution_count": null,
   "id": "ba2384be",
   "metadata": {},
   "outputs": [],
   "source": [
    "gmm_clust3_model_673$train_rmse"
   ]
  },
  {
   "cell_type": "code",
   "execution_count": null,
   "id": "0d75dd3a",
   "metadata": {},
   "outputs": [],
   "source": [
    "gmm_clust3_model_673$test_rmse"
   ]
  },
  {
   "cell_type": "markdown",
   "id": "47280da0",
   "metadata": {},
   "source": [
    "#### Residual Analysis"
   ]
  },
  {
   "cell_type": "code",
   "execution_count": null,
   "id": "e1849f39",
   "metadata": {},
   "outputs": [],
   "source": [
    "mean(gmm_clust3_model_673$residuals)"
   ]
  },
  {
   "cell_type": "code",
   "execution_count": null,
   "id": "4eecb715",
   "metadata": {},
   "outputs": [],
   "source": [
    "sd(gmm_clust3_model_673$residuals)"
   ]
  },
  {
   "cell_type": "code",
   "execution_count": null,
   "id": "2588fd69",
   "metadata": {},
   "outputs": [],
   "source": [
    "ggplot() + \n",
    "    geom_density(aes(x=gmm_clust3_model_673$residuals)) + \n",
    "    labs(x=\"Residual\", y=\"Density\") + \n",
    "    ggtitle(\"Residual Density for Pooled AR-673 Model on GMM Cluster 3\")"
   ]
  },
  {
   "cell_type": "code",
   "execution_count": null,
   "id": "e36fa2fe",
   "metadata": {
    "scrolled": false
   },
   "outputs": [],
   "source": [
    "ggplot() + \n",
    "    geom_point(aes(x=gmm_clust3_model_673$fitted, y=gmm_clust3_model_673$residuals), alpha=0.5) + \n",
    "    geom_smooth(aes(x=gmm_clust3_model_673$fitted, y=gmm_clust3_model_673$residuals)) + \n",
    "    labs(x=\"Fitted Value\", y=\"Residual\") + \n",
    "    ggtitle(\"Fitted Values vs Residuals for Pooled AR-673 Model on GMM Cluster 3\")"
   ]
  },
  {
   "cell_type": "code",
   "execution_count": null,
   "id": "ebda4dc4",
   "metadata": {},
   "outputs": [],
   "source": [
    "gmm_clust3_model_673_res_acf <- acf(gmm_clust3_model_673$residuals, lag=best_lag, plot=FALSE)\n",
    "gmm_clust3_model_673_res_acf_lo <- -1*1.96/(length(gmm_clust3_model_673$residuals)^0.5)\n",
    "gmm_clust3_model_673_res_acf_hi <- 1.96/(length(gmm_clust3_model_673$residuals)^0.5)"
   ]
  },
  {
   "cell_type": "code",
   "execution_count": null,
   "id": "af8f99c4",
   "metadata": {},
   "outputs": [],
   "source": [
    "ggplot() + \n",
    "    geom_hline(aes(yintercept = 0)) +\n",
    "    geom_segment(aes(x=gmm_clust3_model_673_res_acf$lag[-1], \n",
    "                     xend=gmm_clust3_model_673_res_acf$lag[-1], \n",
    "                     y=gmm_clust3_model_673_res_acf$acf[-1], \n",
    "                     yend=0)) +\n",
    "    geom_hline(aes(yintercept = gmm_clust3_model_673_res_acf_lo), col=\"blue\", linetype=2) +\n",
    "    geom_hline(aes(yintercept = gmm_clust3_model_673_res_acf_hi), col=\"blue\", linetype=2) +\n",
    "    labs(y=\"ACF\", x=\"Lag\") + \n",
    "    ggtitle(str_glue(\"ACF of Model Residuals for Pooled AR-673 Model on GMM Cluster 3\"))"
   ]
  },
  {
   "cell_type": "markdown",
   "id": "586aeaa3",
   "metadata": {},
   "source": [
    "### Cluster 4"
   ]
  },
  {
   "cell_type": "code",
   "execution_count": null,
   "id": "df136940",
   "metadata": {},
   "outputs": [],
   "source": [
    "gmm_clust4_model_data <- train_test_split(gmm_clust4_total_volume_vec,\n",
    "                                          train_test_split=(672*37)/(96*365))"
   ]
  },
  {
   "cell_type": "code",
   "execution_count": null,
   "id": "ebfc36be",
   "metadata": {},
   "outputs": [],
   "source": [
    "gmm_clust4_model_673 <- global_ar_least_squares(gmm_clust4_model_data$train,\n",
    "                                                gmm_clust4_model_data$test,\n",
    "                                                lag=best_lag, \n",
    "                                                normalize=TRUE,\n",
    "                                                asinh=FALSE, \n",
    "                                                lambda=NULL, \n",
    "                                                return_model=TRUE,\n",
    "                                                return_fitted_values=TRUE,\n",
    "                                                return_residuals=TRUE,\n",
    "                                                return_train_rmse=TRUE,\n",
    "                                                return_test_preds=FALSE,\n",
    "                                                return_test_rmse=TRUE)"
   ]
  },
  {
   "cell_type": "code",
   "execution_count": null,
   "id": "f8aab9ad",
   "metadata": {},
   "outputs": [],
   "source": [
    "gmm_clust4_model_673$train_rmse"
   ]
  },
  {
   "cell_type": "code",
   "execution_count": null,
   "id": "64608f0d",
   "metadata": {},
   "outputs": [],
   "source": [
    "gmm_clust4_model_673$test_rmse"
   ]
  },
  {
   "cell_type": "markdown",
   "id": "f6a712cb",
   "metadata": {},
   "source": [
    "#### Residual Analysis"
   ]
  },
  {
   "cell_type": "code",
   "execution_count": null,
   "id": "fdf4128a",
   "metadata": {},
   "outputs": [],
   "source": []
  },
  {
   "cell_type": "code",
   "execution_count": null,
   "id": "9b94492d",
   "metadata": {},
   "outputs": [],
   "source": []
  },
  {
   "cell_type": "markdown",
   "id": "6f20140d",
   "metadata": {},
   "source": [
    "### Average Performance"
   ]
  },
  {
   "cell_type": "code",
   "execution_count": null,
   "id": "4a0c5816",
   "metadata": {},
   "outputs": [],
   "source": [
    "weighted.mean(c(gmm_clust1_model_673$test_rmse, \n",
    "                gmm_clust2_model_673$test_rmse, \n",
    "                gmm_clust3_model_673$test_rmse,\n",
    "                gmm_clust4_model_673$test_rmse),\n",
    "              c(length(gmm_clust1_model_data$train),\n",
    "                length(gmm_clust2_model_data$train),\n",
    "                length(gmm_clust3_model_data$train),\n",
    "                length(gmm_clust4_model_data$train))\n",
    "             )"
   ]
  },
  {
   "cell_type": "markdown",
   "id": "6ac48403",
   "metadata": {},
   "source": [
    "# Global AR Models on Singly Differenced Data"
   ]
  },
  {
   "cell_type": "code",
   "execution_count": null,
   "id": "e8111938",
   "metadata": {},
   "outputs": [],
   "source": [
    "difference <- function(data, lag=1){\n",
    "    diff_data <- lapply(data, function(x) x[(1+lag):length(x)] - x[1:(length(x)-lag)])                  \n",
    "}"
   ]
  },
  {
   "cell_type": "code",
   "execution_count": null,
   "id": "71f7ff2e",
   "metadata": {},
   "outputs": [],
   "source": [
    "inv_difference <- function(data, lag=1, initial_data=NULL) {\n",
    "    if (is.null(initial_data)) {\n",
    "        undiff <- lapply(data, function(x) diffinv(x, lag=lag))\n",
    "    }\n",
    "                         \n",
    "    else {\n",
    "        undiff <- lapply(1:length(data), function(x) diffinv(data[[x]], lag=lag, xi=initial_data[[x]]))\n",
    "    }                     \n",
    "    undiff                     \n",
    "}"
   ]
  },
  {
   "cell_type": "markdown",
   "id": "617041d9",
   "metadata": {},
   "source": [
    "## Full Data"
   ]
  },
  {
   "cell_type": "code",
   "execution_count": null,
   "id": "4a993080",
   "metadata": {},
   "outputs": [],
   "source": [
    "model_train_diff <- difference(difference(model_data$train, lag=96))\n",
    "model_test_diff <- difference(model_data$test)"
   ]
  },
  {
   "cell_type": "code",
   "execution_count": null,
   "id": "0da23269",
   "metadata": {},
   "outputs": [],
   "source": [
    "ggplot() + \n",
    "    geom_line(aes(x=1:(96*14), y=model_data$train[[1]][1:(96*14)]))"
   ]
  },
  {
   "cell_type": "code",
   "execution_count": null,
   "id": "5f3948d7",
   "metadata": {},
   "outputs": [],
   "source": [
    "ggplot() + \n",
    "    geom_line(aes(x=1:(96*14), y=model_train_diff[[1]][1:(96*14)]))"
   ]
  },
  {
   "cell_type": "code",
   "execution_count": null,
   "id": "2c2318a1",
   "metadata": {},
   "outputs": [],
   "source": [
    "full_ar_model_diff_train_results <- c()\n",
    "full_ar_model_diff_test_results <- c()\n",
    "\n",
    "for (lag in lag_test_values[1:length(lag_test_values-1)]) {\n",
    "    print(lag)\n",
    "    flush.console()\n",
    "    ar_diff_full <- global_ar_least_squares(model_train_diff,\n",
    "                                            model_test_diff,\n",
    "                                            lag=lag, \n",
    "                                            normalize=TRUE,\n",
    "                                            asinh=FALSE, \n",
    "                                            lambda=NULL, \n",
    "                                            return_model=FALSE,\n",
    "                                            return_fitted_values=FALSE,\n",
    "                                            return_residuals=FALSE,\n",
    "                                            return_train_rmse=TRUE,\n",
    "                                            return_test_preds=FALSE,\n",
    "                                            return_test_rmse=TRUE)\n",
    "    full_ar_model_diff_train_results <- c(full_ar_model_diff_train_results, ar_diff_full$train_rmse)\n",
    "    full_ar_model_diff_test_results <- c(full_ar_model_diff_test_results, ar_diff_full$test_rmse)\n",
    "    gc()\n",
    "}"
   ]
  },
  {
   "cell_type": "code",
   "execution_count": null,
   "id": "562b5920",
   "metadata": {},
   "outputs": [],
   "source": [
    "plot(lag_test_values, full_ar_model_diff_train_results)"
   ]
  },
  {
   "cell_type": "code",
   "execution_count": null,
   "id": "626634a6",
   "metadata": {},
   "outputs": [],
   "source": [
    "plot(lag_test_values, full_ar_model_diff_test_results)"
   ]
  },
  {
   "cell_type": "code",
   "execution_count": null,
   "id": "4d4478d9",
   "metadata": {},
   "outputs": [],
   "source": [
    "which.min(full_ar_model_diff_test_results)"
   ]
  },
  {
   "cell_type": "code",
   "execution_count": null,
   "id": "c362f557",
   "metadata": {},
   "outputs": [],
   "source": [
    "lag_test_values[13]"
   ]
  },
  {
   "cell_type": "code",
   "execution_count": null,
   "id": "b18b093f",
   "metadata": {},
   "outputs": [],
   "source": []
  },
  {
   "cell_type": "code",
   "execution_count": null,
   "id": "8c3842b6",
   "metadata": {},
   "outputs": [],
   "source": []
  },
  {
   "cell_type": "code",
   "execution_count": null,
   "id": "578c3163",
   "metadata": {},
   "outputs": [],
   "source": []
  },
  {
   "cell_type": "code",
   "execution_count": null,
   "id": "176cb30c",
   "metadata": {},
   "outputs": [],
   "source": []
  },
  {
   "cell_type": "code",
   "execution_count": null,
   "id": "e5b898ee",
   "metadata": {},
   "outputs": [],
   "source": []
  },
  {
   "cell_type": "code",
   "execution_count": null,
   "id": "b3541e28",
   "metadata": {},
   "outputs": [],
   "source": []
  },
  {
   "cell_type": "markdown",
   "id": "a25495b2",
   "metadata": {},
   "source": [
    "## Bootstraping to compute prediction intervals\n",
    "Because the residuals are not as well behaved as ideal, we will use bootstrapping to compute the\n",
    "prediction intervals on the test data.\n"
   ]
  },
  {
   "cell_type": "markdown",
   "id": "40c51d8d",
   "metadata": {},
   "source": [
    "### IID Bootstrap Residuals\n",
    "First, we will simply bootstrap the residuals to compute prediction intervals\n",
    "This is not quite accurate as it assumes uncorrelated residuals. Our residuals have some autocorrelation, but not a large amount"
   ]
  },
  {
   "cell_type": "code",
   "execution_count": null,
   "id": "f552c8e6",
   "metadata": {},
   "outputs": [],
   "source": []
  },
  {
   "cell_type": "code",
   "execution_count": null,
   "id": "283d877d",
   "metadata": {},
   "outputs": [],
   "source": []
  },
  {
   "cell_type": "code",
   "execution_count": null,
   "id": "28b68678",
   "metadata": {},
   "outputs": [],
   "source": []
  },
  {
   "cell_type": "code",
   "execution_count": null,
   "id": "06aca6a6",
   "metadata": {},
   "outputs": [],
   "source": [
    "boot_ar_res <- function(model, \n",
    "                        lag,\n",
    "                        test,\n",
    "                        boot_n=5000,\n",
    "                        return_int=FALSE\n",
    "                       )\n",
    "{\n",
    "    res <- model$residuals\n",
    "    pred <- model$test_preds\n",
    "    \n",
    "    pred_w_boot <-  do.call(\"rbind\",\n",
    "                            lapply(lapply(pred, function(x) x+sample(res, boot_n, replace=TRUE)),\n",
    "                            function(x) quantile(x, c(0.025, 0.975))))     \n",
    "                                          \n",
    "    actual <- do.call(\"rbind\", lapply(test, function(x) embed(x, lag+1)))[,1]\n",
    "                                                                                    \n",
    "    test_pred <- data.frame(actual=actual) %>% \n",
    "      cbind(pred_w_boot) %>%\n",
    "      mutate(cover = ifelse(actual >= `2.5%`, TRUE, ifelse(actual <= `97.5%`, TRUE, FALSE)))                             \n",
    "    \n",
    "    coverage_pct <- mean(test_pred$cover)                                  \n",
    "    avg_width <- mean(test_pred$`97.5%` - test_pred$`2.5%`) \n",
    "     \n",
    "    return_list <- list(coverage_pct, avg_width) \n",
    "                                      \n",
    "    if (return_int) {\n",
    "        return_list <- append(return_list, test_pred)\n",
    "    } \n",
    "    \n",
    "    return_list                                  \n",
    "}"
   ]
  },
  {
   "cell_type": "code",
   "execution_count": null,
   "id": "6efa65a4",
   "metadata": {},
   "outputs": [],
   "source": [
    "model_data <- train_test_split(total_volume_vec, train_test_split=(672*37)/(96*365))"
   ]
  },
  {
   "cell_type": "code",
   "execution_count": null,
   "id": "c680e172",
   "metadata": {},
   "outputs": [],
   "source": [
    "mu <- lapply(model_data$train, function(x) mean(x))\n",
    "sd <- lapply(model_data$train, function(x) sd (x))\n",
    "norm_test <- normalize(model_data$test, mu, sd)$norm              "
   ]
  },
  {
   "cell_type": "code",
   "execution_count": null,
   "id": "2097955c",
   "metadata": {},
   "outputs": [],
   "source": [
    "global_ar_1057 <- global_ar_least_squares(model_data$train, \n",
    "                                          model_data$test,\n",
    "                                          lag=best_lag,\n",
    "                                          return_fitted_values=FALSE,\n",
    "                                          return_train_rmse=FALSE,\n",
    "                                          return_test_preds=TRUE\n",
    "                                         )"
   ]
  },
  {
   "cell_type": "code",
   "execution_count": null,
   "id": "26ae9fd6",
   "metadata": {},
   "outputs": [],
   "source": [
    "global_ar_1057_pred_int <- boot_ar_res(global_ar_1057, \n",
    "                                       lag=best_lag,\n",
    "                                       test=norm_test,\n",
    "                                       boot_n=1000\n",
    "                                      )"
   ]
  },
  {
   "cell_type": "code",
   "execution_count": null,
   "id": "3a596b98",
   "metadata": {},
   "outputs": [],
   "source": [
    "global_ar_1057_pred_int"
   ]
  },
  {
   "cell_type": "markdown",
   "id": "cbe705f0",
   "metadata": {},
   "source": [
    "### Block Bootstrap on Data\n",
    "In this case, we will block bootstrap the data and compute a new model on each resampled data set\n",
    "\n",
    "We will predict on the test data with each version of the model to get a bootstrapped prediction interval\n",
    "\n",
    "This interval is likely too narrow as it only accounts for uncertainty in the model coefficient estimations"
   ]
  },
  {
   "cell_type": "code",
   "execution_count": null,
   "id": "47915925",
   "metadata": {},
   "outputs": [],
   "source": [
    "global_ar_bb <- function(train,\n",
    "                         test,\n",
    "                         lag=2, \n",
    "                         normalize=TRUE,\n",
    "                         asinh=FALSE, \n",
    "                         lambda=NULL, \n",
    "                         return_model=TRUE,\n",
    "                         return_fitted_values=TRUE,\n",
    "                         return_residuals=TRUE,\n",
    "                         return_train_rmse=TRUE,\n",
    "                         return_test_preds=FALSE,\n",
    "                         return_test_rmse=FALSE,\n",
    "                         boot_n=500,\n",
    "                         block_size=96\n",
    "                        ) \n",
    "{\n",
    "    \n",
    "    mod1 <- global_ar_least_squares(train=train,\n",
    "                                    test=test,\n",
    "                                    lag=lag, \n",
    "                                    normalize=normalize,\n",
    "                                    asinh=asinh,\n",
    "                                    lambda=lambda,\n",
    "                                    return_model=TRUE,\n",
    "                                    return_residuals=TRUE,\n",
    "                                    return_fitted_values=FALSE,\n",
    "                                    return_test_preds=TRUE,\n",
    "                                    return_train_rmse=FALSE,\n",
    "                                    return_test_rmse=FALSE\n",
    "                                   )\n",
    "    \n",
    "    test_preds <- data.frame(mod1$test_preds)\n",
    "    mods <- list(mod1)\n",
    "    for (n in 1:boot_n) {\n",
    "        train_bb <- lapply(train, function(x) tsbootstrap(x, nb=1, b=block_size, type=\"block\"))\n",
    "        mod <- global_ar_least_squares(train=train_bb,\n",
    "                                       test=test,\n",
    "                                       lag=lag, \n",
    "                                       normalize=normalize,\n",
    "                                       asinh=asinh,\n",
    "                                       lambda=lambda,\n",
    "                                       return_model=TRUE,\n",
    "                                       return_residuals=TRUE,\n",
    "                                       return_fitted_values=FALSE,\n",
    "                                       return_test_preds=TRUE,\n",
    "                                       return_train_rmse=FALSE,\n",
    "                                       return_test_rmse=FALSE\n",
    "                                      )\n",
    "        mods <- append(mods, list(mod))\n",
    "        test_preds <- cbind(test_preds, data.frame(mod$test_preds))  \n",
    "        gc()\n",
    "    }\n",
    "    \n",
    "    if (normalize) {                       \n",
    "        mu <- lapply(train, function(x) mean(x))\n",
    "        sd <- lapply(train, function(x) sd (x))\n",
    "        norm_test_values <- normalize(test, mu, sd)$norm \n",
    "        norm_test_values_lag <- do.call(\"rbind\", lapply(norm_test_values, function(x) embed(x, lag+1)))    \n",
    "        true_test_values <- norm_test_values_lag[,1]                                                 \n",
    "    }             \n",
    "    else {\n",
    "        norm_test_values <- test\n",
    "        norm_test_values_lag <- do.call(\"rbind\", lapply(norm_test_values, function(x) embed(x, lag+1))) \n",
    "        true_test_values <- norm_test_values_lag[,1]                                                \n",
    "    } \n",
    "    \n",
    "    test_preds <- as.matrix(test_preds)\n",
    "    intervals <- as.data.frame(t(apply(test_preds, 1, quantile, c(0.025, 0.975)))) %>%\n",
    "        mutate(actual=true_test_values) %>%\n",
    "        mutate(cover = ifelse(actual >= `2.5%`, TRUE, ifelse(actual <= `97.5%`, TRUE, FALSE)))                             \n",
    "    \n",
    "    coverage_pct <- mean(intervals$cover)                                  \n",
    "    avg_width <- mean(intervals$`97.5%` - intervals$`2.5%`)\n",
    "                                                        \n",
    "    list(coverage_pct, avg_width, mods)                                                                         \n",
    "}"
   ]
  },
  {
   "cell_type": "code",
   "execution_count": null,
   "id": "27c290a2",
   "metadata": {},
   "outputs": [],
   "source": [
    "gc()"
   ]
  },
  {
   "cell_type": "code",
   "execution_count": null,
   "id": "d7b60dcc",
   "metadata": {},
   "outputs": [],
   "source": [
    "bb_pred_int <- global_ar_bb(train=model_data$train, \n",
    "                            test=model_data$test, \n",
    "                            lag=best_lag,\n",
    "                            boot_n=1,\n",
    "                            block_size=672\n",
    "                           )"
   ]
  },
  {
   "cell_type": "code",
   "execution_count": null,
   "id": "377e016a",
   "metadata": {},
   "outputs": [],
   "source": [
    "bb_pred_int[[1]]"
   ]
  },
  {
   "cell_type": "code",
   "execution_count": null,
   "id": "587fd286",
   "metadata": {},
   "outputs": [],
   "source": [
    "bb_pred_int[[2]]"
   ]
  },
  {
   "cell_type": "code",
   "execution_count": null,
   "id": "ad6f9305",
   "metadata": {},
   "outputs": [],
   "source": [
    "summary(bb_pred_int[[3]])"
   ]
  },
  {
   "cell_type": "markdown",
   "id": "9190b744",
   "metadata": {},
   "source": [
    "#### Combining IID Bootstrap on Model Residuals with Block Bootstrap on Data"
   ]
  },
  {
   "cell_type": "code",
   "execution_count": null,
   "id": "899ffe83",
   "metadata": {},
   "outputs": [],
   "source": [
    "global_ar_bb_res_boot <- function(model_list,\n",
    "                                  lag,\n",
    "                                  test,\n",
    "                                  boot_n=5000,\n",
    "                                  return_int=FALSE\n",
    "                                 )\n",
    "{  \n",
    "    boot_mat <- matrix(, nrow=length(model_list[[1]]$test_preds), ncol=boot_n*length(model_list))\n",
    "    counter <- 0\n",
    "    \n",
    "    for (mod in model_list) {\n",
    "        res <- mod$residuals\n",
    "        pred <- mod$test_preds\n",
    "    \n",
    "        pred_w_boot <-  do.call(\"rbind\", lapply(pred, function(x) x+sample(res, boot_n, replace=TRUE)))\n",
    "        \n",
    "        col_start <- counter*boot_n + 1\n",
    "        col_end <- counter*boot_n + boot_n \n",
    "                                                \n",
    "        boot_mat[,col_start:col_end] <- pred_w_boot                                      \n",
    "    }\n",
    "                                                \n",
    "    pred_quantiles <- as.data.frame(t(apply(pred_w_boot, 1, quantile, c(0.025, 0.975))))                                            \n",
    "    \n",
    "    actual <- do.call(\"rbind\", lapply(test, function(x) embed(x, lag+1)))[,1]                                            \n",
    "                                                \n",
    "    actual_w_quantiles <- data.frame(actual=actual) %>% \n",
    "      cbind(pred_quantiles) %>%\n",
    "      mutate(cover = ifelse(actual >= `2.5%`, TRUE, ifelse(actual <= `97.5%`, TRUE, FALSE)))\n",
    "                                                                                            \n",
    "    coverage_pct <- mean(actual_w_quantiles$cover)                                  \n",
    "    avg_width <- mean(actual_w_quantiles$`97.5%` - actual_w_quantiles$`2.5%`) \n",
    "     \n",
    "    return_list <- list(coverage_pct, avg_width) \n",
    "                                      \n",
    "    if (return_int) {\n",
    "        return_list <- append(return_list, actual_w_quantiles)\n",
    "    } \n",
    "    \n",
    "    return_list                                             \n",
    "    \n",
    "}"
   ]
  },
  {
   "cell_type": "code",
   "execution_count": null,
   "id": "ca9c03d0",
   "metadata": {},
   "outputs": [],
   "source": [
    "global_ar_bb_res_boot_1057 <- global_ar_bb_res_boot(bb_pred_int[[3]], \n",
    "                                                    lag=best_lag,\n",
    "                                                    test=norm_test,\n",
    "                                                    boot_n=500)"
   ]
  },
  {
   "cell_type": "code",
   "execution_count": null,
   "id": "1b9741b6",
   "metadata": {},
   "outputs": [],
   "source": [
    "global_ar_bb_res_boot_1057"
   ]
  }
 ],
 "metadata": {
  "kernelspec": {
   "display_name": "R",
   "language": "R",
   "name": "ir"
  },
  "language_info": {
   "codemirror_mode": "r",
   "file_extension": ".r",
   "mimetype": "text/x-r-source",
   "name": "R",
   "pygments_lexer": "r",
   "version": "4.1.2"
  }
 },
 "nbformat": 4,
 "nbformat_minor": 5
}
