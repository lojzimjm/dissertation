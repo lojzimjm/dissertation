{
 "cells": [
  {
   "cell_type": "code",
   "execution_count": 1,
   "id": "fc6a5ffe",
   "metadata": {},
   "outputs": [],
   "source": [
    "rm(list=ls())"
   ]
  },
  {
   "cell_type": "code",
   "execution_count": 2,
   "id": "371f5924",
   "metadata": {},
   "outputs": [
    {
     "data": {
      "text/html": [
       "<table class=\"dataframe\">\n",
       "<caption>A matrix: 2 × 6 of type dbl</caption>\n",
       "<thead>\n",
       "\t<tr><th></th><th scope=col>used</th><th scope=col>(Mb)</th><th scope=col>gc trigger</th><th scope=col>(Mb)</th><th scope=col>max used</th><th scope=col>(Mb)</th></tr>\n",
       "</thead>\n",
       "<tbody>\n",
       "\t<tr><th scope=row>Ncells</th><td> 610588</td><td>32.7</td><td>1320457</td><td>70.6</td><td>1302051</td><td>69.6</td></tr>\n",
       "\t<tr><th scope=row>Vcells</th><td>1141182</td><td> 8.8</td><td>8388608</td><td>64.0</td><td>1821309</td><td>13.9</td></tr>\n",
       "</tbody>\n",
       "</table>\n"
      ],
      "text/latex": [
       "A matrix: 2 × 6 of type dbl\n",
       "\\begin{tabular}{r|llllll}\n",
       "  & used & (Mb) & gc trigger & (Mb) & max used & (Mb)\\\\\n",
       "\\hline\n",
       "\tNcells &  610588 & 32.7 & 1320457 & 70.6 & 1302051 & 69.6\\\\\n",
       "\tVcells & 1141182 &  8.8 & 8388608 & 64.0 & 1821309 & 13.9\\\\\n",
       "\\end{tabular}\n"
      ],
      "text/markdown": [
       "\n",
       "A matrix: 2 × 6 of type dbl\n",
       "\n",
       "| <!--/--> | used | (Mb) | gc trigger | (Mb) | max used | (Mb) |\n",
       "|---|---|---|---|---|---|---|\n",
       "| Ncells |  610588 | 32.7 | 1320457 | 70.6 | 1302051 | 69.6 |\n",
       "| Vcells | 1141182 |  8.8 | 8388608 | 64.0 | 1821309 | 13.9 |\n",
       "\n"
      ],
      "text/plain": [
       "       used    (Mb) gc trigger (Mb) max used (Mb)\n",
       "Ncells  610588 32.7 1320457    70.6 1302051  69.6\n",
       "Vcells 1141182  8.8 8388608    64.0 1821309  13.9"
      ]
     },
     "metadata": {},
     "output_type": "display_data"
    }
   ],
   "source": [
    "gc()"
   ]
  },
  {
   "cell_type": "code",
   "execution_count": 3,
   "id": "1505776d",
   "metadata": {},
   "outputs": [],
   "source": [
    "# Uncomment and run to install packages if needed\n",
    "# install.packages(\"tidyverse\") \n",
    "# install.packages(\"cluster\")\n",
    "# install.packages(\"forecast\")\n",
    "# install.packages(\"Metrics\")\n",
    "# install.packages(\"biglm\")\n",
    "# install.packages(\"tseries\")\n",
    "# install.packages(\"scoringutils\")"
   ]
  },
  {
   "cell_type": "code",
   "execution_count": 4,
   "id": "65b3b2b4",
   "metadata": {},
   "outputs": [
    {
     "name": "stderr",
     "output_type": "stream",
     "text": [
      "Warning message:\n",
      "“‘timedatectl’ indicates the non-existent timezone name ‘n/a’”\n",
      "Warning message:\n",
      "“Your system is mis-configured: ‘/etc/localtime’ is not a symlink”\n",
      "Warning message:\n",
      "“It is strongly recommended to set envionment variable TZ to ‘Etc/UCT’ (or equivalent)”\n",
      "── \u001b[1mAttaching packages\u001b[22m ─────────────────────────────────────── tidyverse 1.3.1 ──\n",
      "\n",
      "\u001b[32m✔\u001b[39m \u001b[34mggplot2\u001b[39m 3.3.6     \u001b[32m✔\u001b[39m \u001b[34mpurrr  \u001b[39m 0.3.4\n",
      "\u001b[32m✔\u001b[39m \u001b[34mtibble \u001b[39m 3.1.7     \u001b[32m✔\u001b[39m \u001b[34mdplyr  \u001b[39m 1.0.9\n",
      "\u001b[32m✔\u001b[39m \u001b[34mtidyr  \u001b[39m 1.2.0     \u001b[32m✔\u001b[39m \u001b[34mstringr\u001b[39m 1.4.0\n",
      "\u001b[32m✔\u001b[39m \u001b[34mreadr  \u001b[39m 2.1.2     \u001b[32m✔\u001b[39m \u001b[34mforcats\u001b[39m 0.5.1\n",
      "\n",
      "── \u001b[1mConflicts\u001b[22m ────────────────────────────────────────── tidyverse_conflicts() ──\n",
      "\u001b[31m✖\u001b[39m \u001b[34mdplyr\u001b[39m::\u001b[32mfilter()\u001b[39m masks \u001b[34mstats\u001b[39m::filter()\n",
      "\u001b[31m✖\u001b[39m \u001b[34mdplyr\u001b[39m::\u001b[32mlag()\u001b[39m    masks \u001b[34mstats\u001b[39m::lag()\n",
      "\n",
      "Registered S3 method overwritten by 'quantmod':\n",
      "  method            from\n",
      "  as.zoo.data.frame zoo \n",
      "\n",
      "\n",
      "Attaching package: ‘Metrics’\n",
      "\n",
      "\n",
      "The following object is masked from ‘package:forecast’:\n",
      "\n",
      "    accuracy\n",
      "\n",
      "\n",
      "Loading required package: DBI\n",
      "\n",
      "Note: scoringutils 1.0.0 introduces a lot of breaking changes and we apologise for any inconvenience. If you prefer the old interface, please download version 0.1.8 using remotes::install_github(\"epiforecasts/scoringutils@v0.1.8\")\n",
      "\n"
     ]
    }
   ],
   "source": [
    "library(tidyverse)\n",
    "library(parallel)\n",
    "library(cluster)\n",
    "library(forecast)\n",
    "library(Metrics)\n",
    "library(biglm)\n",
    "library(tseries)\n",
    "library(scoringutils)"
   ]
  },
  {
   "cell_type": "markdown",
   "id": "12619de7",
   "metadata": {},
   "source": [
    "# Read In Data"
   ]
  },
  {
   "cell_type": "code",
   "execution_count": 5,
   "id": "c92e5d7e",
   "metadata": {},
   "outputs": [
    {
     "name": "stderr",
     "output_type": "stream",
     "text": [
      "\u001b[1m\u001b[22mNew names:\n",
      "\u001b[36m•\u001b[39m `` -> `...1`\n",
      "\u001b[1mRows: \u001b[22m\u001b[34m4\u001b[39m \u001b[1mColumns: \u001b[22m\u001b[34m5\u001b[39m\n",
      "\u001b[36m──\u001b[39m \u001b[1mColumn specification\u001b[22m \u001b[36m────────────────────────────────────────────────────────\u001b[39m\n",
      "\u001b[1mDelimiter:\u001b[22m \",\"\n",
      "\u001b[32mdbl\u001b[39m (5): ...1, rand, catch22, tsfeat, dtw\n",
      "\n",
      "\u001b[36mℹ\u001b[39m Use `spec()` to retrieve the full column specification for this data.\n",
      "\u001b[36mℹ\u001b[39m Specify the column types or set `show_col_types = FALSE` to quiet this message.\n"
     ]
    }
   ],
   "source": [
    "clust_assign <- read_csv(\"Results/Unseen Sensor/clust_assign.csv\")"
   ]
  },
  {
   "cell_type": "code",
   "execution_count": 6,
   "id": "bd147321",
   "metadata": {},
   "outputs": [
    {
     "name": "stderr",
     "output_type": "stream",
     "text": [
      "\u001b[1mRows: \u001b[22m\u001b[34m35040\u001b[39m \u001b[1mColumns: \u001b[22m\u001b[34m10\u001b[39m\n",
      "\u001b[36m──\u001b[39m \u001b[1mColumn specification\u001b[22m \u001b[36m────────────────────────────────────────────────────────\u001b[39m\n",
      "\u001b[1mDelimiter:\u001b[22m \",\"\n",
      "\u001b[31mchr\u001b[39m  (1): site_name\n",
      "\u001b[32mdbl\u001b[39m  (5): day_of_week, day_of_year, interval_of_day, avg_mph, total_volume\n",
      "\u001b[33mlgl\u001b[39m  (2): missing_speed, missing_volume\n",
      "\u001b[34mdttm\u001b[39m (1): timestamp\n",
      "\u001b[34mdate\u001b[39m (1): date\n",
      "\n",
      "\u001b[36mℹ\u001b[39m Use `spec()` to retrieve the full column specification for this data.\n",
      "\u001b[36mℹ\u001b[39m Specify the column types or set `show_col_types = FALSE` to quiet this message.\n",
      "\u001b[1mRows: \u001b[22m\u001b[34m35040\u001b[39m \u001b[1mColumns: \u001b[22m\u001b[34m10\u001b[39m\n",
      "\u001b[36m──\u001b[39m \u001b[1mColumn specification\u001b[22m \u001b[36m────────────────────────────────────────────────────────\u001b[39m\n",
      "\u001b[1mDelimiter:\u001b[22m \",\"\n",
      "\u001b[31mchr\u001b[39m  (1): site_name\n",
      "\u001b[32mdbl\u001b[39m  (5): day_of_week, day_of_year, interval_of_day, avg_mph, total_volume\n",
      "\u001b[33mlgl\u001b[39m  (2): missing_speed, missing_volume\n",
      "\u001b[34mdttm\u001b[39m (1): timestamp\n",
      "\u001b[34mdate\u001b[39m (1): date\n",
      "\n",
      "\u001b[36mℹ\u001b[39m Use `spec()` to retrieve the full column specification for this data.\n",
      "\u001b[36mℹ\u001b[39m Specify the column types or set `show_col_types = FALSE` to quiet this message.\n",
      "\u001b[1mRows: \u001b[22m\u001b[34m35040\u001b[39m \u001b[1mColumns: \u001b[22m\u001b[34m10\u001b[39m\n",
      "\u001b[36m──\u001b[39m \u001b[1mColumn specification\u001b[22m \u001b[36m────────────────────────────────────────────────────────\u001b[39m\n",
      "\u001b[1mDelimiter:\u001b[22m \",\"\n",
      "\u001b[31mchr\u001b[39m  (1): site_name\n",
      "\u001b[32mdbl\u001b[39m  (5): day_of_week, day_of_year, interval_of_day, avg_mph, total_volume\n",
      "\u001b[33mlgl\u001b[39m  (2): missing_speed, missing_volume\n",
      "\u001b[34mdttm\u001b[39m (1): timestamp\n",
      "\u001b[34mdate\u001b[39m (1): date\n",
      "\n",
      "\u001b[36mℹ\u001b[39m Use `spec()` to retrieve the full column specification for this data.\n",
      "\u001b[36mℹ\u001b[39m Specify the column types or set `show_col_types = FALSE` to quiet this message.\n",
      "\u001b[1mRows: \u001b[22m\u001b[34m35040\u001b[39m \u001b[1mColumns: \u001b[22m\u001b[34m10\u001b[39m\n",
      "\u001b[36m──\u001b[39m \u001b[1mColumn specification\u001b[22m \u001b[36m────────────────────────────────────────────────────────\u001b[39m\n",
      "\u001b[1mDelimiter:\u001b[22m \",\"\n",
      "\u001b[31mchr\u001b[39m  (1): site_name\n",
      "\u001b[32mdbl\u001b[39m  (5): day_of_week, day_of_year, interval_of_day, avg_mph, total_volume\n",
      "\u001b[33mlgl\u001b[39m  (2): missing_speed, missing_volume\n",
      "\u001b[34mdttm\u001b[39m (1): timestamp\n",
      "\u001b[34mdate\u001b[39m (1): date\n",
      "\n",
      "\u001b[36mℹ\u001b[39m Use `spec()` to retrieve the full column specification for this data.\n",
      "\u001b[36mℹ\u001b[39m Specify the column types or set `show_col_types = FALSE` to quiet this message.\n"
     ]
    }
   ],
   "source": [
    "fnames <- list.files(\"Data/Unseen Sensor/Processed/\", pattern=\"*.csv\", full.names=TRUE)\n",
    "total_df_list <- lapply(fnames, read_csv)"
   ]
  },
  {
   "cell_type": "code",
   "execution_count": 7,
   "id": "efd66407",
   "metadata": {},
   "outputs": [],
   "source": [
    "total_df_list <- lapply(total_df_list, function(x) x %>% arrange(timestamp))    "
   ]
  },
  {
   "cell_type": "code",
   "execution_count": 8,
   "id": "534e1fef",
   "metadata": {},
   "outputs": [
    {
     "name": "stderr",
     "output_type": "stream",
     "text": [
      "\u001b[1mRows: \u001b[22m\u001b[34m4\u001b[39m \u001b[1mColumns: \u001b[22m\u001b[34m2\u001b[39m\n",
      "\u001b[36m──\u001b[39m \u001b[1mColumn specification\u001b[22m \u001b[36m────────────────────────────────────────────────────────\u001b[39m\n",
      "\u001b[1mDelimiter:\u001b[22m \",\"\n",
      "\u001b[32mdbl\u001b[39m (2): start, end\n",
      "\n",
      "\u001b[36mℹ\u001b[39m Use `spec()` to retrieve the full column specification for this data.\n",
      "\u001b[36mℹ\u001b[39m Specify the column types or set `show_col_types = FALSE` to quiet this message.\n"
     ]
    }
   ],
   "source": [
    "# Read in the start and end points for each time series from csv\n",
    "start_end <- read_csv(\"start_end_points_unseen.csv\")\n",
    "starting_points <- start_end$start\n",
    "ending_points <- start_end$end"
   ]
  },
  {
   "cell_type": "code",
   "execution_count": 9,
   "id": "8e0b359a",
   "metadata": {},
   "outputs": [],
   "source": [
    "# For each df in our list, create a row number column called 'rn' - this will allow us to find the starting point\n",
    "# for each sample using the above starting_points array\n",
    "total_df_list <- lapply(total_df_list, function(x) x %>% mutate(rn = row_number()))"
   ]
  },
  {
   "cell_type": "code",
   "execution_count": 10,
   "id": "ec6366c0",
   "metadata": {},
   "outputs": [],
   "source": [
    "# Sample each df in the list according to its corresponding starting and ending point - this creates 12-week\n",
    "# long samples of each data frame which will be used for modeling and testing\n",
    "total_df_list_samples <- lapply(1:length(total_df_list), \n",
    "                                function(x) total_df_list[[x]] %>% \n",
    "                                    filter(rn >= starting_points[x]) %>%\n",
    "                                    filter(rn <= ending_points[x]))"
   ]
  },
  {
   "cell_type": "code",
   "execution_count": 11,
   "id": "8ec57995",
   "metadata": {},
   "outputs": [],
   "source": [
    "# Add a new column to each data frame to denote whether each row should be part of the training set, validation set\n",
    "# or test set - the first 8 weeks are designated as train, the next 2 as val, and the final 2 as test. It may be \n",
    "# the case that train and val get used for training, depending on the modeling task\n",
    "total_df_list_samples <- lapply(total_df_list_samples, \n",
    "                                function(x) x %>% mutate(rn = row_number()) %>%\n",
    "                                    mutate(train_val_test = ifelse(rn <= (96*7*8), \n",
    "                                                                   \"train\", \n",
    "                                                                   ifelse(rn <= (96*7*10), \n",
    "                                                                          \"val\", \n",
    "                                                                          \"test\")))\n",
    "                                \n",
    "                               )"
   ]
  },
  {
   "cell_type": "code",
   "execution_count": 12,
   "id": "d876b80f",
   "metadata": {},
   "outputs": [],
   "source": [
    "set.seed(54321)"
   ]
  },
  {
   "cell_type": "markdown",
   "id": "1305ccdb",
   "metadata": {},
   "source": [
    "# Functions for Global AR"
   ]
  },
  {
   "cell_type": "code",
   "execution_count": 13,
   "id": "21c13c26",
   "metadata": {},
   "outputs": [],
   "source": [
    "lag_embed <- function(data, lag=1) {\n",
    "    # This function creates a lag emebedded matrix at the provided lag level. It assumes there is a train_val_test\n",
    "    # in the input data frame, and returns a list of the training, validaiton, and test data as lag matrices\n",
    "    \n",
    "    # Compute the number of rows of test and validation data\n",
    "    n_test <- nrow(data %>% filter(train_val_test==\"test\"))\n",
    "    n_val <- nrow(data %>% filter(train_val_test==\"val\"))\n",
    "    \n",
    "    # Lag embed the entire time series - note we use the input lag+1 to account for the target variable\n",
    "    embed_mat <- embed(data$total_volume, (lag+1))\n",
    "\n",
    "    # Get the total numebr of rows in the lag matrix\n",
    "    n_mat <- nrow(embed_mat)\n",
    "    \n",
    "    # Based on the number of rows in the matrix and the number of test and validation samples,\n",
    "    # compute the indexes which correspond to test and validation\n",
    "    test_idx <- rev(1:n_mat)[1:n_test]\n",
    "    val_idx <- rev(1:n_mat)[-c(1:n_test)][1:n_val]\n",
    "    \n",
    "    # Remoe the test and val indexes to get the training matrix\n",
    "    train_mat <- embed_mat[-c(val_idx, test_idx),]\n",
    "    \n",
    "    # Filter using the above computed indexes to get the validaiton and test matrices\n",
    "    val_mat <- embed_mat[val_idx,]\n",
    "    test_mat <- embed_mat[test_idx,]\n",
    "    \n",
    "    # Return a list of the trianing, validation, and test lag-embedded matrices\n",
    "    return_list <- list(\"train\"=train_mat, \"val\"=val_mat, \"test\"=test_mat)\n",
    "}"
   ]
  },
  {
   "cell_type": "code",
   "execution_count": 14,
   "id": "bd0d7e94",
   "metadata": {},
   "outputs": [],
   "source": [
    "global_ar_least_squares_pred <- function(model,\n",
    "                                         test_list,\n",
    "                                         return_preds=TRUE,\n",
    "                                         return_means=TRUE\n",
    "                                        ) \n",
    "{\n",
    "    # Function which takes in a model and a list of test matrices and makes predictions \n",
    "    # and computes performance measurements on that test data\n",
    "    \n",
    "    # Rename the model object\n",
    "    big_lm_mod <- model\n",
    "    \n",
    "    # Initialize an empty df for storing the predictions\n",
    "    test_preds <- data.frame()\n",
    "    # For each matrix in the test list\n",
    "    for (test_t in 1:length(test_list)) {\n",
    "        # Compute the one-step ahead predictions\n",
    "        test_pred <- data.frame(forec=predict(big_lm_mod, newdata=test_list[[test_t]]), ts_index=test_t)\n",
    "        # Append those to the test_pred df\n",
    "        test_preds <- rbind(test_preds, test_pred)\n",
    "    }\n",
    "\n",
    "    # Initialize empty lists for rmse, mae, and means\n",
    "    test_rmse_ls <- c()\n",
    "    test_mae_ls <- c()\n",
    "    test_means <- c()\n",
    "    \n",
    "    # Loop through each time series in the data set and\n",
    "    for (idx in 1:length(test_list)) {\n",
    "        \n",
    "        # Compute the mean and append to the list of means\n",
    "        test_mean_i <- mean(test_list[[idx]][,1])\n",
    "        test_means <- c(test_means, test_mean_i)\n",
    "        \n",
    "        # Compute the prediction RMSE and append to the list of RMSE\n",
    "        rmse_test_i <- rmse(test_list[[idx]][,1], (test_preds %>% filter(ts_index==idx))$forec)\n",
    "        test_rmse_ls <- c(test_rmse_ls, rmse_test_i)\n",
    "    \n",
    "        # Copmute the MAE of the predictions and append to list\n",
    "        mae_test_i <- mae(test_list[[idx]][,1], (test_preds %>% filter(ts_index==idx))$forec)\n",
    "        test_mae_ls <- c(test_mae_ls, mae_test_i)\n",
    "    }\n",
    "    \n",
    "    # Set up the return_list to include the rmse and mae lists\n",
    "    return_list <- list(\"test_rmse\"=test_rmse_ls, \"test_mae\"=test_mae_ls)\n",
    "    \n",
    "    # If the user specifies, return the test set predicitons and the target means as well\n",
    "    if (return_preds) {\n",
    "        return_list <- append(return_list, list(\"test_preds\"=test_preds))\n",
    "    }\n",
    "    \n",
    "    if (return_means) {\n",
    "        return_list <- append(return_list, list(\"test_means\"=test_means))\n",
    "    }\n",
    "    \n",
    "    # Return the return_list\n",
    "    return_list        \n",
    "}"
   ]
  },
  {
   "cell_type": "code",
   "execution_count": 15,
   "id": "0f56ef90",
   "metadata": {},
   "outputs": [],
   "source": [
    "bootstrap_pred_int <- function(predictions,\n",
    "                               residuals,\n",
    "                               n_boot,\n",
    "                               actuals=NULL\n",
    "                              ) \n",
    "{\n",
    "    # Function to compute prediction intervals using bootstrapping with model residuals\n",
    "    # function takes in the predicted values, the model residuals, the number of bootstrap samples to use,\n",
    "    # and an optional set of true values (used for computing prediction interval scores)\n",
    "    \n",
    "    # Intialize empty lists for the hi and lo components of the 80% nad 95% PIs\n",
    "    boot_lo_80 <- c()\n",
    "    boot_hi_80 <- c()\n",
    "    boot_lo_95 <- c()\n",
    "    boot_hi_95 <- c()\n",
    "\n",
    "    # Loop through every row in the predictions\n",
    "    for (i in 1:nrow(predictions)){\n",
    "        # Reset the seed to the loop counter - could make this more random, but this is for reproducibility\n",
    "        set.seed(i)\n",
    "        \n",
    "        # Sample with replacement from the residuals n_boot times\n",
    "        boot_samples <- sample(residuals, n_boot, replace=TRUE)\n",
    "        # Add the predicted value to each sample\n",
    "        boot_preds <- boot_samples + predictions$forec[i]\n",
    "        \n",
    "        # Compute the PIs as the quantiles of these pred+boot values\n",
    "        boot_pred_lo_80 <- quantile(boot_preds, 0.1)\n",
    "        boot_pred_hi_80 <- quantile(boot_preds, 0.9)\n",
    "\n",
    "        boot_pred_lo_95 <- quantile(boot_preds, 0.025)\n",
    "        boot_pred_hi_95 <- quantile(boot_preds, 0.975)\n",
    "        \n",
    "        # Append the PI values to the lists\n",
    "        boot_lo_80 <- c(boot_lo_80, boot_pred_lo_80)\n",
    "        boot_hi_80 <- c(boot_hi_80, boot_pred_hi_80)\n",
    "\n",
    "        boot_lo_95 <- c(boot_lo_95, boot_pred_lo_95)\n",
    "        boot_hi_95 <- c(boot_hi_95, boot_pred_hi_95)        \n",
    "    }\n",
    "    \n",
    "    # Create a copy of the input df called predicitons\n",
    "    pred_w_boot_int_df <- predictions\n",
    "    \n",
    "    # Add columns to the df for the PIs\n",
    "    pred_w_boot_int_df$lo_80 <- boot_lo_80\n",
    "    pred_w_boot_int_df$hi_80 <- boot_hi_80\n",
    "    pred_w_boot_int_df$lo_95 <- boot_lo_95\n",
    "    pred_w_boot_int_df$hi_95 <- boot_hi_95\n",
    "    \n",
    "    # If the true values are included\n",
    "    if (!is.null(actuals)){\n",
    "        \n",
    "        # Add a column for the true values\n",
    "        pred_w_boot_int_df$true_values <- actuals\n",
    "        \n",
    "        # Compute the 80% and 95% interval scores and add them as columns in the df\n",
    "        pred_w_boot_int_df <- pred_w_boot_int_df %>%\n",
    "            mutate(int_score_80 = interval_score(true_values=true_values,\n",
    "                                                 lower=lo_80,\n",
    "                                                 upper=hi_80,\n",
    "                                                 interval_range=80,\n",
    "                                                 weigh=FALSE\n",
    "                                                )) %>% \n",
    "            mutate(int_score_95 = interval_score(true_values=true_values,\n",
    "                                                 lower=lo_95,\n",
    "                                                 upper=hi_95,\n",
    "                                                 interval_range=95,\n",
    "                                                 weigh=FALSE\n",
    "                                                ))\n",
    "    }\n",
    "    \n",
    "    # Return the final set of preds with PIs (and interval scores if applicable)\n",
    "    pred_w_boot_int_df\n",
    "    \n",
    "}"
   ]
  },
  {
   "cell_type": "markdown",
   "id": "6fb43dfb",
   "metadata": {},
   "source": [
    "# Global AR Model for Full Data Set"
   ]
  },
  {
   "cell_type": "code",
   "execution_count": 16,
   "id": "b5180b38",
   "metadata": {},
   "outputs": [],
   "source": [
    "# Create the final lag embedd matrix list using the lag of 840\n",
    "embed_mat_list <- lapply(total_df_list_samples,\n",
    "                     function(x) lag_embed(x, lag=840))\n",
    "\n",
    "# Since we are training the full model now, we will combine the train and validation data to fit the model and only\n",
    "# test on the test data - thus, we split these up into two separate lists of lag matrices\n",
    "embed_train_val_list <- lapply(embed_mat_list,\n",
    "                           function(x) rbind(data.frame(x$train), data.frame(x$val)))\n",
    " \n",
    "embed_test_list <- lapply(embed_mat_list,\n",
    "                          function(x) data.frame(x$test))   "
   ]
  },
  {
   "cell_type": "code",
   "execution_count": 17,
   "id": "ec966160",
   "metadata": {},
   "outputs": [],
   "source": [
    "full_model <- readRDS(\"Results/Global/Pooled Regression/Full/global_ar_model.RData\")"
   ]
  },
  {
   "cell_type": "code",
   "execution_count": 18,
   "id": "8daf4af6",
   "metadata": {},
   "outputs": [],
   "source": [
    "# Make predicitons on the test data using this model\n",
    "global_ar_full <- global_ar_least_squares_pred(full_model$model, embed_test_list, TRUE, TRUE)"
   ]
  },
  {
   "cell_type": "code",
   "execution_count": 19,
   "id": "cbe502b1",
   "metadata": {},
   "outputs": [],
   "source": [
    "# Create a data frame of the test data\n",
    "test_data_full <- do.call(\"rbind\", embed_test_list)"
   ]
  },
  {
   "cell_type": "code",
   "execution_count": 20,
   "id": "fb02e3df",
   "metadata": {},
   "outputs": [],
   "source": [
    "# Create bootstrap pred intervals on the test data, using a bootstrap sample number of n_samp=1000\n",
    "# We could use a smaller n_samp for speed, but higher will give us a more accurate picture of the PIs\n",
    "n_samp <- 1000\n",
    "boot_test <- bootstrap_pred_int(global_ar_full$test_preds,\n",
    "                                full_model$train_residuals,\n",
    "                                n_samp,\n",
    "                                test_data_full[,1])     "
   ]
  },
  {
   "cell_type": "code",
   "execution_count": 21,
   "id": "14b696ed",
   "metadata": {},
   "outputs": [
    {
     "data": {
      "text/html": [
       "38.81906985909"
      ],
      "text/latex": [
       "38.81906985909"
      ],
      "text/markdown": [
       "38.81906985909"
      ],
      "text/plain": [
       "[1] 38.81907"
      ]
     },
     "metadata": {},
     "output_type": "display_data"
    }
   ],
   "source": [
    "# Examine the model performance - it is quite similar to the training data, which is good\n",
    "mean(global_ar_full$test_rmse)"
   ]
  },
  {
   "cell_type": "code",
   "execution_count": 22,
   "id": "f60bceb9",
   "metadata": {},
   "outputs": [
    {
     "data": {
      "text/html": [
       "25.9013253499764"
      ],
      "text/latex": [
       "25.9013253499764"
      ],
      "text/markdown": [
       "25.9013253499764"
      ],
      "text/plain": [
       "[1] 25.90133"
      ]
     },
     "metadata": {},
     "output_type": "display_data"
    }
   ],
   "source": [
    "mean(global_ar_full$test_mae)"
   ]
  },
  {
   "cell_type": "code",
   "execution_count": 23,
   "id": "6029a37e",
   "metadata": {},
   "outputs": [
    {
     "data": {
      "text/html": [
       "0.126830678970482"
      ],
      "text/latex": [
       "0.126830678970482"
      ],
      "text/markdown": [
       "0.126830678970482"
      ],
      "text/plain": [
       "[1] 0.1268307"
      ]
     },
     "metadata": {},
     "output_type": "display_data"
    }
   ],
   "source": [
    "mean(global_ar_full$test_rmse/global_ar_full$test_means)"
   ]
  },
  {
   "cell_type": "code",
   "execution_count": 24,
   "id": "013dd143",
   "metadata": {},
   "outputs": [
    {
     "data": {
      "text/html": [
       "0.0851373115229576"
      ],
      "text/latex": [
       "0.0851373115229576"
      ],
      "text/markdown": [
       "0.0851373115229576"
      ],
      "text/plain": [
       "[1] 0.08513731"
      ]
     },
     "metadata": {},
     "output_type": "display_data"
    }
   ],
   "source": [
    "mean(global_ar_full$test_mae/global_ar_full$test_means)"
   ]
  },
  {
   "cell_type": "code",
   "execution_count": 25,
   "id": "84e2641f",
   "metadata": {},
   "outputs": [
    {
     "data": {
      "text/html": [
       "159.322467935624"
      ],
      "text/latex": [
       "159.322467935624"
      ],
      "text/markdown": [
       "159.322467935624"
      ],
      "text/plain": [
       "[1] 159.3225"
      ]
     },
     "metadata": {},
     "output_type": "display_data"
    }
   ],
   "source": [
    "mean((boot_test %>% group_by(ts_index) %>% summarise(int_score_80=mean(int_score_80)))$int_score_80)"
   ]
  },
  {
   "cell_type": "code",
   "execution_count": 26,
   "id": "415da2e9",
   "metadata": {},
   "outputs": [
    {
     "data": {
      "text/html": [
       "0.504683065325241"
      ],
      "text/latex": [
       "0.504683065325241"
      ],
      "text/markdown": [
       "0.504683065325241"
      ],
      "text/plain": [
       "[1] 0.5046831"
      ]
     },
     "metadata": {},
     "output_type": "display_data"
    }
   ],
   "source": [
    "mean((boot_test %>% group_by(ts_index) %>% summarise(int_score_80=mean(int_score_80)))$int_score_80/\n",
    "global_ar_full$test_means)"
   ]
  },
  {
   "cell_type": "code",
   "execution_count": 27,
   "id": "6bd718fc",
   "metadata": {},
   "outputs": [
    {
     "data": {
      "text/html": [
       "297.477354218649"
      ],
      "text/latex": [
       "297.477354218649"
      ],
      "text/markdown": [
       "297.477354218649"
      ],
      "text/plain": [
       "[1] 297.4774"
      ]
     },
     "metadata": {},
     "output_type": "display_data"
    }
   ],
   "source": [
    "mean((boot_test %>% group_by(ts_index) %>% summarise(int_score_95=mean(int_score_95)))$int_score_95)"
   ]
  },
  {
   "cell_type": "code",
   "execution_count": 28,
   "id": "16a5518f",
   "metadata": {},
   "outputs": [
    {
     "data": {
      "text/html": [
       "0.899254772383435"
      ],
      "text/latex": [
       "0.899254772383435"
      ],
      "text/markdown": [
       "0.899254772383435"
      ],
      "text/plain": [
       "[1] 0.8992548"
      ]
     },
     "metadata": {},
     "output_type": "display_data"
    }
   ],
   "source": [
    "mean((boot_test %>% group_by(ts_index) %>% summarise(int_score_95=mean(int_score_95)))$int_score_95/\n",
    "global_ar_full$test_means)"
   ]
  },
  {
   "cell_type": "markdown",
   "id": "1b3dcdfe",
   "metadata": {},
   "source": [
    "# Global AR Model for Highway System"
   ]
  },
  {
   "cell_type": "code",
   "execution_count": 29,
   "id": "1b03c1ce",
   "metadata": {},
   "outputs": [],
   "source": [
    "highways_england_model <- readRDS(\"Results/Global/Pooled Regression/Highway System/global_ar_model_country_1.RData\")"
   ]
  },
  {
   "cell_type": "code",
   "execution_count": 30,
   "id": "028aad6d",
   "metadata": {},
   "outputs": [],
   "source": [
    "# Make predicitons on the test data using this model\n",
    "global_ar_england_pred <- global_ar_least_squares_pred(highways_england_model$model, embed_test_list, TRUE, TRUE)"
   ]
  },
  {
   "cell_type": "code",
   "execution_count": 31,
   "id": "bd6d26a9",
   "metadata": {},
   "outputs": [],
   "source": [
    "# Create bootstrap pred intervals on the test data, using a bootstrap sample number of n_samp=1000\n",
    "# We could use a smaller n_samp for speed, but higher will give us a more accurate picture of the PIs\n",
    "n_samp <- 1000\n",
    "boot_test_england <- bootstrap_pred_int(global_ar_england_pred$test_preds,\n",
    "                                        highways_england_model$train_residuals,\n",
    "                                        n_samp,\n",
    "                                        test_data_full[,1])    "
   ]
  },
  {
   "cell_type": "code",
   "execution_count": 32,
   "id": "891b93d2",
   "metadata": {},
   "outputs": [
    {
     "data": {
      "text/html": [
       "38.8982694133817"
      ],
      "text/latex": [
       "38.8982694133817"
      ],
      "text/markdown": [
       "38.8982694133817"
      ],
      "text/plain": [
       "[1] 38.89827"
      ]
     },
     "metadata": {},
     "output_type": "display_data"
    }
   ],
   "source": [
    "# Examine the model performance - it is quite similar to the training data, which is good\n",
    "mean(global_ar_england_pred$test_rmse)"
   ]
  },
  {
   "cell_type": "code",
   "execution_count": 33,
   "id": "d03b1e96",
   "metadata": {},
   "outputs": [
    {
     "data": {
      "text/html": [
       "26.0249650249932"
      ],
      "text/latex": [
       "26.0249650249932"
      ],
      "text/markdown": [
       "26.0249650249932"
      ],
      "text/plain": [
       "[1] 26.02497"
      ]
     },
     "metadata": {},
     "output_type": "display_data"
    }
   ],
   "source": [
    "mean(global_ar_england_pred$test_mae)"
   ]
  },
  {
   "cell_type": "code",
   "execution_count": 34,
   "id": "505631dc",
   "metadata": {},
   "outputs": [
    {
     "data": {
      "text/html": [
       "0.127192787841367"
      ],
      "text/latex": [
       "0.127192787841367"
      ],
      "text/markdown": [
       "0.127192787841367"
      ],
      "text/plain": [
       "[1] 0.1271928"
      ]
     },
     "metadata": {},
     "output_type": "display_data"
    }
   ],
   "source": [
    "mean(global_ar_england_pred$test_rmse/global_ar_england_pred$test_means)"
   ]
  },
  {
   "cell_type": "code",
   "execution_count": 35,
   "id": "6da5ec26",
   "metadata": {},
   "outputs": [
    {
     "data": {
      "text/html": [
       "0.0854546073309489"
      ],
      "text/latex": [
       "0.0854546073309489"
      ],
      "text/markdown": [
       "0.0854546073309489"
      ],
      "text/plain": [
       "[1] 0.08545461"
      ]
     },
     "metadata": {},
     "output_type": "display_data"
    }
   ],
   "source": [
    "mean(global_ar_england_pred$test_mae/global_ar_england_pred$test_means)"
   ]
  },
  {
   "cell_type": "code",
   "execution_count": 36,
   "id": "ff457cc2",
   "metadata": {},
   "outputs": [
    {
     "data": {
      "text/html": [
       "157.259228010655"
      ],
      "text/latex": [
       "157.259228010655"
      ],
      "text/markdown": [
       "157.259228010655"
      ],
      "text/plain": [
       "[1] 157.2592"
      ]
     },
     "metadata": {},
     "output_type": "display_data"
    }
   ],
   "source": [
    "mean((boot_test_england %>% group_by(ts_index) %>% summarise(int_score_80=mean(int_score_80)))$int_score_80)"
   ]
  },
  {
   "cell_type": "code",
   "execution_count": 37,
   "id": "68581265",
   "metadata": {},
   "outputs": [
    {
     "data": {
      "text/html": [
       "0.52047807537943"
      ],
      "text/latex": [
       "0.52047807537943"
      ],
      "text/markdown": [
       "0.52047807537943"
      ],
      "text/plain": [
       "[1] 0.5204781"
      ]
     },
     "metadata": {},
     "output_type": "display_data"
    }
   ],
   "source": [
    "mean((boot_test_england %>% group_by(ts_index) %>% summarise(int_score_80=mean(int_score_80)))$int_score_80/\n",
    "global_ar_england_pred$test_means)"
   ]
  },
  {
   "cell_type": "code",
   "execution_count": 38,
   "id": "a387a2fb",
   "metadata": {},
   "outputs": [
    {
     "data": {
      "text/html": [
       "286.930975453207"
      ],
      "text/latex": [
       "286.930975453207"
      ],
      "text/markdown": [
       "286.930975453207"
      ],
      "text/plain": [
       "[1] 286.931"
      ]
     },
     "metadata": {},
     "output_type": "display_data"
    }
   ],
   "source": [
    "mean((boot_test_england %>% group_by(ts_index) %>% summarise(int_score_95=mean(int_score_95)))$int_score_95)"
   ]
  },
  {
   "cell_type": "code",
   "execution_count": 39,
   "id": "8985ac50",
   "metadata": {},
   "outputs": [
    {
     "data": {
      "text/html": [
       "0.949991625050662"
      ],
      "text/latex": [
       "0.949991625050662"
      ],
      "text/markdown": [
       "0.949991625050662"
      ],
      "text/plain": [
       "[1] 0.9499916"
      ]
     },
     "metadata": {},
     "output_type": "display_data"
    }
   ],
   "source": [
    "mean((boot_test_england %>% group_by(ts_index) %>% summarise(int_score_95=mean(int_score_95)))$int_score_95/\n",
    "global_ar_england_pred$test_means)"
   ]
  },
  {
   "cell_type": "markdown",
   "id": "7d4ed1b4",
   "metadata": {},
   "source": [
    "# Global AR Random Clustering"
   ]
  },
  {
   "cell_type": "code",
   "execution_count": 40,
   "id": "0ef149bc",
   "metadata": {},
   "outputs": [
    {
     "data": {
      "text/html": [
       "<style>\n",
       ".list-inline {list-style: none; margin:0; padding: 0}\n",
       ".list-inline>li {display: inline-block}\n",
       ".list-inline>li:not(:last-child)::after {content: \"\\00b7\"; padding: 0 .5ex}\n",
       "</style>\n",
       "<ol class=list-inline><li>3</li><li>2</li><li>1</li><li>4</li></ol>\n"
      ],
      "text/latex": [
       "\\begin{enumerate*}\n",
       "\\item 3\n",
       "\\item 2\n",
       "\\item 1\n",
       "\\item 4\n",
       "\\end{enumerate*}\n"
      ],
      "text/markdown": [
       "1. 3\n",
       "2. 2\n",
       "3. 1\n",
       "4. 4\n",
       "\n",
       "\n"
      ],
      "text/plain": [
       "[1] 3 2 1 4"
      ]
     },
     "metadata": {},
     "output_type": "display_data"
    }
   ],
   "source": [
    "clust_assign$rand"
   ]
  },
  {
   "cell_type": "code",
   "execution_count": 41,
   "id": "8e67c956",
   "metadata": {},
   "outputs": [],
   "source": [
    "rand_clust_mod3 <- readRDS(\"Results/Global/Pooled Regression/Random Cluster/global_ar_model_cluster_3.RData\")\n",
    "rand_clust_mod2 <- readRDS(\"Results/Global/Pooled Regression/Random Cluster/global_ar_model_cluster_2.RData\")\n",
    "rand_clust_mod1 <- readRDS(\"Results/Global/Pooled Regression/Random Cluster/global_ar_model_cluster_1.RData\")\n",
    "rand_clust_mod4 <- readRDS(\"Results/Global/Pooled Regression/Random Cluster/global_ar_model_cluster_4.RData\")"
   ]
  },
  {
   "cell_type": "code",
   "execution_count": 42,
   "id": "be263346",
   "metadata": {},
   "outputs": [],
   "source": [
    "# Make predicitons on the test data using this model\n",
    "test_pred_clust3 <- global_ar_least_squares_pred(rand_clust_mod3$model, embed_test_list[1], TRUE, TRUE)\n",
    "\n",
    "test_pred_clust2 <- global_ar_least_squares_pred(rand_clust_mod2$model, embed_test_list[2], TRUE, TRUE)\n",
    "\n",
    "test_pred_clust1 <- global_ar_least_squares_pred(rand_clust_mod2$model, embed_test_list[3], TRUE, TRUE)\n",
    "\n",
    "test_pred_clust4 <- global_ar_least_squares_pred(rand_clust_mod2$model, embed_test_list[4], TRUE, TRUE)"
   ]
  },
  {
   "cell_type": "code",
   "execution_count": 43,
   "id": "2d4db7dc",
   "metadata": {},
   "outputs": [],
   "source": [
    "# Create bootstrap pred intervals on the test data, using a bootstrap sample number of n_samp=1000\n",
    "# We could use a smaller n_samp for speed, but higher will give us a more accurate picture of the PIs\n",
    "n_samp <- 1000\n",
    "boot_testclust3 <- bootstrap_pred_int(test_pred_clust3$test_preds,\n",
    "                                      rand_clust_mod3$train_residuals,\n",
    "                                      n_samp,\n",
    "                                      embed_test_list[[1]][,1]) \n",
    "\n",
    "boot_testclust2 <- bootstrap_pred_int(test_pred_clust2$test_preds,\n",
    "                                      rand_clust_mod2$train_residuals,\n",
    "                                      n_samp,\n",
    "                                      embed_test_list[[2]][,1]) \n",
    "\n",
    "boot_testclust1 <- bootstrap_pred_int(test_pred_clust1$test_preds,\n",
    "                                      rand_clust_mod1$train_residuals,\n",
    "                                      n_samp,\n",
    "                                      embed_test_list[[3]][,1]) \n",
    "\n",
    "boot_testclust4 <- bootstrap_pred_int(test_pred_clust4$test_preds,\n",
    "                                      rand_clust_mod4$train_residuals,\n",
    "                                      n_samp,\n",
    "                                      embed_test_list[[4]][,1]) "
   ]
  },
  {
   "cell_type": "code",
   "execution_count": 44,
   "id": "fe016e69",
   "metadata": {},
   "outputs": [
    {
     "data": {
      "text/html": [
       "39.1409000050898"
      ],
      "text/latex": [
       "39.1409000050898"
      ],
      "text/markdown": [
       "39.1409000050898"
      ],
      "text/plain": [
       "[1] 39.1409"
      ]
     },
     "metadata": {},
     "output_type": "display_data"
    }
   ],
   "source": [
    "mean(c(test_pred_clust3$test_rmse, test_pred_clust2$test_rmse, \n",
    "       test_pred_clust1$test_rmse, test_pred_clust4$test_rmse))"
   ]
  },
  {
   "cell_type": "code",
   "execution_count": 45,
   "id": "5123970e",
   "metadata": {},
   "outputs": [
    {
     "data": {
      "text/html": [
       "26.215316651025"
      ],
      "text/latex": [
       "26.215316651025"
      ],
      "text/markdown": [
       "26.215316651025"
      ],
      "text/plain": [
       "[1] 26.21532"
      ]
     },
     "metadata": {},
     "output_type": "display_data"
    }
   ],
   "source": [
    "mean(c(test_pred_clust3$test_mae, test_pred_clust2$test_mae,\n",
    "       test_pred_clust1$test_mae, test_pred_clust4$test_mae))"
   ]
  },
  {
   "cell_type": "code",
   "execution_count": 46,
   "id": "311b7e2a",
   "metadata": {},
   "outputs": [
    {
     "data": {
      "text/html": [
       "0.128271238867532"
      ],
      "text/latex": [
       "0.128271238867532"
      ],
      "text/markdown": [
       "0.128271238867532"
      ],
      "text/plain": [
       "[1] 0.1282712"
      ]
     },
     "metadata": {},
     "output_type": "display_data"
    }
   ],
   "source": [
    "mean(c(test_pred_clust3$test_rmse, test_pred_clust2$test_rmse, test_pred_clust1$test_rmse, test_pred_clust4$test_rmse)/\n",
    "     c(test_pred_clust3$test_means, test_pred_clust2$test_means, test_pred_clust1$test_means, test_pred_clust4$test_means))"
   ]
  },
  {
   "cell_type": "code",
   "execution_count": 47,
   "id": "8fc451bb",
   "metadata": {},
   "outputs": [
    {
     "data": {
      "text/html": [
       "0.0866457659325299"
      ],
      "text/latex": [
       "0.0866457659325299"
      ],
      "text/markdown": [
       "0.0866457659325299"
      ],
      "text/plain": [
       "[1] 0.08664577"
      ]
     },
     "metadata": {},
     "output_type": "display_data"
    }
   ],
   "source": [
    "mean(c(test_pred_clust3$test_mae, test_pred_clust2$test_mae, test_pred_clust1$test_mae, test_pred_clust4$test_mae)/\n",
    "     c(test_pred_clust3$test_means, test_pred_clust2$test_means, test_pred_clust1$test_means, test_pred_clust4$test_means))"
   ]
  },
  {
   "cell_type": "code",
   "execution_count": 48,
   "id": "2c411853",
   "metadata": {},
   "outputs": [
    {
     "data": {
      "text/html": [
       "158.862426278454"
      ],
      "text/latex": [
       "158.862426278454"
      ],
      "text/markdown": [
       "158.862426278454"
      ],
      "text/plain": [
       "[1] 158.8624"
      ]
     },
     "metadata": {},
     "output_type": "display_data"
    }
   ],
   "source": [
    "mean((rbind(boot_testclust3, boot_testclust2, boot_testclust1, boot_testclust4))$int_score_80)"
   ]
  },
  {
   "cell_type": "code",
   "execution_count": 49,
   "id": "3d37b71a",
   "metadata": {},
   "outputs": [
    {
     "data": {
      "text/html": [
       "0.509838853053163"
      ],
      "text/latex": [
       "0.509838853053163"
      ],
      "text/markdown": [
       "0.509838853053163"
      ],
      "text/plain": [
       "[1] 0.5098389"
      ]
     },
     "metadata": {},
     "output_type": "display_data"
    }
   ],
   "source": [
    "mean(c(mean(boot_testclust3$int_score_80), mean(boot_testclust2$int_score_80), \n",
    "mean(boot_testclust1$int_score_80), mean(boot_testclust4$int_score_80))/\n",
    "c(test_pred_clust3$test_means, test_pred_clust2$test_means, \n",
    "  test_pred_clust1$test_means, test_pred_clust4$test_means))"
   ]
  },
  {
   "cell_type": "code",
   "execution_count": 50,
   "id": "f4abc67c",
   "metadata": {},
   "outputs": [
    {
     "data": {
      "text/html": [
       "292.674388996364"
      ],
      "text/latex": [
       "292.674388996364"
      ],
      "text/markdown": [
       "292.674388996364"
      ],
      "text/plain": [
       "[1] 292.6744"
      ]
     },
     "metadata": {},
     "output_type": "display_data"
    }
   ],
   "source": [
    "mean((rbind(boot_testclust3, boot_testclust2, boot_testclust1, boot_testclust4))$int_score_95)"
   ]
  },
  {
   "cell_type": "code",
   "execution_count": 51,
   "id": "3ae80afb",
   "metadata": {},
   "outputs": [
    {
     "data": {
      "text/html": [
       "0.905929922590809"
      ],
      "text/latex": [
       "0.905929922590809"
      ],
      "text/markdown": [
       "0.905929922590809"
      ],
      "text/plain": [
       "[1] 0.9059299"
      ]
     },
     "metadata": {},
     "output_type": "display_data"
    }
   ],
   "source": [
    "mean(c(mean(boot_testclust3$int_score_95), mean(boot_testclust2$int_score_95), \n",
    "mean(boot_testclust1$int_score_95), mean(boot_testclust4$int_score_95))/\n",
    "c(test_pred_clust3$test_means, test_pred_clust2$test_means, \n",
    "  test_pred_clust1$test_means, test_pred_clust4$test_means))"
   ]
  },
  {
   "cell_type": "markdown",
   "id": "1654f346",
   "metadata": {},
   "source": [
    "# Global AR Catch22"
   ]
  },
  {
   "cell_type": "code",
   "execution_count": 52,
   "id": "50bbb267",
   "metadata": {},
   "outputs": [
    {
     "data": {
      "text/html": [
       "<style>\n",
       ".list-inline {list-style: none; margin:0; padding: 0}\n",
       ".list-inline>li {display: inline-block}\n",
       ".list-inline>li:not(:last-child)::after {content: \"\\00b7\"; padding: 0 .5ex}\n",
       "</style>\n",
       "<ol class=list-inline><li>1</li><li>1</li><li>4</li><li>4</li></ol>\n"
      ],
      "text/latex": [
       "\\begin{enumerate*}\n",
       "\\item 1\n",
       "\\item 1\n",
       "\\item 4\n",
       "\\item 4\n",
       "\\end{enumerate*}\n"
      ],
      "text/markdown": [
       "1. 1\n",
       "2. 1\n",
       "3. 4\n",
       "4. 4\n",
       "\n",
       "\n"
      ],
      "text/plain": [
       "[1] 1 1 4 4"
      ]
     },
     "metadata": {},
     "output_type": "display_data"
    }
   ],
   "source": [
    "clust_assign$catch22"
   ]
  },
  {
   "cell_type": "code",
   "execution_count": 53,
   "id": "665e5638",
   "metadata": {},
   "outputs": [],
   "source": [
    "catch22_mod1 <- readRDS(\"Results/Global/Pooled Regression/Catch22 KMeans/global_ar_model_kmeans_catch22_clust_1.RData\")\n",
    "\n",
    "catch22_mod4 <- readRDS(\"Results/Global/Pooled Regression/Catch22 KMeans/global_ar_model_kmeans_catch22_clust_4.RData\")"
   ]
  },
  {
   "cell_type": "code",
   "execution_count": 54,
   "id": "4b2c6ecb",
   "metadata": {},
   "outputs": [],
   "source": [
    "# Make predicitons on the test data using this model\n",
    "test_pred_catch22_clust1 <- global_ar_least_squares_pred(catch22_mod1$model, \n",
    "                                                         embed_test_list[1:2], TRUE, TRUE)\n",
    "\n",
    "test_pred_catch22_clust4 <- global_ar_least_squares_pred(catch22_mod4$model, \n",
    "                                                         embed_test_list[3:4], TRUE, TRUE)"
   ]
  },
  {
   "cell_type": "code",
   "execution_count": 55,
   "id": "bbef8796",
   "metadata": {},
   "outputs": [],
   "source": [
    "# Create bootstrap pred intervals on the test data, using a bootstrap sample number of n_samp=1000\n",
    "# We could use a smaller n_samp for speed, but higher will give us a more accurate picture of the PIs\n",
    "n_samp <- 1000\n",
    "boot_catch22_testclust1 <- bootstrap_pred_int(test_pred_catch22_clust1$test_preds,\n",
    "                                              catch22_mod1$train_residuals,\n",
    "                                              n_samp,\n",
    "                                              do.call(rbind, embed_test_list[1:2])[,1])\n",
    "\n",
    "boot_catch22_testclust4 <- bootstrap_pred_int(test_pred_catch22_clust4$test_preds,\n",
    "                                              catch22_mod4$train_residuals,\n",
    "                                              n_samp,\n",
    "                                              do.call(rbind, embed_test_list[3:4])[,1])"
   ]
  },
  {
   "cell_type": "code",
   "execution_count": 56,
   "id": "caa3f90c",
   "metadata": {},
   "outputs": [
    {
     "data": {
      "text/html": [
       "38.7930989922969"
      ],
      "text/latex": [
       "38.7930989922969"
      ],
      "text/markdown": [
       "38.7930989922969"
      ],
      "text/plain": [
       "[1] 38.7931"
      ]
     },
     "metadata": {},
     "output_type": "display_data"
    }
   ],
   "source": [
    "mean(c(test_pred_catch22_clust1$test_rmse, test_pred_catch22_clust4$test_rmse))"
   ]
  },
  {
   "cell_type": "code",
   "execution_count": 57,
   "id": "60faf6d2",
   "metadata": {},
   "outputs": [
    {
     "data": {
      "text/html": [
       "25.8833471495174"
      ],
      "text/latex": [
       "25.8833471495174"
      ],
      "text/markdown": [
       "25.8833471495174"
      ],
      "text/plain": [
       "[1] 25.88335"
      ]
     },
     "metadata": {},
     "output_type": "display_data"
    }
   ],
   "source": [
    "mean(c(test_pred_catch22_clust1$test_mae,test_pred_catch22_clust4$test_mae))"
   ]
  },
  {
   "cell_type": "code",
   "execution_count": 58,
   "id": "bb3cf455",
   "metadata": {},
   "outputs": [
    {
     "data": {
      "text/html": [
       "0.126093587510876"
      ],
      "text/latex": [
       "0.126093587510876"
      ],
      "text/markdown": [
       "0.126093587510876"
      ],
      "text/plain": [
       "[1] 0.1260936"
      ]
     },
     "metadata": {},
     "output_type": "display_data"
    }
   ],
   "source": [
    "mean(c(test_pred_catch22_clust1$test_rmse, test_pred_catch22_clust4$test_rmse)/\n",
    "     c(test_pred_catch22_clust1$test_means, test_pred_catch22_clust4$test_means)\n",
    "     )"
   ]
  },
  {
   "cell_type": "code",
   "execution_count": 59,
   "id": "229f33b7",
   "metadata": {},
   "outputs": [
    {
     "data": {
      "text/html": [
       "0.0845897193587224"
      ],
      "text/latex": [
       "0.0845897193587224"
      ],
      "text/markdown": [
       "0.0845897193587224"
      ],
      "text/plain": [
       "[1] 0.08458972"
      ]
     },
     "metadata": {},
     "output_type": "display_data"
    }
   ],
   "source": [
    "mean(c(test_pred_catch22_clust1$test_mae, test_pred_catch22_clust4$test_mae)/\n",
    "     c(test_pred_catch22_clust1$test_means, test_pred_catch22_clust4$test_means)\n",
    "     )"
   ]
  },
  {
   "cell_type": "code",
   "execution_count": 60,
   "id": "2bd90c79",
   "metadata": {},
   "outputs": [
    {
     "data": {
      "text/html": [
       "149.939734584894"
      ],
      "text/latex": [
       "149.939734584894"
      ],
      "text/markdown": [
       "149.939734584894"
      ],
      "text/plain": [
       "[1] 149.9397"
      ]
     },
     "metadata": {},
     "output_type": "display_data"
    }
   ],
   "source": [
    "mean(c(boot_catch22_testclust1$int_score_80, boot_catch22_testclust4$int_score_80))"
   ]
  },
  {
   "cell_type": "code",
   "execution_count": 61,
   "id": "fa3011de",
   "metadata": {},
   "outputs": [
    {
     "data": {
      "text/html": [
       "0.478903083804971"
      ],
      "text/latex": [
       "0.478903083804971"
      ],
      "text/markdown": [
       "0.478903083804971"
      ],
      "text/plain": [
       "[1] 0.4789031"
      ]
     },
     "metadata": {},
     "output_type": "display_data"
    }
   ],
   "source": [
    "mean(c((boot_catch22_testclust1 %>% group_by(ts_index) %>% summarise(int_score_80=mean(int_score_80)))$int_score_80,\n",
    "(boot_catch22_testclust4 %>% group_by(ts_index) %>% summarise(int_score_80=mean(int_score_80)))$int_score_80)/\n",
    "c(test_pred_catch22_clust1$test_means, test_pred_catch22_clust4$test_means)\n",
    "     )"
   ]
  },
  {
   "cell_type": "code",
   "execution_count": 62,
   "id": "783d4ff6",
   "metadata": {},
   "outputs": [
    {
     "data": {
      "text/html": [
       "266.349181316289"
      ],
      "text/latex": [
       "266.349181316289"
      ],
      "text/markdown": [
       "266.349181316289"
      ],
      "text/plain": [
       "[1] 266.3492"
      ]
     },
     "metadata": {},
     "output_type": "display_data"
    }
   ],
   "source": [
    "mean(c(boot_catch22_testclust1$int_score_95, boot_catch22_testclust4$int_score_95))"
   ]
  },
  {
   "cell_type": "code",
   "execution_count": 63,
   "id": "63df5b4b",
   "metadata": {},
   "outputs": [
    {
     "data": {
      "text/html": [
       "0.806797222708176"
      ],
      "text/latex": [
       "0.806797222708176"
      ],
      "text/markdown": [
       "0.806797222708176"
      ],
      "text/plain": [
       "[1] 0.8067972"
      ]
     },
     "metadata": {},
     "output_type": "display_data"
    }
   ],
   "source": [
    "mean(c((boot_catch22_testclust1 %>% group_by(ts_index) %>% summarise(int_score_95=mean(int_score_95)))$int_score_95,\n",
    "(boot_catch22_testclust4 %>% group_by(ts_index) %>% summarise(int_score_95=mean(int_score_95)))$int_score_95)/\n",
    "c(test_pred_catch22_clust1$test_means, test_pred_catch22_clust4$test_means)\n",
    "     )"
   ]
  },
  {
   "cell_type": "markdown",
   "id": "90b31d2a",
   "metadata": {},
   "source": [
    "# GlobalAR TSFeat"
   ]
  },
  {
   "cell_type": "code",
   "execution_count": 64,
   "id": "a69bac56",
   "metadata": {},
   "outputs": [
    {
     "data": {
      "text/html": [
       "<style>\n",
       ".list-inline {list-style: none; margin:0; padding: 0}\n",
       ".list-inline>li {display: inline-block}\n",
       ".list-inline>li:not(:last-child)::after {content: \"\\00b7\"; padding: 0 .5ex}\n",
       "</style>\n",
       "<ol class=list-inline><li>1</li><li>1</li><li>1</li><li>1</li></ol>\n"
      ],
      "text/latex": [
       "\\begin{enumerate*}\n",
       "\\item 1\n",
       "\\item 1\n",
       "\\item 1\n",
       "\\item 1\n",
       "\\end{enumerate*}\n"
      ],
      "text/markdown": [
       "1. 1\n",
       "2. 1\n",
       "3. 1\n",
       "4. 1\n",
       "\n",
       "\n"
      ],
      "text/plain": [
       "[1] 1 1 1 1"
      ]
     },
     "metadata": {},
     "output_type": "display_data"
    }
   ],
   "source": [
    "clust_assign$tsfeat"
   ]
  },
  {
   "cell_type": "code",
   "execution_count": 65,
   "id": "b7c31d3d",
   "metadata": {},
   "outputs": [],
   "source": [
    "tsfeat_mod1 <- readRDS(\"Results/Global/Pooled Regression/TSFeat KMeans/global_ar_model_kmeans_tsfeat_clust_1.RData\")"
   ]
  },
  {
   "cell_type": "code",
   "execution_count": 66,
   "id": "4d8f756e",
   "metadata": {},
   "outputs": [],
   "source": [
    "# Make predicitons on the test data using this model\n",
    "test_pred_tsfeat_clust1 <- global_ar_least_squares_pred(tsfeat_mod1$model, \n",
    "                                                        embed_test_list, TRUE, TRUE)"
   ]
  },
  {
   "cell_type": "code",
   "execution_count": 67,
   "id": "0341d023",
   "metadata": {},
   "outputs": [],
   "source": [
    "# Create bootstrap pred intervals on the test data, using a bootstrap sample number of n_samp=1000\n",
    "# We could use a smaller n_samp for speed, but higher will give us a more accurate picture of the PIs\n",
    "n_samp <- 1000\n",
    "boot_tsfeat_testclust1 <- bootstrap_pred_int(test_pred_tsfeat_clust1$test_preds,\n",
    "                                             tsfeat_mod1$train_residuals,\n",
    "                                             n_samp,\n",
    "                                             test_data_full[,1])"
   ]
  },
  {
   "cell_type": "code",
   "execution_count": 68,
   "id": "de2feb08",
   "metadata": {},
   "outputs": [
    {
     "data": {
      "text/html": [
       "38.7722753046418"
      ],
      "text/latex": [
       "38.7722753046418"
      ],
      "text/markdown": [
       "38.7722753046418"
      ],
      "text/plain": [
       "[1] 38.77228"
      ]
     },
     "metadata": {},
     "output_type": "display_data"
    }
   ],
   "source": [
    "mean(test_pred_tsfeat_clust1$test_rmse)"
   ]
  },
  {
   "cell_type": "code",
   "execution_count": 69,
   "id": "6ba74631",
   "metadata": {},
   "outputs": [
    {
     "data": {
      "text/html": [
       "25.8901334156124"
      ],
      "text/latex": [
       "25.8901334156124"
      ],
      "text/markdown": [
       "25.8901334156124"
      ],
      "text/plain": [
       "[1] 25.89013"
      ]
     },
     "metadata": {},
     "output_type": "display_data"
    }
   ],
   "source": [
    "mean(test_pred_tsfeat_clust1$test_mae)"
   ]
  },
  {
   "cell_type": "code",
   "execution_count": 70,
   "id": "969a785e",
   "metadata": {},
   "outputs": [
    {
     "data": {
      "text/html": [
       "0.127130503231187"
      ],
      "text/latex": [
       "0.127130503231187"
      ],
      "text/markdown": [
       "0.127130503231187"
      ],
      "text/plain": [
       "[1] 0.1271305"
      ]
     },
     "metadata": {},
     "output_type": "display_data"
    }
   ],
   "source": [
    "mean(test_pred_tsfeat_clust1$test_rmse/\n",
    "    test_pred_tsfeat_clust1$test_means)"
   ]
  },
  {
   "cell_type": "code",
   "execution_count": 71,
   "id": "3cc831cb",
   "metadata": {},
   "outputs": [
    {
     "data": {
      "text/html": [
       "0.0854286365794844"
      ],
      "text/latex": [
       "0.0854286365794844"
      ],
      "text/markdown": [
       "0.0854286365794844"
      ],
      "text/plain": [
       "[1] 0.08542864"
      ]
     },
     "metadata": {},
     "output_type": "display_data"
    }
   ],
   "source": [
    "mean(test_pred_tsfeat_clust1$test_mae/\n",
    "    test_pred_tsfeat_clust1$test_means)"
   ]
  },
  {
   "cell_type": "code",
   "execution_count": 72,
   "id": "c5d5594f",
   "metadata": {},
   "outputs": [
    {
     "data": {
      "text/html": [
       "156.605783427619"
      ],
      "text/latex": [
       "156.605783427619"
      ],
      "text/markdown": [
       "156.605783427619"
      ],
      "text/plain": [
       "[1] 156.6058"
      ]
     },
     "metadata": {},
     "output_type": "display_data"
    }
   ],
   "source": [
    "mean(boot_tsfeat_testclust1$int_score_80)"
   ]
  },
  {
   "cell_type": "code",
   "execution_count": 73,
   "id": "10b5d2b9",
   "metadata": {},
   "outputs": [
    {
     "data": {
      "text/html": [
       "0.512775275255064"
      ],
      "text/latex": [
       "0.512775275255064"
      ],
      "text/markdown": [
       "0.512775275255064"
      ],
      "text/plain": [
       "[1] 0.5127753"
      ]
     },
     "metadata": {},
     "output_type": "display_data"
    }
   ],
   "source": [
    "mean((boot_tsfeat_testclust1 %>% group_by(ts_index) %>% summarise(int_score_80=mean(int_score_80)))$int_score_80/\n",
    "test_pred_tsfeat_clust1$test_means)"
   ]
  },
  {
   "cell_type": "code",
   "execution_count": 74,
   "id": "0e1d96c4",
   "metadata": {},
   "outputs": [
    {
     "data": {
      "text/html": [
       "289.20405456974"
      ],
      "text/latex": [
       "289.20405456974"
      ],
      "text/markdown": [
       "289.20405456974"
      ],
      "text/plain": [
       "[1] 289.2041"
      ]
     },
     "metadata": {},
     "output_type": "display_data"
    }
   ],
   "source": [
    "mean(boot_tsfeat_testclust1$int_score_95)"
   ]
  },
  {
   "cell_type": "code",
   "execution_count": 75,
   "id": "d8e20f8a",
   "metadata": {},
   "outputs": [
    {
     "data": {
      "text/html": [
       "0.918643460007096"
      ],
      "text/latex": [
       "0.918643460007096"
      ],
      "text/markdown": [
       "0.918643460007096"
      ],
      "text/plain": [
       "[1] 0.9186435"
      ]
     },
     "metadata": {},
     "output_type": "display_data"
    }
   ],
   "source": [
    "mean((boot_tsfeat_testclust1 %>% group_by(ts_index) %>% summarise(int_score_95=mean(int_score_95)))$int_score_95/\n",
    "test_pred_tsfeat_clust1$test_means)"
   ]
  },
  {
   "cell_type": "markdown",
   "id": "da5ef37e",
   "metadata": {},
   "source": [
    "# GlobalAR DTW"
   ]
  },
  {
   "cell_type": "code",
   "execution_count": 76,
   "id": "fc6b83b3",
   "metadata": {},
   "outputs": [
    {
     "data": {
      "text/html": [
       "<style>\n",
       ".list-inline {list-style: none; margin:0; padding: 0}\n",
       ".list-inline>li {display: inline-block}\n",
       ".list-inline>li:not(:last-child)::after {content: \"\\00b7\"; padding: 0 .5ex}\n",
       "</style>\n",
       "<ol class=list-inline><li>2</li><li>2</li><li>1</li><li>1</li></ol>\n"
      ],
      "text/latex": [
       "\\begin{enumerate*}\n",
       "\\item 2\n",
       "\\item 2\n",
       "\\item 1\n",
       "\\item 1\n",
       "\\end{enumerate*}\n"
      ],
      "text/markdown": [
       "1. 2\n",
       "2. 2\n",
       "3. 1\n",
       "4. 1\n",
       "\n",
       "\n"
      ],
      "text/plain": [
       "[1] 2 2 1 1"
      ]
     },
     "metadata": {},
     "output_type": "display_data"
    }
   ],
   "source": [
    "clust_assign$dtw"
   ]
  },
  {
   "cell_type": "code",
   "execution_count": 77,
   "id": "1be16aca",
   "metadata": {},
   "outputs": [],
   "source": [
    "dtw_clust_mod2 <- readRDS(\"Results/Global/Pooled Regression/DTW/global_ar_dtw_clust_2.RData\")\n",
    "dtw_clust_mod1 <- readRDS(\"Results/Global/Pooled Regression/DTW/global_ar_dtw_clust_1.RData\")"
   ]
  },
  {
   "cell_type": "code",
   "execution_count": 78,
   "id": "934bd7a0",
   "metadata": {},
   "outputs": [],
   "source": [
    "# Make predicitons on the test data using this model\n",
    "# Make predicitons on the test data using this model\n",
    "test_pred_dtw_clust2 <- global_ar_least_squares_pred(dtw_clust_mod2$model,\n",
    "                                                     embed_test_list[1:2], TRUE, TRUE)\n",
    "\n",
    "test_pred_dtw_clust1 <- global_ar_least_squares_pred(dtw_clust_mod1$model,\n",
    "                                                     embed_test_list[3:4], TRUE, TRUE)"
   ]
  },
  {
   "cell_type": "code",
   "execution_count": 79,
   "id": "ab6430a6",
   "metadata": {},
   "outputs": [],
   "source": [
    "# Create bootstrap pred intervals on the test data, using a bootstrap sample number of n_samp=1000\n",
    "# We could use a smaller n_samp for speed, but higher will give us a more accurate picture of the PIs\n",
    "n_samp <- 1000\n",
    "\n",
    "boot_dtwclust_2 <- bootstrap_pred_int(test_pred_dtw_clust2$test_preds,\n",
    "                                      dtw_clust_mod2$train_residuals,\n",
    "                                      n_samp,\n",
    "                                      do.call(rbind, embed_test_list[1:2])[,1]) \n",
    "\n",
    "\n",
    "boot_dtwclust_1 <- bootstrap_pred_int(test_pred_dtw_clust1$test_preds,\n",
    "                                      dtw_clust_mod1$train_residuals,\n",
    "                                      n_samp,\n",
    "                                      do.call(rbind, embed_test_list[3:4])[,1]) "
   ]
  },
  {
   "cell_type": "code",
   "execution_count": 80,
   "id": "615ec81d",
   "metadata": {},
   "outputs": [
    {
     "data": {
      "text/html": [
       "38.7052685734133"
      ],
      "text/latex": [
       "38.7052685734133"
      ],
      "text/markdown": [
       "38.7052685734133"
      ],
      "text/plain": [
       "[1] 38.70527"
      ]
     },
     "metadata": {},
     "output_type": "display_data"
    }
   ],
   "source": [
    "mean(c(test_pred_dtw_clust1$test_rmse, test_pred_dtw_clust2$test_rmse))"
   ]
  },
  {
   "cell_type": "code",
   "execution_count": 81,
   "id": "43c08425",
   "metadata": {},
   "outputs": [
    {
     "data": {
      "text/html": [
       "25.8411222966667"
      ],
      "text/latex": [
       "25.8411222966667"
      ],
      "text/markdown": [
       "25.8411222966667"
      ],
      "text/plain": [
       "[1] 25.84112"
      ]
     },
     "metadata": {},
     "output_type": "display_data"
    }
   ],
   "source": [
    "mean(c(test_pred_dtw_clust1$test_mae, test_pred_dtw_clust2$test_mae))"
   ]
  },
  {
   "cell_type": "code",
   "execution_count": 82,
   "id": "943e3244",
   "metadata": {},
   "outputs": [
    {
     "data": {
      "text/html": [
       "0.126007339807565"
      ],
      "text/latex": [
       "0.126007339807565"
      ],
      "text/markdown": [
       "0.126007339807565"
      ],
      "text/plain": [
       "[1] 0.1260073"
      ]
     },
     "metadata": {},
     "output_type": "display_data"
    }
   ],
   "source": [
    "mean(c(test_pred_dtw_clust1$test_rmse, test_pred_dtw_clust2$test_rmse)/\n",
    "     c(test_pred_dtw_clust1$test_means, test_pred_dtw_clust2$test_means)\n",
    "    )"
   ]
  },
  {
   "cell_type": "code",
   "execution_count": 83,
   "id": "6ad86c47",
   "metadata": {},
   "outputs": [
    {
     "data": {
      "text/html": [
       "0.084609055303424"
      ],
      "text/latex": [
       "0.084609055303424"
      ],
      "text/markdown": [
       "0.084609055303424"
      ],
      "text/plain": [
       "[1] 0.08460906"
      ]
     },
     "metadata": {},
     "output_type": "display_data"
    }
   ],
   "source": [
    "mean(c(test_pred_dtw_clust1$test_mae, test_pred_dtw_clust2$test_mae)/\n",
    "     c(test_pred_dtw_clust1$test_means, test_pred_dtw_clust2$test_means)\n",
    "    )"
   ]
  },
  {
   "cell_type": "code",
   "execution_count": 84,
   "id": "fbc01a77",
   "metadata": {},
   "outputs": [
    {
     "data": {
      "text/html": [
       "146.284707774792"
      ],
      "text/latex": [
       "146.284707774792"
      ],
      "text/markdown": [
       "146.284707774792"
      ],
      "text/plain": [
       "[1] 146.2847"
      ]
     },
     "metadata": {},
     "output_type": "display_data"
    }
   ],
   "source": [
    "mean((rbind(boot_dtwclust_1, boot_dtwclust_2))$int_score_80)"
   ]
  },
  {
   "cell_type": "code",
   "execution_count": 85,
   "id": "57f07226",
   "metadata": {},
   "outputs": [
    {
     "data": {
      "text/html": [
       "0.472444761993204"
      ],
      "text/latex": [
       "0.472444761993204"
      ],
      "text/markdown": [
       "0.472444761993204"
      ],
      "text/plain": [
       "[1] 0.4724448"
      ]
     },
     "metadata": {},
     "output_type": "display_data"
    }
   ],
   "source": [
    "mean(c((boot_dtwclust_1 %>% group_by(ts_index) %>% summarise(int_score_80=mean(int_score_80)))$int_score_80,\n",
    "(boot_dtwclust_2 %>% group_by(ts_index) %>% summarise(int_score_80=mean(int_score_80)))$int_score_80)/\n",
    "c(test_pred_dtw_clust1$test_means, test_pred_dtw_clust2$test_means))"
   ]
  },
  {
   "cell_type": "code",
   "execution_count": 86,
   "id": "483e924a",
   "metadata": {},
   "outputs": [
    {
     "data": {
      "text/html": [
       "250.4526814215"
      ],
      "text/latex": [
       "250.4526814215"
      ],
      "text/markdown": [
       "250.4526814215"
      ],
      "text/plain": [
       "[1] 250.4527"
      ]
     },
     "metadata": {},
     "output_type": "display_data"
    }
   ],
   "source": [
    "mean((rbind(boot_dtwclust_1, boot_dtwclust_2))$int_score_95)"
   ]
  },
  {
   "cell_type": "code",
   "execution_count": 87,
   "id": "607b2acf",
   "metadata": {},
   "outputs": [
    {
     "data": {
      "text/html": [
       "0.774715581766236"
      ],
      "text/latex": [
       "0.774715581766236"
      ],
      "text/markdown": [
       "0.774715581766236"
      ],
      "text/plain": [
       "[1] 0.7747156"
      ]
     },
     "metadata": {},
     "output_type": "display_data"
    }
   ],
   "source": [
    "mean(c((boot_dtwclust_1 %>% group_by(ts_index) %>% summarise(int_score_95=mean(int_score_95)))$int_score_95,\n",
    "(boot_dtwclust_2 %>% group_by(ts_index) %>% summarise(int_score_95=mean(int_score_95)))$int_score_95)/\n",
    "c(test_pred_dtw_clust1$test_means, test_pred_dtw_clust2$test_means))"
   ]
  },
  {
   "cell_type": "code",
   "execution_count": null,
   "id": "f2371b19",
   "metadata": {},
   "outputs": [],
   "source": []
  }
 ],
 "metadata": {
  "kernelspec": {
   "display_name": "R",
   "language": "R",
   "name": "ir"
  },
  "language_info": {
   "codemirror_mode": "r",
   "file_extension": ".r",
   "mimetype": "text/x-r-source",
   "name": "R",
   "pygments_lexer": "r",
   "version": "4.1.3"
  }
 },
 "nbformat": 4,
 "nbformat_minor": 5
}
