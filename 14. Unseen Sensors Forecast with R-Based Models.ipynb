{
 "cells": [
  {
   "cell_type": "code",
   "execution_count": 1,
   "id": "c19efcb5",
   "metadata": {},
   "outputs": [],
   "source": [
    "rm(list=ls())"
   ]
  },
  {
   "cell_type": "code",
   "execution_count": 2,
   "id": "61fdc59c",
   "metadata": {},
   "outputs": [
    {
     "data": {
      "text/html": [
       "<table class=\"dataframe\">\n",
       "<caption>A matrix: 2 × 6 of type dbl</caption>\n",
       "<thead>\n",
       "\t<tr><th></th><th scope=col>used</th><th scope=col>(Mb)</th><th scope=col>gc trigger</th><th scope=col>(Mb)</th><th scope=col>max used</th><th scope=col>(Mb)</th></tr>\n",
       "</thead>\n",
       "<tbody>\n",
       "\t<tr><th scope=row>Ncells</th><td> 609084</td><td>32.6</td><td>1319145</td><td>70.5</td><td>1305148</td><td>69.8</td></tr>\n",
       "\t<tr><th scope=row>Vcells</th><td>1138183</td><td> 8.7</td><td>8388608</td><td>64.0</td><td>1821133</td><td>13.9</td></tr>\n",
       "</tbody>\n",
       "</table>\n"
      ],
      "text/latex": [
       "A matrix: 2 × 6 of type dbl\n",
       "\\begin{tabular}{r|llllll}\n",
       "  & used & (Mb) & gc trigger & (Mb) & max used & (Mb)\\\\\n",
       "\\hline\n",
       "\tNcells &  609084 & 32.6 & 1319145 & 70.5 & 1305148 & 69.8\\\\\n",
       "\tVcells & 1138183 &  8.7 & 8388608 & 64.0 & 1821133 & 13.9\\\\\n",
       "\\end{tabular}\n"
      ],
      "text/markdown": [
       "\n",
       "A matrix: 2 × 6 of type dbl\n",
       "\n",
       "| <!--/--> | used | (Mb) | gc trigger | (Mb) | max used | (Mb) |\n",
       "|---|---|---|---|---|---|---|\n",
       "| Ncells |  609084 | 32.6 | 1319145 | 70.5 | 1305148 | 69.8 |\n",
       "| Vcells | 1138183 |  8.7 | 8388608 | 64.0 | 1821133 | 13.9 |\n",
       "\n"
      ],
      "text/plain": [
       "       used    (Mb) gc trigger (Mb) max used (Mb)\n",
       "Ncells  609084 32.6 1319145    70.5 1305148  69.8\n",
       "Vcells 1138183  8.7 8388608    64.0 1821133  13.9"
      ]
     },
     "metadata": {},
     "output_type": "display_data"
    }
   ],
   "source": [
    "gc()"
   ]
  },
  {
   "cell_type": "code",
   "execution_count": 3,
   "id": "a4afd7d3",
   "metadata": {},
   "outputs": [
    {
     "name": "stderr",
     "output_type": "stream",
     "text": [
      "Warning message:\n",
      "“‘timedatectl’ indicates the non-existent timezone name ‘n/a’”\n",
      "Warning message:\n",
      "“Your system is mis-configured: ‘/etc/localtime’ is not a symlink”\n",
      "Warning message:\n",
      "“It is strongly recommended to set envionment variable TZ to ‘Etc/UCT’ (or equivalent)”\n",
      "── \u001b[1mAttaching packages\u001b[22m ─────────────────────────────────────── tidyverse 1.3.1 ──\n",
      "\n",
      "\u001b[32m✔\u001b[39m \u001b[34mggplot2\u001b[39m 3.3.5     \u001b[32m✔\u001b[39m \u001b[34mpurrr  \u001b[39m 0.3.4\n",
      "\u001b[32m✔\u001b[39m \u001b[34mtibble \u001b[39m 3.1.6     \u001b[32m✔\u001b[39m \u001b[34mdplyr  \u001b[39m 1.0.8\n",
      "\u001b[32m✔\u001b[39m \u001b[34mtidyr  \u001b[39m 1.2.0     \u001b[32m✔\u001b[39m \u001b[34mstringr\u001b[39m 1.4.0\n",
      "\u001b[32m✔\u001b[39m \u001b[34mreadr  \u001b[39m 2.1.2     \u001b[32m✔\u001b[39m \u001b[34mforcats\u001b[39m 0.5.1\n",
      "\n",
      "── \u001b[1mConflicts\u001b[22m ────────────────────────────────────────── tidyverse_conflicts() ──\n",
      "\u001b[31m✖\u001b[39m \u001b[34mdplyr\u001b[39m::\u001b[32mfilter()\u001b[39m masks \u001b[34mstats\u001b[39m::filter()\n",
      "\u001b[31m✖\u001b[39m \u001b[34mdplyr\u001b[39m::\u001b[32mlag()\u001b[39m    masks \u001b[34mstats\u001b[39m::lag()\n",
      "\n",
      "Updating HTML index of packages in '.Library'\n",
      "\n",
      "Making 'packages.html' ...\n",
      " done\n",
      "\n",
      "Registered S3 method overwritten by 'quantmod':\n",
      "  method            from\n",
      "  as.zoo.data.frame zoo \n",
      "\n",
      "Updating HTML index of packages in '.Library'\n",
      "\n",
      "Making 'packages.html' ...\n",
      " done\n",
      "\n",
      "Updating HTML index of packages in '.Library'\n",
      "\n",
      "Making 'packages.html' ...\n",
      " done\n",
      "\n",
      "\n",
      "Attaching package: ‘Metrics’\n",
      "\n",
      "\n",
      "The following object is masked from ‘package:forecast’:\n",
      "\n",
      "    accuracy\n",
      "\n",
      "\n",
      "Updating HTML index of packages in '.Library'\n",
      "\n",
      "Making 'packages.html' ...\n",
      " done\n",
      "\n",
      "Loading required package: DBI\n",
      "\n",
      "Updating HTML index of packages in '.Library'\n",
      "\n",
      "Making 'packages.html' ...\n",
      " done\n",
      "\n",
      "Updating HTML index of packages in '.Library'\n",
      "\n",
      "Making 'packages.html' ...\n",
      " done\n",
      "\n",
      "Note: scoringutils 1.0.0 introduces a lot of breaking changes and we apologise for any inconvenience. If you prefer the old interface, please download version 0.1.8 using remotes::install_github(\"epiforecasts/scoringutils@v0.1.8\")\n",
      "\n"
     ]
    }
   ],
   "source": [
    "# install.packages(\"tidyverse\") # sagemaker has\n",
    "library(tidyverse)\n",
    "# install.packages(\"parallel\") # sagemaker has\n",
    "library(parallel)\n",
    "# install.packages(\"cluster\") # sagemaker has\n",
    "library(cluster)\n",
    "\n",
    "install.packages(\"forecast\") # sagemaker doesn't have\n",
    "library(forecast)\n",
    "\n",
    "install.packages(\"RcppArmadillo\") # sagemaker doesn't have\n",
    "library(RcppArmadillo)\n",
    "\n",
    "install.packages(\"Metrics\") # sagemaker doesn't have\n",
    "library(Metrics)\n",
    "\n",
    "install.packages(\"biglm\") # sagemaker doesn't have\n",
    "library(biglm)\n",
    "\n",
    "install.packages(\"tseries\") # sagemaker doesn't have\n",
    "library(tseries)\n",
    "\n",
    "install.packages(\"scoringutils\") # sagemaker doesn't have\n",
    "library(scoringutils)"
   ]
  },
  {
   "cell_type": "markdown",
   "id": "b4b118ca",
   "metadata": {},
   "source": [
    "# Read In Data"
   ]
  },
  {
   "cell_type": "code",
   "execution_count": 4,
   "id": "89b2cbee",
   "metadata": {},
   "outputs": [
    {
     "name": "stderr",
     "output_type": "stream",
     "text": [
      "\u001b[1m\u001b[22mNew names:\n",
      "\u001b[36m•\u001b[39m `` -> `...1`\n",
      "\u001b[1mRows: \u001b[22m\u001b[34m4\u001b[39m \u001b[1mColumns: \u001b[22m\u001b[34m5\u001b[39m\n",
      "\u001b[36m──\u001b[39m \u001b[1mColumn specification\u001b[22m \u001b[36m────────────────────────────────────────────────────────\u001b[39m\n",
      "\u001b[1mDelimiter:\u001b[22m \",\"\n",
      "\u001b[32mdbl\u001b[39m (5): ...1, rand, catch22, tsfeat, dtw\n",
      "\n",
      "\u001b[36mℹ\u001b[39m Use `spec()` to retrieve the full column specification for this data.\n",
      "\u001b[36mℹ\u001b[39m Specify the column types or set `show_col_types = FALSE` to quiet this message.\n"
     ]
    }
   ],
   "source": [
    "clust_assign <- read_csv(\"Results/Unseen Sensor/clust_assign.csv\")"
   ]
  },
  {
   "cell_type": "code",
   "execution_count": 5,
   "id": "da622991",
   "metadata": {},
   "outputs": [
    {
     "name": "stderr",
     "output_type": "stream",
     "text": [
      "\u001b[1mRows: \u001b[22m\u001b[34m35040\u001b[39m \u001b[1mColumns: \u001b[22m\u001b[34m10\u001b[39m\n",
      "\u001b[36m──\u001b[39m \u001b[1mColumn specification\u001b[22m \u001b[36m────────────────────────────────────────────────────────\u001b[39m\n",
      "\u001b[1mDelimiter:\u001b[22m \",\"\n",
      "\u001b[31mchr\u001b[39m  (1): site_name\n",
      "\u001b[32mdbl\u001b[39m  (5): day_of_week, day_of_year, interval_of_day, avg_mph, total_volume\n",
      "\u001b[33mlgl\u001b[39m  (2): missing_speed, missing_volume\n",
      "\u001b[34mdttm\u001b[39m (1): timestamp\n",
      "\u001b[34mdate\u001b[39m (1): date\n",
      "\n",
      "\u001b[36mℹ\u001b[39m Use `spec()` to retrieve the full column specification for this data.\n",
      "\u001b[36mℹ\u001b[39m Specify the column types or set `show_col_types = FALSE` to quiet this message.\n",
      "\u001b[1mRows: \u001b[22m\u001b[34m35040\u001b[39m \u001b[1mColumns: \u001b[22m\u001b[34m10\u001b[39m\n",
      "\u001b[36m──\u001b[39m \u001b[1mColumn specification\u001b[22m \u001b[36m────────────────────────────────────────────────────────\u001b[39m\n",
      "\u001b[1mDelimiter:\u001b[22m \",\"\n",
      "\u001b[31mchr\u001b[39m  (1): site_name\n",
      "\u001b[32mdbl\u001b[39m  (5): day_of_week, day_of_year, interval_of_day, avg_mph, total_volume\n",
      "\u001b[33mlgl\u001b[39m  (2): missing_speed, missing_volume\n",
      "\u001b[34mdttm\u001b[39m (1): timestamp\n",
      "\u001b[34mdate\u001b[39m (1): date\n",
      "\n",
      "\u001b[36mℹ\u001b[39m Use `spec()` to retrieve the full column specification for this data.\n",
      "\u001b[36mℹ\u001b[39m Specify the column types or set `show_col_types = FALSE` to quiet this message.\n",
      "\u001b[1mRows: \u001b[22m\u001b[34m35040\u001b[39m \u001b[1mColumns: \u001b[22m\u001b[34m10\u001b[39m\n",
      "\u001b[36m──\u001b[39m \u001b[1mColumn specification\u001b[22m \u001b[36m────────────────────────────────────────────────────────\u001b[39m\n",
      "\u001b[1mDelimiter:\u001b[22m \",\"\n",
      "\u001b[31mchr\u001b[39m  (1): site_name\n",
      "\u001b[32mdbl\u001b[39m  (5): day_of_week, day_of_year, interval_of_day, avg_mph, total_volume\n",
      "\u001b[33mlgl\u001b[39m  (2): missing_speed, missing_volume\n",
      "\u001b[34mdttm\u001b[39m (1): timestamp\n",
      "\u001b[34mdate\u001b[39m (1): date\n",
      "\n",
      "\u001b[36mℹ\u001b[39m Use `spec()` to retrieve the full column specification for this data.\n",
      "\u001b[36mℹ\u001b[39m Specify the column types or set `show_col_types = FALSE` to quiet this message.\n",
      "\u001b[1mRows: \u001b[22m\u001b[34m35040\u001b[39m \u001b[1mColumns: \u001b[22m\u001b[34m10\u001b[39m\n",
      "\u001b[36m──\u001b[39m \u001b[1mColumn specification\u001b[22m \u001b[36m────────────────────────────────────────────────────────\u001b[39m\n",
      "\u001b[1mDelimiter:\u001b[22m \",\"\n",
      "\u001b[31mchr\u001b[39m  (1): site_name\n",
      "\u001b[32mdbl\u001b[39m  (5): day_of_week, day_of_year, interval_of_day, avg_mph, total_volume\n",
      "\u001b[33mlgl\u001b[39m  (2): missing_speed, missing_volume\n",
      "\u001b[34mdttm\u001b[39m (1): timestamp\n",
      "\u001b[34mdate\u001b[39m (1): date\n",
      "\n",
      "\u001b[36mℹ\u001b[39m Use `spec()` to retrieve the full column specification for this data.\n",
      "\u001b[36mℹ\u001b[39m Specify the column types or set `show_col_types = FALSE` to quiet this message.\n"
     ]
    }
   ],
   "source": [
    "fnames <- list.files(\"Data/Unseen Sensor/Processed/\", pattern=\"*.csv\", full.names=TRUE)\n",
    "total_df_list <- lapply(fnames, read_csv)"
   ]
  },
  {
   "cell_type": "code",
   "execution_count": 6,
   "id": "9ae4dc6f",
   "metadata": {},
   "outputs": [],
   "source": [
    "total_df_list <- lapply(total_df_list, function(x) x %>% arrange(timestamp))    "
   ]
  },
  {
   "cell_type": "code",
   "execution_count": 7,
   "id": "22614511",
   "metadata": {},
   "outputs": [],
   "source": [
    "# Randomly create a list of starting points from which we we sample each data frame\n",
    "\n",
    "# Set the seed\n",
    "set.seed(12345)\n",
    "\n",
    "# Sample without replacement as to ensure the starting time for each time series is different\n",
    "starting_points <- sample(1:((96*365)-(96*12*7)), \n",
    "                          length(total_df_list), \n",
    "                          replace=FALSE)\n",
    "\n",
    "# Create the ending points by adding on 12 weeks to the starting points\n",
    "ending_points <- starting_points + (96*7*12) - 1"
   ]
  },
  {
   "cell_type": "code",
   "execution_count": 8,
   "id": "e4637452",
   "metadata": {},
   "outputs": [],
   "source": [
    "write.csv(data.frame(start=starting_points,\n",
    "                     end=ending_points),\n",
    "          \"unseen_sensor_start_end_points.csv\"\n",
    "          )"
   ]
  },
  {
   "cell_type": "code",
   "execution_count": 9,
   "id": "40dd9ace",
   "metadata": {},
   "outputs": [],
   "source": [
    "# For each df in our list, create a row number column called 'rn' - this will allow us to find the starting point\n",
    "# for each sample using the above starting_points array\n",
    "total_df_list <- lapply(total_df_list, function(x) x %>% mutate(rn = row_number()))"
   ]
  },
  {
   "cell_type": "code",
   "execution_count": 10,
   "id": "e17fc300",
   "metadata": {},
   "outputs": [],
   "source": [
    "# Sample each df in the list according to its corresponding starting and ending point - this creates 12-week\n",
    "# long samples of each data frame which will be used for modeling and testing\n",
    "total_df_list_samples <- lapply(1:length(total_df_list), \n",
    "                                function(x) total_df_list[[x]] %>% \n",
    "                                    filter(rn >= starting_points[x]) %>%\n",
    "                                    filter(rn <= ending_points[x]))"
   ]
  },
  {
   "cell_type": "code",
   "execution_count": 11,
   "id": "ff73f1a9",
   "metadata": {},
   "outputs": [],
   "source": [
    "# Add a new column to each data frame to denote whether each row should be part of the training set, validation set\n",
    "# or test set - the first 8 weeks are designated as train, the next 2 as val, and the final 2 as test. It may be \n",
    "# the case that train and val get used for training, depending on the modeling task\n",
    "total_df_list_samples <- lapply(total_df_list_samples, \n",
    "                                function(x) x %>% mutate(rn = row_number()) %>%\n",
    "                                    mutate(train_val_test = ifelse(rn <= (96*7*8), \n",
    "                                                                   \"train\", \n",
    "                                                                   ifelse(rn <= (96*7*10), \n",
    "                                                                          \"val\", \n",
    "                                                                          \"test\")))\n",
    "                                \n",
    "                               )"
   ]
  },
  {
   "cell_type": "markdown",
   "id": "7c27859c",
   "metadata": {},
   "source": [
    "# Functions for Global AR"
   ]
  },
  {
   "cell_type": "code",
   "execution_count": 12,
   "id": "2491157a",
   "metadata": {},
   "outputs": [],
   "source": [
    "lag_embed <- function(data, lag=1) {\n",
    "    # This function creates a lag emebedded matrix at the provided lag level. It assumes there is a train_val_test\n",
    "    # in the input data frame, and returns a list of the training, validaiton, and test data as lag matrices\n",
    "    \n",
    "    # Compute the number of rows of test and validation data\n",
    "    n_test <- nrow(data %>% filter(train_val_test==\"test\"))\n",
    "    n_val <- nrow(data %>% filter(train_val_test==\"val\"))\n",
    "    \n",
    "    # Lag embed the entire time series - note we use the input lag+1 to account for the target variable\n",
    "    embed_mat <- embed(data$total_volume, (lag+1))\n",
    "\n",
    "    # Get the total numebr of rows in the lag matrix\n",
    "    n_mat <- nrow(embed_mat)\n",
    "    \n",
    "    # Based on the number of rows in the matrix and the number of test and validation samples,\n",
    "    # compute the indexes which correspond to test and validation\n",
    "    test_idx <- rev(1:n_mat)[1:n_test]\n",
    "    val_idx <- rev(1:n_mat)[-c(1:n_test)][1:n_val]\n",
    "    \n",
    "    # Remoe the test and val indexes to get the training matrix\n",
    "    train_mat <- embed_mat[-c(val_idx, test_idx),]\n",
    "    \n",
    "    # Filter using the above computed indexes to get the validaiton and test matrices\n",
    "    val_mat <- embed_mat[val_idx,]\n",
    "    test_mat <- embed_mat[test_idx,]\n",
    "    \n",
    "    # Return a list of the trianing, validation, and test lag-embedded matrices\n",
    "    return_list <- list(\"train\"=train_mat, \"val\"=val_mat, \"test\"=test_mat)\n",
    "}"
   ]
  },
  {
   "cell_type": "code",
   "execution_count": 13,
   "id": "508b2dab",
   "metadata": {},
   "outputs": [],
   "source": [
    "global_ar_least_squares_pred <- function(model,\n",
    "                                         test_list,\n",
    "                                         return_preds=TRUE,\n",
    "                                         return_means=TRUE\n",
    "                                        ) \n",
    "{\n",
    "    # Function which takes in a model and a list of test matrices and makes predictions \n",
    "    # and computes performance measurements on that test data\n",
    "    \n",
    "    # Rename the model object\n",
    "    big_lm_mod <- model\n",
    "    \n",
    "    # Initialize an empty df for storing the predictions\n",
    "    test_preds <- data.frame()\n",
    "    # For each matrix in the test list\n",
    "    for (test_t in 1:length(test_list)) {\n",
    "        # Compute the one-step ahead predictions\n",
    "        test_pred <- data.frame(forec=predict(big_lm_mod, newdata=test_list[[test_t]]), ts_index=test_t)\n",
    "        # Append those to the test_pred df\n",
    "        test_preds <- rbind(test_preds, test_pred)\n",
    "    }\n",
    "\n",
    "    # Initialize empty lists for rmse, mae, and means\n",
    "    test_rmse_ls <- c()\n",
    "    test_mae_ls <- c()\n",
    "    test_means <- c()\n",
    "    \n",
    "    # Loop through each time series in the data set and\n",
    "    for (idx in 1:length(test_list)) {\n",
    "        \n",
    "        # Compute the mean and append to the list of means\n",
    "        test_mean_i <- mean(test_list[[idx]][,1])\n",
    "        test_means <- c(test_means, test_mean_i)\n",
    "        \n",
    "        # Compute the prediction RMSE and append to the list of RMSE\n",
    "        rmse_test_i <- rmse(test_list[[idx]][,1], (test_preds %>% filter(ts_index==idx))$forec)\n",
    "        test_rmse_ls <- c(test_rmse_ls, rmse_test_i)\n",
    "    \n",
    "        # Copmute the MAE of the predictions and append to list\n",
    "        mae_test_i <- mae(test_list[[idx]][,1], (test_preds %>% filter(ts_index==idx))$forec)\n",
    "        test_mae_ls <- c(test_mae_ls, mae_test_i)\n",
    "    }\n",
    "    \n",
    "    # Set up the return_list to include the rmse and mae lists\n",
    "    return_list <- list(\"test_rmse\"=test_rmse_ls, \"test_mae\"=test_mae_ls)\n",
    "    \n",
    "    # If the user specifies, return the test set predicitons and the target means as well\n",
    "    if (return_preds) {\n",
    "        return_list <- append(return_list, list(\"test_preds\"=test_preds))\n",
    "    }\n",
    "    \n",
    "    if (return_means) {\n",
    "        return_list <- append(return_list, list(\"test_means\"=test_means))\n",
    "    }\n",
    "    \n",
    "    # Return the return_list\n",
    "    return_list        \n",
    "}"
   ]
  },
  {
   "cell_type": "code",
   "execution_count": 14,
   "id": "03dcb8f8",
   "metadata": {},
   "outputs": [],
   "source": [
    "bootstrap_pred_int <- function(predictions,\n",
    "                               residuals,\n",
    "                               n_boot,\n",
    "                               actuals=NULL\n",
    "                              ) \n",
    "{\n",
    "    # Function to compute prediction intervals using bootstrapping with model residuals\n",
    "    # function takes in the predicted values, the model residuals, the number of bootstrap samples to use,\n",
    "    # and an optional set of true values (used for computing prediction interval scores)\n",
    "    \n",
    "    # Intialize empty lists for the hi and lo components of the 80% nad 95% PIs\n",
    "    boot_lo_80 <- c()\n",
    "    boot_hi_80 <- c()\n",
    "    boot_lo_95 <- c()\n",
    "    boot_hi_95 <- c()\n",
    "\n",
    "    # Loop through every row in the predictions\n",
    "    for (i in 1:nrow(predictions)){\n",
    "        # Reset the seed to the loop counter - could make this more random, but this is for reproducibility\n",
    "        set.seed(i)\n",
    "        \n",
    "        # Sample with replacement from the residuals n_boot times\n",
    "        boot_samples <- sample(residuals, n_boot, replace=TRUE)\n",
    "        # Add the predicted value to each sample\n",
    "        boot_preds <- boot_samples + predictions$forec[i]\n",
    "        \n",
    "        # Compute the PIs as the quantiles of these pred+boot values\n",
    "        boot_pred_lo_80 <- quantile(boot_preds, 0.1)\n",
    "        boot_pred_hi_80 <- quantile(boot_preds, 0.9)\n",
    "\n",
    "        boot_pred_lo_95 <- quantile(boot_preds, 0.025)\n",
    "        boot_pred_hi_95 <- quantile(boot_preds, 0.975)\n",
    "        \n",
    "        # Append the PI values to the lists\n",
    "        boot_lo_80 <- c(boot_lo_80, boot_pred_lo_80)\n",
    "        boot_hi_80 <- c(boot_hi_80, boot_pred_hi_80)\n",
    "\n",
    "        boot_lo_95 <- c(boot_lo_95, boot_pred_lo_95)\n",
    "        boot_hi_95 <- c(boot_hi_95, boot_pred_hi_95)        \n",
    "    }\n",
    "    \n",
    "    # Create a copy of the input df called predicitons\n",
    "    pred_w_boot_int_df <- predictions\n",
    "    \n",
    "    # Add columns to the df for the PIs\n",
    "    pred_w_boot_int_df$lo_80 <- boot_lo_80\n",
    "    pred_w_boot_int_df$hi_80 <- boot_hi_80\n",
    "    pred_w_boot_int_df$lo_95 <- boot_lo_95\n",
    "    pred_w_boot_int_df$hi_95 <- boot_hi_95\n",
    "    \n",
    "    # If the true values are included\n",
    "    if (!is.null(actuals)){\n",
    "        \n",
    "        # Add a column for the true values\n",
    "        pred_w_boot_int_df$true_values <- actuals\n",
    "        \n",
    "        # Compute the 80% and 95% interval scores and add them as columns in the df\n",
    "        pred_w_boot_int_df <- pred_w_boot_int_df %>%\n",
    "            mutate(int_score_80 = interval_score(true_values=true_values,\n",
    "                                                 lower=lo_80,\n",
    "                                                 upper=hi_80,\n",
    "                                                 interval_range=80,\n",
    "                                                 weigh=FALSE\n",
    "                                                )) %>% \n",
    "            mutate(int_score_95 = interval_score(true_values=true_values,\n",
    "                                                 lower=lo_95,\n",
    "                                                 upper=hi_95,\n",
    "                                                 interval_range=95,\n",
    "                                                 weigh=FALSE\n",
    "                                                ))\n",
    "    }\n",
    "    \n",
    "    # Return the final set of preds with PIs (and interval scores if applicable)\n",
    "    pred_w_boot_int_df\n",
    "    \n",
    "}"
   ]
  },
  {
   "cell_type": "markdown",
   "id": "4824f57e",
   "metadata": {},
   "source": [
    "# Global AR Model for Full Data Set"
   ]
  },
  {
   "cell_type": "code",
   "execution_count": 15,
   "id": "8907d435",
   "metadata": {},
   "outputs": [],
   "source": [
    "# Create the final lag embedd matrix list using the lag of 840\n",
    "embed_mat_list <- lapply(total_df_list_samples,\n",
    "                     function(x) lag_embed(x, lag=840))\n",
    "\n",
    "# Since we are training the full model now, we will combine the train and validation data to fit the model and only\n",
    "# test on the test data - thus, we split these up into two separate lists of lag matrices\n",
    "embed_train_val_list <- lapply(embed_mat_list,\n",
    "                           function(x) rbind(data.frame(x$train), data.frame(x$val)))\n",
    " \n",
    "embed_test_list <- lapply(embed_mat_list,\n",
    "                          function(x) data.frame(x$test))   "
   ]
  },
  {
   "cell_type": "code",
   "execution_count": 16,
   "id": "5b0696bd",
   "metadata": {},
   "outputs": [],
   "source": [
    "full_model <- readRDS(\"Results/Pooled Regression Full/global_ar_model.RData\")"
   ]
  },
  {
   "cell_type": "code",
   "execution_count": 17,
   "id": "021c06b1",
   "metadata": {},
   "outputs": [],
   "source": [
    "# Make predicitons on the test data using this model\n",
    "global_ar_full <- global_ar_least_squares_pred(full_model$model, embed_test_list, TRUE, TRUE)"
   ]
  },
  {
   "cell_type": "code",
   "execution_count": 18,
   "id": "0bc83711",
   "metadata": {},
   "outputs": [],
   "source": [
    "# Create a data frame of the test data\n",
    "test_data_full <- do.call(\"rbind\", embed_test_list)"
   ]
  },
  {
   "cell_type": "code",
   "execution_count": 19,
   "id": "da401b01",
   "metadata": {},
   "outputs": [],
   "source": [
    "# Create bootstrap pred intervals on the test data, using a bootstrap sample number of n_samp=1000\n",
    "# We could use a smaller n_samp for speed, but higher will give us a more accurate picture of the PIs\n",
    "n_samp <- 1000\n",
    "boot_test <- bootstrap_pred_int(global_ar_full$test_preds,\n",
    "                                full_model$train_residuals,\n",
    "                                n_samp,\n",
    "                                test_data_full[,1])     "
   ]
  },
  {
   "cell_type": "code",
   "execution_count": 20,
   "id": "79ab9346",
   "metadata": {},
   "outputs": [
    {
     "data": {
      "text/html": [
       "43.0763285029645"
      ],
      "text/latex": [
       "43.0763285029645"
      ],
      "text/markdown": [
       "43.0763285029645"
      ],
      "text/plain": [
       "[1] 43.07633"
      ]
     },
     "metadata": {},
     "output_type": "display_data"
    }
   ],
   "source": [
    "# Examine the model performance - it is quite similar to the training data, which is good\n",
    "mean(global_ar_full$test_rmse)"
   ]
  },
  {
   "cell_type": "code",
   "execution_count": 21,
   "id": "28afb61e",
   "metadata": {},
   "outputs": [
    {
     "data": {
      "text/html": [
       "28.1709357031364"
      ],
      "text/latex": [
       "28.1709357031364"
      ],
      "text/markdown": [
       "28.1709357031364"
      ],
      "text/plain": [
       "[1] 28.17094"
      ]
     },
     "metadata": {},
     "output_type": "display_data"
    }
   ],
   "source": [
    "mean(global_ar_full$test_mae)"
   ]
  },
  {
   "cell_type": "code",
   "execution_count": 22,
   "id": "84c3cf55",
   "metadata": {},
   "outputs": [
    {
     "data": {
      "text/html": [
       "0.123987289240452"
      ],
      "text/latex": [
       "0.123987289240452"
      ],
      "text/markdown": [
       "0.123987289240452"
      ],
      "text/plain": [
       "[1] 0.1239873"
      ]
     },
     "metadata": {},
     "output_type": "display_data"
    }
   ],
   "source": [
    "mean(global_ar_full$test_rmse/global_ar_full$test_means)"
   ]
  },
  {
   "cell_type": "code",
   "execution_count": 23,
   "id": "8e3913f6",
   "metadata": {},
   "outputs": [
    {
     "data": {
      "text/html": [
       "0.0854549746849575"
      ],
      "text/latex": [
       "0.0854549746849575"
      ],
      "text/markdown": [
       "0.0854549746849575"
      ],
      "text/plain": [
       "[1] 0.08545497"
      ]
     },
     "metadata": {},
     "output_type": "display_data"
    }
   ],
   "source": [
    "mean(global_ar_full$test_mae/global_ar_full$test_means)"
   ]
  },
  {
   "cell_type": "code",
   "execution_count": 24,
   "id": "cf6d14c8",
   "metadata": {},
   "outputs": [
    {
     "data": {
      "text/html": [
       "180.848290014467"
      ],
      "text/latex": [
       "180.848290014467"
      ],
      "text/markdown": [
       "180.848290014467"
      ],
      "text/plain": [
       "[1] 180.8483"
      ]
     },
     "metadata": {},
     "output_type": "display_data"
    }
   ],
   "source": [
    "mean((boot_test %>% group_by(ts_index) %>% summarise(int_score_80=mean(int_score_80)))$int_score_80)"
   ]
  },
  {
   "cell_type": "code",
   "execution_count": 29,
   "id": "3a863f70",
   "metadata": {},
   "outputs": [
    {
     "data": {
      "text/html": [
       "0.520213381283516"
      ],
      "text/latex": [
       "0.520213381283516"
      ],
      "text/markdown": [
       "0.520213381283516"
      ],
      "text/plain": [
       "[1] 0.5202134"
      ]
     },
     "metadata": {},
     "output_type": "display_data"
    }
   ],
   "source": [
    "mean((boot_test %>% group_by(ts_index) %>% summarise(int_score_80=mean(int_score_80)))$int_score_80/\n",
    "global_ar_full$test_means)"
   ]
  },
  {
   "cell_type": "code",
   "execution_count": 25,
   "id": "1d282ff4",
   "metadata": {},
   "outputs": [
    {
     "data": {
      "text/html": [
       "380.960489578499"
      ],
      "text/latex": [
       "380.960489578499"
      ],
      "text/markdown": [
       "380.960489578499"
      ],
      "text/plain": [
       "[1] 380.9605"
      ]
     },
     "metadata": {},
     "output_type": "display_data"
    }
   ],
   "source": [
    "mean((boot_test %>% group_by(ts_index) %>% summarise(int_score_95=mean(int_score_95)))$int_score_95)"
   ]
  },
  {
   "cell_type": "code",
   "execution_count": 30,
   "id": "d6e9fd27",
   "metadata": {},
   "outputs": [
    {
     "data": {
      "text/html": [
       "1.01713556368193"
      ],
      "text/latex": [
       "1.01713556368193"
      ],
      "text/markdown": [
       "1.01713556368193"
      ],
      "text/plain": [
       "[1] 1.017136"
      ]
     },
     "metadata": {},
     "output_type": "display_data"
    }
   ],
   "source": [
    "mean((boot_test %>% group_by(ts_index) %>% summarise(int_score_95=mean(int_score_95)))$int_score_95/\n",
    "global_ar_full$test_means)"
   ]
  },
  {
   "cell_type": "markdown",
   "id": "47251fd3",
   "metadata": {},
   "source": [
    "# Global AR Model for Highway System"
   ]
  },
  {
   "cell_type": "code",
   "execution_count": 31,
   "id": "ba310b99",
   "metadata": {},
   "outputs": [],
   "source": [
    "highways_england_model <- readRDS(\"Results/Pooled Regression Clustering/Country/global_ar_model_country_1.RData\")"
   ]
  },
  {
   "cell_type": "code",
   "execution_count": 32,
   "id": "a793d695",
   "metadata": {},
   "outputs": [],
   "source": [
    "# Make predicitons on the test data using this model\n",
    "global_ar_england_pred <- global_ar_least_squares_pred(highways_england_model$model, embed_test_list, TRUE, TRUE)"
   ]
  },
  {
   "cell_type": "code",
   "execution_count": 33,
   "id": "7108238a",
   "metadata": {},
   "outputs": [],
   "source": [
    "# Create bootstrap pred intervals on the test data, using a bootstrap sample number of n_samp=1000\n",
    "# We could use a smaller n_samp for speed, but higher will give us a more accurate picture of the PIs\n",
    "n_samp <- 1000\n",
    "boot_test_england <- bootstrap_pred_int(global_ar_england_pred$test_preds,\n",
    "                                        highways_england_model$train_residuals,\n",
    "                                        n_samp,\n",
    "                                        test_data_full[,1])    "
   ]
  },
  {
   "cell_type": "code",
   "execution_count": 34,
   "id": "d9e36066",
   "metadata": {},
   "outputs": [
    {
     "data": {
      "text/html": [
       "43.0701166110167"
      ],
      "text/latex": [
       "43.0701166110167"
      ],
      "text/markdown": [
       "43.0701166110167"
      ],
      "text/plain": [
       "[1] 43.07012"
      ]
     },
     "metadata": {},
     "output_type": "display_data"
    }
   ],
   "source": [
    "# Examine the model performance - it is quite similar to the training data, which is good\n",
    "mean(global_ar_england_pred$test_rmse)"
   ]
  },
  {
   "cell_type": "code",
   "execution_count": 35,
   "id": "87b9e436",
   "metadata": {},
   "outputs": [
    {
     "data": {
      "text/html": [
       "28.2005344753614"
      ],
      "text/latex": [
       "28.2005344753614"
      ],
      "text/markdown": [
       "28.2005344753614"
      ],
      "text/plain": [
       "[1] 28.20053"
      ]
     },
     "metadata": {},
     "output_type": "display_data"
    }
   ],
   "source": [
    "mean(global_ar_england_pred$test_mae)"
   ]
  },
  {
   "cell_type": "code",
   "execution_count": 36,
   "id": "5e5a1707",
   "metadata": {},
   "outputs": [
    {
     "data": {
      "text/html": [
       "0.124187265418853"
      ],
      "text/latex": [
       "0.124187265418853"
      ],
      "text/markdown": [
       "0.124187265418853"
      ],
      "text/plain": [
       "[1] 0.1241873"
      ]
     },
     "metadata": {},
     "output_type": "display_data"
    }
   ],
   "source": [
    "mean(global_ar_england_pred$test_rmse/global_ar_england_pred$test_means)"
   ]
  },
  {
   "cell_type": "code",
   "execution_count": 37,
   "id": "6d073a9d",
   "metadata": {},
   "outputs": [
    {
     "data": {
      "text/html": [
       "0.0856501381038278"
      ],
      "text/latex": [
       "0.0856501381038278"
      ],
      "text/markdown": [
       "0.0856501381038278"
      ],
      "text/plain": [
       "[1] 0.08565014"
      ]
     },
     "metadata": {},
     "output_type": "display_data"
    }
   ],
   "source": [
    "mean(global_ar_england_pred$test_mae/global_ar_england_pred$test_means)"
   ]
  },
  {
   "cell_type": "code",
   "execution_count": 38,
   "id": "d2ba0c9e",
   "metadata": {},
   "outputs": [
    {
     "data": {
      "text/html": [
       "178.2300603813"
      ],
      "text/latex": [
       "178.2300603813"
      ],
      "text/markdown": [
       "178.2300603813"
      ],
      "text/plain": [
       "[1] 178.2301"
      ]
     },
     "metadata": {},
     "output_type": "display_data"
    }
   ],
   "source": [
    "mean((boot_test_england %>% group_by(ts_index) %>% summarise(int_score_80=mean(int_score_80)))$int_score_80)"
   ]
  },
  {
   "cell_type": "code",
   "execution_count": 68,
   "id": "379579e6",
   "metadata": {},
   "outputs": [
    {
     "data": {
      "text/html": [
       "0.543213315645244"
      ],
      "text/latex": [
       "0.543213315645244"
      ],
      "text/markdown": [
       "0.543213315645244"
      ],
      "text/plain": [
       "[1] 0.5432133"
      ]
     },
     "metadata": {},
     "output_type": "display_data"
    }
   ],
   "source": [
    "mean((boot_test_england %>% group_by(ts_index) %>% summarise(int_score_80=mean(int_score_80)))$int_score_80/\n",
    "global_ar_england_pred$test_means)"
   ]
  },
  {
   "cell_type": "code",
   "execution_count": 69,
   "id": "9a66aaf3",
   "metadata": {},
   "outputs": [
    {
     "data": {
      "text/html": [
       "367.030649869929"
      ],
      "text/latex": [
       "367.030649869929"
      ],
      "text/markdown": [
       "367.030649869929"
      ],
      "text/plain": [
       "[1] 367.0306"
      ]
     },
     "metadata": {},
     "output_type": "display_data"
    }
   ],
   "source": [
    "mean((boot_test_england %>% group_by(ts_index) %>% summarise(int_score_95=mean(int_score_95)))$int_score_95)"
   ]
  },
  {
   "cell_type": "code",
   "execution_count": 70,
   "id": "a412506a",
   "metadata": {},
   "outputs": [
    {
     "data": {
      "text/html": [
       "1.07928282373124"
      ],
      "text/latex": [
       "1.07928282373124"
      ],
      "text/markdown": [
       "1.07928282373124"
      ],
      "text/plain": [
       "[1] 1.079283"
      ]
     },
     "metadata": {},
     "output_type": "display_data"
    }
   ],
   "source": [
    "mean((boot_test_england %>% group_by(ts_index) %>% summarise(int_score_95=mean(int_score_95)))$int_score_95/\n",
    "global_ar_england_pred$test_means)"
   ]
  },
  {
   "cell_type": "markdown",
   "id": "6d879a2c",
   "metadata": {},
   "source": [
    "# Global AR Random Clustering"
   ]
  },
  {
   "cell_type": "code",
   "execution_count": 42,
   "id": "432aaa64",
   "metadata": {},
   "outputs": [
    {
     "data": {
      "text/html": [
       "<style>\n",
       ".list-inline {list-style: none; margin:0; padding: 0}\n",
       ".list-inline>li {display: inline-block}\n",
       ".list-inline>li:not(:last-child)::after {content: \"\\00b7\"; padding: 0 .5ex}\n",
       "</style>\n",
       "<ol class=list-inline><li>3</li><li>2</li><li>1</li><li>4</li></ol>\n"
      ],
      "text/latex": [
       "\\begin{enumerate*}\n",
       "\\item 3\n",
       "\\item 2\n",
       "\\item 1\n",
       "\\item 4\n",
       "\\end{enumerate*}\n"
      ],
      "text/markdown": [
       "1. 3\n",
       "2. 2\n",
       "3. 1\n",
       "4. 4\n",
       "\n",
       "\n"
      ],
      "text/plain": [
       "[1] 3 2 1 4"
      ]
     },
     "metadata": {},
     "output_type": "display_data"
    }
   ],
   "source": [
    "clust_assign$rand"
   ]
  },
  {
   "cell_type": "code",
   "execution_count": 43,
   "id": "fc9428ce",
   "metadata": {},
   "outputs": [],
   "source": [
    "rand_clust_mod3 <- readRDS(\"Results/Pooled Regression Clustering/Random Clustering/global_ar_model_cluster_3.RData\")\n",
    "rand_clust_mod2 <- readRDS(\"Results/Pooled Regression Clustering/Random Clustering/global_ar_model_cluster_2.RData\")\n",
    "rand_clust_mod1 <- readRDS(\"Results/Pooled Regression Clustering/Random Clustering/global_ar_model_cluster_1.RData\")\n",
    "rand_clust_mod4 <- readRDS(\"Results/Pooled Regression Clustering/Random Clustering/global_ar_model_cluster_4.RData\")"
   ]
  },
  {
   "cell_type": "code",
   "execution_count": 44,
   "id": "8acfd26d",
   "metadata": {},
   "outputs": [],
   "source": [
    "# Make predicitons on the test data using this model\n",
    "test_pred_clust3 <- global_ar_least_squares_pred(rand_clust_mod3$model, embed_test_list[1], TRUE, TRUE)\n",
    "\n",
    "test_pred_clust2 <- global_ar_least_squares_pred(rand_clust_mod2$model, embed_test_list[2], TRUE, TRUE)\n",
    "\n",
    "test_pred_clust1 <- global_ar_least_squares_pred(rand_clust_mod2$model, embed_test_list[3], TRUE, TRUE)\n",
    "\n",
    "test_pred_clust4 <- global_ar_least_squares_pred(rand_clust_mod2$model, embed_test_list[4], TRUE, TRUE)"
   ]
  },
  {
   "cell_type": "code",
   "execution_count": 45,
   "id": "01084f2b",
   "metadata": {},
   "outputs": [],
   "source": [
    "# Create bootstrap pred intervals on the test data, using a bootstrap sample number of n_samp=1000\n",
    "# We could use a smaller n_samp for speed, but higher will give us a more accurate picture of the PIs\n",
    "n_samp <- 1000\n",
    "boot_testclust3 <- bootstrap_pred_int(test_pred_clust3$test_preds,\n",
    "                                      rand_clust_mod3$train_residuals,\n",
    "                                      n_samp,\n",
    "                                      embed_test_list[[1]][,1]) \n",
    "\n",
    "boot_testclust2 <- bootstrap_pred_int(test_pred_clust2$test_preds,\n",
    "                                      rand_clust_mod2$train_residuals,\n",
    "                                      n_samp,\n",
    "                                      embed_test_list[[2]][,1]) \n",
    "\n",
    "boot_testclust1 <- bootstrap_pred_int(test_pred_clust1$test_preds,\n",
    "                                      rand_clust_mod1$train_residuals,\n",
    "                                      n_samp,\n",
    "                                      embed_test_list[[3]][,1]) \n",
    "\n",
    "boot_testclust4 <- bootstrap_pred_int(test_pred_clust4$test_preds,\n",
    "                                      rand_clust_mod4$train_residuals,\n",
    "                                      n_samp,\n",
    "                                      embed_test_list[[4]][,1]) "
   ]
  },
  {
   "cell_type": "code",
   "execution_count": 46,
   "id": "b93ba9f0",
   "metadata": {},
   "outputs": [
    {
     "data": {
      "text/html": [
       "43.746311784605"
      ],
      "text/latex": [
       "43.746311784605"
      ],
      "text/markdown": [
       "43.746311784605"
      ],
      "text/plain": [
       "[1] 43.74631"
      ]
     },
     "metadata": {},
     "output_type": "display_data"
    }
   ],
   "source": [
    "mean(c(test_pred_clust3$test_rmse, test_pred_clust2$test_rmse, \n",
    "       test_pred_clust1$test_rmse, test_pred_clust4$test_rmse))"
   ]
  },
  {
   "cell_type": "code",
   "execution_count": 47,
   "id": "358b9eb6",
   "metadata": {},
   "outputs": [
    {
     "data": {
      "text/html": [
       "28.8643544415619"
      ],
      "text/latex": [
       "28.8643544415619"
      ],
      "text/markdown": [
       "28.8643544415619"
      ],
      "text/plain": [
       "[1] 28.86435"
      ]
     },
     "metadata": {},
     "output_type": "display_data"
    }
   ],
   "source": [
    "mean(c(test_pred_clust3$test_mae, test_pred_clust2$test_mae,\n",
    "       test_pred_clust1$test_mae, test_pred_clust4$test_mae))"
   ]
  },
  {
   "cell_type": "code",
   "execution_count": 48,
   "id": "ea0d424a",
   "metadata": {},
   "outputs": [
    {
     "data": {
      "text/html": [
       "0.126203306053736"
      ],
      "text/latex": [
       "0.126203306053736"
      ],
      "text/markdown": [
       "0.126203306053736"
      ],
      "text/plain": [
       "[1] 0.1262033"
      ]
     },
     "metadata": {},
     "output_type": "display_data"
    }
   ],
   "source": [
    "mean(c(test_pred_clust3$test_rmse, test_pred_clust2$test_rmse, test_pred_clust1$test_rmse, test_pred_clust4$test_rmse)/\n",
    "     c(test_pred_clust3$test_means, test_pred_clust2$test_means, test_pred_clust1$test_means, test_pred_clust4$test_means))"
   ]
  },
  {
   "cell_type": "code",
   "execution_count": 49,
   "id": "366155b3",
   "metadata": {},
   "outputs": [
    {
     "data": {
      "text/html": [
       "0.0875321797789052"
      ],
      "text/latex": [
       "0.0875321797789052"
      ],
      "text/markdown": [
       "0.0875321797789052"
      ],
      "text/plain": [
       "[1] 0.08753218"
      ]
     },
     "metadata": {},
     "output_type": "display_data"
    }
   ],
   "source": [
    "mean(c(test_pred_clust3$test_mae, test_pred_clust2$test_mae, test_pred_clust1$test_mae, test_pred_clust4$test_mae)/\n",
    "     c(test_pred_clust3$test_means, test_pred_clust2$test_means, test_pred_clust1$test_means, test_pred_clust4$test_means))"
   ]
  },
  {
   "cell_type": "code",
   "execution_count": 50,
   "id": "789baa70",
   "metadata": {},
   "outputs": [
    {
     "data": {
      "text/html": [
       "182.902736602174"
      ],
      "text/latex": [
       "182.902736602174"
      ],
      "text/markdown": [
       "182.902736602174"
      ],
      "text/plain": [
       "[1] 182.9027"
      ]
     },
     "metadata": {},
     "output_type": "display_data"
    }
   ],
   "source": [
    "mean((rbind(boot_testclust3, boot_testclust2, boot_testclust1, boot_testclust4))$int_score_80)"
   ]
  },
  {
   "cell_type": "code",
   "execution_count": 56,
   "id": "daeb55a3",
   "metadata": {},
   "outputs": [
    {
     "data": {
      "text/html": [
       "0.530200681172027"
      ],
      "text/latex": [
       "0.530200681172027"
      ],
      "text/markdown": [
       "0.530200681172027"
      ],
      "text/plain": [
       "[1] 0.5302007"
      ]
     },
     "metadata": {},
     "output_type": "display_data"
    }
   ],
   "source": [
    "mean(c(mean(boot_testclust3$int_score_80), mean(boot_testclust2$int_score_80), \n",
    "mean(boot_testclust1$int_score_80), mean(boot_testclust4$int_score_80))/\n",
    "c(test_pred_clust3$test_means, test_pred_clust2$test_means, \n",
    "  test_pred_clust1$test_means, test_pred_clust4$test_means))"
   ]
  },
  {
   "cell_type": "code",
   "execution_count": 57,
   "id": "a2d7d9af",
   "metadata": {},
   "outputs": [
    {
     "data": {
      "text/html": [
       "372.583972595742"
      ],
      "text/latex": [
       "372.583972595742"
      ],
      "text/markdown": [
       "372.583972595742"
      ],
      "text/plain": [
       "[1] 372.584"
      ]
     },
     "metadata": {},
     "output_type": "display_data"
    }
   ],
   "source": [
    "mean((rbind(boot_testclust3, boot_testclust2, boot_testclust1, boot_testclust4))$int_score_95)"
   ]
  },
  {
   "cell_type": "code",
   "execution_count": 58,
   "id": "1cf9968d",
   "metadata": {},
   "outputs": [
    {
     "data": {
      "text/html": [
       "1.01648108301664"
      ],
      "text/latex": [
       "1.01648108301664"
      ],
      "text/markdown": [
       "1.01648108301664"
      ],
      "text/plain": [
       "[1] 1.016481"
      ]
     },
     "metadata": {},
     "output_type": "display_data"
    }
   ],
   "source": [
    "mean(c(mean(boot_testclust3$int_score_95), mean(boot_testclust2$int_score_95), \n",
    "mean(boot_testclust1$int_score_95), mean(boot_testclust4$int_score_95))/\n",
    "c(test_pred_clust3$test_means, test_pred_clust2$test_means, \n",
    "  test_pred_clust1$test_means, test_pred_clust4$test_means))"
   ]
  },
  {
   "cell_type": "markdown",
   "id": "9f5976ee",
   "metadata": {},
   "source": [
    "# Global AR Catch22"
   ]
  },
  {
   "cell_type": "code",
   "execution_count": 59,
   "id": "59c44848",
   "metadata": {},
   "outputs": [
    {
     "data": {
      "text/html": [
       "<style>\n",
       ".list-inline {list-style: none; margin:0; padding: 0}\n",
       ".list-inline>li {display: inline-block}\n",
       ".list-inline>li:not(:last-child)::after {content: \"\\00b7\"; padding: 0 .5ex}\n",
       "</style>\n",
       "<ol class=list-inline><li>1</li><li>1</li><li>1</li><li>1</li></ol>\n"
      ],
      "text/latex": [
       "\\begin{enumerate*}\n",
       "\\item 1\n",
       "\\item 1\n",
       "\\item 1\n",
       "\\item 1\n",
       "\\end{enumerate*}\n"
      ],
      "text/markdown": [
       "1. 1\n",
       "2. 1\n",
       "3. 1\n",
       "4. 1\n",
       "\n",
       "\n"
      ],
      "text/plain": [
       "[1] 1 1 1 1"
      ]
     },
     "metadata": {},
     "output_type": "display_data"
    }
   ],
   "source": [
    "clust_assign$catch22"
   ]
  },
  {
   "cell_type": "code",
   "execution_count": 60,
   "id": "e1ffc619",
   "metadata": {},
   "outputs": [],
   "source": [
    "catch22_mod1 <- readRDS(\"Results/Pooled Regression Clustering/KMeans/global_ar_model_kmeans_catch22_clust_1.RData\")"
   ]
  },
  {
   "cell_type": "code",
   "execution_count": 61,
   "id": "4e05cb84",
   "metadata": {},
   "outputs": [],
   "source": [
    "# Make predicitons on the test data using this model\n",
    "test_pred_catch22_clust1 <- global_ar_least_squares_pred(catch22_mod1$model, \n",
    "                                                         embed_test_list, TRUE, TRUE)"
   ]
  },
  {
   "cell_type": "code",
   "execution_count": 62,
   "id": "e984f434",
   "metadata": {},
   "outputs": [],
   "source": [
    "# Create bootstrap pred intervals on the test data, using a bootstrap sample number of n_samp=1000\n",
    "# We could use a smaller n_samp for speed, but higher will give us a more accurate picture of the PIs\n",
    "n_samp <- 1000\n",
    "boot_catch22_testclust1 <- bootstrap_pred_int(test_pred_catch22_clust1$test_preds,\n",
    "                                              catch22_mod1$train_residuals,\n",
    "                                              n_samp,\n",
    "                                              test_data_full[,1])"
   ]
  },
  {
   "cell_type": "code",
   "execution_count": 63,
   "id": "1cbc2a92",
   "metadata": {},
   "outputs": [
    {
     "data": {
      "text/html": [
       "43.2471658346561"
      ],
      "text/latex": [
       "43.2471658346561"
      ],
      "text/markdown": [
       "43.2471658346561"
      ],
      "text/plain": [
       "[1] 43.24717"
      ]
     },
     "metadata": {},
     "output_type": "display_data"
    }
   ],
   "source": [
    "mean(test_pred_catch22_clust1$test_rmse)"
   ]
  },
  {
   "cell_type": "code",
   "execution_count": 64,
   "id": "01b5834c",
   "metadata": {},
   "outputs": [
    {
     "data": {
      "text/html": [
       "28.3000728065388"
      ],
      "text/latex": [
       "28.3000728065388"
      ],
      "text/markdown": [
       "28.3000728065388"
      ],
      "text/plain": [
       "[1] 28.30007"
      ]
     },
     "metadata": {},
     "output_type": "display_data"
    }
   ],
   "source": [
    "mean(test_pred_catch22_clust1$test_mae)"
   ]
  },
  {
   "cell_type": "code",
   "execution_count": 65,
   "id": "90b9abe8",
   "metadata": {},
   "outputs": [
    {
     "data": {
      "text/html": [
       "0.124448316149197"
      ],
      "text/latex": [
       "0.124448316149197"
      ],
      "text/markdown": [
       "0.124448316149197"
      ],
      "text/plain": [
       "[1] 0.1244483"
      ]
     },
     "metadata": {},
     "output_type": "display_data"
    }
   ],
   "source": [
    "mean(test_pred_catch22_clust1$test_rmse/test_pred_catch22_clust1$test_means)"
   ]
  },
  {
   "cell_type": "code",
   "execution_count": 66,
   "id": "cdbce126",
   "metadata": {},
   "outputs": [
    {
     "data": {
      "text/html": [
       "0.0858002828520595"
      ],
      "text/latex": [
       "0.0858002828520595"
      ],
      "text/markdown": [
       "0.0858002828520595"
      ],
      "text/plain": [
       "[1] 0.08580028"
      ]
     },
     "metadata": {},
     "output_type": "display_data"
    }
   ],
   "source": [
    "mean(test_pred_catch22_clust1$test_mae/test_pred_catch22_clust1$test_means)"
   ]
  },
  {
   "cell_type": "code",
   "execution_count": 67,
   "id": "0025d4e3",
   "metadata": {},
   "outputs": [
    {
     "data": {
      "text/html": [
       "180.341472749553"
      ],
      "text/latex": [
       "180.341472749553"
      ],
      "text/markdown": [
       "180.341472749553"
      ],
      "text/plain": [
       "[1] 180.3415"
      ]
     },
     "metadata": {},
     "output_type": "display_data"
    }
   ],
   "source": [
    "mean((boot_catch22_testclust1 %>% group_by(ts_index) %>% summarise(int_score_80=mean(int_score_80)))$int_score_80)"
   ]
  },
  {
   "cell_type": "code",
   "execution_count": 73,
   "id": "5536b625",
   "metadata": {},
   "outputs": [
    {
     "data": {
      "text/html": [
       "0.527706373637033"
      ],
      "text/latex": [
       "0.527706373637033"
      ],
      "text/markdown": [
       "0.527706373637033"
      ],
      "text/plain": [
       "[1] 0.5277064"
      ]
     },
     "metadata": {},
     "output_type": "display_data"
    }
   ],
   "source": [
    "mean((boot_catch22_testclust1 %>% group_by(ts_index) %>% summarise(int_score_80=mean(int_score_80)))$int_score_80/\n",
    "test_pred_catch22_clust1$test_means)"
   ]
  },
  {
   "cell_type": "code",
   "execution_count": 72,
   "id": "52bc9d46",
   "metadata": {},
   "outputs": [
    {
     "data": {
      "text/html": [
       "382.075430769927"
      ],
      "text/latex": [
       "382.075430769927"
      ],
      "text/markdown": [
       "382.075430769927"
      ],
      "text/plain": [
       "[1] 382.0754"
      ]
     },
     "metadata": {},
     "output_type": "display_data"
    }
   ],
   "source": [
    "mean((boot_catch22_testclust1 %>% group_by(ts_index) %>% summarise(int_score_95=mean(int_score_95)))$int_score_95)"
   ]
  },
  {
   "cell_type": "code",
   "execution_count": 71,
   "id": "984256b4",
   "metadata": {},
   "outputs": [
    {
     "data": {
      "text/html": [
       "1.02586941432438"
      ],
      "text/latex": [
       "1.02586941432438"
      ],
      "text/markdown": [
       "1.02586941432438"
      ],
      "text/plain": [
       "[1] 1.025869"
      ]
     },
     "metadata": {},
     "output_type": "display_data"
    }
   ],
   "source": [
    "mean((boot_catch22_testclust1 %>% group_by(ts_index) %>% summarise(int_score_95=mean(int_score_95)))$int_score_95/\n",
    "test_pred_catch22_clust1$test_means)"
   ]
  },
  {
   "cell_type": "markdown",
   "id": "5a12279a",
   "metadata": {},
   "source": [
    "# GlobalAR TSFeat"
   ]
  },
  {
   "cell_type": "code",
   "execution_count": 74,
   "id": "43c9beca",
   "metadata": {},
   "outputs": [
    {
     "data": {
      "text/html": [
       "<style>\n",
       ".list-inline {list-style: none; margin:0; padding: 0}\n",
       ".list-inline>li {display: inline-block}\n",
       ".list-inline>li:not(:last-child)::after {content: \"\\00b7\"; padding: 0 .5ex}\n",
       "</style>\n",
       "<ol class=list-inline><li>2</li><li>2</li><li>2</li><li>1</li></ol>\n"
      ],
      "text/latex": [
       "\\begin{enumerate*}\n",
       "\\item 2\n",
       "\\item 2\n",
       "\\item 2\n",
       "\\item 1\n",
       "\\end{enumerate*}\n"
      ],
      "text/markdown": [
       "1. 2\n",
       "2. 2\n",
       "3. 2\n",
       "4. 1\n",
       "\n",
       "\n"
      ],
      "text/plain": [
       "[1] 2 2 2 1"
      ]
     },
     "metadata": {},
     "output_type": "display_data"
    }
   ],
   "source": [
    "clust_assign$tsfeat"
   ]
  },
  {
   "cell_type": "code",
   "execution_count": 75,
   "id": "0a3c29a7",
   "metadata": {},
   "outputs": [],
   "source": [
    "tsfeat_mod2 <- readRDS(\"Results/Pooled Regression Clustering/KMeans/global_ar_model_kmeans_tsfeat_clust_2.RData\")\n",
    "tsfeat_mod1 <- readRDS(\"Results/Pooled Regression Clustering/KMeans/global_ar_model_kmeans_tsfeat_clust_1.RData\")"
   ]
  },
  {
   "cell_type": "code",
   "execution_count": 76,
   "id": "78f705c7",
   "metadata": {},
   "outputs": [],
   "source": [
    "# Make predicitons on the test data using this model\n",
    "test_pred_tsfeat_clust2 <- global_ar_least_squares_pred(tsfeat_mod2$model, \n",
    "                                                        embed_test_list[1:3], TRUE, TRUE)\n",
    "\n",
    "test_pred_tsfeat_clust1 <- global_ar_least_squares_pred(tsfeat_mod1$model, \n",
    "                                                        embed_test_list[4], TRUE, TRUE)"
   ]
  },
  {
   "cell_type": "code",
   "execution_count": 77,
   "id": "d372ea1f",
   "metadata": {},
   "outputs": [],
   "source": [
    "# Create bootstrap pred intervals on the test data, using a bootstrap sample number of n_samp=1000\n",
    "# We could use a smaller n_samp for speed, but higher will give us a more accurate picture of the PIs\n",
    "n_samp <- 1000\n",
    "boot_tsfeat_testclust2 <- bootstrap_pred_int(test_pred_tsfeat_clust2$test_preds,\n",
    "                                             tsfeat_mod2$train_residuals,\n",
    "                                             n_samp,\n",
    "                                             do.call(rbind, embed_test_list[1:3])[,1])\n",
    "\n",
    "boot_tsfeat_testclust1 <- bootstrap_pred_int(test_pred_tsfeat_clust1$test_preds,\n",
    "                                             tsfeat_mod1$train_residuals,\n",
    "                                             n_samp,\n",
    "                                             embed_test_list[[4]][,1])"
   ]
  },
  {
   "cell_type": "code",
   "execution_count": 78,
   "id": "e6c5b85a",
   "metadata": {},
   "outputs": [
    {
     "data": {
      "text/html": [
       "43.1865318495937"
      ],
      "text/latex": [
       "43.1865318495937"
      ],
      "text/markdown": [
       "43.1865318495937"
      ],
      "text/plain": [
       "[1] 43.18653"
      ]
     },
     "metadata": {},
     "output_type": "display_data"
    }
   ],
   "source": [
    "mean(c(test_pred_tsfeat_clust2$test_rmse, test_pred_tsfeat_clust1$test_rmse))"
   ]
  },
  {
   "cell_type": "code",
   "execution_count": 79,
   "id": "b33d7a3d",
   "metadata": {},
   "outputs": [
    {
     "data": {
      "text/html": [
       "28.2578962331641"
      ],
      "text/latex": [
       "28.2578962331641"
      ],
      "text/markdown": [
       "28.2578962331641"
      ],
      "text/plain": [
       "[1] 28.2579"
      ]
     },
     "metadata": {},
     "output_type": "display_data"
    }
   ],
   "source": [
    "mean(c(test_pred_tsfeat_clust2$test_mae, test_pred_tsfeat_clust1$test_mae))"
   ]
  },
  {
   "cell_type": "code",
   "execution_count": 80,
   "id": "ec4543e7",
   "metadata": {},
   "outputs": [
    {
     "data": {
      "text/html": [
       "0.124199535512512"
      ],
      "text/latex": [
       "0.124199535512512"
      ],
      "text/markdown": [
       "0.124199535512512"
      ],
      "text/plain": [
       "[1] 0.1241995"
      ]
     },
     "metadata": {},
     "output_type": "display_data"
    }
   ],
   "source": [
    "mean(c(test_pred_tsfeat_clust2$test_rmse, test_pred_tsfeat_clust1$test_rmse)/\n",
    "    c(test_pred_tsfeat_clust2$test_means, test_pred_tsfeat_clust1$test_means))"
   ]
  },
  {
   "cell_type": "code",
   "execution_count": 81,
   "id": "80f80b87",
   "metadata": {},
   "outputs": [
    {
     "data": {
      "text/html": [
       "0.0855824722110224"
      ],
      "text/latex": [
       "0.0855824722110224"
      ],
      "text/markdown": [
       "0.0855824722110224"
      ],
      "text/plain": [
       "[1] 0.08558247"
      ]
     },
     "metadata": {},
     "output_type": "display_data"
    }
   ],
   "source": [
    "mean(c(test_pred_tsfeat_clust2$test_mae, test_pred_tsfeat_clust1$test_mae)/\n",
    "    c(test_pred_tsfeat_clust2$test_means, test_pred_tsfeat_clust1$test_means))"
   ]
  },
  {
   "cell_type": "code",
   "execution_count": 82,
   "id": "f1cb284c",
   "metadata": {},
   "outputs": [
    {
     "data": {
      "text/html": [
       "180.119508926548"
      ],
      "text/latex": [
       "180.119508926548"
      ],
      "text/markdown": [
       "180.119508926548"
      ],
      "text/plain": [
       "[1] 180.1195"
      ]
     },
     "metadata": {},
     "output_type": "display_data"
    }
   ],
   "source": [
    "mean(rbind(boot_tsfeat_testclust2, boot_tsfeat_testclust1)$int_score_80)"
   ]
  },
  {
   "cell_type": "code",
   "execution_count": 89,
   "id": "d62e4e13",
   "metadata": {},
   "outputs": [
    {
     "data": {
      "text/html": [
       "0.521811268829428"
      ],
      "text/latex": [
       "0.521811268829428"
      ],
      "text/markdown": [
       "0.521811268829428"
      ],
      "text/plain": [
       "[1] 0.5218113"
      ]
     },
     "metadata": {},
     "output_type": "display_data"
    }
   ],
   "source": [
    "mean(c((boot_tsfeat_testclust2 %>% group_by(ts_index) %>% summarise(int_score_80=mean(int_score_80)))$int_score_80,\n",
    "(boot_tsfeat_testclust1 %>% group_by(ts_index) %>% summarise(int_score_80=mean(int_score_80)))$int_score_80)/\n",
    "c(test_pred_tsfeat_clust2$test_means, test_pred_tsfeat_clust1$test_means))"
   ]
  },
  {
   "cell_type": "code",
   "execution_count": 90,
   "id": "ab22d732",
   "metadata": {},
   "outputs": [
    {
     "data": {
      "text/html": [
       "367.093257423783"
      ],
      "text/latex": [
       "367.093257423783"
      ],
      "text/markdown": [
       "367.093257423783"
      ],
      "text/plain": [
       "[1] 367.0933"
      ]
     },
     "metadata": {},
     "output_type": "display_data"
    }
   ],
   "source": [
    "mean(rbind(boot_tsfeat_testclust2, boot_tsfeat_testclust1)$int_score_95)"
   ]
  },
  {
   "cell_type": "code",
   "execution_count": 91,
   "id": "b05c870f",
   "metadata": {},
   "outputs": [
    {
     "data": {
      "text/html": [
       "0.995754611392214"
      ],
      "text/latex": [
       "0.995754611392214"
      ],
      "text/markdown": [
       "0.995754611392214"
      ],
      "text/plain": [
       "[1] 0.9957546"
      ]
     },
     "metadata": {},
     "output_type": "display_data"
    }
   ],
   "source": [
    "mean(c((boot_tsfeat_testclust2 %>% group_by(ts_index) %>% summarise(int_score_95=mean(int_score_95)))$int_score_95,\n",
    "(boot_tsfeat_testclust1 %>% group_by(ts_index) %>% summarise(int_score_95=mean(int_score_95)))$int_score_95)/\n",
    "c(test_pred_tsfeat_clust2$test_means, test_pred_tsfeat_clust1$test_means))"
   ]
  },
  {
   "cell_type": "markdown",
   "id": "4ebf8a92",
   "metadata": {},
   "source": [
    "# GlobalAR DTW"
   ]
  },
  {
   "cell_type": "code",
   "execution_count": 92,
   "id": "402748af",
   "metadata": {},
   "outputs": [
    {
     "data": {
      "text/html": [
       "<style>\n",
       ".list-inline {list-style: none; margin:0; padding: 0}\n",
       ".list-inline>li {display: inline-block}\n",
       ".list-inline>li:not(:last-child)::after {content: \"\\00b7\"; padding: 0 .5ex}\n",
       "</style>\n",
       "<ol class=list-inline><li>2</li><li>1</li><li>1</li><li>1</li></ol>\n"
      ],
      "text/latex": [
       "\\begin{enumerate*}\n",
       "\\item 2\n",
       "\\item 1\n",
       "\\item 1\n",
       "\\item 1\n",
       "\\end{enumerate*}\n"
      ],
      "text/markdown": [
       "1. 2\n",
       "2. 1\n",
       "3. 1\n",
       "4. 1\n",
       "\n",
       "\n"
      ],
      "text/plain": [
       "[1] 2 1 1 1"
      ]
     },
     "metadata": {},
     "output_type": "display_data"
    }
   ],
   "source": [
    "clust_assign$dtw"
   ]
  },
  {
   "cell_type": "code",
   "execution_count": 93,
   "id": "0cb27b91",
   "metadata": {},
   "outputs": [],
   "source": [
    "dtw_clust_mod2 <- readRDS(\"Results/Pooled Regression Clustering/DTW/global_ar_dtw_clust_2.RData\")\n",
    "dtw_clust_mod1 <- readRDS(\"Results/Pooled Regression Clustering/DTW/global_ar_dtw_clust_1.RData\")"
   ]
  },
  {
   "cell_type": "code",
   "execution_count": 94,
   "id": "3c376a21",
   "metadata": {},
   "outputs": [],
   "source": [
    "# Make predicitons on the test data using this model\n",
    "# Make predicitons on the test data using this model\n",
    "test_pred_dtw_clust2 <- global_ar_least_squares_pred(dtw_clust_mod2$model,\n",
    "                                                     embed_test_list[1], TRUE, TRUE)\n",
    "\n",
    "test_pred_dtw_clust1 <- global_ar_least_squares_pred(dtw_clust_mod1$model,\n",
    "                                                     embed_test_list[2:4], TRUE, TRUE)"
   ]
  },
  {
   "cell_type": "code",
   "execution_count": 95,
   "id": "83a43d05",
   "metadata": {},
   "outputs": [],
   "source": [
    "# Create bootstrap pred intervals on the test data, using a bootstrap sample number of n_samp=1000\n",
    "# We could use a smaller n_samp for speed, but higher will give us a more accurate picture of the PIs\n",
    "n_samp <- 1000\n",
    "\n",
    "boot_dtwclust_2 <- bootstrap_pred_int(test_pred_dtw_clust2$test_preds,\n",
    "                                      dtw_clust_mod2$train_residuals,\n",
    "                                      n_samp,\n",
    "                                      embed_test_list[[1]][,1]) \n",
    "\n",
    "\n",
    "boot_dtwclust_1 <- bootstrap_pred_int(test_pred_dtw_clust1$test_preds,\n",
    "                                      dtw_clust_mod1$train_residuals,\n",
    "                                      n_samp,\n",
    "                                      do.call(rbind, embed_test_list[2:4])[,1]) "
   ]
  },
  {
   "cell_type": "code",
   "execution_count": 96,
   "id": "89a0a800",
   "metadata": {},
   "outputs": [
    {
     "data": {
      "text/html": [
       "42.9348026217716"
      ],
      "text/latex": [
       "42.9348026217716"
      ],
      "text/markdown": [
       "42.9348026217716"
      ],
      "text/plain": [
       "[1] 42.9348"
      ]
     },
     "metadata": {},
     "output_type": "display_data"
    }
   ],
   "source": [
    "mean(c(test_pred_dtw_clust1$test_rmse, test_pred_dtw_clust2$test_rmse))"
   ]
  },
  {
   "cell_type": "code",
   "execution_count": 97,
   "id": "806ecf10",
   "metadata": {},
   "outputs": [
    {
     "data": {
      "text/html": [
       "28.1600217563481"
      ],
      "text/latex": [
       "28.1600217563481"
      ],
      "text/markdown": [
       "28.1600217563481"
      ],
      "text/plain": [
       "[1] 28.16002"
      ]
     },
     "metadata": {},
     "output_type": "display_data"
    }
   ],
   "source": [
    "mean(c(test_pred_dtw_clust1$test_mae, test_pred_dtw_clust2$test_mae))"
   ]
  },
  {
   "cell_type": "code",
   "execution_count": 98,
   "id": "a7ff150a",
   "metadata": {},
   "outputs": [
    {
     "data": {
      "text/html": [
       "0.123692242953724"
      ],
      "text/latex": [
       "0.123692242953724"
      ],
      "text/markdown": [
       "0.123692242953724"
      ],
      "text/plain": [
       "[1] 0.1236922"
      ]
     },
     "metadata": {},
     "output_type": "display_data"
    }
   ],
   "source": [
    "mean(c(test_pred_dtw_clust1$test_rmse, test_pred_dtw_clust2$test_rmse)/\n",
    "     c(test_pred_dtw_clust1$test_means, test_pred_dtw_clust2$test_means)\n",
    "    )"
   ]
  },
  {
   "cell_type": "code",
   "execution_count": 99,
   "id": "fc7a4247",
   "metadata": {},
   "outputs": [
    {
     "data": {
      "text/html": [
       "0.0855685130448458"
      ],
      "text/latex": [
       "0.0855685130448458"
      ],
      "text/markdown": [
       "0.0855685130448458"
      ],
      "text/plain": [
       "[1] 0.08556851"
      ]
     },
     "metadata": {},
     "output_type": "display_data"
    }
   ],
   "source": [
    "mean(c(test_pred_dtw_clust1$test_mae, test_pred_dtw_clust2$test_mae)/\n",
    "     c(test_pred_dtw_clust1$test_means, test_pred_dtw_clust2$test_means)\n",
    "    )"
   ]
  },
  {
   "cell_type": "code",
   "execution_count": 100,
   "id": "11df6066",
   "metadata": {},
   "outputs": [
    {
     "data": {
      "text/html": [
       "175.027044763998"
      ],
      "text/latex": [
       "175.027044763998"
      ],
      "text/markdown": [
       "175.027044763998"
      ],
      "text/plain": [
       "[1] 175.027"
      ]
     },
     "metadata": {},
     "output_type": "display_data"
    }
   ],
   "source": [
    "mean((rbind(boot_dtwclust_1, boot_dtwclust_2))$int_score_80)"
   ]
  },
  {
   "cell_type": "code",
   "execution_count": 101,
   "id": "b92faa1f",
   "metadata": {},
   "outputs": [
    {
     "data": {
      "text/html": [
       "0.592654166683338"
      ],
      "text/latex": [
       "0.592654166683338"
      ],
      "text/markdown": [
       "0.592654166683338"
      ],
      "text/plain": [
       "[1] 0.5926542"
      ]
     },
     "metadata": {},
     "output_type": "display_data"
    }
   ],
   "source": [
    "mean(c((boot_dtwclust_1 %>% group_by(ts_index) %>% summarise(int_score_80=mean(int_score_80)))$int_score_80,\n",
    "(boot_dtwclust_2 %>% group_by(ts_index) %>% summarise(int_score_80=mean(int_score_80)))$int_score_80)/\n",
    "c(test_pred_dtw_clust1$test_means, test_pred_dtw_clust2$test_means))"
   ]
  },
  {
   "cell_type": "code",
   "execution_count": 102,
   "id": "d8d41b4b",
   "metadata": {},
   "outputs": [
    {
     "data": {
      "text/html": [
       "337.128156593674"
      ],
      "text/latex": [
       "337.128156593674"
      ],
      "text/markdown": [
       "337.128156593674"
      ],
      "text/plain": [
       "[1] 337.1282"
      ]
     },
     "metadata": {},
     "output_type": "display_data"
    }
   ],
   "source": [
    "mean((rbind(boot_dtwclust_1, boot_dtwclust_2))$int_score_95)"
   ]
  },
  {
   "cell_type": "code",
   "execution_count": 103,
   "id": "58006e1c",
   "metadata": {},
   "outputs": [
    {
     "data": {
      "text/html": [
       "1.10571069936004"
      ],
      "text/latex": [
       "1.10571069936004"
      ],
      "text/markdown": [
       "1.10571069936004"
      ],
      "text/plain": [
       "[1] 1.105711"
      ]
     },
     "metadata": {},
     "output_type": "display_data"
    }
   ],
   "source": [
    "mean(c((boot_dtwclust_1 %>% group_by(ts_index) %>% summarise(int_score_95=mean(int_score_95)))$int_score_95,\n",
    "(boot_dtwclust_2 %>% group_by(ts_index) %>% summarise(int_score_95=mean(int_score_95)))$int_score_95)/\n",
    "c(test_pred_dtw_clust1$test_means, test_pred_dtw_clust2$test_means))"
   ]
  },
  {
   "cell_type": "code",
   "execution_count": null,
   "id": "5c1f718e",
   "metadata": {},
   "outputs": [],
   "source": []
  }
 ],
 "metadata": {
  "kernelspec": {
   "display_name": "R",
   "language": "R",
   "name": "ir"
  },
  "language_info": {
   "codemirror_mode": "r",
   "file_extension": ".r",
   "mimetype": "text/x-r-source",
   "name": "R",
   "pygments_lexer": "r",
   "version": "4.1.3"
  }
 },
 "nbformat": 4,
 "nbformat_minor": 5
}
