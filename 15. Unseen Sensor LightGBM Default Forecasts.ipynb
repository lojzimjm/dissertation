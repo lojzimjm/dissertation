{
 "cells": [
  {
   "cell_type": "code",
   "execution_count": null,
   "id": "b9e2d4d3",
   "metadata": {},
   "outputs": [],
   "source": [
    "# Install and load libraries"
   ]
  },
  {
   "cell_type": "code",
   "execution_count": 1,
   "id": "1f14575f",
   "metadata": {},
   "outputs": [
    {
     "name": "stdout",
     "output_type": "stream",
     "text": [
      "Collecting package metadata (current_repodata.json): done\n",
      "Solving environment: - \n",
      "The environment is inconsistent, please check the package plan carefully\n",
      "The following packages are causing the inconsistency:\n",
      "\n",
      "  - conda-forge/noarch::tqdm==4.62.3=pyhd8ed1ab_0\n",
      "  - conda-forge/noarch::black==21.11b1=pyhd8ed1ab_0\n",
      "  - conda-forge/linux-64::conda-package-handling==1.7.3=py38h497a2fe_1\n",
      "  - conda-forge/noarch::dask-core==2021.11.2=pyhd8ed1ab_0\n",
      "  - conda-forge/noarch::imageio==2.9.0=py_0\n",
      "  - conda-forge/linux-64::pytest==6.2.5=py38h578d9bd_1\n",
      "  - conda-forge/linux-64::watchdog==2.1.6=py38h578d9bd_1\n",
      "  - conda-forge/linux-64::aiohttp==3.8.1=py38h497a2fe_0\n",
      "  - conda-forge/linux-64::astropy==5.0=py38h6c62de6_0\n",
      "  - conda-forge/linux-64::bokeh==2.4.2=py38h578d9bd_0\n",
      "  - conda-forge/linux-64::distributed==2021.11.2=py38h578d9bd_0\n",
      "  - conda-forge/noarch::flask==2.0.2=pyhd8ed1ab_0\n",
      "  - conda-forge/linux-64::matplotlib-base==3.5.0=py38hf4fb855_0\n",
      "  - conda-forge/noarch::nbformat==5.1.3=pyhd8ed1ab_0\n",
      "  - conda-forge/noarch::pylint==2.12.1=pyhd8ed1ab_0\n",
      "  - conda-forge/noarch::dask==2021.11.2=pyhd8ed1ab_0\n",
      "  - conda-forge/noarch::nbclient==0.5.9=pyhd8ed1ab_0\n",
      "  - conda-forge/noarch::networkx==2.6.3=pyhd8ed1ab_1\n",
      "  - conda-forge/noarch::python-lsp-server==1.3.2=pyhd8ed1ab_0\n",
      "  - conda-forge/noarch::seaborn-base==0.11.2=pyhd8ed1ab_0\n",
      "  - conda-forge/linux-64::nbconvert==6.3.0=py38h578d9bd_1\n",
      "  - conda-forge/noarch::pyls-spyder==0.4.0=pyhd8ed1ab_0\n",
      "  - conda-forge/noarch::python-lsp-black==1.0.0=pyhd8ed1ab_0\n",
      "  - conda-forge/noarch::requests==2.26.0=pyhd8ed1ab_1\n",
      "  - conda-forge/noarch::seaborn==0.11.2=hd8ed1ab_0\n",
      "  - conda-forge/noarch::anaconda-client==1.8.0=pyhd8ed1ab_0\n",
      "  - conda-forge/linux-64::conda==4.11.0=py38h578d9bd_0\n",
      "  - conda-forge/noarch::cookiecutter==1.7.0=py_0\n",
      "  - conda-forge/noarch::jupyter_server==1.12.1=pyhd8ed1ab_0\n",
      "  - conda-forge/linux-64::matplotlib==3.5.0=py38h578d9bd_0\n",
      "  - conda-forge/noarch::pooch==1.5.2=pyhd8ed1ab_0\n",
      "  - conda-forge/noarch::anaconda-project==0.10.2=pyhd8ed1ab_0\n",
      "  - defaults/noarch::conda-token==0.3.0=pyhd3eb1b0_0\n",
      "  - conda-forge/noarch::ipyparallel==8.0.0=pyhd8ed1ab_0\n",
      "  - conda-forge/noarch::jupyterlab_server==2.8.2=pyhd8ed1ab_0\n",
      "  - conda-forge/noarch::notebook==6.4.6=pyha770c72_0\n",
      "  - conda-forge/linux-64::scikit-image==0.18.3=py38h43a58ef_0\n",
      "  - conda-forge/linux-64::nb_conda==2.2.1=py38h578d9bd_4\n",
      "  - conda-forge/noarch::nbclassic==0.3.4=pyhd8ed1ab_0\n",
      "  - conda-forge/linux-64::widgetsnbextension==3.5.2=py38h578d9bd_1\n",
      "  - conda-forge/noarch::ipywidgets==7.6.5=pyhd8ed1ab_0\n",
      "  - conda-forge/noarch::jupyterlab==3.2.4=pyhd8ed1ab_0\n",
      "  - conda-forge/linux-64::jupyter==1.0.0=py38h578d9bd_7\n",
      "  - conda-forge/noarch::numpydoc==1.1.0=py_1\n",
      "  - conda-forge/linux-64::spyder==5.2.0=py38h578d9bd_0\n",
      "  - conda-forge/noarch::sphinxcontrib-serializinghtml==1.1.5=pyhd8ed1ab_1\n",
      "  - conda-forge/noarch::sphinxcontrib-websupport==1.2.4=pyhd8ed1ab_1\n",
      "  - defaults/linux-64::_anaconda_depends==2021.11=py38_0\n",
      "done\n",
      "\n",
      "\n",
      "==> WARNING: A newer version of conda exists. <==\n",
      "  current version: 4.11.0\n",
      "  latest version: 4.12.0\n",
      "\n",
      "Please update conda by running\n",
      "\n",
      "    $ conda update -n base conda\n",
      "\n",
      "\n",
      "\n",
      "## Package Plan ##\n",
      "\n",
      "  environment location: /home/ec2-user/anaconda3/envs/python3\n",
      "\n",
      "  added / updated specs:\n",
      "    - lightgbm\n",
      "\n",
      "\n",
      "The following packages will be downloaded:\n",
      "\n",
      "    package                    |            build\n",
      "    ---------------------------|-----------------\n",
      "    certifi-2021.10.8          |   py38h578d9bd_2         145 KB  conda-forge\n",
      "    colorama-0.4.4             |     pyh9f0ad1d_0          18 KB  conda-forge\n",
      "    dataclasses-0.8            |     pyhc8e2a94_3          10 KB  conda-forge\n",
      "    docutils-0.15.2            |   py38h578d9bd_3         739 KB  conda-forge\n",
      "    fsspec-2022.3.0            |     pyhd8ed1ab_0          93 KB  conda-forge\n",
      "    jsonschema-4.5.1           |     pyhd8ed1ab_0          57 KB  conda-forge\n",
      "    lightgbm-3.3.2             |   py38h709712a_0         1.8 MB  conda-forge\n",
      "    lxml-4.8.0                 |   py38h0a891b7_2         1.4 MB  conda-forge\n",
      "    openssl-1.1.1o             |       h166bdaf_0         2.1 MB  conda-forge\n",
      "    pillow-8.4.0               |   py38h8e6f84c_0         704 KB  conda-forge\n",
      "    pyyaml-6.0                 |   py38h0a891b7_4         182 KB  conda-forge\n",
      "    sphinx-4.5.0               |     pyh6c4a22f_0         1.6 MB  conda-forge\n",
      "    websocket-client-1.3.2     |     pyhd8ed1ab_0          41 KB  conda-forge\n",
      "    werkzeug-2.1.2             |     pyhd8ed1ab_1         237 KB  conda-forge\n",
      "    ------------------------------------------------------------\n",
      "                                           Total:         9.1 MB\n",
      "\n",
      "The following NEW packages will be INSTALLED:\n",
      "\n",
      "  attrs              conda-forge/noarch::attrs-21.4.0-pyhd8ed1ab_0\n",
      "  colorama           conda-forge/noarch::colorama-0.4.4-pyh9f0ad1d_0\n",
      "  dataclasses        conda-forge/noarch::dataclasses-0.8-pyhc8e2a94_3\n",
      "  docutils           conda-forge/linux-64::docutils-0.15.2-py38h578d9bd_3\n",
      "  fsspec             conda-forge/noarch::fsspec-2022.3.0-pyhd8ed1ab_0\n",
      "  jsonschema         conda-forge/noarch::jsonschema-4.5.1-pyhd8ed1ab_0\n",
      "  lightgbm           conda-forge/linux-64::lightgbm-3.3.2-py38h709712a_0\n",
      "  lxml               conda-forge/linux-64::lxml-4.8.0-py38h0a891b7_2\n",
      "  nltk               conda-forge/noarch::nltk-3.6.7-pyhd8ed1ab_0\n",
      "  pillow             conda-forge/linux-64::pillow-8.4.0-py38h8e6f84c_0\n",
      "  pip                conda-forge/noarch::pip-22.0.4-pyhd8ed1ab_0\n",
      "  pyyaml             conda-forge/linux-64::pyyaml-6.0-py38h0a891b7_4\n",
      "  sphinx             conda-forge/noarch::sphinx-4.5.0-pyh6c4a22f_0\n",
      "  urllib3            conda-forge/noarch::urllib3-1.26.9-pyhd8ed1ab_0\n",
      "  websocket-client   conda-forge/noarch::websocket-client-1.3.2-pyhd8ed1ab_0\n",
      "  werkzeug           conda-forge/noarch::werkzeug-2.1.2-pyhd8ed1ab_1\n",
      "\n",
      "The following packages will be UPDATED:\n",
      "\n",
      "  certifi                          2021.10.8-py38h578d9bd_1 --> 2021.10.8-py38h578d9bd_2\n",
      "  openssl                                 1.1.1l-h7f98852_0 --> 1.1.1o-h166bdaf_0\n",
      "\n",
      "\n",
      "\n",
      "Downloading and Extracting Packages\n",
      "certifi-2021.10.8    | 145 KB    | ##################################### | 100% \n",
      "lxml-4.8.0           | 1.4 MB    | ##################################### | 100% \n",
      "lightgbm-3.3.2       | 1.8 MB    | ##################################### | 100% \n",
      "openssl-1.1.1o       | 2.1 MB    | ##################################### | 100% \n",
      "fsspec-2022.3.0      | 93 KB     | ##################################### | 100% \n",
      "werkzeug-2.1.2       | 237 KB    | ##################################### | 100% \n",
      "sphinx-4.5.0         | 1.6 MB    | ##################################### | 100% \n",
      "pillow-8.4.0         | 704 KB    | ##################################### | 100% \n",
      "jsonschema-4.5.1     | 57 KB     | ##################################### | 100% \n",
      "pyyaml-6.0           | 182 KB    | ##################################### | 100% \n",
      "dataclasses-0.8      | 10 KB     | ##################################### | 100% \n",
      "colorama-0.4.4       | 18 KB     | ##################################### | 100% \n",
      "websocket-client-1.3 | 41 KB     | ##################################### | 100% \n",
      "docutils-0.15.2      | 739 KB    | ##################################### | 100% \n",
      "Preparing transaction: done\n",
      "Verifying transaction: done\n",
      "Executing transaction: done\n",
      "\n",
      "Note: you may need to restart the kernel to use updated packages.\n"
     ]
    }
   ],
   "source": [
    "%conda install -c conda-forge lightgbm "
   ]
  },
  {
   "cell_type": "code",
   "execution_count": 1,
   "id": "04017cde",
   "metadata": {},
   "outputs": [],
   "source": [
    "import time\n",
    "import numpy as np\n",
    "import pandas as pd\n",
    "import json\n",
    "import matplotlib.pyplot as plt\n",
    "import itertools\n",
    "from sklearn.metrics import mean_squared_error\n",
    "from sklearn.metrics import mean_absolute_error\n",
    "import glob\n",
    "from lightgbm import LGBMRegressor\n",
    "import random\n",
    "from sklearn.model_selection import ParameterSampler\n",
    "import scipy\n",
    "import gc\n",
    "from joblib import Parallel, delayed\n",
    "import contextlib\n",
    "import joblib\n",
    "from tqdm import tqdm"
   ]
  },
  {
   "cell_type": "code",
   "execution_count": 2,
   "id": "cd883a16",
   "metadata": {},
   "outputs": [],
   "source": [
    "np.random.seed(54321)\n",
    "random.seed(54321)"
   ]
  },
  {
   "cell_type": "markdown",
   "id": "3ef0fa32",
   "metadata": {},
   "source": [
    "# Read in Data and Prepare for Modeling"
   ]
  },
  {
   "cell_type": "code",
   "execution_count": 3,
   "id": "7eaff417",
   "metadata": {},
   "outputs": [
    {
     "name": "stdout",
     "output_type": "stream",
     "text": [
      "Reading Data/Unseen Sensor/Processed/A19-9336-1_Northbound_2019_Processed.csv\n",
      "Reading Data/Unseen Sensor/Processed/A66-9521-1_Westbound_Processed.csv\n",
      "Reading Data/Unseen Sensor/Processed/M40-7048-2_Southbound_Processed.csv\n",
      "Reading Data/Unseen Sensor/Processed/M62-2056A_Eastbound_Processed.csv\n"
     ]
    }
   ],
   "source": [
    "# Create an empty list to hold the dataframes of highways england data\n",
    "total_df_list = list()\n",
    "\n",
    "# Loop through the files, sorted in alphabetical order\n",
    "# Read them into a df, make sure they are sorted by timestamp, and append to the list\n",
    "for fname in sorted(glob.glob(\"Data/Unseen Sensor/Processed/*.csv\")):\n",
    "    print(\"Reading {}\".format(fname))\n",
    "    df = pd.read_csv(fname) #, parse_dates=['timestamp'], index_col=['timestamp'])\n",
    "    df = df.sort_values(by=\"timestamp\")\n",
    "    total_df_list.append(df)"
   ]
  },
  {
   "cell_type": "code",
   "execution_count": 4,
   "id": "c0a30a94",
   "metadata": {},
   "outputs": [],
   "source": [
    "# Read in the start and end points csv, and subtract 1 to deal with index differences between R and python\n",
    "start_end = pd.read_csv(\"unseen_sensor_start_end_points.csv\")\n",
    "start_end[\"start\"] = start_end[\"start\"] - 1\n",
    "start_end[\"end\"] = start_end[\"end\"]"
   ]
  },
  {
   "cell_type": "code",
   "execution_count": 5,
   "id": "087ac8f4",
   "metadata": {},
   "outputs": [],
   "source": [
    "# Create an empty list to hold the subset data frames (those with only 12 weeks of data per highway)\n",
    "subset_df_list = list()"
   ]
  },
  {
   "cell_type": "code",
   "execution_count": 6,
   "id": "ebdcd1a5",
   "metadata": {},
   "outputs": [],
   "source": [
    "# For each df in our original total df list\n",
    "for idx, df in enumerate(total_df_list):\n",
    "        \n",
    "    # Filter the timeframe based on the start_end_points csv files\n",
    "    subset_df = df.iloc[start_end.iloc[idx,1]:start_end.iloc[idx,2], ]\\\n",
    "    .reset_index(drop=True).reset_index(drop=False)\\\n",
    "    .rename(columns={\"index\":\"rn\"})\n",
    "    \n",
    "    # Create a new field called train_val_test to differentiate each set of data\n",
    "    subset_df[\"train_val_test\"] = np.where(subset_df[\"rn\"]<(96*7*8),\n",
    "                                           \"train\",\n",
    "                                           np.where(subset_df[\"rn\"]<(96*7*10),\n",
    "                                                    \"val\",\n",
    "                                                    \"test\"\n",
    "                                                   )\n",
    "                                       )\n",
    "    \n",
    "    # Append to list\n",
    "    subset_df_list.append(subset_df)"
   ]
  },
  {
   "cell_type": "code",
   "execution_count": 7,
   "id": "18886e21",
   "metadata": {},
   "outputs": [],
   "source": [
    "# Create a list of df's with only fields we need\n",
    "\n",
    "# Initialize empty list\n",
    "model_df_list = list()\n",
    "\n",
    "# For df in subset list\n",
    "for df in subset_df_list:\n",
    "       \n",
    "    # Extract the timestamp, the volume, and the train_val_test assignment\n",
    "    model_df = df[['timestamp', 'total_volume', \"train_val_test\"]]\\\n",
    "    .rename(columns={'timestamp':'start', 'total_volume':'target'})\n",
    "    \n",
    "    # Append this df to the new list\n",
    "    model_df_list.append(model_df)"
   ]
  },
  {
   "cell_type": "markdown",
   "id": "4c982524",
   "metadata": {},
   "source": [
    "## Create Lag Emebedded Matrices for each TS"
   ]
  },
  {
   "cell_type": "code",
   "execution_count": 10,
   "id": "95ba850f",
   "metadata": {},
   "outputs": [],
   "source": [
    "# Set our final lag value to be 840\n",
    "lag_n = 840"
   ]
  },
  {
   "cell_type": "code",
   "execution_count": 11,
   "id": "a5de222f",
   "metadata": {},
   "outputs": [],
   "source": [
    "# # Lag embed the data frames and save to a list\n",
    "lag_embed_df_list = list()\n",
    "\n",
    "for df in model_df_list:\n",
    "    # For each df in our list\n",
    "    for n in range(1, (lag_n+1)):\n",
    "        # For each lag level, up to 960\n",
    "        # Create a new column called target-n\n",
    "        name = f\"target-{n}\"\n",
    "        # Save the target shifted n values into this colume\n",
    "        df[name] = df['target'].shift(n)\n",
    "    # Append to list\n",
    "    lag_embed_df_list.append(df)"
   ]
  },
  {
   "cell_type": "code",
   "execution_count": 12,
   "id": "d80a1802",
   "metadata": {},
   "outputs": [],
   "source": [
    "# Split the lag embedded list into train, val, and test lists\n",
    "\n",
    "# First, initialize empty lists for each train, val, and test\n",
    "train_df_list = list()\n",
    "val_df_list = list()\n",
    "test_df_list = list()\n",
    "\n",
    "for i in range(len(lag_embed_df_list)):\n",
    "    # For each df in our list\n",
    "    df = lag_embed_df_list[i].copy()\n",
    "\n",
    "    # Add a ts_index of i+1 to join with clustering data from R\n",
    "    df['ts_index'] = i + 1\n",
    "    \n",
    "    # Subset into train, val, and test df's based on the train_val_test_field\n",
    "    train_df = df.query(\"train_val_test == 'train'\").copy()\n",
    "    val_df = df.query(\"train_val_test=='val'\").copy()\n",
    "    test_df = df.query(\"train_val_test=='test'\").copy()\n",
    "    \n",
    "    # Append to appropriate lists\n",
    "    train_df_list.append(train_df)\n",
    "    val_df_list.append(val_df)\n",
    "    test_df_list.append(test_df)"
   ]
  },
  {
   "cell_type": "code",
   "execution_count": 13,
   "id": "202fa7be",
   "metadata": {},
   "outputs": [],
   "source": [
    "# Concat all dfs from the lists together to create one full train, val, and test df\n",
    "train_df_full = pd.concat(train_df_list)\n",
    "val_df_full = pd.concat(val_df_list)\n",
    "test_df_full = pd.concat(test_df_list)"
   ]
  },
  {
   "cell_type": "code",
   "execution_count": 14,
   "id": "1d1caa56",
   "metadata": {},
   "outputs": [],
   "source": [
    "# Drop unneeded columns\n",
    "train_df_full.drop(columns=['start', 'train_val_test'], inplace=True)\n",
    "val_df_full.drop(columns=['start', 'train_val_test'], inplace=True)\n",
    "test_df_full.drop(columns=['start', 'train_val_test'], inplace=True)"
   ]
  },
  {
   "cell_type": "code",
   "execution_count": 15,
   "id": "e8b82c62",
   "metadata": {},
   "outputs": [],
   "source": [
    "# Append the training and validation data together for later use\n",
    "train_val_df_full = train_df_full.append(val_df_full)"
   ]
  },
  {
   "cell_type": "code",
   "execution_count": 16,
   "id": "cc7225d4",
   "metadata": {},
   "outputs": [],
   "source": [
    "# Delete unused variables to free up memory\n",
    "del train_df_list\n",
    "del val_df_list \n",
    "del test_df_list\n",
    "del lag_embed_df_list\n",
    "del model_df_list\n",
    "del subset_df_list"
   ]
  },
  {
   "cell_type": "code",
   "execution_count": 17,
   "id": "e1ca18f8",
   "metadata": {},
   "outputs": [
    {
     "data": {
      "text/plain": [
       "0"
      ]
     },
     "execution_count": 17,
     "metadata": {},
     "output_type": "execute_result"
    }
   ],
   "source": [
    "# Force garbage collection to free up memory\n",
    "gc.collect()"
   ]
  },
  {
   "cell_type": "code",
   "execution_count": 18,
   "id": "e07a19d3",
   "metadata": {},
   "outputs": [],
   "source": [
    "unseen_sen_clust = pd.read_csv(\"Results/Unseen Sensor/clust_assign.csv\")"
   ]
  },
  {
   "cell_type": "code",
   "execution_count": 19,
   "id": "e3f72355",
   "metadata": {},
   "outputs": [
    {
     "data": {
      "text/html": [
       "<div>\n",
       "<style scoped>\n",
       "    .dataframe tbody tr th:only-of-type {\n",
       "        vertical-align: middle;\n",
       "    }\n",
       "\n",
       "    .dataframe tbody tr th {\n",
       "        vertical-align: top;\n",
       "    }\n",
       "\n",
       "    .dataframe thead th {\n",
       "        text-align: right;\n",
       "    }\n",
       "</style>\n",
       "<table border=\"1\" class=\"dataframe\">\n",
       "  <thead>\n",
       "    <tr style=\"text-align: right;\">\n",
       "      <th></th>\n",
       "      <th>Unnamed: 0</th>\n",
       "      <th>rand</th>\n",
       "      <th>catch22</th>\n",
       "      <th>tsfeat</th>\n",
       "      <th>dtw</th>\n",
       "    </tr>\n",
       "  </thead>\n",
       "  <tbody>\n",
       "    <tr>\n",
       "      <th>0</th>\n",
       "      <td>1</td>\n",
       "      <td>3</td>\n",
       "      <td>1</td>\n",
       "      <td>2</td>\n",
       "      <td>2</td>\n",
       "    </tr>\n",
       "    <tr>\n",
       "      <th>1</th>\n",
       "      <td>2</td>\n",
       "      <td>2</td>\n",
       "      <td>1</td>\n",
       "      <td>2</td>\n",
       "      <td>1</td>\n",
       "    </tr>\n",
       "    <tr>\n",
       "      <th>2</th>\n",
       "      <td>3</td>\n",
       "      <td>1</td>\n",
       "      <td>1</td>\n",
       "      <td>2</td>\n",
       "      <td>1</td>\n",
       "    </tr>\n",
       "    <tr>\n",
       "      <th>3</th>\n",
       "      <td>4</td>\n",
       "      <td>4</td>\n",
       "      <td>1</td>\n",
       "      <td>1</td>\n",
       "      <td>1</td>\n",
       "    </tr>\n",
       "  </tbody>\n",
       "</table>\n",
       "</div>"
      ],
      "text/plain": [
       "   Unnamed: 0  rand  catch22  tsfeat  dtw\n",
       "0           1     3        1       2    2\n",
       "1           2     2        1       2    1\n",
       "2           3     1        1       2    1\n",
       "3           4     4        1       1    1"
      ]
     },
     "execution_count": 19,
     "metadata": {},
     "output_type": "execute_result"
    }
   ],
   "source": [
    "unseen_sen_clust.head()"
   ]
  },
  {
   "cell_type": "markdown",
   "id": "bec57ca7",
   "metadata": {},
   "source": [
    "# Full Model"
   ]
  },
  {
   "cell_type": "code",
   "execution_count": 20,
   "id": "1a6913a8",
   "metadata": {},
   "outputs": [],
   "source": [
    "# Save model to file to use later\n",
    "filename = 'Results/Global/LightGBM Default/Full/model'\n",
    "mod = joblib.load(filename)"
   ]
  },
  {
   "cell_type": "code",
   "execution_count": 21,
   "id": "5b6d15b7",
   "metadata": {},
   "outputs": [],
   "source": [
    "res = pd.read_csv('Results/Global/LightGBM Default/Full/residual.csv')"
   ]
  },
  {
   "cell_type": "code",
   "execution_count": 22,
   "id": "9e49ee73",
   "metadata": {},
   "outputs": [],
   "source": [
    "# Function to compute test preds\n",
    "def compute_lgbm_test_preds(mod, data, lag_n):\n",
    "    \"\"\"Function which takes in: a model, test data, and the lag embedding to use, and returns a df of forecasts\"\"\"\n",
    "\n",
    "    # Initialize an empty data frame to store preds\n",
    "    pred_df = pd.DataFrame()\n",
    "    \n",
    "    # Loop through each individual time series index in the data set\n",
    "    for ts_idx in data.ts_index.unique():\n",
    "        # Create the X matrix for each one\n",
    "        X = data.query(\"ts_index==@ts_idx\").iloc[:,1:(lag_n+1)].copy()\n",
    "\n",
    "        # Forecast for that X matrix\n",
    "        preds = mod.predict(X)\n",
    "        \n",
    "        # Save the results to a temp data frame\n",
    "        pred_df_sub = pd.DataFrame({\"ts_index\": ts_idx, \"test_preds\": preds})\n",
    "        \n",
    "        # Append to primary data frame\n",
    "        pred_df = pred_df.append(pred_df_sub)\n",
    "    \n",
    "    # Return df of all preds with corresponding ts_index column\n",
    "    return pred_df"
   ]
  },
  {
   "cell_type": "code",
   "execution_count": 23,
   "id": "f2a9d22b",
   "metadata": {},
   "outputs": [],
   "source": [
    "unseen_test_preds = compute_lgbm_test_preds(mod, test_df_full, lag_n)"
   ]
  },
  {
   "cell_type": "code",
   "execution_count": 24,
   "id": "4868b165",
   "metadata": {},
   "outputs": [],
   "source": [
    "# Function to compute performance metrics on test data\n",
    "def compute_lgbm_test_perf(preds, data):\n",
    "    \"\"\"Function which takes inputs: a data frame of test predictions, and a test data df,\n",
    "    and which returns a data frame of model performance\"\"\"\n",
    "    \n",
    "    # Create an empty list to store model performance\n",
    "    perf_ls = list()\n",
    "    \n",
    "    # For each time series index in our data set\n",
    "    for ts_idx in data.ts_index.unique():\n",
    "        # Get the target (actual) for that index\n",
    "        y_sub = data.query(\"ts_index==@ts_idx\").iloc[:,0]\n",
    "        # Extract the corresponding forecasts\n",
    "        preds_sub = preds.query(\"ts_index==@ts_idx\").test_preds\n",
    "        \n",
    "        # Compute rmse, mae, and the mean of the true target value for those preds\n",
    "        rmse_sub = mean_squared_error(y_sub, preds_sub, squared=False)\n",
    "        mae_sub = mean_absolute_error(y_sub, preds_sub)\n",
    "        mean_sub = np.mean(y_sub)\n",
    "        \n",
    "        # Save those metrics to a dictionary\n",
    "        pred_dict = {\"rmse\": rmse_sub, \"mae\": mae_sub, \"mean\": mean_sub}\n",
    "        \n",
    "        # Append the dictionary to the list\n",
    "        perf_ls.append(pred_dict)\n",
    "        \n",
    "    # Return a data frame of model performance created from the list of dictionaries\n",
    "    return pd.DataFrame(perf_ls)"
   ]
  },
  {
   "cell_type": "code",
   "execution_count": 25,
   "id": "8b46b724",
   "metadata": {},
   "outputs": [],
   "source": [
    "# Compute model perf metrics using above function\n",
    "full_mod_test_perf = compute_lgbm_test_perf(unseen_test_preds, test_df_full)\n",
    "\n",
    "# Compute scaled performance metrics in new columns\n",
    "full_mod_test_perf['nrmse'] = full_mod_test_perf['rmse']/full_mod_test_perf['mean']\n",
    "full_mod_test_perf['smae'] = full_mod_test_perf['mae']/full_mod_test_perf['mean']"
   ]
  },
  {
   "cell_type": "code",
   "execution_count": 26,
   "id": "c4da39db",
   "metadata": {},
   "outputs": [
    {
     "data": {
      "text/plain": [
       "rmse      41.842156\n",
       "mae       27.496543\n",
       "mean     377.001860\n",
       "nrmse      0.122099\n",
       "smae       0.084261\n",
       "dtype: float64"
      ]
     },
     "execution_count": 26,
     "metadata": {},
     "output_type": "execute_result"
    }
   ],
   "source": [
    "# Print the means of model perf metrics\n",
    "full_mod_test_perf.mean()"
   ]
  },
  {
   "cell_type": "code",
   "execution_count": 27,
   "id": "55430691",
   "metadata": {},
   "outputs": [],
   "source": [
    "# Function to compute pred intervals with bootstrap method\n",
    "def compute_lgbm_boostrap_int(preds, resid, n_boot):\n",
    "    \"\"\"Function which takes in a model's predictions and residuals, and a number of bootstrap resamples to use,\n",
    "    and which outputs a df with pred intervals at 80% and 95%\"\"\"\n",
    "    \n",
    "    # Set seeds for reproducibility\n",
    "    random.seed(54321)\n",
    "    np.random.seed(54321)\n",
    "    \n",
    "    # Create empty columns in the pred df to store the PIs\n",
    "    preds['lo_95'] = np.nan\n",
    "    preds['hi_95'] = np.nan\n",
    "    preds['lo_80'] = np.nan\n",
    "    preds['hi_80'] = np.nan\n",
    "    \n",
    "    # For each row in the pred df\n",
    "    for n in range(preds.shape[0]):\n",
    "        # Sample with replacement n_boot times from the residuals\n",
    "        resid_boot = np.random.choice(resid, size=n_boot, replace=True)\n",
    "        # Extract the forecast value for that row\n",
    "        pred_n = preds.iloc[n, :].test_preds\n",
    "        # Add the residual vector to the forecast value\n",
    "        pred_n_boot = resid_boot + pred_n\n",
    "        \n",
    "        # Compute quantiles of this residual+forecast vector\n",
    "        percent_95_lo = np.percentile(pred_n_boot, 2.5)\n",
    "        percent_95_hi = np.percentile(pred_n_boot, 97.5)\n",
    "        \n",
    "        percent_80_lo = np.percentile(pred_n_boot, 10)\n",
    "        percent_80_hi = np.percentile(pred_n_boot, 90)\n",
    "        \n",
    "        # Save these quantiles to the appropriate df column\n",
    "        preds.iloc[n, 2] = percent_95_lo\n",
    "        preds.iloc[n, 3] = percent_95_hi\n",
    "        preds.iloc[n, 4] = percent_80_lo\n",
    "        preds.iloc[n, 5] = percent_80_hi\n",
    "    \n",
    "    # Return the updated preds data frame\n",
    "    return preds"
   ]
  },
  {
   "cell_type": "code",
   "execution_count": 28,
   "id": "26f3dee1",
   "metadata": {},
   "outputs": [],
   "source": [
    "# Compute PIs with 1000 bootstrap samples\n",
    "full_mod_boot_ints = compute_lgbm_boostrap_int(unseen_test_preds, \n",
    "                                               res.residual.values, \n",
    "                                               1000)"
   ]
  },
  {
   "cell_type": "code",
   "execution_count": 32,
   "id": "be777e20",
   "metadata": {},
   "outputs": [],
   "source": [
    "# Add the true values into their own df column\n",
    "full_mod_boot_ints['actual'] = test_df_full.iloc[:,0].to_list()"
   ]
  },
  {
   "cell_type": "code",
   "execution_count": 33,
   "id": "21ba5a57",
   "metadata": {},
   "outputs": [
    {
     "data": {
      "text/html": [
       "<div>\n",
       "<style scoped>\n",
       "    .dataframe tbody tr th:only-of-type {\n",
       "        vertical-align: middle;\n",
       "    }\n",
       "\n",
       "    .dataframe tbody tr th {\n",
       "        vertical-align: top;\n",
       "    }\n",
       "\n",
       "    .dataframe thead th {\n",
       "        text-align: right;\n",
       "    }\n",
       "</style>\n",
       "<table border=\"1\" class=\"dataframe\">\n",
       "  <thead>\n",
       "    <tr style=\"text-align: right;\">\n",
       "      <th></th>\n",
       "      <th>ts_index</th>\n",
       "      <th>test_preds</th>\n",
       "      <th>lo_95</th>\n",
       "      <th>hi_95</th>\n",
       "      <th>lo_80</th>\n",
       "      <th>hi_80</th>\n",
       "      <th>actual</th>\n",
       "    </tr>\n",
       "  </thead>\n",
       "  <tbody>\n",
       "    <tr>\n",
       "      <th>0</th>\n",
       "      <td>1</td>\n",
       "      <td>304.771605</td>\n",
       "      <td>248.226806</td>\n",
       "      <td>366.975469</td>\n",
       "      <td>278.707203</td>\n",
       "      <td>334.089492</td>\n",
       "      <td>263.0</td>\n",
       "    </tr>\n",
       "    <tr>\n",
       "      <th>1</th>\n",
       "      <td>1</td>\n",
       "      <td>251.952300</td>\n",
       "      <td>194.668422</td>\n",
       "      <td>314.033011</td>\n",
       "      <td>221.810907</td>\n",
       "      <td>280.595017</td>\n",
       "      <td>242.0</td>\n",
       "    </tr>\n",
       "    <tr>\n",
       "      <th>2</th>\n",
       "      <td>1</td>\n",
       "      <td>226.077711</td>\n",
       "      <td>165.181467</td>\n",
       "      <td>294.471624</td>\n",
       "      <td>195.338483</td>\n",
       "      <td>254.830760</td>\n",
       "      <td>234.0</td>\n",
       "    </tr>\n",
       "    <tr>\n",
       "      <th>3</th>\n",
       "      <td>1</td>\n",
       "      <td>212.428004</td>\n",
       "      <td>151.769654</td>\n",
       "      <td>277.168829</td>\n",
       "      <td>184.059189</td>\n",
       "      <td>243.460251</td>\n",
       "      <td>188.0</td>\n",
       "    </tr>\n",
       "    <tr>\n",
       "      <th>4</th>\n",
       "      <td>1</td>\n",
       "      <td>178.551122</td>\n",
       "      <td>113.161899</td>\n",
       "      <td>238.991371</td>\n",
       "      <td>145.019888</td>\n",
       "      <td>207.924307</td>\n",
       "      <td>170.0</td>\n",
       "    </tr>\n",
       "  </tbody>\n",
       "</table>\n",
       "</div>"
      ],
      "text/plain": [
       "   ts_index  test_preds       lo_95       hi_95       lo_80       hi_80  \\\n",
       "0         1  304.771605  248.226806  366.975469  278.707203  334.089492   \n",
       "1         1  251.952300  194.668422  314.033011  221.810907  280.595017   \n",
       "2         1  226.077711  165.181467  294.471624  195.338483  254.830760   \n",
       "3         1  212.428004  151.769654  277.168829  184.059189  243.460251   \n",
       "4         1  178.551122  113.161899  238.991371  145.019888  207.924307   \n",
       "\n",
       "   actual  \n",
       "0   263.0  \n",
       "1   242.0  \n",
       "2   234.0  \n",
       "3   188.0  \n",
       "4   170.0  "
      ]
     },
     "execution_count": 33,
     "metadata": {},
     "output_type": "execute_result"
    }
   ],
   "source": [
    "full_mod_boot_ints.head()"
   ]
  },
  {
   "cell_type": "code",
   "execution_count": 34,
   "id": "82b2fede",
   "metadata": {},
   "outputs": [],
   "source": [
    "# Create a function to compute the interval score\n",
    "def interval_score(true_values, lower, upper, interval_range):\n",
    "    \"\"\" Function which takes in the true values, the upper and lower bounds of PIs, and the PI level (e.g., 90%)\n",
    "        and from these inputs, computes the interval score for each prediction\n",
    "    \"\"\"\n",
    "    \n",
    "    # Compute alpha from the interval range\n",
    "    alpha = 1-interval_range\n",
    "    \n",
    "    # Save the upper, lower, and true_values as numpy arrays for computation purposes\n",
    "    upper = np.array(upper)\n",
    "    lower = np.array(lower)\n",
    "    true_values = np.array(true_values)\n",
    "    \n",
    "    # Compute the lower component of the interval score - just a boolean for true below interval\n",
    "    def lower_ind(true,low):\n",
    "        if true<low:\n",
    "            return 1\n",
    "        else:\n",
    "            return 0\n",
    "        \n",
    "    # Computer the upper component of the interval score - similar boolean for true above interval\n",
    "    def upper_ind(true,up):\n",
    "        if true>up:\n",
    "            return 1\n",
    "        else:\n",
    "            return 0\n",
    "        \n",
    "    # Computer the actual score for each obsveration - formula here: https://epiforecasts.io/scoringutils/reference/interval_score.html\n",
    "    scores = (upper-lower) + (2/alpha)*(lower-true_values)*(lower > true_values) + (2/alpha)*(true_values-upper)*(true_values > upper)\n",
    "    \n",
    "    # Return the scores array\n",
    "    return scores"
   ]
  },
  {
   "cell_type": "code",
   "execution_count": 35,
   "id": "91ff6bb4",
   "metadata": {},
   "outputs": [],
   "source": [
    "# Compute the 95% and 80% PI scores using the above function as new data frame columns\n",
    "full_mod_boot_ints['int_95_score'] = interval_score(full_mod_boot_ints.actual, \n",
    "                                                    full_mod_boot_ints.lo_95,\n",
    "                                                    full_mod_boot_ints.hi_95,\n",
    "                                                    0.95)\n",
    "                                                    \n",
    "full_mod_boot_ints['int_80_score'] = interval_score(full_mod_boot_ints.actual, \n",
    "                                                    full_mod_boot_ints.lo_80,\n",
    "                                                    full_mod_boot_ints.hi_80,\n",
    "                                                    0.80)"
   ]
  },
  {
   "cell_type": "code",
   "execution_count": 37,
   "id": "75e0c34a",
   "metadata": {},
   "outputs": [
    {
     "data": {
      "text/plain": [
       "ts_index          2.500000\n",
       "test_preds      377.426473\n",
       "lo_95           313.142994\n",
       "hi_95           443.922244\n",
       "lo_80           347.312792\n",
       "hi_80           408.423554\n",
       "actual          377.001860\n",
       "int_95_score    364.511836\n",
       "int_80_score    174.582233\n",
       "dtype: float64"
      ]
     },
     "execution_count": 37,
     "metadata": {},
     "output_type": "execute_result"
    }
   ],
   "source": [
    "# Print the means of the interval scores\n",
    "full_mod_boot_ints.mean()"
   ]
  },
  {
   "cell_type": "code",
   "execution_count": 121,
   "id": "92363afe",
   "metadata": {},
   "outputs": [],
   "source": [
    "full_mod_boot_ints_group = full_mod_boot_ints.groupby(\"ts_index\").mean().reset_index()\n",
    "full_mod_boot_ints_group['mean'] = full_mod_test_perf['mean'].values\n",
    "full_mod_boot_ints_group['int_95_score_scaled'] = full_mod_boot_ints_group['int_95_score']/full_mod_boot_ints_group['mean']\n",
    "full_mod_boot_ints_group['int_80_score_scaled'] = full_mod_boot_ints_group['int_80_score']/full_mod_boot_ints_group['mean']"
   ]
  },
  {
   "cell_type": "code",
   "execution_count": 122,
   "id": "62168156",
   "metadata": {},
   "outputs": [
    {
     "data": {
      "text/plain": [
       "int_95_score_scaled    0.988728\n",
       "int_80_score_scaled    0.511796\n",
       "dtype: float64"
      ]
     },
     "execution_count": 122,
     "metadata": {},
     "output_type": "execute_result"
    }
   ],
   "source": [
    "full_mod_boot_ints_group[['int_95_score_scaled', 'int_80_score_scaled']].mean()"
   ]
  },
  {
   "cell_type": "markdown",
   "id": "0bb917a4",
   "metadata": {},
   "source": [
    "# Random Clusters"
   ]
  },
  {
   "cell_type": "code",
   "execution_count": 57,
   "id": "13c3ea5b",
   "metadata": {},
   "outputs": [
    {
     "data": {
      "text/plain": [
       "0    3\n",
       "1    2\n",
       "2    1\n",
       "3    4\n",
       "Name: rand, dtype: int64"
      ]
     },
     "execution_count": 57,
     "metadata": {},
     "output_type": "execute_result"
    }
   ],
   "source": [
    "unseen_sen_clust.rand"
   ]
  },
  {
   "cell_type": "code",
   "execution_count": 58,
   "id": "fb565fd4",
   "metadata": {},
   "outputs": [],
   "source": [
    "rand_clust_mod3 = joblib.load(\"Results/Global/LightGBM Default/Random Cluster/model_3\")\n",
    "rand_clust_mod2 = joblib.load(\"Results/Global/LightGBM Default/Random Cluster/model_2\")\n",
    "rand_clust_mod1 = joblib.load(\"Results/Global/LightGBM Default/Random Cluster/model_1\")\n",
    "rand_clust_mod4 = joblib.load(\"Results/Global/LightGBM Default/Random Cluster/model_4\")"
   ]
  },
  {
   "cell_type": "code",
   "execution_count": 59,
   "id": "c97f6b3c",
   "metadata": {},
   "outputs": [],
   "source": [
    "rand_clust_res = pd.read_csv(\"Results/Global/LightGBM Default/Random Cluster/residual.csv\")\n",
    "rand_clust_res['residual'] = rand_clust_res['residual'].apply(eval)\n",
    "\n",
    "res_rand_clust_3 = rand_clust_res.query(\"cluster==3\")['residual'].values[0]\n",
    "res_rand_clust_2 = rand_clust_res.query(\"cluster==2\")['residual'].values[0]\n",
    "res_rand_clust_1 = rand_clust_res.query(\"cluster==1\")['residual'].values[0]\n",
    "res_rand_clust_4 = rand_clust_res.query(\"cluster==4\")['residual'].values[0]"
   ]
  },
  {
   "cell_type": "code",
   "execution_count": 60,
   "id": "a8292772",
   "metadata": {},
   "outputs": [],
   "source": [
    "unseen_test_preds_rand_clust3 = compute_lgbm_test_preds(rand_clust_mod3, \n",
    "                                                        test_df_full.query(\"ts_index==1\"), \n",
    "                                                        lag_n)\n",
    "\n",
    "unseen_test_preds_rand_clust2 = compute_lgbm_test_preds(rand_clust_mod2, \n",
    "                                                        test_df_full.query(\"ts_index==2\"), \n",
    "                                                        lag_n)\n",
    "\n",
    "unseen_test_preds_rand_clust1 = compute_lgbm_test_preds(rand_clust_mod1, \n",
    "                                                        test_df_full.query(\"ts_index==3\"), \n",
    "                                                        lag_n)\n",
    "\n",
    "unseen_test_preds_rand_clust4 = compute_lgbm_test_preds(rand_clust_mod4, \n",
    "                                                        test_df_full.query(\"ts_index==4\"), \n",
    "                                                        lag_n)"
   ]
  },
  {
   "cell_type": "code",
   "execution_count": 61,
   "id": "98ade7a0",
   "metadata": {},
   "outputs": [],
   "source": [
    "# Compute model perf metrics using above function\n",
    "rand_clust3_test_perf = compute_lgbm_test_perf(unseen_test_preds_rand_clust3, test_df_full.query(\"ts_index==1\"))\n",
    "rand_clust2_test_perf = compute_lgbm_test_perf(unseen_test_preds_rand_clust2, test_df_full.query(\"ts_index==2\"))\n",
    "rand_clust1_test_perf = compute_lgbm_test_perf(unseen_test_preds_rand_clust1, test_df_full.query(\"ts_index==3\"))\n",
    "rand_clust4_test_perf = compute_lgbm_test_perf(unseen_test_preds_rand_clust4, test_df_full.query(\"ts_index==4\"))"
   ]
  },
  {
   "cell_type": "code",
   "execution_count": 62,
   "id": "d0cf4159",
   "metadata": {},
   "outputs": [],
   "source": [
    "rand_clust_test_perf = rand_clust3_test_perf.append(rand_clust2_test_perf).append(rand_clust1_test_perf).append(rand_clust4_test_perf)\n",
    "\n",
    "# Compute scaled performance metrics in new columns\n",
    "rand_clust_test_perf['nrmse'] = rand_clust_test_perf['rmse']/rand_clust_test_perf['mean']\n",
    "rand_clust_test_perf['smae'] = rand_clust_test_perf['mae']/rand_clust_test_perf['mean']"
   ]
  },
  {
   "cell_type": "code",
   "execution_count": 63,
   "id": "6d97c69e",
   "metadata": {},
   "outputs": [
    {
     "data": {
      "text/plain": [
       "rmse      42.711446\n",
       "mae       28.379861\n",
       "mean     377.001860\n",
       "nrmse      0.123999\n",
       "smae       0.085846\n",
       "dtype: float64"
      ]
     },
     "execution_count": 63,
     "metadata": {},
     "output_type": "execute_result"
    }
   ],
   "source": [
    "rand_clust_test_perf.mean()"
   ]
  },
  {
   "cell_type": "code",
   "execution_count": 64,
   "id": "24e13b5b",
   "metadata": {},
   "outputs": [],
   "source": [
    "# Compute PIs with 1000 bootstrap samples\n",
    "nboot = 1000\n",
    "\n",
    "rand3_boot_ints = compute_lgbm_boostrap_int(unseen_test_preds_rand_clust3,\n",
    "                                            res_rand_clust_3, \n",
    "                                            nboot)\n",
    "\n",
    "rand2_boot_ints = compute_lgbm_boostrap_int(unseen_test_preds_rand_clust2,\n",
    "                                            res_rand_clust_2, \n",
    "                                            nboot)\n",
    "\n",
    "rand1_boot_ints = compute_lgbm_boostrap_int(unseen_test_preds_rand_clust1,\n",
    "                                            res_rand_clust_1, \n",
    "                                            nboot)\n",
    "\n",
    "rand4_boot_ints = compute_lgbm_boostrap_int(unseen_test_preds_rand_clust4,\n",
    "                                            res_rand_clust_4, \n",
    "                                            nboot)"
   ]
  },
  {
   "cell_type": "code",
   "execution_count": 65,
   "id": "7f381faa",
   "metadata": {},
   "outputs": [],
   "source": [
    "rand_boot_ints = rand3_boot_ints.append(rand2_boot_ints).append(rand1_boot_ints).append(rand4_boot_ints)"
   ]
  },
  {
   "cell_type": "code",
   "execution_count": 66,
   "id": "219cbbce",
   "metadata": {},
   "outputs": [],
   "source": [
    "# Add the true values into their own df column\n",
    "rand_boot_ints['actual'] = test_df_full.iloc[:,0].to_list()"
   ]
  },
  {
   "cell_type": "code",
   "execution_count": 67,
   "id": "b071c8fb",
   "metadata": {},
   "outputs": [],
   "source": [
    "# Compute the 95% and 80% PI scores using the above function as new data frame columns\n",
    "rand_boot_ints['int_95_score'] = interval_score(rand_boot_ints.actual, \n",
    "                                                    rand_boot_ints.lo_95,\n",
    "                                                    rand_boot_ints.hi_95,\n",
    "                                                    0.95)\n",
    "                                                    \n",
    "rand_boot_ints['int_80_score'] = interval_score(rand_boot_ints.actual, \n",
    "                                                    rand_boot_ints.lo_80,\n",
    "                                                    rand_boot_ints.hi_80,\n",
    "                                                    0.80)"
   ]
  },
  {
   "cell_type": "code",
   "execution_count": 68,
   "id": "45ff9f53",
   "metadata": {},
   "outputs": [
    {
     "data": {
      "text/plain": [
       "ts_index          2.500000\n",
       "test_preds      375.772744\n",
       "lo_95           316.066282\n",
       "hi_95           437.109855\n",
       "lo_80           346.402494\n",
       "hi_80           406.045257\n",
       "actual          377.001860\n",
       "int_95_score    374.365077\n",
       "int_80_score    181.435404\n",
       "dtype: float64"
      ]
     },
     "execution_count": 68,
     "metadata": {},
     "output_type": "execute_result"
    }
   ],
   "source": [
    "rand_boot_ints.mean()"
   ]
  },
  {
   "cell_type": "code",
   "execution_count": 123,
   "id": "0983e0d6",
   "metadata": {},
   "outputs": [],
   "source": [
    "rand_boot_ints_group = rand_boot_ints.groupby(\"ts_index\").mean().reset_index()\n",
    "rand_boot_ints_group['mean'] = rand_clust_test_perf['mean'].values\n",
    "rand_boot_ints_group['int_95_score_scaled'] = rand_boot_ints_group['int_95_score']/rand_boot_ints_group['mean']\n",
    "rand_boot_ints_group['int_80_score_scaled'] = rand_boot_ints_group['int_80_score']/rand_boot_ints_group['mean']"
   ]
  },
  {
   "cell_type": "code",
   "execution_count": 124,
   "id": "c70c365e",
   "metadata": {},
   "outputs": [
    {
     "data": {
      "text/plain": [
       "int_95_score_scaled    1.002656\n",
       "int_80_score_scaled    0.526698\n",
       "dtype: float64"
      ]
     },
     "execution_count": 124,
     "metadata": {},
     "output_type": "execute_result"
    }
   ],
   "source": [
    "rand_boot_ints_group[['int_95_score_scaled', 'int_80_score_scaled']].mean()"
   ]
  },
  {
   "cell_type": "markdown",
   "id": "c5f9a90f",
   "metadata": {},
   "source": [
    "# Highway System"
   ]
  },
  {
   "cell_type": "code",
   "execution_count": 69,
   "id": "b403e99e",
   "metadata": {},
   "outputs": [],
   "source": [
    "eng_mod = joblib.load(\"Results/Global/LightGBM Default/Highway System/model_1\")"
   ]
  },
  {
   "cell_type": "code",
   "execution_count": 70,
   "id": "ff6fdf6b",
   "metadata": {},
   "outputs": [],
   "source": [
    "highway_res = pd.read_csv(\"Results/Global/LightGBM Default/Highway System/residual.csv\")\n",
    "highway_res['residual'] = highway_res['residual'].apply(eval)\n",
    "\n",
    "eng_res = highway_res.query(\"cluster==1\")['residual'].values[0]"
   ]
  },
  {
   "cell_type": "code",
   "execution_count": 71,
   "id": "8d4ecd06",
   "metadata": {},
   "outputs": [],
   "source": [
    "unseen_test_preds_highway = compute_lgbm_test_preds(eng_mod, \n",
    "                                                    test_df_full,\n",
    "                                                    lag_n)"
   ]
  },
  {
   "cell_type": "code",
   "execution_count": 72,
   "id": "4eb2aea6",
   "metadata": {},
   "outputs": [],
   "source": [
    "highway_test_perf = compute_lgbm_test_perf(unseen_test_preds_highway, test_df_full)\n"
   ]
  },
  {
   "cell_type": "code",
   "execution_count": 73,
   "id": "0aab78f1",
   "metadata": {},
   "outputs": [],
   "source": [
    "highway_test_perf['nrmse'] = highway_test_perf['rmse']/highway_test_perf['mean']\n",
    "highway_test_perf['smae'] = highway_test_perf['mae']/highway_test_perf['mean']"
   ]
  },
  {
   "cell_type": "code",
   "execution_count": 74,
   "id": "6a64ab62",
   "metadata": {},
   "outputs": [
    {
     "data": {
      "text/plain": [
       "rmse      42.347075\n",
       "mae       27.764704\n",
       "mean     377.001860\n",
       "nrmse      0.123377\n",
       "smae       0.085117\n",
       "dtype: float64"
      ]
     },
     "execution_count": 74,
     "metadata": {},
     "output_type": "execute_result"
    }
   ],
   "source": [
    "highway_test_perf.mean()"
   ]
  },
  {
   "cell_type": "code",
   "execution_count": 75,
   "id": "84b71c7a",
   "metadata": {},
   "outputs": [],
   "source": [
    "highway_boot_ints = compute_lgbm_boostrap_int(unseen_test_preds_highway,\n",
    "                                              eng_res,\n",
    "                                              nboot)"
   ]
  },
  {
   "cell_type": "code",
   "execution_count": 76,
   "id": "5dc0db10",
   "metadata": {},
   "outputs": [],
   "source": [
    "highway_boot_ints['actual'] = test_df_full.iloc[:,0].to_list()"
   ]
  },
  {
   "cell_type": "code",
   "execution_count": 77,
   "id": "6695629b",
   "metadata": {},
   "outputs": [],
   "source": [
    "highway_boot_ints['int_95_score'] = interval_score(highway_boot_ints.actual, \n",
    "                                                    highway_boot_ints.lo_95,\n",
    "                                                    highway_boot_ints.hi_95,\n",
    "                                                    0.95)\n",
    "                                                    \n",
    "highway_boot_ints['int_80_score'] = interval_score(highway_boot_ints.actual, \n",
    "                                                    highway_boot_ints.lo_80,\n",
    "                                                    highway_boot_ints.hi_80,\n",
    "                                                    0.80)"
   ]
  },
  {
   "cell_type": "code",
   "execution_count": 78,
   "id": "24f23466",
   "metadata": {},
   "outputs": [
    {
     "data": {
      "text/plain": [
       "ts_index          2.500000\n",
       "test_preds      377.305552\n",
       "lo_95           304.068483\n",
       "hi_95           454.183336\n",
       "lo_80           341.587625\n",
       "hi_80           414.452887\n",
       "actual          377.001860\n",
       "int_95_score    357.302657\n",
       "int_80_score    174.832742\n",
       "dtype: float64"
      ]
     },
     "execution_count": 78,
     "metadata": {},
     "output_type": "execute_result"
    }
   ],
   "source": [
    "highway_boot_ints.mean()"
   ]
  },
  {
   "cell_type": "code",
   "execution_count": 125,
   "id": "c5a3ad5a",
   "metadata": {},
   "outputs": [],
   "source": [
    "highway_boot_ints_group = highway_boot_ints.groupby(\"ts_index\").mean().reset_index()\n",
    "highway_boot_ints_group['mean'] = highway_test_perf['mean'].values\n",
    "highway_boot_ints_group['int_95_score_scaled'] = highway_boot_ints_group['int_95_score']/highway_boot_ints_group['mean']\n",
    "highway_boot_ints_group['int_80_score_scaled'] = highway_boot_ints_group['int_80_score']/highway_boot_ints_group['mean']"
   ]
  },
  {
   "cell_type": "code",
   "execution_count": 126,
   "id": "bec6014e",
   "metadata": {},
   "outputs": [
    {
     "data": {
      "text/plain": [
       "int_95_score_scaled    1.039300\n",
       "int_80_score_scaled    0.539604\n",
       "dtype: float64"
      ]
     },
     "execution_count": 126,
     "metadata": {},
     "output_type": "execute_result"
    }
   ],
   "source": [
    "highway_boot_ints_group[['int_95_score_scaled', 'int_80_score_scaled']].mean()"
   ]
  },
  {
   "cell_type": "markdown",
   "id": "d7947d52",
   "metadata": {},
   "source": [
    "# Catch22 KMeans Clusters"
   ]
  },
  {
   "cell_type": "code",
   "execution_count": 79,
   "id": "3f301dbc",
   "metadata": {},
   "outputs": [
    {
     "data": {
      "text/plain": [
       "0    1\n",
       "1    1\n",
       "2    1\n",
       "3    1\n",
       "Name: catch22, dtype: int64"
      ]
     },
     "execution_count": 79,
     "metadata": {},
     "output_type": "execute_result"
    }
   ],
   "source": [
    "unseen_sen_clust.catch22"
   ]
  },
  {
   "cell_type": "code",
   "execution_count": 80,
   "id": "bf54b063",
   "metadata": {},
   "outputs": [],
   "source": [
    "catch22_mod1 = joblib.load(\"Results/Global/LightGBM Default/Catch22 KMeans/model_1\")"
   ]
  },
  {
   "cell_type": "code",
   "execution_count": 81,
   "id": "3242966b",
   "metadata": {},
   "outputs": [],
   "source": [
    "catch22_res = pd.read_csv(\"Results/Global/LightGBM Default/Catch22 KMeans/residual.csv\")\n",
    "catch22_res['residual'] = catch22_res['residual'].apply(eval)\n",
    "\n",
    "catch22_res1 = catch22_res.query(\"cluster==1\")['residual'].values[0]"
   ]
  },
  {
   "cell_type": "code",
   "execution_count": 82,
   "id": "811ba3c3",
   "metadata": {},
   "outputs": [],
   "source": [
    "unseen_test_preds_catch22 = compute_lgbm_test_preds(catch22_mod1, \n",
    "                                                    test_df_full,\n",
    "                                                    lag_n)"
   ]
  },
  {
   "cell_type": "code",
   "execution_count": 83,
   "id": "1fba020b",
   "metadata": {},
   "outputs": [],
   "source": [
    "catch22_test_perf = compute_lgbm_test_perf(unseen_test_preds_catch22, test_df_full)\n"
   ]
  },
  {
   "cell_type": "code",
   "execution_count": 84,
   "id": "2f28a99f",
   "metadata": {},
   "outputs": [],
   "source": [
    "catch22_test_perf['nrmse'] = catch22_test_perf['rmse']/catch22_test_perf['mean']\n",
    "catch22_test_perf['smae'] = catch22_test_perf['mae']/catch22_test_perf['mean']"
   ]
  },
  {
   "cell_type": "code",
   "execution_count": 85,
   "id": "6d78b1de",
   "metadata": {},
   "outputs": [
    {
     "data": {
      "text/plain": [
       "rmse      42.069581\n",
       "mae       27.545796\n",
       "mean     377.001860\n",
       "nrmse      0.122236\n",
       "smae       0.084184\n",
       "dtype: float64"
      ]
     },
     "execution_count": 85,
     "metadata": {},
     "output_type": "execute_result"
    }
   ],
   "source": [
    "catch22_test_perf.mean()"
   ]
  },
  {
   "cell_type": "code",
   "execution_count": 86,
   "id": "90c869fd",
   "metadata": {},
   "outputs": [],
   "source": [
    "catch22_boot_ints = compute_lgbm_boostrap_int(unseen_test_preds_catch22,\n",
    "                                               catch22_res1,\n",
    "                                               1000)"
   ]
  },
  {
   "cell_type": "code",
   "execution_count": 87,
   "id": "2a58d568",
   "metadata": {},
   "outputs": [],
   "source": [
    "catch22_boot_ints['actual'] = test_df_full.iloc[:,0].to_list()"
   ]
  },
  {
   "cell_type": "code",
   "execution_count": 88,
   "id": "499b67a6",
   "metadata": {},
   "outputs": [],
   "source": [
    "catch22_boot_ints['int_95_score'] = interval_score(catch22_boot_ints.actual, \n",
    "                                                    catch22_boot_ints.lo_95,\n",
    "                                                    catch22_boot_ints.hi_95,\n",
    "                                                    0.95)\n",
    "                                                    \n",
    "catch22_boot_ints['int_80_score'] = interval_score(catch22_boot_ints.actual, \n",
    "                                                    catch22_boot_ints.lo_80,\n",
    "                                                    catch22_boot_ints.hi_80,\n",
    "                                                    0.80)"
   ]
  },
  {
   "cell_type": "code",
   "execution_count": 89,
   "id": "8f18d016",
   "metadata": {},
   "outputs": [
    {
     "data": {
      "text/plain": [
       "ts_index          2.500000\n",
       "test_preds      377.360313\n",
       "lo_95           312.974815\n",
       "hi_95           444.316797\n",
       "lo_80           345.486081\n",
       "hi_80           409.939152\n",
       "actual          377.001860\n",
       "int_95_score    368.665484\n",
       "int_80_score    174.748017\n",
       "dtype: float64"
      ]
     },
     "execution_count": 89,
     "metadata": {},
     "output_type": "execute_result"
    }
   ],
   "source": [
    "catch22_boot_ints.mean()"
   ]
  },
  {
   "cell_type": "code",
   "execution_count": 127,
   "id": "1652684e",
   "metadata": {},
   "outputs": [],
   "source": [
    "catch22_boot_ints_group = catch22_boot_ints.groupby(\"ts_index\").mean().reset_index()\n",
    "catch22_boot_ints_group['mean'] = catch22_test_perf['mean'].values\n",
    "catch22_boot_ints_group['int_95_score_scaled'] = catch22_boot_ints_group['int_95_score']/catch22_boot_ints_group['mean']\n",
    "catch22_boot_ints_group['int_80_score_scaled'] = catch22_boot_ints_group['int_80_score']/catch22_boot_ints_group['mean']"
   ]
  },
  {
   "cell_type": "code",
   "execution_count": 128,
   "id": "1f78d457",
   "metadata": {},
   "outputs": [
    {
     "data": {
      "text/plain": [
       "int_95_score_scaled    0.992367\n",
       "int_80_score_scaled    0.517228\n",
       "dtype: float64"
      ]
     },
     "execution_count": 128,
     "metadata": {},
     "output_type": "execute_result"
    }
   ],
   "source": [
    "catch22_boot_ints_group[['int_95_score_scaled', 'int_80_score_scaled']].mean()"
   ]
  },
  {
   "cell_type": "markdown",
   "id": "dc70f846",
   "metadata": {},
   "source": [
    "# Train and Test - TSFeat KMeans Clusters"
   ]
  },
  {
   "cell_type": "code",
   "execution_count": 90,
   "id": "aa54c033",
   "metadata": {},
   "outputs": [
    {
     "data": {
      "text/plain": [
       "0    2\n",
       "1    2\n",
       "2    2\n",
       "3    1\n",
       "Name: tsfeat, dtype: int64"
      ]
     },
     "execution_count": 90,
     "metadata": {},
     "output_type": "execute_result"
    }
   ],
   "source": [
    "unseen_sen_clust.tsfeat"
   ]
  },
  {
   "cell_type": "code",
   "execution_count": 91,
   "id": "e246c7fd",
   "metadata": {},
   "outputs": [],
   "source": [
    "tsfeat_mod2 = joblib.load(\"Results/Global/LightGBM Default/TSFeat KMeans/model_2\")\n",
    "tsfeat_mod1 = joblib.load(\"Results/Global/LightGBM Default/TSFeat KMeans/model_1\")"
   ]
  },
  {
   "cell_type": "code",
   "execution_count": 92,
   "id": "b7dfc9ea",
   "metadata": {},
   "outputs": [],
   "source": [
    "tsfeat_res = pd.read_csv(\"Results/Global/LightGBM Default/TSFeat KMeans/residual.csv\")\n",
    "tsfeat_res['residual'] = tsfeat_res['residual'].apply(eval)\n",
    "\n",
    "tsfeat_res2 = tsfeat_res.query(\"cluster==2\")['residual'].values[0]\n",
    "tsfeat_res1 = tsfeat_res.query(\"cluster==1\")['residual'].values[0]"
   ]
  },
  {
   "cell_type": "code",
   "execution_count": 93,
   "id": "45a37fc7",
   "metadata": {},
   "outputs": [],
   "source": [
    "unseen_test_preds_tsfeat2 = compute_lgbm_test_preds(tsfeat_mod2, \n",
    "                                                    test_df_full.query(\"ts_index!=4\"),\n",
    "                                                    lag_n)\n",
    "\n",
    "unseen_test_preds_tsfeat1 = compute_lgbm_test_preds(tsfeat_mod2, \n",
    "                                                    test_df_full.query(\"ts_index==4\"),\n",
    "                                                    lag_n)"
   ]
  },
  {
   "cell_type": "code",
   "execution_count": 96,
   "id": "e440dce8",
   "metadata": {},
   "outputs": [],
   "source": [
    "tsfeat_test_perf2 = compute_lgbm_test_perf(unseen_test_preds_tsfeat2, test_df_full.query(\"ts_index!=4\"))\n",
    "\n",
    "tsfeat_test_perf1 = compute_lgbm_test_perf(unseen_test_preds_tsfeat1, test_df_full.query(\"ts_index==4\"))\n",
    "\n",
    "tsfeat_test_perf = tsfeat_test_perf2.append(tsfeat_test_perf1)"
   ]
  },
  {
   "cell_type": "code",
   "execution_count": 97,
   "id": "32858c8a",
   "metadata": {},
   "outputs": [],
   "source": [
    "tsfeat_test_perf['nrmse'] = tsfeat_test_perf['rmse']/tsfeat_test_perf['mean']\n",
    "tsfeat_test_perf['smae'] = tsfeat_test_perf['mae']/tsfeat_test_perf['mean']"
   ]
  },
  {
   "cell_type": "code",
   "execution_count": 99,
   "id": "b3325ac4",
   "metadata": {},
   "outputs": [
    {
     "data": {
      "text/html": [
       "<div>\n",
       "<style scoped>\n",
       "    .dataframe tbody tr th:only-of-type {\n",
       "        vertical-align: middle;\n",
       "    }\n",
       "\n",
       "    .dataframe tbody tr th {\n",
       "        vertical-align: top;\n",
       "    }\n",
       "\n",
       "    .dataframe thead th {\n",
       "        text-align: right;\n",
       "    }\n",
       "</style>\n",
       "<table border=\"1\" class=\"dataframe\">\n",
       "  <thead>\n",
       "    <tr style=\"text-align: right;\">\n",
       "      <th></th>\n",
       "      <th>rmse</th>\n",
       "      <th>mae</th>\n",
       "      <th>mean</th>\n",
       "      <th>nrmse</th>\n",
       "      <th>smae</th>\n",
       "    </tr>\n",
       "  </thead>\n",
       "  <tbody>\n",
       "    <tr>\n",
       "      <th>0</th>\n",
       "      <td>22.009990</td>\n",
       "      <td>15.749714</td>\n",
       "      <td>199.294643</td>\n",
       "      <td>0.110439</td>\n",
       "      <td>0.079027</td>\n",
       "    </tr>\n",
       "    <tr>\n",
       "      <th>1</th>\n",
       "      <td>14.501915</td>\n",
       "      <td>10.338877</td>\n",
       "      <td>87.426339</td>\n",
       "      <td>0.165876</td>\n",
       "      <td>0.118258</td>\n",
       "    </tr>\n",
       "    <tr>\n",
       "      <th>2</th>\n",
       "      <td>40.833204</td>\n",
       "      <td>28.838692</td>\n",
       "      <td>405.072917</td>\n",
       "      <td>0.100805</td>\n",
       "      <td>0.071194</td>\n",
       "    </tr>\n",
       "    <tr>\n",
       "      <th>0</th>\n",
       "      <td>93.057442</td>\n",
       "      <td>56.384334</td>\n",
       "      <td>816.213542</td>\n",
       "      <td>0.114011</td>\n",
       "      <td>0.069080</td>\n",
       "    </tr>\n",
       "  </tbody>\n",
       "</table>\n",
       "</div>"
      ],
      "text/plain": [
       "        rmse        mae        mean     nrmse      smae\n",
       "0  22.009990  15.749714  199.294643  0.110439  0.079027\n",
       "1  14.501915  10.338877   87.426339  0.165876  0.118258\n",
       "2  40.833204  28.838692  405.072917  0.100805  0.071194\n",
       "0  93.057442  56.384334  816.213542  0.114011  0.069080"
      ]
     },
     "execution_count": 99,
     "metadata": {},
     "output_type": "execute_result"
    }
   ],
   "source": [
    "tsfeat_test_perf"
   ]
  },
  {
   "cell_type": "code",
   "execution_count": 98,
   "id": "4fce86d0",
   "metadata": {},
   "outputs": [
    {
     "data": {
      "text/plain": [
       "rmse      42.600638\n",
       "mae       27.827904\n",
       "mean     377.001860\n",
       "nrmse      0.122783\n",
       "smae       0.084390\n",
       "dtype: float64"
      ]
     },
     "execution_count": 98,
     "metadata": {},
     "output_type": "execute_result"
    }
   ],
   "source": [
    "tsfeat_test_perf.mean()"
   ]
  },
  {
   "cell_type": "code",
   "execution_count": 100,
   "id": "f802eafe",
   "metadata": {},
   "outputs": [],
   "source": [
    "tsfeat_boot_ints2 = compute_lgbm_boostrap_int(unseen_test_preds_tsfeat2,\n",
    "                                              tsfeat_res2,\n",
    "                                              nboot)\n",
    "\n",
    "tsfeat_boot_ints1 = compute_lgbm_boostrap_int(unseen_test_preds_tsfeat1,\n",
    "                                              tsfeat_res1,\n",
    "                                              nboot)\n",
    "\n",
    "tsfeat_boot_ints = tsfeat_boot_ints2.append(tsfeat_boot_ints1)"
   ]
  },
  {
   "cell_type": "code",
   "execution_count": 101,
   "id": "dfeb1596",
   "metadata": {},
   "outputs": [],
   "source": [
    "tsfeat_boot_ints['actual'] = test_df_full.iloc[:,0].to_list()"
   ]
  },
  {
   "cell_type": "code",
   "execution_count": 102,
   "id": "a2a75a8a",
   "metadata": {},
   "outputs": [],
   "source": [
    "tsfeat_boot_ints['int_95_score'] = interval_score(tsfeat_boot_ints.actual, \n",
    "                                                    tsfeat_boot_ints.lo_95,\n",
    "                                                    tsfeat_boot_ints.hi_95,\n",
    "                                                    0.95)\n",
    "                                                    \n",
    "tsfeat_boot_ints['int_80_score'] = interval_score(tsfeat_boot_ints.actual, \n",
    "                                                    tsfeat_boot_ints.lo_80,\n",
    "                                                    tsfeat_boot_ints.hi_80,\n",
    "                                                    0.80)"
   ]
  },
  {
   "cell_type": "code",
   "execution_count": 107,
   "id": "2e3fc38c",
   "metadata": {},
   "outputs": [
    {
     "data": {
      "text/html": [
       "<div>\n",
       "<style scoped>\n",
       "    .dataframe tbody tr th:only-of-type {\n",
       "        vertical-align: middle;\n",
       "    }\n",
       "\n",
       "    .dataframe tbody tr th {\n",
       "        vertical-align: top;\n",
       "    }\n",
       "\n",
       "    .dataframe thead th {\n",
       "        text-align: right;\n",
       "    }\n",
       "</style>\n",
       "<table border=\"1\" class=\"dataframe\">\n",
       "  <thead>\n",
       "    <tr style=\"text-align: right;\">\n",
       "      <th></th>\n",
       "      <th>int_80_score</th>\n",
       "      <th>int_95_score</th>\n",
       "    </tr>\n",
       "    <tr>\n",
       "      <th>ts_index</th>\n",
       "      <th></th>\n",
       "      <th></th>\n",
       "    </tr>\n",
       "  </thead>\n",
       "  <tbody>\n",
       "    <tr>\n",
       "      <th>1</th>\n",
       "      <td>83.708671</td>\n",
       "      <td>133.058487</td>\n",
       "    </tr>\n",
       "    <tr>\n",
       "      <th>2</th>\n",
       "      <td>66.585166</td>\n",
       "      <td>127.343683</td>\n",
       "    </tr>\n",
       "    <tr>\n",
       "      <th>3</th>\n",
       "      <td>158.863413</td>\n",
       "      <td>245.127729</td>\n",
       "    </tr>\n",
       "    <tr>\n",
       "      <th>4</th>\n",
       "      <td>397.829813</td>\n",
       "      <td>957.555793</td>\n",
       "    </tr>\n",
       "  </tbody>\n",
       "</table>\n",
       "</div>"
      ],
      "text/plain": [
       "          int_80_score  int_95_score\n",
       "ts_index                            \n",
       "1            83.708671    133.058487\n",
       "2            66.585166    127.343683\n",
       "3           158.863413    245.127729\n",
       "4           397.829813    957.555793"
      ]
     },
     "execution_count": 107,
     "metadata": {},
     "output_type": "execute_result"
    }
   ],
   "source": [
    "tsfeat_boot_ints.groupby('ts_index').agg({'int_80_score': 'mean', 'int_95_score': 'mean'})"
   ]
  },
  {
   "cell_type": "code",
   "execution_count": 105,
   "id": "479aced8",
   "metadata": {},
   "outputs": [
    {
     "data": {
      "text/plain": [
       "ts_index          2.500000\n",
       "test_preds      376.985258\n",
       "lo_95           313.032813\n",
       "hi_95           442.836050\n",
       "lo_80           346.189179\n",
       "hi_80           408.672506\n",
       "actual          377.001860\n",
       "int_95_score    365.771423\n",
       "int_80_score    176.746766\n",
       "dtype: float64"
      ]
     },
     "execution_count": 105,
     "metadata": {},
     "output_type": "execute_result"
    }
   ],
   "source": [
    "tsfeat_boot_ints.mean()"
   ]
  },
  {
   "cell_type": "code",
   "execution_count": 129,
   "id": "8b36d145",
   "metadata": {},
   "outputs": [],
   "source": [
    "tsfeat_boot_ints_group = tsfeat_boot_ints.groupby(\"ts_index\").mean().reset_index()\n",
    "tsfeat_boot_ints_group['mean'] = tsfeat_test_perf['mean'].values\n",
    "tsfeat_boot_ints_group['int_95_score_scaled'] = tsfeat_boot_ints_group['int_95_score']/tsfeat_boot_ints_group['mean']\n",
    "tsfeat_boot_ints_group['int_80_score_scaled'] = tsfeat_boot_ints_group['int_80_score']/tsfeat_boot_ints_group['mean']"
   ]
  },
  {
   "cell_type": "code",
   "execution_count": 130,
   "id": "ea6af19f",
   "metadata": {},
   "outputs": [
    {
     "data": {
      "text/plain": [
       "int_95_score_scaled    0.975636\n",
       "int_80_score_scaled    0.515308\n",
       "dtype: float64"
      ]
     },
     "execution_count": 130,
     "metadata": {},
     "output_type": "execute_result"
    }
   ],
   "source": [
    "tsfeat_boot_ints_group[['int_95_score_scaled', 'int_80_score_scaled']].mean()"
   ]
  },
  {
   "cell_type": "markdown",
   "id": "fd3a47f7",
   "metadata": {},
   "source": [
    "# Train and Test - DTW Clusters"
   ]
  },
  {
   "cell_type": "code",
   "execution_count": 108,
   "id": "f88079d7",
   "metadata": {},
   "outputs": [
    {
     "data": {
      "text/plain": [
       "0    2\n",
       "1    1\n",
       "2    1\n",
       "3    1\n",
       "Name: dtw, dtype: int64"
      ]
     },
     "execution_count": 108,
     "metadata": {},
     "output_type": "execute_result"
    }
   ],
   "source": [
    "unseen_sen_clust.dtw"
   ]
  },
  {
   "cell_type": "code",
   "execution_count": 109,
   "id": "d3b21678",
   "metadata": {},
   "outputs": [],
   "source": [
    "dtw_mod2 = joblib.load(\"Results/Global/LightGBM Default/DTW/model_2\")\n",
    "dtw_mod1 = joblib.load(\"Results/Global/LightGBM Default/DTW/model_1\")"
   ]
  },
  {
   "cell_type": "code",
   "execution_count": 110,
   "id": "b28f944b",
   "metadata": {},
   "outputs": [],
   "source": [
    "dtw_res = pd.read_csv(\"Results/Global/LightGBM Default/DTW/residual.csv\")\n",
    "dtw_res['residual'] = dtw_res['residual'].apply(eval)\n",
    "\n",
    "dtw_res2 = dtw_res.query(\"cluster==2\")['residual'].values[0]\n",
    "dtw_res1 = dtw_res.query(\"cluster==1\")['residual'].values[0]"
   ]
  },
  {
   "cell_type": "code",
   "execution_count": 111,
   "id": "2237aba4",
   "metadata": {},
   "outputs": [],
   "source": [
    "unseen_test_preds_dtw2 = compute_lgbm_test_preds(dtw_mod2, \n",
    "                                                 test_df_full.query(\"ts_index==1\"),\n",
    "                                                 lag_n)\n",
    "\n",
    "unseen_test_preds_dtw1 = compute_lgbm_test_preds(dtw_mod1, \n",
    "                                                 test_df_full.query(\"ts_index!=1\"),\n",
    "                                                 lag_n)"
   ]
  },
  {
   "cell_type": "code",
   "execution_count": 112,
   "id": "1ae50fe1",
   "metadata": {},
   "outputs": [],
   "source": [
    "dtw_test_perf2 = compute_lgbm_test_perf(unseen_test_preds_dtw2, test_df_full.query(\"ts_index==1\"))\n",
    "\n",
    "dtw_test_perf1 = compute_lgbm_test_perf(unseen_test_preds_dtw1, test_df_full.query(\"ts_index!=1\"))\n",
    "\n",
    "dtw_test_perf = dtw_test_perf2.append(dtw_test_perf1)"
   ]
  },
  {
   "cell_type": "code",
   "execution_count": 113,
   "id": "d5071ca4",
   "metadata": {},
   "outputs": [],
   "source": [
    "dtw_test_perf['nrmse'] = dtw_test_perf['rmse']/dtw_test_perf['mean']\n",
    "dtw_test_perf['smae'] = dtw_test_perf['mae']/dtw_test_perf['mean']"
   ]
  },
  {
   "cell_type": "code",
   "execution_count": 114,
   "id": "da54aa2f",
   "metadata": {},
   "outputs": [
    {
     "data": {
      "text/plain": [
       "rmse      43.121699\n",
       "mae       28.311100\n",
       "mean     377.001860\n",
       "nrmse      0.137038\n",
       "smae       0.094552\n",
       "dtype: float64"
      ]
     },
     "execution_count": 114,
     "metadata": {},
     "output_type": "execute_result"
    }
   ],
   "source": [
    "dtw_test_perf.mean()"
   ]
  },
  {
   "cell_type": "code",
   "execution_count": 115,
   "id": "1c63f654",
   "metadata": {},
   "outputs": [],
   "source": [
    "dtw_boot_ints2 = compute_lgbm_boostrap_int(unseen_test_preds_dtw2,\n",
    "                                           dtw_res2,\n",
    "                                           nboot)\n",
    "\n",
    "dtw_boot_ints1 = compute_lgbm_boostrap_int(unseen_test_preds_dtw1,\n",
    "                                           dtw_res1,\n",
    "                                           nboot)"
   ]
  },
  {
   "cell_type": "code",
   "execution_count": 116,
   "id": "9fb8b0c4",
   "metadata": {},
   "outputs": [],
   "source": [
    "dtw_boot_ints = dtw_boot_ints2.append(dtw_boot_ints1)\n",
    "dtw_boot_ints['actual'] = test_df_full.iloc[:,0].to_list()"
   ]
  },
  {
   "cell_type": "code",
   "execution_count": 117,
   "id": "f7a459b3",
   "metadata": {},
   "outputs": [],
   "source": [
    "dtw_boot_ints['int_95_score'] = interval_score(dtw_boot_ints.actual, \n",
    "                                                    dtw_boot_ints.lo_95,\n",
    "                                                    dtw_boot_ints.hi_95,\n",
    "                                                    0.95)\n",
    "                                                    \n",
    "dtw_boot_ints['int_80_score'] = interval_score(dtw_boot_ints.actual, \n",
    "                                                    dtw_boot_ints.lo_80,\n",
    "                                                    dtw_boot_ints.hi_80,\n",
    "                                                    0.80)"
   ]
  },
  {
   "cell_type": "code",
   "execution_count": 118,
   "id": "1e730e7f",
   "metadata": {},
   "outputs": [
    {
     "data": {
      "text/plain": [
       "ts_index          2.500000\n",
       "test_preds      378.016010\n",
       "lo_95           299.665418\n",
       "hi_95           459.672752\n",
       "lo_80           336.996847\n",
       "hi_80           420.484967\n",
       "actual          377.001860\n",
       "int_95_score    327.764797\n",
       "int_80_score    170.327615\n",
       "dtype: float64"
      ]
     },
     "execution_count": 118,
     "metadata": {},
     "output_type": "execute_result"
    }
   ],
   "source": [
    "dtw_boot_ints.mean()"
   ]
  },
  {
   "cell_type": "code",
   "execution_count": 131,
   "id": "580519be",
   "metadata": {},
   "outputs": [],
   "source": [
    "dtw_boot_ints_group = dtw_boot_ints.groupby(\"ts_index\").mean().reset_index()\n",
    "dtw_boot_ints_group['mean'] = dtw_test_perf['mean'].values\n",
    "dtw_boot_ints_group['int_95_score_scaled'] = dtw_boot_ints_group['int_95_score']/dtw_boot_ints_group['mean']\n",
    "dtw_boot_ints_group['int_80_score_scaled'] = dtw_boot_ints_group['int_80_score']/dtw_boot_ints_group['mean']"
   ]
  },
  {
   "cell_type": "code",
   "execution_count": 132,
   "id": "0a433b78",
   "metadata": {},
   "outputs": [
    {
     "data": {
      "text/plain": [
       "int_95_score_scaled    1.057273\n",
       "int_80_score_scaled    0.589595\n",
       "dtype: float64"
      ]
     },
     "execution_count": 132,
     "metadata": {},
     "output_type": "execute_result"
    }
   ],
   "source": [
    "dtw_boot_ints_group[['int_95_score_scaled', 'int_80_score_scaled']].mean()"
   ]
  },
  {
   "cell_type": "code",
   "execution_count": null,
   "id": "d2022303",
   "metadata": {},
   "outputs": [],
   "source": []
  }
 ],
 "metadata": {
  "kernelspec": {
   "display_name": "conda_python3",
   "language": "python",
   "name": "conda_python3"
  },
  "language_info": {
   "codemirror_mode": {
    "name": "ipython",
    "version": 3
   },
   "file_extension": ".py",
   "mimetype": "text/x-python",
   "name": "python",
   "nbconvert_exporter": "python",
   "pygments_lexer": "ipython3",
   "version": "3.8.12"
  }
 },
 "nbformat": 4,
 "nbformat_minor": 5
}
