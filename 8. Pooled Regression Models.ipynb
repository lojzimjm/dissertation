{
 "cells": [
  {
   "cell_type": "code",
   "execution_count": 1,
   "id": "0e8f543b",
   "metadata": {},
   "outputs": [],
   "source": [
    "rm(list=ls())"
   ]
  },
  {
   "cell_type": "code",
   "execution_count": 2,
   "id": "f4186a6e",
   "metadata": {},
   "outputs": [
    {
     "data": {
      "text/html": [
       "<table class=\"dataframe\">\n",
       "<caption>A matrix: 2 × 6 of type dbl</caption>\n",
       "<thead>\n",
       "\t<tr><th></th><th scope=col>used</th><th scope=col>(Mb)</th><th scope=col>gc trigger</th><th scope=col>(Mb)</th><th scope=col>max used</th><th scope=col>(Mb)</th></tr>\n",
       "</thead>\n",
       "<tbody>\n",
       "\t<tr><th scope=row>Ncells</th><td> 610585</td><td>32.7</td><td>1320457</td><td>70.6</td><td>1262551</td><td>67.5</td></tr>\n",
       "\t<tr><th scope=row>Vcells</th><td>1141177</td><td> 8.8</td><td>8388608</td><td>64.0</td><td>1821309</td><td>13.9</td></tr>\n",
       "</tbody>\n",
       "</table>\n"
      ],
      "text/latex": [
       "A matrix: 2 × 6 of type dbl\n",
       "\\begin{tabular}{r|llllll}\n",
       "  & used & (Mb) & gc trigger & (Mb) & max used & (Mb)\\\\\n",
       "\\hline\n",
       "\tNcells &  610585 & 32.7 & 1320457 & 70.6 & 1262551 & 67.5\\\\\n",
       "\tVcells & 1141177 &  8.8 & 8388608 & 64.0 & 1821309 & 13.9\\\\\n",
       "\\end{tabular}\n"
      ],
      "text/markdown": [
       "\n",
       "A matrix: 2 × 6 of type dbl\n",
       "\n",
       "| <!--/--> | used | (Mb) | gc trigger | (Mb) | max used | (Mb) |\n",
       "|---|---|---|---|---|---|---|\n",
       "| Ncells |  610585 | 32.7 | 1320457 | 70.6 | 1262551 | 67.5 |\n",
       "| Vcells | 1141177 |  8.8 | 8388608 | 64.0 | 1821309 | 13.9 |\n",
       "\n"
      ],
      "text/plain": [
       "       used    (Mb) gc trigger (Mb) max used (Mb)\n",
       "Ncells  610585 32.7 1320457    70.6 1262551  67.5\n",
       "Vcells 1141177  8.8 8388608    64.0 1821309  13.9"
      ]
     },
     "metadata": {},
     "output_type": "display_data"
    }
   ],
   "source": [
    "gc()"
   ]
  },
  {
   "cell_type": "code",
   "execution_count": 3,
   "id": "5ca0bba6",
   "metadata": {},
   "outputs": [],
   "source": [
    "# Uncomment and run to install packages if needed\n",
    "# install.packages(\"tidyverse\") \n",
    "# install.packages(\"cluster\")\n",
    "# install.packages(\"forecast\")\n",
    "# install.packages(\"Metrics\")\n",
    "# install.packages(\"biglm\")\n",
    "# install.packages(\"tseries\")\n",
    "# install.packages(\"scoringutils\")"
   ]
  },
  {
   "cell_type": "code",
   "execution_count": 4,
   "id": "d3433965",
   "metadata": {},
   "outputs": [
    {
     "name": "stderr",
     "output_type": "stream",
     "text": [
      "Warning message:\n",
      "“‘timedatectl’ indicates the non-existent timezone name ‘n/a’”\n",
      "Warning message:\n",
      "“Your system is mis-configured: ‘/etc/localtime’ is not a symlink”\n",
      "Warning message:\n",
      "“It is strongly recommended to set envionment variable TZ to ‘Etc/UCT’ (or equivalent)”\n",
      "── \u001b[1mAttaching packages\u001b[22m ─────────────────────────────────────── tidyverse 1.3.1 ──\n",
      "\n",
      "\u001b[32m✔\u001b[39m \u001b[34mggplot2\u001b[39m 3.3.6     \u001b[32m✔\u001b[39m \u001b[34mpurrr  \u001b[39m 0.3.4\n",
      "\u001b[32m✔\u001b[39m \u001b[34mtibble \u001b[39m 3.1.7     \u001b[32m✔\u001b[39m \u001b[34mdplyr  \u001b[39m 1.0.9\n",
      "\u001b[32m✔\u001b[39m \u001b[34mtidyr  \u001b[39m 1.2.0     \u001b[32m✔\u001b[39m \u001b[34mstringr\u001b[39m 1.4.0\n",
      "\u001b[32m✔\u001b[39m \u001b[34mreadr  \u001b[39m 2.1.2     \u001b[32m✔\u001b[39m \u001b[34mforcats\u001b[39m 0.5.1\n",
      "\n",
      "── \u001b[1mConflicts\u001b[22m ────────────────────────────────────────── tidyverse_conflicts() ──\n",
      "\u001b[31m✖\u001b[39m \u001b[34mdplyr\u001b[39m::\u001b[32mfilter()\u001b[39m masks \u001b[34mstats\u001b[39m::filter()\n",
      "\u001b[31m✖\u001b[39m \u001b[34mdplyr\u001b[39m::\u001b[32mlag()\u001b[39m    masks \u001b[34mstats\u001b[39m::lag()\n",
      "\n",
      "Registered S3 method overwritten by 'quantmod':\n",
      "  method            from\n",
      "  as.zoo.data.frame zoo \n",
      "\n",
      "\n",
      "Attaching package: ‘Metrics’\n",
      "\n",
      "\n",
      "The following object is masked from ‘package:forecast’:\n",
      "\n",
      "    accuracy\n",
      "\n",
      "\n",
      "Loading required package: DBI\n",
      "\n",
      "Note: scoringutils 1.0.0 introduces a lot of breaking changes and we apologise for any inconvenience. If you prefer the old interface, please download version 0.1.8 using remotes::install_github(\"epiforecasts/scoringutils@v0.1.8\")\n",
      "\n"
     ]
    }
   ],
   "source": [
    "library(tidyverse)\n",
    "library(parallel)\n",
    "library(cluster)\n",
    "library(forecast)\n",
    "library(Metrics)\n",
    "library(biglm)\n",
    "library(tseries)\n",
    "library(scoringutils)"
   ]
  },
  {
   "cell_type": "code",
   "execution_count": 5,
   "id": "11e2a8e8",
   "metadata": {},
   "outputs": [],
   "source": [
    "# Create the folders to save results in\n",
    "res_folder1 <- \"Results/Global/Pooled Regression/Full/\"\n",
    "if (!file.exists(res_folder1)) {\n",
    " dir.create(res_folder1, recursive=TRUE)\n",
    "}\n",
    "\n",
    "res_folder2 <- \"Results/Global/Pooled Regression/Highway System/\"\n",
    "if (!file.exists(res_folder2)) {\n",
    " dir.create(res_folder2, recursive=TRUE)\n",
    "}\n",
    "\n",
    "res_folder3 <- \"Results/Global/Pooled Regression/Random Cluster/\"\n",
    "if (!file.exists(res_folder3)) {\n",
    " dir.create(res_folder3, recursive=TRUE)\n",
    "}\n",
    "\n",
    "res_folder4 <- \"Results/Global/Pooled Regression/Catch22 KMeans/\"\n",
    "if (!file.exists(res_folder4)) {\n",
    " dir.create(res_folder4, recursive=TRUE)\n",
    "}\n",
    "\n",
    "res_folder5 <- \"Results/Global/Pooled Regression/TSFeat KMeans/\"\n",
    "if (!file.exists(res_folder5)) {\n",
    " dir.create(res_folder5, recursive=TRUE)\n",
    "}\n",
    "\n",
    "res_folder6 <- \"Results/Global/Pooled Regression/DTW/\"\n",
    "if (!file.exists(res_folder6)) {\n",
    " dir.create(res_folder6, recursive=TRUE)\n",
    "}"
   ]
  },
  {
   "cell_type": "markdown",
   "id": "7f955058",
   "metadata": {},
   "source": [
    "# Read in and Subset Data"
   ]
  },
  {
   "cell_type": "code",
   "execution_count": 6,
   "id": "7b4b5d80",
   "metadata": {},
   "outputs": [
    {
     "name": "stderr",
     "output_type": "stream",
     "text": [
      "\u001b[1mRows: \u001b[22m\u001b[34m35040\u001b[39m \u001b[1mColumns: \u001b[22m\u001b[34m10\u001b[39m\n",
      "\u001b[36m──\u001b[39m \u001b[1mColumn specification\u001b[22m \u001b[36m────────────────────────────────────────────────────────\u001b[39m\n",
      "\u001b[1mDelimiter:\u001b[22m \",\"\n",
      "\u001b[31mchr\u001b[39m  (1): site_name\n",
      "\u001b[32mdbl\u001b[39m  (5): day_of_week, day_of_year, interval_of_day, avg_mph, total_volume\n",
      "\u001b[33mlgl\u001b[39m  (2): missing_speed, missing_volume\n",
      "\u001b[34mdttm\u001b[39m (1): timestamp\n",
      "\u001b[34mdate\u001b[39m (1): date\n",
      "\n",
      "\u001b[36mℹ\u001b[39m Use `spec()` to retrieve the full column specification for this data.\n",
      "\u001b[36mℹ\u001b[39m Specify the column types or set `show_col_types = FALSE` to quiet this message.\n",
      "\u001b[1mRows: \u001b[22m\u001b[34m35040\u001b[39m \u001b[1mColumns: \u001b[22m\u001b[34m10\u001b[39m\n",
      "\u001b[36m──\u001b[39m \u001b[1mColumn specification\u001b[22m \u001b[36m────────────────────────────────────────────────────────\u001b[39m\n",
      "\u001b[1mDelimiter:\u001b[22m \",\"\n",
      "\u001b[31mchr\u001b[39m  (1): site_name\n",
      "\u001b[32mdbl\u001b[39m  (5): day_of_week, day_of_year, interval_of_day, avg_mph, total_volume\n",
      "\u001b[33mlgl\u001b[39m  (2): missing_speed, missing_volume\n",
      "\u001b[34mdttm\u001b[39m (1): timestamp\n",
      "\u001b[34mdate\u001b[39m (1): date\n",
      "\n",
      "\u001b[36mℹ\u001b[39m Use `spec()` to retrieve the full column specification for this data.\n",
      "\u001b[36mℹ\u001b[39m Specify the column types or set `show_col_types = FALSE` to quiet this message.\n",
      "\u001b[1mRows: \u001b[22m\u001b[34m35040\u001b[39m \u001b[1mColumns: \u001b[22m\u001b[34m10\u001b[39m\n",
      "\u001b[36m──\u001b[39m \u001b[1mColumn specification\u001b[22m \u001b[36m────────────────────────────────────────────────────────\u001b[39m\n",
      "\u001b[1mDelimiter:\u001b[22m \",\"\n",
      "\u001b[31mchr\u001b[39m  (1): site_name\n",
      "\u001b[32mdbl\u001b[39m  (5): day_of_week, day_of_year, interval_of_day, avg_mph, total_volume\n",
      "\u001b[33mlgl\u001b[39m  (2): missing_speed, missing_volume\n",
      "\u001b[34mdttm\u001b[39m (1): timestamp\n",
      "\u001b[34mdate\u001b[39m (1): date\n",
      "\n",
      "\u001b[36mℹ\u001b[39m Use `spec()` to retrieve the full column specification for this data.\n",
      "\u001b[36mℹ\u001b[39m Specify the column types or set `show_col_types = FALSE` to quiet this message.\n",
      "\u001b[1mRows: \u001b[22m\u001b[34m35040\u001b[39m \u001b[1mColumns: \u001b[22m\u001b[34m10\u001b[39m\n",
      "\u001b[36m──\u001b[39m \u001b[1mColumn specification\u001b[22m \u001b[36m────────────────────────────────────────────────────────\u001b[39m\n",
      "\u001b[1mDelimiter:\u001b[22m \",\"\n",
      "\u001b[31mchr\u001b[39m  (1): site_name\n",
      "\u001b[32mdbl\u001b[39m  (5): day_of_week, day_of_year, interval_of_day, avg_mph, total_volume\n",
      "\u001b[33mlgl\u001b[39m  (2): missing_speed, missing_volume\n",
      "\u001b[34mdttm\u001b[39m (1): timestamp\n",
      "\u001b[34mdate\u001b[39m (1): date\n",
      "\n",
      "\u001b[36mℹ\u001b[39m Use `spec()` to retrieve the full column specification for this data.\n",
      "\u001b[36mℹ\u001b[39m Specify the column types or set `show_col_types = FALSE` to quiet this message.\n",
      "\u001b[1mRows: \u001b[22m\u001b[34m35040\u001b[39m \u001b[1mColumns: \u001b[22m\u001b[34m10\u001b[39m\n",
      "\u001b[36m──\u001b[39m \u001b[1mColumn specification\u001b[22m \u001b[36m────────────────────────────────────────────────────────\u001b[39m\n",
      "\u001b[1mDelimiter:\u001b[22m \",\"\n",
      "\u001b[31mchr\u001b[39m  (1): site_name\n",
      "\u001b[32mdbl\u001b[39m  (5): day_of_week, day_of_year, interval_of_day, avg_mph, total_volume\n",
      "\u001b[33mlgl\u001b[39m  (2): missing_speed, missing_volume\n",
      "\u001b[34mdttm\u001b[39m (1): timestamp\n",
      "\u001b[34mdate\u001b[39m (1): date\n",
      "\n",
      "\u001b[36mℹ\u001b[39m Use `spec()` to retrieve the full column specification for this data.\n",
      "\u001b[36mℹ\u001b[39m Specify the column types or set `show_col_types = FALSE` to quiet this message.\n",
      "\u001b[1mRows: \u001b[22m\u001b[34m35040\u001b[39m \u001b[1mColumns: \u001b[22m\u001b[34m10\u001b[39m\n",
      "\u001b[36m──\u001b[39m \u001b[1mColumn specification\u001b[22m \u001b[36m────────────────────────────────────────────────────────\u001b[39m\n",
      "\u001b[1mDelimiter:\u001b[22m \",\"\n",
      "\u001b[31mchr\u001b[39m  (1): site_name\n",
      "\u001b[32mdbl\u001b[39m  (5): day_of_week, day_of_year, interval_of_day, avg_mph, total_volume\n",
      "\u001b[33mlgl\u001b[39m  (2): missing_speed, missing_volume\n",
      "\u001b[34mdttm\u001b[39m (1): timestamp\n",
      "\u001b[34mdate\u001b[39m (1): date\n",
      "\n",
      "\u001b[36mℹ\u001b[39m Use `spec()` to retrieve the full column specification for this data.\n",
      "\u001b[36mℹ\u001b[39m Specify the column types or set `show_col_types = FALSE` to quiet this message.\n",
      "\u001b[1mRows: \u001b[22m\u001b[34m35040\u001b[39m \u001b[1mColumns: \u001b[22m\u001b[34m10\u001b[39m\n",
      "\u001b[36m──\u001b[39m \u001b[1mColumn specification\u001b[22m \u001b[36m────────────────────────────────────────────────────────\u001b[39m\n",
      "\u001b[1mDelimiter:\u001b[22m \",\"\n",
      "\u001b[31mchr\u001b[39m  (1): site_name\n",
      "\u001b[32mdbl\u001b[39m  (5): day_of_week, day_of_year, interval_of_day, avg_mph, total_volume\n",
      "\u001b[33mlgl\u001b[39m  (2): missing_speed, missing_volume\n",
      "\u001b[34mdttm\u001b[39m (1): timestamp\n",
      "\u001b[34mdate\u001b[39m (1): date\n",
      "\n",
      "\u001b[36mℹ\u001b[39m Use `spec()` to retrieve the full column specification for this data.\n",
      "\u001b[36mℹ\u001b[39m Specify the column types or set `show_col_types = FALSE` to quiet this message.\n",
      "\u001b[1mRows: \u001b[22m\u001b[34m35040\u001b[39m \u001b[1mColumns: \u001b[22m\u001b[34m10\u001b[39m\n",
      "\u001b[36m──\u001b[39m \u001b[1mColumn specification\u001b[22m \u001b[36m────────────────────────────────────────────────────────\u001b[39m\n",
      "\u001b[1mDelimiter:\u001b[22m \",\"\n",
      "\u001b[31mchr\u001b[39m  (1): site_name\n",
      "\u001b[32mdbl\u001b[39m  (5): day_of_week, day_of_year, interval_of_day, avg_mph, total_volume\n",
      "\u001b[33mlgl\u001b[39m  (2): missing_speed, missing_volume\n",
      "\u001b[34mdttm\u001b[39m (1): timestamp\n",
      "\u001b[34mdate\u001b[39m (1): date\n",
      "\n",
      "\u001b[36mℹ\u001b[39m Use `spec()` to retrieve the full column specification for this data.\n",
      "\u001b[36mℹ\u001b[39m Specify the column types or set `show_col_types = FALSE` to quiet this message.\n",
      "\u001b[1mRows: \u001b[22m\u001b[34m35040\u001b[39m \u001b[1mColumns: \u001b[22m\u001b[34m10\u001b[39m\n",
      "\u001b[36m──\u001b[39m \u001b[1mColumn specification\u001b[22m \u001b[36m────────────────────────────────────────────────────────\u001b[39m\n",
      "\u001b[1mDelimiter:\u001b[22m \",\"\n",
      "\u001b[31mchr\u001b[39m  (1): site_name\n",
      "\u001b[32mdbl\u001b[39m  (5): day_of_week, day_of_year, interval_of_day, avg_mph, total_volume\n",
      "\u001b[33mlgl\u001b[39m  (2): missing_speed, missing_volume\n",
      "\u001b[34mdttm\u001b[39m (1): timestamp\n",
      "\u001b[34mdate\u001b[39m (1): date\n",
      "\n",
      "\u001b[36mℹ\u001b[39m Use `spec()` to retrieve the full column specification for this data.\n",
      "\u001b[36mℹ\u001b[39m Specify the column types or set `show_col_types = FALSE` to quiet this message.\n",
      "\u001b[1mRows: \u001b[22m\u001b[34m35040\u001b[39m \u001b[1mColumns: \u001b[22m\u001b[34m10\u001b[39m\n",
      "\u001b[36m──\u001b[39m \u001b[1mColumn specification\u001b[22m \u001b[36m────────────────────────────────────────────────────────\u001b[39m\n",
      "\u001b[1mDelimiter:\u001b[22m \",\"\n",
      "\u001b[31mchr\u001b[39m  (1): site_name\n",
      "\u001b[32mdbl\u001b[39m  (5): day_of_week, day_of_year, interval_of_day, avg_mph, total_volume\n",
      "\u001b[33mlgl\u001b[39m  (2): missing_speed, missing_volume\n",
      "\u001b[34mdttm\u001b[39m (1): timestamp\n",
      "\u001b[34mdate\u001b[39m (1): date\n",
      "\n",
      "\u001b[36mℹ\u001b[39m Use `spec()` to retrieve the full column specification for this data.\n",
      "\u001b[36mℹ\u001b[39m Specify the column types or set `show_col_types = FALSE` to quiet this message.\n",
      "\u001b[1mRows: \u001b[22m\u001b[34m35040\u001b[39m \u001b[1mColumns: \u001b[22m\u001b[34m10\u001b[39m\n",
      "\u001b[36m──\u001b[39m \u001b[1mColumn specification\u001b[22m \u001b[36m────────────────────────────────────────────────────────\u001b[39m\n",
      "\u001b[1mDelimiter:\u001b[22m \",\"\n",
      "\u001b[31mchr\u001b[39m  (1): site_name\n",
      "\u001b[32mdbl\u001b[39m  (5): day_of_week, day_of_year, interval_of_day, avg_mph, total_volume\n",
      "\u001b[33mlgl\u001b[39m  (2): missing_speed, missing_volume\n",
      "\u001b[34mdttm\u001b[39m (1): timestamp\n",
      "\u001b[34mdate\u001b[39m (1): date\n",
      "\n",
      "\u001b[36mℹ\u001b[39m Use `spec()` to retrieve the full column specification for this data.\n",
      "\u001b[36mℹ\u001b[39m Specify the column types or set `show_col_types = FALSE` to quiet this message.\n",
      "\u001b[1mRows: \u001b[22m\u001b[34m35040\u001b[39m \u001b[1mColumns: \u001b[22m\u001b[34m10\u001b[39m\n",
      "\u001b[36m──\u001b[39m \u001b[1mColumn specification\u001b[22m \u001b[36m────────────────────────────────────────────────────────\u001b[39m\n",
      "\u001b[1mDelimiter:\u001b[22m \",\"\n",
      "\u001b[31mchr\u001b[39m  (1): site_name\n",
      "\u001b[32mdbl\u001b[39m  (5): day_of_week, day_of_year, interval_of_day, avg_mph, total_volume\n",
      "\u001b[33mlgl\u001b[39m  (2): missing_speed, missing_volume\n",
      "\u001b[34mdttm\u001b[39m (1): timestamp\n",
      "\u001b[34mdate\u001b[39m (1): date\n",
      "\n",
      "\u001b[36mℹ\u001b[39m Use `spec()` to retrieve the full column specification for this data.\n",
      "\u001b[36mℹ\u001b[39m Specify the column types or set `show_col_types = FALSE` to quiet this message.\n",
      "\u001b[1mRows: \u001b[22m\u001b[34m35040\u001b[39m \u001b[1mColumns: \u001b[22m\u001b[34m10\u001b[39m\n",
      "\u001b[36m──\u001b[39m \u001b[1mColumn specification\u001b[22m \u001b[36m────────────────────────────────────────────────────────\u001b[39m\n",
      "\u001b[1mDelimiter:\u001b[22m \",\"\n",
      "\u001b[31mchr\u001b[39m  (1): site_name\n",
      "\u001b[32mdbl\u001b[39m  (5): day_of_week, day_of_year, interval_of_day, avg_mph, total_volume\n",
      "\u001b[33mlgl\u001b[39m  (2): missing_speed, missing_volume\n",
      "\u001b[34mdttm\u001b[39m (1): timestamp\n",
      "\u001b[34mdate\u001b[39m (1): date\n",
      "\n",
      "\u001b[36mℹ\u001b[39m Use `spec()` to retrieve the full column specification for this data.\n",
      "\u001b[36mℹ\u001b[39m Specify the column types or set `show_col_types = FALSE` to quiet this message.\n",
      "\u001b[1mRows: \u001b[22m\u001b[34m35040\u001b[39m \u001b[1mColumns: \u001b[22m\u001b[34m10\u001b[39m\n",
      "\u001b[36m──\u001b[39m \u001b[1mColumn specification\u001b[22m \u001b[36m────────────────────────────────────────────────────────\u001b[39m\n",
      "\u001b[1mDelimiter:\u001b[22m \",\"\n",
      "\u001b[31mchr\u001b[39m  (1): site_name\n",
      "\u001b[32mdbl\u001b[39m  (5): day_of_week, day_of_year, interval_of_day, avg_mph, total_volume\n",
      "\u001b[33mlgl\u001b[39m  (2): missing_speed, missing_volume\n",
      "\u001b[34mdttm\u001b[39m (1): timestamp\n",
      "\u001b[34mdate\u001b[39m (1): date\n",
      "\n",
      "\u001b[36mℹ\u001b[39m Use `spec()` to retrieve the full column specification for this data.\n",
      "\u001b[36mℹ\u001b[39m Specify the column types or set `show_col_types = FALSE` to quiet this message.\n"
     ]
    },
    {
     "name": "stderr",
     "output_type": "stream",
     "text": [
      "\u001b[1mRows: \u001b[22m\u001b[34m35040\u001b[39m \u001b[1mColumns: \u001b[22m\u001b[34m10\u001b[39m\n",
      "\u001b[36m──\u001b[39m \u001b[1mColumn specification\u001b[22m \u001b[36m────────────────────────────────────────────────────────\u001b[39m\n",
      "\u001b[1mDelimiter:\u001b[22m \",\"\n",
      "\u001b[31mchr\u001b[39m  (1): site_name\n",
      "\u001b[32mdbl\u001b[39m  (5): day_of_week, day_of_year, interval_of_day, avg_mph, total_volume\n",
      "\u001b[33mlgl\u001b[39m  (2): missing_speed, missing_volume\n",
      "\u001b[34mdttm\u001b[39m (1): timestamp\n",
      "\u001b[34mdate\u001b[39m (1): date\n",
      "\n",
      "\u001b[36mℹ\u001b[39m Use `spec()` to retrieve the full column specification for this data.\n",
      "\u001b[36mℹ\u001b[39m Specify the column types or set `show_col_types = FALSE` to quiet this message.\n",
      "\u001b[1mRows: \u001b[22m\u001b[34m35040\u001b[39m \u001b[1mColumns: \u001b[22m\u001b[34m10\u001b[39m\n",
      "\u001b[36m──\u001b[39m \u001b[1mColumn specification\u001b[22m \u001b[36m────────────────────────────────────────────────────────\u001b[39m\n",
      "\u001b[1mDelimiter:\u001b[22m \",\"\n",
      "\u001b[31mchr\u001b[39m  (1): site_name\n",
      "\u001b[32mdbl\u001b[39m  (5): day_of_week, day_of_year, interval_of_day, avg_mph, total_volume\n",
      "\u001b[33mlgl\u001b[39m  (2): missing_speed, missing_volume\n",
      "\u001b[34mdttm\u001b[39m (1): timestamp\n",
      "\u001b[34mdate\u001b[39m (1): date\n",
      "\n",
      "\u001b[36mℹ\u001b[39m Use `spec()` to retrieve the full column specification for this data.\n",
      "\u001b[36mℹ\u001b[39m Specify the column types or set `show_col_types = FALSE` to quiet this message.\n",
      "\u001b[1mRows: \u001b[22m\u001b[34m35040\u001b[39m \u001b[1mColumns: \u001b[22m\u001b[34m10\u001b[39m\n",
      "\u001b[36m──\u001b[39m \u001b[1mColumn specification\u001b[22m \u001b[36m────────────────────────────────────────────────────────\u001b[39m\n",
      "\u001b[1mDelimiter:\u001b[22m \",\"\n",
      "\u001b[31mchr\u001b[39m  (1): site_name\n",
      "\u001b[32mdbl\u001b[39m  (5): day_of_week, day_of_year, interval_of_day, avg_mph, total_volume\n",
      "\u001b[33mlgl\u001b[39m  (2): missing_speed, missing_volume\n",
      "\u001b[34mdttm\u001b[39m (1): timestamp\n",
      "\u001b[34mdate\u001b[39m (1): date\n",
      "\n",
      "\u001b[36mℹ\u001b[39m Use `spec()` to retrieve the full column specification for this data.\n",
      "\u001b[36mℹ\u001b[39m Specify the column types or set `show_col_types = FALSE` to quiet this message.\n",
      "\u001b[1mRows: \u001b[22m\u001b[34m35040\u001b[39m \u001b[1mColumns: \u001b[22m\u001b[34m10\u001b[39m\n",
      "\u001b[36m──\u001b[39m \u001b[1mColumn specification\u001b[22m \u001b[36m────────────────────────────────────────────────────────\u001b[39m\n",
      "\u001b[1mDelimiter:\u001b[22m \",\"\n",
      "\u001b[31mchr\u001b[39m  (1): site_name\n",
      "\u001b[32mdbl\u001b[39m  (5): day_of_week, day_of_year, interval_of_day, avg_mph, total_volume\n",
      "\u001b[33mlgl\u001b[39m  (2): missing_speed, missing_volume\n",
      "\u001b[34mdttm\u001b[39m (1): timestamp\n",
      "\u001b[34mdate\u001b[39m (1): date\n",
      "\n",
      "\u001b[36mℹ\u001b[39m Use `spec()` to retrieve the full column specification for this data.\n",
      "\u001b[36mℹ\u001b[39m Specify the column types or set `show_col_types = FALSE` to quiet this message.\n",
      "\u001b[1mRows: \u001b[22m\u001b[34m35040\u001b[39m \u001b[1mColumns: \u001b[22m\u001b[34m10\u001b[39m\n",
      "\u001b[36m──\u001b[39m \u001b[1mColumn specification\u001b[22m \u001b[36m────────────────────────────────────────────────────────\u001b[39m\n",
      "\u001b[1mDelimiter:\u001b[22m \",\"\n",
      "\u001b[31mchr\u001b[39m  (1): site_name\n",
      "\u001b[32mdbl\u001b[39m  (5): day_of_week, day_of_year, interval_of_day, avg_mph, total_volume\n",
      "\u001b[33mlgl\u001b[39m  (2): missing_speed, missing_volume\n",
      "\u001b[34mdttm\u001b[39m (1): timestamp\n",
      "\u001b[34mdate\u001b[39m (1): date\n",
      "\n",
      "\u001b[36mℹ\u001b[39m Use `spec()` to retrieve the full column specification for this data.\n",
      "\u001b[36mℹ\u001b[39m Specify the column types or set `show_col_types = FALSE` to quiet this message.\n",
      "\u001b[1mRows: \u001b[22m\u001b[34m35040\u001b[39m \u001b[1mColumns: \u001b[22m\u001b[34m10\u001b[39m\n",
      "\u001b[36m──\u001b[39m \u001b[1mColumn specification\u001b[22m \u001b[36m────────────────────────────────────────────────────────\u001b[39m\n",
      "\u001b[1mDelimiter:\u001b[22m \",\"\n",
      "\u001b[31mchr\u001b[39m  (1): site_name\n",
      "\u001b[32mdbl\u001b[39m  (5): day_of_week, day_of_year, interval_of_day, avg_mph, total_volume\n",
      "\u001b[33mlgl\u001b[39m  (2): missing_speed, missing_volume\n",
      "\u001b[34mdttm\u001b[39m (1): timestamp\n",
      "\u001b[34mdate\u001b[39m (1): date\n",
      "\n",
      "\u001b[36mℹ\u001b[39m Use `spec()` to retrieve the full column specification for this data.\n",
      "\u001b[36mℹ\u001b[39m Specify the column types or set `show_col_types = FALSE` to quiet this message.\n",
      "\u001b[1mRows: \u001b[22m\u001b[34m35040\u001b[39m \u001b[1mColumns: \u001b[22m\u001b[34m10\u001b[39m\n",
      "\u001b[36m──\u001b[39m \u001b[1mColumn specification\u001b[22m \u001b[36m────────────────────────────────────────────────────────\u001b[39m\n",
      "\u001b[1mDelimiter:\u001b[22m \",\"\n",
      "\u001b[31mchr\u001b[39m  (1): site_name\n",
      "\u001b[32mdbl\u001b[39m  (5): day_of_week, day_of_year, interval_of_day, avg_mph, total_volume\n",
      "\u001b[33mlgl\u001b[39m  (2): missing_speed, missing_volume\n",
      "\u001b[34mdttm\u001b[39m (1): timestamp\n",
      "\u001b[34mdate\u001b[39m (1): date\n",
      "\n",
      "\u001b[36mℹ\u001b[39m Use `spec()` to retrieve the full column specification for this data.\n",
      "\u001b[36mℹ\u001b[39m Specify the column types or set `show_col_types = FALSE` to quiet this message.\n",
      "\u001b[1mRows: \u001b[22m\u001b[34m35040\u001b[39m \u001b[1mColumns: \u001b[22m\u001b[34m10\u001b[39m\n",
      "\u001b[36m──\u001b[39m \u001b[1mColumn specification\u001b[22m \u001b[36m────────────────────────────────────────────────────────\u001b[39m\n",
      "\u001b[1mDelimiter:\u001b[22m \",\"\n",
      "\u001b[31mchr\u001b[39m  (1): site_name\n",
      "\u001b[32mdbl\u001b[39m  (5): day_of_week, day_of_year, interval_of_day, avg_mph, total_volume\n",
      "\u001b[33mlgl\u001b[39m  (2): missing_speed, missing_volume\n",
      "\u001b[34mdttm\u001b[39m (1): timestamp\n",
      "\u001b[34mdate\u001b[39m (1): date\n",
      "\n",
      "\u001b[36mℹ\u001b[39m Use `spec()` to retrieve the full column specification for this data.\n",
      "\u001b[36mℹ\u001b[39m Specify the column types or set `show_col_types = FALSE` to quiet this message.\n",
      "\u001b[1mRows: \u001b[22m\u001b[34m35040\u001b[39m \u001b[1mColumns: \u001b[22m\u001b[34m10\u001b[39m\n",
      "\u001b[36m──\u001b[39m \u001b[1mColumn specification\u001b[22m \u001b[36m────────────────────────────────────────────────────────\u001b[39m\n",
      "\u001b[1mDelimiter:\u001b[22m \",\"\n",
      "\u001b[31mchr\u001b[39m  (1): site_name\n",
      "\u001b[32mdbl\u001b[39m  (5): day_of_week, day_of_year, interval_of_day, avg_mph, total_volume\n",
      "\u001b[33mlgl\u001b[39m  (2): missing_speed, missing_volume\n",
      "\u001b[34mdttm\u001b[39m (1): timestamp\n",
      "\u001b[34mdate\u001b[39m (1): date\n",
      "\n",
      "\u001b[36mℹ\u001b[39m Use `spec()` to retrieve the full column specification for this data.\n",
      "\u001b[36mℹ\u001b[39m Specify the column types or set `show_col_types = FALSE` to quiet this message.\n",
      "\u001b[1mRows: \u001b[22m\u001b[34m35040\u001b[39m \u001b[1mColumns: \u001b[22m\u001b[34m10\u001b[39m\n",
      "\u001b[36m──\u001b[39m \u001b[1mColumn specification\u001b[22m \u001b[36m────────────────────────────────────────────────────────\u001b[39m\n",
      "\u001b[1mDelimiter:\u001b[22m \",\"\n",
      "\u001b[31mchr\u001b[39m  (1): site_name\n",
      "\u001b[32mdbl\u001b[39m  (5): day_of_week, day_of_year, interval_of_day, avg_mph, total_volume\n",
      "\u001b[33mlgl\u001b[39m  (2): missing_speed, missing_volume\n",
      "\u001b[34mdttm\u001b[39m (1): timestamp\n",
      "\u001b[34mdate\u001b[39m (1): date\n",
      "\n",
      "\u001b[36mℹ\u001b[39m Use `spec()` to retrieve the full column specification for this data.\n",
      "\u001b[36mℹ\u001b[39m Specify the column types or set `show_col_types = FALSE` to quiet this message.\n",
      "\u001b[1mRows: \u001b[22m\u001b[34m35040\u001b[39m \u001b[1mColumns: \u001b[22m\u001b[34m10\u001b[39m\n",
      "\u001b[36m──\u001b[39m \u001b[1mColumn specification\u001b[22m \u001b[36m────────────────────────────────────────────────────────\u001b[39m\n",
      "\u001b[1mDelimiter:\u001b[22m \",\"\n",
      "\u001b[31mchr\u001b[39m  (1): site_name\n",
      "\u001b[32mdbl\u001b[39m  (5): day_of_week, day_of_year, interval_of_day, avg_mph, total_volume\n",
      "\u001b[33mlgl\u001b[39m  (2): missing_speed, missing_volume\n",
      "\u001b[34mdttm\u001b[39m (1): timestamp\n",
      "\u001b[34mdate\u001b[39m (1): date\n",
      "\n",
      "\u001b[36mℹ\u001b[39m Use `spec()` to retrieve the full column specification for this data.\n",
      "\u001b[36mℹ\u001b[39m Specify the column types or set `show_col_types = FALSE` to quiet this message.\n",
      "\u001b[1mRows: \u001b[22m\u001b[34m35040\u001b[39m \u001b[1mColumns: \u001b[22m\u001b[34m10\u001b[39m\n",
      "\u001b[36m──\u001b[39m \u001b[1mColumn specification\u001b[22m \u001b[36m────────────────────────────────────────────────────────\u001b[39m\n",
      "\u001b[1mDelimiter:\u001b[22m \",\"\n",
      "\u001b[31mchr\u001b[39m  (1): site_name\n",
      "\u001b[32mdbl\u001b[39m  (5): day_of_week, day_of_year, interval_of_day, avg_mph, total_volume\n",
      "\u001b[33mlgl\u001b[39m  (2): missing_speed, missing_volume\n",
      "\u001b[34mdttm\u001b[39m (1): timestamp\n",
      "\u001b[34mdate\u001b[39m (1): date\n",
      "\n",
      "\u001b[36mℹ\u001b[39m Use `spec()` to retrieve the full column specification for this data.\n",
      "\u001b[36mℹ\u001b[39m Specify the column types or set `show_col_types = FALSE` to quiet this message.\n",
      "\u001b[1mRows: \u001b[22m\u001b[34m35040\u001b[39m \u001b[1mColumns: \u001b[22m\u001b[34m10\u001b[39m\n",
      "\u001b[36m──\u001b[39m \u001b[1mColumn specification\u001b[22m \u001b[36m────────────────────────────────────────────────────────\u001b[39m\n",
      "\u001b[1mDelimiter:\u001b[22m \",\"\n",
      "\u001b[31mchr\u001b[39m  (1): site_name\n",
      "\u001b[32mdbl\u001b[39m  (5): day_of_week, day_of_year, interval_of_day, avg_mph, total_volume\n",
      "\u001b[33mlgl\u001b[39m  (2): missing_speed, missing_volume\n",
      "\u001b[34mdttm\u001b[39m (1): timestamp\n",
      "\u001b[34mdate\u001b[39m (1): date\n",
      "\n",
      "\u001b[36mℹ\u001b[39m Use `spec()` to retrieve the full column specification for this data.\n",
      "\u001b[36mℹ\u001b[39m Specify the column types or set `show_col_types = FALSE` to quiet this message.\n",
      "\u001b[1mRows: \u001b[22m\u001b[34m35040\u001b[39m \u001b[1mColumns: \u001b[22m\u001b[34m10\u001b[39m\n",
      "\u001b[36m──\u001b[39m \u001b[1mColumn specification\u001b[22m \u001b[36m────────────────────────────────────────────────────────\u001b[39m\n",
      "\u001b[1mDelimiter:\u001b[22m \",\"\n",
      "\u001b[31mchr\u001b[39m  (1): site_name\n",
      "\u001b[32mdbl\u001b[39m  (5): day_of_week, day_of_year, interval_of_day, avg_mph, total_volume\n",
      "\u001b[33mlgl\u001b[39m  (2): missing_speed, missing_volume\n",
      "\u001b[34mdttm\u001b[39m (1): timestamp\n",
      "\u001b[34mdate\u001b[39m (1): date\n",
      "\n",
      "\u001b[36mℹ\u001b[39m Use `spec()` to retrieve the full column specification for this data.\n",
      "\u001b[36mℹ\u001b[39m Specify the column types or set `show_col_types = FALSE` to quiet this message.\n"
     ]
    },
    {
     "name": "stderr",
     "output_type": "stream",
     "text": [
      "\u001b[1mRows: \u001b[22m\u001b[34m35040\u001b[39m \u001b[1mColumns: \u001b[22m\u001b[34m10\u001b[39m\n",
      "\u001b[36m──\u001b[39m \u001b[1mColumn specification\u001b[22m \u001b[36m────────────────────────────────────────────────────────\u001b[39m\n",
      "\u001b[1mDelimiter:\u001b[22m \",\"\n",
      "\u001b[31mchr\u001b[39m  (1): site_name\n",
      "\u001b[32mdbl\u001b[39m  (5): day_of_week, day_of_year, interval_of_day, avg_mph, total_volume\n",
      "\u001b[33mlgl\u001b[39m  (2): missing_speed, missing_volume\n",
      "\u001b[34mdttm\u001b[39m (1): timestamp\n",
      "\u001b[34mdate\u001b[39m (1): date\n",
      "\n",
      "\u001b[36mℹ\u001b[39m Use `spec()` to retrieve the full column specification for this data.\n",
      "\u001b[36mℹ\u001b[39m Specify the column types or set `show_col_types = FALSE` to quiet this message.\n",
      "\u001b[1mRows: \u001b[22m\u001b[34m35040\u001b[39m \u001b[1mColumns: \u001b[22m\u001b[34m10\u001b[39m\n",
      "\u001b[36m──\u001b[39m \u001b[1mColumn specification\u001b[22m \u001b[36m────────────────────────────────────────────────────────\u001b[39m\n",
      "\u001b[1mDelimiter:\u001b[22m \",\"\n",
      "\u001b[31mchr\u001b[39m  (1): site_name\n",
      "\u001b[32mdbl\u001b[39m  (5): day_of_week, day_of_year, interval_of_day, avg_mph, total_volume\n",
      "\u001b[33mlgl\u001b[39m  (2): missing_speed, missing_volume\n",
      "\u001b[34mdttm\u001b[39m (1): timestamp\n",
      "\u001b[34mdate\u001b[39m (1): date\n",
      "\n",
      "\u001b[36mℹ\u001b[39m Use `spec()` to retrieve the full column specification for this data.\n",
      "\u001b[36mℹ\u001b[39m Specify the column types or set `show_col_types = FALSE` to quiet this message.\n",
      "\u001b[1mRows: \u001b[22m\u001b[34m35040\u001b[39m \u001b[1mColumns: \u001b[22m\u001b[34m10\u001b[39m\n",
      "\u001b[36m──\u001b[39m \u001b[1mColumn specification\u001b[22m \u001b[36m────────────────────────────────────────────────────────\u001b[39m\n",
      "\u001b[1mDelimiter:\u001b[22m \",\"\n",
      "\u001b[31mchr\u001b[39m  (1): site_name\n",
      "\u001b[32mdbl\u001b[39m  (5): day_of_week, day_of_year, interval_of_day, avg_mph, total_volume\n",
      "\u001b[33mlgl\u001b[39m  (2): missing_speed, missing_volume\n",
      "\u001b[34mdttm\u001b[39m (1): timestamp\n",
      "\u001b[34mdate\u001b[39m (1): date\n",
      "\n",
      "\u001b[36mℹ\u001b[39m Use `spec()` to retrieve the full column specification for this data.\n",
      "\u001b[36mℹ\u001b[39m Specify the column types or set `show_col_types = FALSE` to quiet this message.\n",
      "\u001b[1mRows: \u001b[22m\u001b[34m35040\u001b[39m \u001b[1mColumns: \u001b[22m\u001b[34m10\u001b[39m\n",
      "\u001b[36m──\u001b[39m \u001b[1mColumn specification\u001b[22m \u001b[36m────────────────────────────────────────────────────────\u001b[39m\n",
      "\u001b[1mDelimiter:\u001b[22m \",\"\n",
      "\u001b[31mchr\u001b[39m  (1): site_name\n",
      "\u001b[32mdbl\u001b[39m  (5): day_of_week, day_of_year, interval_of_day, avg_mph, total_volume\n",
      "\u001b[33mlgl\u001b[39m  (2): missing_speed, missing_volume\n",
      "\u001b[34mdttm\u001b[39m (1): timestamp\n",
      "\u001b[34mdate\u001b[39m (1): date\n",
      "\n",
      "\u001b[36mℹ\u001b[39m Use `spec()` to retrieve the full column specification for this data.\n",
      "\u001b[36mℹ\u001b[39m Specify the column types or set `show_col_types = FALSE` to quiet this message.\n",
      "\u001b[1mRows: \u001b[22m\u001b[34m35040\u001b[39m \u001b[1mColumns: \u001b[22m\u001b[34m10\u001b[39m\n",
      "\u001b[36m──\u001b[39m \u001b[1mColumn specification\u001b[22m \u001b[36m────────────────────────────────────────────────────────\u001b[39m\n",
      "\u001b[1mDelimiter:\u001b[22m \",\"\n",
      "\u001b[31mchr\u001b[39m  (1): site_name\n",
      "\u001b[32mdbl\u001b[39m  (5): day_of_week, day_of_year, interval_of_day, avg_mph, total_volume\n",
      "\u001b[33mlgl\u001b[39m  (2): missing_speed, missing_volume\n",
      "\u001b[34mdttm\u001b[39m (1): timestamp\n",
      "\u001b[34mdate\u001b[39m (1): date\n",
      "\n",
      "\u001b[36mℹ\u001b[39m Use `spec()` to retrieve the full column specification for this data.\n",
      "\u001b[36mℹ\u001b[39m Specify the column types or set `show_col_types = FALSE` to quiet this message.\n",
      "\u001b[1mRows: \u001b[22m\u001b[34m35040\u001b[39m \u001b[1mColumns: \u001b[22m\u001b[34m10\u001b[39m\n",
      "\u001b[36m──\u001b[39m \u001b[1mColumn specification\u001b[22m \u001b[36m────────────────────────────────────────────────────────\u001b[39m\n",
      "\u001b[1mDelimiter:\u001b[22m \",\"\n",
      "\u001b[31mchr\u001b[39m  (1): site_name\n",
      "\u001b[32mdbl\u001b[39m  (5): day_of_week, day_of_year, interval_of_day, avg_mph, total_volume\n",
      "\u001b[33mlgl\u001b[39m  (2): missing_speed, missing_volume\n",
      "\u001b[34mdttm\u001b[39m (1): timestamp\n",
      "\u001b[34mdate\u001b[39m (1): date\n",
      "\n",
      "\u001b[36mℹ\u001b[39m Use `spec()` to retrieve the full column specification for this data.\n",
      "\u001b[36mℹ\u001b[39m Specify the column types or set `show_col_types = FALSE` to quiet this message.\n",
      "\u001b[1mRows: \u001b[22m\u001b[34m35040\u001b[39m \u001b[1mColumns: \u001b[22m\u001b[34m10\u001b[39m\n",
      "\u001b[36m──\u001b[39m \u001b[1mColumn specification\u001b[22m \u001b[36m────────────────────────────────────────────────────────\u001b[39m\n",
      "\u001b[1mDelimiter:\u001b[22m \",\"\n",
      "\u001b[31mchr\u001b[39m  (1): site_name\n",
      "\u001b[32mdbl\u001b[39m  (5): day_of_week, day_of_year, interval_of_day, avg_mph, total_volume\n",
      "\u001b[33mlgl\u001b[39m  (2): missing_speed, missing_volume\n",
      "\u001b[34mdttm\u001b[39m (1): timestamp\n",
      "\u001b[34mdate\u001b[39m (1): date\n",
      "\n",
      "\u001b[36mℹ\u001b[39m Use `spec()` to retrieve the full column specification for this data.\n",
      "\u001b[36mℹ\u001b[39m Specify the column types or set `show_col_types = FALSE` to quiet this message.\n",
      "\u001b[1mRows: \u001b[22m\u001b[34m35040\u001b[39m \u001b[1mColumns: \u001b[22m\u001b[34m10\u001b[39m\n",
      "\u001b[36m──\u001b[39m \u001b[1mColumn specification\u001b[22m \u001b[36m────────────────────────────────────────────────────────\u001b[39m\n",
      "\u001b[1mDelimiter:\u001b[22m \",\"\n",
      "\u001b[31mchr\u001b[39m  (1): site_name\n",
      "\u001b[32mdbl\u001b[39m  (5): day_of_week, day_of_year, interval_of_day, avg_mph, total_volume\n",
      "\u001b[33mlgl\u001b[39m  (2): missing_speed, missing_volume\n",
      "\u001b[34mdttm\u001b[39m (1): timestamp\n",
      "\u001b[34mdate\u001b[39m (1): date\n",
      "\n",
      "\u001b[36mℹ\u001b[39m Use `spec()` to retrieve the full column specification for this data.\n",
      "\u001b[36mℹ\u001b[39m Specify the column types or set `show_col_types = FALSE` to quiet this message.\n",
      "\u001b[1mRows: \u001b[22m\u001b[34m35040\u001b[39m \u001b[1mColumns: \u001b[22m\u001b[34m10\u001b[39m\n",
      "\u001b[36m──\u001b[39m \u001b[1mColumn specification\u001b[22m \u001b[36m────────────────────────────────────────────────────────\u001b[39m\n",
      "\u001b[1mDelimiter:\u001b[22m \",\"\n",
      "\u001b[31mchr\u001b[39m  (1): site_name\n",
      "\u001b[32mdbl\u001b[39m  (5): day_of_week, day_of_year, interval_of_day, avg_mph, total_volume\n",
      "\u001b[33mlgl\u001b[39m  (2): missing_speed, missing_volume\n",
      "\u001b[34mdttm\u001b[39m (1): timestamp\n",
      "\u001b[34mdate\u001b[39m (1): date\n",
      "\n",
      "\u001b[36mℹ\u001b[39m Use `spec()` to retrieve the full column specification for this data.\n",
      "\u001b[36mℹ\u001b[39m Specify the column types or set `show_col_types = FALSE` to quiet this message.\n",
      "\u001b[1mRows: \u001b[22m\u001b[34m35040\u001b[39m \u001b[1mColumns: \u001b[22m\u001b[34m10\u001b[39m\n",
      "\u001b[36m──\u001b[39m \u001b[1mColumn specification\u001b[22m \u001b[36m────────────────────────────────────────────────────────\u001b[39m\n",
      "\u001b[1mDelimiter:\u001b[22m \",\"\n",
      "\u001b[31mchr\u001b[39m  (1): site_name\n",
      "\u001b[32mdbl\u001b[39m  (5): day_of_week, day_of_year, interval_of_day, avg_mph, total_volume\n",
      "\u001b[33mlgl\u001b[39m  (2): missing_speed, missing_volume\n",
      "\u001b[34mdttm\u001b[39m (1): timestamp\n",
      "\u001b[34mdate\u001b[39m (1): date\n",
      "\n",
      "\u001b[36mℹ\u001b[39m Use `spec()` to retrieve the full column specification for this data.\n",
      "\u001b[36mℹ\u001b[39m Specify the column types or set `show_col_types = FALSE` to quiet this message.\n",
      "\u001b[1mRows: \u001b[22m\u001b[34m35040\u001b[39m \u001b[1mColumns: \u001b[22m\u001b[34m10\u001b[39m\n",
      "\u001b[36m──\u001b[39m \u001b[1mColumn specification\u001b[22m \u001b[36m────────────────────────────────────────────────────────\u001b[39m\n",
      "\u001b[1mDelimiter:\u001b[22m \",\"\n",
      "\u001b[31mchr\u001b[39m  (1): site_name\n",
      "\u001b[32mdbl\u001b[39m  (5): day_of_week, day_of_year, interval_of_day, avg_mph, total_volume\n",
      "\u001b[33mlgl\u001b[39m  (2): missing_speed, missing_volume\n",
      "\u001b[34mdttm\u001b[39m (1): timestamp\n",
      "\u001b[34mdate\u001b[39m (1): date\n",
      "\n",
      "\u001b[36mℹ\u001b[39m Use `spec()` to retrieve the full column specification for this data.\n",
      "\u001b[36mℹ\u001b[39m Specify the column types or set `show_col_types = FALSE` to quiet this message.\n",
      "\u001b[1mRows: \u001b[22m\u001b[34m35040\u001b[39m \u001b[1mColumns: \u001b[22m\u001b[34m10\u001b[39m\n",
      "\u001b[36m──\u001b[39m \u001b[1mColumn specification\u001b[22m \u001b[36m────────────────────────────────────────────────────────\u001b[39m\n",
      "\u001b[1mDelimiter:\u001b[22m \",\"\n",
      "\u001b[31mchr\u001b[39m  (1): site_name\n",
      "\u001b[32mdbl\u001b[39m  (5): day_of_week, day_of_year, interval_of_day, avg_mph, total_volume\n",
      "\u001b[33mlgl\u001b[39m  (2): missing_speed, missing_volume\n",
      "\u001b[34mdttm\u001b[39m (1): timestamp\n",
      "\u001b[34mdate\u001b[39m (1): date\n",
      "\n",
      "\u001b[36mℹ\u001b[39m Use `spec()` to retrieve the full column specification for this data.\n",
      "\u001b[36mℹ\u001b[39m Specify the column types or set `show_col_types = FALSE` to quiet this message.\n",
      "\u001b[1mRows: \u001b[22m\u001b[34m35040\u001b[39m \u001b[1mColumns: \u001b[22m\u001b[34m10\u001b[39m\n",
      "\u001b[36m──\u001b[39m \u001b[1mColumn specification\u001b[22m \u001b[36m────────────────────────────────────────────────────────\u001b[39m\n",
      "\u001b[1mDelimiter:\u001b[22m \",\"\n",
      "\u001b[31mchr\u001b[39m  (1): site_name\n",
      "\u001b[32mdbl\u001b[39m  (5): day_of_week, day_of_year, interval_of_day, avg_mph, total_volume\n",
      "\u001b[33mlgl\u001b[39m  (2): missing_speed, missing_volume\n",
      "\u001b[34mdttm\u001b[39m (1): timestamp\n",
      "\u001b[34mdate\u001b[39m (1): date\n",
      "\n",
      "\u001b[36mℹ\u001b[39m Use `spec()` to retrieve the full column specification for this data.\n",
      "\u001b[36mℹ\u001b[39m Specify the column types or set `show_col_types = FALSE` to quiet this message.\n",
      "\u001b[1mRows: \u001b[22m\u001b[34m35040\u001b[39m \u001b[1mColumns: \u001b[22m\u001b[34m10\u001b[39m\n",
      "\u001b[36m──\u001b[39m \u001b[1mColumn specification\u001b[22m \u001b[36m────────────────────────────────────────────────────────\u001b[39m\n",
      "\u001b[1mDelimiter:\u001b[22m \",\"\n",
      "\u001b[31mchr\u001b[39m  (1): site_name\n",
      "\u001b[32mdbl\u001b[39m  (5): day_of_week, day_of_year, interval_of_day, avg_mph, total_volume\n",
      "\u001b[33mlgl\u001b[39m  (2): missing_speed, missing_volume\n",
      "\u001b[34mdttm\u001b[39m (1): timestamp\n",
      "\u001b[34mdate\u001b[39m (1): date\n",
      "\n",
      "\u001b[36mℹ\u001b[39m Use `spec()` to retrieve the full column specification for this data.\n",
      "\u001b[36mℹ\u001b[39m Specify the column types or set `show_col_types = FALSE` to quiet this message.\n"
     ]
    },
    {
     "name": "stderr",
     "output_type": "stream",
     "text": [
      "\u001b[1mRows: \u001b[22m\u001b[34m35040\u001b[39m \u001b[1mColumns: \u001b[22m\u001b[34m10\u001b[39m\n",
      "\u001b[36m──\u001b[39m \u001b[1mColumn specification\u001b[22m \u001b[36m────────────────────────────────────────────────────────\u001b[39m\n",
      "\u001b[1mDelimiter:\u001b[22m \",\"\n",
      "\u001b[31mchr\u001b[39m  (1): site_name\n",
      "\u001b[32mdbl\u001b[39m  (5): day_of_week, day_of_year, interval_of_day, avg_mph, total_volume\n",
      "\u001b[33mlgl\u001b[39m  (2): missing_speed, missing_volume\n",
      "\u001b[34mdttm\u001b[39m (1): timestamp\n",
      "\u001b[34mdate\u001b[39m (1): date\n",
      "\n",
      "\u001b[36mℹ\u001b[39m Use `spec()` to retrieve the full column specification for this data.\n",
      "\u001b[36mℹ\u001b[39m Specify the column types or set `show_col_types = FALSE` to quiet this message.\n",
      "\u001b[1mRows: \u001b[22m\u001b[34m35040\u001b[39m \u001b[1mColumns: \u001b[22m\u001b[34m10\u001b[39m\n",
      "\u001b[36m──\u001b[39m \u001b[1mColumn specification\u001b[22m \u001b[36m────────────────────────────────────────────────────────\u001b[39m\n",
      "\u001b[1mDelimiter:\u001b[22m \",\"\n",
      "\u001b[31mchr\u001b[39m  (1): site_name\n",
      "\u001b[32mdbl\u001b[39m  (5): day_of_week, day_of_year, interval_of_day, avg_mph, total_volume\n",
      "\u001b[33mlgl\u001b[39m  (2): missing_speed, missing_volume\n",
      "\u001b[34mdttm\u001b[39m (1): timestamp\n",
      "\u001b[34mdate\u001b[39m (1): date\n",
      "\n",
      "\u001b[36mℹ\u001b[39m Use `spec()` to retrieve the full column specification for this data.\n",
      "\u001b[36mℹ\u001b[39m Specify the column types or set `show_col_types = FALSE` to quiet this message.\n",
      "\u001b[1mRows: \u001b[22m\u001b[34m35040\u001b[39m \u001b[1mColumns: \u001b[22m\u001b[34m10\u001b[39m\n",
      "\u001b[36m──\u001b[39m \u001b[1mColumn specification\u001b[22m \u001b[36m────────────────────────────────────────────────────────\u001b[39m\n",
      "\u001b[1mDelimiter:\u001b[22m \",\"\n",
      "\u001b[31mchr\u001b[39m  (1): site_name\n",
      "\u001b[32mdbl\u001b[39m  (5): day_of_week, day_of_year, interval_of_day, avg_mph, total_volume\n",
      "\u001b[33mlgl\u001b[39m  (2): missing_speed, missing_volume\n",
      "\u001b[34mdttm\u001b[39m (1): timestamp\n",
      "\u001b[34mdate\u001b[39m (1): date\n",
      "\n",
      "\u001b[36mℹ\u001b[39m Use `spec()` to retrieve the full column specification for this data.\n",
      "\u001b[36mℹ\u001b[39m Specify the column types or set `show_col_types = FALSE` to quiet this message.\n",
      "\u001b[1mRows: \u001b[22m\u001b[34m35040\u001b[39m \u001b[1mColumns: \u001b[22m\u001b[34m10\u001b[39m\n",
      "\u001b[36m──\u001b[39m \u001b[1mColumn specification\u001b[22m \u001b[36m────────────────────────────────────────────────────────\u001b[39m\n",
      "\u001b[1mDelimiter:\u001b[22m \",\"\n",
      "\u001b[31mchr\u001b[39m  (1): site_name\n",
      "\u001b[32mdbl\u001b[39m  (5): day_of_week, day_of_year, interval_of_day, avg_mph, total_volume\n",
      "\u001b[33mlgl\u001b[39m  (2): missing_speed, missing_volume\n",
      "\u001b[34mdttm\u001b[39m (1): timestamp\n",
      "\u001b[34mdate\u001b[39m (1): date\n",
      "\n",
      "\u001b[36mℹ\u001b[39m Use `spec()` to retrieve the full column specification for this data.\n",
      "\u001b[36mℹ\u001b[39m Specify the column types or set `show_col_types = FALSE` to quiet this message.\n",
      "\u001b[1mRows: \u001b[22m\u001b[34m35040\u001b[39m \u001b[1mColumns: \u001b[22m\u001b[34m10\u001b[39m\n",
      "\u001b[36m──\u001b[39m \u001b[1mColumn specification\u001b[22m \u001b[36m────────────────────────────────────────────────────────\u001b[39m\n",
      "\u001b[1mDelimiter:\u001b[22m \",\"\n",
      "\u001b[31mchr\u001b[39m  (1): site_name\n",
      "\u001b[32mdbl\u001b[39m  (5): day_of_week, day_of_year, interval_of_day, avg_mph, total_volume\n",
      "\u001b[33mlgl\u001b[39m  (2): missing_speed, missing_volume\n",
      "\u001b[34mdttm\u001b[39m (1): timestamp\n",
      "\u001b[34mdate\u001b[39m (1): date\n",
      "\n",
      "\u001b[36mℹ\u001b[39m Use `spec()` to retrieve the full column specification for this data.\n",
      "\u001b[36mℹ\u001b[39m Specify the column types or set `show_col_types = FALSE` to quiet this message.\n",
      "\u001b[1mRows: \u001b[22m\u001b[34m35040\u001b[39m \u001b[1mColumns: \u001b[22m\u001b[34m10\u001b[39m\n",
      "\u001b[36m──\u001b[39m \u001b[1mColumn specification\u001b[22m \u001b[36m────────────────────────────────────────────────────────\u001b[39m\n",
      "\u001b[1mDelimiter:\u001b[22m \",\"\n",
      "\u001b[31mchr\u001b[39m  (1): site_name\n",
      "\u001b[32mdbl\u001b[39m  (5): day_of_week, day_of_year, interval_of_day, avg_mph, total_volume\n",
      "\u001b[33mlgl\u001b[39m  (2): missing_speed, missing_volume\n",
      "\u001b[34mdttm\u001b[39m (1): timestamp\n",
      "\u001b[34mdate\u001b[39m (1): date\n",
      "\n",
      "\u001b[36mℹ\u001b[39m Use `spec()` to retrieve the full column specification for this data.\n",
      "\u001b[36mℹ\u001b[39m Specify the column types or set `show_col_types = FALSE` to quiet this message.\n",
      "\u001b[1mRows: \u001b[22m\u001b[34m35040\u001b[39m \u001b[1mColumns: \u001b[22m\u001b[34m10\u001b[39m\n",
      "\u001b[36m──\u001b[39m \u001b[1mColumn specification\u001b[22m \u001b[36m────────────────────────────────────────────────────────\u001b[39m\n",
      "\u001b[1mDelimiter:\u001b[22m \",\"\n",
      "\u001b[31mchr\u001b[39m  (1): site_name\n",
      "\u001b[32mdbl\u001b[39m  (5): day_of_week, day_of_year, interval_of_day, avg_mph, total_volume\n",
      "\u001b[33mlgl\u001b[39m  (2): missing_speed, missing_volume\n",
      "\u001b[34mdttm\u001b[39m (1): timestamp\n",
      "\u001b[34mdate\u001b[39m (1): date\n",
      "\n",
      "\u001b[36mℹ\u001b[39m Use `spec()` to retrieve the full column specification for this data.\n",
      "\u001b[36mℹ\u001b[39m Specify the column types or set `show_col_types = FALSE` to quiet this message.\n",
      "\u001b[1mRows: \u001b[22m\u001b[34m35040\u001b[39m \u001b[1mColumns: \u001b[22m\u001b[34m10\u001b[39m\n",
      "\u001b[36m──\u001b[39m \u001b[1mColumn specification\u001b[22m \u001b[36m────────────────────────────────────────────────────────\u001b[39m\n",
      "\u001b[1mDelimiter:\u001b[22m \",\"\n",
      "\u001b[31mchr\u001b[39m  (1): site_name\n",
      "\u001b[32mdbl\u001b[39m  (5): day_of_week, day_of_year, interval_of_day, avg_mph, total_volume\n",
      "\u001b[33mlgl\u001b[39m  (2): missing_speed, missing_volume\n",
      "\u001b[34mdttm\u001b[39m (1): timestamp\n",
      "\u001b[34mdate\u001b[39m (1): date\n",
      "\n",
      "\u001b[36mℹ\u001b[39m Use `spec()` to retrieve the full column specification for this data.\n",
      "\u001b[36mℹ\u001b[39m Specify the column types or set `show_col_types = FALSE` to quiet this message.\n",
      "\u001b[1mRows: \u001b[22m\u001b[34m35040\u001b[39m \u001b[1mColumns: \u001b[22m\u001b[34m10\u001b[39m\n",
      "\u001b[36m──\u001b[39m \u001b[1mColumn specification\u001b[22m \u001b[36m────────────────────────────────────────────────────────\u001b[39m\n",
      "\u001b[1mDelimiter:\u001b[22m \",\"\n",
      "\u001b[31mchr\u001b[39m  (1): site_name\n",
      "\u001b[32mdbl\u001b[39m  (5): day_of_week, day_of_year, interval_of_day, avg_mph, total_volume\n",
      "\u001b[33mlgl\u001b[39m  (2): missing_speed, missing_volume\n",
      "\u001b[34mdttm\u001b[39m (1): timestamp\n",
      "\u001b[34mdate\u001b[39m (1): date\n",
      "\n",
      "\u001b[36mℹ\u001b[39m Use `spec()` to retrieve the full column specification for this data.\n",
      "\u001b[36mℹ\u001b[39m Specify the column types or set `show_col_types = FALSE` to quiet this message.\n",
      "\u001b[1mRows: \u001b[22m\u001b[34m35040\u001b[39m \u001b[1mColumns: \u001b[22m\u001b[34m10\u001b[39m\n",
      "\u001b[36m──\u001b[39m \u001b[1mColumn specification\u001b[22m \u001b[36m────────────────────────────────────────────────────────\u001b[39m\n",
      "\u001b[1mDelimiter:\u001b[22m \",\"\n",
      "\u001b[31mchr\u001b[39m  (1): site_name\n",
      "\u001b[32mdbl\u001b[39m  (5): day_of_week, day_of_year, interval_of_day, avg_mph, total_volume\n",
      "\u001b[33mlgl\u001b[39m  (2): missing_speed, missing_volume\n",
      "\u001b[34mdttm\u001b[39m (1): timestamp\n",
      "\u001b[34mdate\u001b[39m (1): date\n",
      "\n",
      "\u001b[36mℹ\u001b[39m Use `spec()` to retrieve the full column specification for this data.\n",
      "\u001b[36mℹ\u001b[39m Specify the column types or set `show_col_types = FALSE` to quiet this message.\n",
      "\u001b[1mRows: \u001b[22m\u001b[34m35040\u001b[39m \u001b[1mColumns: \u001b[22m\u001b[34m10\u001b[39m\n",
      "\u001b[36m──\u001b[39m \u001b[1mColumn specification\u001b[22m \u001b[36m────────────────────────────────────────────────────────\u001b[39m\n",
      "\u001b[1mDelimiter:\u001b[22m \",\"\n",
      "\u001b[31mchr\u001b[39m  (1): site_name\n",
      "\u001b[32mdbl\u001b[39m  (5): day_of_week, day_of_year, interval_of_day, avg_mph, total_volume\n",
      "\u001b[33mlgl\u001b[39m  (2): missing_speed, missing_volume\n",
      "\u001b[34mdttm\u001b[39m (1): timestamp\n",
      "\u001b[34mdate\u001b[39m (1): date\n",
      "\n",
      "\u001b[36mℹ\u001b[39m Use `spec()` to retrieve the full column specification for this data.\n",
      "\u001b[36mℹ\u001b[39m Specify the column types or set `show_col_types = FALSE` to quiet this message.\n",
      "\u001b[1mRows: \u001b[22m\u001b[34m35040\u001b[39m \u001b[1mColumns: \u001b[22m\u001b[34m10\u001b[39m\n",
      "\u001b[36m──\u001b[39m \u001b[1mColumn specification\u001b[22m \u001b[36m────────────────────────────────────────────────────────\u001b[39m\n",
      "\u001b[1mDelimiter:\u001b[22m \",\"\n",
      "\u001b[31mchr\u001b[39m  (1): site_name\n",
      "\u001b[32mdbl\u001b[39m  (5): day_of_week, day_of_year, interval_of_day, avg_mph, total_volume\n",
      "\u001b[33mlgl\u001b[39m  (2): missing_speed, missing_volume\n",
      "\u001b[34mdttm\u001b[39m (1): timestamp\n",
      "\u001b[34mdate\u001b[39m (1): date\n",
      "\n",
      "\u001b[36mℹ\u001b[39m Use `spec()` to retrieve the full column specification for this data.\n",
      "\u001b[36mℹ\u001b[39m Specify the column types or set `show_col_types = FALSE` to quiet this message.\n",
      "\u001b[1mRows: \u001b[22m\u001b[34m35040\u001b[39m \u001b[1mColumns: \u001b[22m\u001b[34m10\u001b[39m\n",
      "\u001b[36m──\u001b[39m \u001b[1mColumn specification\u001b[22m \u001b[36m────────────────────────────────────────────────────────\u001b[39m\n",
      "\u001b[1mDelimiter:\u001b[22m \",\"\n",
      "\u001b[31mchr\u001b[39m  (1): site_name\n",
      "\u001b[32mdbl\u001b[39m  (5): day_of_week, day_of_year, interval_of_day, avg_mph, total_volume\n",
      "\u001b[33mlgl\u001b[39m  (2): missing_speed, missing_volume\n",
      "\u001b[34mdttm\u001b[39m (1): timestamp\n",
      "\u001b[34mdate\u001b[39m (1): date\n",
      "\n",
      "\u001b[36mℹ\u001b[39m Use `spec()` to retrieve the full column specification for this data.\n",
      "\u001b[36mℹ\u001b[39m Specify the column types or set `show_col_types = FALSE` to quiet this message.\n",
      "\u001b[1mRows: \u001b[22m\u001b[34m35040\u001b[39m \u001b[1mColumns: \u001b[22m\u001b[34m10\u001b[39m\n",
      "\u001b[36m──\u001b[39m \u001b[1mColumn specification\u001b[22m \u001b[36m────────────────────────────────────────────────────────\u001b[39m\n",
      "\u001b[1mDelimiter:\u001b[22m \",\"\n",
      "\u001b[31mchr\u001b[39m  (1): site_name\n",
      "\u001b[32mdbl\u001b[39m  (5): day_of_week, day_of_year, interval_of_day, avg_mph, total_volume\n",
      "\u001b[33mlgl\u001b[39m  (2): missing_speed, missing_volume\n",
      "\u001b[34mdttm\u001b[39m (1): timestamp\n",
      "\u001b[34mdate\u001b[39m (1): date\n",
      "\n",
      "\u001b[36mℹ\u001b[39m Use `spec()` to retrieve the full column specification for this data.\n",
      "\u001b[36mℹ\u001b[39m Specify the column types or set `show_col_types = FALSE` to quiet this message.\n"
     ]
    },
    {
     "name": "stderr",
     "output_type": "stream",
     "text": [
      "\u001b[1mRows: \u001b[22m\u001b[34m35040\u001b[39m \u001b[1mColumns: \u001b[22m\u001b[34m10\u001b[39m\n",
      "\u001b[36m──\u001b[39m \u001b[1mColumn specification\u001b[22m \u001b[36m────────────────────────────────────────────────────────\u001b[39m\n",
      "\u001b[1mDelimiter:\u001b[22m \",\"\n",
      "\u001b[31mchr\u001b[39m  (1): site_name\n",
      "\u001b[32mdbl\u001b[39m  (5): day_of_week, day_of_year, interval_of_day, avg_mph, total_volume\n",
      "\u001b[33mlgl\u001b[39m  (2): missing_speed, missing_volume\n",
      "\u001b[34mdttm\u001b[39m (1): timestamp\n",
      "\u001b[34mdate\u001b[39m (1): date\n",
      "\n",
      "\u001b[36mℹ\u001b[39m Use `spec()` to retrieve the full column specification for this data.\n",
      "\u001b[36mℹ\u001b[39m Specify the column types or set `show_col_types = FALSE` to quiet this message.\n",
      "\u001b[1mRows: \u001b[22m\u001b[34m35040\u001b[39m \u001b[1mColumns: \u001b[22m\u001b[34m10\u001b[39m\n",
      "\u001b[36m──\u001b[39m \u001b[1mColumn specification\u001b[22m \u001b[36m────────────────────────────────────────────────────────\u001b[39m\n",
      "\u001b[1mDelimiter:\u001b[22m \",\"\n",
      "\u001b[31mchr\u001b[39m  (1): site_name\n",
      "\u001b[32mdbl\u001b[39m  (5): day_of_week, day_of_year, interval_of_day, avg_mph, total_volume\n",
      "\u001b[33mlgl\u001b[39m  (2): missing_speed, missing_volume\n",
      "\u001b[34mdttm\u001b[39m (1): timestamp\n",
      "\u001b[34mdate\u001b[39m (1): date\n",
      "\n",
      "\u001b[36mℹ\u001b[39m Use `spec()` to retrieve the full column specification for this data.\n",
      "\u001b[36mℹ\u001b[39m Specify the column types or set `show_col_types = FALSE` to quiet this message.\n",
      "\u001b[1mRows: \u001b[22m\u001b[34m35040\u001b[39m \u001b[1mColumns: \u001b[22m\u001b[34m10\u001b[39m\n",
      "\u001b[36m──\u001b[39m \u001b[1mColumn specification\u001b[22m \u001b[36m────────────────────────────────────────────────────────\u001b[39m\n",
      "\u001b[1mDelimiter:\u001b[22m \",\"\n",
      "\u001b[31mchr\u001b[39m  (1): site_name\n",
      "\u001b[32mdbl\u001b[39m  (5): day_of_week, day_of_year, interval_of_day, avg_mph, total_volume\n",
      "\u001b[33mlgl\u001b[39m  (2): missing_speed, missing_volume\n",
      "\u001b[34mdttm\u001b[39m (1): timestamp\n",
      "\u001b[34mdate\u001b[39m (1): date\n",
      "\n",
      "\u001b[36mℹ\u001b[39m Use `spec()` to retrieve the full column specification for this data.\n",
      "\u001b[36mℹ\u001b[39m Specify the column types or set `show_col_types = FALSE` to quiet this message.\n",
      "\u001b[1mRows: \u001b[22m\u001b[34m35040\u001b[39m \u001b[1mColumns: \u001b[22m\u001b[34m10\u001b[39m\n",
      "\u001b[36m──\u001b[39m \u001b[1mColumn specification\u001b[22m \u001b[36m────────────────────────────────────────────────────────\u001b[39m\n",
      "\u001b[1mDelimiter:\u001b[22m \",\"\n",
      "\u001b[31mchr\u001b[39m  (1): site_name\n",
      "\u001b[32mdbl\u001b[39m  (5): day_of_week, day_of_year, interval_of_day, avg_mph, total_volume\n",
      "\u001b[33mlgl\u001b[39m  (2): missing_speed, missing_volume\n",
      "\u001b[34mdttm\u001b[39m (1): timestamp\n",
      "\u001b[34mdate\u001b[39m (1): date\n",
      "\n",
      "\u001b[36mℹ\u001b[39m Use `spec()` to retrieve the full column specification for this data.\n",
      "\u001b[36mℹ\u001b[39m Specify the column types or set `show_col_types = FALSE` to quiet this message.\n",
      "\u001b[1mRows: \u001b[22m\u001b[34m35040\u001b[39m \u001b[1mColumns: \u001b[22m\u001b[34m10\u001b[39m\n",
      "\u001b[36m──\u001b[39m \u001b[1mColumn specification\u001b[22m \u001b[36m────────────────────────────────────────────────────────\u001b[39m\n",
      "\u001b[1mDelimiter:\u001b[22m \",\"\n",
      "\u001b[31mchr\u001b[39m  (1): site_name\n",
      "\u001b[32mdbl\u001b[39m  (5): day_of_week, day_of_year, interval_of_day, avg_mph, total_volume\n",
      "\u001b[33mlgl\u001b[39m  (2): missing_speed, missing_volume\n",
      "\u001b[34mdttm\u001b[39m (1): timestamp\n",
      "\u001b[34mdate\u001b[39m (1): date\n",
      "\n",
      "\u001b[36mℹ\u001b[39m Use `spec()` to retrieve the full column specification for this data.\n",
      "\u001b[36mℹ\u001b[39m Specify the column types or set `show_col_types = FALSE` to quiet this message.\n",
      "\u001b[1mRows: \u001b[22m\u001b[34m35040\u001b[39m \u001b[1mColumns: \u001b[22m\u001b[34m10\u001b[39m\n",
      "\u001b[36m──\u001b[39m \u001b[1mColumn specification\u001b[22m \u001b[36m────────────────────────────────────────────────────────\u001b[39m\n",
      "\u001b[1mDelimiter:\u001b[22m \",\"\n",
      "\u001b[31mchr\u001b[39m  (1): site_name\n",
      "\u001b[32mdbl\u001b[39m  (5): day_of_week, day_of_year, interval_of_day, avg_mph, total_volume\n",
      "\u001b[33mlgl\u001b[39m  (2): missing_speed, missing_volume\n",
      "\u001b[34mdttm\u001b[39m (1): timestamp\n",
      "\u001b[34mdate\u001b[39m (1): date\n",
      "\n",
      "\u001b[36mℹ\u001b[39m Use `spec()` to retrieve the full column specification for this data.\n",
      "\u001b[36mℹ\u001b[39m Specify the column types or set `show_col_types = FALSE` to quiet this message.\n",
      "\u001b[1mRows: \u001b[22m\u001b[34m35040\u001b[39m \u001b[1mColumns: \u001b[22m\u001b[34m10\u001b[39m\n",
      "\u001b[36m──\u001b[39m \u001b[1mColumn specification\u001b[22m \u001b[36m────────────────────────────────────────────────────────\u001b[39m\n",
      "\u001b[1mDelimiter:\u001b[22m \",\"\n",
      "\u001b[31mchr\u001b[39m  (1): site_name\n",
      "\u001b[32mdbl\u001b[39m  (5): day_of_week, day_of_year, interval_of_day, avg_mph, total_volume\n",
      "\u001b[33mlgl\u001b[39m  (2): missing_speed, missing_volume\n",
      "\u001b[34mdttm\u001b[39m (1): timestamp\n",
      "\u001b[34mdate\u001b[39m (1): date\n",
      "\n",
      "\u001b[36mℹ\u001b[39m Use `spec()` to retrieve the full column specification for this data.\n",
      "\u001b[36mℹ\u001b[39m Specify the column types or set `show_col_types = FALSE` to quiet this message.\n",
      "\u001b[1mRows: \u001b[22m\u001b[34m35040\u001b[39m \u001b[1mColumns: \u001b[22m\u001b[34m10\u001b[39m\n",
      "\u001b[36m──\u001b[39m \u001b[1mColumn specification\u001b[22m \u001b[36m────────────────────────────────────────────────────────\u001b[39m\n",
      "\u001b[1mDelimiter:\u001b[22m \",\"\n",
      "\u001b[31mchr\u001b[39m  (1): site_name\n",
      "\u001b[32mdbl\u001b[39m  (5): day_of_week, day_of_year, interval_of_day, avg_mph, total_volume\n",
      "\u001b[33mlgl\u001b[39m  (2): missing_speed, missing_volume\n",
      "\u001b[34mdttm\u001b[39m (1): timestamp\n",
      "\u001b[34mdate\u001b[39m (1): date\n",
      "\n",
      "\u001b[36mℹ\u001b[39m Use `spec()` to retrieve the full column specification for this data.\n",
      "\u001b[36mℹ\u001b[39m Specify the column types or set `show_col_types = FALSE` to quiet this message.\n",
      "\u001b[1mRows: \u001b[22m\u001b[34m35040\u001b[39m \u001b[1mColumns: \u001b[22m\u001b[34m10\u001b[39m\n",
      "\u001b[36m──\u001b[39m \u001b[1mColumn specification\u001b[22m \u001b[36m────────────────────────────────────────────────────────\u001b[39m\n",
      "\u001b[1mDelimiter:\u001b[22m \",\"\n",
      "\u001b[31mchr\u001b[39m  (1): site_name\n",
      "\u001b[32mdbl\u001b[39m  (5): day_of_week, day_of_year, interval_of_day, avg_mph, total_volume\n",
      "\u001b[33mlgl\u001b[39m  (2): missing_speed, missing_volume\n",
      "\u001b[34mdttm\u001b[39m (1): timestamp\n",
      "\u001b[34mdate\u001b[39m (1): date\n",
      "\n",
      "\u001b[36mℹ\u001b[39m Use `spec()` to retrieve the full column specification for this data.\n",
      "\u001b[36mℹ\u001b[39m Specify the column types or set `show_col_types = FALSE` to quiet this message.\n",
      "\u001b[1mRows: \u001b[22m\u001b[34m35040\u001b[39m \u001b[1mColumns: \u001b[22m\u001b[34m10\u001b[39m\n",
      "\u001b[36m──\u001b[39m \u001b[1mColumn specification\u001b[22m \u001b[36m────────────────────────────────────────────────────────\u001b[39m\n",
      "\u001b[1mDelimiter:\u001b[22m \",\"\n",
      "\u001b[31mchr\u001b[39m  (1): site_name\n",
      "\u001b[32mdbl\u001b[39m  (5): day_of_week, day_of_year, interval_of_day, avg_mph, total_volume\n",
      "\u001b[33mlgl\u001b[39m  (2): missing_speed, missing_volume\n",
      "\u001b[34mdttm\u001b[39m (1): timestamp\n",
      "\u001b[34mdate\u001b[39m (1): date\n",
      "\n",
      "\u001b[36mℹ\u001b[39m Use `spec()` to retrieve the full column specification for this data.\n",
      "\u001b[36mℹ\u001b[39m Specify the column types or set `show_col_types = FALSE` to quiet this message.\n",
      "\u001b[1mRows: \u001b[22m\u001b[34m35040\u001b[39m \u001b[1mColumns: \u001b[22m\u001b[34m10\u001b[39m\n",
      "\u001b[36m──\u001b[39m \u001b[1mColumn specification\u001b[22m \u001b[36m────────────────────────────────────────────────────────\u001b[39m\n",
      "\u001b[1mDelimiter:\u001b[22m \",\"\n",
      "\u001b[31mchr\u001b[39m  (1): site_name\n",
      "\u001b[32mdbl\u001b[39m  (5): day_of_week, day_of_year, interval_of_day, avg_mph, total_volume\n",
      "\u001b[33mlgl\u001b[39m  (2): missing_speed, missing_volume\n",
      "\u001b[34mdttm\u001b[39m (1): timestamp\n",
      "\u001b[34mdate\u001b[39m (1): date\n",
      "\n",
      "\u001b[36mℹ\u001b[39m Use `spec()` to retrieve the full column specification for this data.\n",
      "\u001b[36mℹ\u001b[39m Specify the column types or set `show_col_types = FALSE` to quiet this message.\n",
      "\u001b[1mRows: \u001b[22m\u001b[34m35040\u001b[39m \u001b[1mColumns: \u001b[22m\u001b[34m10\u001b[39m\n",
      "\u001b[36m──\u001b[39m \u001b[1mColumn specification\u001b[22m \u001b[36m────────────────────────────────────────────────────────\u001b[39m\n",
      "\u001b[1mDelimiter:\u001b[22m \",\"\n",
      "\u001b[31mchr\u001b[39m  (1): site_name\n",
      "\u001b[32mdbl\u001b[39m  (5): day_of_week, day_of_year, interval_of_day, avg_mph, total_volume\n",
      "\u001b[33mlgl\u001b[39m  (2): missing_speed, missing_volume\n",
      "\u001b[34mdttm\u001b[39m (1): timestamp\n",
      "\u001b[34mdate\u001b[39m (1): date\n",
      "\n",
      "\u001b[36mℹ\u001b[39m Use `spec()` to retrieve the full column specification for this data.\n",
      "\u001b[36mℹ\u001b[39m Specify the column types or set `show_col_types = FALSE` to quiet this message.\n",
      "\u001b[1mRows: \u001b[22m\u001b[34m35040\u001b[39m \u001b[1mColumns: \u001b[22m\u001b[34m10\u001b[39m\n",
      "\u001b[36m──\u001b[39m \u001b[1mColumn specification\u001b[22m \u001b[36m────────────────────────────────────────────────────────\u001b[39m\n",
      "\u001b[1mDelimiter:\u001b[22m \",\"\n",
      "\u001b[31mchr\u001b[39m  (1): site_name\n",
      "\u001b[32mdbl\u001b[39m  (5): day_of_week, day_of_year, interval_of_day, avg_mph, total_volume\n",
      "\u001b[33mlgl\u001b[39m  (2): missing_speed, missing_volume\n",
      "\u001b[34mdttm\u001b[39m (1): timestamp\n",
      "\u001b[34mdate\u001b[39m (1): date\n",
      "\n",
      "\u001b[36mℹ\u001b[39m Use `spec()` to retrieve the full column specification for this data.\n",
      "\u001b[36mℹ\u001b[39m Specify the column types or set `show_col_types = FALSE` to quiet this message.\n",
      "\u001b[1mRows: \u001b[22m\u001b[34m35040\u001b[39m \u001b[1mColumns: \u001b[22m\u001b[34m10\u001b[39m\n",
      "\u001b[36m──\u001b[39m \u001b[1mColumn specification\u001b[22m \u001b[36m────────────────────────────────────────────────────────\u001b[39m\n",
      "\u001b[1mDelimiter:\u001b[22m \",\"\n",
      "\u001b[31mchr\u001b[39m  (1): site_name\n",
      "\u001b[32mdbl\u001b[39m  (5): day_of_week, day_of_year, interval_of_day, avg_mph, total_volume\n",
      "\u001b[33mlgl\u001b[39m  (2): missing_speed, missing_volume\n",
      "\u001b[34mdttm\u001b[39m (1): timestamp\n",
      "\u001b[34mdate\u001b[39m (1): date\n",
      "\n",
      "\u001b[36mℹ\u001b[39m Use `spec()` to retrieve the full column specification for this data.\n",
      "\u001b[36mℹ\u001b[39m Specify the column types or set `show_col_types = FALSE` to quiet this message.\n"
     ]
    },
    {
     "name": "stderr",
     "output_type": "stream",
     "text": [
      "\u001b[1mRows: \u001b[22m\u001b[34m35040\u001b[39m \u001b[1mColumns: \u001b[22m\u001b[34m10\u001b[39m\n",
      "\u001b[36m──\u001b[39m \u001b[1mColumn specification\u001b[22m \u001b[36m────────────────────────────────────────────────────────\u001b[39m\n",
      "\u001b[1mDelimiter:\u001b[22m \",\"\n",
      "\u001b[31mchr\u001b[39m  (1): site_name\n",
      "\u001b[32mdbl\u001b[39m  (5): day_of_week, day_of_year, interval_of_day, avg_mph, total_volume\n",
      "\u001b[33mlgl\u001b[39m  (2): missing_speed, missing_volume\n",
      "\u001b[34mdttm\u001b[39m (1): timestamp\n",
      "\u001b[34mdate\u001b[39m (1): date\n",
      "\n",
      "\u001b[36mℹ\u001b[39m Use `spec()` to retrieve the full column specification for this data.\n",
      "\u001b[36mℹ\u001b[39m Specify the column types or set `show_col_types = FALSE` to quiet this message.\n",
      "\u001b[1mRows: \u001b[22m\u001b[34m35040\u001b[39m \u001b[1mColumns: \u001b[22m\u001b[34m10\u001b[39m\n",
      "\u001b[36m──\u001b[39m \u001b[1mColumn specification\u001b[22m \u001b[36m────────────────────────────────────────────────────────\u001b[39m\n",
      "\u001b[1mDelimiter:\u001b[22m \",\"\n",
      "\u001b[31mchr\u001b[39m  (1): site_name\n",
      "\u001b[32mdbl\u001b[39m  (5): day_of_week, day_of_year, interval_of_day, avg_mph, total_volume\n",
      "\u001b[33mlgl\u001b[39m  (2): missing_speed, missing_volume\n",
      "\u001b[34mdttm\u001b[39m (1): timestamp\n",
      "\u001b[34mdate\u001b[39m (1): date\n",
      "\n",
      "\u001b[36mℹ\u001b[39m Use `spec()` to retrieve the full column specification for this data.\n",
      "\u001b[36mℹ\u001b[39m Specify the column types or set `show_col_types = FALSE` to quiet this message.\n",
      "\u001b[1mRows: \u001b[22m\u001b[34m35040\u001b[39m \u001b[1mColumns: \u001b[22m\u001b[34m10\u001b[39m\n",
      "\u001b[36m──\u001b[39m \u001b[1mColumn specification\u001b[22m \u001b[36m────────────────────────────────────────────────────────\u001b[39m\n",
      "\u001b[1mDelimiter:\u001b[22m \",\"\n",
      "\u001b[31mchr\u001b[39m  (1): site_name\n",
      "\u001b[32mdbl\u001b[39m  (5): day_of_week, day_of_year, interval_of_day, avg_mph, total_volume\n",
      "\u001b[33mlgl\u001b[39m  (2): missing_speed, missing_volume\n",
      "\u001b[34mdttm\u001b[39m (1): timestamp\n",
      "\u001b[34mdate\u001b[39m (1): date\n",
      "\n",
      "\u001b[36mℹ\u001b[39m Use `spec()` to retrieve the full column specification for this data.\n",
      "\u001b[36mℹ\u001b[39m Specify the column types or set `show_col_types = FALSE` to quiet this message.\n",
      "\u001b[1mRows: \u001b[22m\u001b[34m35040\u001b[39m \u001b[1mColumns: \u001b[22m\u001b[34m10\u001b[39m\n",
      "\u001b[36m──\u001b[39m \u001b[1mColumn specification\u001b[22m \u001b[36m────────────────────────────────────────────────────────\u001b[39m\n",
      "\u001b[1mDelimiter:\u001b[22m \",\"\n",
      "\u001b[31mchr\u001b[39m  (1): site_name\n",
      "\u001b[32mdbl\u001b[39m  (5): day_of_week, day_of_year, interval_of_day, avg_mph, total_volume\n",
      "\u001b[33mlgl\u001b[39m  (2): missing_speed, missing_volume\n",
      "\u001b[34mdttm\u001b[39m (1): timestamp\n",
      "\u001b[34mdate\u001b[39m (1): date\n",
      "\n",
      "\u001b[36mℹ\u001b[39m Use `spec()` to retrieve the full column specification for this data.\n",
      "\u001b[36mℹ\u001b[39m Specify the column types or set `show_col_types = FALSE` to quiet this message.\n",
      "\u001b[1mRows: \u001b[22m\u001b[34m35040\u001b[39m \u001b[1mColumns: \u001b[22m\u001b[34m10\u001b[39m\n",
      "\u001b[36m──\u001b[39m \u001b[1mColumn specification\u001b[22m \u001b[36m────────────────────────────────────────────────────────\u001b[39m\n",
      "\u001b[1mDelimiter:\u001b[22m \",\"\n",
      "\u001b[31mchr\u001b[39m  (1): site_name\n",
      "\u001b[32mdbl\u001b[39m  (5): day_of_week, day_of_year, interval_of_day, avg_mph, total_volume\n",
      "\u001b[33mlgl\u001b[39m  (2): missing_speed, missing_volume\n",
      "\u001b[34mdttm\u001b[39m (1): timestamp\n",
      "\u001b[34mdate\u001b[39m (1): date\n",
      "\n",
      "\u001b[36mℹ\u001b[39m Use `spec()` to retrieve the full column specification for this data.\n",
      "\u001b[36mℹ\u001b[39m Specify the column types or set `show_col_types = FALSE` to quiet this message.\n",
      "\u001b[1mRows: \u001b[22m\u001b[34m35040\u001b[39m \u001b[1mColumns: \u001b[22m\u001b[34m10\u001b[39m\n",
      "\u001b[36m──\u001b[39m \u001b[1mColumn specification\u001b[22m \u001b[36m────────────────────────────────────────────────────────\u001b[39m\n",
      "\u001b[1mDelimiter:\u001b[22m \",\"\n",
      "\u001b[31mchr\u001b[39m  (1): site_name\n",
      "\u001b[32mdbl\u001b[39m  (5): day_of_week, day_of_year, interval_of_day, avg_mph, total_volume\n",
      "\u001b[33mlgl\u001b[39m  (2): missing_speed, missing_volume\n",
      "\u001b[34mdttm\u001b[39m (1): timestamp\n",
      "\u001b[34mdate\u001b[39m (1): date\n",
      "\n",
      "\u001b[36mℹ\u001b[39m Use `spec()` to retrieve the full column specification for this data.\n",
      "\u001b[36mℹ\u001b[39m Specify the column types or set `show_col_types = FALSE` to quiet this message.\n"
     ]
    }
   ],
   "source": [
    "# Read in all files from the Data/Processed directory, with each highway system going into it's own list of df's\n",
    "england_fnames <- list.files(\"Data/Processed/Highways_England/\", pattern=\"*.csv\", full.names=TRUE)\n",
    "england_df_list <- lapply(england_fnames, read_csv)\n",
    "\n",
    "portland_fnames <- list.files(\"Data/Processed/Portland/\", pattern=\"*.csv\", full.names=TRUE)\n",
    "portland_df_list <- lapply(portland_fnames, read_csv)\n",
    "\n",
    "utah_fnames <- list.files(\"Data/Processed/Utah/\", pattern=\"*.csv\", full.names=TRUE)\n",
    "utah_df_list <- lapply(utah_fnames, read_csv)"
   ]
  },
  {
   "cell_type": "code",
   "execution_count": 7,
   "id": "62461d6f",
   "metadata": {},
   "outputs": [],
   "source": [
    "# Order all dfs by timestamp\n",
    "england_df_list <- lapply(england_df_list, function(x) x %>% arrange(timestamp))\n",
    "portland_df_list <- lapply(portland_df_list, function(x) x %>% arrange(timestamp))\n",
    "utah_df_list <- lapply(utah_df_list, function(x) x %>% arrange(timestamp))    "
   ]
  },
  {
   "cell_type": "code",
   "execution_count": 8,
   "id": "c0fdc49e",
   "metadata": {},
   "outputs": [],
   "source": [
    "# Create one master list of dfs\n",
    "total_df_list <- append(append(england_df_list, portland_df_list), utah_df_list)"
   ]
  },
  {
   "cell_type": "code",
   "execution_count": 9,
   "id": "718a69fc",
   "metadata": {},
   "outputs": [
    {
     "name": "stderr",
     "output_type": "stream",
     "text": [
      "\u001b[1mRows: \u001b[22m\u001b[34m76\u001b[39m \u001b[1mColumns: \u001b[22m\u001b[34m2\u001b[39m\n",
      "\u001b[36m──\u001b[39m \u001b[1mColumn specification\u001b[22m \u001b[36m────────────────────────────────────────────────────────\u001b[39m\n",
      "\u001b[1mDelimiter:\u001b[22m \",\"\n",
      "\u001b[32mdbl\u001b[39m (2): start, end\n",
      "\n",
      "\u001b[36mℹ\u001b[39m Use `spec()` to retrieve the full column specification for this data.\n",
      "\u001b[36mℹ\u001b[39m Specify the column types or set `show_col_types = FALSE` to quiet this message.\n"
     ]
    }
   ],
   "source": [
    "# Read in the df with start and end points for each time series\n",
    "start_end <- read_csv(\"start_end_points.csv\")\n",
    "starting_points <- start_end$start\n",
    "ending_points <- start_end$end"
   ]
  },
  {
   "cell_type": "code",
   "execution_count": 10,
   "id": "55197686",
   "metadata": {},
   "outputs": [],
   "source": [
    "# Add a row number field to each time series df\n",
    "total_df_list <- lapply(total_df_list, function(x) x %>% mutate(rn = row_number()))"
   ]
  },
  {
   "cell_type": "code",
   "execution_count": 11,
   "id": "867cd7b3",
   "metadata": {},
   "outputs": [],
   "source": [
    "# Filter each df down to 12 weeks based on its corresponding start and end point (i.e., start and end row number)\n",
    "total_df_list_samples <- lapply(1:length(total_df_list), \n",
    "                                function(x) total_df_list[[x]] %>% \n",
    "                                    filter(rn >= starting_points[x]) %>%\n",
    "                                    filter(rn <= ending_points[x]))"
   ]
  },
  {
   "cell_type": "code",
   "execution_count": 12,
   "id": "1fb346af",
   "metadata": {},
   "outputs": [],
   "source": [
    "# Set first 8 weeks for train, next 2 for val, last 2 for test in a new field called train_val_test in each df\n",
    "total_df_list_samples <- lapply(total_df_list_samples, \n",
    "                                function(x) x %>% mutate(rn = row_number()) %>%\n",
    "                                    mutate(train_val_test = ifelse(rn <= (96*7*8), \n",
    "                                                                   \"train\", \n",
    "                                                                   ifelse(rn <= (96*7*10), \n",
    "                                                                          \"val\", \n",
    "                                                                          \"test\")))\n",
    "                                \n",
    "                               )"
   ]
  },
  {
   "cell_type": "code",
   "execution_count": 13,
   "id": "0eac4c1c",
   "metadata": {},
   "outputs": [],
   "source": [
    "# Create a list of dfs of training and validation samples together, without test\n",
    "train_val_samples <- lapply(total_df_list_samples, function(x) x %>% filter(train_val_test != \"test\"))"
   ]
  },
  {
   "cell_type": "code",
   "execution_count": 14,
   "id": "ddbe68dd",
   "metadata": {},
   "outputs": [],
   "source": [
    "# Create a list of dfs with just training data\n",
    "train_samples <- lapply(total_df_list_samples, function(x) x %>% filter(train_val_test == \"train\"))"
   ]
  },
  {
   "cell_type": "code",
   "execution_count": 15,
   "id": "03ac75fe",
   "metadata": {},
   "outputs": [],
   "source": [
    "# Create a list of dfs with just validation data\n",
    "val_samples <- lapply(total_df_list_samples, function(x) x %>% filter(train_val_test == \"val\"))"
   ]
  },
  {
   "cell_type": "code",
   "execution_count": 16,
   "id": "94599503",
   "metadata": {},
   "outputs": [],
   "source": [
    "# Create a list of dfs with just test data\n",
    "test_samples <- lapply(total_df_list_samples, function(x) x %>% filter(train_val_test == \"test\"))"
   ]
  },
  {
   "cell_type": "code",
   "execution_count": 17,
   "id": "66cd4310",
   "metadata": {},
   "outputs": [],
   "source": [
    "# Turn these lists of dfs into lists of times series objects of the msts, or multi-seasonal ts, class\n",
    "# Seasonalitiies are daily and weekly\n",
    "train_val_samples_ts <- lapply(train_val_samples, \n",
    "                               function(x) msts(x$total_volume, seasonal.periods=c(24*4, 24*4*7)))"
   ]
  },
  {
   "cell_type": "code",
   "execution_count": 18,
   "id": "ab19db03",
   "metadata": {},
   "outputs": [],
   "source": [
    "train_samples_ts <- lapply(train_samples,\n",
    "                           function(x) msts(x$total_volume, seasonal.periods=c(24*4, 24*4*7)))"
   ]
  },
  {
   "cell_type": "code",
   "execution_count": 19,
   "id": "282bfd83",
   "metadata": {},
   "outputs": [],
   "source": [
    "test_samples_ts <- lapply(test_samples,\n",
    "                          function(x) msts(x$total_volume, seasonal.periods=c(24*4, 24*4*7)))"
   ]
  },
  {
   "cell_type": "code",
   "execution_count": 20,
   "id": "b822f7b2",
   "metadata": {},
   "outputs": [],
   "source": [
    "val_samples_ts <- lapply(val_samples,\n",
    "                         function(x) msts(x$total_volume, seasonal.periods=c(24*4, 24*4*7)))"
   ]
  },
  {
   "cell_type": "markdown",
   "id": "f44dc070",
   "metadata": {},
   "source": [
    "# Functions for Global AR Models"
   ]
  },
  {
   "cell_type": "code",
   "execution_count": 21,
   "id": "c646cab8",
   "metadata": {},
   "outputs": [],
   "source": [
    "lag_embed <- function(data, lag=1) {\n",
    "    # This function creates a lag emebedded matrix at the provided lag level. It assumes there is a train_val_test\n",
    "    # in the input data frame, and returns a list of the training, validaiton, and test data as lag matrices\n",
    "    \n",
    "    # Compute the number of rows of test and validation data\n",
    "    n_test <- nrow(data %>% filter(train_val_test==\"test\"))\n",
    "    n_val <- nrow(data %>% filter(train_val_test==\"val\"))\n",
    "    \n",
    "    # Lag embed the entire time series - note we use the input lag+1 to account for the target variable\n",
    "    embed_mat <- embed(data$total_volume, (lag+1))\n",
    "\n",
    "    # Get the total numebr of rows in the lag matrix\n",
    "    n_mat <- nrow(embed_mat)\n",
    "    \n",
    "    # Based on the number of rows in the matrix and the number of test and validation samples,\n",
    "    # compute the indexes which correspond to test and validation\n",
    "    test_idx <- rev(1:n_mat)[1:n_test]\n",
    "    val_idx <- rev(1:n_mat)[-c(1:n_test)][1:n_val]\n",
    "    \n",
    "    # Remoe the test and val indexes to get the training matrix\n",
    "    train_mat <- embed_mat[-c(val_idx, test_idx),]\n",
    "    \n",
    "    # Filter using the above computed indexes to get the validaiton and test matrices\n",
    "    val_mat <- embed_mat[val_idx,]\n",
    "    test_mat <- embed_mat[test_idx,]\n",
    "    \n",
    "    # Return a list of the trianing, validation, and test lag-embedded matrices\n",
    "    return_list <- list(\"train\"=train_mat, \"val\"=val_mat, \"test\"=test_mat)\n",
    "}"
   ]
  },
  {
   "cell_type": "code",
   "execution_count": 22,
   "id": "ca7cc655",
   "metadata": {},
   "outputs": [],
   "source": [
    "global_ar_least_squares <- function(train_list,\n",
    "                                    val_list=NULL,\n",
    "                                    return_train_preds=TRUE,\n",
    "                                    return_val_preds=TRUE,\n",
    "                                    return_train_means=FALSE,\n",
    "                                    return_val_means=FALSE,\n",
    "                                    return_train_residuals=FALSE\n",
    "                                   ) \n",
    "{\n",
    "    # Function for pooled regression which takes a list of lag embedded training matrices, \n",
    "    # an optional list of validation matrices, and various booleans which control the list of returned objects,\n",
    "    # and creates a linear (pooled) regression model on the training data\n",
    "    \n",
    "    # Create a model formula based on the names of the matrix columns\n",
    "    # This assums that the target variable is in the first column, which is the case if the lag matrices\n",
    "    # are created using the above lag_embed function\n",
    "    model_formula <- paste(colnames(train_list[[1]][2:ncol(train_list[[1]])]), collapse='+')   \n",
    "    model_formula <- paste(paste(colnames(train_list[[1]][1]),model_formula,sep=\"~\"), \"1\", sep=\"-\")    \n",
    "\n",
    "    # Using the biglm function, we create an initial linear model using the first matrix in the list\n",
    "    big_lm_mod <- biglm(as.formula(model_formula), train_list[[1]])    \n",
    "    # Then, for each additional matrix, we update the model accordingly\n",
    "    for (ts in 2:length(train_list)){\n",
    "        big_lm_mod <- update(big_lm_mod, train_list[[ts]])\n",
    "    }     \n",
    "    \n",
    "    # For each matrix in the train list, compute the model's predictions and append to a dataframe\n",
    "    train_preds <- data.frame()\n",
    "    for (t in 1:length(train_list)) {\n",
    "        pred <- data.frame(forec=predict(big_lm_mod, newdata=train_list[[t]]), ts_index=t)\n",
    "        train_preds <- rbind(train_preds, pred)\n",
    "    }\n",
    "    \n",
    "    # Compute the training performance metrics\n",
    "    \n",
    "    # First, initialize an empty list for each of the rmse, mae, and target variable means\n",
    "    train_rmse_ls <- c()\n",
    "    train_mae_ls <- c()\n",
    "    train_means <- c()\n",
    "    \n",
    "    # For each time series in our data set:\n",
    "    for (idx in 1:length(train_list)) {\n",
    "        \n",
    "        # Copmute the mean and append to the list of means\n",
    "        train_mean_i <- mean(train_list[[idx]][,1])\n",
    "        train_means <- c(train_means, train_mean_i)\n",
    "        \n",
    "        # Compute the rmse and append to the list of rmses\n",
    "        rmse_i <- rmse(train_list[[idx]][,1], (train_preds %>% filter(ts_index==idx))$forec)\n",
    "        train_rmse_ls <- c(train_rmse_ls, rmse_i)\n",
    "        \n",
    "        # Compute the mae and append to the list of maes\n",
    "        mae_i <- mae(train_list[[idx]][,1], (train_preds %>% filter(ts_index==idx))$forec)\n",
    "        train_mae_ls <- c(train_mae_ls, mae_i)\n",
    "    }\n",
    "    \n",
    "    # Set the return list to include the model and the rmse and mae list on the training data\n",
    "    return_list <- list(\"model\"=big_lm_mod, \n",
    "                        \"train_rmse\"=train_rmse_ls, \"train_mae\"=train_mae_ls)\n",
    "    \n",
    "    # Check is a validation list is provided. If it is, compute performance on this data as well\n",
    "    if (!is.null(val_list)) {\n",
    "\n",
    "        # Create an empty df to save the predictions in\n",
    "        val_preds <- data.frame()\n",
    "        \n",
    "        # For each matrix in the val list\n",
    "        for (val_t in 1:length(val_list)) {\n",
    "            # Compute the predictions\n",
    "            val_pred <- data.frame(forec=predict(big_lm_mod, newdata=val_list[[val_t]]), ts_index=val_t)\n",
    "            # Append the predictions to the df\n",
    "            val_preds <- rbind(val_preds, val_pred)\n",
    "        }\n",
    "        \n",
    "        # Initialize empty lists for the rmse, mae, and means of the validation data\n",
    "        val_rmse_ls <- c()\n",
    "        val_mae_ls <- c()\n",
    "        val_means <- c()\n",
    "        # For each matrix\n",
    "        for (idx in 1:length(val_list)) {\n",
    "            # Compute the mean of the target value and append to the list\n",
    "            val_mean_i <- mean(val_list[[idx]][,1])\n",
    "            val_means <- c(val_means, val_mean_i)\n",
    "\n",
    "            # Compute the model rmse and append to the list\n",
    "            rmse_val_i <- rmse(val_list[[idx]][,1], (val_preds %>% filter(ts_index==idx))$forec)\n",
    "            val_rmse_ls <- c(val_rmse_ls, rmse_val_i)\n",
    "\n",
    "            # Compute the mae or the model preds and append to the list\n",
    "            mae_val_i <- mae(val_list[[idx]][,1], (val_preds %>% filter(ts_index==idx))$forec)\n",
    "            val_mae_ls <- c(val_mae_ls, mae_val_i)\n",
    "        }\n",
    "        \n",
    "        # Add the validation rmse and mae to the return list\n",
    "        return_list <- append(return_list, list( \"val_rmse\"=val_rmse_ls, \"val_mae\"=val_mae_ls))\n",
    "        \n",
    "        # Based on user specification, add the raw validation data predictions and target means to the return list\n",
    "        if (return_val_preds) {\n",
    "            return_list <- append(return_list, list(\"val_preds\"=val_preds))\n",
    "        }\n",
    "        \n",
    "        if (return_val_means) {\n",
    "            return_list <- append(return_list, list(\"val_means\"=val_means))\n",
    "        }   \n",
    "    }\n",
    "    \n",
    "    # Based on user specification, add the raw train preds and train means to the return list\n",
    "    if (return_train_preds) {\n",
    "        return_list <- append(return_list, list(\"train_preds\"=train_preds))\n",
    "    }\n",
    "    \n",
    "    if (return_train_means) {\n",
    "        return_list <- append(return_list, list(\"train_means\"=train_means))\n",
    "    } \n",
    "    \n",
    "    # If the user specifies to return the model residuals\n",
    "    if (return_train_residuals) {\n",
    "        # Initialize an empty array\n",
    "        train_residuals <- c()\n",
    "        # For each matrix in the train list\n",
    "        for (idx in 1:length(train_list)) {\n",
    "            # Compute the resiudals\n",
    "            train_resid_i <- train_list[[idx]][,1] - (train_preds %>% filter(ts_index==idx))$forec\n",
    "            # Append the residuals to the list of residuals\n",
    "            train_residuals <- c(train_residuals, train_resid_i)\n",
    "        }\n",
    "        # Add the residuals to the return list\n",
    "        return_list <- append(return_list, list(\"train_residuals\"=train_residuals))\n",
    "    }\n",
    "    \n",
    "    # Return the return_list\n",
    "    return_list                                           \n",
    "}"
   ]
  },
  {
   "cell_type": "code",
   "execution_count": 23,
   "id": "efd1f703",
   "metadata": {},
   "outputs": [],
   "source": [
    "global_ar_least_squares_pred <- function(model,\n",
    "                                         test_list,\n",
    "                                         return_preds=TRUE,\n",
    "                                         return_means=TRUE\n",
    "                                        ) \n",
    "{\n",
    "    # Function which takes in a model and a list of test matrices and makes predictions \n",
    "    # and computes performance measurements on that test data\n",
    "    \n",
    "    # Rename the model object\n",
    "    big_lm_mod <- model\n",
    "    \n",
    "    # Initialize an empty df for storing the predictions\n",
    "    test_preds <- data.frame()\n",
    "    # For each matrix in the test list\n",
    "    for (test_t in 1:length(test_list)) {\n",
    "        # Compute the one-step ahead predictions\n",
    "        test_pred <- data.frame(forec=predict(big_lm_mod, newdata=test_list[[test_t]]), ts_index=test_t)\n",
    "        # Append those to the test_pred df\n",
    "        test_preds <- rbind(test_preds, test_pred)\n",
    "    }\n",
    "\n",
    "    # Initialize empty lists for rmse, mae, and means\n",
    "    test_rmse_ls <- c()\n",
    "    test_mae_ls <- c()\n",
    "    test_means <- c()\n",
    "    \n",
    "    # Loop through each time series in the data set and\n",
    "    for (idx in 1:length(test_list)) {\n",
    "        \n",
    "        # Compute the mean and append to the list of means\n",
    "        test_mean_i <- mean(test_list[[idx]][,1])\n",
    "        test_means <- c(test_means, test_mean_i)\n",
    "        \n",
    "        # Compute the prediction RMSE and append to the list of RMSE\n",
    "        rmse_test_i <- rmse(test_list[[idx]][,1], (test_preds %>% filter(ts_index==idx))$forec)\n",
    "        test_rmse_ls <- c(test_rmse_ls, rmse_test_i)\n",
    "    \n",
    "        # Copmute the MAE of the predictions and append to list\n",
    "        mae_test_i <- mae(test_list[[idx]][,1], (test_preds %>% filter(ts_index==idx))$forec)\n",
    "        test_mae_ls <- c(test_mae_ls, mae_test_i)\n",
    "    }\n",
    "    \n",
    "    # Set up the return_list to include the rmse and mae lists\n",
    "    return_list <- list(\"test_rmse\"=test_rmse_ls, \"test_mae\"=test_mae_ls)\n",
    "    \n",
    "    # If the user specifies, return the test set predicitons and the target means as well\n",
    "    if (return_preds) {\n",
    "        return_list <- append(return_list, list(\"test_preds\"=test_preds))\n",
    "    }\n",
    "    \n",
    "    if (return_means) {\n",
    "        return_list <- append(return_list, list(\"test_means\"=test_means))\n",
    "    }\n",
    "    \n",
    "    # Return the return_list\n",
    "    return_list        \n",
    "}"
   ]
  },
  {
   "cell_type": "code",
   "execution_count": 24,
   "id": "9d996092",
   "metadata": {},
   "outputs": [],
   "source": [
    "bootstrap_pred_int <- function(predictions,\n",
    "                               residuals,\n",
    "                               n_boot,\n",
    "                               actuals=NULL\n",
    "                              ) \n",
    "{\n",
    "    # Function to compute prediction intervals using bootstrapping with model residuals\n",
    "    # function takes in the predicted values, the model residuals, the number of bootstrap samples to use,\n",
    "    # and an optional set of true values (used for computing prediction interval scores)\n",
    "    \n",
    "    # Intialize empty lists for the hi and lo components of the 80% nad 95% PIs\n",
    "    boot_lo_80 <- c()\n",
    "    boot_hi_80 <- c()\n",
    "    boot_lo_95 <- c()\n",
    "    boot_hi_95 <- c()\n",
    "\n",
    "    # Loop through every row in the predictions\n",
    "    for (i in 1:nrow(predictions)){\n",
    "        # Reset the seed to the loop counter - could make this more random, but this is for reproducibility\n",
    "        set.seed(i)\n",
    "        \n",
    "        # Sample with replacement from the residuals n_boot times\n",
    "        boot_samples <- sample(residuals, n_boot, replace=TRUE)\n",
    "        # Add the predicted value to each sample\n",
    "        boot_preds <- boot_samples + predictions$forec[i]\n",
    "        \n",
    "        # Compute the PIs as the quantiles of these pred+boot values\n",
    "        boot_pred_lo_80 <- quantile(boot_preds, 0.1)\n",
    "        boot_pred_hi_80 <- quantile(boot_preds, 0.9)\n",
    "\n",
    "        boot_pred_lo_95 <- quantile(boot_preds, 0.025)\n",
    "        boot_pred_hi_95 <- quantile(boot_preds, 0.975)\n",
    "        \n",
    "        # Append the PI values to the lists\n",
    "        boot_lo_80 <- c(boot_lo_80, boot_pred_lo_80)\n",
    "        boot_hi_80 <- c(boot_hi_80, boot_pred_hi_80)\n",
    "\n",
    "        boot_lo_95 <- c(boot_lo_95, boot_pred_lo_95)\n",
    "        boot_hi_95 <- c(boot_hi_95, boot_pred_hi_95)        \n",
    "    }\n",
    "    \n",
    "    # Create a copy of the input df called predicitons\n",
    "    pred_w_boot_int_df <- predictions\n",
    "    \n",
    "    # Add columns to the df for the PIs\n",
    "    pred_w_boot_int_df$lo_80 <- boot_lo_80\n",
    "    pred_w_boot_int_df$hi_80 <- boot_hi_80\n",
    "    pred_w_boot_int_df$lo_95 <- boot_lo_95\n",
    "    pred_w_boot_int_df$hi_95 <- boot_hi_95\n",
    "    \n",
    "    # If the true values are included\n",
    "    if (!is.null(actuals)){\n",
    "        \n",
    "        # Add a column for the true values\n",
    "        pred_w_boot_int_df$true_values <- actuals\n",
    "        \n",
    "        # Compute the 80% and 95% interval scores and add them as columns in the df\n",
    "        pred_w_boot_int_df <- pred_w_boot_int_df %>%\n",
    "            mutate(int_score_80 = interval_score(true_values=true_values,\n",
    "                                                 lower=lo_80,\n",
    "                                                 upper=hi_80,\n",
    "                                                 interval_range=80,\n",
    "                                                 weigh=FALSE\n",
    "                                                )) %>% \n",
    "            mutate(int_score_95 = interval_score(true_values=true_values,\n",
    "                                                 lower=lo_95,\n",
    "                                                 upper=hi_95,\n",
    "                                                 interval_range=95,\n",
    "                                                 weigh=FALSE\n",
    "                                                ))\n",
    "    }\n",
    "    \n",
    "    # Return the final set of preds with PIs (and interval scores if applicable)\n",
    "    pred_w_boot_int_df\n",
    "    \n",
    "}"
   ]
  },
  {
   "cell_type": "markdown",
   "id": "ea95bc2f",
   "metadata": {},
   "source": [
    "# Global AR Model - Full Data"
   ]
  },
  {
   "cell_type": "code",
   "execution_count": 25,
   "id": "046989f3",
   "metadata": {},
   "outputs": [],
   "source": [
    "# Create a list of time series lags over which the pooled regression will be tested to find an optimal lag value\n",
    "lag_list <- c(1,2,4,24,48,60,96,120,192,240,288,360,384,480,576,600,672,720,768,840,960)"
   ]
  },
  {
   "cell_type": "code",
   "execution_count": 26,
   "id": "ef2df4fe",
   "metadata": {},
   "outputs": [
    {
     "name": "stdout",
     "output_type": "stream",
     "text": [
      "[1] 1\n",
      "[1] 2\n",
      "[1] 4\n",
      "[1] 24\n",
      "[1] 48\n",
      "[1] 60\n",
      "[1] 96\n",
      "[1] 120\n",
      "[1] 192\n",
      "[1] 240\n",
      "[1] 288\n",
      "[1] 360\n",
      "[1] 384\n",
      "[1] 480\n",
      "[1] 576\n",
      "[1] 600\n",
      "[1] 672\n",
      "[1] 720\n",
      "[1] 768\n",
      "[1] 840\n",
      "[1] 960\n"
     ]
    }
   ],
   "source": [
    "# Initialize empty lists to store mean and median rmse and mae for both training and validation sets,\n",
    "# as well as the scaled versions of the those metrics\n",
    "mean_train_rmse <- c()\n",
    "median_train_rmse <- c()\n",
    "mean_train_mae <- c()\n",
    "median_train_mae <- c()\n",
    "\n",
    "mean_val_rmse <- c()\n",
    "median_val_rmse <- c()\n",
    "mean_val_mae <- c()\n",
    "median_val_mae <- c()\n",
    "\n",
    "mean_train_scaled_rmse <- c()\n",
    "median_train_scaled_rmse <- c()\n",
    "mean_train_scaled_mae <- c()\n",
    "median_train_scaled_mae <- c()\n",
    "\n",
    "mean_val_scaled_rmse <- c()\n",
    "median_val_scaled_rmse <- c()\n",
    "mean_val_scaled_mae <- c()\n",
    "median_val_scaled_mae <- c()\n",
    "\n",
    "# Loop through each lag in the lag list\n",
    "for (lag in lag_list) {\n",
    "    \n",
    "    # Create the list of lag embedded matrices\n",
    "    embed_mat_list <- lapply(total_df_list_samples,\n",
    "                     function(x) lag_embed(x, lag=lag))\n",
    "    # Create two separate lists, one with train data and one with lag data\n",
    "    # this is probably not needed, but helps with organization                         \n",
    "    embed_train_list <- lapply(embed_mat_list,\n",
    "                               function(x) data.frame(x$train))\n",
    "    embed_val_list <- lapply(embed_mat_list,\n",
    "                             function(x) data.frame(x$val))    \n",
    "    \n",
    "    # Create the pooled regression model                          \n",
    "    global_ar_mod <- global_ar_least_squares(embed_train_list, embed_val_list, FALSE, FALSE, TRUE, TRUE)\n",
    "\n",
    "    # Compute the mean and median of the mae and rmse on the train data                         \n",
    "    train_rmse_mean <- mean(global_ar_mod$train_rmse)\n",
    "    train_rmse_median <- median(global_ar_mod$train_rmse) \n",
    "    train_mae_mean <- mean(global_ar_mod$train_mae)\n",
    "    train_mae_median <- median(global_ar_mod$train_mae)  \n",
    "    \n",
    "    # Compute the scaled versions \n",
    "    train_rmse_scaled_mean <- mean(global_ar_mod$train_rmse/global_ar_mod$train_means)\n",
    "    train_rmse_scaled_median <- median(global_ar_mod$train_rmse/global_ar_mod$train_means) \n",
    "    train_mae_scaled_mean <- mean(global_ar_mod$train_mae/global_ar_mod$train_means)\n",
    "    train_mae_scaled_median <- median(global_ar_mod$train_mae/global_ar_mod$train_means)                            \n",
    "     \n",
    "    # Compute the mean and median rmse and mae, as well as mean and median of the scaled versions, on the val data \n",
    "    val_rmse_mean <- mean(global_ar_mod$val_rmse)\n",
    "    val_rmse_median <- median(global_ar_mod$val_rmse)                                 \n",
    "    val_mae_mean <- mean(global_ar_mod$val_mae)\n",
    "    val_mae_median <- median(global_ar_mod$val_mae)  \n",
    "                             \n",
    "    val_rmse_scaled_mean <- mean(global_ar_mod$val_rmse/global_ar_mod$val_means)\n",
    "    val_rmse_scaled_median <- median(global_ar_mod$val_rmse/global_ar_mod$val_means) \n",
    "    val_mae_scaled_mean <- mean(global_ar_mod$val_mae/global_ar_mod$val_means)\n",
    "    val_mae_scaled_median <- median(global_ar_mod$val_mae/global_ar_mod$val_means)  \n",
    "     \n",
    "    # Append performance metrics to the appropriate lists \n",
    "    mean_train_rmse <- c(mean_train_rmse, train_rmse_mean)      \n",
    "    median_train_rmse <- c(median_train_rmse, train_rmse_median)                        \n",
    "    mean_train_mae <- c(mean_train_mae, train_mae_mean)      \n",
    "    median_train_mae <- c(median_train_mae, train_mae_median)                        \n",
    "                             \n",
    "    mean_val_rmse <- c(mean_val_rmse, val_rmse_mean)                         \n",
    "    median_val_rmse <- c(median_val_rmse, val_rmse_median)                               \n",
    "    mean_val_mae <- c(mean_val_mae, val_mae_mean)                         \n",
    "    median_val_mae <- c(median_val_mae, val_mae_median)                         \n",
    "                             \n",
    "    mean_train_scaled_rmse <- c(mean_train_scaled_rmse, train_rmse_scaled_mean)      \n",
    "    median_train_scaled_rmse <- c(median_train_scaled_rmse, train_rmse_scaled_median)                        \n",
    "    mean_train_scaled_mae <- c(mean_train_scaled_mae, train_mae_scaled_mean)      \n",
    "    median_train_scaled_mae <- c(median_train_scaled_mae, train_mae_scaled_median)                        \n",
    "                             \n",
    "    mean_val_scaled_rmse <- c(mean_val_scaled_rmse, val_rmse_scaled_mean)                         \n",
    "    median_val_scaled_rmse <- c(median_val_scaled_rmse, val_rmse_scaled_median)                               \n",
    "    mean_val_scaled_mae <- c(mean_val_scaled_mae, val_mae_scaled_mean)                         \n",
    "    median_val_scaled_mae <- c(median_val_scaled_mae, val_mae_scaled_median)\n",
    "       \n",
    "    # Print lag for tracking progress, as the modeling is a bit slow once we get to higher lags \n",
    "    print(lag)\n",
    "    flush.console()                          \n",
    "}"
   ]
  },
  {
   "cell_type": "code",
   "execution_count": 27,
   "id": "f09a360d",
   "metadata": {},
   "outputs": [],
   "source": [
    "# Create a data frame of the model performance metrics for each lag embedding\n",
    "pooled_reg_lag_df <- data.frame(lag=lag_list, \n",
    "                                mean_train_rmse=mean_train_rmse, \n",
    "                                median_train_rmse=median_train_rmse,\n",
    "                                mean_train_mae=mean_train_mae, \n",
    "                                median_train_mae=median_train_mae,\n",
    "                                mean_val_rmse=mean_val_rmse, \n",
    "                                median_val_rmse=median_val_rmse,\n",
    "                                mean_val_mae=mean_val_mae, \n",
    "                                median_val_mae=median_val_mae,\n",
    "                                mean_train_scaled_rmse=mean_train_scaled_rmse, \n",
    "                                median_train_scaled_rmse=median_train_scaled_rmse,\n",
    "                                mean_train_scaled_mae=mean_train_scaled_mae, \n",
    "                                median_train_scaled_mae=median_train_scaled_mae,\n",
    "                                mean_val_scaled_rmse=mean_val_scaled_rmse, \n",
    "                                median_val_scaled_rmse=median_val_scaled_rmse,\n",
    "                                mean_val_scaled_mae=mean_val_scaled_mae, \n",
    "                                median_val_scaled_mae=median_val_scaled_mae\n",
    "                                )"
   ]
  },
  {
   "cell_type": "code",
   "execution_count": 28,
   "id": "739a2cd9",
   "metadata": {},
   "outputs": [],
   "source": [
    "# Save that df to a csv file\n",
    "write.csv(pooled_reg_lag_df, \"Results/Global/Pooled Regression/Full/lag_performance.csv\", row.names=FALSE)"
   ]
  },
  {
   "cell_type": "code",
   "execution_count": 29,
   "id": "60feb17a",
   "metadata": {},
   "outputs": [
    {
     "data": {
      "image/png": "[encoded data removed]",
      "text/plain": [
       "plot without title"
      ]
     },
     "metadata": {
      "image/png": {
       "height": 420,
       "width": 420
      }
     },
     "output_type": "display_data"
    }
   ],
   "source": [
    "# Create a plot for the mean rmse for train and val sets\n",
    "pooled_reg_rmse_plot <- ggplot(pooled_reg_lag_df) + \n",
    "    geom_point(aes(x=lag, y=mean_train_rmse, col='Train')) +\n",
    "    geom_line(aes(x=lag, y=mean_train_rmse, col='Train')) +\n",
    "    geom_point(aes(x=lag, y=mean_val_rmse, col='Validation')) +\n",
    "    geom_line(aes(x=lag, y=mean_val_rmse, col='Validation')) +\n",
    "    labs(x=\"Lag\", y=\"Mean RMSE\", title=\"Pooled Regression Performance - Mean RMSE\",  color = \"Train/Val\") + \n",
    "    scale_color_manual(name='Train/Validation',\n",
    "                       breaks=c('Train', 'Validation'),\n",
    "                       values=c('Train'='blue', 'Validation'='orange'))\n",
    "\n",
    "pooled_reg_rmse_plot"
   ]
  },
  {
   "cell_type": "code",
   "execution_count": 30,
   "id": "368bae07",
   "metadata": {},
   "outputs": [],
   "source": [
    "# Save the plot\n",
    "ggsave(\"Results/Global/Pooled Regression/Full/mean_rmse_lag_plot.png\", pooled_reg_rmse_plot, width=9, height=6)"
   ]
  },
  {
   "cell_type": "code",
   "execution_count": 31,
   "id": "4839dad3",
   "metadata": {},
   "outputs": [
    {
     "data": {
      "image/png": "[encoded data removed]",
      "text/plain": [
       "plot without title"
      ]
     },
     "metadata": {
      "image/png": {
       "height": 420,
       "width": 420
      }
     },
     "output_type": "display_data"
    }
   ],
   "source": [
    "# Create a similar plot with the scaled RMSE\n",
    "pooled_reg_rmse_scaled_plot <- ggplot(pooled_reg_lag_df) + \n",
    "    geom_point(aes(x=lag, y=mean_train_scaled_rmse, col='Train')) +\n",
    "    geom_line(aes(x=lag, y=mean_train_scaled_rmse, col='Train')) +\n",
    "    geom_point(aes(x=lag, y=mean_val_scaled_rmse, col='Validation')) +\n",
    "    geom_line(aes(x=lag, y=mean_val_scaled_rmse, col='Validation')) +\n",
    "    labs(x=\"Lag\", y=\"Mean nRMSE\", title=\"Pooled Regression Performance - Mean nRMSE\",  color = \"Train/Val\") + \n",
    "    scale_color_manual(name='Train/Validation',\n",
    "                       breaks=c('Train', 'Validation'),\n",
    "                       values=c('Train'='blue', 'Validation'='orange'))\n",
    "\n",
    "pooled_reg_rmse_scaled_plot"
   ]
  },
  {
   "cell_type": "code",
   "execution_count": 32,
   "id": "ec4dd8c4",
   "metadata": {},
   "outputs": [],
   "source": [
    "# Save the plot\n",
    "ggsave(\"Results/Global/Pooled Regression/Full/mean_rmse_scaled_lag_plot.png\", \n",
    "       pooled_reg_rmse_scaled_plot, width=9, height=6)"
   ]
  },
  {
   "cell_type": "code",
   "execution_count": 33,
   "id": "f3256487",
   "metadata": {},
   "outputs": [
    {
     "data": {
      "image/png": "[encoded data removed]",
      "text/plain": [
       "plot without title"
      ]
     },
     "metadata": {
      "image/png": {
       "height": 420,
       "width": 420
      }
     },
     "output_type": "display_data"
    }
   ],
   "source": [
    "# Create a similar plot with the mean MAE\n",
    "pooled_reg_mae_plot <- ggplot(pooled_reg_lag_df) + \n",
    "    geom_point(aes(x=lag, y=mean_train_mae, col='Train')) +\n",
    "    geom_line(aes(x=lag, y=mean_train_mae, col='Train')) +\n",
    "    geom_point(aes(x=lag, y=mean_val_mae, col='Validation')) +\n",
    "    geom_line(aes(x=lag, y=mean_val_mae, col='Validation')) +\n",
    "    labs(x=\"Lag\", y=\"Mean MAE\", title=\"Pooled Regression Performance - Mean MAE\",  color = \"Train/Val\") + \n",
    "    scale_color_manual(name='Train/Validation',\n",
    "                       breaks=c('Train', 'Validation'),\n",
    "                       values=c('Train'='blue', 'Validation'='orange'))\n",
    "\n",
    "pooled_reg_mae_plot"
   ]
  },
  {
   "cell_type": "code",
   "execution_count": 34,
   "id": "00d4297f",
   "metadata": {},
   "outputs": [],
   "source": [
    "# Save the plot\n",
    "ggsave(\"Results/Global/Pooled Regression/Full/mean_mae_lag_plot.png\", pooled_reg_mae_plot, width=9, height=6)"
   ]
  },
  {
   "cell_type": "code",
   "execution_count": 35,
   "id": "4dbe9820",
   "metadata": {},
   "outputs": [
    {
     "data": {
      "image/png": "[encoded data removed]",
      "text/plain": [
       "plot without title"
      ]
     },
     "metadata": {
      "image/png": {
       "height": 420,
       "width": 420
      }
     },
     "output_type": "display_data"
    }
   ],
   "source": [
    "# Create a similar plot with scaled MAE\n",
    "pooled_reg_mae_scaled_plot <- ggplot(pooled_reg_lag_df) + \n",
    "    geom_point(aes(x=lag, y=mean_train_scaled_mae, col='Train')) +\n",
    "    geom_line(aes(x=lag, y=mean_train_scaled_mae, col='Train')) +\n",
    "    geom_point(aes(x=lag, y=mean_val_scaled_mae, col='Validation')) +\n",
    "    geom_line(aes(x=lag, y=mean_val_scaled_mae, col='Validation')) +\n",
    "    labs(x=\"Lag\", y=\"Mean sMAE\", title=\"Pooled Regression Performance - Mean sMAE\",  color = \"Train/Val\") + \n",
    "    scale_color_manual(name='Train/Validation',\n",
    "                       breaks=c('Train', 'Validation'),\n",
    "                       values=c('Train'='blue', 'Validation'='orange'))\n",
    "\n",
    "pooled_reg_mae_scaled_plot"
   ]
  },
  {
   "cell_type": "code",
   "execution_count": 36,
   "id": "32695f90",
   "metadata": {},
   "outputs": [],
   "source": [
    "# Save the plot\n",
    "ggsave(\"Results/Global/Pooled Regression/Full/mean_mae_scaled_lag_plot.png\", \n",
    "       pooled_reg_mae_scaled_plot, width=9, height=6)"
   ]
  },
  {
   "cell_type": "markdown",
   "id": "c8a0d915",
   "metadata": {},
   "source": [
    "Based on the above, we will use lag=840 moving forward. But this is not the only reasonable choice"
   ]
  },
  {
   "cell_type": "markdown",
   "id": "5af9fcbe",
   "metadata": {},
   "source": [
    "## Final Global AR Model - Full Data"
   ]
  },
  {
   "cell_type": "code",
   "execution_count": 37,
   "id": "25bd30fb",
   "metadata": {},
   "outputs": [],
   "source": [
    "# Create the final lag embedd matrix list using the lag of 840\n",
    "embed_mat_list <- lapply(total_df_list_samples,\n",
    "                     function(x) lag_embed(x, lag=840))\n",
    "\n",
    "# Since we are training the full model now, we will combine the train and validation data to fit the model and only\n",
    "# test on the test data - thus, we split these up into two separate lists of lag matrices\n",
    "embed_train_val_list <- lapply(embed_mat_list,\n",
    "                           function(x) rbind(data.frame(x$train), data.frame(x$val)))\n",
    " \n",
    "embed_test_list <- lapply(embed_mat_list,\n",
    "                          function(x) data.frame(x$test))                             "
   ]
  },
  {
   "cell_type": "code",
   "execution_count": 38,
   "id": "1614574c",
   "metadata": {},
   "outputs": [],
   "source": [
    "# Create the final model using the global_ar_least_squares function\n",
    "global_ar_final <- global_ar_least_squares(train_list=embed_train_val_list, \n",
    "                                           return_train_preds=TRUE, \n",
    "                                           return_train_means=TRUE, \n",
    "                                           return_train_residuals=TRUE)"
   ]
  },
  {
   "cell_type": "code",
   "execution_count": 39,
   "id": "a18e4246",
   "metadata": {},
   "outputs": [],
   "source": [
    "# Save the model to an RData file for future use\n",
    "saveRDS(global_ar_final, \"Results/Global/Pooled Regression/Full/global_ar_model.RData\")"
   ]
  },
  {
   "cell_type": "code",
   "execution_count": 40,
   "id": "64028866",
   "metadata": {},
   "outputs": [
    {
     "data": {
      "text/html": [
       "30.7929793483351"
      ],
      "text/latex": [
       "30.7929793483351"
      ],
      "text/markdown": [
       "30.7929793483351"
      ],
      "text/plain": [
       "[1] 30.79298"
      ]
     },
     "metadata": {},
     "output_type": "display_data"
    }
   ],
   "source": [
    "# Examine the model performance on the training data \n",
    "mean(global_ar_final$train_rmse)"
   ]
  },
  {
   "cell_type": "code",
   "execution_count": 41,
   "id": "ab8a46ae",
   "metadata": {},
   "outputs": [
    {
     "data": {
      "text/html": [
       "20.3361412024067"
      ],
      "text/latex": [
       "20.3361412024067"
      ],
      "text/markdown": [
       "20.3361412024067"
      ],
      "text/plain": [
       "[1] 20.33614"
      ]
     },
     "metadata": {},
     "output_type": "display_data"
    }
   ],
   "source": [
    "mean(global_ar_final$train_mae)"
   ]
  },
  {
   "cell_type": "code",
   "execution_count": 42,
   "id": "126d7df3",
   "metadata": {},
   "outputs": [
    {
     "data": {
      "text/html": [
       "0.143266963622"
      ],
      "text/latex": [
       "0.143266963622"
      ],
      "text/markdown": [
       "0.143266963622"
      ],
      "text/plain": [
       "[1] 0.143267"
      ]
     },
     "metadata": {},
     "output_type": "display_data"
    }
   ],
   "source": [
    "mean(global_ar_final$train_rmse/global_ar_final$train_means)"
   ]
  },
  {
   "cell_type": "code",
   "execution_count": 43,
   "id": "c50c5c44",
   "metadata": {},
   "outputs": [
    {
     "data": {
      "text/html": [
       "0.0964600511904704"
      ],
      "text/latex": [
       "0.0964600511904704"
      ],
      "text/markdown": [
       "0.0964600511904704"
      ],
      "text/plain": [
       "[1] 0.09646005"
      ]
     },
     "metadata": {},
     "output_type": "display_data"
    }
   ],
   "source": [
    "mean(global_ar_final$train_mae/global_ar_final$train_means)"
   ]
  },
  {
   "cell_type": "markdown",
   "id": "8f80fe07",
   "metadata": {},
   "source": [
    "## Global AR Model Test Predictions - Full Data"
   ]
  },
  {
   "cell_type": "code",
   "execution_count": 44,
   "id": "ddbb5547",
   "metadata": {},
   "outputs": [],
   "source": [
    "# Make predicitons on the test data using this model\n",
    "global_ar_final_test_preds <- global_ar_least_squares_pred(global_ar_final$model, embed_test_list, TRUE, TRUE)"
   ]
  },
  {
   "cell_type": "code",
   "execution_count": 45,
   "id": "5d2464ee",
   "metadata": {},
   "outputs": [
    {
     "data": {
      "text/html": [
       "31.536765277406"
      ],
      "text/latex": [
       "31.536765277406"
      ],
      "text/markdown": [
       "31.536765277406"
      ],
      "text/plain": [
       "[1] 31.53677"
      ]
     },
     "metadata": {},
     "output_type": "display_data"
    }
   ],
   "source": [
    "# Examine the model performance - it is quite similar to the training data, which is good\n",
    "mean(global_ar_final_test_preds$test_rmse)"
   ]
  },
  {
   "cell_type": "code",
   "execution_count": 46,
   "id": "91ace65c",
   "metadata": {},
   "outputs": [
    {
     "data": {
      "text/html": [
       "20.8648253605247"
      ],
      "text/latex": [
       "20.8648253605247"
      ],
      "text/markdown": [
       "20.8648253605247"
      ],
      "text/plain": [
       "[1] 20.86483"
      ]
     },
     "metadata": {},
     "output_type": "display_data"
    }
   ],
   "source": [
    "mean(global_ar_final_test_preds$test_mae)"
   ]
  },
  {
   "cell_type": "code",
   "execution_count": 47,
   "id": "709baddb",
   "metadata": {},
   "outputs": [
    {
     "data": {
      "text/html": [
       "0.141646462122696"
      ],
      "text/latex": [
       "0.141646462122696"
      ],
      "text/markdown": [
       "0.141646462122696"
      ],
      "text/plain": [
       "[1] 0.1416465"
      ]
     },
     "metadata": {},
     "output_type": "display_data"
    }
   ],
   "source": [
    "mean(global_ar_final_test_preds$test_rmse/global_ar_final_test_preds$test_means)"
   ]
  },
  {
   "cell_type": "code",
   "execution_count": 48,
   "id": "6878461f",
   "metadata": {},
   "outputs": [
    {
     "data": {
      "text/html": [
       "0.0957676459120966"
      ],
      "text/latex": [
       "0.0957676459120966"
      ],
      "text/markdown": [
       "0.0957676459120966"
      ],
      "text/plain": [
       "[1] 0.09576765"
      ]
     },
     "metadata": {},
     "output_type": "display_data"
    }
   ],
   "source": [
    "mean(global_ar_final_test_preds$test_mae/global_ar_final_test_preds$test_means)"
   ]
  },
  {
   "cell_type": "code",
   "execution_count": 49,
   "id": "2c7fee45",
   "metadata": {},
   "outputs": [],
   "source": [
    "# Save the test preds into an RData file as well\n",
    "saveRDS(global_ar_final_test_preds, \"Results/Global/Pooled Regression/Full/global_ar_model_test_pred.RData\")"
   ]
  },
  {
   "cell_type": "code",
   "execution_count": 50,
   "id": "8a81fd77",
   "metadata": {},
   "outputs": [],
   "source": [
    "# Create a data frame of the test data\n",
    "test_data_full <- do.call(\"rbind\", embed_test_list)"
   ]
  },
  {
   "cell_type": "code",
   "execution_count": 51,
   "id": "ba51a9b5",
   "metadata": {},
   "outputs": [],
   "source": [
    "# Create bootstrap pred intervals on the test data, using a bootstrap sample number of n_samp=1000\n",
    "# We could use a smaller n_samp for speed, but higher will give us a more accurate picture of the PIs\n",
    "n_samp <- 1000\n",
    "boot_test <- bootstrap_pred_int(global_ar_final_test_preds$test_preds,\n",
    "                                global_ar_final$train_residuals,\n",
    "                                n_samp,\n",
    "                                test_data_full[,1])                    "
   ]
  },
  {
   "cell_type": "code",
   "execution_count": 52,
   "id": "f62d4fa8",
   "metadata": {},
   "outputs": [
    {
     "data": {
      "text/html": [
       "<table class=\"dataframe\">\n",
       "<caption>A data.frame: 6 × 9</caption>\n",
       "<thead>\n",
       "\t<tr><th></th><th scope=col>forec</th><th scope=col>ts_index</th><th scope=col>lo_80</th><th scope=col>hi_80</th><th scope=col>lo_95</th><th scope=col>hi_95</th><th scope=col>true_values</th><th scope=col>int_score_80</th><th scope=col>int_score_95</th></tr>\n",
       "\t<tr><th></th><th scope=col>&lt;dbl&gt;</th><th scope=col>&lt;int&gt;</th><th scope=col>&lt;dbl&gt;</th><th scope=col>&lt;dbl&gt;</th><th scope=col>&lt;dbl&gt;</th><th scope=col>&lt;dbl&gt;</th><th scope=col>&lt;dbl&gt;</th><th scope=col>&lt;dbl&gt;</th><th scope=col>&lt;dbl&gt;</th></tr>\n",
       "</thead>\n",
       "<tbody>\n",
       "\t<tr><th scope=row>1</th><td>331.7899</td><td>1</td><td>300.6246</td><td>363.8938</td><td>268.7938</td><td>400.4313</td><td>282</td><td>249.51492</td><td>131.6375</td></tr>\n",
       "\t<tr><th scope=row>2</th><td>333.4108</td><td>1</td><td>301.2410</td><td>365.4639</td><td>261.1426</td><td>408.3861</td><td>313</td><td> 64.22289</td><td>147.2435</td></tr>\n",
       "\t<tr><th scope=row>3</th><td>320.9358</td><td>1</td><td>294.3581</td><td>352.2149</td><td>261.7986</td><td>384.3835</td><td>336</td><td> 57.85677</td><td>122.5849</td></tr>\n",
       "\t<tr><th scope=row>4</th><td>341.3668</td><td>1</td><td>312.1785</td><td>375.5160</td><td>278.1677</td><td>419.5683</td><td>311</td><td> 75.12238</td><td>141.4005</td></tr>\n",
       "\t<tr><th scope=row>5</th><td>295.5898</td><td>1</td><td>267.2585</td><td>327.3159</td><td>232.4454</td><td>360.7432</td><td>372</td><td>506.89846</td><td>578.5701</td></tr>\n",
       "\t<tr><th scope=row>6</th><td>311.1126</td><td>1</td><td>278.6934</td><td>342.4407</td><td>236.4438</td><td>382.9102</td><td>286</td><td> 63.74730</td><td>146.4664</td></tr>\n",
       "</tbody>\n",
       "</table>\n"
      ],
      "text/latex": [
       "A data.frame: 6 × 9\n",
       "\\begin{tabular}{r|lllllllll}\n",
       "  & forec & ts\\_index & lo\\_80 & hi\\_80 & lo\\_95 & hi\\_95 & true\\_values & int\\_score\\_80 & int\\_score\\_95\\\\\n",
       "  & <dbl> & <int> & <dbl> & <dbl> & <dbl> & <dbl> & <dbl> & <dbl> & <dbl>\\\\\n",
       "\\hline\n",
       "\t1 & 331.7899 & 1 & 300.6246 & 363.8938 & 268.7938 & 400.4313 & 282 & 249.51492 & 131.6375\\\\\n",
       "\t2 & 333.4108 & 1 & 301.2410 & 365.4639 & 261.1426 & 408.3861 & 313 &  64.22289 & 147.2435\\\\\n",
       "\t3 & 320.9358 & 1 & 294.3581 & 352.2149 & 261.7986 & 384.3835 & 336 &  57.85677 & 122.5849\\\\\n",
       "\t4 & 341.3668 & 1 & 312.1785 & 375.5160 & 278.1677 & 419.5683 & 311 &  75.12238 & 141.4005\\\\\n",
       "\t5 & 295.5898 & 1 & 267.2585 & 327.3159 & 232.4454 & 360.7432 & 372 & 506.89846 & 578.5701\\\\\n",
       "\t6 & 311.1126 & 1 & 278.6934 & 342.4407 & 236.4438 & 382.9102 & 286 &  63.74730 & 146.4664\\\\\n",
       "\\end{tabular}\n"
      ],
      "text/markdown": [
       "\n",
       "A data.frame: 6 × 9\n",
       "\n",
       "| <!--/--> | forec &lt;dbl&gt; | ts_index &lt;int&gt; | lo_80 &lt;dbl&gt; | hi_80 &lt;dbl&gt; | lo_95 &lt;dbl&gt; | hi_95 &lt;dbl&gt; | true_values &lt;dbl&gt; | int_score_80 &lt;dbl&gt; | int_score_95 &lt;dbl&gt; |\n",
       "|---|---|---|---|---|---|---|---|---|---|\n",
       "| 1 | 331.7899 | 1 | 300.6246 | 363.8938 | 268.7938 | 400.4313 | 282 | 249.51492 | 131.6375 |\n",
       "| 2 | 333.4108 | 1 | 301.2410 | 365.4639 | 261.1426 | 408.3861 | 313 |  64.22289 | 147.2435 |\n",
       "| 3 | 320.9358 | 1 | 294.3581 | 352.2149 | 261.7986 | 384.3835 | 336 |  57.85677 | 122.5849 |\n",
       "| 4 | 341.3668 | 1 | 312.1785 | 375.5160 | 278.1677 | 419.5683 | 311 |  75.12238 | 141.4005 |\n",
       "| 5 | 295.5898 | 1 | 267.2585 | 327.3159 | 232.4454 | 360.7432 | 372 | 506.89846 | 578.5701 |\n",
       "| 6 | 311.1126 | 1 | 278.6934 | 342.4407 | 236.4438 | 382.9102 | 286 |  63.74730 | 146.4664 |\n",
       "\n"
      ],
      "text/plain": [
       "  forec    ts_index lo_80    hi_80    lo_95    hi_95    true_values\n",
       "1 331.7899 1        300.6246 363.8938 268.7938 400.4313 282        \n",
       "2 333.4108 1        301.2410 365.4639 261.1426 408.3861 313        \n",
       "3 320.9358 1        294.3581 352.2149 261.7986 384.3835 336        \n",
       "4 341.3668 1        312.1785 375.5160 278.1677 419.5683 311        \n",
       "5 295.5898 1        267.2585 327.3159 232.4454 360.7432 372        \n",
       "6 311.1126 1        278.6934 342.4407 236.4438 382.9102 286        \n",
       "  int_score_80 int_score_95\n",
       "1 249.51492    131.6375    \n",
       "2  64.22289    147.2435    \n",
       "3  57.85677    122.5849    \n",
       "4  75.12238    141.4005    \n",
       "5 506.89846    578.5701    \n",
       "6  63.74730    146.4664    "
      ]
     },
     "metadata": {},
     "output_type": "display_data"
    }
   ],
   "source": [
    "head(boot_test)"
   ]
  },
  {
   "cell_type": "code",
   "execution_count": 53,
   "id": "983b880c",
   "metadata": {},
   "outputs": [
    {
     "data": {
      "text/html": [
       "125.570128292602"
      ],
      "text/latex": [
       "125.570128292602"
      ],
      "text/markdown": [
       "125.570128292602"
      ],
      "text/plain": [
       "[1] 125.5701"
      ]
     },
     "metadata": {},
     "output_type": "display_data"
    }
   ],
   "source": [
    "# Compute the mean of the 80% PI scores\n",
    "mean((boot_test %>% group_by(ts_index) %>% summarise(int_score_80=mean(int_score_80)))$int_score_80)"
   ]
  },
  {
   "cell_type": "code",
   "execution_count": 54,
   "id": "2fd8e555",
   "metadata": {},
   "outputs": [
    {
     "data": {
      "text/html": [
       "233.263855577244"
      ],
      "text/latex": [
       "233.263855577244"
      ],
      "text/markdown": [
       "233.263855577244"
      ],
      "text/plain": [
       "[1] 233.2639"
      ]
     },
     "metadata": {},
     "output_type": "display_data"
    }
   ],
   "source": [
    "# Compute the mean of the 95% PI scores\n",
    "mean((boot_test %>% group_by(ts_index) %>% summarise(int_score_95=mean(int_score_95)))$int_score_95)"
   ]
  },
  {
   "cell_type": "code",
   "execution_count": 55,
   "id": "c52e3f05",
   "metadata": {},
   "outputs": [
    {
     "data": {
      "text/html": [
       "0.624091803665536"
      ],
      "text/latex": [
       "0.624091803665536"
      ],
      "text/markdown": [
       "0.624091803665536"
      ],
      "text/plain": [
       "[1] 0.6240918"
      ]
     },
     "metadata": {},
     "output_type": "display_data"
    }
   ],
   "source": [
    "mean((boot_test %>% group_by(ts_index) %>% summarise(int_score_80=mean(int_score_80)))$int_score_80/\n",
    "global_ar_final_test_preds$test_means)"
   ]
  },
  {
   "cell_type": "code",
   "execution_count": 56,
   "id": "c0c6ad32",
   "metadata": {},
   "outputs": [
    {
     "data": {
      "text/html": [
       "1.18533454213714"
      ],
      "text/latex": [
       "1.18533454213714"
      ],
      "text/markdown": [
       "1.18533454213714"
      ],
      "text/plain": [
       "[1] 1.185335"
      ]
     },
     "metadata": {},
     "output_type": "display_data"
    }
   ],
   "source": [
    "mean((boot_test %>% group_by(ts_index) %>% summarise(int_score_95=mean(int_score_95)))$int_score_95/\n",
    "global_ar_final_test_preds$test_means)"
   ]
  },
  {
   "cell_type": "code",
   "execution_count": 57,
   "id": "3ef96848",
   "metadata": {},
   "outputs": [],
   "source": [
    "write.csv(boot_test, \"Results/Global/Pooled Regression/Full/global_ar_model_test_pred_w_int.csv\", row.names=FALSE)"
   ]
  },
  {
   "cell_type": "markdown",
   "id": "8d254ca4",
   "metadata": {},
   "source": [
    "# Global AR Model - per Highway System"
   ]
  },
  {
   "cell_type": "markdown",
   "id": "b4e56bf6",
   "metadata": {},
   "source": [
    "## Create the Models"
   ]
  },
  {
   "cell_type": "code",
   "execution_count": 58,
   "id": "027dff00",
   "metadata": {},
   "outputs": [],
   "source": [
    "# Create a \"cluster\" assignment so that we can build one model per highway system\n",
    "country_clust <- data.frame(ts_index=1:76, \n",
    "                            country_clust_assign=c(rep(1, length(england_df_list)), \n",
    "                                                   rep(2, length(portland_df_list)), \n",
    "                                                   rep(3, length(utah_df_list))))"
   ]
  },
  {
   "cell_type": "code",
   "execution_count": 59,
   "id": "a6fb1fad",
   "metadata": {},
   "outputs": [],
   "source": [
    "# Extract the proper train_val data from the original embed matrix list for each cluster\n",
    "embed_train_val_list_country_clust_1 <- embed_train_val_list[c((country_clust %>% \n",
    "                                                        filter(country_clust_assign == 1))$ts_index)]\n",
    "embed_train_val_list_country_clust_2 <- embed_train_val_list[c((country_clust %>% \n",
    "                                                        filter(country_clust_assign == 2))$ts_index)]\n",
    "embed_train_val_list_country_clust_3 <- embed_train_val_list[c((country_clust %>% \n",
    "                                                        filter(country_clust_assign == 3))$ts_index)]\n"
   ]
  },
  {
   "cell_type": "code",
   "execution_count": 60,
   "id": "db503513",
   "metadata": {},
   "outputs": [],
   "source": [
    "# Extract the proper test data from the original list for each cluster\n",
    "embed_test_list_country_clust_1 <- embed_test_list[c((country_clust %>% \n",
    "                                                        filter(country_clust_assign == 1))$ts_index)]\n",
    "embed_test_list_country_clust_2 <- embed_test_list[c((country_clust %>% \n",
    "                                                        filter(country_clust_assign == 2))$ts_index)]\n",
    "embed_test_list_country_clust_3 <- embed_test_list[c((country_clust %>% \n",
    "                                                        filter(country_clust_assign == 3))$ts_index)]"
   ]
  },
  {
   "cell_type": "code",
   "execution_count": 61,
   "id": "3a9f55d0",
   "metadata": {},
   "outputs": [],
   "source": [
    "# Create a model for each highway system, again using lag 840 embedding and fitting to train+val data together\n",
    "global_ar_country_clust_1 <- global_ar_least_squares(embed_train_val_list_country_clust_1, \n",
    "                                                     return_train_preds=TRUE, \n",
    "                                                     return_train_means=TRUE, \n",
    "                                                     return_train_residuals=TRUE)\n",
    "global_ar_country_clust_2 <- global_ar_least_squares(embed_train_val_list_country_clust_2, \n",
    "                                                     return_train_preds=TRUE, \n",
    "                                                     return_train_means=TRUE, \n",
    "                                                     return_train_residuals=TRUE)\n",
    "global_ar_country_clust_3 <- global_ar_least_squares(embed_train_val_list_country_clust_3, \n",
    "                                                     return_train_preds=TRUE, \n",
    "                                                     return_train_means=TRUE, \n",
    "                                                     return_train_residuals=TRUE)"
   ]
  },
  {
   "cell_type": "code",
   "execution_count": 62,
   "id": "d64667b2",
   "metadata": {},
   "outputs": [],
   "source": [
    "# Save the models to RData files for future use if needed\n",
    "saveRDS(global_ar_country_clust_1, \n",
    "        \"Results/Global/Pooled Regression/Highway System/global_ar_model_country_1.RData\")\n",
    "\n",
    "saveRDS(global_ar_country_clust_2, \n",
    "        \"Results/Global/Pooled Regression/Highway System/global_ar_model_country_2.RData\")\n",
    "\n",
    "saveRDS(global_ar_country_clust_3, \n",
    "        \"Results/Global/Pooled Regression/Highway System/global_ar_model_country_3.RData\")"
   ]
  },
  {
   "cell_type": "code",
   "execution_count": 63,
   "id": "2aff816e",
   "metadata": {},
   "outputs": [],
   "source": [
    "# Load the saved models as to no re-create them every time we close the notebook\n",
    "global_ar_country_clust_1 <- readRDS(\"Results/Global/Pooled Regression/Highway System/global_ar_model_country_1.RData\")\n",
    "\n",
    "global_ar_country_clust_2 <- readRDS(\"Results/Global/Pooled Regression/Highway System/global_ar_model_country_2.RData\")\n",
    "\n",
    "global_ar_country_clust_3 <- readRDS(\"Results/Global/Pooled Regression/Highway System/global_ar_model_country_3.RData\")"
   ]
  },
  {
   "cell_type": "code",
   "execution_count": 64,
   "id": "0185ff6a",
   "metadata": {},
   "outputs": [
    {
     "data": {
      "text/html": [
       "30.5711835735901"
      ],
      "text/latex": [
       "30.5711835735901"
      ],
      "text/markdown": [
       "30.5711835735901"
      ],
      "text/plain": [
       "[1] 30.57118"
      ]
     },
     "metadata": {},
     "output_type": "display_data"
    }
   ],
   "source": [
    "# Inspect model performance on the training data by taking the mean of the rmse on each time series, same as before\n",
    "mean(c(global_ar_country_clust_1$train_rmse, \n",
    "       global_ar_country_clust_2$train_rmse,\n",
    "       global_ar_country_clust_3$train_rmse))"
   ]
  },
  {
   "cell_type": "code",
   "execution_count": 65,
   "id": "85037ee5",
   "metadata": {},
   "outputs": [
    {
     "data": {
      "text/html": [
       "20.2843521371728"
      ],
      "text/latex": [
       "20.2843521371728"
      ],
      "text/markdown": [
       "20.2843521371728"
      ],
      "text/plain": [
       "[1] 20.28435"
      ]
     },
     "metadata": {},
     "output_type": "display_data"
    }
   ],
   "source": [
    "mean(c(global_ar_country_clust_1$train_mae, \n",
    "       global_ar_country_clust_2$train_mae,\n",
    "       global_ar_country_clust_3$train_mae))"
   ]
  },
  {
   "cell_type": "code",
   "execution_count": 66,
   "id": "1c841bc4",
   "metadata": {},
   "outputs": [
    {
     "data": {
      "text/html": [
       "0.142484060882163"
      ],
      "text/latex": [
       "0.142484060882163"
      ],
      "text/markdown": [
       "0.142484060882163"
      ],
      "text/plain": [
       "[1] 0.1424841"
      ]
     },
     "metadata": {},
     "output_type": "display_data"
    }
   ],
   "source": [
    "mean(c(global_ar_country_clust_1$train_rmse, \n",
    "       global_ar_country_clust_2$train_rmse,\n",
    "       global_ar_country_clust_3$train_rmse) / \n",
    "     c(global_ar_country_clust_1$train_means, \n",
    "       global_ar_country_clust_2$train_means,\n",
    "       global_ar_country_clust_3$train_means)\n",
    "    )"
   ]
  },
  {
   "cell_type": "code",
   "execution_count": 67,
   "id": "affb6823",
   "metadata": {},
   "outputs": [
    {
     "data": {
      "text/html": [
       "0.0964692916804258"
      ],
      "text/latex": [
       "0.0964692916804258"
      ],
      "text/markdown": [
       "0.0964692916804258"
      ],
      "text/plain": [
       "[1] 0.09646929"
      ]
     },
     "metadata": {},
     "output_type": "display_data"
    }
   ],
   "source": [
    "mean(c(global_ar_country_clust_1$train_mae, \n",
    "       global_ar_country_clust_2$train_mae,\n",
    "       global_ar_country_clust_3$train_mae) / \n",
    "     c(global_ar_country_clust_1$train_means, \n",
    "       global_ar_country_clust_2$train_means,\n",
    "       global_ar_country_clust_3$train_means)\n",
    "    )"
   ]
  },
  {
   "cell_type": "markdown",
   "id": "1d7516b4",
   "metadata": {},
   "source": [
    "## Compute Test Set Preds"
   ]
  },
  {
   "cell_type": "code",
   "execution_count": 68,
   "id": "42068982",
   "metadata": {},
   "outputs": [],
   "source": [
    "# For each model for each highway system, compute the predicitons on the test set\n",
    "global_ar_country_clust_1_test_preds <- global_ar_least_squares_pred(global_ar_country_clust_1$model, \n",
    "                                                                     embed_test_list_country_clust_1, \n",
    "                                                                     TRUE, \n",
    "                                                                     TRUE)\n",
    "\n",
    "global_ar_country_clust_2_test_preds <- global_ar_least_squares_pred(global_ar_country_clust_2$model, \n",
    "                                                                     embed_test_list_country_clust_2, \n",
    "                                                                     TRUE, \n",
    "                                                                     TRUE)\n",
    "\n",
    "global_ar_country_clust_3_test_preds <- global_ar_least_squares_pred(global_ar_country_clust_3$model, \n",
    "                                                                     embed_test_list_country_clust_3, \n",
    "                                                                     TRUE, \n",
    "                                                                     TRUE)"
   ]
  },
  {
   "cell_type": "code",
   "execution_count": 69,
   "id": "e4b18845",
   "metadata": {},
   "outputs": [],
   "source": [
    "# Save the predictions\n",
    "saveRDS(global_ar_country_clust_1_test_preds, \n",
    "        \"Results/Global/Pooled Regression/Highway System/global_ar_model_country_1_test_pred.RData\")\n",
    "\n",
    "saveRDS(global_ar_country_clust_2_test_preds, \n",
    "        \"Results/Global/Pooled Regression/Highway System/global_ar_model_country_2_test_pred.RData\")\n",
    "\n",
    "saveRDS(global_ar_country_clust_3_test_preds, \n",
    "        \"Results/Global/Pooled Regression/Highway System/global_ar_model_country_3_test_pred.RData\")"
   ]
  },
  {
   "cell_type": "code",
   "execution_count": 70,
   "id": "aa1e21d5",
   "metadata": {},
   "outputs": [
    {
     "data": {
      "text/html": [
       "31.4583146776658"
      ],
      "text/latex": [
       "31.4583146776658"
      ],
      "text/markdown": [
       "31.4583146776658"
      ],
      "text/plain": [
       "[1] 31.45831"
      ]
     },
     "metadata": {},
     "output_type": "display_data"
    }
   ],
   "source": [
    "# Inspect the overall average performance\n",
    "mean(c(global_ar_country_clust_1_test_preds$test_rmse,  \n",
    "       global_ar_country_clust_2_test_preds$test_rmse, \n",
    "       global_ar_country_clust_3_test_preds$test_rmse))"
   ]
  },
  {
   "cell_type": "code",
   "execution_count": 71,
   "id": "e2b960eb",
   "metadata": {},
   "outputs": [
    {
     "data": {
      "text/html": [
       "20.8896177379566"
      ],
      "text/latex": [
       "20.8896177379566"
      ],
      "text/markdown": [
       "20.8896177379566"
      ],
      "text/plain": [
       "[1] 20.88962"
      ]
     },
     "metadata": {},
     "output_type": "display_data"
    }
   ],
   "source": [
    "mean(c(global_ar_country_clust_1_test_preds$test_mae,  \n",
    "       global_ar_country_clust_2_test_preds$test_mae, \n",
    "       global_ar_country_clust_3_test_preds$test_mae))"
   ]
  },
  {
   "cell_type": "code",
   "execution_count": 72,
   "id": "0099110a",
   "metadata": {},
   "outputs": [
    {
     "data": {
      "text/html": [
       "0.14134450422045"
      ],
      "text/latex": [
       "0.14134450422045"
      ],
      "text/markdown": [
       "0.14134450422045"
      ],
      "text/plain": [
       "[1] 0.1413445"
      ]
     },
     "metadata": {},
     "output_type": "display_data"
    }
   ],
   "source": [
    "mean(c(global_ar_country_clust_1_test_preds$test_rmse,  \n",
    "       global_ar_country_clust_2_test_preds$test_rmse, \n",
    "       global_ar_country_clust_3_test_preds$test_rmse) / \n",
    "     c(global_ar_country_clust_1_test_preds$test_means,  \n",
    "       global_ar_country_clust_2_test_preds$test_means, \n",
    "       global_ar_country_clust_3_test_preds$test_means)\n",
    "    )"
   ]
  },
  {
   "cell_type": "code",
   "execution_count": 73,
   "id": "379d3702",
   "metadata": {},
   "outputs": [
    {
     "data": {
      "text/html": [
       "0.0960548331922844"
      ],
      "text/latex": [
       "0.0960548331922844"
      ],
      "text/markdown": [
       "0.0960548331922844"
      ],
      "text/plain": [
       "[1] 0.09605483"
      ]
     },
     "metadata": {},
     "output_type": "display_data"
    }
   ],
   "source": [
    "mean(c(global_ar_country_clust_1_test_preds$test_mae,  \n",
    "       global_ar_country_clust_2_test_preds$test_mae, \n",
    "       global_ar_country_clust_3_test_preds$test_mae) / \n",
    "     c(global_ar_country_clust_1_test_preds$test_means,  \n",
    "       global_ar_country_clust_2_test_preds$test_means, \n",
    "       global_ar_country_clust_3_test_preds$test_means)\n",
    "    )"
   ]
  },
  {
   "cell_type": "markdown",
   "id": "87e21d64",
   "metadata": {},
   "source": [
    "### Bootstrap Prediction Intervals"
   ]
  },
  {
   "cell_type": "code",
   "execution_count": 74,
   "id": "6f5ec992",
   "metadata": {},
   "outputs": [],
   "source": [
    "# Create a single dataframe of test data for each cluster\n",
    "country_clust_1_test_data_full <- do.call(\"rbind\", embed_test_list_country_clust_1)\n",
    "country_clust_2_test_data_full <- do.call(\"rbind\", embed_test_list_country_clust_2)\n",
    "country_clust_3_test_data_full <- do.call(\"rbind\", embed_test_list_country_clust_3)"
   ]
  },
  {
   "cell_type": "code",
   "execution_count": 75,
   "id": "7cdf2b0b",
   "metadata": {},
   "outputs": [],
   "source": [
    "# Compute the bootstrap pred intervals for each cluster\n",
    "global_ar_country_clust_1_test_preds_boot <- bootstrap_pred_int(global_ar_country_clust_1_test_preds$test_preds,\n",
    "                                                                global_ar_country_clust_1$train_residuals,\n",
    "                                                                n_samp,\n",
    "                                                                country_clust_1_test_data_full[,1])      \n",
    "\n",
    "global_ar_country_clust_2_test_preds_boot <- bootstrap_pred_int(global_ar_country_clust_2_test_preds$test_preds,\n",
    "                                                                global_ar_country_clust_2$train_residuals,\n",
    "                                                                n_samp,\n",
    "                                                                country_clust_2_test_data_full[,1])      \n",
    "\n",
    "global_ar_country_clust_3_test_preds_boot <- bootstrap_pred_int(global_ar_country_clust_3_test_preds$test_preds,\n",
    "                                                                global_ar_country_clust_3$train_residuals,\n",
    "                                                                n_samp,\n",
    "                                                                country_clust_3_test_data_full[,1])      "
   ]
  },
  {
   "cell_type": "code",
   "execution_count": 76,
   "id": "f4506369",
   "metadata": {},
   "outputs": [],
   "source": [
    "# Combine the results from each cluster into one final dataframe\n",
    "global_ar_country_clust_test_preds_boot <- rbind(global_ar_country_clust_1_test_preds_boot,\n",
    "                                                 global_ar_country_clust_2_test_preds_boot,\n",
    "                                                 global_ar_country_clust_3_test_preds_boot\n",
    "                                                )"
   ]
  },
  {
   "cell_type": "code",
   "execution_count": 77,
   "id": "3775a39f",
   "metadata": {},
   "outputs": [
    {
     "data": {
      "text/html": [
       "123.255735200756"
      ],
      "text/latex": [
       "123.255735200756"
      ],
      "text/markdown": [
       "123.255735200756"
      ],
      "text/plain": [
       "[1] 123.2557"
      ]
     },
     "metadata": {},
     "output_type": "display_data"
    }
   ],
   "source": [
    "# Examine the average interval scores for the 80% and 95% PIs\n",
    "mean(global_ar_country_clust_test_preds_boot$int_score_80)"
   ]
  },
  {
   "cell_type": "code",
   "execution_count": 78,
   "id": "92e5f0f4",
   "metadata": {},
   "outputs": [
    {
     "data": {
      "text/html": [
       "224.693314846858"
      ],
      "text/latex": [
       "224.693314846858"
      ],
      "text/markdown": [
       "224.693314846858"
      ],
      "text/plain": [
       "[1] 224.6933"
      ]
     },
     "metadata": {},
     "output_type": "display_data"
    }
   ],
   "source": [
    "mean(global_ar_country_clust_test_preds_boot$int_score_95)"
   ]
  },
  {
   "cell_type": "code",
   "execution_count": 79,
   "id": "f8b318a0",
   "metadata": {},
   "outputs": [
    {
     "data": {
      "text/html": [
       "0.59522585829859"
      ],
      "text/latex": [
       "0.59522585829859"
      ],
      "text/markdown": [
       "0.59522585829859"
      ],
      "text/plain": [
       "[1] 0.5952259"
      ]
     },
     "metadata": {},
     "output_type": "display_data"
    }
   ],
   "source": [
    "mean(c((global_ar_country_clust_1_test_preds_boot %>% \n",
    "    group_by(ts_index) %>% \n",
    "    summarise(int_score_80=mean(int_score_80)))$int_score_80,\n",
    "\n",
    "(global_ar_country_clust_2_test_preds_boot %>% \n",
    "    group_by(ts_index) %>% \n",
    "    summarise(int_score_80=mean(int_score_80)))$int_score_80,\n",
    "\n",
    "(global_ar_country_clust_3_test_preds_boot %>% \n",
    "    group_by(ts_index) %>% \n",
    "    summarise(int_score_80=mean(int_score_80)))$int_score_80) /\n",
    "\n",
    " c(global_ar_country_clust_1_test_preds$test_means,  \n",
    "       global_ar_country_clust_2_test_preds$test_means, \n",
    "       global_ar_country_clust_3_test_preds$test_means)\n",
    ")"
   ]
  },
  {
   "cell_type": "code",
   "execution_count": 80,
   "id": "91175abd",
   "metadata": {},
   "outputs": [
    {
     "data": {
      "text/html": [
       "1.0962794129238"
      ],
      "text/latex": [
       "1.0962794129238"
      ],
      "text/markdown": [
       "1.0962794129238"
      ],
      "text/plain": [
       "[1] 1.096279"
      ]
     },
     "metadata": {},
     "output_type": "display_data"
    }
   ],
   "source": [
    "mean(c((global_ar_country_clust_1_test_preds_boot %>% \n",
    "    group_by(ts_index) %>% \n",
    "    summarise(int_score_95=mean(int_score_95)))$int_score_95,\n",
    "\n",
    "(global_ar_country_clust_2_test_preds_boot %>% \n",
    "    group_by(ts_index) %>% \n",
    "    summarise(int_score_95=mean(int_score_95)))$int_score_95,\n",
    "\n",
    "(global_ar_country_clust_3_test_preds_boot %>% \n",
    "    group_by(ts_index) %>% \n",
    "    summarise(int_score_95=mean(int_score_95)))$int_score_95) /\n",
    "\n",
    " c(global_ar_country_clust_1_test_preds$test_means,  \n",
    "       global_ar_country_clust_2_test_preds$test_means, \n",
    "       global_ar_country_clust_3_test_preds$test_means)\n",
    ")"
   ]
  },
  {
   "cell_type": "code",
   "execution_count": 81,
   "id": "98cac108",
   "metadata": {},
   "outputs": [],
   "source": [
    "# Save the results to a csv file\n",
    "write.csv(global_ar_country_clust_test_preds_boot, \n",
    "          \"Results/Global/Pooled Regression/Highway System/global_ar_model_per_country_test_pred_w_int.csv\", \n",
    "          row.names=FALSE)"
   ]
  },
  {
   "cell_type": "markdown",
   "id": "d97d4cb2",
   "metadata": {},
   "source": [
    "# Global AR Model - Random Clustering"
   ]
  },
  {
   "cell_type": "code",
   "execution_count": 82,
   "id": "35fd2ee6",
   "metadata": {},
   "outputs": [
    {
     "name": "stderr",
     "output_type": "stream",
     "text": [
      "\u001b[1mRows: \u001b[22m\u001b[34m76\u001b[39m \u001b[1mColumns: \u001b[22m\u001b[34m2\u001b[39m\n",
      "\u001b[36m──\u001b[39m \u001b[1mColumn specification\u001b[22m \u001b[36m────────────────────────────────────────────────────────\u001b[39m\n",
      "\u001b[1mDelimiter:\u001b[22m \",\"\n",
      "\u001b[32mdbl\u001b[39m (2): ts_index, random_clust_assign\n",
      "\n",
      "\u001b[36mℹ\u001b[39m Use `spec()` to retrieve the full column specification for this data.\n",
      "\u001b[36mℹ\u001b[39m Specify the column types or set `show_col_types = FALSE` to quiet this message.\n"
     ]
    }
   ],
   "source": [
    "# Read in the random clustering assignments generating in notebook 7 to use for modeling\n",
    "random_clust <- read_csv('Results/Clustering/Random/random_clustering_assign.csv')"
   ]
  },
  {
   "cell_type": "code",
   "execution_count": 83,
   "id": "89c4c38f",
   "metadata": {},
   "outputs": [
    {
     "data": {
      "text/html": [
       "<table class=\"dataframe\">\n",
       "<caption>A tibble: 6 × 2</caption>\n",
       "<thead>\n",
       "\t<tr><th scope=col>ts_index</th><th scope=col>random_clust_assign</th></tr>\n",
       "\t<tr><th scope=col>&lt;dbl&gt;</th><th scope=col>&lt;dbl&gt;</th></tr>\n",
       "</thead>\n",
       "<tbody>\n",
       "\t<tr><td>1</td><td>4</td></tr>\n",
       "\t<tr><td>2</td><td>4</td></tr>\n",
       "\t<tr><td>3</td><td>4</td></tr>\n",
       "\t<tr><td>4</td><td>4</td></tr>\n",
       "\t<tr><td>5</td><td>3</td></tr>\n",
       "\t<tr><td>6</td><td>4</td></tr>\n",
       "</tbody>\n",
       "</table>\n"
      ],
      "text/latex": [
       "A tibble: 6 × 2\n",
       "\\begin{tabular}{ll}\n",
       " ts\\_index & random\\_clust\\_assign\\\\\n",
       " <dbl> & <dbl>\\\\\n",
       "\\hline\n",
       "\t 1 & 4\\\\\n",
       "\t 2 & 4\\\\\n",
       "\t 3 & 4\\\\\n",
       "\t 4 & 4\\\\\n",
       "\t 5 & 3\\\\\n",
       "\t 6 & 4\\\\\n",
       "\\end{tabular}\n"
      ],
      "text/markdown": [
       "\n",
       "A tibble: 6 × 2\n",
       "\n",
       "| ts_index &lt;dbl&gt; | random_clust_assign &lt;dbl&gt; |\n",
       "|---|---|\n",
       "| 1 | 4 |\n",
       "| 2 | 4 |\n",
       "| 3 | 4 |\n",
       "| 4 | 4 |\n",
       "| 5 | 3 |\n",
       "| 6 | 4 |\n",
       "\n"
      ],
      "text/plain": [
       "  ts_index random_clust_assign\n",
       "1 1        4                  \n",
       "2 2        4                  \n",
       "3 3        4                  \n",
       "4 4        4                  \n",
       "5 5        3                  \n",
       "6 6        4                  "
      ]
     },
     "metadata": {},
     "output_type": "display_data"
    }
   ],
   "source": [
    "head(random_clust)"
   ]
  },
  {
   "cell_type": "code",
   "execution_count": 84,
   "id": "f9ee6a80",
   "metadata": {},
   "outputs": [
    {
     "data": {
      "text/html": [
       "4"
      ],
      "text/latex": [
       "4"
      ],
      "text/markdown": [
       "4"
      ],
      "text/plain": [
       "[1] 4"
      ]
     },
     "metadata": {},
     "output_type": "display_data"
    }
   ],
   "source": [
    "max(random_clust$random_clust_assign)"
   ]
  },
  {
   "cell_type": "code",
   "execution_count": 85,
   "id": "5a4d37e7",
   "metadata": {},
   "outputs": [],
   "source": [
    "# Create the appropriate lists of train_val matrices and test matrices based on the cluster assignments\n",
    "embed_train_val_list_rand_clust_1 <- embed_train_val_list[c((random_clust %>% \n",
    "                                                         filter(random_clust_assign == 1))$ts_index)]\n",
    "embed_train_val_list_rand_clust_2 <- embed_train_val_list[c((random_clust %>% \n",
    "                                                         filter(random_clust_assign == 2))$ts_index)]\n",
    "embed_train_val_list_rand_clust_3 <- embed_train_val_list[c((random_clust %>% \n",
    "                                                         filter(random_clust_assign == 3))$ts_index)]\n",
    "embed_train_val_list_rand_clust_4 <- embed_train_val_list[c((random_clust %>% \n",
    "                                                         filter(random_clust_assign == 4))$ts_index)]\n",
    "embed_test_list_rand_clust_1 <- embed_test_list[c((random_clust %>% filter(random_clust_assign == 1))$ts_index)]\n",
    "embed_test_list_rand_clust_2 <- embed_test_list[c((random_clust %>% filter(random_clust_assign == 2))$ts_index)]\n",
    "embed_test_list_rand_clust_3 <- embed_test_list[c((random_clust %>% filter(random_clust_assign == 3))$ts_index)]\n",
    "embed_test_list_rand_clust_4 <- embed_test_list[c((random_clust %>% filter(random_clust_assign == 4))$ts_index)]"
   ]
  },
  {
   "cell_type": "code",
   "execution_count": 86,
   "id": "818769a9",
   "metadata": {},
   "outputs": [],
   "source": [
    "# Create a model per random cluster\n",
    "global_ar_rand_clust_1 <- global_ar_least_squares(embed_train_val_list_rand_clust_1,\n",
    "                                                  return_train_preds=TRUE, \n",
    "                                                  return_train_means=TRUE, \n",
    "                                                  return_train_residuals=TRUE)\n",
    "\n",
    "global_ar_rand_clust_2 <- global_ar_least_squares(embed_train_val_list_rand_clust_2,\n",
    "                                                  return_train_preds=TRUE, \n",
    "                                                  return_train_means=TRUE, \n",
    "                                                  return_train_residuals=TRUE)\n",
    "\n",
    "global_ar_rand_clust_3 <- global_ar_least_squares(embed_train_val_list_rand_clust_3,\n",
    "                                                  return_train_preds=TRUE, \n",
    "                                                  return_train_means=TRUE, \n",
    "                                                  return_train_residuals=TRUE)\n",
    "\n",
    "global_ar_rand_clust_4 <- global_ar_least_squares(embed_train_val_list_rand_clust_4,\n",
    "                                                  return_train_preds=TRUE, \n",
    "                                                  return_train_means=TRUE, \n",
    "                                                  return_train_residuals=TRUE)"
   ]
  },
  {
   "cell_type": "code",
   "execution_count": 87,
   "id": "747aae15",
   "metadata": {},
   "outputs": [],
   "source": [
    "# Save the models for future use\n",
    "saveRDS(global_ar_rand_clust_1, \n",
    "        \"Results/Global/Pooled Regression/Random Cluster/global_ar_model_cluster_1.RData\")\n",
    "\n",
    "saveRDS(global_ar_rand_clust_2, \n",
    "        \"Results/Global/Pooled Regression/Random Cluster/global_ar_model_cluster_2.RData\")\n",
    "\n",
    "saveRDS(global_ar_rand_clust_3, \n",
    "        \"Results/Global/Pooled Regression/Random Cluster/global_ar_model_cluster_3.RData\")\n",
    "\n",
    "saveRDS(global_ar_rand_clust_4, \n",
    "        \"Results/Global/Pooled Regression/Random Cluster/global_ar_model_cluster_4.RData\")"
   ]
  },
  {
   "cell_type": "code",
   "execution_count": 88,
   "id": "4b12f1e6",
   "metadata": {},
   "outputs": [],
   "source": [
    "# Load saved models from file\n",
    "global_ar_rand_clust_1 <- readRDS(\"Results/Global/Pooled Regression/Random Cluster/global_ar_model_cluster_1.RData\")\n",
    "\n",
    "global_ar_rand_clust_2 <- readRDS(\"Results/Global/Pooled Regression/Random Cluster/global_ar_model_cluster_2.RData\")\n",
    "\n",
    "global_ar_rand_clust_3 <- readRDS(\"Results/Global/Pooled Regression/Random Cluster/global_ar_model_cluster_3.RData\")\n",
    "\n",
    "global_ar_rand_clust_4 <- readRDS(\"Results/Global/Pooled Regression/Random Cluster/global_ar_model_cluster_4.RData\")"
   ]
  },
  {
   "cell_type": "code",
   "execution_count": 89,
   "id": "cfd98a3c",
   "metadata": {},
   "outputs": [
    {
     "data": {
      "text/html": [
       "30.6305797314443"
      ],
      "text/latex": [
       "30.6305797314443"
      ],
      "text/markdown": [
       "30.6305797314443"
      ],
      "text/plain": [
       "[1] 30.63058"
      ]
     },
     "metadata": {},
     "output_type": "display_data"
    }
   ],
   "source": [
    "# Examine the overall average performance of these models on the training data\n",
    "mean(c(global_ar_rand_clust_1$train_rmse,\n",
    "       global_ar_rand_clust_2$train_rmse,\n",
    "       global_ar_rand_clust_3$train_rmse,\n",
    "       global_ar_rand_clust_4$train_rmse))"
   ]
  },
  {
   "cell_type": "code",
   "execution_count": 90,
   "id": "4ca58c4f",
   "metadata": {},
   "outputs": [
    {
     "data": {
      "text/html": [
       "20.3726213913423"
      ],
      "text/latex": [
       "20.3726213913423"
      ],
      "text/markdown": [
       "20.3726213913423"
      ],
      "text/plain": [
       "[1] 20.37262"
      ]
     },
     "metadata": {},
     "output_type": "display_data"
    }
   ],
   "source": [
    "mean(c(global_ar_rand_clust_1$train_mae,\n",
    "       global_ar_rand_clust_2$train_mae,\n",
    "       global_ar_rand_clust_3$train_mae,\n",
    "       global_ar_rand_clust_4$train_mae))"
   ]
  },
  {
   "cell_type": "code",
   "execution_count": 91,
   "id": "25ea380c",
   "metadata": {},
   "outputs": [
    {
     "data": {
      "text/html": [
       "0.143756033227129"
      ],
      "text/latex": [
       "0.143756033227129"
      ],
      "text/markdown": [
       "0.143756033227129"
      ],
      "text/plain": [
       "[1] 0.143756"
      ]
     },
     "metadata": {},
     "output_type": "display_data"
    }
   ],
   "source": [
    "mean(c(global_ar_rand_clust_1$train_rmse,\n",
    "       global_ar_rand_clust_2$train_rmse,\n",
    "       global_ar_rand_clust_3$train_rmse,\n",
    "       global_ar_rand_clust_4$train_rmse) / \n",
    "     c(global_ar_rand_clust_1$train_means,\n",
    "       global_ar_rand_clust_2$train_means,\n",
    "       global_ar_rand_clust_3$train_means,\n",
    "       global_ar_rand_clust_4$train_means)\n",
    "    )"
   ]
  },
  {
   "cell_type": "code",
   "execution_count": 92,
   "id": "478baeaa",
   "metadata": {},
   "outputs": [
    {
     "data": {
      "text/html": [
       "0.0974122754068753"
      ],
      "text/latex": [
       "0.0974122754068753"
      ],
      "text/markdown": [
       "0.0974122754068753"
      ],
      "text/plain": [
       "[1] 0.09741228"
      ]
     },
     "metadata": {},
     "output_type": "display_data"
    }
   ],
   "source": [
    "mean(c(global_ar_rand_clust_1$train_mae,\n",
    "       global_ar_rand_clust_2$train_mae,\n",
    "       global_ar_rand_clust_3$train_mae,\n",
    "       global_ar_rand_clust_4$train_mae) / \n",
    "     c(global_ar_rand_clust_1$train_means,\n",
    "       global_ar_rand_clust_2$train_means,\n",
    "       global_ar_rand_clust_3$train_means,\n",
    "       global_ar_rand_clust_4$train_means)\n",
    "    )"
   ]
  },
  {
   "cell_type": "markdown",
   "id": "584935c7",
   "metadata": {},
   "source": [
    "## Test Preds"
   ]
  },
  {
   "cell_type": "code",
   "execution_count": 93,
   "id": "36a9a8bf",
   "metadata": {},
   "outputs": [],
   "source": [
    "# Compute test preds for each random cluster\n",
    "global_ar_rand_clust_1_preds <- global_ar_least_squares_pred(global_ar_rand_clust_1$model, \n",
    "                                                             embed_test_list_rand_clust_1,\n",
    "                                                             TRUE,\n",
    "                                                             TRUE\n",
    "                                                            )\n",
    "\n",
    "global_ar_rand_clust_2_preds <- global_ar_least_squares_pred(global_ar_rand_clust_2$model, \n",
    "                                                             embed_test_list_rand_clust_2,\n",
    "                                                             TRUE,\n",
    "                                                             TRUE\n",
    "                                                             )\n",
    "\n",
    "global_ar_rand_clust_3_preds <- global_ar_least_squares_pred(global_ar_rand_clust_3$model, \n",
    "                                                             embed_test_list_rand_clust_3,\n",
    "                                                             TRUE,\n",
    "                                                             TRUE)\n",
    "\n",
    "global_ar_rand_clust_4_preds <- global_ar_least_squares_pred(global_ar_rand_clust_4$model, \n",
    "                                                             embed_test_list_rand_clust_4,\n",
    "                                                             TRUE,\n",
    "                                                             TRUE)"
   ]
  },
  {
   "cell_type": "code",
   "execution_count": 94,
   "id": "e240645a",
   "metadata": {},
   "outputs": [
    {
     "data": {
      "text/html": [
       "31.6931127513588"
      ],
      "text/latex": [
       "31.6931127513588"
      ],
      "text/markdown": [
       "31.6931127513588"
      ],
      "text/plain": [
       "[1] 31.69311"
      ]
     },
     "metadata": {},
     "output_type": "display_data"
    }
   ],
   "source": [
    "# Examine the average performance on the test data\n",
    "mean(c(global_ar_rand_clust_1_preds$test_rmse,\n",
    "       global_ar_rand_clust_2_preds$test_rmse,\n",
    "       global_ar_rand_clust_3_preds$test_rmse,\n",
    "       global_ar_rand_clust_4_preds$test_rmse\n",
    "      ))"
   ]
  },
  {
   "cell_type": "code",
   "execution_count": 95,
   "id": "e0d44335",
   "metadata": {},
   "outputs": [
    {
     "data": {
      "text/html": [
       "21.1015611201293"
      ],
      "text/latex": [
       "21.1015611201293"
      ],
      "text/markdown": [
       "21.1015611201293"
      ],
      "text/plain": [
       "[1] 21.10156"
      ]
     },
     "metadata": {},
     "output_type": "display_data"
    }
   ],
   "source": [
    "mean(c(global_ar_rand_clust_1_preds$test_mae,\n",
    "       global_ar_rand_clust_2_preds$test_mae,\n",
    "       global_ar_rand_clust_3_preds$test_mae,\n",
    "       global_ar_rand_clust_4_preds$test_mae\n",
    "      ))"
   ]
  },
  {
   "cell_type": "code",
   "execution_count": 96,
   "id": "219cde81",
   "metadata": {},
   "outputs": [
    {
     "data": {
      "text/html": [
       "0.142935099497076"
      ],
      "text/latex": [
       "0.142935099497076"
      ],
      "text/markdown": [
       "0.142935099497076"
      ],
      "text/plain": [
       "[1] 0.1429351"
      ]
     },
     "metadata": {},
     "output_type": "display_data"
    }
   ],
   "source": [
    "mean(c(global_ar_rand_clust_1_preds$test_rmse,\n",
    "       global_ar_rand_clust_2_preds$test_rmse,\n",
    "       global_ar_rand_clust_3_preds$test_rmse,\n",
    "       global_ar_rand_clust_4_preds$test_rmse\n",
    "      ) /\n",
    "     c(global_ar_rand_clust_1_preds$test_means,\n",
    "       global_ar_rand_clust_2_preds$test_means,\n",
    "       global_ar_rand_clust_3_preds$test_means,\n",
    "       global_ar_rand_clust_4_preds$test_means\n",
    "      )\n",
    "    )"
   ]
  },
  {
   "cell_type": "code",
   "execution_count": 97,
   "id": "c03ce083",
   "metadata": {},
   "outputs": [
    {
     "data": {
      "text/html": [
       "0.0972202881773272"
      ],
      "text/latex": [
       "0.0972202881773272"
      ],
      "text/markdown": [
       "0.0972202881773272"
      ],
      "text/plain": [
       "[1] 0.09722029"
      ]
     },
     "metadata": {},
     "output_type": "display_data"
    }
   ],
   "source": [
    "mean(c(global_ar_rand_clust_1_preds$test_mae,\n",
    "       global_ar_rand_clust_2_preds$test_mae,\n",
    "       global_ar_rand_clust_3_preds$test_mae,\n",
    "       global_ar_rand_clust_4_preds$test_mae\n",
    "      ) /\n",
    "     c(global_ar_rand_clust_1_preds$test_means,\n",
    "       global_ar_rand_clust_2_preds$test_means,\n",
    "       global_ar_rand_clust_3_preds$test_means,\n",
    "       global_ar_rand_clust_4_preds$test_means\n",
    "      )\n",
    "    )"
   ]
  },
  {
   "cell_type": "code",
   "execution_count": 98,
   "id": "051f7dd5",
   "metadata": {},
   "outputs": [],
   "source": [
    "# Save the results\n",
    "saveRDS(global_ar_rand_clust_1_preds, \n",
    "        \"Results/Global/Pooled Regression/Random Cluster/global_ar_model_cluster_1_test_pred.RData\")\n",
    "\n",
    "saveRDS(global_ar_rand_clust_2_preds, \n",
    "        \"Results/Global/Pooled Regression/Random Cluster/global_ar_model_cluster_2_test_pred.RData\")\n",
    "\n",
    "saveRDS(global_ar_rand_clust_3_preds, \n",
    "        \"Results/Global/Pooled Regression/Random Cluster/global_ar_model_cluster_3_test_pred.RData\")\n",
    "\n",
    "saveRDS(global_ar_rand_clust_4_preds, \n",
    "        \"Results/Global/Pooled Regression/Random Cluster/global_ar_model_cluster_4_test_pred.RData\")"
   ]
  },
  {
   "cell_type": "markdown",
   "id": "0b9bf7cf",
   "metadata": {},
   "source": [
    "### Bootstrap Pred Intervals"
   ]
  },
  {
   "cell_type": "code",
   "execution_count": 99,
   "id": "4f278c10",
   "metadata": {},
   "outputs": [],
   "source": [
    "# Per cluter, create a df of the test data\n",
    "rand_clust_1_test_data_full <- do.call(\"rbind\", embed_test_list_rand_clust_1)\n",
    "rand_clust_2_test_data_full <- do.call(\"rbind\", embed_test_list_rand_clust_2)\n",
    "rand_clust_3_test_data_full <- do.call(\"rbind\", embed_test_list_rand_clust_3)\n",
    "rand_clust_4_test_data_full <- do.call(\"rbind\", embed_test_list_rand_clust_4)"
   ]
  },
  {
   "cell_type": "code",
   "execution_count": 100,
   "id": "19f56128",
   "metadata": {},
   "outputs": [],
   "source": [
    "# Compute bootstrap pred ints for each prediction\n",
    "global_ar_rand_clust_1_test_preds_boot <- bootstrap_pred_int(global_ar_rand_clust_1_preds$test_preds,\n",
    "                                                                global_ar_rand_clust_1$train_residuals,\n",
    "                                                                n_samp,\n",
    "                                                                rand_clust_1_test_data_full[,1])      \n",
    "\n",
    "global_ar_rand_clust_2_test_preds_boot <- bootstrap_pred_int(global_ar_rand_clust_2_preds$test_preds,\n",
    "                                                                global_ar_rand_clust_2$train_residuals,\n",
    "                                                                n_samp,\n",
    "                                                                rand_clust_2_test_data_full[,1])      \n",
    "\n",
    "global_ar_rand_clust_3_test_preds_boot <- bootstrap_pred_int(global_ar_rand_clust_3_preds$test_preds,\n",
    "                                                                global_ar_rand_clust_3$train_residuals,\n",
    "                                                                n_samp,\n",
    "                                                                rand_clust_3_test_data_full[,1])      \n",
    "\n",
    "global_ar_rand_clust_4_test_preds_boot <- bootstrap_pred_int(global_ar_rand_clust_4_preds$test_preds,\n",
    "                                                                global_ar_rand_clust_4$train_residuals,\n",
    "                                                                n_samp,\n",
    "                                                                rand_clust_4_test_data_full[,1]) "
   ]
  },
  {
   "cell_type": "code",
   "execution_count": 101,
   "id": "5e492a50",
   "metadata": {},
   "outputs": [],
   "source": [
    "# Combine all preds into one df\n",
    "global_ar_rand_clust_test_preds_boot <- rbind(global_ar_rand_clust_1_test_preds_boot,\n",
    "                                              global_ar_rand_clust_2_test_preds_boot,\n",
    "                                              global_ar_rand_clust_3_test_preds_boot,\n",
    "                                              global_ar_rand_clust_4_test_preds_boot\n",
    "                                              )"
   ]
  },
  {
   "cell_type": "code",
   "execution_count": 102,
   "id": "8af509eb",
   "metadata": {},
   "outputs": [
    {
     "data": {
      "text/html": [
       "124.708656844703"
      ],
      "text/latex": [
       "124.708656844703"
      ],
      "text/markdown": [
       "124.708656844703"
      ],
      "text/plain": [
       "[1] 124.7087"
      ]
     },
     "metadata": {},
     "output_type": "display_data"
    }
   ],
   "source": [
    "# Compute average interval scores\n",
    "mean(global_ar_rand_clust_test_preds_boot$int_score_80)"
   ]
  },
  {
   "cell_type": "code",
   "execution_count": 103,
   "id": "4f404aaa",
   "metadata": {},
   "outputs": [
    {
     "data": {
      "text/html": [
       "227.909253949967"
      ],
      "text/latex": [
       "227.909253949967"
      ],
      "text/markdown": [
       "227.909253949967"
      ],
      "text/plain": [
       "[1] 227.9093"
      ]
     },
     "metadata": {},
     "output_type": "display_data"
    }
   ],
   "source": [
    "mean(global_ar_rand_clust_test_preds_boot$int_score_95)"
   ]
  },
  {
   "cell_type": "code",
   "execution_count": 104,
   "id": "a9661911",
   "metadata": {},
   "outputs": [
    {
     "data": {
      "text/html": [
       "0.609781817660733"
      ],
      "text/latex": [
       "0.609781817660733"
      ],
      "text/markdown": [
       "0.609781817660733"
      ],
      "text/plain": [
       "[1] 0.6097818"
      ]
     },
     "metadata": {},
     "output_type": "display_data"
    }
   ],
   "source": [
    "mean(c((global_ar_rand_clust_1_test_preds_boot %>% \n",
    "          group_by(ts_index) %>% \n",
    "          summarise(int_score_80=mean(int_score_80)))$int_score_80,\n",
    "(global_ar_rand_clust_2_test_preds_boot %>% \n",
    "          group_by(ts_index) %>% \n",
    "          summarise(int_score_80=mean(int_score_80)))$int_score_80,\n",
    "(global_ar_rand_clust_3_test_preds_boot %>% \n",
    "          group_by(ts_index) %>% \n",
    "          summarise(int_score_80=mean(int_score_80)))$int_score_80,\n",
    "(global_ar_rand_clust_4_test_preds_boot %>% \n",
    "          group_by(ts_index) %>% \n",
    "          summarise(int_score_80=mean(int_score_80)))$int_score_80)/\n",
    "     c(global_ar_rand_clust_1_preds$test_means,\n",
    "       global_ar_rand_clust_2_preds$test_means,\n",
    "       global_ar_rand_clust_3_preds$test_means,\n",
    "       global_ar_rand_clust_4_preds$test_means\n",
    "      ))"
   ]
  },
  {
   "cell_type": "code",
   "execution_count": 105,
   "id": "a957016c",
   "metadata": {},
   "outputs": [
    {
     "data": {
      "text/html": [
       "1.12000944516702"
      ],
      "text/latex": [
       "1.12000944516702"
      ],
      "text/markdown": [
       "1.12000944516702"
      ],
      "text/plain": [
       "[1] 1.120009"
      ]
     },
     "metadata": {},
     "output_type": "display_data"
    }
   ],
   "source": [
    "mean(c((global_ar_rand_clust_1_test_preds_boot %>% \n",
    "          group_by(ts_index) %>% \n",
    "          summarise(int_score_95=mean(int_score_95)))$int_score_95,\n",
    "(global_ar_rand_clust_2_test_preds_boot %>% \n",
    "          group_by(ts_index) %>% \n",
    "          summarise(int_score_95=mean(int_score_95)))$int_score_95,\n",
    "(global_ar_rand_clust_3_test_preds_boot %>% \n",
    "          group_by(ts_index) %>% \n",
    "          summarise(int_score_95=mean(int_score_95)))$int_score_95,\n",
    "(global_ar_rand_clust_4_test_preds_boot %>% \n",
    "          group_by(ts_index) %>% \n",
    "          summarise(int_score_95=mean(int_score_95)))$int_score_95)/\n",
    "     c(global_ar_rand_clust_1_preds$test_means,\n",
    "       global_ar_rand_clust_2_preds$test_means,\n",
    "       global_ar_rand_clust_3_preds$test_means,\n",
    "       global_ar_rand_clust_4_preds$test_means\n",
    "      ))"
   ]
  },
  {
   "cell_type": "code",
   "execution_count": 106,
   "id": "af218cdd",
   "metadata": {},
   "outputs": [],
   "source": [
    "# Save the results\n",
    "write.csv(global_ar_rand_clust_test_preds_boot, \n",
    "          \"Results/Global/Pooled Regression/Random Cluster/global_ar_model_rand_clust_test_pred_w_int.csv\", \n",
    "          row.names=FALSE)"
   ]
  },
  {
   "cell_type": "markdown",
   "id": "43e2b810",
   "metadata": {},
   "source": [
    "# Global AR Model - KMeans Catch22 Clustering"
   ]
  },
  {
   "cell_type": "code",
   "execution_count": 109,
   "id": "30edde33",
   "metadata": {},
   "outputs": [
    {
     "name": "stderr",
     "output_type": "stream",
     "text": [
      "\u001b[1mRows: \u001b[22m\u001b[34m76\u001b[39m \u001b[1mColumns: \u001b[22m\u001b[34m2\u001b[39m\n",
      "\u001b[36m──\u001b[39m \u001b[1mColumn specification\u001b[22m \u001b[36m────────────────────────────────────────────────────────\u001b[39m\n",
      "\u001b[1mDelimiter:\u001b[22m \",\"\n",
      "\u001b[32mdbl\u001b[39m (2): ts_index, kmeans_catch22_clust_assign\n",
      "\n",
      "\u001b[36mℹ\u001b[39m Use `spec()` to retrieve the full column specification for this data.\n",
      "\u001b[36mℹ\u001b[39m Specify the column types or set `show_col_types = FALSE` to quiet this message.\n"
     ]
    }
   ],
   "source": [
    "# Read in cluster assignments from the Catch22 based k-means clustering\n",
    "kmeans_catch22_clust <- read_csv('Results/Clustering/KMeans/kmeans_catch22_clustering_assign.csv')"
   ]
  },
  {
   "cell_type": "code",
   "execution_count": 110,
   "id": "c3b5a04e",
   "metadata": {},
   "outputs": [
    {
     "data": {
      "text/html": [
       "5"
      ],
      "text/latex": [
       "5"
      ],
      "text/markdown": [
       "5"
      ],
      "text/plain": [
       "[1] 5"
      ]
     },
     "metadata": {},
     "output_type": "display_data"
    }
   ],
   "source": [
    "# THe number of clusters is 5, so we will create 5 train and test sets and 5 models, one per cluster\n",
    "max(kmeans_catch22_clust$kmeans_catch22_clust_assign)"
   ]
  },
  {
   "cell_type": "code",
   "execution_count": 111,
   "id": "35e20055",
   "metadata": {},
   "outputs": [],
   "source": [
    "# Create the appropriate groupings for training data\n",
    "embed_train_val_list_kmeans_catch22_clust_1 <- embed_train_val_list[c((kmeans_catch22_clust %>% \n",
    "                                                               filter(kmeans_catch22_clust_assign == 1))$ts_index)]\n",
    "embed_train_val_list_kmeans_catch22_clust_2 <- embed_train_val_list[c((kmeans_catch22_clust %>% \n",
    "                                                               filter(kmeans_catch22_clust_assign == 2))$ts_index)]\n",
    "embed_train_val_list_kmeans_catch22_clust_3 <- embed_train_val_list[c((kmeans_catch22_clust %>% \n",
    "                                                               filter(kmeans_catch22_clust_assign == 3))$ts_index)]\n",
    "embed_train_val_list_kmeans_catch22_clust_4 <- embed_train_val_list[c((kmeans_catch22_clust %>% \n",
    "                                                               filter(kmeans_catch22_clust_assign == 4))$ts_index)]\n",
    "embed_train_val_list_kmeans_catch22_clust_5 <- embed_train_val_list[c((kmeans_catch22_clust %>% \n",
    "                                                               filter(kmeans_catch22_clust_assign == 5))$ts_index)]"
   ]
  },
  {
   "cell_type": "code",
   "execution_count": 112,
   "id": "7ca502a0",
   "metadata": {},
   "outputs": [],
   "source": [
    "# Subset the test data into the clusters\n",
    "embed_test_list_kmeans_catch22_clust_1 <- embed_test_list[c((kmeans_catch22_clust %>% \n",
    "                                                               filter(kmeans_catch22_clust_assign == 1))$ts_index)]\n",
    "embed_test_list_kmeans_catch22_clust_2 <- embed_test_list[c((kmeans_catch22_clust %>% \n",
    "                                                               filter(kmeans_catch22_clust_assign == 2))$ts_index)]\n",
    "embed_test_list_kmeans_catch22_clust_3 <- embed_test_list[c((kmeans_catch22_clust %>% \n",
    "                                                               filter(kmeans_catch22_clust_assign == 3))$ts_index)]\n",
    "embed_test_list_kmeans_catch22_clust_4 <- embed_test_list[c((kmeans_catch22_clust %>% \n",
    "                                                               filter(kmeans_catch22_clust_assign == 4))$ts_index)]\n",
    "embed_test_list_kmeans_catch22_clust_5 <- embed_test_list[c((kmeans_catch22_clust %>% \n",
    "                                                               filter(kmeans_catch22_clust_assign == 5))$ts_index)]"
   ]
  },
  {
   "cell_type": "code",
   "execution_count": 113,
   "id": "0425a8b5",
   "metadata": {},
   "outputs": [],
   "source": [
    "# Create a model per cluster\n",
    "global_ar_kmeans_catch22_clust_1 <- global_ar_least_squares(embed_train_val_list_kmeans_catch22_clust_1,\n",
    "                                                               return_train_preds=TRUE, \n",
    "                                                               return_train_means=TRUE, \n",
    "                                                               return_train_residuals=TRUE)\n",
    "\n",
    "global_ar_kmeans_catch22_clust_2 <- global_ar_least_squares(embed_train_val_list_kmeans_catch22_clust_2,\n",
    "                                                               return_train_preds=TRUE, \n",
    "                                                               return_train_means=TRUE, \n",
    "                                                               return_train_residuals=TRUE)\n",
    "\n",
    "global_ar_kmeans_catch22_clust_3 <- global_ar_least_squares(embed_train_val_list_kmeans_catch22_clust_3,\n",
    "                                                               return_train_preds=TRUE, \n",
    "                                                               return_train_means=TRUE, \n",
    "                                                               return_train_residuals=TRUE)\n",
    "                                                  \n",
    "global_ar_kmeans_catch22_clust_4 <- global_ar_least_squares(embed_train_val_list_kmeans_catch22_clust_4,\n",
    "                                                               return_train_preds=TRUE, \n",
    "                                                               return_train_means=TRUE, \n",
    "                                                               return_train_residuals=TRUE)\n",
    "\n",
    "global_ar_kmeans_catch22_clust_5 <- global_ar_least_squares(embed_train_val_list_kmeans_catch22_clust_5,\n",
    "                                                               return_train_preds=TRUE, \n",
    "                                                               return_train_means=TRUE, \n",
    "                                                               return_train_residuals=TRUE)"
   ]
  },
  {
   "cell_type": "code",
   "execution_count": 114,
   "id": "ee892181",
   "metadata": {},
   "outputs": [],
   "source": [
    "# Save the models\n",
    "saveRDS(global_ar_kmeans_catch22_clust_1, \n",
    "        \"Results/Global/Pooled Regression/Catch22 KMeans/global_ar_model_kmeans_catch22_clust_1.RData\")\n",
    "\n",
    "saveRDS(global_ar_kmeans_catch22_clust_2, \n",
    "        \"Results/Global/Pooled Regression/Catch22 KMeans/global_ar_model_kmeans_catch22_clust_2.RData\")\n",
    "\n",
    "saveRDS(global_ar_kmeans_catch22_clust_3, \n",
    "        \"Results/Global/Pooled Regression/Catch22 KMeans/global_ar_model_kmeans_catch22_clust_3.RData\")\n",
    "\n",
    "saveRDS(global_ar_kmeans_catch22_clust_4, \n",
    "        \"Results/Global/Pooled Regression/Catch22 KMeans/global_ar_model_kmeans_catch22_clust_4.RData\")\n",
    "\n",
    "saveRDS(global_ar_kmeans_catch22_clust_5, \n",
    "        \"Results/Global/Pooled Regression/Catch22 KMeans/global_ar_model_kmeans_catch22_clust_5.RData\")"
   ]
  },
  {
   "cell_type": "code",
   "execution_count": 115,
   "id": "4b57af65",
   "metadata": {},
   "outputs": [],
   "source": [
    "# Load the saved models\n",
    "global_ar_kmeans_catch22_clust_1 <- readRDS(\"Results/Global/Pooled Regression/Catch22 KMeans/global_ar_model_kmeans_catch22_clust_1.RData\")\n",
    "\n",
    "global_ar_kmeans_catch22_clust_2 <- readRDS(\"Results/Global/Pooled Regression/Catch22 KMeans/global_ar_model_kmeans_catch22_clust_2.RData\")\n",
    "\n",
    "global_ar_kmeans_catch22_clust_3 <- readRDS(\"Results/Global/Pooled Regression/Catch22 KMeans/global_ar_model_kmeans_catch22_clust_3.RData\")\n",
    "\n",
    "global_ar_kmeans_catch22_clust_4 <- readRDS(\"Results/Global/Pooled Regression/Catch22 KMeans/global_ar_model_kmeans_catch22_clust_4.RData\")\n",
    "\n",
    "global_ar_kmeans_catch22_clust_5 <- readRDS(\"Results/Global/Pooled Regression/Catch22 KMeans/global_ar_model_kmeans_catch22_clust_5.RData\")"
   ]
  },
  {
   "cell_type": "markdown",
   "id": "dc3c2110",
   "metadata": {},
   "source": [
    "## Test Preds"
   ]
  },
  {
   "cell_type": "code",
   "execution_count": 116,
   "id": "27a00370",
   "metadata": {},
   "outputs": [],
   "source": [
    "# Run one-step ahead forecasts on test data\n",
    "global_ar_kmeans_catch22_clust_1_test_pred <- global_ar_least_squares_pred(global_ar_kmeans_catch22_clust_1$model,\n",
    "                                                                           embed_test_list_kmeans_catch22_clust_1,\n",
    "                                                                           TRUE,\n",
    "                                                                           TRUE)\n",
    "\n",
    "global_ar_kmeans_catch22_clust_2_test_pred <- global_ar_least_squares_pred(global_ar_kmeans_catch22_clust_2$model,\n",
    "                                                                           embed_test_list_kmeans_catch22_clust_2,\n",
    "                                                                           TRUE,\n",
    "                                                                           TRUE)\n",
    "\n",
    "global_ar_kmeans_catch22_clust_3_test_pred <- global_ar_least_squares_pred(global_ar_kmeans_catch22_clust_3$model,\n",
    "                                                                           embed_test_list_kmeans_catch22_clust_3,\n",
    "                                                                           TRUE,\n",
    "                                                                           TRUE)\n",
    "\n",
    "global_ar_kmeans_catch22_clust_4_test_pred <- global_ar_least_squares_pred(global_ar_kmeans_catch22_clust_4$model,\n",
    "                                                                           embed_test_list_kmeans_catch22_clust_4,\n",
    "                                                                           TRUE,\n",
    "                                                                           TRUE)\n",
    "\n",
    "global_ar_kmeans_catch22_clust_5_test_pred <- global_ar_least_squares_pred(global_ar_kmeans_catch22_clust_5$model,\n",
    "                                                                           embed_test_list_kmeans_catch22_clust_5,\n",
    "                                                                           TRUE,\n",
    "                                                                           TRUE)"
   ]
  },
  {
   "cell_type": "code",
   "execution_count": 117,
   "id": "431f2a10",
   "metadata": {},
   "outputs": [
    {
     "data": {
      "text/html": [
       "31.4315009805254"
      ],
      "text/latex": [
       "31.4315009805254"
      ],
      "text/markdown": [
       "31.4315009805254"
      ],
      "text/plain": [
       "[1] 31.4315"
      ]
     },
     "metadata": {},
     "output_type": "display_data"
    }
   ],
   "source": [
    "# Examine performance\n",
    "mean(c(global_ar_kmeans_catch22_clust_1_test_pred$test_rmse,\n",
    "       global_ar_kmeans_catch22_clust_2_test_pred$test_rmse,\n",
    "       global_ar_kmeans_catch22_clust_3_test_pred$test_rmse,\n",
    "       global_ar_kmeans_catch22_clust_4_test_pred$test_rmse,\n",
    "       global_ar_kmeans_catch22_clust_5_test_pred$test_rmse\n",
    "      ))"
   ]
  },
  {
   "cell_type": "code",
   "execution_count": 118,
   "id": "21e2171d",
   "metadata": {},
   "outputs": [
    {
     "data": {
      "text/html": [
       "20.9354171242271"
      ],
      "text/latex": [
       "20.9354171242271"
      ],
      "text/markdown": [
       "20.9354171242271"
      ],
      "text/plain": [
       "[1] 20.93542"
      ]
     },
     "metadata": {},
     "output_type": "display_data"
    }
   ],
   "source": [
    "mean(c(global_ar_kmeans_catch22_clust_1_test_pred$test_mae,\n",
    "       global_ar_kmeans_catch22_clust_2_test_pred$test_mae,\n",
    "       global_ar_kmeans_catch22_clust_3_test_pred$test_mae,\n",
    "       global_ar_kmeans_catch22_clust_4_test_pred$test_mae,\n",
    "       global_ar_kmeans_catch22_clust_5_test_pred$test_mae\n",
    "      ))"
   ]
  },
  {
   "cell_type": "code",
   "execution_count": 119,
   "id": "9b0bd683",
   "metadata": {},
   "outputs": [
    {
     "data": {
      "text/html": [
       "0.140821557535174"
      ],
      "text/latex": [
       "0.140821557535174"
      ],
      "text/markdown": [
       "0.140821557535174"
      ],
      "text/plain": [
       "[1] 0.1408216"
      ]
     },
     "metadata": {},
     "output_type": "display_data"
    }
   ],
   "source": [
    "mean(c(global_ar_kmeans_catch22_clust_1_test_pred$test_rmse,\n",
    "       global_ar_kmeans_catch22_clust_2_test_pred$test_rmse,\n",
    "       global_ar_kmeans_catch22_clust_3_test_pred$test_rmse,\n",
    "       global_ar_kmeans_catch22_clust_4_test_pred$test_rmse,\n",
    "       global_ar_kmeans_catch22_clust_5_test_pred$test_rmse)\n",
    "     /\n",
    "     c(global_ar_kmeans_catch22_clust_1_test_pred$test_means,\n",
    "       global_ar_kmeans_catch22_clust_2_test_pred$test_means,\n",
    "       global_ar_kmeans_catch22_clust_3_test_pred$test_means,\n",
    "       global_ar_kmeans_catch22_clust_4_test_pred$test_means,\n",
    "       global_ar_kmeans_catch22_clust_5_test_pred$test_means)\n",
    "    )"
   ]
  },
  {
   "cell_type": "code",
   "execution_count": 120,
   "id": "43730e34",
   "metadata": {},
   "outputs": [
    {
     "data": {
      "text/html": [
       "0.0956372442197762"
      ],
      "text/latex": [
       "0.0956372442197762"
      ],
      "text/markdown": [
       "0.0956372442197762"
      ],
      "text/plain": [
       "[1] 0.09563724"
      ]
     },
     "metadata": {},
     "output_type": "display_data"
    }
   ],
   "source": [
    "mean(c(global_ar_kmeans_catch22_clust_1_test_pred$test_mae,\n",
    "       global_ar_kmeans_catch22_clust_2_test_pred$test_mae,\n",
    "       global_ar_kmeans_catch22_clust_3_test_pred$test_mae,\n",
    "       global_ar_kmeans_catch22_clust_4_test_pred$test_mae,\n",
    "       global_ar_kmeans_catch22_clust_5_test_pred$test_mae)\n",
    "     /\n",
    "     c(global_ar_kmeans_catch22_clust_1_test_pred$test_means,\n",
    "       global_ar_kmeans_catch22_clust_2_test_pred$test_means,\n",
    "       global_ar_kmeans_catch22_clust_3_test_pred$test_means,\n",
    "       global_ar_kmeans_catch22_clust_4_test_pred$test_means,\n",
    "       global_ar_kmeans_catch22_clust_5_test_pred$test_means)\n",
    "    )"
   ]
  },
  {
   "cell_type": "code",
   "execution_count": 121,
   "id": "986f89e2",
   "metadata": {},
   "outputs": [],
   "source": [
    "# Save the test preds to files\n",
    "saveRDS(global_ar_kmeans_catch22_clust_1_test_pred, \n",
    "        \"Results/Global/Pooled Regression/Catch22 KMeans/global_ar_kmeans_catch22_clust_1_test_pred.RData\")\n",
    "\n",
    "saveRDS(global_ar_kmeans_catch22_clust_2_test_pred, \n",
    "        \"Results/Global/Pooled Regression/Catch22 KMeans/global_ar_kmeans_catch22_clust_2_test_pred.RData\")\n",
    "\n",
    "saveRDS(global_ar_kmeans_catch22_clust_3_test_pred, \n",
    "        \"Results/Global/Pooled Regression/Catch22 KMeans/global_ar_kmeans_catch22_clust_3_test_pred.RData\")\n",
    "\n",
    "saveRDS(global_ar_kmeans_catch22_clust_4_test_pred, \n",
    "        \"Results/Global/Pooled Regression/Catch22 KMeans/global_ar_kmeans_catch22_clust_4_test_pred.RData\")\n",
    "\n",
    "saveRDS(global_ar_kmeans_catch22_clust_5_test_pred, \n",
    "        \"Results/Global/Pooled Regression/Catch22 KMeans/global_ar_kmeans_catch22_clust_5_test_pred.RData\")"
   ]
  },
  {
   "cell_type": "markdown",
   "id": "5c1ffa3a",
   "metadata": {},
   "source": [
    "### Boostrap Pred Intervals"
   ]
  },
  {
   "cell_type": "code",
   "execution_count": 122,
   "id": "64bda0e1",
   "metadata": {},
   "outputs": [],
   "source": [
    "# Create bootstrap pred intervals - first, we create one df of test data per cluster\n",
    "catch22_clust_1_test_data_full <- do.call(\"rbind\", embed_test_list_kmeans_catch22_clust_1)\n",
    "catch22_clust_2_test_data_full <- do.call(\"rbind\", embed_test_list_kmeans_catch22_clust_2)\n",
    "catch22_clust_3_test_data_full <- do.call(\"rbind\", embed_test_list_kmeans_catch22_clust_3)\n",
    "catch22_clust_4_test_data_full <- do.call(\"rbind\", embed_test_list_kmeans_catch22_clust_4)\n",
    "catch22_clust_5_test_data_full <- do.call(\"rbind\", embed_test_list_kmeans_catch22_clust_5)"
   ]
  },
  {
   "cell_type": "code",
   "execution_count": 123,
   "id": "61126755",
   "metadata": {},
   "outputs": [],
   "source": [
    "# Next, compute the bootstrap PIs for each prediction\n",
    "global_ar_catch22_clust_1_test_preds_boot <- bootstrap_pred_int(global_ar_kmeans_catch22_clust_1_test_pred$test_preds,\n",
    "                                                                global_ar_kmeans_catch22_clust_1$train_residuals,\n",
    "                                                                n_samp,\n",
    "                                                                catch22_clust_1_test_data_full[,1])      \n",
    "\n",
    "global_ar_catch22_clust_2_test_preds_boot <- bootstrap_pred_int(global_ar_kmeans_catch22_clust_2_test_pred$test_preds,\n",
    "                                                                global_ar_kmeans_catch22_clust_2$train_residuals,\n",
    "                                                                n_samp,\n",
    "                                                                catch22_clust_2_test_data_full[,1])      \n",
    "\n",
    "global_ar_catch22_clust_3_test_preds_boot <- bootstrap_pred_int(global_ar_kmeans_catch22_clust_3_test_pred$test_preds,\n",
    "                                                                global_ar_kmeans_catch22_clust_3$train_residuals,\n",
    "                                                                n_samp,\n",
    "                                                                catch22_clust_3_test_data_full[,1])    \n",
    "\n",
    "global_ar_catch22_clust_4_test_preds_boot <- bootstrap_pred_int(global_ar_kmeans_catch22_clust_4_test_pred$test_preds,\n",
    "                                                                global_ar_kmeans_catch22_clust_4$train_residuals,\n",
    "                                                                n_samp,\n",
    "                                                                catch22_clust_4_test_data_full[,1])   \n",
    "\n",
    "global_ar_catch22_clust_5_test_preds_boot <- bootstrap_pred_int(global_ar_kmeans_catch22_clust_5_test_pred$test_preds,\n",
    "                                                                global_ar_kmeans_catch22_clust_5$train_residuals,\n",
    "                                                                n_samp,\n",
    "                                                                catch22_clust_5_test_data_full[,1])    "
   ]
  },
  {
   "cell_type": "code",
   "execution_count": 124,
   "id": "6c351b87",
   "metadata": {},
   "outputs": [],
   "source": [
    "# Put all preds with PIs into one df\n",
    "global_ar_catch22_clust_test_preds_boot <- rbind(global_ar_catch22_clust_1_test_preds_boot,\n",
    "                                                 global_ar_catch22_clust_2_test_preds_boot,\n",
    "                                                 global_ar_catch22_clust_3_test_preds_boot,\n",
    "                                                 global_ar_catch22_clust_4_test_preds_boot,\n",
    "                                                 global_ar_catch22_clust_5_test_preds_boot)"
   ]
  },
  {
   "cell_type": "code",
   "execution_count": 125,
   "id": "6e4ebe30",
   "metadata": {},
   "outputs": [
    {
     "data": {
      "text/html": [
       "121.005263296664"
      ],
      "text/latex": [
       "121.005263296664"
      ],
      "text/markdown": [
       "121.005263296664"
      ],
      "text/plain": [
       "[1] 121.0053"
      ]
     },
     "metadata": {},
     "output_type": "display_data"
    }
   ],
   "source": [
    "# Examine the mean interval scores\n",
    "mean(global_ar_catch22_clust_test_preds_boot$int_score_80)"
   ]
  },
  {
   "cell_type": "code",
   "execution_count": 126,
   "id": "24c91325",
   "metadata": {},
   "outputs": [
    {
     "data": {
      "text/html": [
       "216.920286441683"
      ],
      "text/latex": [
       "216.920286441683"
      ],
      "text/markdown": [
       "216.920286441683"
      ],
      "text/plain": [
       "[1] 216.9203"
      ]
     },
     "metadata": {},
     "output_type": "display_data"
    }
   ],
   "source": [
    "mean(global_ar_catch22_clust_test_preds_boot$int_score_95)"
   ]
  },
  {
   "cell_type": "code",
   "execution_count": 128,
   "id": "4554539d",
   "metadata": {},
   "outputs": [
    {
     "data": {
      "text/html": [
       "0.548546987376849"
      ],
      "text/latex": [
       "0.548546987376849"
      ],
      "text/markdown": [
       "0.548546987376849"
      ],
      "text/plain": [
       "[1] 0.548547"
      ]
     },
     "metadata": {},
     "output_type": "display_data"
    }
   ],
   "source": [
    "mean(c((global_ar_catch22_clust_1_test_preds_boot %>%\n",
    "    group_by(ts_index) %>%\n",
    "    summarise(int_score_80=mean(int_score_80)))$int_score_80,\n",
    "(global_ar_catch22_clust_2_test_preds_boot %>%\n",
    "    group_by(ts_index) %>%\n",
    "    summarise(int_score_80=mean(int_score_80)))$int_score_80,\n",
    "(global_ar_catch22_clust_3_test_preds_boot %>%\n",
    "    group_by(ts_index) %>%\n",
    "    summarise(int_score_80=mean(int_score_80)))$int_score_80, \n",
    "       (global_ar_catch22_clust_4_test_preds_boot %>%\n",
    "    group_by(ts_index) %>%\n",
    "    summarise(int_score_80=mean(int_score_80)))$int_score_80,\n",
    "       (global_ar_catch22_clust_5_test_preds_boot %>%\n",
    "    group_by(ts_index) %>%\n",
    "    summarise(int_score_80=mean(int_score_80)))$int_score_80) / \n",
    "c(global_ar_kmeans_catch22_clust_1_test_pred$test_means,\n",
    "       global_ar_kmeans_catch22_clust_2_test_pred$test_means,\n",
    "       global_ar_kmeans_catch22_clust_3_test_pred$test_means,\n",
    "       global_ar_kmeans_catch22_clust_4_test_pred$test_means,\n",
    "       global_ar_kmeans_catch22_clust_5_test_pred$test_means))"
   ]
  },
  {
   "cell_type": "code",
   "execution_count": 129,
   "id": "55f87a67",
   "metadata": {},
   "outputs": [
    {
     "data": {
      "text/html": [
       "0.958802520440686"
      ],
      "text/latex": [
       "0.958802520440686"
      ],
      "text/markdown": [
       "0.958802520440686"
      ],
      "text/plain": [
       "[1] 0.9588025"
      ]
     },
     "metadata": {},
     "output_type": "display_data"
    }
   ],
   "source": [
    "mean(c((global_ar_catch22_clust_1_test_preds_boot %>%\n",
    "    group_by(ts_index) %>%\n",
    "    summarise(int_score_95=mean(int_score_95)))$int_score_95,\n",
    "(global_ar_catch22_clust_2_test_preds_boot %>%\n",
    "    group_by(ts_index) %>%\n",
    "    summarise(int_score_95=mean(int_score_95)))$int_score_95,\n",
    "(global_ar_catch22_clust_3_test_preds_boot %>%\n",
    "    group_by(ts_index) %>%\n",
    "    summarise(int_score_95=mean(int_score_95)))$int_score_95,\n",
    "      (global_ar_catch22_clust_4_test_preds_boot %>%\n",
    "    group_by(ts_index) %>%\n",
    "    summarise(int_score_95=mean(int_score_95)))$int_score_95,\n",
    "       (global_ar_catch22_clust_5_test_preds_boot %>%\n",
    "    group_by(ts_index) %>%\n",
    "    summarise(int_score_95=mean(int_score_95)))$int_score_95\n",
    "      ) / \n",
    "c(global_ar_kmeans_catch22_clust_1_test_pred$test_means,\n",
    "       global_ar_kmeans_catch22_clust_2_test_pred$test_means,\n",
    "       global_ar_kmeans_catch22_clust_3_test_pred$test_means,\n",
    "       global_ar_kmeans_catch22_clust_4_test_pred$test_means,\n",
    "       global_ar_kmeans_catch22_clust_5_test_pred$test_means))"
   ]
  },
  {
   "cell_type": "code",
   "execution_count": 130,
   "id": "a3995f51",
   "metadata": {},
   "outputs": [],
   "source": [
    "# Save to file\n",
    "write.csv(global_ar_catch22_clust_test_preds_boot, \n",
    "          \"Results/Global/Pooled Regression/Catch22 KMeans/global_ar_kmeans_catch22_clust_test_pred_w_int.csv\", \n",
    "          row.names=FALSE)"
   ]
  },
  {
   "cell_type": "code",
   "execution_count": null,
   "id": "e98e66c6",
   "metadata": {},
   "outputs": [],
   "source": []
  },
  {
   "cell_type": "markdown",
   "id": "84e61c10",
   "metadata": {},
   "source": [
    "# Global AR Model - KMeans TSFeat Clustering"
   ]
  },
  {
   "cell_type": "code",
   "execution_count": 131,
   "id": "49bffc79",
   "metadata": {},
   "outputs": [
    {
     "name": "stderr",
     "output_type": "stream",
     "text": [
      "\u001b[1mRows: \u001b[22m\u001b[34m76\u001b[39m \u001b[1mColumns: \u001b[22m\u001b[34m2\u001b[39m\n",
      "\u001b[36m──\u001b[39m \u001b[1mColumn specification\u001b[22m \u001b[36m────────────────────────────────────────────────────────\u001b[39m\n",
      "\u001b[1mDelimiter:\u001b[22m \",\"\n",
      "\u001b[32mdbl\u001b[39m (2): ts_index, kmeans_tsfeat_clust_assign\n",
      "\n",
      "\u001b[36mℹ\u001b[39m Use `spec()` to retrieve the full column specification for this data.\n",
      "\u001b[36mℹ\u001b[39m Specify the column types or set `show_col_types = FALSE` to quiet this message.\n"
     ]
    }
   ],
   "source": [
    "# Read in cluster assignments from the tsfeatures based k-means clustering\n",
    "kmeans_tsfeat_clust <- read_csv('Results/Clustering/KMeans/kmeans_tsfeat_clustering_assign.csv')"
   ]
  },
  {
   "cell_type": "code",
   "execution_count": 132,
   "id": "85809631",
   "metadata": {},
   "outputs": [
    {
     "data": {
      "text/html": [
       "2"
      ],
      "text/latex": [
       "2"
      ],
      "text/markdown": [
       "2"
      ],
      "text/plain": [
       "[1] 2"
      ]
     },
     "metadata": {},
     "output_type": "display_data"
    }
   ],
   "source": [
    "# The number of clusters is 3, so we will create 3 train and test sets and 3 models, one per cluster\n",
    "max(kmeans_tsfeat_clust$kmeans_tsfeat_clust_assign)"
   ]
  },
  {
   "cell_type": "code",
   "execution_count": 133,
   "id": "eebdd3ad",
   "metadata": {},
   "outputs": [],
   "source": [
    "# Create the appropriate groupings for training data\n",
    "embed_train_val_list_kmeans_tsfeat_clust_1 <- embed_train_val_list[c((kmeans_tsfeat_clust %>% \n",
    "                                                               filter(kmeans_tsfeat_clust_assign == 1))$ts_index)]\n",
    "embed_train_val_list_kmeans_tsfeat_clust_2 <- embed_train_val_list[c((kmeans_tsfeat_clust %>% \n",
    "                                                               filter(kmeans_tsfeat_clust_assign == 2))$ts_index)]"
   ]
  },
  {
   "cell_type": "code",
   "execution_count": 134,
   "id": "75268ae6",
   "metadata": {},
   "outputs": [],
   "source": [
    "# Subset the test data into the clusters\n",
    "embed_test_list_kmeans_tsfeat_clust_1 <- embed_test_list[c((kmeans_tsfeat_clust %>% \n",
    "                                                               filter(kmeans_tsfeat_clust_assign == 1))$ts_index)]\n",
    "embed_test_list_kmeans_tsfeat_clust_2 <- embed_test_list[c((kmeans_tsfeat_clust %>% \n",
    "                                                               filter(kmeans_tsfeat_clust_assign == 2))$ts_index)]"
   ]
  },
  {
   "cell_type": "code",
   "execution_count": 135,
   "id": "9f510da5",
   "metadata": {},
   "outputs": [],
   "source": [
    "# Create a model per cluster\n",
    "global_ar_kmeans_tsfeat_clust_1 <- global_ar_least_squares(embed_train_val_list_kmeans_tsfeat_clust_1,\n",
    "                                                               return_train_preds=TRUE, \n",
    "                                                               return_train_means=TRUE, \n",
    "                                                               return_train_residuals=TRUE)\n",
    "\n",
    "global_ar_kmeans_tsfeat_clust_2 <- global_ar_least_squares(embed_train_val_list_kmeans_tsfeat_clust_2,\n",
    "                                                               return_train_preds=TRUE, \n",
    "                                                               return_train_means=TRUE, \n",
    "                                                               return_train_residuals=TRUE)"
   ]
  },
  {
   "cell_type": "code",
   "execution_count": 136,
   "id": "3225a1dc",
   "metadata": {},
   "outputs": [],
   "source": [
    "# Save the models\n",
    "saveRDS(global_ar_kmeans_tsfeat_clust_1, \n",
    "        \"Results/Global/Pooled Regression/TSFeat KMeans/global_ar_model_kmeans_tsfeat_clust_1.RData\")\n",
    "\n",
    "saveRDS(global_ar_kmeans_tsfeat_clust_2, \n",
    "        \"Results/Global/Pooled Regression/TSFeat KMeans/global_ar_model_kmeans_tsfeat_clust_2.RData\")"
   ]
  },
  {
   "cell_type": "code",
   "execution_count": 137,
   "id": "374cf3f1",
   "metadata": {},
   "outputs": [],
   "source": [
    "# Load the saved the models\n",
    "global_ar_kmeans_tsfeat_clust_1 <- readRDS(\"Results/Global/Pooled Regression/TSFeat KMeans/global_ar_model_kmeans_tsfeat_clust_1.RData\")\n",
    "\n",
    "global_ar_kmeans_tsfeat_clust_2 <- readRDS(\"Results/Global/Pooled Regression/TSFeat KMeans/global_ar_model_kmeans_tsfeat_clust_2.RData\")"
   ]
  },
  {
   "cell_type": "markdown",
   "id": "7c373c85",
   "metadata": {},
   "source": [
    "## Test Preds"
   ]
  },
  {
   "cell_type": "code",
   "execution_count": 138,
   "id": "274705b0",
   "metadata": {},
   "outputs": [],
   "source": [
    "# Run one-step ahead forecasts on test data\n",
    "global_ar_kmeans_tsfeat_clust_1_test_pred <- global_ar_least_squares_pred(global_ar_kmeans_tsfeat_clust_1$model,\n",
    "                                                                           embed_test_list_kmeans_tsfeat_clust_1,\n",
    "                                                                           TRUE,\n",
    "                                                                           TRUE)\n",
    "\n",
    "global_ar_kmeans_tsfeat_clust_2_test_pred <- global_ar_least_squares_pred(global_ar_kmeans_tsfeat_clust_2$model,\n",
    "                                                                           embed_test_list_kmeans_tsfeat_clust_2,\n",
    "                                                                           TRUE,\n",
    "                                                                           TRUE)"
   ]
  },
  {
   "cell_type": "code",
   "execution_count": 139,
   "id": "92646e9b",
   "metadata": {},
   "outputs": [
    {
     "data": {
      "text/html": [
       "31.5407242915185"
      ],
      "text/latex": [
       "31.5407242915185"
      ],
      "text/markdown": [
       "31.5407242915185"
      ],
      "text/plain": [
       "[1] 31.54072"
      ]
     },
     "metadata": {},
     "output_type": "display_data"
    }
   ],
   "source": [
    "# Print and examine average perofrmance metrics\n",
    "mean(c(global_ar_kmeans_tsfeat_clust_1_test_pred$test_rmse,\n",
    "       global_ar_kmeans_tsfeat_clust_2_test_pred$test_rmse))"
   ]
  },
  {
   "cell_type": "code",
   "execution_count": 140,
   "id": "33d7a20e",
   "metadata": {},
   "outputs": [
    {
     "data": {
      "text/html": [
       "20.943100473837"
      ],
      "text/latex": [
       "20.943100473837"
      ],
      "text/markdown": [
       "20.943100473837"
      ],
      "text/plain": [
       "[1] 20.9431"
      ]
     },
     "metadata": {},
     "output_type": "display_data"
    }
   ],
   "source": [
    "mean(c(global_ar_kmeans_tsfeat_clust_1_test_pred$test_mae,\n",
    "       global_ar_kmeans_tsfeat_clust_2_test_pred$test_mae))"
   ]
  },
  {
   "cell_type": "code",
   "execution_count": 141,
   "id": "da8efc01",
   "metadata": {},
   "outputs": [
    {
     "data": {
      "text/html": [
       "0.141794649563661"
      ],
      "text/latex": [
       "0.141794649563661"
      ],
      "text/markdown": [
       "0.141794649563661"
      ],
      "text/plain": [
       "[1] 0.1417946"
      ]
     },
     "metadata": {},
     "output_type": "display_data"
    }
   ],
   "source": [
    "mean(c(global_ar_kmeans_tsfeat_clust_1_test_pred$test_rmse,\n",
    "       global_ar_kmeans_tsfeat_clust_2_test_pred$test_rmse)\n",
    "     /\n",
    "     c(global_ar_kmeans_tsfeat_clust_1_test_pred$test_means,\n",
    "       global_ar_kmeans_tsfeat_clust_2_test_pred$test_means)\n",
    "    )"
   ]
  },
  {
   "cell_type": "code",
   "execution_count": 143,
   "id": "1c8d1738",
   "metadata": {},
   "outputs": [
    {
     "data": {
      "text/html": [
       "0.0962930518857314"
      ],
      "text/latex": [
       "0.0962930518857314"
      ],
      "text/markdown": [
       "0.0962930518857314"
      ],
      "text/plain": [
       "[1] 0.09629305"
      ]
     },
     "metadata": {},
     "output_type": "display_data"
    }
   ],
   "source": [
    "mean(c(global_ar_kmeans_tsfeat_clust_1_test_pred$test_mae,\n",
    "       global_ar_kmeans_tsfeat_clust_2_test_pred$test_mae)\n",
    "     /\n",
    "     c(global_ar_kmeans_tsfeat_clust_1_test_pred$test_means,\n",
    "       global_ar_kmeans_tsfeat_clust_2_test_pred$test_means)\n",
    "    )"
   ]
  },
  {
   "cell_type": "code",
   "execution_count": 144,
   "id": "956ffc7f",
   "metadata": {},
   "outputs": [],
   "source": [
    "# Save the test preds to files\n",
    "saveRDS(global_ar_kmeans_tsfeat_clust_1_test_pred, \n",
    "        \"Results/Global/Pooled Regression/TSFeat KMeans/global_ar_kmeans_tsfeat_clust_1_test_pred.RData\")\n",
    "\n",
    "saveRDS(global_ar_kmeans_tsfeat_clust_2_test_pred, \n",
    "        \"Results/Global/Pooled Regression/TSFeat KMeans/global_ar_kmeans_tsfeat_clust_2_test_pred.RData\")"
   ]
  },
  {
   "cell_type": "markdown",
   "id": "9f5dd54f",
   "metadata": {},
   "source": [
    "### Boostrap Pred Intervals"
   ]
  },
  {
   "cell_type": "code",
   "execution_count": 145,
   "id": "f104041d",
   "metadata": {},
   "outputs": [],
   "source": [
    "# Create bootstrap pred intervals - first, we create one df of test data per cluster\n",
    "tsfeat_clust_1_test_data_full <- do.call(\"rbind\", embed_test_list_kmeans_tsfeat_clust_1)\n",
    "tsfeat_clust_2_test_data_full <- do.call(\"rbind\", embed_test_list_kmeans_tsfeat_clust_2)"
   ]
  },
  {
   "cell_type": "code",
   "execution_count": 146,
   "id": "3d904ecd",
   "metadata": {},
   "outputs": [],
   "source": [
    "# Next, compute the bootstrap PIs for each prediction\n",
    "global_ar_tsfeat_clust_1_test_preds_boot <- bootstrap_pred_int(global_ar_kmeans_tsfeat_clust_1_test_pred$test_preds,\n",
    "                                                                global_ar_kmeans_tsfeat_clust_1$train_residuals,\n",
    "                                                                n_samp,\n",
    "                                                                tsfeat_clust_1_test_data_full[,1])      \n",
    "\n",
    "global_ar_tsfeat_clust_2_test_preds_boot <- bootstrap_pred_int(global_ar_kmeans_tsfeat_clust_2_test_pred$test_preds,\n",
    "                                                                global_ar_kmeans_tsfeat_clust_2$train_residuals,\n",
    "                                                                n_samp,\n",
    "                                                                tsfeat_clust_2_test_data_full[,1])           "
   ]
  },
  {
   "cell_type": "code",
   "execution_count": 147,
   "id": "78ed0a9a",
   "metadata": {},
   "outputs": [],
   "source": [
    "# Put all preds with PIs into one df\n",
    "global_ar_tsfeat_clust_test_preds_boot <- rbind(global_ar_tsfeat_clust_1_test_preds_boot,\n",
    "                                                 global_ar_tsfeat_clust_2_test_preds_boot)"
   ]
  },
  {
   "cell_type": "code",
   "execution_count": 148,
   "id": "0b504b88",
   "metadata": {},
   "outputs": [
    {
     "data": {
      "text/html": [
       "123.95480472433"
      ],
      "text/latex": [
       "123.95480472433"
      ],
      "text/markdown": [
       "123.95480472433"
      ],
      "text/plain": [
       "[1] 123.9548"
      ]
     },
     "metadata": {},
     "output_type": "display_data"
    }
   ],
   "source": [
    "# Examine the mean interval scores\n",
    "mean(global_ar_tsfeat_clust_test_preds_boot$int_score_80)"
   ]
  },
  {
   "cell_type": "code",
   "execution_count": 149,
   "id": "bbf3dec7",
   "metadata": {},
   "outputs": [
    {
     "data": {
      "text/html": [
       "228.598433089591"
      ],
      "text/latex": [
       "228.598433089591"
      ],
      "text/markdown": [
       "228.598433089591"
      ],
      "text/plain": [
       "[1] 228.5984"
      ]
     },
     "metadata": {},
     "output_type": "display_data"
    }
   ],
   "source": [
    "mean(global_ar_tsfeat_clust_test_preds_boot$int_score_95)"
   ]
  },
  {
   "cell_type": "code",
   "execution_count": 150,
   "id": "6dd51d17",
   "metadata": {},
   "outputs": [
    {
     "data": {
      "text/html": [
       "0.584820593971518"
      ],
      "text/latex": [
       "0.584820593971518"
      ],
      "text/markdown": [
       "0.584820593971518"
      ],
      "text/plain": [
       "[1] 0.5848206"
      ]
     },
     "metadata": {},
     "output_type": "display_data"
    }
   ],
   "source": [
    "mean(c((global_ar_tsfeat_clust_1_test_preds_boot %>%\n",
    "    group_by(ts_index) %>%\n",
    "    summarise(int_score_80=mean(int_score_80)))$int_score_80,\n",
    "(global_ar_tsfeat_clust_2_test_preds_boot %>%\n",
    "    group_by(ts_index) %>%\n",
    "    summarise(int_score_80=mean(int_score_80)))$int_score_80)/\n",
    " c(global_ar_kmeans_tsfeat_clust_1_test_pred$test_means,\n",
    "   global_ar_kmeans_tsfeat_clust_2_test_pred$test_means))"
   ]
  },
  {
   "cell_type": "code",
   "execution_count": 151,
   "id": "d45d8604",
   "metadata": {},
   "outputs": [
    {
     "data": {
      "text/html": [
       "1.08333780154196"
      ],
      "text/latex": [
       "1.08333780154196"
      ],
      "text/markdown": [
       "1.08333780154196"
      ],
      "text/plain": [
       "[1] 1.083338"
      ]
     },
     "metadata": {},
     "output_type": "display_data"
    }
   ],
   "source": [
    "mean(c((global_ar_tsfeat_clust_1_test_preds_boot %>%\n",
    "    group_by(ts_index) %>%\n",
    "    summarise(int_score_95=mean(int_score_95)))$int_score_95,\n",
    "(global_ar_tsfeat_clust_2_test_preds_boot %>%\n",
    "    group_by(ts_index) %>%\n",
    "    summarise(int_score_95=mean(int_score_95)))$int_score_95)/\n",
    " c(global_ar_kmeans_tsfeat_clust_1_test_pred$test_means,\n",
    "   global_ar_kmeans_tsfeat_clust_2_test_pred$test_means))"
   ]
  },
  {
   "cell_type": "code",
   "execution_count": 152,
   "id": "de74aaec",
   "metadata": {},
   "outputs": [],
   "source": [
    "# Save to file\n",
    "write.csv(global_ar_tsfeat_clust_test_preds_boot, \n",
    "          \"Results/Global/Pooled Regression/TSFeat KMeans/global_ar_kmeans_tsfeat_clust_test_pred_w_int.csv\", \n",
    "          row.names=FALSE)"
   ]
  },
  {
   "cell_type": "code",
   "execution_count": null,
   "id": "1fba4bf7",
   "metadata": {},
   "outputs": [],
   "source": []
  },
  {
   "cell_type": "markdown",
   "id": "d539b5b0",
   "metadata": {},
   "source": [
    "# Global AR Model - DTW"
   ]
  },
  {
   "cell_type": "code",
   "execution_count": 153,
   "id": "3a235fb7",
   "metadata": {},
   "outputs": [
    {
     "name": "stderr",
     "output_type": "stream",
     "text": [
      "\u001b[1mRows: \u001b[22m\u001b[34m76\u001b[39m \u001b[1mColumns: \u001b[22m\u001b[34m2\u001b[39m\n",
      "\u001b[36m──\u001b[39m \u001b[1mColumn specification\u001b[22m \u001b[36m────────────────────────────────────────────────────────\u001b[39m\n",
      "\u001b[1mDelimiter:\u001b[22m \",\"\n",
      "\u001b[32mdbl\u001b[39m (2): ts_index, dtw_clust_assign\n",
      "\n",
      "\u001b[36mℹ\u001b[39m Use `spec()` to retrieve the full column specification for this data.\n",
      "\u001b[36mℹ\u001b[39m Specify the column types or set `show_col_types = FALSE` to quiet this message.\n"
     ]
    }
   ],
   "source": [
    "# Read in cluster assingments from PAM with DTW\n",
    "dtw_clust <- read_csv('Results/Clustering/DTW/dtw_clustering_assign.csv')"
   ]
  },
  {
   "cell_type": "code",
   "execution_count": 154,
   "id": "c03fa904",
   "metadata": {},
   "outputs": [
    {
     "data": {
      "text/html": [
       "2"
      ],
      "text/latex": [
       "2"
      ],
      "text/markdown": [
       "2"
      ],
      "text/plain": [
       "[1] 2"
      ]
     },
     "metadata": {},
     "output_type": "display_data"
    }
   ],
   "source": [
    "# Check number of clusters\n",
    "max(dtw_clust$dtw_clust_assign)"
   ]
  },
  {
   "cell_type": "code",
   "execution_count": 155,
   "id": "f600a81c",
   "metadata": {},
   "outputs": [],
   "source": [
    "# Create the two corresponding train and test lists\n",
    "embed_train_val_list_dtw_clust_1 <- embed_train_val_list[c((dtw_clust %>% \n",
    "                                                    filter(dtw_clust_assign == 1))$ts_index)]\n",
    "\n",
    "embed_train_val_list_dtw_clust_2 <- embed_train_val_list[c((dtw_clust %>% \n",
    "                                                    filter(dtw_clust_assign == 2))$ts_index)]\n",
    "\n",
    "embed_test_list_dtw_clust_1 <- embed_test_list[c((dtw_clust %>% \n",
    "                                                    filter(dtw_clust_assign == 1))$ts_index)]\n",
    "\n",
    "embed_test_list_dtw_clust_2 <- embed_test_list[c((dtw_clust %>% \n",
    "                                                    filter(dtw_clust_assign == 2))$ts_index)]"
   ]
  },
  {
   "cell_type": "code",
   "execution_count": 156,
   "id": "3feaa01b",
   "metadata": {},
   "outputs": [],
   "source": [
    "# Create the models\n",
    "global_ar_dtw_clust_1 <- global_ar_least_squares(train_list=embed_train_val_list_dtw_clust_1,\n",
    "                                                 return_train_preds=TRUE, \n",
    "                                                 return_train_means=TRUE, \n",
    "                                                 return_train_residuals=TRUE\n",
    "                                                )\n",
    "      \n",
    "\n",
    "global_ar_dtw_clust_2 <- global_ar_least_squares(train_list=embed_train_val_list_dtw_clust_2,\n",
    "                                                 return_train_preds=TRUE, \n",
    "                                                 return_train_means=TRUE, \n",
    "                                                 return_train_residuals=TRUE\n",
    "                                                )"
   ]
  },
  {
   "cell_type": "code",
   "execution_count": 157,
   "id": "e63cde89",
   "metadata": {},
   "outputs": [],
   "source": [
    "# Save the models to RData files\n",
    "saveRDS(global_ar_dtw_clust_1, \n",
    "        \"Results/Global/Pooled Regression/DTW/global_ar_dtw_clust_1.RData\")\n",
    "\n",
    "saveRDS(global_ar_dtw_clust_2, \n",
    "        \"Results/Global/Pooled Regression/DTW/global_ar_dtw_clust_2.RData\")"
   ]
  },
  {
   "cell_type": "code",
   "execution_count": 158,
   "id": "99b25ea3",
   "metadata": {},
   "outputs": [],
   "source": [
    "global_ar_dtw_clust_1 <- readRDS(\"Results/Global/Pooled Regression/DTW/global_ar_dtw_clust_1.RData\")\n",
    "\n",
    "global_ar_dtw_clust_2 <- readRDS(\"Results/Global/Pooled Regression/DTW/global_ar_dtw_clust_2.RData\")"
   ]
  },
  {
   "cell_type": "markdown",
   "id": "21aacb6e",
   "metadata": {},
   "source": [
    "## Test Preds"
   ]
  },
  {
   "cell_type": "code",
   "execution_count": 159,
   "id": "4ddef6ad",
   "metadata": {},
   "outputs": [],
   "source": [
    "# Run one-step ahead forecasts on the test sets\n",
    "global_ar_dtw_clust_1_test_pred <- global_ar_least_squares_pred(global_ar_dtw_clust_1$model,\n",
    "                                                                embed_test_list_dtw_clust_1,\n",
    "                                                                TRUE,\n",
    "                                                                TRUE)\n",
    "\n",
    "global_ar_dtw_clust_2_test_pred <- global_ar_least_squares_pred(global_ar_dtw_clust_2$model,\n",
    "                                                                embed_test_list_dtw_clust_2,\n",
    "                                                                TRUE,\n",
    "                                                                TRUE)"
   ]
  },
  {
   "cell_type": "code",
   "execution_count": 160,
   "id": "5d281ef6",
   "metadata": {},
   "outputs": [
    {
     "data": {
      "text/html": [
       "31.4425106264146"
      ],
      "text/latex": [
       "31.4425106264146"
      ],
      "text/markdown": [
       "31.4425106264146"
      ],
      "text/plain": [
       "[1] 31.44251"
      ]
     },
     "metadata": {},
     "output_type": "display_data"
    }
   ],
   "source": [
    "# Examine average performance on the test sets\n",
    "mean(c(global_ar_dtw_clust_1_test_pred$test_rmse,\n",
    "       global_ar_dtw_clust_2_test_pred$test_rmse))"
   ]
  },
  {
   "cell_type": "code",
   "execution_count": 161,
   "id": "f4b0525f",
   "metadata": {},
   "outputs": [
    {
     "data": {
      "text/html": [
       "20.8175936824803"
      ],
      "text/latex": [
       "20.8175936824803"
      ],
      "text/markdown": [
       "20.8175936824803"
      ],
      "text/plain": [
       "[1] 20.81759"
      ]
     },
     "metadata": {},
     "output_type": "display_data"
    }
   ],
   "source": [
    "mean(c(global_ar_dtw_clust_1_test_pred$test_mae,\n",
    "       global_ar_dtw_clust_2_test_pred$test_mae))"
   ]
  },
  {
   "cell_type": "code",
   "execution_count": 162,
   "id": "61414856",
   "metadata": {},
   "outputs": [
    {
     "data": {
      "text/html": [
       "0.140660777104889"
      ],
      "text/latex": [
       "0.140660777104889"
      ],
      "text/markdown": [
       "0.140660777104889"
      ],
      "text/plain": [
       "[1] 0.1406608"
      ]
     },
     "metadata": {},
     "output_type": "display_data"
    }
   ],
   "source": [
    "mean(c(global_ar_dtw_clust_1_test_pred$test_rmse,\n",
    "       global_ar_dtw_clust_2_test_pred$test_rmse) /\n",
    "     c(global_ar_dtw_clust_1_test_pred$test_means,\n",
    "       global_ar_dtw_clust_2_test_pred$test_means))"
   ]
  },
  {
   "cell_type": "code",
   "execution_count": 163,
   "id": "3dd81035",
   "metadata": {},
   "outputs": [
    {
     "data": {
      "text/html": [
       "0.095110284148155"
      ],
      "text/latex": [
       "0.095110284148155"
      ],
      "text/markdown": [
       "0.095110284148155"
      ],
      "text/plain": [
       "[1] 0.09511028"
      ]
     },
     "metadata": {},
     "output_type": "display_data"
    }
   ],
   "source": [
    "mean(c(global_ar_dtw_clust_1_test_pred$test_mae,\n",
    "       global_ar_dtw_clust_2_test_pred$test_mae) /\n",
    "     c(global_ar_dtw_clust_1_test_pred$test_means,\n",
    "       global_ar_dtw_clust_2_test_pred$test_means))"
   ]
  },
  {
   "cell_type": "code",
   "execution_count": 164,
   "id": "6055e8b2",
   "metadata": {},
   "outputs": [],
   "source": [
    "# Save test set performance\n",
    "saveRDS(global_ar_dtw_clust_1_test_pred, \n",
    "        \"Results/Global/Pooled Regression/DTW/global_ar_dtw_clust_1_test_pred.RData\")\n",
    "\n",
    "saveRDS(global_ar_dtw_clust_2_test_pred, \n",
    "        \"Results/Global/Pooled Regression/DTW/global_ar_dtw_clust_2_test_pred.RData\")"
   ]
  },
  {
   "cell_type": "markdown",
   "id": "71739936",
   "metadata": {},
   "source": [
    "### Bootstrap Pred Intervals"
   ]
  },
  {
   "cell_type": "code",
   "execution_count": 165,
   "id": "fe1f6892",
   "metadata": {},
   "outputs": [],
   "source": [
    "# Create test data frames for each cluster\n",
    "dtw_clust_1_test_data_full <- do.call(\"rbind\", embed_test_list_dtw_clust_1)\n",
    "dtw_clust_2_test_data_full <- do.call(\"rbind\", embed_test_list_dtw_clust_2)"
   ]
  },
  {
   "cell_type": "code",
   "execution_count": 166,
   "id": "97a46fa0",
   "metadata": {},
   "outputs": [],
   "source": [
    "# Run bootstrapping for pred intervals for each cluster\n",
    "global_ar_dtw_clust_1_test_preds_boot <- bootstrap_pred_int(global_ar_dtw_clust_1_test_pred$test_preds,\n",
    "                                                            global_ar_dtw_clust_1$train_residuals,\n",
    "                                                            n_samp,\n",
    "                                                            dtw_clust_1_test_data_full[,1])      \n",
    "\n",
    "global_ar_dtw_clust_2_test_preds_boot <- bootstrap_pred_int(global_ar_dtw_clust_2_test_pred$test_preds,\n",
    "                                                            global_ar_dtw_clust_2$train_residuals,\n",
    "                                                            n_samp,\n",
    "                                                            dtw_clust_2_test_data_full[,1])      "
   ]
  },
  {
   "cell_type": "code",
   "execution_count": 167,
   "id": "04e7a280",
   "metadata": {},
   "outputs": [],
   "source": [
    "# Put all bootstrap results into 1 df\n",
    "global_ar_dtw_clust_test_preds_boot <- rbind(global_ar_dtw_clust_1_test_preds_boot,\n",
    "                                             global_ar_dtw_clust_2_test_preds_boot\n",
    "                                             )"
   ]
  },
  {
   "cell_type": "code",
   "execution_count": 168,
   "id": "9af6cde0",
   "metadata": {},
   "outputs": [
    {
     "data": {
      "text/html": [
       "118.062369718159"
      ],
      "text/latex": [
       "118.062369718159"
      ],
      "text/markdown": [
       "118.062369718159"
      ],
      "text/plain": [
       "[1] 118.0624"
      ]
     },
     "metadata": {},
     "output_type": "display_data"
    }
   ],
   "source": [
    "# Examine the interval performance\n",
    "mean(global_ar_dtw_clust_test_preds_boot$int_score_80)"
   ]
  },
  {
   "cell_type": "code",
   "execution_count": 169,
   "id": "72616383",
   "metadata": {},
   "outputs": [
    {
     "data": {
      "text/html": [
       "204.992014321007"
      ],
      "text/latex": [
       "204.992014321007"
      ],
      "text/markdown": [
       "204.992014321007"
      ],
      "text/plain": [
       "[1] 204.992"
      ]
     },
     "metadata": {},
     "output_type": "display_data"
    }
   ],
   "source": [
    "mean(global_ar_dtw_clust_test_preds_boot$int_score_95)"
   ]
  },
  {
   "cell_type": "code",
   "execution_count": 170,
   "id": "8c53e283",
   "metadata": {},
   "outputs": [
    {
     "data": {
      "text/html": [
       "0.564157753096682"
      ],
      "text/latex": [
       "0.564157753096682"
      ],
      "text/markdown": [
       "0.564157753096682"
      ],
      "text/plain": [
       "[1] 0.5641578"
      ]
     },
     "metadata": {},
     "output_type": "display_data"
    }
   ],
   "source": [
    "mean(c((global_ar_dtw_clust_1_test_preds_boot %>%\n",
    "     group_by(ts_index) %>%\n",
    "    summarise(int_score_80=mean(int_score_80)))$int_score_80,\n",
    "(global_ar_dtw_clust_2_test_preds_boot %>%\n",
    "     group_by(ts_index) %>%\n",
    "    summarise(int_score_80=mean(int_score_80)))$int_score_80)/\n",
    " c(global_ar_dtw_clust_1_test_pred$test_means,\n",
    "       global_ar_dtw_clust_2_test_pred$test_means))"
   ]
  },
  {
   "cell_type": "code",
   "execution_count": 171,
   "id": "94c625e0",
   "metadata": {},
   "outputs": [
    {
     "data": {
      "text/html": [
       "0.977947325788477"
      ],
      "text/latex": [
       "0.977947325788477"
      ],
      "text/markdown": [
       "0.977947325788477"
      ],
      "text/plain": [
       "[1] 0.9779473"
      ]
     },
     "metadata": {},
     "output_type": "display_data"
    }
   ],
   "source": [
    "mean(c((global_ar_dtw_clust_1_test_preds_boot %>%\n",
    "     group_by(ts_index) %>%\n",
    "    summarise(int_score_95=mean(int_score_95)))$int_score_95,\n",
    "(global_ar_dtw_clust_2_test_preds_boot %>%\n",
    "     group_by(ts_index) %>%\n",
    "    summarise(int_score_95=mean(int_score_95)))$int_score_95)/\n",
    " c(global_ar_dtw_clust_1_test_pred$test_means,\n",
    "       global_ar_dtw_clust_2_test_pred$test_means))"
   ]
  },
  {
   "cell_type": "code",
   "execution_count": 172,
   "id": "28632bfd",
   "metadata": {},
   "outputs": [],
   "source": [
    "# Save preds with intervals to csv file\n",
    "write.csv(global_ar_dtw_clust_test_preds_boot, \n",
    "          \"Results/Global/Pooled Regression/DTW/global_ar_model_dtw_clust_test_pred_w_int.csv\", \n",
    "          row.names=FALSE)"
   ]
  },
  {
   "cell_type": "code",
   "execution_count": null,
   "id": "447fefa7",
   "metadata": {},
   "outputs": [],
   "source": []
  }
 ],
 "metadata": {
  "kernelspec": {
   "display_name": "R",
   "language": "R",
   "name": "ir"
  },
  "language_info": {
   "codemirror_mode": "r",
   "file_extension": ".r",
   "mimetype": "text/x-r-source",
   "name": "R",
   "pygments_lexer": "r",
   "version": "4.1.3"
  }
 },
 "nbformat": 4,
 "nbformat_minor": 5
}
