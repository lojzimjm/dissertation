{
 "cells": [
  {
   "cell_type": "code",
   "execution_count": 1,
   "id": "cddd582a",
   "metadata": {},
   "outputs": [],
   "source": [
    "rm(list=ls())"
   ]
  },
  {
   "cell_type": "code",
   "execution_count": 2,
   "id": "32cb3e4c",
   "metadata": {},
   "outputs": [],
   "source": [
    "# Uncomment and run to install packages if needed\n",
    "# install.packages(\"tidyverse\")\n",
    "# install.packages(\"cluster\")\n",
    "# install.packages(\"tsfeatures\")\n",
    "# install.packages(\"Rcatch22\")\n",
    "# install.packages(\"tseries\")\n",
    "# install.packages(\"factoextra\")\n",
    "# install.packages(\"forecast\")\n",
    "# install.packages(\"dtwclust\")"
   ]
  },
  {
   "cell_type": "code",
   "execution_count": 3,
   "id": "e66cce94",
   "metadata": {},
   "outputs": [
    {
     "name": "stderr",
     "output_type": "stream",
     "text": [
      "Warning message:\n",
      "“‘timedatectl’ indicates the non-existent timezone name ‘n/a’”\n",
      "Warning message:\n",
      "“Your system is mis-configured: ‘/etc/localtime’ is not a symlink”\n",
      "Warning message:\n",
      "“It is strongly recommended to set envionment variable TZ to ‘Etc/UCT’ (or equivalent)”\n",
      "── \u001b[1mAttaching packages\u001b[22m ─────────────────────────────────────── tidyverse 1.3.1 ──\n",
      "\n",
      "\u001b[32m✔\u001b[39m \u001b[34mggplot2\u001b[39m 3.3.6     \u001b[32m✔\u001b[39m \u001b[34mpurrr  \u001b[39m 0.3.4\n",
      "\u001b[32m✔\u001b[39m \u001b[34mtibble \u001b[39m 3.1.7     \u001b[32m✔\u001b[39m \u001b[34mdplyr  \u001b[39m 1.0.9\n",
      "\u001b[32m✔\u001b[39m \u001b[34mtidyr  \u001b[39m 1.2.0     \u001b[32m✔\u001b[39m \u001b[34mstringr\u001b[39m 1.4.0\n",
      "\u001b[32m✔\u001b[39m \u001b[34mreadr  \u001b[39m 2.1.2     \u001b[32m✔\u001b[39m \u001b[34mforcats\u001b[39m 0.5.1\n",
      "\n",
      "── \u001b[1mConflicts\u001b[22m ────────────────────────────────────────── tidyverse_conflicts() ──\n",
      "\u001b[31m✖\u001b[39m \u001b[34mdplyr\u001b[39m::\u001b[32mfilter()\u001b[39m masks \u001b[34mstats\u001b[39m::filter()\n",
      "\u001b[31m✖\u001b[39m \u001b[34mdplyr\u001b[39m::\u001b[32mlag()\u001b[39m    masks \u001b[34mstats\u001b[39m::lag()\n",
      "\n",
      "Registered S3 method overwritten by 'quantmod':\n",
      "  method            from\n",
      "  as.zoo.data.frame zoo \n",
      "\n",
      "Welcome! Want to learn more? See two factoextra-related books at https://goo.gl/ve3WBa\n",
      "\n",
      "Loading required package: proxy\n",
      "\n",
      "\n",
      "Attaching package: ‘proxy’\n",
      "\n",
      "\n",
      "The following objects are masked from ‘package:stats’:\n",
      "\n",
      "    as.dist, dist\n",
      "\n",
      "\n",
      "The following object is masked from ‘package:base’:\n",
      "\n",
      "    as.matrix\n",
      "\n",
      "\n",
      "Loading required package: dtw\n",
      "\n",
      "Loaded dtw v1.22-3. See ?dtw for help, citation(\"dtw\") for use in publication.\n",
      "\n",
      "\n",
      "dtwclust:\n",
      "Setting random number generator to L'Ecuyer-CMRG (see RNGkind()).\n",
      "To read the included vignettes type: browseVignettes(\"dtwclust\").\n",
      "See news(package = \"dtwclust\") after package updates.\n",
      "\n"
     ]
    }
   ],
   "source": [
    "library(tidyverse)\n",
    "library(cluster)\n",
    "library(tsfeatures)\n",
    "library(Rcatch22)\n",
    "library(tseries)\n",
    "library(factoextra)\n",
    "library(forecast)\n",
    "library(dtwclust)"
   ]
  },
  {
   "cell_type": "code",
   "execution_count": 4,
   "id": "6234a250",
   "metadata": {},
   "outputs": [],
   "source": [
    "# Create the folders to save results in\n",
    "res_folder1 <- \"Results/Unseen Sensor/\"\n",
    "if (!file.exists(res_folder1)) {\n",
    " dir.create(res_folder1, recursive=TRUE)\n",
    "}"
   ]
  },
  {
   "cell_type": "markdown",
   "id": "0c00132b",
   "metadata": {},
   "source": [
    "# Read In Data"
   ]
  },
  {
   "cell_type": "code",
   "execution_count": 5,
   "id": "afda93d9",
   "metadata": {},
   "outputs": [
    {
     "name": "stderr",
     "output_type": "stream",
     "text": [
      "\u001b[1mRows: \u001b[22m\u001b[34m35040\u001b[39m \u001b[1mColumns: \u001b[22m\u001b[34m10\u001b[39m\n",
      "\u001b[36m──\u001b[39m \u001b[1mColumn specification\u001b[22m \u001b[36m────────────────────────────────────────────────────────\u001b[39m\n",
      "\u001b[1mDelimiter:\u001b[22m \",\"\n",
      "\u001b[31mchr\u001b[39m  (1): site_name\n",
      "\u001b[32mdbl\u001b[39m  (5): day_of_week, day_of_year, interval_of_day, avg_mph, total_volume\n",
      "\u001b[33mlgl\u001b[39m  (2): missing_speed, missing_volume\n",
      "\u001b[34mdttm\u001b[39m (1): timestamp\n",
      "\u001b[34mdate\u001b[39m (1): date\n",
      "\n",
      "\u001b[36mℹ\u001b[39m Use `spec()` to retrieve the full column specification for this data.\n",
      "\u001b[36mℹ\u001b[39m Specify the column types or set `show_col_types = FALSE` to quiet this message.\n",
      "\u001b[1mRows: \u001b[22m\u001b[34m35040\u001b[39m \u001b[1mColumns: \u001b[22m\u001b[34m10\u001b[39m\n",
      "\u001b[36m──\u001b[39m \u001b[1mColumn specification\u001b[22m \u001b[36m────────────────────────────────────────────────────────\u001b[39m\n",
      "\u001b[1mDelimiter:\u001b[22m \",\"\n",
      "\u001b[31mchr\u001b[39m  (1): site_name\n",
      "\u001b[32mdbl\u001b[39m  (5): day_of_week, day_of_year, interval_of_day, avg_mph, total_volume\n",
      "\u001b[33mlgl\u001b[39m  (2): missing_speed, missing_volume\n",
      "\u001b[34mdttm\u001b[39m (1): timestamp\n",
      "\u001b[34mdate\u001b[39m (1): date\n",
      "\n",
      "\u001b[36mℹ\u001b[39m Use `spec()` to retrieve the full column specification for this data.\n",
      "\u001b[36mℹ\u001b[39m Specify the column types or set `show_col_types = FALSE` to quiet this message.\n",
      "\u001b[1mRows: \u001b[22m\u001b[34m35040\u001b[39m \u001b[1mColumns: \u001b[22m\u001b[34m10\u001b[39m\n",
      "\u001b[36m──\u001b[39m \u001b[1mColumn specification\u001b[22m \u001b[36m────────────────────────────────────────────────────────\u001b[39m\n",
      "\u001b[1mDelimiter:\u001b[22m \",\"\n",
      "\u001b[31mchr\u001b[39m  (1): site_name\n",
      "\u001b[32mdbl\u001b[39m  (5): day_of_week, day_of_year, interval_of_day, avg_mph, total_volume\n",
      "\u001b[33mlgl\u001b[39m  (2): missing_speed, missing_volume\n",
      "\u001b[34mdttm\u001b[39m (1): timestamp\n",
      "\u001b[34mdate\u001b[39m (1): date\n",
      "\n",
      "\u001b[36mℹ\u001b[39m Use `spec()` to retrieve the full column specification for this data.\n",
      "\u001b[36mℹ\u001b[39m Specify the column types or set `show_col_types = FALSE` to quiet this message.\n",
      "\u001b[1mRows: \u001b[22m\u001b[34m35040\u001b[39m \u001b[1mColumns: \u001b[22m\u001b[34m10\u001b[39m\n",
      "\u001b[36m──\u001b[39m \u001b[1mColumn specification\u001b[22m \u001b[36m────────────────────────────────────────────────────────\u001b[39m\n",
      "\u001b[1mDelimiter:\u001b[22m \",\"\n",
      "\u001b[31mchr\u001b[39m  (1): site_name\n",
      "\u001b[32mdbl\u001b[39m  (5): day_of_week, day_of_year, interval_of_day, avg_mph, total_volume\n",
      "\u001b[33mlgl\u001b[39m  (2): missing_speed, missing_volume\n",
      "\u001b[34mdttm\u001b[39m (1): timestamp\n",
      "\u001b[34mdate\u001b[39m (1): date\n",
      "\n",
      "\u001b[36mℹ\u001b[39m Use `spec()` to retrieve the full column specification for this data.\n",
      "\u001b[36mℹ\u001b[39m Specify the column types or set `show_col_types = FALSE` to quiet this message.\n"
     ]
    }
   ],
   "source": [
    "fnames <- list.files(\"Data/Unseen Sensor/Processed/\", pattern=\"*.csv\", full.names=TRUE)\n",
    "total_df_list <- lapply(fnames, read_csv)"
   ]
  },
  {
   "cell_type": "code",
   "execution_count": 6,
   "id": "aab5779a",
   "metadata": {},
   "outputs": [
    {
     "data": {
      "text/html": [
       "4"
      ],
      "text/latex": [
       "4"
      ],
      "text/markdown": [
       "4"
      ],
      "text/plain": [
       "[1] 4"
      ]
     },
     "metadata": {},
     "output_type": "display_data"
    }
   ],
   "source": [
    "# Sanity check the lengths of each list\n",
    "length(total_df_list)"
   ]
  },
  {
   "cell_type": "code",
   "execution_count": 7,
   "id": "0576f83d",
   "metadata": {},
   "outputs": [],
   "source": [
    "total_df_list <- lapply(total_df_list, function(x) x %>% arrange(timestamp))    "
   ]
  },
  {
   "cell_type": "code",
   "execution_count": 8,
   "id": "722ec8cc",
   "metadata": {},
   "outputs": [],
   "source": [
    "# Randomly create a list of starting points from which we we sample each data frame\n",
    "\n",
    "# Set the seed\n",
    "set.seed(12345)\n",
    "\n",
    "# Sample without replacement as to ensure the starting time for each time series is different\n",
    "starting_points <- sample(1:((96*365)-(96*12*7)), \n",
    "                          length(total_df_list), \n",
    "                          replace=FALSE)\n",
    "\n",
    "# Create the ending points by adding on 12 weeks to the starting points\n",
    "ending_points <- starting_points + (96*7*12) - 1"
   ]
  },
  {
   "cell_type": "code",
   "execution_count": 9,
   "id": "484a0871",
   "metadata": {},
   "outputs": [],
   "source": [
    "write.csv(data.frame(start=starting_points, end=ending_points), \"start_end_points_unseen.csv\", row.names=F)"
   ]
  },
  {
   "cell_type": "code",
   "execution_count": 10,
   "id": "33ef2797",
   "metadata": {},
   "outputs": [],
   "source": [
    "# For each df in our list, create a row number column called 'rn' - this will allow us to find the starting point\n",
    "# for each sample using the above starting_points array\n",
    "total_df_list <- lapply(total_df_list, function(x) x %>% mutate(rn = row_number()))"
   ]
  },
  {
   "cell_type": "code",
   "execution_count": 11,
   "id": "62ba430d",
   "metadata": {},
   "outputs": [],
   "source": [
    "# Sample each df in the list according to its corresponding starting and ending point - this creates 12-week\n",
    "# long samples of each data frame which will be used for modeling and testing\n",
    "total_df_list_samples <- lapply(1:length(total_df_list), \n",
    "                                function(x) total_df_list[[x]] %>% \n",
    "                                    filter(rn >= starting_points[x]) %>%\n",
    "                                    filter(rn <= ending_points[x]))"
   ]
  },
  {
   "cell_type": "code",
   "execution_count": 12,
   "id": "890e3ec0",
   "metadata": {},
   "outputs": [],
   "source": [
    "# Add a new column to each data frame to denote whether each row should be part of the training set, validation set\n",
    "# or test set - the first 8 weeks are designated as train, the next 2 as val, and the final 2 as test. It may be \n",
    "# the case that train and val get used for training, depending on the modeling task\n",
    "total_df_list_samples <- lapply(total_df_list_samples, \n",
    "                                function(x) x %>% mutate(rn = row_number()) %>%\n",
    "                                    mutate(train_val_test = ifelse(rn <= (96*7*8), \n",
    "                                                                   \"train\", \n",
    "                                                                   ifelse(rn <= (96*7*10), \n",
    "                                                                          \"val\", \n",
    "                                                                          \"test\")))\n",
    "                                \n",
    "                               )"
   ]
  },
  {
   "cell_type": "code",
   "execution_count": 13,
   "id": "fdd9579e",
   "metadata": {},
   "outputs": [],
   "source": [
    "# Create a list of data frames which only have the training and validation rows of each df\n",
    "train_val_samples <- lapply(total_df_list_samples, function(x) x %>% filter(train_val_test != \"test\"))"
   ]
  },
  {
   "cell_type": "code",
   "execution_count": 14,
   "id": "4b39cffd",
   "metadata": {},
   "outputs": [],
   "source": [
    "# Create a list of data frames which only have the training rows of each df\n",
    "train_samples <- lapply(total_df_list_samples, function(x) x %>% filter(train_val_test == \"train\"))"
   ]
  },
  {
   "cell_type": "code",
   "execution_count": 15,
   "id": "2e289797",
   "metadata": {},
   "outputs": [],
   "source": [
    "# Create a list of data frames which only have the test rows of each df\n",
    "test_samples <- lapply(total_df_list_samples, function(x) x %>% filter(train_val_test == \"test\"))"
   ]
  },
  {
   "cell_type": "code",
   "execution_count": 16,
   "id": "c7978c5f",
   "metadata": {},
   "outputs": [],
   "source": [
    "# Get the target field (total_volume) from the dfs in the above lists and create msts objects instead of dfs\n",
    "train_val_samples_ts <- lapply(train_val_samples, \n",
    "                               function(x) msts(x$total_volume, seasonal.periods=c(24*4, 24*4*7)))"
   ]
  },
  {
   "cell_type": "code",
   "execution_count": 17,
   "id": "6c283bd3",
   "metadata": {},
   "outputs": [],
   "source": [
    "# Get the target field (total_volume) from the dfs in the above lists and create msts objects instead of dfs\n",
    "train_samples_ts <- lapply(train_samples, \n",
    "                           function(x) msts(x$total_volume, seasonal.periods=c(24*4, 24*4*7)))"
   ]
  },
  {
   "cell_type": "code",
   "execution_count": 18,
   "id": "c5062a3c",
   "metadata": {},
   "outputs": [],
   "source": [
    "# Get the target field (total_volume) from the dfs in the above lists and create msts objects instead of dfs\n",
    "test_samples_ts <- lapply(test_samples,\n",
    "                          function(x) msts(x$total_volume, seasonal.periods=c(24*4, 24*4*7)))"
   ]
  },
  {
   "cell_type": "markdown",
   "id": "f763a66b",
   "metadata": {},
   "source": [
    "# Random Cluster Assignments"
   ]
  },
  {
   "cell_type": "code",
   "execution_count": 19,
   "id": "68694867",
   "metadata": {},
   "outputs": [],
   "source": [
    "# Total number of time series in the data set\n",
    "total_clust <- 4"
   ]
  },
  {
   "cell_type": "code",
   "execution_count": 20,
   "id": "28105107",
   "metadata": {},
   "outputs": [],
   "source": [
    "rand_clust_assign <- c()\n",
    "for (ts_no in 1:length(train_samples_ts)){\n",
    "    set.seed(ts_no)\n",
    "    rand_clust_assign <- c(rand_clust_assign, sample(1:total_clust, 1))\n",
    "}"
   ]
  },
  {
   "cell_type": "code",
   "execution_count": 21,
   "id": "9cb3a7ce",
   "metadata": {},
   "outputs": [
    {
     "data": {
      "text/html": [
       "<style>\n",
       ".list-inline {list-style: none; margin:0; padding: 0}\n",
       ".list-inline>li {display: inline-block}\n",
       ".list-inline>li:not(:last-child)::after {content: \"\\00b7\"; padding: 0 .5ex}\n",
       "</style>\n",
       "<ol class=list-inline><li>3</li><li>2</li><li>1</li><li>4</li></ol>\n"
      ],
      "text/latex": [
       "\\begin{enumerate*}\n",
       "\\item 3\n",
       "\\item 2\n",
       "\\item 1\n",
       "\\item 4\n",
       "\\end{enumerate*}\n"
      ],
      "text/markdown": [
       "1. 3\n",
       "2. 2\n",
       "3. 1\n",
       "4. 4\n",
       "\n",
       "\n"
      ],
      "text/plain": [
       "[1] 3 2 1 4"
      ]
     },
     "metadata": {},
     "output_type": "display_data"
    }
   ],
   "source": [
    "rand_clust_assign"
   ]
  },
  {
   "cell_type": "markdown",
   "id": "223ca62f",
   "metadata": {},
   "source": [
    "# Catch22 Based Feature Computation"
   ]
  },
  {
   "cell_type": "code",
   "execution_count": 22,
   "id": "e98f55ea",
   "metadata": {},
   "outputs": [
    {
     "name": "stderr",
     "output_type": "stream",
     "text": [
      "Warning message:\n",
      "“As of 0.1.14 the feature 'CO_f1ecac' returns a double instead of int\n",
      "\u001b[90mThis warning is displayed once per session.\u001b[39m”\n"
     ]
    }
   ],
   "source": [
    "# For each train time series in our list, compute the Catch22 features using the catch22_all function \n",
    "# and save the results in a df\n",
    "train_catch22_feat <- lapply(lapply(train_samples_ts, function(x) catch22_all(x)), \n",
    "                             function(x) x %>% \n",
    "                                 pivot_wider(names_from=names, values_from=values))"
   ]
  },
  {
   "cell_type": "code",
   "execution_count": 23,
   "id": "de6a44a9",
   "metadata": {},
   "outputs": [
    {
     "data": {
      "text/html": [
       "<table class=\"dataframe\">\n",
       "<caption>A tibble: 4 × 20</caption>\n",
       "<thead>\n",
       "\t<tr><th scope=col>DN_HistogramMode_5</th><th scope=col>DN_HistogramMode_10</th><th scope=col>CO_f1ecac</th><th scope=col>CO_HistogramAMI_even_2_5</th><th scope=col>CO_trev_1_num</th><th scope=col>MD_hrv_classic_pnn40</th><th scope=col>SB_BinaryStats_mean_longstretch1</th><th scope=col>SB_TransitionMatrix_3ac_sumdiagcov</th><th scope=col>CO_Embed2_Dist_tau_d_expfit_meandiff</th><th scope=col>IN_AutoMutualInfoStats_40_gaussian_fmmi</th><th scope=col>FC_LocalSimple_mean1_tauresrat</th><th scope=col>DN_OutlierInclude_p_001_mdrmd</th><th scope=col>DN_OutlierInclude_n_001_mdrmd</th><th scope=col>SP_Summaries_welch_rect_area_5_1</th><th scope=col>SB_BinaryStats_diff_longstretch0</th><th scope=col>SB_MotifThree_quantile_hh</th><th scope=col>SC_FluctAnal_2_rsrangefit_50_1_logi_prop_r1</th><th scope=col>SC_FluctAnal_2_dfa_50_1_2_logi_prop_r1</th><th scope=col>SP_Summaries_welch_rect_centroid</th><th scope=col>FC_LocalSimple_mean3_stderr</th></tr>\n",
       "\t<tr><th scope=col>&lt;dbl&gt;</th><th scope=col>&lt;dbl&gt;</th><th scope=col>&lt;dbl&gt;</th><th scope=col>&lt;dbl&gt;</th><th scope=col>&lt;dbl&gt;</th><th scope=col>&lt;dbl&gt;</th><th scope=col>&lt;dbl&gt;</th><th scope=col>&lt;dbl&gt;</th><th scope=col>&lt;dbl&gt;</th><th scope=col>&lt;dbl&gt;</th><th scope=col>&lt;dbl&gt;</th><th scope=col>&lt;dbl&gt;</th><th scope=col>&lt;dbl&gt;</th><th scope=col>&lt;dbl&gt;</th><th scope=col>&lt;dbl&gt;</th><th scope=col>&lt;dbl&gt;</th><th scope=col>&lt;dbl&gt;</th><th scope=col>&lt;dbl&gt;</th><th scope=col>&lt;dbl&gt;</th><th scope=col>&lt;dbl&gt;</th></tr>\n",
       "</thead>\n",
       "<tbody>\n",
       "\t<tr><td>-0.7727140</td><td>-1.036745</td><td>15.83320</td><td>0.6770578</td><td>0.002529417</td><td>0.7529302</td><td>56</td><td>0.010604141</td><td>0.4183068</td><td>23</td><td>0.04166667</td><td> 0.02139137</td><td>-0.0167410714</td><td>0.9845822</td><td>16</td><td>1.489225</td><td>0.4285714</td><td>0.3469388</td><td>0.06519418</td><td>0.2659134</td></tr>\n",
       "\t<tr><td>-0.9985984</td><td>-1.195337</td><td>18.41606</td><td>0.7576623</td><td>0.010028003</td><td>0.7962791</td><td>59</td><td>0.006165495</td><td>0.3933663</td><td>23</td><td>0.04000000</td><td> 0.07831101</td><td>-0.0018601190</td><td>0.9662259</td><td>14</td><td>1.573515</td><td>0.4285714</td><td>0.3469388</td><td>0.06519418</td><td>0.2833783</td></tr>\n",
       "\t<tr><td>-1.2165974</td><td>-1.413858</td><td>13.28107</td><td>0.7864801</td><td>0.007527869</td><td>0.7672558</td><td>61</td><td>0.006949684</td><td>0.5943701</td><td>18</td><td>0.52631579</td><td> 0.07477679</td><td> 0.0005580357</td><td>0.9804185</td><td>15</td><td>1.442368</td><td>0.4081633</td><td>0.3265306</td><td>0.06596117</td><td>0.3063198</td></tr>\n",
       "\t<tr><td>-1.1381137</td><td>-1.313092</td><td>16.05872</td><td>0.8409939</td><td>0.006194725</td><td>0.6798140</td><td>57</td><td>0.021630571</td><td>0.6649224</td><td>22</td><td>0.41666667</td><td>-0.01199777</td><td> 0.0013020833</td><td>0.9862330</td><td>22</td><td>1.438768</td><td>0.4285714</td><td>0.3469388</td><td>0.06519418</td><td>0.2573900</td></tr>\n",
       "</tbody>\n",
       "</table>\n"
      ],
      "text/latex": [
       "A tibble: 4 × 20\n",
       "\\begin{tabular}{llllllllllllllllllll}\n",
       " DN\\_HistogramMode\\_5 & DN\\_HistogramMode\\_10 & CO\\_f1ecac & CO\\_HistogramAMI\\_even\\_2\\_5 & CO\\_trev\\_1\\_num & MD\\_hrv\\_classic\\_pnn40 & SB\\_BinaryStats\\_mean\\_longstretch1 & SB\\_TransitionMatrix\\_3ac\\_sumdiagcov & CO\\_Embed2\\_Dist\\_tau\\_d\\_expfit\\_meandiff & IN\\_AutoMutualInfoStats\\_40\\_gaussian\\_fmmi & FC\\_LocalSimple\\_mean1\\_tauresrat & DN\\_OutlierInclude\\_p\\_001\\_mdrmd & DN\\_OutlierInclude\\_n\\_001\\_mdrmd & SP\\_Summaries\\_welch\\_rect\\_area\\_5\\_1 & SB\\_BinaryStats\\_diff\\_longstretch0 & SB\\_MotifThree\\_quantile\\_hh & SC\\_FluctAnal\\_2\\_rsrangefit\\_50\\_1\\_logi\\_prop\\_r1 & SC\\_FluctAnal\\_2\\_dfa\\_50\\_1\\_2\\_logi\\_prop\\_r1 & SP\\_Summaries\\_welch\\_rect\\_centroid & FC\\_LocalSimple\\_mean3\\_stderr\\\\\n",
       " <dbl> & <dbl> & <dbl> & <dbl> & <dbl> & <dbl> & <dbl> & <dbl> & <dbl> & <dbl> & <dbl> & <dbl> & <dbl> & <dbl> & <dbl> & <dbl> & <dbl> & <dbl> & <dbl> & <dbl>\\\\\n",
       "\\hline\n",
       "\t -0.7727140 & -1.036745 & 15.83320 & 0.6770578 & 0.002529417 & 0.7529302 & 56 & 0.010604141 & 0.4183068 & 23 & 0.04166667 &  0.02139137 & -0.0167410714 & 0.9845822 & 16 & 1.489225 & 0.4285714 & 0.3469388 & 0.06519418 & 0.2659134\\\\\n",
       "\t -0.9985984 & -1.195337 & 18.41606 & 0.7576623 & 0.010028003 & 0.7962791 & 59 & 0.006165495 & 0.3933663 & 23 & 0.04000000 &  0.07831101 & -0.0018601190 & 0.9662259 & 14 & 1.573515 & 0.4285714 & 0.3469388 & 0.06519418 & 0.2833783\\\\\n",
       "\t -1.2165974 & -1.413858 & 13.28107 & 0.7864801 & 0.007527869 & 0.7672558 & 61 & 0.006949684 & 0.5943701 & 18 & 0.52631579 &  0.07477679 &  0.0005580357 & 0.9804185 & 15 & 1.442368 & 0.4081633 & 0.3265306 & 0.06596117 & 0.3063198\\\\\n",
       "\t -1.1381137 & -1.313092 & 16.05872 & 0.8409939 & 0.006194725 & 0.6798140 & 57 & 0.021630571 & 0.6649224 & 22 & 0.41666667 & -0.01199777 &  0.0013020833 & 0.9862330 & 22 & 1.438768 & 0.4285714 & 0.3469388 & 0.06519418 & 0.2573900\\\\\n",
       "\\end{tabular}\n"
      ],
      "text/markdown": [
       "\n",
       "A tibble: 4 × 20\n",
       "\n",
       "| DN_HistogramMode_5 &lt;dbl&gt; | DN_HistogramMode_10 &lt;dbl&gt; | CO_f1ecac &lt;dbl&gt; | CO_HistogramAMI_even_2_5 &lt;dbl&gt; | CO_trev_1_num &lt;dbl&gt; | MD_hrv_classic_pnn40 &lt;dbl&gt; | SB_BinaryStats_mean_longstretch1 &lt;dbl&gt; | SB_TransitionMatrix_3ac_sumdiagcov &lt;dbl&gt; | CO_Embed2_Dist_tau_d_expfit_meandiff &lt;dbl&gt; | IN_AutoMutualInfoStats_40_gaussian_fmmi &lt;dbl&gt; | FC_LocalSimple_mean1_tauresrat &lt;dbl&gt; | DN_OutlierInclude_p_001_mdrmd &lt;dbl&gt; | DN_OutlierInclude_n_001_mdrmd &lt;dbl&gt; | SP_Summaries_welch_rect_area_5_1 &lt;dbl&gt; | SB_BinaryStats_diff_longstretch0 &lt;dbl&gt; | SB_MotifThree_quantile_hh &lt;dbl&gt; | SC_FluctAnal_2_rsrangefit_50_1_logi_prop_r1 &lt;dbl&gt; | SC_FluctAnal_2_dfa_50_1_2_logi_prop_r1 &lt;dbl&gt; | SP_Summaries_welch_rect_centroid &lt;dbl&gt; | FC_LocalSimple_mean3_stderr &lt;dbl&gt; |\n",
       "|---|---|---|---|---|---|---|---|---|---|---|---|---|---|---|---|---|---|---|---|\n",
       "| -0.7727140 | -1.036745 | 15.83320 | 0.6770578 | 0.002529417 | 0.7529302 | 56 | 0.010604141 | 0.4183068 | 23 | 0.04166667 |  0.02139137 | -0.0167410714 | 0.9845822 | 16 | 1.489225 | 0.4285714 | 0.3469388 | 0.06519418 | 0.2659134 |\n",
       "| -0.9985984 | -1.195337 | 18.41606 | 0.7576623 | 0.010028003 | 0.7962791 | 59 | 0.006165495 | 0.3933663 | 23 | 0.04000000 |  0.07831101 | -0.0018601190 | 0.9662259 | 14 | 1.573515 | 0.4285714 | 0.3469388 | 0.06519418 | 0.2833783 |\n",
       "| -1.2165974 | -1.413858 | 13.28107 | 0.7864801 | 0.007527869 | 0.7672558 | 61 | 0.006949684 | 0.5943701 | 18 | 0.52631579 |  0.07477679 |  0.0005580357 | 0.9804185 | 15 | 1.442368 | 0.4081633 | 0.3265306 | 0.06596117 | 0.3063198 |\n",
       "| -1.1381137 | -1.313092 | 16.05872 | 0.8409939 | 0.006194725 | 0.6798140 | 57 | 0.021630571 | 0.6649224 | 22 | 0.41666667 | -0.01199777 |  0.0013020833 | 0.9862330 | 22 | 1.438768 | 0.4285714 | 0.3469388 | 0.06519418 | 0.2573900 |\n",
       "\n"
      ],
      "text/plain": [
       "  DN_HistogramMode_5 DN_HistogramMode_10 CO_f1ecac CO_HistogramAMI_even_2_5\n",
       "1 -0.7727140         -1.036745           15.83320  0.6770578               \n",
       "2 -0.9985984         -1.195337           18.41606  0.7576623               \n",
       "3 -1.2165974         -1.413858           13.28107  0.7864801               \n",
       "4 -1.1381137         -1.313092           16.05872  0.8409939               \n",
       "  CO_trev_1_num MD_hrv_classic_pnn40 SB_BinaryStats_mean_longstretch1\n",
       "1 0.002529417   0.7529302            56                              \n",
       "2 0.010028003   0.7962791            59                              \n",
       "3 0.007527869   0.7672558            61                              \n",
       "4 0.006194725   0.6798140            57                              \n",
       "  SB_TransitionMatrix_3ac_sumdiagcov CO_Embed2_Dist_tau_d_expfit_meandiff\n",
       "1 0.010604141                        0.4183068                           \n",
       "2 0.006165495                        0.3933663                           \n",
       "3 0.006949684                        0.5943701                           \n",
       "4 0.021630571                        0.6649224                           \n",
       "  IN_AutoMutualInfoStats_40_gaussian_fmmi FC_LocalSimple_mean1_tauresrat\n",
       "1 23                                      0.04166667                    \n",
       "2 23                                      0.04000000                    \n",
       "3 18                                      0.52631579                    \n",
       "4 22                                      0.41666667                    \n",
       "  DN_OutlierInclude_p_001_mdrmd DN_OutlierInclude_n_001_mdrmd\n",
       "1  0.02139137                   -0.0167410714                \n",
       "2  0.07831101                   -0.0018601190                \n",
       "3  0.07477679                    0.0005580357                \n",
       "4 -0.01199777                    0.0013020833                \n",
       "  SP_Summaries_welch_rect_area_5_1 SB_BinaryStats_diff_longstretch0\n",
       "1 0.9845822                        16                              \n",
       "2 0.9662259                        14                              \n",
       "3 0.9804185                        15                              \n",
       "4 0.9862330                        22                              \n",
       "  SB_MotifThree_quantile_hh SC_FluctAnal_2_rsrangefit_50_1_logi_prop_r1\n",
       "1 1.489225                  0.4285714                                  \n",
       "2 1.573515                  0.4285714                                  \n",
       "3 1.442368                  0.4081633                                  \n",
       "4 1.438768                  0.4285714                                  \n",
       "  SC_FluctAnal_2_dfa_50_1_2_logi_prop_r1 SP_Summaries_welch_rect_centroid\n",
       "1 0.3469388                              0.06519418                      \n",
       "2 0.3469388                              0.06519418                      \n",
       "3 0.3265306                              0.06596117                      \n",
       "4 0.3469388                              0.06519418                      \n",
       "  FC_LocalSimple_mean3_stderr\n",
       "1 0.2659134                  \n",
       "2 0.2833783                  \n",
       "3 0.3063198                  \n",
       "4 0.2573900                  "
      ]
     },
     "metadata": {},
     "output_type": "display_data"
    }
   ],
   "source": [
    "train_catch22_feat_df <- do.call(\"rbind\", train_catch22_feat) %>% \n",
    "    select(-c('CO_FirstMin_ac', 'PD_PeriodicityWang_th0_01'))\n",
    "train_catch22_feat_df"
   ]
  },
  {
   "cell_type": "markdown",
   "id": "284dcaed",
   "metadata": {},
   "source": [
    "## Read in Catch22 Feature Values for Original Data"
   ]
  },
  {
   "cell_type": "code",
   "execution_count": 24,
   "id": "4bc1a79e",
   "metadata": {},
   "outputs": [
    {
     "name": "stderr",
     "output_type": "stream",
     "text": [
      "\u001b[1m\u001b[22mNew names:\n",
      "\u001b[36m•\u001b[39m `` -> `...1`\n",
      "\u001b[1mRows: \u001b[22m\u001b[34m76\u001b[39m \u001b[1mColumns: \u001b[22m\u001b[34m21\u001b[39m\n",
      "\u001b[36m──\u001b[39m \u001b[1mColumn specification\u001b[22m \u001b[36m────────────────────────────────────────────────────────\u001b[39m\n",
      "\u001b[1mDelimiter:\u001b[22m \",\"\n",
      "\u001b[32mdbl\u001b[39m (21): ...1, DN_HistogramMode_5, DN_HistogramMode_10, CO_f1ecac, CO_Histo...\n",
      "\n",
      "\u001b[36mℹ\u001b[39m Use `spec()` to retrieve the full column specification for this data.\n",
      "\u001b[36mℹ\u001b[39m Specify the column types or set `show_col_types = FALSE` to quiet this message.\n"
     ]
    }
   ],
   "source": [
    "catch22_orig <- read_csv(\"Results/Clustering/KMeans/catch22_feat_df.csv\")[,-1]"
   ]
  },
  {
   "cell_type": "code",
   "execution_count": 25,
   "id": "8958fc95",
   "metadata": {},
   "outputs": [
    {
     "data": {
      "text/html": [
       "<table class=\"dataframe\">\n",
       "<caption>A tibble: 6 × 20</caption>\n",
       "<thead>\n",
       "\t<tr><th scope=col>DN_HistogramMode_5</th><th scope=col>DN_HistogramMode_10</th><th scope=col>CO_f1ecac</th><th scope=col>CO_HistogramAMI_even_2_5</th><th scope=col>CO_trev_1_num</th><th scope=col>MD_hrv_classic_pnn40</th><th scope=col>SB_BinaryStats_mean_longstretch1</th><th scope=col>SB_TransitionMatrix_3ac_sumdiagcov</th><th scope=col>CO_Embed2_Dist_tau_d_expfit_meandiff</th><th scope=col>IN_AutoMutualInfoStats_40_gaussian_fmmi</th><th scope=col>FC_LocalSimple_mean1_tauresrat</th><th scope=col>DN_OutlierInclude_p_001_mdrmd</th><th scope=col>DN_OutlierInclude_n_001_mdrmd</th><th scope=col>SP_Summaries_welch_rect_area_5_1</th><th scope=col>SB_BinaryStats_diff_longstretch0</th><th scope=col>SB_MotifThree_quantile_hh</th><th scope=col>SC_FluctAnal_2_rsrangefit_50_1_logi_prop_r1</th><th scope=col>SC_FluctAnal_2_dfa_50_1_2_logi_prop_r1</th><th scope=col>SP_Summaries_welch_rect_centroid</th><th scope=col>FC_LocalSimple_mean3_stderr</th></tr>\n",
       "\t<tr><th scope=col>&lt;dbl&gt;</th><th scope=col>&lt;dbl&gt;</th><th scope=col>&lt;dbl&gt;</th><th scope=col>&lt;dbl&gt;</th><th scope=col>&lt;dbl&gt;</th><th scope=col>&lt;dbl&gt;</th><th scope=col>&lt;dbl&gt;</th><th scope=col>&lt;dbl&gt;</th><th scope=col>&lt;dbl&gt;</th><th scope=col>&lt;dbl&gt;</th><th scope=col>&lt;dbl&gt;</th><th scope=col>&lt;dbl&gt;</th><th scope=col>&lt;dbl&gt;</th><th scope=col>&lt;dbl&gt;</th><th scope=col>&lt;dbl&gt;</th><th scope=col>&lt;dbl&gt;</th><th scope=col>&lt;dbl&gt;</th><th scope=col>&lt;dbl&gt;</th><th scope=col>&lt;dbl&gt;</th><th scope=col>&lt;dbl&gt;</th></tr>\n",
       "</thead>\n",
       "<tbody>\n",
       "\t<tr><td>-0.9218226</td><td>-1.148470</td><td>13.82386</td><td>0.7703660</td><td> 0.0023764235</td><td>0.7365581</td><td>55</td><td>0.007384888</td><td>0.6402525</td><td>20</td><td>0.36363636</td><td> 0.03218006</td><td>-0.024925595</td><td>0.9887043</td><td>15</td><td>1.472521</td><td>0.4081633</td><td>0.3265306</td><td>0.06596117</td><td>0.2699762</td></tr>\n",
       "\t<tr><td>-1.0160128</td><td>-1.230913</td><td>16.25543</td><td>0.7362338</td><td>-0.0015322646</td><td>0.7856744</td><td>61</td><td>0.023279508</td><td>0.5069481</td><td>22</td><td>0.04166667</td><td> 0.04389881</td><td>-0.001302083</td><td>0.9768737</td><td>15</td><td>1.515340</td><td>0.4489796</td><td>0.3469388</td><td>0.06519418</td><td>0.2904009</td></tr>\n",
       "\t<tr><td>-0.9109971</td><td>-1.118617</td><td>16.70035</td><td>0.7820858</td><td> 0.0021162446</td><td>0.7389767</td><td>60</td><td>0.007085068</td><td>0.3769874</td><td>22</td><td>0.04166667</td><td> 0.03218006</td><td>-0.021763393</td><td>0.9825842</td><td>20</td><td>1.526881</td><td>0.4285714</td><td>0.3673469</td><td>0.06519418</td><td>0.2591757</td></tr>\n",
       "\t<tr><td>-0.8799034</td><td>-1.093104</td><td>14.82659</td><td>0.7899539</td><td> 0.0028058063</td><td>0.6803721</td><td>55</td><td>0.002621771</td><td>0.4395587</td><td>21</td><td>0.43478261</td><td>-0.05747768</td><td> 0.007068452</td><td>0.9892416</td><td>18</td><td>1.430336</td><td>0.4285714</td><td>0.3469388</td><td>0.06596117</td><td>0.2620395</td></tr>\n",
       "\t<tr><td>-0.9038058</td><td>-1.100202</td><td>17.63207</td><td>0.8039572</td><td> 0.0041442076</td><td>0.6682791</td><td>54</td><td>0.003598341</td><td>0.5337112</td><td>23</td><td>0.52000000</td><td> 0.02027530</td><td>-0.017578125</td><td>0.9910389</td><td>22</td><td>1.417460</td><td>0.4285714</td><td>0.3469388</td><td>0.06519418</td><td>0.2157951</td></tr>\n",
       "\t<tr><td>-0.9946967</td><td>-1.207999</td><td>17.64684</td><td>0.8148260</td><td> 0.0003571444</td><td>0.7205581</td><td>64</td><td>0.004398774</td><td>0.6793088</td><td>23</td><td>0.04000000</td><td> 0.02994792</td><td>-0.022321429</td><td>0.9901210</td><td>18</td><td>1.428618</td><td>0.4285714</td><td>0.3469388</td><td>0.06519418</td><td>0.2194032</td></tr>\n",
       "</tbody>\n",
       "</table>\n"
      ],
      "text/latex": [
       "A tibble: 6 × 20\n",
       "\\begin{tabular}{llllllllllllllllllll}\n",
       " DN\\_HistogramMode\\_5 & DN\\_HistogramMode\\_10 & CO\\_f1ecac & CO\\_HistogramAMI\\_even\\_2\\_5 & CO\\_trev\\_1\\_num & MD\\_hrv\\_classic\\_pnn40 & SB\\_BinaryStats\\_mean\\_longstretch1 & SB\\_TransitionMatrix\\_3ac\\_sumdiagcov & CO\\_Embed2\\_Dist\\_tau\\_d\\_expfit\\_meandiff & IN\\_AutoMutualInfoStats\\_40\\_gaussian\\_fmmi & FC\\_LocalSimple\\_mean1\\_tauresrat & DN\\_OutlierInclude\\_p\\_001\\_mdrmd & DN\\_OutlierInclude\\_n\\_001\\_mdrmd & SP\\_Summaries\\_welch\\_rect\\_area\\_5\\_1 & SB\\_BinaryStats\\_diff\\_longstretch0 & SB\\_MotifThree\\_quantile\\_hh & SC\\_FluctAnal\\_2\\_rsrangefit\\_50\\_1\\_logi\\_prop\\_r1 & SC\\_FluctAnal\\_2\\_dfa\\_50\\_1\\_2\\_logi\\_prop\\_r1 & SP\\_Summaries\\_welch\\_rect\\_centroid & FC\\_LocalSimple\\_mean3\\_stderr\\\\\n",
       " <dbl> & <dbl> & <dbl> & <dbl> & <dbl> & <dbl> & <dbl> & <dbl> & <dbl> & <dbl> & <dbl> & <dbl> & <dbl> & <dbl> & <dbl> & <dbl> & <dbl> & <dbl> & <dbl> & <dbl>\\\\\n",
       "\\hline\n",
       "\t -0.9218226 & -1.148470 & 13.82386 & 0.7703660 &  0.0023764235 & 0.7365581 & 55 & 0.007384888 & 0.6402525 & 20 & 0.36363636 &  0.03218006 & -0.024925595 & 0.9887043 & 15 & 1.472521 & 0.4081633 & 0.3265306 & 0.06596117 & 0.2699762\\\\\n",
       "\t -1.0160128 & -1.230913 & 16.25543 & 0.7362338 & -0.0015322646 & 0.7856744 & 61 & 0.023279508 & 0.5069481 & 22 & 0.04166667 &  0.04389881 & -0.001302083 & 0.9768737 & 15 & 1.515340 & 0.4489796 & 0.3469388 & 0.06519418 & 0.2904009\\\\\n",
       "\t -0.9109971 & -1.118617 & 16.70035 & 0.7820858 &  0.0021162446 & 0.7389767 & 60 & 0.007085068 & 0.3769874 & 22 & 0.04166667 &  0.03218006 & -0.021763393 & 0.9825842 & 20 & 1.526881 & 0.4285714 & 0.3673469 & 0.06519418 & 0.2591757\\\\\n",
       "\t -0.8799034 & -1.093104 & 14.82659 & 0.7899539 &  0.0028058063 & 0.6803721 & 55 & 0.002621771 & 0.4395587 & 21 & 0.43478261 & -0.05747768 &  0.007068452 & 0.9892416 & 18 & 1.430336 & 0.4285714 & 0.3469388 & 0.06596117 & 0.2620395\\\\\n",
       "\t -0.9038058 & -1.100202 & 17.63207 & 0.8039572 &  0.0041442076 & 0.6682791 & 54 & 0.003598341 & 0.5337112 & 23 & 0.52000000 &  0.02027530 & -0.017578125 & 0.9910389 & 22 & 1.417460 & 0.4285714 & 0.3469388 & 0.06519418 & 0.2157951\\\\\n",
       "\t -0.9946967 & -1.207999 & 17.64684 & 0.8148260 &  0.0003571444 & 0.7205581 & 64 & 0.004398774 & 0.6793088 & 23 & 0.04000000 &  0.02994792 & -0.022321429 & 0.9901210 & 18 & 1.428618 & 0.4285714 & 0.3469388 & 0.06519418 & 0.2194032\\\\\n",
       "\\end{tabular}\n"
      ],
      "text/markdown": [
       "\n",
       "A tibble: 6 × 20\n",
       "\n",
       "| DN_HistogramMode_5 &lt;dbl&gt; | DN_HistogramMode_10 &lt;dbl&gt; | CO_f1ecac &lt;dbl&gt; | CO_HistogramAMI_even_2_5 &lt;dbl&gt; | CO_trev_1_num &lt;dbl&gt; | MD_hrv_classic_pnn40 &lt;dbl&gt; | SB_BinaryStats_mean_longstretch1 &lt;dbl&gt; | SB_TransitionMatrix_3ac_sumdiagcov &lt;dbl&gt; | CO_Embed2_Dist_tau_d_expfit_meandiff &lt;dbl&gt; | IN_AutoMutualInfoStats_40_gaussian_fmmi &lt;dbl&gt; | FC_LocalSimple_mean1_tauresrat &lt;dbl&gt; | DN_OutlierInclude_p_001_mdrmd &lt;dbl&gt; | DN_OutlierInclude_n_001_mdrmd &lt;dbl&gt; | SP_Summaries_welch_rect_area_5_1 &lt;dbl&gt; | SB_BinaryStats_diff_longstretch0 &lt;dbl&gt; | SB_MotifThree_quantile_hh &lt;dbl&gt; | SC_FluctAnal_2_rsrangefit_50_1_logi_prop_r1 &lt;dbl&gt; | SC_FluctAnal_2_dfa_50_1_2_logi_prop_r1 &lt;dbl&gt; | SP_Summaries_welch_rect_centroid &lt;dbl&gt; | FC_LocalSimple_mean3_stderr &lt;dbl&gt; |\n",
       "|---|---|---|---|---|---|---|---|---|---|---|---|---|---|---|---|---|---|---|---|\n",
       "| -0.9218226 | -1.148470 | 13.82386 | 0.7703660 |  0.0023764235 | 0.7365581 | 55 | 0.007384888 | 0.6402525 | 20 | 0.36363636 |  0.03218006 | -0.024925595 | 0.9887043 | 15 | 1.472521 | 0.4081633 | 0.3265306 | 0.06596117 | 0.2699762 |\n",
       "| -1.0160128 | -1.230913 | 16.25543 | 0.7362338 | -0.0015322646 | 0.7856744 | 61 | 0.023279508 | 0.5069481 | 22 | 0.04166667 |  0.04389881 | -0.001302083 | 0.9768737 | 15 | 1.515340 | 0.4489796 | 0.3469388 | 0.06519418 | 0.2904009 |\n",
       "| -0.9109971 | -1.118617 | 16.70035 | 0.7820858 |  0.0021162446 | 0.7389767 | 60 | 0.007085068 | 0.3769874 | 22 | 0.04166667 |  0.03218006 | -0.021763393 | 0.9825842 | 20 | 1.526881 | 0.4285714 | 0.3673469 | 0.06519418 | 0.2591757 |\n",
       "| -0.8799034 | -1.093104 | 14.82659 | 0.7899539 |  0.0028058063 | 0.6803721 | 55 | 0.002621771 | 0.4395587 | 21 | 0.43478261 | -0.05747768 |  0.007068452 | 0.9892416 | 18 | 1.430336 | 0.4285714 | 0.3469388 | 0.06596117 | 0.2620395 |\n",
       "| -0.9038058 | -1.100202 | 17.63207 | 0.8039572 |  0.0041442076 | 0.6682791 | 54 | 0.003598341 | 0.5337112 | 23 | 0.52000000 |  0.02027530 | -0.017578125 | 0.9910389 | 22 | 1.417460 | 0.4285714 | 0.3469388 | 0.06519418 | 0.2157951 |\n",
       "| -0.9946967 | -1.207999 | 17.64684 | 0.8148260 |  0.0003571444 | 0.7205581 | 64 | 0.004398774 | 0.6793088 | 23 | 0.04000000 |  0.02994792 | -0.022321429 | 0.9901210 | 18 | 1.428618 | 0.4285714 | 0.3469388 | 0.06519418 | 0.2194032 |\n",
       "\n"
      ],
      "text/plain": [
       "  DN_HistogramMode_5 DN_HistogramMode_10 CO_f1ecac CO_HistogramAMI_even_2_5\n",
       "1 -0.9218226         -1.148470           13.82386  0.7703660               \n",
       "2 -1.0160128         -1.230913           16.25543  0.7362338               \n",
       "3 -0.9109971         -1.118617           16.70035  0.7820858               \n",
       "4 -0.8799034         -1.093104           14.82659  0.7899539               \n",
       "5 -0.9038058         -1.100202           17.63207  0.8039572               \n",
       "6 -0.9946967         -1.207999           17.64684  0.8148260               \n",
       "  CO_trev_1_num MD_hrv_classic_pnn40 SB_BinaryStats_mean_longstretch1\n",
       "1  0.0023764235 0.7365581            55                              \n",
       "2 -0.0015322646 0.7856744            61                              \n",
       "3  0.0021162446 0.7389767            60                              \n",
       "4  0.0028058063 0.6803721            55                              \n",
       "5  0.0041442076 0.6682791            54                              \n",
       "6  0.0003571444 0.7205581            64                              \n",
       "  SB_TransitionMatrix_3ac_sumdiagcov CO_Embed2_Dist_tau_d_expfit_meandiff\n",
       "1 0.007384888                        0.6402525                           \n",
       "2 0.023279508                        0.5069481                           \n",
       "3 0.007085068                        0.3769874                           \n",
       "4 0.002621771                        0.4395587                           \n",
       "5 0.003598341                        0.5337112                           \n",
       "6 0.004398774                        0.6793088                           \n",
       "  IN_AutoMutualInfoStats_40_gaussian_fmmi FC_LocalSimple_mean1_tauresrat\n",
       "1 20                                      0.36363636                    \n",
       "2 22                                      0.04166667                    \n",
       "3 22                                      0.04166667                    \n",
       "4 21                                      0.43478261                    \n",
       "5 23                                      0.52000000                    \n",
       "6 23                                      0.04000000                    \n",
       "  DN_OutlierInclude_p_001_mdrmd DN_OutlierInclude_n_001_mdrmd\n",
       "1  0.03218006                   -0.024925595                 \n",
       "2  0.04389881                   -0.001302083                 \n",
       "3  0.03218006                   -0.021763393                 \n",
       "4 -0.05747768                    0.007068452                 \n",
       "5  0.02027530                   -0.017578125                 \n",
       "6  0.02994792                   -0.022321429                 \n",
       "  SP_Summaries_welch_rect_area_5_1 SB_BinaryStats_diff_longstretch0\n",
       "1 0.9887043                        15                              \n",
       "2 0.9768737                        15                              \n",
       "3 0.9825842                        20                              \n",
       "4 0.9892416                        18                              \n",
       "5 0.9910389                        22                              \n",
       "6 0.9901210                        18                              \n",
       "  SB_MotifThree_quantile_hh SC_FluctAnal_2_rsrangefit_50_1_logi_prop_r1\n",
       "1 1.472521                  0.4081633                                  \n",
       "2 1.515340                  0.4489796                                  \n",
       "3 1.526881                  0.4285714                                  \n",
       "4 1.430336                  0.4285714                                  \n",
       "5 1.417460                  0.4285714                                  \n",
       "6 1.428618                  0.4285714                                  \n",
       "  SC_FluctAnal_2_dfa_50_1_2_logi_prop_r1 SP_Summaries_welch_rect_centroid\n",
       "1 0.3265306                              0.06596117                      \n",
       "2 0.3469388                              0.06519418                      \n",
       "3 0.3673469                              0.06519418                      \n",
       "4 0.3469388                              0.06596117                      \n",
       "5 0.3469388                              0.06519418                      \n",
       "6 0.3469388                              0.06519418                      \n",
       "  FC_LocalSimple_mean3_stderr\n",
       "1 0.2699762                  \n",
       "2 0.2904009                  \n",
       "3 0.2591757                  \n",
       "4 0.2620395                  \n",
       "5 0.2157951                  \n",
       "6 0.2194032                  "
      ]
     },
     "metadata": {},
     "output_type": "display_data"
    }
   ],
   "source": [
    "head(catch22_orig)"
   ]
  },
  {
   "cell_type": "markdown",
   "id": "66e46fc7",
   "metadata": {},
   "source": [
    "### Scale New Data with Original Scaler Values"
   ]
  },
  {
   "cell_type": "code",
   "execution_count": 26,
   "id": "7f446973",
   "metadata": {},
   "outputs": [],
   "source": [
    "train_catch22_feat_df_scaled <- train_catch22_feat_df"
   ]
  },
  {
   "cell_type": "code",
   "execution_count": 27,
   "id": "0c7a9c69",
   "metadata": {},
   "outputs": [],
   "source": [
    "for (n in 1:ncol(train_catch22_feat_df_scaled)){\n",
    "    min_n <- min(catch22_orig[,n])\n",
    "    max_n <- max(catch22_orig[,n])\n",
    "    train_catch22_feat_df_scaled[,n] <- (train_catch22_feat_df_scaled[,n] - min_n)/(max_n - min_n)\n",
    "}"
   ]
  },
  {
   "cell_type": "code",
   "execution_count": 28,
   "id": "d7dd4a53",
   "metadata": {},
   "outputs": [
    {
     "name": "stderr",
     "output_type": "stream",
     "text": [
      "Warning message:\n",
      "“Setting row names on a tibble is deprecated.”\n"
     ]
    }
   ],
   "source": [
    "row.names(train_catch22_feat_df_scaled) <- c(\"Obs1\", \"Obs2\", \"Obs3\", \"Obs4\")"
   ]
  },
  {
   "cell_type": "code",
   "execution_count": 29,
   "id": "dd13e83a",
   "metadata": {},
   "outputs": [
    {
     "data": {
      "text/html": [
       "<table class=\"dataframe\">\n",
       "<caption>A tibble: 4 × 20</caption>\n",
       "<thead>\n",
       "\t<tr><th></th><th scope=col>DN_HistogramMode_5</th><th scope=col>DN_HistogramMode_10</th><th scope=col>CO_f1ecac</th><th scope=col>CO_HistogramAMI_even_2_5</th><th scope=col>CO_trev_1_num</th><th scope=col>MD_hrv_classic_pnn40</th><th scope=col>SB_BinaryStats_mean_longstretch1</th><th scope=col>SB_TransitionMatrix_3ac_sumdiagcov</th><th scope=col>CO_Embed2_Dist_tau_d_expfit_meandiff</th><th scope=col>IN_AutoMutualInfoStats_40_gaussian_fmmi</th><th scope=col>FC_LocalSimple_mean1_tauresrat</th><th scope=col>DN_OutlierInclude_p_001_mdrmd</th><th scope=col>DN_OutlierInclude_n_001_mdrmd</th><th scope=col>SP_Summaries_welch_rect_area_5_1</th><th scope=col>SB_BinaryStats_diff_longstretch0</th><th scope=col>SB_MotifThree_quantile_hh</th><th scope=col>SC_FluctAnal_2_rsrangefit_50_1_logi_prop_r1</th><th scope=col>SC_FluctAnal_2_dfa_50_1_2_logi_prop_r1</th><th scope=col>SP_Summaries_welch_rect_centroid</th><th scope=col>FC_LocalSimple_mean3_stderr</th></tr>\n",
       "\t<tr><th></th><th scope=col>&lt;dbl&gt;</th><th scope=col>&lt;dbl&gt;</th><th scope=col>&lt;dbl&gt;</th><th scope=col>&lt;dbl&gt;</th><th scope=col>&lt;dbl&gt;</th><th scope=col>&lt;dbl&gt;</th><th scope=col>&lt;dbl&gt;</th><th scope=col>&lt;dbl&gt;</th><th scope=col>&lt;dbl&gt;</th><th scope=col>&lt;dbl&gt;</th><th scope=col>&lt;dbl&gt;</th><th scope=col>&lt;dbl&gt;</th><th scope=col>&lt;dbl&gt;</th><th scope=col>&lt;dbl&gt;</th><th scope=col>&lt;dbl&gt;</th><th scope=col>&lt;dbl&gt;</th><th scope=col>&lt;dbl&gt;</th><th scope=col>&lt;dbl&gt;</th><th scope=col>&lt;dbl&gt;</th><th scope=col>&lt;dbl&gt;</th></tr>\n",
       "</thead>\n",
       "<tbody>\n",
       "\t<tr><th scope=row>Obs1</th><td> 0.1844253358</td><td>0.19055719</td><td>0.6403775</td><td>0.6711171</td><td>0.6641338</td><td>0.4118635</td><td>0.6976744</td><td>0.3677587</td><td>0.2542529</td><td>0.7692308</td><td>0.009174312</td><td>0.3569695</td><td>0.5564663</td><td>0.9421265</td><td>0.4761905</td><td>0.2517340</td><td>0.625</td><td>0.8333333</td><td>6.386055e-16</td><td>0.1979918</td></tr>\n",
       "\t<tr><th scope=row>Obs2</th><td> 0.0901531502</td><td>0.12782326</td><td>0.9095301</td><td>0.8123209</td><td>0.8695996</td><td>0.5422496</td><td>0.7674419</td><td>0.1980535</td><td>0.2239404</td><td>0.7692308</td><td>0.005871560</td><td>0.4100208</td><td>0.6293260</td><td>0.7775925</td><td>0.3809524</td><td>0.4649984</td><td>0.625</td><td>0.8333333</td><td>6.386055e-16</td><td>0.2669864</td></tr>\n",
       "\t<tr><th scope=row>Obs3</th><td>-0.0008281171</td><td>0.04138353</td><td>0.3744273</td><td>0.8628041</td><td>0.8010944</td><td>0.4549524</td><td>0.8139535</td><td>0.2280358</td><td>0.4682397</td><td>0.3846154</td><td>0.969579913</td><td>0.4067268</td><td>0.6411658</td><td>0.9048058</td><td>0.4285714</td><td>0.1331794</td><td>0.500</td><td>0.6666667</td><td>1.176471e-02</td><td>0.3576165</td></tr>\n",
       "\t<tr><th scope=row>Obs4</th><td> 0.0319268339</td><td>0.08124335</td><td>0.6638783</td><td>0.9583019</td><td>0.7645655</td><td>0.1919418</td><td>0.7209302</td><td>0.7893383</td><td>0.5539886</td><td>0.6923077</td><td>0.752293578</td><td>0.3258495</td><td>0.6448087</td><td>0.9569228</td><td>0.7619048</td><td>0.1240721</td><td>0.625</td><td>0.8333333</td><td>6.386055e-16</td><td>0.1643201</td></tr>\n",
       "</tbody>\n",
       "</table>\n"
      ],
      "text/latex": [
       "A tibble: 4 × 20\n",
       "\\begin{tabular}{r|llllllllllllllllllll}\n",
       "  & DN\\_HistogramMode\\_5 & DN\\_HistogramMode\\_10 & CO\\_f1ecac & CO\\_HistogramAMI\\_even\\_2\\_5 & CO\\_trev\\_1\\_num & MD\\_hrv\\_classic\\_pnn40 & SB\\_BinaryStats\\_mean\\_longstretch1 & SB\\_TransitionMatrix\\_3ac\\_sumdiagcov & CO\\_Embed2\\_Dist\\_tau\\_d\\_expfit\\_meandiff & IN\\_AutoMutualInfoStats\\_40\\_gaussian\\_fmmi & FC\\_LocalSimple\\_mean1\\_tauresrat & DN\\_OutlierInclude\\_p\\_001\\_mdrmd & DN\\_OutlierInclude\\_n\\_001\\_mdrmd & SP\\_Summaries\\_welch\\_rect\\_area\\_5\\_1 & SB\\_BinaryStats\\_diff\\_longstretch0 & SB\\_MotifThree\\_quantile\\_hh & SC\\_FluctAnal\\_2\\_rsrangefit\\_50\\_1\\_logi\\_prop\\_r1 & SC\\_FluctAnal\\_2\\_dfa\\_50\\_1\\_2\\_logi\\_prop\\_r1 & SP\\_Summaries\\_welch\\_rect\\_centroid & FC\\_LocalSimple\\_mean3\\_stderr\\\\\n",
       "  & <dbl> & <dbl> & <dbl> & <dbl> & <dbl> & <dbl> & <dbl> & <dbl> & <dbl> & <dbl> & <dbl> & <dbl> & <dbl> & <dbl> & <dbl> & <dbl> & <dbl> & <dbl> & <dbl> & <dbl>\\\\\n",
       "\\hline\n",
       "\tObs1 &  0.1844253358 & 0.19055719 & 0.6403775 & 0.6711171 & 0.6641338 & 0.4118635 & 0.6976744 & 0.3677587 & 0.2542529 & 0.7692308 & 0.009174312 & 0.3569695 & 0.5564663 & 0.9421265 & 0.4761905 & 0.2517340 & 0.625 & 0.8333333 & 6.386055e-16 & 0.1979918\\\\\n",
       "\tObs2 &  0.0901531502 & 0.12782326 & 0.9095301 & 0.8123209 & 0.8695996 & 0.5422496 & 0.7674419 & 0.1980535 & 0.2239404 & 0.7692308 & 0.005871560 & 0.4100208 & 0.6293260 & 0.7775925 & 0.3809524 & 0.4649984 & 0.625 & 0.8333333 & 6.386055e-16 & 0.2669864\\\\\n",
       "\tObs3 & -0.0008281171 & 0.04138353 & 0.3744273 & 0.8628041 & 0.8010944 & 0.4549524 & 0.8139535 & 0.2280358 & 0.4682397 & 0.3846154 & 0.969579913 & 0.4067268 & 0.6411658 & 0.9048058 & 0.4285714 & 0.1331794 & 0.500 & 0.6666667 & 1.176471e-02 & 0.3576165\\\\\n",
       "\tObs4 &  0.0319268339 & 0.08124335 & 0.6638783 & 0.9583019 & 0.7645655 & 0.1919418 & 0.7209302 & 0.7893383 & 0.5539886 & 0.6923077 & 0.752293578 & 0.3258495 & 0.6448087 & 0.9569228 & 0.7619048 & 0.1240721 & 0.625 & 0.8333333 & 6.386055e-16 & 0.1643201\\\\\n",
       "\\end{tabular}\n"
      ],
      "text/markdown": [
       "\n",
       "A tibble: 4 × 20\n",
       "\n",
       "| <!--/--> | DN_HistogramMode_5 &lt;dbl&gt; | DN_HistogramMode_10 &lt;dbl&gt; | CO_f1ecac &lt;dbl&gt; | CO_HistogramAMI_even_2_5 &lt;dbl&gt; | CO_trev_1_num &lt;dbl&gt; | MD_hrv_classic_pnn40 &lt;dbl&gt; | SB_BinaryStats_mean_longstretch1 &lt;dbl&gt; | SB_TransitionMatrix_3ac_sumdiagcov &lt;dbl&gt; | CO_Embed2_Dist_tau_d_expfit_meandiff &lt;dbl&gt; | IN_AutoMutualInfoStats_40_gaussian_fmmi &lt;dbl&gt; | FC_LocalSimple_mean1_tauresrat &lt;dbl&gt; | DN_OutlierInclude_p_001_mdrmd &lt;dbl&gt; | DN_OutlierInclude_n_001_mdrmd &lt;dbl&gt; | SP_Summaries_welch_rect_area_5_1 &lt;dbl&gt; | SB_BinaryStats_diff_longstretch0 &lt;dbl&gt; | SB_MotifThree_quantile_hh &lt;dbl&gt; | SC_FluctAnal_2_rsrangefit_50_1_logi_prop_r1 &lt;dbl&gt; | SC_FluctAnal_2_dfa_50_1_2_logi_prop_r1 &lt;dbl&gt; | SP_Summaries_welch_rect_centroid &lt;dbl&gt; | FC_LocalSimple_mean3_stderr &lt;dbl&gt; |\n",
       "|---|---|---|---|---|---|---|---|---|---|---|---|---|---|---|---|---|---|---|---|---|\n",
       "| Obs1 |  0.1844253358 | 0.19055719 | 0.6403775 | 0.6711171 | 0.6641338 | 0.4118635 | 0.6976744 | 0.3677587 | 0.2542529 | 0.7692308 | 0.009174312 | 0.3569695 | 0.5564663 | 0.9421265 | 0.4761905 | 0.2517340 | 0.625 | 0.8333333 | 6.386055e-16 | 0.1979918 |\n",
       "| Obs2 |  0.0901531502 | 0.12782326 | 0.9095301 | 0.8123209 | 0.8695996 | 0.5422496 | 0.7674419 | 0.1980535 | 0.2239404 | 0.7692308 | 0.005871560 | 0.4100208 | 0.6293260 | 0.7775925 | 0.3809524 | 0.4649984 | 0.625 | 0.8333333 | 6.386055e-16 | 0.2669864 |\n",
       "| Obs3 | -0.0008281171 | 0.04138353 | 0.3744273 | 0.8628041 | 0.8010944 | 0.4549524 | 0.8139535 | 0.2280358 | 0.4682397 | 0.3846154 | 0.969579913 | 0.4067268 | 0.6411658 | 0.9048058 | 0.4285714 | 0.1331794 | 0.500 | 0.6666667 | 1.176471e-02 | 0.3576165 |\n",
       "| Obs4 |  0.0319268339 | 0.08124335 | 0.6638783 | 0.9583019 | 0.7645655 | 0.1919418 | 0.7209302 | 0.7893383 | 0.5539886 | 0.6923077 | 0.752293578 | 0.3258495 | 0.6448087 | 0.9569228 | 0.7619048 | 0.1240721 | 0.625 | 0.8333333 | 6.386055e-16 | 0.1643201 |\n",
       "\n"
      ],
      "text/plain": [
       "  DN_HistogramMode_5 DN_HistogramMode_10 CO_f1ecac CO_HistogramAMI_even_2_5\n",
       "1  0.1844253358      0.19055719          0.6403775 0.6711171               \n",
       "2  0.0901531502      0.12782326          0.9095301 0.8123209               \n",
       "3 -0.0008281171      0.04138353          0.3744273 0.8628041               \n",
       "4  0.0319268339      0.08124335          0.6638783 0.9583019               \n",
       "  CO_trev_1_num MD_hrv_classic_pnn40 SB_BinaryStats_mean_longstretch1\n",
       "1 0.6641338     0.4118635            0.6976744                       \n",
       "2 0.8695996     0.5422496            0.7674419                       \n",
       "3 0.8010944     0.4549524            0.8139535                       \n",
       "4 0.7645655     0.1919418            0.7209302                       \n",
       "  SB_TransitionMatrix_3ac_sumdiagcov CO_Embed2_Dist_tau_d_expfit_meandiff\n",
       "1 0.3677587                          0.2542529                           \n",
       "2 0.1980535                          0.2239404                           \n",
       "3 0.2280358                          0.4682397                           \n",
       "4 0.7893383                          0.5539886                           \n",
       "  IN_AutoMutualInfoStats_40_gaussian_fmmi FC_LocalSimple_mean1_tauresrat\n",
       "1 0.7692308                               0.009174312                   \n",
       "2 0.7692308                               0.005871560                   \n",
       "3 0.3846154                               0.969579913                   \n",
       "4 0.6923077                               0.752293578                   \n",
       "  DN_OutlierInclude_p_001_mdrmd DN_OutlierInclude_n_001_mdrmd\n",
       "1 0.3569695                     0.5564663                    \n",
       "2 0.4100208                     0.6293260                    \n",
       "3 0.4067268                     0.6411658                    \n",
       "4 0.3258495                     0.6448087                    \n",
       "  SP_Summaries_welch_rect_area_5_1 SB_BinaryStats_diff_longstretch0\n",
       "1 0.9421265                        0.4761905                       \n",
       "2 0.7775925                        0.3809524                       \n",
       "3 0.9048058                        0.4285714                       \n",
       "4 0.9569228                        0.7619048                       \n",
       "  SB_MotifThree_quantile_hh SC_FluctAnal_2_rsrangefit_50_1_logi_prop_r1\n",
       "1 0.2517340                 0.625                                      \n",
       "2 0.4649984                 0.625                                      \n",
       "3 0.1331794                 0.500                                      \n",
       "4 0.1240721                 0.625                                      \n",
       "  SC_FluctAnal_2_dfa_50_1_2_logi_prop_r1 SP_Summaries_welch_rect_centroid\n",
       "1 0.8333333                              6.386055e-16                    \n",
       "2 0.8333333                              6.386055e-16                    \n",
       "3 0.6666667                              1.176471e-02                    \n",
       "4 0.8333333                              6.386055e-16                    \n",
       "  FC_LocalSimple_mean3_stderr\n",
       "1 0.1979918                  \n",
       "2 0.2669864                  \n",
       "3 0.3576165                  \n",
       "4 0.1643201                  "
      ]
     },
     "metadata": {},
     "output_type": "display_data"
    }
   ],
   "source": [
    "train_catch22_feat_df_scaled"
   ]
  },
  {
   "cell_type": "markdown",
   "id": "3c4bdd17",
   "metadata": {},
   "source": [
    "## Load Original KMeans Cluster Assignments"
   ]
  },
  {
   "cell_type": "code",
   "execution_count": 30,
   "id": "04fbedde",
   "metadata": {},
   "outputs": [],
   "source": [
    "catch22_kmeans_orig <- readRDS(\"Results/Clustering/KMeans/kmeans_catch22.RData\")"
   ]
  },
  {
   "cell_type": "code",
   "execution_count": 31,
   "id": "d76e85d5",
   "metadata": {},
   "outputs": [
    {
     "data": {
      "text/plain": [
       "\n",
       " 1  2  3  4  5 \n",
       "37  3  4 20 12 "
      ]
     },
     "metadata": {},
     "output_type": "display_data"
    }
   ],
   "source": [
    "table(catch22_kmeans_orig$cluster)"
   ]
  },
  {
   "cell_type": "code",
   "execution_count": 32,
   "id": "775e036f",
   "metadata": {},
   "outputs": [],
   "source": [
    "catch22_kmeans_orig_cent <- catch22_kmeans_orig$centers\n",
    "row.names(catch22_kmeans_orig_cent) <- c(\"Cent1\", \"Cent2\", \"Cent3\", \"Cent4\", \"Cent5\")"
   ]
  },
  {
   "cell_type": "code",
   "execution_count": 33,
   "id": "0bb33066",
   "metadata": {},
   "outputs": [
    {
     "data": {
      "text/html": [
       "<table class=\"dataframe\">\n",
       "<caption>A matrix: 5 × 20 of type dbl</caption>\n",
       "<thead>\n",
       "\t<tr><th></th><th scope=col>DN_HistogramMode_5</th><th scope=col>DN_HistogramMode_10</th><th scope=col>CO_f1ecac</th><th scope=col>CO_HistogramAMI_even_2_5</th><th scope=col>CO_trev_1_num</th><th scope=col>MD_hrv_classic_pnn40</th><th scope=col>SB_BinaryStats_mean_longstretch1</th><th scope=col>SB_TransitionMatrix_3ac_sumdiagcov</th><th scope=col>CO_Embed2_Dist_tau_d_expfit_meandiff</th><th scope=col>IN_AutoMutualInfoStats_40_gaussian_fmmi</th><th scope=col>FC_LocalSimple_mean1_tauresrat</th><th scope=col>DN_OutlierInclude_p_001_mdrmd</th><th scope=col>DN_OutlierInclude_n_001_mdrmd</th><th scope=col>SP_Summaries_welch_rect_area_5_1</th><th scope=col>SB_BinaryStats_diff_longstretch0</th><th scope=col>SB_MotifThree_quantile_hh</th><th scope=col>SC_FluctAnal_2_rsrangefit_50_1_logi_prop_r1</th><th scope=col>SC_FluctAnal_2_dfa_50_1_2_logi_prop_r1</th><th scope=col>SP_Summaries_welch_rect_centroid</th><th scope=col>FC_LocalSimple_mean3_stderr</th></tr>\n",
       "</thead>\n",
       "<tbody>\n",
       "\t<tr><th scope=row>Cent1</th><td>0.1205032</td><td>0.1533184</td><td>0.72953216</td><td>0.7629098</td><td>0.6586230</td><td>0.4591116</td><td>0.7712131</td><td>0.3627919</td><td>0.32567876</td><td>0.7422037</td><td>0.008641279</td><td>0.3796412</td><td>0.5928346</td><td>0.8530092</td><td>0.37451737</td><td>0.2909256</td><td>0.5641892</td><td>0.6801802</td><td>0.002861685</td><td>0.2655470</td></tr>\n",
       "\t<tr><th scope=row>Cent2</th><td>0.4332344</td><td>0.4905539</td><td>0.06031402</td><td>0.2785821</td><td>0.6434783</td><td>0.2719642</td><td>0.2635659</td><td>0.2972055</td><td>0.40113183</td><td>0.1538462</td><td>0.686238532</td><td>0.3958622</td><td>0.5912265</td><td>0.9190752</td><td>0.36507937</td><td>0.3559023</td><td>0.2083333</td><td>0.4444444</td><td>0.674509804</td><td>0.5081063</td></tr>\n",
       "\t<tr><th scope=row>Cent3</th><td>0.2872680</td><td>0.2605563</td><td>0.76679408</td><td>0.1267128</td><td>0.4464170</td><td>0.7315333</td><td>0.7209302</td><td>0.2055811</td><td>0.08752028</td><td>0.8461538</td><td>0.005229358</td><td>0.4030210</td><td>0.4931694</td><td>0.2313457</td><td>0.05952381</td><td>0.7287692</td><td>0.7500000</td><td>0.7083333</td><td>0.005882353</td><td>0.8871061</td></tr>\n",
       "\t<tr><th scope=row>Cent4</th><td>0.1103231</td><td>0.1907726</td><td>0.57469973</td><td>0.8759798</td><td>0.6794695</td><td>0.2805260</td><td>0.7174419</td><td>0.2498391</td><td>0.52647008</td><td>0.6692308</td><td>0.650918384</td><td>0.3378944</td><td>0.6045537</td><td>0.9692444</td><td>0.53809524</td><td>0.1620051</td><td>0.5562500</td><td>0.7666667</td><td>0.007058824</td><td>0.1936715</td></tr>\n",
       "\t<tr><th scope=row>Cent5</th><td>0.8504611</td><td>0.4590276</td><td>0.61804173</td><td>0.7512288</td><td>0.6923811</td><td>0.5798359</td><td>0.8856589</td><td>0.1236231</td><td>0.22103202</td><td>0.6410256</td><td>0.081161009</td><td>0.3496446</td><td>0.5954766</td><td>0.7642556</td><td>0.44841270</td><td>0.4138313</td><td>0.4270833</td><td>0.5000000</td><td>0.008823529</td><td>0.4036425</td></tr>\n",
       "</tbody>\n",
       "</table>\n"
      ],
      "text/latex": [
       "A matrix: 5 × 20 of type dbl\n",
       "\\begin{tabular}{r|llllllllllllllllllll}\n",
       "  & DN\\_HistogramMode\\_5 & DN\\_HistogramMode\\_10 & CO\\_f1ecac & CO\\_HistogramAMI\\_even\\_2\\_5 & CO\\_trev\\_1\\_num & MD\\_hrv\\_classic\\_pnn40 & SB\\_BinaryStats\\_mean\\_longstretch1 & SB\\_TransitionMatrix\\_3ac\\_sumdiagcov & CO\\_Embed2\\_Dist\\_tau\\_d\\_expfit\\_meandiff & IN\\_AutoMutualInfoStats\\_40\\_gaussian\\_fmmi & FC\\_LocalSimple\\_mean1\\_tauresrat & DN\\_OutlierInclude\\_p\\_001\\_mdrmd & DN\\_OutlierInclude\\_n\\_001\\_mdrmd & SP\\_Summaries\\_welch\\_rect\\_area\\_5\\_1 & SB\\_BinaryStats\\_diff\\_longstretch0 & SB\\_MotifThree\\_quantile\\_hh & SC\\_FluctAnal\\_2\\_rsrangefit\\_50\\_1\\_logi\\_prop\\_r1 & SC\\_FluctAnal\\_2\\_dfa\\_50\\_1\\_2\\_logi\\_prop\\_r1 & SP\\_Summaries\\_welch\\_rect\\_centroid & FC\\_LocalSimple\\_mean3\\_stderr\\\\\n",
       "\\hline\n",
       "\tCent1 & 0.1205032 & 0.1533184 & 0.72953216 & 0.7629098 & 0.6586230 & 0.4591116 & 0.7712131 & 0.3627919 & 0.32567876 & 0.7422037 & 0.008641279 & 0.3796412 & 0.5928346 & 0.8530092 & 0.37451737 & 0.2909256 & 0.5641892 & 0.6801802 & 0.002861685 & 0.2655470\\\\\n",
       "\tCent2 & 0.4332344 & 0.4905539 & 0.06031402 & 0.2785821 & 0.6434783 & 0.2719642 & 0.2635659 & 0.2972055 & 0.40113183 & 0.1538462 & 0.686238532 & 0.3958622 & 0.5912265 & 0.9190752 & 0.36507937 & 0.3559023 & 0.2083333 & 0.4444444 & 0.674509804 & 0.5081063\\\\\n",
       "\tCent3 & 0.2872680 & 0.2605563 & 0.76679408 & 0.1267128 & 0.4464170 & 0.7315333 & 0.7209302 & 0.2055811 & 0.08752028 & 0.8461538 & 0.005229358 & 0.4030210 & 0.4931694 & 0.2313457 & 0.05952381 & 0.7287692 & 0.7500000 & 0.7083333 & 0.005882353 & 0.8871061\\\\\n",
       "\tCent4 & 0.1103231 & 0.1907726 & 0.57469973 & 0.8759798 & 0.6794695 & 0.2805260 & 0.7174419 & 0.2498391 & 0.52647008 & 0.6692308 & 0.650918384 & 0.3378944 & 0.6045537 & 0.9692444 & 0.53809524 & 0.1620051 & 0.5562500 & 0.7666667 & 0.007058824 & 0.1936715\\\\\n",
       "\tCent5 & 0.8504611 & 0.4590276 & 0.61804173 & 0.7512288 & 0.6923811 & 0.5798359 & 0.8856589 & 0.1236231 & 0.22103202 & 0.6410256 & 0.081161009 & 0.3496446 & 0.5954766 & 0.7642556 & 0.44841270 & 0.4138313 & 0.4270833 & 0.5000000 & 0.008823529 & 0.4036425\\\\\n",
       "\\end{tabular}\n"
      ],
      "text/markdown": [
       "\n",
       "A matrix: 5 × 20 of type dbl\n",
       "\n",
       "| <!--/--> | DN_HistogramMode_5 | DN_HistogramMode_10 | CO_f1ecac | CO_HistogramAMI_even_2_5 | CO_trev_1_num | MD_hrv_classic_pnn40 | SB_BinaryStats_mean_longstretch1 | SB_TransitionMatrix_3ac_sumdiagcov | CO_Embed2_Dist_tau_d_expfit_meandiff | IN_AutoMutualInfoStats_40_gaussian_fmmi | FC_LocalSimple_mean1_tauresrat | DN_OutlierInclude_p_001_mdrmd | DN_OutlierInclude_n_001_mdrmd | SP_Summaries_welch_rect_area_5_1 | SB_BinaryStats_diff_longstretch0 | SB_MotifThree_quantile_hh | SC_FluctAnal_2_rsrangefit_50_1_logi_prop_r1 | SC_FluctAnal_2_dfa_50_1_2_logi_prop_r1 | SP_Summaries_welch_rect_centroid | FC_LocalSimple_mean3_stderr |\n",
       "|---|---|---|---|---|---|---|---|---|---|---|---|---|---|---|---|---|---|---|---|---|\n",
       "| Cent1 | 0.1205032 | 0.1533184 | 0.72953216 | 0.7629098 | 0.6586230 | 0.4591116 | 0.7712131 | 0.3627919 | 0.32567876 | 0.7422037 | 0.008641279 | 0.3796412 | 0.5928346 | 0.8530092 | 0.37451737 | 0.2909256 | 0.5641892 | 0.6801802 | 0.002861685 | 0.2655470 |\n",
       "| Cent2 | 0.4332344 | 0.4905539 | 0.06031402 | 0.2785821 | 0.6434783 | 0.2719642 | 0.2635659 | 0.2972055 | 0.40113183 | 0.1538462 | 0.686238532 | 0.3958622 | 0.5912265 | 0.9190752 | 0.36507937 | 0.3559023 | 0.2083333 | 0.4444444 | 0.674509804 | 0.5081063 |\n",
       "| Cent3 | 0.2872680 | 0.2605563 | 0.76679408 | 0.1267128 | 0.4464170 | 0.7315333 | 0.7209302 | 0.2055811 | 0.08752028 | 0.8461538 | 0.005229358 | 0.4030210 | 0.4931694 | 0.2313457 | 0.05952381 | 0.7287692 | 0.7500000 | 0.7083333 | 0.005882353 | 0.8871061 |\n",
       "| Cent4 | 0.1103231 | 0.1907726 | 0.57469973 | 0.8759798 | 0.6794695 | 0.2805260 | 0.7174419 | 0.2498391 | 0.52647008 | 0.6692308 | 0.650918384 | 0.3378944 | 0.6045537 | 0.9692444 | 0.53809524 | 0.1620051 | 0.5562500 | 0.7666667 | 0.007058824 | 0.1936715 |\n",
       "| Cent5 | 0.8504611 | 0.4590276 | 0.61804173 | 0.7512288 | 0.6923811 | 0.5798359 | 0.8856589 | 0.1236231 | 0.22103202 | 0.6410256 | 0.081161009 | 0.3496446 | 0.5954766 | 0.7642556 | 0.44841270 | 0.4138313 | 0.4270833 | 0.5000000 | 0.008823529 | 0.4036425 |\n",
       "\n"
      ],
      "text/plain": [
       "      DN_HistogramMode_5 DN_HistogramMode_10 CO_f1ecac \n",
       "Cent1 0.1205032          0.1533184           0.72953216\n",
       "Cent2 0.4332344          0.4905539           0.06031402\n",
       "Cent3 0.2872680          0.2605563           0.76679408\n",
       "Cent4 0.1103231          0.1907726           0.57469973\n",
       "Cent5 0.8504611          0.4590276           0.61804173\n",
       "      CO_HistogramAMI_even_2_5 CO_trev_1_num MD_hrv_classic_pnn40\n",
       "Cent1 0.7629098                0.6586230     0.4591116           \n",
       "Cent2 0.2785821                0.6434783     0.2719642           \n",
       "Cent3 0.1267128                0.4464170     0.7315333           \n",
       "Cent4 0.8759798                0.6794695     0.2805260           \n",
       "Cent5 0.7512288                0.6923811     0.5798359           \n",
       "      SB_BinaryStats_mean_longstretch1 SB_TransitionMatrix_3ac_sumdiagcov\n",
       "Cent1 0.7712131                        0.3627919                         \n",
       "Cent2 0.2635659                        0.2972055                         \n",
       "Cent3 0.7209302                        0.2055811                         \n",
       "Cent4 0.7174419                        0.2498391                         \n",
       "Cent5 0.8856589                        0.1236231                         \n",
       "      CO_Embed2_Dist_tau_d_expfit_meandiff\n",
       "Cent1 0.32567876                          \n",
       "Cent2 0.40113183                          \n",
       "Cent3 0.08752028                          \n",
       "Cent4 0.52647008                          \n",
       "Cent5 0.22103202                          \n",
       "      IN_AutoMutualInfoStats_40_gaussian_fmmi FC_LocalSimple_mean1_tauresrat\n",
       "Cent1 0.7422037                               0.008641279                   \n",
       "Cent2 0.1538462                               0.686238532                   \n",
       "Cent3 0.8461538                               0.005229358                   \n",
       "Cent4 0.6692308                               0.650918384                   \n",
       "Cent5 0.6410256                               0.081161009                   \n",
       "      DN_OutlierInclude_p_001_mdrmd DN_OutlierInclude_n_001_mdrmd\n",
       "Cent1 0.3796412                     0.5928346                    \n",
       "Cent2 0.3958622                     0.5912265                    \n",
       "Cent3 0.4030210                     0.4931694                    \n",
       "Cent4 0.3378944                     0.6045537                    \n",
       "Cent5 0.3496446                     0.5954766                    \n",
       "      SP_Summaries_welch_rect_area_5_1 SB_BinaryStats_diff_longstretch0\n",
       "Cent1 0.8530092                        0.37451737                      \n",
       "Cent2 0.9190752                        0.36507937                      \n",
       "Cent3 0.2313457                        0.05952381                      \n",
       "Cent4 0.9692444                        0.53809524                      \n",
       "Cent5 0.7642556                        0.44841270                      \n",
       "      SB_MotifThree_quantile_hh SC_FluctAnal_2_rsrangefit_50_1_logi_prop_r1\n",
       "Cent1 0.2909256                 0.5641892                                  \n",
       "Cent2 0.3559023                 0.2083333                                  \n",
       "Cent3 0.7287692                 0.7500000                                  \n",
       "Cent4 0.1620051                 0.5562500                                  \n",
       "Cent5 0.4138313                 0.4270833                                  \n",
       "      SC_FluctAnal_2_dfa_50_1_2_logi_prop_r1 SP_Summaries_welch_rect_centroid\n",
       "Cent1 0.6801802                              0.002861685                     \n",
       "Cent2 0.4444444                              0.674509804                     \n",
       "Cent3 0.7083333                              0.005882353                     \n",
       "Cent4 0.7666667                              0.007058824                     \n",
       "Cent5 0.5000000                              0.008823529                     \n",
       "      FC_LocalSimple_mean3_stderr\n",
       "Cent1 0.2655470                  \n",
       "Cent2 0.5081063                  \n",
       "Cent3 0.8871061                  \n",
       "Cent4 0.1936715                  \n",
       "Cent5 0.4036425                  "
      ]
     },
     "metadata": {},
     "output_type": "display_data"
    }
   ],
   "source": [
    "catch22_kmeans_orig_cent"
   ]
  },
  {
   "cell_type": "code",
   "execution_count": 34,
   "id": "120c5470",
   "metadata": {},
   "outputs": [
    {
     "data": {
      "text/html": [
       "<table class=\"dataframe\">\n",
       "<caption>A matrix: 4 × 5 of type dbl</caption>\n",
       "<thead>\n",
       "\t<tr><th></th><th scope=col>Cent1</th><th scope=col>Cent2</th><th scope=col>Cent3</th><th scope=col>Cent4</th><th scope=col>Cent5</th></tr>\n",
       "</thead>\n",
       "<tbody>\n",
       "\t<tr><th scope=row>Obs1</th><td>0.2979139</td><td>1.617716</td><td>1.398811</td><td>0.7771913</td><td>0.9603046</td></tr>\n",
       "\t<tr><th scope=row>Obs2</th><td>0.4376365</td><td>1.840651</td><td>1.301638</td><td>0.9600075</td><td>1.0159148</td></tr>\n",
       "\t<tr><th scope=row>Obs3</th><td>1.1496276</td><td>1.409613</td><td>1.907151</td><td>0.6156497</td><td>1.4387502</td></tr>\n",
       "\t<tr><th scope=row>Obs4</th><td>1.0779367</td><td>1.750264</td><td>2.073672</td><td>0.6435282</td><td>1.5740351</td></tr>\n",
       "</tbody>\n",
       "</table>\n"
      ],
      "text/latex": [
       "A matrix: 4 × 5 of type dbl\n",
       "\\begin{tabular}{r|lllll}\n",
       "  & Cent1 & Cent2 & Cent3 & Cent4 & Cent5\\\\\n",
       "\\hline\n",
       "\tObs1 & 0.2979139 & 1.617716 & 1.398811 & 0.7771913 & 0.9603046\\\\\n",
       "\tObs2 & 0.4376365 & 1.840651 & 1.301638 & 0.9600075 & 1.0159148\\\\\n",
       "\tObs3 & 1.1496276 & 1.409613 & 1.907151 & 0.6156497 & 1.4387502\\\\\n",
       "\tObs4 & 1.0779367 & 1.750264 & 2.073672 & 0.6435282 & 1.5740351\\\\\n",
       "\\end{tabular}\n"
      ],
      "text/markdown": [
       "\n",
       "A matrix: 4 × 5 of type dbl\n",
       "\n",
       "| <!--/--> | Cent1 | Cent2 | Cent3 | Cent4 | Cent5 |\n",
       "|---|---|---|---|---|---|\n",
       "| Obs1 | 0.2979139 | 1.617716 | 1.398811 | 0.7771913 | 0.9603046 |\n",
       "| Obs2 | 0.4376365 | 1.840651 | 1.301638 | 0.9600075 | 1.0159148 |\n",
       "| Obs3 | 1.1496276 | 1.409613 | 1.907151 | 0.6156497 | 1.4387502 |\n",
       "| Obs4 | 1.0779367 | 1.750264 | 2.073672 | 0.6435282 | 1.5740351 |\n",
       "\n"
      ],
      "text/plain": [
       "     Cent1     Cent2    Cent3    Cent4     Cent5    \n",
       "Obs1 0.2979139 1.617716 1.398811 0.7771913 0.9603046\n",
       "Obs2 0.4376365 1.840651 1.301638 0.9600075 1.0159148\n",
       "Obs3 1.1496276 1.409613 1.907151 0.6156497 1.4387502\n",
       "Obs4 1.0779367 1.750264 2.073672 0.6435282 1.5740351"
      ]
     },
     "metadata": {},
     "output_type": "display_data"
    }
   ],
   "source": [
    "as.matrix(dist(rbind(catch22_kmeans_orig_cent, train_catch22_feat_df_scaled)))[6:9, 1:5]"
   ]
  },
  {
   "cell_type": "code",
   "execution_count": 35,
   "id": "33a4c9d6",
   "metadata": {},
   "outputs": [],
   "source": [
    "catch22_clust_assign <- c(1, 1, 4, 4)"
   ]
  },
  {
   "cell_type": "markdown",
   "id": "0ec8fdc7",
   "metadata": {},
   "source": [
    "# TSFeat Based Feature Computation"
   ]
  },
  {
   "cell_type": "code",
   "execution_count": 36,
   "id": "fb6329aa",
   "metadata": {},
   "outputs": [],
   "source": [
    "# Compute basic set of tsfeatures - \n",
    "# Set scale to FALSE as to not scale the time series before computing the features\n",
    "ts_feat_list <- tsfeatures(train_samples_ts, scale=FALSE)"
   ]
  },
  {
   "cell_type": "code",
   "execution_count": 37,
   "id": "ce089c65",
   "metadata": {},
   "outputs": [
    {
     "data": {
      "text/html": [
       "<table class=\"dataframe\">\n",
       "<caption>A tibble: 4 × 24</caption>\n",
       "<thead>\n",
       "\t<tr><th scope=col>frequency</th><th scope=col>nperiods</th><th scope=col>seasonal_period1</th><th scope=col>seasonal_period2</th><th scope=col>trend</th><th scope=col>spike</th><th scope=col>linearity</th><th scope=col>curvature</th><th scope=col>e_acf1</th><th scope=col>e_acf10</th><th scope=col>⋯</th><th scope=col>trough1</th><th scope=col>trough2</th><th scope=col>entropy</th><th scope=col>x_acf1</th><th scope=col>x_acf10</th><th scope=col>diff1_acf1</th><th scope=col>diff1_acf10</th><th scope=col>diff2_acf1</th><th scope=col>diff2_acf10</th><th scope=col>seas_acf1</th></tr>\n",
       "\t<tr><th scope=col>&lt;dbl&gt;</th><th scope=col>&lt;dbl&gt;</th><th scope=col>&lt;dbl&gt;</th><th scope=col>&lt;dbl&gt;</th><th scope=col>&lt;dbl&gt;</th><th scope=col>&lt;dbl&gt;</th><th scope=col>&lt;dbl&gt;</th><th scope=col>&lt;dbl&gt;</th><th scope=col>&lt;dbl&gt;</th><th scope=col>&lt;dbl&gt;</th><th scope=col>⋯</th><th scope=col>&lt;dbl&gt;</th><th scope=col>&lt;dbl&gt;</th><th scope=col>&lt;dbl&gt;</th><th scope=col>&lt;dbl&gt;</th><th scope=col>&lt;dbl&gt;</th><th scope=col>&lt;dbl&gt;</th><th scope=col>&lt;dbl&gt;</th><th scope=col>&lt;dbl&gt;</th><th scope=col>&lt;dbl&gt;</th><th scope=col>&lt;dbl&gt;</th></tr>\n",
       "</thead>\n",
       "<tbody>\n",
       "\t<tr><td>672</td><td>2</td><td>96</td><td>672</td><td>0.06110177</td><td> 0.14095648</td><td> 125.4385</td><td> 163.26377</td><td>0.5938258</td><td>1.6655134</td><td>⋯</td><td>67</td><td>469</td><td>0.6207966</td><td>0.9771548</td><td>6.773005</td><td>-0.09996172</td><td>0.1278525</td><td>-0.6633647</td><td>0.5084676</td><td>0.8386451</td></tr>\n",
       "\t<tr><td>672</td><td>2</td><td>96</td><td>672</td><td>0.03820380</td><td> 0.01261537</td><td> 156.6864</td><td> -55.46971</td><td>0.2809050</td><td>0.4961752</td><td>⋯</td><td>83</td><td>299</td><td>0.5584588</td><td>0.9545693</td><td>7.398597</td><td>-0.41421870</td><td>0.1933700</td><td>-0.6814363</td><td>0.5102978</td><td>0.8301033</td></tr>\n",
       "\t<tr><td>672</td><td>2</td><td>96</td><td>672</td><td>0.04619973</td><td> 2.39759550</td><td> 492.9979</td><td>-275.78563</td><td>0.7666151</td><td>2.3408486</td><td>⋯</td><td>91</td><td> 10</td><td>0.6984848</td><td>0.9754772</td><td>6.032898</td><td> 0.14112589</td><td>0.1056201</td><td>-0.5399201</td><td>0.3020198</td><td>0.8206214</td></tr>\n",
       "\t<tr><td>672</td><td>2</td><td>96</td><td>672</td><td>0.04285456</td><td>38.39305242</td><td>-103.9417</td><td> 369.49427</td><td>0.7217817</td><td>1.6138534</td><td>⋯</td><td> 3</td><td>500</td><td>0.6246713</td><td>0.9833059</td><td>6.925825</td><td> 0.20475658</td><td>0.1525677</td><td>-0.4673074</td><td>0.2371622</td><td>0.8477111</td></tr>\n",
       "</tbody>\n",
       "</table>\n"
      ],
      "text/latex": [
       "A tibble: 4 × 24\n",
       "\\begin{tabular}{lllllllllllllllllllll}\n",
       " frequency & nperiods & seasonal\\_period1 & seasonal\\_period2 & trend & spike & linearity & curvature & e\\_acf1 & e\\_acf10 & ⋯ & trough1 & trough2 & entropy & x\\_acf1 & x\\_acf10 & diff1\\_acf1 & diff1\\_acf10 & diff2\\_acf1 & diff2\\_acf10 & seas\\_acf1\\\\\n",
       " <dbl> & <dbl> & <dbl> & <dbl> & <dbl> & <dbl> & <dbl> & <dbl> & <dbl> & <dbl> & ⋯ & <dbl> & <dbl> & <dbl> & <dbl> & <dbl> & <dbl> & <dbl> & <dbl> & <dbl> & <dbl>\\\\\n",
       "\\hline\n",
       "\t 672 & 2 & 96 & 672 & 0.06110177 &  0.14095648 &  125.4385 &  163.26377 & 0.5938258 & 1.6655134 & ⋯ & 67 & 469 & 0.6207966 & 0.9771548 & 6.773005 & -0.09996172 & 0.1278525 & -0.6633647 & 0.5084676 & 0.8386451\\\\\n",
       "\t 672 & 2 & 96 & 672 & 0.03820380 &  0.01261537 &  156.6864 &  -55.46971 & 0.2809050 & 0.4961752 & ⋯ & 83 & 299 & 0.5584588 & 0.9545693 & 7.398597 & -0.41421870 & 0.1933700 & -0.6814363 & 0.5102978 & 0.8301033\\\\\n",
       "\t 672 & 2 & 96 & 672 & 0.04619973 &  2.39759550 &  492.9979 & -275.78563 & 0.7666151 & 2.3408486 & ⋯ & 91 &  10 & 0.6984848 & 0.9754772 & 6.032898 &  0.14112589 & 0.1056201 & -0.5399201 & 0.3020198 & 0.8206214\\\\\n",
       "\t 672 & 2 & 96 & 672 & 0.04285456 & 38.39305242 & -103.9417 &  369.49427 & 0.7217817 & 1.6138534 & ⋯ &  3 & 500 & 0.6246713 & 0.9833059 & 6.925825 &  0.20475658 & 0.1525677 & -0.4673074 & 0.2371622 & 0.8477111\\\\\n",
       "\\end{tabular}\n"
      ],
      "text/markdown": [
       "\n",
       "A tibble: 4 × 24\n",
       "\n",
       "| frequency &lt;dbl&gt; | nperiods &lt;dbl&gt; | seasonal_period1 &lt;dbl&gt; | seasonal_period2 &lt;dbl&gt; | trend &lt;dbl&gt; | spike &lt;dbl&gt; | linearity &lt;dbl&gt; | curvature &lt;dbl&gt; | e_acf1 &lt;dbl&gt; | e_acf10 &lt;dbl&gt; | ⋯ ⋯ | trough1 &lt;dbl&gt; | trough2 &lt;dbl&gt; | entropy &lt;dbl&gt; | x_acf1 &lt;dbl&gt; | x_acf10 &lt;dbl&gt; | diff1_acf1 &lt;dbl&gt; | diff1_acf10 &lt;dbl&gt; | diff2_acf1 &lt;dbl&gt; | diff2_acf10 &lt;dbl&gt; | seas_acf1 &lt;dbl&gt; |\n",
       "|---|---|---|---|---|---|---|---|---|---|---|---|---|---|---|---|---|---|---|---|---|\n",
       "| 672 | 2 | 96 | 672 | 0.06110177 |  0.14095648 |  125.4385 |  163.26377 | 0.5938258 | 1.6655134 | ⋯ | 67 | 469 | 0.6207966 | 0.9771548 | 6.773005 | -0.09996172 | 0.1278525 | -0.6633647 | 0.5084676 | 0.8386451 |\n",
       "| 672 | 2 | 96 | 672 | 0.03820380 |  0.01261537 |  156.6864 |  -55.46971 | 0.2809050 | 0.4961752 | ⋯ | 83 | 299 | 0.5584588 | 0.9545693 | 7.398597 | -0.41421870 | 0.1933700 | -0.6814363 | 0.5102978 | 0.8301033 |\n",
       "| 672 | 2 | 96 | 672 | 0.04619973 |  2.39759550 |  492.9979 | -275.78563 | 0.7666151 | 2.3408486 | ⋯ | 91 |  10 | 0.6984848 | 0.9754772 | 6.032898 |  0.14112589 | 0.1056201 | -0.5399201 | 0.3020198 | 0.8206214 |\n",
       "| 672 | 2 | 96 | 672 | 0.04285456 | 38.39305242 | -103.9417 |  369.49427 | 0.7217817 | 1.6138534 | ⋯ |  3 | 500 | 0.6246713 | 0.9833059 | 6.925825 |  0.20475658 | 0.1525677 | -0.4673074 | 0.2371622 | 0.8477111 |\n",
       "\n"
      ],
      "text/plain": [
       "  frequency nperiods seasonal_period1 seasonal_period2 trend      spike      \n",
       "1 672       2        96               672              0.06110177  0.14095648\n",
       "2 672       2        96               672              0.03820380  0.01261537\n",
       "3 672       2        96               672              0.04619973  2.39759550\n",
       "4 672       2        96               672              0.04285456 38.39305242\n",
       "  linearity curvature  e_acf1    e_acf10   ⋯ trough1 trough2 entropy  \n",
       "1  125.4385  163.26377 0.5938258 1.6655134 ⋯ 67      469     0.6207966\n",
       "2  156.6864  -55.46971 0.2809050 0.4961752 ⋯ 83      299     0.5584588\n",
       "3  492.9979 -275.78563 0.7666151 2.3408486 ⋯ 91       10     0.6984848\n",
       "4 -103.9417  369.49427 0.7217817 1.6138534 ⋯  3      500     0.6246713\n",
       "  x_acf1    x_acf10  diff1_acf1  diff1_acf10 diff2_acf1 diff2_acf10 seas_acf1\n",
       "1 0.9771548 6.773005 -0.09996172 0.1278525   -0.6633647 0.5084676   0.8386451\n",
       "2 0.9545693 7.398597 -0.41421870 0.1933700   -0.6814363 0.5102978   0.8301033\n",
       "3 0.9754772 6.032898  0.14112589 0.1056201   -0.5399201 0.3020198   0.8206214\n",
       "4 0.9833059 6.925825  0.20475658 0.1525677   -0.4673074 0.2371622   0.8477111"
      ]
     },
     "metadata": {},
     "output_type": "display_data"
    }
   ],
   "source": [
    "# Sanity check and inspect the summary\n",
    "head(ts_feat_list)"
   ]
  },
  {
   "cell_type": "code",
   "execution_count": 38,
   "id": "e545620c",
   "metadata": {},
   "outputs": [],
   "source": [
    "# Remove features with very low variation\n",
    "ts_feat_list <- ts_feat_list%>% select(-c(frequency, nperiods, seasonal_period1, seasonal_period2))"
   ]
  },
  {
   "cell_type": "markdown",
   "id": "6b2b25d5",
   "metadata": {},
   "source": [
    "## Read in Original TSFeat Features"
   ]
  },
  {
   "cell_type": "code",
   "execution_count": 39,
   "id": "2dec8d71",
   "metadata": {},
   "outputs": [
    {
     "name": "stderr",
     "output_type": "stream",
     "text": [
      "\u001b[1m\u001b[22mNew names:\n",
      "\u001b[36m•\u001b[39m `` -> `...1`\n",
      "\u001b[1mRows: \u001b[22m\u001b[34m76\u001b[39m \u001b[1mColumns: \u001b[22m\u001b[34m21\u001b[39m\n",
      "\u001b[36m──\u001b[39m \u001b[1mColumn specification\u001b[22m \u001b[36m────────────────────────────────────────────────────────\u001b[39m\n",
      "\u001b[1mDelimiter:\u001b[22m \",\"\n",
      "\u001b[32mdbl\u001b[39m (21): ...1, trend, spike, linearity, curvature, e_acf1, e_acf10, seasona...\n",
      "\n",
      "\u001b[36mℹ\u001b[39m Use `spec()` to retrieve the full column specification for this data.\n",
      "\u001b[36mℹ\u001b[39m Specify the column types or set `show_col_types = FALSE` to quiet this message.\n"
     ]
    }
   ],
   "source": [
    "tsfeat_orig <- read_csv(\"Results/Clustering/KMeans/tsfeat_feat_df.csv\")[,-1]"
   ]
  },
  {
   "cell_type": "code",
   "execution_count": 40,
   "id": "c049ab7b",
   "metadata": {},
   "outputs": [
    {
     "data": {
      "text/html": [
       "<table class=\"dataframe\">\n",
       "<caption>A tibble: 6 × 20</caption>\n",
       "<thead>\n",
       "\t<tr><th scope=col>trend</th><th scope=col>spike</th><th scope=col>linearity</th><th scope=col>curvature</th><th scope=col>e_acf1</th><th scope=col>e_acf10</th><th scope=col>seasonal_strength1</th><th scope=col>seasonal_strength2</th><th scope=col>peak1</th><th scope=col>peak2</th><th scope=col>trough1</th><th scope=col>trough2</th><th scope=col>entropy</th><th scope=col>x_acf1</th><th scope=col>x_acf10</th><th scope=col>diff1_acf1</th><th scope=col>diff1_acf10</th><th scope=col>diff2_acf1</th><th scope=col>diff2_acf10</th><th scope=col>seas_acf1</th></tr>\n",
       "\t<tr><th scope=col>&lt;dbl&gt;</th><th scope=col>&lt;dbl&gt;</th><th scope=col>&lt;dbl&gt;</th><th scope=col>&lt;dbl&gt;</th><th scope=col>&lt;dbl&gt;</th><th scope=col>&lt;dbl&gt;</th><th scope=col>&lt;dbl&gt;</th><th scope=col>&lt;dbl&gt;</th><th scope=col>&lt;dbl&gt;</th><th scope=col>&lt;dbl&gt;</th><th scope=col>&lt;dbl&gt;</th><th scope=col>&lt;dbl&gt;</th><th scope=col>&lt;dbl&gt;</th><th scope=col>&lt;dbl&gt;</th><th scope=col>&lt;dbl&gt;</th><th scope=col>&lt;dbl&gt;</th><th scope=col>&lt;dbl&gt;</th><th scope=col>&lt;dbl&gt;</th><th scope=col>&lt;dbl&gt;</th><th scope=col>&lt;dbl&gt;</th></tr>\n",
       "</thead>\n",
       "<tbody>\n",
       "\t<tr><td>0.04524545</td><td>1.7871660</td><td> 401.41853</td><td>-70.57600</td><td>0.8260487</td><td>3.9629383</td><td>0.9453860</td><td>0.8000433</td><td>70</td><td>550</td><td>44</td><td>357</td><td>0.6668819</td><td>0.9805245</td><td>6.359669</td><td> 0.062382170</td><td>0.23763458</td><td>-0.6324652</td><td>0.4378136</td><td>0.8142246</td></tr>\n",
       "\t<tr><td>0.03397202</td><td>0.1025198</td><td>  51.03854</td><td> 65.12821</td><td>0.4686588</td><td>0.6192512</td><td>0.9650589</td><td>0.7962833</td><td>39</td><td>516</td><td>79</td><td>  2</td><td>0.6373192</td><td>0.9691490</td><td>6.666140</td><td>-0.142832055</td><td>0.05915397</td><td>-0.6091203</td><td>0.3868450</td><td>0.8416136</td></tr>\n",
       "\t<tr><td>0.07414295</td><td>0.1453130</td><td> 109.43050</td><td>289.22413</td><td>0.4314831</td><td>0.3724309</td><td>0.9776093</td><td>0.8448882</td><td>89</td><td>269</td><td>31</td><td>375</td><td>0.6242515</td><td>0.9766606</td><td>7.098263</td><td>-0.101996517</td><td>0.07086743</td><td>-0.5910288</td><td>0.3578037</td><td>0.8420068</td></tr>\n",
       "\t<tr><td>0.04656582</td><td>2.8257168</td><td>-300.58885</td><td> 14.81884</td><td>0.5182204</td><td>0.6470061</td><td>0.9837552</td><td>0.9206374</td><td>22</td><td>309</td><td>95</td><td> 20</td><td>0.6476451</td><td>0.9825183</td><td>6.572835</td><td> 0.123384277</td><td>0.23594217</td><td>-0.6188357</td><td>0.4237040</td><td>0.8603121</td></tr>\n",
       "\t<tr><td>0.32395416</td><td>0.2786917</td><td> 691.13302</td><td>-57.02537</td><td>0.4035557</td><td>0.6414066</td><td>0.9885210</td><td>0.9232613</td><td>92</td><td> 56</td><td>35</td><td>633</td><td>0.5452204</td><td>0.9863194</td><td>7.482607</td><td> 0.015309680</td><td>0.21314835</td><td>-0.6136182</td><td>0.3911170</td><td>0.8586035</td></tr>\n",
       "\t<tr><td>0.08106612</td><td>3.2968714</td><td> 146.63715</td><td>576.99568</td><td>0.7109443</td><td>2.1812341</td><td>0.9725913</td><td>0.8454157</td><td>89</td><td> 98</td><td>35</td><td>245</td><td>0.5721557</td><td>0.9856025</td><td>7.505656</td><td>-0.001428731</td><td>0.17599982</td><td>-0.6095278</td><td>0.3944185</td><td>0.8349258</td></tr>\n",
       "</tbody>\n",
       "</table>\n"
      ],
      "text/latex": [
       "A tibble: 6 × 20\n",
       "\\begin{tabular}{llllllllllllllllllll}\n",
       " trend & spike & linearity & curvature & e\\_acf1 & e\\_acf10 & seasonal\\_strength1 & seasonal\\_strength2 & peak1 & peak2 & trough1 & trough2 & entropy & x\\_acf1 & x\\_acf10 & diff1\\_acf1 & diff1\\_acf10 & diff2\\_acf1 & diff2\\_acf10 & seas\\_acf1\\\\\n",
       " <dbl> & <dbl> & <dbl> & <dbl> & <dbl> & <dbl> & <dbl> & <dbl> & <dbl> & <dbl> & <dbl> & <dbl> & <dbl> & <dbl> & <dbl> & <dbl> & <dbl> & <dbl> & <dbl> & <dbl>\\\\\n",
       "\\hline\n",
       "\t 0.04524545 & 1.7871660 &  401.41853 & -70.57600 & 0.8260487 & 3.9629383 & 0.9453860 & 0.8000433 & 70 & 550 & 44 & 357 & 0.6668819 & 0.9805245 & 6.359669 &  0.062382170 & 0.23763458 & -0.6324652 & 0.4378136 & 0.8142246\\\\\n",
       "\t 0.03397202 & 0.1025198 &   51.03854 &  65.12821 & 0.4686588 & 0.6192512 & 0.9650589 & 0.7962833 & 39 & 516 & 79 &   2 & 0.6373192 & 0.9691490 & 6.666140 & -0.142832055 & 0.05915397 & -0.6091203 & 0.3868450 & 0.8416136\\\\\n",
       "\t 0.07414295 & 0.1453130 &  109.43050 & 289.22413 & 0.4314831 & 0.3724309 & 0.9776093 & 0.8448882 & 89 & 269 & 31 & 375 & 0.6242515 & 0.9766606 & 7.098263 & -0.101996517 & 0.07086743 & -0.5910288 & 0.3578037 & 0.8420068\\\\\n",
       "\t 0.04656582 & 2.8257168 & -300.58885 &  14.81884 & 0.5182204 & 0.6470061 & 0.9837552 & 0.9206374 & 22 & 309 & 95 &  20 & 0.6476451 & 0.9825183 & 6.572835 &  0.123384277 & 0.23594217 & -0.6188357 & 0.4237040 & 0.8603121\\\\\n",
       "\t 0.32395416 & 0.2786917 &  691.13302 & -57.02537 & 0.4035557 & 0.6414066 & 0.9885210 & 0.9232613 & 92 &  56 & 35 & 633 & 0.5452204 & 0.9863194 & 7.482607 &  0.015309680 & 0.21314835 & -0.6136182 & 0.3911170 & 0.8586035\\\\\n",
       "\t 0.08106612 & 3.2968714 &  146.63715 & 576.99568 & 0.7109443 & 2.1812341 & 0.9725913 & 0.8454157 & 89 &  98 & 35 & 245 & 0.5721557 & 0.9856025 & 7.505656 & -0.001428731 & 0.17599982 & -0.6095278 & 0.3944185 & 0.8349258\\\\\n",
       "\\end{tabular}\n"
      ],
      "text/markdown": [
       "\n",
       "A tibble: 6 × 20\n",
       "\n",
       "| trend &lt;dbl&gt; | spike &lt;dbl&gt; | linearity &lt;dbl&gt; | curvature &lt;dbl&gt; | e_acf1 &lt;dbl&gt; | e_acf10 &lt;dbl&gt; | seasonal_strength1 &lt;dbl&gt; | seasonal_strength2 &lt;dbl&gt; | peak1 &lt;dbl&gt; | peak2 &lt;dbl&gt; | trough1 &lt;dbl&gt; | trough2 &lt;dbl&gt; | entropy &lt;dbl&gt; | x_acf1 &lt;dbl&gt; | x_acf10 &lt;dbl&gt; | diff1_acf1 &lt;dbl&gt; | diff1_acf10 &lt;dbl&gt; | diff2_acf1 &lt;dbl&gt; | diff2_acf10 &lt;dbl&gt; | seas_acf1 &lt;dbl&gt; |\n",
       "|---|---|---|---|---|---|---|---|---|---|---|---|---|---|---|---|---|---|---|---|\n",
       "| 0.04524545 | 1.7871660 |  401.41853 | -70.57600 | 0.8260487 | 3.9629383 | 0.9453860 | 0.8000433 | 70 | 550 | 44 | 357 | 0.6668819 | 0.9805245 | 6.359669 |  0.062382170 | 0.23763458 | -0.6324652 | 0.4378136 | 0.8142246 |\n",
       "| 0.03397202 | 0.1025198 |   51.03854 |  65.12821 | 0.4686588 | 0.6192512 | 0.9650589 | 0.7962833 | 39 | 516 | 79 |   2 | 0.6373192 | 0.9691490 | 6.666140 | -0.142832055 | 0.05915397 | -0.6091203 | 0.3868450 | 0.8416136 |\n",
       "| 0.07414295 | 0.1453130 |  109.43050 | 289.22413 | 0.4314831 | 0.3724309 | 0.9776093 | 0.8448882 | 89 | 269 | 31 | 375 | 0.6242515 | 0.9766606 | 7.098263 | -0.101996517 | 0.07086743 | -0.5910288 | 0.3578037 | 0.8420068 |\n",
       "| 0.04656582 | 2.8257168 | -300.58885 |  14.81884 | 0.5182204 | 0.6470061 | 0.9837552 | 0.9206374 | 22 | 309 | 95 |  20 | 0.6476451 | 0.9825183 | 6.572835 |  0.123384277 | 0.23594217 | -0.6188357 | 0.4237040 | 0.8603121 |\n",
       "| 0.32395416 | 0.2786917 |  691.13302 | -57.02537 | 0.4035557 | 0.6414066 | 0.9885210 | 0.9232613 | 92 |  56 | 35 | 633 | 0.5452204 | 0.9863194 | 7.482607 |  0.015309680 | 0.21314835 | -0.6136182 | 0.3911170 | 0.8586035 |\n",
       "| 0.08106612 | 3.2968714 |  146.63715 | 576.99568 | 0.7109443 | 2.1812341 | 0.9725913 | 0.8454157 | 89 |  98 | 35 | 245 | 0.5721557 | 0.9856025 | 7.505656 | -0.001428731 | 0.17599982 | -0.6095278 | 0.3944185 | 0.8349258 |\n",
       "\n"
      ],
      "text/plain": [
       "  trend      spike     linearity  curvature e_acf1    e_acf10  \n",
       "1 0.04524545 1.7871660  401.41853 -70.57600 0.8260487 3.9629383\n",
       "2 0.03397202 0.1025198   51.03854  65.12821 0.4686588 0.6192512\n",
       "3 0.07414295 0.1453130  109.43050 289.22413 0.4314831 0.3724309\n",
       "4 0.04656582 2.8257168 -300.58885  14.81884 0.5182204 0.6470061\n",
       "5 0.32395416 0.2786917  691.13302 -57.02537 0.4035557 0.6414066\n",
       "6 0.08106612 3.2968714  146.63715 576.99568 0.7109443 2.1812341\n",
       "  seasonal_strength1 seasonal_strength2 peak1 peak2 trough1 trough2 entropy  \n",
       "1 0.9453860          0.8000433          70    550   44      357     0.6668819\n",
       "2 0.9650589          0.7962833          39    516   79        2     0.6373192\n",
       "3 0.9776093          0.8448882          89    269   31      375     0.6242515\n",
       "4 0.9837552          0.9206374          22    309   95       20     0.6476451\n",
       "5 0.9885210          0.9232613          92     56   35      633     0.5452204\n",
       "6 0.9725913          0.8454157          89     98   35      245     0.5721557\n",
       "  x_acf1    x_acf10  diff1_acf1   diff1_acf10 diff2_acf1 diff2_acf10 seas_acf1\n",
       "1 0.9805245 6.359669  0.062382170 0.23763458  -0.6324652 0.4378136   0.8142246\n",
       "2 0.9691490 6.666140 -0.142832055 0.05915397  -0.6091203 0.3868450   0.8416136\n",
       "3 0.9766606 7.098263 -0.101996517 0.07086743  -0.5910288 0.3578037   0.8420068\n",
       "4 0.9825183 6.572835  0.123384277 0.23594217  -0.6188357 0.4237040   0.8603121\n",
       "5 0.9863194 7.482607  0.015309680 0.21314835  -0.6136182 0.3911170   0.8586035\n",
       "6 0.9856025 7.505656 -0.001428731 0.17599982  -0.6095278 0.3944185   0.8349258"
      ]
     },
     "metadata": {},
     "output_type": "display_data"
    }
   ],
   "source": [
    "head(tsfeat_orig)"
   ]
  },
  {
   "cell_type": "markdown",
   "id": "df6a6c1b",
   "metadata": {},
   "source": [
    "### Scale with Original Data"
   ]
  },
  {
   "cell_type": "code",
   "execution_count": 41,
   "id": "4130e789",
   "metadata": {},
   "outputs": [],
   "source": [
    "# Scale features to unit interval to be consistent with how we used Catch22 features\n",
    "ts_feat_list_df_scaled <- ts_feat_list"
   ]
  },
  {
   "cell_type": "code",
   "execution_count": 42,
   "id": "7f7cb869",
   "metadata": {},
   "outputs": [],
   "source": [
    "# Scale by looping through each feature and subtracting the min and dividing by the range\n",
    "for (n in 1:ncol(ts_feat_list_df_scaled)){\n",
    "    min_n <- min(tsfeat_orig[,n])\n",
    "    max_n <- max(tsfeat_orig[,n])\n",
    "    ts_feat_list_df_scaled[,n] <- (ts_feat_list_df_scaled[,n] - min_n)/(max_n - min_n)\n",
    "}"
   ]
  },
  {
   "cell_type": "code",
   "execution_count": 43,
   "id": "72578cc7",
   "metadata": {},
   "outputs": [
    {
     "name": "stderr",
     "output_type": "stream",
     "text": [
      "Warning message:\n",
      "“Setting row names on a tibble is deprecated.”\n"
     ]
    }
   ],
   "source": [
    "row.names(ts_feat_list_df_scaled) <- c(\"Obs1\", \"Obs2\", \"Obs3\", \"Obs4\")"
   ]
  },
  {
   "cell_type": "code",
   "execution_count": 44,
   "id": "c0ce3c4c",
   "metadata": {},
   "outputs": [
    {
     "data": {
      "text/html": [
       "<table class=\"dataframe\">\n",
       "<caption>A tibble: 4 × 20</caption>\n",
       "<thead>\n",
       "\t<tr><th></th><th scope=col>trend</th><th scope=col>spike</th><th scope=col>linearity</th><th scope=col>curvature</th><th scope=col>e_acf1</th><th scope=col>e_acf10</th><th scope=col>seasonal_strength1</th><th scope=col>seasonal_strength2</th><th scope=col>peak1</th><th scope=col>peak2</th><th scope=col>trough1</th><th scope=col>trough2</th><th scope=col>entropy</th><th scope=col>x_acf1</th><th scope=col>x_acf10</th><th scope=col>diff1_acf1</th><th scope=col>diff1_acf10</th><th scope=col>diff2_acf1</th><th scope=col>diff2_acf10</th><th scope=col>seas_acf1</th></tr>\n",
       "\t<tr><th></th><th scope=col>&lt;dbl&gt;</th><th scope=col>&lt;dbl&gt;</th><th scope=col>&lt;dbl&gt;</th><th scope=col>&lt;dbl&gt;</th><th scope=col>&lt;dbl&gt;</th><th scope=col>&lt;dbl&gt;</th><th scope=col>&lt;dbl&gt;</th><th scope=col>&lt;dbl&gt;</th><th scope=col>&lt;dbl&gt;</th><th scope=col>&lt;dbl&gt;</th><th scope=col>&lt;dbl&gt;</th><th scope=col>&lt;dbl&gt;</th><th scope=col>&lt;dbl&gt;</th><th scope=col>&lt;dbl&gt;</th><th scope=col>&lt;dbl&gt;</th><th scope=col>&lt;dbl&gt;</th><th scope=col>&lt;dbl&gt;</th><th scope=col>&lt;dbl&gt;</th><th scope=col>&lt;dbl&gt;</th><th scope=col>&lt;dbl&gt;</th></tr>\n",
       "</thead>\n",
       "<tbody>\n",
       "\t<tr><th scope=row>Obs1</th><td>0.06233511</td><td>0.0034034896</td><td>0.5048055</td><td>0.7181229</td><td>0.6336328</td><td>0.39990931</td><td>0.8804181</td><td>0.8225735</td><td>0.2065217</td><td>0.4656489</td><td>0.6914894</td><td>0.72179289</td><td>0.5349825</td><td>0.9307917</td><td>0.6693180</td><td>0.48619493</td><td>0.2093163</td><td> 0.03140924</td><td> 0.79418203</td><td>0.8876968</td></tr>\n",
       "\t<tr><th scope=row>Obs2</th><td>0.02750633</td><td>0.0003024711</td><td>0.5148559</td><td>0.5980033</td><td>0.1910264</td><td>0.09447648</td><td>0.7825859</td><td>0.6600485</td><td>0.2500000</td><td>0.2244275</td><td>0.8617021</td><td>0.45904173</td><td>0.3099194</td><td>0.7602332</td><td>0.8738767</td><td>0.09518644</td><td>0.3555746</td><td>-0.03179954</td><td> 0.79987112</td><td>0.8530753</td></tr>\n",
       "\t<tr><th scope=row>Obs3</th><td>0.03966847</td><td>0.0579291185</td><td>0.6230246</td><td>0.4770147</td><td>0.8780324</td><td>0.57630782</td><td>0.7346792</td><td>0.7244618</td><td>0.5108696</td><td>0.4534351</td><td>0.9468085</td><td>0.01236476</td><td>0.8154659</td><td>0.9181230</td><td>0.4273146</td><td>0.78616378</td><td>0.1596857</td><td> 0.46317890</td><td> 0.15242633</td><td>0.8146437</td></tr>\n",
       "\t<tr><th scope=row>Obs4</th><td>0.03458033</td><td>0.9276627805</td><td>0.4310293</td><td>0.8313764</td><td>0.8146183</td><td>0.38641562</td><td>0.8894093</td><td>0.8348738</td><td>0.5978261</td><td>0.1740458</td><td>0.0106383</td><td>0.76970634</td><td>0.5489715</td><td>0.9772433</td><td>0.7192876</td><td>0.86533510</td><td>0.2644894</td><td> 0.71715507</td><td>-0.04918716</td><td>0.9244427</td></tr>\n",
       "</tbody>\n",
       "</table>\n"
      ],
      "text/latex": [
       "A tibble: 4 × 20\n",
       "\\begin{tabular}{r|llllllllllllllllllll}\n",
       "  & trend & spike & linearity & curvature & e\\_acf1 & e\\_acf10 & seasonal\\_strength1 & seasonal\\_strength2 & peak1 & peak2 & trough1 & trough2 & entropy & x\\_acf1 & x\\_acf10 & diff1\\_acf1 & diff1\\_acf10 & diff2\\_acf1 & diff2\\_acf10 & seas\\_acf1\\\\\n",
       "  & <dbl> & <dbl> & <dbl> & <dbl> & <dbl> & <dbl> & <dbl> & <dbl> & <dbl> & <dbl> & <dbl> & <dbl> & <dbl> & <dbl> & <dbl> & <dbl> & <dbl> & <dbl> & <dbl> & <dbl>\\\\\n",
       "\\hline\n",
       "\tObs1 & 0.06233511 & 0.0034034896 & 0.5048055 & 0.7181229 & 0.6336328 & 0.39990931 & 0.8804181 & 0.8225735 & 0.2065217 & 0.4656489 & 0.6914894 & 0.72179289 & 0.5349825 & 0.9307917 & 0.6693180 & 0.48619493 & 0.2093163 &  0.03140924 &  0.79418203 & 0.8876968\\\\\n",
       "\tObs2 & 0.02750633 & 0.0003024711 & 0.5148559 & 0.5980033 & 0.1910264 & 0.09447648 & 0.7825859 & 0.6600485 & 0.2500000 & 0.2244275 & 0.8617021 & 0.45904173 & 0.3099194 & 0.7602332 & 0.8738767 & 0.09518644 & 0.3555746 & -0.03179954 &  0.79987112 & 0.8530753\\\\\n",
       "\tObs3 & 0.03966847 & 0.0579291185 & 0.6230246 & 0.4770147 & 0.8780324 & 0.57630782 & 0.7346792 & 0.7244618 & 0.5108696 & 0.4534351 & 0.9468085 & 0.01236476 & 0.8154659 & 0.9181230 & 0.4273146 & 0.78616378 & 0.1596857 &  0.46317890 &  0.15242633 & 0.8146437\\\\\n",
       "\tObs4 & 0.03458033 & 0.9276627805 & 0.4310293 & 0.8313764 & 0.8146183 & 0.38641562 & 0.8894093 & 0.8348738 & 0.5978261 & 0.1740458 & 0.0106383 & 0.76970634 & 0.5489715 & 0.9772433 & 0.7192876 & 0.86533510 & 0.2644894 &  0.71715507 & -0.04918716 & 0.9244427\\\\\n",
       "\\end{tabular}\n"
      ],
      "text/markdown": [
       "\n",
       "A tibble: 4 × 20\n",
       "\n",
       "| <!--/--> | trend &lt;dbl&gt; | spike &lt;dbl&gt; | linearity &lt;dbl&gt; | curvature &lt;dbl&gt; | e_acf1 &lt;dbl&gt; | e_acf10 &lt;dbl&gt; | seasonal_strength1 &lt;dbl&gt; | seasonal_strength2 &lt;dbl&gt; | peak1 &lt;dbl&gt; | peak2 &lt;dbl&gt; | trough1 &lt;dbl&gt; | trough2 &lt;dbl&gt; | entropy &lt;dbl&gt; | x_acf1 &lt;dbl&gt; | x_acf10 &lt;dbl&gt; | diff1_acf1 &lt;dbl&gt; | diff1_acf10 &lt;dbl&gt; | diff2_acf1 &lt;dbl&gt; | diff2_acf10 &lt;dbl&gt; | seas_acf1 &lt;dbl&gt; |\n",
       "|---|---|---|---|---|---|---|---|---|---|---|---|---|---|---|---|---|---|---|---|---|\n",
       "| Obs1 | 0.06233511 | 0.0034034896 | 0.5048055 | 0.7181229 | 0.6336328 | 0.39990931 | 0.8804181 | 0.8225735 | 0.2065217 | 0.4656489 | 0.6914894 | 0.72179289 | 0.5349825 | 0.9307917 | 0.6693180 | 0.48619493 | 0.2093163 |  0.03140924 |  0.79418203 | 0.8876968 |\n",
       "| Obs2 | 0.02750633 | 0.0003024711 | 0.5148559 | 0.5980033 | 0.1910264 | 0.09447648 | 0.7825859 | 0.6600485 | 0.2500000 | 0.2244275 | 0.8617021 | 0.45904173 | 0.3099194 | 0.7602332 | 0.8738767 | 0.09518644 | 0.3555746 | -0.03179954 |  0.79987112 | 0.8530753 |\n",
       "| Obs3 | 0.03966847 | 0.0579291185 | 0.6230246 | 0.4770147 | 0.8780324 | 0.57630782 | 0.7346792 | 0.7244618 | 0.5108696 | 0.4534351 | 0.9468085 | 0.01236476 | 0.8154659 | 0.9181230 | 0.4273146 | 0.78616378 | 0.1596857 |  0.46317890 |  0.15242633 | 0.8146437 |\n",
       "| Obs4 | 0.03458033 | 0.9276627805 | 0.4310293 | 0.8313764 | 0.8146183 | 0.38641562 | 0.8894093 | 0.8348738 | 0.5978261 | 0.1740458 | 0.0106383 | 0.76970634 | 0.5489715 | 0.9772433 | 0.7192876 | 0.86533510 | 0.2644894 |  0.71715507 | -0.04918716 | 0.9244427 |\n",
       "\n"
      ],
      "text/plain": [
       "  trend      spike        linearity curvature e_acf1    e_acf10   \n",
       "1 0.06233511 0.0034034896 0.5048055 0.7181229 0.6336328 0.39990931\n",
       "2 0.02750633 0.0003024711 0.5148559 0.5980033 0.1910264 0.09447648\n",
       "3 0.03966847 0.0579291185 0.6230246 0.4770147 0.8780324 0.57630782\n",
       "4 0.03458033 0.9276627805 0.4310293 0.8313764 0.8146183 0.38641562\n",
       "  seasonal_strength1 seasonal_strength2 peak1     peak2     trough1  \n",
       "1 0.8804181          0.8225735          0.2065217 0.4656489 0.6914894\n",
       "2 0.7825859          0.6600485          0.2500000 0.2244275 0.8617021\n",
       "3 0.7346792          0.7244618          0.5108696 0.4534351 0.9468085\n",
       "4 0.8894093          0.8348738          0.5978261 0.1740458 0.0106383\n",
       "  trough2    entropy   x_acf1    x_acf10   diff1_acf1 diff1_acf10 diff2_acf1 \n",
       "1 0.72179289 0.5349825 0.9307917 0.6693180 0.48619493 0.2093163    0.03140924\n",
       "2 0.45904173 0.3099194 0.7602332 0.8738767 0.09518644 0.3555746   -0.03179954\n",
       "3 0.01236476 0.8154659 0.9181230 0.4273146 0.78616378 0.1596857    0.46317890\n",
       "4 0.76970634 0.5489715 0.9772433 0.7192876 0.86533510 0.2644894    0.71715507\n",
       "  diff2_acf10 seas_acf1\n",
       "1  0.79418203 0.8876968\n",
       "2  0.79987112 0.8530753\n",
       "3  0.15242633 0.8146437\n",
       "4 -0.04918716 0.9244427"
      ]
     },
     "metadata": {},
     "output_type": "display_data"
    }
   ],
   "source": [
    "ts_feat_list_df_scaled"
   ]
  },
  {
   "cell_type": "markdown",
   "id": "bad97759",
   "metadata": {},
   "source": [
    "## Load Original KMeans Cluster Assignments"
   ]
  },
  {
   "cell_type": "code",
   "execution_count": 45,
   "id": "c0d4c17e",
   "metadata": {},
   "outputs": [],
   "source": [
    "tsfeat_kmeans_orig <- readRDS(\"Results/Clustering/KMeans/kmeans_tsfeat.RData\")"
   ]
  },
  {
   "cell_type": "code",
   "execution_count": 46,
   "id": "8732497a",
   "metadata": {},
   "outputs": [
    {
     "data": {
      "text/plain": [
       "\n",
       " 1  2 \n",
       "52 24 "
      ]
     },
     "metadata": {},
     "output_type": "display_data"
    }
   ],
   "source": [
    "table(tsfeat_kmeans_orig$cluster)"
   ]
  },
  {
   "cell_type": "code",
   "execution_count": 47,
   "id": "1a3efe9b",
   "metadata": {},
   "outputs": [],
   "source": [
    "tsfeat_kmeans_orig_cent <- tsfeat_kmeans_orig$centers\n",
    "row.names(tsfeat_kmeans_orig_cent) <- c(\"Cent1\", \"Cent2\")"
   ]
  },
  {
   "cell_type": "code",
   "execution_count": 48,
   "id": "76dde758",
   "metadata": {},
   "outputs": [
    {
     "data": {
      "text/html": [
       "<table class=\"dataframe\">\n",
       "<caption>A matrix: 2 × 20 of type dbl</caption>\n",
       "<thead>\n",
       "\t<tr><th></th><th scope=col>trend</th><th scope=col>spike</th><th scope=col>linearity</th><th scope=col>curvature</th><th scope=col>e_acf1</th><th scope=col>e_acf10</th><th scope=col>seasonal_strength1</th><th scope=col>seasonal_strength2</th><th scope=col>peak1</th><th scope=col>peak2</th><th scope=col>trough1</th><th scope=col>trough2</th><th scope=col>entropy</th><th scope=col>x_acf1</th><th scope=col>x_acf10</th><th scope=col>diff1_acf1</th><th scope=col>diff1_acf10</th><th scope=col>diff2_acf1</th><th scope=col>diff2_acf10</th><th scope=col>seas_acf1</th></tr>\n",
       "</thead>\n",
       "<tbody>\n",
       "\t<tr><th scope=row>Cent1</th><td>0.1617430</td><td>0.08396044</td><td>0.4923891</td><td>0.6090045</td><td>0.6700144</td><td>0.4268872</td><td>0.8340064</td><td>0.7667364</td><td>0.4237040</td><td>0.4883147</td><td>0.5636252</td><td>0.5637855</td><td>0.5746055</td><td>0.9233000</td><td>0.6568774</td><td>0.6013646</td><td>0.2704353</td><td>0.3143367</td><td>0.4025470</td><td>0.8588529</td></tr>\n",
       "\t<tr><th scope=row>Cent2</th><td>0.3660031</td><td>0.02269512</td><td>0.4921098</td><td>0.6086331</td><td>0.4558023</td><td>0.2797747</td><td>0.5743514</td><td>0.5253412</td><td>0.6752717</td><td>0.5428753</td><td>0.3156028</td><td>0.5334235</td><td>0.6921544</td><td>0.6539098</td><td>0.5554224</td><td>0.2550749</td><td>0.1811398</td><td>0.1502343</td><td>0.5486908</td><td>0.6198044</td></tr>\n",
       "</tbody>\n",
       "</table>\n"
      ],
      "text/latex": [
       "A matrix: 2 × 20 of type dbl\n",
       "\\begin{tabular}{r|llllllllllllllllllll}\n",
       "  & trend & spike & linearity & curvature & e\\_acf1 & e\\_acf10 & seasonal\\_strength1 & seasonal\\_strength2 & peak1 & peak2 & trough1 & trough2 & entropy & x\\_acf1 & x\\_acf10 & diff1\\_acf1 & diff1\\_acf10 & diff2\\_acf1 & diff2\\_acf10 & seas\\_acf1\\\\\n",
       "\\hline\n",
       "\tCent1 & 0.1617430 & 0.08396044 & 0.4923891 & 0.6090045 & 0.6700144 & 0.4268872 & 0.8340064 & 0.7667364 & 0.4237040 & 0.4883147 & 0.5636252 & 0.5637855 & 0.5746055 & 0.9233000 & 0.6568774 & 0.6013646 & 0.2704353 & 0.3143367 & 0.4025470 & 0.8588529\\\\\n",
       "\tCent2 & 0.3660031 & 0.02269512 & 0.4921098 & 0.6086331 & 0.4558023 & 0.2797747 & 0.5743514 & 0.5253412 & 0.6752717 & 0.5428753 & 0.3156028 & 0.5334235 & 0.6921544 & 0.6539098 & 0.5554224 & 0.2550749 & 0.1811398 & 0.1502343 & 0.5486908 & 0.6198044\\\\\n",
       "\\end{tabular}\n"
      ],
      "text/markdown": [
       "\n",
       "A matrix: 2 × 20 of type dbl\n",
       "\n",
       "| <!--/--> | trend | spike | linearity | curvature | e_acf1 | e_acf10 | seasonal_strength1 | seasonal_strength2 | peak1 | peak2 | trough1 | trough2 | entropy | x_acf1 | x_acf10 | diff1_acf1 | diff1_acf10 | diff2_acf1 | diff2_acf10 | seas_acf1 |\n",
       "|---|---|---|---|---|---|---|---|---|---|---|---|---|---|---|---|---|---|---|---|---|\n",
       "| Cent1 | 0.1617430 | 0.08396044 | 0.4923891 | 0.6090045 | 0.6700144 | 0.4268872 | 0.8340064 | 0.7667364 | 0.4237040 | 0.4883147 | 0.5636252 | 0.5637855 | 0.5746055 | 0.9233000 | 0.6568774 | 0.6013646 | 0.2704353 | 0.3143367 | 0.4025470 | 0.8588529 |\n",
       "| Cent2 | 0.3660031 | 0.02269512 | 0.4921098 | 0.6086331 | 0.4558023 | 0.2797747 | 0.5743514 | 0.5253412 | 0.6752717 | 0.5428753 | 0.3156028 | 0.5334235 | 0.6921544 | 0.6539098 | 0.5554224 | 0.2550749 | 0.1811398 | 0.1502343 | 0.5486908 | 0.6198044 |\n",
       "\n"
      ],
      "text/plain": [
       "      trend     spike      linearity curvature e_acf1    e_acf10  \n",
       "Cent1 0.1617430 0.08396044 0.4923891 0.6090045 0.6700144 0.4268872\n",
       "Cent2 0.3660031 0.02269512 0.4921098 0.6086331 0.4558023 0.2797747\n",
       "      seasonal_strength1 seasonal_strength2 peak1     peak2     trough1  \n",
       "Cent1 0.8340064          0.7667364          0.4237040 0.4883147 0.5636252\n",
       "Cent2 0.5743514          0.5253412          0.6752717 0.5428753 0.3156028\n",
       "      trough2   entropy   x_acf1    x_acf10   diff1_acf1 diff1_acf10 diff2_acf1\n",
       "Cent1 0.5637855 0.5746055 0.9233000 0.6568774 0.6013646  0.2704353   0.3143367 \n",
       "Cent2 0.5334235 0.6921544 0.6539098 0.5554224 0.2550749  0.1811398   0.1502343 \n",
       "      diff2_acf10 seas_acf1\n",
       "Cent1 0.4025470   0.8588529\n",
       "Cent2 0.5486908   0.6198044"
      ]
     },
     "metadata": {},
     "output_type": "display_data"
    }
   ],
   "source": [
    "tsfeat_kmeans_orig_cent"
   ]
  },
  {
   "cell_type": "code",
   "execution_count": 49,
   "id": "8cb168c1",
   "metadata": {},
   "outputs": [
    {
     "data": {
      "text/html": [
       "<table class=\"dataframe\">\n",
       "<caption>A matrix: 4 × 2 of type dbl</caption>\n",
       "<thead>\n",
       "\t<tr><th></th><th scope=col>Cent1</th><th scope=col>Cent2</th></tr>\n",
       "</thead>\n",
       "<tbody>\n",
       "\t<tr><th scope=row>Obs1</th><td>0.6146474</td><td>1.024686</td></tr>\n",
       "\t<tr><th scope=row>Obs2</th><td>1.1243401</td><td>1.154617</td></tr>\n",
       "\t<tr><th scope=row>Obs3</th><td>0.9115104</td><td>1.362195</td></tr>\n",
       "\t<tr><th scope=row>Obs4</th><td>1.3177884</td><td>1.706205</td></tr>\n",
       "</tbody>\n",
       "</table>\n"
      ],
      "text/latex": [
       "A matrix: 4 × 2 of type dbl\n",
       "\\begin{tabular}{r|ll}\n",
       "  & Cent1 & Cent2\\\\\n",
       "\\hline\n",
       "\tObs1 & 0.6146474 & 1.024686\\\\\n",
       "\tObs2 & 1.1243401 & 1.154617\\\\\n",
       "\tObs3 & 0.9115104 & 1.362195\\\\\n",
       "\tObs4 & 1.3177884 & 1.706205\\\\\n",
       "\\end{tabular}\n"
      ],
      "text/markdown": [
       "\n",
       "A matrix: 4 × 2 of type dbl\n",
       "\n",
       "| <!--/--> | Cent1 | Cent2 |\n",
       "|---|---|---|\n",
       "| Obs1 | 0.6146474 | 1.024686 |\n",
       "| Obs2 | 1.1243401 | 1.154617 |\n",
       "| Obs3 | 0.9115104 | 1.362195 |\n",
       "| Obs4 | 1.3177884 | 1.706205 |\n",
       "\n"
      ],
      "text/plain": [
       "     Cent1     Cent2   \n",
       "Obs1 0.6146474 1.024686\n",
       "Obs2 1.1243401 1.154617\n",
       "Obs3 0.9115104 1.362195\n",
       "Obs4 1.3177884 1.706205"
      ]
     },
     "metadata": {},
     "output_type": "display_data"
    }
   ],
   "source": [
    "as.matrix(dist(rbind(tsfeat_kmeans_orig_cent, ts_feat_list_df_scaled)))[3:6, 1:2]"
   ]
  },
  {
   "cell_type": "code",
   "execution_count": 50,
   "id": "4999abc0",
   "metadata": {},
   "outputs": [],
   "source": [
    "tsfeat_clust_assign <- c(1, 1, 1, 1)"
   ]
  },
  {
   "cell_type": "markdown",
   "id": "40dea48e",
   "metadata": {},
   "source": [
    "# DTW Clustering"
   ]
  },
  {
   "cell_type": "markdown",
   "id": "da6cfec7",
   "metadata": {},
   "source": [
    "## Read in Original Clustering Results"
   ]
  },
  {
   "cell_type": "code",
   "execution_count": 51,
   "id": "17f4e9bb",
   "metadata": {},
   "outputs": [],
   "source": [
    "dtw_orig <- readRDS(\"Results/Clustering/DTW/dtw_clust.RData\")"
   ]
  },
  {
   "cell_type": "code",
   "execution_count": 52,
   "id": "6f647f1f",
   "metadata": {},
   "outputs": [
    {
     "data": {
      "text/plain": [
       "partitional clustering with 2 clusters\n",
       "Using dtw_basic distance\n",
       "Using pam centroids\n",
       "\n",
       "Time required for analysis:\n",
       "    user   system  elapsed \n",
       "2264.315    1.126  145.180 \n",
       "\n",
       "Cluster sizes with average intra-cluster distance:\n",
       "\n",
       "  size  av_dist\n",
       "1   25 437202.5\n",
       "2   51 200953.7"
      ]
     },
     "metadata": {},
     "output_type": "display_data"
    }
   ],
   "source": [
    "dtw_orig"
   ]
  },
  {
   "cell_type": "code",
   "execution_count": 53,
   "id": "1345c5fb",
   "metadata": {},
   "outputs": [],
   "source": [
    "dtw_orig_cent <- dtw_orig@centroids"
   ]
  },
  {
   "cell_type": "markdown",
   "id": "5c3f973f",
   "metadata": {},
   "source": [
    "### Read in Original Data to Determine which TS are the Centroids"
   ]
  },
  {
   "cell_type": "code",
   "execution_count": 54,
   "id": "402e50ad",
   "metadata": {},
   "outputs": [
    {
     "name": "stderr",
     "output_type": "stream",
     "text": [
      "\u001b[1mRows: \u001b[22m\u001b[34m35040\u001b[39m \u001b[1mColumns: \u001b[22m\u001b[34m10\u001b[39m\n",
      "\u001b[36m──\u001b[39m \u001b[1mColumn specification\u001b[22m \u001b[36m────────────────────────────────────────────────────────\u001b[39m\n",
      "\u001b[1mDelimiter:\u001b[22m \",\"\n",
      "\u001b[31mchr\u001b[39m  (1): site_name\n",
      "\u001b[32mdbl\u001b[39m  (5): day_of_week, day_of_year, interval_of_day, avg_mph, total_volume\n",
      "\u001b[33mlgl\u001b[39m  (2): missing_speed, missing_volume\n",
      "\u001b[34mdttm\u001b[39m (1): timestamp\n",
      "\u001b[34mdate\u001b[39m (1): date\n",
      "\n",
      "\u001b[36mℹ\u001b[39m Use `spec()` to retrieve the full column specification for this data.\n",
      "\u001b[36mℹ\u001b[39m Specify the column types or set `show_col_types = FALSE` to quiet this message.\n",
      "\u001b[1mRows: \u001b[22m\u001b[34m35040\u001b[39m \u001b[1mColumns: \u001b[22m\u001b[34m10\u001b[39m\n",
      "\u001b[36m──\u001b[39m \u001b[1mColumn specification\u001b[22m \u001b[36m────────────────────────────────────────────────────────\u001b[39m\n",
      "\u001b[1mDelimiter:\u001b[22m \",\"\n",
      "\u001b[31mchr\u001b[39m  (1): site_name\n",
      "\u001b[32mdbl\u001b[39m  (5): day_of_week, day_of_year, interval_of_day, avg_mph, total_volume\n",
      "\u001b[33mlgl\u001b[39m  (2): missing_speed, missing_volume\n",
      "\u001b[34mdttm\u001b[39m (1): timestamp\n",
      "\u001b[34mdate\u001b[39m (1): date\n",
      "\n",
      "\u001b[36mℹ\u001b[39m Use `spec()` to retrieve the full column specification for this data.\n",
      "\u001b[36mℹ\u001b[39m Specify the column types or set `show_col_types = FALSE` to quiet this message.\n",
      "\u001b[1mRows: \u001b[22m\u001b[34m35040\u001b[39m \u001b[1mColumns: \u001b[22m\u001b[34m10\u001b[39m\n",
      "\u001b[36m──\u001b[39m \u001b[1mColumn specification\u001b[22m \u001b[36m────────────────────────────────────────────────────────\u001b[39m\n",
      "\u001b[1mDelimiter:\u001b[22m \",\"\n",
      "\u001b[31mchr\u001b[39m  (1): site_name\n",
      "\u001b[32mdbl\u001b[39m  (5): day_of_week, day_of_year, interval_of_day, avg_mph, total_volume\n",
      "\u001b[33mlgl\u001b[39m  (2): missing_speed, missing_volume\n",
      "\u001b[34mdttm\u001b[39m (1): timestamp\n",
      "\u001b[34mdate\u001b[39m (1): date\n",
      "\n",
      "\u001b[36mℹ\u001b[39m Use `spec()` to retrieve the full column specification for this data.\n",
      "\u001b[36mℹ\u001b[39m Specify the column types or set `show_col_types = FALSE` to quiet this message.\n",
      "\u001b[1mRows: \u001b[22m\u001b[34m35040\u001b[39m \u001b[1mColumns: \u001b[22m\u001b[34m10\u001b[39m\n",
      "\u001b[36m──\u001b[39m \u001b[1mColumn specification\u001b[22m \u001b[36m────────────────────────────────────────────────────────\u001b[39m\n",
      "\u001b[1mDelimiter:\u001b[22m \",\"\n",
      "\u001b[31mchr\u001b[39m  (1): site_name\n",
      "\u001b[32mdbl\u001b[39m  (5): day_of_week, day_of_year, interval_of_day, avg_mph, total_volume\n",
      "\u001b[33mlgl\u001b[39m  (2): missing_speed, missing_volume\n",
      "\u001b[34mdttm\u001b[39m (1): timestamp\n",
      "\u001b[34mdate\u001b[39m (1): date\n",
      "\n",
      "\u001b[36mℹ\u001b[39m Use `spec()` to retrieve the full column specification for this data.\n",
      "\u001b[36mℹ\u001b[39m Specify the column types or set `show_col_types = FALSE` to quiet this message.\n",
      "\u001b[1mRows: \u001b[22m\u001b[34m35040\u001b[39m \u001b[1mColumns: \u001b[22m\u001b[34m10\u001b[39m\n",
      "\u001b[36m──\u001b[39m \u001b[1mColumn specification\u001b[22m \u001b[36m────────────────────────────────────────────────────────\u001b[39m\n",
      "\u001b[1mDelimiter:\u001b[22m \",\"\n",
      "\u001b[31mchr\u001b[39m  (1): site_name\n",
      "\u001b[32mdbl\u001b[39m  (5): day_of_week, day_of_year, interval_of_day, avg_mph, total_volume\n",
      "\u001b[33mlgl\u001b[39m  (2): missing_speed, missing_volume\n",
      "\u001b[34mdttm\u001b[39m (1): timestamp\n",
      "\u001b[34mdate\u001b[39m (1): date\n",
      "\n",
      "\u001b[36mℹ\u001b[39m Use `spec()` to retrieve the full column specification for this data.\n",
      "\u001b[36mℹ\u001b[39m Specify the column types or set `show_col_types = FALSE` to quiet this message.\n",
      "\u001b[1mRows: \u001b[22m\u001b[34m35040\u001b[39m \u001b[1mColumns: \u001b[22m\u001b[34m10\u001b[39m\n",
      "\u001b[36m──\u001b[39m \u001b[1mColumn specification\u001b[22m \u001b[36m────────────────────────────────────────────────────────\u001b[39m\n",
      "\u001b[1mDelimiter:\u001b[22m \",\"\n",
      "\u001b[31mchr\u001b[39m  (1): site_name\n",
      "\u001b[32mdbl\u001b[39m  (5): day_of_week, day_of_year, interval_of_day, avg_mph, total_volume\n",
      "\u001b[33mlgl\u001b[39m  (2): missing_speed, missing_volume\n",
      "\u001b[34mdttm\u001b[39m (1): timestamp\n",
      "\u001b[34mdate\u001b[39m (1): date\n",
      "\n",
      "\u001b[36mℹ\u001b[39m Use `spec()` to retrieve the full column specification for this data.\n",
      "\u001b[36mℹ\u001b[39m Specify the column types or set `show_col_types = FALSE` to quiet this message.\n",
      "\u001b[1mRows: \u001b[22m\u001b[34m35040\u001b[39m \u001b[1mColumns: \u001b[22m\u001b[34m10\u001b[39m\n",
      "\u001b[36m──\u001b[39m \u001b[1mColumn specification\u001b[22m \u001b[36m────────────────────────────────────────────────────────\u001b[39m\n",
      "\u001b[1mDelimiter:\u001b[22m \",\"\n",
      "\u001b[31mchr\u001b[39m  (1): site_name\n",
      "\u001b[32mdbl\u001b[39m  (5): day_of_week, day_of_year, interval_of_day, avg_mph, total_volume\n",
      "\u001b[33mlgl\u001b[39m  (2): missing_speed, missing_volume\n",
      "\u001b[34mdttm\u001b[39m (1): timestamp\n",
      "\u001b[34mdate\u001b[39m (1): date\n",
      "\n",
      "\u001b[36mℹ\u001b[39m Use `spec()` to retrieve the full column specification for this data.\n",
      "\u001b[36mℹ\u001b[39m Specify the column types or set `show_col_types = FALSE` to quiet this message.\n",
      "\u001b[1mRows: \u001b[22m\u001b[34m35040\u001b[39m \u001b[1mColumns: \u001b[22m\u001b[34m10\u001b[39m\n",
      "\u001b[36m──\u001b[39m \u001b[1mColumn specification\u001b[22m \u001b[36m────────────────────────────────────────────────────────\u001b[39m\n",
      "\u001b[1mDelimiter:\u001b[22m \",\"\n",
      "\u001b[31mchr\u001b[39m  (1): site_name\n",
      "\u001b[32mdbl\u001b[39m  (5): day_of_week, day_of_year, interval_of_day, avg_mph, total_volume\n",
      "\u001b[33mlgl\u001b[39m  (2): missing_speed, missing_volume\n",
      "\u001b[34mdttm\u001b[39m (1): timestamp\n",
      "\u001b[34mdate\u001b[39m (1): date\n",
      "\n",
      "\u001b[36mℹ\u001b[39m Use `spec()` to retrieve the full column specification for this data.\n",
      "\u001b[36mℹ\u001b[39m Specify the column types or set `show_col_types = FALSE` to quiet this message.\n",
      "\u001b[1mRows: \u001b[22m\u001b[34m35040\u001b[39m \u001b[1mColumns: \u001b[22m\u001b[34m10\u001b[39m\n",
      "\u001b[36m──\u001b[39m \u001b[1mColumn specification\u001b[22m \u001b[36m────────────────────────────────────────────────────────\u001b[39m\n",
      "\u001b[1mDelimiter:\u001b[22m \",\"\n",
      "\u001b[31mchr\u001b[39m  (1): site_name\n",
      "\u001b[32mdbl\u001b[39m  (5): day_of_week, day_of_year, interval_of_day, avg_mph, total_volume\n",
      "\u001b[33mlgl\u001b[39m  (2): missing_speed, missing_volume\n",
      "\u001b[34mdttm\u001b[39m (1): timestamp\n",
      "\u001b[34mdate\u001b[39m (1): date\n",
      "\n",
      "\u001b[36mℹ\u001b[39m Use `spec()` to retrieve the full column specification for this data.\n",
      "\u001b[36mℹ\u001b[39m Specify the column types or set `show_col_types = FALSE` to quiet this message.\n",
      "\u001b[1mRows: \u001b[22m\u001b[34m35040\u001b[39m \u001b[1mColumns: \u001b[22m\u001b[34m10\u001b[39m\n",
      "\u001b[36m──\u001b[39m \u001b[1mColumn specification\u001b[22m \u001b[36m────────────────────────────────────────────────────────\u001b[39m\n",
      "\u001b[1mDelimiter:\u001b[22m \",\"\n",
      "\u001b[31mchr\u001b[39m  (1): site_name\n",
      "\u001b[32mdbl\u001b[39m  (5): day_of_week, day_of_year, interval_of_day, avg_mph, total_volume\n",
      "\u001b[33mlgl\u001b[39m  (2): missing_speed, missing_volume\n",
      "\u001b[34mdttm\u001b[39m (1): timestamp\n",
      "\u001b[34mdate\u001b[39m (1): date\n",
      "\n",
      "\u001b[36mℹ\u001b[39m Use `spec()` to retrieve the full column specification for this data.\n",
      "\u001b[36mℹ\u001b[39m Specify the column types or set `show_col_types = FALSE` to quiet this message.\n",
      "\u001b[1mRows: \u001b[22m\u001b[34m35040\u001b[39m \u001b[1mColumns: \u001b[22m\u001b[34m10\u001b[39m\n",
      "\u001b[36m──\u001b[39m \u001b[1mColumn specification\u001b[22m \u001b[36m────────────────────────────────────────────────────────\u001b[39m\n",
      "\u001b[1mDelimiter:\u001b[22m \",\"\n",
      "\u001b[31mchr\u001b[39m  (1): site_name\n",
      "\u001b[32mdbl\u001b[39m  (5): day_of_week, day_of_year, interval_of_day, avg_mph, total_volume\n",
      "\u001b[33mlgl\u001b[39m  (2): missing_speed, missing_volume\n",
      "\u001b[34mdttm\u001b[39m (1): timestamp\n",
      "\u001b[34mdate\u001b[39m (1): date\n",
      "\n",
      "\u001b[36mℹ\u001b[39m Use `spec()` to retrieve the full column specification for this data.\n",
      "\u001b[36mℹ\u001b[39m Specify the column types or set `show_col_types = FALSE` to quiet this message.\n",
      "\u001b[1mRows: \u001b[22m\u001b[34m35040\u001b[39m \u001b[1mColumns: \u001b[22m\u001b[34m10\u001b[39m\n",
      "\u001b[36m──\u001b[39m \u001b[1mColumn specification\u001b[22m \u001b[36m────────────────────────────────────────────────────────\u001b[39m\n",
      "\u001b[1mDelimiter:\u001b[22m \",\"\n",
      "\u001b[31mchr\u001b[39m  (1): site_name\n",
      "\u001b[32mdbl\u001b[39m  (5): day_of_week, day_of_year, interval_of_day, avg_mph, total_volume\n",
      "\u001b[33mlgl\u001b[39m  (2): missing_speed, missing_volume\n",
      "\u001b[34mdttm\u001b[39m (1): timestamp\n",
      "\u001b[34mdate\u001b[39m (1): date\n",
      "\n",
      "\u001b[36mℹ\u001b[39m Use `spec()` to retrieve the full column specification for this data.\n",
      "\u001b[36mℹ\u001b[39m Specify the column types or set `show_col_types = FALSE` to quiet this message.\n",
      "\u001b[1mRows: \u001b[22m\u001b[34m35040\u001b[39m \u001b[1mColumns: \u001b[22m\u001b[34m10\u001b[39m\n",
      "\u001b[36m──\u001b[39m \u001b[1mColumn specification\u001b[22m \u001b[36m────────────────────────────────────────────────────────\u001b[39m\n",
      "\u001b[1mDelimiter:\u001b[22m \",\"\n",
      "\u001b[31mchr\u001b[39m  (1): site_name\n",
      "\u001b[32mdbl\u001b[39m  (5): day_of_week, day_of_year, interval_of_day, avg_mph, total_volume\n",
      "\u001b[33mlgl\u001b[39m  (2): missing_speed, missing_volume\n",
      "\u001b[34mdttm\u001b[39m (1): timestamp\n",
      "\u001b[34mdate\u001b[39m (1): date\n",
      "\n",
      "\u001b[36mℹ\u001b[39m Use `spec()` to retrieve the full column specification for this data.\n",
      "\u001b[36mℹ\u001b[39m Specify the column types or set `show_col_types = FALSE` to quiet this message.\n",
      "\u001b[1mRows: \u001b[22m\u001b[34m35040\u001b[39m \u001b[1mColumns: \u001b[22m\u001b[34m10\u001b[39m\n",
      "\u001b[36m──\u001b[39m \u001b[1mColumn specification\u001b[22m \u001b[36m────────────────────────────────────────────────────────\u001b[39m\n",
      "\u001b[1mDelimiter:\u001b[22m \",\"\n",
      "\u001b[31mchr\u001b[39m  (1): site_name\n",
      "\u001b[32mdbl\u001b[39m  (5): day_of_week, day_of_year, interval_of_day, avg_mph, total_volume\n",
      "\u001b[33mlgl\u001b[39m  (2): missing_speed, missing_volume\n",
      "\u001b[34mdttm\u001b[39m (1): timestamp\n",
      "\u001b[34mdate\u001b[39m (1): date\n",
      "\n",
      "\u001b[36mℹ\u001b[39m Use `spec()` to retrieve the full column specification for this data.\n",
      "\u001b[36mℹ\u001b[39m Specify the column types or set `show_col_types = FALSE` to quiet this message.\n"
     ]
    },
    {
     "name": "stderr",
     "output_type": "stream",
     "text": [
      "\u001b[1mRows: \u001b[22m\u001b[34m35040\u001b[39m \u001b[1mColumns: \u001b[22m\u001b[34m10\u001b[39m\n",
      "\u001b[36m──\u001b[39m \u001b[1mColumn specification\u001b[22m \u001b[36m────────────────────────────────────────────────────────\u001b[39m\n",
      "\u001b[1mDelimiter:\u001b[22m \",\"\n",
      "\u001b[31mchr\u001b[39m  (1): site_name\n",
      "\u001b[32mdbl\u001b[39m  (5): day_of_week, day_of_year, interval_of_day, avg_mph, total_volume\n",
      "\u001b[33mlgl\u001b[39m  (2): missing_speed, missing_volume\n",
      "\u001b[34mdttm\u001b[39m (1): timestamp\n",
      "\u001b[34mdate\u001b[39m (1): date\n",
      "\n",
      "\u001b[36mℹ\u001b[39m Use `spec()` to retrieve the full column specification for this data.\n",
      "\u001b[36mℹ\u001b[39m Specify the column types or set `show_col_types = FALSE` to quiet this message.\n",
      "\u001b[1mRows: \u001b[22m\u001b[34m35040\u001b[39m \u001b[1mColumns: \u001b[22m\u001b[34m10\u001b[39m\n",
      "\u001b[36m──\u001b[39m \u001b[1mColumn specification\u001b[22m \u001b[36m────────────────────────────────────────────────────────\u001b[39m\n",
      "\u001b[1mDelimiter:\u001b[22m \",\"\n",
      "\u001b[31mchr\u001b[39m  (1): site_name\n",
      "\u001b[32mdbl\u001b[39m  (5): day_of_week, day_of_year, interval_of_day, avg_mph, total_volume\n",
      "\u001b[33mlgl\u001b[39m  (2): missing_speed, missing_volume\n",
      "\u001b[34mdttm\u001b[39m (1): timestamp\n",
      "\u001b[34mdate\u001b[39m (1): date\n",
      "\n",
      "\u001b[36mℹ\u001b[39m Use `spec()` to retrieve the full column specification for this data.\n",
      "\u001b[36mℹ\u001b[39m Specify the column types or set `show_col_types = FALSE` to quiet this message.\n",
      "\u001b[1mRows: \u001b[22m\u001b[34m35040\u001b[39m \u001b[1mColumns: \u001b[22m\u001b[34m10\u001b[39m\n",
      "\u001b[36m──\u001b[39m \u001b[1mColumn specification\u001b[22m \u001b[36m────────────────────────────────────────────────────────\u001b[39m\n",
      "\u001b[1mDelimiter:\u001b[22m \",\"\n",
      "\u001b[31mchr\u001b[39m  (1): site_name\n",
      "\u001b[32mdbl\u001b[39m  (5): day_of_week, day_of_year, interval_of_day, avg_mph, total_volume\n",
      "\u001b[33mlgl\u001b[39m  (2): missing_speed, missing_volume\n",
      "\u001b[34mdttm\u001b[39m (1): timestamp\n",
      "\u001b[34mdate\u001b[39m (1): date\n",
      "\n",
      "\u001b[36mℹ\u001b[39m Use `spec()` to retrieve the full column specification for this data.\n",
      "\u001b[36mℹ\u001b[39m Specify the column types or set `show_col_types = FALSE` to quiet this message.\n",
      "\u001b[1mRows: \u001b[22m\u001b[34m35040\u001b[39m \u001b[1mColumns: \u001b[22m\u001b[34m10\u001b[39m\n",
      "\u001b[36m──\u001b[39m \u001b[1mColumn specification\u001b[22m \u001b[36m────────────────────────────────────────────────────────\u001b[39m\n",
      "\u001b[1mDelimiter:\u001b[22m \",\"\n",
      "\u001b[31mchr\u001b[39m  (1): site_name\n",
      "\u001b[32mdbl\u001b[39m  (5): day_of_week, day_of_year, interval_of_day, avg_mph, total_volume\n",
      "\u001b[33mlgl\u001b[39m  (2): missing_speed, missing_volume\n",
      "\u001b[34mdttm\u001b[39m (1): timestamp\n",
      "\u001b[34mdate\u001b[39m (1): date\n",
      "\n",
      "\u001b[36mℹ\u001b[39m Use `spec()` to retrieve the full column specification for this data.\n",
      "\u001b[36mℹ\u001b[39m Specify the column types or set `show_col_types = FALSE` to quiet this message.\n",
      "\u001b[1mRows: \u001b[22m\u001b[34m35040\u001b[39m \u001b[1mColumns: \u001b[22m\u001b[34m10\u001b[39m\n",
      "\u001b[36m──\u001b[39m \u001b[1mColumn specification\u001b[22m \u001b[36m────────────────────────────────────────────────────────\u001b[39m\n",
      "\u001b[1mDelimiter:\u001b[22m \",\"\n",
      "\u001b[31mchr\u001b[39m  (1): site_name\n",
      "\u001b[32mdbl\u001b[39m  (5): day_of_week, day_of_year, interval_of_day, avg_mph, total_volume\n",
      "\u001b[33mlgl\u001b[39m  (2): missing_speed, missing_volume\n",
      "\u001b[34mdttm\u001b[39m (1): timestamp\n",
      "\u001b[34mdate\u001b[39m (1): date\n",
      "\n",
      "\u001b[36mℹ\u001b[39m Use `spec()` to retrieve the full column specification for this data.\n",
      "\u001b[36mℹ\u001b[39m Specify the column types or set `show_col_types = FALSE` to quiet this message.\n",
      "\u001b[1mRows: \u001b[22m\u001b[34m35040\u001b[39m \u001b[1mColumns: \u001b[22m\u001b[34m10\u001b[39m\n",
      "\u001b[36m──\u001b[39m \u001b[1mColumn specification\u001b[22m \u001b[36m────────────────────────────────────────────────────────\u001b[39m\n",
      "\u001b[1mDelimiter:\u001b[22m \",\"\n",
      "\u001b[31mchr\u001b[39m  (1): site_name\n",
      "\u001b[32mdbl\u001b[39m  (5): day_of_week, day_of_year, interval_of_day, avg_mph, total_volume\n",
      "\u001b[33mlgl\u001b[39m  (2): missing_speed, missing_volume\n",
      "\u001b[34mdttm\u001b[39m (1): timestamp\n",
      "\u001b[34mdate\u001b[39m (1): date\n",
      "\n",
      "\u001b[36mℹ\u001b[39m Use `spec()` to retrieve the full column specification for this data.\n",
      "\u001b[36mℹ\u001b[39m Specify the column types or set `show_col_types = FALSE` to quiet this message.\n",
      "\u001b[1mRows: \u001b[22m\u001b[34m35040\u001b[39m \u001b[1mColumns: \u001b[22m\u001b[34m10\u001b[39m\n",
      "\u001b[36m──\u001b[39m \u001b[1mColumn specification\u001b[22m \u001b[36m────────────────────────────────────────────────────────\u001b[39m\n",
      "\u001b[1mDelimiter:\u001b[22m \",\"\n",
      "\u001b[31mchr\u001b[39m  (1): site_name\n",
      "\u001b[32mdbl\u001b[39m  (5): day_of_week, day_of_year, interval_of_day, avg_mph, total_volume\n",
      "\u001b[33mlgl\u001b[39m  (2): missing_speed, missing_volume\n",
      "\u001b[34mdttm\u001b[39m (1): timestamp\n",
      "\u001b[34mdate\u001b[39m (1): date\n",
      "\n",
      "\u001b[36mℹ\u001b[39m Use `spec()` to retrieve the full column specification for this data.\n",
      "\u001b[36mℹ\u001b[39m Specify the column types or set `show_col_types = FALSE` to quiet this message.\n",
      "\u001b[1mRows: \u001b[22m\u001b[34m35040\u001b[39m \u001b[1mColumns: \u001b[22m\u001b[34m10\u001b[39m\n",
      "\u001b[36m──\u001b[39m \u001b[1mColumn specification\u001b[22m \u001b[36m────────────────────────────────────────────────────────\u001b[39m\n",
      "\u001b[1mDelimiter:\u001b[22m \",\"\n",
      "\u001b[31mchr\u001b[39m  (1): site_name\n",
      "\u001b[32mdbl\u001b[39m  (5): day_of_week, day_of_year, interval_of_day, avg_mph, total_volume\n",
      "\u001b[33mlgl\u001b[39m  (2): missing_speed, missing_volume\n",
      "\u001b[34mdttm\u001b[39m (1): timestamp\n",
      "\u001b[34mdate\u001b[39m (1): date\n",
      "\n",
      "\u001b[36mℹ\u001b[39m Use `spec()` to retrieve the full column specification for this data.\n",
      "\u001b[36mℹ\u001b[39m Specify the column types or set `show_col_types = FALSE` to quiet this message.\n",
      "\u001b[1mRows: \u001b[22m\u001b[34m35040\u001b[39m \u001b[1mColumns: \u001b[22m\u001b[34m10\u001b[39m\n",
      "\u001b[36m──\u001b[39m \u001b[1mColumn specification\u001b[22m \u001b[36m────────────────────────────────────────────────────────\u001b[39m\n",
      "\u001b[1mDelimiter:\u001b[22m \",\"\n",
      "\u001b[31mchr\u001b[39m  (1): site_name\n",
      "\u001b[32mdbl\u001b[39m  (5): day_of_week, day_of_year, interval_of_day, avg_mph, total_volume\n",
      "\u001b[33mlgl\u001b[39m  (2): missing_speed, missing_volume\n",
      "\u001b[34mdttm\u001b[39m (1): timestamp\n",
      "\u001b[34mdate\u001b[39m (1): date\n",
      "\n",
      "\u001b[36mℹ\u001b[39m Use `spec()` to retrieve the full column specification for this data.\n",
      "\u001b[36mℹ\u001b[39m Specify the column types or set `show_col_types = FALSE` to quiet this message.\n",
      "\u001b[1mRows: \u001b[22m\u001b[34m35040\u001b[39m \u001b[1mColumns: \u001b[22m\u001b[34m10\u001b[39m\n",
      "\u001b[36m──\u001b[39m \u001b[1mColumn specification\u001b[22m \u001b[36m────────────────────────────────────────────────────────\u001b[39m\n",
      "\u001b[1mDelimiter:\u001b[22m \",\"\n",
      "\u001b[31mchr\u001b[39m  (1): site_name\n",
      "\u001b[32mdbl\u001b[39m  (5): day_of_week, day_of_year, interval_of_day, avg_mph, total_volume\n",
      "\u001b[33mlgl\u001b[39m  (2): missing_speed, missing_volume\n",
      "\u001b[34mdttm\u001b[39m (1): timestamp\n",
      "\u001b[34mdate\u001b[39m (1): date\n",
      "\n",
      "\u001b[36mℹ\u001b[39m Use `spec()` to retrieve the full column specification for this data.\n",
      "\u001b[36mℹ\u001b[39m Specify the column types or set `show_col_types = FALSE` to quiet this message.\n",
      "\u001b[1mRows: \u001b[22m\u001b[34m35040\u001b[39m \u001b[1mColumns: \u001b[22m\u001b[34m10\u001b[39m\n",
      "\u001b[36m──\u001b[39m \u001b[1mColumn specification\u001b[22m \u001b[36m────────────────────────────────────────────────────────\u001b[39m\n",
      "\u001b[1mDelimiter:\u001b[22m \",\"\n",
      "\u001b[31mchr\u001b[39m  (1): site_name\n",
      "\u001b[32mdbl\u001b[39m  (5): day_of_week, day_of_year, interval_of_day, avg_mph, total_volume\n",
      "\u001b[33mlgl\u001b[39m  (2): missing_speed, missing_volume\n",
      "\u001b[34mdttm\u001b[39m (1): timestamp\n",
      "\u001b[34mdate\u001b[39m (1): date\n",
      "\n",
      "\u001b[36mℹ\u001b[39m Use `spec()` to retrieve the full column specification for this data.\n",
      "\u001b[36mℹ\u001b[39m Specify the column types or set `show_col_types = FALSE` to quiet this message.\n",
      "\u001b[1mRows: \u001b[22m\u001b[34m35040\u001b[39m \u001b[1mColumns: \u001b[22m\u001b[34m10\u001b[39m\n",
      "\u001b[36m──\u001b[39m \u001b[1mColumn specification\u001b[22m \u001b[36m────────────────────────────────────────────────────────\u001b[39m\n",
      "\u001b[1mDelimiter:\u001b[22m \",\"\n",
      "\u001b[31mchr\u001b[39m  (1): site_name\n",
      "\u001b[32mdbl\u001b[39m  (5): day_of_week, day_of_year, interval_of_day, avg_mph, total_volume\n",
      "\u001b[33mlgl\u001b[39m  (2): missing_speed, missing_volume\n",
      "\u001b[34mdttm\u001b[39m (1): timestamp\n",
      "\u001b[34mdate\u001b[39m (1): date\n",
      "\n",
      "\u001b[36mℹ\u001b[39m Use `spec()` to retrieve the full column specification for this data.\n",
      "\u001b[36mℹ\u001b[39m Specify the column types or set `show_col_types = FALSE` to quiet this message.\n",
      "\u001b[1mRows: \u001b[22m\u001b[34m35040\u001b[39m \u001b[1mColumns: \u001b[22m\u001b[34m10\u001b[39m\n",
      "\u001b[36m──\u001b[39m \u001b[1mColumn specification\u001b[22m \u001b[36m────────────────────────────────────────────────────────\u001b[39m\n",
      "\u001b[1mDelimiter:\u001b[22m \",\"\n",
      "\u001b[31mchr\u001b[39m  (1): site_name\n",
      "\u001b[32mdbl\u001b[39m  (5): day_of_week, day_of_year, interval_of_day, avg_mph, total_volume\n",
      "\u001b[33mlgl\u001b[39m  (2): missing_speed, missing_volume\n",
      "\u001b[34mdttm\u001b[39m (1): timestamp\n",
      "\u001b[34mdate\u001b[39m (1): date\n",
      "\n",
      "\u001b[36mℹ\u001b[39m Use `spec()` to retrieve the full column specification for this data.\n",
      "\u001b[36mℹ\u001b[39m Specify the column types or set `show_col_types = FALSE` to quiet this message.\n",
      "\u001b[1mRows: \u001b[22m\u001b[34m35040\u001b[39m \u001b[1mColumns: \u001b[22m\u001b[34m10\u001b[39m\n",
      "\u001b[36m──\u001b[39m \u001b[1mColumn specification\u001b[22m \u001b[36m────────────────────────────────────────────────────────\u001b[39m\n",
      "\u001b[1mDelimiter:\u001b[22m \",\"\n",
      "\u001b[31mchr\u001b[39m  (1): site_name\n",
      "\u001b[32mdbl\u001b[39m  (5): day_of_week, day_of_year, interval_of_day, avg_mph, total_volume\n",
      "\u001b[33mlgl\u001b[39m  (2): missing_speed, missing_volume\n",
      "\u001b[34mdttm\u001b[39m (1): timestamp\n",
      "\u001b[34mdate\u001b[39m (1): date\n",
      "\n",
      "\u001b[36mℹ\u001b[39m Use `spec()` to retrieve the full column specification for this data.\n",
      "\u001b[36mℹ\u001b[39m Specify the column types or set `show_col_types = FALSE` to quiet this message.\n"
     ]
    },
    {
     "name": "stderr",
     "output_type": "stream",
     "text": [
      "\u001b[1mRows: \u001b[22m\u001b[34m35040\u001b[39m \u001b[1mColumns: \u001b[22m\u001b[34m10\u001b[39m\n",
      "\u001b[36m──\u001b[39m \u001b[1mColumn specification\u001b[22m \u001b[36m────────────────────────────────────────────────────────\u001b[39m\n",
      "\u001b[1mDelimiter:\u001b[22m \",\"\n",
      "\u001b[31mchr\u001b[39m  (1): site_name\n",
      "\u001b[32mdbl\u001b[39m  (5): day_of_week, day_of_year, interval_of_day, avg_mph, total_volume\n",
      "\u001b[33mlgl\u001b[39m  (2): missing_speed, missing_volume\n",
      "\u001b[34mdttm\u001b[39m (1): timestamp\n",
      "\u001b[34mdate\u001b[39m (1): date\n",
      "\n",
      "\u001b[36mℹ\u001b[39m Use `spec()` to retrieve the full column specification for this data.\n",
      "\u001b[36mℹ\u001b[39m Specify the column types or set `show_col_types = FALSE` to quiet this message.\n",
      "\u001b[1mRows: \u001b[22m\u001b[34m35040\u001b[39m \u001b[1mColumns: \u001b[22m\u001b[34m10\u001b[39m\n",
      "\u001b[36m──\u001b[39m \u001b[1mColumn specification\u001b[22m \u001b[36m────────────────────────────────────────────────────────\u001b[39m\n",
      "\u001b[1mDelimiter:\u001b[22m \",\"\n",
      "\u001b[31mchr\u001b[39m  (1): site_name\n",
      "\u001b[32mdbl\u001b[39m  (5): day_of_week, day_of_year, interval_of_day, avg_mph, total_volume\n",
      "\u001b[33mlgl\u001b[39m  (2): missing_speed, missing_volume\n",
      "\u001b[34mdttm\u001b[39m (1): timestamp\n",
      "\u001b[34mdate\u001b[39m (1): date\n",
      "\n",
      "\u001b[36mℹ\u001b[39m Use `spec()` to retrieve the full column specification for this data.\n",
      "\u001b[36mℹ\u001b[39m Specify the column types or set `show_col_types = FALSE` to quiet this message.\n",
      "\u001b[1mRows: \u001b[22m\u001b[34m35040\u001b[39m \u001b[1mColumns: \u001b[22m\u001b[34m10\u001b[39m\n",
      "\u001b[36m──\u001b[39m \u001b[1mColumn specification\u001b[22m \u001b[36m────────────────────────────────────────────────────────\u001b[39m\n",
      "\u001b[1mDelimiter:\u001b[22m \",\"\n",
      "\u001b[31mchr\u001b[39m  (1): site_name\n",
      "\u001b[32mdbl\u001b[39m  (5): day_of_week, day_of_year, interval_of_day, avg_mph, total_volume\n",
      "\u001b[33mlgl\u001b[39m  (2): missing_speed, missing_volume\n",
      "\u001b[34mdttm\u001b[39m (1): timestamp\n",
      "\u001b[34mdate\u001b[39m (1): date\n",
      "\n",
      "\u001b[36mℹ\u001b[39m Use `spec()` to retrieve the full column specification for this data.\n",
      "\u001b[36mℹ\u001b[39m Specify the column types or set `show_col_types = FALSE` to quiet this message.\n",
      "\u001b[1mRows: \u001b[22m\u001b[34m35040\u001b[39m \u001b[1mColumns: \u001b[22m\u001b[34m10\u001b[39m\n",
      "\u001b[36m──\u001b[39m \u001b[1mColumn specification\u001b[22m \u001b[36m────────────────────────────────────────────────────────\u001b[39m\n",
      "\u001b[1mDelimiter:\u001b[22m \",\"\n",
      "\u001b[31mchr\u001b[39m  (1): site_name\n",
      "\u001b[32mdbl\u001b[39m  (5): day_of_week, day_of_year, interval_of_day, avg_mph, total_volume\n",
      "\u001b[33mlgl\u001b[39m  (2): missing_speed, missing_volume\n",
      "\u001b[34mdttm\u001b[39m (1): timestamp\n",
      "\u001b[34mdate\u001b[39m (1): date\n",
      "\n",
      "\u001b[36mℹ\u001b[39m Use `spec()` to retrieve the full column specification for this data.\n",
      "\u001b[36mℹ\u001b[39m Specify the column types or set `show_col_types = FALSE` to quiet this message.\n",
      "\u001b[1mRows: \u001b[22m\u001b[34m35040\u001b[39m \u001b[1mColumns: \u001b[22m\u001b[34m10\u001b[39m\n",
      "\u001b[36m──\u001b[39m \u001b[1mColumn specification\u001b[22m \u001b[36m────────────────────────────────────────────────────────\u001b[39m\n",
      "\u001b[1mDelimiter:\u001b[22m \",\"\n",
      "\u001b[31mchr\u001b[39m  (1): site_name\n",
      "\u001b[32mdbl\u001b[39m  (5): day_of_week, day_of_year, interval_of_day, avg_mph, total_volume\n",
      "\u001b[33mlgl\u001b[39m  (2): missing_speed, missing_volume\n",
      "\u001b[34mdttm\u001b[39m (1): timestamp\n",
      "\u001b[34mdate\u001b[39m (1): date\n",
      "\n",
      "\u001b[36mℹ\u001b[39m Use `spec()` to retrieve the full column specification for this data.\n",
      "\u001b[36mℹ\u001b[39m Specify the column types or set `show_col_types = FALSE` to quiet this message.\n",
      "\u001b[1mRows: \u001b[22m\u001b[34m35040\u001b[39m \u001b[1mColumns: \u001b[22m\u001b[34m10\u001b[39m\n",
      "\u001b[36m──\u001b[39m \u001b[1mColumn specification\u001b[22m \u001b[36m────────────────────────────────────────────────────────\u001b[39m\n",
      "\u001b[1mDelimiter:\u001b[22m \",\"\n",
      "\u001b[31mchr\u001b[39m  (1): site_name\n",
      "\u001b[32mdbl\u001b[39m  (5): day_of_week, day_of_year, interval_of_day, avg_mph, total_volume\n",
      "\u001b[33mlgl\u001b[39m  (2): missing_speed, missing_volume\n",
      "\u001b[34mdttm\u001b[39m (1): timestamp\n",
      "\u001b[34mdate\u001b[39m (1): date\n",
      "\n",
      "\u001b[36mℹ\u001b[39m Use `spec()` to retrieve the full column specification for this data.\n",
      "\u001b[36mℹ\u001b[39m Specify the column types or set `show_col_types = FALSE` to quiet this message.\n",
      "\u001b[1mRows: \u001b[22m\u001b[34m35040\u001b[39m \u001b[1mColumns: \u001b[22m\u001b[34m10\u001b[39m\n",
      "\u001b[36m──\u001b[39m \u001b[1mColumn specification\u001b[22m \u001b[36m────────────────────────────────────────────────────────\u001b[39m\n",
      "\u001b[1mDelimiter:\u001b[22m \",\"\n",
      "\u001b[31mchr\u001b[39m  (1): site_name\n",
      "\u001b[32mdbl\u001b[39m  (5): day_of_week, day_of_year, interval_of_day, avg_mph, total_volume\n",
      "\u001b[33mlgl\u001b[39m  (2): missing_speed, missing_volume\n",
      "\u001b[34mdttm\u001b[39m (1): timestamp\n",
      "\u001b[34mdate\u001b[39m (1): date\n",
      "\n",
      "\u001b[36mℹ\u001b[39m Use `spec()` to retrieve the full column specification for this data.\n",
      "\u001b[36mℹ\u001b[39m Specify the column types or set `show_col_types = FALSE` to quiet this message.\n",
      "\u001b[1mRows: \u001b[22m\u001b[34m35040\u001b[39m \u001b[1mColumns: \u001b[22m\u001b[34m10\u001b[39m\n",
      "\u001b[36m──\u001b[39m \u001b[1mColumn specification\u001b[22m \u001b[36m────────────────────────────────────────────────────────\u001b[39m\n",
      "\u001b[1mDelimiter:\u001b[22m \",\"\n",
      "\u001b[31mchr\u001b[39m  (1): site_name\n",
      "\u001b[32mdbl\u001b[39m  (5): day_of_week, day_of_year, interval_of_day, avg_mph, total_volume\n",
      "\u001b[33mlgl\u001b[39m  (2): missing_speed, missing_volume\n",
      "\u001b[34mdttm\u001b[39m (1): timestamp\n",
      "\u001b[34mdate\u001b[39m (1): date\n",
      "\n",
      "\u001b[36mℹ\u001b[39m Use `spec()` to retrieve the full column specification for this data.\n",
      "\u001b[36mℹ\u001b[39m Specify the column types or set `show_col_types = FALSE` to quiet this message.\n",
      "\u001b[1mRows: \u001b[22m\u001b[34m35040\u001b[39m \u001b[1mColumns: \u001b[22m\u001b[34m10\u001b[39m\n",
      "\u001b[36m──\u001b[39m \u001b[1mColumn specification\u001b[22m \u001b[36m────────────────────────────────────────────────────────\u001b[39m\n",
      "\u001b[1mDelimiter:\u001b[22m \",\"\n",
      "\u001b[31mchr\u001b[39m  (1): site_name\n",
      "\u001b[32mdbl\u001b[39m  (5): day_of_week, day_of_year, interval_of_day, avg_mph, total_volume\n",
      "\u001b[33mlgl\u001b[39m  (2): missing_speed, missing_volume\n",
      "\u001b[34mdttm\u001b[39m (1): timestamp\n",
      "\u001b[34mdate\u001b[39m (1): date\n",
      "\n",
      "\u001b[36mℹ\u001b[39m Use `spec()` to retrieve the full column specification for this data.\n",
      "\u001b[36mℹ\u001b[39m Specify the column types or set `show_col_types = FALSE` to quiet this message.\n",
      "\u001b[1mRows: \u001b[22m\u001b[34m35040\u001b[39m \u001b[1mColumns: \u001b[22m\u001b[34m10\u001b[39m\n",
      "\u001b[36m──\u001b[39m \u001b[1mColumn specification\u001b[22m \u001b[36m────────────────────────────────────────────────────────\u001b[39m\n",
      "\u001b[1mDelimiter:\u001b[22m \",\"\n",
      "\u001b[31mchr\u001b[39m  (1): site_name\n",
      "\u001b[32mdbl\u001b[39m  (5): day_of_week, day_of_year, interval_of_day, avg_mph, total_volume\n",
      "\u001b[33mlgl\u001b[39m  (2): missing_speed, missing_volume\n",
      "\u001b[34mdttm\u001b[39m (1): timestamp\n",
      "\u001b[34mdate\u001b[39m (1): date\n",
      "\n",
      "\u001b[36mℹ\u001b[39m Use `spec()` to retrieve the full column specification for this data.\n",
      "\u001b[36mℹ\u001b[39m Specify the column types or set `show_col_types = FALSE` to quiet this message.\n",
      "\u001b[1mRows: \u001b[22m\u001b[34m35040\u001b[39m \u001b[1mColumns: \u001b[22m\u001b[34m10\u001b[39m\n",
      "\u001b[36m──\u001b[39m \u001b[1mColumn specification\u001b[22m \u001b[36m────────────────────────────────────────────────────────\u001b[39m\n",
      "\u001b[1mDelimiter:\u001b[22m \",\"\n",
      "\u001b[31mchr\u001b[39m  (1): site_name\n",
      "\u001b[32mdbl\u001b[39m  (5): day_of_week, day_of_year, interval_of_day, avg_mph, total_volume\n",
      "\u001b[33mlgl\u001b[39m  (2): missing_speed, missing_volume\n",
      "\u001b[34mdttm\u001b[39m (1): timestamp\n",
      "\u001b[34mdate\u001b[39m (1): date\n",
      "\n",
      "\u001b[36mℹ\u001b[39m Use `spec()` to retrieve the full column specification for this data.\n",
      "\u001b[36mℹ\u001b[39m Specify the column types or set `show_col_types = FALSE` to quiet this message.\n",
      "\u001b[1mRows: \u001b[22m\u001b[34m35040\u001b[39m \u001b[1mColumns: \u001b[22m\u001b[34m10\u001b[39m\n",
      "\u001b[36m──\u001b[39m \u001b[1mColumn specification\u001b[22m \u001b[36m────────────────────────────────────────────────────────\u001b[39m\n",
      "\u001b[1mDelimiter:\u001b[22m \",\"\n",
      "\u001b[31mchr\u001b[39m  (1): site_name\n",
      "\u001b[32mdbl\u001b[39m  (5): day_of_week, day_of_year, interval_of_day, avg_mph, total_volume\n",
      "\u001b[33mlgl\u001b[39m  (2): missing_speed, missing_volume\n",
      "\u001b[34mdttm\u001b[39m (1): timestamp\n",
      "\u001b[34mdate\u001b[39m (1): date\n",
      "\n",
      "\u001b[36mℹ\u001b[39m Use `spec()` to retrieve the full column specification for this data.\n",
      "\u001b[36mℹ\u001b[39m Specify the column types or set `show_col_types = FALSE` to quiet this message.\n",
      "\u001b[1mRows: \u001b[22m\u001b[34m35040\u001b[39m \u001b[1mColumns: \u001b[22m\u001b[34m10\u001b[39m\n",
      "\u001b[36m──\u001b[39m \u001b[1mColumn specification\u001b[22m \u001b[36m────────────────────────────────────────────────────────\u001b[39m\n",
      "\u001b[1mDelimiter:\u001b[22m \",\"\n",
      "\u001b[31mchr\u001b[39m  (1): site_name\n",
      "\u001b[32mdbl\u001b[39m  (5): day_of_week, day_of_year, interval_of_day, avg_mph, total_volume\n",
      "\u001b[33mlgl\u001b[39m  (2): missing_speed, missing_volume\n",
      "\u001b[34mdttm\u001b[39m (1): timestamp\n",
      "\u001b[34mdate\u001b[39m (1): date\n",
      "\n",
      "\u001b[36mℹ\u001b[39m Use `spec()` to retrieve the full column specification for this data.\n",
      "\u001b[36mℹ\u001b[39m Specify the column types or set `show_col_types = FALSE` to quiet this message.\n",
      "\u001b[1mRows: \u001b[22m\u001b[34m35040\u001b[39m \u001b[1mColumns: \u001b[22m\u001b[34m10\u001b[39m\n",
      "\u001b[36m──\u001b[39m \u001b[1mColumn specification\u001b[22m \u001b[36m────────────────────────────────────────────────────────\u001b[39m\n",
      "\u001b[1mDelimiter:\u001b[22m \",\"\n",
      "\u001b[31mchr\u001b[39m  (1): site_name\n",
      "\u001b[32mdbl\u001b[39m  (5): day_of_week, day_of_year, interval_of_day, avg_mph, total_volume\n",
      "\u001b[33mlgl\u001b[39m  (2): missing_speed, missing_volume\n",
      "\u001b[34mdttm\u001b[39m (1): timestamp\n",
      "\u001b[34mdate\u001b[39m (1): date\n",
      "\n",
      "\u001b[36mℹ\u001b[39m Use `spec()` to retrieve the full column specification for this data.\n",
      "\u001b[36mℹ\u001b[39m Specify the column types or set `show_col_types = FALSE` to quiet this message.\n"
     ]
    },
    {
     "name": "stderr",
     "output_type": "stream",
     "text": [
      "\u001b[1mRows: \u001b[22m\u001b[34m35040\u001b[39m \u001b[1mColumns: \u001b[22m\u001b[34m10\u001b[39m\n",
      "\u001b[36m──\u001b[39m \u001b[1mColumn specification\u001b[22m \u001b[36m────────────────────────────────────────────────────────\u001b[39m\n",
      "\u001b[1mDelimiter:\u001b[22m \",\"\n",
      "\u001b[31mchr\u001b[39m  (1): site_name\n",
      "\u001b[32mdbl\u001b[39m  (5): day_of_week, day_of_year, interval_of_day, avg_mph, total_volume\n",
      "\u001b[33mlgl\u001b[39m  (2): missing_speed, missing_volume\n",
      "\u001b[34mdttm\u001b[39m (1): timestamp\n",
      "\u001b[34mdate\u001b[39m (1): date\n",
      "\n",
      "\u001b[36mℹ\u001b[39m Use `spec()` to retrieve the full column specification for this data.\n",
      "\u001b[36mℹ\u001b[39m Specify the column types or set `show_col_types = FALSE` to quiet this message.\n",
      "\u001b[1mRows: \u001b[22m\u001b[34m35040\u001b[39m \u001b[1mColumns: \u001b[22m\u001b[34m10\u001b[39m\n",
      "\u001b[36m──\u001b[39m \u001b[1mColumn specification\u001b[22m \u001b[36m────────────────────────────────────────────────────────\u001b[39m\n",
      "\u001b[1mDelimiter:\u001b[22m \",\"\n",
      "\u001b[31mchr\u001b[39m  (1): site_name\n",
      "\u001b[32mdbl\u001b[39m  (5): day_of_week, day_of_year, interval_of_day, avg_mph, total_volume\n",
      "\u001b[33mlgl\u001b[39m  (2): missing_speed, missing_volume\n",
      "\u001b[34mdttm\u001b[39m (1): timestamp\n",
      "\u001b[34mdate\u001b[39m (1): date\n",
      "\n",
      "\u001b[36mℹ\u001b[39m Use `spec()` to retrieve the full column specification for this data.\n",
      "\u001b[36mℹ\u001b[39m Specify the column types or set `show_col_types = FALSE` to quiet this message.\n",
      "\u001b[1mRows: \u001b[22m\u001b[34m35040\u001b[39m \u001b[1mColumns: \u001b[22m\u001b[34m10\u001b[39m\n",
      "\u001b[36m──\u001b[39m \u001b[1mColumn specification\u001b[22m \u001b[36m────────────────────────────────────────────────────────\u001b[39m\n",
      "\u001b[1mDelimiter:\u001b[22m \",\"\n",
      "\u001b[31mchr\u001b[39m  (1): site_name\n",
      "\u001b[32mdbl\u001b[39m  (5): day_of_week, day_of_year, interval_of_day, avg_mph, total_volume\n",
      "\u001b[33mlgl\u001b[39m  (2): missing_speed, missing_volume\n",
      "\u001b[34mdttm\u001b[39m (1): timestamp\n",
      "\u001b[34mdate\u001b[39m (1): date\n",
      "\n",
      "\u001b[36mℹ\u001b[39m Use `spec()` to retrieve the full column specification for this data.\n",
      "\u001b[36mℹ\u001b[39m Specify the column types or set `show_col_types = FALSE` to quiet this message.\n",
      "\u001b[1mRows: \u001b[22m\u001b[34m35040\u001b[39m \u001b[1mColumns: \u001b[22m\u001b[34m10\u001b[39m\n",
      "\u001b[36m──\u001b[39m \u001b[1mColumn specification\u001b[22m \u001b[36m────────────────────────────────────────────────────────\u001b[39m\n",
      "\u001b[1mDelimiter:\u001b[22m \",\"\n",
      "\u001b[31mchr\u001b[39m  (1): site_name\n",
      "\u001b[32mdbl\u001b[39m  (5): day_of_week, day_of_year, interval_of_day, avg_mph, total_volume\n",
      "\u001b[33mlgl\u001b[39m  (2): missing_speed, missing_volume\n",
      "\u001b[34mdttm\u001b[39m (1): timestamp\n",
      "\u001b[34mdate\u001b[39m (1): date\n",
      "\n",
      "\u001b[36mℹ\u001b[39m Use `spec()` to retrieve the full column specification for this data.\n",
      "\u001b[36mℹ\u001b[39m Specify the column types or set `show_col_types = FALSE` to quiet this message.\n",
      "\u001b[1mRows: \u001b[22m\u001b[34m35040\u001b[39m \u001b[1mColumns: \u001b[22m\u001b[34m10\u001b[39m\n",
      "\u001b[36m──\u001b[39m \u001b[1mColumn specification\u001b[22m \u001b[36m────────────────────────────────────────────────────────\u001b[39m\n",
      "\u001b[1mDelimiter:\u001b[22m \",\"\n",
      "\u001b[31mchr\u001b[39m  (1): site_name\n",
      "\u001b[32mdbl\u001b[39m  (5): day_of_week, day_of_year, interval_of_day, avg_mph, total_volume\n",
      "\u001b[33mlgl\u001b[39m  (2): missing_speed, missing_volume\n",
      "\u001b[34mdttm\u001b[39m (1): timestamp\n",
      "\u001b[34mdate\u001b[39m (1): date\n",
      "\n",
      "\u001b[36mℹ\u001b[39m Use `spec()` to retrieve the full column specification for this data.\n",
      "\u001b[36mℹ\u001b[39m Specify the column types or set `show_col_types = FALSE` to quiet this message.\n",
      "\u001b[1mRows: \u001b[22m\u001b[34m35040\u001b[39m \u001b[1mColumns: \u001b[22m\u001b[34m10\u001b[39m\n",
      "\u001b[36m──\u001b[39m \u001b[1mColumn specification\u001b[22m \u001b[36m────────────────────────────────────────────────────────\u001b[39m\n",
      "\u001b[1mDelimiter:\u001b[22m \",\"\n",
      "\u001b[31mchr\u001b[39m  (1): site_name\n",
      "\u001b[32mdbl\u001b[39m  (5): day_of_week, day_of_year, interval_of_day, avg_mph, total_volume\n",
      "\u001b[33mlgl\u001b[39m  (2): missing_speed, missing_volume\n",
      "\u001b[34mdttm\u001b[39m (1): timestamp\n",
      "\u001b[34mdate\u001b[39m (1): date\n",
      "\n",
      "\u001b[36mℹ\u001b[39m Use `spec()` to retrieve the full column specification for this data.\n",
      "\u001b[36mℹ\u001b[39m Specify the column types or set `show_col_types = FALSE` to quiet this message.\n",
      "\u001b[1mRows: \u001b[22m\u001b[34m35040\u001b[39m \u001b[1mColumns: \u001b[22m\u001b[34m10\u001b[39m\n",
      "\u001b[36m──\u001b[39m \u001b[1mColumn specification\u001b[22m \u001b[36m────────────────────────────────────────────────────────\u001b[39m\n",
      "\u001b[1mDelimiter:\u001b[22m \",\"\n",
      "\u001b[31mchr\u001b[39m  (1): site_name\n",
      "\u001b[32mdbl\u001b[39m  (5): day_of_week, day_of_year, interval_of_day, avg_mph, total_volume\n",
      "\u001b[33mlgl\u001b[39m  (2): missing_speed, missing_volume\n",
      "\u001b[34mdttm\u001b[39m (1): timestamp\n",
      "\u001b[34mdate\u001b[39m (1): date\n",
      "\n",
      "\u001b[36mℹ\u001b[39m Use `spec()` to retrieve the full column specification for this data.\n",
      "\u001b[36mℹ\u001b[39m Specify the column types or set `show_col_types = FALSE` to quiet this message.\n",
      "\u001b[1mRows: \u001b[22m\u001b[34m35040\u001b[39m \u001b[1mColumns: \u001b[22m\u001b[34m10\u001b[39m\n",
      "\u001b[36m──\u001b[39m \u001b[1mColumn specification\u001b[22m \u001b[36m────────────────────────────────────────────────────────\u001b[39m\n",
      "\u001b[1mDelimiter:\u001b[22m \",\"\n",
      "\u001b[31mchr\u001b[39m  (1): site_name\n",
      "\u001b[32mdbl\u001b[39m  (5): day_of_week, day_of_year, interval_of_day, avg_mph, total_volume\n",
      "\u001b[33mlgl\u001b[39m  (2): missing_speed, missing_volume\n",
      "\u001b[34mdttm\u001b[39m (1): timestamp\n",
      "\u001b[34mdate\u001b[39m (1): date\n",
      "\n",
      "\u001b[36mℹ\u001b[39m Use `spec()` to retrieve the full column specification for this data.\n",
      "\u001b[36mℹ\u001b[39m Specify the column types or set `show_col_types = FALSE` to quiet this message.\n",
      "\u001b[1mRows: \u001b[22m\u001b[34m35040\u001b[39m \u001b[1mColumns: \u001b[22m\u001b[34m10\u001b[39m\n",
      "\u001b[36m──\u001b[39m \u001b[1mColumn specification\u001b[22m \u001b[36m────────────────────────────────────────────────────────\u001b[39m\n",
      "\u001b[1mDelimiter:\u001b[22m \",\"\n",
      "\u001b[31mchr\u001b[39m  (1): site_name\n",
      "\u001b[32mdbl\u001b[39m  (5): day_of_week, day_of_year, interval_of_day, avg_mph, total_volume\n",
      "\u001b[33mlgl\u001b[39m  (2): missing_speed, missing_volume\n",
      "\u001b[34mdttm\u001b[39m (1): timestamp\n",
      "\u001b[34mdate\u001b[39m (1): date\n",
      "\n",
      "\u001b[36mℹ\u001b[39m Use `spec()` to retrieve the full column specification for this data.\n",
      "\u001b[36mℹ\u001b[39m Specify the column types or set `show_col_types = FALSE` to quiet this message.\n",
      "\u001b[1mRows: \u001b[22m\u001b[34m35040\u001b[39m \u001b[1mColumns: \u001b[22m\u001b[34m10\u001b[39m\n",
      "\u001b[36m──\u001b[39m \u001b[1mColumn specification\u001b[22m \u001b[36m────────────────────────────────────────────────────────\u001b[39m\n",
      "\u001b[1mDelimiter:\u001b[22m \",\"\n",
      "\u001b[31mchr\u001b[39m  (1): site_name\n",
      "\u001b[32mdbl\u001b[39m  (5): day_of_week, day_of_year, interval_of_day, avg_mph, total_volume\n",
      "\u001b[33mlgl\u001b[39m  (2): missing_speed, missing_volume\n",
      "\u001b[34mdttm\u001b[39m (1): timestamp\n",
      "\u001b[34mdate\u001b[39m (1): date\n",
      "\n",
      "\u001b[36mℹ\u001b[39m Use `spec()` to retrieve the full column specification for this data.\n",
      "\u001b[36mℹ\u001b[39m Specify the column types or set `show_col_types = FALSE` to quiet this message.\n",
      "\u001b[1mRows: \u001b[22m\u001b[34m35040\u001b[39m \u001b[1mColumns: \u001b[22m\u001b[34m10\u001b[39m\n",
      "\u001b[36m──\u001b[39m \u001b[1mColumn specification\u001b[22m \u001b[36m────────────────────────────────────────────────────────\u001b[39m\n",
      "\u001b[1mDelimiter:\u001b[22m \",\"\n",
      "\u001b[31mchr\u001b[39m  (1): site_name\n",
      "\u001b[32mdbl\u001b[39m  (5): day_of_week, day_of_year, interval_of_day, avg_mph, total_volume\n",
      "\u001b[33mlgl\u001b[39m  (2): missing_speed, missing_volume\n",
      "\u001b[34mdttm\u001b[39m (1): timestamp\n",
      "\u001b[34mdate\u001b[39m (1): date\n",
      "\n",
      "\u001b[36mℹ\u001b[39m Use `spec()` to retrieve the full column specification for this data.\n",
      "\u001b[36mℹ\u001b[39m Specify the column types or set `show_col_types = FALSE` to quiet this message.\n",
      "\u001b[1mRows: \u001b[22m\u001b[34m35040\u001b[39m \u001b[1mColumns: \u001b[22m\u001b[34m10\u001b[39m\n",
      "\u001b[36m──\u001b[39m \u001b[1mColumn specification\u001b[22m \u001b[36m────────────────────────────────────────────────────────\u001b[39m\n",
      "\u001b[1mDelimiter:\u001b[22m \",\"\n",
      "\u001b[31mchr\u001b[39m  (1): site_name\n",
      "\u001b[32mdbl\u001b[39m  (5): day_of_week, day_of_year, interval_of_day, avg_mph, total_volume\n",
      "\u001b[33mlgl\u001b[39m  (2): missing_speed, missing_volume\n",
      "\u001b[34mdttm\u001b[39m (1): timestamp\n",
      "\u001b[34mdate\u001b[39m (1): date\n",
      "\n",
      "\u001b[36mℹ\u001b[39m Use `spec()` to retrieve the full column specification for this data.\n",
      "\u001b[36mℹ\u001b[39m Specify the column types or set `show_col_types = FALSE` to quiet this message.\n",
      "\u001b[1mRows: \u001b[22m\u001b[34m35040\u001b[39m \u001b[1mColumns: \u001b[22m\u001b[34m10\u001b[39m\n",
      "\u001b[36m──\u001b[39m \u001b[1mColumn specification\u001b[22m \u001b[36m────────────────────────────────────────────────────────\u001b[39m\n",
      "\u001b[1mDelimiter:\u001b[22m \",\"\n",
      "\u001b[31mchr\u001b[39m  (1): site_name\n",
      "\u001b[32mdbl\u001b[39m  (5): day_of_week, day_of_year, interval_of_day, avg_mph, total_volume\n",
      "\u001b[33mlgl\u001b[39m  (2): missing_speed, missing_volume\n",
      "\u001b[34mdttm\u001b[39m (1): timestamp\n",
      "\u001b[34mdate\u001b[39m (1): date\n",
      "\n",
      "\u001b[36mℹ\u001b[39m Use `spec()` to retrieve the full column specification for this data.\n",
      "\u001b[36mℹ\u001b[39m Specify the column types or set `show_col_types = FALSE` to quiet this message.\n",
      "\u001b[1mRows: \u001b[22m\u001b[34m35040\u001b[39m \u001b[1mColumns: \u001b[22m\u001b[34m10\u001b[39m\n",
      "\u001b[36m──\u001b[39m \u001b[1mColumn specification\u001b[22m \u001b[36m────────────────────────────────────────────────────────\u001b[39m\n",
      "\u001b[1mDelimiter:\u001b[22m \",\"\n",
      "\u001b[31mchr\u001b[39m  (1): site_name\n",
      "\u001b[32mdbl\u001b[39m  (5): day_of_week, day_of_year, interval_of_day, avg_mph, total_volume\n",
      "\u001b[33mlgl\u001b[39m  (2): missing_speed, missing_volume\n",
      "\u001b[34mdttm\u001b[39m (1): timestamp\n",
      "\u001b[34mdate\u001b[39m (1): date\n",
      "\n",
      "\u001b[36mℹ\u001b[39m Use `spec()` to retrieve the full column specification for this data.\n",
      "\u001b[36mℹ\u001b[39m Specify the column types or set `show_col_types = FALSE` to quiet this message.\n"
     ]
    },
    {
     "name": "stderr",
     "output_type": "stream",
     "text": [
      "\u001b[1mRows: \u001b[22m\u001b[34m35040\u001b[39m \u001b[1mColumns: \u001b[22m\u001b[34m10\u001b[39m\n",
      "\u001b[36m──\u001b[39m \u001b[1mColumn specification\u001b[22m \u001b[36m────────────────────────────────────────────────────────\u001b[39m\n",
      "\u001b[1mDelimiter:\u001b[22m \",\"\n",
      "\u001b[31mchr\u001b[39m  (1): site_name\n",
      "\u001b[32mdbl\u001b[39m  (5): day_of_week, day_of_year, interval_of_day, avg_mph, total_volume\n",
      "\u001b[33mlgl\u001b[39m  (2): missing_speed, missing_volume\n",
      "\u001b[34mdttm\u001b[39m (1): timestamp\n",
      "\u001b[34mdate\u001b[39m (1): date\n",
      "\n",
      "\u001b[36mℹ\u001b[39m Use `spec()` to retrieve the full column specification for this data.\n",
      "\u001b[36mℹ\u001b[39m Specify the column types or set `show_col_types = FALSE` to quiet this message.\n",
      "\u001b[1mRows: \u001b[22m\u001b[34m35040\u001b[39m \u001b[1mColumns: \u001b[22m\u001b[34m10\u001b[39m\n",
      "\u001b[36m──\u001b[39m \u001b[1mColumn specification\u001b[22m \u001b[36m────────────────────────────────────────────────────────\u001b[39m\n",
      "\u001b[1mDelimiter:\u001b[22m \",\"\n",
      "\u001b[31mchr\u001b[39m  (1): site_name\n",
      "\u001b[32mdbl\u001b[39m  (5): day_of_week, day_of_year, interval_of_day, avg_mph, total_volume\n",
      "\u001b[33mlgl\u001b[39m  (2): missing_speed, missing_volume\n",
      "\u001b[34mdttm\u001b[39m (1): timestamp\n",
      "\u001b[34mdate\u001b[39m (1): date\n",
      "\n",
      "\u001b[36mℹ\u001b[39m Use `spec()` to retrieve the full column specification for this data.\n",
      "\u001b[36mℹ\u001b[39m Specify the column types or set `show_col_types = FALSE` to quiet this message.\n",
      "\u001b[1mRows: \u001b[22m\u001b[34m35040\u001b[39m \u001b[1mColumns: \u001b[22m\u001b[34m10\u001b[39m\n",
      "\u001b[36m──\u001b[39m \u001b[1mColumn specification\u001b[22m \u001b[36m────────────────────────────────────────────────────────\u001b[39m\n",
      "\u001b[1mDelimiter:\u001b[22m \",\"\n",
      "\u001b[31mchr\u001b[39m  (1): site_name\n",
      "\u001b[32mdbl\u001b[39m  (5): day_of_week, day_of_year, interval_of_day, avg_mph, total_volume\n",
      "\u001b[33mlgl\u001b[39m  (2): missing_speed, missing_volume\n",
      "\u001b[34mdttm\u001b[39m (1): timestamp\n",
      "\u001b[34mdate\u001b[39m (1): date\n",
      "\n",
      "\u001b[36mℹ\u001b[39m Use `spec()` to retrieve the full column specification for this data.\n",
      "\u001b[36mℹ\u001b[39m Specify the column types or set `show_col_types = FALSE` to quiet this message.\n",
      "\u001b[1mRows: \u001b[22m\u001b[34m35040\u001b[39m \u001b[1mColumns: \u001b[22m\u001b[34m10\u001b[39m\n",
      "\u001b[36m──\u001b[39m \u001b[1mColumn specification\u001b[22m \u001b[36m────────────────────────────────────────────────────────\u001b[39m\n",
      "\u001b[1mDelimiter:\u001b[22m \",\"\n",
      "\u001b[31mchr\u001b[39m  (1): site_name\n",
      "\u001b[32mdbl\u001b[39m  (5): day_of_week, day_of_year, interval_of_day, avg_mph, total_volume\n",
      "\u001b[33mlgl\u001b[39m  (2): missing_speed, missing_volume\n",
      "\u001b[34mdttm\u001b[39m (1): timestamp\n",
      "\u001b[34mdate\u001b[39m (1): date\n",
      "\n",
      "\u001b[36mℹ\u001b[39m Use `spec()` to retrieve the full column specification for this data.\n",
      "\u001b[36mℹ\u001b[39m Specify the column types or set `show_col_types = FALSE` to quiet this message.\n",
      "\u001b[1mRows: \u001b[22m\u001b[34m35040\u001b[39m \u001b[1mColumns: \u001b[22m\u001b[34m10\u001b[39m\n",
      "\u001b[36m──\u001b[39m \u001b[1mColumn specification\u001b[22m \u001b[36m────────────────────────────────────────────────────────\u001b[39m\n",
      "\u001b[1mDelimiter:\u001b[22m \",\"\n",
      "\u001b[31mchr\u001b[39m  (1): site_name\n",
      "\u001b[32mdbl\u001b[39m  (5): day_of_week, day_of_year, interval_of_day, avg_mph, total_volume\n",
      "\u001b[33mlgl\u001b[39m  (2): missing_speed, missing_volume\n",
      "\u001b[34mdttm\u001b[39m (1): timestamp\n",
      "\u001b[34mdate\u001b[39m (1): date\n",
      "\n",
      "\u001b[36mℹ\u001b[39m Use `spec()` to retrieve the full column specification for this data.\n",
      "\u001b[36mℹ\u001b[39m Specify the column types or set `show_col_types = FALSE` to quiet this message.\n",
      "\u001b[1mRows: \u001b[22m\u001b[34m35040\u001b[39m \u001b[1mColumns: \u001b[22m\u001b[34m10\u001b[39m\n",
      "\u001b[36m──\u001b[39m \u001b[1mColumn specification\u001b[22m \u001b[36m────────────────────────────────────────────────────────\u001b[39m\n",
      "\u001b[1mDelimiter:\u001b[22m \",\"\n",
      "\u001b[31mchr\u001b[39m  (1): site_name\n",
      "\u001b[32mdbl\u001b[39m  (5): day_of_week, day_of_year, interval_of_day, avg_mph, total_volume\n",
      "\u001b[33mlgl\u001b[39m  (2): missing_speed, missing_volume\n",
      "\u001b[34mdttm\u001b[39m (1): timestamp\n",
      "\u001b[34mdate\u001b[39m (1): date\n",
      "\n",
      "\u001b[36mℹ\u001b[39m Use `spec()` to retrieve the full column specification for this data.\n",
      "\u001b[36mℹ\u001b[39m Specify the column types or set `show_col_types = FALSE` to quiet this message.\n",
      "\u001b[1mRows: \u001b[22m\u001b[34m35040\u001b[39m \u001b[1mColumns: \u001b[22m\u001b[34m10\u001b[39m\n",
      "\u001b[36m──\u001b[39m \u001b[1mColumn specification\u001b[22m \u001b[36m────────────────────────────────────────────────────────\u001b[39m\n",
      "\u001b[1mDelimiter:\u001b[22m \",\"\n",
      "\u001b[31mchr\u001b[39m  (1): site_name\n",
      "\u001b[32mdbl\u001b[39m  (5): day_of_week, day_of_year, interval_of_day, avg_mph, total_volume\n",
      "\u001b[33mlgl\u001b[39m  (2): missing_speed, missing_volume\n",
      "\u001b[34mdttm\u001b[39m (1): timestamp\n",
      "\u001b[34mdate\u001b[39m (1): date\n",
      "\n",
      "\u001b[36mℹ\u001b[39m Use `spec()` to retrieve the full column specification for this data.\n",
      "\u001b[36mℹ\u001b[39m Specify the column types or set `show_col_types = FALSE` to quiet this message.\n",
      "\u001b[1mRows: \u001b[22m\u001b[34m35040\u001b[39m \u001b[1mColumns: \u001b[22m\u001b[34m10\u001b[39m\n",
      "\u001b[36m──\u001b[39m \u001b[1mColumn specification\u001b[22m \u001b[36m────────────────────────────────────────────────────────\u001b[39m\n",
      "\u001b[1mDelimiter:\u001b[22m \",\"\n",
      "\u001b[31mchr\u001b[39m  (1): site_name\n",
      "\u001b[32mdbl\u001b[39m  (5): day_of_week, day_of_year, interval_of_day, avg_mph, total_volume\n",
      "\u001b[33mlgl\u001b[39m  (2): missing_speed, missing_volume\n",
      "\u001b[34mdttm\u001b[39m (1): timestamp\n",
      "\u001b[34mdate\u001b[39m (1): date\n",
      "\n",
      "\u001b[36mℹ\u001b[39m Use `spec()` to retrieve the full column specification for this data.\n",
      "\u001b[36mℹ\u001b[39m Specify the column types or set `show_col_types = FALSE` to quiet this message.\n",
      "\u001b[1mRows: \u001b[22m\u001b[34m35040\u001b[39m \u001b[1mColumns: \u001b[22m\u001b[34m10\u001b[39m\n",
      "\u001b[36m──\u001b[39m \u001b[1mColumn specification\u001b[22m \u001b[36m────────────────────────────────────────────────────────\u001b[39m\n",
      "\u001b[1mDelimiter:\u001b[22m \",\"\n",
      "\u001b[31mchr\u001b[39m  (1): site_name\n",
      "\u001b[32mdbl\u001b[39m  (5): day_of_week, day_of_year, interval_of_day, avg_mph, total_volume\n",
      "\u001b[33mlgl\u001b[39m  (2): missing_speed, missing_volume\n",
      "\u001b[34mdttm\u001b[39m (1): timestamp\n",
      "\u001b[34mdate\u001b[39m (1): date\n",
      "\n",
      "\u001b[36mℹ\u001b[39m Use `spec()` to retrieve the full column specification for this data.\n",
      "\u001b[36mℹ\u001b[39m Specify the column types or set `show_col_types = FALSE` to quiet this message.\n",
      "\u001b[1mRows: \u001b[22m\u001b[34m35040\u001b[39m \u001b[1mColumns: \u001b[22m\u001b[34m10\u001b[39m\n",
      "\u001b[36m──\u001b[39m \u001b[1mColumn specification\u001b[22m \u001b[36m────────────────────────────────────────────────────────\u001b[39m\n",
      "\u001b[1mDelimiter:\u001b[22m \",\"\n",
      "\u001b[31mchr\u001b[39m  (1): site_name\n",
      "\u001b[32mdbl\u001b[39m  (5): day_of_week, day_of_year, interval_of_day, avg_mph, total_volume\n",
      "\u001b[33mlgl\u001b[39m  (2): missing_speed, missing_volume\n",
      "\u001b[34mdttm\u001b[39m (1): timestamp\n",
      "\u001b[34mdate\u001b[39m (1): date\n",
      "\n",
      "\u001b[36mℹ\u001b[39m Use `spec()` to retrieve the full column specification for this data.\n",
      "\u001b[36mℹ\u001b[39m Specify the column types or set `show_col_types = FALSE` to quiet this message.\n",
      "\u001b[1mRows: \u001b[22m\u001b[34m35040\u001b[39m \u001b[1mColumns: \u001b[22m\u001b[34m10\u001b[39m\n",
      "\u001b[36m──\u001b[39m \u001b[1mColumn specification\u001b[22m \u001b[36m────────────────────────────────────────────────────────\u001b[39m\n",
      "\u001b[1mDelimiter:\u001b[22m \",\"\n",
      "\u001b[31mchr\u001b[39m  (1): site_name\n",
      "\u001b[32mdbl\u001b[39m  (5): day_of_week, day_of_year, interval_of_day, avg_mph, total_volume\n",
      "\u001b[33mlgl\u001b[39m  (2): missing_speed, missing_volume\n",
      "\u001b[34mdttm\u001b[39m (1): timestamp\n",
      "\u001b[34mdate\u001b[39m (1): date\n",
      "\n",
      "\u001b[36mℹ\u001b[39m Use `spec()` to retrieve the full column specification for this data.\n",
      "\u001b[36mℹ\u001b[39m Specify the column types or set `show_col_types = FALSE` to quiet this message.\n",
      "\u001b[1mRows: \u001b[22m\u001b[34m35040\u001b[39m \u001b[1mColumns: \u001b[22m\u001b[34m10\u001b[39m\n",
      "\u001b[36m──\u001b[39m \u001b[1mColumn specification\u001b[22m \u001b[36m────────────────────────────────────────────────────────\u001b[39m\n",
      "\u001b[1mDelimiter:\u001b[22m \",\"\n",
      "\u001b[31mchr\u001b[39m  (1): site_name\n",
      "\u001b[32mdbl\u001b[39m  (5): day_of_week, day_of_year, interval_of_day, avg_mph, total_volume\n",
      "\u001b[33mlgl\u001b[39m  (2): missing_speed, missing_volume\n",
      "\u001b[34mdttm\u001b[39m (1): timestamp\n",
      "\u001b[34mdate\u001b[39m (1): date\n",
      "\n",
      "\u001b[36mℹ\u001b[39m Use `spec()` to retrieve the full column specification for this data.\n",
      "\u001b[36mℹ\u001b[39m Specify the column types or set `show_col_types = FALSE` to quiet this message.\n",
      "\u001b[1mRows: \u001b[22m\u001b[34m35040\u001b[39m \u001b[1mColumns: \u001b[22m\u001b[34m10\u001b[39m\n",
      "\u001b[36m──\u001b[39m \u001b[1mColumn specification\u001b[22m \u001b[36m────────────────────────────────────────────────────────\u001b[39m\n",
      "\u001b[1mDelimiter:\u001b[22m \",\"\n",
      "\u001b[31mchr\u001b[39m  (1): site_name\n",
      "\u001b[32mdbl\u001b[39m  (5): day_of_week, day_of_year, interval_of_day, avg_mph, total_volume\n",
      "\u001b[33mlgl\u001b[39m  (2): missing_speed, missing_volume\n",
      "\u001b[34mdttm\u001b[39m (1): timestamp\n",
      "\u001b[34mdate\u001b[39m (1): date\n",
      "\n",
      "\u001b[36mℹ\u001b[39m Use `spec()` to retrieve the full column specification for this data.\n",
      "\u001b[36mℹ\u001b[39m Specify the column types or set `show_col_types = FALSE` to quiet this message.\n",
      "\u001b[1mRows: \u001b[22m\u001b[34m35040\u001b[39m \u001b[1mColumns: \u001b[22m\u001b[34m10\u001b[39m\n",
      "\u001b[36m──\u001b[39m \u001b[1mColumn specification\u001b[22m \u001b[36m────────────────────────────────────────────────────────\u001b[39m\n",
      "\u001b[1mDelimiter:\u001b[22m \",\"\n",
      "\u001b[31mchr\u001b[39m  (1): site_name\n",
      "\u001b[32mdbl\u001b[39m  (5): day_of_week, day_of_year, interval_of_day, avg_mph, total_volume\n",
      "\u001b[33mlgl\u001b[39m  (2): missing_speed, missing_volume\n",
      "\u001b[34mdttm\u001b[39m (1): timestamp\n",
      "\u001b[34mdate\u001b[39m (1): date\n",
      "\n",
      "\u001b[36mℹ\u001b[39m Use `spec()` to retrieve the full column specification for this data.\n",
      "\u001b[36mℹ\u001b[39m Specify the column types or set `show_col_types = FALSE` to quiet this message.\n"
     ]
    },
    {
     "name": "stderr",
     "output_type": "stream",
     "text": [
      "\u001b[1mRows: \u001b[22m\u001b[34m35040\u001b[39m \u001b[1mColumns: \u001b[22m\u001b[34m10\u001b[39m\n",
      "\u001b[36m──\u001b[39m \u001b[1mColumn specification\u001b[22m \u001b[36m────────────────────────────────────────────────────────\u001b[39m\n",
      "\u001b[1mDelimiter:\u001b[22m \",\"\n",
      "\u001b[31mchr\u001b[39m  (1): site_name\n",
      "\u001b[32mdbl\u001b[39m  (5): day_of_week, day_of_year, interval_of_day, avg_mph, total_volume\n",
      "\u001b[33mlgl\u001b[39m  (2): missing_speed, missing_volume\n",
      "\u001b[34mdttm\u001b[39m (1): timestamp\n",
      "\u001b[34mdate\u001b[39m (1): date\n",
      "\n",
      "\u001b[36mℹ\u001b[39m Use `spec()` to retrieve the full column specification for this data.\n",
      "\u001b[36mℹ\u001b[39m Specify the column types or set `show_col_types = FALSE` to quiet this message.\n",
      "\u001b[1mRows: \u001b[22m\u001b[34m35040\u001b[39m \u001b[1mColumns: \u001b[22m\u001b[34m10\u001b[39m\n",
      "\u001b[36m──\u001b[39m \u001b[1mColumn specification\u001b[22m \u001b[36m────────────────────────────────────────────────────────\u001b[39m\n",
      "\u001b[1mDelimiter:\u001b[22m \",\"\n",
      "\u001b[31mchr\u001b[39m  (1): site_name\n",
      "\u001b[32mdbl\u001b[39m  (5): day_of_week, day_of_year, interval_of_day, avg_mph, total_volume\n",
      "\u001b[33mlgl\u001b[39m  (2): missing_speed, missing_volume\n",
      "\u001b[34mdttm\u001b[39m (1): timestamp\n",
      "\u001b[34mdate\u001b[39m (1): date\n",
      "\n",
      "\u001b[36mℹ\u001b[39m Use `spec()` to retrieve the full column specification for this data.\n",
      "\u001b[36mℹ\u001b[39m Specify the column types or set `show_col_types = FALSE` to quiet this message.\n",
      "\u001b[1mRows: \u001b[22m\u001b[34m35040\u001b[39m \u001b[1mColumns: \u001b[22m\u001b[34m10\u001b[39m\n",
      "\u001b[36m──\u001b[39m \u001b[1mColumn specification\u001b[22m \u001b[36m────────────────────────────────────────────────────────\u001b[39m\n",
      "\u001b[1mDelimiter:\u001b[22m \",\"\n",
      "\u001b[31mchr\u001b[39m  (1): site_name\n",
      "\u001b[32mdbl\u001b[39m  (5): day_of_week, day_of_year, interval_of_day, avg_mph, total_volume\n",
      "\u001b[33mlgl\u001b[39m  (2): missing_speed, missing_volume\n",
      "\u001b[34mdttm\u001b[39m (1): timestamp\n",
      "\u001b[34mdate\u001b[39m (1): date\n",
      "\n",
      "\u001b[36mℹ\u001b[39m Use `spec()` to retrieve the full column specification for this data.\n",
      "\u001b[36mℹ\u001b[39m Specify the column types or set `show_col_types = FALSE` to quiet this message.\n",
      "\u001b[1mRows: \u001b[22m\u001b[34m35040\u001b[39m \u001b[1mColumns: \u001b[22m\u001b[34m10\u001b[39m\n",
      "\u001b[36m──\u001b[39m \u001b[1mColumn specification\u001b[22m \u001b[36m────────────────────────────────────────────────────────\u001b[39m\n",
      "\u001b[1mDelimiter:\u001b[22m \",\"\n",
      "\u001b[31mchr\u001b[39m  (1): site_name\n",
      "\u001b[32mdbl\u001b[39m  (5): day_of_week, day_of_year, interval_of_day, avg_mph, total_volume\n",
      "\u001b[33mlgl\u001b[39m  (2): missing_speed, missing_volume\n",
      "\u001b[34mdttm\u001b[39m (1): timestamp\n",
      "\u001b[34mdate\u001b[39m (1): date\n",
      "\n",
      "\u001b[36mℹ\u001b[39m Use `spec()` to retrieve the full column specification for this data.\n",
      "\u001b[36mℹ\u001b[39m Specify the column types or set `show_col_types = FALSE` to quiet this message.\n",
      "\u001b[1mRows: \u001b[22m\u001b[34m35040\u001b[39m \u001b[1mColumns: \u001b[22m\u001b[34m10\u001b[39m\n",
      "\u001b[36m──\u001b[39m \u001b[1mColumn specification\u001b[22m \u001b[36m────────────────────────────────────────────────────────\u001b[39m\n",
      "\u001b[1mDelimiter:\u001b[22m \",\"\n",
      "\u001b[31mchr\u001b[39m  (1): site_name\n",
      "\u001b[32mdbl\u001b[39m  (5): day_of_week, day_of_year, interval_of_day, avg_mph, total_volume\n",
      "\u001b[33mlgl\u001b[39m  (2): missing_speed, missing_volume\n",
      "\u001b[34mdttm\u001b[39m (1): timestamp\n",
      "\u001b[34mdate\u001b[39m (1): date\n",
      "\n",
      "\u001b[36mℹ\u001b[39m Use `spec()` to retrieve the full column specification for this data.\n",
      "\u001b[36mℹ\u001b[39m Specify the column types or set `show_col_types = FALSE` to quiet this message.\n",
      "\u001b[1mRows: \u001b[22m\u001b[34m35040\u001b[39m \u001b[1mColumns: \u001b[22m\u001b[34m10\u001b[39m\n",
      "\u001b[36m──\u001b[39m \u001b[1mColumn specification\u001b[22m \u001b[36m────────────────────────────────────────────────────────\u001b[39m\n",
      "\u001b[1mDelimiter:\u001b[22m \",\"\n",
      "\u001b[31mchr\u001b[39m  (1): site_name\n",
      "\u001b[32mdbl\u001b[39m  (5): day_of_week, day_of_year, interval_of_day, avg_mph, total_volume\n",
      "\u001b[33mlgl\u001b[39m  (2): missing_speed, missing_volume\n",
      "\u001b[34mdttm\u001b[39m (1): timestamp\n",
      "\u001b[34mdate\u001b[39m (1): date\n",
      "\n",
      "\u001b[36mℹ\u001b[39m Use `spec()` to retrieve the full column specification for this data.\n",
      "\u001b[36mℹ\u001b[39m Specify the column types or set `show_col_types = FALSE` to quiet this message.\n"
     ]
    }
   ],
   "source": [
    "# Read in all files from the Data/Processed directory\n",
    "england_fnames <- list.files(\"Data/Processed/Highways_England/\", pattern=\"*.csv\", full.names=TRUE)\n",
    "england_df_list <- lapply(england_fnames, read_csv)\n",
    "\n",
    "portland_fnames <- list.files(\"Data/Processed/Portland/\", pattern=\"*.csv\", full.names=TRUE)\n",
    "portland_df_list <- lapply(portland_fnames, read_csv)\n",
    "\n",
    "utah_fnames <- list.files(\"Data/Processed/Utah/\", pattern=\"*.csv\", full.names=TRUE)\n",
    "utah_df_list <- lapply(utah_fnames, read_csv)"
   ]
  },
  {
   "cell_type": "code",
   "execution_count": 55,
   "id": "aeb87055",
   "metadata": {},
   "outputs": [],
   "source": [
    "# Ensure that the rows in each data frame are in proper chronological order \n",
    "england_df_list <- lapply(england_df_list, function(x) x %>% arrange(timestamp))\n",
    "portland_df_list <- lapply(portland_df_list, function(x) x %>% arrange(timestamp))\n",
    "utah_df_list <- lapply(utah_df_list, function(x) x %>% arrange(timestamp))    "
   ]
  },
  {
   "cell_type": "code",
   "execution_count": 56,
   "id": "1b2e79d9",
   "metadata": {},
   "outputs": [],
   "source": [
    "# Create one list of all data frames\n",
    "total_df_list_orig <- append(append(england_df_list, portland_df_list), utah_df_list)"
   ]
  },
  {
   "cell_type": "code",
   "execution_count": 57,
   "id": "e91c1eff",
   "metadata": {},
   "outputs": [
    {
     "name": "stderr",
     "output_type": "stream",
     "text": [
      "\u001b[1mRows: \u001b[22m\u001b[34m76\u001b[39m \u001b[1mColumns: \u001b[22m\u001b[34m2\u001b[39m\n",
      "\u001b[36m──\u001b[39m \u001b[1mColumn specification\u001b[22m \u001b[36m────────────────────────────────────────────────────────\u001b[39m\n",
      "\u001b[1mDelimiter:\u001b[22m \",\"\n",
      "\u001b[32mdbl\u001b[39m (2): start, end\n",
      "\n",
      "\u001b[36mℹ\u001b[39m Use `spec()` to retrieve the full column specification for this data.\n",
      "\u001b[36mℹ\u001b[39m Specify the column types or set `show_col_types = FALSE` to quiet this message.\n"
     ]
    }
   ],
   "source": [
    "# Read in the start and end points for each time series from csv\n",
    "start_end_orig <- read_csv(\"start_end_points.csv\")\n",
    "starting_points <- start_end_orig$start\n",
    "ending_points <- start_end_orig$end"
   ]
  },
  {
   "cell_type": "code",
   "execution_count": 58,
   "id": "19925fe7",
   "metadata": {},
   "outputs": [],
   "source": [
    "# For each df in our list, create a row number column called 'rn' - this will allow us to find the starting point\n",
    "# for each sample using the above starting_points array\n",
    "total_df_list_orig <- lapply(total_df_list_orig, function(x) x %>% mutate(rn = row_number()))"
   ]
  },
  {
   "cell_type": "code",
   "execution_count": 59,
   "id": "dcdc5a92",
   "metadata": {},
   "outputs": [],
   "source": [
    "# Sample each df in the list according to its corresponding starting and ending point - this creates 12-week\n",
    "# long samples of each data frame which will be used for modeling and testing\n",
    "total_df_list_orig_samples <- lapply(1:length(total_df_list_orig), \n",
    "                                function(x) total_df_list_orig[[x]] %>% \n",
    "                                    filter(rn >= starting_points[x]) %>%\n",
    "                                    filter(rn <= ending_points[x]))"
   ]
  },
  {
   "cell_type": "code",
   "execution_count": 60,
   "id": "a4393772",
   "metadata": {},
   "outputs": [],
   "source": [
    "# Add a new column to each data frame to denote whether each row should be part of the training set, validation set\n",
    "# or test set - the first 8 weeks are designated as train, the next 2 as val, and the final 2 as test. It may be \n",
    "# the case that train and val get used for training, depending on the modeling task\n",
    "total_df_list_orig_samples <- lapply(total_df_list_orig_samples, \n",
    "                                function(x) x %>% mutate(rn = row_number()) %>%\n",
    "                                    mutate(train_val_test = ifelse(rn <= (96*7*8), \n",
    "                                                                   \"train\", \n",
    "                                                                   ifelse(rn <= (96*7*10), \n",
    "                                                                          \"val\", \n",
    "                                                                          \"test\")))\n",
    "                                \n",
    "                               )"
   ]
  },
  {
   "cell_type": "code",
   "execution_count": 61,
   "id": "9c8a479c",
   "metadata": {},
   "outputs": [],
   "source": [
    "# Create a list of data frames which only have the training rows of each df\n",
    "train_samples_orig <- lapply(total_df_list_orig_samples, function(x) x %>% filter(train_val_test == \"train\"))"
   ]
  },
  {
   "cell_type": "code",
   "execution_count": 62,
   "id": "8f85f397",
   "metadata": {},
   "outputs": [],
   "source": [
    "# Get the target field (total_volume) from the dfs in the above lists and create msts objects instead of dfs\n",
    "train_samples_ts_orig <- lapply(train_samples_orig, \n",
    "                           function(x) msts(x$total_volume, seasonal.periods=c(24*4, 24*4*7)))"
   ]
  },
  {
   "cell_type": "code",
   "execution_count": 63,
   "id": "df99103f",
   "metadata": {},
   "outputs": [],
   "source": [
    "for (i in 1:length(train_samples_ts_orig)) {\n",
    "    if (mean(train_samples_ts_orig[[i]] == dtw_orig_cent[[1]])==1) {\n",
    "        centroid_1 <- i\n",
    "    }\n",
    "    if (mean(train_samples_ts_orig[[i]] == dtw_orig_cent[[2]])==1) {\n",
    "        centroid_2 <- i\n",
    "    }\n",
    "    \n",
    "}"
   ]
  },
  {
   "cell_type": "code",
   "execution_count": 64,
   "id": "14838315",
   "metadata": {},
   "outputs": [
    {
     "data": {
      "text/html": [
       "4"
      ],
      "text/latex": [
       "4"
      ],
      "text/markdown": [
       "4"
      ],
      "text/plain": [
       "[1] 4"
      ]
     },
     "metadata": {},
     "output_type": "display_data"
    }
   ],
   "source": [
    "centroid_1"
   ]
  },
  {
   "cell_type": "code",
   "execution_count": 65,
   "id": "d89e271f",
   "metadata": {},
   "outputs": [
    {
     "data": {
      "text/html": [
       "75"
      ],
      "text/latex": [
       "75"
      ],
      "text/markdown": [
       "75"
      ],
      "text/plain": [
       "[1] 75"
      ]
     },
     "metadata": {},
     "output_type": "display_data"
    }
   ],
   "source": [
    "centroid_2"
   ]
  },
  {
   "cell_type": "markdown",
   "id": "4aca8133",
   "metadata": {},
   "source": [
    "## Compute Distance to Centroids"
   ]
  },
  {
   "cell_type": "code",
   "execution_count": 66,
   "id": "c30e64e1",
   "metadata": {},
   "outputs": [],
   "source": [
    "dist_obs_1_cent_1 <- dtw_basic(train_samples_ts[[1]], train_samples_ts_orig[[centroid_1]])\n",
    "dist_obs_1_cent_2 <- dtw_basic(train_samples_ts[[1]], train_samples_ts_orig[[centroid_2]])\n",
    "\n",
    "dist_obs_2_cent_1 <- dtw_basic(train_samples_ts[[2]], train_samples_ts_orig[[centroid_1]])\n",
    "dist_obs_2_cent_2 <- dtw_basic(train_samples_ts[[2]], train_samples_ts_orig[[centroid_2]])\n",
    "\n",
    "dist_obs_3_cent_1 <- dtw_basic(train_samples_ts[[3]], train_samples_ts_orig[[centroid_1]])\n",
    "dist_obs_3_cent_2 <- dtw_basic(train_samples_ts[[3]], train_samples_ts_orig[[centroid_2]])\n",
    "\n",
    "dist_obs_4_cent_1 <- dtw_basic(train_samples_ts[[4]], train_samples_ts_orig[[centroid_1]])\n",
    "dist_obs_4_cent_2 <- dtw_basic(train_samples_ts[[4]], train_samples_ts_orig[[centroid_2]])"
   ]
  },
  {
   "cell_type": "markdown",
   "id": "ae314f6a",
   "metadata": {},
   "source": [
    "### Observation 1"
   ]
  },
  {
   "cell_type": "code",
   "execution_count": 67,
   "id": "26d7f0f6",
   "metadata": {},
   "outputs": [
    {
     "data": {
      "text/html": [
       "737821.5"
      ],
      "text/latex": [
       "737821.5"
      ],
      "text/markdown": [
       "737821.5"
      ],
      "text/plain": [
       "[1] 737821.5"
      ]
     },
     "metadata": {},
     "output_type": "display_data"
    }
   ],
   "source": [
    "dist_obs_1_cent_1"
   ]
  },
  {
   "cell_type": "code",
   "execution_count": 68,
   "id": "e85ff033",
   "metadata": {},
   "outputs": [
    {
     "data": {
      "text/html": [
       "221668"
      ],
      "text/latex": [
       "221668"
      ],
      "text/markdown": [
       "221668"
      ],
      "text/plain": [
       "[1] 221668"
      ]
     },
     "metadata": {},
     "output_type": "display_data"
    }
   ],
   "source": [
    "dist_obs_1_cent_2"
   ]
  },
  {
   "cell_type": "code",
   "execution_count": 69,
   "id": "791feb04",
   "metadata": {},
   "outputs": [
    {
     "data": {
      "text/html": [
       "221668"
      ],
      "text/latex": [
       "221668"
      ],
      "text/markdown": [
       "221668"
      ],
      "text/plain": [
       "[1] 221668"
      ]
     },
     "metadata": {},
     "output_type": "display_data"
    }
   ],
   "source": [
    "min(dist_obs_1_cent_1, dist_obs_1_cent_2)"
   ]
  },
  {
   "cell_type": "markdown",
   "id": "abfeec07",
   "metadata": {},
   "source": [
    "### Observation 2"
   ]
  },
  {
   "cell_type": "code",
   "execution_count": 70,
   "id": "fcc50cfb",
   "metadata": {},
   "outputs": [
    {
     "data": {
      "text/html": [
       "1316142"
      ],
      "text/latex": [
       "1316142"
      ],
      "text/markdown": [
       "1316142"
      ],
      "text/plain": [
       "[1] 1316142"
      ]
     },
     "metadata": {},
     "output_type": "display_data"
    }
   ],
   "source": [
    "dist_obs_2_cent_1"
   ]
  },
  {
   "cell_type": "code",
   "execution_count": 71,
   "id": "4ed97f00",
   "metadata": {},
   "outputs": [
    {
     "data": {
      "text/html": [
       "107036"
      ],
      "text/latex": [
       "107036"
      ],
      "text/markdown": [
       "107036"
      ],
      "text/plain": [
       "[1] 107036"
      ]
     },
     "metadata": {},
     "output_type": "display_data"
    }
   ],
   "source": [
    "dist_obs_2_cent_2"
   ]
  },
  {
   "cell_type": "code",
   "execution_count": 72,
   "id": "31ec3c63",
   "metadata": {},
   "outputs": [
    {
     "data": {
      "text/html": [
       "107036"
      ],
      "text/latex": [
       "107036"
      ],
      "text/markdown": [
       "107036"
      ],
      "text/plain": [
       "[1] 107036"
      ]
     },
     "metadata": {},
     "output_type": "display_data"
    }
   ],
   "source": [
    "min(dist_obs_2_cent_1, dist_obs_2_cent_2)"
   ]
  },
  {
   "cell_type": "markdown",
   "id": "a081e1a4",
   "metadata": {},
   "source": [
    "### Observation 3"
   ]
  },
  {
   "cell_type": "code",
   "execution_count": 73,
   "id": "5f11145d",
   "metadata": {},
   "outputs": [
    {
     "data": {
      "text/html": [
       "338345"
      ],
      "text/latex": [
       "338345"
      ],
      "text/markdown": [
       "338345"
      ],
      "text/plain": [
       "[1] 338345"
      ]
     },
     "metadata": {},
     "output_type": "display_data"
    }
   ],
   "source": [
    "dist_obs_3_cent_1"
   ]
  },
  {
   "cell_type": "code",
   "execution_count": 74,
   "id": "d7921c1e",
   "metadata": {},
   "outputs": [
    {
     "data": {
      "text/html": [
       "907726"
      ],
      "text/latex": [
       "907726"
      ],
      "text/markdown": [
       "907726"
      ],
      "text/plain": [
       "[1] 907726"
      ]
     },
     "metadata": {},
     "output_type": "display_data"
    }
   ],
   "source": [
    "dist_obs_3_cent_2"
   ]
  },
  {
   "cell_type": "code",
   "execution_count": 75,
   "id": "deb6aa7f",
   "metadata": {},
   "outputs": [
    {
     "data": {
      "text/html": [
       "338345"
      ],
      "text/latex": [
       "338345"
      ],
      "text/markdown": [
       "338345"
      ],
      "text/plain": [
       "[1] 338345"
      ]
     },
     "metadata": {},
     "output_type": "display_data"
    }
   ],
   "source": [
    "min(dist_obs_3_cent_1, dist_obs_3_cent_2)"
   ]
  },
  {
   "cell_type": "markdown",
   "id": "103858a1",
   "metadata": {},
   "source": [
    "### Observation 4"
   ]
  },
  {
   "cell_type": "code",
   "execution_count": 76,
   "id": "211c5e03",
   "metadata": {},
   "outputs": [
    {
     "data": {
      "text/html": [
       "933389"
      ],
      "text/latex": [
       "933389"
      ],
      "text/markdown": [
       "933389"
      ],
      "text/plain": [
       "[1] 933389"
      ]
     },
     "metadata": {},
     "output_type": "display_data"
    }
   ],
   "source": [
    "dist_obs_4_cent_1"
   ]
  },
  {
   "cell_type": "code",
   "execution_count": 77,
   "id": "2ba4afde",
   "metadata": {},
   "outputs": [
    {
     "data": {
      "text/html": [
       "3124312"
      ],
      "text/latex": [
       "3124312"
      ],
      "text/markdown": [
       "3124312"
      ],
      "text/plain": [
       "[1] 3124312"
      ]
     },
     "metadata": {},
     "output_type": "display_data"
    }
   ],
   "source": [
    "dist_obs_4_cent_2"
   ]
  },
  {
   "cell_type": "code",
   "execution_count": 78,
   "id": "f3a080ed",
   "metadata": {},
   "outputs": [
    {
     "data": {
      "text/html": [
       "933389"
      ],
      "text/latex": [
       "933389"
      ],
      "text/markdown": [
       "933389"
      ],
      "text/plain": [
       "[1] 933389"
      ]
     },
     "metadata": {},
     "output_type": "display_data"
    }
   ],
   "source": [
    "min(dist_obs_4_cent_1, dist_obs_4_cent_2)"
   ]
  },
  {
   "cell_type": "code",
   "execution_count": 79,
   "id": "639a061a",
   "metadata": {},
   "outputs": [],
   "source": [
    "dtw_clust_assign <- c(2, 2, 1, 1)"
   ]
  },
  {
   "cell_type": "markdown",
   "id": "14a588ab",
   "metadata": {},
   "source": [
    "# Save Results"
   ]
  },
  {
   "cell_type": "code",
   "execution_count": 80,
   "id": "01ea312d",
   "metadata": {},
   "outputs": [],
   "source": [
    "new_clust_assign_df <- data.frame(rand=rand_clust_assign,\n",
    "                                  catch22=catch22_clust_assign,\n",
    "                                  tsfeat=tsfeat_clust_assign,\n",
    "                                  dtw=dtw_clust_assign)"
   ]
  },
  {
   "cell_type": "code",
   "execution_count": 81,
   "id": "00e81281",
   "metadata": {},
   "outputs": [],
   "source": [
    "write.csv(new_clust_assign_df, \"Results/Unseen Sensor/clust_assign.csv\")"
   ]
  },
  {
   "cell_type": "code",
   "execution_count": null,
   "id": "be640589",
   "metadata": {},
   "outputs": [],
   "source": []
  }
 ],
 "metadata": {
  "kernelspec": {
   "display_name": "R",
   "language": "R",
   "name": "ir"
  },
  "language_info": {
   "codemirror_mode": "r",
   "file_extension": ".r",
   "mimetype": "text/x-r-source",
   "name": "R",
   "pygments_lexer": "r",
   "version": "4.1.3"
  }
 },
 "nbformat": 4,
 "nbformat_minor": 5
}
