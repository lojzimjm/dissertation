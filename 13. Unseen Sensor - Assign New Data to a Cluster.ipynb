{
 "cells": [
  {
   "cell_type": "code",
   "execution_count": 1,
   "id": "cddd582a",
   "metadata": {},
   "outputs": [],
   "source": [
    "# Empty the work space\n",
    "rm(list=ls())"
   ]
  },
  {
   "cell_type": "code",
   "execution_count": 2,
   "id": "32cb3e4c",
   "metadata": {},
   "outputs": [],
   "source": [
    "# Uncomment and run to install packages if needed\n",
    "# install.packages(\"tidyverse\")\n",
    "# install.packages(\"cluster\")\n",
    "# install.packages(\"tsfeatures\")\n",
    "# install.packages(\"Rcatch22\")\n",
    "# install.packages(\"tseries\")\n",
    "# install.packages(\"factoextra\")\n",
    "# install.packages(\"forecast\")\n",
    "# install.packages(\"dtwclust\")"
   ]
  },
  {
   "cell_type": "code",
   "execution_count": 3,
   "id": "e66cce94",
   "metadata": {},
   "outputs": [
    {
     "name": "stderr",
     "output_type": "stream",
     "text": [
      "Warning message:\n",
      "“‘timedatectl’ indicates the non-existent timezone name ‘n/a’”\n",
      "Warning message:\n",
      "“Your system is mis-configured: ‘/etc/localtime’ is not a symlink”\n",
      "Warning message:\n",
      "“It is strongly recommended to set envionment variable TZ to ‘Etc/UCT’ (or equivalent)”\n",
      "── \u001b[1mAttaching packages\u001b[22m ─────────────────────────────────────── tidyverse 1.3.1 ──\n",
      "\n",
      "\u001b[32m✔\u001b[39m \u001b[34mggplot2\u001b[39m 3.3.6     \u001b[32m✔\u001b[39m \u001b[34mpurrr  \u001b[39m 0.3.4\n",
      "\u001b[32m✔\u001b[39m \u001b[34mtibble \u001b[39m 3.1.7     \u001b[32m✔\u001b[39m \u001b[34mdplyr  \u001b[39m 1.0.9\n",
      "\u001b[32m✔\u001b[39m \u001b[34mtidyr  \u001b[39m 1.2.0     \u001b[32m✔\u001b[39m \u001b[34mstringr\u001b[39m 1.4.0\n",
      "\u001b[32m✔\u001b[39m \u001b[34mreadr  \u001b[39m 2.1.2     \u001b[32m✔\u001b[39m \u001b[34mforcats\u001b[39m 0.5.1\n",
      "\n",
      "── \u001b[1mConflicts\u001b[22m ────────────────────────────────────────── tidyverse_conflicts() ──\n",
      "\u001b[31m✖\u001b[39m \u001b[34mdplyr\u001b[39m::\u001b[32mfilter()\u001b[39m masks \u001b[34mstats\u001b[39m::filter()\n",
      "\u001b[31m✖\u001b[39m \u001b[34mdplyr\u001b[39m::\u001b[32mlag()\u001b[39m    masks \u001b[34mstats\u001b[39m::lag()\n",
      "\n",
      "Registered S3 method overwritten by 'quantmod':\n",
      "  method            from\n",
      "  as.zoo.data.frame zoo \n",
      "\n",
      "Welcome! Want to learn more? See two factoextra-related books at https://goo.gl/ve3WBa\n",
      "\n",
      "Loading required package: proxy\n",
      "\n",
      "\n",
      "Attaching package: ‘proxy’\n",
      "\n",
      "\n",
      "The following objects are masked from ‘package:stats’:\n",
      "\n",
      "    as.dist, dist\n",
      "\n",
      "\n",
      "The following object is masked from ‘package:base’:\n",
      "\n",
      "    as.matrix\n",
      "\n",
      "\n",
      "Loading required package: dtw\n",
      "\n",
      "Loaded dtw v1.22-3. See ?dtw for help, citation(\"dtw\") for use in publication.\n",
      "\n",
      "\n",
      "dtwclust:\n",
      "Setting random number generator to L'Ecuyer-CMRG (see RNGkind()).\n",
      "To read the included vignettes type: browseVignettes(\"dtwclust\").\n",
      "See news(package = \"dtwclust\") after package updates.\n",
      "\n"
     ]
    }
   ],
   "source": [
    "# Load libraries\n",
    "library(tidyverse)\n",
    "library(cluster)\n",
    "library(tsfeatures)\n",
    "library(Rcatch22)\n",
    "library(tseries)\n",
    "library(factoextra)\n",
    "library(forecast)\n",
    "library(dtwclust)"
   ]
  },
  {
   "cell_type": "code",
   "execution_count": 4,
   "id": "6234a250",
   "metadata": {},
   "outputs": [],
   "source": [
    "# Create the folders to save results in\n",
    "res_folder1 <- \"Results/Unseen Sensor/\"\n",
    "if (!file.exists(res_folder1)) {\n",
    " dir.create(res_folder1, recursive=TRUE)\n",
    "}"
   ]
  },
  {
   "cell_type": "markdown",
   "id": "0c00132b",
   "metadata": {},
   "source": [
    "# Read In Data"
   ]
  },
  {
   "cell_type": "code",
   "execution_count": 5,
   "id": "afda93d9",
   "metadata": {},
   "outputs": [
    {
     "name": "stderr",
     "output_type": "stream",
     "text": [
      "\u001b[1mRows: \u001b[22m\u001b[34m35040\u001b[39m \u001b[1mColumns: \u001b[22m\u001b[34m10\u001b[39m\n",
      "\u001b[36m──\u001b[39m \u001b[1mColumn specification\u001b[22m \u001b[36m────────────────────────────────────────────────────────\u001b[39m\n",
      "\u001b[1mDelimiter:\u001b[22m \",\"\n",
      "\u001b[31mchr\u001b[39m  (1): site_name\n",
      "\u001b[32mdbl\u001b[39m  (5): day_of_week, day_of_year, interval_of_day, avg_mph, total_volume\n",
      "\u001b[33mlgl\u001b[39m  (2): missing_speed, missing_volume\n",
      "\u001b[34mdttm\u001b[39m (1): timestamp\n",
      "\u001b[34mdate\u001b[39m (1): date\n",
      "\n",
      "\u001b[36mℹ\u001b[39m Use `spec()` to retrieve the full column specification for this data.\n",
      "\u001b[36mℹ\u001b[39m Specify the column types or set `show_col_types = FALSE` to quiet this message.\n",
      "\u001b[1mRows: \u001b[22m\u001b[34m35040\u001b[39m \u001b[1mColumns: \u001b[22m\u001b[34m10\u001b[39m\n",
      "\u001b[36m──\u001b[39m \u001b[1mColumn specification\u001b[22m \u001b[36m────────────────────────────────────────────────────────\u001b[39m\n",
      "\u001b[1mDelimiter:\u001b[22m \",\"\n",
      "\u001b[31mchr\u001b[39m  (1): site_name\n",
      "\u001b[32mdbl\u001b[39m  (5): day_of_week, day_of_year, interval_of_day, avg_mph, total_volume\n",
      "\u001b[33mlgl\u001b[39m  (2): missing_speed, missing_volume\n",
      "\u001b[34mdttm\u001b[39m (1): timestamp\n",
      "\u001b[34mdate\u001b[39m (1): date\n",
      "\n",
      "\u001b[36mℹ\u001b[39m Use `spec()` to retrieve the full column specification for this data.\n",
      "\u001b[36mℹ\u001b[39m Specify the column types or set `show_col_types = FALSE` to quiet this message.\n",
      "\u001b[1mRows: \u001b[22m\u001b[34m35040\u001b[39m \u001b[1mColumns: \u001b[22m\u001b[34m10\u001b[39m\n",
      "\u001b[36m──\u001b[39m \u001b[1mColumn specification\u001b[22m \u001b[36m────────────────────────────────────────────────────────\u001b[39m\n",
      "\u001b[1mDelimiter:\u001b[22m \",\"\n",
      "\u001b[31mchr\u001b[39m  (1): site_name\n",
      "\u001b[32mdbl\u001b[39m  (5): day_of_week, day_of_year, interval_of_day, avg_mph, total_volume\n",
      "\u001b[33mlgl\u001b[39m  (2): missing_speed, missing_volume\n",
      "\u001b[34mdttm\u001b[39m (1): timestamp\n",
      "\u001b[34mdate\u001b[39m (1): date\n",
      "\n",
      "\u001b[36mℹ\u001b[39m Use `spec()` to retrieve the full column specification for this data.\n",
      "\u001b[36mℹ\u001b[39m Specify the column types or set `show_col_types = FALSE` to quiet this message.\n",
      "\u001b[1mRows: \u001b[22m\u001b[34m35040\u001b[39m \u001b[1mColumns: \u001b[22m\u001b[34m10\u001b[39m\n",
      "\u001b[36m──\u001b[39m \u001b[1mColumn specification\u001b[22m \u001b[36m────────────────────────────────────────────────────────\u001b[39m\n",
      "\u001b[1mDelimiter:\u001b[22m \",\"\n",
      "\u001b[31mchr\u001b[39m  (1): site_name\n",
      "\u001b[32mdbl\u001b[39m  (5): day_of_week, day_of_year, interval_of_day, avg_mph, total_volume\n",
      "\u001b[33mlgl\u001b[39m  (2): missing_speed, missing_volume\n",
      "\u001b[34mdttm\u001b[39m (1): timestamp\n",
      "\u001b[34mdate\u001b[39m (1): date\n",
      "\n",
      "\u001b[36mℹ\u001b[39m Use `spec()` to retrieve the full column specification for this data.\n",
      "\u001b[36mℹ\u001b[39m Specify the column types or set `show_col_types = FALSE` to quiet this message.\n"
     ]
    }
   ],
   "source": [
    "# Read in each file into a list of data frames\n",
    "fnames <- list.files(\"Data/Unseen Sensor/Processed/\", pattern=\"*.csv\", full.names=TRUE)\n",
    "total_df_list <- lapply(fnames, read_csv)"
   ]
  },
  {
   "cell_type": "code",
   "execution_count": 6,
   "id": "aab5779a",
   "metadata": {},
   "outputs": [
    {
     "data": {
      "text/html": [
       "4"
      ],
      "text/latex": [
       "4"
      ],
      "text/markdown": [
       "4"
      ],
      "text/plain": [
       "[1] 4"
      ]
     },
     "metadata": {},
     "output_type": "display_data"
    }
   ],
   "source": [
    "# Sanity check the lengths of each list\n",
    "length(total_df_list)"
   ]
  },
  {
   "cell_type": "code",
   "execution_count": 7,
   "id": "0576f83d",
   "metadata": {},
   "outputs": [],
   "source": [
    "# Ensure all data is arranged in time stamp order\n",
    "total_df_list <- lapply(total_df_list, function(x) x %>% arrange(timestamp))    "
   ]
  },
  {
   "cell_type": "code",
   "execution_count": 8,
   "id": "722ec8cc",
   "metadata": {},
   "outputs": [],
   "source": [
    "# Randomly create a list of starting points from which we we sample each data frame\n",
    "\n",
    "# Set the seed\n",
    "set.seed(12345)\n",
    "\n",
    "# Sample without replacement as to ensure the starting time for each time series is different\n",
    "starting_points <- sample(1:((96*365)-(96*12*7)), \n",
    "                          length(total_df_list), \n",
    "                          replace=FALSE)\n",
    "\n",
    "# Create the ending points by adding on 12 weeks to the starting points\n",
    "ending_points <- starting_points + (96*7*12) - 1"
   ]
  },
  {
   "cell_type": "code",
   "execution_count": 9,
   "id": "484a0871",
   "metadata": {},
   "outputs": [],
   "source": [
    "# Save the sampling start and end points to a csv for use in other notebooks\n",
    "write.csv(data.frame(start=starting_points, end=ending_points), \"start_end_points_unseen.csv\", row.names=F)"
   ]
  },
  {
   "cell_type": "code",
   "execution_count": 10,
   "id": "33ef2797",
   "metadata": {},
   "outputs": [],
   "source": [
    "# For each df in our list, create a row number column called 'rn' - this will allow us to find the starting point\n",
    "# for each sample using the above starting_points array\n",
    "total_df_list <- lapply(total_df_list, function(x) x %>% mutate(rn = row_number()))"
   ]
  },
  {
   "cell_type": "code",
   "execution_count": 11,
   "id": "62ba430d",
   "metadata": {},
   "outputs": [],
   "source": [
    "# Sample each df in the list according to its corresponding starting and ending point - this creates 12-week\n",
    "# long samples of each data frame which will be used for modeling and testing\n",
    "total_df_list_samples <- lapply(1:length(total_df_list), \n",
    "                                function(x) total_df_list[[x]] %>% \n",
    "                                    filter(rn >= starting_points[x]) %>%\n",
    "                                    filter(rn <= ending_points[x]))"
   ]
  },
  {
   "cell_type": "code",
   "execution_count": 12,
   "id": "890e3ec0",
   "metadata": {},
   "outputs": [],
   "source": [
    "# Add a new column to each data frame to denote whether each row should be part of the training set, validation set\n",
    "# or test set - the first 8 weeks are designated as train, the next 2 as val, and the final 2 as test. It may be \n",
    "# the case that train and val get used for training, depending on the modeling task\n",
    "total_df_list_samples <- lapply(total_df_list_samples, \n",
    "                                function(x) x %>% mutate(rn = row_number()) %>%\n",
    "                                    mutate(train_val_test = ifelse(rn <= (96*7*8), \n",
    "                                                                   \"train\", \n",
    "                                                                   ifelse(rn <= (96*7*10), \n",
    "                                                                          \"val\", \n",
    "                                                                          \"test\")))\n",
    "                                \n",
    "                               )"
   ]
  },
  {
   "cell_type": "code",
   "execution_count": 13,
   "id": "fdd9579e",
   "metadata": {},
   "outputs": [],
   "source": [
    "# Create a list of data frames which only have the training and validation rows of each df\n",
    "train_val_samples <- lapply(total_df_list_samples, function(x) x %>% filter(train_val_test != \"test\"))"
   ]
  },
  {
   "cell_type": "code",
   "execution_count": 14,
   "id": "4b39cffd",
   "metadata": {},
   "outputs": [],
   "source": [
    "# Create a list of data frames which only have the training rows of each df\n",
    "train_samples <- lapply(total_df_list_samples, function(x) x %>% filter(train_val_test == \"train\"))"
   ]
  },
  {
   "cell_type": "code",
   "execution_count": 15,
   "id": "2e289797",
   "metadata": {},
   "outputs": [],
   "source": [
    "# Create a list of data frames which only have the test rows of each df\n",
    "test_samples <- lapply(total_df_list_samples, function(x) x %>% filter(train_val_test == \"test\"))"
   ]
  },
  {
   "cell_type": "code",
   "execution_count": 16,
   "id": "c7978c5f",
   "metadata": {},
   "outputs": [],
   "source": [
    "# Get the target field (total_volume) from the dfs in the above lists and create msts objects instead of dfs\n",
    "train_val_samples_ts <- lapply(train_val_samples, \n",
    "                               function(x) msts(x$total_volume, seasonal.periods=c(24*4, 24*4*7)))"
   ]
  },
  {
   "cell_type": "code",
   "execution_count": 17,
   "id": "6c283bd3",
   "metadata": {},
   "outputs": [],
   "source": [
    "# Get the target field (total_volume) from the dfs in the above lists and create msts objects instead of dfs\n",
    "train_samples_ts <- lapply(train_samples, \n",
    "                           function(x) msts(x$total_volume, seasonal.periods=c(24*4, 24*4*7)))"
   ]
  },
  {
   "cell_type": "code",
   "execution_count": 18,
   "id": "c5062a3c",
   "metadata": {},
   "outputs": [],
   "source": [
    "# Get the target field (total_volume) from the dfs in the above lists and create msts objects instead of dfs\n",
    "test_samples_ts <- lapply(test_samples,\n",
    "                          function(x) msts(x$total_volume, seasonal.periods=c(24*4, 24*4*7)))"
   ]
  },
  {
   "cell_type": "markdown",
   "id": "f763a66b",
   "metadata": {},
   "source": [
    "# Random Cluster Assignments"
   ]
  },
  {
   "cell_type": "code",
   "execution_count": 19,
   "id": "68694867",
   "metadata": {},
   "outputs": [],
   "source": [
    "# Total number of time series in the data set\n",
    "total_clust <- 4"
   ]
  },
  {
   "cell_type": "code",
   "execution_count": 20,
   "id": "28105107",
   "metadata": {},
   "outputs": [],
   "source": [
    "# Assign each time series to a random cluster\n",
    "\n",
    "# Create a list to save the assignments\n",
    "rand_clust_assign <- c()\n",
    "# Loop through a list 1:n, where n is the number of training samples\n",
    "for (ts_no in 1:length(train_samples_ts)){\n",
    "    # Set a seed\n",
    "    set.seed(ts_no)\n",
    "    # Sample from 1:n and append to the list\n",
    "    rand_clust_assign <- c(rand_clust_assign, sample(1:total_clust, 1))\n",
    "}"
   ]
  },
  {
   "cell_type": "code",
   "execution_count": 21,
   "id": "9cb3a7ce",
   "metadata": {},
   "outputs": [
    {
     "data": {
      "text/html": [
       "<style>\n",
       ".list-inline {list-style: none; margin:0; padding: 0}\n",
       ".list-inline>li {display: inline-block}\n",
       ".list-inline>li:not(:last-child)::after {content: \"\\00b7\"; padding: 0 .5ex}\n",
       "</style>\n",
       "<ol class=list-inline><li>3</li><li>2</li><li>1</li><li>4</li></ol>\n"
      ],
      "text/latex": [
       "\\begin{enumerate*}\n",
       "\\item 3\n",
       "\\item 2\n",
       "\\item 1\n",
       "\\item 4\n",
       "\\end{enumerate*}\n"
      ],
      "text/markdown": [
       "1. 3\n",
       "2. 2\n",
       "3. 1\n",
       "4. 4\n",
       "\n",
       "\n"
      ],
      "text/plain": [
       "[1] 3 2 1 4"
      ]
     },
     "metadata": {},
     "output_type": "display_data"
    }
   ],
   "source": [
    "# Print the list of assignments\n",
    "rand_clust_assign"
   ]
  },
  {
   "cell_type": "markdown",
   "id": "223ca62f",
   "metadata": {},
   "source": [
    "# Catch22 Based Feature Computation"
   ]
  },
  {
   "cell_type": "code",
   "execution_count": 22,
   "id": "e98f55ea",
   "metadata": {},
   "outputs": [
    {
     "name": "stderr",
     "output_type": "stream",
     "text": [
      "Warning message:\n",
      "“As of 0.1.14 the feature 'CO_f1ecac' returns a double instead of int\n",
      "\u001b[90mThis warning is displayed once per session.\u001b[39m”\n"
     ]
    }
   ],
   "source": [
    "# For each train time series in our list, compute the Catch22 features using the catch22_all function \n",
    "# and save the results in a df\n",
    "train_catch22_feat <- lapply(lapply(train_samples_ts, function(x) catch22_all(x)), \n",
    "                             function(x) x %>% \n",
    "                                 pivot_wider(names_from=names, values_from=values))"
   ]
  },
  {
   "cell_type": "code",
   "execution_count": 23,
   "id": "de6a44a9",
   "metadata": {},
   "outputs": [
    {
     "data": {
      "text/html": [
       "<table class=\"dataframe\">\n",
       "<caption>A tibble: 4 × 20</caption>\n",
       "<thead>\n",
       "\t<tr><th scope=col>DN_HistogramMode_5</th><th scope=col>DN_HistogramMode_10</th><th scope=col>CO_f1ecac</th><th scope=col>CO_HistogramAMI_even_2_5</th><th scope=col>CO_trev_1_num</th><th scope=col>MD_hrv_classic_pnn40</th><th scope=col>SB_BinaryStats_mean_longstretch1</th><th scope=col>SB_TransitionMatrix_3ac_sumdiagcov</th><th scope=col>CO_Embed2_Dist_tau_d_expfit_meandiff</th><th scope=col>IN_AutoMutualInfoStats_40_gaussian_fmmi</th><th scope=col>FC_LocalSimple_mean1_tauresrat</th><th scope=col>DN_OutlierInclude_p_001_mdrmd</th><th scope=col>DN_OutlierInclude_n_001_mdrmd</th><th scope=col>SP_Summaries_welch_rect_area_5_1</th><th scope=col>SB_BinaryStats_diff_longstretch0</th><th scope=col>SB_MotifThree_quantile_hh</th><th scope=col>SC_FluctAnal_2_rsrangefit_50_1_logi_prop_r1</th><th scope=col>SC_FluctAnal_2_dfa_50_1_2_logi_prop_r1</th><th scope=col>SP_Summaries_welch_rect_centroid</th><th scope=col>FC_LocalSimple_mean3_stderr</th></tr>\n",
       "\t<tr><th scope=col>&lt;dbl&gt;</th><th scope=col>&lt;dbl&gt;</th><th scope=col>&lt;dbl&gt;</th><th scope=col>&lt;dbl&gt;</th><th scope=col>&lt;dbl&gt;</th><th scope=col>&lt;dbl&gt;</th><th scope=col>&lt;dbl&gt;</th><th scope=col>&lt;dbl&gt;</th><th scope=col>&lt;dbl&gt;</th><th scope=col>&lt;dbl&gt;</th><th scope=col>&lt;dbl&gt;</th><th scope=col>&lt;dbl&gt;</th><th scope=col>&lt;dbl&gt;</th><th scope=col>&lt;dbl&gt;</th><th scope=col>&lt;dbl&gt;</th><th scope=col>&lt;dbl&gt;</th><th scope=col>&lt;dbl&gt;</th><th scope=col>&lt;dbl&gt;</th><th scope=col>&lt;dbl&gt;</th><th scope=col>&lt;dbl&gt;</th></tr>\n",
       "</thead>\n",
       "<tbody>\n",
       "\t<tr><td>-0.7727140</td><td>-1.036745</td><td>15.83320</td><td>0.6770578</td><td>0.002529417</td><td>0.7529302</td><td>56</td><td>0.010604141</td><td>0.4183068</td><td>23</td><td>0.04166667</td><td> 0.02139137</td><td>-0.0167410714</td><td>0.9845822</td><td>16</td><td>1.489225</td><td>0.4285714</td><td>0.3469388</td><td>0.06519418</td><td>0.2659134</td></tr>\n",
       "\t<tr><td>-0.9985984</td><td>-1.195337</td><td>18.41606</td><td>0.7576623</td><td>0.010028003</td><td>0.7962791</td><td>59</td><td>0.006165495</td><td>0.3933663</td><td>23</td><td>0.04000000</td><td> 0.07831101</td><td>-0.0018601190</td><td>0.9662259</td><td>14</td><td>1.573515</td><td>0.4285714</td><td>0.3469388</td><td>0.06519418</td><td>0.2833783</td></tr>\n",
       "\t<tr><td>-1.2165974</td><td>-1.413858</td><td>13.28107</td><td>0.7864801</td><td>0.007527869</td><td>0.7672558</td><td>61</td><td>0.006949684</td><td>0.5943701</td><td>18</td><td>0.52631579</td><td> 0.07477679</td><td> 0.0005580357</td><td>0.9804185</td><td>15</td><td>1.442368</td><td>0.4081633</td><td>0.3265306</td><td>0.06596117</td><td>0.3063198</td></tr>\n",
       "\t<tr><td>-1.1381137</td><td>-1.313092</td><td>16.05872</td><td>0.8409939</td><td>0.006194725</td><td>0.6798140</td><td>57</td><td>0.021630571</td><td>0.6649224</td><td>22</td><td>0.41666667</td><td>-0.01199777</td><td> 0.0013020833</td><td>0.9862330</td><td>22</td><td>1.438768</td><td>0.4285714</td><td>0.3469388</td><td>0.06519418</td><td>0.2573900</td></tr>\n",
       "</tbody>\n",
       "</table>\n"
      ],
      "text/latex": [
       "A tibble: 4 × 20\n",
       "\\begin{tabular}{llllllllllllllllllll}\n",
       " DN\\_HistogramMode\\_5 & DN\\_HistogramMode\\_10 & CO\\_f1ecac & CO\\_HistogramAMI\\_even\\_2\\_5 & CO\\_trev\\_1\\_num & MD\\_hrv\\_classic\\_pnn40 & SB\\_BinaryStats\\_mean\\_longstretch1 & SB\\_TransitionMatrix\\_3ac\\_sumdiagcov & CO\\_Embed2\\_Dist\\_tau\\_d\\_expfit\\_meandiff & IN\\_AutoMutualInfoStats\\_40\\_gaussian\\_fmmi & FC\\_LocalSimple\\_mean1\\_tauresrat & DN\\_OutlierInclude\\_p\\_001\\_mdrmd & DN\\_OutlierInclude\\_n\\_001\\_mdrmd & SP\\_Summaries\\_welch\\_rect\\_area\\_5\\_1 & SB\\_BinaryStats\\_diff\\_longstretch0 & SB\\_MotifThree\\_quantile\\_hh & SC\\_FluctAnal\\_2\\_rsrangefit\\_50\\_1\\_logi\\_prop\\_r1 & SC\\_FluctAnal\\_2\\_dfa\\_50\\_1\\_2\\_logi\\_prop\\_r1 & SP\\_Summaries\\_welch\\_rect\\_centroid & FC\\_LocalSimple\\_mean3\\_stderr\\\\\n",
       " <dbl> & <dbl> & <dbl> & <dbl> & <dbl> & <dbl> & <dbl> & <dbl> & <dbl> & <dbl> & <dbl> & <dbl> & <dbl> & <dbl> & <dbl> & <dbl> & <dbl> & <dbl> & <dbl> & <dbl>\\\\\n",
       "\\hline\n",
       "\t -0.7727140 & -1.036745 & 15.83320 & 0.6770578 & 0.002529417 & 0.7529302 & 56 & 0.010604141 & 0.4183068 & 23 & 0.04166667 &  0.02139137 & -0.0167410714 & 0.9845822 & 16 & 1.489225 & 0.4285714 & 0.3469388 & 0.06519418 & 0.2659134\\\\\n",
       "\t -0.9985984 & -1.195337 & 18.41606 & 0.7576623 & 0.010028003 & 0.7962791 & 59 & 0.006165495 & 0.3933663 & 23 & 0.04000000 &  0.07831101 & -0.0018601190 & 0.9662259 & 14 & 1.573515 & 0.4285714 & 0.3469388 & 0.06519418 & 0.2833783\\\\\n",
       "\t -1.2165974 & -1.413858 & 13.28107 & 0.7864801 & 0.007527869 & 0.7672558 & 61 & 0.006949684 & 0.5943701 & 18 & 0.52631579 &  0.07477679 &  0.0005580357 & 0.9804185 & 15 & 1.442368 & 0.4081633 & 0.3265306 & 0.06596117 & 0.3063198\\\\\n",
       "\t -1.1381137 & -1.313092 & 16.05872 & 0.8409939 & 0.006194725 & 0.6798140 & 57 & 0.021630571 & 0.6649224 & 22 & 0.41666667 & -0.01199777 &  0.0013020833 & 0.9862330 & 22 & 1.438768 & 0.4285714 & 0.3469388 & 0.06519418 & 0.2573900\\\\\n",
       "\\end{tabular}\n"
      ],
      "text/markdown": [
       "\n",
       "A tibble: 4 × 20\n",
       "\n",
       "| DN_HistogramMode_5 &lt;dbl&gt; | DN_HistogramMode_10 &lt;dbl&gt; | CO_f1ecac &lt;dbl&gt; | CO_HistogramAMI_even_2_5 &lt;dbl&gt; | CO_trev_1_num &lt;dbl&gt; | MD_hrv_classic_pnn40 &lt;dbl&gt; | SB_BinaryStats_mean_longstretch1 &lt;dbl&gt; | SB_TransitionMatrix_3ac_sumdiagcov &lt;dbl&gt; | CO_Embed2_Dist_tau_d_expfit_meandiff &lt;dbl&gt; | IN_AutoMutualInfoStats_40_gaussian_fmmi &lt;dbl&gt; | FC_LocalSimple_mean1_tauresrat &lt;dbl&gt; | DN_OutlierInclude_p_001_mdrmd &lt;dbl&gt; | DN_OutlierInclude_n_001_mdrmd &lt;dbl&gt; | SP_Summaries_welch_rect_area_5_1 &lt;dbl&gt; | SB_BinaryStats_diff_longstretch0 &lt;dbl&gt; | SB_MotifThree_quantile_hh &lt;dbl&gt; | SC_FluctAnal_2_rsrangefit_50_1_logi_prop_r1 &lt;dbl&gt; | SC_FluctAnal_2_dfa_50_1_2_logi_prop_r1 &lt;dbl&gt; | SP_Summaries_welch_rect_centroid &lt;dbl&gt; | FC_LocalSimple_mean3_stderr &lt;dbl&gt; |\n",
       "|---|---|---|---|---|---|---|---|---|---|---|---|---|---|---|---|---|---|---|---|\n",
       "| -0.7727140 | -1.036745 | 15.83320 | 0.6770578 | 0.002529417 | 0.7529302 | 56 | 0.010604141 | 0.4183068 | 23 | 0.04166667 |  0.02139137 | -0.0167410714 | 0.9845822 | 16 | 1.489225 | 0.4285714 | 0.3469388 | 0.06519418 | 0.2659134 |\n",
       "| -0.9985984 | -1.195337 | 18.41606 | 0.7576623 | 0.010028003 | 0.7962791 | 59 | 0.006165495 | 0.3933663 | 23 | 0.04000000 |  0.07831101 | -0.0018601190 | 0.9662259 | 14 | 1.573515 | 0.4285714 | 0.3469388 | 0.06519418 | 0.2833783 |\n",
       "| -1.2165974 | -1.413858 | 13.28107 | 0.7864801 | 0.007527869 | 0.7672558 | 61 | 0.006949684 | 0.5943701 | 18 | 0.52631579 |  0.07477679 |  0.0005580357 | 0.9804185 | 15 | 1.442368 | 0.4081633 | 0.3265306 | 0.06596117 | 0.3063198 |\n",
       "| -1.1381137 | -1.313092 | 16.05872 | 0.8409939 | 0.006194725 | 0.6798140 | 57 | 0.021630571 | 0.6649224 | 22 | 0.41666667 | -0.01199777 |  0.0013020833 | 0.9862330 | 22 | 1.438768 | 0.4285714 | 0.3469388 | 0.06519418 | 0.2573900 |\n",
       "\n"
      ],
      "text/plain": [
       "  DN_HistogramMode_5 DN_HistogramMode_10 CO_f1ecac CO_HistogramAMI_even_2_5\n",
       "1 -0.7727140         -1.036745           15.83320  0.6770578               \n",
       "2 -0.9985984         -1.195337           18.41606  0.7576623               \n",
       "3 -1.2165974         -1.413858           13.28107  0.7864801               \n",
       "4 -1.1381137         -1.313092           16.05872  0.8409939               \n",
       "  CO_trev_1_num MD_hrv_classic_pnn40 SB_BinaryStats_mean_longstretch1\n",
       "1 0.002529417   0.7529302            56                              \n",
       "2 0.010028003   0.7962791            59                              \n",
       "3 0.007527869   0.7672558            61                              \n",
       "4 0.006194725   0.6798140            57                              \n",
       "  SB_TransitionMatrix_3ac_sumdiagcov CO_Embed2_Dist_tau_d_expfit_meandiff\n",
       "1 0.010604141                        0.4183068                           \n",
       "2 0.006165495                        0.3933663                           \n",
       "3 0.006949684                        0.5943701                           \n",
       "4 0.021630571                        0.6649224                           \n",
       "  IN_AutoMutualInfoStats_40_gaussian_fmmi FC_LocalSimple_mean1_tauresrat\n",
       "1 23                                      0.04166667                    \n",
       "2 23                                      0.04000000                    \n",
       "3 18                                      0.52631579                    \n",
       "4 22                                      0.41666667                    \n",
       "  DN_OutlierInclude_p_001_mdrmd DN_OutlierInclude_n_001_mdrmd\n",
       "1  0.02139137                   -0.0167410714                \n",
       "2  0.07831101                   -0.0018601190                \n",
       "3  0.07477679                    0.0005580357                \n",
       "4 -0.01199777                    0.0013020833                \n",
       "  SP_Summaries_welch_rect_area_5_1 SB_BinaryStats_diff_longstretch0\n",
       "1 0.9845822                        16                              \n",
       "2 0.9662259                        14                              \n",
       "3 0.9804185                        15                              \n",
       "4 0.9862330                        22                              \n",
       "  SB_MotifThree_quantile_hh SC_FluctAnal_2_rsrangefit_50_1_logi_prop_r1\n",
       "1 1.489225                  0.4285714                                  \n",
       "2 1.573515                  0.4285714                                  \n",
       "3 1.442368                  0.4081633                                  \n",
       "4 1.438768                  0.4285714                                  \n",
       "  SC_FluctAnal_2_dfa_50_1_2_logi_prop_r1 SP_Summaries_welch_rect_centroid\n",
       "1 0.3469388                              0.06519418                      \n",
       "2 0.3469388                              0.06519418                      \n",
       "3 0.3265306                              0.06596117                      \n",
       "4 0.3469388                              0.06519418                      \n",
       "  FC_LocalSimple_mean3_stderr\n",
       "1 0.2659134                  \n",
       "2 0.2833783                  \n",
       "3 0.3063198                  \n",
       "4 0.2573900                  "
      ]
     },
     "metadata": {},
     "output_type": "display_data"
    }
   ],
   "source": [
    "# Append all features for each time series into a data frame and remove the features which we did not use \n",
    "# previously (in notebook 7) due to low variance\n",
    "train_catch22_feat_df <- do.call(\"rbind\", train_catch22_feat) %>% \n",
    "    select(-c('CO_FirstMin_ac', 'PD_PeriodicityWang_th0_01'))\n",
    "train_catch22_feat_df"
   ]
  },
  {
   "cell_type": "markdown",
   "id": "284dcaed",
   "metadata": {},
   "source": [
    "## Read in Catch22 Feature Values for Original Data"
   ]
  },
  {
   "cell_type": "code",
   "execution_count": 24,
   "id": "4bc1a79e",
   "metadata": {},
   "outputs": [
    {
     "name": "stderr",
     "output_type": "stream",
     "text": [
      "\u001b[1m\u001b[22mNew names:\n",
      "\u001b[36m•\u001b[39m `` -> `...1`\n",
      "\u001b[1mRows: \u001b[22m\u001b[34m76\u001b[39m \u001b[1mColumns: \u001b[22m\u001b[34m21\u001b[39m\n",
      "\u001b[36m──\u001b[39m \u001b[1mColumn specification\u001b[22m \u001b[36m────────────────────────────────────────────────────────\u001b[39m\n",
      "\u001b[1mDelimiter:\u001b[22m \",\"\n",
      "\u001b[32mdbl\u001b[39m (21): ...1, DN_HistogramMode_5, DN_HistogramMode_10, CO_f1ecac, CO_Histo...\n",
      "\n",
      "\u001b[36mℹ\u001b[39m Use `spec()` to retrieve the full column specification for this data.\n",
      "\u001b[36mℹ\u001b[39m Specify the column types or set `show_col_types = FALSE` to quiet this message.\n"
     ]
    }
   ],
   "source": [
    "# Read in the original catch22 features on the original training data, \n",
    "# and remove the first column as it is just an indexer\n",
    "catch22_orig <- read_csv(\"Results/Clustering/KMeans/catch22_feat_df.csv\")[,-1]"
   ]
  },
  {
   "cell_type": "markdown",
   "id": "66e46fc7",
   "metadata": {},
   "source": [
    "### Scale New Data with Original Scaler Values"
   ]
  },
  {
   "cell_type": "code",
   "execution_count": 26,
   "id": "7f446973",
   "metadata": {},
   "outputs": [],
   "source": [
    "# Create a new data frame to save scaled features on the new data\n",
    "train_catch22_feat_df_scaled <- train_catch22_feat_df"
   ]
  },
  {
   "cell_type": "code",
   "execution_count": 27,
   "id": "0c7a9c69",
   "metadata": {},
   "outputs": [],
   "source": [
    "# Loop through each feature\n",
    "for (n in 1:ncol(train_catch22_feat_df_scaled)){\n",
    "    # Compute the min of the feature on the original data\n",
    "    min_n <- min(catch22_orig[,n])\n",
    "    # Compute the max of the feature on the original data\n",
    "    max_n <- max(catch22_orig[,n])\n",
    "    # Scale the feature of the new data using the min and max of the original data\n",
    "    train_catch22_feat_df_scaled[,n] <- (train_catch22_feat_df_scaled[,n] - min_n)/(max_n - min_n)\n",
    "}"
   ]
  },
  {
   "cell_type": "code",
   "execution_count": 28,
   "id": "d7dd4a53",
   "metadata": {},
   "outputs": [
    {
     "name": "stderr",
     "output_type": "stream",
     "text": [
      "Warning message:\n",
      "“Setting row names on a tibble is deprecated.”\n"
     ]
    }
   ],
   "source": [
    "# Add row names\n",
    "row.names(train_catch22_feat_df_scaled) <- c(\"Obs1\", \"Obs2\", \"Obs3\", \"Obs4\")"
   ]
  },
  {
   "cell_type": "markdown",
   "id": "3c4bdd17",
   "metadata": {},
   "source": [
    "## Load Original KMeans Cluster Assignments"
   ]
  },
  {
   "cell_type": "code",
   "execution_count": 30,
   "id": "04fbedde",
   "metadata": {},
   "outputs": [],
   "source": [
    "# Load the original cluster assignments from the catch22 features\n",
    "catch22_kmeans_orig <- readRDS(\"Results/Clustering/KMeans/kmeans_catch22.RData\")"
   ]
  },
  {
   "cell_type": "code",
   "execution_count": 32,
   "id": "775e036f",
   "metadata": {},
   "outputs": [],
   "source": [
    "# Grab the centers from these clusters and add row names to the data frame of centers\n",
    "catch22_kmeans_orig_cent <- catch22_kmeans_orig$centers\n",
    "row.names(catch22_kmeans_orig_cent) <- c(\"Cent1\", \"Cent2\", \"Cent3\", \"Cent4\", \"Cent5\")"
   ]
  },
  {
   "cell_type": "code",
   "execution_count": 33,
   "id": "0bb33066",
   "metadata": {},
   "outputs": [
    {
     "data": {
      "text/html": [
       "<table class=\"dataframe\">\n",
       "<caption>A matrix: 5 × 20 of type dbl</caption>\n",
       "<thead>\n",
       "\t<tr><th></th><th scope=col>DN_HistogramMode_5</th><th scope=col>DN_HistogramMode_10</th><th scope=col>CO_f1ecac</th><th scope=col>CO_HistogramAMI_even_2_5</th><th scope=col>CO_trev_1_num</th><th scope=col>MD_hrv_classic_pnn40</th><th scope=col>SB_BinaryStats_mean_longstretch1</th><th scope=col>SB_TransitionMatrix_3ac_sumdiagcov</th><th scope=col>CO_Embed2_Dist_tau_d_expfit_meandiff</th><th scope=col>IN_AutoMutualInfoStats_40_gaussian_fmmi</th><th scope=col>FC_LocalSimple_mean1_tauresrat</th><th scope=col>DN_OutlierInclude_p_001_mdrmd</th><th scope=col>DN_OutlierInclude_n_001_mdrmd</th><th scope=col>SP_Summaries_welch_rect_area_5_1</th><th scope=col>SB_BinaryStats_diff_longstretch0</th><th scope=col>SB_MotifThree_quantile_hh</th><th scope=col>SC_FluctAnal_2_rsrangefit_50_1_logi_prop_r1</th><th scope=col>SC_FluctAnal_2_dfa_50_1_2_logi_prop_r1</th><th scope=col>SP_Summaries_welch_rect_centroid</th><th scope=col>FC_LocalSimple_mean3_stderr</th></tr>\n",
       "</thead>\n",
       "<tbody>\n",
       "\t<tr><th scope=row>Cent1</th><td>0.1205032</td><td>0.1533184</td><td>0.72953216</td><td>0.7629098</td><td>0.6586230</td><td>0.4591116</td><td>0.7712131</td><td>0.3627919</td><td>0.32567876</td><td>0.7422037</td><td>0.008641279</td><td>0.3796412</td><td>0.5928346</td><td>0.8530092</td><td>0.37451737</td><td>0.2909256</td><td>0.5641892</td><td>0.6801802</td><td>0.002861685</td><td>0.2655470</td></tr>\n",
       "\t<tr><th scope=row>Cent2</th><td>0.4332344</td><td>0.4905539</td><td>0.06031402</td><td>0.2785821</td><td>0.6434783</td><td>0.2719642</td><td>0.2635659</td><td>0.2972055</td><td>0.40113183</td><td>0.1538462</td><td>0.686238532</td><td>0.3958622</td><td>0.5912265</td><td>0.9190752</td><td>0.36507937</td><td>0.3559023</td><td>0.2083333</td><td>0.4444444</td><td>0.674509804</td><td>0.5081063</td></tr>\n",
       "\t<tr><th scope=row>Cent3</th><td>0.2872680</td><td>0.2605563</td><td>0.76679408</td><td>0.1267128</td><td>0.4464170</td><td>0.7315333</td><td>0.7209302</td><td>0.2055811</td><td>0.08752028</td><td>0.8461538</td><td>0.005229358</td><td>0.4030210</td><td>0.4931694</td><td>0.2313457</td><td>0.05952381</td><td>0.7287692</td><td>0.7500000</td><td>0.7083333</td><td>0.005882353</td><td>0.8871061</td></tr>\n",
       "\t<tr><th scope=row>Cent4</th><td>0.1103231</td><td>0.1907726</td><td>0.57469973</td><td>0.8759798</td><td>0.6794695</td><td>0.2805260</td><td>0.7174419</td><td>0.2498391</td><td>0.52647008</td><td>0.6692308</td><td>0.650918384</td><td>0.3378944</td><td>0.6045537</td><td>0.9692444</td><td>0.53809524</td><td>0.1620051</td><td>0.5562500</td><td>0.7666667</td><td>0.007058824</td><td>0.1936715</td></tr>\n",
       "\t<tr><th scope=row>Cent5</th><td>0.8504611</td><td>0.4590276</td><td>0.61804173</td><td>0.7512288</td><td>0.6923811</td><td>0.5798359</td><td>0.8856589</td><td>0.1236231</td><td>0.22103202</td><td>0.6410256</td><td>0.081161009</td><td>0.3496446</td><td>0.5954766</td><td>0.7642556</td><td>0.44841270</td><td>0.4138313</td><td>0.4270833</td><td>0.5000000</td><td>0.008823529</td><td>0.4036425</td></tr>\n",
       "</tbody>\n",
       "</table>\n"
      ],
      "text/latex": [
       "A matrix: 5 × 20 of type dbl\n",
       "\\begin{tabular}{r|llllllllllllllllllll}\n",
       "  & DN\\_HistogramMode\\_5 & DN\\_HistogramMode\\_10 & CO\\_f1ecac & CO\\_HistogramAMI\\_even\\_2\\_5 & CO\\_trev\\_1\\_num & MD\\_hrv\\_classic\\_pnn40 & SB\\_BinaryStats\\_mean\\_longstretch1 & SB\\_TransitionMatrix\\_3ac\\_sumdiagcov & CO\\_Embed2\\_Dist\\_tau\\_d\\_expfit\\_meandiff & IN\\_AutoMutualInfoStats\\_40\\_gaussian\\_fmmi & FC\\_LocalSimple\\_mean1\\_tauresrat & DN\\_OutlierInclude\\_p\\_001\\_mdrmd & DN\\_OutlierInclude\\_n\\_001\\_mdrmd & SP\\_Summaries\\_welch\\_rect\\_area\\_5\\_1 & SB\\_BinaryStats\\_diff\\_longstretch0 & SB\\_MotifThree\\_quantile\\_hh & SC\\_FluctAnal\\_2\\_rsrangefit\\_50\\_1\\_logi\\_prop\\_r1 & SC\\_FluctAnal\\_2\\_dfa\\_50\\_1\\_2\\_logi\\_prop\\_r1 & SP\\_Summaries\\_welch\\_rect\\_centroid & FC\\_LocalSimple\\_mean3\\_stderr\\\\\n",
       "\\hline\n",
       "\tCent1 & 0.1205032 & 0.1533184 & 0.72953216 & 0.7629098 & 0.6586230 & 0.4591116 & 0.7712131 & 0.3627919 & 0.32567876 & 0.7422037 & 0.008641279 & 0.3796412 & 0.5928346 & 0.8530092 & 0.37451737 & 0.2909256 & 0.5641892 & 0.6801802 & 0.002861685 & 0.2655470\\\\\n",
       "\tCent2 & 0.4332344 & 0.4905539 & 0.06031402 & 0.2785821 & 0.6434783 & 0.2719642 & 0.2635659 & 0.2972055 & 0.40113183 & 0.1538462 & 0.686238532 & 0.3958622 & 0.5912265 & 0.9190752 & 0.36507937 & 0.3559023 & 0.2083333 & 0.4444444 & 0.674509804 & 0.5081063\\\\\n",
       "\tCent3 & 0.2872680 & 0.2605563 & 0.76679408 & 0.1267128 & 0.4464170 & 0.7315333 & 0.7209302 & 0.2055811 & 0.08752028 & 0.8461538 & 0.005229358 & 0.4030210 & 0.4931694 & 0.2313457 & 0.05952381 & 0.7287692 & 0.7500000 & 0.7083333 & 0.005882353 & 0.8871061\\\\\n",
       "\tCent4 & 0.1103231 & 0.1907726 & 0.57469973 & 0.8759798 & 0.6794695 & 0.2805260 & 0.7174419 & 0.2498391 & 0.52647008 & 0.6692308 & 0.650918384 & 0.3378944 & 0.6045537 & 0.9692444 & 0.53809524 & 0.1620051 & 0.5562500 & 0.7666667 & 0.007058824 & 0.1936715\\\\\n",
       "\tCent5 & 0.8504611 & 0.4590276 & 0.61804173 & 0.7512288 & 0.6923811 & 0.5798359 & 0.8856589 & 0.1236231 & 0.22103202 & 0.6410256 & 0.081161009 & 0.3496446 & 0.5954766 & 0.7642556 & 0.44841270 & 0.4138313 & 0.4270833 & 0.5000000 & 0.008823529 & 0.4036425\\\\\n",
       "\\end{tabular}\n"
      ],
      "text/markdown": [
       "\n",
       "A matrix: 5 × 20 of type dbl\n",
       "\n",
       "| <!--/--> | DN_HistogramMode_5 | DN_HistogramMode_10 | CO_f1ecac | CO_HistogramAMI_even_2_5 | CO_trev_1_num | MD_hrv_classic_pnn40 | SB_BinaryStats_mean_longstretch1 | SB_TransitionMatrix_3ac_sumdiagcov | CO_Embed2_Dist_tau_d_expfit_meandiff | IN_AutoMutualInfoStats_40_gaussian_fmmi | FC_LocalSimple_mean1_tauresrat | DN_OutlierInclude_p_001_mdrmd | DN_OutlierInclude_n_001_mdrmd | SP_Summaries_welch_rect_area_5_1 | SB_BinaryStats_diff_longstretch0 | SB_MotifThree_quantile_hh | SC_FluctAnal_2_rsrangefit_50_1_logi_prop_r1 | SC_FluctAnal_2_dfa_50_1_2_logi_prop_r1 | SP_Summaries_welch_rect_centroid | FC_LocalSimple_mean3_stderr |\n",
       "|---|---|---|---|---|---|---|---|---|---|---|---|---|---|---|---|---|---|---|---|---|\n",
       "| Cent1 | 0.1205032 | 0.1533184 | 0.72953216 | 0.7629098 | 0.6586230 | 0.4591116 | 0.7712131 | 0.3627919 | 0.32567876 | 0.7422037 | 0.008641279 | 0.3796412 | 0.5928346 | 0.8530092 | 0.37451737 | 0.2909256 | 0.5641892 | 0.6801802 | 0.002861685 | 0.2655470 |\n",
       "| Cent2 | 0.4332344 | 0.4905539 | 0.06031402 | 0.2785821 | 0.6434783 | 0.2719642 | 0.2635659 | 0.2972055 | 0.40113183 | 0.1538462 | 0.686238532 | 0.3958622 | 0.5912265 | 0.9190752 | 0.36507937 | 0.3559023 | 0.2083333 | 0.4444444 | 0.674509804 | 0.5081063 |\n",
       "| Cent3 | 0.2872680 | 0.2605563 | 0.76679408 | 0.1267128 | 0.4464170 | 0.7315333 | 0.7209302 | 0.2055811 | 0.08752028 | 0.8461538 | 0.005229358 | 0.4030210 | 0.4931694 | 0.2313457 | 0.05952381 | 0.7287692 | 0.7500000 | 0.7083333 | 0.005882353 | 0.8871061 |\n",
       "| Cent4 | 0.1103231 | 0.1907726 | 0.57469973 | 0.8759798 | 0.6794695 | 0.2805260 | 0.7174419 | 0.2498391 | 0.52647008 | 0.6692308 | 0.650918384 | 0.3378944 | 0.6045537 | 0.9692444 | 0.53809524 | 0.1620051 | 0.5562500 | 0.7666667 | 0.007058824 | 0.1936715 |\n",
       "| Cent5 | 0.8504611 | 0.4590276 | 0.61804173 | 0.7512288 | 0.6923811 | 0.5798359 | 0.8856589 | 0.1236231 | 0.22103202 | 0.6410256 | 0.081161009 | 0.3496446 | 0.5954766 | 0.7642556 | 0.44841270 | 0.4138313 | 0.4270833 | 0.5000000 | 0.008823529 | 0.4036425 |\n",
       "\n"
      ],
      "text/plain": [
       "      DN_HistogramMode_5 DN_HistogramMode_10 CO_f1ecac \n",
       "Cent1 0.1205032          0.1533184           0.72953216\n",
       "Cent2 0.4332344          0.4905539           0.06031402\n",
       "Cent3 0.2872680          0.2605563           0.76679408\n",
       "Cent4 0.1103231          0.1907726           0.57469973\n",
       "Cent5 0.8504611          0.4590276           0.61804173\n",
       "      CO_HistogramAMI_even_2_5 CO_trev_1_num MD_hrv_classic_pnn40\n",
       "Cent1 0.7629098                0.6586230     0.4591116           \n",
       "Cent2 0.2785821                0.6434783     0.2719642           \n",
       "Cent3 0.1267128                0.4464170     0.7315333           \n",
       "Cent4 0.8759798                0.6794695     0.2805260           \n",
       "Cent5 0.7512288                0.6923811     0.5798359           \n",
       "      SB_BinaryStats_mean_longstretch1 SB_TransitionMatrix_3ac_sumdiagcov\n",
       "Cent1 0.7712131                        0.3627919                         \n",
       "Cent2 0.2635659                        0.2972055                         \n",
       "Cent3 0.7209302                        0.2055811                         \n",
       "Cent4 0.7174419                        0.2498391                         \n",
       "Cent5 0.8856589                        0.1236231                         \n",
       "      CO_Embed2_Dist_tau_d_expfit_meandiff\n",
       "Cent1 0.32567876                          \n",
       "Cent2 0.40113183                          \n",
       "Cent3 0.08752028                          \n",
       "Cent4 0.52647008                          \n",
       "Cent5 0.22103202                          \n",
       "      IN_AutoMutualInfoStats_40_gaussian_fmmi FC_LocalSimple_mean1_tauresrat\n",
       "Cent1 0.7422037                               0.008641279                   \n",
       "Cent2 0.1538462                               0.686238532                   \n",
       "Cent3 0.8461538                               0.005229358                   \n",
       "Cent4 0.6692308                               0.650918384                   \n",
       "Cent5 0.6410256                               0.081161009                   \n",
       "      DN_OutlierInclude_p_001_mdrmd DN_OutlierInclude_n_001_mdrmd\n",
       "Cent1 0.3796412                     0.5928346                    \n",
       "Cent2 0.3958622                     0.5912265                    \n",
       "Cent3 0.4030210                     0.4931694                    \n",
       "Cent4 0.3378944                     0.6045537                    \n",
       "Cent5 0.3496446                     0.5954766                    \n",
       "      SP_Summaries_welch_rect_area_5_1 SB_BinaryStats_diff_longstretch0\n",
       "Cent1 0.8530092                        0.37451737                      \n",
       "Cent2 0.9190752                        0.36507937                      \n",
       "Cent3 0.2313457                        0.05952381                      \n",
       "Cent4 0.9692444                        0.53809524                      \n",
       "Cent5 0.7642556                        0.44841270                      \n",
       "      SB_MotifThree_quantile_hh SC_FluctAnal_2_rsrangefit_50_1_logi_prop_r1\n",
       "Cent1 0.2909256                 0.5641892                                  \n",
       "Cent2 0.3559023                 0.2083333                                  \n",
       "Cent3 0.7287692                 0.7500000                                  \n",
       "Cent4 0.1620051                 0.5562500                                  \n",
       "Cent5 0.4138313                 0.4270833                                  \n",
       "      SC_FluctAnal_2_dfa_50_1_2_logi_prop_r1 SP_Summaries_welch_rect_centroid\n",
       "Cent1 0.6801802                              0.002861685                     \n",
       "Cent2 0.4444444                              0.674509804                     \n",
       "Cent3 0.7083333                              0.005882353                     \n",
       "Cent4 0.7666667                              0.007058824                     \n",
       "Cent5 0.5000000                              0.008823529                     \n",
       "      FC_LocalSimple_mean3_stderr\n",
       "Cent1 0.2655470                  \n",
       "Cent2 0.5081063                  \n",
       "Cent3 0.8871061                  \n",
       "Cent4 0.1936715                  \n",
       "Cent5 0.4036425                  "
      ]
     },
     "metadata": {},
     "output_type": "display_data"
    }
   ],
   "source": [
    "catch22_kmeans_orig_cent"
   ]
  },
  {
   "cell_type": "code",
   "execution_count": 34,
   "id": "120c5470",
   "metadata": {},
   "outputs": [
    {
     "data": {
      "text/html": [
       "<table class=\"dataframe\">\n",
       "<caption>A matrix: 4 × 5 of type dbl</caption>\n",
       "<thead>\n",
       "\t<tr><th></th><th scope=col>Cent1</th><th scope=col>Cent2</th><th scope=col>Cent3</th><th scope=col>Cent4</th><th scope=col>Cent5</th></tr>\n",
       "</thead>\n",
       "<tbody>\n",
       "\t<tr><th scope=row>Obs1</th><td>0.2979139</td><td>1.617716</td><td>1.398811</td><td>0.7771913</td><td>0.9603046</td></tr>\n",
       "\t<tr><th scope=row>Obs2</th><td>0.4376365</td><td>1.840651</td><td>1.301638</td><td>0.9600075</td><td>1.0159148</td></tr>\n",
       "\t<tr><th scope=row>Obs3</th><td>1.1496276</td><td>1.409613</td><td>1.907151</td><td>0.6156497</td><td>1.4387502</td></tr>\n",
       "\t<tr><th scope=row>Obs4</th><td>1.0779367</td><td>1.750264</td><td>2.073672</td><td>0.6435282</td><td>1.5740351</td></tr>\n",
       "</tbody>\n",
       "</table>\n"
      ],
      "text/latex": [
       "A matrix: 4 × 5 of type dbl\n",
       "\\begin{tabular}{r|lllll}\n",
       "  & Cent1 & Cent2 & Cent3 & Cent4 & Cent5\\\\\n",
       "\\hline\n",
       "\tObs1 & 0.2979139 & 1.617716 & 1.398811 & 0.7771913 & 0.9603046\\\\\n",
       "\tObs2 & 0.4376365 & 1.840651 & 1.301638 & 0.9600075 & 1.0159148\\\\\n",
       "\tObs3 & 1.1496276 & 1.409613 & 1.907151 & 0.6156497 & 1.4387502\\\\\n",
       "\tObs4 & 1.0779367 & 1.750264 & 2.073672 & 0.6435282 & 1.5740351\\\\\n",
       "\\end{tabular}\n"
      ],
      "text/markdown": [
       "\n",
       "A matrix: 4 × 5 of type dbl\n",
       "\n",
       "| <!--/--> | Cent1 | Cent2 | Cent3 | Cent4 | Cent5 |\n",
       "|---|---|---|---|---|---|\n",
       "| Obs1 | 0.2979139 | 1.617716 | 1.398811 | 0.7771913 | 0.9603046 |\n",
       "| Obs2 | 0.4376365 | 1.840651 | 1.301638 | 0.9600075 | 1.0159148 |\n",
       "| Obs3 | 1.1496276 | 1.409613 | 1.907151 | 0.6156497 | 1.4387502 |\n",
       "| Obs4 | 1.0779367 | 1.750264 | 2.073672 | 0.6435282 | 1.5740351 |\n",
       "\n"
      ],
      "text/plain": [
       "     Cent1     Cent2    Cent3    Cent4     Cent5    \n",
       "Obs1 0.2979139 1.617716 1.398811 0.7771913 0.9603046\n",
       "Obs2 0.4376365 1.840651 1.301638 0.9600075 1.0159148\n",
       "Obs3 1.1496276 1.409613 1.907151 0.6156497 1.4387502\n",
       "Obs4 1.0779367 1.750264 2.073672 0.6435282 1.5740351"
      ]
     },
     "metadata": {},
     "output_type": "display_data"
    }
   ],
   "source": [
    "# Compute the Euclidean distance between each of our new time series and each cluster center\n",
    "as.matrix(dist(rbind(catch22_kmeans_orig_cent, train_catch22_feat_df_scaled)))[6:9, 1:5]"
   ]
  },
  {
   "cell_type": "code",
   "execution_count": 35,
   "id": "33a4c9d6",
   "metadata": {},
   "outputs": [],
   "source": [
    "# Assigned each new time series to the closest center\n",
    "catch22_clust_assign <- c(1, 1, 4, 4)"
   ]
  },
  {
   "cell_type": "markdown",
   "id": "0ec8fdc7",
   "metadata": {},
   "source": [
    "# TSFeat Based Feature Computation"
   ]
  },
  {
   "cell_type": "code",
   "execution_count": 36,
   "id": "fb6329aa",
   "metadata": {},
   "outputs": [],
   "source": [
    "# Compute basic set of tsfeatures\n",
    "# Set scale to FALSE as to not scale the time series before computing the features\n",
    "ts_feat_list <- tsfeatures(train_samples_ts, scale=FALSE)"
   ]
  },
  {
   "cell_type": "code",
   "execution_count": 38,
   "id": "e545620c",
   "metadata": {},
   "outputs": [],
   "source": [
    "# Remove features with very low variation (these were chosen in notebook 7)\n",
    "ts_feat_list <- ts_feat_list%>% select(-c(frequency, nperiods, seasonal_period1, seasonal_period2))"
   ]
  },
  {
   "cell_type": "markdown",
   "id": "6b2b25d5",
   "metadata": {},
   "source": [
    "## Read in Original TSFeat Features"
   ]
  },
  {
   "cell_type": "code",
   "execution_count": 39,
   "id": "2dec8d71",
   "metadata": {},
   "outputs": [
    {
     "name": "stderr",
     "output_type": "stream",
     "text": [
      "\u001b[1m\u001b[22mNew names:\n",
      "\u001b[36m•\u001b[39m `` -> `...1`\n",
      "\u001b[1mRows: \u001b[22m\u001b[34m76\u001b[39m \u001b[1mColumns: \u001b[22m\u001b[34m21\u001b[39m\n",
      "\u001b[36m──\u001b[39m \u001b[1mColumn specification\u001b[22m \u001b[36m────────────────────────────────────────────────────────\u001b[39m\n",
      "\u001b[1mDelimiter:\u001b[22m \",\"\n",
      "\u001b[32mdbl\u001b[39m (21): ...1, trend, spike, linearity, curvature, e_acf1, e_acf10, seasona...\n",
      "\n",
      "\u001b[36mℹ\u001b[39m Use `spec()` to retrieve the full column specification for this data.\n",
      "\u001b[36mℹ\u001b[39m Specify the column types or set `show_col_types = FALSE` to quiet this message.\n"
     ]
    }
   ],
   "source": [
    "# Read in the TS features computed on the original training data\n",
    "tsfeat_orig <- read_csv(\"Results/Clustering/KMeans/tsfeat_feat_df.csv\")[,-1]"
   ]
  },
  {
   "cell_type": "markdown",
   "id": "df6a6c1b",
   "metadata": {},
   "source": [
    "### Scale with Original Data"
   ]
  },
  {
   "cell_type": "code",
   "execution_count": 41,
   "id": "4130e789",
   "metadata": {},
   "outputs": [],
   "source": [
    "# Create a df to save scaled ts features\n",
    "ts_feat_list_df_scaled <- ts_feat_list"
   ]
  },
  {
   "cell_type": "code",
   "execution_count": 42,
   "id": "7f7cb869",
   "metadata": {},
   "outputs": [],
   "source": [
    "# We use a min max scaling method, with the original data used for scaling the new data\n",
    "# Loop through each feature\n",
    "for (n in 1:ncol(ts_feat_list_df_scaled)){\n",
    "    # Copmute the min and max of each feature from the original data\n",
    "    min_n <- min(tsfeat_orig[,n])\n",
    "    max_n <- max(tsfeat_orig[,n])\n",
    "    # Scaled the new data using the min and max from the original data\n",
    "    ts_feat_list_df_scaled[,n] <- (ts_feat_list_df_scaled[,n] - min_n)/(max_n - min_n)\n",
    "}"
   ]
  },
  {
   "cell_type": "code",
   "execution_count": 43,
   "id": "72578cc7",
   "metadata": {},
   "outputs": [
    {
     "name": "stderr",
     "output_type": "stream",
     "text": [
      "Warning message:\n",
      "“Setting row names on a tibble is deprecated.”\n"
     ]
    }
   ],
   "source": [
    "# Add row names to the data frame\n",
    "row.names(ts_feat_list_df_scaled) <- c(\"Obs1\", \"Obs2\", \"Obs3\", \"Obs4\")"
   ]
  },
  {
   "cell_type": "markdown",
   "id": "bad97759",
   "metadata": {},
   "source": [
    "## Load Original KMeans Cluster Assignments"
   ]
  },
  {
   "cell_type": "code",
   "execution_count": 45,
   "id": "c0d4c17e",
   "metadata": {},
   "outputs": [],
   "source": [
    "# Read in the original cluster assignments\n",
    "tsfeat_kmeans_orig <- readRDS(\"Results/Clustering/KMeans/kmeans_tsfeat.RData\")"
   ]
  },
  {
   "cell_type": "code",
   "execution_count": 47,
   "id": "1a3efe9b",
   "metadata": {},
   "outputs": [],
   "source": [
    "# Grab the centers for each cluster and add row names to the data frame of centers\n",
    "tsfeat_kmeans_orig_cent <- tsfeat_kmeans_orig$centers\n",
    "row.names(tsfeat_kmeans_orig_cent) <- c(\"Cent1\", \"Cent2\")"
   ]
  },
  {
   "cell_type": "code",
   "execution_count": 49,
   "id": "8cb168c1",
   "metadata": {},
   "outputs": [
    {
     "data": {
      "text/html": [
       "<table class=\"dataframe\">\n",
       "<caption>A matrix: 4 × 2 of type dbl</caption>\n",
       "<thead>\n",
       "\t<tr><th></th><th scope=col>Cent1</th><th scope=col>Cent2</th></tr>\n",
       "</thead>\n",
       "<tbody>\n",
       "\t<tr><th scope=row>Obs1</th><td>0.6146474</td><td>1.024686</td></tr>\n",
       "\t<tr><th scope=row>Obs2</th><td>1.1243401</td><td>1.154617</td></tr>\n",
       "\t<tr><th scope=row>Obs3</th><td>0.9115104</td><td>1.362195</td></tr>\n",
       "\t<tr><th scope=row>Obs4</th><td>1.3177884</td><td>1.706205</td></tr>\n",
       "</tbody>\n",
       "</table>\n"
      ],
      "text/latex": [
       "A matrix: 4 × 2 of type dbl\n",
       "\\begin{tabular}{r|ll}\n",
       "  & Cent1 & Cent2\\\\\n",
       "\\hline\n",
       "\tObs1 & 0.6146474 & 1.024686\\\\\n",
       "\tObs2 & 1.1243401 & 1.154617\\\\\n",
       "\tObs3 & 0.9115104 & 1.362195\\\\\n",
       "\tObs4 & 1.3177884 & 1.706205\\\\\n",
       "\\end{tabular}\n"
      ],
      "text/markdown": [
       "\n",
       "A matrix: 4 × 2 of type dbl\n",
       "\n",
       "| <!--/--> | Cent1 | Cent2 |\n",
       "|---|---|---|\n",
       "| Obs1 | 0.6146474 | 1.024686 |\n",
       "| Obs2 | 1.1243401 | 1.154617 |\n",
       "| Obs3 | 0.9115104 | 1.362195 |\n",
       "| Obs4 | 1.3177884 | 1.706205 |\n",
       "\n"
      ],
      "text/plain": [
       "     Cent1     Cent2   \n",
       "Obs1 0.6146474 1.024686\n",
       "Obs2 1.1243401 1.154617\n",
       "Obs3 0.9115104 1.362195\n",
       "Obs4 1.3177884 1.706205"
      ]
     },
     "metadata": {},
     "output_type": "display_data"
    }
   ],
   "source": [
    "# Compute the Euclidean distance from each new observation to each center\n",
    "as.matrix(dist(rbind(tsfeat_kmeans_orig_cent, ts_feat_list_df_scaled)))[3:6, 1:2]"
   ]
  },
  {
   "cell_type": "code",
   "execution_count": 50,
   "id": "4999abc0",
   "metadata": {},
   "outputs": [],
   "source": [
    "# Create a list of cluster assignments for the new data based on the distance to the cluster centers\n",
    "tsfeat_clust_assign <- c(1, 1, 1, 1)"
   ]
  },
  {
   "cell_type": "markdown",
   "id": "40dea48e",
   "metadata": {},
   "source": [
    "# DTW Clustering"
   ]
  },
  {
   "cell_type": "markdown",
   "id": "da6cfec7",
   "metadata": {},
   "source": [
    "## Read in Original Clustering Results"
   ]
  },
  {
   "cell_type": "code",
   "execution_count": 51,
   "id": "17f4e9bb",
   "metadata": {},
   "outputs": [],
   "source": [
    "# Read in the original cluster results for k medoids dtw clusters\n",
    "dtw_orig <- readRDS(\"Results/Clustering/DTW/dtw_clust.RData\")"
   ]
  },
  {
   "cell_type": "code",
   "execution_count": 52,
   "id": "6f647f1f",
   "metadata": {},
   "outputs": [
    {
     "data": {
      "text/plain": [
       "partitional clustering with 2 clusters\n",
       "Using dtw_basic distance\n",
       "Using pam centroids\n",
       "\n",
       "Time required for analysis:\n",
       "    user   system  elapsed \n",
       "2264.315    1.126  145.180 \n",
       "\n",
       "Cluster sizes with average intra-cluster distance:\n",
       "\n",
       "  size  av_dist\n",
       "1   25 437202.5\n",
       "2   51 200953.7"
      ]
     },
     "metadata": {},
     "output_type": "display_data"
    }
   ],
   "source": [
    "dtw_orig"
   ]
  },
  {
   "cell_type": "code",
   "execution_count": 53,
   "id": "1345c5fb",
   "metadata": {},
   "outputs": [],
   "source": [
    "# Extract the centroids from the clusters\n",
    "dtw_orig_cent <- dtw_orig@centroids"
   ]
  },
  {
   "cell_type": "markdown",
   "id": "5c3f973f",
   "metadata": {},
   "source": [
    "### Read in Original Data to Determine which TS are the Centroids"
   ]
  },
  {
   "cell_type": "code",
   "execution_count": 54,
   "id": "402e50ad",
   "metadata": {},
   "outputs": [
    {
     "name": "stderr",
     "output_type": "stream",
     "text": [
      "\u001b[1mRows: \u001b[22m\u001b[34m35040\u001b[39m \u001b[1mColumns: \u001b[22m\u001b[34m10\u001b[39m\n",
      "\u001b[36m──\u001b[39m \u001b[1mColumn specification\u001b[22m \u001b[36m────────────────────────────────────────────────────────\u001b[39m\n",
      "\u001b[1mDelimiter:\u001b[22m \",\"\n",
      "\u001b[31mchr\u001b[39m  (1): site_name\n",
      "\u001b[32mdbl\u001b[39m  (5): day_of_week, day_of_year, interval_of_day, avg_mph, total_volume\n",
      "\u001b[33mlgl\u001b[39m  (2): missing_speed, missing_volume\n",
      "\u001b[34mdttm\u001b[39m (1): timestamp\n",
      "\u001b[34mdate\u001b[39m (1): date\n",
      "\n",
      "\u001b[36mℹ\u001b[39m Use `spec()` to retrieve the full column specification for this data.\n",
      "\u001b[36mℹ\u001b[39m Specify the column types or set `show_col_types = FALSE` to quiet this message.\n",
      "\u001b[1mRows: \u001b[22m\u001b[34m35040\u001b[39m \u001b[1mColumns: \u001b[22m\u001b[34m10\u001b[39m\n",
      "\u001b[36m──\u001b[39m \u001b[1mColumn specification\u001b[22m \u001b[36m────────────────────────────────────────────────────────\u001b[39m\n",
      "\u001b[1mDelimiter:\u001b[22m \",\"\n",
      "\u001b[31mchr\u001b[39m  (1): site_name\n",
      "\u001b[32mdbl\u001b[39m  (5): day_of_week, day_of_year, interval_of_day, avg_mph, total_volume\n",
      "\u001b[33mlgl\u001b[39m  (2): missing_speed, missing_volume\n",
      "\u001b[34mdttm\u001b[39m (1): timestamp\n",
      "\u001b[34mdate\u001b[39m (1): date\n",
      "\n",
      "\u001b[36mℹ\u001b[39m Use `spec()` to retrieve the full column specification for this data.\n",
      "\u001b[36mℹ\u001b[39m Specify the column types or set `show_col_types = FALSE` to quiet this message.\n",
      "\u001b[1mRows: \u001b[22m\u001b[34m35040\u001b[39m \u001b[1mColumns: \u001b[22m\u001b[34m10\u001b[39m\n",
      "\u001b[36m──\u001b[39m \u001b[1mColumn specification\u001b[22m \u001b[36m────────────────────────────────────────────────────────\u001b[39m\n",
      "\u001b[1mDelimiter:\u001b[22m \",\"\n",
      "\u001b[31mchr\u001b[39m  (1): site_name\n",
      "\u001b[32mdbl\u001b[39m  (5): day_of_week, day_of_year, interval_of_day, avg_mph, total_volume\n",
      "\u001b[33mlgl\u001b[39m  (2): missing_speed, missing_volume\n",
      "\u001b[34mdttm\u001b[39m (1): timestamp\n",
      "\u001b[34mdate\u001b[39m (1): date\n",
      "\n",
      "\u001b[36mℹ\u001b[39m Use `spec()` to retrieve the full column specification for this data.\n",
      "\u001b[36mℹ\u001b[39m Specify the column types or set `show_col_types = FALSE` to quiet this message.\n",
      "\u001b[1mRows: \u001b[22m\u001b[34m35040\u001b[39m \u001b[1mColumns: \u001b[22m\u001b[34m10\u001b[39m\n",
      "\u001b[36m──\u001b[39m \u001b[1mColumn specification\u001b[22m \u001b[36m────────────────────────────────────────────────────────\u001b[39m\n",
      "\u001b[1mDelimiter:\u001b[22m \",\"\n",
      "\u001b[31mchr\u001b[39m  (1): site_name\n",
      "\u001b[32mdbl\u001b[39m  (5): day_of_week, day_of_year, interval_of_day, avg_mph, total_volume\n",
      "\u001b[33mlgl\u001b[39m  (2): missing_speed, missing_volume\n",
      "\u001b[34mdttm\u001b[39m (1): timestamp\n",
      "\u001b[34mdate\u001b[39m (1): date\n",
      "\n",
      "\u001b[36mℹ\u001b[39m Use `spec()` to retrieve the full column specification for this data.\n",
      "\u001b[36mℹ\u001b[39m Specify the column types or set `show_col_types = FALSE` to quiet this message.\n",
      "\u001b[1mRows: \u001b[22m\u001b[34m35040\u001b[39m \u001b[1mColumns: \u001b[22m\u001b[34m10\u001b[39m\n",
      "\u001b[36m──\u001b[39m \u001b[1mColumn specification\u001b[22m \u001b[36m────────────────────────────────────────────────────────\u001b[39m\n",
      "\u001b[1mDelimiter:\u001b[22m \",\"\n",
      "\u001b[31mchr\u001b[39m  (1): site_name\n",
      "\u001b[32mdbl\u001b[39m  (5): day_of_week, day_of_year, interval_of_day, avg_mph, total_volume\n",
      "\u001b[33mlgl\u001b[39m  (2): missing_speed, missing_volume\n",
      "\u001b[34mdttm\u001b[39m (1): timestamp\n",
      "\u001b[34mdate\u001b[39m (1): date\n",
      "\n",
      "\u001b[36mℹ\u001b[39m Use `spec()` to retrieve the full column specification for this data.\n",
      "\u001b[36mℹ\u001b[39m Specify the column types or set `show_col_types = FALSE` to quiet this message.\n",
      "\u001b[1mRows: \u001b[22m\u001b[34m35040\u001b[39m \u001b[1mColumns: \u001b[22m\u001b[34m10\u001b[39m\n",
      "\u001b[36m──\u001b[39m \u001b[1mColumn specification\u001b[22m \u001b[36m────────────────────────────────────────────────────────\u001b[39m\n",
      "\u001b[1mDelimiter:\u001b[22m \",\"\n",
      "\u001b[31mchr\u001b[39m  (1): site_name\n",
      "\u001b[32mdbl\u001b[39m  (5): day_of_week, day_of_year, interval_of_day, avg_mph, total_volume\n",
      "\u001b[33mlgl\u001b[39m  (2): missing_speed, missing_volume\n",
      "\u001b[34mdttm\u001b[39m (1): timestamp\n",
      "\u001b[34mdate\u001b[39m (1): date\n",
      "\n",
      "\u001b[36mℹ\u001b[39m Use `spec()` to retrieve the full column specification for this data.\n",
      "\u001b[36mℹ\u001b[39m Specify the column types or set `show_col_types = FALSE` to quiet this message.\n",
      "\u001b[1mRows: \u001b[22m\u001b[34m35040\u001b[39m \u001b[1mColumns: \u001b[22m\u001b[34m10\u001b[39m\n",
      "\u001b[36m──\u001b[39m \u001b[1mColumn specification\u001b[22m \u001b[36m────────────────────────────────────────────────────────\u001b[39m\n",
      "\u001b[1mDelimiter:\u001b[22m \",\"\n",
      "\u001b[31mchr\u001b[39m  (1): site_name\n",
      "\u001b[32mdbl\u001b[39m  (5): day_of_week, day_of_year, interval_of_day, avg_mph, total_volume\n",
      "\u001b[33mlgl\u001b[39m  (2): missing_speed, missing_volume\n",
      "\u001b[34mdttm\u001b[39m (1): timestamp\n",
      "\u001b[34mdate\u001b[39m (1): date\n",
      "\n",
      "\u001b[36mℹ\u001b[39m Use `spec()` to retrieve the full column specification for this data.\n",
      "\u001b[36mℹ\u001b[39m Specify the column types or set `show_col_types = FALSE` to quiet this message.\n",
      "\u001b[1mRows: \u001b[22m\u001b[34m35040\u001b[39m \u001b[1mColumns: \u001b[22m\u001b[34m10\u001b[39m\n",
      "\u001b[36m──\u001b[39m \u001b[1mColumn specification\u001b[22m \u001b[36m────────────────────────────────────────────────────────\u001b[39m\n",
      "\u001b[1mDelimiter:\u001b[22m \",\"\n",
      "\u001b[31mchr\u001b[39m  (1): site_name\n",
      "\u001b[32mdbl\u001b[39m  (5): day_of_week, day_of_year, interval_of_day, avg_mph, total_volume\n",
      "\u001b[33mlgl\u001b[39m  (2): missing_speed, missing_volume\n",
      "\u001b[34mdttm\u001b[39m (1): timestamp\n",
      "\u001b[34mdate\u001b[39m (1): date\n",
      "\n",
      "\u001b[36mℹ\u001b[39m Use `spec()` to retrieve the full column specification for this data.\n",
      "\u001b[36mℹ\u001b[39m Specify the column types or set `show_col_types = FALSE` to quiet this message.\n",
      "\u001b[1mRows: \u001b[22m\u001b[34m35040\u001b[39m \u001b[1mColumns: \u001b[22m\u001b[34m10\u001b[39m\n",
      "\u001b[36m──\u001b[39m \u001b[1mColumn specification\u001b[22m \u001b[36m────────────────────────────────────────────────────────\u001b[39m\n",
      "\u001b[1mDelimiter:\u001b[22m \",\"\n",
      "\u001b[31mchr\u001b[39m  (1): site_name\n",
      "\u001b[32mdbl\u001b[39m  (5): day_of_week, day_of_year, interval_of_day, avg_mph, total_volume\n",
      "\u001b[33mlgl\u001b[39m  (2): missing_speed, missing_volume\n",
      "\u001b[34mdttm\u001b[39m (1): timestamp\n",
      "\u001b[34mdate\u001b[39m (1): date\n",
      "\n",
      "\u001b[36mℹ\u001b[39m Use `spec()` to retrieve the full column specification for this data.\n",
      "\u001b[36mℹ\u001b[39m Specify the column types or set `show_col_types = FALSE` to quiet this message.\n",
      "\u001b[1mRows: \u001b[22m\u001b[34m35040\u001b[39m \u001b[1mColumns: \u001b[22m\u001b[34m10\u001b[39m\n",
      "\u001b[36m──\u001b[39m \u001b[1mColumn specification\u001b[22m \u001b[36m────────────────────────────────────────────────────────\u001b[39m\n",
      "\u001b[1mDelimiter:\u001b[22m \",\"\n",
      "\u001b[31mchr\u001b[39m  (1): site_name\n",
      "\u001b[32mdbl\u001b[39m  (5): day_of_week, day_of_year, interval_of_day, avg_mph, total_volume\n",
      "\u001b[33mlgl\u001b[39m  (2): missing_speed, missing_volume\n",
      "\u001b[34mdttm\u001b[39m (1): timestamp\n",
      "\u001b[34mdate\u001b[39m (1): date\n",
      "\n",
      "\u001b[36mℹ\u001b[39m Use `spec()` to retrieve the full column specification for this data.\n",
      "\u001b[36mℹ\u001b[39m Specify the column types or set `show_col_types = FALSE` to quiet this message.\n",
      "\u001b[1mRows: \u001b[22m\u001b[34m35040\u001b[39m \u001b[1mColumns: \u001b[22m\u001b[34m10\u001b[39m\n",
      "\u001b[36m──\u001b[39m \u001b[1mColumn specification\u001b[22m \u001b[36m────────────────────────────────────────────────────────\u001b[39m\n",
      "\u001b[1mDelimiter:\u001b[22m \",\"\n",
      "\u001b[31mchr\u001b[39m  (1): site_name\n",
      "\u001b[32mdbl\u001b[39m  (5): day_of_week, day_of_year, interval_of_day, avg_mph, total_volume\n",
      "\u001b[33mlgl\u001b[39m  (2): missing_speed, missing_volume\n",
      "\u001b[34mdttm\u001b[39m (1): timestamp\n",
      "\u001b[34mdate\u001b[39m (1): date\n",
      "\n",
      "\u001b[36mℹ\u001b[39m Use `spec()` to retrieve the full column specification for this data.\n",
      "\u001b[36mℹ\u001b[39m Specify the column types or set `show_col_types = FALSE` to quiet this message.\n",
      "\u001b[1mRows: \u001b[22m\u001b[34m35040\u001b[39m \u001b[1mColumns: \u001b[22m\u001b[34m10\u001b[39m\n",
      "\u001b[36m──\u001b[39m \u001b[1mColumn specification\u001b[22m \u001b[36m────────────────────────────────────────────────────────\u001b[39m\n",
      "\u001b[1mDelimiter:\u001b[22m \",\"\n",
      "\u001b[31mchr\u001b[39m  (1): site_name\n",
      "\u001b[32mdbl\u001b[39m  (5): day_of_week, day_of_year, interval_of_day, avg_mph, total_volume\n",
      "\u001b[33mlgl\u001b[39m  (2): missing_speed, missing_volume\n",
      "\u001b[34mdttm\u001b[39m (1): timestamp\n",
      "\u001b[34mdate\u001b[39m (1): date\n",
      "\n",
      "\u001b[36mℹ\u001b[39m Use `spec()` to retrieve the full column specification for this data.\n",
      "\u001b[36mℹ\u001b[39m Specify the column types or set `show_col_types = FALSE` to quiet this message.\n",
      "\u001b[1mRows: \u001b[22m\u001b[34m35040\u001b[39m \u001b[1mColumns: \u001b[22m\u001b[34m10\u001b[39m\n",
      "\u001b[36m──\u001b[39m \u001b[1mColumn specification\u001b[22m \u001b[36m────────────────────────────────────────────────────────\u001b[39m\n",
      "\u001b[1mDelimiter:\u001b[22m \",\"\n",
      "\u001b[31mchr\u001b[39m  (1): site_name\n",
      "\u001b[32mdbl\u001b[39m  (5): day_of_week, day_of_year, interval_of_day, avg_mph, total_volume\n",
      "\u001b[33mlgl\u001b[39m  (2): missing_speed, missing_volume\n",
      "\u001b[34mdttm\u001b[39m (1): timestamp\n",
      "\u001b[34mdate\u001b[39m (1): date\n",
      "\n",
      "\u001b[36mℹ\u001b[39m Use `spec()` to retrieve the full column specification for this data.\n",
      "\u001b[36mℹ\u001b[39m Specify the column types or set `show_col_types = FALSE` to quiet this message.\n",
      "\u001b[1mRows: \u001b[22m\u001b[34m35040\u001b[39m \u001b[1mColumns: \u001b[22m\u001b[34m10\u001b[39m\n",
      "\u001b[36m──\u001b[39m \u001b[1mColumn specification\u001b[22m \u001b[36m────────────────────────────────────────────────────────\u001b[39m\n",
      "\u001b[1mDelimiter:\u001b[22m \",\"\n",
      "\u001b[31mchr\u001b[39m  (1): site_name\n",
      "\u001b[32mdbl\u001b[39m  (5): day_of_week, day_of_year, interval_of_day, avg_mph, total_volume\n",
      "\u001b[33mlgl\u001b[39m  (2): missing_speed, missing_volume\n",
      "\u001b[34mdttm\u001b[39m (1): timestamp\n",
      "\u001b[34mdate\u001b[39m (1): date\n",
      "\n",
      "\u001b[36mℹ\u001b[39m Use `spec()` to retrieve the full column specification for this data.\n",
      "\u001b[36mℹ\u001b[39m Specify the column types or set `show_col_types = FALSE` to quiet this message.\n"
     ]
    },
    {
     "name": "stderr",
     "output_type": "stream",
     "text": [
      "\u001b[1mRows: \u001b[22m\u001b[34m35040\u001b[39m \u001b[1mColumns: \u001b[22m\u001b[34m10\u001b[39m\n",
      "\u001b[36m──\u001b[39m \u001b[1mColumn specification\u001b[22m \u001b[36m────────────────────────────────────────────────────────\u001b[39m\n",
      "\u001b[1mDelimiter:\u001b[22m \",\"\n",
      "\u001b[31mchr\u001b[39m  (1): site_name\n",
      "\u001b[32mdbl\u001b[39m  (5): day_of_week, day_of_year, interval_of_day, avg_mph, total_volume\n",
      "\u001b[33mlgl\u001b[39m  (2): missing_speed, missing_volume\n",
      "\u001b[34mdttm\u001b[39m (1): timestamp\n",
      "\u001b[34mdate\u001b[39m (1): date\n",
      "\n",
      "\u001b[36mℹ\u001b[39m Use `spec()` to retrieve the full column specification for this data.\n",
      "\u001b[36mℹ\u001b[39m Specify the column types or set `show_col_types = FALSE` to quiet this message.\n",
      "\u001b[1mRows: \u001b[22m\u001b[34m35040\u001b[39m \u001b[1mColumns: \u001b[22m\u001b[34m10\u001b[39m\n",
      "\u001b[36m──\u001b[39m \u001b[1mColumn specification\u001b[22m \u001b[36m────────────────────────────────────────────────────────\u001b[39m\n",
      "\u001b[1mDelimiter:\u001b[22m \",\"\n",
      "\u001b[31mchr\u001b[39m  (1): site_name\n",
      "\u001b[32mdbl\u001b[39m  (5): day_of_week, day_of_year, interval_of_day, avg_mph, total_volume\n",
      "\u001b[33mlgl\u001b[39m  (2): missing_speed, missing_volume\n",
      "\u001b[34mdttm\u001b[39m (1): timestamp\n",
      "\u001b[34mdate\u001b[39m (1): date\n",
      "\n",
      "\u001b[36mℹ\u001b[39m Use `spec()` to retrieve the full column specification for this data.\n",
      "\u001b[36mℹ\u001b[39m Specify the column types or set `show_col_types = FALSE` to quiet this message.\n",
      "\u001b[1mRows: \u001b[22m\u001b[34m35040\u001b[39m \u001b[1mColumns: \u001b[22m\u001b[34m10\u001b[39m\n",
      "\u001b[36m──\u001b[39m \u001b[1mColumn specification\u001b[22m \u001b[36m────────────────────────────────────────────────────────\u001b[39m\n",
      "\u001b[1mDelimiter:\u001b[22m \",\"\n",
      "\u001b[31mchr\u001b[39m  (1): site_name\n",
      "\u001b[32mdbl\u001b[39m  (5): day_of_week, day_of_year, interval_of_day, avg_mph, total_volume\n",
      "\u001b[33mlgl\u001b[39m  (2): missing_speed, missing_volume\n",
      "\u001b[34mdttm\u001b[39m (1): timestamp\n",
      "\u001b[34mdate\u001b[39m (1): date\n",
      "\n",
      "\u001b[36mℹ\u001b[39m Use `spec()` to retrieve the full column specification for this data.\n",
      "\u001b[36mℹ\u001b[39m Specify the column types or set `show_col_types = FALSE` to quiet this message.\n",
      "\u001b[1mRows: \u001b[22m\u001b[34m35040\u001b[39m \u001b[1mColumns: \u001b[22m\u001b[34m10\u001b[39m\n",
      "\u001b[36m──\u001b[39m \u001b[1mColumn specification\u001b[22m \u001b[36m────────────────────────────────────────────────────────\u001b[39m\n",
      "\u001b[1mDelimiter:\u001b[22m \",\"\n",
      "\u001b[31mchr\u001b[39m  (1): site_name\n",
      "\u001b[32mdbl\u001b[39m  (5): day_of_week, day_of_year, interval_of_day, avg_mph, total_volume\n",
      "\u001b[33mlgl\u001b[39m  (2): missing_speed, missing_volume\n",
      "\u001b[34mdttm\u001b[39m (1): timestamp\n",
      "\u001b[34mdate\u001b[39m (1): date\n",
      "\n",
      "\u001b[36mℹ\u001b[39m Use `spec()` to retrieve the full column specification for this data.\n",
      "\u001b[36mℹ\u001b[39m Specify the column types or set `show_col_types = FALSE` to quiet this message.\n",
      "\u001b[1mRows: \u001b[22m\u001b[34m35040\u001b[39m \u001b[1mColumns: \u001b[22m\u001b[34m10\u001b[39m\n",
      "\u001b[36m──\u001b[39m \u001b[1mColumn specification\u001b[22m \u001b[36m────────────────────────────────────────────────────────\u001b[39m\n",
      "\u001b[1mDelimiter:\u001b[22m \",\"\n",
      "\u001b[31mchr\u001b[39m  (1): site_name\n",
      "\u001b[32mdbl\u001b[39m  (5): day_of_week, day_of_year, interval_of_day, avg_mph, total_volume\n",
      "\u001b[33mlgl\u001b[39m  (2): missing_speed, missing_volume\n",
      "\u001b[34mdttm\u001b[39m (1): timestamp\n",
      "\u001b[34mdate\u001b[39m (1): date\n",
      "\n",
      "\u001b[36mℹ\u001b[39m Use `spec()` to retrieve the full column specification for this data.\n",
      "\u001b[36mℹ\u001b[39m Specify the column types or set `show_col_types = FALSE` to quiet this message.\n",
      "\u001b[1mRows: \u001b[22m\u001b[34m35040\u001b[39m \u001b[1mColumns: \u001b[22m\u001b[34m10\u001b[39m\n",
      "\u001b[36m──\u001b[39m \u001b[1mColumn specification\u001b[22m \u001b[36m────────────────────────────────────────────────────────\u001b[39m\n",
      "\u001b[1mDelimiter:\u001b[22m \",\"\n",
      "\u001b[31mchr\u001b[39m  (1): site_name\n",
      "\u001b[32mdbl\u001b[39m  (5): day_of_week, day_of_year, interval_of_day, avg_mph, total_volume\n",
      "\u001b[33mlgl\u001b[39m  (2): missing_speed, missing_volume\n",
      "\u001b[34mdttm\u001b[39m (1): timestamp\n",
      "\u001b[34mdate\u001b[39m (1): date\n",
      "\n",
      "\u001b[36mℹ\u001b[39m Use `spec()` to retrieve the full column specification for this data.\n",
      "\u001b[36mℹ\u001b[39m Specify the column types or set `show_col_types = FALSE` to quiet this message.\n",
      "\u001b[1mRows: \u001b[22m\u001b[34m35040\u001b[39m \u001b[1mColumns: \u001b[22m\u001b[34m10\u001b[39m\n",
      "\u001b[36m──\u001b[39m \u001b[1mColumn specification\u001b[22m \u001b[36m────────────────────────────────────────────────────────\u001b[39m\n",
      "\u001b[1mDelimiter:\u001b[22m \",\"\n",
      "\u001b[31mchr\u001b[39m  (1): site_name\n",
      "\u001b[32mdbl\u001b[39m  (5): day_of_week, day_of_year, interval_of_day, avg_mph, total_volume\n",
      "\u001b[33mlgl\u001b[39m  (2): missing_speed, missing_volume\n",
      "\u001b[34mdttm\u001b[39m (1): timestamp\n",
      "\u001b[34mdate\u001b[39m (1): date\n",
      "\n",
      "\u001b[36mℹ\u001b[39m Use `spec()` to retrieve the full column specification for this data.\n",
      "\u001b[36mℹ\u001b[39m Specify the column types or set `show_col_types = FALSE` to quiet this message.\n",
      "\u001b[1mRows: \u001b[22m\u001b[34m35040\u001b[39m \u001b[1mColumns: \u001b[22m\u001b[34m10\u001b[39m\n",
      "\u001b[36m──\u001b[39m \u001b[1mColumn specification\u001b[22m \u001b[36m────────────────────────────────────────────────────────\u001b[39m\n",
      "\u001b[1mDelimiter:\u001b[22m \",\"\n",
      "\u001b[31mchr\u001b[39m  (1): site_name\n",
      "\u001b[32mdbl\u001b[39m  (5): day_of_week, day_of_year, interval_of_day, avg_mph, total_volume\n",
      "\u001b[33mlgl\u001b[39m  (2): missing_speed, missing_volume\n",
      "\u001b[34mdttm\u001b[39m (1): timestamp\n",
      "\u001b[34mdate\u001b[39m (1): date\n",
      "\n",
      "\u001b[36mℹ\u001b[39m Use `spec()` to retrieve the full column specification for this data.\n",
      "\u001b[36mℹ\u001b[39m Specify the column types or set `show_col_types = FALSE` to quiet this message.\n",
      "\u001b[1mRows: \u001b[22m\u001b[34m35040\u001b[39m \u001b[1mColumns: \u001b[22m\u001b[34m10\u001b[39m\n",
      "\u001b[36m──\u001b[39m \u001b[1mColumn specification\u001b[22m \u001b[36m────────────────────────────────────────────────────────\u001b[39m\n",
      "\u001b[1mDelimiter:\u001b[22m \",\"\n",
      "\u001b[31mchr\u001b[39m  (1): site_name\n",
      "\u001b[32mdbl\u001b[39m  (5): day_of_week, day_of_year, interval_of_day, avg_mph, total_volume\n",
      "\u001b[33mlgl\u001b[39m  (2): missing_speed, missing_volume\n",
      "\u001b[34mdttm\u001b[39m (1): timestamp\n",
      "\u001b[34mdate\u001b[39m (1): date\n",
      "\n",
      "\u001b[36mℹ\u001b[39m Use `spec()` to retrieve the full column specification for this data.\n",
      "\u001b[36mℹ\u001b[39m Specify the column types or set `show_col_types = FALSE` to quiet this message.\n",
      "\u001b[1mRows: \u001b[22m\u001b[34m35040\u001b[39m \u001b[1mColumns: \u001b[22m\u001b[34m10\u001b[39m\n",
      "\u001b[36m──\u001b[39m \u001b[1mColumn specification\u001b[22m \u001b[36m────────────────────────────────────────────────────────\u001b[39m\n",
      "\u001b[1mDelimiter:\u001b[22m \",\"\n",
      "\u001b[31mchr\u001b[39m  (1): site_name\n",
      "\u001b[32mdbl\u001b[39m  (5): day_of_week, day_of_year, interval_of_day, avg_mph, total_volume\n",
      "\u001b[33mlgl\u001b[39m  (2): missing_speed, missing_volume\n",
      "\u001b[34mdttm\u001b[39m (1): timestamp\n",
      "\u001b[34mdate\u001b[39m (1): date\n",
      "\n",
      "\u001b[36mℹ\u001b[39m Use `spec()` to retrieve the full column specification for this data.\n",
      "\u001b[36mℹ\u001b[39m Specify the column types or set `show_col_types = FALSE` to quiet this message.\n",
      "\u001b[1mRows: \u001b[22m\u001b[34m35040\u001b[39m \u001b[1mColumns: \u001b[22m\u001b[34m10\u001b[39m\n",
      "\u001b[36m──\u001b[39m \u001b[1mColumn specification\u001b[22m \u001b[36m────────────────────────────────────────────────────────\u001b[39m\n",
      "\u001b[1mDelimiter:\u001b[22m \",\"\n",
      "\u001b[31mchr\u001b[39m  (1): site_name\n",
      "\u001b[32mdbl\u001b[39m  (5): day_of_week, day_of_year, interval_of_day, avg_mph, total_volume\n",
      "\u001b[33mlgl\u001b[39m  (2): missing_speed, missing_volume\n",
      "\u001b[34mdttm\u001b[39m (1): timestamp\n",
      "\u001b[34mdate\u001b[39m (1): date\n",
      "\n",
      "\u001b[36mℹ\u001b[39m Use `spec()` to retrieve the full column specification for this data.\n",
      "\u001b[36mℹ\u001b[39m Specify the column types or set `show_col_types = FALSE` to quiet this message.\n",
      "\u001b[1mRows: \u001b[22m\u001b[34m35040\u001b[39m \u001b[1mColumns: \u001b[22m\u001b[34m10\u001b[39m\n",
      "\u001b[36m──\u001b[39m \u001b[1mColumn specification\u001b[22m \u001b[36m────────────────────────────────────────────────────────\u001b[39m\n",
      "\u001b[1mDelimiter:\u001b[22m \",\"\n",
      "\u001b[31mchr\u001b[39m  (1): site_name\n",
      "\u001b[32mdbl\u001b[39m  (5): day_of_week, day_of_year, interval_of_day, avg_mph, total_volume\n",
      "\u001b[33mlgl\u001b[39m  (2): missing_speed, missing_volume\n",
      "\u001b[34mdttm\u001b[39m (1): timestamp\n",
      "\u001b[34mdate\u001b[39m (1): date\n",
      "\n",
      "\u001b[36mℹ\u001b[39m Use `spec()` to retrieve the full column specification for this data.\n",
      "\u001b[36mℹ\u001b[39m Specify the column types or set `show_col_types = FALSE` to quiet this message.\n",
      "\u001b[1mRows: \u001b[22m\u001b[34m35040\u001b[39m \u001b[1mColumns: \u001b[22m\u001b[34m10\u001b[39m\n",
      "\u001b[36m──\u001b[39m \u001b[1mColumn specification\u001b[22m \u001b[36m────────────────────────────────────────────────────────\u001b[39m\n",
      "\u001b[1mDelimiter:\u001b[22m \",\"\n",
      "\u001b[31mchr\u001b[39m  (1): site_name\n",
      "\u001b[32mdbl\u001b[39m  (5): day_of_week, day_of_year, interval_of_day, avg_mph, total_volume\n",
      "\u001b[33mlgl\u001b[39m  (2): missing_speed, missing_volume\n",
      "\u001b[34mdttm\u001b[39m (1): timestamp\n",
      "\u001b[34mdate\u001b[39m (1): date\n",
      "\n",
      "\u001b[36mℹ\u001b[39m Use `spec()` to retrieve the full column specification for this data.\n",
      "\u001b[36mℹ\u001b[39m Specify the column types or set `show_col_types = FALSE` to quiet this message.\n",
      "\u001b[1mRows: \u001b[22m\u001b[34m35040\u001b[39m \u001b[1mColumns: \u001b[22m\u001b[34m10\u001b[39m\n",
      "\u001b[36m──\u001b[39m \u001b[1mColumn specification\u001b[22m \u001b[36m────────────────────────────────────────────────────────\u001b[39m\n",
      "\u001b[1mDelimiter:\u001b[22m \",\"\n",
      "\u001b[31mchr\u001b[39m  (1): site_name\n",
      "\u001b[32mdbl\u001b[39m  (5): day_of_week, day_of_year, interval_of_day, avg_mph, total_volume\n",
      "\u001b[33mlgl\u001b[39m  (2): missing_speed, missing_volume\n",
      "\u001b[34mdttm\u001b[39m (1): timestamp\n",
      "\u001b[34mdate\u001b[39m (1): date\n",
      "\n",
      "\u001b[36mℹ\u001b[39m Use `spec()` to retrieve the full column specification for this data.\n",
      "\u001b[36mℹ\u001b[39m Specify the column types or set `show_col_types = FALSE` to quiet this message.\n"
     ]
    },
    {
     "name": "stderr",
     "output_type": "stream",
     "text": [
      "\u001b[1mRows: \u001b[22m\u001b[34m35040\u001b[39m \u001b[1mColumns: \u001b[22m\u001b[34m10\u001b[39m\n",
      "\u001b[36m──\u001b[39m \u001b[1mColumn specification\u001b[22m \u001b[36m────────────────────────────────────────────────────────\u001b[39m\n",
      "\u001b[1mDelimiter:\u001b[22m \",\"\n",
      "\u001b[31mchr\u001b[39m  (1): site_name\n",
      "\u001b[32mdbl\u001b[39m  (5): day_of_week, day_of_year, interval_of_day, avg_mph, total_volume\n",
      "\u001b[33mlgl\u001b[39m  (2): missing_speed, missing_volume\n",
      "\u001b[34mdttm\u001b[39m (1): timestamp\n",
      "\u001b[34mdate\u001b[39m (1): date\n",
      "\n",
      "\u001b[36mℹ\u001b[39m Use `spec()` to retrieve the full column specification for this data.\n",
      "\u001b[36mℹ\u001b[39m Specify the column types or set `show_col_types = FALSE` to quiet this message.\n",
      "\u001b[1mRows: \u001b[22m\u001b[34m35040\u001b[39m \u001b[1mColumns: \u001b[22m\u001b[34m10\u001b[39m\n",
      "\u001b[36m──\u001b[39m \u001b[1mColumn specification\u001b[22m \u001b[36m────────────────────────────────────────────────────────\u001b[39m\n",
      "\u001b[1mDelimiter:\u001b[22m \",\"\n",
      "\u001b[31mchr\u001b[39m  (1): site_name\n",
      "\u001b[32mdbl\u001b[39m  (5): day_of_week, day_of_year, interval_of_day, avg_mph, total_volume\n",
      "\u001b[33mlgl\u001b[39m  (2): missing_speed, missing_volume\n",
      "\u001b[34mdttm\u001b[39m (1): timestamp\n",
      "\u001b[34mdate\u001b[39m (1): date\n",
      "\n",
      "\u001b[36mℹ\u001b[39m Use `spec()` to retrieve the full column specification for this data.\n",
      "\u001b[36mℹ\u001b[39m Specify the column types or set `show_col_types = FALSE` to quiet this message.\n",
      "\u001b[1mRows: \u001b[22m\u001b[34m35040\u001b[39m \u001b[1mColumns: \u001b[22m\u001b[34m10\u001b[39m\n",
      "\u001b[36m──\u001b[39m \u001b[1mColumn specification\u001b[22m \u001b[36m────────────────────────────────────────────────────────\u001b[39m\n",
      "\u001b[1mDelimiter:\u001b[22m \",\"\n",
      "\u001b[31mchr\u001b[39m  (1): site_name\n",
      "\u001b[32mdbl\u001b[39m  (5): day_of_week, day_of_year, interval_of_day, avg_mph, total_volume\n",
      "\u001b[33mlgl\u001b[39m  (2): missing_speed, missing_volume\n",
      "\u001b[34mdttm\u001b[39m (1): timestamp\n",
      "\u001b[34mdate\u001b[39m (1): date\n",
      "\n",
      "\u001b[36mℹ\u001b[39m Use `spec()` to retrieve the full column specification for this data.\n",
      "\u001b[36mℹ\u001b[39m Specify the column types or set `show_col_types = FALSE` to quiet this message.\n",
      "\u001b[1mRows: \u001b[22m\u001b[34m35040\u001b[39m \u001b[1mColumns: \u001b[22m\u001b[34m10\u001b[39m\n",
      "\u001b[36m──\u001b[39m \u001b[1mColumn specification\u001b[22m \u001b[36m────────────────────────────────────────────────────────\u001b[39m\n",
      "\u001b[1mDelimiter:\u001b[22m \",\"\n",
      "\u001b[31mchr\u001b[39m  (1): site_name\n",
      "\u001b[32mdbl\u001b[39m  (5): day_of_week, day_of_year, interval_of_day, avg_mph, total_volume\n",
      "\u001b[33mlgl\u001b[39m  (2): missing_speed, missing_volume\n",
      "\u001b[34mdttm\u001b[39m (1): timestamp\n",
      "\u001b[34mdate\u001b[39m (1): date\n",
      "\n",
      "\u001b[36mℹ\u001b[39m Use `spec()` to retrieve the full column specification for this data.\n",
      "\u001b[36mℹ\u001b[39m Specify the column types or set `show_col_types = FALSE` to quiet this message.\n",
      "\u001b[1mRows: \u001b[22m\u001b[34m35040\u001b[39m \u001b[1mColumns: \u001b[22m\u001b[34m10\u001b[39m\n",
      "\u001b[36m──\u001b[39m \u001b[1mColumn specification\u001b[22m \u001b[36m────────────────────────────────────────────────────────\u001b[39m\n",
      "\u001b[1mDelimiter:\u001b[22m \",\"\n",
      "\u001b[31mchr\u001b[39m  (1): site_name\n",
      "\u001b[32mdbl\u001b[39m  (5): day_of_week, day_of_year, interval_of_day, avg_mph, total_volume\n",
      "\u001b[33mlgl\u001b[39m  (2): missing_speed, missing_volume\n",
      "\u001b[34mdttm\u001b[39m (1): timestamp\n",
      "\u001b[34mdate\u001b[39m (1): date\n",
      "\n",
      "\u001b[36mℹ\u001b[39m Use `spec()` to retrieve the full column specification for this data.\n",
      "\u001b[36mℹ\u001b[39m Specify the column types or set `show_col_types = FALSE` to quiet this message.\n",
      "\u001b[1mRows: \u001b[22m\u001b[34m35040\u001b[39m \u001b[1mColumns: \u001b[22m\u001b[34m10\u001b[39m\n",
      "\u001b[36m──\u001b[39m \u001b[1mColumn specification\u001b[22m \u001b[36m────────────────────────────────────────────────────────\u001b[39m\n",
      "\u001b[1mDelimiter:\u001b[22m \",\"\n",
      "\u001b[31mchr\u001b[39m  (1): site_name\n",
      "\u001b[32mdbl\u001b[39m  (5): day_of_week, day_of_year, interval_of_day, avg_mph, total_volume\n",
      "\u001b[33mlgl\u001b[39m  (2): missing_speed, missing_volume\n",
      "\u001b[34mdttm\u001b[39m (1): timestamp\n",
      "\u001b[34mdate\u001b[39m (1): date\n",
      "\n",
      "\u001b[36mℹ\u001b[39m Use `spec()` to retrieve the full column specification for this data.\n",
      "\u001b[36mℹ\u001b[39m Specify the column types or set `show_col_types = FALSE` to quiet this message.\n",
      "\u001b[1mRows: \u001b[22m\u001b[34m35040\u001b[39m \u001b[1mColumns: \u001b[22m\u001b[34m10\u001b[39m\n",
      "\u001b[36m──\u001b[39m \u001b[1mColumn specification\u001b[22m \u001b[36m────────────────────────────────────────────────────────\u001b[39m\n",
      "\u001b[1mDelimiter:\u001b[22m \",\"\n",
      "\u001b[31mchr\u001b[39m  (1): site_name\n",
      "\u001b[32mdbl\u001b[39m  (5): day_of_week, day_of_year, interval_of_day, avg_mph, total_volume\n",
      "\u001b[33mlgl\u001b[39m  (2): missing_speed, missing_volume\n",
      "\u001b[34mdttm\u001b[39m (1): timestamp\n",
      "\u001b[34mdate\u001b[39m (1): date\n",
      "\n",
      "\u001b[36mℹ\u001b[39m Use `spec()` to retrieve the full column specification for this data.\n",
      "\u001b[36mℹ\u001b[39m Specify the column types or set `show_col_types = FALSE` to quiet this message.\n",
      "\u001b[1mRows: \u001b[22m\u001b[34m35040\u001b[39m \u001b[1mColumns: \u001b[22m\u001b[34m10\u001b[39m\n",
      "\u001b[36m──\u001b[39m \u001b[1mColumn specification\u001b[22m \u001b[36m────────────────────────────────────────────────────────\u001b[39m\n",
      "\u001b[1mDelimiter:\u001b[22m \",\"\n",
      "\u001b[31mchr\u001b[39m  (1): site_name\n",
      "\u001b[32mdbl\u001b[39m  (5): day_of_week, day_of_year, interval_of_day, avg_mph, total_volume\n",
      "\u001b[33mlgl\u001b[39m  (2): missing_speed, missing_volume\n",
      "\u001b[34mdttm\u001b[39m (1): timestamp\n",
      "\u001b[34mdate\u001b[39m (1): date\n",
      "\n",
      "\u001b[36mℹ\u001b[39m Use `spec()` to retrieve the full column specification for this data.\n",
      "\u001b[36mℹ\u001b[39m Specify the column types or set `show_col_types = FALSE` to quiet this message.\n",
      "\u001b[1mRows: \u001b[22m\u001b[34m35040\u001b[39m \u001b[1mColumns: \u001b[22m\u001b[34m10\u001b[39m\n",
      "\u001b[36m──\u001b[39m \u001b[1mColumn specification\u001b[22m \u001b[36m────────────────────────────────────────────────────────\u001b[39m\n",
      "\u001b[1mDelimiter:\u001b[22m \",\"\n",
      "\u001b[31mchr\u001b[39m  (1): site_name\n",
      "\u001b[32mdbl\u001b[39m  (5): day_of_week, day_of_year, interval_of_day, avg_mph, total_volume\n",
      "\u001b[33mlgl\u001b[39m  (2): missing_speed, missing_volume\n",
      "\u001b[34mdttm\u001b[39m (1): timestamp\n",
      "\u001b[34mdate\u001b[39m (1): date\n",
      "\n",
      "\u001b[36mℹ\u001b[39m Use `spec()` to retrieve the full column specification for this data.\n",
      "\u001b[36mℹ\u001b[39m Specify the column types or set `show_col_types = FALSE` to quiet this message.\n",
      "\u001b[1mRows: \u001b[22m\u001b[34m35040\u001b[39m \u001b[1mColumns: \u001b[22m\u001b[34m10\u001b[39m\n",
      "\u001b[36m──\u001b[39m \u001b[1mColumn specification\u001b[22m \u001b[36m────────────────────────────────────────────────────────\u001b[39m\n",
      "\u001b[1mDelimiter:\u001b[22m \",\"\n",
      "\u001b[31mchr\u001b[39m  (1): site_name\n",
      "\u001b[32mdbl\u001b[39m  (5): day_of_week, day_of_year, interval_of_day, avg_mph, total_volume\n",
      "\u001b[33mlgl\u001b[39m  (2): missing_speed, missing_volume\n",
      "\u001b[34mdttm\u001b[39m (1): timestamp\n",
      "\u001b[34mdate\u001b[39m (1): date\n",
      "\n",
      "\u001b[36mℹ\u001b[39m Use `spec()` to retrieve the full column specification for this data.\n",
      "\u001b[36mℹ\u001b[39m Specify the column types or set `show_col_types = FALSE` to quiet this message.\n",
      "\u001b[1mRows: \u001b[22m\u001b[34m35040\u001b[39m \u001b[1mColumns: \u001b[22m\u001b[34m10\u001b[39m\n",
      "\u001b[36m──\u001b[39m \u001b[1mColumn specification\u001b[22m \u001b[36m────────────────────────────────────────────────────────\u001b[39m\n",
      "\u001b[1mDelimiter:\u001b[22m \",\"\n",
      "\u001b[31mchr\u001b[39m  (1): site_name\n",
      "\u001b[32mdbl\u001b[39m  (5): day_of_week, day_of_year, interval_of_day, avg_mph, total_volume\n",
      "\u001b[33mlgl\u001b[39m  (2): missing_speed, missing_volume\n",
      "\u001b[34mdttm\u001b[39m (1): timestamp\n",
      "\u001b[34mdate\u001b[39m (1): date\n",
      "\n",
      "\u001b[36mℹ\u001b[39m Use `spec()` to retrieve the full column specification for this data.\n",
      "\u001b[36mℹ\u001b[39m Specify the column types or set `show_col_types = FALSE` to quiet this message.\n",
      "\u001b[1mRows: \u001b[22m\u001b[34m35040\u001b[39m \u001b[1mColumns: \u001b[22m\u001b[34m10\u001b[39m\n",
      "\u001b[36m──\u001b[39m \u001b[1mColumn specification\u001b[22m \u001b[36m────────────────────────────────────────────────────────\u001b[39m\n",
      "\u001b[1mDelimiter:\u001b[22m \",\"\n",
      "\u001b[31mchr\u001b[39m  (1): site_name\n",
      "\u001b[32mdbl\u001b[39m  (5): day_of_week, day_of_year, interval_of_day, avg_mph, total_volume\n",
      "\u001b[33mlgl\u001b[39m  (2): missing_speed, missing_volume\n",
      "\u001b[34mdttm\u001b[39m (1): timestamp\n",
      "\u001b[34mdate\u001b[39m (1): date\n",
      "\n",
      "\u001b[36mℹ\u001b[39m Use `spec()` to retrieve the full column specification for this data.\n",
      "\u001b[36mℹ\u001b[39m Specify the column types or set `show_col_types = FALSE` to quiet this message.\n",
      "\u001b[1mRows: \u001b[22m\u001b[34m35040\u001b[39m \u001b[1mColumns: \u001b[22m\u001b[34m10\u001b[39m\n",
      "\u001b[36m──\u001b[39m \u001b[1mColumn specification\u001b[22m \u001b[36m────────────────────────────────────────────────────────\u001b[39m\n",
      "\u001b[1mDelimiter:\u001b[22m \",\"\n",
      "\u001b[31mchr\u001b[39m  (1): site_name\n",
      "\u001b[32mdbl\u001b[39m  (5): day_of_week, day_of_year, interval_of_day, avg_mph, total_volume\n",
      "\u001b[33mlgl\u001b[39m  (2): missing_speed, missing_volume\n",
      "\u001b[34mdttm\u001b[39m (1): timestamp\n",
      "\u001b[34mdate\u001b[39m (1): date\n",
      "\n",
      "\u001b[36mℹ\u001b[39m Use `spec()` to retrieve the full column specification for this data.\n",
      "\u001b[36mℹ\u001b[39m Specify the column types or set `show_col_types = FALSE` to quiet this message.\n",
      "\u001b[1mRows: \u001b[22m\u001b[34m35040\u001b[39m \u001b[1mColumns: \u001b[22m\u001b[34m10\u001b[39m\n",
      "\u001b[36m──\u001b[39m \u001b[1mColumn specification\u001b[22m \u001b[36m────────────────────────────────────────────────────────\u001b[39m\n",
      "\u001b[1mDelimiter:\u001b[22m \",\"\n",
      "\u001b[31mchr\u001b[39m  (1): site_name\n",
      "\u001b[32mdbl\u001b[39m  (5): day_of_week, day_of_year, interval_of_day, avg_mph, total_volume\n",
      "\u001b[33mlgl\u001b[39m  (2): missing_speed, missing_volume\n",
      "\u001b[34mdttm\u001b[39m (1): timestamp\n",
      "\u001b[34mdate\u001b[39m (1): date\n",
      "\n",
      "\u001b[36mℹ\u001b[39m Use `spec()` to retrieve the full column specification for this data.\n",
      "\u001b[36mℹ\u001b[39m Specify the column types or set `show_col_types = FALSE` to quiet this message.\n"
     ]
    },
    {
     "name": "stderr",
     "output_type": "stream",
     "text": [
      "\u001b[1mRows: \u001b[22m\u001b[34m35040\u001b[39m \u001b[1mColumns: \u001b[22m\u001b[34m10\u001b[39m\n",
      "\u001b[36m──\u001b[39m \u001b[1mColumn specification\u001b[22m \u001b[36m────────────────────────────────────────────────────────\u001b[39m\n",
      "\u001b[1mDelimiter:\u001b[22m \",\"\n",
      "\u001b[31mchr\u001b[39m  (1): site_name\n",
      "\u001b[32mdbl\u001b[39m  (5): day_of_week, day_of_year, interval_of_day, avg_mph, total_volume\n",
      "\u001b[33mlgl\u001b[39m  (2): missing_speed, missing_volume\n",
      "\u001b[34mdttm\u001b[39m (1): timestamp\n",
      "\u001b[34mdate\u001b[39m (1): date\n",
      "\n",
      "\u001b[36mℹ\u001b[39m Use `spec()` to retrieve the full column specification for this data.\n",
      "\u001b[36mℹ\u001b[39m Specify the column types or set `show_col_types = FALSE` to quiet this message.\n",
      "\u001b[1mRows: \u001b[22m\u001b[34m35040\u001b[39m \u001b[1mColumns: \u001b[22m\u001b[34m10\u001b[39m\n",
      "\u001b[36m──\u001b[39m \u001b[1mColumn specification\u001b[22m \u001b[36m────────────────────────────────────────────────────────\u001b[39m\n",
      "\u001b[1mDelimiter:\u001b[22m \",\"\n",
      "\u001b[31mchr\u001b[39m  (1): site_name\n",
      "\u001b[32mdbl\u001b[39m  (5): day_of_week, day_of_year, interval_of_day, avg_mph, total_volume\n",
      "\u001b[33mlgl\u001b[39m  (2): missing_speed, missing_volume\n",
      "\u001b[34mdttm\u001b[39m (1): timestamp\n",
      "\u001b[34mdate\u001b[39m (1): date\n",
      "\n",
      "\u001b[36mℹ\u001b[39m Use `spec()` to retrieve the full column specification for this data.\n",
      "\u001b[36mℹ\u001b[39m Specify the column types or set `show_col_types = FALSE` to quiet this message.\n",
      "\u001b[1mRows: \u001b[22m\u001b[34m35040\u001b[39m \u001b[1mColumns: \u001b[22m\u001b[34m10\u001b[39m\n",
      "\u001b[36m──\u001b[39m \u001b[1mColumn specification\u001b[22m \u001b[36m────────────────────────────────────────────────────────\u001b[39m\n",
      "\u001b[1mDelimiter:\u001b[22m \",\"\n",
      "\u001b[31mchr\u001b[39m  (1): site_name\n",
      "\u001b[32mdbl\u001b[39m  (5): day_of_week, day_of_year, interval_of_day, avg_mph, total_volume\n",
      "\u001b[33mlgl\u001b[39m  (2): missing_speed, missing_volume\n",
      "\u001b[34mdttm\u001b[39m (1): timestamp\n",
      "\u001b[34mdate\u001b[39m (1): date\n",
      "\n",
      "\u001b[36mℹ\u001b[39m Use `spec()` to retrieve the full column specification for this data.\n",
      "\u001b[36mℹ\u001b[39m Specify the column types or set `show_col_types = FALSE` to quiet this message.\n",
      "\u001b[1mRows: \u001b[22m\u001b[34m35040\u001b[39m \u001b[1mColumns: \u001b[22m\u001b[34m10\u001b[39m\n",
      "\u001b[36m──\u001b[39m \u001b[1mColumn specification\u001b[22m \u001b[36m────────────────────────────────────────────────────────\u001b[39m\n",
      "\u001b[1mDelimiter:\u001b[22m \",\"\n",
      "\u001b[31mchr\u001b[39m  (1): site_name\n",
      "\u001b[32mdbl\u001b[39m  (5): day_of_week, day_of_year, interval_of_day, avg_mph, total_volume\n",
      "\u001b[33mlgl\u001b[39m  (2): missing_speed, missing_volume\n",
      "\u001b[34mdttm\u001b[39m (1): timestamp\n",
      "\u001b[34mdate\u001b[39m (1): date\n",
      "\n",
      "\u001b[36mℹ\u001b[39m Use `spec()` to retrieve the full column specification for this data.\n",
      "\u001b[36mℹ\u001b[39m Specify the column types or set `show_col_types = FALSE` to quiet this message.\n",
      "\u001b[1mRows: \u001b[22m\u001b[34m35040\u001b[39m \u001b[1mColumns: \u001b[22m\u001b[34m10\u001b[39m\n",
      "\u001b[36m──\u001b[39m \u001b[1mColumn specification\u001b[22m \u001b[36m────────────────────────────────────────────────────────\u001b[39m\n",
      "\u001b[1mDelimiter:\u001b[22m \",\"\n",
      "\u001b[31mchr\u001b[39m  (1): site_name\n",
      "\u001b[32mdbl\u001b[39m  (5): day_of_week, day_of_year, interval_of_day, avg_mph, total_volume\n",
      "\u001b[33mlgl\u001b[39m  (2): missing_speed, missing_volume\n",
      "\u001b[34mdttm\u001b[39m (1): timestamp\n",
      "\u001b[34mdate\u001b[39m (1): date\n",
      "\n",
      "\u001b[36mℹ\u001b[39m Use `spec()` to retrieve the full column specification for this data.\n",
      "\u001b[36mℹ\u001b[39m Specify the column types or set `show_col_types = FALSE` to quiet this message.\n",
      "\u001b[1mRows: \u001b[22m\u001b[34m35040\u001b[39m \u001b[1mColumns: \u001b[22m\u001b[34m10\u001b[39m\n",
      "\u001b[36m──\u001b[39m \u001b[1mColumn specification\u001b[22m \u001b[36m────────────────────────────────────────────────────────\u001b[39m\n",
      "\u001b[1mDelimiter:\u001b[22m \",\"\n",
      "\u001b[31mchr\u001b[39m  (1): site_name\n",
      "\u001b[32mdbl\u001b[39m  (5): day_of_week, day_of_year, interval_of_day, avg_mph, total_volume\n",
      "\u001b[33mlgl\u001b[39m  (2): missing_speed, missing_volume\n",
      "\u001b[34mdttm\u001b[39m (1): timestamp\n",
      "\u001b[34mdate\u001b[39m (1): date\n",
      "\n",
      "\u001b[36mℹ\u001b[39m Use `spec()` to retrieve the full column specification for this data.\n",
      "\u001b[36mℹ\u001b[39m Specify the column types or set `show_col_types = FALSE` to quiet this message.\n",
      "\u001b[1mRows: \u001b[22m\u001b[34m35040\u001b[39m \u001b[1mColumns: \u001b[22m\u001b[34m10\u001b[39m\n",
      "\u001b[36m──\u001b[39m \u001b[1mColumn specification\u001b[22m \u001b[36m────────────────────────────────────────────────────────\u001b[39m\n",
      "\u001b[1mDelimiter:\u001b[22m \",\"\n",
      "\u001b[31mchr\u001b[39m  (1): site_name\n",
      "\u001b[32mdbl\u001b[39m  (5): day_of_week, day_of_year, interval_of_day, avg_mph, total_volume\n",
      "\u001b[33mlgl\u001b[39m  (2): missing_speed, missing_volume\n",
      "\u001b[34mdttm\u001b[39m (1): timestamp\n",
      "\u001b[34mdate\u001b[39m (1): date\n",
      "\n",
      "\u001b[36mℹ\u001b[39m Use `spec()` to retrieve the full column specification for this data.\n",
      "\u001b[36mℹ\u001b[39m Specify the column types or set `show_col_types = FALSE` to quiet this message.\n",
      "\u001b[1mRows: \u001b[22m\u001b[34m35040\u001b[39m \u001b[1mColumns: \u001b[22m\u001b[34m10\u001b[39m\n",
      "\u001b[36m──\u001b[39m \u001b[1mColumn specification\u001b[22m \u001b[36m────────────────────────────────────────────────────────\u001b[39m\n",
      "\u001b[1mDelimiter:\u001b[22m \",\"\n",
      "\u001b[31mchr\u001b[39m  (1): site_name\n",
      "\u001b[32mdbl\u001b[39m  (5): day_of_week, day_of_year, interval_of_day, avg_mph, total_volume\n",
      "\u001b[33mlgl\u001b[39m  (2): missing_speed, missing_volume\n",
      "\u001b[34mdttm\u001b[39m (1): timestamp\n",
      "\u001b[34mdate\u001b[39m (1): date\n",
      "\n",
      "\u001b[36mℹ\u001b[39m Use `spec()` to retrieve the full column specification for this data.\n",
      "\u001b[36mℹ\u001b[39m Specify the column types or set `show_col_types = FALSE` to quiet this message.\n",
      "\u001b[1mRows: \u001b[22m\u001b[34m35040\u001b[39m \u001b[1mColumns: \u001b[22m\u001b[34m10\u001b[39m\n",
      "\u001b[36m──\u001b[39m \u001b[1mColumn specification\u001b[22m \u001b[36m────────────────────────────────────────────────────────\u001b[39m\n",
      "\u001b[1mDelimiter:\u001b[22m \",\"\n",
      "\u001b[31mchr\u001b[39m  (1): site_name\n",
      "\u001b[32mdbl\u001b[39m  (5): day_of_week, day_of_year, interval_of_day, avg_mph, total_volume\n",
      "\u001b[33mlgl\u001b[39m  (2): missing_speed, missing_volume\n",
      "\u001b[34mdttm\u001b[39m (1): timestamp\n",
      "\u001b[34mdate\u001b[39m (1): date\n",
      "\n",
      "\u001b[36mℹ\u001b[39m Use `spec()` to retrieve the full column specification for this data.\n",
      "\u001b[36mℹ\u001b[39m Specify the column types or set `show_col_types = FALSE` to quiet this message.\n",
      "\u001b[1mRows: \u001b[22m\u001b[34m35040\u001b[39m \u001b[1mColumns: \u001b[22m\u001b[34m10\u001b[39m\n",
      "\u001b[36m──\u001b[39m \u001b[1mColumn specification\u001b[22m \u001b[36m────────────────────────────────────────────────────────\u001b[39m\n",
      "\u001b[1mDelimiter:\u001b[22m \",\"\n",
      "\u001b[31mchr\u001b[39m  (1): site_name\n",
      "\u001b[32mdbl\u001b[39m  (5): day_of_week, day_of_year, interval_of_day, avg_mph, total_volume\n",
      "\u001b[33mlgl\u001b[39m  (2): missing_speed, missing_volume\n",
      "\u001b[34mdttm\u001b[39m (1): timestamp\n",
      "\u001b[34mdate\u001b[39m (1): date\n",
      "\n",
      "\u001b[36mℹ\u001b[39m Use `spec()` to retrieve the full column specification for this data.\n",
      "\u001b[36mℹ\u001b[39m Specify the column types or set `show_col_types = FALSE` to quiet this message.\n",
      "\u001b[1mRows: \u001b[22m\u001b[34m35040\u001b[39m \u001b[1mColumns: \u001b[22m\u001b[34m10\u001b[39m\n",
      "\u001b[36m──\u001b[39m \u001b[1mColumn specification\u001b[22m \u001b[36m────────────────────────────────────────────────────────\u001b[39m\n",
      "\u001b[1mDelimiter:\u001b[22m \",\"\n",
      "\u001b[31mchr\u001b[39m  (1): site_name\n",
      "\u001b[32mdbl\u001b[39m  (5): day_of_week, day_of_year, interval_of_day, avg_mph, total_volume\n",
      "\u001b[33mlgl\u001b[39m  (2): missing_speed, missing_volume\n",
      "\u001b[34mdttm\u001b[39m (1): timestamp\n",
      "\u001b[34mdate\u001b[39m (1): date\n",
      "\n",
      "\u001b[36mℹ\u001b[39m Use `spec()` to retrieve the full column specification for this data.\n",
      "\u001b[36mℹ\u001b[39m Specify the column types or set `show_col_types = FALSE` to quiet this message.\n",
      "\u001b[1mRows: \u001b[22m\u001b[34m35040\u001b[39m \u001b[1mColumns: \u001b[22m\u001b[34m10\u001b[39m\n",
      "\u001b[36m──\u001b[39m \u001b[1mColumn specification\u001b[22m \u001b[36m────────────────────────────────────────────────────────\u001b[39m\n",
      "\u001b[1mDelimiter:\u001b[22m \",\"\n",
      "\u001b[31mchr\u001b[39m  (1): site_name\n",
      "\u001b[32mdbl\u001b[39m  (5): day_of_week, day_of_year, interval_of_day, avg_mph, total_volume\n",
      "\u001b[33mlgl\u001b[39m  (2): missing_speed, missing_volume\n",
      "\u001b[34mdttm\u001b[39m (1): timestamp\n",
      "\u001b[34mdate\u001b[39m (1): date\n",
      "\n",
      "\u001b[36mℹ\u001b[39m Use `spec()` to retrieve the full column specification for this data.\n",
      "\u001b[36mℹ\u001b[39m Specify the column types or set `show_col_types = FALSE` to quiet this message.\n",
      "\u001b[1mRows: \u001b[22m\u001b[34m35040\u001b[39m \u001b[1mColumns: \u001b[22m\u001b[34m10\u001b[39m\n",
      "\u001b[36m──\u001b[39m \u001b[1mColumn specification\u001b[22m \u001b[36m────────────────────────────────────────────────────────\u001b[39m\n",
      "\u001b[1mDelimiter:\u001b[22m \",\"\n",
      "\u001b[31mchr\u001b[39m  (1): site_name\n",
      "\u001b[32mdbl\u001b[39m  (5): day_of_week, day_of_year, interval_of_day, avg_mph, total_volume\n",
      "\u001b[33mlgl\u001b[39m  (2): missing_speed, missing_volume\n",
      "\u001b[34mdttm\u001b[39m (1): timestamp\n",
      "\u001b[34mdate\u001b[39m (1): date\n",
      "\n",
      "\u001b[36mℹ\u001b[39m Use `spec()` to retrieve the full column specification for this data.\n",
      "\u001b[36mℹ\u001b[39m Specify the column types or set `show_col_types = FALSE` to quiet this message.\n",
      "\u001b[1mRows: \u001b[22m\u001b[34m35040\u001b[39m \u001b[1mColumns: \u001b[22m\u001b[34m10\u001b[39m\n",
      "\u001b[36m──\u001b[39m \u001b[1mColumn specification\u001b[22m \u001b[36m────────────────────────────────────────────────────────\u001b[39m\n",
      "\u001b[1mDelimiter:\u001b[22m \",\"\n",
      "\u001b[31mchr\u001b[39m  (1): site_name\n",
      "\u001b[32mdbl\u001b[39m  (5): day_of_week, day_of_year, interval_of_day, avg_mph, total_volume\n",
      "\u001b[33mlgl\u001b[39m  (2): missing_speed, missing_volume\n",
      "\u001b[34mdttm\u001b[39m (1): timestamp\n",
      "\u001b[34mdate\u001b[39m (1): date\n",
      "\n",
      "\u001b[36mℹ\u001b[39m Use `spec()` to retrieve the full column specification for this data.\n",
      "\u001b[36mℹ\u001b[39m Specify the column types or set `show_col_types = FALSE` to quiet this message.\n"
     ]
    },
    {
     "name": "stderr",
     "output_type": "stream",
     "text": [
      "\u001b[1mRows: \u001b[22m\u001b[34m35040\u001b[39m \u001b[1mColumns: \u001b[22m\u001b[34m10\u001b[39m\n",
      "\u001b[36m──\u001b[39m \u001b[1mColumn specification\u001b[22m \u001b[36m────────────────────────────────────────────────────────\u001b[39m\n",
      "\u001b[1mDelimiter:\u001b[22m \",\"\n",
      "\u001b[31mchr\u001b[39m  (1): site_name\n",
      "\u001b[32mdbl\u001b[39m  (5): day_of_week, day_of_year, interval_of_day, avg_mph, total_volume\n",
      "\u001b[33mlgl\u001b[39m  (2): missing_speed, missing_volume\n",
      "\u001b[34mdttm\u001b[39m (1): timestamp\n",
      "\u001b[34mdate\u001b[39m (1): date\n",
      "\n",
      "\u001b[36mℹ\u001b[39m Use `spec()` to retrieve the full column specification for this data.\n",
      "\u001b[36mℹ\u001b[39m Specify the column types or set `show_col_types = FALSE` to quiet this message.\n",
      "\u001b[1mRows: \u001b[22m\u001b[34m35040\u001b[39m \u001b[1mColumns: \u001b[22m\u001b[34m10\u001b[39m\n",
      "\u001b[36m──\u001b[39m \u001b[1mColumn specification\u001b[22m \u001b[36m────────────────────────────────────────────────────────\u001b[39m\n",
      "\u001b[1mDelimiter:\u001b[22m \",\"\n",
      "\u001b[31mchr\u001b[39m  (1): site_name\n",
      "\u001b[32mdbl\u001b[39m  (5): day_of_week, day_of_year, interval_of_day, avg_mph, total_volume\n",
      "\u001b[33mlgl\u001b[39m  (2): missing_speed, missing_volume\n",
      "\u001b[34mdttm\u001b[39m (1): timestamp\n",
      "\u001b[34mdate\u001b[39m (1): date\n",
      "\n",
      "\u001b[36mℹ\u001b[39m Use `spec()` to retrieve the full column specification for this data.\n",
      "\u001b[36mℹ\u001b[39m Specify the column types or set `show_col_types = FALSE` to quiet this message.\n",
      "\u001b[1mRows: \u001b[22m\u001b[34m35040\u001b[39m \u001b[1mColumns: \u001b[22m\u001b[34m10\u001b[39m\n",
      "\u001b[36m──\u001b[39m \u001b[1mColumn specification\u001b[22m \u001b[36m────────────────────────────────────────────────────────\u001b[39m\n",
      "\u001b[1mDelimiter:\u001b[22m \",\"\n",
      "\u001b[31mchr\u001b[39m  (1): site_name\n",
      "\u001b[32mdbl\u001b[39m  (5): day_of_week, day_of_year, interval_of_day, avg_mph, total_volume\n",
      "\u001b[33mlgl\u001b[39m  (2): missing_speed, missing_volume\n",
      "\u001b[34mdttm\u001b[39m (1): timestamp\n",
      "\u001b[34mdate\u001b[39m (1): date\n",
      "\n",
      "\u001b[36mℹ\u001b[39m Use `spec()` to retrieve the full column specification for this data.\n",
      "\u001b[36mℹ\u001b[39m Specify the column types or set `show_col_types = FALSE` to quiet this message.\n",
      "\u001b[1mRows: \u001b[22m\u001b[34m35040\u001b[39m \u001b[1mColumns: \u001b[22m\u001b[34m10\u001b[39m\n",
      "\u001b[36m──\u001b[39m \u001b[1mColumn specification\u001b[22m \u001b[36m────────────────────────────────────────────────────────\u001b[39m\n",
      "\u001b[1mDelimiter:\u001b[22m \",\"\n",
      "\u001b[31mchr\u001b[39m  (1): site_name\n",
      "\u001b[32mdbl\u001b[39m  (5): day_of_week, day_of_year, interval_of_day, avg_mph, total_volume\n",
      "\u001b[33mlgl\u001b[39m  (2): missing_speed, missing_volume\n",
      "\u001b[34mdttm\u001b[39m (1): timestamp\n",
      "\u001b[34mdate\u001b[39m (1): date\n",
      "\n",
      "\u001b[36mℹ\u001b[39m Use `spec()` to retrieve the full column specification for this data.\n",
      "\u001b[36mℹ\u001b[39m Specify the column types or set `show_col_types = FALSE` to quiet this message.\n",
      "\u001b[1mRows: \u001b[22m\u001b[34m35040\u001b[39m \u001b[1mColumns: \u001b[22m\u001b[34m10\u001b[39m\n",
      "\u001b[36m──\u001b[39m \u001b[1mColumn specification\u001b[22m \u001b[36m────────────────────────────────────────────────────────\u001b[39m\n",
      "\u001b[1mDelimiter:\u001b[22m \",\"\n",
      "\u001b[31mchr\u001b[39m  (1): site_name\n",
      "\u001b[32mdbl\u001b[39m  (5): day_of_week, day_of_year, interval_of_day, avg_mph, total_volume\n",
      "\u001b[33mlgl\u001b[39m  (2): missing_speed, missing_volume\n",
      "\u001b[34mdttm\u001b[39m (1): timestamp\n",
      "\u001b[34mdate\u001b[39m (1): date\n",
      "\n",
      "\u001b[36mℹ\u001b[39m Use `spec()` to retrieve the full column specification for this data.\n",
      "\u001b[36mℹ\u001b[39m Specify the column types or set `show_col_types = FALSE` to quiet this message.\n",
      "\u001b[1mRows: \u001b[22m\u001b[34m35040\u001b[39m \u001b[1mColumns: \u001b[22m\u001b[34m10\u001b[39m\n",
      "\u001b[36m──\u001b[39m \u001b[1mColumn specification\u001b[22m \u001b[36m────────────────────────────────────────────────────────\u001b[39m\n",
      "\u001b[1mDelimiter:\u001b[22m \",\"\n",
      "\u001b[31mchr\u001b[39m  (1): site_name\n",
      "\u001b[32mdbl\u001b[39m  (5): day_of_week, day_of_year, interval_of_day, avg_mph, total_volume\n",
      "\u001b[33mlgl\u001b[39m  (2): missing_speed, missing_volume\n",
      "\u001b[34mdttm\u001b[39m (1): timestamp\n",
      "\u001b[34mdate\u001b[39m (1): date\n",
      "\n",
      "\u001b[36mℹ\u001b[39m Use `spec()` to retrieve the full column specification for this data.\n",
      "\u001b[36mℹ\u001b[39m Specify the column types or set `show_col_types = FALSE` to quiet this message.\n",
      "\u001b[1mRows: \u001b[22m\u001b[34m35040\u001b[39m \u001b[1mColumns: \u001b[22m\u001b[34m10\u001b[39m\n",
      "\u001b[36m──\u001b[39m \u001b[1mColumn specification\u001b[22m \u001b[36m────────────────────────────────────────────────────────\u001b[39m\n",
      "\u001b[1mDelimiter:\u001b[22m \",\"\n",
      "\u001b[31mchr\u001b[39m  (1): site_name\n",
      "\u001b[32mdbl\u001b[39m  (5): day_of_week, day_of_year, interval_of_day, avg_mph, total_volume\n",
      "\u001b[33mlgl\u001b[39m  (2): missing_speed, missing_volume\n",
      "\u001b[34mdttm\u001b[39m (1): timestamp\n",
      "\u001b[34mdate\u001b[39m (1): date\n",
      "\n",
      "\u001b[36mℹ\u001b[39m Use `spec()` to retrieve the full column specification for this data.\n",
      "\u001b[36mℹ\u001b[39m Specify the column types or set `show_col_types = FALSE` to quiet this message.\n",
      "\u001b[1mRows: \u001b[22m\u001b[34m35040\u001b[39m \u001b[1mColumns: \u001b[22m\u001b[34m10\u001b[39m\n",
      "\u001b[36m──\u001b[39m \u001b[1mColumn specification\u001b[22m \u001b[36m────────────────────────────────────────────────────────\u001b[39m\n",
      "\u001b[1mDelimiter:\u001b[22m \",\"\n",
      "\u001b[31mchr\u001b[39m  (1): site_name\n",
      "\u001b[32mdbl\u001b[39m  (5): day_of_week, day_of_year, interval_of_day, avg_mph, total_volume\n",
      "\u001b[33mlgl\u001b[39m  (2): missing_speed, missing_volume\n",
      "\u001b[34mdttm\u001b[39m (1): timestamp\n",
      "\u001b[34mdate\u001b[39m (1): date\n",
      "\n",
      "\u001b[36mℹ\u001b[39m Use `spec()` to retrieve the full column specification for this data.\n",
      "\u001b[36mℹ\u001b[39m Specify the column types or set `show_col_types = FALSE` to quiet this message.\n",
      "\u001b[1mRows: \u001b[22m\u001b[34m35040\u001b[39m \u001b[1mColumns: \u001b[22m\u001b[34m10\u001b[39m\n",
      "\u001b[36m──\u001b[39m \u001b[1mColumn specification\u001b[22m \u001b[36m────────────────────────────────────────────────────────\u001b[39m\n",
      "\u001b[1mDelimiter:\u001b[22m \",\"\n",
      "\u001b[31mchr\u001b[39m  (1): site_name\n",
      "\u001b[32mdbl\u001b[39m  (5): day_of_week, day_of_year, interval_of_day, avg_mph, total_volume\n",
      "\u001b[33mlgl\u001b[39m  (2): missing_speed, missing_volume\n",
      "\u001b[34mdttm\u001b[39m (1): timestamp\n",
      "\u001b[34mdate\u001b[39m (1): date\n",
      "\n",
      "\u001b[36mℹ\u001b[39m Use `spec()` to retrieve the full column specification for this data.\n",
      "\u001b[36mℹ\u001b[39m Specify the column types or set `show_col_types = FALSE` to quiet this message.\n",
      "\u001b[1mRows: \u001b[22m\u001b[34m35040\u001b[39m \u001b[1mColumns: \u001b[22m\u001b[34m10\u001b[39m\n",
      "\u001b[36m──\u001b[39m \u001b[1mColumn specification\u001b[22m \u001b[36m────────────────────────────────────────────────────────\u001b[39m\n",
      "\u001b[1mDelimiter:\u001b[22m \",\"\n",
      "\u001b[31mchr\u001b[39m  (1): site_name\n",
      "\u001b[32mdbl\u001b[39m  (5): day_of_week, day_of_year, interval_of_day, avg_mph, total_volume\n",
      "\u001b[33mlgl\u001b[39m  (2): missing_speed, missing_volume\n",
      "\u001b[34mdttm\u001b[39m (1): timestamp\n",
      "\u001b[34mdate\u001b[39m (1): date\n",
      "\n",
      "\u001b[36mℹ\u001b[39m Use `spec()` to retrieve the full column specification for this data.\n",
      "\u001b[36mℹ\u001b[39m Specify the column types or set `show_col_types = FALSE` to quiet this message.\n",
      "\u001b[1mRows: \u001b[22m\u001b[34m35040\u001b[39m \u001b[1mColumns: \u001b[22m\u001b[34m10\u001b[39m\n",
      "\u001b[36m──\u001b[39m \u001b[1mColumn specification\u001b[22m \u001b[36m────────────────────────────────────────────────────────\u001b[39m\n",
      "\u001b[1mDelimiter:\u001b[22m \",\"\n",
      "\u001b[31mchr\u001b[39m  (1): site_name\n",
      "\u001b[32mdbl\u001b[39m  (5): day_of_week, day_of_year, interval_of_day, avg_mph, total_volume\n",
      "\u001b[33mlgl\u001b[39m  (2): missing_speed, missing_volume\n",
      "\u001b[34mdttm\u001b[39m (1): timestamp\n",
      "\u001b[34mdate\u001b[39m (1): date\n",
      "\n",
      "\u001b[36mℹ\u001b[39m Use `spec()` to retrieve the full column specification for this data.\n",
      "\u001b[36mℹ\u001b[39m Specify the column types or set `show_col_types = FALSE` to quiet this message.\n",
      "\u001b[1mRows: \u001b[22m\u001b[34m35040\u001b[39m \u001b[1mColumns: \u001b[22m\u001b[34m10\u001b[39m\n",
      "\u001b[36m──\u001b[39m \u001b[1mColumn specification\u001b[22m \u001b[36m────────────────────────────────────────────────────────\u001b[39m\n",
      "\u001b[1mDelimiter:\u001b[22m \",\"\n",
      "\u001b[31mchr\u001b[39m  (1): site_name\n",
      "\u001b[32mdbl\u001b[39m  (5): day_of_week, day_of_year, interval_of_day, avg_mph, total_volume\n",
      "\u001b[33mlgl\u001b[39m  (2): missing_speed, missing_volume\n",
      "\u001b[34mdttm\u001b[39m (1): timestamp\n",
      "\u001b[34mdate\u001b[39m (1): date\n",
      "\n",
      "\u001b[36mℹ\u001b[39m Use `spec()` to retrieve the full column specification for this data.\n",
      "\u001b[36mℹ\u001b[39m Specify the column types or set `show_col_types = FALSE` to quiet this message.\n",
      "\u001b[1mRows: \u001b[22m\u001b[34m35040\u001b[39m \u001b[1mColumns: \u001b[22m\u001b[34m10\u001b[39m\n",
      "\u001b[36m──\u001b[39m \u001b[1mColumn specification\u001b[22m \u001b[36m────────────────────────────────────────────────────────\u001b[39m\n",
      "\u001b[1mDelimiter:\u001b[22m \",\"\n",
      "\u001b[31mchr\u001b[39m  (1): site_name\n",
      "\u001b[32mdbl\u001b[39m  (5): day_of_week, day_of_year, interval_of_day, avg_mph, total_volume\n",
      "\u001b[33mlgl\u001b[39m  (2): missing_speed, missing_volume\n",
      "\u001b[34mdttm\u001b[39m (1): timestamp\n",
      "\u001b[34mdate\u001b[39m (1): date\n",
      "\n",
      "\u001b[36mℹ\u001b[39m Use `spec()` to retrieve the full column specification for this data.\n",
      "\u001b[36mℹ\u001b[39m Specify the column types or set `show_col_types = FALSE` to quiet this message.\n",
      "\u001b[1mRows: \u001b[22m\u001b[34m35040\u001b[39m \u001b[1mColumns: \u001b[22m\u001b[34m10\u001b[39m\n",
      "\u001b[36m──\u001b[39m \u001b[1mColumn specification\u001b[22m \u001b[36m────────────────────────────────────────────────────────\u001b[39m\n",
      "\u001b[1mDelimiter:\u001b[22m \",\"\n",
      "\u001b[31mchr\u001b[39m  (1): site_name\n",
      "\u001b[32mdbl\u001b[39m  (5): day_of_week, day_of_year, interval_of_day, avg_mph, total_volume\n",
      "\u001b[33mlgl\u001b[39m  (2): missing_speed, missing_volume\n",
      "\u001b[34mdttm\u001b[39m (1): timestamp\n",
      "\u001b[34mdate\u001b[39m (1): date\n",
      "\n",
      "\u001b[36mℹ\u001b[39m Use `spec()` to retrieve the full column specification for this data.\n",
      "\u001b[36mℹ\u001b[39m Specify the column types or set `show_col_types = FALSE` to quiet this message.\n"
     ]
    },
    {
     "name": "stderr",
     "output_type": "stream",
     "text": [
      "\u001b[1mRows: \u001b[22m\u001b[34m35040\u001b[39m \u001b[1mColumns: \u001b[22m\u001b[34m10\u001b[39m\n",
      "\u001b[36m──\u001b[39m \u001b[1mColumn specification\u001b[22m \u001b[36m────────────────────────────────────────────────────────\u001b[39m\n",
      "\u001b[1mDelimiter:\u001b[22m \",\"\n",
      "\u001b[31mchr\u001b[39m  (1): site_name\n",
      "\u001b[32mdbl\u001b[39m  (5): day_of_week, day_of_year, interval_of_day, avg_mph, total_volume\n",
      "\u001b[33mlgl\u001b[39m  (2): missing_speed, missing_volume\n",
      "\u001b[34mdttm\u001b[39m (1): timestamp\n",
      "\u001b[34mdate\u001b[39m (1): date\n",
      "\n",
      "\u001b[36mℹ\u001b[39m Use `spec()` to retrieve the full column specification for this data.\n",
      "\u001b[36mℹ\u001b[39m Specify the column types or set `show_col_types = FALSE` to quiet this message.\n",
      "\u001b[1mRows: \u001b[22m\u001b[34m35040\u001b[39m \u001b[1mColumns: \u001b[22m\u001b[34m10\u001b[39m\n",
      "\u001b[36m──\u001b[39m \u001b[1mColumn specification\u001b[22m \u001b[36m────────────────────────────────────────────────────────\u001b[39m\n",
      "\u001b[1mDelimiter:\u001b[22m \",\"\n",
      "\u001b[31mchr\u001b[39m  (1): site_name\n",
      "\u001b[32mdbl\u001b[39m  (5): day_of_week, day_of_year, interval_of_day, avg_mph, total_volume\n",
      "\u001b[33mlgl\u001b[39m  (2): missing_speed, missing_volume\n",
      "\u001b[34mdttm\u001b[39m (1): timestamp\n",
      "\u001b[34mdate\u001b[39m (1): date\n",
      "\n",
      "\u001b[36mℹ\u001b[39m Use `spec()` to retrieve the full column specification for this data.\n",
      "\u001b[36mℹ\u001b[39m Specify the column types or set `show_col_types = FALSE` to quiet this message.\n",
      "\u001b[1mRows: \u001b[22m\u001b[34m35040\u001b[39m \u001b[1mColumns: \u001b[22m\u001b[34m10\u001b[39m\n",
      "\u001b[36m──\u001b[39m \u001b[1mColumn specification\u001b[22m \u001b[36m────────────────────────────────────────────────────────\u001b[39m\n",
      "\u001b[1mDelimiter:\u001b[22m \",\"\n",
      "\u001b[31mchr\u001b[39m  (1): site_name\n",
      "\u001b[32mdbl\u001b[39m  (5): day_of_week, day_of_year, interval_of_day, avg_mph, total_volume\n",
      "\u001b[33mlgl\u001b[39m  (2): missing_speed, missing_volume\n",
      "\u001b[34mdttm\u001b[39m (1): timestamp\n",
      "\u001b[34mdate\u001b[39m (1): date\n",
      "\n",
      "\u001b[36mℹ\u001b[39m Use `spec()` to retrieve the full column specification for this data.\n",
      "\u001b[36mℹ\u001b[39m Specify the column types or set `show_col_types = FALSE` to quiet this message.\n",
      "\u001b[1mRows: \u001b[22m\u001b[34m35040\u001b[39m \u001b[1mColumns: \u001b[22m\u001b[34m10\u001b[39m\n",
      "\u001b[36m──\u001b[39m \u001b[1mColumn specification\u001b[22m \u001b[36m────────────────────────────────────────────────────────\u001b[39m\n",
      "\u001b[1mDelimiter:\u001b[22m \",\"\n",
      "\u001b[31mchr\u001b[39m  (1): site_name\n",
      "\u001b[32mdbl\u001b[39m  (5): day_of_week, day_of_year, interval_of_day, avg_mph, total_volume\n",
      "\u001b[33mlgl\u001b[39m  (2): missing_speed, missing_volume\n",
      "\u001b[34mdttm\u001b[39m (1): timestamp\n",
      "\u001b[34mdate\u001b[39m (1): date\n",
      "\n",
      "\u001b[36mℹ\u001b[39m Use `spec()` to retrieve the full column specification for this data.\n",
      "\u001b[36mℹ\u001b[39m Specify the column types or set `show_col_types = FALSE` to quiet this message.\n",
      "\u001b[1mRows: \u001b[22m\u001b[34m35040\u001b[39m \u001b[1mColumns: \u001b[22m\u001b[34m10\u001b[39m\n",
      "\u001b[36m──\u001b[39m \u001b[1mColumn specification\u001b[22m \u001b[36m────────────────────────────────────────────────────────\u001b[39m\n",
      "\u001b[1mDelimiter:\u001b[22m \",\"\n",
      "\u001b[31mchr\u001b[39m  (1): site_name\n",
      "\u001b[32mdbl\u001b[39m  (5): day_of_week, day_of_year, interval_of_day, avg_mph, total_volume\n",
      "\u001b[33mlgl\u001b[39m  (2): missing_speed, missing_volume\n",
      "\u001b[34mdttm\u001b[39m (1): timestamp\n",
      "\u001b[34mdate\u001b[39m (1): date\n",
      "\n",
      "\u001b[36mℹ\u001b[39m Use `spec()` to retrieve the full column specification for this data.\n",
      "\u001b[36mℹ\u001b[39m Specify the column types or set `show_col_types = FALSE` to quiet this message.\n",
      "\u001b[1mRows: \u001b[22m\u001b[34m35040\u001b[39m \u001b[1mColumns: \u001b[22m\u001b[34m10\u001b[39m\n",
      "\u001b[36m──\u001b[39m \u001b[1mColumn specification\u001b[22m \u001b[36m────────────────────────────────────────────────────────\u001b[39m\n",
      "\u001b[1mDelimiter:\u001b[22m \",\"\n",
      "\u001b[31mchr\u001b[39m  (1): site_name\n",
      "\u001b[32mdbl\u001b[39m  (5): day_of_week, day_of_year, interval_of_day, avg_mph, total_volume\n",
      "\u001b[33mlgl\u001b[39m  (2): missing_speed, missing_volume\n",
      "\u001b[34mdttm\u001b[39m (1): timestamp\n",
      "\u001b[34mdate\u001b[39m (1): date\n",
      "\n",
      "\u001b[36mℹ\u001b[39m Use `spec()` to retrieve the full column specification for this data.\n",
      "\u001b[36mℹ\u001b[39m Specify the column types or set `show_col_types = FALSE` to quiet this message.\n"
     ]
    }
   ],
   "source": [
    "# Read in all files from the Data/Processed directory - these are for the original sensors, not the unseen sensors\n",
    "england_fnames <- list.files(\"Data/Processed/Highways_England/\", pattern=\"*.csv\", full.names=TRUE)\n",
    "england_df_list <- lapply(england_fnames, read_csv)\n",
    "\n",
    "portland_fnames <- list.files(\"Data/Processed/Portland/\", pattern=\"*.csv\", full.names=TRUE)\n",
    "portland_df_list <- lapply(portland_fnames, read_csv)\n",
    "\n",
    "utah_fnames <- list.files(\"Data/Processed/Utah/\", pattern=\"*.csv\", full.names=TRUE)\n",
    "utah_df_list <- lapply(utah_fnames, read_csv)"
   ]
  },
  {
   "cell_type": "code",
   "execution_count": 55,
   "id": "aeb87055",
   "metadata": {},
   "outputs": [],
   "source": [
    "# Ensure that the rows in each data frame are in proper chronological order \n",
    "england_df_list <- lapply(england_df_list, function(x) x %>% arrange(timestamp))\n",
    "portland_df_list <- lapply(portland_df_list, function(x) x %>% arrange(timestamp))\n",
    "utah_df_list <- lapply(utah_df_list, function(x) x %>% arrange(timestamp))    "
   ]
  },
  {
   "cell_type": "code",
   "execution_count": 56,
   "id": "1b2e79d9",
   "metadata": {},
   "outputs": [],
   "source": [
    "# Create one list of all data frames\n",
    "total_df_list_orig <- append(append(england_df_list, portland_df_list), utah_df_list)"
   ]
  },
  {
   "cell_type": "code",
   "execution_count": 57,
   "id": "e91c1eff",
   "metadata": {},
   "outputs": [
    {
     "name": "stderr",
     "output_type": "stream",
     "text": [
      "\u001b[1mRows: \u001b[22m\u001b[34m76\u001b[39m \u001b[1mColumns: \u001b[22m\u001b[34m2\u001b[39m\n",
      "\u001b[36m──\u001b[39m \u001b[1mColumn specification\u001b[22m \u001b[36m────────────────────────────────────────────────────────\u001b[39m\n",
      "\u001b[1mDelimiter:\u001b[22m \",\"\n",
      "\u001b[32mdbl\u001b[39m (2): start, end\n",
      "\n",
      "\u001b[36mℹ\u001b[39m Use `spec()` to retrieve the full column specification for this data.\n",
      "\u001b[36mℹ\u001b[39m Specify the column types or set `show_col_types = FALSE` to quiet this message.\n"
     ]
    }
   ],
   "source": [
    "# Read in the start and end points for each original time series from csv\n",
    "start_end_orig <- read_csv(\"start_end_points.csv\")\n",
    "starting_points <- start_end_orig$start\n",
    "ending_points <- start_end_orig$end"
   ]
  },
  {
   "cell_type": "code",
   "execution_count": 58,
   "id": "19925fe7",
   "metadata": {},
   "outputs": [],
   "source": [
    "# For each df in our list, create a row number column called 'rn' - this will allow us to find the starting point\n",
    "# for each sample using the above starting_points array\n",
    "total_df_list_orig <- lapply(total_df_list_orig, function(x) x %>% mutate(rn = row_number()))"
   ]
  },
  {
   "cell_type": "code",
   "execution_count": 59,
   "id": "dcdc5a92",
   "metadata": {},
   "outputs": [],
   "source": [
    "# Sample each df in the list according to its corresponding starting and ending point - this creates 12-week\n",
    "# long samples of each data frame which will be used for modeling and testing\n",
    "total_df_list_orig_samples <- lapply(1:length(total_df_list_orig), \n",
    "                                function(x) total_df_list_orig[[x]] %>% \n",
    "                                    filter(rn >= starting_points[x]) %>%\n",
    "                                    filter(rn <= ending_points[x]))"
   ]
  },
  {
   "cell_type": "code",
   "execution_count": 60,
   "id": "a4393772",
   "metadata": {},
   "outputs": [],
   "source": [
    "# Add a new column to each data frame to denote whether each row should be part of the training set, validation set\n",
    "# or test set - the first 8 weeks are designated as train, the next 2 as val, and the final 2 as test. It may be \n",
    "# the case that train and val get used for training, depending on the modeling task\n",
    "total_df_list_orig_samples <- lapply(total_df_list_orig_samples, \n",
    "                                function(x) x %>% mutate(rn = row_number()) %>%\n",
    "                                    mutate(train_val_test = ifelse(rn <= (96*7*8), \n",
    "                                                                   \"train\", \n",
    "                                                                   ifelse(rn <= (96*7*10), \n",
    "                                                                          \"val\", \n",
    "                                                                          \"test\")))\n",
    "                                \n",
    "                               )"
   ]
  },
  {
   "cell_type": "code",
   "execution_count": 61,
   "id": "9c8a479c",
   "metadata": {},
   "outputs": [],
   "source": [
    "# Create a list of data frames which only have the training rows of each df\n",
    "train_samples_orig <- lapply(total_df_list_orig_samples, function(x) x %>% filter(train_val_test == \"train\"))"
   ]
  },
  {
   "cell_type": "code",
   "execution_count": 62,
   "id": "8f85f397",
   "metadata": {},
   "outputs": [],
   "source": [
    "# Get the target field (total_volume) from the dfs in the above lists and create msts objects instead of dfs\n",
    "train_samples_ts_orig <- lapply(train_samples_orig, \n",
    "                           function(x) msts(x$total_volume, seasonal.periods=c(24*4, 24*4*7)))"
   ]
  },
  {
   "cell_type": "code",
   "execution_count": 63,
   "id": "df99103f",
   "metadata": {},
   "outputs": [],
   "source": [
    "# Loop through the time series in the list\n",
    "for (i in 1:length(train_samples_ts_orig)) {\n",
    "    # If the time series is equal to a cluster centroid\n",
    "    if (mean(train_samples_ts_orig[[i]] == dtw_orig_cent[[1]])==1) {\n",
    "        # Assign the centroid variable to the time series index\n",
    "        centroid_1 <- i\n",
    "    }\n",
    "    if (mean(train_samples_ts_orig[[i]] == dtw_orig_cent[[2]])==1) {\n",
    "        centroid_2 <- i\n",
    "    }\n",
    "    \n",
    "}"
   ]
  },
  {
   "cell_type": "code",
   "execution_count": 64,
   "id": "14838315",
   "metadata": {},
   "outputs": [
    {
     "data": {
      "text/html": [
       "4"
      ],
      "text/latex": [
       "4"
      ],
      "text/markdown": [
       "4"
      ],
      "text/plain": [
       "[1] 4"
      ]
     },
     "metadata": {},
     "output_type": "display_data"
    }
   ],
   "source": [
    "# Print the index of each of the cluster centroids\n",
    "centroid_1"
   ]
  },
  {
   "cell_type": "code",
   "execution_count": 65,
   "id": "d89e271f",
   "metadata": {},
   "outputs": [
    {
     "data": {
      "text/html": [
       "75"
      ],
      "text/latex": [
       "75"
      ],
      "text/markdown": [
       "75"
      ],
      "text/plain": [
       "[1] 75"
      ]
     },
     "metadata": {},
     "output_type": "display_data"
    }
   ],
   "source": [
    "centroid_2"
   ]
  },
  {
   "cell_type": "markdown",
   "id": "4aca8133",
   "metadata": {},
   "source": [
    "## Compute Distance to Centroids"
   ]
  },
  {
   "cell_type": "code",
   "execution_count": 66,
   "id": "c30e64e1",
   "metadata": {},
   "outputs": [],
   "source": [
    "# Compute the DTW distance of each new time series to the cluster centroid for both of the original clusters\n",
    "# We use the dtw_basic function to match the way distance was computed when the clusters were created\n",
    "dist_obs_1_cent_1 <- dtw_basic(train_samples_ts[[1]], train_samples_ts_orig[[centroid_1]])\n",
    "dist_obs_1_cent_2 <- dtw_basic(train_samples_ts[[1]], train_samples_ts_orig[[centroid_2]])\n",
    "\n",
    "dist_obs_2_cent_1 <- dtw_basic(train_samples_ts[[2]], train_samples_ts_orig[[centroid_1]])\n",
    "dist_obs_2_cent_2 <- dtw_basic(train_samples_ts[[2]], train_samples_ts_orig[[centroid_2]])\n",
    "\n",
    "dist_obs_3_cent_1 <- dtw_basic(train_samples_ts[[3]], train_samples_ts_orig[[centroid_1]])\n",
    "dist_obs_3_cent_2 <- dtw_basic(train_samples_ts[[3]], train_samples_ts_orig[[centroid_2]])\n",
    "\n",
    "dist_obs_4_cent_1 <- dtw_basic(train_samples_ts[[4]], train_samples_ts_orig[[centroid_1]])\n",
    "dist_obs_4_cent_2 <- dtw_basic(train_samples_ts[[4]], train_samples_ts_orig[[centroid_2]])"
   ]
  },
  {
   "cell_type": "markdown",
   "id": "ae314f6a",
   "metadata": {},
   "source": [
    "### Observation 1"
   ]
  },
  {
   "cell_type": "code",
   "execution_count": 67,
   "id": "26d7f0f6",
   "metadata": {},
   "outputs": [
    {
     "data": {
      "text/html": [
       "737821.5"
      ],
      "text/latex": [
       "737821.5"
      ],
      "text/markdown": [
       "737821.5"
      ],
      "text/plain": [
       "[1] 737821.5"
      ]
     },
     "metadata": {},
     "output_type": "display_data"
    }
   ],
   "source": [
    "# Print the distance of each observation to each cluster centroid\n",
    "dist_obs_1_cent_1"
   ]
  },
  {
   "cell_type": "code",
   "execution_count": 68,
   "id": "e85ff033",
   "metadata": {},
   "outputs": [
    {
     "data": {
      "text/html": [
       "221668"
      ],
      "text/latex": [
       "221668"
      ],
      "text/markdown": [
       "221668"
      ],
      "text/plain": [
       "[1] 221668"
      ]
     },
     "metadata": {},
     "output_type": "display_data"
    }
   ],
   "source": [
    "dist_obs_1_cent_2"
   ]
  },
  {
   "cell_type": "code",
   "execution_count": 69,
   "id": "791feb04",
   "metadata": {},
   "outputs": [
    {
     "data": {
      "text/html": [
       "221668"
      ],
      "text/latex": [
       "221668"
      ],
      "text/markdown": [
       "221668"
      ],
      "text/plain": [
       "[1] 221668"
      ]
     },
     "metadata": {},
     "output_type": "display_data"
    }
   ],
   "source": [
    "min(dist_obs_1_cent_1, dist_obs_1_cent_2)"
   ]
  },
  {
   "cell_type": "markdown",
   "id": "abfeec07",
   "metadata": {},
   "source": [
    "### Observation 2"
   ]
  },
  {
   "cell_type": "code",
   "execution_count": 70,
   "id": "fcc50cfb",
   "metadata": {},
   "outputs": [
    {
     "data": {
      "text/html": [
       "1316142"
      ],
      "text/latex": [
       "1316142"
      ],
      "text/markdown": [
       "1316142"
      ],
      "text/plain": [
       "[1] 1316142"
      ]
     },
     "metadata": {},
     "output_type": "display_data"
    }
   ],
   "source": [
    "dist_obs_2_cent_1"
   ]
  },
  {
   "cell_type": "code",
   "execution_count": 71,
   "id": "4ed97f00",
   "metadata": {},
   "outputs": [
    {
     "data": {
      "text/html": [
       "107036"
      ],
      "text/latex": [
       "107036"
      ],
      "text/markdown": [
       "107036"
      ],
      "text/plain": [
       "[1] 107036"
      ]
     },
     "metadata": {},
     "output_type": "display_data"
    }
   ],
   "source": [
    "dist_obs_2_cent_2"
   ]
  },
  {
   "cell_type": "code",
   "execution_count": 72,
   "id": "31ec3c63",
   "metadata": {},
   "outputs": [
    {
     "data": {
      "text/html": [
       "107036"
      ],
      "text/latex": [
       "107036"
      ],
      "text/markdown": [
       "107036"
      ],
      "text/plain": [
       "[1] 107036"
      ]
     },
     "metadata": {},
     "output_type": "display_data"
    }
   ],
   "source": [
    "min(dist_obs_2_cent_1, dist_obs_2_cent_2)"
   ]
  },
  {
   "cell_type": "markdown",
   "id": "a081e1a4",
   "metadata": {},
   "source": [
    "### Observation 3"
   ]
  },
  {
   "cell_type": "code",
   "execution_count": 73,
   "id": "5f11145d",
   "metadata": {},
   "outputs": [
    {
     "data": {
      "text/html": [
       "338345"
      ],
      "text/latex": [
       "338345"
      ],
      "text/markdown": [
       "338345"
      ],
      "text/plain": [
       "[1] 338345"
      ]
     },
     "metadata": {},
     "output_type": "display_data"
    }
   ],
   "source": [
    "dist_obs_3_cent_1"
   ]
  },
  {
   "cell_type": "code",
   "execution_count": 74,
   "id": "d7921c1e",
   "metadata": {},
   "outputs": [
    {
     "data": {
      "text/html": [
       "907726"
      ],
      "text/latex": [
       "907726"
      ],
      "text/markdown": [
       "907726"
      ],
      "text/plain": [
       "[1] 907726"
      ]
     },
     "metadata": {},
     "output_type": "display_data"
    }
   ],
   "source": [
    "dist_obs_3_cent_2"
   ]
  },
  {
   "cell_type": "code",
   "execution_count": 75,
   "id": "deb6aa7f",
   "metadata": {},
   "outputs": [
    {
     "data": {
      "text/html": [
       "338345"
      ],
      "text/latex": [
       "338345"
      ],
      "text/markdown": [
       "338345"
      ],
      "text/plain": [
       "[1] 338345"
      ]
     },
     "metadata": {},
     "output_type": "display_data"
    }
   ],
   "source": [
    "min(dist_obs_3_cent_1, dist_obs_3_cent_2)"
   ]
  },
  {
   "cell_type": "markdown",
   "id": "103858a1",
   "metadata": {},
   "source": [
    "### Observation 4"
   ]
  },
  {
   "cell_type": "code",
   "execution_count": 76,
   "id": "211c5e03",
   "metadata": {},
   "outputs": [
    {
     "data": {
      "text/html": [
       "933389"
      ],
      "text/latex": [
       "933389"
      ],
      "text/markdown": [
       "933389"
      ],
      "text/plain": [
       "[1] 933389"
      ]
     },
     "metadata": {},
     "output_type": "display_data"
    }
   ],
   "source": [
    "dist_obs_4_cent_1"
   ]
  },
  {
   "cell_type": "code",
   "execution_count": 77,
   "id": "2ba4afde",
   "metadata": {},
   "outputs": [
    {
     "data": {
      "text/html": [
       "3124312"
      ],
      "text/latex": [
       "3124312"
      ],
      "text/markdown": [
       "3124312"
      ],
      "text/plain": [
       "[1] 3124312"
      ]
     },
     "metadata": {},
     "output_type": "display_data"
    }
   ],
   "source": [
    "dist_obs_4_cent_2"
   ]
  },
  {
   "cell_type": "code",
   "execution_count": 78,
   "id": "f3a080ed",
   "metadata": {},
   "outputs": [
    {
     "data": {
      "text/html": [
       "933389"
      ],
      "text/latex": [
       "933389"
      ],
      "text/markdown": [
       "933389"
      ],
      "text/plain": [
       "[1] 933389"
      ]
     },
     "metadata": {},
     "output_type": "display_data"
    }
   ],
   "source": [
    "min(dist_obs_4_cent_1, dist_obs_4_cent_2)"
   ]
  },
  {
   "cell_type": "code",
   "execution_count": 79,
   "id": "639a061a",
   "metadata": {},
   "outputs": [],
   "source": [
    "# Based on the printed results, create a list of cluster assignments (whichever centroid was closer)\n",
    "dtw_clust_assign <- c(2, 2, 1, 1)"
   ]
  },
  {
   "cell_type": "markdown",
   "id": "14a588ab",
   "metadata": {},
   "source": [
    "# Save Results"
   ]
  },
  {
   "cell_type": "code",
   "execution_count": 80,
   "id": "01ea312d",
   "metadata": {},
   "outputs": [],
   "source": [
    "# Create a data frame of cluster assignments for each clustering method\n",
    "new_clust_assign_df <- data.frame(rand=rand_clust_assign,\n",
    "                                  catch22=catch22_clust_assign,\n",
    "                                  tsfeat=tsfeat_clust_assign,\n",
    "                                  dtw=dtw_clust_assign)"
   ]
  },
  {
   "cell_type": "code",
   "execution_count": 81,
   "id": "00e81281",
   "metadata": {},
   "outputs": [],
   "source": [
    "# Save the data frame to a csv file\n",
    "write.csv(new_clust_assign_df, \"Results/Unseen Sensor/clust_assign.csv\")"
   ]
  },
  {
   "cell_type": "code",
   "execution_count": null,
   "id": "be640589",
   "metadata": {},
   "outputs": [],
   "source": []
  }
 ],
 "metadata": {
  "kernelspec": {
   "display_name": "R",
   "language": "R",
   "name": "ir"
  },
  "language_info": {
   "codemirror_mode": "r",
   "file_extension": ".r",
   "mimetype": "text/x-r-source",
   "name": "R",
   "pygments_lexer": "r",
   "version": "4.1.3"
  }
 },
 "nbformat": 4,
 "nbformat_minor": 5
}
