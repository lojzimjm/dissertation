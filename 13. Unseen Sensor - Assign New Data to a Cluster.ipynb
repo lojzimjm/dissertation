{
 "cells": [
  {
   "cell_type": "code",
   "execution_count": 1,
   "id": "cddd582a",
   "metadata": {},
   "outputs": [],
   "source": [
    "rm(list=ls())"
   ]
  },
  {
   "cell_type": "code",
   "execution_count": 2,
   "id": "32cb3e4c",
   "metadata": {},
   "outputs": [
    {
     "name": "stderr",
     "output_type": "stream",
     "text": [
      "Warning message:\n",
      "“‘timedatectl’ indicates the non-existent timezone name ‘n/a’”\n",
      "Warning message:\n",
      "“Your system is mis-configured: ‘/etc/localtime’ is not a symlink”\n",
      "Warning message:\n",
      "“It is strongly recommended to set envionment variable TZ to ‘Etc/UCT’ (or equivalent)”\n",
      "── \u001b[1mAttaching packages\u001b[22m ─────────────────────────────────────── tidyverse 1.3.1 ──\n",
      "\n",
      "\u001b[32m✔\u001b[39m \u001b[34mggplot2\u001b[39m 3.3.5     \u001b[32m✔\u001b[39m \u001b[34mpurrr  \u001b[39m 0.3.4\n",
      "\u001b[32m✔\u001b[39m \u001b[34mtibble \u001b[39m 3.1.6     \u001b[32m✔\u001b[39m \u001b[34mdplyr  \u001b[39m 1.0.8\n",
      "\u001b[32m✔\u001b[39m \u001b[34mtidyr  \u001b[39m 1.2.0     \u001b[32m✔\u001b[39m \u001b[34mstringr\u001b[39m 1.4.0\n",
      "\u001b[32m✔\u001b[39m \u001b[34mreadr  \u001b[39m 2.1.2     \u001b[32m✔\u001b[39m \u001b[34mforcats\u001b[39m 0.5.1\n",
      "\n",
      "── \u001b[1mConflicts\u001b[22m ────────────────────────────────────────── tidyverse_conflicts() ──\n",
      "\u001b[31m✖\u001b[39m \u001b[34mdplyr\u001b[39m::\u001b[32mfilter()\u001b[39m masks \u001b[34mstats\u001b[39m::filter()\n",
      "\u001b[31m✖\u001b[39m \u001b[34mdplyr\u001b[39m::\u001b[32mlag()\u001b[39m    masks \u001b[34mstats\u001b[39m::lag()\n",
      "\n",
      "Registered S3 method overwritten by 'quantmod':\n",
      "  method            from\n",
      "  as.zoo.data.frame zoo \n",
      "\n",
      "Welcome! Want to learn more? See two factoextra-related books at https://goo.gl/ve3WBa\n",
      "\n",
      "Loading required package: proxy\n",
      "\n",
      "\n",
      "Attaching package: ‘proxy’\n",
      "\n",
      "\n",
      "The following objects are masked from ‘package:stats’:\n",
      "\n",
      "    as.dist, dist\n",
      "\n",
      "\n",
      "The following object is masked from ‘package:base’:\n",
      "\n",
      "    as.matrix\n",
      "\n",
      "\n",
      "Loading required package: dtw\n",
      "\n",
      "Loaded dtw v1.22-3. See ?dtw for help, citation(\"dtw\") for use in publication.\n",
      "\n",
      "\n",
      "dtwclust:\n",
      "Setting random number generator to L'Ecuyer-CMRG (see RNGkind()).\n",
      "To read the included vignettes type: browseVignettes(\"dtwclust\").\n",
      "See news(package = \"dtwclust\") after package updates.\n",
      "\n"
     ]
    }
   ],
   "source": [
    "# install.packages(\"tidyverse\") # sagemaker has\n",
    "library(tidyverse)\n",
    "\n",
    "# install.packages(\"cluster\") # sagemaker has\n",
    "library(cluster)\n",
    "\n",
    "# install.packages(\"tsfeatures\") # sagemaker doesn't have\n",
    "library(tsfeatures)\n",
    "\n",
    "# install.packages(\"Rcatch22\") # sagemaker doesn't have\n",
    "library(Rcatch22)\n",
    "\n",
    "# install.packages(\"tseries\") # sagemaker doesn't have\n",
    "library(tseries)\n",
    "\n",
    "# install.packages(\"factoextra\") # sagemaker doesn't have\n",
    "library(factoextra)\n",
    "\n",
    "# install.packages(\"forecast\") # sagemaker doesn't have\n",
    "library(forecast)\n",
    "\n",
    "# install.packages(\"dtwclust\") # sagemaker doesn't have\n",
    "library(dtwclust)"
   ]
  },
  {
   "cell_type": "markdown",
   "id": "0c00132b",
   "metadata": {},
   "source": [
    "# Read In Data"
   ]
  },
  {
   "cell_type": "code",
   "execution_count": 3,
   "id": "afda93d9",
   "metadata": {},
   "outputs": [
    {
     "name": "stderr",
     "output_type": "stream",
     "text": [
      "\u001b[1mRows: \u001b[22m\u001b[34m35040\u001b[39m \u001b[1mColumns: \u001b[22m\u001b[34m10\u001b[39m\n",
      "\u001b[36m──\u001b[39m \u001b[1mColumn specification\u001b[22m \u001b[36m────────────────────────────────────────────────────────\u001b[39m\n",
      "\u001b[1mDelimiter:\u001b[22m \",\"\n",
      "\u001b[31mchr\u001b[39m  (1): site_name\n",
      "\u001b[32mdbl\u001b[39m  (5): day_of_week, day_of_year, interval_of_day, avg_mph, total_volume\n",
      "\u001b[33mlgl\u001b[39m  (2): missing_speed, missing_volume\n",
      "\u001b[34mdttm\u001b[39m (1): timestamp\n",
      "\u001b[34mdate\u001b[39m (1): date\n",
      "\n",
      "\u001b[36mℹ\u001b[39m Use `spec()` to retrieve the full column specification for this data.\n",
      "\u001b[36mℹ\u001b[39m Specify the column types or set `show_col_types = FALSE` to quiet this message.\n",
      "\u001b[1mRows: \u001b[22m\u001b[34m35040\u001b[39m \u001b[1mColumns: \u001b[22m\u001b[34m10\u001b[39m\n",
      "\u001b[36m──\u001b[39m \u001b[1mColumn specification\u001b[22m \u001b[36m────────────────────────────────────────────────────────\u001b[39m\n",
      "\u001b[1mDelimiter:\u001b[22m \",\"\n",
      "\u001b[31mchr\u001b[39m  (1): site_name\n",
      "\u001b[32mdbl\u001b[39m  (5): day_of_week, day_of_year, interval_of_day, avg_mph, total_volume\n",
      "\u001b[33mlgl\u001b[39m  (2): missing_speed, missing_volume\n",
      "\u001b[34mdttm\u001b[39m (1): timestamp\n",
      "\u001b[34mdate\u001b[39m (1): date\n",
      "\n",
      "\u001b[36mℹ\u001b[39m Use `spec()` to retrieve the full column specification for this data.\n",
      "\u001b[36mℹ\u001b[39m Specify the column types or set `show_col_types = FALSE` to quiet this message.\n",
      "\u001b[1mRows: \u001b[22m\u001b[34m35040\u001b[39m \u001b[1mColumns: \u001b[22m\u001b[34m10\u001b[39m\n",
      "\u001b[36m──\u001b[39m \u001b[1mColumn specification\u001b[22m \u001b[36m────────────────────────────────────────────────────────\u001b[39m\n",
      "\u001b[1mDelimiter:\u001b[22m \",\"\n",
      "\u001b[31mchr\u001b[39m  (1): site_name\n",
      "\u001b[32mdbl\u001b[39m  (5): day_of_week, day_of_year, interval_of_day, avg_mph, total_volume\n",
      "\u001b[33mlgl\u001b[39m  (2): missing_speed, missing_volume\n",
      "\u001b[34mdttm\u001b[39m (1): timestamp\n",
      "\u001b[34mdate\u001b[39m (1): date\n",
      "\n",
      "\u001b[36mℹ\u001b[39m Use `spec()` to retrieve the full column specification for this data.\n",
      "\u001b[36mℹ\u001b[39m Specify the column types or set `show_col_types = FALSE` to quiet this message.\n",
      "\u001b[1mRows: \u001b[22m\u001b[34m35040\u001b[39m \u001b[1mColumns: \u001b[22m\u001b[34m10\u001b[39m\n",
      "\u001b[36m──\u001b[39m \u001b[1mColumn specification\u001b[22m \u001b[36m────────────────────────────────────────────────────────\u001b[39m\n",
      "\u001b[1mDelimiter:\u001b[22m \",\"\n",
      "\u001b[31mchr\u001b[39m  (1): site_name\n",
      "\u001b[32mdbl\u001b[39m  (5): day_of_week, day_of_year, interval_of_day, avg_mph, total_volume\n",
      "\u001b[33mlgl\u001b[39m  (2): missing_speed, missing_volume\n",
      "\u001b[34mdttm\u001b[39m (1): timestamp\n",
      "\u001b[34mdate\u001b[39m (1): date\n",
      "\n",
      "\u001b[36mℹ\u001b[39m Use `spec()` to retrieve the full column specification for this data.\n",
      "\u001b[36mℹ\u001b[39m Specify the column types or set `show_col_types = FALSE` to quiet this message.\n"
     ]
    }
   ],
   "source": [
    "fnames <- list.files(\"Data/Unseen Sensor/Processed/\", pattern=\"*.csv\", full.names=TRUE)\n",
    "total_df_list <- lapply(fnames, read_csv)"
   ]
  },
  {
   "cell_type": "code",
   "execution_count": 4,
   "id": "aab5779a",
   "metadata": {},
   "outputs": [
    {
     "data": {
      "text/html": [
       "4"
      ],
      "text/latex": [
       "4"
      ],
      "text/markdown": [
       "4"
      ],
      "text/plain": [
       "[1] 4"
      ]
     },
     "metadata": {},
     "output_type": "display_data"
    }
   ],
   "source": [
    "# Sanity check the lengths of each list\n",
    "length(total_df_list)"
   ]
  },
  {
   "cell_type": "code",
   "execution_count": 5,
   "id": "0576f83d",
   "metadata": {},
   "outputs": [],
   "source": [
    "total_df_list <- lapply(total_df_list, function(x) x %>% arrange(timestamp))    "
   ]
  },
  {
   "cell_type": "code",
   "execution_count": 6,
   "id": "722ec8cc",
   "metadata": {},
   "outputs": [],
   "source": [
    "# Randomly create a list of starting points from which we we sample each data frame\n",
    "\n",
    "# Set the seed\n",
    "set.seed(12345)\n",
    "\n",
    "# Sample without replacement as to ensure the starting time for each time series is different\n",
    "starting_points <- sample(1:((96*365)-(96*12*7)), \n",
    "                          length(total_df_list), \n",
    "                          replace=FALSE)\n",
    "\n",
    "# Create the ending points by adding on 12 weeks to the starting points\n",
    "ending_points <- starting_points + (96*7*12) - 1"
   ]
  },
  {
   "cell_type": "code",
   "execution_count": 7,
   "id": "33ef2797",
   "metadata": {},
   "outputs": [],
   "source": [
    "# For each df in our list, create a row number column called 'rn' - this will allow us to find the starting point\n",
    "# for each sample using the above starting_points array\n",
    "total_df_list <- lapply(total_df_list, function(x) x %>% mutate(rn = row_number()))"
   ]
  },
  {
   "cell_type": "code",
   "execution_count": 8,
   "id": "62ba430d",
   "metadata": {},
   "outputs": [],
   "source": [
    "# Sample each df in the list according to its corresponding starting and ending point - this creates 12-week\n",
    "# long samples of each data frame which will be used for modeling and testing\n",
    "total_df_list_samples <- lapply(1:length(total_df_list), \n",
    "                                function(x) total_df_list[[x]] %>% \n",
    "                                    filter(rn >= starting_points[x]) %>%\n",
    "                                    filter(rn <= ending_points[x]))"
   ]
  },
  {
   "cell_type": "code",
   "execution_count": 9,
   "id": "890e3ec0",
   "metadata": {},
   "outputs": [],
   "source": [
    "# Add a new column to each data frame to denote whether each row should be part of the training set, validation set\n",
    "# or test set - the first 8 weeks are designated as train, the next 2 as val, and the final 2 as test. It may be \n",
    "# the case that train and val get used for training, depending on the modeling task\n",
    "total_df_list_samples <- lapply(total_df_list_samples, \n",
    "                                function(x) x %>% mutate(rn = row_number()) %>%\n",
    "                                    mutate(train_val_test = ifelse(rn <= (96*7*8), \n",
    "                                                                   \"train\", \n",
    "                                                                   ifelse(rn <= (96*7*10), \n",
    "                                                                          \"val\", \n",
    "                                                                          \"test\")))\n",
    "                                \n",
    "                               )"
   ]
  },
  {
   "cell_type": "code",
   "execution_count": 10,
   "id": "fdd9579e",
   "metadata": {},
   "outputs": [],
   "source": [
    "# Create a list of data frames which only have the training and validation rows of each df\n",
    "train_val_samples <- lapply(total_df_list_samples, function(x) x %>% filter(train_val_test != \"test\"))"
   ]
  },
  {
   "cell_type": "code",
   "execution_count": 11,
   "id": "4b39cffd",
   "metadata": {},
   "outputs": [],
   "source": [
    "# Create a list of data frames which only have the training rows of each df\n",
    "train_samples <- lapply(total_df_list_samples, function(x) x %>% filter(train_val_test == \"train\"))"
   ]
  },
  {
   "cell_type": "code",
   "execution_count": 12,
   "id": "2e289797",
   "metadata": {},
   "outputs": [],
   "source": [
    "# Create a list of data frames which only have the test rows of each df\n",
    "test_samples <- lapply(total_df_list_samples, function(x) x %>% filter(train_val_test == \"test\"))"
   ]
  },
  {
   "cell_type": "code",
   "execution_count": 13,
   "id": "c7978c5f",
   "metadata": {},
   "outputs": [],
   "source": [
    "# Get the target field (total_volume) from the dfs in the above lists and create msts objects instead of dfs\n",
    "train_val_samples_ts <- lapply(train_val_samples, \n",
    "                               function(x) msts(x$total_volume, seasonal.periods=c(24*4, 24*4*7)))"
   ]
  },
  {
   "cell_type": "code",
   "execution_count": 14,
   "id": "6c283bd3",
   "metadata": {},
   "outputs": [],
   "source": [
    "# Get the target field (total_volume) from the dfs in the above lists and create msts objects instead of dfs\n",
    "train_samples_ts <- lapply(train_samples, \n",
    "                           function(x) msts(x$total_volume, seasonal.periods=c(24*4, 24*4*7)))"
   ]
  },
  {
   "cell_type": "code",
   "execution_count": 15,
   "id": "c5062a3c",
   "metadata": {},
   "outputs": [],
   "source": [
    "# Get the target field (total_volume) from the dfs in the above lists and create msts objects instead of dfs\n",
    "test_samples_ts <- lapply(test_samples,\n",
    "                          function(x) msts(x$total_volume, seasonal.periods=c(24*4, 24*4*7)))"
   ]
  },
  {
   "cell_type": "markdown",
   "id": "f763a66b",
   "metadata": {},
   "source": [
    "# Random Cluster Assignments"
   ]
  },
  {
   "cell_type": "code",
   "execution_count": 16,
   "id": "68694867",
   "metadata": {},
   "outputs": [],
   "source": [
    "# Total number of time series in the data set\n",
    "total_clust <- 4"
   ]
  },
  {
   "cell_type": "code",
   "execution_count": 17,
   "id": "28105107",
   "metadata": {},
   "outputs": [],
   "source": [
    "rand_clust_assign <- c()\n",
    "for (ts_no in 1:length(train_samples_ts)){\n",
    "    set.seed(ts_no)\n",
    "    rand_clust_assign <- c(rand_clust_assign, sample(1:total_clust, 1))\n",
    "}"
   ]
  },
  {
   "cell_type": "code",
   "execution_count": 18,
   "id": "9cb3a7ce",
   "metadata": {},
   "outputs": [
    {
     "data": {
      "text/html": [
       "<style>\n",
       ".list-inline {list-style: none; margin:0; padding: 0}\n",
       ".list-inline>li {display: inline-block}\n",
       ".list-inline>li:not(:last-child)::after {content: \"\\00b7\"; padding: 0 .5ex}\n",
       "</style>\n",
       "<ol class=list-inline><li>3</li><li>2</li><li>1</li><li>4</li></ol>\n"
      ],
      "text/latex": [
       "\\begin{enumerate*}\n",
       "\\item 3\n",
       "\\item 2\n",
       "\\item 1\n",
       "\\item 4\n",
       "\\end{enumerate*}\n"
      ],
      "text/markdown": [
       "1. 3\n",
       "2. 2\n",
       "3. 1\n",
       "4. 4\n",
       "\n",
       "\n"
      ],
      "text/plain": [
       "[1] 3 2 1 4"
      ]
     },
     "metadata": {},
     "output_type": "display_data"
    }
   ],
   "source": [
    "rand_clust_assign"
   ]
  },
  {
   "cell_type": "markdown",
   "id": "223ca62f",
   "metadata": {},
   "source": [
    "# Catch22 Based Feature Computation"
   ]
  },
  {
   "cell_type": "code",
   "execution_count": 19,
   "id": "e98f55ea",
   "metadata": {},
   "outputs": [
    {
     "name": "stderr",
     "output_type": "stream",
     "text": [
      "Warning message:\n",
      "“As of 0.1.14 the feature 'CO_f1ecac' returns a double instead of int\n",
      "\u001b[90mThis warning is displayed once per session.\u001b[39m”\n"
     ]
    }
   ],
   "source": [
    "# For each train time series in our list, compute the Catch22 features using the catch22_all function \n",
    "# and save the results in a df\n",
    "train_catch22_feat <- lapply(lapply(train_samples_ts, function(x) catch22_all(x)), \n",
    "                             function(x) x %>% \n",
    "                                 pivot_wider(names_from=names, values_from=values))"
   ]
  },
  {
   "cell_type": "code",
   "execution_count": 20,
   "id": "de6a44a9",
   "metadata": {},
   "outputs": [
    {
     "data": {
      "text/html": [
       "<table class=\"dataframe\">\n",
       "<caption>A tibble: 4 × 20</caption>\n",
       "<thead>\n",
       "\t<tr><th scope=col>DN_HistogramMode_5</th><th scope=col>DN_HistogramMode_10</th><th scope=col>CO_f1ecac</th><th scope=col>CO_HistogramAMI_even_2_5</th><th scope=col>CO_trev_1_num</th><th scope=col>MD_hrv_classic_pnn40</th><th scope=col>SB_BinaryStats_mean_longstretch1</th><th scope=col>SB_TransitionMatrix_3ac_sumdiagcov</th><th scope=col>CO_Embed2_Dist_tau_d_expfit_meandiff</th><th scope=col>IN_AutoMutualInfoStats_40_gaussian_fmmi</th><th scope=col>FC_LocalSimple_mean1_tauresrat</th><th scope=col>DN_OutlierInclude_p_001_mdrmd</th><th scope=col>DN_OutlierInclude_n_001_mdrmd</th><th scope=col>SP_Summaries_welch_rect_area_5_1</th><th scope=col>SB_BinaryStats_diff_longstretch0</th><th scope=col>SB_MotifThree_quantile_hh</th><th scope=col>SC_FluctAnal_2_rsrangefit_50_1_logi_prop_r1</th><th scope=col>SC_FluctAnal_2_dfa_50_1_2_logi_prop_r1</th><th scope=col>SP_Summaries_welch_rect_centroid</th><th scope=col>FC_LocalSimple_mean3_stderr</th></tr>\n",
       "\t<tr><th scope=col>&lt;dbl&gt;</th><th scope=col>&lt;dbl&gt;</th><th scope=col>&lt;dbl&gt;</th><th scope=col>&lt;dbl&gt;</th><th scope=col>&lt;dbl&gt;</th><th scope=col>&lt;dbl&gt;</th><th scope=col>&lt;dbl&gt;</th><th scope=col>&lt;dbl&gt;</th><th scope=col>&lt;dbl&gt;</th><th scope=col>&lt;dbl&gt;</th><th scope=col>&lt;dbl&gt;</th><th scope=col>&lt;dbl&gt;</th><th scope=col>&lt;dbl&gt;</th><th scope=col>&lt;dbl&gt;</th><th scope=col>&lt;dbl&gt;</th><th scope=col>&lt;dbl&gt;</th><th scope=col>&lt;dbl&gt;</th><th scope=col>&lt;dbl&gt;</th><th scope=col>&lt;dbl&gt;</th><th scope=col>&lt;dbl&gt;</th></tr>\n",
       "</thead>\n",
       "<tbody>\n",
       "\t<tr><td>-0.7727140</td><td>-1.036745</td><td>15.83320</td><td>0.6770578</td><td>0.002529417</td><td>0.7529302</td><td>56</td><td>0.010604141</td><td>0.4183068</td><td>23</td><td>0.04166667</td><td> 0.02139137</td><td>-0.0167410714</td><td>0.9845822</td><td>16</td><td>1.489225</td><td>0.4285714</td><td>0.3469388</td><td>0.06519418</td><td>0.2659134</td></tr>\n",
       "\t<tr><td>-0.9985984</td><td>-1.195337</td><td>18.41606</td><td>0.7576623</td><td>0.010028003</td><td>0.7962791</td><td>59</td><td>0.006165495</td><td>0.3933663</td><td>23</td><td>0.04000000</td><td> 0.07831101</td><td>-0.0018601190</td><td>0.9662259</td><td>14</td><td>1.573515</td><td>0.4285714</td><td>0.3469388</td><td>0.06519418</td><td>0.2833783</td></tr>\n",
       "\t<tr><td>-1.2165974</td><td>-1.413858</td><td>13.28107</td><td>0.7864801</td><td>0.007527869</td><td>0.7672558</td><td>61</td><td>0.006949684</td><td>0.5943701</td><td>18</td><td>0.52631579</td><td> 0.07477679</td><td> 0.0005580357</td><td>0.9804185</td><td>15</td><td>1.442368</td><td>0.4081633</td><td>0.3265306</td><td>0.06596117</td><td>0.3063198</td></tr>\n",
       "\t<tr><td>-1.1381137</td><td>-1.313092</td><td>16.05872</td><td>0.8409939</td><td>0.006194725</td><td>0.6798140</td><td>57</td><td>0.021630571</td><td>0.6649224</td><td>22</td><td>0.41666667</td><td>-0.01199777</td><td> 0.0013020833</td><td>0.9862330</td><td>22</td><td>1.438768</td><td>0.4285714</td><td>0.3469388</td><td>0.06519418</td><td>0.2573900</td></tr>\n",
       "</tbody>\n",
       "</table>\n"
      ],
      "text/latex": [
       "A tibble: 4 × 20\n",
       "\\begin{tabular}{llllllllllllllllllll}\n",
       " DN\\_HistogramMode\\_5 & DN\\_HistogramMode\\_10 & CO\\_f1ecac & CO\\_HistogramAMI\\_even\\_2\\_5 & CO\\_trev\\_1\\_num & MD\\_hrv\\_classic\\_pnn40 & SB\\_BinaryStats\\_mean\\_longstretch1 & SB\\_TransitionMatrix\\_3ac\\_sumdiagcov & CO\\_Embed2\\_Dist\\_tau\\_d\\_expfit\\_meandiff & IN\\_AutoMutualInfoStats\\_40\\_gaussian\\_fmmi & FC\\_LocalSimple\\_mean1\\_tauresrat & DN\\_OutlierInclude\\_p\\_001\\_mdrmd & DN\\_OutlierInclude\\_n\\_001\\_mdrmd & SP\\_Summaries\\_welch\\_rect\\_area\\_5\\_1 & SB\\_BinaryStats\\_diff\\_longstretch0 & SB\\_MotifThree\\_quantile\\_hh & SC\\_FluctAnal\\_2\\_rsrangefit\\_50\\_1\\_logi\\_prop\\_r1 & SC\\_FluctAnal\\_2\\_dfa\\_50\\_1\\_2\\_logi\\_prop\\_r1 & SP\\_Summaries\\_welch\\_rect\\_centroid & FC\\_LocalSimple\\_mean3\\_stderr\\\\\n",
       " <dbl> & <dbl> & <dbl> & <dbl> & <dbl> & <dbl> & <dbl> & <dbl> & <dbl> & <dbl> & <dbl> & <dbl> & <dbl> & <dbl> & <dbl> & <dbl> & <dbl> & <dbl> & <dbl> & <dbl>\\\\\n",
       "\\hline\n",
       "\t -0.7727140 & -1.036745 & 15.83320 & 0.6770578 & 0.002529417 & 0.7529302 & 56 & 0.010604141 & 0.4183068 & 23 & 0.04166667 &  0.02139137 & -0.0167410714 & 0.9845822 & 16 & 1.489225 & 0.4285714 & 0.3469388 & 0.06519418 & 0.2659134\\\\\n",
       "\t -0.9985984 & -1.195337 & 18.41606 & 0.7576623 & 0.010028003 & 0.7962791 & 59 & 0.006165495 & 0.3933663 & 23 & 0.04000000 &  0.07831101 & -0.0018601190 & 0.9662259 & 14 & 1.573515 & 0.4285714 & 0.3469388 & 0.06519418 & 0.2833783\\\\\n",
       "\t -1.2165974 & -1.413858 & 13.28107 & 0.7864801 & 0.007527869 & 0.7672558 & 61 & 0.006949684 & 0.5943701 & 18 & 0.52631579 &  0.07477679 &  0.0005580357 & 0.9804185 & 15 & 1.442368 & 0.4081633 & 0.3265306 & 0.06596117 & 0.3063198\\\\\n",
       "\t -1.1381137 & -1.313092 & 16.05872 & 0.8409939 & 0.006194725 & 0.6798140 & 57 & 0.021630571 & 0.6649224 & 22 & 0.41666667 & -0.01199777 &  0.0013020833 & 0.9862330 & 22 & 1.438768 & 0.4285714 & 0.3469388 & 0.06519418 & 0.2573900\\\\\n",
       "\\end{tabular}\n"
      ],
      "text/markdown": [
       "\n",
       "A tibble: 4 × 20\n",
       "\n",
       "| DN_HistogramMode_5 &lt;dbl&gt; | DN_HistogramMode_10 &lt;dbl&gt; | CO_f1ecac &lt;dbl&gt; | CO_HistogramAMI_even_2_5 &lt;dbl&gt; | CO_trev_1_num &lt;dbl&gt; | MD_hrv_classic_pnn40 &lt;dbl&gt; | SB_BinaryStats_mean_longstretch1 &lt;dbl&gt; | SB_TransitionMatrix_3ac_sumdiagcov &lt;dbl&gt; | CO_Embed2_Dist_tau_d_expfit_meandiff &lt;dbl&gt; | IN_AutoMutualInfoStats_40_gaussian_fmmi &lt;dbl&gt; | FC_LocalSimple_mean1_tauresrat &lt;dbl&gt; | DN_OutlierInclude_p_001_mdrmd &lt;dbl&gt; | DN_OutlierInclude_n_001_mdrmd &lt;dbl&gt; | SP_Summaries_welch_rect_area_5_1 &lt;dbl&gt; | SB_BinaryStats_diff_longstretch0 &lt;dbl&gt; | SB_MotifThree_quantile_hh &lt;dbl&gt; | SC_FluctAnal_2_rsrangefit_50_1_logi_prop_r1 &lt;dbl&gt; | SC_FluctAnal_2_dfa_50_1_2_logi_prop_r1 &lt;dbl&gt; | SP_Summaries_welch_rect_centroid &lt;dbl&gt; | FC_LocalSimple_mean3_stderr &lt;dbl&gt; |\n",
       "|---|---|---|---|---|---|---|---|---|---|---|---|---|---|---|---|---|---|---|---|\n",
       "| -0.7727140 | -1.036745 | 15.83320 | 0.6770578 | 0.002529417 | 0.7529302 | 56 | 0.010604141 | 0.4183068 | 23 | 0.04166667 |  0.02139137 | -0.0167410714 | 0.9845822 | 16 | 1.489225 | 0.4285714 | 0.3469388 | 0.06519418 | 0.2659134 |\n",
       "| -0.9985984 | -1.195337 | 18.41606 | 0.7576623 | 0.010028003 | 0.7962791 | 59 | 0.006165495 | 0.3933663 | 23 | 0.04000000 |  0.07831101 | -0.0018601190 | 0.9662259 | 14 | 1.573515 | 0.4285714 | 0.3469388 | 0.06519418 | 0.2833783 |\n",
       "| -1.2165974 | -1.413858 | 13.28107 | 0.7864801 | 0.007527869 | 0.7672558 | 61 | 0.006949684 | 0.5943701 | 18 | 0.52631579 |  0.07477679 |  0.0005580357 | 0.9804185 | 15 | 1.442368 | 0.4081633 | 0.3265306 | 0.06596117 | 0.3063198 |\n",
       "| -1.1381137 | -1.313092 | 16.05872 | 0.8409939 | 0.006194725 | 0.6798140 | 57 | 0.021630571 | 0.6649224 | 22 | 0.41666667 | -0.01199777 |  0.0013020833 | 0.9862330 | 22 | 1.438768 | 0.4285714 | 0.3469388 | 0.06519418 | 0.2573900 |\n",
       "\n"
      ],
      "text/plain": [
       "  DN_HistogramMode_5 DN_HistogramMode_10 CO_f1ecac CO_HistogramAMI_even_2_5\n",
       "1 -0.7727140         -1.036745           15.83320  0.6770578               \n",
       "2 -0.9985984         -1.195337           18.41606  0.7576623               \n",
       "3 -1.2165974         -1.413858           13.28107  0.7864801               \n",
       "4 -1.1381137         -1.313092           16.05872  0.8409939               \n",
       "  CO_trev_1_num MD_hrv_classic_pnn40 SB_BinaryStats_mean_longstretch1\n",
       "1 0.002529417   0.7529302            56                              \n",
       "2 0.010028003   0.7962791            59                              \n",
       "3 0.007527869   0.7672558            61                              \n",
       "4 0.006194725   0.6798140            57                              \n",
       "  SB_TransitionMatrix_3ac_sumdiagcov CO_Embed2_Dist_tau_d_expfit_meandiff\n",
       "1 0.010604141                        0.4183068                           \n",
       "2 0.006165495                        0.3933663                           \n",
       "3 0.006949684                        0.5943701                           \n",
       "4 0.021630571                        0.6649224                           \n",
       "  IN_AutoMutualInfoStats_40_gaussian_fmmi FC_LocalSimple_mean1_tauresrat\n",
       "1 23                                      0.04166667                    \n",
       "2 23                                      0.04000000                    \n",
       "3 18                                      0.52631579                    \n",
       "4 22                                      0.41666667                    \n",
       "  DN_OutlierInclude_p_001_mdrmd DN_OutlierInclude_n_001_mdrmd\n",
       "1  0.02139137                   -0.0167410714                \n",
       "2  0.07831101                   -0.0018601190                \n",
       "3  0.07477679                    0.0005580357                \n",
       "4 -0.01199777                    0.0013020833                \n",
       "  SP_Summaries_welch_rect_area_5_1 SB_BinaryStats_diff_longstretch0\n",
       "1 0.9845822                        16                              \n",
       "2 0.9662259                        14                              \n",
       "3 0.9804185                        15                              \n",
       "4 0.9862330                        22                              \n",
       "  SB_MotifThree_quantile_hh SC_FluctAnal_2_rsrangefit_50_1_logi_prop_r1\n",
       "1 1.489225                  0.4285714                                  \n",
       "2 1.573515                  0.4285714                                  \n",
       "3 1.442368                  0.4081633                                  \n",
       "4 1.438768                  0.4285714                                  \n",
       "  SC_FluctAnal_2_dfa_50_1_2_logi_prop_r1 SP_Summaries_welch_rect_centroid\n",
       "1 0.3469388                              0.06519418                      \n",
       "2 0.3469388                              0.06519418                      \n",
       "3 0.3265306                              0.06596117                      \n",
       "4 0.3469388                              0.06519418                      \n",
       "  FC_LocalSimple_mean3_stderr\n",
       "1 0.2659134                  \n",
       "2 0.2833783                  \n",
       "3 0.3063198                  \n",
       "4 0.2573900                  "
      ]
     },
     "metadata": {},
     "output_type": "display_data"
    }
   ],
   "source": [
    "train_catch22_feat_df <- do.call(\"rbind\", train_catch22_feat) %>% \n",
    "    select(-c('CO_FirstMin_ac', 'PD_PeriodicityWang_th0_01'))\n",
    "train_catch22_feat_df"
   ]
  },
  {
   "cell_type": "markdown",
   "id": "284dcaed",
   "metadata": {},
   "source": [
    "## Read in Catch22 Feature Values for Original Data"
   ]
  },
  {
   "cell_type": "code",
   "execution_count": 21,
   "id": "4bc1a79e",
   "metadata": {},
   "outputs": [
    {
     "name": "stderr",
     "output_type": "stream",
     "text": [
      "\u001b[1m\u001b[22mNew names:\n",
      "\u001b[36m•\u001b[39m `` -> `...1`\n",
      "\u001b[1mRows: \u001b[22m\u001b[34m76\u001b[39m \u001b[1mColumns: \u001b[22m\u001b[34m21\u001b[39m\n",
      "\u001b[36m──\u001b[39m \u001b[1mColumn specification\u001b[22m \u001b[36m────────────────────────────────────────────────────────\u001b[39m\n",
      "\u001b[1mDelimiter:\u001b[22m \",\"\n",
      "\u001b[32mdbl\u001b[39m (21): ...1, DN_HistogramMode_5, DN_HistogramMode_10, CO_f1ecac, CO_Histo...\n",
      "\n",
      "\u001b[36mℹ\u001b[39m Use `spec()` to retrieve the full column specification for this data.\n",
      "\u001b[36mℹ\u001b[39m Specify the column types or set `show_col_types = FALSE` to quiet this message.\n"
     ]
    }
   ],
   "source": [
    "catch22_orig <- read_csv(\"Results/Clustering/KMeans/catch22_feat_df.csv\")[,-1]"
   ]
  },
  {
   "cell_type": "code",
   "execution_count": 22,
   "id": "8958fc95",
   "metadata": {},
   "outputs": [
    {
     "data": {
      "text/html": [
       "<table class=\"dataframe\">\n",
       "<caption>A tibble: 6 × 20</caption>\n",
       "<thead>\n",
       "\t<tr><th scope=col>DN_HistogramMode_5</th><th scope=col>DN_HistogramMode_10</th><th scope=col>CO_f1ecac</th><th scope=col>CO_HistogramAMI_even_2_5</th><th scope=col>CO_trev_1_num</th><th scope=col>MD_hrv_classic_pnn40</th><th scope=col>SB_BinaryStats_mean_longstretch1</th><th scope=col>SB_TransitionMatrix_3ac_sumdiagcov</th><th scope=col>CO_Embed2_Dist_tau_d_expfit_meandiff</th><th scope=col>IN_AutoMutualInfoStats_40_gaussian_fmmi</th><th scope=col>FC_LocalSimple_mean1_tauresrat</th><th scope=col>DN_OutlierInclude_p_001_mdrmd</th><th scope=col>DN_OutlierInclude_n_001_mdrmd</th><th scope=col>SP_Summaries_welch_rect_area_5_1</th><th scope=col>SB_BinaryStats_diff_longstretch0</th><th scope=col>SB_MotifThree_quantile_hh</th><th scope=col>SC_FluctAnal_2_rsrangefit_50_1_logi_prop_r1</th><th scope=col>SC_FluctAnal_2_dfa_50_1_2_logi_prop_r1</th><th scope=col>SP_Summaries_welch_rect_centroid</th><th scope=col>FC_LocalSimple_mean3_stderr</th></tr>\n",
       "\t<tr><th scope=col>&lt;dbl&gt;</th><th scope=col>&lt;dbl&gt;</th><th scope=col>&lt;dbl&gt;</th><th scope=col>&lt;dbl&gt;</th><th scope=col>&lt;dbl&gt;</th><th scope=col>&lt;dbl&gt;</th><th scope=col>&lt;dbl&gt;</th><th scope=col>&lt;dbl&gt;</th><th scope=col>&lt;dbl&gt;</th><th scope=col>&lt;dbl&gt;</th><th scope=col>&lt;dbl&gt;</th><th scope=col>&lt;dbl&gt;</th><th scope=col>&lt;dbl&gt;</th><th scope=col>&lt;dbl&gt;</th><th scope=col>&lt;dbl&gt;</th><th scope=col>&lt;dbl&gt;</th><th scope=col>&lt;dbl&gt;</th><th scope=col>&lt;dbl&gt;</th><th scope=col>&lt;dbl&gt;</th><th scope=col>&lt;dbl&gt;</th></tr>\n",
       "</thead>\n",
       "<tbody>\n",
       "\t<tr><td>-0.8241913</td><td>-1.074272</td><td>13.07819</td><td>0.7280227</td><td> 0.0004981483</td><td>0.7266977</td><td>56</td><td>0.005869537</td><td>0.5152812</td><td>20</td><td>0.38095238</td><td> 0.012741815</td><td>-0.022693452</td><td>0.9873130</td><td>19</td><td>1.478522</td><td>0.4081633</td><td>0.3469388</td><td>0.06596117</td><td>0.2855363</td></tr>\n",
       "\t<tr><td>-1.0418788</td><td>-1.261398</td><td>15.21823</td><td>0.7337985</td><td> 0.0041718968</td><td>0.7942326</td><td>61</td><td>0.001731474</td><td>0.4839471</td><td>22</td><td>0.04347826</td><td> 0.019717262</td><td> 0.002046131</td><td>0.9784537</td><td>13</td><td>1.504746</td><td>0.4489796</td><td>0.3265306</td><td>0.06596117</td><td>0.2974666</td></tr>\n",
       "\t<tr><td>-0.8426436</td><td>-1.071948</td><td>16.49040</td><td>0.7523444</td><td>-0.0013779902</td><td>0.7281860</td><td>59</td><td>0.016181035</td><td>0.4878535</td><td>23</td><td>0.04166667</td><td>-0.003348214</td><td>-0.018973214</td><td>0.9842704</td><td>15</td><td>1.515349</td><td>0.4081633</td><td>0.3469388</td><td>0.06519418</td><td>0.2538126</td></tr>\n",
       "\t<tr><td>-0.8638443</td><td>-1.082631</td><td>14.80505</td><td>0.7816261</td><td> 0.0027961909</td><td>0.6716279</td><td>56</td><td>0.005071623</td><td>0.4337241</td><td>21</td><td>0.43478261</td><td>-0.032180060</td><td> 0.019717262</td><td>0.9871433</td><td>20</td><td>1.431369</td><td>0.4285714</td><td>0.3469388</td><td>0.06596117</td><td>0.2678449</td></tr>\n",
       "\t<tr><td>-0.9568506</td><td>-1.136406</td><td>18.01842</td><td>0.8454878</td><td> 0.0006537947</td><td>0.6874419</td><td>54</td><td>0.002624842</td><td>0.8154355</td><td>23</td><td>0.88000000</td><td>-0.011904762</td><td> 0.007068452</td><td>0.9923321</td><td>18</td><td>1.409810</td><td>0.4285714</td><td>0.3265306</td><td>0.06519418</td><td>0.2070834</td></tr>\n",
       "\t<tr><td>-1.0182364</td><td>-1.220609</td><td>17.61995</td><td>0.8269746</td><td> 0.0042333027</td><td>0.7337674</td><td>61</td><td>0.001824410</td><td>0.3391418</td><td>23</td><td>0.04000000</td><td>-0.026041667</td><td> 0.017671131</td><td>0.9882751</td><td>23</td><td>1.439875</td><td>0.4285714</td><td>0.3469388</td><td>0.06519418</td><td>0.2261327</td></tr>\n",
       "</tbody>\n",
       "</table>\n"
      ],
      "text/latex": [
       "A tibble: 6 × 20\n",
       "\\begin{tabular}{llllllllllllllllllll}\n",
       " DN\\_HistogramMode\\_5 & DN\\_HistogramMode\\_10 & CO\\_f1ecac & CO\\_HistogramAMI\\_even\\_2\\_5 & CO\\_trev\\_1\\_num & MD\\_hrv\\_classic\\_pnn40 & SB\\_BinaryStats\\_mean\\_longstretch1 & SB\\_TransitionMatrix\\_3ac\\_sumdiagcov & CO\\_Embed2\\_Dist\\_tau\\_d\\_expfit\\_meandiff & IN\\_AutoMutualInfoStats\\_40\\_gaussian\\_fmmi & FC\\_LocalSimple\\_mean1\\_tauresrat & DN\\_OutlierInclude\\_p\\_001\\_mdrmd & DN\\_OutlierInclude\\_n\\_001\\_mdrmd & SP\\_Summaries\\_welch\\_rect\\_area\\_5\\_1 & SB\\_BinaryStats\\_diff\\_longstretch0 & SB\\_MotifThree\\_quantile\\_hh & SC\\_FluctAnal\\_2\\_rsrangefit\\_50\\_1\\_logi\\_prop\\_r1 & SC\\_FluctAnal\\_2\\_dfa\\_50\\_1\\_2\\_logi\\_prop\\_r1 & SP\\_Summaries\\_welch\\_rect\\_centroid & FC\\_LocalSimple\\_mean3\\_stderr\\\\\n",
       " <dbl> & <dbl> & <dbl> & <dbl> & <dbl> & <dbl> & <dbl> & <dbl> & <dbl> & <dbl> & <dbl> & <dbl> & <dbl> & <dbl> & <dbl> & <dbl> & <dbl> & <dbl> & <dbl> & <dbl>\\\\\n",
       "\\hline\n",
       "\t -0.8241913 & -1.074272 & 13.07819 & 0.7280227 &  0.0004981483 & 0.7266977 & 56 & 0.005869537 & 0.5152812 & 20 & 0.38095238 &  0.012741815 & -0.022693452 & 0.9873130 & 19 & 1.478522 & 0.4081633 & 0.3469388 & 0.06596117 & 0.2855363\\\\\n",
       "\t -1.0418788 & -1.261398 & 15.21823 & 0.7337985 &  0.0041718968 & 0.7942326 & 61 & 0.001731474 & 0.4839471 & 22 & 0.04347826 &  0.019717262 &  0.002046131 & 0.9784537 & 13 & 1.504746 & 0.4489796 & 0.3265306 & 0.06596117 & 0.2974666\\\\\n",
       "\t -0.8426436 & -1.071948 & 16.49040 & 0.7523444 & -0.0013779902 & 0.7281860 & 59 & 0.016181035 & 0.4878535 & 23 & 0.04166667 & -0.003348214 & -0.018973214 & 0.9842704 & 15 & 1.515349 & 0.4081633 & 0.3469388 & 0.06519418 & 0.2538126\\\\\n",
       "\t -0.8638443 & -1.082631 & 14.80505 & 0.7816261 &  0.0027961909 & 0.6716279 & 56 & 0.005071623 & 0.4337241 & 21 & 0.43478261 & -0.032180060 &  0.019717262 & 0.9871433 & 20 & 1.431369 & 0.4285714 & 0.3469388 & 0.06596117 & 0.2678449\\\\\n",
       "\t -0.9568506 & -1.136406 & 18.01842 & 0.8454878 &  0.0006537947 & 0.6874419 & 54 & 0.002624842 & 0.8154355 & 23 & 0.88000000 & -0.011904762 &  0.007068452 & 0.9923321 & 18 & 1.409810 & 0.4285714 & 0.3265306 & 0.06519418 & 0.2070834\\\\\n",
       "\t -1.0182364 & -1.220609 & 17.61995 & 0.8269746 &  0.0042333027 & 0.7337674 & 61 & 0.001824410 & 0.3391418 & 23 & 0.04000000 & -0.026041667 &  0.017671131 & 0.9882751 & 23 & 1.439875 & 0.4285714 & 0.3469388 & 0.06519418 & 0.2261327\\\\\n",
       "\\end{tabular}\n"
      ],
      "text/markdown": [
       "\n",
       "A tibble: 6 × 20\n",
       "\n",
       "| DN_HistogramMode_5 &lt;dbl&gt; | DN_HistogramMode_10 &lt;dbl&gt; | CO_f1ecac &lt;dbl&gt; | CO_HistogramAMI_even_2_5 &lt;dbl&gt; | CO_trev_1_num &lt;dbl&gt; | MD_hrv_classic_pnn40 &lt;dbl&gt; | SB_BinaryStats_mean_longstretch1 &lt;dbl&gt; | SB_TransitionMatrix_3ac_sumdiagcov &lt;dbl&gt; | CO_Embed2_Dist_tau_d_expfit_meandiff &lt;dbl&gt; | IN_AutoMutualInfoStats_40_gaussian_fmmi &lt;dbl&gt; | FC_LocalSimple_mean1_tauresrat &lt;dbl&gt; | DN_OutlierInclude_p_001_mdrmd &lt;dbl&gt; | DN_OutlierInclude_n_001_mdrmd &lt;dbl&gt; | SP_Summaries_welch_rect_area_5_1 &lt;dbl&gt; | SB_BinaryStats_diff_longstretch0 &lt;dbl&gt; | SB_MotifThree_quantile_hh &lt;dbl&gt; | SC_FluctAnal_2_rsrangefit_50_1_logi_prop_r1 &lt;dbl&gt; | SC_FluctAnal_2_dfa_50_1_2_logi_prop_r1 &lt;dbl&gt; | SP_Summaries_welch_rect_centroid &lt;dbl&gt; | FC_LocalSimple_mean3_stderr &lt;dbl&gt; |\n",
       "|---|---|---|---|---|---|---|---|---|---|---|---|---|---|---|---|---|---|---|---|\n",
       "| -0.8241913 | -1.074272 | 13.07819 | 0.7280227 |  0.0004981483 | 0.7266977 | 56 | 0.005869537 | 0.5152812 | 20 | 0.38095238 |  0.012741815 | -0.022693452 | 0.9873130 | 19 | 1.478522 | 0.4081633 | 0.3469388 | 0.06596117 | 0.2855363 |\n",
       "| -1.0418788 | -1.261398 | 15.21823 | 0.7337985 |  0.0041718968 | 0.7942326 | 61 | 0.001731474 | 0.4839471 | 22 | 0.04347826 |  0.019717262 |  0.002046131 | 0.9784537 | 13 | 1.504746 | 0.4489796 | 0.3265306 | 0.06596117 | 0.2974666 |\n",
       "| -0.8426436 | -1.071948 | 16.49040 | 0.7523444 | -0.0013779902 | 0.7281860 | 59 | 0.016181035 | 0.4878535 | 23 | 0.04166667 | -0.003348214 | -0.018973214 | 0.9842704 | 15 | 1.515349 | 0.4081633 | 0.3469388 | 0.06519418 | 0.2538126 |\n",
       "| -0.8638443 | -1.082631 | 14.80505 | 0.7816261 |  0.0027961909 | 0.6716279 | 56 | 0.005071623 | 0.4337241 | 21 | 0.43478261 | -0.032180060 |  0.019717262 | 0.9871433 | 20 | 1.431369 | 0.4285714 | 0.3469388 | 0.06596117 | 0.2678449 |\n",
       "| -0.9568506 | -1.136406 | 18.01842 | 0.8454878 |  0.0006537947 | 0.6874419 | 54 | 0.002624842 | 0.8154355 | 23 | 0.88000000 | -0.011904762 |  0.007068452 | 0.9923321 | 18 | 1.409810 | 0.4285714 | 0.3265306 | 0.06519418 | 0.2070834 |\n",
       "| -1.0182364 | -1.220609 | 17.61995 | 0.8269746 |  0.0042333027 | 0.7337674 | 61 | 0.001824410 | 0.3391418 | 23 | 0.04000000 | -0.026041667 |  0.017671131 | 0.9882751 | 23 | 1.439875 | 0.4285714 | 0.3469388 | 0.06519418 | 0.2261327 |\n",
       "\n"
      ],
      "text/plain": [
       "  DN_HistogramMode_5 DN_HistogramMode_10 CO_f1ecac CO_HistogramAMI_even_2_5\n",
       "1 -0.8241913         -1.074272           13.07819  0.7280227               \n",
       "2 -1.0418788         -1.261398           15.21823  0.7337985               \n",
       "3 -0.8426436         -1.071948           16.49040  0.7523444               \n",
       "4 -0.8638443         -1.082631           14.80505  0.7816261               \n",
       "5 -0.9568506         -1.136406           18.01842  0.8454878               \n",
       "6 -1.0182364         -1.220609           17.61995  0.8269746               \n",
       "  CO_trev_1_num MD_hrv_classic_pnn40 SB_BinaryStats_mean_longstretch1\n",
       "1  0.0004981483 0.7266977            56                              \n",
       "2  0.0041718968 0.7942326            61                              \n",
       "3 -0.0013779902 0.7281860            59                              \n",
       "4  0.0027961909 0.6716279            56                              \n",
       "5  0.0006537947 0.6874419            54                              \n",
       "6  0.0042333027 0.7337674            61                              \n",
       "  SB_TransitionMatrix_3ac_sumdiagcov CO_Embed2_Dist_tau_d_expfit_meandiff\n",
       "1 0.005869537                        0.5152812                           \n",
       "2 0.001731474                        0.4839471                           \n",
       "3 0.016181035                        0.4878535                           \n",
       "4 0.005071623                        0.4337241                           \n",
       "5 0.002624842                        0.8154355                           \n",
       "6 0.001824410                        0.3391418                           \n",
       "  IN_AutoMutualInfoStats_40_gaussian_fmmi FC_LocalSimple_mean1_tauresrat\n",
       "1 20                                      0.38095238                    \n",
       "2 22                                      0.04347826                    \n",
       "3 23                                      0.04166667                    \n",
       "4 21                                      0.43478261                    \n",
       "5 23                                      0.88000000                    \n",
       "6 23                                      0.04000000                    \n",
       "  DN_OutlierInclude_p_001_mdrmd DN_OutlierInclude_n_001_mdrmd\n",
       "1  0.012741815                  -0.022693452                 \n",
       "2  0.019717262                   0.002046131                 \n",
       "3 -0.003348214                  -0.018973214                 \n",
       "4 -0.032180060                   0.019717262                 \n",
       "5 -0.011904762                   0.007068452                 \n",
       "6 -0.026041667                   0.017671131                 \n",
       "  SP_Summaries_welch_rect_area_5_1 SB_BinaryStats_diff_longstretch0\n",
       "1 0.9873130                        19                              \n",
       "2 0.9784537                        13                              \n",
       "3 0.9842704                        15                              \n",
       "4 0.9871433                        20                              \n",
       "5 0.9923321                        18                              \n",
       "6 0.9882751                        23                              \n",
       "  SB_MotifThree_quantile_hh SC_FluctAnal_2_rsrangefit_50_1_logi_prop_r1\n",
       "1 1.478522                  0.4081633                                  \n",
       "2 1.504746                  0.4489796                                  \n",
       "3 1.515349                  0.4081633                                  \n",
       "4 1.431369                  0.4285714                                  \n",
       "5 1.409810                  0.4285714                                  \n",
       "6 1.439875                  0.4285714                                  \n",
       "  SC_FluctAnal_2_dfa_50_1_2_logi_prop_r1 SP_Summaries_welch_rect_centroid\n",
       "1 0.3469388                              0.06596117                      \n",
       "2 0.3265306                              0.06596117                      \n",
       "3 0.3469388                              0.06519418                      \n",
       "4 0.3469388                              0.06596117                      \n",
       "5 0.3265306                              0.06519418                      \n",
       "6 0.3469388                              0.06519418                      \n",
       "  FC_LocalSimple_mean3_stderr\n",
       "1 0.2855363                  \n",
       "2 0.2974666                  \n",
       "3 0.2538126                  \n",
       "4 0.2678449                  \n",
       "5 0.2070834                  \n",
       "6 0.2261327                  "
      ]
     },
     "metadata": {},
     "output_type": "display_data"
    }
   ],
   "source": [
    "head(catch22_orig)"
   ]
  },
  {
   "cell_type": "markdown",
   "id": "66e46fc7",
   "metadata": {},
   "source": [
    "### Scale New Data with Original Scaler Values"
   ]
  },
  {
   "cell_type": "code",
   "execution_count": 23,
   "id": "7f446973",
   "metadata": {},
   "outputs": [],
   "source": [
    "train_catch22_feat_df_scaled <- train_catch22_feat_df"
   ]
  },
  {
   "cell_type": "code",
   "execution_count": 24,
   "id": "0c7a9c69",
   "metadata": {},
   "outputs": [],
   "source": [
    "for (n in 1:ncol(train_catch22_feat_df_scaled)){\n",
    "    min_n <- min(catch22_orig[,n])\n",
    "    max_n <- max(catch22_orig[,n])\n",
    "    train_catch22_feat_df_scaled[,n] <- (train_catch22_feat_df_scaled[,n] - min_n)/(max_n - min_n)\n",
    "}"
   ]
  },
  {
   "cell_type": "code",
   "execution_count": 26,
   "id": "d7dd4a53",
   "metadata": {},
   "outputs": [
    {
     "name": "stderr",
     "output_type": "stream",
     "text": [
      "Warning message:\n",
      "“Setting row names on a tibble is deprecated.”\n"
     ]
    }
   ],
   "source": [
    "row.names(train_catch22_feat_df_scaled) <- c(\"Obs1\", \"Obs2\", \"Obs3\", \"Obs4\")"
   ]
  },
  {
   "cell_type": "code",
   "execution_count": 27,
   "id": "dd13e83a",
   "metadata": {},
   "outputs": [
    {
     "data": {
      "text/html": [
       "<table class=\"dataframe\">\n",
       "<caption>A tibble: 4 × 20</caption>\n",
       "<thead>\n",
       "\t<tr><th></th><th scope=col>DN_HistogramMode_5</th><th scope=col>DN_HistogramMode_10</th><th scope=col>CO_f1ecac</th><th scope=col>CO_HistogramAMI_even_2_5</th><th scope=col>CO_trev_1_num</th><th scope=col>MD_hrv_classic_pnn40</th><th scope=col>SB_BinaryStats_mean_longstretch1</th><th scope=col>SB_TransitionMatrix_3ac_sumdiagcov</th><th scope=col>CO_Embed2_Dist_tau_d_expfit_meandiff</th><th scope=col>IN_AutoMutualInfoStats_40_gaussian_fmmi</th><th scope=col>FC_LocalSimple_mean1_tauresrat</th><th scope=col>DN_OutlierInclude_p_001_mdrmd</th><th scope=col>DN_OutlierInclude_n_001_mdrmd</th><th scope=col>SP_Summaries_welch_rect_area_5_1</th><th scope=col>SB_BinaryStats_diff_longstretch0</th><th scope=col>SB_MotifThree_quantile_hh</th><th scope=col>SC_FluctAnal_2_rsrangefit_50_1_logi_prop_r1</th><th scope=col>SC_FluctAnal_2_dfa_50_1_2_logi_prop_r1</th><th scope=col>SP_Summaries_welch_rect_centroid</th><th scope=col>FC_LocalSimple_mean3_stderr</th></tr>\n",
       "\t<tr><th></th><th scope=col>&lt;dbl&gt;</th><th scope=col>&lt;dbl&gt;</th><th scope=col>&lt;dbl&gt;</th><th scope=col>&lt;dbl&gt;</th><th scope=col>&lt;dbl&gt;</th><th scope=col>&lt;dbl&gt;</th><th scope=col>&lt;dbl&gt;</th><th scope=col>&lt;dbl&gt;</th><th scope=col>&lt;dbl&gt;</th><th scope=col>&lt;dbl&gt;</th><th scope=col>&lt;dbl&gt;</th><th scope=col>&lt;dbl&gt;</th><th scope=col>&lt;dbl&gt;</th><th scope=col>&lt;dbl&gt;</th><th scope=col>&lt;dbl&gt;</th><th scope=col>&lt;dbl&gt;</th><th scope=col>&lt;dbl&gt;</th><th scope=col>&lt;dbl&gt;</th><th scope=col>&lt;dbl&gt;</th><th scope=col>&lt;dbl&gt;</th></tr>\n",
       "</thead>\n",
       "<tbody>\n",
       "\t<tr><th scope=row>Obs1</th><td>0.19399609</td><td>0.18380286</td><td>0.3976808</td><td>0.7606972</td><td>0.02414153</td><td>0.6395958</td><td>0.6739130</td><td>0.12627710</td><td>0.3267886</td><td>0.5526316</td><td>0.02019194</td><td>0.4354647</td><td>0.6488925</td><td>0.9391341</td><td>0.4761905</td><td>0.4798353</td><td>0.625</td><td>0.6666667</td><td>0.02298851</td><td>0.1945025</td></tr>\n",
       "\t<tr><th scope=row>Obs2</th><td>0.10632181</td><td>0.12125817</td><td>0.5635030</td><td>0.8512591</td><td>0.03147398</td><td>0.7267964</td><td>0.7391304</td><td>0.07168181</td><td>0.3058710</td><td>0.5526316</td><td>0.01824401</td><td>0.5082006</td><td>0.7145201</td><td>0.7949669</td><td>0.3809524</td><td>0.6321259</td><td>0.625</td><td>0.6666667</td><td>0.02298851</td><td>0.2522444</td></tr>\n",
       "\t<tr><th scope=row>Obs3</th><td>0.02170813</td><td>0.03507919</td><td>0.2338317</td><td>0.8836369</td><td>0.02902924</td><td>0.6684132</td><td>0.7826087</td><td>0.08132733</td><td>0.4744530</td><td>0.4210526</td><td>0.58662906</td><td>0.5036843</td><td>0.7251846</td><td>0.9064332</td><td>0.4285714</td><td>0.3951763</td><td>0.500</td><td>0.5555556</td><td>0.03448276</td><td>0.3280931</td></tr>\n",
       "\t<tr><th scope=row>Obs4</th><td>0.05217063</td><td>0.07481877</td><td>0.4121594</td><td>0.9448850</td><td>0.02772563</td><td>0.4925150</td><td>0.6956522</td><td>0.26190205</td><td>0.5336251</td><td>0.5263158</td><td>0.45847586</td><td>0.3927977</td><td>0.7284660</td><td>0.9520989</td><td>0.7619048</td><td>0.3886728</td><td>0.625</td><td>0.6666667</td><td>0.02298851</td><td>0.1663225</td></tr>\n",
       "</tbody>\n",
       "</table>\n"
      ],
      "text/latex": [
       "A tibble: 4 × 20\n",
       "\\begin{tabular}{r|llllllllllllllllllll}\n",
       "  & DN\\_HistogramMode\\_5 & DN\\_HistogramMode\\_10 & CO\\_f1ecac & CO\\_HistogramAMI\\_even\\_2\\_5 & CO\\_trev\\_1\\_num & MD\\_hrv\\_classic\\_pnn40 & SB\\_BinaryStats\\_mean\\_longstretch1 & SB\\_TransitionMatrix\\_3ac\\_sumdiagcov & CO\\_Embed2\\_Dist\\_tau\\_d\\_expfit\\_meandiff & IN\\_AutoMutualInfoStats\\_40\\_gaussian\\_fmmi & FC\\_LocalSimple\\_mean1\\_tauresrat & DN\\_OutlierInclude\\_p\\_001\\_mdrmd & DN\\_OutlierInclude\\_n\\_001\\_mdrmd & SP\\_Summaries\\_welch\\_rect\\_area\\_5\\_1 & SB\\_BinaryStats\\_diff\\_longstretch0 & SB\\_MotifThree\\_quantile\\_hh & SC\\_FluctAnal\\_2\\_rsrangefit\\_50\\_1\\_logi\\_prop\\_r1 & SC\\_FluctAnal\\_2\\_dfa\\_50\\_1\\_2\\_logi\\_prop\\_r1 & SP\\_Summaries\\_welch\\_rect\\_centroid & FC\\_LocalSimple\\_mean3\\_stderr\\\\\n",
       "  & <dbl> & <dbl> & <dbl> & <dbl> & <dbl> & <dbl> & <dbl> & <dbl> & <dbl> & <dbl> & <dbl> & <dbl> & <dbl> & <dbl> & <dbl> & <dbl> & <dbl> & <dbl> & <dbl> & <dbl>\\\\\n",
       "\\hline\n",
       "\tObs1 & 0.19399609 & 0.18380286 & 0.3976808 & 0.7606972 & 0.02414153 & 0.6395958 & 0.6739130 & 0.12627710 & 0.3267886 & 0.5526316 & 0.02019194 & 0.4354647 & 0.6488925 & 0.9391341 & 0.4761905 & 0.4798353 & 0.625 & 0.6666667 & 0.02298851 & 0.1945025\\\\\n",
       "\tObs2 & 0.10632181 & 0.12125817 & 0.5635030 & 0.8512591 & 0.03147398 & 0.7267964 & 0.7391304 & 0.07168181 & 0.3058710 & 0.5526316 & 0.01824401 & 0.5082006 & 0.7145201 & 0.7949669 & 0.3809524 & 0.6321259 & 0.625 & 0.6666667 & 0.02298851 & 0.2522444\\\\\n",
       "\tObs3 & 0.02170813 & 0.03507919 & 0.2338317 & 0.8836369 & 0.02902924 & 0.6684132 & 0.7826087 & 0.08132733 & 0.4744530 & 0.4210526 & 0.58662906 & 0.5036843 & 0.7251846 & 0.9064332 & 0.4285714 & 0.3951763 & 0.500 & 0.5555556 & 0.03448276 & 0.3280931\\\\\n",
       "\tObs4 & 0.05217063 & 0.07481877 & 0.4121594 & 0.9448850 & 0.02772563 & 0.4925150 & 0.6956522 & 0.26190205 & 0.5336251 & 0.5263158 & 0.45847586 & 0.3927977 & 0.7284660 & 0.9520989 & 0.7619048 & 0.3886728 & 0.625 & 0.6666667 & 0.02298851 & 0.1663225\\\\\n",
       "\\end{tabular}\n"
      ],
      "text/markdown": [
       "\n",
       "A tibble: 4 × 20\n",
       "\n",
       "| <!--/--> | DN_HistogramMode_5 &lt;dbl&gt; | DN_HistogramMode_10 &lt;dbl&gt; | CO_f1ecac &lt;dbl&gt; | CO_HistogramAMI_even_2_5 &lt;dbl&gt; | CO_trev_1_num &lt;dbl&gt; | MD_hrv_classic_pnn40 &lt;dbl&gt; | SB_BinaryStats_mean_longstretch1 &lt;dbl&gt; | SB_TransitionMatrix_3ac_sumdiagcov &lt;dbl&gt; | CO_Embed2_Dist_tau_d_expfit_meandiff &lt;dbl&gt; | IN_AutoMutualInfoStats_40_gaussian_fmmi &lt;dbl&gt; | FC_LocalSimple_mean1_tauresrat &lt;dbl&gt; | DN_OutlierInclude_p_001_mdrmd &lt;dbl&gt; | DN_OutlierInclude_n_001_mdrmd &lt;dbl&gt; | SP_Summaries_welch_rect_area_5_1 &lt;dbl&gt; | SB_BinaryStats_diff_longstretch0 &lt;dbl&gt; | SB_MotifThree_quantile_hh &lt;dbl&gt; | SC_FluctAnal_2_rsrangefit_50_1_logi_prop_r1 &lt;dbl&gt; | SC_FluctAnal_2_dfa_50_1_2_logi_prop_r1 &lt;dbl&gt; | SP_Summaries_welch_rect_centroid &lt;dbl&gt; | FC_LocalSimple_mean3_stderr &lt;dbl&gt; |\n",
       "|---|---|---|---|---|---|---|---|---|---|---|---|---|---|---|---|---|---|---|---|---|\n",
       "| Obs1 | 0.19399609 | 0.18380286 | 0.3976808 | 0.7606972 | 0.02414153 | 0.6395958 | 0.6739130 | 0.12627710 | 0.3267886 | 0.5526316 | 0.02019194 | 0.4354647 | 0.6488925 | 0.9391341 | 0.4761905 | 0.4798353 | 0.625 | 0.6666667 | 0.02298851 | 0.1945025 |\n",
       "| Obs2 | 0.10632181 | 0.12125817 | 0.5635030 | 0.8512591 | 0.03147398 | 0.7267964 | 0.7391304 | 0.07168181 | 0.3058710 | 0.5526316 | 0.01824401 | 0.5082006 | 0.7145201 | 0.7949669 | 0.3809524 | 0.6321259 | 0.625 | 0.6666667 | 0.02298851 | 0.2522444 |\n",
       "| Obs3 | 0.02170813 | 0.03507919 | 0.2338317 | 0.8836369 | 0.02902924 | 0.6684132 | 0.7826087 | 0.08132733 | 0.4744530 | 0.4210526 | 0.58662906 | 0.5036843 | 0.7251846 | 0.9064332 | 0.4285714 | 0.3951763 | 0.500 | 0.5555556 | 0.03448276 | 0.3280931 |\n",
       "| Obs4 | 0.05217063 | 0.07481877 | 0.4121594 | 0.9448850 | 0.02772563 | 0.4925150 | 0.6956522 | 0.26190205 | 0.5336251 | 0.5263158 | 0.45847586 | 0.3927977 | 0.7284660 | 0.9520989 | 0.7619048 | 0.3886728 | 0.625 | 0.6666667 | 0.02298851 | 0.1663225 |\n",
       "\n"
      ],
      "text/plain": [
       "     DN_HistogramMode_5 DN_HistogramMode_10 CO_f1ecac CO_HistogramAMI_even_2_5\n",
       "Obs1 0.19399609         0.18380286          0.3976808 0.7606972               \n",
       "Obs2 0.10632181         0.12125817          0.5635030 0.8512591               \n",
       "Obs3 0.02170813         0.03507919          0.2338317 0.8836369               \n",
       "Obs4 0.05217063         0.07481877          0.4121594 0.9448850               \n",
       "     CO_trev_1_num MD_hrv_classic_pnn40 SB_BinaryStats_mean_longstretch1\n",
       "Obs1 0.02414153    0.6395958            0.6739130                       \n",
       "Obs2 0.03147398    0.7267964            0.7391304                       \n",
       "Obs3 0.02902924    0.6684132            0.7826087                       \n",
       "Obs4 0.02772563    0.4925150            0.6956522                       \n",
       "     SB_TransitionMatrix_3ac_sumdiagcov CO_Embed2_Dist_tau_d_expfit_meandiff\n",
       "Obs1 0.12627710                         0.3267886                           \n",
       "Obs2 0.07168181                         0.3058710                           \n",
       "Obs3 0.08132733                         0.4744530                           \n",
       "Obs4 0.26190205                         0.5336251                           \n",
       "     IN_AutoMutualInfoStats_40_gaussian_fmmi FC_LocalSimple_mean1_tauresrat\n",
       "Obs1 0.5526316                               0.02019194                    \n",
       "Obs2 0.5526316                               0.01824401                    \n",
       "Obs3 0.4210526                               0.58662906                    \n",
       "Obs4 0.5263158                               0.45847586                    \n",
       "     DN_OutlierInclude_p_001_mdrmd DN_OutlierInclude_n_001_mdrmd\n",
       "Obs1 0.4354647                     0.6488925                    \n",
       "Obs2 0.5082006                     0.7145201                    \n",
       "Obs3 0.5036843                     0.7251846                    \n",
       "Obs4 0.3927977                     0.7284660                    \n",
       "     SP_Summaries_welch_rect_area_5_1 SB_BinaryStats_diff_longstretch0\n",
       "Obs1 0.9391341                        0.4761905                       \n",
       "Obs2 0.7949669                        0.3809524                       \n",
       "Obs3 0.9064332                        0.4285714                       \n",
       "Obs4 0.9520989                        0.7619048                       \n",
       "     SB_MotifThree_quantile_hh SC_FluctAnal_2_rsrangefit_50_1_logi_prop_r1\n",
       "Obs1 0.4798353                 0.625                                      \n",
       "Obs2 0.6321259                 0.625                                      \n",
       "Obs3 0.3951763                 0.500                                      \n",
       "Obs4 0.3886728                 0.625                                      \n",
       "     SC_FluctAnal_2_dfa_50_1_2_logi_prop_r1 SP_Summaries_welch_rect_centroid\n",
       "Obs1 0.6666667                              0.02298851                      \n",
       "Obs2 0.6666667                              0.02298851                      \n",
       "Obs3 0.5555556                              0.03448276                      \n",
       "Obs4 0.6666667                              0.02298851                      \n",
       "     FC_LocalSimple_mean3_stderr\n",
       "Obs1 0.1945025                  \n",
       "Obs2 0.2522444                  \n",
       "Obs3 0.3280931                  \n",
       "Obs4 0.1663225                  "
      ]
     },
     "metadata": {},
     "output_type": "display_data"
    }
   ],
   "source": [
    "train_catch22_feat_df_scaled"
   ]
  },
  {
   "cell_type": "markdown",
   "id": "3c4bdd17",
   "metadata": {},
   "source": [
    "## Load Original KMeans Cluster Assignments"
   ]
  },
  {
   "cell_type": "code",
   "execution_count": 28,
   "id": "04fbedde",
   "metadata": {},
   "outputs": [],
   "source": [
    "catch22_kmeans_orig <- readRDS(\"Results/Clustering/KMeans/kmeans_catch22.RData\")"
   ]
  },
  {
   "cell_type": "code",
   "execution_count": 29,
   "id": "d76e85d5",
   "metadata": {},
   "outputs": [
    {
     "data": {
      "text/plain": [
       "\n",
       " 1  2  3 \n",
       "52  9 15 "
      ]
     },
     "metadata": {},
     "output_type": "display_data"
    }
   ],
   "source": [
    "table(catch22_kmeans_orig$cluster)"
   ]
  },
  {
   "cell_type": "code",
   "execution_count": 30,
   "id": "775e036f",
   "metadata": {},
   "outputs": [],
   "source": [
    "catch22_kmeans_orig_cent <- catch22_kmeans_orig$centers\n",
    "row.names(catch22_kmeans_orig_cent) <- c(\"Cent1\", \"Cent2\", \"Cent3\")"
   ]
  },
  {
   "cell_type": "code",
   "execution_count": 31,
   "id": "0bb33066",
   "metadata": {},
   "outputs": [
    {
     "data": {
      "text/html": [
       "<table class=\"dataframe\">\n",
       "<caption>A matrix: 3 × 20 of type dbl</caption>\n",
       "<thead>\n",
       "\t<tr><th></th><th scope=col>DN_HistogramMode_5</th><th scope=col>DN_HistogramMode_10</th><th scope=col>CO_f1ecac</th><th scope=col>CO_HistogramAMI_even_2_5</th><th scope=col>CO_trev_1_num</th><th scope=col>MD_hrv_classic_pnn40</th><th scope=col>SB_BinaryStats_mean_longstretch1</th><th scope=col>SB_TransitionMatrix_3ac_sumdiagcov</th><th scope=col>CO_Embed2_Dist_tau_d_expfit_meandiff</th><th scope=col>IN_AutoMutualInfoStats_40_gaussian_fmmi</th><th scope=col>FC_LocalSimple_mean1_tauresrat</th><th scope=col>DN_OutlierInclude_p_001_mdrmd</th><th scope=col>DN_OutlierInclude_n_001_mdrmd</th><th scope=col>SP_Summaries_welch_rect_area_5_1</th><th scope=col>SB_BinaryStats_diff_longstretch0</th><th scope=col>SB_MotifThree_quantile_hh</th><th scope=col>SC_FluctAnal_2_rsrangefit_50_1_logi_prop_r1</th><th scope=col>SC_FluctAnal_2_dfa_50_1_2_logi_prop_r1</th><th scope=col>SP_Summaries_welch_rect_centroid</th><th scope=col>FC_LocalSimple_mean3_stderr</th></tr>\n",
       "</thead>\n",
       "<tbody>\n",
       "\t<tr><th scope=row>Cent1</th><td>0.1262016</td><td>0.1576786</td><td>0.4256936</td><td>0.8661123</td><td>0.02365651</td><td>0.5966145</td><td>0.7178094</td><td>0.12274245</td><td>0.4430532</td><td>0.5394737</td><td>0.20829060</td><td>0.4299245</td><td>0.7087067</td><td>0.9182354</td><td>0.4844322</td><td>0.4483842</td><td>0.5817308</td><td>0.6282051</td><td>0.02630416</td><td>0.2084310</td></tr>\n",
       "\t<tr><th scope=row>Cent2</th><td>0.6832152</td><td>0.7525918</td><td>0.2837998</td><td>0.7432119</td><td>0.02467471</td><td>0.6420908</td><td>0.6642512</td><td>0.05759401</td><td>0.3577419</td><td>0.4590643</td><td>0.30219245</td><td>0.4218498</td><td>0.7238629</td><td>0.8692001</td><td>0.4761905</td><td>0.5455393</td><td>0.4166667</td><td>0.4938272</td><td>0.24648787</td><td>0.3401096</td></tr>\n",
       "\t<tr><th scope=row>Cent3</th><td>0.3724058</td><td>0.2298912</td><td>0.3907470</td><td>0.5867222</td><td>0.08717953</td><td>0.7977046</td><td>0.7652174</td><td>0.07337093</td><td>0.2327335</td><td>0.5000000</td><td>0.02090625</td><td>0.4654782</td><td>0.6596937</td><td>0.5637666</td><td>0.2666667</td><td>0.6810106</td><td>0.5500000</td><td>0.4074074</td><td>0.02988506</td><td>0.5742908</td></tr>\n",
       "</tbody>\n",
       "</table>\n"
      ],
      "text/latex": [
       "A matrix: 3 × 20 of type dbl\n",
       "\\begin{tabular}{r|llllllllllllllllllll}\n",
       "  & DN\\_HistogramMode\\_5 & DN\\_HistogramMode\\_10 & CO\\_f1ecac & CO\\_HistogramAMI\\_even\\_2\\_5 & CO\\_trev\\_1\\_num & MD\\_hrv\\_classic\\_pnn40 & SB\\_BinaryStats\\_mean\\_longstretch1 & SB\\_TransitionMatrix\\_3ac\\_sumdiagcov & CO\\_Embed2\\_Dist\\_tau\\_d\\_expfit\\_meandiff & IN\\_AutoMutualInfoStats\\_40\\_gaussian\\_fmmi & FC\\_LocalSimple\\_mean1\\_tauresrat & DN\\_OutlierInclude\\_p\\_001\\_mdrmd & DN\\_OutlierInclude\\_n\\_001\\_mdrmd & SP\\_Summaries\\_welch\\_rect\\_area\\_5\\_1 & SB\\_BinaryStats\\_diff\\_longstretch0 & SB\\_MotifThree\\_quantile\\_hh & SC\\_FluctAnal\\_2\\_rsrangefit\\_50\\_1\\_logi\\_prop\\_r1 & SC\\_FluctAnal\\_2\\_dfa\\_50\\_1\\_2\\_logi\\_prop\\_r1 & SP\\_Summaries\\_welch\\_rect\\_centroid & FC\\_LocalSimple\\_mean3\\_stderr\\\\\n",
       "\\hline\n",
       "\tCent1 & 0.1262016 & 0.1576786 & 0.4256936 & 0.8661123 & 0.02365651 & 0.5966145 & 0.7178094 & 0.12274245 & 0.4430532 & 0.5394737 & 0.20829060 & 0.4299245 & 0.7087067 & 0.9182354 & 0.4844322 & 0.4483842 & 0.5817308 & 0.6282051 & 0.02630416 & 0.2084310\\\\\n",
       "\tCent2 & 0.6832152 & 0.7525918 & 0.2837998 & 0.7432119 & 0.02467471 & 0.6420908 & 0.6642512 & 0.05759401 & 0.3577419 & 0.4590643 & 0.30219245 & 0.4218498 & 0.7238629 & 0.8692001 & 0.4761905 & 0.5455393 & 0.4166667 & 0.4938272 & 0.24648787 & 0.3401096\\\\\n",
       "\tCent3 & 0.3724058 & 0.2298912 & 0.3907470 & 0.5867222 & 0.08717953 & 0.7977046 & 0.7652174 & 0.07337093 & 0.2327335 & 0.5000000 & 0.02090625 & 0.4654782 & 0.6596937 & 0.5637666 & 0.2666667 & 0.6810106 & 0.5500000 & 0.4074074 & 0.02988506 & 0.5742908\\\\\n",
       "\\end{tabular}\n"
      ],
      "text/markdown": [
       "\n",
       "A matrix: 3 × 20 of type dbl\n",
       "\n",
       "| <!--/--> | DN_HistogramMode_5 | DN_HistogramMode_10 | CO_f1ecac | CO_HistogramAMI_even_2_5 | CO_trev_1_num | MD_hrv_classic_pnn40 | SB_BinaryStats_mean_longstretch1 | SB_TransitionMatrix_3ac_sumdiagcov | CO_Embed2_Dist_tau_d_expfit_meandiff | IN_AutoMutualInfoStats_40_gaussian_fmmi | FC_LocalSimple_mean1_tauresrat | DN_OutlierInclude_p_001_mdrmd | DN_OutlierInclude_n_001_mdrmd | SP_Summaries_welch_rect_area_5_1 | SB_BinaryStats_diff_longstretch0 | SB_MotifThree_quantile_hh | SC_FluctAnal_2_rsrangefit_50_1_logi_prop_r1 | SC_FluctAnal_2_dfa_50_1_2_logi_prop_r1 | SP_Summaries_welch_rect_centroid | FC_LocalSimple_mean3_stderr |\n",
       "|---|---|---|---|---|---|---|---|---|---|---|---|---|---|---|---|---|---|---|---|---|\n",
       "| Cent1 | 0.1262016 | 0.1576786 | 0.4256936 | 0.8661123 | 0.02365651 | 0.5966145 | 0.7178094 | 0.12274245 | 0.4430532 | 0.5394737 | 0.20829060 | 0.4299245 | 0.7087067 | 0.9182354 | 0.4844322 | 0.4483842 | 0.5817308 | 0.6282051 | 0.02630416 | 0.2084310 |\n",
       "| Cent2 | 0.6832152 | 0.7525918 | 0.2837998 | 0.7432119 | 0.02467471 | 0.6420908 | 0.6642512 | 0.05759401 | 0.3577419 | 0.4590643 | 0.30219245 | 0.4218498 | 0.7238629 | 0.8692001 | 0.4761905 | 0.5455393 | 0.4166667 | 0.4938272 | 0.24648787 | 0.3401096 |\n",
       "| Cent3 | 0.3724058 | 0.2298912 | 0.3907470 | 0.5867222 | 0.08717953 | 0.7977046 | 0.7652174 | 0.07337093 | 0.2327335 | 0.5000000 | 0.02090625 | 0.4654782 | 0.6596937 | 0.5637666 | 0.2666667 | 0.6810106 | 0.5500000 | 0.4074074 | 0.02988506 | 0.5742908 |\n",
       "\n"
      ],
      "text/plain": [
       "      DN_HistogramMode_5 DN_HistogramMode_10 CO_f1ecac CO_HistogramAMI_even_2_5\n",
       "Cent1 0.1262016          0.1576786           0.4256936 0.8661123               \n",
       "Cent2 0.6832152          0.7525918           0.2837998 0.7432119               \n",
       "Cent3 0.3724058          0.2298912           0.3907470 0.5867222               \n",
       "      CO_trev_1_num MD_hrv_classic_pnn40 SB_BinaryStats_mean_longstretch1\n",
       "Cent1 0.02365651    0.5966145            0.7178094                       \n",
       "Cent2 0.02467471    0.6420908            0.6642512                       \n",
       "Cent3 0.08717953    0.7977046            0.7652174                       \n",
       "      SB_TransitionMatrix_3ac_sumdiagcov CO_Embed2_Dist_tau_d_expfit_meandiff\n",
       "Cent1 0.12274245                         0.4430532                           \n",
       "Cent2 0.05759401                         0.3577419                           \n",
       "Cent3 0.07337093                         0.2327335                           \n",
       "      IN_AutoMutualInfoStats_40_gaussian_fmmi FC_LocalSimple_mean1_tauresrat\n",
       "Cent1 0.5394737                               0.20829060                    \n",
       "Cent2 0.4590643                               0.30219245                    \n",
       "Cent3 0.5000000                               0.02090625                    \n",
       "      DN_OutlierInclude_p_001_mdrmd DN_OutlierInclude_n_001_mdrmd\n",
       "Cent1 0.4299245                     0.7087067                    \n",
       "Cent2 0.4218498                     0.7238629                    \n",
       "Cent3 0.4654782                     0.6596937                    \n",
       "      SP_Summaries_welch_rect_area_5_1 SB_BinaryStats_diff_longstretch0\n",
       "Cent1 0.9182354                        0.4844322                       \n",
       "Cent2 0.8692001                        0.4761905                       \n",
       "Cent3 0.5637666                        0.2666667                       \n",
       "      SB_MotifThree_quantile_hh SC_FluctAnal_2_rsrangefit_50_1_logi_prop_r1\n",
       "Cent1 0.4483842                 0.5817308                                  \n",
       "Cent2 0.5455393                 0.4166667                                  \n",
       "Cent3 0.6810106                 0.5500000                                  \n",
       "      SC_FluctAnal_2_dfa_50_1_2_logi_prop_r1 SP_Summaries_welch_rect_centroid\n",
       "Cent1 0.6282051                              0.02630416                      \n",
       "Cent2 0.4938272                              0.24648787                      \n",
       "Cent3 0.4074074                              0.02988506                      \n",
       "      FC_LocalSimple_mean3_stderr\n",
       "Cent1 0.2084310                  \n",
       "Cent2 0.3401096                  \n",
       "Cent3 0.5742908                  "
      ]
     },
     "metadata": {},
     "output_type": "display_data"
    }
   ],
   "source": [
    "catch22_kmeans_orig_cent"
   ]
  },
  {
   "cell_type": "code",
   "execution_count": 33,
   "id": "120c5470",
   "metadata": {},
   "outputs": [
    {
     "data": {
      "text/html": [
       "<table class=\"dataframe\">\n",
       "<caption>A matrix: 4 × 3 of type dbl</caption>\n",
       "<thead>\n",
       "\t<tr><th></th><th scope=col>Cent1</th><th scope=col>Cent2</th><th scope=col>Cent3</th></tr>\n",
       "</thead>\n",
       "<tbody>\n",
       "\t<tr><th scope=row>Obs1</th><td>0.2805229</td><td>0.9108395</td><td>0.7479380</td></tr>\n",
       "\t<tr><th scope=row>Obs2</th><td>0.4089266</td><td>1.0425763</td><td>0.6706000</td></tr>\n",
       "\t<tr><th scope=row>Obs3</th><td>0.5200594</td><td>1.0838326</td><td>0.9975239</td></tr>\n",
       "\t<tr><th scope=row>Obs4</th><td>0.4571881</td><td>1.1433028</td><td>1.1857291</td></tr>\n",
       "</tbody>\n",
       "</table>\n"
      ],
      "text/latex": [
       "A matrix: 4 × 3 of type dbl\n",
       "\\begin{tabular}{r|lll}\n",
       "  & Cent1 & Cent2 & Cent3\\\\\n",
       "\\hline\n",
       "\tObs1 & 0.2805229 & 0.9108395 & 0.7479380\\\\\n",
       "\tObs2 & 0.4089266 & 1.0425763 & 0.6706000\\\\\n",
       "\tObs3 & 0.5200594 & 1.0838326 & 0.9975239\\\\\n",
       "\tObs4 & 0.4571881 & 1.1433028 & 1.1857291\\\\\n",
       "\\end{tabular}\n"
      ],
      "text/markdown": [
       "\n",
       "A matrix: 4 × 3 of type dbl\n",
       "\n",
       "| <!--/--> | Cent1 | Cent2 | Cent3 |\n",
       "|---|---|---|---|\n",
       "| Obs1 | 0.2805229 | 0.9108395 | 0.7479380 |\n",
       "| Obs2 | 0.4089266 | 1.0425763 | 0.6706000 |\n",
       "| Obs3 | 0.5200594 | 1.0838326 | 0.9975239 |\n",
       "| Obs4 | 0.4571881 | 1.1433028 | 1.1857291 |\n",
       "\n"
      ],
      "text/plain": [
       "     Cent1     Cent2     Cent3    \n",
       "Obs1 0.2805229 0.9108395 0.7479380\n",
       "Obs2 0.4089266 1.0425763 0.6706000\n",
       "Obs3 0.5200594 1.0838326 0.9975239\n",
       "Obs4 0.4571881 1.1433028 1.1857291"
      ]
     },
     "metadata": {},
     "output_type": "display_data"
    }
   ],
   "source": [
    "as.matrix(dist(rbind(catch22_kmeans_orig_cent, train_catch22_feat_df_scaled)))[4:7, 1:3]"
   ]
  },
  {
   "cell_type": "code",
   "execution_count": 34,
   "id": "33a4c9d6",
   "metadata": {},
   "outputs": [],
   "source": [
    "catch22_clust_assign <- c(1, 1, 1, 1)"
   ]
  },
  {
   "cell_type": "markdown",
   "id": "0ec8fdc7",
   "metadata": {},
   "source": [
    "# TSFeat Based Feature Computation"
   ]
  },
  {
   "cell_type": "code",
   "execution_count": 35,
   "id": "fb6329aa",
   "metadata": {},
   "outputs": [],
   "source": [
    "# Compute basic set of tsfeatures - \n",
    "# Set scale to FALSE as to not scale the time series before computing the features\n",
    "ts_feat_list <- tsfeatures(train_samples_ts, scale=FALSE)"
   ]
  },
  {
   "cell_type": "code",
   "execution_count": 36,
   "id": "ce089c65",
   "metadata": {},
   "outputs": [
    {
     "data": {
      "text/html": [
       "<table class=\"dataframe\">\n",
       "<caption>A tibble: 4 × 24</caption>\n",
       "<thead>\n",
       "\t<tr><th scope=col>frequency</th><th scope=col>nperiods</th><th scope=col>seasonal_period1</th><th scope=col>seasonal_period2</th><th scope=col>trend</th><th scope=col>spike</th><th scope=col>linearity</th><th scope=col>curvature</th><th scope=col>e_acf1</th><th scope=col>e_acf10</th><th scope=col>⋯</th><th scope=col>trough1</th><th scope=col>trough2</th><th scope=col>entropy</th><th scope=col>x_acf1</th><th scope=col>x_acf10</th><th scope=col>diff1_acf1</th><th scope=col>diff1_acf10</th><th scope=col>diff2_acf1</th><th scope=col>diff2_acf10</th><th scope=col>seas_acf1</th></tr>\n",
       "\t<tr><th scope=col>&lt;dbl&gt;</th><th scope=col>&lt;dbl&gt;</th><th scope=col>&lt;dbl&gt;</th><th scope=col>&lt;dbl&gt;</th><th scope=col>&lt;dbl&gt;</th><th scope=col>&lt;dbl&gt;</th><th scope=col>&lt;dbl&gt;</th><th scope=col>&lt;dbl&gt;</th><th scope=col>&lt;dbl&gt;</th><th scope=col>&lt;dbl&gt;</th><th scope=col>⋯</th><th scope=col>&lt;dbl&gt;</th><th scope=col>&lt;dbl&gt;</th><th scope=col>&lt;dbl&gt;</th><th scope=col>&lt;dbl&gt;</th><th scope=col>&lt;dbl&gt;</th><th scope=col>&lt;dbl&gt;</th><th scope=col>&lt;dbl&gt;</th><th scope=col>&lt;dbl&gt;</th><th scope=col>&lt;dbl&gt;</th><th scope=col>&lt;dbl&gt;</th></tr>\n",
       "</thead>\n",
       "<tbody>\n",
       "\t<tr><td>672</td><td>2</td><td>96</td><td>672</td><td>0.06110177</td><td> 0.14095648</td><td> 125.4385</td><td> 163.26377</td><td>0.5938258</td><td>1.6655134</td><td>⋯</td><td>67</td><td>469</td><td>0.6207966</td><td>0.9771548</td><td>6.773005</td><td>-0.09996172</td><td>0.1278525</td><td>-0.6633647</td><td>0.5084676</td><td>0.8386451</td></tr>\n",
       "\t<tr><td>672</td><td>2</td><td>96</td><td>672</td><td>0.03820380</td><td> 0.01261537</td><td> 156.6864</td><td> -55.46971</td><td>0.2809050</td><td>0.4961752</td><td>⋯</td><td>83</td><td>299</td><td>0.5584588</td><td>0.9545693</td><td>7.398597</td><td>-0.41421870</td><td>0.1933700</td><td>-0.6814363</td><td>0.5102978</td><td>0.8301033</td></tr>\n",
       "\t<tr><td>672</td><td>2</td><td>96</td><td>672</td><td>0.04619973</td><td> 2.39759550</td><td> 492.9979</td><td>-275.78563</td><td>0.7666151</td><td>2.3408486</td><td>⋯</td><td>91</td><td> 10</td><td>0.6984848</td><td>0.9754772</td><td>6.032898</td><td> 0.14112589</td><td>0.1056201</td><td>-0.5399201</td><td>0.3020198</td><td>0.8206214</td></tr>\n",
       "\t<tr><td>672</td><td>2</td><td>96</td><td>672</td><td>0.04285456</td><td>38.39305242</td><td>-103.9417</td><td> 369.49427</td><td>0.7217817</td><td>1.6138534</td><td>⋯</td><td> 3</td><td>500</td><td>0.6246713</td><td>0.9833059</td><td>6.925825</td><td> 0.20475658</td><td>0.1525677</td><td>-0.4673074</td><td>0.2371622</td><td>0.8477111</td></tr>\n",
       "</tbody>\n",
       "</table>\n"
      ],
      "text/latex": [
       "A tibble: 4 × 24\n",
       "\\begin{tabular}{lllllllllllllllllllll}\n",
       " frequency & nperiods & seasonal\\_period1 & seasonal\\_period2 & trend & spike & linearity & curvature & e\\_acf1 & e\\_acf10 & ⋯ & trough1 & trough2 & entropy & x\\_acf1 & x\\_acf10 & diff1\\_acf1 & diff1\\_acf10 & diff2\\_acf1 & diff2\\_acf10 & seas\\_acf1\\\\\n",
       " <dbl> & <dbl> & <dbl> & <dbl> & <dbl> & <dbl> & <dbl> & <dbl> & <dbl> & <dbl> & ⋯ & <dbl> & <dbl> & <dbl> & <dbl> & <dbl> & <dbl> & <dbl> & <dbl> & <dbl> & <dbl>\\\\\n",
       "\\hline\n",
       "\t 672 & 2 & 96 & 672 & 0.06110177 &  0.14095648 &  125.4385 &  163.26377 & 0.5938258 & 1.6655134 & ⋯ & 67 & 469 & 0.6207966 & 0.9771548 & 6.773005 & -0.09996172 & 0.1278525 & -0.6633647 & 0.5084676 & 0.8386451\\\\\n",
       "\t 672 & 2 & 96 & 672 & 0.03820380 &  0.01261537 &  156.6864 &  -55.46971 & 0.2809050 & 0.4961752 & ⋯ & 83 & 299 & 0.5584588 & 0.9545693 & 7.398597 & -0.41421870 & 0.1933700 & -0.6814363 & 0.5102978 & 0.8301033\\\\\n",
       "\t 672 & 2 & 96 & 672 & 0.04619973 &  2.39759550 &  492.9979 & -275.78563 & 0.7666151 & 2.3408486 & ⋯ & 91 &  10 & 0.6984848 & 0.9754772 & 6.032898 &  0.14112589 & 0.1056201 & -0.5399201 & 0.3020198 & 0.8206214\\\\\n",
       "\t 672 & 2 & 96 & 672 & 0.04285456 & 38.39305242 & -103.9417 &  369.49427 & 0.7217817 & 1.6138534 & ⋯ &  3 & 500 & 0.6246713 & 0.9833059 & 6.925825 &  0.20475658 & 0.1525677 & -0.4673074 & 0.2371622 & 0.8477111\\\\\n",
       "\\end{tabular}\n"
      ],
      "text/markdown": [
       "\n",
       "A tibble: 4 × 24\n",
       "\n",
       "| frequency &lt;dbl&gt; | nperiods &lt;dbl&gt; | seasonal_period1 &lt;dbl&gt; | seasonal_period2 &lt;dbl&gt; | trend &lt;dbl&gt; | spike &lt;dbl&gt; | linearity &lt;dbl&gt; | curvature &lt;dbl&gt; | e_acf1 &lt;dbl&gt; | e_acf10 &lt;dbl&gt; | ⋯ ⋯ | trough1 &lt;dbl&gt; | trough2 &lt;dbl&gt; | entropy &lt;dbl&gt; | x_acf1 &lt;dbl&gt; | x_acf10 &lt;dbl&gt; | diff1_acf1 &lt;dbl&gt; | diff1_acf10 &lt;dbl&gt; | diff2_acf1 &lt;dbl&gt; | diff2_acf10 &lt;dbl&gt; | seas_acf1 &lt;dbl&gt; |\n",
       "|---|---|---|---|---|---|---|---|---|---|---|---|---|---|---|---|---|---|---|---|---|\n",
       "| 672 | 2 | 96 | 672 | 0.06110177 |  0.14095648 |  125.4385 |  163.26377 | 0.5938258 | 1.6655134 | ⋯ | 67 | 469 | 0.6207966 | 0.9771548 | 6.773005 | -0.09996172 | 0.1278525 | -0.6633647 | 0.5084676 | 0.8386451 |\n",
       "| 672 | 2 | 96 | 672 | 0.03820380 |  0.01261537 |  156.6864 |  -55.46971 | 0.2809050 | 0.4961752 | ⋯ | 83 | 299 | 0.5584588 | 0.9545693 | 7.398597 | -0.41421870 | 0.1933700 | -0.6814363 | 0.5102978 | 0.8301033 |\n",
       "| 672 | 2 | 96 | 672 | 0.04619973 |  2.39759550 |  492.9979 | -275.78563 | 0.7666151 | 2.3408486 | ⋯ | 91 |  10 | 0.6984848 | 0.9754772 | 6.032898 |  0.14112589 | 0.1056201 | -0.5399201 | 0.3020198 | 0.8206214 |\n",
       "| 672 | 2 | 96 | 672 | 0.04285456 | 38.39305242 | -103.9417 |  369.49427 | 0.7217817 | 1.6138534 | ⋯ |  3 | 500 | 0.6246713 | 0.9833059 | 6.925825 |  0.20475658 | 0.1525677 | -0.4673074 | 0.2371622 | 0.8477111 |\n",
       "\n"
      ],
      "text/plain": [
       "  frequency nperiods seasonal_period1 seasonal_period2 trend      spike      \n",
       "1 672       2        96               672              0.06110177  0.14095648\n",
       "2 672       2        96               672              0.03820380  0.01261537\n",
       "3 672       2        96               672              0.04619973  2.39759550\n",
       "4 672       2        96               672              0.04285456 38.39305242\n",
       "  linearity curvature  e_acf1    e_acf10   ⋯ trough1 trough2 entropy  \n",
       "1  125.4385  163.26377 0.5938258 1.6655134 ⋯ 67      469     0.6207966\n",
       "2  156.6864  -55.46971 0.2809050 0.4961752 ⋯ 83      299     0.5584588\n",
       "3  492.9979 -275.78563 0.7666151 2.3408486 ⋯ 91       10     0.6984848\n",
       "4 -103.9417  369.49427 0.7217817 1.6138534 ⋯  3      500     0.6246713\n",
       "  x_acf1    x_acf10  diff1_acf1  diff1_acf10 diff2_acf1 diff2_acf10 seas_acf1\n",
       "1 0.9771548 6.773005 -0.09996172 0.1278525   -0.6633647 0.5084676   0.8386451\n",
       "2 0.9545693 7.398597 -0.41421870 0.1933700   -0.6814363 0.5102978   0.8301033\n",
       "3 0.9754772 6.032898  0.14112589 0.1056201   -0.5399201 0.3020198   0.8206214\n",
       "4 0.9833059 6.925825  0.20475658 0.1525677   -0.4673074 0.2371622   0.8477111"
      ]
     },
     "metadata": {},
     "output_type": "display_data"
    }
   ],
   "source": [
    "# Sanity check and inspect the summary\n",
    "head(ts_feat_list)"
   ]
  },
  {
   "cell_type": "code",
   "execution_count": 37,
   "id": "e545620c",
   "metadata": {},
   "outputs": [],
   "source": [
    "# Remove features with very low variation\n",
    "ts_feat_list <- ts_feat_list%>% select(-c(frequency, nperiods, seasonal_period1, seasonal_period2))"
   ]
  },
  {
   "cell_type": "markdown",
   "id": "6b2b25d5",
   "metadata": {},
   "source": [
    "## Read in Original TSFeat Features"
   ]
  },
  {
   "cell_type": "code",
   "execution_count": 38,
   "id": "2dec8d71",
   "metadata": {},
   "outputs": [
    {
     "name": "stderr",
     "output_type": "stream",
     "text": [
      "\u001b[1m\u001b[22mNew names:\n",
      "\u001b[36m•\u001b[39m `` -> `...1`\n",
      "\u001b[1mRows: \u001b[22m\u001b[34m76\u001b[39m \u001b[1mColumns: \u001b[22m\u001b[34m21\u001b[39m\n",
      "\u001b[36m──\u001b[39m \u001b[1mColumn specification\u001b[22m \u001b[36m────────────────────────────────────────────────────────\u001b[39m\n",
      "\u001b[1mDelimiter:\u001b[22m \",\"\n",
      "\u001b[32mdbl\u001b[39m (21): ...1, trend, spike, linearity, curvature, e_acf1, e_acf10, seasona...\n",
      "\n",
      "\u001b[36mℹ\u001b[39m Use `spec()` to retrieve the full column specification for this data.\n",
      "\u001b[36mℹ\u001b[39m Specify the column types or set `show_col_types = FALSE` to quiet this message.\n"
     ]
    }
   ],
   "source": [
    "tsfeat_orig <- read_csv(\"Results/Clustering/KMeans/tsfeat_feat_df.csv\")[,-1]"
   ]
  },
  {
   "cell_type": "code",
   "execution_count": 39,
   "id": "c049ab7b",
   "metadata": {},
   "outputs": [
    {
     "data": {
      "text/html": [
       "<table class=\"dataframe\">\n",
       "<caption>A tibble: 6 × 20</caption>\n",
       "<thead>\n",
       "\t<tr><th scope=col>trend</th><th scope=col>spike</th><th scope=col>linearity</th><th scope=col>curvature</th><th scope=col>e_acf1</th><th scope=col>e_acf10</th><th scope=col>seasonal_strength1</th><th scope=col>seasonal_strength2</th><th scope=col>peak1</th><th scope=col>peak2</th><th scope=col>trough1</th><th scope=col>trough2</th><th scope=col>entropy</th><th scope=col>x_acf1</th><th scope=col>x_acf10</th><th scope=col>diff1_acf1</th><th scope=col>diff1_acf10</th><th scope=col>diff2_acf1</th><th scope=col>diff2_acf10</th><th scope=col>seas_acf1</th></tr>\n",
       "\t<tr><th scope=col>&lt;dbl&gt;</th><th scope=col>&lt;dbl&gt;</th><th scope=col>&lt;dbl&gt;</th><th scope=col>&lt;dbl&gt;</th><th scope=col>&lt;dbl&gt;</th><th scope=col>&lt;dbl&gt;</th><th scope=col>&lt;dbl&gt;</th><th scope=col>&lt;dbl&gt;</th><th scope=col>&lt;dbl&gt;</th><th scope=col>&lt;dbl&gt;</th><th scope=col>&lt;dbl&gt;</th><th scope=col>&lt;dbl&gt;</th><th scope=col>&lt;dbl&gt;</th><th scope=col>&lt;dbl&gt;</th><th scope=col>&lt;dbl&gt;</th><th scope=col>&lt;dbl&gt;</th><th scope=col>&lt;dbl&gt;</th><th scope=col>&lt;dbl&gt;</th><th scope=col>&lt;dbl&gt;</th><th scope=col>&lt;dbl&gt;</th></tr>\n",
       "</thead>\n",
       "<tbody>\n",
       "\t<tr><td>0.11873802</td><td>0.06236472</td><td>  94.46680</td><td>293.78410</td><td>0.3946537</td><td>0.6452961</td><td>0.9835165</td><td>0.9349537</td><td>36</td><td> 36</td><td>11</td><td>609</td><td>0.6782436</td><td>0.9786684</td><td>6.071303</td><td> 0.09955463</td><td>0.22923628</td><td>-0.6079489</td><td>0.3943768</td><td>0.8540087</td></tr>\n",
       "\t<tr><td>0.06271599</td><td>0.04976898</td><td>  47.65461</td><td>156.29639</td><td>0.4293463</td><td>0.3973220</td><td>0.9710983</td><td>0.8199788</td><td>59</td><td>349</td><td> 5</td><td>500</td><td>0.6536231</td><td>0.9701665</td><td>6.374971</td><td>-0.09903519</td><td>0.07000481</td><td>-0.6268296</td><td>0.4218419</td><td>0.8425866</td></tr>\n",
       "\t<tr><td>0.03671964</td><td>0.15966406</td><td>-131.59435</td><td> 59.98838</td><td>0.6731399</td><td>1.8163552</td><td>0.9656386</td><td>0.7743938</td><td>94</td><td>182</td><td>28</td><td>282</td><td>0.6275385</td><td>0.9787455</td><td>7.026316</td><td>-0.05976278</td><td>0.09157036</td><td>-0.6038060</td><td>0.3817030</td><td>0.8231161</td></tr>\n",
       "\t<tr><td>0.08678362</td><td>3.59837926</td><td>-665.51716</td><td>-40.91422</td><td>0.4426123</td><td>0.4621727</td><td>0.9815013</td><td>0.9112818</td><td>78</td><td>463</td><td>56</td><td>173</td><td>0.6499062</td><td>0.9801411</td><td>6.558471</td><td> 0.04096415</td><td>0.16818353</td><td>-0.6292484</td><td>0.4389144</td><td>0.8525582</td></tr>\n",
       "\t<tr><td>0.18428037</td><td>0.21968109</td><td>-432.29089</td><td>420.92339</td><td>0.4280693</td><td>0.5778573</td><td>0.9894138</td><td>0.9150570</td><td>69</td><td>531</td><td>31</td><td>435</td><td>0.5140402</td><td>0.9878141</td><td>7.655158</td><td> 0.01152159</td><td>0.24774998</td><td>-0.6334273</td><td>0.4354897</td><td>0.8565159</td></tr>\n",
       "\t<tr><td>0.18287555</td><td>0.79600912</td><td>-630.66720</td><td> 52.72775</td><td>0.5222042</td><td>0.7548893</td><td>0.9805565</td><td>0.8862463</td><td>27</td><td>612</td><td>64</td><td> 88</td><td>0.5680445</td><td>0.9834137</td><td>7.483912</td><td>-0.06527288</td><td>0.13048659</td><td>-0.6088053</td><td>0.3851671</td><td>0.8532984</td></tr>\n",
       "</tbody>\n",
       "</table>\n"
      ],
      "text/latex": [
       "A tibble: 6 × 20\n",
       "\\begin{tabular}{llllllllllllllllllll}\n",
       " trend & spike & linearity & curvature & e\\_acf1 & e\\_acf10 & seasonal\\_strength1 & seasonal\\_strength2 & peak1 & peak2 & trough1 & trough2 & entropy & x\\_acf1 & x\\_acf10 & diff1\\_acf1 & diff1\\_acf10 & diff2\\_acf1 & diff2\\_acf10 & seas\\_acf1\\\\\n",
       " <dbl> & <dbl> & <dbl> & <dbl> & <dbl> & <dbl> & <dbl> & <dbl> & <dbl> & <dbl> & <dbl> & <dbl> & <dbl> & <dbl> & <dbl> & <dbl> & <dbl> & <dbl> & <dbl> & <dbl>\\\\\n",
       "\\hline\n",
       "\t 0.11873802 & 0.06236472 &   94.46680 & 293.78410 & 0.3946537 & 0.6452961 & 0.9835165 & 0.9349537 & 36 &  36 & 11 & 609 & 0.6782436 & 0.9786684 & 6.071303 &  0.09955463 & 0.22923628 & -0.6079489 & 0.3943768 & 0.8540087\\\\\n",
       "\t 0.06271599 & 0.04976898 &   47.65461 & 156.29639 & 0.4293463 & 0.3973220 & 0.9710983 & 0.8199788 & 59 & 349 &  5 & 500 & 0.6536231 & 0.9701665 & 6.374971 & -0.09903519 & 0.07000481 & -0.6268296 & 0.4218419 & 0.8425866\\\\\n",
       "\t 0.03671964 & 0.15966406 & -131.59435 &  59.98838 & 0.6731399 & 1.8163552 & 0.9656386 & 0.7743938 & 94 & 182 & 28 & 282 & 0.6275385 & 0.9787455 & 7.026316 & -0.05976278 & 0.09157036 & -0.6038060 & 0.3817030 & 0.8231161\\\\\n",
       "\t 0.08678362 & 3.59837926 & -665.51716 & -40.91422 & 0.4426123 & 0.4621727 & 0.9815013 & 0.9112818 & 78 & 463 & 56 & 173 & 0.6499062 & 0.9801411 & 6.558471 &  0.04096415 & 0.16818353 & -0.6292484 & 0.4389144 & 0.8525582\\\\\n",
       "\t 0.18428037 & 0.21968109 & -432.29089 & 420.92339 & 0.4280693 & 0.5778573 & 0.9894138 & 0.9150570 & 69 & 531 & 31 & 435 & 0.5140402 & 0.9878141 & 7.655158 &  0.01152159 & 0.24774998 & -0.6334273 & 0.4354897 & 0.8565159\\\\\n",
       "\t 0.18287555 & 0.79600912 & -630.66720 &  52.72775 & 0.5222042 & 0.7548893 & 0.9805565 & 0.8862463 & 27 & 612 & 64 &  88 & 0.5680445 & 0.9834137 & 7.483912 & -0.06527288 & 0.13048659 & -0.6088053 & 0.3851671 & 0.8532984\\\\\n",
       "\\end{tabular}\n"
      ],
      "text/markdown": [
       "\n",
       "A tibble: 6 × 20\n",
       "\n",
       "| trend &lt;dbl&gt; | spike &lt;dbl&gt; | linearity &lt;dbl&gt; | curvature &lt;dbl&gt; | e_acf1 &lt;dbl&gt; | e_acf10 &lt;dbl&gt; | seasonal_strength1 &lt;dbl&gt; | seasonal_strength2 &lt;dbl&gt; | peak1 &lt;dbl&gt; | peak2 &lt;dbl&gt; | trough1 &lt;dbl&gt; | trough2 &lt;dbl&gt; | entropy &lt;dbl&gt; | x_acf1 &lt;dbl&gt; | x_acf10 &lt;dbl&gt; | diff1_acf1 &lt;dbl&gt; | diff1_acf10 &lt;dbl&gt; | diff2_acf1 &lt;dbl&gt; | diff2_acf10 &lt;dbl&gt; | seas_acf1 &lt;dbl&gt; |\n",
       "|---|---|---|---|---|---|---|---|---|---|---|---|---|---|---|---|---|---|---|---|\n",
       "| 0.11873802 | 0.06236472 |   94.46680 | 293.78410 | 0.3946537 | 0.6452961 | 0.9835165 | 0.9349537 | 36 |  36 | 11 | 609 | 0.6782436 | 0.9786684 | 6.071303 |  0.09955463 | 0.22923628 | -0.6079489 | 0.3943768 | 0.8540087 |\n",
       "| 0.06271599 | 0.04976898 |   47.65461 | 156.29639 | 0.4293463 | 0.3973220 | 0.9710983 | 0.8199788 | 59 | 349 |  5 | 500 | 0.6536231 | 0.9701665 | 6.374971 | -0.09903519 | 0.07000481 | -0.6268296 | 0.4218419 | 0.8425866 |\n",
       "| 0.03671964 | 0.15966406 | -131.59435 |  59.98838 | 0.6731399 | 1.8163552 | 0.9656386 | 0.7743938 | 94 | 182 | 28 | 282 | 0.6275385 | 0.9787455 | 7.026316 | -0.05976278 | 0.09157036 | -0.6038060 | 0.3817030 | 0.8231161 |\n",
       "| 0.08678362 | 3.59837926 | -665.51716 | -40.91422 | 0.4426123 | 0.4621727 | 0.9815013 | 0.9112818 | 78 | 463 | 56 | 173 | 0.6499062 | 0.9801411 | 6.558471 |  0.04096415 | 0.16818353 | -0.6292484 | 0.4389144 | 0.8525582 |\n",
       "| 0.18428037 | 0.21968109 | -432.29089 | 420.92339 | 0.4280693 | 0.5778573 | 0.9894138 | 0.9150570 | 69 | 531 | 31 | 435 | 0.5140402 | 0.9878141 | 7.655158 |  0.01152159 | 0.24774998 | -0.6334273 | 0.4354897 | 0.8565159 |\n",
       "| 0.18287555 | 0.79600912 | -630.66720 |  52.72775 | 0.5222042 | 0.7548893 | 0.9805565 | 0.8862463 | 27 | 612 | 64 |  88 | 0.5680445 | 0.9834137 | 7.483912 | -0.06527288 | 0.13048659 | -0.6088053 | 0.3851671 | 0.8532984 |\n",
       "\n"
      ],
      "text/plain": [
       "  trend      spike      linearity  curvature e_acf1    e_acf10  \n",
       "1 0.11873802 0.06236472   94.46680 293.78410 0.3946537 0.6452961\n",
       "2 0.06271599 0.04976898   47.65461 156.29639 0.4293463 0.3973220\n",
       "3 0.03671964 0.15966406 -131.59435  59.98838 0.6731399 1.8163552\n",
       "4 0.08678362 3.59837926 -665.51716 -40.91422 0.4426123 0.4621727\n",
       "5 0.18428037 0.21968109 -432.29089 420.92339 0.4280693 0.5778573\n",
       "6 0.18287555 0.79600912 -630.66720  52.72775 0.5222042 0.7548893\n",
       "  seasonal_strength1 seasonal_strength2 peak1 peak2 trough1 trough2 entropy  \n",
       "1 0.9835165          0.9349537          36     36   11      609     0.6782436\n",
       "2 0.9710983          0.8199788          59    349    5      500     0.6536231\n",
       "3 0.9656386          0.7743938          94    182   28      282     0.6275385\n",
       "4 0.9815013          0.9112818          78    463   56      173     0.6499062\n",
       "5 0.9894138          0.9150570          69    531   31      435     0.5140402\n",
       "6 0.9805565          0.8862463          27    612   64       88     0.5680445\n",
       "  x_acf1    x_acf10  diff1_acf1  diff1_acf10 diff2_acf1 diff2_acf10 seas_acf1\n",
       "1 0.9786684 6.071303  0.09955463 0.22923628  -0.6079489 0.3943768   0.8540087\n",
       "2 0.9701665 6.374971 -0.09903519 0.07000481  -0.6268296 0.4218419   0.8425866\n",
       "3 0.9787455 7.026316 -0.05976278 0.09157036  -0.6038060 0.3817030   0.8231161\n",
       "4 0.9801411 6.558471  0.04096415 0.16818353  -0.6292484 0.4389144   0.8525582\n",
       "5 0.9878141 7.655158  0.01152159 0.24774998  -0.6334273 0.4354897   0.8565159\n",
       "6 0.9834137 7.483912 -0.06527288 0.13048659  -0.6088053 0.3851671   0.8532984"
      ]
     },
     "metadata": {},
     "output_type": "display_data"
    }
   ],
   "source": [
    "head(tsfeat_orig)"
   ]
  },
  {
   "cell_type": "markdown",
   "id": "df6a6c1b",
   "metadata": {},
   "source": [
    "### Scale with Original Data"
   ]
  },
  {
   "cell_type": "code",
   "execution_count": 40,
   "id": "4130e789",
   "metadata": {},
   "outputs": [],
   "source": [
    "# Scale features to unit interval to be consistent with how we used Catch22 features\n",
    "ts_feat_list_df_scaled <- ts_feat_list"
   ]
  },
  {
   "cell_type": "code",
   "execution_count": 41,
   "id": "7f7cb869",
   "metadata": {},
   "outputs": [],
   "source": [
    "# Scale by looping through each feature and subtracting the min and dividing by the range\n",
    "for (n in 1:ncol(ts_feat_list_df_scaled)){\n",
    "    min_n <- min(tsfeat_orig[,n])\n",
    "    max_n <- max(tsfeat_orig[,n])\n",
    "    ts_feat_list_df_scaled[,n] <- (ts_feat_list_df_scaled[,n] - min_n)/(max_n - min_n)\n",
    "}"
   ]
  },
  {
   "cell_type": "code",
   "execution_count": 42,
   "id": "72578cc7",
   "metadata": {},
   "outputs": [
    {
     "name": "stderr",
     "output_type": "stream",
     "text": [
      "Warning message:\n",
      "“Setting row names on a tibble is deprecated.”\n"
     ]
    }
   ],
   "source": [
    "row.names(ts_feat_list_df_scaled) <- c(\"Obs1\", \"Obs2\", \"Obs3\", \"Obs4\")"
   ]
  },
  {
   "cell_type": "code",
   "execution_count": 43,
   "id": "c0ce3c4c",
   "metadata": {},
   "outputs": [
    {
     "data": {
      "text/html": [
       "<table class=\"dataframe\">\n",
       "<caption>A tibble: 4 × 20</caption>\n",
       "<thead>\n",
       "\t<tr><th></th><th scope=col>trend</th><th scope=col>spike</th><th scope=col>linearity</th><th scope=col>curvature</th><th scope=col>e_acf1</th><th scope=col>e_acf10</th><th scope=col>seasonal_strength1</th><th scope=col>seasonal_strength2</th><th scope=col>peak1</th><th scope=col>peak2</th><th scope=col>trough1</th><th scope=col>trough2</th><th scope=col>entropy</th><th scope=col>x_acf1</th><th scope=col>x_acf10</th><th scope=col>diff1_acf1</th><th scope=col>diff1_acf10</th><th scope=col>diff2_acf1</th><th scope=col>diff2_acf10</th><th scope=col>seas_acf1</th></tr>\n",
       "\t<tr><th></th><th scope=col>&lt;dbl&gt;</th><th scope=col>&lt;dbl&gt;</th><th scope=col>&lt;dbl&gt;</th><th scope=col>&lt;dbl&gt;</th><th scope=col>&lt;dbl&gt;</th><th scope=col>&lt;dbl&gt;</th><th scope=col>&lt;dbl&gt;</th><th scope=col>&lt;dbl&gt;</th><th scope=col>&lt;dbl&gt;</th><th scope=col>&lt;dbl&gt;</th><th scope=col>&lt;dbl&gt;</th><th scope=col>&lt;dbl&gt;</th><th scope=col>&lt;dbl&gt;</th><th scope=col>&lt;dbl&gt;</th><th scope=col>&lt;dbl&gt;</th><th scope=col>&lt;dbl&gt;</th><th scope=col>&lt;dbl&gt;</th><th scope=col>&lt;dbl&gt;</th><th scope=col>&lt;dbl&gt;</th><th scope=col>&lt;dbl&gt;</th></tr>\n",
       "</thead>\n",
       "<tbody>\n",
       "\t<tr><th scope=row>Obs1</th><td>0.06531620</td><td>0.0015432465</td><td>0.5488178</td><td>0.3851651</td><td>0.6073830</td><td>0.27477371</td><td>0.8834392</td><td>0.8018100</td><td>0.2315789</td><td>0.4593373</td><td>0.69473684</td><td>0.70543807</td><td>0.5073676</td><td>0.9363689</td><td>0.6715841</td><td>0.48118392</td><td>0.2280875</td><td> 0.04191902</td><td> 0.74266625</td><td>0.9420798</td></tr>\n",
       "\t<tr><th scope=row>Obs2</th><td>0.03573130</td><td>0.0001374648</td><td>0.5591864</td><td>0.3324083</td><td>0.1910468</td><td>0.06688443</td><td>0.8021373</td><td>0.6412603</td><td>0.2736842</td><td>0.2213855</td><td>0.86315789</td><td>0.44864048</td><td>0.2706641</td><td>0.8015453</td><td>0.8749556</td><td>0.08622823</td><td>0.3730314</td><td>-0.01893713</td><td> 0.74819554</td><td>0.9227002</td></tr>\n",
       "\t<tr><th scope=row>Obs3</th><td>0.04606229</td><td>0.0262612959</td><td>0.6707799</td><td>0.2792699</td><td>0.8372766</td><td>0.39483729</td><td>0.7623252</td><td>0.7048907</td><td>0.5263158</td><td>0.4472892</td><td>0.94736842</td><td>0.01208459</td><td>0.8023578</td><td>0.9263545</td><td>0.4309851</td><td>0.78418094</td><td>0.1789029</td><td> 0.45761820</td><td> 0.11893797</td><td>0.9011879</td></tr>\n",
       "\t<tr><th scope=row>Obs4</th><td>0.04174023</td><td>0.4205367967</td><td>0.4727058</td><td>0.4349062</td><td>0.7776264</td><td>0.26558939</td><td>0.8909112</td><td>0.8139608</td><td>0.6105263</td><td>0.1716867</td><td>0.02105263</td><td>0.75226586</td><td>0.5220801</td><td>0.9730882</td><td>0.7212637</td><td>0.86415148</td><td>0.2827647</td><td> 0.70214136</td><td>-0.07701204</td><td>0.9626485</td></tr>\n",
       "</tbody>\n",
       "</table>\n"
      ],
      "text/latex": [
       "A tibble: 4 × 20\n",
       "\\begin{tabular}{r|llllllllllllllllllll}\n",
       "  & trend & spike & linearity & curvature & e\\_acf1 & e\\_acf10 & seasonal\\_strength1 & seasonal\\_strength2 & peak1 & peak2 & trough1 & trough2 & entropy & x\\_acf1 & x\\_acf10 & diff1\\_acf1 & diff1\\_acf10 & diff2\\_acf1 & diff2\\_acf10 & seas\\_acf1\\\\\n",
       "  & <dbl> & <dbl> & <dbl> & <dbl> & <dbl> & <dbl> & <dbl> & <dbl> & <dbl> & <dbl> & <dbl> & <dbl> & <dbl> & <dbl> & <dbl> & <dbl> & <dbl> & <dbl> & <dbl> & <dbl>\\\\\n",
       "\\hline\n",
       "\tObs1 & 0.06531620 & 0.0015432465 & 0.5488178 & 0.3851651 & 0.6073830 & 0.27477371 & 0.8834392 & 0.8018100 & 0.2315789 & 0.4593373 & 0.69473684 & 0.70543807 & 0.5073676 & 0.9363689 & 0.6715841 & 0.48118392 & 0.2280875 &  0.04191902 &  0.74266625 & 0.9420798\\\\\n",
       "\tObs2 & 0.03573130 & 0.0001374648 & 0.5591864 & 0.3324083 & 0.1910468 & 0.06688443 & 0.8021373 & 0.6412603 & 0.2736842 & 0.2213855 & 0.86315789 & 0.44864048 & 0.2706641 & 0.8015453 & 0.8749556 & 0.08622823 & 0.3730314 & -0.01893713 &  0.74819554 & 0.9227002\\\\\n",
       "\tObs3 & 0.04606229 & 0.0262612959 & 0.6707799 & 0.2792699 & 0.8372766 & 0.39483729 & 0.7623252 & 0.7048907 & 0.5263158 & 0.4472892 & 0.94736842 & 0.01208459 & 0.8023578 & 0.9263545 & 0.4309851 & 0.78418094 & 0.1789029 &  0.45761820 &  0.11893797 & 0.9011879\\\\\n",
       "\tObs4 & 0.04174023 & 0.4205367967 & 0.4727058 & 0.4349062 & 0.7776264 & 0.26558939 & 0.8909112 & 0.8139608 & 0.6105263 & 0.1716867 & 0.02105263 & 0.75226586 & 0.5220801 & 0.9730882 & 0.7212637 & 0.86415148 & 0.2827647 &  0.70214136 & -0.07701204 & 0.9626485\\\\\n",
       "\\end{tabular}\n"
      ],
      "text/markdown": [
       "\n",
       "A tibble: 4 × 20\n",
       "\n",
       "| <!--/--> | trend &lt;dbl&gt; | spike &lt;dbl&gt; | linearity &lt;dbl&gt; | curvature &lt;dbl&gt; | e_acf1 &lt;dbl&gt; | e_acf10 &lt;dbl&gt; | seasonal_strength1 &lt;dbl&gt; | seasonal_strength2 &lt;dbl&gt; | peak1 &lt;dbl&gt; | peak2 &lt;dbl&gt; | trough1 &lt;dbl&gt; | trough2 &lt;dbl&gt; | entropy &lt;dbl&gt; | x_acf1 &lt;dbl&gt; | x_acf10 &lt;dbl&gt; | diff1_acf1 &lt;dbl&gt; | diff1_acf10 &lt;dbl&gt; | diff2_acf1 &lt;dbl&gt; | diff2_acf10 &lt;dbl&gt; | seas_acf1 &lt;dbl&gt; |\n",
       "|---|---|---|---|---|---|---|---|---|---|---|---|---|---|---|---|---|---|---|---|---|\n",
       "| Obs1 | 0.06531620 | 0.0015432465 | 0.5488178 | 0.3851651 | 0.6073830 | 0.27477371 | 0.8834392 | 0.8018100 | 0.2315789 | 0.4593373 | 0.69473684 | 0.70543807 | 0.5073676 | 0.9363689 | 0.6715841 | 0.48118392 | 0.2280875 |  0.04191902 |  0.74266625 | 0.9420798 |\n",
       "| Obs2 | 0.03573130 | 0.0001374648 | 0.5591864 | 0.3324083 | 0.1910468 | 0.06688443 | 0.8021373 | 0.6412603 | 0.2736842 | 0.2213855 | 0.86315789 | 0.44864048 | 0.2706641 | 0.8015453 | 0.8749556 | 0.08622823 | 0.3730314 | -0.01893713 |  0.74819554 | 0.9227002 |\n",
       "| Obs3 | 0.04606229 | 0.0262612959 | 0.6707799 | 0.2792699 | 0.8372766 | 0.39483729 | 0.7623252 | 0.7048907 | 0.5263158 | 0.4472892 | 0.94736842 | 0.01208459 | 0.8023578 | 0.9263545 | 0.4309851 | 0.78418094 | 0.1789029 |  0.45761820 |  0.11893797 | 0.9011879 |\n",
       "| Obs4 | 0.04174023 | 0.4205367967 | 0.4727058 | 0.4349062 | 0.7776264 | 0.26558939 | 0.8909112 | 0.8139608 | 0.6105263 | 0.1716867 | 0.02105263 | 0.75226586 | 0.5220801 | 0.9730882 | 0.7212637 | 0.86415148 | 0.2827647 |  0.70214136 | -0.07701204 | 0.9626485 |\n",
       "\n"
      ],
      "text/plain": [
       "     trend      spike        linearity curvature e_acf1    e_acf10   \n",
       "Obs1 0.06531620 0.0015432465 0.5488178 0.3851651 0.6073830 0.27477371\n",
       "Obs2 0.03573130 0.0001374648 0.5591864 0.3324083 0.1910468 0.06688443\n",
       "Obs3 0.04606229 0.0262612959 0.6707799 0.2792699 0.8372766 0.39483729\n",
       "Obs4 0.04174023 0.4205367967 0.4727058 0.4349062 0.7776264 0.26558939\n",
       "     seasonal_strength1 seasonal_strength2 peak1     peak2     trough1   \n",
       "Obs1 0.8834392          0.8018100          0.2315789 0.4593373 0.69473684\n",
       "Obs2 0.8021373          0.6412603          0.2736842 0.2213855 0.86315789\n",
       "Obs3 0.7623252          0.7048907          0.5263158 0.4472892 0.94736842\n",
       "Obs4 0.8909112          0.8139608          0.6105263 0.1716867 0.02105263\n",
       "     trough2    entropy   x_acf1    x_acf10   diff1_acf1 diff1_acf10\n",
       "Obs1 0.70543807 0.5073676 0.9363689 0.6715841 0.48118392 0.2280875  \n",
       "Obs2 0.44864048 0.2706641 0.8015453 0.8749556 0.08622823 0.3730314  \n",
       "Obs3 0.01208459 0.8023578 0.9263545 0.4309851 0.78418094 0.1789029  \n",
       "Obs4 0.75226586 0.5220801 0.9730882 0.7212637 0.86415148 0.2827647  \n",
       "     diff2_acf1  diff2_acf10 seas_acf1\n",
       "Obs1  0.04191902  0.74266625 0.9420798\n",
       "Obs2 -0.01893713  0.74819554 0.9227002\n",
       "Obs3  0.45761820  0.11893797 0.9011879\n",
       "Obs4  0.70214136 -0.07701204 0.9626485"
      ]
     },
     "metadata": {},
     "output_type": "display_data"
    }
   ],
   "source": [
    "ts_feat_list_df_scaled"
   ]
  },
  {
   "cell_type": "markdown",
   "id": "bad97759",
   "metadata": {},
   "source": [
    "## Load Original KMeans Cluster Assignments"
   ]
  },
  {
   "cell_type": "code",
   "execution_count": 44,
   "id": "c0d4c17e",
   "metadata": {},
   "outputs": [],
   "source": [
    "tsfeat_kmeans_orig <- readRDS(\"Results/Clustering/KMeans/kmeans_tsfeat.RData\")"
   ]
  },
  {
   "cell_type": "code",
   "execution_count": 45,
   "id": "8732497a",
   "metadata": {},
   "outputs": [
    {
     "data": {
      "text/plain": [
       "\n",
       " 1  2  3 \n",
       "31 38  7 "
      ]
     },
     "metadata": {},
     "output_type": "display_data"
    }
   ],
   "source": [
    "table(tsfeat_kmeans_orig$cluster)"
   ]
  },
  {
   "cell_type": "code",
   "execution_count": 46,
   "id": "1a3efe9b",
   "metadata": {},
   "outputs": [],
   "source": [
    "tsfeat_kmeans_orig_cent <- tsfeat_kmeans_orig$centers\n",
    "row.names(tsfeat_kmeans_orig_cent) <- c(\"Cent1\", \"Cent2\", \"Cent3\")"
   ]
  },
  {
   "cell_type": "code",
   "execution_count": 47,
   "id": "76dde758",
   "metadata": {},
   "outputs": [
    {
     "data": {
      "text/html": [
       "<table class=\"dataframe\">\n",
       "<caption>A matrix: 3 × 20 of type dbl</caption>\n",
       "<thead>\n",
       "\t<tr><th></th><th scope=col>trend</th><th scope=col>spike</th><th scope=col>linearity</th><th scope=col>curvature</th><th scope=col>e_acf1</th><th scope=col>e_acf10</th><th scope=col>seasonal_strength1</th><th scope=col>seasonal_strength2</th><th scope=col>peak1</th><th scope=col>peak2</th><th scope=col>trough1</th><th scope=col>trough2</th><th scope=col>entropy</th><th scope=col>x_acf1</th><th scope=col>x_acf10</th><th scope=col>diff1_acf1</th><th scope=col>diff1_acf10</th><th scope=col>diff2_acf1</th><th scope=col>diff2_acf10</th><th scope=col>seas_acf1</th></tr>\n",
       "</thead>\n",
       "<tbody>\n",
       "\t<tr><th scope=row>Cent1</th><td>0.1329332</td><td>0.04719421</td><td>0.4877631</td><td>0.3553232</td><td>0.5628416</td><td>0.2305220</td><td>0.8388081</td><td>0.7356241</td><td>0.7154499</td><td>0.5897785</td><td>0.2400679</td><td>0.5099893</td><td>0.5585438</td><td>0.9076115</td><td>0.6259838</td><td>0.5578621</td><td>0.2628959</td><td>0.28160866</td><td>0.3754016</td><td>0.9210310</td></tr>\n",
       "\t<tr><th scope=row>Cent2</th><td>0.1754622</td><td>0.01292286</td><td>0.5058397</td><td>0.3087586</td><td>0.5403710</td><td>0.2097876</td><td>0.8072581</td><td>0.7124736</td><td>0.2941828</td><td>0.4440393</td><td>0.7933518</td><td>0.5166561</td><td>0.5954719</td><td>0.8811117</td><td>0.6232551</td><td>0.5048795</td><td>0.2481050</td><td>0.27915207</td><td>0.3804945</td><td>0.9090777</td></tr>\n",
       "\t<tr><th scope=row>Cent3</th><td>0.4084417</td><td>0.14341019</td><td>0.6062414</td><td>0.5007258</td><td>0.4824639</td><td>0.3854115</td><td>0.2265813</td><td>0.1725436</td><td>0.5533835</td><td>0.5686317</td><td>0.4646617</td><td>0.3321105</td><td>0.7278745</td><td>0.4816146</td><td>0.5407494</td><td>0.1252272</td><td>0.3514962</td><td>0.07324611</td><td>0.6744657</td><td>0.4869311</td></tr>\n",
       "</tbody>\n",
       "</table>\n"
      ],
      "text/latex": [
       "A matrix: 3 × 20 of type dbl\n",
       "\\begin{tabular}{r|llllllllllllllllllll}\n",
       "  & trend & spike & linearity & curvature & e\\_acf1 & e\\_acf10 & seasonal\\_strength1 & seasonal\\_strength2 & peak1 & peak2 & trough1 & trough2 & entropy & x\\_acf1 & x\\_acf10 & diff1\\_acf1 & diff1\\_acf10 & diff2\\_acf1 & diff2\\_acf10 & seas\\_acf1\\\\\n",
       "\\hline\n",
       "\tCent1 & 0.1329332 & 0.04719421 & 0.4877631 & 0.3553232 & 0.5628416 & 0.2305220 & 0.8388081 & 0.7356241 & 0.7154499 & 0.5897785 & 0.2400679 & 0.5099893 & 0.5585438 & 0.9076115 & 0.6259838 & 0.5578621 & 0.2628959 & 0.28160866 & 0.3754016 & 0.9210310\\\\\n",
       "\tCent2 & 0.1754622 & 0.01292286 & 0.5058397 & 0.3087586 & 0.5403710 & 0.2097876 & 0.8072581 & 0.7124736 & 0.2941828 & 0.4440393 & 0.7933518 & 0.5166561 & 0.5954719 & 0.8811117 & 0.6232551 & 0.5048795 & 0.2481050 & 0.27915207 & 0.3804945 & 0.9090777\\\\\n",
       "\tCent3 & 0.4084417 & 0.14341019 & 0.6062414 & 0.5007258 & 0.4824639 & 0.3854115 & 0.2265813 & 0.1725436 & 0.5533835 & 0.5686317 & 0.4646617 & 0.3321105 & 0.7278745 & 0.4816146 & 0.5407494 & 0.1252272 & 0.3514962 & 0.07324611 & 0.6744657 & 0.4869311\\\\\n",
       "\\end{tabular}\n"
      ],
      "text/markdown": [
       "\n",
       "A matrix: 3 × 20 of type dbl\n",
       "\n",
       "| <!--/--> | trend | spike | linearity | curvature | e_acf1 | e_acf10 | seasonal_strength1 | seasonal_strength2 | peak1 | peak2 | trough1 | trough2 | entropy | x_acf1 | x_acf10 | diff1_acf1 | diff1_acf10 | diff2_acf1 | diff2_acf10 | seas_acf1 |\n",
       "|---|---|---|---|---|---|---|---|---|---|---|---|---|---|---|---|---|---|---|---|---|\n",
       "| Cent1 | 0.1329332 | 0.04719421 | 0.4877631 | 0.3553232 | 0.5628416 | 0.2305220 | 0.8388081 | 0.7356241 | 0.7154499 | 0.5897785 | 0.2400679 | 0.5099893 | 0.5585438 | 0.9076115 | 0.6259838 | 0.5578621 | 0.2628959 | 0.28160866 | 0.3754016 | 0.9210310 |\n",
       "| Cent2 | 0.1754622 | 0.01292286 | 0.5058397 | 0.3087586 | 0.5403710 | 0.2097876 | 0.8072581 | 0.7124736 | 0.2941828 | 0.4440393 | 0.7933518 | 0.5166561 | 0.5954719 | 0.8811117 | 0.6232551 | 0.5048795 | 0.2481050 | 0.27915207 | 0.3804945 | 0.9090777 |\n",
       "| Cent3 | 0.4084417 | 0.14341019 | 0.6062414 | 0.5007258 | 0.4824639 | 0.3854115 | 0.2265813 | 0.1725436 | 0.5533835 | 0.5686317 | 0.4646617 | 0.3321105 | 0.7278745 | 0.4816146 | 0.5407494 | 0.1252272 | 0.3514962 | 0.07324611 | 0.6744657 | 0.4869311 |\n",
       "\n"
      ],
      "text/plain": [
       "      trend     spike      linearity curvature e_acf1    e_acf10  \n",
       "Cent1 0.1329332 0.04719421 0.4877631 0.3553232 0.5628416 0.2305220\n",
       "Cent2 0.1754622 0.01292286 0.5058397 0.3087586 0.5403710 0.2097876\n",
       "Cent3 0.4084417 0.14341019 0.6062414 0.5007258 0.4824639 0.3854115\n",
       "      seasonal_strength1 seasonal_strength2 peak1     peak2     trough1  \n",
       "Cent1 0.8388081          0.7356241          0.7154499 0.5897785 0.2400679\n",
       "Cent2 0.8072581          0.7124736          0.2941828 0.4440393 0.7933518\n",
       "Cent3 0.2265813          0.1725436          0.5533835 0.5686317 0.4646617\n",
       "      trough2   entropy   x_acf1    x_acf10   diff1_acf1 diff1_acf10 diff2_acf1\n",
       "Cent1 0.5099893 0.5585438 0.9076115 0.6259838 0.5578621  0.2628959   0.28160866\n",
       "Cent2 0.5166561 0.5954719 0.8811117 0.6232551 0.5048795  0.2481050   0.27915207\n",
       "Cent3 0.3321105 0.7278745 0.4816146 0.5407494 0.1252272  0.3514962   0.07324611\n",
       "      diff2_acf10 seas_acf1\n",
       "Cent1 0.3754016   0.9210310\n",
       "Cent2 0.3804945   0.9090777\n",
       "Cent3 0.6744657   0.4869311"
      ]
     },
     "metadata": {},
     "output_type": "display_data"
    }
   ],
   "source": [
    "tsfeat_kmeans_orig_cent"
   ]
  },
  {
   "cell_type": "code",
   "execution_count": 48,
   "id": "8cb168c1",
   "metadata": {},
   "outputs": [
    {
     "data": {
      "text/html": [
       "<table class=\"dataframe\">\n",
       "<caption>A matrix: 4 × 3 of type dbl</caption>\n",
       "<thead>\n",
       "\t<tr><th></th><th scope=col>Cent1</th><th scope=col>Cent2</th><th scope=col>Cent3</th></tr>\n",
       "</thead>\n",
       "<tbody>\n",
       "\t<tr><th scope=row>Obs1</th><td>0.8503253</td><td>0.5427822</td><td>1.394589</td></tr>\n",
       "\t<tr><th scope=row>Obs2</th><td>1.2391158</td><td>0.9057814</td><td>1.388316</td></tr>\n",
       "\t<tr><th scope=row>Obs3</th><td>1.1017591</td><td>0.8755676</td><td>1.597775</td></tr>\n",
       "\t<tr><th scope=row>Obs4</th><td>0.9975524</td><td>1.2840490</td><td>1.943081</td></tr>\n",
       "</tbody>\n",
       "</table>\n"
      ],
      "text/latex": [
       "A matrix: 4 × 3 of type dbl\n",
       "\\begin{tabular}{r|lll}\n",
       "  & Cent1 & Cent2 & Cent3\\\\\n",
       "\\hline\n",
       "\tObs1 & 0.8503253 & 0.5427822 & 1.394589\\\\\n",
       "\tObs2 & 1.2391158 & 0.9057814 & 1.388316\\\\\n",
       "\tObs3 & 1.1017591 & 0.8755676 & 1.597775\\\\\n",
       "\tObs4 & 0.9975524 & 1.2840490 & 1.943081\\\\\n",
       "\\end{tabular}\n"
      ],
      "text/markdown": [
       "\n",
       "A matrix: 4 × 3 of type dbl\n",
       "\n",
       "| <!--/--> | Cent1 | Cent2 | Cent3 |\n",
       "|---|---|---|---|\n",
       "| Obs1 | 0.8503253 | 0.5427822 | 1.394589 |\n",
       "| Obs2 | 1.2391158 | 0.9057814 | 1.388316 |\n",
       "| Obs3 | 1.1017591 | 0.8755676 | 1.597775 |\n",
       "| Obs4 | 0.9975524 | 1.2840490 | 1.943081 |\n",
       "\n"
      ],
      "text/plain": [
       "     Cent1     Cent2     Cent3   \n",
       "Obs1 0.8503253 0.5427822 1.394589\n",
       "Obs2 1.2391158 0.9057814 1.388316\n",
       "Obs3 1.1017591 0.8755676 1.597775\n",
       "Obs4 0.9975524 1.2840490 1.943081"
      ]
     },
     "metadata": {},
     "output_type": "display_data"
    }
   ],
   "source": [
    "as.matrix(dist(rbind(tsfeat_kmeans_orig_cent, ts_feat_list_df_scaled)))[4:7, 1:3]"
   ]
  },
  {
   "cell_type": "code",
   "execution_count": 49,
   "id": "4999abc0",
   "metadata": {},
   "outputs": [],
   "source": [
    "tsfeat_clust_assign <- c(2, 2, 2, 1)"
   ]
  },
  {
   "cell_type": "markdown",
   "id": "40dea48e",
   "metadata": {},
   "source": [
    "# DTW Clustering"
   ]
  },
  {
   "cell_type": "markdown",
   "id": "da6cfec7",
   "metadata": {},
   "source": [
    "## Read in Original Clustering Results"
   ]
  },
  {
   "cell_type": "code",
   "execution_count": 50,
   "id": "17f4e9bb",
   "metadata": {},
   "outputs": [],
   "source": [
    "dtw_orig <- readRDS(\"Results/Clustering/DTW/dtw_clust.RData\")"
   ]
  },
  {
   "cell_type": "code",
   "execution_count": 51,
   "id": "6f647f1f",
   "metadata": {},
   "outputs": [
    {
     "data": {
      "text/plain": [
       "partitional clustering with 2 clusters\n",
       "Using dtw_basic distance\n",
       "Using pam centroids\n",
       "\n",
       "Time required for analysis:\n",
       "    user   system  elapsed \n",
       "2129.618    0.251  135.383 \n",
       "\n",
       "Cluster sizes with average intra-cluster distance:\n",
       "\n",
       "  size  av_dist\n",
       "1   25 444242.1\n",
       "2   51 198995.3"
      ]
     },
     "metadata": {},
     "output_type": "display_data"
    }
   ],
   "source": [
    "dtw_orig"
   ]
  },
  {
   "cell_type": "code",
   "execution_count": 52,
   "id": "1345c5fb",
   "metadata": {},
   "outputs": [],
   "source": [
    "dtw_orig_cent <- dtw_orig@centroids"
   ]
  },
  {
   "cell_type": "markdown",
   "id": "5c3f973f",
   "metadata": {},
   "source": [
    "### Read in Original Data to Determine which TS are the Centroids"
   ]
  },
  {
   "cell_type": "code",
   "execution_count": 53,
   "id": "402e50ad",
   "metadata": {},
   "outputs": [
    {
     "name": "stderr",
     "output_type": "stream",
     "text": [
      "\u001b[1mRows: \u001b[22m\u001b[34m35040\u001b[39m \u001b[1mColumns: \u001b[22m\u001b[34m10\u001b[39m\n",
      "\u001b[36m──\u001b[39m \u001b[1mColumn specification\u001b[22m \u001b[36m────────────────────────────────────────────────────────\u001b[39m\n",
      "\u001b[1mDelimiter:\u001b[22m \",\"\n",
      "\u001b[31mchr\u001b[39m  (1): site_name\n",
      "\u001b[32mdbl\u001b[39m  (5): day_of_week, day_of_year, interval_of_day, avg_mph, total_volume\n",
      "\u001b[33mlgl\u001b[39m  (2): missing_speed, missing_volume\n",
      "\u001b[34mdttm\u001b[39m (1): timestamp\n",
      "\u001b[34mdate\u001b[39m (1): date\n",
      "\n",
      "\u001b[36mℹ\u001b[39m Use `spec()` to retrieve the full column specification for this data.\n",
      "\u001b[36mℹ\u001b[39m Specify the column types or set `show_col_types = FALSE` to quiet this message.\n",
      "\u001b[1mRows: \u001b[22m\u001b[34m35040\u001b[39m \u001b[1mColumns: \u001b[22m\u001b[34m10\u001b[39m\n",
      "\u001b[36m──\u001b[39m \u001b[1mColumn specification\u001b[22m \u001b[36m────────────────────────────────────────────────────────\u001b[39m\n",
      "\u001b[1mDelimiter:\u001b[22m \",\"\n",
      "\u001b[31mchr\u001b[39m  (1): site_name\n",
      "\u001b[32mdbl\u001b[39m  (5): day_of_week, day_of_year, interval_of_day, avg_mph, total_volume\n",
      "\u001b[33mlgl\u001b[39m  (2): missing_speed, missing_volume\n",
      "\u001b[34mdttm\u001b[39m (1): timestamp\n",
      "\u001b[34mdate\u001b[39m (1): date\n",
      "\n",
      "\u001b[36mℹ\u001b[39m Use `spec()` to retrieve the full column specification for this data.\n",
      "\u001b[36mℹ\u001b[39m Specify the column types or set `show_col_types = FALSE` to quiet this message.\n",
      "\u001b[1mRows: \u001b[22m\u001b[34m35040\u001b[39m \u001b[1mColumns: \u001b[22m\u001b[34m10\u001b[39m\n",
      "\u001b[36m──\u001b[39m \u001b[1mColumn specification\u001b[22m \u001b[36m────────────────────────────────────────────────────────\u001b[39m\n",
      "\u001b[1mDelimiter:\u001b[22m \",\"\n",
      "\u001b[31mchr\u001b[39m  (1): site_name\n",
      "\u001b[32mdbl\u001b[39m  (5): day_of_week, day_of_year, interval_of_day, avg_mph, total_volume\n",
      "\u001b[33mlgl\u001b[39m  (2): missing_speed, missing_volume\n",
      "\u001b[34mdttm\u001b[39m (1): timestamp\n",
      "\u001b[34mdate\u001b[39m (1): date\n",
      "\n",
      "\u001b[36mℹ\u001b[39m Use `spec()` to retrieve the full column specification for this data.\n",
      "\u001b[36mℹ\u001b[39m Specify the column types or set `show_col_types = FALSE` to quiet this message.\n",
      "\u001b[1mRows: \u001b[22m\u001b[34m35040\u001b[39m \u001b[1mColumns: \u001b[22m\u001b[34m10\u001b[39m\n",
      "\u001b[36m──\u001b[39m \u001b[1mColumn specification\u001b[22m \u001b[36m────────────────────────────────────────────────────────\u001b[39m\n",
      "\u001b[1mDelimiter:\u001b[22m \",\"\n",
      "\u001b[31mchr\u001b[39m  (1): site_name\n",
      "\u001b[32mdbl\u001b[39m  (5): day_of_week, day_of_year, interval_of_day, avg_mph, total_volume\n",
      "\u001b[33mlgl\u001b[39m  (2): missing_speed, missing_volume\n",
      "\u001b[34mdttm\u001b[39m (1): timestamp\n",
      "\u001b[34mdate\u001b[39m (1): date\n",
      "\n",
      "\u001b[36mℹ\u001b[39m Use `spec()` to retrieve the full column specification for this data.\n",
      "\u001b[36mℹ\u001b[39m Specify the column types or set `show_col_types = FALSE` to quiet this message.\n",
      "\u001b[1mRows: \u001b[22m\u001b[34m35040\u001b[39m \u001b[1mColumns: \u001b[22m\u001b[34m10\u001b[39m\n",
      "\u001b[36m──\u001b[39m \u001b[1mColumn specification\u001b[22m \u001b[36m────────────────────────────────────────────────────────\u001b[39m\n",
      "\u001b[1mDelimiter:\u001b[22m \",\"\n",
      "\u001b[31mchr\u001b[39m  (1): site_name\n",
      "\u001b[32mdbl\u001b[39m  (5): day_of_week, day_of_year, interval_of_day, avg_mph, total_volume\n",
      "\u001b[33mlgl\u001b[39m  (2): missing_speed, missing_volume\n",
      "\u001b[34mdttm\u001b[39m (1): timestamp\n",
      "\u001b[34mdate\u001b[39m (1): date\n",
      "\n",
      "\u001b[36mℹ\u001b[39m Use `spec()` to retrieve the full column specification for this data.\n",
      "\u001b[36mℹ\u001b[39m Specify the column types or set `show_col_types = FALSE` to quiet this message.\n",
      "\u001b[1mRows: \u001b[22m\u001b[34m35040\u001b[39m \u001b[1mColumns: \u001b[22m\u001b[34m10\u001b[39m\n",
      "\u001b[36m──\u001b[39m \u001b[1mColumn specification\u001b[22m \u001b[36m────────────────────────────────────────────────────────\u001b[39m\n",
      "\u001b[1mDelimiter:\u001b[22m \",\"\n",
      "\u001b[31mchr\u001b[39m  (1): site_name\n",
      "\u001b[32mdbl\u001b[39m  (5): day_of_week, day_of_year, interval_of_day, avg_mph, total_volume\n",
      "\u001b[33mlgl\u001b[39m  (2): missing_speed, missing_volume\n",
      "\u001b[34mdttm\u001b[39m (1): timestamp\n",
      "\u001b[34mdate\u001b[39m (1): date\n",
      "\n",
      "\u001b[36mℹ\u001b[39m Use `spec()` to retrieve the full column specification for this data.\n",
      "\u001b[36mℹ\u001b[39m Specify the column types or set `show_col_types = FALSE` to quiet this message.\n",
      "\u001b[1mRows: \u001b[22m\u001b[34m35040\u001b[39m \u001b[1mColumns: \u001b[22m\u001b[34m10\u001b[39m\n",
      "\u001b[36m──\u001b[39m \u001b[1mColumn specification\u001b[22m \u001b[36m────────────────────────────────────────────────────────\u001b[39m\n",
      "\u001b[1mDelimiter:\u001b[22m \",\"\n",
      "\u001b[31mchr\u001b[39m  (1): site_name\n",
      "\u001b[32mdbl\u001b[39m  (5): day_of_week, day_of_year, interval_of_day, avg_mph, total_volume\n",
      "\u001b[33mlgl\u001b[39m  (2): missing_speed, missing_volume\n",
      "\u001b[34mdttm\u001b[39m (1): timestamp\n",
      "\u001b[34mdate\u001b[39m (1): date\n",
      "\n",
      "\u001b[36mℹ\u001b[39m Use `spec()` to retrieve the full column specification for this data.\n",
      "\u001b[36mℹ\u001b[39m Specify the column types or set `show_col_types = FALSE` to quiet this message.\n",
      "\u001b[1mRows: \u001b[22m\u001b[34m35040\u001b[39m \u001b[1mColumns: \u001b[22m\u001b[34m10\u001b[39m\n",
      "\u001b[36m──\u001b[39m \u001b[1mColumn specification\u001b[22m \u001b[36m────────────────────────────────────────────────────────\u001b[39m\n",
      "\u001b[1mDelimiter:\u001b[22m \",\"\n",
      "\u001b[31mchr\u001b[39m  (1): site_name\n",
      "\u001b[32mdbl\u001b[39m  (5): day_of_week, day_of_year, interval_of_day, avg_mph, total_volume\n",
      "\u001b[33mlgl\u001b[39m  (2): missing_speed, missing_volume\n",
      "\u001b[34mdttm\u001b[39m (1): timestamp\n",
      "\u001b[34mdate\u001b[39m (1): date\n",
      "\n",
      "\u001b[36mℹ\u001b[39m Use `spec()` to retrieve the full column specification for this data.\n",
      "\u001b[36mℹ\u001b[39m Specify the column types or set `show_col_types = FALSE` to quiet this message.\n",
      "\u001b[1mRows: \u001b[22m\u001b[34m35040\u001b[39m \u001b[1mColumns: \u001b[22m\u001b[34m10\u001b[39m\n",
      "\u001b[36m──\u001b[39m \u001b[1mColumn specification\u001b[22m \u001b[36m────────────────────────────────────────────────────────\u001b[39m\n",
      "\u001b[1mDelimiter:\u001b[22m \",\"\n",
      "\u001b[31mchr\u001b[39m  (1): site_name\n",
      "\u001b[32mdbl\u001b[39m  (5): day_of_week, day_of_year, interval_of_day, avg_mph, total_volume\n",
      "\u001b[33mlgl\u001b[39m  (2): missing_speed, missing_volume\n",
      "\u001b[34mdttm\u001b[39m (1): timestamp\n",
      "\u001b[34mdate\u001b[39m (1): date\n",
      "\n",
      "\u001b[36mℹ\u001b[39m Use `spec()` to retrieve the full column specification for this data.\n",
      "\u001b[36mℹ\u001b[39m Specify the column types or set `show_col_types = FALSE` to quiet this message.\n",
      "\u001b[1mRows: \u001b[22m\u001b[34m35040\u001b[39m \u001b[1mColumns: \u001b[22m\u001b[34m10\u001b[39m\n",
      "\u001b[36m──\u001b[39m \u001b[1mColumn specification\u001b[22m \u001b[36m────────────────────────────────────────────────────────\u001b[39m\n",
      "\u001b[1mDelimiter:\u001b[22m \",\"\n",
      "\u001b[31mchr\u001b[39m  (1): site_name\n",
      "\u001b[32mdbl\u001b[39m  (5): day_of_week, day_of_year, interval_of_day, avg_mph, total_volume\n",
      "\u001b[33mlgl\u001b[39m  (2): missing_speed, missing_volume\n",
      "\u001b[34mdttm\u001b[39m (1): timestamp\n",
      "\u001b[34mdate\u001b[39m (1): date\n",
      "\n",
      "\u001b[36mℹ\u001b[39m Use `spec()` to retrieve the full column specification for this data.\n",
      "\u001b[36mℹ\u001b[39m Specify the column types or set `show_col_types = FALSE` to quiet this message.\n",
      "\u001b[1mRows: \u001b[22m\u001b[34m35040\u001b[39m \u001b[1mColumns: \u001b[22m\u001b[34m10\u001b[39m\n",
      "\u001b[36m──\u001b[39m \u001b[1mColumn specification\u001b[22m \u001b[36m────────────────────────────────────────────────────────\u001b[39m\n",
      "\u001b[1mDelimiter:\u001b[22m \",\"\n",
      "\u001b[31mchr\u001b[39m  (1): site_name\n",
      "\u001b[32mdbl\u001b[39m  (5): day_of_week, day_of_year, interval_of_day, avg_mph, total_volume\n",
      "\u001b[33mlgl\u001b[39m  (2): missing_speed, missing_volume\n",
      "\u001b[34mdttm\u001b[39m (1): timestamp\n",
      "\u001b[34mdate\u001b[39m (1): date\n",
      "\n",
      "\u001b[36mℹ\u001b[39m Use `spec()` to retrieve the full column specification for this data.\n",
      "\u001b[36mℹ\u001b[39m Specify the column types or set `show_col_types = FALSE` to quiet this message.\n",
      "\u001b[1mRows: \u001b[22m\u001b[34m35040\u001b[39m \u001b[1mColumns: \u001b[22m\u001b[34m10\u001b[39m\n",
      "\u001b[36m──\u001b[39m \u001b[1mColumn specification\u001b[22m \u001b[36m────────────────────────────────────────────────────────\u001b[39m\n",
      "\u001b[1mDelimiter:\u001b[22m \",\"\n",
      "\u001b[31mchr\u001b[39m  (1): site_name\n",
      "\u001b[32mdbl\u001b[39m  (5): day_of_week, day_of_year, interval_of_day, avg_mph, total_volume\n",
      "\u001b[33mlgl\u001b[39m  (2): missing_speed, missing_volume\n",
      "\u001b[34mdttm\u001b[39m (1): timestamp\n",
      "\u001b[34mdate\u001b[39m (1): date\n",
      "\n",
      "\u001b[36mℹ\u001b[39m Use `spec()` to retrieve the full column specification for this data.\n",
      "\u001b[36mℹ\u001b[39m Specify the column types or set `show_col_types = FALSE` to quiet this message.\n",
      "\u001b[1mRows: \u001b[22m\u001b[34m35040\u001b[39m \u001b[1mColumns: \u001b[22m\u001b[34m10\u001b[39m\n",
      "\u001b[36m──\u001b[39m \u001b[1mColumn specification\u001b[22m \u001b[36m────────────────────────────────────────────────────────\u001b[39m\n",
      "\u001b[1mDelimiter:\u001b[22m \",\"\n",
      "\u001b[31mchr\u001b[39m  (1): site_name\n",
      "\u001b[32mdbl\u001b[39m  (5): day_of_week, day_of_year, interval_of_day, avg_mph, total_volume\n",
      "\u001b[33mlgl\u001b[39m  (2): missing_speed, missing_volume\n",
      "\u001b[34mdttm\u001b[39m (1): timestamp\n",
      "\u001b[34mdate\u001b[39m (1): date\n",
      "\n",
      "\u001b[36mℹ\u001b[39m Use `spec()` to retrieve the full column specification for this data.\n",
      "\u001b[36mℹ\u001b[39m Specify the column types or set `show_col_types = FALSE` to quiet this message.\n",
      "\u001b[1mRows: \u001b[22m\u001b[34m35040\u001b[39m \u001b[1mColumns: \u001b[22m\u001b[34m10\u001b[39m\n",
      "\u001b[36m──\u001b[39m \u001b[1mColumn specification\u001b[22m \u001b[36m────────────────────────────────────────────────────────\u001b[39m\n",
      "\u001b[1mDelimiter:\u001b[22m \",\"\n",
      "\u001b[31mchr\u001b[39m  (1): site_name\n",
      "\u001b[32mdbl\u001b[39m  (5): day_of_week, day_of_year, interval_of_day, avg_mph, total_volume\n",
      "\u001b[33mlgl\u001b[39m  (2): missing_speed, missing_volume\n",
      "\u001b[34mdttm\u001b[39m (1): timestamp\n",
      "\u001b[34mdate\u001b[39m (1): date\n",
      "\n",
      "\u001b[36mℹ\u001b[39m Use `spec()` to retrieve the full column specification for this data.\n",
      "\u001b[36mℹ\u001b[39m Specify the column types or set `show_col_types = FALSE` to quiet this message.\n"
     ]
    },
    {
     "name": "stderr",
     "output_type": "stream",
     "text": [
      "\u001b[1mRows: \u001b[22m\u001b[34m35040\u001b[39m \u001b[1mColumns: \u001b[22m\u001b[34m10\u001b[39m\n",
      "\u001b[36m──\u001b[39m \u001b[1mColumn specification\u001b[22m \u001b[36m────────────────────────────────────────────────────────\u001b[39m\n",
      "\u001b[1mDelimiter:\u001b[22m \",\"\n",
      "\u001b[31mchr\u001b[39m  (1): site_name\n",
      "\u001b[32mdbl\u001b[39m  (5): day_of_week, day_of_year, interval_of_day, avg_mph, total_volume\n",
      "\u001b[33mlgl\u001b[39m  (2): missing_speed, missing_volume\n",
      "\u001b[34mdttm\u001b[39m (1): timestamp\n",
      "\u001b[34mdate\u001b[39m (1): date\n",
      "\n",
      "\u001b[36mℹ\u001b[39m Use `spec()` to retrieve the full column specification for this data.\n",
      "\u001b[36mℹ\u001b[39m Specify the column types or set `show_col_types = FALSE` to quiet this message.\n",
      "\u001b[1mRows: \u001b[22m\u001b[34m35040\u001b[39m \u001b[1mColumns: \u001b[22m\u001b[34m10\u001b[39m\n",
      "\u001b[36m──\u001b[39m \u001b[1mColumn specification\u001b[22m \u001b[36m────────────────────────────────────────────────────────\u001b[39m\n",
      "\u001b[1mDelimiter:\u001b[22m \",\"\n",
      "\u001b[31mchr\u001b[39m  (1): site_name\n",
      "\u001b[32mdbl\u001b[39m  (5): day_of_week, day_of_year, interval_of_day, avg_mph, total_volume\n",
      "\u001b[33mlgl\u001b[39m  (2): missing_speed, missing_volume\n",
      "\u001b[34mdttm\u001b[39m (1): timestamp\n",
      "\u001b[34mdate\u001b[39m (1): date\n",
      "\n",
      "\u001b[36mℹ\u001b[39m Use `spec()` to retrieve the full column specification for this data.\n",
      "\u001b[36mℹ\u001b[39m Specify the column types or set `show_col_types = FALSE` to quiet this message.\n",
      "\u001b[1mRows: \u001b[22m\u001b[34m35040\u001b[39m \u001b[1mColumns: \u001b[22m\u001b[34m10\u001b[39m\n",
      "\u001b[36m──\u001b[39m \u001b[1mColumn specification\u001b[22m \u001b[36m────────────────────────────────────────────────────────\u001b[39m\n",
      "\u001b[1mDelimiter:\u001b[22m \",\"\n",
      "\u001b[31mchr\u001b[39m  (1): site_name\n",
      "\u001b[32mdbl\u001b[39m  (5): day_of_week, day_of_year, interval_of_day, avg_mph, total_volume\n",
      "\u001b[33mlgl\u001b[39m  (2): missing_speed, missing_volume\n",
      "\u001b[34mdttm\u001b[39m (1): timestamp\n",
      "\u001b[34mdate\u001b[39m (1): date\n",
      "\n",
      "\u001b[36mℹ\u001b[39m Use `spec()` to retrieve the full column specification for this data.\n",
      "\u001b[36mℹ\u001b[39m Specify the column types or set `show_col_types = FALSE` to quiet this message.\n",
      "\u001b[1mRows: \u001b[22m\u001b[34m35040\u001b[39m \u001b[1mColumns: \u001b[22m\u001b[34m10\u001b[39m\n",
      "\u001b[36m──\u001b[39m \u001b[1mColumn specification\u001b[22m \u001b[36m────────────────────────────────────────────────────────\u001b[39m\n",
      "\u001b[1mDelimiter:\u001b[22m \",\"\n",
      "\u001b[31mchr\u001b[39m  (1): site_name\n",
      "\u001b[32mdbl\u001b[39m  (5): day_of_week, day_of_year, interval_of_day, avg_mph, total_volume\n",
      "\u001b[33mlgl\u001b[39m  (2): missing_speed, missing_volume\n",
      "\u001b[34mdttm\u001b[39m (1): timestamp\n",
      "\u001b[34mdate\u001b[39m (1): date\n",
      "\n",
      "\u001b[36mℹ\u001b[39m Use `spec()` to retrieve the full column specification for this data.\n",
      "\u001b[36mℹ\u001b[39m Specify the column types or set `show_col_types = FALSE` to quiet this message.\n",
      "\u001b[1mRows: \u001b[22m\u001b[34m35040\u001b[39m \u001b[1mColumns: \u001b[22m\u001b[34m10\u001b[39m\n",
      "\u001b[36m──\u001b[39m \u001b[1mColumn specification\u001b[22m \u001b[36m────────────────────────────────────────────────────────\u001b[39m\n",
      "\u001b[1mDelimiter:\u001b[22m \",\"\n",
      "\u001b[31mchr\u001b[39m  (1): site_name\n",
      "\u001b[32mdbl\u001b[39m  (5): day_of_week, day_of_year, interval_of_day, avg_mph, total_volume\n",
      "\u001b[33mlgl\u001b[39m  (2): missing_speed, missing_volume\n",
      "\u001b[34mdttm\u001b[39m (1): timestamp\n",
      "\u001b[34mdate\u001b[39m (1): date\n",
      "\n",
      "\u001b[36mℹ\u001b[39m Use `spec()` to retrieve the full column specification for this data.\n",
      "\u001b[36mℹ\u001b[39m Specify the column types or set `show_col_types = FALSE` to quiet this message.\n",
      "\u001b[1mRows: \u001b[22m\u001b[34m35040\u001b[39m \u001b[1mColumns: \u001b[22m\u001b[34m10\u001b[39m\n",
      "\u001b[36m──\u001b[39m \u001b[1mColumn specification\u001b[22m \u001b[36m────────────────────────────────────────────────────────\u001b[39m\n",
      "\u001b[1mDelimiter:\u001b[22m \",\"\n",
      "\u001b[31mchr\u001b[39m  (1): site_name\n",
      "\u001b[32mdbl\u001b[39m  (5): day_of_week, day_of_year, interval_of_day, avg_mph, total_volume\n",
      "\u001b[33mlgl\u001b[39m  (2): missing_speed, missing_volume\n",
      "\u001b[34mdttm\u001b[39m (1): timestamp\n",
      "\u001b[34mdate\u001b[39m (1): date\n",
      "\n",
      "\u001b[36mℹ\u001b[39m Use `spec()` to retrieve the full column specification for this data.\n",
      "\u001b[36mℹ\u001b[39m Specify the column types or set `show_col_types = FALSE` to quiet this message.\n",
      "\u001b[1mRows: \u001b[22m\u001b[34m35040\u001b[39m \u001b[1mColumns: \u001b[22m\u001b[34m10\u001b[39m\n",
      "\u001b[36m──\u001b[39m \u001b[1mColumn specification\u001b[22m \u001b[36m────────────────────────────────────────────────────────\u001b[39m\n",
      "\u001b[1mDelimiter:\u001b[22m \",\"\n",
      "\u001b[31mchr\u001b[39m  (1): site_name\n",
      "\u001b[32mdbl\u001b[39m  (5): day_of_week, day_of_year, interval_of_day, avg_mph, total_volume\n",
      "\u001b[33mlgl\u001b[39m  (2): missing_speed, missing_volume\n",
      "\u001b[34mdttm\u001b[39m (1): timestamp\n",
      "\u001b[34mdate\u001b[39m (1): date\n",
      "\n",
      "\u001b[36mℹ\u001b[39m Use `spec()` to retrieve the full column specification for this data.\n",
      "\u001b[36mℹ\u001b[39m Specify the column types or set `show_col_types = FALSE` to quiet this message.\n",
      "\u001b[1mRows: \u001b[22m\u001b[34m35040\u001b[39m \u001b[1mColumns: \u001b[22m\u001b[34m10\u001b[39m\n",
      "\u001b[36m──\u001b[39m \u001b[1mColumn specification\u001b[22m \u001b[36m────────────────────────────────────────────────────────\u001b[39m\n",
      "\u001b[1mDelimiter:\u001b[22m \",\"\n",
      "\u001b[31mchr\u001b[39m  (1): site_name\n",
      "\u001b[32mdbl\u001b[39m  (5): day_of_week, day_of_year, interval_of_day, avg_mph, total_volume\n",
      "\u001b[33mlgl\u001b[39m  (2): missing_speed, missing_volume\n",
      "\u001b[34mdttm\u001b[39m (1): timestamp\n",
      "\u001b[34mdate\u001b[39m (1): date\n",
      "\n",
      "\u001b[36mℹ\u001b[39m Use `spec()` to retrieve the full column specification for this data.\n",
      "\u001b[36mℹ\u001b[39m Specify the column types or set `show_col_types = FALSE` to quiet this message.\n",
      "\u001b[1mRows: \u001b[22m\u001b[34m35040\u001b[39m \u001b[1mColumns: \u001b[22m\u001b[34m10\u001b[39m\n",
      "\u001b[36m──\u001b[39m \u001b[1mColumn specification\u001b[22m \u001b[36m────────────────────────────────────────────────────────\u001b[39m\n",
      "\u001b[1mDelimiter:\u001b[22m \",\"\n",
      "\u001b[31mchr\u001b[39m  (1): site_name\n",
      "\u001b[32mdbl\u001b[39m  (5): day_of_week, day_of_year, interval_of_day, avg_mph, total_volume\n",
      "\u001b[33mlgl\u001b[39m  (2): missing_speed, missing_volume\n",
      "\u001b[34mdttm\u001b[39m (1): timestamp\n",
      "\u001b[34mdate\u001b[39m (1): date\n",
      "\n",
      "\u001b[36mℹ\u001b[39m Use `spec()` to retrieve the full column specification for this data.\n",
      "\u001b[36mℹ\u001b[39m Specify the column types or set `show_col_types = FALSE` to quiet this message.\n",
      "\u001b[1mRows: \u001b[22m\u001b[34m35040\u001b[39m \u001b[1mColumns: \u001b[22m\u001b[34m10\u001b[39m\n",
      "\u001b[36m──\u001b[39m \u001b[1mColumn specification\u001b[22m \u001b[36m────────────────────────────────────────────────────────\u001b[39m\n",
      "\u001b[1mDelimiter:\u001b[22m \",\"\n",
      "\u001b[31mchr\u001b[39m  (1): site_name\n",
      "\u001b[32mdbl\u001b[39m  (5): day_of_week, day_of_year, interval_of_day, avg_mph, total_volume\n",
      "\u001b[33mlgl\u001b[39m  (2): missing_speed, missing_volume\n",
      "\u001b[34mdttm\u001b[39m (1): timestamp\n",
      "\u001b[34mdate\u001b[39m (1): date\n",
      "\n",
      "\u001b[36mℹ\u001b[39m Use `spec()` to retrieve the full column specification for this data.\n",
      "\u001b[36mℹ\u001b[39m Specify the column types or set `show_col_types = FALSE` to quiet this message.\n",
      "\u001b[1mRows: \u001b[22m\u001b[34m35040\u001b[39m \u001b[1mColumns: \u001b[22m\u001b[34m10\u001b[39m\n",
      "\u001b[36m──\u001b[39m \u001b[1mColumn specification\u001b[22m \u001b[36m────────────────────────────────────────────────────────\u001b[39m\n",
      "\u001b[1mDelimiter:\u001b[22m \",\"\n",
      "\u001b[31mchr\u001b[39m  (1): site_name\n",
      "\u001b[32mdbl\u001b[39m  (5): day_of_week, day_of_year, interval_of_day, avg_mph, total_volume\n",
      "\u001b[33mlgl\u001b[39m  (2): missing_speed, missing_volume\n",
      "\u001b[34mdttm\u001b[39m (1): timestamp\n",
      "\u001b[34mdate\u001b[39m (1): date\n",
      "\n",
      "\u001b[36mℹ\u001b[39m Use `spec()` to retrieve the full column specification for this data.\n",
      "\u001b[36mℹ\u001b[39m Specify the column types or set `show_col_types = FALSE` to quiet this message.\n",
      "\u001b[1mRows: \u001b[22m\u001b[34m35040\u001b[39m \u001b[1mColumns: \u001b[22m\u001b[34m10\u001b[39m\n",
      "\u001b[36m──\u001b[39m \u001b[1mColumn specification\u001b[22m \u001b[36m────────────────────────────────────────────────────────\u001b[39m\n",
      "\u001b[1mDelimiter:\u001b[22m \",\"\n",
      "\u001b[31mchr\u001b[39m  (1): site_name\n",
      "\u001b[32mdbl\u001b[39m  (5): day_of_week, day_of_year, interval_of_day, avg_mph, total_volume\n",
      "\u001b[33mlgl\u001b[39m  (2): missing_speed, missing_volume\n",
      "\u001b[34mdttm\u001b[39m (1): timestamp\n",
      "\u001b[34mdate\u001b[39m (1): date\n",
      "\n",
      "\u001b[36mℹ\u001b[39m Use `spec()` to retrieve the full column specification for this data.\n",
      "\u001b[36mℹ\u001b[39m Specify the column types or set `show_col_types = FALSE` to quiet this message.\n",
      "\u001b[1mRows: \u001b[22m\u001b[34m35040\u001b[39m \u001b[1mColumns: \u001b[22m\u001b[34m10\u001b[39m\n",
      "\u001b[36m──\u001b[39m \u001b[1mColumn specification\u001b[22m \u001b[36m────────────────────────────────────────────────────────\u001b[39m\n",
      "\u001b[1mDelimiter:\u001b[22m \",\"\n",
      "\u001b[31mchr\u001b[39m  (1): site_name\n",
      "\u001b[32mdbl\u001b[39m  (5): day_of_week, day_of_year, interval_of_day, avg_mph, total_volume\n",
      "\u001b[33mlgl\u001b[39m  (2): missing_speed, missing_volume\n",
      "\u001b[34mdttm\u001b[39m (1): timestamp\n",
      "\u001b[34mdate\u001b[39m (1): date\n",
      "\n",
      "\u001b[36mℹ\u001b[39m Use `spec()` to retrieve the full column specification for this data.\n",
      "\u001b[36mℹ\u001b[39m Specify the column types or set `show_col_types = FALSE` to quiet this message.\n",
      "\u001b[1mRows: \u001b[22m\u001b[34m35040\u001b[39m \u001b[1mColumns: \u001b[22m\u001b[34m10\u001b[39m\n",
      "\u001b[36m──\u001b[39m \u001b[1mColumn specification\u001b[22m \u001b[36m────────────────────────────────────────────────────────\u001b[39m\n",
      "\u001b[1mDelimiter:\u001b[22m \",\"\n",
      "\u001b[31mchr\u001b[39m  (1): site_name\n",
      "\u001b[32mdbl\u001b[39m  (5): day_of_week, day_of_year, interval_of_day, avg_mph, total_volume\n",
      "\u001b[33mlgl\u001b[39m  (2): missing_speed, missing_volume\n",
      "\u001b[34mdttm\u001b[39m (1): timestamp\n",
      "\u001b[34mdate\u001b[39m (1): date\n",
      "\n",
      "\u001b[36mℹ\u001b[39m Use `spec()` to retrieve the full column specification for this data.\n",
      "\u001b[36mℹ\u001b[39m Specify the column types or set `show_col_types = FALSE` to quiet this message.\n"
     ]
    },
    {
     "name": "stderr",
     "output_type": "stream",
     "text": [
      "\u001b[1mRows: \u001b[22m\u001b[34m35040\u001b[39m \u001b[1mColumns: \u001b[22m\u001b[34m10\u001b[39m\n",
      "\u001b[36m──\u001b[39m \u001b[1mColumn specification\u001b[22m \u001b[36m────────────────────────────────────────────────────────\u001b[39m\n",
      "\u001b[1mDelimiter:\u001b[22m \",\"\n",
      "\u001b[31mchr\u001b[39m  (1): site_name\n",
      "\u001b[32mdbl\u001b[39m  (5): day_of_week, day_of_year, interval_of_day, avg_mph, total_volume\n",
      "\u001b[33mlgl\u001b[39m  (2): missing_speed, missing_volume\n",
      "\u001b[34mdttm\u001b[39m (1): timestamp\n",
      "\u001b[34mdate\u001b[39m (1): date\n",
      "\n",
      "\u001b[36mℹ\u001b[39m Use `spec()` to retrieve the full column specification for this data.\n",
      "\u001b[36mℹ\u001b[39m Specify the column types or set `show_col_types = FALSE` to quiet this message.\n",
      "\u001b[1mRows: \u001b[22m\u001b[34m35040\u001b[39m \u001b[1mColumns: \u001b[22m\u001b[34m10\u001b[39m\n",
      "\u001b[36m──\u001b[39m \u001b[1mColumn specification\u001b[22m \u001b[36m────────────────────────────────────────────────────────\u001b[39m\n",
      "\u001b[1mDelimiter:\u001b[22m \",\"\n",
      "\u001b[31mchr\u001b[39m  (1): site_name\n",
      "\u001b[32mdbl\u001b[39m  (5): day_of_week, day_of_year, interval_of_day, avg_mph, total_volume\n",
      "\u001b[33mlgl\u001b[39m  (2): missing_speed, missing_volume\n",
      "\u001b[34mdttm\u001b[39m (1): timestamp\n",
      "\u001b[34mdate\u001b[39m (1): date\n",
      "\n",
      "\u001b[36mℹ\u001b[39m Use `spec()` to retrieve the full column specification for this data.\n",
      "\u001b[36mℹ\u001b[39m Specify the column types or set `show_col_types = FALSE` to quiet this message.\n",
      "\u001b[1mRows: \u001b[22m\u001b[34m35040\u001b[39m \u001b[1mColumns: \u001b[22m\u001b[34m10\u001b[39m\n",
      "\u001b[36m──\u001b[39m \u001b[1mColumn specification\u001b[22m \u001b[36m────────────────────────────────────────────────────────\u001b[39m\n",
      "\u001b[1mDelimiter:\u001b[22m \",\"\n",
      "\u001b[31mchr\u001b[39m  (1): site_name\n",
      "\u001b[32mdbl\u001b[39m  (5): day_of_week, day_of_year, interval_of_day, avg_mph, total_volume\n",
      "\u001b[33mlgl\u001b[39m  (2): missing_speed, missing_volume\n",
      "\u001b[34mdttm\u001b[39m (1): timestamp\n",
      "\u001b[34mdate\u001b[39m (1): date\n",
      "\n",
      "\u001b[36mℹ\u001b[39m Use `spec()` to retrieve the full column specification for this data.\n",
      "\u001b[36mℹ\u001b[39m Specify the column types or set `show_col_types = FALSE` to quiet this message.\n",
      "\u001b[1mRows: \u001b[22m\u001b[34m35040\u001b[39m \u001b[1mColumns: \u001b[22m\u001b[34m10\u001b[39m\n",
      "\u001b[36m──\u001b[39m \u001b[1mColumn specification\u001b[22m \u001b[36m────────────────────────────────────────────────────────\u001b[39m\n",
      "\u001b[1mDelimiter:\u001b[22m \",\"\n",
      "\u001b[31mchr\u001b[39m  (1): site_name\n",
      "\u001b[32mdbl\u001b[39m  (5): day_of_week, day_of_year, interval_of_day, avg_mph, total_volume\n",
      "\u001b[33mlgl\u001b[39m  (2): missing_speed, missing_volume\n",
      "\u001b[34mdttm\u001b[39m (1): timestamp\n",
      "\u001b[34mdate\u001b[39m (1): date\n",
      "\n",
      "\u001b[36mℹ\u001b[39m Use `spec()` to retrieve the full column specification for this data.\n",
      "\u001b[36mℹ\u001b[39m Specify the column types or set `show_col_types = FALSE` to quiet this message.\n",
      "\u001b[1mRows: \u001b[22m\u001b[34m35040\u001b[39m \u001b[1mColumns: \u001b[22m\u001b[34m10\u001b[39m\n",
      "\u001b[36m──\u001b[39m \u001b[1mColumn specification\u001b[22m \u001b[36m────────────────────────────────────────────────────────\u001b[39m\n",
      "\u001b[1mDelimiter:\u001b[22m \",\"\n",
      "\u001b[31mchr\u001b[39m  (1): site_name\n",
      "\u001b[32mdbl\u001b[39m  (5): day_of_week, day_of_year, interval_of_day, avg_mph, total_volume\n",
      "\u001b[33mlgl\u001b[39m  (2): missing_speed, missing_volume\n",
      "\u001b[34mdttm\u001b[39m (1): timestamp\n",
      "\u001b[34mdate\u001b[39m (1): date\n",
      "\n",
      "\u001b[36mℹ\u001b[39m Use `spec()` to retrieve the full column specification for this data.\n",
      "\u001b[36mℹ\u001b[39m Specify the column types or set `show_col_types = FALSE` to quiet this message.\n",
      "\u001b[1mRows: \u001b[22m\u001b[34m35040\u001b[39m \u001b[1mColumns: \u001b[22m\u001b[34m10\u001b[39m\n",
      "\u001b[36m──\u001b[39m \u001b[1mColumn specification\u001b[22m \u001b[36m────────────────────────────────────────────────────────\u001b[39m\n",
      "\u001b[1mDelimiter:\u001b[22m \",\"\n",
      "\u001b[31mchr\u001b[39m  (1): site_name\n",
      "\u001b[32mdbl\u001b[39m  (5): day_of_week, day_of_year, interval_of_day, avg_mph, total_volume\n",
      "\u001b[33mlgl\u001b[39m  (2): missing_speed, missing_volume\n",
      "\u001b[34mdttm\u001b[39m (1): timestamp\n",
      "\u001b[34mdate\u001b[39m (1): date\n",
      "\n",
      "\u001b[36mℹ\u001b[39m Use `spec()` to retrieve the full column specification for this data.\n",
      "\u001b[36mℹ\u001b[39m Specify the column types or set `show_col_types = FALSE` to quiet this message.\n",
      "\u001b[1mRows: \u001b[22m\u001b[34m35040\u001b[39m \u001b[1mColumns: \u001b[22m\u001b[34m10\u001b[39m\n",
      "\u001b[36m──\u001b[39m \u001b[1mColumn specification\u001b[22m \u001b[36m────────────────────────────────────────────────────────\u001b[39m\n",
      "\u001b[1mDelimiter:\u001b[22m \",\"\n",
      "\u001b[31mchr\u001b[39m  (1): site_name\n",
      "\u001b[32mdbl\u001b[39m  (5): day_of_week, day_of_year, interval_of_day, avg_mph, total_volume\n",
      "\u001b[33mlgl\u001b[39m  (2): missing_speed, missing_volume\n",
      "\u001b[34mdttm\u001b[39m (1): timestamp\n",
      "\u001b[34mdate\u001b[39m (1): date\n",
      "\n",
      "\u001b[36mℹ\u001b[39m Use `spec()` to retrieve the full column specification for this data.\n",
      "\u001b[36mℹ\u001b[39m Specify the column types or set `show_col_types = FALSE` to quiet this message.\n",
      "\u001b[1mRows: \u001b[22m\u001b[34m35040\u001b[39m \u001b[1mColumns: \u001b[22m\u001b[34m10\u001b[39m\n",
      "\u001b[36m──\u001b[39m \u001b[1mColumn specification\u001b[22m \u001b[36m────────────────────────────────────────────────────────\u001b[39m\n",
      "\u001b[1mDelimiter:\u001b[22m \",\"\n",
      "\u001b[31mchr\u001b[39m  (1): site_name\n",
      "\u001b[32mdbl\u001b[39m  (5): day_of_week, day_of_year, interval_of_day, avg_mph, total_volume\n",
      "\u001b[33mlgl\u001b[39m  (2): missing_speed, missing_volume\n",
      "\u001b[34mdttm\u001b[39m (1): timestamp\n",
      "\u001b[34mdate\u001b[39m (1): date\n",
      "\n",
      "\u001b[36mℹ\u001b[39m Use `spec()` to retrieve the full column specification for this data.\n",
      "\u001b[36mℹ\u001b[39m Specify the column types or set `show_col_types = FALSE` to quiet this message.\n",
      "\u001b[1mRows: \u001b[22m\u001b[34m35040\u001b[39m \u001b[1mColumns: \u001b[22m\u001b[34m10\u001b[39m\n",
      "\u001b[36m──\u001b[39m \u001b[1mColumn specification\u001b[22m \u001b[36m────────────────────────────────────────────────────────\u001b[39m\n",
      "\u001b[1mDelimiter:\u001b[22m \",\"\n",
      "\u001b[31mchr\u001b[39m  (1): site_name\n",
      "\u001b[32mdbl\u001b[39m  (5): day_of_week, day_of_year, interval_of_day, avg_mph, total_volume\n",
      "\u001b[33mlgl\u001b[39m  (2): missing_speed, missing_volume\n",
      "\u001b[34mdttm\u001b[39m (1): timestamp\n",
      "\u001b[34mdate\u001b[39m (1): date\n",
      "\n",
      "\u001b[36mℹ\u001b[39m Use `spec()` to retrieve the full column specification for this data.\n",
      "\u001b[36mℹ\u001b[39m Specify the column types or set `show_col_types = FALSE` to quiet this message.\n",
      "\u001b[1mRows: \u001b[22m\u001b[34m35040\u001b[39m \u001b[1mColumns: \u001b[22m\u001b[34m10\u001b[39m\n",
      "\u001b[36m──\u001b[39m \u001b[1mColumn specification\u001b[22m \u001b[36m────────────────────────────────────────────────────────\u001b[39m\n",
      "\u001b[1mDelimiter:\u001b[22m \",\"\n",
      "\u001b[31mchr\u001b[39m  (1): site_name\n",
      "\u001b[32mdbl\u001b[39m  (5): day_of_week, day_of_year, interval_of_day, avg_mph, total_volume\n",
      "\u001b[33mlgl\u001b[39m  (2): missing_speed, missing_volume\n",
      "\u001b[34mdttm\u001b[39m (1): timestamp\n",
      "\u001b[34mdate\u001b[39m (1): date\n",
      "\n",
      "\u001b[36mℹ\u001b[39m Use `spec()` to retrieve the full column specification for this data.\n",
      "\u001b[36mℹ\u001b[39m Specify the column types or set `show_col_types = FALSE` to quiet this message.\n",
      "\u001b[1mRows: \u001b[22m\u001b[34m35040\u001b[39m \u001b[1mColumns: \u001b[22m\u001b[34m10\u001b[39m\n",
      "\u001b[36m──\u001b[39m \u001b[1mColumn specification\u001b[22m \u001b[36m────────────────────────────────────────────────────────\u001b[39m\n",
      "\u001b[1mDelimiter:\u001b[22m \",\"\n",
      "\u001b[31mchr\u001b[39m  (1): site_name\n",
      "\u001b[32mdbl\u001b[39m  (5): day_of_week, day_of_year, interval_of_day, avg_mph, total_volume\n",
      "\u001b[33mlgl\u001b[39m  (2): missing_speed, missing_volume\n",
      "\u001b[34mdttm\u001b[39m (1): timestamp\n",
      "\u001b[34mdate\u001b[39m (1): date\n",
      "\n",
      "\u001b[36mℹ\u001b[39m Use `spec()` to retrieve the full column specification for this data.\n",
      "\u001b[36mℹ\u001b[39m Specify the column types or set `show_col_types = FALSE` to quiet this message.\n",
      "\u001b[1mRows: \u001b[22m\u001b[34m35040\u001b[39m \u001b[1mColumns: \u001b[22m\u001b[34m10\u001b[39m\n",
      "\u001b[36m──\u001b[39m \u001b[1mColumn specification\u001b[22m \u001b[36m────────────────────────────────────────────────────────\u001b[39m\n",
      "\u001b[1mDelimiter:\u001b[22m \",\"\n",
      "\u001b[31mchr\u001b[39m  (1): site_name\n",
      "\u001b[32mdbl\u001b[39m  (5): day_of_week, day_of_year, interval_of_day, avg_mph, total_volume\n",
      "\u001b[33mlgl\u001b[39m  (2): missing_speed, missing_volume\n",
      "\u001b[34mdttm\u001b[39m (1): timestamp\n",
      "\u001b[34mdate\u001b[39m (1): date\n",
      "\n",
      "\u001b[36mℹ\u001b[39m Use `spec()` to retrieve the full column specification for this data.\n",
      "\u001b[36mℹ\u001b[39m Specify the column types or set `show_col_types = FALSE` to quiet this message.\n",
      "\u001b[1mRows: \u001b[22m\u001b[34m35040\u001b[39m \u001b[1mColumns: \u001b[22m\u001b[34m10\u001b[39m\n",
      "\u001b[36m──\u001b[39m \u001b[1mColumn specification\u001b[22m \u001b[36m────────────────────────────────────────────────────────\u001b[39m\n",
      "\u001b[1mDelimiter:\u001b[22m \",\"\n",
      "\u001b[31mchr\u001b[39m  (1): site_name\n",
      "\u001b[32mdbl\u001b[39m  (5): day_of_week, day_of_year, interval_of_day, avg_mph, total_volume\n",
      "\u001b[33mlgl\u001b[39m  (2): missing_speed, missing_volume\n",
      "\u001b[34mdttm\u001b[39m (1): timestamp\n",
      "\u001b[34mdate\u001b[39m (1): date\n",
      "\n",
      "\u001b[36mℹ\u001b[39m Use `spec()` to retrieve the full column specification for this data.\n",
      "\u001b[36mℹ\u001b[39m Specify the column types or set `show_col_types = FALSE` to quiet this message.\n",
      "\u001b[1mRows: \u001b[22m\u001b[34m35040\u001b[39m \u001b[1mColumns: \u001b[22m\u001b[34m10\u001b[39m\n",
      "\u001b[36m──\u001b[39m \u001b[1mColumn specification\u001b[22m \u001b[36m────────────────────────────────────────────────────────\u001b[39m\n",
      "\u001b[1mDelimiter:\u001b[22m \",\"\n",
      "\u001b[31mchr\u001b[39m  (1): site_name\n",
      "\u001b[32mdbl\u001b[39m  (5): day_of_week, day_of_year, interval_of_day, avg_mph, total_volume\n",
      "\u001b[33mlgl\u001b[39m  (2): missing_speed, missing_volume\n",
      "\u001b[34mdttm\u001b[39m (1): timestamp\n",
      "\u001b[34mdate\u001b[39m (1): date\n",
      "\n",
      "\u001b[36mℹ\u001b[39m Use `spec()` to retrieve the full column specification for this data.\n",
      "\u001b[36mℹ\u001b[39m Specify the column types or set `show_col_types = FALSE` to quiet this message.\n"
     ]
    },
    {
     "name": "stderr",
     "output_type": "stream",
     "text": [
      "\u001b[1mRows: \u001b[22m\u001b[34m35040\u001b[39m \u001b[1mColumns: \u001b[22m\u001b[34m10\u001b[39m\n",
      "\u001b[36m──\u001b[39m \u001b[1mColumn specification\u001b[22m \u001b[36m────────────────────────────────────────────────────────\u001b[39m\n",
      "\u001b[1mDelimiter:\u001b[22m \",\"\n",
      "\u001b[31mchr\u001b[39m  (1): site_name\n",
      "\u001b[32mdbl\u001b[39m  (5): day_of_week, day_of_year, interval_of_day, avg_mph, total_volume\n",
      "\u001b[33mlgl\u001b[39m  (2): missing_speed, missing_volume\n",
      "\u001b[34mdttm\u001b[39m (1): timestamp\n",
      "\u001b[34mdate\u001b[39m (1): date\n",
      "\n",
      "\u001b[36mℹ\u001b[39m Use `spec()` to retrieve the full column specification for this data.\n",
      "\u001b[36mℹ\u001b[39m Specify the column types or set `show_col_types = FALSE` to quiet this message.\n",
      "\u001b[1mRows: \u001b[22m\u001b[34m35040\u001b[39m \u001b[1mColumns: \u001b[22m\u001b[34m10\u001b[39m\n",
      "\u001b[36m──\u001b[39m \u001b[1mColumn specification\u001b[22m \u001b[36m────────────────────────────────────────────────────────\u001b[39m\n",
      "\u001b[1mDelimiter:\u001b[22m \",\"\n",
      "\u001b[31mchr\u001b[39m  (1): site_name\n",
      "\u001b[32mdbl\u001b[39m  (5): day_of_week, day_of_year, interval_of_day, avg_mph, total_volume\n",
      "\u001b[33mlgl\u001b[39m  (2): missing_speed, missing_volume\n",
      "\u001b[34mdttm\u001b[39m (1): timestamp\n",
      "\u001b[34mdate\u001b[39m (1): date\n",
      "\n",
      "\u001b[36mℹ\u001b[39m Use `spec()` to retrieve the full column specification for this data.\n",
      "\u001b[36mℹ\u001b[39m Specify the column types or set `show_col_types = FALSE` to quiet this message.\n",
      "\u001b[1mRows: \u001b[22m\u001b[34m35040\u001b[39m \u001b[1mColumns: \u001b[22m\u001b[34m10\u001b[39m\n",
      "\u001b[36m──\u001b[39m \u001b[1mColumn specification\u001b[22m \u001b[36m────────────────────────────────────────────────────────\u001b[39m\n",
      "\u001b[1mDelimiter:\u001b[22m \",\"\n",
      "\u001b[31mchr\u001b[39m  (1): site_name\n",
      "\u001b[32mdbl\u001b[39m  (5): day_of_week, day_of_year, interval_of_day, avg_mph, total_volume\n",
      "\u001b[33mlgl\u001b[39m  (2): missing_speed, missing_volume\n",
      "\u001b[34mdttm\u001b[39m (1): timestamp\n",
      "\u001b[34mdate\u001b[39m (1): date\n",
      "\n",
      "\u001b[36mℹ\u001b[39m Use `spec()` to retrieve the full column specification for this data.\n",
      "\u001b[36mℹ\u001b[39m Specify the column types or set `show_col_types = FALSE` to quiet this message.\n",
      "\u001b[1mRows: \u001b[22m\u001b[34m35040\u001b[39m \u001b[1mColumns: \u001b[22m\u001b[34m10\u001b[39m\n",
      "\u001b[36m──\u001b[39m \u001b[1mColumn specification\u001b[22m \u001b[36m────────────────────────────────────────────────────────\u001b[39m\n",
      "\u001b[1mDelimiter:\u001b[22m \",\"\n",
      "\u001b[31mchr\u001b[39m  (1): site_name\n",
      "\u001b[32mdbl\u001b[39m  (5): day_of_week, day_of_year, interval_of_day, avg_mph, total_volume\n",
      "\u001b[33mlgl\u001b[39m  (2): missing_speed, missing_volume\n",
      "\u001b[34mdttm\u001b[39m (1): timestamp\n",
      "\u001b[34mdate\u001b[39m (1): date\n",
      "\n",
      "\u001b[36mℹ\u001b[39m Use `spec()` to retrieve the full column specification for this data.\n",
      "\u001b[36mℹ\u001b[39m Specify the column types or set `show_col_types = FALSE` to quiet this message.\n",
      "\u001b[1mRows: \u001b[22m\u001b[34m35040\u001b[39m \u001b[1mColumns: \u001b[22m\u001b[34m10\u001b[39m\n",
      "\u001b[36m──\u001b[39m \u001b[1mColumn specification\u001b[22m \u001b[36m────────────────────────────────────────────────────────\u001b[39m\n",
      "\u001b[1mDelimiter:\u001b[22m \",\"\n",
      "\u001b[31mchr\u001b[39m  (1): site_name\n",
      "\u001b[32mdbl\u001b[39m  (5): day_of_week, day_of_year, interval_of_day, avg_mph, total_volume\n",
      "\u001b[33mlgl\u001b[39m  (2): missing_speed, missing_volume\n",
      "\u001b[34mdttm\u001b[39m (1): timestamp\n",
      "\u001b[34mdate\u001b[39m (1): date\n",
      "\n",
      "\u001b[36mℹ\u001b[39m Use `spec()` to retrieve the full column specification for this data.\n",
      "\u001b[36mℹ\u001b[39m Specify the column types or set `show_col_types = FALSE` to quiet this message.\n",
      "\u001b[1mRows: \u001b[22m\u001b[34m35040\u001b[39m \u001b[1mColumns: \u001b[22m\u001b[34m10\u001b[39m\n",
      "\u001b[36m──\u001b[39m \u001b[1mColumn specification\u001b[22m \u001b[36m────────────────────────────────────────────────────────\u001b[39m\n",
      "\u001b[1mDelimiter:\u001b[22m \",\"\n",
      "\u001b[31mchr\u001b[39m  (1): site_name\n",
      "\u001b[32mdbl\u001b[39m  (5): day_of_week, day_of_year, interval_of_day, avg_mph, total_volume\n",
      "\u001b[33mlgl\u001b[39m  (2): missing_speed, missing_volume\n",
      "\u001b[34mdttm\u001b[39m (1): timestamp\n",
      "\u001b[34mdate\u001b[39m (1): date\n",
      "\n",
      "\u001b[36mℹ\u001b[39m Use `spec()` to retrieve the full column specification for this data.\n",
      "\u001b[36mℹ\u001b[39m Specify the column types or set `show_col_types = FALSE` to quiet this message.\n",
      "\u001b[1mRows: \u001b[22m\u001b[34m35040\u001b[39m \u001b[1mColumns: \u001b[22m\u001b[34m10\u001b[39m\n",
      "\u001b[36m──\u001b[39m \u001b[1mColumn specification\u001b[22m \u001b[36m────────────────────────────────────────────────────────\u001b[39m\n",
      "\u001b[1mDelimiter:\u001b[22m \",\"\n",
      "\u001b[31mchr\u001b[39m  (1): site_name\n",
      "\u001b[32mdbl\u001b[39m  (5): day_of_week, day_of_year, interval_of_day, avg_mph, total_volume\n",
      "\u001b[33mlgl\u001b[39m  (2): missing_speed, missing_volume\n",
      "\u001b[34mdttm\u001b[39m (1): timestamp\n",
      "\u001b[34mdate\u001b[39m (1): date\n",
      "\n",
      "\u001b[36mℹ\u001b[39m Use `spec()` to retrieve the full column specification for this data.\n",
      "\u001b[36mℹ\u001b[39m Specify the column types or set `show_col_types = FALSE` to quiet this message.\n",
      "\u001b[1mRows: \u001b[22m\u001b[34m35040\u001b[39m \u001b[1mColumns: \u001b[22m\u001b[34m10\u001b[39m\n",
      "\u001b[36m──\u001b[39m \u001b[1mColumn specification\u001b[22m \u001b[36m────────────────────────────────────────────────────────\u001b[39m\n",
      "\u001b[1mDelimiter:\u001b[22m \",\"\n",
      "\u001b[31mchr\u001b[39m  (1): site_name\n",
      "\u001b[32mdbl\u001b[39m  (5): day_of_week, day_of_year, interval_of_day, avg_mph, total_volume\n",
      "\u001b[33mlgl\u001b[39m  (2): missing_speed, missing_volume\n",
      "\u001b[34mdttm\u001b[39m (1): timestamp\n",
      "\u001b[34mdate\u001b[39m (1): date\n",
      "\n",
      "\u001b[36mℹ\u001b[39m Use `spec()` to retrieve the full column specification for this data.\n",
      "\u001b[36mℹ\u001b[39m Specify the column types or set `show_col_types = FALSE` to quiet this message.\n",
      "\u001b[1mRows: \u001b[22m\u001b[34m35040\u001b[39m \u001b[1mColumns: \u001b[22m\u001b[34m10\u001b[39m\n",
      "\u001b[36m──\u001b[39m \u001b[1mColumn specification\u001b[22m \u001b[36m────────────────────────────────────────────────────────\u001b[39m\n",
      "\u001b[1mDelimiter:\u001b[22m \",\"\n",
      "\u001b[31mchr\u001b[39m  (1): site_name\n",
      "\u001b[32mdbl\u001b[39m  (5): day_of_week, day_of_year, interval_of_day, avg_mph, total_volume\n",
      "\u001b[33mlgl\u001b[39m  (2): missing_speed, missing_volume\n",
      "\u001b[34mdttm\u001b[39m (1): timestamp\n",
      "\u001b[34mdate\u001b[39m (1): date\n",
      "\n",
      "\u001b[36mℹ\u001b[39m Use `spec()` to retrieve the full column specification for this data.\n",
      "\u001b[36mℹ\u001b[39m Specify the column types or set `show_col_types = FALSE` to quiet this message.\n",
      "\u001b[1mRows: \u001b[22m\u001b[34m35040\u001b[39m \u001b[1mColumns: \u001b[22m\u001b[34m10\u001b[39m\n",
      "\u001b[36m──\u001b[39m \u001b[1mColumn specification\u001b[22m \u001b[36m────────────────────────────────────────────────────────\u001b[39m\n",
      "\u001b[1mDelimiter:\u001b[22m \",\"\n",
      "\u001b[31mchr\u001b[39m  (1): site_name\n",
      "\u001b[32mdbl\u001b[39m  (5): day_of_week, day_of_year, interval_of_day, avg_mph, total_volume\n",
      "\u001b[33mlgl\u001b[39m  (2): missing_speed, missing_volume\n",
      "\u001b[34mdttm\u001b[39m (1): timestamp\n",
      "\u001b[34mdate\u001b[39m (1): date\n",
      "\n",
      "\u001b[36mℹ\u001b[39m Use `spec()` to retrieve the full column specification for this data.\n",
      "\u001b[36mℹ\u001b[39m Specify the column types or set `show_col_types = FALSE` to quiet this message.\n",
      "\u001b[1mRows: \u001b[22m\u001b[34m35040\u001b[39m \u001b[1mColumns: \u001b[22m\u001b[34m10\u001b[39m\n",
      "\u001b[36m──\u001b[39m \u001b[1mColumn specification\u001b[22m \u001b[36m────────────────────────────────────────────────────────\u001b[39m\n",
      "\u001b[1mDelimiter:\u001b[22m \",\"\n",
      "\u001b[31mchr\u001b[39m  (1): site_name\n",
      "\u001b[32mdbl\u001b[39m  (5): day_of_week, day_of_year, interval_of_day, avg_mph, total_volume\n",
      "\u001b[33mlgl\u001b[39m  (2): missing_speed, missing_volume\n",
      "\u001b[34mdttm\u001b[39m (1): timestamp\n",
      "\u001b[34mdate\u001b[39m (1): date\n",
      "\n",
      "\u001b[36mℹ\u001b[39m Use `spec()` to retrieve the full column specification for this data.\n",
      "\u001b[36mℹ\u001b[39m Specify the column types or set `show_col_types = FALSE` to quiet this message.\n",
      "\u001b[1mRows: \u001b[22m\u001b[34m35040\u001b[39m \u001b[1mColumns: \u001b[22m\u001b[34m10\u001b[39m\n",
      "\u001b[36m──\u001b[39m \u001b[1mColumn specification\u001b[22m \u001b[36m────────────────────────────────────────────────────────\u001b[39m\n",
      "\u001b[1mDelimiter:\u001b[22m \",\"\n",
      "\u001b[31mchr\u001b[39m  (1): site_name\n",
      "\u001b[32mdbl\u001b[39m  (5): day_of_week, day_of_year, interval_of_day, avg_mph, total_volume\n",
      "\u001b[33mlgl\u001b[39m  (2): missing_speed, missing_volume\n",
      "\u001b[34mdttm\u001b[39m (1): timestamp\n",
      "\u001b[34mdate\u001b[39m (1): date\n",
      "\n",
      "\u001b[36mℹ\u001b[39m Use `spec()` to retrieve the full column specification for this data.\n",
      "\u001b[36mℹ\u001b[39m Specify the column types or set `show_col_types = FALSE` to quiet this message.\n",
      "\u001b[1mRows: \u001b[22m\u001b[34m35040\u001b[39m \u001b[1mColumns: \u001b[22m\u001b[34m10\u001b[39m\n",
      "\u001b[36m──\u001b[39m \u001b[1mColumn specification\u001b[22m \u001b[36m────────────────────────────────────────────────────────\u001b[39m\n",
      "\u001b[1mDelimiter:\u001b[22m \",\"\n",
      "\u001b[31mchr\u001b[39m  (1): site_name\n",
      "\u001b[32mdbl\u001b[39m  (5): day_of_week, day_of_year, interval_of_day, avg_mph, total_volume\n",
      "\u001b[33mlgl\u001b[39m  (2): missing_speed, missing_volume\n",
      "\u001b[34mdttm\u001b[39m (1): timestamp\n",
      "\u001b[34mdate\u001b[39m (1): date\n",
      "\n",
      "\u001b[36mℹ\u001b[39m Use `spec()` to retrieve the full column specification for this data.\n",
      "\u001b[36mℹ\u001b[39m Specify the column types or set `show_col_types = FALSE` to quiet this message.\n",
      "\u001b[1mRows: \u001b[22m\u001b[34m35040\u001b[39m \u001b[1mColumns: \u001b[22m\u001b[34m10\u001b[39m\n",
      "\u001b[36m──\u001b[39m \u001b[1mColumn specification\u001b[22m \u001b[36m────────────────────────────────────────────────────────\u001b[39m\n",
      "\u001b[1mDelimiter:\u001b[22m \",\"\n",
      "\u001b[31mchr\u001b[39m  (1): site_name\n",
      "\u001b[32mdbl\u001b[39m  (5): day_of_week, day_of_year, interval_of_day, avg_mph, total_volume\n",
      "\u001b[33mlgl\u001b[39m  (2): missing_speed, missing_volume\n",
      "\u001b[34mdttm\u001b[39m (1): timestamp\n",
      "\u001b[34mdate\u001b[39m (1): date\n",
      "\n",
      "\u001b[36mℹ\u001b[39m Use `spec()` to retrieve the full column specification for this data.\n",
      "\u001b[36mℹ\u001b[39m Specify the column types or set `show_col_types = FALSE` to quiet this message.\n"
     ]
    },
    {
     "name": "stderr",
     "output_type": "stream",
     "text": [
      "\u001b[1mRows: \u001b[22m\u001b[34m35040\u001b[39m \u001b[1mColumns: \u001b[22m\u001b[34m10\u001b[39m\n",
      "\u001b[36m──\u001b[39m \u001b[1mColumn specification\u001b[22m \u001b[36m────────────────────────────────────────────────────────\u001b[39m\n",
      "\u001b[1mDelimiter:\u001b[22m \",\"\n",
      "\u001b[31mchr\u001b[39m  (1): site_name\n",
      "\u001b[32mdbl\u001b[39m  (5): day_of_week, day_of_year, interval_of_day, avg_mph, total_volume\n",
      "\u001b[33mlgl\u001b[39m  (2): missing_speed, missing_volume\n",
      "\u001b[34mdttm\u001b[39m (1): timestamp\n",
      "\u001b[34mdate\u001b[39m (1): date\n",
      "\n",
      "\u001b[36mℹ\u001b[39m Use `spec()` to retrieve the full column specification for this data.\n",
      "\u001b[36mℹ\u001b[39m Specify the column types or set `show_col_types = FALSE` to quiet this message.\n",
      "\u001b[1mRows: \u001b[22m\u001b[34m35040\u001b[39m \u001b[1mColumns: \u001b[22m\u001b[34m10\u001b[39m\n",
      "\u001b[36m──\u001b[39m \u001b[1mColumn specification\u001b[22m \u001b[36m────────────────────────────────────────────────────────\u001b[39m\n",
      "\u001b[1mDelimiter:\u001b[22m \",\"\n",
      "\u001b[31mchr\u001b[39m  (1): site_name\n",
      "\u001b[32mdbl\u001b[39m  (5): day_of_week, day_of_year, interval_of_day, avg_mph, total_volume\n",
      "\u001b[33mlgl\u001b[39m  (2): missing_speed, missing_volume\n",
      "\u001b[34mdttm\u001b[39m (1): timestamp\n",
      "\u001b[34mdate\u001b[39m (1): date\n",
      "\n",
      "\u001b[36mℹ\u001b[39m Use `spec()` to retrieve the full column specification for this data.\n",
      "\u001b[36mℹ\u001b[39m Specify the column types or set `show_col_types = FALSE` to quiet this message.\n",
      "\u001b[1mRows: \u001b[22m\u001b[34m35040\u001b[39m \u001b[1mColumns: \u001b[22m\u001b[34m10\u001b[39m\n",
      "\u001b[36m──\u001b[39m \u001b[1mColumn specification\u001b[22m \u001b[36m────────────────────────────────────────────────────────\u001b[39m\n",
      "\u001b[1mDelimiter:\u001b[22m \",\"\n",
      "\u001b[31mchr\u001b[39m  (1): site_name\n",
      "\u001b[32mdbl\u001b[39m  (5): day_of_week, day_of_year, interval_of_day, avg_mph, total_volume\n",
      "\u001b[33mlgl\u001b[39m  (2): missing_speed, missing_volume\n",
      "\u001b[34mdttm\u001b[39m (1): timestamp\n",
      "\u001b[34mdate\u001b[39m (1): date\n",
      "\n",
      "\u001b[36mℹ\u001b[39m Use `spec()` to retrieve the full column specification for this data.\n",
      "\u001b[36mℹ\u001b[39m Specify the column types or set `show_col_types = FALSE` to quiet this message.\n",
      "\u001b[1mRows: \u001b[22m\u001b[34m35040\u001b[39m \u001b[1mColumns: \u001b[22m\u001b[34m10\u001b[39m\n",
      "\u001b[36m──\u001b[39m \u001b[1mColumn specification\u001b[22m \u001b[36m────────────────────────────────────────────────────────\u001b[39m\n",
      "\u001b[1mDelimiter:\u001b[22m \",\"\n",
      "\u001b[31mchr\u001b[39m  (1): site_name\n",
      "\u001b[32mdbl\u001b[39m  (5): day_of_week, day_of_year, interval_of_day, avg_mph, total_volume\n",
      "\u001b[33mlgl\u001b[39m  (2): missing_speed, missing_volume\n",
      "\u001b[34mdttm\u001b[39m (1): timestamp\n",
      "\u001b[34mdate\u001b[39m (1): date\n",
      "\n",
      "\u001b[36mℹ\u001b[39m Use `spec()` to retrieve the full column specification for this data.\n",
      "\u001b[36mℹ\u001b[39m Specify the column types or set `show_col_types = FALSE` to quiet this message.\n",
      "\u001b[1mRows: \u001b[22m\u001b[34m35040\u001b[39m \u001b[1mColumns: \u001b[22m\u001b[34m10\u001b[39m\n",
      "\u001b[36m──\u001b[39m \u001b[1mColumn specification\u001b[22m \u001b[36m────────────────────────────────────────────────────────\u001b[39m\n",
      "\u001b[1mDelimiter:\u001b[22m \",\"\n",
      "\u001b[31mchr\u001b[39m  (1): site_name\n",
      "\u001b[32mdbl\u001b[39m  (5): day_of_week, day_of_year, interval_of_day, avg_mph, total_volume\n",
      "\u001b[33mlgl\u001b[39m  (2): missing_speed, missing_volume\n",
      "\u001b[34mdttm\u001b[39m (1): timestamp\n",
      "\u001b[34mdate\u001b[39m (1): date\n",
      "\n",
      "\u001b[36mℹ\u001b[39m Use `spec()` to retrieve the full column specification for this data.\n",
      "\u001b[36mℹ\u001b[39m Specify the column types or set `show_col_types = FALSE` to quiet this message.\n",
      "\u001b[1mRows: \u001b[22m\u001b[34m35040\u001b[39m \u001b[1mColumns: \u001b[22m\u001b[34m10\u001b[39m\n",
      "\u001b[36m──\u001b[39m \u001b[1mColumn specification\u001b[22m \u001b[36m────────────────────────────────────────────────────────\u001b[39m\n",
      "\u001b[1mDelimiter:\u001b[22m \",\"\n",
      "\u001b[31mchr\u001b[39m  (1): site_name\n",
      "\u001b[32mdbl\u001b[39m  (5): day_of_week, day_of_year, interval_of_day, avg_mph, total_volume\n",
      "\u001b[33mlgl\u001b[39m  (2): missing_speed, missing_volume\n",
      "\u001b[34mdttm\u001b[39m (1): timestamp\n",
      "\u001b[34mdate\u001b[39m (1): date\n",
      "\n",
      "\u001b[36mℹ\u001b[39m Use `spec()` to retrieve the full column specification for this data.\n",
      "\u001b[36mℹ\u001b[39m Specify the column types or set `show_col_types = FALSE` to quiet this message.\n",
      "\u001b[1mRows: \u001b[22m\u001b[34m35040\u001b[39m \u001b[1mColumns: \u001b[22m\u001b[34m10\u001b[39m\n",
      "\u001b[36m──\u001b[39m \u001b[1mColumn specification\u001b[22m \u001b[36m────────────────────────────────────────────────────────\u001b[39m\n",
      "\u001b[1mDelimiter:\u001b[22m \",\"\n",
      "\u001b[31mchr\u001b[39m  (1): site_name\n",
      "\u001b[32mdbl\u001b[39m  (5): day_of_week, day_of_year, interval_of_day, avg_mph, total_volume\n",
      "\u001b[33mlgl\u001b[39m  (2): missing_speed, missing_volume\n",
      "\u001b[34mdttm\u001b[39m (1): timestamp\n",
      "\u001b[34mdate\u001b[39m (1): date\n",
      "\n",
      "\u001b[36mℹ\u001b[39m Use `spec()` to retrieve the full column specification for this data.\n",
      "\u001b[36mℹ\u001b[39m Specify the column types or set `show_col_types = FALSE` to quiet this message.\n",
      "\u001b[1mRows: \u001b[22m\u001b[34m35040\u001b[39m \u001b[1mColumns: \u001b[22m\u001b[34m10\u001b[39m\n",
      "\u001b[36m──\u001b[39m \u001b[1mColumn specification\u001b[22m \u001b[36m────────────────────────────────────────────────────────\u001b[39m\n",
      "\u001b[1mDelimiter:\u001b[22m \",\"\n",
      "\u001b[31mchr\u001b[39m  (1): site_name\n",
      "\u001b[32mdbl\u001b[39m  (5): day_of_week, day_of_year, interval_of_day, avg_mph, total_volume\n",
      "\u001b[33mlgl\u001b[39m  (2): missing_speed, missing_volume\n",
      "\u001b[34mdttm\u001b[39m (1): timestamp\n",
      "\u001b[34mdate\u001b[39m (1): date\n",
      "\n",
      "\u001b[36mℹ\u001b[39m Use `spec()` to retrieve the full column specification for this data.\n",
      "\u001b[36mℹ\u001b[39m Specify the column types or set `show_col_types = FALSE` to quiet this message.\n",
      "\u001b[1mRows: \u001b[22m\u001b[34m35040\u001b[39m \u001b[1mColumns: \u001b[22m\u001b[34m10\u001b[39m\n",
      "\u001b[36m──\u001b[39m \u001b[1mColumn specification\u001b[22m \u001b[36m────────────────────────────────────────────────────────\u001b[39m\n",
      "\u001b[1mDelimiter:\u001b[22m \",\"\n",
      "\u001b[31mchr\u001b[39m  (1): site_name\n",
      "\u001b[32mdbl\u001b[39m  (5): day_of_week, day_of_year, interval_of_day, avg_mph, total_volume\n",
      "\u001b[33mlgl\u001b[39m  (2): missing_speed, missing_volume\n",
      "\u001b[34mdttm\u001b[39m (1): timestamp\n",
      "\u001b[34mdate\u001b[39m (1): date\n",
      "\n",
      "\u001b[36mℹ\u001b[39m Use `spec()` to retrieve the full column specification for this data.\n",
      "\u001b[36mℹ\u001b[39m Specify the column types or set `show_col_types = FALSE` to quiet this message.\n",
      "\u001b[1mRows: \u001b[22m\u001b[34m35040\u001b[39m \u001b[1mColumns: \u001b[22m\u001b[34m10\u001b[39m\n",
      "\u001b[36m──\u001b[39m \u001b[1mColumn specification\u001b[22m \u001b[36m────────────────────────────────────────────────────────\u001b[39m\n",
      "\u001b[1mDelimiter:\u001b[22m \",\"\n",
      "\u001b[31mchr\u001b[39m  (1): site_name\n",
      "\u001b[32mdbl\u001b[39m  (5): day_of_week, day_of_year, interval_of_day, avg_mph, total_volume\n",
      "\u001b[33mlgl\u001b[39m  (2): missing_speed, missing_volume\n",
      "\u001b[34mdttm\u001b[39m (1): timestamp\n",
      "\u001b[34mdate\u001b[39m (1): date\n",
      "\n",
      "\u001b[36mℹ\u001b[39m Use `spec()` to retrieve the full column specification for this data.\n",
      "\u001b[36mℹ\u001b[39m Specify the column types or set `show_col_types = FALSE` to quiet this message.\n",
      "\u001b[1mRows: \u001b[22m\u001b[34m35040\u001b[39m \u001b[1mColumns: \u001b[22m\u001b[34m10\u001b[39m\n",
      "\u001b[36m──\u001b[39m \u001b[1mColumn specification\u001b[22m \u001b[36m────────────────────────────────────────────────────────\u001b[39m\n",
      "\u001b[1mDelimiter:\u001b[22m \",\"\n",
      "\u001b[31mchr\u001b[39m  (1): site_name\n",
      "\u001b[32mdbl\u001b[39m  (5): day_of_week, day_of_year, interval_of_day, avg_mph, total_volume\n",
      "\u001b[33mlgl\u001b[39m  (2): missing_speed, missing_volume\n",
      "\u001b[34mdttm\u001b[39m (1): timestamp\n",
      "\u001b[34mdate\u001b[39m (1): date\n",
      "\n",
      "\u001b[36mℹ\u001b[39m Use `spec()` to retrieve the full column specification for this data.\n",
      "\u001b[36mℹ\u001b[39m Specify the column types or set `show_col_types = FALSE` to quiet this message.\n",
      "\u001b[1mRows: \u001b[22m\u001b[34m35040\u001b[39m \u001b[1mColumns: \u001b[22m\u001b[34m10\u001b[39m\n",
      "\u001b[36m──\u001b[39m \u001b[1mColumn specification\u001b[22m \u001b[36m────────────────────────────────────────────────────────\u001b[39m\n",
      "\u001b[1mDelimiter:\u001b[22m \",\"\n",
      "\u001b[31mchr\u001b[39m  (1): site_name\n",
      "\u001b[32mdbl\u001b[39m  (5): day_of_week, day_of_year, interval_of_day, avg_mph, total_volume\n",
      "\u001b[33mlgl\u001b[39m  (2): missing_speed, missing_volume\n",
      "\u001b[34mdttm\u001b[39m (1): timestamp\n",
      "\u001b[34mdate\u001b[39m (1): date\n",
      "\n",
      "\u001b[36mℹ\u001b[39m Use `spec()` to retrieve the full column specification for this data.\n",
      "\u001b[36mℹ\u001b[39m Specify the column types or set `show_col_types = FALSE` to quiet this message.\n",
      "\u001b[1mRows: \u001b[22m\u001b[34m35040\u001b[39m \u001b[1mColumns: \u001b[22m\u001b[34m10\u001b[39m\n",
      "\u001b[36m──\u001b[39m \u001b[1mColumn specification\u001b[22m \u001b[36m────────────────────────────────────────────────────────\u001b[39m\n",
      "\u001b[1mDelimiter:\u001b[22m \",\"\n",
      "\u001b[31mchr\u001b[39m  (1): site_name\n",
      "\u001b[32mdbl\u001b[39m  (5): day_of_week, day_of_year, interval_of_day, avg_mph, total_volume\n",
      "\u001b[33mlgl\u001b[39m  (2): missing_speed, missing_volume\n",
      "\u001b[34mdttm\u001b[39m (1): timestamp\n",
      "\u001b[34mdate\u001b[39m (1): date\n",
      "\n",
      "\u001b[36mℹ\u001b[39m Use `spec()` to retrieve the full column specification for this data.\n",
      "\u001b[36mℹ\u001b[39m Specify the column types or set `show_col_types = FALSE` to quiet this message.\n",
      "\u001b[1mRows: \u001b[22m\u001b[34m35040\u001b[39m \u001b[1mColumns: \u001b[22m\u001b[34m10\u001b[39m\n",
      "\u001b[36m──\u001b[39m \u001b[1mColumn specification\u001b[22m \u001b[36m────────────────────────────────────────────────────────\u001b[39m\n",
      "\u001b[1mDelimiter:\u001b[22m \",\"\n",
      "\u001b[31mchr\u001b[39m  (1): site_name\n",
      "\u001b[32mdbl\u001b[39m  (5): day_of_week, day_of_year, interval_of_day, avg_mph, total_volume\n",
      "\u001b[33mlgl\u001b[39m  (2): missing_speed, missing_volume\n",
      "\u001b[34mdttm\u001b[39m (1): timestamp\n",
      "\u001b[34mdate\u001b[39m (1): date\n",
      "\n",
      "\u001b[36mℹ\u001b[39m Use `spec()` to retrieve the full column specification for this data.\n",
      "\u001b[36mℹ\u001b[39m Specify the column types or set `show_col_types = FALSE` to quiet this message.\n"
     ]
    },
    {
     "name": "stderr",
     "output_type": "stream",
     "text": [
      "\u001b[1mRows: \u001b[22m\u001b[34m35040\u001b[39m \u001b[1mColumns: \u001b[22m\u001b[34m10\u001b[39m\n",
      "\u001b[36m──\u001b[39m \u001b[1mColumn specification\u001b[22m \u001b[36m────────────────────────────────────────────────────────\u001b[39m\n",
      "\u001b[1mDelimiter:\u001b[22m \",\"\n",
      "\u001b[31mchr\u001b[39m  (1): site_name\n",
      "\u001b[32mdbl\u001b[39m  (5): day_of_week, day_of_year, interval_of_day, avg_mph, total_volume\n",
      "\u001b[33mlgl\u001b[39m  (2): missing_speed, missing_volume\n",
      "\u001b[34mdttm\u001b[39m (1): timestamp\n",
      "\u001b[34mdate\u001b[39m (1): date\n",
      "\n",
      "\u001b[36mℹ\u001b[39m Use `spec()` to retrieve the full column specification for this data.\n",
      "\u001b[36mℹ\u001b[39m Specify the column types or set `show_col_types = FALSE` to quiet this message.\n",
      "\u001b[1mRows: \u001b[22m\u001b[34m35040\u001b[39m \u001b[1mColumns: \u001b[22m\u001b[34m10\u001b[39m\n",
      "\u001b[36m──\u001b[39m \u001b[1mColumn specification\u001b[22m \u001b[36m────────────────────────────────────────────────────────\u001b[39m\n",
      "\u001b[1mDelimiter:\u001b[22m \",\"\n",
      "\u001b[31mchr\u001b[39m  (1): site_name\n",
      "\u001b[32mdbl\u001b[39m  (5): day_of_week, day_of_year, interval_of_day, avg_mph, total_volume\n",
      "\u001b[33mlgl\u001b[39m  (2): missing_speed, missing_volume\n",
      "\u001b[34mdttm\u001b[39m (1): timestamp\n",
      "\u001b[34mdate\u001b[39m (1): date\n",
      "\n",
      "\u001b[36mℹ\u001b[39m Use `spec()` to retrieve the full column specification for this data.\n",
      "\u001b[36mℹ\u001b[39m Specify the column types or set `show_col_types = FALSE` to quiet this message.\n",
      "\u001b[1mRows: \u001b[22m\u001b[34m35040\u001b[39m \u001b[1mColumns: \u001b[22m\u001b[34m10\u001b[39m\n",
      "\u001b[36m──\u001b[39m \u001b[1mColumn specification\u001b[22m \u001b[36m────────────────────────────────────────────────────────\u001b[39m\n",
      "\u001b[1mDelimiter:\u001b[22m \",\"\n",
      "\u001b[31mchr\u001b[39m  (1): site_name\n",
      "\u001b[32mdbl\u001b[39m  (5): day_of_week, day_of_year, interval_of_day, avg_mph, total_volume\n",
      "\u001b[33mlgl\u001b[39m  (2): missing_speed, missing_volume\n",
      "\u001b[34mdttm\u001b[39m (1): timestamp\n",
      "\u001b[34mdate\u001b[39m (1): date\n",
      "\n",
      "\u001b[36mℹ\u001b[39m Use `spec()` to retrieve the full column specification for this data.\n",
      "\u001b[36mℹ\u001b[39m Specify the column types or set `show_col_types = FALSE` to quiet this message.\n",
      "\u001b[1mRows: \u001b[22m\u001b[34m35040\u001b[39m \u001b[1mColumns: \u001b[22m\u001b[34m10\u001b[39m\n",
      "\u001b[36m──\u001b[39m \u001b[1mColumn specification\u001b[22m \u001b[36m────────────────────────────────────────────────────────\u001b[39m\n",
      "\u001b[1mDelimiter:\u001b[22m \",\"\n",
      "\u001b[31mchr\u001b[39m  (1): site_name\n",
      "\u001b[32mdbl\u001b[39m  (5): day_of_week, day_of_year, interval_of_day, avg_mph, total_volume\n",
      "\u001b[33mlgl\u001b[39m  (2): missing_speed, missing_volume\n",
      "\u001b[34mdttm\u001b[39m (1): timestamp\n",
      "\u001b[34mdate\u001b[39m (1): date\n",
      "\n",
      "\u001b[36mℹ\u001b[39m Use `spec()` to retrieve the full column specification for this data.\n",
      "\u001b[36mℹ\u001b[39m Specify the column types or set `show_col_types = FALSE` to quiet this message.\n",
      "\u001b[1mRows: \u001b[22m\u001b[34m35040\u001b[39m \u001b[1mColumns: \u001b[22m\u001b[34m10\u001b[39m\n",
      "\u001b[36m──\u001b[39m \u001b[1mColumn specification\u001b[22m \u001b[36m────────────────────────────────────────────────────────\u001b[39m\n",
      "\u001b[1mDelimiter:\u001b[22m \",\"\n",
      "\u001b[31mchr\u001b[39m  (1): site_name\n",
      "\u001b[32mdbl\u001b[39m  (5): day_of_week, day_of_year, interval_of_day, avg_mph, total_volume\n",
      "\u001b[33mlgl\u001b[39m  (2): missing_speed, missing_volume\n",
      "\u001b[34mdttm\u001b[39m (1): timestamp\n",
      "\u001b[34mdate\u001b[39m (1): date\n",
      "\n",
      "\u001b[36mℹ\u001b[39m Use `spec()` to retrieve the full column specification for this data.\n",
      "\u001b[36mℹ\u001b[39m Specify the column types or set `show_col_types = FALSE` to quiet this message.\n",
      "\u001b[1mRows: \u001b[22m\u001b[34m35040\u001b[39m \u001b[1mColumns: \u001b[22m\u001b[34m10\u001b[39m\n",
      "\u001b[36m──\u001b[39m \u001b[1mColumn specification\u001b[22m \u001b[36m────────────────────────────────────────────────────────\u001b[39m\n",
      "\u001b[1mDelimiter:\u001b[22m \",\"\n",
      "\u001b[31mchr\u001b[39m  (1): site_name\n",
      "\u001b[32mdbl\u001b[39m  (5): day_of_week, day_of_year, interval_of_day, avg_mph, total_volume\n",
      "\u001b[33mlgl\u001b[39m  (2): missing_speed, missing_volume\n",
      "\u001b[34mdttm\u001b[39m (1): timestamp\n",
      "\u001b[34mdate\u001b[39m (1): date\n",
      "\n",
      "\u001b[36mℹ\u001b[39m Use `spec()` to retrieve the full column specification for this data.\n",
      "\u001b[36mℹ\u001b[39m Specify the column types or set `show_col_types = FALSE` to quiet this message.\n"
     ]
    }
   ],
   "source": [
    "# Read in all files from the Data/Processed directory\n",
    "england_fnames <- list.files(\"Data/Processed/Highways_England/\", pattern=\"*.csv\", full.names=TRUE)\n",
    "england_df_list <- lapply(england_fnames, read_csv)\n",
    "\n",
    "portland_fnames <- list.files(\"Data/Processed/Portland/\", pattern=\"*.csv\", full.names=TRUE)\n",
    "portland_df_list <- lapply(portland_fnames, read_csv)\n",
    "\n",
    "utah_fnames <- list.files(\"Data/Processed/Utah/\", pattern=\"*.csv\", full.names=TRUE)\n",
    "utah_df_list <- lapply(utah_fnames, read_csv)"
   ]
  },
  {
   "cell_type": "code",
   "execution_count": 54,
   "id": "aeb87055",
   "metadata": {},
   "outputs": [],
   "source": [
    "# Ensure that the rows in each data frame are in proper chronological order \n",
    "england_df_list <- lapply(england_df_list, function(x) x %>% arrange(timestamp))\n",
    "portland_df_list <- lapply(portland_df_list, function(x) x %>% arrange(timestamp))\n",
    "utah_df_list <- lapply(utah_df_list, function(x) x %>% arrange(timestamp))    "
   ]
  },
  {
   "cell_type": "code",
   "execution_count": 55,
   "id": "1b2e79d9",
   "metadata": {},
   "outputs": [],
   "source": [
    "# Create one list of all data frames\n",
    "total_df_list_orig <- append(append(england_df_list, portland_df_list), utah_df_list)"
   ]
  },
  {
   "cell_type": "code",
   "execution_count": 56,
   "id": "e91c1eff",
   "metadata": {},
   "outputs": [],
   "source": [
    "# Randomly create a list of starting points from which we we sample each data frame\n",
    "\n",
    "# Set the seed\n",
    "set.seed(54321)\n",
    "\n",
    "# Sample without replacement as to ensure the starting time for each time series is different\n",
    "starting_points <- sample(1:((96*365)-(96*12*7)), \n",
    "                          length(total_df_list_orig), \n",
    "                          replace=FALSE)\n",
    "\n",
    "# Create the ending points by adding on 12 weeks to the starting points\n",
    "ending_points <- starting_points + (96*7*12) - 1"
   ]
  },
  {
   "cell_type": "code",
   "execution_count": 57,
   "id": "19925fe7",
   "metadata": {},
   "outputs": [],
   "source": [
    "# For each df in our list, create a row number column called 'rn' - this will allow us to find the starting point\n",
    "# for each sample using the above starting_points array\n",
    "total_df_list_orig <- lapply(total_df_list_orig, function(x) x %>% mutate(rn = row_number()))"
   ]
  },
  {
   "cell_type": "code",
   "execution_count": 58,
   "id": "dcdc5a92",
   "metadata": {},
   "outputs": [],
   "source": [
    "# Sample each df in the list according to its corresponding starting and ending point - this creates 12-week\n",
    "# long samples of each data frame which will be used for modeling and testing\n",
    "total_df_list_orig_samples <- lapply(1:length(total_df_list_orig), \n",
    "                                function(x) total_df_list_orig[[x]] %>% \n",
    "                                    filter(rn >= starting_points[x]) %>%\n",
    "                                    filter(rn <= ending_points[x]))"
   ]
  },
  {
   "cell_type": "code",
   "execution_count": 59,
   "id": "a4393772",
   "metadata": {},
   "outputs": [],
   "source": [
    "# Add a new column to each data frame to denote whether each row should be part of the training set, validation set\n",
    "# or test set - the first 8 weeks are designated as train, the next 2 as val, and the final 2 as test. It may be \n",
    "# the case that train and val get used for training, depending on the modeling task\n",
    "total_df_list_orig_samples <- lapply(total_df_list_orig_samples, \n",
    "                                function(x) x %>% mutate(rn = row_number()) %>%\n",
    "                                    mutate(train_val_test = ifelse(rn <= (96*7*8), \n",
    "                                                                   \"train\", \n",
    "                                                                   ifelse(rn <= (96*7*10), \n",
    "                                                                          \"val\", \n",
    "                                                                          \"test\")))\n",
    "                                \n",
    "                               )"
   ]
  },
  {
   "cell_type": "code",
   "execution_count": 60,
   "id": "9c8a479c",
   "metadata": {},
   "outputs": [],
   "source": [
    "# Create a list of data frames which only have the training rows of each df\n",
    "train_samples_orig <- lapply(total_df_list_orig_samples, function(x) x %>% filter(train_val_test == \"train\"))"
   ]
  },
  {
   "cell_type": "code",
   "execution_count": 61,
   "id": "8f85f397",
   "metadata": {},
   "outputs": [],
   "source": [
    "# Get the target field (total_volume) from the dfs in the above lists and create msts objects instead of dfs\n",
    "train_samples_ts_orig <- lapply(train_samples_orig, \n",
    "                           function(x) msts(x$total_volume, seasonal.periods=c(24*4, 24*4*7)))"
   ]
  },
  {
   "cell_type": "code",
   "execution_count": 62,
   "id": "df99103f",
   "metadata": {},
   "outputs": [],
   "source": [
    "for (i in 1:length(train_samples_ts_orig)) {\n",
    "    if (mean(train_samples_ts_orig[[i]] == dtw_orig_cent[[1]])==1) {\n",
    "        centroid_1 <- i\n",
    "    }\n",
    "    if (mean(train_samples_ts_orig[[i]] == dtw_orig_cent[[2]])==1) {\n",
    "        centroid_2 <- i\n",
    "    }\n",
    "    \n",
    "}"
   ]
  },
  {
   "cell_type": "code",
   "execution_count": 63,
   "id": "14838315",
   "metadata": {},
   "outputs": [
    {
     "data": {
      "text/html": [
       "4"
      ],
      "text/latex": [
       "4"
      ],
      "text/markdown": [
       "4"
      ],
      "text/plain": [
       "[1] 4"
      ]
     },
     "metadata": {},
     "output_type": "display_data"
    }
   ],
   "source": [
    "centroid_1"
   ]
  },
  {
   "cell_type": "code",
   "execution_count": 64,
   "id": "d89e271f",
   "metadata": {},
   "outputs": [
    {
     "data": {
      "text/html": [
       "75"
      ],
      "text/latex": [
       "75"
      ],
      "text/markdown": [
       "75"
      ],
      "text/plain": [
       "[1] 75"
      ]
     },
     "metadata": {},
     "output_type": "display_data"
    }
   ],
   "source": [
    "centroid_2"
   ]
  },
  {
   "cell_type": "markdown",
   "id": "4aca8133",
   "metadata": {},
   "source": [
    "## Compute Distance to Centroids"
   ]
  },
  {
   "cell_type": "code",
   "execution_count": 65,
   "id": "c30e64e1",
   "metadata": {},
   "outputs": [],
   "source": [
    "dist_obs_1_cent_1 <- dtw_basic(train_samples_ts[[1]], train_samples_ts_orig[[centroid_1]])\n",
    "dist_obs_1_cent_2 <- dtw_basic(train_samples_ts[[1]], train_samples_ts_orig[[centroid_2]])\n",
    "\n",
    "dist_obs_2_cent_1 <- dtw_basic(train_samples_ts[[2]], train_samples_ts_orig[[centroid_1]])\n",
    "dist_obs_2_cent_2 <- dtw_basic(train_samples_ts[[2]], train_samples_ts_orig[[centroid_2]])\n",
    "\n",
    "dist_obs_3_cent_1 <- dtw_basic(train_samples_ts[[3]], train_samples_ts_orig[[centroid_1]])\n",
    "dist_obs_3_cent_2 <- dtw_basic(train_samples_ts[[3]], train_samples_ts_orig[[centroid_2]])\n",
    "\n",
    "dist_obs_4_cent_1 <- dtw_basic(train_samples_ts[[4]], train_samples_ts_orig[[centroid_1]])\n",
    "dist_obs_4_cent_2 <- dtw_basic(train_samples_ts[[4]], train_samples_ts_orig[[centroid_2]])"
   ]
  },
  {
   "cell_type": "markdown",
   "id": "ae314f6a",
   "metadata": {},
   "source": [
    "### Observation 1"
   ]
  },
  {
   "cell_type": "code",
   "execution_count": 261,
   "id": "26d7f0f6",
   "metadata": {},
   "outputs": [
    {
     "data": {
      "text/html": [
       "712424.5"
      ],
      "text/latex": [
       "712424.5"
      ],
      "text/markdown": [
       "712424.5"
      ],
      "text/plain": [
       "[1] 712424.5"
      ]
     },
     "metadata": {},
     "output_type": "display_data"
    }
   ],
   "source": [
    "dist_obs_1_cent_1"
   ]
  },
  {
   "cell_type": "code",
   "execution_count": 262,
   "id": "e85ff033",
   "metadata": {},
   "outputs": [
    {
     "data": {
      "text/html": [
       "218380.5"
      ],
      "text/latex": [
       "218380.5"
      ],
      "text/markdown": [
       "218380.5"
      ],
      "text/plain": [
       "[1] 218380.5"
      ]
     },
     "metadata": {},
     "output_type": "display_data"
    }
   ],
   "source": [
    "dist_obs_1_cent_2"
   ]
  },
  {
   "cell_type": "code",
   "execution_count": 265,
   "id": "791feb04",
   "metadata": {},
   "outputs": [
    {
     "data": {
      "text/html": [
       "218380.5"
      ],
      "text/latex": [
       "218380.5"
      ],
      "text/markdown": [
       "218380.5"
      ],
      "text/plain": [
       "[1] 218380.5"
      ]
     },
     "metadata": {},
     "output_type": "display_data"
    }
   ],
   "source": [
    "min(dist_obs_1_cent_1, dist_obs_1_cent_2)"
   ]
  },
  {
   "cell_type": "markdown",
   "id": "abfeec07",
   "metadata": {},
   "source": [
    "### Observation 2"
   ]
  },
  {
   "cell_type": "code",
   "execution_count": 263,
   "id": "fcc50cfb",
   "metadata": {},
   "outputs": [
    {
     "data": {
      "text/html": [
       "404257"
      ],
      "text/latex": [
       "404257"
      ],
      "text/markdown": [
       "404257"
      ],
      "text/plain": [
       "[1] 404257"
      ]
     },
     "metadata": {},
     "output_type": "display_data"
    }
   ],
   "source": [
    "dist_obs_2_cent_1"
   ]
  },
  {
   "cell_type": "code",
   "execution_count": 264,
   "id": "4ed97f00",
   "metadata": {},
   "outputs": [
    {
     "data": {
      "text/html": [
       "1811693"
      ],
      "text/latex": [
       "1811693"
      ],
      "text/markdown": [
       "1811693"
      ],
      "text/plain": [
       "[1] 1811693"
      ]
     },
     "metadata": {},
     "output_type": "display_data"
    }
   ],
   "source": [
    "dist_obs_2_cent_2"
   ]
  },
  {
   "cell_type": "code",
   "execution_count": 266,
   "id": "31ec3c63",
   "metadata": {},
   "outputs": [
    {
     "data": {
      "text/html": [
       "404257"
      ],
      "text/latex": [
       "404257"
      ],
      "text/markdown": [
       "404257"
      ],
      "text/plain": [
       "[1] 404257"
      ]
     },
     "metadata": {},
     "output_type": "display_data"
    }
   ],
   "source": [
    "min(dist_obs_2_cent_1, dist_obs_2_cent_2)"
   ]
  },
  {
   "cell_type": "markdown",
   "id": "a081e1a4",
   "metadata": {},
   "source": [
    "### Observation 3"
   ]
  },
  {
   "cell_type": "code",
   "execution_count": 66,
   "id": "5f11145d",
   "metadata": {},
   "outputs": [
    {
     "data": {
      "text/html": [
       "373707"
      ],
      "text/latex": [
       "373707"
      ],
      "text/markdown": [
       "373707"
      ],
      "text/plain": [
       "[1] 373707"
      ]
     },
     "metadata": {},
     "output_type": "display_data"
    }
   ],
   "source": [
    "dist_obs_3_cent_1"
   ]
  },
  {
   "cell_type": "code",
   "execution_count": 67,
   "id": "d7921c1e",
   "metadata": {},
   "outputs": [
    {
     "data": {
      "text/html": [
       "900293"
      ],
      "text/latex": [
       "900293"
      ],
      "text/markdown": [
       "900293"
      ],
      "text/plain": [
       "[1] 900293"
      ]
     },
     "metadata": {},
     "output_type": "display_data"
    }
   ],
   "source": [
    "dist_obs_3_cent_2"
   ]
  },
  {
   "cell_type": "code",
   "execution_count": 68,
   "id": "deb6aa7f",
   "metadata": {},
   "outputs": [
    {
     "data": {
      "text/html": [
       "373707"
      ],
      "text/latex": [
       "373707"
      ],
      "text/markdown": [
       "373707"
      ],
      "text/plain": [
       "[1] 373707"
      ]
     },
     "metadata": {},
     "output_type": "display_data"
    }
   ],
   "source": [
    "min(dist_obs_3_cent_1, dist_obs_3_cent_2)"
   ]
  },
  {
   "cell_type": "markdown",
   "id": "103858a1",
   "metadata": {},
   "source": [
    "### Observation 4"
   ]
  },
  {
   "cell_type": "code",
   "execution_count": 69,
   "id": "211c5e03",
   "metadata": {},
   "outputs": [
    {
     "data": {
      "text/html": [
       "1061300"
      ],
      "text/latex": [
       "1061300"
      ],
      "text/markdown": [
       "1061300"
      ],
      "text/plain": [
       "[1] 1061300"
      ]
     },
     "metadata": {},
     "output_type": "display_data"
    }
   ],
   "source": [
    "dist_obs_4_cent_1"
   ]
  },
  {
   "cell_type": "code",
   "execution_count": 70,
   "id": "2ba4afde",
   "metadata": {},
   "outputs": [
    {
     "data": {
      "text/html": [
       "3127225"
      ],
      "text/latex": [
       "3127225"
      ],
      "text/markdown": [
       "3127225"
      ],
      "text/plain": [
       "[1] 3127225"
      ]
     },
     "metadata": {},
     "output_type": "display_data"
    }
   ],
   "source": [
    "dist_obs_4_cent_2"
   ]
  },
  {
   "cell_type": "code",
   "execution_count": 71,
   "id": "f3a080ed",
   "metadata": {},
   "outputs": [
    {
     "data": {
      "text/html": [
       "1061300"
      ],
      "text/latex": [
       "1061300"
      ],
      "text/markdown": [
       "1061300"
      ],
      "text/plain": [
       "[1] 1061300"
      ]
     },
     "metadata": {},
     "output_type": "display_data"
    }
   ],
   "source": [
    "min(dist_obs_4_cent_1, dist_obs_4_cent_2)"
   ]
  },
  {
   "cell_type": "code",
   "execution_count": 72,
   "id": "639a061a",
   "metadata": {},
   "outputs": [],
   "source": [
    "dtw_clust_assign <- c(2, 1, 1, 1)"
   ]
  },
  {
   "cell_type": "markdown",
   "id": "14a588ab",
   "metadata": {},
   "source": [
    "# Save Results"
   ]
  },
  {
   "cell_type": "code",
   "execution_count": 73,
   "id": "01ea312d",
   "metadata": {},
   "outputs": [],
   "source": [
    "new_clust_assign_df <- data.frame(rand=rand_clust_assign,\n",
    "                                  catch22=catch22_clust_assign,\n",
    "                                  tsfeat=tsfeat_clust_assign,\n",
    "                                  dtw=dtw_clust_assign)"
   ]
  },
  {
   "cell_type": "code",
   "execution_count": 77,
   "id": "00e81281",
   "metadata": {},
   "outputs": [],
   "source": [
    "write.csv(new_clust_assign_df, \"Results/Unseen Sensor/clust_assign.csv\")"
   ]
  },
  {
   "cell_type": "code",
   "execution_count": null,
   "id": "be640589",
   "metadata": {},
   "outputs": [],
   "source": []
  }
 ],
 "metadata": {
  "kernelspec": {
   "display_name": "R",
   "language": "R",
   "name": "ir"
  },
  "language_info": {
   "codemirror_mode": "r",
   "file_extension": ".r",
   "mimetype": "text/x-r-source",
   "name": "R",
   "pygments_lexer": "r",
   "version": "4.1.3"
  }
 },
 "nbformat": 4,
 "nbformat_minor": 5
}
