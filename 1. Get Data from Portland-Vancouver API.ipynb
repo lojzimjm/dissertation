{
 "cells": [
  {
   "cell_type": "code",
   "execution_count": null,
   "id": "95134c28",
   "metadata": {},
   "outputs": [],
   "source": [
    "# If the libraries are not yet installed, they can be installed using conda commands similar to the below\n",
    "# %conda install pandas\n",
    "# %conda install requests \n",
    "\n",
    "# Something like the following may also work if the above does not\n",
    "# import sys\n",
    "# !conda install --yes --prefix {sys.prefix} pandas\n",
    "# !conda install --yes --prefix {sys.prefix} requests\n",
    "\n",
    "# To install a specific version, add the version to the install command\n",
    "# E.g., %conda install pandas=1.3.4\n",
    "\n",
    "# If all else fails, use pip or follow additional advice such as found at\n",
    "# https://jakevdp.github.io/blog/2017/12/05/installing-python-packages-from-jupyter/\n",
    "\n",
    "# If your plan to use pip (especially if you are not working within a specified conda environment), \n",
    "# the pip commands might look like:\n",
    "# pip install pandas\n",
    "# pip install requests\n",
    "\n",
    "# To install a specific version, add the version to the pip install command\n",
    "# E.g., pip install pandas==1.3.4"
   ]
  },
  {
   "cell_type": "code",
   "execution_count": null,
   "id": "341540d2",
   "metadata": {},
   "outputs": [],
   "source": [
    "# Load necessary libraries\n",
    "import requests\n",
    "import pandas as pd\n",
    "from io import StringIO\n",
    "import time\n",
    "import datetime\n",
    "import os"
   ]
  },
  {
   "cell_type": "code",
   "execution_count": null,
   "id": "3c835d55",
   "metadata": {},
   "outputs": [],
   "source": [
    "os.makedirs(\"Data/Raw/Highways_England\", exist_ok=True)\n",
    "\n",
    "os.makedirs(\"Data/Raw/Portland\", exist_ok=True)\n",
    "\n",
    "os.makedirs(\"Data/Raw/Utah\", exist_ok=True)"
   ]
  },
  {
   "cell_type": "code",
   "execution_count": null,
   "id": "3bdee426",
   "metadata": {},
   "outputs": [],
   "source": [
    "def get_portland_vancouver_data(date_list, highway_id=\"6\", resolution=\"00:15:00\", detector_choice=None):\n",
    "    \"\"\"Function to get portland-vancouver regional area highway data from the provided api\"\"\"\n",
    "    \n",
    "    # Set API headers\n",
    "    headers = {\n",
    "        'Host': 'new.portal.its.pdx.edu:8080',\n",
    "        'Referer': 'http://new.portal.its.pdx.edu:8080/downloads/'\n",
    "    }\n",
    "    \n",
    "    # Parameters for the while loop, which limits retries upon failure,\n",
    "    # and for the counter, which loops through the full date range provided in the function call\n",
    "    n = len(date_list)-1\n",
    "    counter = 0\n",
    "    \n",
    "    # Initialize empty data frame\n",
    "    full_df = pd.DataFrame()\n",
    "    \n",
    "\n",
    "    while counter < n:\n",
    "        print(f\"Reading for date range {date_list[counter]} to {date_list[counter+1]}\")\n",
    "\n",
    "        # Make API calls within try-except block to catch failures\n",
    "        try:\n",
    "            start = time.time()\n",
    "\n",
    "            # Set params for API call\n",
    "            params = (\n",
    "                ('start_date', date_list[counter]),\n",
    "                ('end_date', date_list[counter+1]),\n",
    "                ('highway_id', [highway_id]),\n",
    "                ('resolution', resolution),\n",
    "                ('format', 'csv')\n",
    "            )\n",
    "\n",
    "            # Make API call\n",
    "            response = requests.get(\n",
    "                'http://new.portal.its.pdx.edu:8080/highways/api/freewaydata/',\n",
    "                headers = headers, params = params)\n",
    "\n",
    "            end = time.time()\n",
    "            print(f\"API Call took {round(end-start, 2)} seconds\")\n",
    "\n",
    "            # Check that the call was successful, if not raise a generic exception\n",
    "            state = response.status_code\n",
    "            if state != 200:\n",
    "                raise Exception(state)\n",
    "\n",
    "            # If the call was successful, get the text body from the result and read in to df\n",
    "            df = pd.read_csv(StringIO(response.text))\n",
    "\n",
    "            # If a detector is specifed in function call, filter to only that detector in result df\n",
    "            if detector_choice:    \n",
    "                df = df.query(\"detector_id in @detector_choice\")\n",
    "\n",
    "            # Append to full data frame\n",
    "            full_df = full_df.append(df)\n",
    "\n",
    "            # Increment the counter\n",
    "            counter += 1\n",
    "\n",
    "        except Exception as err:\n",
    "            print(f\"API call failed. Retrying in 2 seconds.\")\n",
    "\n",
    "        # Sleep 2 seconds between API calls\n",
    "        time.sleep(2)\n",
    "\n",
    "        print(\"-------------------------\")\n",
    "            \n",
    "\n",
    "    # Return dataframe with full results\n",
    "    return full_df"
   ]
  },
  {
   "cell_type": "code",
   "execution_count": null,
   "id": "d1149c3e",
   "metadata": {},
   "outputs": [],
   "source": [
    "# Create a date list which breaks up. the year 2019 into 5-day long intervals to use with the API calling function\n",
    "date_list = ['2018-12-31', \n",
    "             '2019-01-05', \n",
    "             '2019-01-10',\n",
    "             '2019-01-15',\n",
    "             '2019-01-20',\n",
    "             '2019-01-25',\n",
    "             '2019-01-31',\n",
    "             '2019-02-01',\n",
    "             '2019-02-05',\n",
    "             '2019-02-10',\n",
    "             '2019-02-15',\n",
    "             '2019-02-20',\n",
    "             '2019-02-28',\n",
    "             '2019-03-01',\n",
    "             '2019-03-05',\n",
    "             '2019-03-10',\n",
    "             '2019-03-15',\n",
    "             '2019-03-20',\n",
    "             '2019-03-25',\n",
    "             '2019-03-31',\n",
    "             '2019-04-01',\n",
    "             '2019-04-05',\n",
    "             '2019-04-10',\n",
    "             '2019-04-15',\n",
    "             '2019-04-20',\n",
    "             '2019-04-25',\n",
    "             '2019-04-30',\n",
    "             '2019-05-01',\n",
    "             '2019-05-05',\n",
    "             '2019-05-10',\n",
    "             '2019-05-15',\n",
    "             '2019-05-20',\n",
    "             '2019-05-25',\n",
    "             '2019-05-31',\n",
    "             '2019-06-01',\n",
    "             '2019-06-05',\n",
    "             '2019-06-10',\n",
    "             '2019-06-15',\n",
    "             '2019-06-20',\n",
    "             '2019-06-25',\n",
    "             '2019-06-30',\n",
    "             '2019-07-01',\n",
    "             '2019-07-05',\n",
    "             '2019-07-10',\n",
    "             '2019-07-15',\n",
    "             '2019-07-20',\n",
    "             '2019-07-25',\n",
    "             '2019-07-31',\n",
    "             '2019-08-01',\n",
    "             '2019-08-05',\n",
    "             '2019-08-10',\n",
    "             '2019-08-15',\n",
    "             '2019-08-20',\n",
    "             '2019-08-25',\n",
    "             '2019-08-31',\n",
    "             '2019-09-01',\n",
    "             '2019-09-05',\n",
    "             '2019-09-10',\n",
    "             '2019-09-15',\n",
    "             '2019-09-20',\n",
    "             '2019-09-25',\n",
    "             '2019-09-30',\n",
    "             '2019-10-01',\n",
    "             '2019-10-05',\n",
    "             '2019-10-10',\n",
    "             '2019-10-15',\n",
    "             '2019-10-20',\n",
    "             '2019-10-25',\n",
    "             '2019-10-31',\n",
    "             '2019-11-01',\n",
    "             '2019-11-05',\n",
    "             '2019-11-10',\n",
    "             '2019-11-15',\n",
    "             '2019-11-20',\n",
    "             '2019-11-25',\n",
    "             '2019-11-30',\n",
    "             '2019-12-01',\n",
    "             '2019-12-05',\n",
    "             '2019-12-10',\n",
    "             '2019-12-15',\n",
    "             '2019-12-20',\n",
    "             '2019-12-25',\n",
    "             '2020-01-01'\n",
    "]"
   ]
  },
  {
   "cell_type": "code",
   "execution_count": null,
   "id": "5efd1516",
   "metadata": {
    "scrolled": true
   },
   "outputs": [],
   "source": [
    "# Make the API calls for highway 1\n",
    "df = get_portland_vancouver_data(date_list, highway_id=\"1\", \n",
    "                                 resolution=\"00:15:00\")\n",
    "df.to_csv('Data/Raw/Portland/all_sensors_highway1_portland.csv', index=False)"
   ]
  },
  {
   "cell_type": "code",
   "execution_count": null,
   "id": "6e3ce58e",
   "metadata": {},
   "outputs": [],
   "source": [
    "# Make the API calls for highway 2 and save the data\n",
    "df = get_portland_vancouver_data(date_list, highway_id=\"2\", \n",
    "                                 resolution=\"00:15:00\")\n",
    "df.to_csv('Data/Raw/Portland/all_sensors_highway2_portland.csv', index=False)"
   ]
  },
  {
   "cell_type": "code",
   "execution_count": null,
   "id": "767ffe96",
   "metadata": {},
   "outputs": [],
   "source": [
    "# Make the API calls for highway 3 and save the data\n",
    "df = get_portland_vancouver_data(date_list, highway_id=\"3\", \n",
    "                                 resolution=\"00:15:00\")\n",
    "df.to_csv('Data/Raw/Portland/all_sensors_highway3_portland.csv', index=False)"
   ]
  },
  {
   "cell_type": "code",
   "execution_count": null,
   "id": "1309e437",
   "metadata": {},
   "outputs": [],
   "source": [
    "# Make the API calls for highway 4 and save the data\n",
    "df = get_portland_vancouver_data(date_list, highway_id=\"4\", \n",
    "                                 resolution=\"00:15:00\")\n",
    "df.to_csv('Data/Raw/Portland/all_sensors_highway4_portland.csv', index=False)"
   ]
  },
  {
   "cell_type": "code",
   "execution_count": null,
   "id": "9d40853f",
   "metadata": {},
   "outputs": [],
   "source": [
    "# Make the API calls for highway 5 and save the data\n",
    "df = get_portland_vancouver_data(date_list, highway_id=\"5\", \n",
    "                                 resolution=\"00:15:00\")\n",
    "df.to_csv('Data/Raw/Portland/all_sensors_highway5_portland.csv', index=False)"
   ]
  },
  {
   "cell_type": "code",
   "execution_count": null,
   "id": "4a8a43e4",
   "metadata": {},
   "outputs": [],
   "source": [
    "# Make the API calls for highway 6 and save the data\n",
    "df = get_portland_vancouver_data(date_list, highway_id=\"6\", \n",
    "                                 resolution=\"00:15:00\")\n",
    "df.to_csv('Data/Raw/Portland/all_sensors_highway6_portland.csv', index=False)"
   ]
  },
  {
   "cell_type": "code",
   "execution_count": null,
   "id": "427fc66b",
   "metadata": {},
   "outputs": [],
   "source": [
    "# Make the API calls for highway 7 and save the data\n",
    "df = get_portland_vancouver_data(date_list, highway_id=\"7\", \n",
    "                                 resolution=\"00:15:00\")\n",
    "df.to_csv('Data/Raw/Portland/all_sensors_highway7_portland.csv', index=False)"
   ]
  },
  {
   "cell_type": "code",
   "execution_count": null,
   "id": "49de3f70",
   "metadata": {},
   "outputs": [],
   "source": [
    "# Make the API calls for highway 8 and save the data\n",
    "df = get_portland_vancouver_data(date_list, highway_id=\"8\", \n",
    "                                 resolution=\"00:15:00\")\n",
    "df.to_csv('Data/Raw/Portland/all_sensors_highway8_portland.csv', index=False)"
   ]
  },
  {
   "cell_type": "code",
   "execution_count": null,
   "id": "71f470e8",
   "metadata": {},
   "outputs": [],
   "source": [
    "# Make the API calls for highway 9 and save the data\n",
    "df = get_portland_vancouver_data(date_list, highway_id=\"9\", \n",
    "                                 resolution=\"00:15:00\")\n",
    "df.to_csv('Data/Raw/Portland/all_sensors_highway9_portland.csv', index=False)"
   ]
  },
  {
   "cell_type": "code",
   "execution_count": null,
   "id": "f0625124",
   "metadata": {},
   "outputs": [],
   "source": [
    "# Make the API calls for highway 10 and save the data\n",
    "df = get_portland_vancouver_data(date_list, highway_id=\"10\", \n",
    "                                 resolution=\"00:15:00\")\n",
    "df.to_csv('Data/Raw/Portland/all_sensors_highway10_portland.csv', index=False)"
   ]
  },
  {
   "cell_type": "code",
   "execution_count": null,
   "id": "9bb63091",
   "metadata": {},
   "outputs": [],
   "source": [
    "# Make the API calls for highway 11 and save the data\n",
    "df = get_portland_vancouver_data(date_list, highway_id=\"11\", \n",
    "                                 resolution=\"00:15:00\")\n",
    "df.to_csv('Data/Raw/Portland/all_sensors_highway11_portland.csv', index=False)"
   ]
  },
  {
   "cell_type": "code",
   "execution_count": null,
   "id": "4b144040",
   "metadata": {},
   "outputs": [],
   "source": [
    "# Make the API calls for highway 12 and save the data\n",
    "df = get_portland_vancouver_data(date_list, highway_id=\"12\", \n",
    "                                 resolution=\"00:15:00\")\n",
    "df.to_csv('Data/Raw/Portland/all_sensors_highway12_portland.csv', index=False)"
   ]
  },
  {
   "cell_type": "code",
   "execution_count": null,
   "id": "87b746b9",
   "metadata": {},
   "outputs": [],
   "source": [
    "df = get_portland_vancouver_data(date_list, highway_id=\"50\", \n",
    "                                 resolution=\"00:15:00\")\n",
    "df.to_csv('Data/Raw/Portland/all_sensors_highway50_portland.csv', index=False)"
   ]
  },
  {
   "cell_type": "code",
   "execution_count": null,
   "id": "baf67afa",
   "metadata": {},
   "outputs": [],
   "source": [
    "df = get_portland_vancouver_data(date_list, highway_id=\"51\", \n",
    "                                 resolution=\"00:15:00\")\n",
    "df.to_csv('Data/Raw/Portland/all_sensors_highway51_portland.csv', index=False)"
   ]
  },
  {
   "cell_type": "code",
   "execution_count": null,
   "id": "9ac782dc",
   "metadata": {},
   "outputs": [],
   "source": [
    "df = get_portland_vancouver_data(date_list, highway_id=\"52\", \n",
    "                                 resolution=\"00:15:00\")\n",
    "df.to_csv('Data/Raw/Portland/all_sensors_highway52_portland.csv', index=False)"
   ]
  },
  {
   "cell_type": "code",
   "execution_count": null,
   "id": "8bccb139",
   "metadata": {},
   "outputs": [],
   "source": [
    "df = get_portland_vancouver_data(date_list, highway_id=\"53\", \n",
    "                                 resolution=\"00:15:00\")\n",
    "df.to_csv('Data/Raw/Portland/all_sensors_highway53_portland.csv', index=False)"
   ]
  },
  {
   "cell_type": "code",
   "execution_count": null,
   "id": "50ede60d",
   "metadata": {},
   "outputs": [],
   "source": [
    "df = get_portland_vancouver_data(date_list, highway_id=\"618\", \n",
    "                                 resolution=\"00:15:00\")\n",
    "df.to_csv('Data/Raw/Portland/all_sensors_highway618_portland.csv', index=False)"
   ]
  },
  {
   "cell_type": "code",
   "execution_count": null,
   "id": "2457ce83",
   "metadata": {},
   "outputs": [],
   "source": [
    "df = get_portland_vancouver_data(date_list, highway_id=\"620\", \n",
    "                                 resolution=\"00:15:00\")\n",
    "df.to_csv('Data/Raw/Portland/all_sensors_highway620_portland.csv', index=False)"
   ]
  },
  {
   "cell_type": "code",
   "execution_count": null,
   "id": "a65faee1",
   "metadata": {},
   "outputs": [],
   "source": [
    "df = get_portland_vancouver_data(date_list, highway_id=\"621\", \n",
    "                                 resolution=\"00:15:00\")\n",
    "df.to_csv('Data/Raw/Portland/all_sensors_highway621_portland.csv', index=False)"
   ]
  },
  {
   "cell_type": "code",
   "execution_count": null,
   "id": "701e46c6",
   "metadata": {},
   "outputs": [],
   "source": []
  }
 ],
 "metadata": {
  "kernelspec": {
   "display_name": "Python 3 (ipykernel)",
   "language": "python",
   "name": "python3"
  },
  "language_info": {
   "codemirror_mode": {
    "name": "ipython",
    "version": 3
   },
   "file_extension": ".py",
   "mimetype": "text/x-python",
   "name": "python",
   "nbconvert_exporter": "python",
   "pygments_lexer": "ipython3",
   "version": "3.8.12"
  }
 },
 "nbformat": 4,
 "nbformat_minor": 5
}
