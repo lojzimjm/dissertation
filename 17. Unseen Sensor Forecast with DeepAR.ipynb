{
 "cells": [
  {
   "cell_type": "code",
   "execution_count": 2,
   "id": "2d78f0a9",
   "metadata": {},
   "outputs": [
    {
     "name": "stdout",
     "output_type": "stream",
     "text": [
      "Looking in indexes: https://pypi.org/simple, https://pip.repos.neuron.amazonaws.com\n",
      "Collecting mxnet\n",
      "  Downloading mxnet-1.9.1-py3-none-manylinux2014_x86_64.whl (49.1 MB)\n",
      "\u001b[2K     \u001b[90m━━━━━━━━━━━━━━━━━━━━━━━━━━━━━━━━━━━━━━━━\u001b[0m \u001b[32m49.1/49.1 MB\u001b[0m \u001b[31m41.1 MB/s\u001b[0m eta \u001b[36m0:00:00\u001b[0m00:01\u001b[0m00:01\u001b[0m\n",
      "\u001b[?25hRequirement already satisfied: requests<3,>=2.20.0 in /home/ec2-user/anaconda3/envs/python3/lib/python3.8/site-packages (from mxnet) (2.26.0)\n",
      "Collecting graphviz<0.9.0,>=0.8.1\n",
      "  Downloading graphviz-0.8.4-py2.py3-none-any.whl (16 kB)\n",
      "Requirement already satisfied: numpy<2.0.0,>1.16.0 in /home/ec2-user/anaconda3/envs/python3/lib/python3.8/site-packages (from mxnet) (1.20.3)\n",
      "Requirement already satisfied: certifi>=2017.4.17 in /home/ec2-user/anaconda3/envs/python3/lib/python3.8/site-packages (from requests<3,>=2.20.0->mxnet) (2022.5.18.1)\n",
      "Requirement already satisfied: idna<4,>=2.5 in /home/ec2-user/anaconda3/envs/python3/lib/python3.8/site-packages (from requests<3,>=2.20.0->mxnet) (3.1)\n",
      "Requirement already satisfied: charset-normalizer~=2.0.0 in /home/ec2-user/anaconda3/envs/python3/lib/python3.8/site-packages (from requests<3,>=2.20.0->mxnet) (2.0.8)\n",
      "Requirement already satisfied: urllib3<1.27,>=1.21.1 in /home/ec2-user/anaconda3/envs/python3/lib/python3.8/site-packages (from requests<3,>=2.20.0->mxnet) (1.26.9)\n",
      "Installing collected packages: graphviz, mxnet\n",
      "Successfully installed graphviz-0.8.4 mxnet-1.9.1\n",
      "Note: you may need to restart the kernel to use updated packages.\n"
     ]
    }
   ],
   "source": [
    "%pip install mxnet"
   ]
  },
  {
   "cell_type": "code",
   "execution_count": 3,
   "id": "2c00f830",
   "metadata": {},
   "outputs": [
    {
     "name": "stdout",
     "output_type": "stream",
     "text": [
      "Looking in indexes: https://pypi.org/simple, https://pip.repos.neuron.amazonaws.com\n",
      "Collecting gluonts\n",
      "  Downloading gluonts-0.9.4-py3-none-any.whl (2.8 MB)\n",
      "\u001b[2K     \u001b[90m━━━━━━━━━━━━━━━━━━━━━━━━━━━━━━━━━━━━━━━━\u001b[0m \u001b[32m2.8/2.8 MB\u001b[0m \u001b[31m101.0 MB/s\u001b[0m eta \u001b[36m0:00:00\u001b[0m\n",
      "\u001b[?25hRequirement already satisfied: holidays>=0.9 in /home/ec2-user/anaconda3/envs/python3/lib/python3.8/site-packages (from gluonts) (0.13)\n",
      "Collecting pydantic~=1.1\n",
      "  Downloading pydantic-1.9.1-cp38-cp38-manylinux_2_17_x86_64.manylinux2014_x86_64.whl (12.7 MB)\n",
      "\u001b[2K     \u001b[90m━━━━━━━━━━━━━━━━━━━━━━━━━━━━━━━━━━━━━━━\u001b[0m \u001b[32m12.7/12.7 MB\u001b[0m \u001b[31m104.2 MB/s\u001b[0m eta \u001b[36m0:00:00\u001b[0m00:01\u001b[0m00:01\u001b[0m\n",
      "\u001b[?25hRequirement already satisfied: toolz~=0.10 in /home/ec2-user/anaconda3/envs/python3/lib/python3.8/site-packages (from gluonts) (0.11.2)\n",
      "Requirement already satisfied: matplotlib~=3.0 in /home/ec2-user/anaconda3/envs/python3/lib/python3.8/site-packages (from gluonts) (3.5.0)\n",
      "Requirement already satisfied: typing-extensions~=4.0 in /home/ec2-user/anaconda3/envs/python3/lib/python3.8/site-packages (from gluonts) (4.0.0)\n",
      "Requirement already satisfied: pandas~=1.0 in /home/ec2-user/anaconda3/envs/python3/lib/python3.8/site-packages (from gluonts) (1.3.4)\n",
      "Requirement already satisfied: tqdm~=4.23 in /home/ec2-user/anaconda3/envs/python3/lib/python3.8/site-packages (from gluonts) (4.62.3)\n",
      "Requirement already satisfied: numpy~=1.16 in /home/ec2-user/anaconda3/envs/python3/lib/python3.8/site-packages (from gluonts) (1.20.3)\n",
      "Requirement already satisfied: hijri-converter in /home/ec2-user/anaconda3/envs/python3/lib/python3.8/site-packages (from holidays>=0.9->gluonts) (2.2.3)\n",
      "Requirement already satisfied: korean-lunar-calendar in /home/ec2-user/anaconda3/envs/python3/lib/python3.8/site-packages (from holidays>=0.9->gluonts) (0.2.1)\n",
      "Requirement already satisfied: convertdate>=2.3.0 in /home/ec2-user/anaconda3/envs/python3/lib/python3.8/site-packages (from holidays>=0.9->gluonts) (2.4.0)\n",
      "Requirement already satisfied: python-dateutil in /home/ec2-user/anaconda3/envs/python3/lib/python3.8/site-packages (from holidays>=0.9->gluonts) (2.8.2)\n",
      "Requirement already satisfied: kiwisolver>=1.0.1 in /home/ec2-user/anaconda3/envs/python3/lib/python3.8/site-packages (from matplotlib~=3.0->gluonts) (1.3.2)\n",
      "Requirement already satisfied: packaging>=20.0 in /home/ec2-user/anaconda3/envs/python3/lib/python3.8/site-packages (from matplotlib~=3.0->gluonts) (21.3)\n",
      "Requirement already satisfied: pyparsing>=2.2.1 in /home/ec2-user/anaconda3/envs/python3/lib/python3.8/site-packages (from matplotlib~=3.0->gluonts) (3.0.6)\n",
      "Requirement already satisfied: pillow>=6.2.0 in /home/ec2-user/anaconda3/envs/python3/lib/python3.8/site-packages (from matplotlib~=3.0->gluonts) (9.0.1)\n",
      "Requirement already satisfied: fonttools>=4.22.0 in /home/ec2-user/anaconda3/envs/python3/lib/python3.8/site-packages (from matplotlib~=3.0->gluonts) (4.28.2)\n",
      "Requirement already satisfied: cycler>=0.10 in /home/ec2-user/anaconda3/envs/python3/lib/python3.8/site-packages (from matplotlib~=3.0->gluonts) (0.11.0)\n",
      "Requirement already satisfied: pytz>=2017.3 in /home/ec2-user/anaconda3/envs/python3/lib/python3.8/site-packages (from pandas~=1.0->gluonts) (2021.3)\n",
      "Requirement already satisfied: pymeeus<=1,>=0.3.13 in /home/ec2-user/anaconda3/envs/python3/lib/python3.8/site-packages (from convertdate>=2.3.0->holidays>=0.9->gluonts) (0.5.10)\n",
      "Requirement already satisfied: six>=1.5 in /home/ec2-user/anaconda3/envs/python3/lib/python3.8/site-packages (from python-dateutil->holidays>=0.9->gluonts) (1.16.0)\n",
      "Installing collected packages: pydantic, gluonts\n",
      "Successfully installed gluonts-0.9.4 pydantic-1.9.1\n",
      "Note: you may need to restart the kernel to use updated packages.\n"
     ]
    }
   ],
   "source": [
    "%pip install gluonts"
   ]
  },
  {
   "cell_type": "code",
   "execution_count": 390,
   "id": "27709b99",
   "metadata": {},
   "outputs": [],
   "source": [
    "import time\n",
    "import numpy as np\n",
    "import pandas as pd\n",
    "import json\n",
    "import matplotlib.pyplot as plt\n",
    "import itertools\n",
    "from sklearn.metrics import mean_squared_error\n",
    "from sklearn.metrics import mean_absolute_error\n",
    "import glob\n",
    "import random"
   ]
  },
  {
   "cell_type": "code",
   "execution_count": 391,
   "id": "a8fae6e3",
   "metadata": {},
   "outputs": [],
   "source": [
    "from gluonts.model import deepar\n",
    "from gluonts.dataset.common import ListDataset\n",
    "from gluonts.evaluation import make_evaluation_predictions"
   ]
  },
  {
   "cell_type": "code",
   "execution_count": 392,
   "id": "8667363e",
   "metadata": {},
   "outputs": [],
   "source": [
    "from joblib import Parallel, delayed\n",
    "import contextlib\n",
    "import joblib\n",
    "from tqdm import tqdm\n",
    "import pickle"
   ]
  },
  {
   "cell_type": "code",
   "execution_count": 393,
   "id": "1cafb3cb",
   "metadata": {},
   "outputs": [],
   "source": [
    "import scipy\n",
    "import gc"
   ]
  },
  {
   "cell_type": "code",
   "execution_count": 394,
   "id": "3deca2d3",
   "metadata": {},
   "outputs": [],
   "source": [
    "np.random.seed(54321)\n",
    "random.seed(54321)"
   ]
  },
  {
   "cell_type": "markdown",
   "id": "da943f8e",
   "metadata": {},
   "source": [
    "# Read in Data and Prepare for Modeling"
   ]
  },
  {
   "cell_type": "code",
   "execution_count": 395,
   "id": "6b58b88c",
   "metadata": {},
   "outputs": [
    {
     "name": "stdout",
     "output_type": "stream",
     "text": [
      "Reading Data/Unseen Sensor/Processed/A19-9336-1_Northbound_2019_Processed.csv\n",
      "Reading Data/Unseen Sensor/Processed/A66-9521-1_Westbound_Processed.csv\n",
      "Reading Data/Unseen Sensor/Processed/M40-7048-2_Southbound_Processed.csv\n",
      "Reading Data/Unseen Sensor/Processed/M62-2056A_Eastbound_Processed.csv\n"
     ]
    }
   ],
   "source": [
    "# Read in all csv files for England from the Processed directory and save in a list\n",
    "\n",
    "# Create an empty list\n",
    "total_df_list = list()\n",
    "\n",
    "# Loop through all file names in alphebtical order to match R list.files function, \n",
    "# read into a pandas df, ensure each df is in chronological order, and append to list\n",
    "for fname in sorted(glob.glob(\"Data/Unseen Sensor/Processed/*.csv\")):\n",
    "    print(\"Reading {}\".format(fname))\n",
    "    df = pd.read_csv(fname)\n",
    "    df = df.sort_values(by=\"timestamp\")\n",
    "    total_df_list.append(df)"
   ]
  },
  {
   "cell_type": "code",
   "execution_count": 396,
   "id": "ec11414f",
   "metadata": {},
   "outputs": [],
   "source": [
    "# Read in the start and end points csv, and subtract 1 to deal with index differences between R and python\n",
    "start_end = pd.read_csv(\"unseen_sensor_start_end_points.csv\")\n",
    "start_end[\"start\"] = start_end[\"start\"] - 1\n",
    "start_end[\"end\"] = start_end[\"end\"]\n",
    "start_end = start_end.drop(columns=['Unnamed: 0'])"
   ]
  },
  {
   "cell_type": "code",
   "execution_count": 397,
   "id": "3af2d3de",
   "metadata": {},
   "outputs": [],
   "source": [
    "# Initialize an empty list\n",
    "subset_df_list = list()\n",
    "\n",
    "# For each df in the total_df_list\n",
    "for idx, df in enumerate(total_df_list):\n",
    "    \n",
    "    # subset the df using the start and end points\n",
    "    subset_df = df.iloc[start_end.iloc[idx,0]:start_end.iloc[idx,1], ]\\\n",
    "    .reset_index(drop=True).reset_index(drop=False)\\\n",
    "    .rename(columns={\"index\":\"rn\"}) # Create a row_num col based on the index of the data frame\n",
    "    \n",
    "    # Create a train_val_test field to denote which set each observation is a part of\n",
    "    subset_df[\"train_val_test\"] = np.where(subset_df[\"rn\"]<(96*7*8),\n",
    "                                           \"train\",\n",
    "                                           np.where(subset_df[\"rn\"]<(96*7*10),\n",
    "                                                    \"val\",\n",
    "                                                    \"test\"\n",
    "                                                   )\n",
    "                                       )\n",
    "\n",
    "    # Append the subset df to the list\n",
    "    subset_df_list.append(subset_df)"
   ]
  },
  {
   "cell_type": "code",
   "execution_count": 398,
   "id": "956e5edc",
   "metadata": {},
   "outputs": [],
   "source": [
    "# Create two lists, one for the train_val data and one for the test data\n",
    "train_df_list = list()\n",
    "test_df_list = list()\n",
    "\n",
    "# Loop through the list of subset dfs\n",
    "for df in subset_df_list:\n",
    "    \n",
    "    # Filter to train and val only for the training data\n",
    "    train_df = df.query(\"train_val_test != 'test'\").copy()\n",
    "    train_df = train_df[['timestamp', 'total_volume']]\\\n",
    "    .rename(columns={'timestamp':'ds', 'total_volume':'y'}) # For prophet, we must rename our timestamp column to ds and out target to y\n",
    "    \n",
    "    # Append to list\n",
    "    train_df_list.append(train_df)\n",
    "    \n",
    "    # Same steps for test df list\n",
    "    test_df = df.query(\"train_val_test == 'test'\").copy()\n",
    "    test_df = test_df[['timestamp', 'total_volume']]\\\n",
    "    .rename(columns={'timestamp':'ds', 'total_volume':'y'})\n",
    "    test_df_list.append(test_df)"
   ]
  },
  {
   "cell_type": "code",
   "execution_count": 399,
   "id": "640e898d",
   "metadata": {},
   "outputs": [],
   "source": [
    "prediction_length = 1\n",
    "context_length = 672"
   ]
  },
  {
   "cell_type": "code",
   "execution_count": 400,
   "id": "9088845d",
   "metadata": {},
   "outputs": [],
   "source": [
    "clust_assign = pd.read_csv(\"Results/Unseen Sensor/clust_assign.csv\")"
   ]
  },
  {
   "cell_type": "markdown",
   "id": "66bc2170",
   "metadata": {},
   "source": [
    "# Define Functions for Making Forecasts"
   ]
  },
  {
   "cell_type": "code",
   "execution_count": 402,
   "id": "f6ecc9dc",
   "metadata": {},
   "outputs": [],
   "source": [
    "# Code for progress bar:\n",
    "# https://stackoverflow.com/questions/24983493/tracking-progress-of-joblib-parallel-execution\n",
    "# This allows us to print a progress bar while running parallel loops using joblib \n",
    "\n",
    "@contextlib.contextmanager\n",
    "def tqdm_joblib(tqdm_object):\n",
    "    \"\"\"Context manager to patch joblib to report into tqdm progress bar given as argument\"\"\"\n",
    "    class TqdmBatchCompletionCallback(joblib.parallel.BatchCompletionCallBack):\n",
    "        def __call__(self, *args, **kwargs):\n",
    "            tqdm_object.update(n=self.batch_size)\n",
    "            return super().__call__(*args, **kwargs)\n",
    "\n",
    "    old_batch_callback = joblib.parallel.BatchCompletionCallBack\n",
    "    joblib.parallel.BatchCompletionCallBack = TqdmBatchCompletionCallback\n",
    "    try:\n",
    "        yield tqdm_object\n",
    "    finally:\n",
    "        joblib.parallel.BatchCompletionCallBack = old_batch_callback\n",
    "        tqdm_object.close()"
   ]
  },
  {
   "cell_type": "code",
   "execution_count": 403,
   "id": "7a8bf770",
   "metadata": {},
   "outputs": [],
   "source": [
    "# Function to compute clustered test preds\n",
    "def compute_deepar_test_preds_clust(model, test_df_ls, ts_idx_ls):\n",
    "    \"\"\"Function which takes inputs: a trained model, and a list of data frames which contain train+test data, \n",
    "    and which returns a df of model predictions on the test data\"\"\"\n",
    "        \n",
    "    forecast_means = dict()\n",
    "    forecast_medians = dict()\n",
    "    forecast_q10s = dict()\n",
    "    forecast_q90s = dict()\n",
    "    forecast_q025s = dict()\n",
    "    forecast_q975s = dict()\n",
    "\n",
    "    mod = model\n",
    "    \n",
    "    for idx in ts_idx_ls:\n",
    "        forecast_means[idx] = list()\n",
    "        forecast_medians[idx] = list()\n",
    "        forecast_q10s[idx] = list()\n",
    "        forecast_q90s[idx] = list()\n",
    "        forecast_q025s[idx] = list()\n",
    "        forecast_q975s[idx] = list()\n",
    "\n",
    "    for n in range(1344):\n",
    "        # print(n)\n",
    "        eval_dict_ls = [{\"start\": df.iloc[0,5],\n",
    "                         \"target\": df.iloc[:,[5,8]].iloc[0:(96*10*7+n),:].total_volume.values\n",
    "                        } for df in test_df_ls]\n",
    "        eval_data = ListDataset(eval_dict_ls, freq=\"15min\")\n",
    "\n",
    "        forecast_it, ts_it = make_evaluation_predictions(dataset=eval_data,  # test dataset\n",
    "                                                         predictor=mod,  # predictor\n",
    "                                                         num_samples=100,  # number of sample paths we want for evaluation\n",
    "                                                        )\n",
    "\n",
    "        forecasts = list(forecast_it)\n",
    "\n",
    "        for i in range(len(forecasts)):\n",
    "            forecast_mean = forecasts[i].samples.mean()\n",
    "            forecast_means[ts_idx_ls[i]].append(forecast_mean)\n",
    "\n",
    "            forecast_percentiles = np.percentile(forecasts[i].samples, [2.5, 10, 50, 90, 97.5])\n",
    "            forecast_medians[ts_idx_ls[i]].append(forecast_percentiles[2])\n",
    "\n",
    "            forecast_q10s[ts_idx_ls[i]].append(forecast_percentiles[1])\n",
    "            forecast_q90s[ts_idx_ls[i]].append(forecast_percentiles[3])\n",
    "            forecast_q025s[ts_idx_ls[i]].append(forecast_percentiles[0])\n",
    "            forecast_q975s[ts_idx_ls[i]].append(forecast_percentiles[4])       \n",
    "           \n",
    "    return (forecast_means, forecast_medians, forecast_q10s, forecast_q90s, forecast_q025s, forecast_q975s)"
   ]
  },
  {
   "cell_type": "code",
   "execution_count": 405,
   "id": "a36bd052",
   "metadata": {},
   "outputs": [],
   "source": [
    "# Create a function to compute the interval score\n",
    "def interval_score(true_values, lower, upper, interval_range):\n",
    "    \"\"\" Function which takes in the true values, the upper and lower bounds of PIs, and the PI level (e.g., 90%)\n",
    "        and from these inputs, computes the interval score for each prediction\n",
    "    \"\"\"\n",
    "    \n",
    "    # Compute alpha from the interval range\n",
    "    alpha = 100*(1-interval_range)\n",
    "    \n",
    "    # Save the upper, lower, and true_values as numpy arrays for computation purposes\n",
    "    upper = np.array(upper)\n",
    "    lower = np.array(lower)\n",
    "    true_values = np.array(true_values)\n",
    "    \n",
    "    # Compute the lower component of the interval score - just a boolean for true below interval\n",
    "    def lower_ind(true,low):\n",
    "        if true<low:\n",
    "            return 1\n",
    "        else:\n",
    "            return 0\n",
    "        \n",
    "    # Computer the upper component of the interval score - similar boolean for true above interval\n",
    "    def upper_ind(true,up):\n",
    "        if true>up:\n",
    "            return 1\n",
    "        else:\n",
    "            return 0\n",
    "        \n",
    "    # Computer the actual score for each obsveration - formula here: https://epiforecasts.io/scoringutils/reference/interval_score.html\n",
    "    scores = (upper-lower) + (2/alpha)*(lower-true_values)*(lower > true_values) + (2/alpha)*(true_values-upper)*(true_values > upper)\n",
    "    \n",
    "    # Return the scores array\n",
    "    return scores"
   ]
  },
  {
   "cell_type": "markdown",
   "id": "ca704b71",
   "metadata": {},
   "source": [
    "# Forecast with Global Model for All Data"
   ]
  },
  {
   "cell_type": "code",
   "execution_count": 401,
   "id": "1b37d512",
   "metadata": {},
   "outputs": [],
   "source": [
    "with open('Results/Global/DeepAR/Full/mod', 'rb') as mod_file:\n",
    "    mod = pickle.load(mod_file)"
   ]
  },
  {
   "cell_type": "code",
   "execution_count": 404,
   "id": "d305ae6d",
   "metadata": {},
   "outputs": [
    {
     "name": "stderr",
     "output_type": "stream",
     "text": [
      "Full Model DeepAR Unseen Preds: 100%|██████████| 4/4 [38:45<00:00, 581.27s/it]   \n"
     ]
    }
   ],
   "source": [
    "with tqdm_joblib(tqdm(desc=\"Full Model DeepAR Unseen Preds\", \n",
    "                      total=(len(subset_df_list)))) as progress_bar:\n",
    "    full_mod_preds = Parallel(n_jobs=4)(delayed(compute_deepar_test_preds_clust)(mod,\n",
    "                                                                                 [subset_df_list[i]],\n",
    "                                                                                 [i+1]\n",
    "                                                                                ) for i in range(len(subset_df_list)))"
   ]
  },
  {
   "cell_type": "code",
   "execution_count": 406,
   "id": "6ab534dc",
   "metadata": {},
   "outputs": [],
   "source": [
    "forec_means = {**full_mod_preds[0][0], \n",
    "               **full_mod_preds[1][0],\n",
    "               **full_mod_preds[2][0], \n",
    "               **full_mod_preds[3][0]}\n",
    "\n",
    "forec_lo_80 = {**full_mod_preds[0][2], \n",
    "               **full_mod_preds[1][2],\n",
    "               **full_mod_preds[2][2], \n",
    "               **full_mod_preds[3][2]}\n",
    "\n",
    "forec_hi_80 = {**full_mod_preds[0][3], \n",
    "               **full_mod_preds[1][3],\n",
    "               **full_mod_preds[2][3], \n",
    "               **full_mod_preds[3][3]}\n",
    "\n",
    "forec_lo_95 = {**full_mod_preds[0][4], \n",
    "               **full_mod_preds[1][4],\n",
    "               **full_mod_preds[2][4], \n",
    "               **full_mod_preds[3][4]}\n",
    "\n",
    "forec_hi_95 = {**full_mod_preds[0][5], \n",
    "               **full_mod_preds[1][5],\n",
    "               **full_mod_preds[2][5], \n",
    "               **full_mod_preds[3][5]}\n"
   ]
  },
  {
   "cell_type": "code",
   "execution_count": 407,
   "id": "4a96c46e",
   "metadata": {},
   "outputs": [],
   "source": [
    "forec_actuals = {k: test_df_list[k-1].y.to_list() for k in range(1, (len(test_df_list)+1))}\n",
    "\n",
    "forec_actual_means = {k: np.mean(test_df_list[k-1].y.to_list()) for k in range(1, (len(test_df_list)+1))}"
   ]
  },
  {
   "cell_type": "code",
   "execution_count": 408,
   "id": "1c26c929",
   "metadata": {},
   "outputs": [],
   "source": [
    "full_int_score_80 = {k: interval_score(forec_actuals[k], \n",
    "                                       forec_lo_80[k],\n",
    "                                       forec_hi_80[k],\n",
    "                                       0.8) for k in forec_actuals.keys()\n",
    "                    }\n",
    "\n",
    "full_int_score_95 = {k: interval_score(forec_actuals[k], \n",
    "                                       forec_lo_95[k],\n",
    "                                       forec_hi_95[k],\n",
    "                                       0.95) for k in forec_actuals.keys()\n",
    "                    }\n",
    "\n",
    "full_rmse = {k: mean_squared_error(forec_actuals[k], \n",
    "                                   forec_means[k], \n",
    "                                   squared=False) for k in forec_actuals.keys()}\n",
    "\n",
    "full_mae = {k: mean_absolute_error(forec_actuals[k], \n",
    "                                   forec_means[k]) for k in forec_actuals.keys()}"
   ]
  },
  {
   "cell_type": "code",
   "execution_count": 409,
   "id": "4985154a",
   "metadata": {},
   "outputs": [
    {
     "data": {
      "text/plain": [
       "57.98740754059675"
      ]
     },
     "execution_count": 409,
     "metadata": {},
     "output_type": "execute_result"
    }
   ],
   "source": [
    "np.mean(list(full_rmse.values()))"
   ]
  },
  {
   "cell_type": "code",
   "execution_count": 410,
   "id": "40e13ad4",
   "metadata": {},
   "outputs": [
    {
     "data": {
      "text/plain": [
       "38.8193564518754"
      ]
     },
     "execution_count": 410,
     "metadata": {},
     "output_type": "execute_result"
    }
   ],
   "source": [
    "np.mean(list(full_mae.values()))"
   ]
  },
  {
   "cell_type": "code",
   "execution_count": 411,
   "id": "87e96779",
   "metadata": {},
   "outputs": [
    {
     "data": {
      "text/plain": [
       "0.15678632343074098"
      ]
     },
     "execution_count": 411,
     "metadata": {},
     "output_type": "execute_result"
    }
   ],
   "source": [
    "np.mean([full_rmse[k]/forec_actual_means[k] for k in full_rmse.keys()])"
   ]
  },
  {
   "cell_type": "code",
   "execution_count": 412,
   "id": "5c96baf8",
   "metadata": {},
   "outputs": [
    {
     "data": {
      "text/plain": [
       "0.10843076351965276"
      ]
     },
     "execution_count": 412,
     "metadata": {},
     "output_type": "execute_result"
    }
   ],
   "source": [
    "np.mean([full_mae[k]/forec_actual_means[k] for k in full_mae.keys()])"
   ]
  },
  {
   "cell_type": "code",
   "execution_count": 413,
   "id": "849cfa30",
   "metadata": {},
   "outputs": [
    {
     "data": {
      "text/plain": [
       "73.160084963087"
      ]
     },
     "execution_count": 413,
     "metadata": {},
     "output_type": "execute_result"
    }
   ],
   "source": [
    "np.mean(list(full_int_score_80.values()))"
   ]
  },
  {
   "cell_type": "code",
   "execution_count": 414,
   "id": "e00038b5",
   "metadata": {},
   "outputs": [
    {
     "data": {
      "text/plain": [
       "122.19913741105674"
      ]
     },
     "execution_count": 414,
     "metadata": {},
     "output_type": "execute_result"
    }
   ],
   "source": [
    "np.mean(list(full_int_score_95.values()))"
   ]
  },
  {
   "cell_type": "code",
   "execution_count": 415,
   "id": "1312e6da",
   "metadata": {},
   "outputs": [
    {
     "data": {
      "text/plain": [
       "0.2394914899711956"
      ]
     },
     "execution_count": 415,
     "metadata": {},
     "output_type": "execute_result"
    }
   ],
   "source": [
    "np.mean([full_int_score_80[k]/forec_actual_means[k] for k in full_int_score_80.keys()])"
   ]
  },
  {
   "cell_type": "code",
   "execution_count": 416,
   "id": "ac04bac8",
   "metadata": {},
   "outputs": [
    {
     "data": {
      "text/plain": [
       "0.39925932963070404"
      ]
     },
     "execution_count": 416,
     "metadata": {},
     "output_type": "execute_result"
    },
    {
     "name": "stderr",
     "output_type": "stream",
     "text": [
      "/home/ec2-user/anaconda3/envs/python3/lib/python3.8/site-packages/gluonts/dataset/common.py:324: FutureWarning: The 'freq' argument in Timestamp is deprecated and will be removed in a future version.\n",
      "  timestamp = pd.Timestamp(timestamp_input, freq=freq)\n",
      "/home/ec2-user/anaconda3/envs/python3/lib/python3.8/site-packages/gluonts/dataset/common.py:327: FutureWarning: Timestamp.freq is deprecated and will be removed in a future version\n",
      "  if isinstance(timestamp.freq, Tick):\n",
      "/home/ec2-user/anaconda3/envs/python3/lib/python3.8/site-packages/gluonts/dataset/common.py:329: FutureWarning: Timestamp.freq is deprecated and will be removed in a future version\n",
      "  timestamp.floor(timestamp.freq), timestamp.freq\n",
      "/home/ec2-user/anaconda3/envs/python3/lib/python3.8/site-packages/gluonts/dataset/common.py:328: FutureWarning: The 'freq' argument in Timestamp is deprecated and will be removed in a future version.\n",
      "  return pd.Timestamp(\n",
      "/home/ec2-user/anaconda3/envs/python3/lib/python3.8/site-packages/gluonts/transform/feature.py:340: FutureWarning: Timestamp.freq is deprecated and will be removed in a future version\n",
      "  self._freq_base is None or self._freq_base == start.freq.base\n",
      "/home/ec2-user/anaconda3/envs/python3/lib/python3.8/site-packages/gluonts/transform/split.py:36: FutureWarning: Timestamp.freq is deprecated and will be removed in a future version\n",
      "  return _shift_timestamp_helper(ts, ts.freq, offset)\n",
      "/home/ec2-user/anaconda3/envs/python3/lib/python3.8/site-packages/gluonts/transform/feature.py:384: FutureWarning: Timestamp.freq is deprecated and will be removed in a future version\n",
      "  ..., i0 : i0 + length * start.freq.n : start.freq.n\n",
      "/home/ec2-user/anaconda3/envs/python3/lib/python3.8/site-packages/gluonts/dataset/common.py:324: FutureWarning: The 'freq' argument in Timestamp is deprecated and will be removed in a future version.\n",
      "  timestamp = pd.Timestamp(timestamp_input, freq=freq)\n",
      "/home/ec2-user/anaconda3/envs/python3/lib/python3.8/site-packages/gluonts/dataset/common.py:327: FutureWarning: Timestamp.freq is deprecated and will be removed in a future version\n",
      "  if isinstance(timestamp.freq, Tick):\n",
      "/home/ec2-user/anaconda3/envs/python3/lib/python3.8/site-packages/gluonts/dataset/common.py:329: FutureWarning: Timestamp.freq is deprecated and will be removed in a future version\n",
      "  timestamp.floor(timestamp.freq), timestamp.freq\n",
      "/home/ec2-user/anaconda3/envs/python3/lib/python3.8/site-packages/gluonts/dataset/common.py:328: FutureWarning: The 'freq' argument in Timestamp is deprecated and will be removed in a future version.\n",
      "  return pd.Timestamp(\n",
      "/home/ec2-user/anaconda3/envs/python3/lib/python3.8/site-packages/gluonts/transform/feature.py:340: FutureWarning: Timestamp.freq is deprecated and will be removed in a future version\n",
      "  self._freq_base is None or self._freq_base == start.freq.base\n",
      "/home/ec2-user/anaconda3/envs/python3/lib/python3.8/site-packages/gluonts/transform/split.py:36: FutureWarning: Timestamp.freq is deprecated and will be removed in a future version\n",
      "  return _shift_timestamp_helper(ts, ts.freq, offset)\n",
      "/home/ec2-user/anaconda3/envs/python3/lib/python3.8/site-packages/gluonts/transform/feature.py:384: FutureWarning: Timestamp.freq is deprecated and will be removed in a future version\n",
      "  ..., i0 : i0 + length * start.freq.n : start.freq.n\n",
      "/home/ec2-user/anaconda3/envs/python3/lib/python3.8/site-packages/gluonts/dataset/common.py:324: FutureWarning: The 'freq' argument in Timestamp is deprecated and will be removed in a future version.\n",
      "  timestamp = pd.Timestamp(timestamp_input, freq=freq)\n",
      "/home/ec2-user/anaconda3/envs/python3/lib/python3.8/site-packages/gluonts/dataset/common.py:327: FutureWarning: Timestamp.freq is deprecated and will be removed in a future version\n",
      "  if isinstance(timestamp.freq, Tick):\n",
      "/home/ec2-user/anaconda3/envs/python3/lib/python3.8/site-packages/gluonts/dataset/common.py:329: FutureWarning: Timestamp.freq is deprecated and will be removed in a future version\n",
      "  timestamp.floor(timestamp.freq), timestamp.freq\n",
      "/home/ec2-user/anaconda3/envs/python3/lib/python3.8/site-packages/gluonts/dataset/common.py:328: FutureWarning: The 'freq' argument in Timestamp is deprecated and will be removed in a future version.\n",
      "  return pd.Timestamp(\n",
      "/home/ec2-user/anaconda3/envs/python3/lib/python3.8/site-packages/gluonts/transform/feature.py:340: FutureWarning: Timestamp.freq is deprecated and will be removed in a future version\n",
      "  self._freq_base is None or self._freq_base == start.freq.base\n",
      "/home/ec2-user/anaconda3/envs/python3/lib/python3.8/site-packages/gluonts/transform/split.py:36: FutureWarning: Timestamp.freq is deprecated and will be removed in a future version\n",
      "  return _shift_timestamp_helper(ts, ts.freq, offset)\n",
      "/home/ec2-user/anaconda3/envs/python3/lib/python3.8/site-packages/gluonts/transform/feature.py:384: FutureWarning: Timestamp.freq is deprecated and will be removed in a future version\n",
      "  ..., i0 : i0 + length * start.freq.n : start.freq.n\n",
      "/home/ec2-user/anaconda3/envs/python3/lib/python3.8/site-packages/gluonts/dataset/common.py:324: FutureWarning: The 'freq' argument in Timestamp is deprecated and will be removed in a future version.\n",
      "  timestamp = pd.Timestamp(timestamp_input, freq=freq)\n",
      "/home/ec2-user/anaconda3/envs/python3/lib/python3.8/site-packages/gluonts/dataset/common.py:327: FutureWarning: Timestamp.freq is deprecated and will be removed in a future version\n",
      "  if isinstance(timestamp.freq, Tick):\n",
      "/home/ec2-user/anaconda3/envs/python3/lib/python3.8/site-packages/gluonts/dataset/common.py:329: FutureWarning: Timestamp.freq is deprecated and will be removed in a future version\n",
      "  timestamp.floor(timestamp.freq), timestamp.freq\n",
      "/home/ec2-user/anaconda3/envs/python3/lib/python3.8/site-packages/gluonts/dataset/common.py:328: FutureWarning: The 'freq' argument in Timestamp is deprecated and will be removed in a future version.\n",
      "  return pd.Timestamp(\n",
      "/home/ec2-user/anaconda3/envs/python3/lib/python3.8/site-packages/gluonts/transform/feature.py:340: FutureWarning: Timestamp.freq is deprecated and will be removed in a future version\n",
      "  self._freq_base is None or self._freq_base == start.freq.base\n",
      "/home/ec2-user/anaconda3/envs/python3/lib/python3.8/site-packages/gluonts/transform/split.py:36: FutureWarning: Timestamp.freq is deprecated and will be removed in a future version\n",
      "  return _shift_timestamp_helper(ts, ts.freq, offset)\n",
      "/home/ec2-user/anaconda3/envs/python3/lib/python3.8/site-packages/gluonts/transform/feature.py:384: FutureWarning: Timestamp.freq is deprecated and will be removed in a future version\n",
      "  ..., i0 : i0 + length * start.freq.n : start.freq.n\n"
     ]
    }
   ],
   "source": [
    "np.mean([full_int_score_95[k]/forec_actual_means[k] for k in full_int_score_95.keys()])"
   ]
  },
  {
   "cell_type": "code",
   "execution_count": null,
   "id": "4b3a7ceb",
   "metadata": {},
   "outputs": [],
   "source": []
  },
  {
   "cell_type": "markdown",
   "id": "7d224982",
   "metadata": {},
   "source": [
    "# Forecast with Models for Random Clusters"
   ]
  },
  {
   "cell_type": "code",
   "execution_count": 34,
   "id": "2b935fcc",
   "metadata": {},
   "outputs": [
    {
     "data": {
      "text/plain": [
       "0    3\n",
       "1    2\n",
       "2    1\n",
       "3    4\n",
       "Name: rand, dtype: int64"
      ]
     },
     "execution_count": 34,
     "metadata": {},
     "output_type": "execute_result"
    }
   ],
   "source": [
    "clust_assign.rand"
   ]
  },
  {
   "cell_type": "code",
   "execution_count": 418,
   "id": "e1776bb5",
   "metadata": {},
   "outputs": [],
   "source": [
    "with open(f'Results/Global/DeepAR/Random Cluster/mod_2', 'rb') as f:\n",
    "    rand_clust_deep_ar_mod3 = pickle.load(f)\n",
    "    \n",
    "with open(f'Results/Global/DeepAR/Random Cluster/mod_1', 'rb') as f:\n",
    "    rand_clust_deep_ar_mod2 = pickle.load(f)\n",
    "    \n",
    "with open(f'Results/Global/DeepAR/Random Cluster/mod_0', 'rb') as f:\n",
    "    rand_clust_deep_ar_mod1 = pickle.load(f)\n",
    "    \n",
    "with open(f'Results/Global/DeepAR/Random Cluster/mod_3', 'rb') as f:\n",
    "    rand_clust_deep_ar_mod4 = pickle.load(f)"
   ]
  },
  {
   "cell_type": "code",
   "execution_count": 419,
   "id": "aa1dcf01",
   "metadata": {},
   "outputs": [],
   "source": [
    "rand_clust_deep_ar_mod_ls = [rand_clust_deep_ar_mod3, rand_clust_deep_ar_mod2, \n",
    "                             rand_clust_deep_ar_mod1, rand_clust_deep_ar_mod4]"
   ]
  },
  {
   "cell_type": "code",
   "execution_count": null,
   "id": "d21def72",
   "metadata": {},
   "outputs": [
    {
     "name": "stderr",
     "output_type": "stream",
     "text": [
      "\r",
      "Random Cluster DeepAR Unseen Preds:   0%|          | 0/4 [00:00<?, ?it/s]"
     ]
    }
   ],
   "source": [
    "with tqdm_joblib(tqdm(desc=\"Random Cluster DeepAR Unseen Preds\", \n",
    "                      total=(len(subset_df_list)))) as progress_bar:\n",
    "    rand_clust_test_preds = Parallel(n_jobs=4)(delayed(compute_deepar_test_preds_clust)(rand_clust_deep_ar_mod_ls[i],\n",
    "                                                                                        [subset_df_list[i]],\n",
    "                                                                                        [i+1]\n",
    "                                                                                       ) for i in range(len(subset_df_list)))"
   ]
  },
  {
   "cell_type": "code",
   "execution_count": null,
   "id": "681162bc",
   "metadata": {
    "scrolled": true
   },
   "outputs": [],
   "source": [
    "# rand_clust3_test_pred = compute_deepar_test_preds_clust(rand_clust_deep_ar_mod3,\n",
    "#                                                         [subset_df_list[0]],\n",
    "#                                                         [1]\n",
    "#                                                        )"
   ]
  },
  {
   "cell_type": "code",
   "execution_count": null,
   "id": "4db5d11a",
   "metadata": {},
   "outputs": [],
   "source": [
    "# rand_clust2_test_pred = compute_deepar_test_preds_clust(rand_clust_deep_ar_mod2,\n",
    "#                                                         [subset_df_list[1]],\n",
    "#                                                         [2]\n",
    "#                                                        )"
   ]
  },
  {
   "cell_type": "code",
   "execution_count": null,
   "id": "3f51e6dd",
   "metadata": {},
   "outputs": [],
   "source": [
    "# rand_clust1_test_pred = compute_deepar_test_preds_clust(rand_clust_deep_ar_mod1,\n",
    "#                                                         [subset_df_list[2]],\n",
    "#                                                         [3]\n",
    "#                                                        )"
   ]
  },
  {
   "cell_type": "code",
   "execution_count": null,
   "id": "f4d81c0b",
   "metadata": {},
   "outputs": [],
   "source": [
    "# rand_clust4_test_pred = compute_deepar_test_preds_clust(rand_clust_deep_ar_mod4,\n",
    "#                                                         [subset_df_list[3]],\n",
    "#                                                         [4]\n",
    "#                                                        )"
   ]
  },
  {
   "cell_type": "code",
   "execution_count": null,
   "id": "06684ad5",
   "metadata": {},
   "outputs": [],
   "source": []
  },
  {
   "cell_type": "code",
   "execution_count": null,
   "id": "e17f5fac",
   "metadata": {},
   "outputs": [],
   "source": [
    "rand_clust_forec_means = {**rand_clust_test_preds[0][0], \n",
    "                          **rand_clust_test_preds[1][0],\n",
    "                          **rand_clust_test_preds[2][0], \n",
    "                          **rand_clust_test_preds[3][0]}\n",
    "\n",
    "rand_clust_forec_lo_80 = {**rand_clust_test_preds[0][2], \n",
    "                          **rand_clust_test_preds[1][2],\n",
    "                          **rand_clust_test_preds[2][2], \n",
    "                          **rand_clust_test_preds[3][2]}\n",
    "\n",
    "rand_clust_forec_hi_80 = {**rand_clust_test_preds[0][3], \n",
    "                          **rand_clust_test_preds[1][3],\n",
    "                          **rand_clust_test_preds[2][3], \n",
    "                          **rand_clust_test_preds[3][3]}\n",
    "\n",
    "rand_clust_forec_lo_95 = {**rand_clust_test_preds[0][4], \n",
    "                          **rand_clust_test_preds[1][4],\n",
    "                          **rand_clust_test_preds[2][4], \n",
    "                          **rand_clust_test_preds[3][4]}\n",
    "\n",
    "rand_clust_forec_hi_95 = {**rand_clust_test_preds[0][5], \n",
    "                          **rand_clust_test_preds[1][5],\n",
    "                          **rand_clust_test_preds[2][5], \n",
    "                          **rand_clust_test_preds[3][5]}\n",
    "\n",
    "rand_clust_forec_actuals = {k: test_df_list[k-1].y.to_list() for k in range(1, (len(test_df_list)+1))}\n",
    "\n",
    "rand_clust_forec_actual_means = {k: np.mean(test_df_list[k-1].y.to_list()) for k in range(1, (len(test_df_list)+1))}"
   ]
  },
  {
   "cell_type": "code",
   "execution_count": null,
   "id": "abed5c7a",
   "metadata": {},
   "outputs": [],
   "source": [
    "rand_clust_int_score_80 = {k: interval_score(rand_clust_forec_actuals[k], \n",
    "                                             rand_clust_forec_lo_80[k],\n",
    "                                             rand_clust_forec_hi_80[k],\n",
    "                                             0.8) for k in rand_clust_forec_actuals.keys()\n",
    "                          }\n",
    "\n",
    "rand_clust_int_score_95 = {k: interval_score(rand_clust_forec_actuals[k], \n",
    "                                             rand_clust_forec_lo_95[k],\n",
    "                                             rand_clust_forec_hi_95[k],\n",
    "                                             0.95) for k in rand_clust_forec_actuals.keys()\n",
    "                          }\n",
    "\n",
    "rand_clust_rmse = {k: mean_squared_error(rand_clust_forec_actuals[k], \n",
    "                                      rand_clust_forec_means[k], \n",
    "                                      squared=False) for k in rand_clust_forec_actuals.keys()}\n",
    "\n",
    "rand_clust_mae = {k: mean_absolute_error(rand_clust_forec_actuals[k], \n",
    "                                      rand_clust_forec_means[k]) for k in rand_clust_forec_actuals.keys()}"
   ]
  },
  {
   "cell_type": "code",
   "execution_count": null,
   "id": "fdb53257",
   "metadata": {},
   "outputs": [],
   "source": [
    "np.mean(list(rand_clust_rmse.values()))"
   ]
  },
  {
   "cell_type": "code",
   "execution_count": null,
   "id": "8ac916d8",
   "metadata": {},
   "outputs": [],
   "source": [
    "np.mean(list(rand_clust_mae.values()))"
   ]
  },
  {
   "cell_type": "code",
   "execution_count": null,
   "id": "489a44d7",
   "metadata": {},
   "outputs": [],
   "source": [
    "np.mean([rand_clust_rmse[k]/rand_clust_forec_actual_means[k] for k in rand_clust_rmse.keys()])"
   ]
  },
  {
   "cell_type": "code",
   "execution_count": null,
   "id": "d4e09675",
   "metadata": {},
   "outputs": [],
   "source": [
    "np.mean([rand_clust_mae[k]/rand_clust_forec_actual_means[k] for k in rand_clust_mae.keys()])"
   ]
  },
  {
   "cell_type": "code",
   "execution_count": null,
   "id": "05883e3c",
   "metadata": {},
   "outputs": [],
   "source": [
    "np.mean(list(rand_clust_int_score_80.values()))"
   ]
  },
  {
   "cell_type": "code",
   "execution_count": null,
   "id": "d3095083",
   "metadata": {},
   "outputs": [],
   "source": [
    "np.mean(list(rand_clust_int_score_95.values()))"
   ]
  },
  {
   "cell_type": "code",
   "execution_count": null,
   "id": "2553dbf2",
   "metadata": {},
   "outputs": [],
   "source": [
    "np.mean([rand_clust_int_score_80[k]/rand_clust_forec_actual_means[k] for k in rand_clust_int_score_80.keys()])"
   ]
  },
  {
   "cell_type": "code",
   "execution_count": null,
   "id": "d2752507",
   "metadata": {},
   "outputs": [],
   "source": [
    "np.mean([rand_clust_int_score_95[k]/rand_clust_forec_actual_means[k] for k in rand_clust_int_score_95.keys()])"
   ]
  },
  {
   "cell_type": "code",
   "execution_count": null,
   "id": "357b9aca",
   "metadata": {},
   "outputs": [],
   "source": []
  },
  {
   "cell_type": "markdown",
   "id": "9f90505c",
   "metadata": {},
   "source": [
    "# Forecast with Highway System Model - REDO THIS ONE"
   ]
  },
  {
   "cell_type": "code",
   "execution_count": 281,
   "id": "8f7f356e",
   "metadata": {},
   "outputs": [],
   "source": [
    "with open(f'Results/Global/DeepAR/Highway System/mod_0', 'rb') as f:\n",
    "    eng_mod = pickle.load(f)"
   ]
  },
  {
   "cell_type": "code",
   "execution_count": 282,
   "id": "e070db66",
   "metadata": {},
   "outputs": [
    {
     "name": "stdout",
     "output_type": "stream",
     "text": [
      "0\n",
      "1\n",
      "2\n",
      "3\n",
      "4\n",
      "5\n",
      "6\n",
      "7\n",
      "8\n",
      "9\n",
      "10\n",
      "11\n",
      "12\n",
      "13\n",
      "14\n",
      "15\n",
      "16\n",
      "17\n",
      "18\n",
      "19\n",
      "20\n",
      "21\n",
      "22\n",
      "23\n",
      "24\n",
      "25\n",
      "26\n",
      "27\n",
      "28\n",
      "29\n",
      "30\n",
      "31\n",
      "32\n",
      "33\n",
      "34\n",
      "35\n",
      "36\n",
      "37\n",
      "38\n",
      "39\n",
      "40\n",
      "41\n",
      "42\n",
      "43\n",
      "44\n",
      "45\n",
      "46\n",
      "47\n",
      "48\n",
      "49\n",
      "50\n",
      "51\n",
      "52\n",
      "53\n",
      "54\n",
      "55\n",
      "56\n",
      "57\n",
      "58\n",
      "59\n",
      "60\n",
      "61\n",
      "62\n",
      "63\n",
      "64\n",
      "65\n",
      "66\n",
      "67\n",
      "68\n",
      "69\n",
      "70\n",
      "71\n",
      "72\n",
      "73\n",
      "74\n",
      "75\n",
      "76\n",
      "77\n",
      "78\n",
      "79\n",
      "80\n",
      "81\n",
      "82\n",
      "83\n",
      "84\n",
      "85\n",
      "86\n",
      "87\n",
      "88\n",
      "89\n",
      "90\n",
      "91\n",
      "92\n",
      "93\n",
      "94\n",
      "95\n",
      "96\n",
      "97\n",
      "98\n",
      "99\n",
      "100\n",
      "101\n",
      "102\n",
      "103\n",
      "104\n",
      "105\n",
      "106\n",
      "107\n",
      "108\n",
      "109\n",
      "110\n",
      "111\n",
      "112\n",
      "113\n",
      "114\n",
      "115\n",
      "116\n",
      "117\n",
      "118\n",
      "119\n",
      "120\n",
      "121\n",
      "122\n",
      "123\n",
      "124\n",
      "125\n",
      "126\n",
      "127\n",
      "128\n",
      "129\n",
      "130\n",
      "131\n",
      "132\n",
      "133\n",
      "134\n",
      "135\n",
      "136\n",
      "137\n",
      "138\n",
      "139\n",
      "140\n",
      "141\n",
      "142\n",
      "143\n",
      "144\n",
      "145\n",
      "146\n",
      "147\n",
      "148\n",
      "149\n",
      "150\n",
      "151\n",
      "152\n",
      "153\n",
      "154\n",
      "155\n",
      "156\n",
      "157\n",
      "158\n",
      "159\n",
      "160\n",
      "161\n",
      "162\n",
      "163\n",
      "164\n",
      "165\n",
      "166\n",
      "167\n",
      "168\n",
      "169\n",
      "170\n",
      "171\n",
      "172\n",
      "173\n",
      "174\n",
      "175\n",
      "176\n",
      "177\n",
      "178\n",
      "179\n",
      "180\n",
      "181\n",
      "182\n",
      "183\n",
      "184\n",
      "185\n",
      "186\n",
      "187\n",
      "188\n",
      "189\n",
      "190\n",
      "191\n",
      "192\n",
      "193\n",
      "194\n",
      "195\n",
      "196\n",
      "197\n",
      "198\n",
      "199\n",
      "200\n",
      "201\n",
      "202\n",
      "203\n",
      "204\n",
      "205\n",
      "206\n",
      "207\n",
      "208\n",
      "209\n",
      "210\n",
      "211\n",
      "212\n",
      "213\n",
      "214\n",
      "215\n",
      "216\n",
      "217\n",
      "218\n",
      "219\n",
      "220\n",
      "221\n",
      "222\n",
      "223\n",
      "224\n",
      "225\n",
      "226\n",
      "227\n",
      "228\n",
      "229\n",
      "230\n",
      "231\n",
      "232\n",
      "233\n",
      "234\n",
      "235\n",
      "236\n",
      "237\n",
      "238\n",
      "239\n",
      "240\n",
      "241\n",
      "242\n",
      "243\n",
      "244\n",
      "245\n",
      "246\n",
      "247\n",
      "248\n",
      "249\n",
      "250\n",
      "251\n",
      "252\n",
      "253\n",
      "254\n",
      "255\n",
      "256\n",
      "257\n",
      "258\n",
      "259\n",
      "260\n",
      "261\n",
      "262\n",
      "263\n",
      "264\n",
      "265\n",
      "266\n",
      "267\n",
      "268\n",
      "269\n",
      "270\n",
      "271\n",
      "272\n",
      "273\n",
      "274\n",
      "275\n",
      "276\n",
      "277\n",
      "278\n",
      "279\n",
      "280\n",
      "281\n",
      "282\n",
      "283\n",
      "284\n",
      "285\n",
      "286\n",
      "287\n",
      "288\n",
      "289\n",
      "290\n",
      "291\n",
      "292\n",
      "293\n",
      "294\n",
      "295\n",
      "296\n",
      "297\n",
      "298\n",
      "299\n",
      "300\n",
      "301\n",
      "302\n",
      "303\n",
      "304\n",
      "305\n",
      "306\n",
      "307\n",
      "308\n",
      "309\n",
      "310\n",
      "311\n",
      "312\n",
      "313\n",
      "314\n",
      "315\n",
      "316\n",
      "317\n",
      "318\n",
      "319\n",
      "320\n",
      "321\n",
      "322\n",
      "323\n",
      "324\n",
      "325\n",
      "326\n",
      "327\n",
      "328\n",
      "329\n",
      "330\n",
      "331\n",
      "332\n",
      "333\n",
      "334\n",
      "335\n",
      "336\n",
      "337\n",
      "338\n",
      "339\n",
      "340\n",
      "341\n",
      "342\n",
      "343\n",
      "344\n",
      "345\n",
      "346\n",
      "347\n",
      "348\n",
      "349\n",
      "350\n",
      "351\n",
      "352\n",
      "353\n",
      "354\n",
      "355\n",
      "356\n",
      "357\n",
      "358\n",
      "359\n",
      "360\n",
      "361\n",
      "362\n",
      "363\n",
      "364\n",
      "365\n",
      "366\n",
      "367\n",
      "368\n",
      "369\n",
      "370\n",
      "371\n",
      "372\n",
      "373\n",
      "374\n",
      "375\n",
      "376\n",
      "377\n",
      "378\n",
      "379\n",
      "380\n",
      "381\n",
      "382\n",
      "383\n",
      "384\n",
      "385\n",
      "386\n",
      "387\n",
      "388\n",
      "389\n",
      "390\n",
      "391\n",
      "392\n",
      "393\n",
      "394\n",
      "395\n",
      "396\n",
      "397\n",
      "398\n",
      "399\n",
      "400\n",
      "401\n",
      "402\n",
      "403\n",
      "404\n",
      "405\n",
      "406\n",
      "407\n",
      "408\n",
      "409\n",
      "410\n",
      "411\n",
      "412\n",
      "413\n",
      "414\n",
      "415\n",
      "416\n",
      "417\n",
      "418\n",
      "419\n",
      "420\n",
      "421\n",
      "422\n",
      "423\n",
      "424\n",
      "425\n",
      "426\n",
      "427\n",
      "428\n",
      "429\n",
      "430\n",
      "431\n",
      "432\n",
      "433\n",
      "434\n",
      "435\n",
      "436\n",
      "437\n",
      "438\n",
      "439\n",
      "440\n",
      "441\n",
      "442\n",
      "443\n",
      "444\n",
      "445\n",
      "446\n",
      "447\n",
      "448\n",
      "449\n",
      "450\n",
      "451\n",
      "452\n",
      "453\n",
      "454\n",
      "455\n",
      "456\n",
      "457\n",
      "458\n",
      "459\n",
      "460\n",
      "461\n",
      "462\n",
      "463\n",
      "464\n",
      "465\n",
      "466\n",
      "467\n",
      "468\n",
      "469\n",
      "470\n",
      "471\n",
      "472\n",
      "473\n",
      "474\n",
      "475\n",
      "476\n",
      "477\n",
      "478\n",
      "479\n",
      "480\n",
      "481\n",
      "482\n",
      "483\n",
      "484\n",
      "485\n",
      "486\n",
      "487\n",
      "488\n",
      "489\n",
      "490\n",
      "491\n",
      "492\n",
      "493\n",
      "494\n",
      "495\n",
      "496\n",
      "497\n",
      "498\n",
      "499\n",
      "500\n",
      "501\n",
      "502\n",
      "503\n",
      "504\n",
      "505\n",
      "506\n",
      "507\n",
      "508\n",
      "509\n",
      "510\n",
      "511\n",
      "512\n",
      "513\n",
      "514\n",
      "515\n",
      "516\n",
      "517\n",
      "518\n",
      "519\n",
      "520\n",
      "521\n",
      "522\n",
      "523\n",
      "524\n",
      "525\n",
      "526\n",
      "527\n",
      "528\n",
      "529\n",
      "530\n",
      "531\n",
      "532\n",
      "533\n",
      "534\n",
      "535\n",
      "536\n",
      "537\n",
      "538\n",
      "539\n",
      "540\n",
      "541\n",
      "542\n",
      "543\n",
      "544\n",
      "545\n",
      "546\n",
      "547\n",
      "548\n",
      "549\n",
      "550\n",
      "551\n",
      "552\n",
      "553\n",
      "554\n",
      "555\n",
      "556\n",
      "557\n",
      "558\n",
      "559\n",
      "560\n",
      "561\n",
      "562\n",
      "563\n",
      "564\n",
      "565\n",
      "566\n",
      "567\n",
      "568\n",
      "569\n",
      "570\n",
      "571\n",
      "572\n",
      "573\n",
      "574\n",
      "575\n",
      "576\n",
      "577\n",
      "578\n",
      "579\n",
      "580\n",
      "581\n",
      "582\n",
      "583\n",
      "584\n",
      "585\n",
      "586\n",
      "587\n",
      "588\n",
      "589\n",
      "590\n",
      "591\n",
      "592\n",
      "593\n",
      "594\n",
      "595\n",
      "596\n",
      "597\n",
      "598\n",
      "599\n",
      "600\n",
      "601\n",
      "602\n",
      "603\n",
      "604\n",
      "605\n",
      "606\n",
      "607\n",
      "608\n",
      "609\n",
      "610\n",
      "611\n",
      "612\n",
      "613\n",
      "614\n",
      "615\n",
      "616\n",
      "617\n",
      "618\n",
      "619\n",
      "620\n",
      "621\n",
      "622\n",
      "623\n",
      "624\n",
      "625\n",
      "626\n",
      "627\n",
      "628\n",
      "629\n",
      "630\n",
      "631\n",
      "632\n",
      "633\n",
      "634\n",
      "635\n",
      "636\n",
      "637\n",
      "638\n",
      "639\n",
      "640\n",
      "641\n",
      "642\n",
      "643\n",
      "644\n",
      "645\n",
      "646\n",
      "647\n",
      "648\n",
      "649\n",
      "650\n",
      "651\n",
      "652\n",
      "653\n",
      "654\n",
      "655\n",
      "656\n",
      "657\n",
      "658\n",
      "659\n",
      "660\n",
      "661\n",
      "662\n",
      "663\n",
      "664\n",
      "665\n",
      "666\n",
      "667\n",
      "668\n",
      "669\n",
      "670\n",
      "671\n",
      "672\n",
      "673\n",
      "674\n",
      "675\n",
      "676\n",
      "677\n",
      "678\n",
      "679\n",
      "680\n",
      "681\n",
      "682\n",
      "683\n",
      "684\n",
      "685\n",
      "686\n",
      "687\n",
      "688\n",
      "689\n",
      "690\n",
      "691\n",
      "692\n",
      "693\n",
      "694\n",
      "695\n",
      "696\n",
      "697\n",
      "698\n",
      "699\n",
      "700\n",
      "701\n",
      "702\n",
      "703\n",
      "704\n",
      "705\n",
      "706\n",
      "707\n",
      "708\n",
      "709\n",
      "710\n",
      "711\n",
      "712\n",
      "713\n",
      "714\n",
      "715\n",
      "716\n",
      "717\n",
      "718\n",
      "719\n",
      "720\n",
      "721\n",
      "722\n",
      "723\n",
      "724\n",
      "725\n",
      "726\n",
      "727\n",
      "728\n",
      "729\n",
      "730\n",
      "731\n",
      "732\n",
      "733\n",
      "734\n",
      "735\n",
      "736\n",
      "737\n",
      "738\n",
      "739\n",
      "740\n",
      "741\n",
      "742\n",
      "743\n",
      "744\n",
      "745\n",
      "746\n",
      "747\n",
      "748\n",
      "749\n",
      "750\n",
      "751\n",
      "752\n",
      "753\n",
      "754\n",
      "755\n",
      "756\n",
      "757\n",
      "758\n",
      "759\n",
      "760\n",
      "761\n",
      "762\n",
      "763\n",
      "764\n",
      "765\n",
      "766\n",
      "767\n",
      "768\n",
      "769\n",
      "770\n",
      "771\n",
      "772\n",
      "773\n",
      "774\n",
      "775\n",
      "776\n",
      "777\n",
      "778\n",
      "779\n",
      "780\n",
      "781\n",
      "782\n",
      "783\n",
      "784\n",
      "785\n",
      "786\n",
      "787\n",
      "788\n",
      "789\n",
      "790\n",
      "791\n",
      "792\n",
      "793\n",
      "794\n",
      "795\n",
      "796\n",
      "797\n",
      "798\n",
      "799\n",
      "800\n",
      "801\n",
      "802\n",
      "803\n",
      "804\n",
      "805\n",
      "806\n",
      "807\n",
      "808\n",
      "809\n",
      "810\n",
      "811\n",
      "812\n",
      "813\n",
      "814\n",
      "815\n",
      "816\n",
      "817\n",
      "818\n",
      "819\n",
      "820\n",
      "821\n",
      "822\n",
      "823\n",
      "824\n",
      "825\n",
      "826\n",
      "827\n",
      "828\n",
      "829\n",
      "830\n",
      "831\n",
      "832\n",
      "833\n",
      "834\n",
      "835\n",
      "836\n",
      "837\n",
      "838\n",
      "839\n",
      "840\n",
      "841\n",
      "842\n",
      "843\n",
      "844\n",
      "845\n",
      "846\n",
      "847\n",
      "848\n",
      "849\n",
      "850\n",
      "851\n",
      "852\n",
      "853\n",
      "854\n",
      "855\n",
      "856\n",
      "857\n",
      "858\n",
      "859\n",
      "860\n",
      "861\n",
      "862\n",
      "863\n",
      "864\n",
      "865\n",
      "866\n",
      "867\n",
      "868\n",
      "869\n",
      "870\n",
      "871\n",
      "872\n",
      "873\n",
      "874\n",
      "875\n",
      "876\n",
      "877\n",
      "878\n",
      "879\n",
      "880\n",
      "881\n",
      "882\n",
      "883\n",
      "884\n",
      "885\n",
      "886\n",
      "887\n",
      "888\n",
      "889\n",
      "890\n",
      "891\n",
      "892\n",
      "893\n",
      "894\n",
      "895\n",
      "896\n",
      "897\n",
      "898\n",
      "899\n",
      "900\n",
      "901\n",
      "902\n",
      "903\n",
      "904\n",
      "905\n",
      "906\n",
      "907\n",
      "908\n",
      "909\n",
      "910\n",
      "911\n",
      "912\n",
      "913\n",
      "914\n",
      "915\n",
      "916\n",
      "917\n",
      "918\n",
      "919\n",
      "920\n",
      "921\n",
      "922\n",
      "923\n",
      "924\n",
      "925\n",
      "926\n",
      "927\n",
      "928\n",
      "929\n",
      "930\n",
      "931\n",
      "932\n",
      "933\n",
      "934\n",
      "935\n",
      "936\n",
      "937\n",
      "938\n",
      "939\n",
      "940\n",
      "941\n",
      "942\n",
      "943\n",
      "944\n",
      "945\n",
      "946\n",
      "947\n",
      "948\n",
      "949\n",
      "950\n",
      "951\n",
      "952\n",
      "953\n",
      "954\n",
      "955\n",
      "956\n",
      "957\n",
      "958\n",
      "959\n",
      "960\n",
      "961\n",
      "962\n",
      "963\n",
      "964\n",
      "965\n",
      "966\n",
      "967\n",
      "968\n",
      "969\n",
      "970\n",
      "971\n",
      "972\n",
      "973\n",
      "974\n",
      "975\n",
      "976\n",
      "977\n",
      "978\n",
      "979\n",
      "980\n",
      "981\n",
      "982\n",
      "983\n",
      "984\n",
      "985\n",
      "986\n",
      "987\n",
      "988\n",
      "989\n",
      "990\n",
      "991\n",
      "992\n",
      "993\n",
      "994\n",
      "995\n",
      "996\n",
      "997\n",
      "998\n",
      "999\n",
      "1000\n",
      "1001\n",
      "1002\n",
      "1003\n",
      "1004\n",
      "1005\n",
      "1006\n",
      "1007\n",
      "1008\n",
      "1009\n",
      "1010\n",
      "1011\n",
      "1012\n",
      "1013\n",
      "1014\n",
      "1015\n",
      "1016\n",
      "1017\n",
      "1018\n",
      "1019\n",
      "1020\n",
      "1021\n",
      "1022\n",
      "1023\n",
      "1024\n",
      "1025\n",
      "1026\n",
      "1027\n",
      "1028\n",
      "1029\n",
      "1030\n",
      "1031\n",
      "1032\n",
      "1033\n",
      "1034\n",
      "1035\n",
      "1036\n",
      "1037\n",
      "1038\n",
      "1039\n",
      "1040\n",
      "1041\n",
      "1042\n",
      "1043\n",
      "1044\n",
      "1045\n",
      "1046\n",
      "1047\n",
      "1048\n",
      "1049\n",
      "1050\n",
      "1051\n",
      "1052\n",
      "1053\n",
      "1054\n",
      "1055\n",
      "1056\n",
      "1057\n",
      "1058\n",
      "1059\n",
      "1060\n",
      "1061\n",
      "1062\n",
      "1063\n",
      "1064\n",
      "1065\n",
      "1066\n",
      "1067\n",
      "1068\n",
      "1069\n",
      "1070\n",
      "1071\n",
      "1072\n",
      "1073\n",
      "1074\n",
      "1075\n",
      "1076\n",
      "1077\n",
      "1078\n",
      "1079\n",
      "1080\n",
      "1081\n",
      "1082\n",
      "1083\n",
      "1084\n",
      "1085\n",
      "1086\n",
      "1087\n",
      "1088\n",
      "1089\n",
      "1090\n",
      "1091\n",
      "1092\n",
      "1093\n",
      "1094\n",
      "1095\n",
      "1096\n",
      "1097\n",
      "1098\n",
      "1099\n",
      "1100\n",
      "1101\n",
      "1102\n",
      "1103\n",
      "1104\n",
      "1105\n",
      "1106\n",
      "1107\n",
      "1108\n",
      "1109\n",
      "1110\n",
      "1111\n",
      "1112\n",
      "1113\n",
      "1114\n",
      "1115\n",
      "1116\n",
      "1117\n",
      "1118\n",
      "1119\n",
      "1120\n",
      "1121\n",
      "1122\n",
      "1123\n",
      "1124\n",
      "1125\n",
      "1126\n",
      "1127\n",
      "1128\n",
      "1129\n",
      "1130\n",
      "1131\n",
      "1132\n",
      "1133\n",
      "1134\n",
      "1135\n",
      "1136\n",
      "1137\n",
      "1138\n",
      "1139\n",
      "1140\n",
      "1141\n",
      "1142\n",
      "1143\n",
      "1144\n",
      "1145\n",
      "1146\n",
      "1147\n",
      "1148\n",
      "1149\n",
      "1150\n",
      "1151\n",
      "1152\n",
      "1153\n",
      "1154\n",
      "1155\n",
      "1156\n",
      "1157\n",
      "1158\n",
      "1159\n",
      "1160\n",
      "1161\n",
      "1162\n",
      "1163\n",
      "1164\n",
      "1165\n",
      "1166\n",
      "1167\n",
      "1168\n",
      "1169\n",
      "1170\n",
      "1171\n",
      "1172\n",
      "1173\n",
      "1174\n",
      "1175\n",
      "1176\n",
      "1177\n",
      "1178\n",
      "1179\n",
      "1180\n",
      "1181\n",
      "1182\n",
      "1183\n",
      "1184\n",
      "1185\n",
      "1186\n",
      "1187\n",
      "1188\n",
      "1189\n",
      "1190\n",
      "1191\n",
      "1192\n",
      "1193\n",
      "1194\n",
      "1195\n",
      "1196\n",
      "1197\n",
      "1198\n",
      "1199\n",
      "1200\n",
      "1201\n",
      "1202\n",
      "1203\n",
      "1204\n",
      "1205\n",
      "1206\n",
      "1207\n",
      "1208\n",
      "1209\n",
      "1210\n",
      "1211\n",
      "1212\n",
      "1213\n",
      "1214\n",
      "1215\n",
      "1216\n",
      "1217\n",
      "1218\n",
      "1219\n",
      "1220\n",
      "1221\n",
      "1222\n",
      "1223\n",
      "1224\n",
      "1225\n",
      "1226\n",
      "1227\n",
      "1228\n",
      "1229\n",
      "1230\n",
      "1231\n",
      "1232\n",
      "1233\n",
      "1234\n",
      "1235\n",
      "1236\n",
      "1237\n",
      "1238\n",
      "1239\n",
      "1240\n",
      "1241\n",
      "1242\n",
      "1243\n",
      "1244\n",
      "1245\n",
      "1246\n",
      "1247\n",
      "1248\n",
      "1249\n",
      "1250\n",
      "1251\n",
      "1252\n",
      "1253\n",
      "1254\n",
      "1255\n",
      "1256\n",
      "1257\n",
      "1258\n",
      "1259\n",
      "1260\n",
      "1261\n",
      "1262\n",
      "1263\n",
      "1264\n",
      "1265\n",
      "1266\n",
      "1267\n",
      "1268\n",
      "1269\n",
      "1270\n",
      "1271\n",
      "1272\n",
      "1273\n",
      "1274\n",
      "1275\n",
      "1276\n",
      "1277\n",
      "1278\n",
      "1279\n",
      "1280\n",
      "1281\n",
      "1282\n",
      "1283\n",
      "1284\n",
      "1285\n",
      "1286\n",
      "1287\n",
      "1288\n",
      "1289\n",
      "1290\n",
      "1291\n",
      "1292\n",
      "1293\n",
      "1294\n",
      "1295\n",
      "1296\n",
      "1297\n",
      "1298\n",
      "1299\n",
      "1300\n",
      "1301\n",
      "1302\n",
      "1303\n",
      "1304\n",
      "1305\n",
      "1306\n",
      "1307\n",
      "1308\n",
      "1309\n",
      "1310\n",
      "1311\n",
      "1312\n",
      "1313\n",
      "1314\n",
      "1315\n",
      "1316\n",
      "1317\n",
      "1318\n",
      "1319\n",
      "1320\n",
      "1321\n",
      "1322\n",
      "1323\n",
      "1324\n",
      "1325\n",
      "1326\n",
      "1327\n",
      "1328\n",
      "1329\n",
      "1330\n",
      "1331\n",
      "1332\n",
      "1333\n",
      "1334\n",
      "1335\n",
      "1336\n",
      "1337\n",
      "1338\n",
      "1339\n",
      "1340\n",
      "1341\n",
      "1342\n",
      "1343\n"
     ]
    }
   ],
   "source": [
    "eng_test_preds_ts1 = compute_deepar_test_preds_clust(eng_mod,\n",
    "                                                     [subset_df_list[0]],\n",
    "                                                     [1])"
   ]
  },
  {
   "cell_type": "code",
   "execution_count": 296,
   "id": "5e815145",
   "metadata": {},
   "outputs": [
    {
     "name": "stderr",
     "output_type": "stream",
     "text": [
      "England Model DeepAR Unseen Predsn: 100%|██████████| 3/3 [35:59<00:00, 719.91s/it]   \n",
      "/home/ec2-user/anaconda3/envs/python3/lib/python3.8/site-packages/gluonts/dataset/common.py:324: FutureWarning: The 'freq' argument in Timestamp is deprecated and will be removed in a future version.\n",
      "  timestamp = pd.Timestamp(timestamp_input, freq=freq)\n",
      "/home/ec2-user/anaconda3/envs/python3/lib/python3.8/site-packages/gluonts/dataset/common.py:327: FutureWarning: Timestamp.freq is deprecated and will be removed in a future version\n",
      "  if isinstance(timestamp.freq, Tick):\n",
      "/home/ec2-user/anaconda3/envs/python3/lib/python3.8/site-packages/gluonts/dataset/common.py:329: FutureWarning: Timestamp.freq is deprecated and will be removed in a future version\n",
      "  timestamp.floor(timestamp.freq), timestamp.freq\n",
      "/home/ec2-user/anaconda3/envs/python3/lib/python3.8/site-packages/gluonts/dataset/common.py:328: FutureWarning: The 'freq' argument in Timestamp is deprecated and will be removed in a future version.\n",
      "  return pd.Timestamp(\n",
      "/home/ec2-user/anaconda3/envs/python3/lib/python3.8/site-packages/gluonts/transform/feature.py:340: FutureWarning: Timestamp.freq is deprecated and will be removed in a future version\n",
      "  self._freq_base is None or self._freq_base == start.freq.base\n",
      "/home/ec2-user/anaconda3/envs/python3/lib/python3.8/site-packages/gluonts/transform/split.py:36: FutureWarning: Timestamp.freq is deprecated and will be removed in a future version\n",
      "  return _shift_timestamp_helper(ts, ts.freq, offset)\n",
      "/home/ec2-user/anaconda3/envs/python3/lib/python3.8/site-packages/gluonts/transform/feature.py:384: FutureWarning: Timestamp.freq is deprecated and will be removed in a future version\n",
      "  ..., i0 : i0 + length * start.freq.n : start.freq.n\n",
      "/home/ec2-user/anaconda3/envs/python3/lib/python3.8/site-packages/gluonts/dataset/common.py:324: FutureWarning: The 'freq' argument in Timestamp is deprecated and will be removed in a future version.\n",
      "  timestamp = pd.Timestamp(timestamp_input, freq=freq)\n",
      "/home/ec2-user/anaconda3/envs/python3/lib/python3.8/site-packages/gluonts/dataset/common.py:327: FutureWarning: Timestamp.freq is deprecated and will be removed in a future version\n",
      "  if isinstance(timestamp.freq, Tick):\n",
      "/home/ec2-user/anaconda3/envs/python3/lib/python3.8/site-packages/gluonts/dataset/common.py:329: FutureWarning: Timestamp.freq is deprecated and will be removed in a future version\n",
      "  timestamp.floor(timestamp.freq), timestamp.freq\n",
      "/home/ec2-user/anaconda3/envs/python3/lib/python3.8/site-packages/gluonts/dataset/common.py:328: FutureWarning: The 'freq' argument in Timestamp is deprecated and will be removed in a future version.\n",
      "  return pd.Timestamp(\n",
      "/home/ec2-user/anaconda3/envs/python3/lib/python3.8/site-packages/gluonts/transform/feature.py:340: FutureWarning: Timestamp.freq is deprecated and will be removed in a future version\n",
      "  self._freq_base is None or self._freq_base == start.freq.base\n",
      "/home/ec2-user/anaconda3/envs/python3/lib/python3.8/site-packages/gluonts/transform/split.py:36: FutureWarning: Timestamp.freq is deprecated and will be removed in a future version\n",
      "  return _shift_timestamp_helper(ts, ts.freq, offset)\n",
      "/home/ec2-user/anaconda3/envs/python3/lib/python3.8/site-packages/gluonts/transform/feature.py:384: FutureWarning: Timestamp.freq is deprecated and will be removed in a future version\n",
      "  ..., i0 : i0 + length * start.freq.n : start.freq.n\n",
      "/home/ec2-user/anaconda3/envs/python3/lib/python3.8/site-packages/gluonts/dataset/common.py:324: FutureWarning: The 'freq' argument in Timestamp is deprecated and will be removed in a future version.\n",
      "  timestamp = pd.Timestamp(timestamp_input, freq=freq)\n",
      "/home/ec2-user/anaconda3/envs/python3/lib/python3.8/site-packages/gluonts/dataset/common.py:327: FutureWarning: Timestamp.freq is deprecated and will be removed in a future version\n",
      "  if isinstance(timestamp.freq, Tick):\n",
      "/home/ec2-user/anaconda3/envs/python3/lib/python3.8/site-packages/gluonts/dataset/common.py:329: FutureWarning: Timestamp.freq is deprecated and will be removed in a future version\n",
      "  timestamp.floor(timestamp.freq), timestamp.freq\n",
      "/home/ec2-user/anaconda3/envs/python3/lib/python3.8/site-packages/gluonts/dataset/common.py:328: FutureWarning: The 'freq' argument in Timestamp is deprecated and will be removed in a future version.\n",
      "  return pd.Timestamp(\n",
      "/home/ec2-user/anaconda3/envs/python3/lib/python3.8/site-packages/gluonts/transform/feature.py:340: FutureWarning: Timestamp.freq is deprecated and will be removed in a future version\n",
      "  self._freq_base is None or self._freq_base == start.freq.base\n",
      "/home/ec2-user/anaconda3/envs/python3/lib/python3.8/site-packages/gluonts/transform/split.py:36: FutureWarning: Timestamp.freq is deprecated and will be removed in a future version\n",
      "  return _shift_timestamp_helper(ts, ts.freq, offset)\n",
      "/home/ec2-user/anaconda3/envs/python3/lib/python3.8/site-packages/gluonts/transform/feature.py:384: FutureWarning: Timestamp.freq is deprecated and will be removed in a future version\n",
      "  ..., i0 : i0 + length * start.freq.n : start.freq.n\n"
     ]
    }
   ],
   "source": [
    "with tqdm_joblib(tqdm(desc=\"England Model DeepAR Unseen Preds\", \n",
    "                      total=(len(subset_df_list)-1))) as progress_bar:\n",
    "    eng_test_preds_ts = Parallel(n_jobs=3)(delayed(compute_deepar_test_preds_clust)(eng_mod,\n",
    "                                                                                    [subset_df_list[i]],\n",
    "                                                                                    [i+1]\n",
    "                                                                                   ) for i in range(1, len(subset_df_list))) \n"
   ]
  },
  {
   "cell_type": "code",
   "execution_count": 305,
   "id": "7b1be664",
   "metadata": {},
   "outputs": [],
   "source": [
    "eng_test_preds_total_ls = [eng_test_preds_ts1] + eng_test_preds_ts"
   ]
  },
  {
   "cell_type": "code",
   "execution_count": 331,
   "id": "e8bf1afc",
   "metadata": {},
   "outputs": [],
   "source": [
    "eng_forec_means = {**eng_test_preds_total_ls[0][0], \n",
    "                   **eng_test_preds_total_ls[1][0],\n",
    "                   **eng_test_preds_total_ls[2][0], \n",
    "                   **eng_test_preds_total_ls[3][0]}\n",
    "\n",
    "eng_forec_lo_80 = {**eng_test_preds_total_ls[0][2], \n",
    "                   **eng_test_preds_total_ls[1][2],\n",
    "                   **eng_test_preds_total_ls[2][2], \n",
    "                   **eng_test_preds_total_ls[3][2]}\n",
    "\n",
    "eng_forec_hi_80 = {**eng_test_preds_total_ls[0][3], \n",
    "                   **eng_test_preds_total_ls[1][3],\n",
    "                   **eng_test_preds_total_ls[2][3], \n",
    "                   **eng_test_preds_total_ls[3][3]}\n",
    "\n",
    "eng_forec_lo_95 = {**eng_test_preds_total_ls[0][4], \n",
    "                   **eng_test_preds_total_ls[1][4],\n",
    "                   **eng_test_preds_total_ls[2][4], \n",
    "                   **eng_test_preds_total_ls[3][4]}\n",
    "\n",
    "eng_forec_hi_95 = {**eng_test_preds_total_ls[0][5], \n",
    "                   **eng_test_preds_total_ls[1][5],\n",
    "                   **eng_test_preds_total_ls[2][5], \n",
    "                   **eng_test_preds_total_ls[3][5]}\n",
    "\n",
    "eng_forec_actuals = {k: test_df_list[k-1].y.to_list() for k in range(1, (len(test_df_list)+1))}\n",
    "\n",
    "eng_forec_actual_means = {k: np.mean(test_df_list[k-1].y.to_list()) for k in range(1, (len(test_df_list)+1))}"
   ]
  },
  {
   "cell_type": "code",
   "execution_count": 332,
   "id": "f2358ff9",
   "metadata": {},
   "outputs": [],
   "source": [
    "eng_int_score_80 = {k: interval_score(eng_forec_actuals[k], \n",
    "                                             eng_forec_lo_80[k],\n",
    "                                             eng_forec_hi_80[k],\n",
    "                                             0.8) for k in eng_forec_actuals.keys()\n",
    "                          }\n",
    "\n",
    "eng_int_score_95 = {k: interval_score(eng_forec_actuals[k], \n",
    "                                             eng_forec_lo_95[k],\n",
    "                                             eng_forec_hi_95[k],\n",
    "                                             0.95) for k in eng_forec_actuals.keys()\n",
    "                          }\n",
    "\n",
    "eng_rmse = {k: mean_squared_error(eng_forec_actuals[k], \n",
    "                                      eng_forec_means[k], \n",
    "                                      squared=False) for k in eng_forec_actuals.keys()}\n",
    "\n",
    "eng_mae = {k: mean_absolute_error(eng_forec_actuals[k], \n",
    "                                      eng_forec_means[k]) for k in eng_forec_actuals.keys()}"
   ]
  },
  {
   "cell_type": "code",
   "execution_count": 333,
   "id": "da5ad2b7",
   "metadata": {},
   "outputs": [
    {
     "data": {
      "text/plain": [
       "57.89965483524094"
      ]
     },
     "execution_count": 333,
     "metadata": {},
     "output_type": "execute_result"
    }
   ],
   "source": [
    "np.mean(list(eng_rmse.values()))"
   ]
  },
  {
   "cell_type": "code",
   "execution_count": 334,
   "id": "1c799cbc",
   "metadata": {},
   "outputs": [
    {
     "data": {
      "text/plain": [
       "38.815928494025556"
      ]
     },
     "execution_count": 334,
     "metadata": {},
     "output_type": "execute_result"
    }
   ],
   "source": [
    "np.mean(list(eng_mae.values()))"
   ]
  },
  {
   "cell_type": "code",
   "execution_count": 335,
   "id": "09507d50",
   "metadata": {},
   "outputs": [
    {
     "data": {
      "text/plain": [
       "0.15624106467518734"
      ]
     },
     "execution_count": 335,
     "metadata": {},
     "output_type": "execute_result"
    }
   ],
   "source": [
    "np.mean([eng_rmse[k]/eng_forec_actual_means[k] for k in eng_rmse.keys()])"
   ]
  },
  {
   "cell_type": "code",
   "execution_count": 336,
   "id": "9e9b8bef",
   "metadata": {},
   "outputs": [
    {
     "data": {
      "text/plain": [
       "0.10806308058501807"
      ]
     },
     "execution_count": 336,
     "metadata": {},
     "output_type": "execute_result"
    }
   ],
   "source": [
    "np.mean([eng_mae[k]/eng_forec_actual_means[k] for k in eng_mae.keys()])"
   ]
  },
  {
   "cell_type": "code",
   "execution_count": 337,
   "id": "3d51531b",
   "metadata": {},
   "outputs": [
    {
     "data": {
      "text/plain": [
       "73.33751815772706"
      ]
     },
     "execution_count": 337,
     "metadata": {},
     "output_type": "execute_result"
    }
   ],
   "source": [
    "np.mean(list(eng_int_score_80.values()))"
   ]
  },
  {
   "cell_type": "code",
   "execution_count": 338,
   "id": "b227230e",
   "metadata": {},
   "outputs": [
    {
     "data": {
      "text/plain": [
       "123.13673604730081"
      ]
     },
     "execution_count": 338,
     "metadata": {},
     "output_type": "execute_result"
    }
   ],
   "source": [
    "np.mean(list(eng_int_score_95.values()))"
   ]
  },
  {
   "cell_type": "code",
   "execution_count": 339,
   "id": "662db09a",
   "metadata": {},
   "outputs": [
    {
     "data": {
      "text/plain": [
       "0.23266318265310157"
      ]
     },
     "execution_count": 339,
     "metadata": {},
     "output_type": "execute_result"
    }
   ],
   "source": [
    "np.mean([eng_int_score_80[k]/eng_forec_actual_means[k] for k in eng_int_score_80.keys()])"
   ]
  },
  {
   "cell_type": "code",
   "execution_count": 340,
   "id": "dcb55628",
   "metadata": {},
   "outputs": [
    {
     "data": {
      "text/plain": [
       "0.3900045766958959"
      ]
     },
     "execution_count": 340,
     "metadata": {},
     "output_type": "execute_result"
    }
   ],
   "source": [
    "np.mean([eng_int_score_95[k]/eng_forec_actual_means[k] for k in eng_int_score_95.keys()])"
   ]
  },
  {
   "cell_type": "code",
   "execution_count": null,
   "id": "659d1cd6",
   "metadata": {},
   "outputs": [],
   "source": []
  },
  {
   "cell_type": "markdown",
   "id": "5cb65a4a",
   "metadata": {},
   "source": [
    "# Forecast with Models for Catch22-Based KMeans Clusters"
   ]
  },
  {
   "cell_type": "code",
   "execution_count": 341,
   "id": "f6c2feae",
   "metadata": {},
   "outputs": [
    {
     "data": {
      "text/plain": [
       "0    1\n",
       "1    1\n",
       "2    1\n",
       "3    1\n",
       "Name: catch22, dtype: int64"
      ]
     },
     "execution_count": 341,
     "metadata": {},
     "output_type": "execute_result"
    }
   ],
   "source": [
    "clust_assign.catch22"
   ]
  },
  {
   "cell_type": "code",
   "execution_count": 343,
   "id": "75ba9a8d",
   "metadata": {},
   "outputs": [],
   "source": [
    "with open(f'Results/Global/DeepAR/Catch22 KMeans/mod_0', 'rb') as f:\n",
    "    catch22_mod1 = pickle.load(f)"
   ]
  },
  {
   "cell_type": "code",
   "execution_count": 350,
   "id": "10b4782e",
   "metadata": {},
   "outputs": [
    {
     "name": "stderr",
     "output_type": "stream",
     "text": [
      "Catch22 DeepAR Unseen Preds: 100%|██████████| 4/4 [38:29<00:00, 577.37s/it]   \n"
     ]
    }
   ],
   "source": [
    "with tqdm_joblib(tqdm(desc=\"Catch22 DeepAR Unseen Preds\", \n",
    "                      total=(len(subset_df_list)))) as progress_bar:\n",
    "    catch22_test_preds = Parallel(n_jobs=4)(delayed(compute_deepar_test_preds_clust)(catch22_mod1,\n",
    "                                                                                    [subset_df_list[i]],\n",
    "                                                                                    [i+1]\n",
    "                                                                                   ) for i in range(len(subset_df_list))) \n"
   ]
  },
  {
   "cell_type": "code",
   "execution_count": 351,
   "id": "738bc03e",
   "metadata": {},
   "outputs": [],
   "source": [
    "catch22_forec_means = {**catch22_test_preds[0][0], \n",
    "                       **catch22_test_preds[1][0],\n",
    "                       **catch22_test_preds[2][0], \n",
    "                       **catch22_test_preds[3][0]}\n",
    "\n",
    "catch22_forec_lo_80 = {**catch22_test_preds[0][2], \n",
    "                       **catch22_test_preds[1][2],\n",
    "                       **catch22_test_preds[2][2], \n",
    "                       **catch22_test_preds[3][2]}\n",
    "\n",
    "catch22_forec_hi_80 = {**catch22_test_preds[0][3], \n",
    "                       **catch22_test_preds[1][3],\n",
    "                       **catch22_test_preds[2][3], \n",
    "                       **catch22_test_preds[3][3]}\n",
    "\n",
    "catch22_forec_lo_95 = {**catch22_test_preds[0][4], \n",
    "                       **catch22_test_preds[1][4],\n",
    "                       **catch22_test_preds[2][4], \n",
    "                       **catch22_test_preds[3][4]}\n",
    "\n",
    "catch22_forec_hi_95 = {**catch22_test_preds[0][5], \n",
    "                       **catch22_test_preds[1][5],\n",
    "                       **catch22_test_preds[2][5], \n",
    "                       **catch22_test_preds[3][5]}\n",
    "\n",
    "catch22_forec_actuals = {k: test_df_list[k-1].y.to_list() for k in range(1, (len(test_df_list)+1))}\n",
    "\n",
    "catch22forec_actual_means = {k: np.mean(test_df_list[k-1].y.to_list()) for k in range(1, (len(test_df_list)+1))}"
   ]
  },
  {
   "cell_type": "code",
   "execution_count": 352,
   "id": "6e0cbdd2",
   "metadata": {},
   "outputs": [],
   "source": [
    "catch22_int_score_80 = {k: interval_score(catch22_forec_actuals[k], \n",
    "                                          catch22_forec_lo_80[k],\n",
    "                                          catch22_forec_hi_80[k],\n",
    "                                          0.8) for k in catch22_forec_actuals.keys()\n",
    "                          }\n",
    "\n",
    "catch22_int_score_95 = {k: interval_score(catch22_forec_actuals[k], \n",
    "                                          catch22_forec_lo_95[k],\n",
    "                                          catch22_forec_hi_95[k],\n",
    "                                          0.95) for k in catch22_forec_actuals.keys()\n",
    "                          }\n",
    "\n",
    "catch22_rmse = {k: mean_squared_error(catch22_forec_actuals[k], \n",
    "                                      catch22_forec_means[k], \n",
    "                                      squared=False) for k in catch22_forec_actuals.keys()}\n",
    "\n",
    "catch22_mae = {k: mean_absolute_error(catch22_forec_actuals[k], \n",
    "                                      catch22_forec_means[k]) for k in catch22_forec_actuals.keys()}"
   ]
  },
  {
   "cell_type": "code",
   "execution_count": 353,
   "id": "6c9a67a5",
   "metadata": {
    "scrolled": true
   },
   "outputs": [
    {
     "data": {
      "text/plain": [
       "58.54068452681147"
      ]
     },
     "execution_count": 353,
     "metadata": {},
     "output_type": "execute_result"
    }
   ],
   "source": [
    "np.mean(list(catch22_rmse.values()))"
   ]
  },
  {
   "cell_type": "code",
   "execution_count": 354,
   "id": "99feadfc",
   "metadata": {
    "scrolled": true
   },
   "outputs": [
    {
     "data": {
      "text/plain": [
       "39.254392794289046"
      ]
     },
     "execution_count": 354,
     "metadata": {},
     "output_type": "execute_result"
    }
   ],
   "source": [
    "np.mean(list(catch22_mae.values()))"
   ]
  },
  {
   "cell_type": "code",
   "execution_count": 355,
   "id": "449d8f01",
   "metadata": {},
   "outputs": [
    {
     "data": {
      "text/plain": [
       "0.15795296578300377"
      ]
     },
     "execution_count": 355,
     "metadata": {},
     "output_type": "execute_result"
    }
   ],
   "source": [
    "np.mean([catch22_rmse[k]/catch22forec_actual_means[k] for k in catch22_rmse.keys()])"
   ]
  },
  {
   "cell_type": "code",
   "execution_count": 356,
   "id": "647f4e71",
   "metadata": {},
   "outputs": [
    {
     "data": {
      "text/plain": [
       "0.10926380497163951"
      ]
     },
     "execution_count": 356,
     "metadata": {},
     "output_type": "execute_result"
    }
   ],
   "source": [
    "np.mean([catch22_mae[k]/catch22forec_actual_means[k] for k in catch22_mae.keys()])"
   ]
  },
  {
   "cell_type": "code",
   "execution_count": 357,
   "id": "6e37209c",
   "metadata": {},
   "outputs": [
    {
     "data": {
      "text/plain": [
       "72.64839381115934"
      ]
     },
     "execution_count": 357,
     "metadata": {},
     "output_type": "execute_result"
    }
   ],
   "source": [
    "np.mean(list(catch22_int_score_80.values()))"
   ]
  },
  {
   "cell_type": "code",
   "execution_count": 358,
   "id": "8ae64b49",
   "metadata": {},
   "outputs": [
    {
     "data": {
      "text/plain": [
       "120.90600858029954"
      ]
     },
     "execution_count": 358,
     "metadata": {},
     "output_type": "execute_result"
    }
   ],
   "source": [
    "np.mean(list(catch22_int_score_95.values()))"
   ]
  },
  {
   "cell_type": "code",
   "execution_count": 359,
   "id": "9a09cde4",
   "metadata": {},
   "outputs": [
    {
     "data": {
      "text/plain": [
       "0.2398174114750097"
      ]
     },
     "execution_count": 359,
     "metadata": {},
     "output_type": "execute_result"
    }
   ],
   "source": [
    "np.mean([catch22_int_score_80[k]/catch22forec_actual_means[k] for k in catch22_int_score_80.keys()])"
   ]
  },
  {
   "cell_type": "code",
   "execution_count": 360,
   "id": "e0ca010d",
   "metadata": {},
   "outputs": [
    {
     "data": {
      "text/plain": [
       "0.39932288581426256"
      ]
     },
     "execution_count": 360,
     "metadata": {},
     "output_type": "execute_result"
    },
    {
     "name": "stderr",
     "output_type": "stream",
     "text": [
      "/home/ec2-user/anaconda3/envs/python3/lib/python3.8/site-packages/gluonts/dataset/common.py:324: FutureWarning: The 'freq' argument in Timestamp is deprecated and will be removed in a future version.\n",
      "  timestamp = pd.Timestamp(timestamp_input, freq=freq)\n",
      "/home/ec2-user/anaconda3/envs/python3/lib/python3.8/site-packages/gluonts/dataset/common.py:327: FutureWarning: Timestamp.freq is deprecated and will be removed in a future version\n",
      "  if isinstance(timestamp.freq, Tick):\n",
      "/home/ec2-user/anaconda3/envs/python3/lib/python3.8/site-packages/gluonts/dataset/common.py:329: FutureWarning: Timestamp.freq is deprecated and will be removed in a future version\n",
      "  timestamp.floor(timestamp.freq), timestamp.freq\n",
      "/home/ec2-user/anaconda3/envs/python3/lib/python3.8/site-packages/gluonts/dataset/common.py:328: FutureWarning: The 'freq' argument in Timestamp is deprecated and will be removed in a future version.\n",
      "  return pd.Timestamp(\n",
      "/home/ec2-user/anaconda3/envs/python3/lib/python3.8/site-packages/gluonts/transform/feature.py:340: FutureWarning: Timestamp.freq is deprecated and will be removed in a future version\n",
      "  self._freq_base is None or self._freq_base == start.freq.base\n",
      "/home/ec2-user/anaconda3/envs/python3/lib/python3.8/site-packages/gluonts/transform/split.py:36: FutureWarning: Timestamp.freq is deprecated and will be removed in a future version\n",
      "  return _shift_timestamp_helper(ts, ts.freq, offset)\n",
      "/home/ec2-user/anaconda3/envs/python3/lib/python3.8/site-packages/gluonts/transform/feature.py:384: FutureWarning: Timestamp.freq is deprecated and will be removed in a future version\n",
      "  ..., i0 : i0 + length * start.freq.n : start.freq.n\n",
      "/home/ec2-user/anaconda3/envs/python3/lib/python3.8/site-packages/gluonts/dataset/common.py:324: FutureWarning: The 'freq' argument in Timestamp is deprecated and will be removed in a future version.\n",
      "  timestamp = pd.Timestamp(timestamp_input, freq=freq)\n",
      "/home/ec2-user/anaconda3/envs/python3/lib/python3.8/site-packages/gluonts/dataset/common.py:327: FutureWarning: Timestamp.freq is deprecated and will be removed in a future version\n",
      "  if isinstance(timestamp.freq, Tick):\n",
      "/home/ec2-user/anaconda3/envs/python3/lib/python3.8/site-packages/gluonts/dataset/common.py:329: FutureWarning: Timestamp.freq is deprecated and will be removed in a future version\n",
      "  timestamp.floor(timestamp.freq), timestamp.freq\n",
      "/home/ec2-user/anaconda3/envs/python3/lib/python3.8/site-packages/gluonts/dataset/common.py:328: FutureWarning: The 'freq' argument in Timestamp is deprecated and will be removed in a future version.\n",
      "  return pd.Timestamp(\n",
      "/home/ec2-user/anaconda3/envs/python3/lib/python3.8/site-packages/gluonts/transform/feature.py:340: FutureWarning: Timestamp.freq is deprecated and will be removed in a future version\n",
      "  self._freq_base is None or self._freq_base == start.freq.base\n",
      "/home/ec2-user/anaconda3/envs/python3/lib/python3.8/site-packages/gluonts/transform/split.py:36: FutureWarning: Timestamp.freq is deprecated and will be removed in a future version\n",
      "  return _shift_timestamp_helper(ts, ts.freq, offset)\n",
      "/home/ec2-user/anaconda3/envs/python3/lib/python3.8/site-packages/gluonts/transform/feature.py:384: FutureWarning: Timestamp.freq is deprecated and will be removed in a future version\n",
      "  ..., i0 : i0 + length * start.freq.n : start.freq.n\n",
      "/home/ec2-user/anaconda3/envs/python3/lib/python3.8/site-packages/gluonts/dataset/common.py:324: FutureWarning: The 'freq' argument in Timestamp is deprecated and will be removed in a future version.\n",
      "  timestamp = pd.Timestamp(timestamp_input, freq=freq)\n",
      "/home/ec2-user/anaconda3/envs/python3/lib/python3.8/site-packages/gluonts/dataset/common.py:327: FutureWarning: Timestamp.freq is deprecated and will be removed in a future version\n",
      "  if isinstance(timestamp.freq, Tick):\n",
      "/home/ec2-user/anaconda3/envs/python3/lib/python3.8/site-packages/gluonts/dataset/common.py:329: FutureWarning: Timestamp.freq is deprecated and will be removed in a future version\n",
      "  timestamp.floor(timestamp.freq), timestamp.freq\n",
      "/home/ec2-user/anaconda3/envs/python3/lib/python3.8/site-packages/gluonts/dataset/common.py:328: FutureWarning: The 'freq' argument in Timestamp is deprecated and will be removed in a future version.\n",
      "  return pd.Timestamp(\n",
      "/home/ec2-user/anaconda3/envs/python3/lib/python3.8/site-packages/gluonts/transform/feature.py:340: FutureWarning: Timestamp.freq is deprecated and will be removed in a future version\n",
      "  self._freq_base is None or self._freq_base == start.freq.base\n",
      "/home/ec2-user/anaconda3/envs/python3/lib/python3.8/site-packages/gluonts/transform/split.py:36: FutureWarning: Timestamp.freq is deprecated and will be removed in a future version\n",
      "  return _shift_timestamp_helper(ts, ts.freq, offset)\n",
      "/home/ec2-user/anaconda3/envs/python3/lib/python3.8/site-packages/gluonts/transform/feature.py:384: FutureWarning: Timestamp.freq is deprecated and will be removed in a future version\n",
      "  ..., i0 : i0 + length * start.freq.n : start.freq.n\n",
      "/home/ec2-user/anaconda3/envs/python3/lib/python3.8/site-packages/gluonts/dataset/common.py:324: FutureWarning: The 'freq' argument in Timestamp is deprecated and will be removed in a future version.\n",
      "  timestamp = pd.Timestamp(timestamp_input, freq=freq)\n",
      "/home/ec2-user/anaconda3/envs/python3/lib/python3.8/site-packages/gluonts/dataset/common.py:327: FutureWarning: Timestamp.freq is deprecated and will be removed in a future version\n",
      "  if isinstance(timestamp.freq, Tick):\n",
      "/home/ec2-user/anaconda3/envs/python3/lib/python3.8/site-packages/gluonts/dataset/common.py:329: FutureWarning: Timestamp.freq is deprecated and will be removed in a future version\n",
      "  timestamp.floor(timestamp.freq), timestamp.freq\n",
      "/home/ec2-user/anaconda3/envs/python3/lib/python3.8/site-packages/gluonts/dataset/common.py:328: FutureWarning: The 'freq' argument in Timestamp is deprecated and will be removed in a future version.\n",
      "  return pd.Timestamp(\n",
      "/home/ec2-user/anaconda3/envs/python3/lib/python3.8/site-packages/gluonts/transform/feature.py:340: FutureWarning: Timestamp.freq is deprecated and will be removed in a future version\n",
      "  self._freq_base is None or self._freq_base == start.freq.base\n",
      "/home/ec2-user/anaconda3/envs/python3/lib/python3.8/site-packages/gluonts/transform/split.py:36: FutureWarning: Timestamp.freq is deprecated and will be removed in a future version\n",
      "  return _shift_timestamp_helper(ts, ts.freq, offset)\n",
      "/home/ec2-user/anaconda3/envs/python3/lib/python3.8/site-packages/gluonts/transform/feature.py:384: FutureWarning: Timestamp.freq is deprecated and will be removed in a future version\n",
      "  ..., i0 : i0 + length * start.freq.n : start.freq.n\n"
     ]
    }
   ],
   "source": [
    "np.mean([catch22_int_score_95[k]/catch22forec_actual_means[k] for k in catch22_int_score_95.keys()])"
   ]
  },
  {
   "cell_type": "code",
   "execution_count": null,
   "id": "b8b5e3e4",
   "metadata": {},
   "outputs": [],
   "source": []
  },
  {
   "cell_type": "markdown",
   "id": "7cfd420e",
   "metadata": {},
   "source": [
    "# Forecast for Models with TSFeat-Based KMeans Clusters"
   ]
  },
  {
   "cell_type": "code",
   "execution_count": 361,
   "id": "0883ce58",
   "metadata": {},
   "outputs": [
    {
     "data": {
      "text/plain": [
       "0    2\n",
       "1    2\n",
       "2    2\n",
       "3    1\n",
       "Name: tsfeat, dtype: int64"
      ]
     },
     "execution_count": 361,
     "metadata": {},
     "output_type": "execute_result"
    }
   ],
   "source": [
    "clust_assign.tsfeat"
   ]
  },
  {
   "cell_type": "code",
   "execution_count": 362,
   "id": "7a4e69a2",
   "metadata": {},
   "outputs": [],
   "source": [
    "with open(f'Results/Global/DeepAR/TSFeat KMeans/mod_1', 'rb') as f:\n",
    "    tsfeat_mod2 = pickle.load(f)\n",
    "    \n",
    "with open(f'Results/Global/DeepAR/TSFeat KMeans/mod_0', 'rb') as f:\n",
    "    tsfeat_mod1 = pickle.load(f)"
   ]
  },
  {
   "cell_type": "code",
   "execution_count": 363,
   "id": "372df0e5",
   "metadata": {},
   "outputs": [],
   "source": [
    "ts_feat_mod_ls = [tsfeat_mod2, tsfeat_mod2, tsfeat_mod2, tsfeat_mod1]"
   ]
  },
  {
   "cell_type": "code",
   "execution_count": 365,
   "id": "f4895a8b",
   "metadata": {},
   "outputs": [
    {
     "name": "stderr",
     "output_type": "stream",
     "text": [
      "TSFEat DeepAR Unseen Preds: 100%|██████████| 4/4 [38:27<00:00, 576.84s/it]   \n"
     ]
    }
   ],
   "source": [
    "with tqdm_joblib(tqdm(desc=\"TSFEat DeepAR Unseen Preds\", \n",
    "                      total=(len(subset_df_list)))) as progress_bar:\n",
    "    tsfeat_test_preds = Parallel(n_jobs=4)(delayed(compute_deepar_test_preds_clust)(ts_feat_mod_ls[i],\n",
    "                                                                                    [subset_df_list[i]],\n",
    "                                                                                    [i+1]\n",
    "                                                                                   ) for i in range(len(subset_df_list))) \n"
   ]
  },
  {
   "cell_type": "code",
   "execution_count": 366,
   "id": "cbe067f6",
   "metadata": {},
   "outputs": [],
   "source": [
    "tsfeat_forec_means = {**tsfeat_test_preds[0][0], \n",
    "                       **tsfeat_test_preds[1][0],\n",
    "                       **tsfeat_test_preds[2][0], \n",
    "                       **tsfeat_test_preds[3][0]}\n",
    "\n",
    "tsfeat_forec_lo_80 = {**tsfeat_test_preds[0][2], \n",
    "                       **tsfeat_test_preds[1][2],\n",
    "                       **tsfeat_test_preds[2][2], \n",
    "                       **tsfeat_test_preds[3][2]}\n",
    "\n",
    "tsfeat_forec_hi_80 = {**tsfeat_test_preds[0][3], \n",
    "                       **tsfeat_test_preds[1][3],\n",
    "                       **tsfeat_test_preds[2][3], \n",
    "                       **tsfeat_test_preds[3][3]}\n",
    "\n",
    "tsfeat_forec_lo_95 = {**tsfeat_test_preds[0][4], \n",
    "                       **tsfeat_test_preds[1][4],\n",
    "                       **tsfeat_test_preds[2][4], \n",
    "                       **tsfeat_test_preds[3][4]}\n",
    "\n",
    "tsfeat_forec_hi_95 = {**tsfeat_test_preds[0][5], \n",
    "                       **tsfeat_test_preds[1][5],\n",
    "                       **tsfeat_test_preds[2][5], \n",
    "                       **tsfeat_test_preds[3][5]}\n",
    "\n",
    "tsfeat_forec_actuals = {k: test_df_list[k-1].y.to_list() for k in range(1, (len(test_df_list)+1))}\n",
    "\n",
    "tsfeatforec_actual_means = {k: np.mean(test_df_list[k-1].y.to_list()) for k in range(1, (len(test_df_list)+1))}"
   ]
  },
  {
   "cell_type": "code",
   "execution_count": 367,
   "id": "f970373d",
   "metadata": {},
   "outputs": [],
   "source": [
    "tsfeat_int_score_80 = {k: interval_score(tsfeat_forec_actuals[k], \n",
    "                                          tsfeat_forec_lo_80[k],\n",
    "                                          tsfeat_forec_hi_80[k],\n",
    "                                          0.8) for k in tsfeat_forec_actuals.keys()\n",
    "                          }\n",
    "\n",
    "tsfeat_int_score_95 = {k: interval_score(tsfeat_forec_actuals[k], \n",
    "                                          tsfeat_forec_lo_95[k],\n",
    "                                          tsfeat_forec_hi_95[k],\n",
    "                                          0.95) for k in tsfeat_forec_actuals.keys()\n",
    "                          }\n",
    "\n",
    "tsfeat_rmse = {k: mean_squared_error(tsfeat_forec_actuals[k], \n",
    "                                      tsfeat_forec_means[k], \n",
    "                                      squared=False) for k in tsfeat_forec_actuals.keys()}\n",
    "\n",
    "tsfeat_mae = {k: mean_absolute_error(tsfeat_forec_actuals[k], \n",
    "                                      tsfeat_forec_means[k]) for k in tsfeat_forec_actuals.keys()}"
   ]
  },
  {
   "cell_type": "code",
   "execution_count": 368,
   "id": "0a09b486",
   "metadata": {
    "scrolled": true
   },
   "outputs": [
    {
     "data": {
      "text/plain": [
       "58.421084501519516"
      ]
     },
     "execution_count": 368,
     "metadata": {},
     "output_type": "execute_result"
    }
   ],
   "source": [
    "np.mean(list(tsfeat_rmse.values()))"
   ]
  },
  {
   "cell_type": "code",
   "execution_count": 369,
   "id": "f33926df",
   "metadata": {
    "scrolled": true
   },
   "outputs": [
    {
     "data": {
      "text/plain": [
       "39.15330388893683"
      ]
     },
     "execution_count": 369,
     "metadata": {},
     "output_type": "execute_result"
    }
   ],
   "source": [
    "np.mean(list(tsfeat_mae.values()))"
   ]
  },
  {
   "cell_type": "code",
   "execution_count": 370,
   "id": "183d5a49",
   "metadata": {},
   "outputs": [
    {
     "data": {
      "text/plain": [
       "0.1581634011767009"
      ]
     },
     "execution_count": 370,
     "metadata": {},
     "output_type": "execute_result"
    }
   ],
   "source": [
    "np.mean([tsfeat_rmse[k]/tsfeatforec_actual_means[k] for k in tsfeat_rmse.keys()])"
   ]
  },
  {
   "cell_type": "code",
   "execution_count": 371,
   "id": "70708342",
   "metadata": {},
   "outputs": [
    {
     "data": {
      "text/plain": [
       "0.10943409379408638"
      ]
     },
     "execution_count": 371,
     "metadata": {},
     "output_type": "execute_result"
    }
   ],
   "source": [
    "np.mean([tsfeat_mae[k]/tsfeatforec_actual_means[k] for k in tsfeat_mae.keys()])"
   ]
  },
  {
   "cell_type": "code",
   "execution_count": 372,
   "id": "dc943dd6",
   "metadata": {},
   "outputs": [
    {
     "data": {
      "text/plain": [
       "76.16986844125293"
      ]
     },
     "execution_count": 372,
     "metadata": {},
     "output_type": "execute_result"
    }
   ],
   "source": [
    "np.mean(list(tsfeat_int_score_80.values()))"
   ]
  },
  {
   "cell_type": "code",
   "execution_count": 373,
   "id": "e0b13839",
   "metadata": {},
   "outputs": [
    {
     "data": {
      "text/plain": [
       "127.28346461222708"
      ]
     },
     "execution_count": 373,
     "metadata": {},
     "output_type": "execute_result"
    }
   ],
   "source": [
    "np.mean(list(tsfeat_int_score_95.values()))"
   ]
  },
  {
   "cell_type": "code",
   "execution_count": 374,
   "id": "8bde8556",
   "metadata": {},
   "outputs": [
    {
     "data": {
      "text/plain": [
       "0.2510172030112627"
      ]
     },
     "execution_count": 374,
     "metadata": {},
     "output_type": "execute_result"
    }
   ],
   "source": [
    "np.mean([tsfeat_int_score_80[k]/tsfeatforec_actual_means[k] for k in tsfeat_int_score_80.keys()])"
   ]
  },
  {
   "cell_type": "code",
   "execution_count": 375,
   "id": "72a65507",
   "metadata": {},
   "outputs": [
    {
     "data": {
      "text/plain": [
       "0.41849294734980785"
      ]
     },
     "execution_count": 375,
     "metadata": {},
     "output_type": "execute_result"
    }
   ],
   "source": [
    "np.mean([tsfeat_int_score_95[k]/tsfeatforec_actual_means[k] for k in tsfeat_int_score_95.keys()])"
   ]
  },
  {
   "cell_type": "code",
   "execution_count": null,
   "id": "327c8def",
   "metadata": {},
   "outputs": [],
   "source": []
  },
  {
   "cell_type": "markdown",
   "id": "a7d42c1c",
   "metadata": {},
   "source": [
    "# Forecast with Models for DTW-Based K-Medoids Clusters"
   ]
  },
  {
   "cell_type": "code",
   "execution_count": 376,
   "id": "43f1cfa8",
   "metadata": {},
   "outputs": [
    {
     "data": {
      "text/plain": [
       "0    2\n",
       "1    1\n",
       "2    1\n",
       "3    1\n",
       "Name: dtw, dtype: int64"
      ]
     },
     "execution_count": 376,
     "metadata": {},
     "output_type": "execute_result"
    }
   ],
   "source": [
    "clust_assign.dtw"
   ]
  },
  {
   "cell_type": "code",
   "execution_count": 377,
   "id": "9e079313",
   "metadata": {},
   "outputs": [],
   "source": [
    "with open(f'Results/Global/DeepAR/DTW/mod_1', 'rb') as f:\n",
    "    dtw_mod1 = pickle.load(f)\n",
    "    \n",
    "with open(f'Results/Global/DeepAR/DTW/mod_0', 'rb') as f:\n",
    "    dtw_mod1 = pickle.load(f)"
   ]
  },
  {
   "cell_type": "code",
   "execution_count": 378,
   "id": "8bea5f31",
   "metadata": {},
   "outputs": [],
   "source": [
    "dtw_mod_list = [dtw_mod2, dtw_mod1, dtw_mod1, dtw_mod1]"
   ]
  },
  {
   "cell_type": "code",
   "execution_count": 379,
   "id": "28acf979",
   "metadata": {},
   "outputs": [
    {
     "name": "stderr",
     "output_type": "stream",
     "text": [
      "DTW DeepAR Unseen Preds: 100%|██████████| 4/4 [39:01<00:00, 585.31s/it]   \n"
     ]
    }
   ],
   "source": [
    "with tqdm_joblib(tqdm(desc=\"DTW DeepAR Unseen Preds\", \n",
    "                      total=(len(subset_df_list)))) as progress_bar:\n",
    "    dtw_test_preds = Parallel(n_jobs=4)(delayed(compute_deepar_test_preds_clust)(dtw_mod_list[i],\n",
    "                                                                                 [subset_df_list[i]],\n",
    "                                                                                 [i+1]\n",
    "                                                                                ) for i in range(len(subset_df_list))) \n"
   ]
  },
  {
   "cell_type": "code",
   "execution_count": 380,
   "id": "23ed7456",
   "metadata": {},
   "outputs": [],
   "source": [
    "dtw_forec_means = {**dtw_test_preds[0][0], \n",
    "                       **dtw_test_preds[1][0],\n",
    "                       **dtw_test_preds[2][0], \n",
    "                       **dtw_test_preds[3][0]}\n",
    "\n",
    "dtw_forec_lo_80 = {**dtw_test_preds[0][2], \n",
    "                       **dtw_test_preds[1][2],\n",
    "                       **dtw_test_preds[2][2], \n",
    "                       **dtw_test_preds[3][2]}\n",
    "\n",
    "dtw_forec_hi_80 = {**dtw_test_preds[0][3], \n",
    "                       **dtw_test_preds[1][3],\n",
    "                       **dtw_test_preds[2][3], \n",
    "                       **dtw_test_preds[3][3]}\n",
    "\n",
    "dtw_forec_lo_95 = {**dtw_test_preds[0][4], \n",
    "                       **dtw_test_preds[1][4],\n",
    "                       **dtw_test_preds[2][4], \n",
    "                       **dtw_test_preds[3][4]}\n",
    "\n",
    "dtw_forec_hi_95 = {**dtw_test_preds[0][5], \n",
    "                       **dtw_test_preds[1][5],\n",
    "                       **dtw_test_preds[2][5], \n",
    "                       **dtw_test_preds[3][5]}\n",
    "\n",
    "dtw_forec_actuals = {k: test_df_list[k-1].y.to_list() for k in range(1, (len(test_df_list)+1))}\n",
    "\n",
    "dtwforec_actual_means = {k: np.mean(test_df_list[k-1].y.to_list()) for k in range(1, (len(test_df_list)+1))}"
   ]
  },
  {
   "cell_type": "code",
   "execution_count": 381,
   "id": "2a71ee97",
   "metadata": {},
   "outputs": [],
   "source": [
    "dtw_int_score_80 = {k: interval_score(dtw_forec_actuals[k], \n",
    "                                          dtw_forec_lo_80[k],\n",
    "                                          dtw_forec_hi_80[k],\n",
    "                                          0.8) for k in dtw_forec_actuals.keys()\n",
    "                          }\n",
    "\n",
    "dtw_int_score_95 = {k: interval_score(dtw_forec_actuals[k], \n",
    "                                          dtw_forec_lo_95[k],\n",
    "                                          dtw_forec_hi_95[k],\n",
    "                                          0.95) for k in dtw_forec_actuals.keys()\n",
    "                          }\n",
    "\n",
    "dtw_rmse = {k: mean_squared_error(dtw_forec_actuals[k], \n",
    "                                      dtw_forec_means[k], \n",
    "                                      squared=False) for k in dtw_forec_actuals.keys()}\n",
    "\n",
    "dtw_mae = {k: mean_absolute_error(dtw_forec_actuals[k], \n",
    "                                      dtw_forec_means[k]) for k in dtw_forec_actuals.keys()}"
   ]
  },
  {
   "cell_type": "code",
   "execution_count": 382,
   "id": "717a4bdb",
   "metadata": {
    "scrolled": true
   },
   "outputs": [
    {
     "data": {
      "text/plain": [
       "57.679165966430624"
      ]
     },
     "execution_count": 382,
     "metadata": {},
     "output_type": "execute_result"
    }
   ],
   "source": [
    "np.mean(list(dtw_rmse.values()))"
   ]
  },
  {
   "cell_type": "code",
   "execution_count": 383,
   "id": "626a05ab",
   "metadata": {
    "scrolled": true
   },
   "outputs": [
    {
     "data": {
      "text/plain": [
       "38.8368039149791"
      ]
     },
     "execution_count": 383,
     "metadata": {},
     "output_type": "execute_result"
    }
   ],
   "source": [
    "np.mean(list(dtw_mae.values()))"
   ]
  },
  {
   "cell_type": "code",
   "execution_count": 384,
   "id": "b58c9a94",
   "metadata": {},
   "outputs": [
    {
     "data": {
      "text/plain": [
       "0.15801515765796714"
      ]
     },
     "execution_count": 384,
     "metadata": {},
     "output_type": "execute_result"
    }
   ],
   "source": [
    "np.mean([dtw_rmse[k]/dtwforec_actual_means[k] for k in dtw_rmse.keys()])"
   ]
  },
  {
   "cell_type": "code",
   "execution_count": 385,
   "id": "54e5e262",
   "metadata": {},
   "outputs": [
    {
     "data": {
      "text/plain": [
       "0.1091288398614969"
      ]
     },
     "execution_count": 385,
     "metadata": {},
     "output_type": "execute_result"
    }
   ],
   "source": [
    "np.mean([dtw_mae[k]/dtwforec_actual_means[k] for k in dtw_mae.keys()])"
   ]
  },
  {
   "cell_type": "code",
   "execution_count": 386,
   "id": "3242e214",
   "metadata": {},
   "outputs": [
    {
     "data": {
      "text/plain": [
       "73.41025860568756"
      ]
     },
     "execution_count": 386,
     "metadata": {},
     "output_type": "execute_result"
    }
   ],
   "source": [
    "np.mean(list(dtw_int_score_80.values()))"
   ]
  },
  {
   "cell_type": "code",
   "execution_count": 387,
   "id": "8affbaab",
   "metadata": {},
   "outputs": [
    {
     "data": {
      "text/plain": [
       "124.77837883467878"
      ]
     },
     "execution_count": 387,
     "metadata": {},
     "output_type": "execute_result"
    }
   ],
   "source": [
    "np.mean(list(dtw_int_score_95.values()))"
   ]
  },
  {
   "cell_type": "code",
   "execution_count": 388,
   "id": "441fa820",
   "metadata": {},
   "outputs": [
    {
     "data": {
      "text/plain": [
       "0.2358479553162288"
      ]
     },
     "execution_count": 388,
     "metadata": {},
     "output_type": "execute_result"
    }
   ],
   "source": [
    "np.mean([dtw_int_score_80[k]/dtwforec_actual_means[k] for k in dtw_int_score_80.keys()])"
   ]
  },
  {
   "cell_type": "code",
   "execution_count": 389,
   "id": "8efbd66d",
   "metadata": {},
   "outputs": [
    {
     "data": {
      "text/plain": [
       "0.3999440920276461"
      ]
     },
     "execution_count": 389,
     "metadata": {},
     "output_type": "execute_result"
    },
    {
     "name": "stderr",
     "output_type": "stream",
     "text": [
      "/home/ec2-user/anaconda3/envs/python3/lib/python3.8/site-packages/gluonts/dataset/common.py:324: FutureWarning: The 'freq' argument in Timestamp is deprecated and will be removed in a future version.\n",
      "  timestamp = pd.Timestamp(timestamp_input, freq=freq)\n",
      "/home/ec2-user/anaconda3/envs/python3/lib/python3.8/site-packages/gluonts/dataset/common.py:327: FutureWarning: Timestamp.freq is deprecated and will be removed in a future version\n",
      "  if isinstance(timestamp.freq, Tick):\n",
      "/home/ec2-user/anaconda3/envs/python3/lib/python3.8/site-packages/gluonts/dataset/common.py:329: FutureWarning: Timestamp.freq is deprecated and will be removed in a future version\n",
      "  timestamp.floor(timestamp.freq), timestamp.freq\n",
      "/home/ec2-user/anaconda3/envs/python3/lib/python3.8/site-packages/gluonts/dataset/common.py:328: FutureWarning: The 'freq' argument in Timestamp is deprecated and will be removed in a future version.\n",
      "  return pd.Timestamp(\n",
      "/home/ec2-user/anaconda3/envs/python3/lib/python3.8/site-packages/gluonts/transform/feature.py:340: FutureWarning: Timestamp.freq is deprecated and will be removed in a future version\n",
      "  self._freq_base is None or self._freq_base == start.freq.base\n",
      "/home/ec2-user/anaconda3/envs/python3/lib/python3.8/site-packages/gluonts/transform/split.py:36: FutureWarning: Timestamp.freq is deprecated and will be removed in a future version\n",
      "  return _shift_timestamp_helper(ts, ts.freq, offset)\n",
      "/home/ec2-user/anaconda3/envs/python3/lib/python3.8/site-packages/gluonts/transform/feature.py:384: FutureWarning: Timestamp.freq is deprecated and will be removed in a future version\n",
      "  ..., i0 : i0 + length * start.freq.n : start.freq.n\n",
      "/home/ec2-user/anaconda3/envs/python3/lib/python3.8/site-packages/gluonts/dataset/common.py:324: FutureWarning: The 'freq' argument in Timestamp is deprecated and will be removed in a future version.\n",
      "  timestamp = pd.Timestamp(timestamp_input, freq=freq)\n",
      "/home/ec2-user/anaconda3/envs/python3/lib/python3.8/site-packages/gluonts/dataset/common.py:327: FutureWarning: Timestamp.freq is deprecated and will be removed in a future version\n",
      "  if isinstance(timestamp.freq, Tick):\n",
      "/home/ec2-user/anaconda3/envs/python3/lib/python3.8/site-packages/gluonts/dataset/common.py:329: FutureWarning: Timestamp.freq is deprecated and will be removed in a future version\n",
      "  timestamp.floor(timestamp.freq), timestamp.freq\n",
      "/home/ec2-user/anaconda3/envs/python3/lib/python3.8/site-packages/gluonts/dataset/common.py:328: FutureWarning: The 'freq' argument in Timestamp is deprecated and will be removed in a future version.\n",
      "  return pd.Timestamp(\n",
      "/home/ec2-user/anaconda3/envs/python3/lib/python3.8/site-packages/gluonts/transform/feature.py:340: FutureWarning: Timestamp.freq is deprecated and will be removed in a future version\n",
      "  self._freq_base is None or self._freq_base == start.freq.base\n",
      "/home/ec2-user/anaconda3/envs/python3/lib/python3.8/site-packages/gluonts/transform/split.py:36: FutureWarning: Timestamp.freq is deprecated and will be removed in a future version\n",
      "  return _shift_timestamp_helper(ts, ts.freq, offset)\n",
      "/home/ec2-user/anaconda3/envs/python3/lib/python3.8/site-packages/gluonts/transform/feature.py:384: FutureWarning: Timestamp.freq is deprecated and will be removed in a future version\n",
      "  ..., i0 : i0 + length * start.freq.n : start.freq.n\n",
      "/home/ec2-user/anaconda3/envs/python3/lib/python3.8/site-packages/gluonts/dataset/common.py:324: FutureWarning: The 'freq' argument in Timestamp is deprecated and will be removed in a future version.\n",
      "  timestamp = pd.Timestamp(timestamp_input, freq=freq)\n",
      "/home/ec2-user/anaconda3/envs/python3/lib/python3.8/site-packages/gluonts/dataset/common.py:327: FutureWarning: Timestamp.freq is deprecated and will be removed in a future version\n",
      "  if isinstance(timestamp.freq, Tick):\n",
      "/home/ec2-user/anaconda3/envs/python3/lib/python3.8/site-packages/gluonts/dataset/common.py:329: FutureWarning: Timestamp.freq is deprecated and will be removed in a future version\n",
      "  timestamp.floor(timestamp.freq), timestamp.freq\n",
      "/home/ec2-user/anaconda3/envs/python3/lib/python3.8/site-packages/gluonts/dataset/common.py:328: FutureWarning: The 'freq' argument in Timestamp is deprecated and will be removed in a future version.\n",
      "  return pd.Timestamp(\n",
      "/home/ec2-user/anaconda3/envs/python3/lib/python3.8/site-packages/gluonts/transform/feature.py:340: FutureWarning: Timestamp.freq is deprecated and will be removed in a future version\n",
      "  self._freq_base is None or self._freq_base == start.freq.base\n",
      "/home/ec2-user/anaconda3/envs/python3/lib/python3.8/site-packages/gluonts/transform/split.py:36: FutureWarning: Timestamp.freq is deprecated and will be removed in a future version\n",
      "  return _shift_timestamp_helper(ts, ts.freq, offset)\n",
      "/home/ec2-user/anaconda3/envs/python3/lib/python3.8/site-packages/gluonts/transform/feature.py:384: FutureWarning: Timestamp.freq is deprecated and will be removed in a future version\n",
      "  ..., i0 : i0 + length * start.freq.n : start.freq.n\n",
      "/home/ec2-user/anaconda3/envs/python3/lib/python3.8/site-packages/gluonts/dataset/common.py:324: FutureWarning: The 'freq' argument in Timestamp is deprecated and will be removed in a future version.\n",
      "  timestamp = pd.Timestamp(timestamp_input, freq=freq)\n",
      "/home/ec2-user/anaconda3/envs/python3/lib/python3.8/site-packages/gluonts/dataset/common.py:327: FutureWarning: Timestamp.freq is deprecated and will be removed in a future version\n",
      "  if isinstance(timestamp.freq, Tick):\n",
      "/home/ec2-user/anaconda3/envs/python3/lib/python3.8/site-packages/gluonts/dataset/common.py:329: FutureWarning: Timestamp.freq is deprecated and will be removed in a future version\n",
      "  timestamp.floor(timestamp.freq), timestamp.freq\n",
      "/home/ec2-user/anaconda3/envs/python3/lib/python3.8/site-packages/gluonts/dataset/common.py:328: FutureWarning: The 'freq' argument in Timestamp is deprecated and will be removed in a future version.\n",
      "  return pd.Timestamp(\n",
      "/home/ec2-user/anaconda3/envs/python3/lib/python3.8/site-packages/gluonts/transform/feature.py:340: FutureWarning: Timestamp.freq is deprecated and will be removed in a future version\n",
      "  self._freq_base is None or self._freq_base == start.freq.base\n",
      "/home/ec2-user/anaconda3/envs/python3/lib/python3.8/site-packages/gluonts/transform/split.py:36: FutureWarning: Timestamp.freq is deprecated and will be removed in a future version\n",
      "  return _shift_timestamp_helper(ts, ts.freq, offset)\n",
      "/home/ec2-user/anaconda3/envs/python3/lib/python3.8/site-packages/gluonts/transform/feature.py:384: FutureWarning: Timestamp.freq is deprecated and will be removed in a future version\n",
      "  ..., i0 : i0 + length * start.freq.n : start.freq.n\n"
     ]
    }
   ],
   "source": [
    "np.mean([dtw_int_score_95[k]/dtwforec_actual_means[k] for k in dtw_int_score_95.keys()])"
   ]
  },
  {
   "cell_type": "code",
   "execution_count": null,
   "id": "3bbdfe39",
   "metadata": {},
   "outputs": [],
   "source": []
  }
 ],
 "metadata": {
  "kernelspec": {
   "display_name": "conda_python3",
   "language": "python",
   "name": "conda_python3"
  },
  "language_info": {
   "codemirror_mode": {
    "name": "ipython",
    "version": 3
   },
   "file_extension": ".py",
   "mimetype": "text/x-python",
   "name": "python",
   "nbconvert_exporter": "python",
   "pygments_lexer": "ipython3",
   "version": "3.8.12"
  }
 },
 "nbformat": 4,
 "nbformat_minor": 5
}
