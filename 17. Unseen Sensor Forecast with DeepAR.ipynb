{
 "cells": [
  {
   "cell_type": "code",
   "execution_count": 2,
   "id": "182c6727",
   "metadata": {},
   "outputs": [
    {
     "name": "stdout",
     "output_type": "stream",
     "text": [
      "Looking in indexes: https://pypi.org/simple, https://pip.repos.neuron.amazonaws.com\n",
      "Collecting mxnet\n",
      "  Downloading mxnet-1.9.1-py3-none-manylinux2014_x86_64.whl (49.1 MB)\n",
      "\u001b[2K     \u001b[90m━━━━━━━━━━━━━━━━━━━━━━━━━━━━━━━━━━━━━━━━\u001b[0m \u001b[32m49.1/49.1 MB\u001b[0m \u001b[31m41.1 MB/s\u001b[0m eta \u001b[36m0:00:00\u001b[0m00:01\u001b[0m00:01\u001b[0m\n",
      "\u001b[?25hRequirement already satisfied: requests<3,>=2.20.0 in /home/ec2-user/anaconda3/envs/python3/lib/python3.8/site-packages (from mxnet) (2.26.0)\n",
      "Collecting graphviz<0.9.0,>=0.8.1\n",
      "  Downloading graphviz-0.8.4-py2.py3-none-any.whl (16 kB)\n",
      "Requirement already satisfied: numpy<2.0.0,>1.16.0 in /home/ec2-user/anaconda3/envs/python3/lib/python3.8/site-packages (from mxnet) (1.20.3)\n",
      "Requirement already satisfied: certifi>=2017.4.17 in /home/ec2-user/anaconda3/envs/python3/lib/python3.8/site-packages (from requests<3,>=2.20.0->mxnet) (2022.5.18.1)\n",
      "Requirement already satisfied: idna<4,>=2.5 in /home/ec2-user/anaconda3/envs/python3/lib/python3.8/site-packages (from requests<3,>=2.20.0->mxnet) (3.1)\n",
      "Requirement already satisfied: charset-normalizer~=2.0.0 in /home/ec2-user/anaconda3/envs/python3/lib/python3.8/site-packages (from requests<3,>=2.20.0->mxnet) (2.0.8)\n",
      "Requirement already satisfied: urllib3<1.27,>=1.21.1 in /home/ec2-user/anaconda3/envs/python3/lib/python3.8/site-packages (from requests<3,>=2.20.0->mxnet) (1.26.9)\n",
      "Installing collected packages: graphviz, mxnet\n",
      "Successfully installed graphviz-0.8.4 mxnet-1.9.1\n",
      "Note: you may need to restart the kernel to use updated packages.\n"
     ]
    }
   ],
   "source": [
    "%pip install mxnet"
   ]
  },
  {
   "cell_type": "code",
   "execution_count": 3,
   "id": "2d5b4ced",
   "metadata": {},
   "outputs": [
    {
     "name": "stdout",
     "output_type": "stream",
     "text": [
      "Looking in indexes: https://pypi.org/simple, https://pip.repos.neuron.amazonaws.com\n",
      "Collecting gluonts\n",
      "  Downloading gluonts-0.9.4-py3-none-any.whl (2.8 MB)\n",
      "\u001b[2K     \u001b[90m━━━━━━━━━━━━━━━━━━━━━━━━━━━━━━━━━━━━━━━━\u001b[0m \u001b[32m2.8/2.8 MB\u001b[0m \u001b[31m101.0 MB/s\u001b[0m eta \u001b[36m0:00:00\u001b[0m\n",
      "\u001b[?25hRequirement already satisfied: holidays>=0.9 in /home/ec2-user/anaconda3/envs/python3/lib/python3.8/site-packages (from gluonts) (0.13)\n",
      "Collecting pydantic~=1.1\n",
      "  Downloading pydantic-1.9.1-cp38-cp38-manylinux_2_17_x86_64.manylinux2014_x86_64.whl (12.7 MB)\n",
      "\u001b[2K     \u001b[90m━━━━━━━━━━━━━━━━━━━━━━━━━━━━━━━━━━━━━━━\u001b[0m \u001b[32m12.7/12.7 MB\u001b[0m \u001b[31m104.2 MB/s\u001b[0m eta \u001b[36m0:00:00\u001b[0m00:01\u001b[0m00:01\u001b[0m\n",
      "\u001b[?25hRequirement already satisfied: toolz~=0.10 in /home/ec2-user/anaconda3/envs/python3/lib/python3.8/site-packages (from gluonts) (0.11.2)\n",
      "Requirement already satisfied: matplotlib~=3.0 in /home/ec2-user/anaconda3/envs/python3/lib/python3.8/site-packages (from gluonts) (3.5.0)\n",
      "Requirement already satisfied: typing-extensions~=4.0 in /home/ec2-user/anaconda3/envs/python3/lib/python3.8/site-packages (from gluonts) (4.0.0)\n",
      "Requirement already satisfied: pandas~=1.0 in /home/ec2-user/anaconda3/envs/python3/lib/python3.8/site-packages (from gluonts) (1.3.4)\n",
      "Requirement already satisfied: tqdm~=4.23 in /home/ec2-user/anaconda3/envs/python3/lib/python3.8/site-packages (from gluonts) (4.62.3)\n",
      "Requirement already satisfied: numpy~=1.16 in /home/ec2-user/anaconda3/envs/python3/lib/python3.8/site-packages (from gluonts) (1.20.3)\n",
      "Requirement already satisfied: hijri-converter in /home/ec2-user/anaconda3/envs/python3/lib/python3.8/site-packages (from holidays>=0.9->gluonts) (2.2.3)\n",
      "Requirement already satisfied: korean-lunar-calendar in /home/ec2-user/anaconda3/envs/python3/lib/python3.8/site-packages (from holidays>=0.9->gluonts) (0.2.1)\n",
      "Requirement already satisfied: convertdate>=2.3.0 in /home/ec2-user/anaconda3/envs/python3/lib/python3.8/site-packages (from holidays>=0.9->gluonts) (2.4.0)\n",
      "Requirement already satisfied: python-dateutil in /home/ec2-user/anaconda3/envs/python3/lib/python3.8/site-packages (from holidays>=0.9->gluonts) (2.8.2)\n",
      "Requirement already satisfied: kiwisolver>=1.0.1 in /home/ec2-user/anaconda3/envs/python3/lib/python3.8/site-packages (from matplotlib~=3.0->gluonts) (1.3.2)\n",
      "Requirement already satisfied: packaging>=20.0 in /home/ec2-user/anaconda3/envs/python3/lib/python3.8/site-packages (from matplotlib~=3.0->gluonts) (21.3)\n",
      "Requirement already satisfied: pyparsing>=2.2.1 in /home/ec2-user/anaconda3/envs/python3/lib/python3.8/site-packages (from matplotlib~=3.0->gluonts) (3.0.6)\n",
      "Requirement already satisfied: pillow>=6.2.0 in /home/ec2-user/anaconda3/envs/python3/lib/python3.8/site-packages (from matplotlib~=3.0->gluonts) (9.0.1)\n",
      "Requirement already satisfied: fonttools>=4.22.0 in /home/ec2-user/anaconda3/envs/python3/lib/python3.8/site-packages (from matplotlib~=3.0->gluonts) (4.28.2)\n",
      "Requirement already satisfied: cycler>=0.10 in /home/ec2-user/anaconda3/envs/python3/lib/python3.8/site-packages (from matplotlib~=3.0->gluonts) (0.11.0)\n",
      "Requirement already satisfied: pytz>=2017.3 in /home/ec2-user/anaconda3/envs/python3/lib/python3.8/site-packages (from pandas~=1.0->gluonts) (2021.3)\n",
      "Requirement already satisfied: pymeeus<=1,>=0.3.13 in /home/ec2-user/anaconda3/envs/python3/lib/python3.8/site-packages (from convertdate>=2.3.0->holidays>=0.9->gluonts) (0.5.10)\n",
      "Requirement already satisfied: six>=1.5 in /home/ec2-user/anaconda3/envs/python3/lib/python3.8/site-packages (from python-dateutil->holidays>=0.9->gluonts) (1.16.0)\n",
      "Installing collected packages: pydantic, gluonts\n",
      "Successfully installed gluonts-0.9.4 pydantic-1.9.1\n",
      "Note: you may need to restart the kernel to use updated packages.\n"
     ]
    }
   ],
   "source": [
    "%pip install gluonts"
   ]
  },
  {
   "cell_type": "code",
   "execution_count": 390,
   "id": "2dbb0653",
   "metadata": {},
   "outputs": [],
   "source": [
    "import time\n",
    "import numpy as np\n",
    "import pandas as pd\n",
    "import json\n",
    "import matplotlib.pyplot as plt\n",
    "import itertools\n",
    "from sklearn.metrics import mean_squared_error\n",
    "from sklearn.metrics import mean_absolute_error\n",
    "import glob\n",
    "import random"
   ]
  },
  {
   "cell_type": "code",
   "execution_count": 391,
   "id": "dbde839a",
   "metadata": {},
   "outputs": [],
   "source": [
    "from gluonts.model import deepar\n",
    "from gluonts.dataset.common import ListDataset\n",
    "from gluonts.evaluation import make_evaluation_predictions"
   ]
  },
  {
   "cell_type": "code",
   "execution_count": 392,
   "id": "f1265c67",
   "metadata": {},
   "outputs": [],
   "source": [
    "from joblib import Parallel, delayed\n",
    "import contextlib\n",
    "import joblib\n",
    "from tqdm import tqdm\n",
    "import pickle"
   ]
  },
  {
   "cell_type": "code",
   "execution_count": 393,
   "id": "2f8e3834",
   "metadata": {},
   "outputs": [],
   "source": [
    "import scipy\n",
    "import gc"
   ]
  },
  {
   "cell_type": "code",
   "execution_count": 394,
   "id": "668655e3",
   "metadata": {},
   "outputs": [],
   "source": [
    "np.random.seed(54321)\n",
    "random.seed(54321)"
   ]
  },
  {
   "cell_type": "markdown",
   "id": "220c800e",
   "metadata": {},
   "source": [
    "# Read in Data and Prepare for Modeling"
   ]
  },
  {
   "cell_type": "code",
   "execution_count": 395,
   "id": "a84596fd",
   "metadata": {},
   "outputs": [
    {
     "name": "stdout",
     "output_type": "stream",
     "text": [
      "Reading Data/Unseen Sensor/Processed/A19-9336-1_Northbound_2019_Processed.csv\n",
      "Reading Data/Unseen Sensor/Processed/A66-9521-1_Westbound_Processed.csv\n",
      "Reading Data/Unseen Sensor/Processed/M40-7048-2_Southbound_Processed.csv\n",
      "Reading Data/Unseen Sensor/Processed/M62-2056A_Eastbound_Processed.csv\n"
     ]
    }
   ],
   "source": [
    "# Read in all csv files for England from the Processed directory and save in a list\n",
    "\n",
    "# Create an empty list\n",
    "total_df_list = list()\n",
    "\n",
    "# Loop through all file names in alphebtical order to match R list.files function, \n",
    "# read into a pandas df, ensure each df is in chronological order, and append to list\n",
    "for fname in sorted(glob.glob(\"Data/Unseen Sensor/Processed/*.csv\")):\n",
    "    print(\"Reading {}\".format(fname))\n",
    "    df = pd.read_csv(fname)\n",
    "    df = df.sort_values(by=\"timestamp\")\n",
    "    total_df_list.append(df)"
   ]
  },
  {
   "cell_type": "code",
   "execution_count": 396,
   "id": "c1ffe26e",
   "metadata": {},
   "outputs": [],
   "source": [
    "# Read in the start and end points csv, and subtract 1 to deal with index differences between R and python\n",
    "start_end = pd.read_csv(\"unseen_sensor_start_end_points.csv\")\n",
    "start_end[\"start\"] = start_end[\"start\"] - 1\n",
    "start_end[\"end\"] = start_end[\"end\"]\n",
    "start_end = start_end.drop(columns=['Unnamed: 0'])"
   ]
  },
  {
   "cell_type": "code",
   "execution_count": 397,
   "id": "401bec15",
   "metadata": {},
   "outputs": [],
   "source": [
    "# Initialize an empty list\n",
    "subset_df_list = list()\n",
    "\n",
    "# For each df in the total_df_list\n",
    "for idx, df in enumerate(total_df_list):\n",
    "    \n",
    "    # subset the df using the start and end points\n",
    "    subset_df = df.iloc[start_end.iloc[idx,0]:start_end.iloc[idx,1], ]\\\n",
    "    .reset_index(drop=True).reset_index(drop=False)\\\n",
    "    .rename(columns={\"index\":\"rn\"}) # Create a row_num col based on the index of the data frame\n",
    "    \n",
    "    # Create a train_val_test field to denote which set each observation is a part of\n",
    "    subset_df[\"train_val_test\"] = np.where(subset_df[\"rn\"]<(96*7*8),\n",
    "                                           \"train\",\n",
    "                                           np.where(subset_df[\"rn\"]<(96*7*10),\n",
    "                                                    \"val\",\n",
    "                                                    \"test\"\n",
    "                                                   )\n",
    "                                       )\n",
    "\n",
    "    # Append the subset df to the list\n",
    "    subset_df_list.append(subset_df)"
   ]
  },
  {
   "cell_type": "code",
   "execution_count": 398,
   "id": "207ddc08",
   "metadata": {},
   "outputs": [],
   "source": [
    "# Create two lists, one for the train_val data and one for the test data\n",
    "train_df_list = list()\n",
    "test_df_list = list()\n",
    "\n",
    "# Loop through the list of subset dfs\n",
    "for df in subset_df_list:\n",
    "    \n",
    "    # Filter to train and val only for the training data\n",
    "    train_df = df.query(\"train_val_test != 'test'\").copy()\n",
    "    train_df = train_df[['timestamp', 'total_volume']]\\\n",
    "    .rename(columns={'timestamp':'ds', 'total_volume':'y'}) # For prophet, we must rename our timestamp column to ds and out target to y\n",
    "    \n",
    "    # Append to list\n",
    "    train_df_list.append(train_df)\n",
    "    \n",
    "    # Same steps for test df list\n",
    "    test_df = df.query(\"train_val_test == 'test'\").copy()\n",
    "    test_df = test_df[['timestamp', 'total_volume']]\\\n",
    "    .rename(columns={'timestamp':'ds', 'total_volume':'y'})\n",
    "    test_df_list.append(test_df)"
   ]
  },
  {
   "cell_type": "code",
   "execution_count": 399,
   "id": "f299707e",
   "metadata": {},
   "outputs": [],
   "source": [
    "prediction_length = 1\n",
    "context_length = 672"
   ]
  },
  {
   "cell_type": "code",
   "execution_count": 400,
   "id": "8e3bdd29",
   "metadata": {},
   "outputs": [],
   "source": [
    "clust_assign = pd.read_csv(\"Results/Unseen Sensor/clust_assign.csv\")"
   ]
  },
  {
   "cell_type": "markdown",
   "id": "9d92b399",
   "metadata": {},
   "source": [
    "# Define Functions for Making Forecasts"
   ]
  },
  {
   "cell_type": "code",
   "execution_count": 402,
   "id": "6a26c54c",
   "metadata": {},
   "outputs": [],
   "source": [
    "# Code for progress bar:\n",
    "# https://stackoverflow.com/questions/24983493/tracking-progress-of-joblib-parallel-execution\n",
    "# This allows us to print a progress bar while running parallel loops using joblib \n",
    "\n",
    "@contextlib.contextmanager\n",
    "def tqdm_joblib(tqdm_object):\n",
    "    \"\"\"Context manager to patch joblib to report into tqdm progress bar given as argument\"\"\"\n",
    "    class TqdmBatchCompletionCallback(joblib.parallel.BatchCompletionCallBack):\n",
    "        def __call__(self, *args, **kwargs):\n",
    "            tqdm_object.update(n=self.batch_size)\n",
    "            return super().__call__(*args, **kwargs)\n",
    "\n",
    "    old_batch_callback = joblib.parallel.BatchCompletionCallBack\n",
    "    joblib.parallel.BatchCompletionCallBack = TqdmBatchCompletionCallback\n",
    "    try:\n",
    "        yield tqdm_object\n",
    "    finally:\n",
    "        joblib.parallel.BatchCompletionCallBack = old_batch_callback\n",
    "        tqdm_object.close()"
   ]
  },
  {
   "cell_type": "code",
   "execution_count": 403,
   "id": "4a76a77f",
   "metadata": {},
   "outputs": [],
   "source": [
    "# Function to compute clustered test preds\n",
    "def compute_deepar_test_preds_clust(model, test_df_ls, ts_idx_ls):\n",
    "    \"\"\"Function which takes inputs: a trained model, and a list of data frames which contain train+test data, \n",
    "    and which returns a df of model predictions on the test data\"\"\"\n",
    "        \n",
    "    forecast_means = dict()\n",
    "    forecast_medians = dict()\n",
    "    forecast_q10s = dict()\n",
    "    forecast_q90s = dict()\n",
    "    forecast_q025s = dict()\n",
    "    forecast_q975s = dict()\n",
    "\n",
    "    mod = model\n",
    "    \n",
    "    for idx in ts_idx_ls:\n",
    "        forecast_means[idx] = list()\n",
    "        forecast_medians[idx] = list()\n",
    "        forecast_q10s[idx] = list()\n",
    "        forecast_q90s[idx] = list()\n",
    "        forecast_q025s[idx] = list()\n",
    "        forecast_q975s[idx] = list()\n",
    "\n",
    "    for n in range(1344):\n",
    "        # print(n)\n",
    "        eval_dict_ls = [{\"start\": df.iloc[0,5],\n",
    "                         \"target\": df.iloc[:,[5,8]].iloc[0:(96*10*7+n),:].total_volume.values\n",
    "                        } for df in test_df_ls]\n",
    "        eval_data = ListDataset(eval_dict_ls, freq=\"15min\")\n",
    "\n",
    "        forecast_it, ts_it = make_evaluation_predictions(dataset=eval_data,  # test dataset\n",
    "                                                         predictor=mod,  # predictor\n",
    "                                                         num_samples=100,  # number of sample paths we want for evaluation\n",
    "                                                        )\n",
    "\n",
    "        forecasts = list(forecast_it)\n",
    "\n",
    "        for i in range(len(forecasts)):\n",
    "            forecast_mean = forecasts[i].samples.mean()\n",
    "            forecast_means[ts_idx_ls[i]].append(forecast_mean)\n",
    "\n",
    "            forecast_percentiles = np.percentile(forecasts[i].samples, [2.5, 10, 50, 90, 97.5])\n",
    "            forecast_medians[ts_idx_ls[i]].append(forecast_percentiles[2])\n",
    "\n",
    "            forecast_q10s[ts_idx_ls[i]].append(forecast_percentiles[1])\n",
    "            forecast_q90s[ts_idx_ls[i]].append(forecast_percentiles[3])\n",
    "            forecast_q025s[ts_idx_ls[i]].append(forecast_percentiles[0])\n",
    "            forecast_q975s[ts_idx_ls[i]].append(forecast_percentiles[4])       \n",
    "           \n",
    "    return (forecast_means, forecast_medians, forecast_q10s, forecast_q90s, forecast_q025s, forecast_q975s)"
   ]
  },
  {
   "cell_type": "code",
   "execution_count": 405,
   "id": "bec1a63f",
   "metadata": {},
   "outputs": [],
   "source": [
    "# Create a function to compute the interval score\n",
    "def interval_score(true_values, lower, upper, interval_range):\n",
    "    \"\"\" Function which takes in the true values, the upper and lower bounds of PIs, and the PI level (e.g., 90%)\n",
    "        and from these inputs, computes the interval score for each prediction\n",
    "    \"\"\"\n",
    "    \n",
    "    # Compute alpha from the interval range\n",
    "    alpha = 100*(1-interval_range)\n",
    "    \n",
    "    # Save the upper, lower, and true_values as numpy arrays for computation purposes\n",
    "    upper = np.array(upper)\n",
    "    lower = np.array(lower)\n",
    "    true_values = np.array(true_values)\n",
    "    \n",
    "    # Compute the lower component of the interval score - just a boolean for true below interval\n",
    "    def lower_ind(true,low):\n",
    "        if true<low:\n",
    "            return 1\n",
    "        else:\n",
    "            return 0\n",
    "        \n",
    "    # Computer the upper component of the interval score - similar boolean for true above interval\n",
    "    def upper_ind(true,up):\n",
    "        if true>up:\n",
    "            return 1\n",
    "        else:\n",
    "            return 0\n",
    "        \n",
    "    # Computer the actual score for each obsveration - formula here: https://epiforecasts.io/scoringutils/reference/interval_score.html\n",
    "    scores = (upper-lower) + (2/alpha)*(lower-true_values)*(lower > true_values) + (2/alpha)*(true_values-upper)*(true_values > upper)\n",
    "    \n",
    "    # Return the scores array\n",
    "    return scores"
   ]
  },
  {
   "cell_type": "markdown",
   "id": "d9442e83",
   "metadata": {},
   "source": [
    "# Forecast with Global Model for All Data"
   ]
  },
  {
   "cell_type": "code",
   "execution_count": 401,
   "id": "bcbc79e0",
   "metadata": {},
   "outputs": [],
   "source": [
    "with open('Results/Global/DeepAR/Full/mod', 'rb') as mod_file:\n",
    "    mod = pickle.load(mod_file)"
   ]
  },
  {
   "cell_type": "code",
   "execution_count": 404,
   "id": "36dce82d",
   "metadata": {},
   "outputs": [
    {
     "name": "stderr",
     "output_type": "stream",
     "text": [
      "Full Model DeepAR Unseen Preds: 100%|██████████| 4/4 [38:45<00:00, 581.27s/it]   \n"
     ]
    }
   ],
   "source": [
    "with tqdm_joblib(tqdm(desc=\"Full Model DeepAR Unseen Preds\", \n",
    "                      total=(len(subset_df_list)))) as progress_bar:\n",
    "    full_mod_preds = Parallel(n_jobs=4)(delayed(compute_deepar_test_preds_clust)(mod,\n",
    "                                                                                 [subset_df_list[i]],\n",
    "                                                                                 [i+1]\n",
    "                                                                                ) for i in range(len(subset_df_list)))"
   ]
  },
  {
   "cell_type": "code",
   "execution_count": 406,
   "id": "4196d154",
   "metadata": {},
   "outputs": [],
   "source": [
    "forec_means = {**full_mod_preds[0][0], \n",
    "               **full_mod_preds[1][0],\n",
    "               **full_mod_preds[2][0], \n",
    "               **full_mod_preds[3][0]}\n",
    "\n",
    "forec_lo_80 = {**full_mod_preds[0][2], \n",
    "               **full_mod_preds[1][2],\n",
    "               **full_mod_preds[2][2], \n",
    "               **full_mod_preds[3][2]}\n",
    "\n",
    "forec_hi_80 = {**full_mod_preds[0][3], \n",
    "               **full_mod_preds[1][3],\n",
    "               **full_mod_preds[2][3], \n",
    "               **full_mod_preds[3][3]}\n",
    "\n",
    "forec_lo_95 = {**full_mod_preds[0][4], \n",
    "               **full_mod_preds[1][4],\n",
    "               **full_mod_preds[2][4], \n",
    "               **full_mod_preds[3][4]}\n",
    "\n",
    "forec_hi_95 = {**full_mod_preds[0][5], \n",
    "               **full_mod_preds[1][5],\n",
    "               **full_mod_preds[2][5], \n",
    "               **full_mod_preds[3][5]}\n"
   ]
  },
  {
   "cell_type": "code",
   "execution_count": 407,
   "id": "42a1718f",
   "metadata": {},
   "outputs": [],
   "source": [
    "forec_actuals = {k: test_df_list[k-1].y.to_list() for k in range(1, (len(test_df_list)+1))}\n",
    "\n",
    "forec_actual_means = {k: np.mean(test_df_list[k-1].y.to_list()) for k in range(1, (len(test_df_list)+1))}"
   ]
  },
  {
   "cell_type": "code",
   "execution_count": 408,
   "id": "1b126fd5",
   "metadata": {},
   "outputs": [],
   "source": [
    "full_int_score_80 = {k: interval_score(forec_actuals[k], \n",
    "                                       forec_lo_80[k],\n",
    "                                       forec_hi_80[k],\n",
    "                                       0.8) for k in forec_actuals.keys()\n",
    "                    }\n",
    "\n",
    "full_int_score_95 = {k: interval_score(forec_actuals[k], \n",
    "                                       forec_lo_95[k],\n",
    "                                       forec_hi_95[k],\n",
    "                                       0.95) for k in forec_actuals.keys()\n",
    "                    }\n",
    "\n",
    "full_rmse = {k: mean_squared_error(forec_actuals[k], \n",
    "                                   forec_means[k], \n",
    "                                   squared=False) for k in forec_actuals.keys()}\n",
    "\n",
    "full_mae = {k: mean_absolute_error(forec_actuals[k], \n",
    "                                   forec_means[k]) for k in forec_actuals.keys()}"
   ]
  },
  {
   "cell_type": "code",
   "execution_count": 409,
   "id": "9c02d26c",
   "metadata": {},
   "outputs": [
    {
     "data": {
      "text/plain": [
       "57.98740754059675"
      ]
     },
     "execution_count": 409,
     "metadata": {},
     "output_type": "execute_result"
    }
   ],
   "source": [
    "np.mean(list(full_rmse.values()))"
   ]
  },
  {
   "cell_type": "code",
   "execution_count": 410,
   "id": "5f126f18",
   "metadata": {},
   "outputs": [
    {
     "data": {
      "text/plain": [
       "38.8193564518754"
      ]
     },
     "execution_count": 410,
     "metadata": {},
     "output_type": "execute_result"
    }
   ],
   "source": [
    "np.mean(list(full_mae.values()))"
   ]
  },
  {
   "cell_type": "code",
   "execution_count": 411,
   "id": "4f1c28a1",
   "metadata": {},
   "outputs": [
    {
     "data": {
      "text/plain": [
       "0.15678632343074098"
      ]
     },
     "execution_count": 411,
     "metadata": {},
     "output_type": "execute_result"
    }
   ],
   "source": [
    "np.mean([full_rmse[k]/forec_actual_means[k] for k in full_rmse.keys()])"
   ]
  },
  {
   "cell_type": "code",
   "execution_count": 412,
   "id": "978efcb1",
   "metadata": {},
   "outputs": [
    {
     "data": {
      "text/plain": [
       "0.10843076351965276"
      ]
     },
     "execution_count": 412,
     "metadata": {},
     "output_type": "execute_result"
    }
   ],
   "source": [
    "np.mean([full_mae[k]/forec_actual_means[k] for k in full_mae.keys()])"
   ]
  },
  {
   "cell_type": "code",
   "execution_count": 413,
   "id": "2ea6e0c1",
   "metadata": {},
   "outputs": [
    {
     "data": {
      "text/plain": [
       "73.160084963087"
      ]
     },
     "execution_count": 413,
     "metadata": {},
     "output_type": "execute_result"
    }
   ],
   "source": [
    "np.mean(list(full_int_score_80.values()))"
   ]
  },
  {
   "cell_type": "code",
   "execution_count": 414,
   "id": "cb31ea27",
   "metadata": {},
   "outputs": [
    {
     "data": {
      "text/plain": [
       "122.19913741105674"
      ]
     },
     "execution_count": 414,
     "metadata": {},
     "output_type": "execute_result"
    }
   ],
   "source": [
    "np.mean(list(full_int_score_95.values()))"
   ]
  },
  {
   "cell_type": "code",
   "execution_count": 415,
   "id": "ab5669f0",
   "metadata": {},
   "outputs": [
    {
     "data": {
      "text/plain": [
       "0.2394914899711956"
      ]
     },
     "execution_count": 415,
     "metadata": {},
     "output_type": "execute_result"
    }
   ],
   "source": [
    "np.mean([full_int_score_80[k]/forec_actual_means[k] for k in full_int_score_80.keys()])"
   ]
  },
  {
   "cell_type": "code",
   "execution_count": 416,
   "id": "0f28d3e4",
   "metadata": {},
   "outputs": [
    {
     "data": {
      "text/plain": [
       "0.39925932963070404"
      ]
     },
     "execution_count": 416,
     "metadata": {},
     "output_type": "execute_result"
    },
    {
     "name": "stderr",
     "output_type": "stream",
     "text": [
      "/home/ec2-user/anaconda3/envs/python3/lib/python3.8/site-packages/gluonts/dataset/common.py:324: FutureWarning: The 'freq' argument in Timestamp is deprecated and will be removed in a future version.\n",
      "  timestamp = pd.Timestamp(timestamp_input, freq=freq)\n",
      "/home/ec2-user/anaconda3/envs/python3/lib/python3.8/site-packages/gluonts/dataset/common.py:327: FutureWarning: Timestamp.freq is deprecated and will be removed in a future version\n",
      "  if isinstance(timestamp.freq, Tick):\n",
      "/home/ec2-user/anaconda3/envs/python3/lib/python3.8/site-packages/gluonts/dataset/common.py:329: FutureWarning: Timestamp.freq is deprecated and will be removed in a future version\n",
      "  timestamp.floor(timestamp.freq), timestamp.freq\n",
      "/home/ec2-user/anaconda3/envs/python3/lib/python3.8/site-packages/gluonts/dataset/common.py:328: FutureWarning: The 'freq' argument in Timestamp is deprecated and will be removed in a future version.\n",
      "  return pd.Timestamp(\n",
      "/home/ec2-user/anaconda3/envs/python3/lib/python3.8/site-packages/gluonts/transform/feature.py:340: FutureWarning: Timestamp.freq is deprecated and will be removed in a future version\n",
      "  self._freq_base is None or self._freq_base == start.freq.base\n",
      "/home/ec2-user/anaconda3/envs/python3/lib/python3.8/site-packages/gluonts/transform/split.py:36: FutureWarning: Timestamp.freq is deprecated and will be removed in a future version\n",
      "  return _shift_timestamp_helper(ts, ts.freq, offset)\n",
      "/home/ec2-user/anaconda3/envs/python3/lib/python3.8/site-packages/gluonts/transform/feature.py:384: FutureWarning: Timestamp.freq is deprecated and will be removed in a future version\n",
      "  ..., i0 : i0 + length * start.freq.n : start.freq.n\n",
      "/home/ec2-user/anaconda3/envs/python3/lib/python3.8/site-packages/gluonts/dataset/common.py:324: FutureWarning: The 'freq' argument in Timestamp is deprecated and will be removed in a future version.\n",
      "  timestamp = pd.Timestamp(timestamp_input, freq=freq)\n",
      "/home/ec2-user/anaconda3/envs/python3/lib/python3.8/site-packages/gluonts/dataset/common.py:327: FutureWarning: Timestamp.freq is deprecated and will be removed in a future version\n",
      "  if isinstance(timestamp.freq, Tick):\n",
      "/home/ec2-user/anaconda3/envs/python3/lib/python3.8/site-packages/gluonts/dataset/common.py:329: FutureWarning: Timestamp.freq is deprecated and will be removed in a future version\n",
      "  timestamp.floor(timestamp.freq), timestamp.freq\n",
      "/home/ec2-user/anaconda3/envs/python3/lib/python3.8/site-packages/gluonts/dataset/common.py:328: FutureWarning: The 'freq' argument in Timestamp is deprecated and will be removed in a future version.\n",
      "  return pd.Timestamp(\n",
      "/home/ec2-user/anaconda3/envs/python3/lib/python3.8/site-packages/gluonts/transform/feature.py:340: FutureWarning: Timestamp.freq is deprecated and will be removed in a future version\n",
      "  self._freq_base is None or self._freq_base == start.freq.base\n",
      "/home/ec2-user/anaconda3/envs/python3/lib/python3.8/site-packages/gluonts/transform/split.py:36: FutureWarning: Timestamp.freq is deprecated and will be removed in a future version\n",
      "  return _shift_timestamp_helper(ts, ts.freq, offset)\n",
      "/home/ec2-user/anaconda3/envs/python3/lib/python3.8/site-packages/gluonts/transform/feature.py:384: FutureWarning: Timestamp.freq is deprecated and will be removed in a future version\n",
      "  ..., i0 : i0 + length * start.freq.n : start.freq.n\n",
      "/home/ec2-user/anaconda3/envs/python3/lib/python3.8/site-packages/gluonts/dataset/common.py:324: FutureWarning: The 'freq' argument in Timestamp is deprecated and will be removed in a future version.\n",
      "  timestamp = pd.Timestamp(timestamp_input, freq=freq)\n",
      "/home/ec2-user/anaconda3/envs/python3/lib/python3.8/site-packages/gluonts/dataset/common.py:327: FutureWarning: Timestamp.freq is deprecated and will be removed in a future version\n",
      "  if isinstance(timestamp.freq, Tick):\n",
      "/home/ec2-user/anaconda3/envs/python3/lib/python3.8/site-packages/gluonts/dataset/common.py:329: FutureWarning: Timestamp.freq is deprecated and will be removed in a future version\n",
      "  timestamp.floor(timestamp.freq), timestamp.freq\n",
      "/home/ec2-user/anaconda3/envs/python3/lib/python3.8/site-packages/gluonts/dataset/common.py:328: FutureWarning: The 'freq' argument in Timestamp is deprecated and will be removed in a future version.\n",
      "  return pd.Timestamp(\n",
      "/home/ec2-user/anaconda3/envs/python3/lib/python3.8/site-packages/gluonts/transform/feature.py:340: FutureWarning: Timestamp.freq is deprecated and will be removed in a future version\n",
      "  self._freq_base is None or self._freq_base == start.freq.base\n",
      "/home/ec2-user/anaconda3/envs/python3/lib/python3.8/site-packages/gluonts/transform/split.py:36: FutureWarning: Timestamp.freq is deprecated and will be removed in a future version\n",
      "  return _shift_timestamp_helper(ts, ts.freq, offset)\n",
      "/home/ec2-user/anaconda3/envs/python3/lib/python3.8/site-packages/gluonts/transform/feature.py:384: FutureWarning: Timestamp.freq is deprecated and will be removed in a future version\n",
      "  ..., i0 : i0 + length * start.freq.n : start.freq.n\n",
      "/home/ec2-user/anaconda3/envs/python3/lib/python3.8/site-packages/gluonts/dataset/common.py:324: FutureWarning: The 'freq' argument in Timestamp is deprecated and will be removed in a future version.\n",
      "  timestamp = pd.Timestamp(timestamp_input, freq=freq)\n",
      "/home/ec2-user/anaconda3/envs/python3/lib/python3.8/site-packages/gluonts/dataset/common.py:327: FutureWarning: Timestamp.freq is deprecated and will be removed in a future version\n",
      "  if isinstance(timestamp.freq, Tick):\n",
      "/home/ec2-user/anaconda3/envs/python3/lib/python3.8/site-packages/gluonts/dataset/common.py:329: FutureWarning: Timestamp.freq is deprecated and will be removed in a future version\n",
      "  timestamp.floor(timestamp.freq), timestamp.freq\n",
      "/home/ec2-user/anaconda3/envs/python3/lib/python3.8/site-packages/gluonts/dataset/common.py:328: FutureWarning: The 'freq' argument in Timestamp is deprecated and will be removed in a future version.\n",
      "  return pd.Timestamp(\n",
      "/home/ec2-user/anaconda3/envs/python3/lib/python3.8/site-packages/gluonts/transform/feature.py:340: FutureWarning: Timestamp.freq is deprecated and will be removed in a future version\n",
      "  self._freq_base is None or self._freq_base == start.freq.base\n",
      "/home/ec2-user/anaconda3/envs/python3/lib/python3.8/site-packages/gluonts/transform/split.py:36: FutureWarning: Timestamp.freq is deprecated and will be removed in a future version\n",
      "  return _shift_timestamp_helper(ts, ts.freq, offset)\n",
      "/home/ec2-user/anaconda3/envs/python3/lib/python3.8/site-packages/gluonts/transform/feature.py:384: FutureWarning: Timestamp.freq is deprecated and will be removed in a future version\n",
      "  ..., i0 : i0 + length * start.freq.n : start.freq.n\n"
     ]
    }
   ],
   "source": [
    "np.mean([full_int_score_95[k]/forec_actual_means[k] for k in full_int_score_95.keys()])"
   ]
  },
  {
   "cell_type": "code",
   "execution_count": null,
   "id": "15a46df8",
   "metadata": {},
   "outputs": [],
   "source": []
  },
  {
   "cell_type": "markdown",
   "id": "a58e9687",
   "metadata": {},
   "source": [
    "# Forecast with Models for Random Clusters"
   ]
  },
  {
   "cell_type": "code",
   "execution_count": 34,
   "id": "65a6fe3c",
   "metadata": {},
   "outputs": [
    {
     "data": {
      "text/plain": [
       "0    3\n",
       "1    2\n",
       "2    1\n",
       "3    4\n",
       "Name: rand, dtype: int64"
      ]
     },
     "execution_count": 34,
     "metadata": {},
     "output_type": "execute_result"
    }
   ],
   "source": [
    "clust_assign.rand"
   ]
  },
  {
   "cell_type": "code",
   "execution_count": 418,
   "id": "3fff04c5",
   "metadata": {},
   "outputs": [],
   "source": [
    "with open(f'Results/Global/DeepAR/Random Cluster/mod_2', 'rb') as f:\n",
    "    rand_clust_deep_ar_mod3 = pickle.load(f)\n",
    "    \n",
    "with open(f'Results/Global/DeepAR/Random Cluster/mod_1', 'rb') as f:\n",
    "    rand_clust_deep_ar_mod2 = pickle.load(f)\n",
    "    \n",
    "with open(f'Results/Global/DeepAR/Random Cluster/mod_0', 'rb') as f:\n",
    "    rand_clust_deep_ar_mod1 = pickle.load(f)\n",
    "    \n",
    "with open(f'Results/Global/DeepAR/Random Cluster/mod_3', 'rb') as f:\n",
    "    rand_clust_deep_ar_mod4 = pickle.load(f)"
   ]
  },
  {
   "cell_type": "code",
   "execution_count": 419,
   "id": "d5b56e77",
   "metadata": {},
   "outputs": [],
   "source": [
    "rand_clust_deep_ar_mod_ls = [rand_clust_deep_ar_mod3, rand_clust_deep_ar_mod2, \n",
    "                             rand_clust_deep_ar_mod1, rand_clust_deep_ar_mod4]"
   ]
  },
  {
   "cell_type": "code",
   "execution_count": 420,
   "id": "862b408e",
   "metadata": {},
   "outputs": [
    {
     "name": "stderr",
     "output_type": "stream",
     "text": [
      "Random Cluster DeepAR Unseen Preds: 100%|██████████| 4/4 [38:40<00:00, 580.17s/it]   \n"
     ]
    }
   ],
   "source": [
    "with tqdm_joblib(tqdm(desc=\"Random Cluster DeepAR Unseen Preds\", \n",
    "                      total=(len(subset_df_list)))) as progress_bar:\n",
    "    rand_clust_test_preds = Parallel(n_jobs=4)(delayed(compute_deepar_test_preds_clust)(rand_clust_deep_ar_mod_ls[i],\n",
    "                                                                                        [subset_df_list[i]],\n",
    "                                                                                        [i+1]\n",
    "                                                                                       ) for i in range(len(subset_df_list)))"
   ]
  },
  {
   "cell_type": "code",
   "execution_count": 425,
   "id": "052786e8",
   "metadata": {},
   "outputs": [],
   "source": [
    "rand_clust_forec_means = {**rand_clust_test_preds[0][0], \n",
    "                          **rand_clust_test_preds[1][0],\n",
    "                          **rand_clust_test_preds[2][0], \n",
    "                          **rand_clust_test_preds[3][0]}\n",
    "\n",
    "rand_clust_forec_lo_80 = {**rand_clust_test_preds[0][2], \n",
    "                          **rand_clust_test_preds[1][2],\n",
    "                          **rand_clust_test_preds[2][2], \n",
    "                          **rand_clust_test_preds[3][2]}\n",
    "\n",
    "rand_clust_forec_hi_80 = {**rand_clust_test_preds[0][3], \n",
    "                          **rand_clust_test_preds[1][3],\n",
    "                          **rand_clust_test_preds[2][3], \n",
    "                          **rand_clust_test_preds[3][3]}\n",
    "\n",
    "rand_clust_forec_lo_95 = {**rand_clust_test_preds[0][4], \n",
    "                          **rand_clust_test_preds[1][4],\n",
    "                          **rand_clust_test_preds[2][4], \n",
    "                          **rand_clust_test_preds[3][4]}\n",
    "\n",
    "rand_clust_forec_hi_95 = {**rand_clust_test_preds[0][5], \n",
    "                          **rand_clust_test_preds[1][5],\n",
    "                          **rand_clust_test_preds[2][5], \n",
    "                          **rand_clust_test_preds[3][5]}\n",
    "\n",
    "rand_clust_forec_actuals = {k: test_df_list[k-1].y.to_list() for k in range(1, (len(test_df_list)+1))}\n",
    "\n",
    "rand_clust_forec_actual_means = {k: np.mean(test_df_list[k-1].y.to_list()) for k in range(1, (len(test_df_list)+1))}"
   ]
  },
  {
   "cell_type": "code",
   "execution_count": 426,
   "id": "fa58a32d",
   "metadata": {},
   "outputs": [],
   "source": [
    "rand_clust_int_score_80 = {k: interval_score(rand_clust_forec_actuals[k], \n",
    "                                             rand_clust_forec_lo_80[k],\n",
    "                                             rand_clust_forec_hi_80[k],\n",
    "                                             0.8) for k in rand_clust_forec_actuals.keys()\n",
    "                          }\n",
    "\n",
    "rand_clust_int_score_95 = {k: interval_score(rand_clust_forec_actuals[k], \n",
    "                                             rand_clust_forec_lo_95[k],\n",
    "                                             rand_clust_forec_hi_95[k],\n",
    "                                             0.95) for k in rand_clust_forec_actuals.keys()\n",
    "                          }\n",
    "\n",
    "rand_clust_rmse = {k: mean_squared_error(rand_clust_forec_actuals[k], \n",
    "                                      rand_clust_forec_means[k], \n",
    "                                      squared=False) for k in rand_clust_forec_actuals.keys()}\n",
    "\n",
    "rand_clust_mae = {k: mean_absolute_error(rand_clust_forec_actuals[k], \n",
    "                                      rand_clust_forec_means[k]) for k in rand_clust_forec_actuals.keys()}"
   ]
  },
  {
   "cell_type": "code",
   "execution_count": 427,
   "id": "33ed8ef8",
   "metadata": {},
   "outputs": [
    {
     "data": {
      "text/plain": [
       "58.58108664894465"
      ]
     },
     "execution_count": 427,
     "metadata": {},
     "output_type": "execute_result"
    }
   ],
   "source": [
    "np.mean(list(rand_clust_rmse.values()))"
   ]
  },
  {
   "cell_type": "code",
   "execution_count": 428,
   "id": "365299e4",
   "metadata": {},
   "outputs": [
    {
     "data": {
      "text/plain": [
       "39.50346412669335"
      ]
     },
     "execution_count": 428,
     "metadata": {},
     "output_type": "execute_result"
    }
   ],
   "source": [
    "np.mean(list(rand_clust_mae.values()))"
   ]
  },
  {
   "cell_type": "code",
   "execution_count": 429,
   "id": "bae872b5",
   "metadata": {},
   "outputs": [
    {
     "data": {
      "text/plain": [
       "0.15873691747489932"
      ]
     },
     "execution_count": 429,
     "metadata": {},
     "output_type": "execute_result"
    }
   ],
   "source": [
    "np.mean([rand_clust_rmse[k]/rand_clust_forec_actual_means[k] for k in rand_clust_rmse.keys()])"
   ]
  },
  {
   "cell_type": "code",
   "execution_count": 430,
   "id": "e11d09f5",
   "metadata": {},
   "outputs": [
    {
     "data": {
      "text/plain": [
       "0.10998238593431656"
      ]
     },
     "execution_count": 430,
     "metadata": {},
     "output_type": "execute_result"
    }
   ],
   "source": [
    "np.mean([rand_clust_mae[k]/rand_clust_forec_actual_means[k] for k in rand_clust_mae.keys()])"
   ]
  },
  {
   "cell_type": "code",
   "execution_count": 431,
   "id": "5bb98aea",
   "metadata": {},
   "outputs": [
    {
     "data": {
      "text/plain": [
       "75.27213428449862"
      ]
     },
     "execution_count": 431,
     "metadata": {},
     "output_type": "execute_result"
    }
   ],
   "source": [
    "np.mean(list(rand_clust_int_score_80.values()))"
   ]
  },
  {
   "cell_type": "code",
   "execution_count": 432,
   "id": "4c35904e",
   "metadata": {},
   "outputs": [
    {
     "data": {
      "text/plain": [
       "125.92690183867043"
      ]
     },
     "execution_count": 432,
     "metadata": {},
     "output_type": "execute_result"
    }
   ],
   "source": [
    "np.mean(list(rand_clust_int_score_95.values()))"
   ]
  },
  {
   "cell_type": "code",
   "execution_count": 433,
   "id": "31c83092",
   "metadata": {},
   "outputs": [
    {
     "data": {
      "text/plain": [
       "0.24896899777001802"
      ]
     },
     "execution_count": 433,
     "metadata": {},
     "output_type": "execute_result"
    }
   ],
   "source": [
    "np.mean([rand_clust_int_score_80[k]/rand_clust_forec_actual_means[k] for k in rand_clust_int_score_80.keys()])"
   ]
  },
  {
   "cell_type": "code",
   "execution_count": 434,
   "id": "036c4a56",
   "metadata": {},
   "outputs": [
    {
     "data": {
      "text/plain": [
       "0.4120750822706009"
      ]
     },
     "execution_count": 434,
     "metadata": {},
     "output_type": "execute_result"
    }
   ],
   "source": [
    "np.mean([rand_clust_int_score_95[k]/rand_clust_forec_actual_means[k] for k in rand_clust_int_score_95.keys()])"
   ]
  },
  {
   "cell_type": "code",
   "execution_count": null,
   "id": "6ae50854",
   "metadata": {},
   "outputs": [],
   "source": []
  },
  {
   "cell_type": "markdown",
   "id": "397451ce",
   "metadata": {},
   "source": [
    "# Forecast with Highway System Model"
   ]
  },
  {
   "cell_type": "code",
   "execution_count": 281,
   "id": "96532ced",
   "metadata": {},
   "outputs": [],
   "source": [
    "with open(f'Results/Global/DeepAR/Highway System/mod_0', 'rb') as f:\n",
    "    eng_mod = pickle.load(f)"
   ]
  },
  {
   "cell_type": "code",
   "execution_count": null,
   "id": "8305956e",
   "metadata": {},
   "outputs": [
    {
     "name": "stderr",
     "output_type": "stream",
     "text": [
      "\r",
      "England Model DeepAR Unseen Preds:   0%|          | 0/4 [00:00<?, ?it/s]"
     ]
    }
   ],
   "source": [
    "with tqdm_joblib(tqdm(desc=\"England Model DeepAR Unseen Preds\", \n",
    "                      total=(len(subset_df_list)))) as progress_bar:\n",
    "    eng_test_preds_total_ls = Parallel(n_jobs=4)(delayed(compute_deepar_test_preds_clust)(eng_mod,\n",
    "                                                                                    [subset_df_list[i]],\n",
    "                                                                                    [i+1]\n",
    "                                                                                   ) for i in range(len(subset_df_list))) \n"
   ]
  },
  {
   "cell_type": "code",
   "execution_count": null,
   "id": "6f1f04e2",
   "metadata": {},
   "outputs": [],
   "source": [
    "eng_forec_means = {**eng_test_preds_total_ls[0][0], \n",
    "                   **eng_test_preds_total_ls[1][0],\n",
    "                   **eng_test_preds_total_ls[2][0], \n",
    "                   **eng_test_preds_total_ls[3][0]}\n",
    "\n",
    "eng_forec_lo_80 = {**eng_test_preds_total_ls[0][2], \n",
    "                   **eng_test_preds_total_ls[1][2],\n",
    "                   **eng_test_preds_total_ls[2][2], \n",
    "                   **eng_test_preds_total_ls[3][2]}\n",
    "\n",
    "eng_forec_hi_80 = {**eng_test_preds_total_ls[0][3], \n",
    "                   **eng_test_preds_total_ls[1][3],\n",
    "                   **eng_test_preds_total_ls[2][3], \n",
    "                   **eng_test_preds_total_ls[3][3]}\n",
    "\n",
    "eng_forec_lo_95 = {**eng_test_preds_total_ls[0][4], \n",
    "                   **eng_test_preds_total_ls[1][4],\n",
    "                   **eng_test_preds_total_ls[2][4], \n",
    "                   **eng_test_preds_total_ls[3][4]}\n",
    "\n",
    "eng_forec_hi_95 = {**eng_test_preds_total_ls[0][5], \n",
    "                   **eng_test_preds_total_ls[1][5],\n",
    "                   **eng_test_preds_total_ls[2][5], \n",
    "                   **eng_test_preds_total_ls[3][5]}\n",
    "\n",
    "eng_forec_actuals = {k: test_df_list[k-1].y.to_list() for k in range(1, (len(test_df_list)+1))}\n",
    "\n",
    "eng_forec_actual_means = {k: np.mean(test_df_list[k-1].y.to_list()) for k in range(1, (len(test_df_list)+1))}"
   ]
  },
  {
   "cell_type": "code",
   "execution_count": null,
   "id": "e5f7cd52",
   "metadata": {},
   "outputs": [],
   "source": [
    "eng_int_score_80 = {k: interval_score(eng_forec_actuals[k], \n",
    "                                             eng_forec_lo_80[k],\n",
    "                                             eng_forec_hi_80[k],\n",
    "                                             0.8) for k in eng_forec_actuals.keys()\n",
    "                          }\n",
    "\n",
    "eng_int_score_95 = {k: interval_score(eng_forec_actuals[k], \n",
    "                                             eng_forec_lo_95[k],\n",
    "                                             eng_forec_hi_95[k],\n",
    "                                             0.95) for k in eng_forec_actuals.keys()\n",
    "                          }\n",
    "\n",
    "eng_rmse = {k: mean_squared_error(eng_forec_actuals[k], \n",
    "                                      eng_forec_means[k], \n",
    "                                      squared=False) for k in eng_forec_actuals.keys()}\n",
    "\n",
    "eng_mae = {k: mean_absolute_error(eng_forec_actuals[k], \n",
    "                                      eng_forec_means[k]) for k in eng_forec_actuals.keys()}"
   ]
  },
  {
   "cell_type": "code",
   "execution_count": null,
   "id": "f7b4509d",
   "metadata": {},
   "outputs": [],
   "source": [
    "np.mean(list(eng_rmse.values()))"
   ]
  },
  {
   "cell_type": "code",
   "execution_count": null,
   "id": "c9f68120",
   "metadata": {},
   "outputs": [],
   "source": [
    "np.mean(list(eng_mae.values()))"
   ]
  },
  {
   "cell_type": "code",
   "execution_count": null,
   "id": "9f5515d7",
   "metadata": {},
   "outputs": [],
   "source": [
    "np.mean([eng_rmse[k]/eng_forec_actual_means[k] for k in eng_rmse.keys()])"
   ]
  },
  {
   "cell_type": "code",
   "execution_count": null,
   "id": "0b52cabb",
   "metadata": {},
   "outputs": [],
   "source": [
    "np.mean([eng_mae[k]/eng_forec_actual_means[k] for k in eng_mae.keys()])"
   ]
  },
  {
   "cell_type": "code",
   "execution_count": null,
   "id": "d909b414",
   "metadata": {},
   "outputs": [],
   "source": [
    "np.mean(list(eng_int_score_80.values()))"
   ]
  },
  {
   "cell_type": "code",
   "execution_count": null,
   "id": "374354ae",
   "metadata": {},
   "outputs": [],
   "source": [
    "np.mean(list(eng_int_score_95.values()))"
   ]
  },
  {
   "cell_type": "code",
   "execution_count": null,
   "id": "a82aff0b",
   "metadata": {},
   "outputs": [],
   "source": [
    "np.mean([eng_int_score_80[k]/eng_forec_actual_means[k] for k in eng_int_score_80.keys()])"
   ]
  },
  {
   "cell_type": "code",
   "execution_count": null,
   "id": "83cddfff",
   "metadata": {},
   "outputs": [],
   "source": [
    "np.mean([eng_int_score_95[k]/eng_forec_actual_means[k] for k in eng_int_score_95.keys()])"
   ]
  },
  {
   "cell_type": "code",
   "execution_count": null,
   "id": "c9badcba",
   "metadata": {},
   "outputs": [],
   "source": []
  },
  {
   "cell_type": "markdown",
   "id": "eea35c6f",
   "metadata": {},
   "source": [
    "# Forecast with Models for Catch22-Based KMeans Clusters"
   ]
  },
  {
   "cell_type": "code",
   "execution_count": 341,
   "id": "cc7708fb",
   "metadata": {},
   "outputs": [
    {
     "data": {
      "text/plain": [
       "0    1\n",
       "1    1\n",
       "2    1\n",
       "3    1\n",
       "Name: catch22, dtype: int64"
      ]
     },
     "execution_count": 341,
     "metadata": {},
     "output_type": "execute_result"
    }
   ],
   "source": [
    "clust_assign.catch22"
   ]
  },
  {
   "cell_type": "code",
   "execution_count": 343,
   "id": "7f8c8871",
   "metadata": {},
   "outputs": [],
   "source": [
    "with open(f'Results/Global/DeepAR/Catch22 KMeans/mod_0', 'rb') as f:\n",
    "    catch22_mod1 = pickle.load(f)"
   ]
  },
  {
   "cell_type": "code",
   "execution_count": 350,
   "id": "6c507c88",
   "metadata": {},
   "outputs": [
    {
     "name": "stderr",
     "output_type": "stream",
     "text": [
      "Catch22 DeepAR Unseen Preds: 100%|██████████| 4/4 [38:29<00:00, 577.37s/it]   \n"
     ]
    }
   ],
   "source": [
    "with tqdm_joblib(tqdm(desc=\"Catch22 DeepAR Unseen Preds\", \n",
    "                      total=(len(subset_df_list)))) as progress_bar:\n",
    "    catch22_test_preds = Parallel(n_jobs=4)(delayed(compute_deepar_test_preds_clust)(catch22_mod1,\n",
    "                                                                                    [subset_df_list[i]],\n",
    "                                                                                    [i+1]\n",
    "                                                                                   ) for i in range(len(subset_df_list))) \n"
   ]
  },
  {
   "cell_type": "code",
   "execution_count": 351,
   "id": "dd084851",
   "metadata": {},
   "outputs": [],
   "source": [
    "catch22_forec_means = {**catch22_test_preds[0][0], \n",
    "                       **catch22_test_preds[1][0],\n",
    "                       **catch22_test_preds[2][0], \n",
    "                       **catch22_test_preds[3][0]}\n",
    "\n",
    "catch22_forec_lo_80 = {**catch22_test_preds[0][2], \n",
    "                       **catch22_test_preds[1][2],\n",
    "                       **catch22_test_preds[2][2], \n",
    "                       **catch22_test_preds[3][2]}\n",
    "\n",
    "catch22_forec_hi_80 = {**catch22_test_preds[0][3], \n",
    "                       **catch22_test_preds[1][3],\n",
    "                       **catch22_test_preds[2][3], \n",
    "                       **catch22_test_preds[3][3]}\n",
    "\n",
    "catch22_forec_lo_95 = {**catch22_test_preds[0][4], \n",
    "                       **catch22_test_preds[1][4],\n",
    "                       **catch22_test_preds[2][4], \n",
    "                       **catch22_test_preds[3][4]}\n",
    "\n",
    "catch22_forec_hi_95 = {**catch22_test_preds[0][5], \n",
    "                       **catch22_test_preds[1][5],\n",
    "                       **catch22_test_preds[2][5], \n",
    "                       **catch22_test_preds[3][5]}\n",
    "\n",
    "catch22_forec_actuals = {k: test_df_list[k-1].y.to_list() for k in range(1, (len(test_df_list)+1))}\n",
    "\n",
    "catch22forec_actual_means = {k: np.mean(test_df_list[k-1].y.to_list()) for k in range(1, (len(test_df_list)+1))}"
   ]
  },
  {
   "cell_type": "code",
   "execution_count": 352,
   "id": "c6441336",
   "metadata": {},
   "outputs": [],
   "source": [
    "catch22_int_score_80 = {k: interval_score(catch22_forec_actuals[k], \n",
    "                                          catch22_forec_lo_80[k],\n",
    "                                          catch22_forec_hi_80[k],\n",
    "                                          0.8) for k in catch22_forec_actuals.keys()\n",
    "                          }\n",
    "\n",
    "catch22_int_score_95 = {k: interval_score(catch22_forec_actuals[k], \n",
    "                                          catch22_forec_lo_95[k],\n",
    "                                          catch22_forec_hi_95[k],\n",
    "                                          0.95) for k in catch22_forec_actuals.keys()\n",
    "                          }\n",
    "\n",
    "catch22_rmse = {k: mean_squared_error(catch22_forec_actuals[k], \n",
    "                                      catch22_forec_means[k], \n",
    "                                      squared=False) for k in catch22_forec_actuals.keys()}\n",
    "\n",
    "catch22_mae = {k: mean_absolute_error(catch22_forec_actuals[k], \n",
    "                                      catch22_forec_means[k]) for k in catch22_forec_actuals.keys()}"
   ]
  },
  {
   "cell_type": "code",
   "execution_count": 353,
   "id": "ca37e552",
   "metadata": {
    "scrolled": true
   },
   "outputs": [
    {
     "data": {
      "text/plain": [
       "58.54068452681147"
      ]
     },
     "execution_count": 353,
     "metadata": {},
     "output_type": "execute_result"
    }
   ],
   "source": [
    "np.mean(list(catch22_rmse.values()))"
   ]
  },
  {
   "cell_type": "code",
   "execution_count": 354,
   "id": "af0b54ba",
   "metadata": {
    "scrolled": true
   },
   "outputs": [
    {
     "data": {
      "text/plain": [
       "39.254392794289046"
      ]
     },
     "execution_count": 354,
     "metadata": {},
     "output_type": "execute_result"
    }
   ],
   "source": [
    "np.mean(list(catch22_mae.values()))"
   ]
  },
  {
   "cell_type": "code",
   "execution_count": 355,
   "id": "dc632dcf",
   "metadata": {},
   "outputs": [
    {
     "data": {
      "text/plain": [
       "0.15795296578300377"
      ]
     },
     "execution_count": 355,
     "metadata": {},
     "output_type": "execute_result"
    }
   ],
   "source": [
    "np.mean([catch22_rmse[k]/catch22forec_actual_means[k] for k in catch22_rmse.keys()])"
   ]
  },
  {
   "cell_type": "code",
   "execution_count": 356,
   "id": "9b1dffbd",
   "metadata": {},
   "outputs": [
    {
     "data": {
      "text/plain": [
       "0.10926380497163951"
      ]
     },
     "execution_count": 356,
     "metadata": {},
     "output_type": "execute_result"
    }
   ],
   "source": [
    "np.mean([catch22_mae[k]/catch22forec_actual_means[k] for k in catch22_mae.keys()])"
   ]
  },
  {
   "cell_type": "code",
   "execution_count": 357,
   "id": "87963a30",
   "metadata": {},
   "outputs": [
    {
     "data": {
      "text/plain": [
       "72.64839381115934"
      ]
     },
     "execution_count": 357,
     "metadata": {},
     "output_type": "execute_result"
    }
   ],
   "source": [
    "np.mean(list(catch22_int_score_80.values()))"
   ]
  },
  {
   "cell_type": "code",
   "execution_count": 358,
   "id": "88e882cf",
   "metadata": {},
   "outputs": [
    {
     "data": {
      "text/plain": [
       "120.90600858029954"
      ]
     },
     "execution_count": 358,
     "metadata": {},
     "output_type": "execute_result"
    }
   ],
   "source": [
    "np.mean(list(catch22_int_score_95.values()))"
   ]
  },
  {
   "cell_type": "code",
   "execution_count": 359,
   "id": "d0f247a5",
   "metadata": {},
   "outputs": [
    {
     "data": {
      "text/plain": [
       "0.2398174114750097"
      ]
     },
     "execution_count": 359,
     "metadata": {},
     "output_type": "execute_result"
    }
   ],
   "source": [
    "np.mean([catch22_int_score_80[k]/catch22forec_actual_means[k] for k in catch22_int_score_80.keys()])"
   ]
  },
  {
   "cell_type": "code",
   "execution_count": 360,
   "id": "a3428781",
   "metadata": {},
   "outputs": [
    {
     "data": {
      "text/plain": [
       "0.39932288581426256"
      ]
     },
     "execution_count": 360,
     "metadata": {},
     "output_type": "execute_result"
    },
    {
     "name": "stderr",
     "output_type": "stream",
     "text": [
      "/home/ec2-user/anaconda3/envs/python3/lib/python3.8/site-packages/gluonts/dataset/common.py:324: FutureWarning: The 'freq' argument in Timestamp is deprecated and will be removed in a future version.\n",
      "  timestamp = pd.Timestamp(timestamp_input, freq=freq)\n",
      "/home/ec2-user/anaconda3/envs/python3/lib/python3.8/site-packages/gluonts/dataset/common.py:327: FutureWarning: Timestamp.freq is deprecated and will be removed in a future version\n",
      "  if isinstance(timestamp.freq, Tick):\n",
      "/home/ec2-user/anaconda3/envs/python3/lib/python3.8/site-packages/gluonts/dataset/common.py:329: FutureWarning: Timestamp.freq is deprecated and will be removed in a future version\n",
      "  timestamp.floor(timestamp.freq), timestamp.freq\n",
      "/home/ec2-user/anaconda3/envs/python3/lib/python3.8/site-packages/gluonts/dataset/common.py:328: FutureWarning: The 'freq' argument in Timestamp is deprecated and will be removed in a future version.\n",
      "  return pd.Timestamp(\n",
      "/home/ec2-user/anaconda3/envs/python3/lib/python3.8/site-packages/gluonts/transform/feature.py:340: FutureWarning: Timestamp.freq is deprecated and will be removed in a future version\n",
      "  self._freq_base is None or self._freq_base == start.freq.base\n",
      "/home/ec2-user/anaconda3/envs/python3/lib/python3.8/site-packages/gluonts/transform/split.py:36: FutureWarning: Timestamp.freq is deprecated and will be removed in a future version\n",
      "  return _shift_timestamp_helper(ts, ts.freq, offset)\n",
      "/home/ec2-user/anaconda3/envs/python3/lib/python3.8/site-packages/gluonts/transform/feature.py:384: FutureWarning: Timestamp.freq is deprecated and will be removed in a future version\n",
      "  ..., i0 : i0 + length * start.freq.n : start.freq.n\n",
      "/home/ec2-user/anaconda3/envs/python3/lib/python3.8/site-packages/gluonts/dataset/common.py:324: FutureWarning: The 'freq' argument in Timestamp is deprecated and will be removed in a future version.\n",
      "  timestamp = pd.Timestamp(timestamp_input, freq=freq)\n",
      "/home/ec2-user/anaconda3/envs/python3/lib/python3.8/site-packages/gluonts/dataset/common.py:327: FutureWarning: Timestamp.freq is deprecated and will be removed in a future version\n",
      "  if isinstance(timestamp.freq, Tick):\n",
      "/home/ec2-user/anaconda3/envs/python3/lib/python3.8/site-packages/gluonts/dataset/common.py:329: FutureWarning: Timestamp.freq is deprecated and will be removed in a future version\n",
      "  timestamp.floor(timestamp.freq), timestamp.freq\n",
      "/home/ec2-user/anaconda3/envs/python3/lib/python3.8/site-packages/gluonts/dataset/common.py:328: FutureWarning: The 'freq' argument in Timestamp is deprecated and will be removed in a future version.\n",
      "  return pd.Timestamp(\n",
      "/home/ec2-user/anaconda3/envs/python3/lib/python3.8/site-packages/gluonts/transform/feature.py:340: FutureWarning: Timestamp.freq is deprecated and will be removed in a future version\n",
      "  self._freq_base is None or self._freq_base == start.freq.base\n",
      "/home/ec2-user/anaconda3/envs/python3/lib/python3.8/site-packages/gluonts/transform/split.py:36: FutureWarning: Timestamp.freq is deprecated and will be removed in a future version\n",
      "  return _shift_timestamp_helper(ts, ts.freq, offset)\n",
      "/home/ec2-user/anaconda3/envs/python3/lib/python3.8/site-packages/gluonts/transform/feature.py:384: FutureWarning: Timestamp.freq is deprecated and will be removed in a future version\n",
      "  ..., i0 : i0 + length * start.freq.n : start.freq.n\n",
      "/home/ec2-user/anaconda3/envs/python3/lib/python3.8/site-packages/gluonts/dataset/common.py:324: FutureWarning: The 'freq' argument in Timestamp is deprecated and will be removed in a future version.\n",
      "  timestamp = pd.Timestamp(timestamp_input, freq=freq)\n",
      "/home/ec2-user/anaconda3/envs/python3/lib/python3.8/site-packages/gluonts/dataset/common.py:327: FutureWarning: Timestamp.freq is deprecated and will be removed in a future version\n",
      "  if isinstance(timestamp.freq, Tick):\n",
      "/home/ec2-user/anaconda3/envs/python3/lib/python3.8/site-packages/gluonts/dataset/common.py:329: FutureWarning: Timestamp.freq is deprecated and will be removed in a future version\n",
      "  timestamp.floor(timestamp.freq), timestamp.freq\n",
      "/home/ec2-user/anaconda3/envs/python3/lib/python3.8/site-packages/gluonts/dataset/common.py:328: FutureWarning: The 'freq' argument in Timestamp is deprecated and will be removed in a future version.\n",
      "  return pd.Timestamp(\n",
      "/home/ec2-user/anaconda3/envs/python3/lib/python3.8/site-packages/gluonts/transform/feature.py:340: FutureWarning: Timestamp.freq is deprecated and will be removed in a future version\n",
      "  self._freq_base is None or self._freq_base == start.freq.base\n",
      "/home/ec2-user/anaconda3/envs/python3/lib/python3.8/site-packages/gluonts/transform/split.py:36: FutureWarning: Timestamp.freq is deprecated and will be removed in a future version\n",
      "  return _shift_timestamp_helper(ts, ts.freq, offset)\n",
      "/home/ec2-user/anaconda3/envs/python3/lib/python3.8/site-packages/gluonts/transform/feature.py:384: FutureWarning: Timestamp.freq is deprecated and will be removed in a future version\n",
      "  ..., i0 : i0 + length * start.freq.n : start.freq.n\n",
      "/home/ec2-user/anaconda3/envs/python3/lib/python3.8/site-packages/gluonts/dataset/common.py:324: FutureWarning: The 'freq' argument in Timestamp is deprecated and will be removed in a future version.\n",
      "  timestamp = pd.Timestamp(timestamp_input, freq=freq)\n",
      "/home/ec2-user/anaconda3/envs/python3/lib/python3.8/site-packages/gluonts/dataset/common.py:327: FutureWarning: Timestamp.freq is deprecated and will be removed in a future version\n",
      "  if isinstance(timestamp.freq, Tick):\n",
      "/home/ec2-user/anaconda3/envs/python3/lib/python3.8/site-packages/gluonts/dataset/common.py:329: FutureWarning: Timestamp.freq is deprecated and will be removed in a future version\n",
      "  timestamp.floor(timestamp.freq), timestamp.freq\n",
      "/home/ec2-user/anaconda3/envs/python3/lib/python3.8/site-packages/gluonts/dataset/common.py:328: FutureWarning: The 'freq' argument in Timestamp is deprecated and will be removed in a future version.\n",
      "  return pd.Timestamp(\n",
      "/home/ec2-user/anaconda3/envs/python3/lib/python3.8/site-packages/gluonts/transform/feature.py:340: FutureWarning: Timestamp.freq is deprecated and will be removed in a future version\n",
      "  self._freq_base is None or self._freq_base == start.freq.base\n",
      "/home/ec2-user/anaconda3/envs/python3/lib/python3.8/site-packages/gluonts/transform/split.py:36: FutureWarning: Timestamp.freq is deprecated and will be removed in a future version\n",
      "  return _shift_timestamp_helper(ts, ts.freq, offset)\n",
      "/home/ec2-user/anaconda3/envs/python3/lib/python3.8/site-packages/gluonts/transform/feature.py:384: FutureWarning: Timestamp.freq is deprecated and will be removed in a future version\n",
      "  ..., i0 : i0 + length * start.freq.n : start.freq.n\n"
     ]
    }
   ],
   "source": [
    "np.mean([catch22_int_score_95[k]/catch22forec_actual_means[k] for k in catch22_int_score_95.keys()])"
   ]
  },
  {
   "cell_type": "code",
   "execution_count": null,
   "id": "0b8b1e6d",
   "metadata": {},
   "outputs": [],
   "source": []
  },
  {
   "cell_type": "markdown",
   "id": "479e6e75",
   "metadata": {},
   "source": [
    "# Forecast for Models with TSFeat-Based KMeans Clusters"
   ]
  },
  {
   "cell_type": "code",
   "execution_count": 361,
   "id": "feb455cc",
   "metadata": {},
   "outputs": [
    {
     "data": {
      "text/plain": [
       "0    2\n",
       "1    2\n",
       "2    2\n",
       "3    1\n",
       "Name: tsfeat, dtype: int64"
      ]
     },
     "execution_count": 361,
     "metadata": {},
     "output_type": "execute_result"
    }
   ],
   "source": [
    "clust_assign.tsfeat"
   ]
  },
  {
   "cell_type": "code",
   "execution_count": 362,
   "id": "a9f6bebd",
   "metadata": {},
   "outputs": [],
   "source": [
    "with open(f'Results/Global/DeepAR/TSFeat KMeans/mod_1', 'rb') as f:\n",
    "    tsfeat_mod2 = pickle.load(f)\n",
    "    \n",
    "with open(f'Results/Global/DeepAR/TSFeat KMeans/mod_0', 'rb') as f:\n",
    "    tsfeat_mod1 = pickle.load(f)"
   ]
  },
  {
   "cell_type": "code",
   "execution_count": 363,
   "id": "87761799",
   "metadata": {},
   "outputs": [],
   "source": [
    "ts_feat_mod_ls = [tsfeat_mod2, tsfeat_mod2, tsfeat_mod2, tsfeat_mod1]"
   ]
  },
  {
   "cell_type": "code",
   "execution_count": 365,
   "id": "351469c6",
   "metadata": {},
   "outputs": [
    {
     "name": "stderr",
     "output_type": "stream",
     "text": [
      "TSFEat DeepAR Unseen Preds: 100%|██████████| 4/4 [38:27<00:00, 576.84s/it]   \n"
     ]
    }
   ],
   "source": [
    "with tqdm_joblib(tqdm(desc=\"TSFEat DeepAR Unseen Preds\", \n",
    "                      total=(len(subset_df_list)))) as progress_bar:\n",
    "    tsfeat_test_preds = Parallel(n_jobs=4)(delayed(compute_deepar_test_preds_clust)(ts_feat_mod_ls[i],\n",
    "                                                                                    [subset_df_list[i]],\n",
    "                                                                                    [i+1]\n",
    "                                                                                   ) for i in range(len(subset_df_list))) \n"
   ]
  },
  {
   "cell_type": "code",
   "execution_count": 366,
   "id": "4ad2e63a",
   "metadata": {},
   "outputs": [],
   "source": [
    "tsfeat_forec_means = {**tsfeat_test_preds[0][0], \n",
    "                       **tsfeat_test_preds[1][0],\n",
    "                       **tsfeat_test_preds[2][0], \n",
    "                       **tsfeat_test_preds[3][0]}\n",
    "\n",
    "tsfeat_forec_lo_80 = {**tsfeat_test_preds[0][2], \n",
    "                       **tsfeat_test_preds[1][2],\n",
    "                       **tsfeat_test_preds[2][2], \n",
    "                       **tsfeat_test_preds[3][2]}\n",
    "\n",
    "tsfeat_forec_hi_80 = {**tsfeat_test_preds[0][3], \n",
    "                       **tsfeat_test_preds[1][3],\n",
    "                       **tsfeat_test_preds[2][3], \n",
    "                       **tsfeat_test_preds[3][3]}\n",
    "\n",
    "tsfeat_forec_lo_95 = {**tsfeat_test_preds[0][4], \n",
    "                       **tsfeat_test_preds[1][4],\n",
    "                       **tsfeat_test_preds[2][4], \n",
    "                       **tsfeat_test_preds[3][4]}\n",
    "\n",
    "tsfeat_forec_hi_95 = {**tsfeat_test_preds[0][5], \n",
    "                       **tsfeat_test_preds[1][5],\n",
    "                       **tsfeat_test_preds[2][5], \n",
    "                       **tsfeat_test_preds[3][5]}\n",
    "\n",
    "tsfeat_forec_actuals = {k: test_df_list[k-1].y.to_list() for k in range(1, (len(test_df_list)+1))}\n",
    "\n",
    "tsfeatforec_actual_means = {k: np.mean(test_df_list[k-1].y.to_list()) for k in range(1, (len(test_df_list)+1))}"
   ]
  },
  {
   "cell_type": "code",
   "execution_count": 367,
   "id": "cbe33480",
   "metadata": {},
   "outputs": [],
   "source": [
    "tsfeat_int_score_80 = {k: interval_score(tsfeat_forec_actuals[k], \n",
    "                                          tsfeat_forec_lo_80[k],\n",
    "                                          tsfeat_forec_hi_80[k],\n",
    "                                          0.8) for k in tsfeat_forec_actuals.keys()\n",
    "                          }\n",
    "\n",
    "tsfeat_int_score_95 = {k: interval_score(tsfeat_forec_actuals[k], \n",
    "                                          tsfeat_forec_lo_95[k],\n",
    "                                          tsfeat_forec_hi_95[k],\n",
    "                                          0.95) for k in tsfeat_forec_actuals.keys()\n",
    "                          }\n",
    "\n",
    "tsfeat_rmse = {k: mean_squared_error(tsfeat_forec_actuals[k], \n",
    "                                      tsfeat_forec_means[k], \n",
    "                                      squared=False) for k in tsfeat_forec_actuals.keys()}\n",
    "\n",
    "tsfeat_mae = {k: mean_absolute_error(tsfeat_forec_actuals[k], \n",
    "                                      tsfeat_forec_means[k]) for k in tsfeat_forec_actuals.keys()}"
   ]
  },
  {
   "cell_type": "code",
   "execution_count": 368,
   "id": "505fd588",
   "metadata": {
    "scrolled": true
   },
   "outputs": [
    {
     "data": {
      "text/plain": [
       "58.421084501519516"
      ]
     },
     "execution_count": 368,
     "metadata": {},
     "output_type": "execute_result"
    }
   ],
   "source": [
    "np.mean(list(tsfeat_rmse.values()))"
   ]
  },
  {
   "cell_type": "code",
   "execution_count": 369,
   "id": "ae64f905",
   "metadata": {
    "scrolled": true
   },
   "outputs": [
    {
     "data": {
      "text/plain": [
       "39.15330388893683"
      ]
     },
     "execution_count": 369,
     "metadata": {},
     "output_type": "execute_result"
    }
   ],
   "source": [
    "np.mean(list(tsfeat_mae.values()))"
   ]
  },
  {
   "cell_type": "code",
   "execution_count": 370,
   "id": "619efab3",
   "metadata": {},
   "outputs": [
    {
     "data": {
      "text/plain": [
       "0.1581634011767009"
      ]
     },
     "execution_count": 370,
     "metadata": {},
     "output_type": "execute_result"
    }
   ],
   "source": [
    "np.mean([tsfeat_rmse[k]/tsfeatforec_actual_means[k] for k in tsfeat_rmse.keys()])"
   ]
  },
  {
   "cell_type": "code",
   "execution_count": 371,
   "id": "165e9f5e",
   "metadata": {},
   "outputs": [
    {
     "data": {
      "text/plain": [
       "0.10943409379408638"
      ]
     },
     "execution_count": 371,
     "metadata": {},
     "output_type": "execute_result"
    }
   ],
   "source": [
    "np.mean([tsfeat_mae[k]/tsfeatforec_actual_means[k] for k in tsfeat_mae.keys()])"
   ]
  },
  {
   "cell_type": "code",
   "execution_count": 372,
   "id": "7ecd7a70",
   "metadata": {},
   "outputs": [
    {
     "data": {
      "text/plain": [
       "76.16986844125293"
      ]
     },
     "execution_count": 372,
     "metadata": {},
     "output_type": "execute_result"
    }
   ],
   "source": [
    "np.mean(list(tsfeat_int_score_80.values()))"
   ]
  },
  {
   "cell_type": "code",
   "execution_count": 373,
   "id": "0dd60623",
   "metadata": {},
   "outputs": [
    {
     "data": {
      "text/plain": [
       "127.28346461222708"
      ]
     },
     "execution_count": 373,
     "metadata": {},
     "output_type": "execute_result"
    }
   ],
   "source": [
    "np.mean(list(tsfeat_int_score_95.values()))"
   ]
  },
  {
   "cell_type": "code",
   "execution_count": 374,
   "id": "5efee97e",
   "metadata": {},
   "outputs": [
    {
     "data": {
      "text/plain": [
       "0.2510172030112627"
      ]
     },
     "execution_count": 374,
     "metadata": {},
     "output_type": "execute_result"
    }
   ],
   "source": [
    "np.mean([tsfeat_int_score_80[k]/tsfeatforec_actual_means[k] for k in tsfeat_int_score_80.keys()])"
   ]
  },
  {
   "cell_type": "code",
   "execution_count": 375,
   "id": "c72d37dc",
   "metadata": {},
   "outputs": [
    {
     "data": {
      "text/plain": [
       "0.41849294734980785"
      ]
     },
     "execution_count": 375,
     "metadata": {},
     "output_type": "execute_result"
    }
   ],
   "source": [
    "np.mean([tsfeat_int_score_95[k]/tsfeatforec_actual_means[k] for k in tsfeat_int_score_95.keys()])"
   ]
  },
  {
   "cell_type": "code",
   "execution_count": null,
   "id": "20240ce9",
   "metadata": {},
   "outputs": [],
   "source": []
  },
  {
   "cell_type": "markdown",
   "id": "2d2a6448",
   "metadata": {},
   "source": [
    "# Forecast with Models for DTW-Based K-Medoids Clusters"
   ]
  },
  {
   "cell_type": "code",
   "execution_count": 376,
   "id": "1354f2bc",
   "metadata": {},
   "outputs": [
    {
     "data": {
      "text/plain": [
       "0    2\n",
       "1    1\n",
       "2    1\n",
       "3    1\n",
       "Name: dtw, dtype: int64"
      ]
     },
     "execution_count": 376,
     "metadata": {},
     "output_type": "execute_result"
    }
   ],
   "source": [
    "clust_assign.dtw"
   ]
  },
  {
   "cell_type": "code",
   "execution_count": 377,
   "id": "39a1a21b",
   "metadata": {},
   "outputs": [],
   "source": [
    "with open(f'Results/Global/DeepAR/DTW/mod_1', 'rb') as f:\n",
    "    dtw_mod1 = pickle.load(f)\n",
    "    \n",
    "with open(f'Results/Global/DeepAR/DTW/mod_0', 'rb') as f:\n",
    "    dtw_mod1 = pickle.load(f)"
   ]
  },
  {
   "cell_type": "code",
   "execution_count": 378,
   "id": "06652c42",
   "metadata": {},
   "outputs": [],
   "source": [
    "dtw_mod_list = [dtw_mod2, dtw_mod1, dtw_mod1, dtw_mod1]"
   ]
  },
  {
   "cell_type": "code",
   "execution_count": 379,
   "id": "914d485e",
   "metadata": {},
   "outputs": [
    {
     "name": "stderr",
     "output_type": "stream",
     "text": [
      "DTW DeepAR Unseen Preds: 100%|██████████| 4/4 [39:01<00:00, 585.31s/it]   \n"
     ]
    }
   ],
   "source": [
    "with tqdm_joblib(tqdm(desc=\"DTW DeepAR Unseen Preds\", \n",
    "                      total=(len(subset_df_list)))) as progress_bar:\n",
    "    dtw_test_preds = Parallel(n_jobs=4)(delayed(compute_deepar_test_preds_clust)(dtw_mod_list[i],\n",
    "                                                                                 [subset_df_list[i]],\n",
    "                                                                                 [i+1]\n",
    "                                                                                ) for i in range(len(subset_df_list))) \n"
   ]
  },
  {
   "cell_type": "code",
   "execution_count": 380,
   "id": "8b4069da",
   "metadata": {},
   "outputs": [],
   "source": [
    "dtw_forec_means = {**dtw_test_preds[0][0], \n",
    "                       **dtw_test_preds[1][0],\n",
    "                       **dtw_test_preds[2][0], \n",
    "                       **dtw_test_preds[3][0]}\n",
    "\n",
    "dtw_forec_lo_80 = {**dtw_test_preds[0][2], \n",
    "                       **dtw_test_preds[1][2],\n",
    "                       **dtw_test_preds[2][2], \n",
    "                       **dtw_test_preds[3][2]}\n",
    "\n",
    "dtw_forec_hi_80 = {**dtw_test_preds[0][3], \n",
    "                       **dtw_test_preds[1][3],\n",
    "                       **dtw_test_preds[2][3], \n",
    "                       **dtw_test_preds[3][3]}\n",
    "\n",
    "dtw_forec_lo_95 = {**dtw_test_preds[0][4], \n",
    "                       **dtw_test_preds[1][4],\n",
    "                       **dtw_test_preds[2][4], \n",
    "                       **dtw_test_preds[3][4]}\n",
    "\n",
    "dtw_forec_hi_95 = {**dtw_test_preds[0][5], \n",
    "                       **dtw_test_preds[1][5],\n",
    "                       **dtw_test_preds[2][5], \n",
    "                       **dtw_test_preds[3][5]}\n",
    "\n",
    "dtw_forec_actuals = {k: test_df_list[k-1].y.to_list() for k in range(1, (len(test_df_list)+1))}\n",
    "\n",
    "dtwforec_actual_means = {k: np.mean(test_df_list[k-1].y.to_list()) for k in range(1, (len(test_df_list)+1))}"
   ]
  },
  {
   "cell_type": "code",
   "execution_count": 381,
   "id": "7360b79c",
   "metadata": {},
   "outputs": [],
   "source": [
    "dtw_int_score_80 = {k: interval_score(dtw_forec_actuals[k], \n",
    "                                          dtw_forec_lo_80[k],\n",
    "                                          dtw_forec_hi_80[k],\n",
    "                                          0.8) for k in dtw_forec_actuals.keys()\n",
    "                          }\n",
    "\n",
    "dtw_int_score_95 = {k: interval_score(dtw_forec_actuals[k], \n",
    "                                          dtw_forec_lo_95[k],\n",
    "                                          dtw_forec_hi_95[k],\n",
    "                                          0.95) for k in dtw_forec_actuals.keys()\n",
    "                          }\n",
    "\n",
    "dtw_rmse = {k: mean_squared_error(dtw_forec_actuals[k], \n",
    "                                      dtw_forec_means[k], \n",
    "                                      squared=False) for k in dtw_forec_actuals.keys()}\n",
    "\n",
    "dtw_mae = {k: mean_absolute_error(dtw_forec_actuals[k], \n",
    "                                      dtw_forec_means[k]) for k in dtw_forec_actuals.keys()}"
   ]
  },
  {
   "cell_type": "code",
   "execution_count": 382,
   "id": "9786b78f",
   "metadata": {
    "scrolled": true
   },
   "outputs": [
    {
     "data": {
      "text/plain": [
       "57.679165966430624"
      ]
     },
     "execution_count": 382,
     "metadata": {},
     "output_type": "execute_result"
    }
   ],
   "source": [
    "np.mean(list(dtw_rmse.values()))"
   ]
  },
  {
   "cell_type": "code",
   "execution_count": 383,
   "id": "14fd2dc2",
   "metadata": {
    "scrolled": true
   },
   "outputs": [
    {
     "data": {
      "text/plain": [
       "38.8368039149791"
      ]
     },
     "execution_count": 383,
     "metadata": {},
     "output_type": "execute_result"
    }
   ],
   "source": [
    "np.mean(list(dtw_mae.values()))"
   ]
  },
  {
   "cell_type": "code",
   "execution_count": 384,
   "id": "167cde47",
   "metadata": {},
   "outputs": [
    {
     "data": {
      "text/plain": [
       "0.15801515765796714"
      ]
     },
     "execution_count": 384,
     "metadata": {},
     "output_type": "execute_result"
    }
   ],
   "source": [
    "np.mean([dtw_rmse[k]/dtwforec_actual_means[k] for k in dtw_rmse.keys()])"
   ]
  },
  {
   "cell_type": "code",
   "execution_count": 385,
   "id": "cb555bf2",
   "metadata": {},
   "outputs": [
    {
     "data": {
      "text/plain": [
       "0.1091288398614969"
      ]
     },
     "execution_count": 385,
     "metadata": {},
     "output_type": "execute_result"
    }
   ],
   "source": [
    "np.mean([dtw_mae[k]/dtwforec_actual_means[k] for k in dtw_mae.keys()])"
   ]
  },
  {
   "cell_type": "code",
   "execution_count": 386,
   "id": "08ae0202",
   "metadata": {},
   "outputs": [
    {
     "data": {
      "text/plain": [
       "73.41025860568756"
      ]
     },
     "execution_count": 386,
     "metadata": {},
     "output_type": "execute_result"
    }
   ],
   "source": [
    "np.mean(list(dtw_int_score_80.values()))"
   ]
  },
  {
   "cell_type": "code",
   "execution_count": 387,
   "id": "6744696a",
   "metadata": {},
   "outputs": [
    {
     "data": {
      "text/plain": [
       "124.77837883467878"
      ]
     },
     "execution_count": 387,
     "metadata": {},
     "output_type": "execute_result"
    }
   ],
   "source": [
    "np.mean(list(dtw_int_score_95.values()))"
   ]
  },
  {
   "cell_type": "code",
   "execution_count": 388,
   "id": "3116c434",
   "metadata": {},
   "outputs": [
    {
     "data": {
      "text/plain": [
       "0.2358479553162288"
      ]
     },
     "execution_count": 388,
     "metadata": {},
     "output_type": "execute_result"
    }
   ],
   "source": [
    "np.mean([dtw_int_score_80[k]/dtwforec_actual_means[k] for k in dtw_int_score_80.keys()])"
   ]
  },
  {
   "cell_type": "code",
   "execution_count": 389,
   "id": "d5c5deeb",
   "metadata": {},
   "outputs": [
    {
     "data": {
      "text/plain": [
       "0.3999440920276461"
      ]
     },
     "execution_count": 389,
     "metadata": {},
     "output_type": "execute_result"
    },
    {
     "name": "stderr",
     "output_type": "stream",
     "text": [
      "/home/ec2-user/anaconda3/envs/python3/lib/python3.8/site-packages/gluonts/dataset/common.py:324: FutureWarning: The 'freq' argument in Timestamp is deprecated and will be removed in a future version.\n",
      "  timestamp = pd.Timestamp(timestamp_input, freq=freq)\n",
      "/home/ec2-user/anaconda3/envs/python3/lib/python3.8/site-packages/gluonts/dataset/common.py:327: FutureWarning: Timestamp.freq is deprecated and will be removed in a future version\n",
      "  if isinstance(timestamp.freq, Tick):\n",
      "/home/ec2-user/anaconda3/envs/python3/lib/python3.8/site-packages/gluonts/dataset/common.py:329: FutureWarning: Timestamp.freq is deprecated and will be removed in a future version\n",
      "  timestamp.floor(timestamp.freq), timestamp.freq\n",
      "/home/ec2-user/anaconda3/envs/python3/lib/python3.8/site-packages/gluonts/dataset/common.py:328: FutureWarning: The 'freq' argument in Timestamp is deprecated and will be removed in a future version.\n",
      "  return pd.Timestamp(\n",
      "/home/ec2-user/anaconda3/envs/python3/lib/python3.8/site-packages/gluonts/transform/feature.py:340: FutureWarning: Timestamp.freq is deprecated and will be removed in a future version\n",
      "  self._freq_base is None or self._freq_base == start.freq.base\n",
      "/home/ec2-user/anaconda3/envs/python3/lib/python3.8/site-packages/gluonts/transform/split.py:36: FutureWarning: Timestamp.freq is deprecated and will be removed in a future version\n",
      "  return _shift_timestamp_helper(ts, ts.freq, offset)\n",
      "/home/ec2-user/anaconda3/envs/python3/lib/python3.8/site-packages/gluonts/transform/feature.py:384: FutureWarning: Timestamp.freq is deprecated and will be removed in a future version\n",
      "  ..., i0 : i0 + length * start.freq.n : start.freq.n\n",
      "/home/ec2-user/anaconda3/envs/python3/lib/python3.8/site-packages/gluonts/dataset/common.py:324: FutureWarning: The 'freq' argument in Timestamp is deprecated and will be removed in a future version.\n",
      "  timestamp = pd.Timestamp(timestamp_input, freq=freq)\n",
      "/home/ec2-user/anaconda3/envs/python3/lib/python3.8/site-packages/gluonts/dataset/common.py:327: FutureWarning: Timestamp.freq is deprecated and will be removed in a future version\n",
      "  if isinstance(timestamp.freq, Tick):\n",
      "/home/ec2-user/anaconda3/envs/python3/lib/python3.8/site-packages/gluonts/dataset/common.py:329: FutureWarning: Timestamp.freq is deprecated and will be removed in a future version\n",
      "  timestamp.floor(timestamp.freq), timestamp.freq\n",
      "/home/ec2-user/anaconda3/envs/python3/lib/python3.8/site-packages/gluonts/dataset/common.py:328: FutureWarning: The 'freq' argument in Timestamp is deprecated and will be removed in a future version.\n",
      "  return pd.Timestamp(\n",
      "/home/ec2-user/anaconda3/envs/python3/lib/python3.8/site-packages/gluonts/transform/feature.py:340: FutureWarning: Timestamp.freq is deprecated and will be removed in a future version\n",
      "  self._freq_base is None or self._freq_base == start.freq.base\n",
      "/home/ec2-user/anaconda3/envs/python3/lib/python3.8/site-packages/gluonts/transform/split.py:36: FutureWarning: Timestamp.freq is deprecated and will be removed in a future version\n",
      "  return _shift_timestamp_helper(ts, ts.freq, offset)\n",
      "/home/ec2-user/anaconda3/envs/python3/lib/python3.8/site-packages/gluonts/transform/feature.py:384: FutureWarning: Timestamp.freq is deprecated and will be removed in a future version\n",
      "  ..., i0 : i0 + length * start.freq.n : start.freq.n\n",
      "/home/ec2-user/anaconda3/envs/python3/lib/python3.8/site-packages/gluonts/dataset/common.py:324: FutureWarning: The 'freq' argument in Timestamp is deprecated and will be removed in a future version.\n",
      "  timestamp = pd.Timestamp(timestamp_input, freq=freq)\n",
      "/home/ec2-user/anaconda3/envs/python3/lib/python3.8/site-packages/gluonts/dataset/common.py:327: FutureWarning: Timestamp.freq is deprecated and will be removed in a future version\n",
      "  if isinstance(timestamp.freq, Tick):\n",
      "/home/ec2-user/anaconda3/envs/python3/lib/python3.8/site-packages/gluonts/dataset/common.py:329: FutureWarning: Timestamp.freq is deprecated and will be removed in a future version\n",
      "  timestamp.floor(timestamp.freq), timestamp.freq\n",
      "/home/ec2-user/anaconda3/envs/python3/lib/python3.8/site-packages/gluonts/dataset/common.py:328: FutureWarning: The 'freq' argument in Timestamp is deprecated and will be removed in a future version.\n",
      "  return pd.Timestamp(\n",
      "/home/ec2-user/anaconda3/envs/python3/lib/python3.8/site-packages/gluonts/transform/feature.py:340: FutureWarning: Timestamp.freq is deprecated and will be removed in a future version\n",
      "  self._freq_base is None or self._freq_base == start.freq.base\n",
      "/home/ec2-user/anaconda3/envs/python3/lib/python3.8/site-packages/gluonts/transform/split.py:36: FutureWarning: Timestamp.freq is deprecated and will be removed in a future version\n",
      "  return _shift_timestamp_helper(ts, ts.freq, offset)\n",
      "/home/ec2-user/anaconda3/envs/python3/lib/python3.8/site-packages/gluonts/transform/feature.py:384: FutureWarning: Timestamp.freq is deprecated and will be removed in a future version\n",
      "  ..., i0 : i0 + length * start.freq.n : start.freq.n\n",
      "/home/ec2-user/anaconda3/envs/python3/lib/python3.8/site-packages/gluonts/dataset/common.py:324: FutureWarning: The 'freq' argument in Timestamp is deprecated and will be removed in a future version.\n",
      "  timestamp = pd.Timestamp(timestamp_input, freq=freq)\n",
      "/home/ec2-user/anaconda3/envs/python3/lib/python3.8/site-packages/gluonts/dataset/common.py:327: FutureWarning: Timestamp.freq is deprecated and will be removed in a future version\n",
      "  if isinstance(timestamp.freq, Tick):\n",
      "/home/ec2-user/anaconda3/envs/python3/lib/python3.8/site-packages/gluonts/dataset/common.py:329: FutureWarning: Timestamp.freq is deprecated and will be removed in a future version\n",
      "  timestamp.floor(timestamp.freq), timestamp.freq\n",
      "/home/ec2-user/anaconda3/envs/python3/lib/python3.8/site-packages/gluonts/dataset/common.py:328: FutureWarning: The 'freq' argument in Timestamp is deprecated and will be removed in a future version.\n",
      "  return pd.Timestamp(\n",
      "/home/ec2-user/anaconda3/envs/python3/lib/python3.8/site-packages/gluonts/transform/feature.py:340: FutureWarning: Timestamp.freq is deprecated and will be removed in a future version\n",
      "  self._freq_base is None or self._freq_base == start.freq.base\n",
      "/home/ec2-user/anaconda3/envs/python3/lib/python3.8/site-packages/gluonts/transform/split.py:36: FutureWarning: Timestamp.freq is deprecated and will be removed in a future version\n",
      "  return _shift_timestamp_helper(ts, ts.freq, offset)\n",
      "/home/ec2-user/anaconda3/envs/python3/lib/python3.8/site-packages/gluonts/transform/feature.py:384: FutureWarning: Timestamp.freq is deprecated and will be removed in a future version\n",
      "  ..., i0 : i0 + length * start.freq.n : start.freq.n\n"
     ]
    }
   ],
   "source": [
    "np.mean([dtw_int_score_95[k]/dtwforec_actual_means[k] for k in dtw_int_score_95.keys()])"
   ]
  },
  {
   "cell_type": "code",
   "execution_count": null,
   "id": "c71edcfb",
   "metadata": {},
   "outputs": [],
   "source": []
  }
 ],
 "metadata": {
  "kernelspec": {
   "display_name": "conda_python3",
   "language": "python",
   "name": "conda_python3"
  },
  "language_info": {
   "codemirror_mode": {
    "name": "ipython",
    "version": 3
   },
   "file_extension": ".py",
   "mimetype": "text/x-python",
   "name": "python",
   "nbconvert_exporter": "python",
   "pygments_lexer": "ipython3",
   "version": "3.8.12"
  }
 },
 "nbformat": 4,
 "nbformat_minor": 5
}
