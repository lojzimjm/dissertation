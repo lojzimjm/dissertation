{
 "cells": [
  {
   "cell_type": "code",
   "execution_count": 1,
   "id": "15d68399",
   "metadata": {},
   "outputs": [],
   "source": [
    "# Both mxnet and gluonts should be installed, in that order, using pip, not conda. The commandas are\n",
    "# %pip install mxnet\n",
    "# %pip install gluonts\n",
    "\n",
    "# To install specific versions, run \n",
    "# %pip install mxnet==1.9.1\n",
    "# %pip install gluonts==0.9.4\n",
    "\n",
    "# For other libraries, the below can be followed:\n",
    "# If the libraries are not yet installed, they can be installed in this notebook using commands similar to the below\n",
    "# %conda install numpy\n",
    "# %conda install pandas\n",
    "# %conda install matplotlib\n",
    "# %conda install scikit-learn\n",
    "# %conda install joblib\n",
    "# %conda install tdqm\n",
    "\n",
    "# Something like the following may also work if the above does not\n",
    "# import sys\n",
    "# !conda install --yes --prefix {sys.prefix} numpy\n",
    "# !conda install --yes --prefix {sys.prefix} pandas\n",
    "# !conda install --yes --prefix {sys.prefix} scikit-learn\n",
    "# !conda install --yes --prefix {sys.prefix} joblib\n",
    "# !conda install --yes --prefix {sys.prefix} tdqm\n",
    "\n",
    "# To install a specific version, add the version to the install command\n",
    "# E.g., %conda install numpy=1.20.3\n",
    "\n",
    "# If all else fails, use pip or follow additional advice such as found at\n",
    "# https://jakevdp.github.io/blog/2017/12/05/installing-python-packages-from-jupyter/\n",
    "\n",
    "# If your plan to use pip (especially if you are not working within a specified conda environment), \n",
    "# the pip commands might look like:\n",
    "# pip install numpy\n",
    "# pip install pandas\n",
    "# pip install scikit-learn\n",
    "# pip install joblib\n",
    "# pip install tdqm\n",
    "\n",
    "# To install a specific version, add the version to the pip install command\n",
    "# E.g., pip install numpy==1.20.3"
   ]
  },
  {
   "cell_type": "code",
   "execution_count": 2,
   "id": "0c65565e",
   "metadata": {},
   "outputs": [],
   "source": [
    "# Load all necessary libraries \n",
    "import time\n",
    "import numpy as np\n",
    "import pandas as pd\n",
    "import json\n",
    "import matplotlib.pyplot as plt\n",
    "import itertools\n",
    "from sklearn.metrics import mean_squared_error\n",
    "from sklearn.metrics import mean_absolute_error\n",
    "import glob\n",
    "import random"
   ]
  },
  {
   "cell_type": "code",
   "execution_count": 3,
   "id": "42e47afb",
   "metadata": {},
   "outputs": [],
   "source": [
    "import mxnet as mx\n",
    "from gluonts.model import deepar\n",
    "from gluonts.mx.trainer import Trainer\n",
    "from gluonts.dataset.common import ListDataset\n",
    "from gluonts.evaluation import make_evaluation_predictions"
   ]
  },
  {
   "cell_type": "code",
   "execution_count": 4,
   "id": "47fe8b88",
   "metadata": {},
   "outputs": [],
   "source": [
    "from joblib import Parallel, delayed\n",
    "import contextlib\n",
    "import joblib\n",
    "from tqdm import tqdm\n",
    "import pickle\n",
    "import os"
   ]
  },
  {
   "cell_type": "code",
   "execution_count": 5,
   "id": "3bd47447",
   "metadata": {},
   "outputs": [],
   "source": [
    "# Set seeds for reproducibility\n",
    "random.seed(54321)\n",
    "np.random.seed(54321)\n",
    "mx.random.seed(54321)"
   ]
  },
  {
   "cell_type": "markdown",
   "id": "40886140",
   "metadata": {},
   "source": [
    "# Read in Data and Prepare for Modeling"
   ]
  },
  {
   "cell_type": "code",
   "execution_count": 6,
   "id": "5865d3c2",
   "metadata": {},
   "outputs": [
    {
     "name": "stdout",
     "output_type": "stream",
     "text": [
      "Reading Data/Unseen Sensor/Processed/A19-9336-1_Northbound_2019_Processed.csv\n",
      "Reading Data/Unseen Sensor/Processed/A66-9521-1_Westbound_Processed.csv\n",
      "Reading Data/Unseen Sensor/Processed/M40-7048-2_Southbound_Processed.csv\n",
      "Reading Data/Unseen Sensor/Processed/M62-2056A_Eastbound_Processed.csv\n"
     ]
    }
   ],
   "source": [
    "# Read in all csv files for England from the Processed directory and save in a list\n",
    "\n",
    "# Create an empty list\n",
    "total_df_list = list()\n",
    "\n",
    "# Loop through all file names in alphebtical order to match R list.files function, \n",
    "# read into a pandas df, ensure each df is in chronological order, and append to list\n",
    "for fname in sorted(glob.glob(\"Data/Unseen Sensor/Processed/*.csv\")):\n",
    "    print(\"Reading {}\".format(fname))\n",
    "    df = pd.read_csv(fname)\n",
    "    df = df.sort_values(by=\"timestamp\")\n",
    "    total_df_list.append(df)"
   ]
  },
  {
   "cell_type": "code",
   "execution_count": 7,
   "id": "25014e27",
   "metadata": {},
   "outputs": [],
   "source": [
    "# Read in the start and end points csv, and subtract 1 to deal with index differences between R and python\n",
    "start_end = pd.read_csv(\"start_end_points_unseen.csv\")\n",
    "start_end[\"start\"] = start_end[\"start\"] - 1\n",
    "start_end[\"end\"] = start_end[\"end\"]"
   ]
  },
  {
   "cell_type": "code",
   "execution_count": 8,
   "id": "35c99c08",
   "metadata": {},
   "outputs": [],
   "source": [
    "# Initialize an empty list\n",
    "subset_df_list = list()\n",
    "\n",
    "# For each df in the total_df_list\n",
    "for idx, df in enumerate(total_df_list):\n",
    "    \n",
    "    # subset the df using the start and end points\n",
    "    subset_df = df.iloc[start_end.iloc[idx,0]:start_end.iloc[idx,1], ]\\\n",
    "    .reset_index(drop=True).reset_index(drop=False)\\\n",
    "    .rename(columns={\"index\":\"rn\"}) # Create a row_num col based on the index of the data frame\n",
    "    \n",
    "    # Create a train_val_test field to denote which set each observation is a part of\n",
    "    subset_df[\"train_val_test\"] = np.where(subset_df[\"rn\"]<(96*7*8),\n",
    "                                           \"train\",\n",
    "                                           np.where(subset_df[\"rn\"]<(96*7*10),\n",
    "                                                    \"val\",\n",
    "                                                    \"test\"\n",
    "                                                   )\n",
    "                                       )\n",
    "\n",
    "    # Append the subset df to the list\n",
    "    subset_df_list.append(subset_df)"
   ]
  },
  {
   "cell_type": "code",
   "execution_count": 9,
   "id": "b6a768ba",
   "metadata": {},
   "outputs": [],
   "source": [
    "# Create two lists, one for the train_val data and one for the test data\n",
    "train_df_list = list()\n",
    "test_df_list = list()\n",
    "\n",
    "# Loop through the list of subset dfs\n",
    "for df in subset_df_list:\n",
    "    \n",
    "    # Filter to train and val only for the training data\n",
    "    train_df = df.query(\"train_val_test != 'test'\").copy()\n",
    "    train_df = train_df[['timestamp', 'total_volume']]\\\n",
    "    .rename(columns={'timestamp':'ds', 'total_volume':'y'}) # For prophet, we must rename our timestamp column to ds and out target to y\n",
    "    \n",
    "    # Append to list\n",
    "    train_df_list.append(train_df)\n",
    "    \n",
    "    # Same steps for test df list\n",
    "    test_df = df.query(\"train_val_test == 'test'\").copy()\n",
    "    test_df = test_df[['timestamp', 'total_volume']]\\\n",
    "    .rename(columns={'timestamp':'ds', 'total_volume':'y'})\n",
    "    test_df_list.append(test_df)"
   ]
  },
  {
   "cell_type": "code",
   "execution_count": 10,
   "id": "83f45e69",
   "metadata": {},
   "outputs": [],
   "source": [
    "prediction_length = 1\n",
    "context_length = 672"
   ]
  },
  {
   "cell_type": "code",
   "execution_count": 11,
   "id": "da0f9aaf",
   "metadata": {},
   "outputs": [],
   "source": [
    "clust_assign = pd.read_csv(\"Results/Unseen Sensor/clust_assign.csv\")"
   ]
  },
  {
   "cell_type": "markdown",
   "id": "017c2661",
   "metadata": {},
   "source": [
    "# Define Functions for Making Forecasts"
   ]
  },
  {
   "cell_type": "code",
   "execution_count": 12,
   "id": "37ec5ccb",
   "metadata": {},
   "outputs": [],
   "source": [
    "# Code for progress bar:\n",
    "# https://stackoverflow.com/questions/24983493/tracking-progress-of-joblib-parallel-execution\n",
    "# This allows us to print a progress bar while running parallel loops using joblib \n",
    "\n",
    "@contextlib.contextmanager\n",
    "def tqdm_joblib(tqdm_object):\n",
    "    \"\"\"Context manager to patch joblib to report into tqdm progress bar given as argument\"\"\"\n",
    "    class TqdmBatchCompletionCallback(joblib.parallel.BatchCompletionCallBack):\n",
    "        def __call__(self, *args, **kwargs):\n",
    "            tqdm_object.update(n=self.batch_size)\n",
    "            return super().__call__(*args, **kwargs)\n",
    "\n",
    "    old_batch_callback = joblib.parallel.BatchCompletionCallBack\n",
    "    joblib.parallel.BatchCompletionCallBack = TqdmBatchCompletionCallback\n",
    "    try:\n",
    "        yield tqdm_object\n",
    "    finally:\n",
    "        joblib.parallel.BatchCompletionCallBack = old_batch_callback\n",
    "        tqdm_object.close()"
   ]
  },
  {
   "cell_type": "code",
   "execution_count": 13,
   "id": "0965c14e",
   "metadata": {},
   "outputs": [],
   "source": [
    "# Function to compute clustered test preds\n",
    "def compute_deepar_test_preds_clust(model, test_df_ls, ts_idx_ls):\n",
    "    \"\"\"Function which takes inputs: a trained model, and a list of data frames which contain train+test data, \n",
    "    and which returns a df of model predictions on the test data\"\"\"\n",
    "        \n",
    "    forecast_means = dict()\n",
    "    forecast_medians = dict()\n",
    "    forecast_q10s = dict()\n",
    "    forecast_q90s = dict()\n",
    "    forecast_q025s = dict()\n",
    "    forecast_q975s = dict()\n",
    "\n",
    "    mod = model\n",
    "    \n",
    "    for idx in ts_idx_ls:\n",
    "        forecast_means[idx] = list()\n",
    "        forecast_medians[idx] = list()\n",
    "        forecast_q10s[idx] = list()\n",
    "        forecast_q90s[idx] = list()\n",
    "        forecast_q025s[idx] = list()\n",
    "        forecast_q975s[idx] = list()\n",
    "\n",
    "    for n in range(1344):\n",
    "        # print(n)\n",
    "        eval_dict_ls = [{\"start\": df.iloc[0,5],\n",
    "                         \"target\": df.iloc[:,[5,8]].iloc[0:(96*10*7+n),:].total_volume.values\n",
    "                        } for df in test_df_ls]\n",
    "        eval_data = ListDataset(eval_dict_ls, freq=\"15min\")\n",
    "        \n",
    "        np.random.seed(n)\n",
    "        mx.random.seed(n)\n",
    "        forecast_it, ts_it = make_evaluation_predictions(dataset=eval_data,  # test dataset\n",
    "                                                         predictor=mod,  # predictor\n",
    "                                                         num_samples=100,  # number of sample paths we want for evaluation\n",
    "                                                        )\n",
    "\n",
    "        forecasts = list(forecast_it)\n",
    "\n",
    "        for i in range(len(forecasts)):\n",
    "            forecast_mean = forecasts[i].samples.mean()\n",
    "            forecast_means[ts_idx_ls[i]].append(forecast_mean)\n",
    "\n",
    "            forecast_percentiles = np.percentile(forecasts[i].samples, [2.5, 10, 50, 90, 97.5])\n",
    "            forecast_medians[ts_idx_ls[i]].append(forecast_percentiles[2])\n",
    "\n",
    "            forecast_q10s[ts_idx_ls[i]].append(forecast_percentiles[1])\n",
    "            forecast_q90s[ts_idx_ls[i]].append(forecast_percentiles[3])\n",
    "            forecast_q025s[ts_idx_ls[i]].append(forecast_percentiles[0])\n",
    "            forecast_q975s[ts_idx_ls[i]].append(forecast_percentiles[4])       \n",
    "           \n",
    "    return (forecast_means, forecast_medians, forecast_q10s, forecast_q90s, forecast_q025s, forecast_q975s)"
   ]
  },
  {
   "cell_type": "code",
   "execution_count": 14,
   "id": "5cac90dc",
   "metadata": {},
   "outputs": [],
   "source": [
    "# Create a function to compute the interval score\n",
    "def interval_score(true_values, lower, upper, interval_range):\n",
    "    \"\"\" Function which takes in the true values, the upper and lower bounds of PIs, and the PI level (e.g., 90%)\n",
    "        and from these inputs, computes the interval score for each prediction\n",
    "    \"\"\"\n",
    "    \n",
    "    # Compute alpha from the interval range\n",
    "    alpha = 100*(1-interval_range)\n",
    "    \n",
    "    # Save the upper, lower, and true_values as numpy arrays for computation purposes\n",
    "    upper = np.array(upper)\n",
    "    lower = np.array(lower)\n",
    "    true_values = np.array(true_values)\n",
    "    \n",
    "    # Compute the lower component of the interval score - just a boolean for true below interval\n",
    "    def lower_ind(true,low):\n",
    "        if true<low:\n",
    "            return 1\n",
    "        else:\n",
    "            return 0\n",
    "        \n",
    "    # Computer the upper component of the interval score - similar boolean for true above interval\n",
    "    def upper_ind(true,up):\n",
    "        if true>up:\n",
    "            return 1\n",
    "        else:\n",
    "            return 0\n",
    "        \n",
    "    # Computer the actual score for each obsveration - formula here: https://epiforecasts.io/scoringutils/reference/interval_score.html\n",
    "    scores = (upper-lower) + (2/alpha)*(lower-true_values)*(lower > true_values) + (2/alpha)*(true_values-upper)*(true_values > upper)\n",
    "    \n",
    "    # Return the scores array\n",
    "    return scores"
   ]
  },
  {
   "cell_type": "markdown",
   "id": "8e38c081",
   "metadata": {},
   "source": [
    "# Forecast with Global Model for All Data"
   ]
  },
  {
   "cell_type": "code",
   "execution_count": 15,
   "id": "3a633cfb",
   "metadata": {},
   "outputs": [],
   "source": [
    "with open('Results/Global/DeepAR/Full/mod', 'rb') as mod_file:\n",
    "    mod = pickle.load(mod_file)"
   ]
  },
  {
   "cell_type": "code",
   "execution_count": 16,
   "id": "e9ce6c44",
   "metadata": {},
   "outputs": [
    {
     "name": "stderr",
     "output_type": "stream",
     "text": [
      "Full Model DeepAR Unseen Preds: 100%|████████████| 4/4 [46:34<00:00, 698.68s/it]\n"
     ]
    }
   ],
   "source": [
    "with tqdm_joblib(tqdm(desc=\"Full Model DeepAR Unseen Preds\", \n",
    "                      total=(len(subset_df_list)))) as progress_bar:\n",
    "    full_mod_preds = Parallel(n_jobs=4)(delayed(compute_deepar_test_preds_clust)(mod,\n",
    "                                                                                 [subset_df_list[i]],\n",
    "                                                                                 [i+1]\n",
    "                                                                                ) for i in range(len(subset_df_list)))"
   ]
  },
  {
   "cell_type": "code",
   "execution_count": 17,
   "id": "fca49816",
   "metadata": {},
   "outputs": [],
   "source": [
    "forec_means = {**full_mod_preds[0][0], \n",
    "               **full_mod_preds[1][0],\n",
    "               **full_mod_preds[2][0], \n",
    "               **full_mod_preds[3][0]}\n",
    "\n",
    "forec_lo_80 = {**full_mod_preds[0][2], \n",
    "               **full_mod_preds[1][2],\n",
    "               **full_mod_preds[2][2], \n",
    "               **full_mod_preds[3][2]}\n",
    "\n",
    "forec_hi_80 = {**full_mod_preds[0][3], \n",
    "               **full_mod_preds[1][3],\n",
    "               **full_mod_preds[2][3], \n",
    "               **full_mod_preds[3][3]}\n",
    "\n",
    "forec_lo_95 = {**full_mod_preds[0][4], \n",
    "               **full_mod_preds[1][4],\n",
    "               **full_mod_preds[2][4], \n",
    "               **full_mod_preds[3][4]}\n",
    "\n",
    "forec_hi_95 = {**full_mod_preds[0][5], \n",
    "               **full_mod_preds[1][5],\n",
    "               **full_mod_preds[2][5], \n",
    "               **full_mod_preds[3][5]}\n"
   ]
  },
  {
   "cell_type": "code",
   "execution_count": 18,
   "id": "7e4d8fee",
   "metadata": {},
   "outputs": [],
   "source": [
    "forec_actuals = {k: test_df_list[k-1].y.to_list() for k in range(1, (len(test_df_list)+1))}\n",
    "\n",
    "forec_actual_means = {k: np.mean(test_df_list[k-1].y.to_list()) for k in range(1, (len(test_df_list)+1))}"
   ]
  },
  {
   "cell_type": "code",
   "execution_count": 19,
   "id": "db68767a",
   "metadata": {},
   "outputs": [],
   "source": [
    "full_int_score_80 = {k: interval_score(forec_actuals[k], \n",
    "                                       forec_lo_80[k],\n",
    "                                       forec_hi_80[k],\n",
    "                                       0.8) for k in forec_actuals.keys()\n",
    "                    }\n",
    "\n",
    "full_int_score_95 = {k: interval_score(forec_actuals[k], \n",
    "                                       forec_lo_95[k],\n",
    "                                       forec_hi_95[k],\n",
    "                                       0.95) for k in forec_actuals.keys()\n",
    "                    }\n",
    "\n",
    "full_rmse = {k: mean_squared_error(forec_actuals[k], \n",
    "                                   forec_means[k], \n",
    "                                   squared=False) for k in forec_actuals.keys()}\n",
    "\n",
    "full_mae = {k: mean_absolute_error(forec_actuals[k], \n",
    "                                   forec_means[k]) for k in forec_actuals.keys()}"
   ]
  },
  {
   "cell_type": "code",
   "execution_count": 20,
   "id": "ef4ce489",
   "metadata": {},
   "outputs": [
    {
     "data": {
      "text/plain": [
       "52.747639456350946"
      ]
     },
     "execution_count": 20,
     "metadata": {},
     "output_type": "execute_result"
    }
   ],
   "source": [
    "np.mean(list(full_rmse.values()))"
   ]
  },
  {
   "cell_type": "code",
   "execution_count": 21,
   "id": "07f59b75",
   "metadata": {},
   "outputs": [
    {
     "data": {
      "text/plain": [
       "35.554543193385356"
      ]
     },
     "execution_count": 21,
     "metadata": {},
     "output_type": "execute_result"
    }
   ],
   "source": [
    "np.mean(list(full_mae.values()))"
   ]
  },
  {
   "cell_type": "code",
   "execution_count": 22,
   "id": "b6583416",
   "metadata": {},
   "outputs": [
    {
     "data": {
      "text/plain": [
       "0.15700725671276977"
      ]
     },
     "execution_count": 22,
     "metadata": {},
     "output_type": "execute_result"
    }
   ],
   "source": [
    "np.mean([full_rmse[k]/forec_actual_means[k] for k in full_rmse.keys()])"
   ]
  },
  {
   "cell_type": "code",
   "execution_count": 23,
   "id": "cb2d055b",
   "metadata": {},
   "outputs": [
    {
     "data": {
      "text/plain": [
       "0.105892005852913"
      ]
     },
     "execution_count": 23,
     "metadata": {},
     "output_type": "execute_result"
    }
   ],
   "source": [
    "np.mean([full_mae[k]/forec_actual_means[k] for k in full_mae.keys()])"
   ]
  },
  {
   "cell_type": "code",
   "execution_count": 24,
   "id": "94b8ae1d",
   "metadata": {},
   "outputs": [
    {
     "data": {
      "text/plain": [
       "72.90293673239505"
      ]
     },
     "execution_count": 24,
     "metadata": {},
     "output_type": "execute_result"
    }
   ],
   "source": [
    "np.mean(list(full_int_score_80.values()))"
   ]
  },
  {
   "cell_type": "code",
   "execution_count": 25,
   "id": "3b5b3fcf",
   "metadata": {},
   "outputs": [
    {
     "data": {
      "text/plain": [
       "121.72332489860955"
      ]
     },
     "execution_count": 25,
     "metadata": {},
     "output_type": "execute_result"
    }
   ],
   "source": [
    "np.mean(list(full_int_score_95.values()))"
   ]
  },
  {
   "cell_type": "code",
   "execution_count": 26,
   "id": "fdde640b",
   "metadata": {},
   "outputs": [
    {
     "data": {
      "text/plain": [
       "0.2363852487614891"
      ]
     },
     "execution_count": 26,
     "metadata": {},
     "output_type": "execute_result"
    }
   ],
   "source": [
    "np.mean([full_int_score_80[k]/forec_actual_means[k] for k in full_int_score_80.keys()])"
   ]
  },
  {
   "cell_type": "code",
   "execution_count": 27,
   "id": "da785dae",
   "metadata": {},
   "outputs": [
    {
     "data": {
      "text/plain": [
       "0.3943510888910377"
      ]
     },
     "execution_count": 27,
     "metadata": {},
     "output_type": "execute_result"
    }
   ],
   "source": [
    "np.mean([full_int_score_95[k]/forec_actual_means[k] for k in full_int_score_95.keys()])"
   ]
  },
  {
   "cell_type": "code",
   "execution_count": null,
   "id": "69d6fcab",
   "metadata": {},
   "outputs": [],
   "source": []
  },
  {
   "cell_type": "markdown",
   "id": "9926650a",
   "metadata": {},
   "source": [
    "# Forecast with Models for Random Clusters"
   ]
  },
  {
   "cell_type": "code",
   "execution_count": 17,
   "id": "584bab25",
   "metadata": {},
   "outputs": [
    {
     "data": {
      "text/plain": [
       "0    3\n",
       "1    2\n",
       "2    1\n",
       "3    4\n",
       "Name: rand, dtype: int64"
      ]
     },
     "execution_count": 17,
     "metadata": {},
     "output_type": "execute_result"
    }
   ],
   "source": [
    "clust_assign.rand"
   ]
  },
  {
   "cell_type": "code",
   "execution_count": 18,
   "id": "94e67cd6",
   "metadata": {},
   "outputs": [],
   "source": [
    "with open(f'Results/Global/DeepAR/Random Cluster/mod_2', 'rb') as f:\n",
    "    rand_clust_deep_ar_mod3 = pickle.load(f)\n",
    "    \n",
    "with open(f'Results/Global/DeepAR/Random Cluster/mod_1', 'rb') as f:\n",
    "    rand_clust_deep_ar_mod2 = pickle.load(f)\n",
    "    \n",
    "with open(f'Results/Global/DeepAR/Random Cluster/mod_0', 'rb') as f:\n",
    "    rand_clust_deep_ar_mod1 = pickle.load(f)\n",
    "    \n",
    "with open(f'Results/Global/DeepAR/Random Cluster/mod_3', 'rb') as f:\n",
    "    rand_clust_deep_ar_mod4 = pickle.load(f)"
   ]
  },
  {
   "cell_type": "code",
   "execution_count": 19,
   "id": "e252e4fe",
   "metadata": {},
   "outputs": [],
   "source": [
    "rand_clust_deep_ar_mod_ls = [rand_clust_deep_ar_mod3, rand_clust_deep_ar_mod2, \n",
    "                             rand_clust_deep_ar_mod1, rand_clust_deep_ar_mod4]"
   ]
  },
  {
   "cell_type": "code",
   "execution_count": 20,
   "id": "cda7b143",
   "metadata": {},
   "outputs": [
    {
     "name": "stderr",
     "output_type": "stream",
     "text": [
      "Random Cluster DeepAR Unseen Preds: 100%|████████| 4/4 [47:17<00:00, 709.27s/it]\n"
     ]
    }
   ],
   "source": [
    "with tqdm_joblib(tqdm(desc=\"Random Cluster DeepAR Unseen Preds\", \n",
    "                      total=(len(subset_df_list)))) as progress_bar:\n",
    "    rand_clust_test_preds = Parallel(n_jobs=4)(delayed(compute_deepar_test_preds_clust)(rand_clust_deep_ar_mod_ls[i],\n",
    "                                                                                        [subset_df_list[i]],\n",
    "                                                                                        [i+1]\n",
    "                                                                                       ) for i in range(len(subset_df_list)))"
   ]
  },
  {
   "cell_type": "code",
   "execution_count": 21,
   "id": "8cca6877",
   "metadata": {},
   "outputs": [],
   "source": [
    "rand_clust_forec_means = {**rand_clust_test_preds[0][0], \n",
    "                          **rand_clust_test_preds[1][0],\n",
    "                          **rand_clust_test_preds[2][0], \n",
    "                          **rand_clust_test_preds[3][0]}\n",
    "\n",
    "rand_clust_forec_lo_80 = {**rand_clust_test_preds[0][2], \n",
    "                          **rand_clust_test_preds[1][2],\n",
    "                          **rand_clust_test_preds[2][2], \n",
    "                          **rand_clust_test_preds[3][2]}\n",
    "\n",
    "rand_clust_forec_hi_80 = {**rand_clust_test_preds[0][3], \n",
    "                          **rand_clust_test_preds[1][3],\n",
    "                          **rand_clust_test_preds[2][3], \n",
    "                          **rand_clust_test_preds[3][3]}\n",
    "\n",
    "rand_clust_forec_lo_95 = {**rand_clust_test_preds[0][4], \n",
    "                          **rand_clust_test_preds[1][4],\n",
    "                          **rand_clust_test_preds[2][4], \n",
    "                          **rand_clust_test_preds[3][4]}\n",
    "\n",
    "rand_clust_forec_hi_95 = {**rand_clust_test_preds[0][5], \n",
    "                          **rand_clust_test_preds[1][5],\n",
    "                          **rand_clust_test_preds[2][5], \n",
    "                          **rand_clust_test_preds[3][5]}\n",
    "\n",
    "rand_clust_forec_actuals = {k: test_df_list[k-1].y.to_list() for k in range(1, (len(test_df_list)+1))}\n",
    "\n",
    "rand_clust_forec_actual_means = {k: np.mean(test_df_list[k-1].y.to_list()) for k in range(1, (len(test_df_list)+1))}"
   ]
  },
  {
   "cell_type": "code",
   "execution_count": 22,
   "id": "969a4cf0",
   "metadata": {},
   "outputs": [],
   "source": [
    "rand_clust_int_score_80 = {k: interval_score(rand_clust_forec_actuals[k], \n",
    "                                             rand_clust_forec_lo_80[k],\n",
    "                                             rand_clust_forec_hi_80[k],\n",
    "                                             0.8) for k in rand_clust_forec_actuals.keys()\n",
    "                          }\n",
    "\n",
    "rand_clust_int_score_95 = {k: interval_score(rand_clust_forec_actuals[k], \n",
    "                                             rand_clust_forec_lo_95[k],\n",
    "                                             rand_clust_forec_hi_95[k],\n",
    "                                             0.95) for k in rand_clust_forec_actuals.keys()\n",
    "                          }\n",
    "\n",
    "rand_clust_rmse = {k: mean_squared_error(rand_clust_forec_actuals[k], \n",
    "                                      rand_clust_forec_means[k], \n",
    "                                      squared=False) for k in rand_clust_forec_actuals.keys()}\n",
    "\n",
    "rand_clust_mae = {k: mean_absolute_error(rand_clust_forec_actuals[k], \n",
    "                                      rand_clust_forec_means[k]) for k in rand_clust_forec_actuals.keys()}"
   ]
  },
  {
   "cell_type": "code",
   "execution_count": 23,
   "id": "4cfd11dc",
   "metadata": {},
   "outputs": [
    {
     "data": {
      "text/plain": [
       "52.94636394325783"
      ]
     },
     "execution_count": 23,
     "metadata": {},
     "output_type": "execute_result"
    }
   ],
   "source": [
    "np.mean(list(rand_clust_rmse.values()))"
   ]
  },
  {
   "cell_type": "code",
   "execution_count": 24,
   "id": "5790001d",
   "metadata": {},
   "outputs": [
    {
     "data": {
      "text/plain": [
       "35.76771685720554"
      ]
     },
     "execution_count": 24,
     "metadata": {},
     "output_type": "execute_result"
    }
   ],
   "source": [
    "np.mean(list(rand_clust_mae.values()))"
   ]
  },
  {
   "cell_type": "code",
   "execution_count": 25,
   "id": "00947fff",
   "metadata": {},
   "outputs": [
    {
     "data": {
      "text/plain": [
       "0.15818397324783962"
      ]
     },
     "execution_count": 25,
     "metadata": {},
     "output_type": "execute_result"
    }
   ],
   "source": [
    "np.mean([rand_clust_rmse[k]/rand_clust_forec_actual_means[k] for k in rand_clust_rmse.keys()])"
   ]
  },
  {
   "cell_type": "code",
   "execution_count": 26,
   "id": "2827d634",
   "metadata": {},
   "outputs": [
    {
     "data": {
      "text/plain": [
       "0.10713620987049138"
      ]
     },
     "execution_count": 26,
     "metadata": {},
     "output_type": "execute_result"
    }
   ],
   "source": [
    "np.mean([rand_clust_mae[k]/rand_clust_forec_actual_means[k] for k in rand_clust_mae.keys()])"
   ]
  },
  {
   "cell_type": "code",
   "execution_count": 27,
   "id": "68c02144",
   "metadata": {},
   "outputs": [
    {
     "data": {
      "text/plain": [
       "75.60848587923452"
      ]
     },
     "execution_count": 27,
     "metadata": {},
     "output_type": "execute_result"
    }
   ],
   "source": [
    "np.mean(list(rand_clust_int_score_80.values()))"
   ]
  },
  {
   "cell_type": "code",
   "execution_count": 28,
   "id": "7b1327c9",
   "metadata": {},
   "outputs": [
    {
     "data": {
      "text/plain": [
       "126.38438911209144"
      ]
     },
     "execution_count": 28,
     "metadata": {},
     "output_type": "execute_result"
    }
   ],
   "source": [
    "np.mean(list(rand_clust_int_score_95.values()))"
   ]
  },
  {
   "cell_type": "code",
   "execution_count": 29,
   "id": "e92fa2e7",
   "metadata": {},
   "outputs": [
    {
     "data": {
      "text/plain": [
       "0.2461793945055398"
      ]
     },
     "execution_count": 29,
     "metadata": {},
     "output_type": "execute_result"
    }
   ],
   "source": [
    "np.mean([rand_clust_int_score_80[k]/rand_clust_forec_actual_means[k] for k in rand_clust_int_score_80.keys()])"
   ]
  },
  {
   "cell_type": "code",
   "execution_count": 30,
   "id": "4bbf2883",
   "metadata": {},
   "outputs": [
    {
     "data": {
      "text/plain": [
       "0.4080243566297937"
      ]
     },
     "execution_count": 30,
     "metadata": {},
     "output_type": "execute_result"
    }
   ],
   "source": [
    "np.mean([rand_clust_int_score_95[k]/rand_clust_forec_actual_means[k] for k in rand_clust_int_score_95.keys()])"
   ]
  },
  {
   "cell_type": "code",
   "execution_count": null,
   "id": "48b801aa",
   "metadata": {},
   "outputs": [],
   "source": []
  },
  {
   "cell_type": "markdown",
   "id": "4ce54733",
   "metadata": {},
   "source": [
    "# Forecast with Highway System Model"
   ]
  },
  {
   "cell_type": "code",
   "execution_count": 31,
   "id": "735d596d",
   "metadata": {},
   "outputs": [],
   "source": [
    "with open(f'Results/Global/DeepAR/Highway System/mod_0', 'rb') as f:\n",
    "    eng_mod = pickle.load(f)"
   ]
  },
  {
   "cell_type": "code",
   "execution_count": 32,
   "id": "697e6728",
   "metadata": {},
   "outputs": [
    {
     "name": "stderr",
     "output_type": "stream",
     "text": [
      "England Model DeepAR Unseen Preds: 100%|█████████| 4/4 [47:19<00:00, 709.97s/it]\n"
     ]
    }
   ],
   "source": [
    "with tqdm_joblib(tqdm(desc=\"England Model DeepAR Unseen Preds\", \n",
    "                      total=(len(subset_df_list)))) as progress_bar:\n",
    "    eng_test_preds_total_ls = Parallel(n_jobs=4)(delayed(compute_deepar_test_preds_clust)(eng_mod,\n",
    "                                                                                    [subset_df_list[i]],\n",
    "                                                                                    [i+1]\n",
    "                                                                                   ) for i in range(len(subset_df_list))) \n"
   ]
  },
  {
   "cell_type": "code",
   "execution_count": 33,
   "id": "5597471b",
   "metadata": {},
   "outputs": [],
   "source": [
    "eng_forec_means = {**eng_test_preds_total_ls[0][0], \n",
    "                   **eng_test_preds_total_ls[1][0],\n",
    "                   **eng_test_preds_total_ls[2][0], \n",
    "                   **eng_test_preds_total_ls[3][0]}\n",
    "\n",
    "eng_forec_lo_80 = {**eng_test_preds_total_ls[0][2], \n",
    "                   **eng_test_preds_total_ls[1][2],\n",
    "                   **eng_test_preds_total_ls[2][2], \n",
    "                   **eng_test_preds_total_ls[3][2]}\n",
    "\n",
    "eng_forec_hi_80 = {**eng_test_preds_total_ls[0][3], \n",
    "                   **eng_test_preds_total_ls[1][3],\n",
    "                   **eng_test_preds_total_ls[2][3], \n",
    "                   **eng_test_preds_total_ls[3][3]}\n",
    "\n",
    "eng_forec_lo_95 = {**eng_test_preds_total_ls[0][4], \n",
    "                   **eng_test_preds_total_ls[1][4],\n",
    "                   **eng_test_preds_total_ls[2][4], \n",
    "                   **eng_test_preds_total_ls[3][4]}\n",
    "\n",
    "eng_forec_hi_95 = {**eng_test_preds_total_ls[0][5], \n",
    "                   **eng_test_preds_total_ls[1][5],\n",
    "                   **eng_test_preds_total_ls[2][5], \n",
    "                   **eng_test_preds_total_ls[3][5]}\n",
    "\n",
    "eng_forec_actuals = {k: test_df_list[k-1].y.to_list() for k in range(1, (len(test_df_list)+1))}\n",
    "\n",
    "eng_forec_actual_means = {k: np.mean(test_df_list[k-1].y.to_list()) for k in range(1, (len(test_df_list)+1))}"
   ]
  },
  {
   "cell_type": "code",
   "execution_count": 34,
   "id": "6face2c4",
   "metadata": {},
   "outputs": [],
   "source": [
    "eng_int_score_80 = {k: interval_score(eng_forec_actuals[k], \n",
    "                                             eng_forec_lo_80[k],\n",
    "                                             eng_forec_hi_80[k],\n",
    "                                             0.8) for k in eng_forec_actuals.keys()\n",
    "                          }\n",
    "\n",
    "eng_int_score_95 = {k: interval_score(eng_forec_actuals[k], \n",
    "                                             eng_forec_lo_95[k],\n",
    "                                             eng_forec_hi_95[k],\n",
    "                                             0.95) for k in eng_forec_actuals.keys()\n",
    "                          }\n",
    "\n",
    "eng_rmse = {k: mean_squared_error(eng_forec_actuals[k], \n",
    "                                      eng_forec_means[k], \n",
    "                                      squared=False) for k in eng_forec_actuals.keys()}\n",
    "\n",
    "eng_mae = {k: mean_absolute_error(eng_forec_actuals[k], \n",
    "                                      eng_forec_means[k]) for k in eng_forec_actuals.keys()}"
   ]
  },
  {
   "cell_type": "code",
   "execution_count": 35,
   "id": "8675b062",
   "metadata": {},
   "outputs": [
    {
     "data": {
      "text/plain": [
       "52.50734572353723"
      ]
     },
     "execution_count": 35,
     "metadata": {},
     "output_type": "execute_result"
    }
   ],
   "source": [
    "np.mean(list(eng_rmse.values()))"
   ]
  },
  {
   "cell_type": "code",
   "execution_count": 36,
   "id": "887dc802",
   "metadata": {},
   "outputs": [
    {
     "data": {
      "text/plain": [
       "35.39338257327853"
      ]
     },
     "execution_count": 36,
     "metadata": {},
     "output_type": "execute_result"
    }
   ],
   "source": [
    "np.mean(list(eng_mae.values()))"
   ]
  },
  {
   "cell_type": "code",
   "execution_count": 37,
   "id": "cd6495b5",
   "metadata": {},
   "outputs": [
    {
     "data": {
      "text/plain": [
       "0.15646355261428413"
      ]
     },
     "execution_count": 37,
     "metadata": {},
     "output_type": "execute_result"
    }
   ],
   "source": [
    "np.mean([eng_rmse[k]/eng_forec_actual_means[k] for k in eng_rmse.keys()])"
   ]
  },
  {
   "cell_type": "code",
   "execution_count": 38,
   "id": "31b49f22",
   "metadata": {},
   "outputs": [
    {
     "data": {
      "text/plain": [
       "0.10548757261651964"
      ]
     },
     "execution_count": 38,
     "metadata": {},
     "output_type": "execute_result"
    }
   ],
   "source": [
    "np.mean([eng_mae[k]/eng_forec_actual_means[k] for k in eng_mae.keys()])"
   ]
  },
  {
   "cell_type": "code",
   "execution_count": 39,
   "id": "2825706d",
   "metadata": {},
   "outputs": [
    {
     "data": {
      "text/plain": [
       "75.54263880673753"
      ]
     },
     "execution_count": 39,
     "metadata": {},
     "output_type": "execute_result"
    }
   ],
   "source": [
    "np.mean(list(eng_int_score_80.values()))"
   ]
  },
  {
   "cell_type": "code",
   "execution_count": 40,
   "id": "7b5af37f",
   "metadata": {},
   "outputs": [
    {
     "data": {
      "text/plain": [
       "127.41683759191739"
      ]
     },
     "execution_count": 40,
     "metadata": {},
     "output_type": "execute_result"
    }
   ],
   "source": [
    "np.mean(list(eng_int_score_95.values()))"
   ]
  },
  {
   "cell_type": "code",
   "execution_count": 41,
   "id": "a3bb6980",
   "metadata": {},
   "outputs": [
    {
     "data": {
      "text/plain": [
       "0.23544208962480118"
      ]
     },
     "execution_count": 41,
     "metadata": {},
     "output_type": "execute_result"
    }
   ],
   "source": [
    "np.mean([eng_int_score_80[k]/eng_forec_actual_means[k] for k in eng_int_score_80.keys()])"
   ]
  },
  {
   "cell_type": "code",
   "execution_count": 42,
   "id": "e8fd6209",
   "metadata": {},
   "outputs": [
    {
     "data": {
      "text/plain": [
       "0.39685693217588397"
      ]
     },
     "execution_count": 42,
     "metadata": {},
     "output_type": "execute_result"
    }
   ],
   "source": [
    "np.mean([eng_int_score_95[k]/eng_forec_actual_means[k] for k in eng_int_score_95.keys()])"
   ]
  },
  {
   "cell_type": "code",
   "execution_count": null,
   "id": "b3c73e16",
   "metadata": {},
   "outputs": [],
   "source": []
  },
  {
   "cell_type": "markdown",
   "id": "c3659ccf",
   "metadata": {},
   "source": [
    "# Forecast with Models for Catch22-Based KMeans Clusters"
   ]
  },
  {
   "cell_type": "code",
   "execution_count": 43,
   "id": "fb4a0589",
   "metadata": {},
   "outputs": [
    {
     "data": {
      "text/plain": [
       "0    1\n",
       "1    1\n",
       "2    4\n",
       "3    4\n",
       "Name: catch22, dtype: int64"
      ]
     },
     "execution_count": 43,
     "metadata": {},
     "output_type": "execute_result"
    }
   ],
   "source": [
    "clust_assign.catch22"
   ]
  },
  {
   "cell_type": "code",
   "execution_count": 45,
   "id": "9bec31b4",
   "metadata": {},
   "outputs": [],
   "source": [
    "with open(f'Results/Global/DeepAR/Catch22 KMeans/mod_0', 'rb') as f:\n",
    "    catch22_mod1 = pickle.load(f)\n",
    "    \n",
    "with open(f'Results/Global/DeepAR/Catch22 KMeans/mod_3', 'rb') as f:\n",
    "    catch22_mod4 = pickle.load(f)"
   ]
  },
  {
   "cell_type": "code",
   "execution_count": 46,
   "id": "5598e07d",
   "metadata": {},
   "outputs": [],
   "source": [
    "catch22_deepar_mod_ls = [catch22_mod1, catch22_mod1,\n",
    "                         catch22_mod4, catch22_mod4] "
   ]
  },
  {
   "cell_type": "code",
   "execution_count": 47,
   "id": "bd781061",
   "metadata": {},
   "outputs": [
    {
     "name": "stderr",
     "output_type": "stream",
     "text": [
      "Catch22 DeepAR Unseen Preds: 100%|███████████████| 4/4 [47:25<00:00, 711.36s/it]\n",
      "/home/ec2-user/miniconda3/envs/thesis_env/lib/python3.8/site-packages/gluonts/dataset/common.py:324: FutureWarning: The 'freq' argument in Timestamp is deprecated and will be removed in a future version.\n",
      "  timestamp = pd.Timestamp(timestamp_input, freq=freq)\n",
      "/home/ec2-user/miniconda3/envs/thesis_env/lib/python3.8/site-packages/gluonts/dataset/common.py:327: FutureWarning: Timestamp.freq is deprecated and will be removed in a future version\n",
      "  if isinstance(timestamp.freq, Tick):\n",
      "/home/ec2-user/miniconda3/envs/thesis_env/lib/python3.8/site-packages/gluonts/dataset/common.py:329: FutureWarning: Timestamp.freq is deprecated and will be removed in a future version\n",
      "  timestamp.floor(timestamp.freq), timestamp.freq\n",
      "/home/ec2-user/miniconda3/envs/thesis_env/lib/python3.8/site-packages/gluonts/dataset/common.py:328: FutureWarning: The 'freq' argument in Timestamp is deprecated and will be removed in a future version.\n",
      "  return pd.Timestamp(\n",
      "/home/ec2-user/miniconda3/envs/thesis_env/lib/python3.8/site-packages/gluonts/transform/feature.py:340: FutureWarning: Timestamp.freq is deprecated and will be removed in a future version\n",
      "  self._freq_base is None or self._freq_base == start.freq.base\n",
      "/home/ec2-user/miniconda3/envs/thesis_env/lib/python3.8/site-packages/gluonts/transform/split.py:36: FutureWarning: Timestamp.freq is deprecated and will be removed in a future version\n",
      "  return _shift_timestamp_helper(ts, ts.freq, offset)\n",
      "/home/ec2-user/miniconda3/envs/thesis_env/lib/python3.8/site-packages/gluonts/transform/feature.py:384: FutureWarning: Timestamp.freq is deprecated and will be removed in a future version\n",
      "  ..., i0 : i0 + length * start.freq.n : start.freq.n\n",
      "/home/ec2-user/miniconda3/envs/thesis_env/lib/python3.8/site-packages/gluonts/dataset/common.py:324: FutureWarning: The 'freq' argument in Timestamp is deprecated and will be removed in a future version.\n",
      "  timestamp = pd.Timestamp(timestamp_input, freq=freq)\n",
      "/home/ec2-user/miniconda3/envs/thesis_env/lib/python3.8/site-packages/gluonts/dataset/common.py:327: FutureWarning: Timestamp.freq is deprecated and will be removed in a future version\n",
      "  if isinstance(timestamp.freq, Tick):\n",
      "/home/ec2-user/miniconda3/envs/thesis_env/lib/python3.8/site-packages/gluonts/dataset/common.py:329: FutureWarning: Timestamp.freq is deprecated and will be removed in a future version\n",
      "  timestamp.floor(timestamp.freq), timestamp.freq\n",
      "/home/ec2-user/miniconda3/envs/thesis_env/lib/python3.8/site-packages/gluonts/dataset/common.py:328: FutureWarning: The 'freq' argument in Timestamp is deprecated and will be removed in a future version.\n",
      "  return pd.Timestamp(\n",
      "/home/ec2-user/miniconda3/envs/thesis_env/lib/python3.8/site-packages/gluonts/transform/feature.py:340: FutureWarning: Timestamp.freq is deprecated and will be removed in a future version\n",
      "  self._freq_base is None or self._freq_base == start.freq.base\n",
      "/home/ec2-user/miniconda3/envs/thesis_env/lib/python3.8/site-packages/gluonts/transform/split.py:36: FutureWarning: Timestamp.freq is deprecated and will be removed in a future version\n",
      "  return _shift_timestamp_helper(ts, ts.freq, offset)\n",
      "/home/ec2-user/miniconda3/envs/thesis_env/lib/python3.8/site-packages/gluonts/transform/feature.py:384: FutureWarning: Timestamp.freq is deprecated and will be removed in a future version\n",
      "  ..., i0 : i0 + length * start.freq.n : start.freq.n\n",
      "/home/ec2-user/miniconda3/envs/thesis_env/lib/python3.8/site-packages/gluonts/dataset/common.py:324: FutureWarning: The 'freq' argument in Timestamp is deprecated and will be removed in a future version.\n",
      "  timestamp = pd.Timestamp(timestamp_input, freq=freq)\n",
      "/home/ec2-user/miniconda3/envs/thesis_env/lib/python3.8/site-packages/gluonts/dataset/common.py:327: FutureWarning: Timestamp.freq is deprecated and will be removed in a future version\n",
      "  if isinstance(timestamp.freq, Tick):\n",
      "/home/ec2-user/miniconda3/envs/thesis_env/lib/python3.8/site-packages/gluonts/dataset/common.py:329: FutureWarning: Timestamp.freq is deprecated and will be removed in a future version\n",
      "  timestamp.floor(timestamp.freq), timestamp.freq\n",
      "/home/ec2-user/miniconda3/envs/thesis_env/lib/python3.8/site-packages/gluonts/dataset/common.py:328: FutureWarning: The 'freq' argument in Timestamp is deprecated and will be removed in a future version.\n",
      "  return pd.Timestamp(\n",
      "/home/ec2-user/miniconda3/envs/thesis_env/lib/python3.8/site-packages/gluonts/transform/feature.py:340: FutureWarning: Timestamp.freq is deprecated and will be removed in a future version\n",
      "  self._freq_base is None or self._freq_base == start.freq.base\n",
      "/home/ec2-user/miniconda3/envs/thesis_env/lib/python3.8/site-packages/gluonts/transform/split.py:36: FutureWarning: Timestamp.freq is deprecated and will be removed in a future version\n",
      "  return _shift_timestamp_helper(ts, ts.freq, offset)\n",
      "/home/ec2-user/miniconda3/envs/thesis_env/lib/python3.8/site-packages/gluonts/transform/feature.py:384: FutureWarning: Timestamp.freq is deprecated and will be removed in a future version\n",
      "  ..., i0 : i0 + length * start.freq.n : start.freq.n\n",
      "/home/ec2-user/miniconda3/envs/thesis_env/lib/python3.8/site-packages/gluonts/dataset/common.py:324: FutureWarning: The 'freq' argument in Timestamp is deprecated and will be removed in a future version.\n",
      "  timestamp = pd.Timestamp(timestamp_input, freq=freq)\n",
      "/home/ec2-user/miniconda3/envs/thesis_env/lib/python3.8/site-packages/gluonts/dataset/common.py:327: FutureWarning: Timestamp.freq is deprecated and will be removed in a future version\n",
      "  if isinstance(timestamp.freq, Tick):\n",
      "/home/ec2-user/miniconda3/envs/thesis_env/lib/python3.8/site-packages/gluonts/dataset/common.py:329: FutureWarning: Timestamp.freq is deprecated and will be removed in a future version\n",
      "  timestamp.floor(timestamp.freq), timestamp.freq\n",
      "/home/ec2-user/miniconda3/envs/thesis_env/lib/python3.8/site-packages/gluonts/dataset/common.py:328: FutureWarning: The 'freq' argument in Timestamp is deprecated and will be removed in a future version.\n",
      "  return pd.Timestamp(\n",
      "/home/ec2-user/miniconda3/envs/thesis_env/lib/python3.8/site-packages/gluonts/transform/feature.py:340: FutureWarning: Timestamp.freq is deprecated and will be removed in a future version\n",
      "  self._freq_base is None or self._freq_base == start.freq.base\n",
      "/home/ec2-user/miniconda3/envs/thesis_env/lib/python3.8/site-packages/gluonts/transform/split.py:36: FutureWarning: Timestamp.freq is deprecated and will be removed in a future version\n",
      "  return _shift_timestamp_helper(ts, ts.freq, offset)\n",
      "/home/ec2-user/miniconda3/envs/thesis_env/lib/python3.8/site-packages/gluonts/transform/feature.py:384: FutureWarning: Timestamp.freq is deprecated and will be removed in a future version\n",
      "  ..., i0 : i0 + length * start.freq.n : start.freq.n\n"
     ]
    }
   ],
   "source": [
    "with tqdm_joblib(tqdm(desc=\"Catch22 DeepAR Unseen Preds\", \n",
    "                      total=(len(subset_df_list)))) as progress_bar:\n",
    "    catch22_test_preds = Parallel(n_jobs=4)(delayed(compute_deepar_test_preds_clust)(catch22_deepar_mod_ls[i],\n",
    "                                                                                     [subset_df_list[i]],\n",
    "                                                                                     [i+1]\n",
    "                                                                                    ) for i in range(len(subset_df_list))) \n"
   ]
  },
  {
   "cell_type": "code",
   "execution_count": 48,
   "id": "00aaa9f9",
   "metadata": {},
   "outputs": [],
   "source": [
    "catch22_forec_means = {**catch22_test_preds[0][0], \n",
    "                       **catch22_test_preds[1][0],\n",
    "                       **catch22_test_preds[2][0], \n",
    "                       **catch22_test_preds[3][0]}\n",
    "\n",
    "catch22_forec_lo_80 = {**catch22_test_preds[0][2], \n",
    "                       **catch22_test_preds[1][2],\n",
    "                       **catch22_test_preds[2][2], \n",
    "                       **catch22_test_preds[3][2]}\n",
    "\n",
    "catch22_forec_hi_80 = {**catch22_test_preds[0][3], \n",
    "                       **catch22_test_preds[1][3],\n",
    "                       **catch22_test_preds[2][3], \n",
    "                       **catch22_test_preds[3][3]}\n",
    "\n",
    "catch22_forec_lo_95 = {**catch22_test_preds[0][4], \n",
    "                       **catch22_test_preds[1][4],\n",
    "                       **catch22_test_preds[2][4], \n",
    "                       **catch22_test_preds[3][4]}\n",
    "\n",
    "catch22_forec_hi_95 = {**catch22_test_preds[0][5], \n",
    "                       **catch22_test_preds[1][5],\n",
    "                       **catch22_test_preds[2][5], \n",
    "                       **catch22_test_preds[3][5]}\n",
    "\n",
    "catch22_forec_actuals = {k: test_df_list[k-1].y.to_list() for k in range(1, (len(test_df_list)+1))}\n",
    "\n",
    "catch22forec_actual_means = {k: np.mean(test_df_list[k-1].y.to_list()) for k in range(1, (len(test_df_list)+1))}"
   ]
  },
  {
   "cell_type": "code",
   "execution_count": 49,
   "id": "a03ab4ff",
   "metadata": {},
   "outputs": [],
   "source": [
    "catch22_int_score_80 = {k: interval_score(catch22_forec_actuals[k], \n",
    "                                          catch22_forec_lo_80[k],\n",
    "                                          catch22_forec_hi_80[k],\n",
    "                                          0.8) for k in catch22_forec_actuals.keys()\n",
    "                          }\n",
    "\n",
    "catch22_int_score_95 = {k: interval_score(catch22_forec_actuals[k], \n",
    "                                          catch22_forec_lo_95[k],\n",
    "                                          catch22_forec_hi_95[k],\n",
    "                                          0.95) for k in catch22_forec_actuals.keys()\n",
    "                          }\n",
    "\n",
    "catch22_rmse = {k: mean_squared_error(catch22_forec_actuals[k], \n",
    "                                      catch22_forec_means[k], \n",
    "                                      squared=False) for k in catch22_forec_actuals.keys()}\n",
    "\n",
    "catch22_mae = {k: mean_absolute_error(catch22_forec_actuals[k], \n",
    "                                      catch22_forec_means[k]) for k in catch22_forec_actuals.keys()}"
   ]
  },
  {
   "cell_type": "code",
   "execution_count": 50,
   "id": "992f96e0",
   "metadata": {
    "scrolled": true
   },
   "outputs": [
    {
     "data": {
      "text/plain": [
       "52.89695417912924"
      ]
     },
     "execution_count": 50,
     "metadata": {},
     "output_type": "execute_result"
    }
   ],
   "source": [
    "np.mean(list(catch22_rmse.values()))"
   ]
  },
  {
   "cell_type": "code",
   "execution_count": 51,
   "id": "db5fd6eb",
   "metadata": {
    "scrolled": true
   },
   "outputs": [
    {
     "data": {
      "text/plain": [
       "35.31454544731726"
      ]
     },
     "execution_count": 51,
     "metadata": {},
     "output_type": "execute_result"
    }
   ],
   "source": [
    "np.mean(list(catch22_mae.values()))"
   ]
  },
  {
   "cell_type": "code",
   "execution_count": 52,
   "id": "953f316d",
   "metadata": {},
   "outputs": [
    {
     "data": {
      "text/plain": [
       "0.15732131385050768"
      ]
     },
     "execution_count": 52,
     "metadata": {},
     "output_type": "execute_result"
    }
   ],
   "source": [
    "np.mean([catch22_rmse[k]/catch22forec_actual_means[k] for k in catch22_rmse.keys()])"
   ]
  },
  {
   "cell_type": "code",
   "execution_count": 53,
   "id": "db7cc665",
   "metadata": {},
   "outputs": [
    {
     "data": {
      "text/plain": [
       "0.10546563126556885"
      ]
     },
     "execution_count": 53,
     "metadata": {},
     "output_type": "execute_result"
    }
   ],
   "source": [
    "np.mean([catch22_mae[k]/catch22forec_actual_means[k] for k in catch22_mae.keys()])"
   ]
  },
  {
   "cell_type": "code",
   "execution_count": 54,
   "id": "6c31e289",
   "metadata": {},
   "outputs": [
    {
     "data": {
      "text/plain": [
       "71.89628607422658"
      ]
     },
     "execution_count": 54,
     "metadata": {},
     "output_type": "execute_result"
    }
   ],
   "source": [
    "np.mean(list(catch22_int_score_80.values()))"
   ]
  },
  {
   "cell_type": "code",
   "execution_count": 55,
   "id": "7ee2cc8e",
   "metadata": {},
   "outputs": [
    {
     "data": {
      "text/plain": [
       "119.153609452709"
      ]
     },
     "execution_count": 55,
     "metadata": {},
     "output_type": "execute_result"
    }
   ],
   "source": [
    "np.mean(list(catch22_int_score_95.values()))"
   ]
  },
  {
   "cell_type": "code",
   "execution_count": 56,
   "id": "fcd9f0b8",
   "metadata": {},
   "outputs": [
    {
     "data": {
      "text/plain": [
       "0.2388971153853125"
      ]
     },
     "execution_count": 56,
     "metadata": {},
     "output_type": "execute_result"
    }
   ],
   "source": [
    "np.mean([catch22_int_score_80[k]/catch22forec_actual_means[k] for k in catch22_int_score_80.keys()])"
   ]
  },
  {
   "cell_type": "code",
   "execution_count": 57,
   "id": "090499d5",
   "metadata": {},
   "outputs": [
    {
     "data": {
      "text/plain": [
       "0.3944396023465585"
      ]
     },
     "execution_count": 57,
     "metadata": {},
     "output_type": "execute_result"
    }
   ],
   "source": [
    "np.mean([catch22_int_score_95[k]/catch22forec_actual_means[k] for k in catch22_int_score_95.keys()])"
   ]
  },
  {
   "cell_type": "code",
   "execution_count": null,
   "id": "2696763f",
   "metadata": {},
   "outputs": [],
   "source": []
  },
  {
   "cell_type": "markdown",
   "id": "b9f23098",
   "metadata": {},
   "source": [
    "# Forecast for Models with TSFeat-Based KMeans Clusters"
   ]
  },
  {
   "cell_type": "code",
   "execution_count": 59,
   "id": "9cd5f25c",
   "metadata": {},
   "outputs": [
    {
     "data": {
      "text/plain": [
       "0    1\n",
       "1    1\n",
       "2    1\n",
       "3    1\n",
       "Name: tsfeat, dtype: int64"
      ]
     },
     "execution_count": 59,
     "metadata": {},
     "output_type": "execute_result"
    }
   ],
   "source": [
    "clust_assign.tsfeat"
   ]
  },
  {
   "cell_type": "code",
   "execution_count": 60,
   "id": "d59a24d5",
   "metadata": {},
   "outputs": [],
   "source": [
    "with open(f'Results/Global/DeepAR/TSFeat KMeans/mod_0', 'rb') as f:\n",
    "    tsfeat_mod1 = pickle.load(f)"
   ]
  },
  {
   "cell_type": "code",
   "execution_count": 61,
   "id": "da1d17ab",
   "metadata": {},
   "outputs": [],
   "source": [
    "ts_feat_mod_ls = [tsfeat_mod1, tsfeat_mod1, tsfeat_mod1, tsfeat_mod1]"
   ]
  },
  {
   "cell_type": "code",
   "execution_count": 62,
   "id": "1e7e8a3d",
   "metadata": {},
   "outputs": [
    {
     "name": "stderr",
     "output_type": "stream",
     "text": [
      "TSFEat DeepAR Unseen Preds: 100%|████████████████| 4/4 [46:58<00:00, 704.73s/it]\n"
     ]
    }
   ],
   "source": [
    "with tqdm_joblib(tqdm(desc=\"TSFEat DeepAR Unseen Preds\", \n",
    "                      total=(len(subset_df_list)))) as progress_bar:\n",
    "    tsfeat_test_preds = Parallel(n_jobs=4)(delayed(compute_deepar_test_preds_clust)(ts_feat_mod_ls[i],\n",
    "                                                                                    [subset_df_list[i]],\n",
    "                                                                                    [i+1]\n",
    "                                                                                   ) for i in range(len(subset_df_list))) \n"
   ]
  },
  {
   "cell_type": "code",
   "execution_count": 63,
   "id": "0f907c7d",
   "metadata": {},
   "outputs": [],
   "source": [
    "tsfeat_forec_means = {**tsfeat_test_preds[0][0], \n",
    "                       **tsfeat_test_preds[1][0],\n",
    "                       **tsfeat_test_preds[2][0], \n",
    "                       **tsfeat_test_preds[3][0]}\n",
    "\n",
    "tsfeat_forec_lo_80 = {**tsfeat_test_preds[0][2], \n",
    "                       **tsfeat_test_preds[1][2],\n",
    "                       **tsfeat_test_preds[2][2], \n",
    "                       **tsfeat_test_preds[3][2]}\n",
    "\n",
    "tsfeat_forec_hi_80 = {**tsfeat_test_preds[0][3], \n",
    "                       **tsfeat_test_preds[1][3],\n",
    "                       **tsfeat_test_preds[2][3], \n",
    "                       **tsfeat_test_preds[3][3]}\n",
    "\n",
    "tsfeat_forec_lo_95 = {**tsfeat_test_preds[0][4], \n",
    "                       **tsfeat_test_preds[1][4],\n",
    "                       **tsfeat_test_preds[2][4], \n",
    "                       **tsfeat_test_preds[3][4]}\n",
    "\n",
    "tsfeat_forec_hi_95 = {**tsfeat_test_preds[0][5], \n",
    "                       **tsfeat_test_preds[1][5],\n",
    "                       **tsfeat_test_preds[2][5], \n",
    "                       **tsfeat_test_preds[3][5]}\n",
    "\n",
    "tsfeat_forec_actuals = {k: test_df_list[k-1].y.to_list() for k in range(1, (len(test_df_list)+1))}\n",
    "\n",
    "tsfeatforec_actual_means = {k: np.mean(test_df_list[k-1].y.to_list()) for k in range(1, (len(test_df_list)+1))}"
   ]
  },
  {
   "cell_type": "code",
   "execution_count": 64,
   "id": "f5d8a8a2",
   "metadata": {},
   "outputs": [],
   "source": [
    "tsfeat_int_score_80 = {k: interval_score(tsfeat_forec_actuals[k], \n",
    "                                          tsfeat_forec_lo_80[k],\n",
    "                                          tsfeat_forec_hi_80[k],\n",
    "                                          0.8) for k in tsfeat_forec_actuals.keys()\n",
    "                          }\n",
    "\n",
    "tsfeat_int_score_95 = {k: interval_score(tsfeat_forec_actuals[k], \n",
    "                                          tsfeat_forec_lo_95[k],\n",
    "                                          tsfeat_forec_hi_95[k],\n",
    "                                          0.95) for k in tsfeat_forec_actuals.keys()\n",
    "                          }\n",
    "\n",
    "tsfeat_rmse = {k: mean_squared_error(tsfeat_forec_actuals[k], \n",
    "                                      tsfeat_forec_means[k], \n",
    "                                      squared=False) for k in tsfeat_forec_actuals.keys()}\n",
    "\n",
    "tsfeat_mae = {k: mean_absolute_error(tsfeat_forec_actuals[k], \n",
    "                                      tsfeat_forec_means[k]) for k in tsfeat_forec_actuals.keys()}"
   ]
  },
  {
   "cell_type": "code",
   "execution_count": 65,
   "id": "cf88efa5",
   "metadata": {
    "scrolled": true
   },
   "outputs": [
    {
     "data": {
      "text/plain": [
       "52.77171139452528"
      ]
     },
     "execution_count": 65,
     "metadata": {},
     "output_type": "execute_result"
    }
   ],
   "source": [
    "np.mean(list(tsfeat_rmse.values()))"
   ]
  },
  {
   "cell_type": "code",
   "execution_count": 66,
   "id": "09c984d9",
   "metadata": {
    "scrolled": true
   },
   "outputs": [
    {
     "data": {
      "text/plain": [
       "35.591598910135446"
      ]
     },
     "execution_count": 66,
     "metadata": {},
     "output_type": "execute_result"
    }
   ],
   "source": [
    "np.mean(list(tsfeat_mae.values()))"
   ]
  },
  {
   "cell_type": "code",
   "execution_count": 67,
   "id": "f60a4216",
   "metadata": {},
   "outputs": [
    {
     "data": {
      "text/plain": [
       "0.1577819271663308"
      ]
     },
     "execution_count": 67,
     "metadata": {},
     "output_type": "execute_result"
    }
   ],
   "source": [
    "np.mean([tsfeat_rmse[k]/tsfeatforec_actual_means[k] for k in tsfeat_rmse.keys()])"
   ]
  },
  {
   "cell_type": "code",
   "execution_count": 68,
   "id": "ece63e00",
   "metadata": {},
   "outputs": [
    {
     "data": {
      "text/plain": [
       "0.10645775541749268"
      ]
     },
     "execution_count": 68,
     "metadata": {},
     "output_type": "execute_result"
    }
   ],
   "source": [
    "np.mean([tsfeat_mae[k]/tsfeatforec_actual_means[k] for k in tsfeat_mae.keys()])"
   ]
  },
  {
   "cell_type": "code",
   "execution_count": 69,
   "id": "7f4d8e60",
   "metadata": {},
   "outputs": [
    {
     "data": {
      "text/plain": [
       "73.85076668664216"
      ]
     },
     "execution_count": 69,
     "metadata": {},
     "output_type": "execute_result"
    }
   ],
   "source": [
    "np.mean(list(tsfeat_int_score_80.values()))"
   ]
  },
  {
   "cell_type": "code",
   "execution_count": 70,
   "id": "98ee1461",
   "metadata": {},
   "outputs": [
    {
     "data": {
      "text/plain": [
       "123.72881946148793"
      ]
     },
     "execution_count": 70,
     "metadata": {},
     "output_type": "execute_result"
    }
   ],
   "source": [
    "np.mean(list(tsfeat_int_score_95.values()))"
   ]
  },
  {
   "cell_type": "code",
   "execution_count": 71,
   "id": "8cff54d7",
   "metadata": {},
   "outputs": [
    {
     "data": {
      "text/plain": [
       "0.23646666538921948"
      ]
     },
     "execution_count": 71,
     "metadata": {},
     "output_type": "execute_result"
    }
   ],
   "source": [
    "np.mean([tsfeat_int_score_80[k]/tsfeatforec_actual_means[k] for k in tsfeat_int_score_80.keys()])"
   ]
  },
  {
   "cell_type": "code",
   "execution_count": 72,
   "id": "b19b26bb",
   "metadata": {},
   "outputs": [
    {
     "data": {
      "text/plain": [
       "0.3964435210148663"
      ]
     },
     "execution_count": 72,
     "metadata": {},
     "output_type": "execute_result"
    },
    {
     "name": "stderr",
     "output_type": "stream",
     "text": [
      "/home/ec2-user/miniconda3/envs/thesis_env/lib/python3.8/site-packages/gluonts/dataset/common.py:324: FutureWarning: The 'freq' argument in Timestamp is deprecated and will be removed in a future version.\n",
      "  timestamp = pd.Timestamp(timestamp_input, freq=freq)\n",
      "/home/ec2-user/miniconda3/envs/thesis_env/lib/python3.8/site-packages/gluonts/dataset/common.py:327: FutureWarning: Timestamp.freq is deprecated and will be removed in a future version\n",
      "  if isinstance(timestamp.freq, Tick):\n",
      "/home/ec2-user/miniconda3/envs/thesis_env/lib/python3.8/site-packages/gluonts/dataset/common.py:329: FutureWarning: Timestamp.freq is deprecated and will be removed in a future version\n",
      "  timestamp.floor(timestamp.freq), timestamp.freq\n",
      "/home/ec2-user/miniconda3/envs/thesis_env/lib/python3.8/site-packages/gluonts/dataset/common.py:328: FutureWarning: The 'freq' argument in Timestamp is deprecated and will be removed in a future version.\n",
      "  return pd.Timestamp(\n",
      "/home/ec2-user/miniconda3/envs/thesis_env/lib/python3.8/site-packages/gluonts/transform/feature.py:340: FutureWarning: Timestamp.freq is deprecated and will be removed in a future version\n",
      "  self._freq_base is None or self._freq_base == start.freq.base\n",
      "/home/ec2-user/miniconda3/envs/thesis_env/lib/python3.8/site-packages/gluonts/transform/split.py:36: FutureWarning: Timestamp.freq is deprecated and will be removed in a future version\n",
      "  return _shift_timestamp_helper(ts, ts.freq, offset)\n",
      "/home/ec2-user/miniconda3/envs/thesis_env/lib/python3.8/site-packages/gluonts/transform/feature.py:384: FutureWarning: Timestamp.freq is deprecated and will be removed in a future version\n",
      "  ..., i0 : i0 + length * start.freq.n : start.freq.n\n",
      "/home/ec2-user/miniconda3/envs/thesis_env/lib/python3.8/site-packages/gluonts/dataset/common.py:324: FutureWarning: The 'freq' argument in Timestamp is deprecated and will be removed in a future version.\n",
      "  timestamp = pd.Timestamp(timestamp_input, freq=freq)\n",
      "/home/ec2-user/miniconda3/envs/thesis_env/lib/python3.8/site-packages/gluonts/dataset/common.py:327: FutureWarning: Timestamp.freq is deprecated and will be removed in a future version\n",
      "  if isinstance(timestamp.freq, Tick):\n",
      "/home/ec2-user/miniconda3/envs/thesis_env/lib/python3.8/site-packages/gluonts/dataset/common.py:329: FutureWarning: Timestamp.freq is deprecated and will be removed in a future version\n",
      "  timestamp.floor(timestamp.freq), timestamp.freq\n",
      "/home/ec2-user/miniconda3/envs/thesis_env/lib/python3.8/site-packages/gluonts/dataset/common.py:328: FutureWarning: The 'freq' argument in Timestamp is deprecated and will be removed in a future version.\n",
      "  return pd.Timestamp(\n",
      "/home/ec2-user/miniconda3/envs/thesis_env/lib/python3.8/site-packages/gluonts/transform/feature.py:340: FutureWarning: Timestamp.freq is deprecated and will be removed in a future version\n",
      "  self._freq_base is None or self._freq_base == start.freq.base\n",
      "/home/ec2-user/miniconda3/envs/thesis_env/lib/python3.8/site-packages/gluonts/transform/split.py:36: FutureWarning: Timestamp.freq is deprecated and will be removed in a future version\n",
      "  return _shift_timestamp_helper(ts, ts.freq, offset)\n",
      "/home/ec2-user/miniconda3/envs/thesis_env/lib/python3.8/site-packages/gluonts/transform/feature.py:384: FutureWarning: Timestamp.freq is deprecated and will be removed in a future version\n",
      "  ..., i0 : i0 + length * start.freq.n : start.freq.n\n",
      "/home/ec2-user/miniconda3/envs/thesis_env/lib/python3.8/site-packages/gluonts/dataset/common.py:324: FutureWarning: The 'freq' argument in Timestamp is deprecated and will be removed in a future version.\n",
      "  timestamp = pd.Timestamp(timestamp_input, freq=freq)\n",
      "/home/ec2-user/miniconda3/envs/thesis_env/lib/python3.8/site-packages/gluonts/dataset/common.py:327: FutureWarning: Timestamp.freq is deprecated and will be removed in a future version\n",
      "  if isinstance(timestamp.freq, Tick):\n",
      "/home/ec2-user/miniconda3/envs/thesis_env/lib/python3.8/site-packages/gluonts/dataset/common.py:329: FutureWarning: Timestamp.freq is deprecated and will be removed in a future version\n",
      "  timestamp.floor(timestamp.freq), timestamp.freq\n",
      "/home/ec2-user/miniconda3/envs/thesis_env/lib/python3.8/site-packages/gluonts/dataset/common.py:328: FutureWarning: The 'freq' argument in Timestamp is deprecated and will be removed in a future version.\n",
      "  return pd.Timestamp(\n",
      "/home/ec2-user/miniconda3/envs/thesis_env/lib/python3.8/site-packages/gluonts/transform/feature.py:340: FutureWarning: Timestamp.freq is deprecated and will be removed in a future version\n",
      "  self._freq_base is None or self._freq_base == start.freq.base\n",
      "/home/ec2-user/miniconda3/envs/thesis_env/lib/python3.8/site-packages/gluonts/transform/split.py:36: FutureWarning: Timestamp.freq is deprecated and will be removed in a future version\n",
      "  return _shift_timestamp_helper(ts, ts.freq, offset)\n",
      "/home/ec2-user/miniconda3/envs/thesis_env/lib/python3.8/site-packages/gluonts/transform/feature.py:384: FutureWarning: Timestamp.freq is deprecated and will be removed in a future version\n",
      "  ..., i0 : i0 + length * start.freq.n : start.freq.n\n",
      "/home/ec2-user/miniconda3/envs/thesis_env/lib/python3.8/site-packages/gluonts/dataset/common.py:324: FutureWarning: The 'freq' argument in Timestamp is deprecated and will be removed in a future version.\n",
      "  timestamp = pd.Timestamp(timestamp_input, freq=freq)\n",
      "/home/ec2-user/miniconda3/envs/thesis_env/lib/python3.8/site-packages/gluonts/dataset/common.py:327: FutureWarning: Timestamp.freq is deprecated and will be removed in a future version\n",
      "  if isinstance(timestamp.freq, Tick):\n",
      "/home/ec2-user/miniconda3/envs/thesis_env/lib/python3.8/site-packages/gluonts/dataset/common.py:329: FutureWarning: Timestamp.freq is deprecated and will be removed in a future version\n",
      "  timestamp.floor(timestamp.freq), timestamp.freq\n",
      "/home/ec2-user/miniconda3/envs/thesis_env/lib/python3.8/site-packages/gluonts/dataset/common.py:328: FutureWarning: The 'freq' argument in Timestamp is deprecated and will be removed in a future version.\n",
      "  return pd.Timestamp(\n",
      "/home/ec2-user/miniconda3/envs/thesis_env/lib/python3.8/site-packages/gluonts/transform/feature.py:340: FutureWarning: Timestamp.freq is deprecated and will be removed in a future version\n",
      "  self._freq_base is None or self._freq_base == start.freq.base\n",
      "/home/ec2-user/miniconda3/envs/thesis_env/lib/python3.8/site-packages/gluonts/transform/split.py:36: FutureWarning: Timestamp.freq is deprecated and will be removed in a future version\n",
      "  return _shift_timestamp_helper(ts, ts.freq, offset)\n",
      "/home/ec2-user/miniconda3/envs/thesis_env/lib/python3.8/site-packages/gluonts/transform/feature.py:384: FutureWarning: Timestamp.freq is deprecated and will be removed in a future version\n",
      "  ..., i0 : i0 + length * start.freq.n : start.freq.n\n"
     ]
    }
   ],
   "source": [
    "np.mean([tsfeat_int_score_95[k]/tsfeatforec_actual_means[k] for k in tsfeat_int_score_95.keys()])"
   ]
  },
  {
   "cell_type": "code",
   "execution_count": null,
   "id": "c70e5fb9",
   "metadata": {},
   "outputs": [],
   "source": []
  },
  {
   "cell_type": "markdown",
   "id": "4c0da774",
   "metadata": {},
   "source": [
    "# Forecast with Models for DTW-Based K-Medoids Clusters"
   ]
  },
  {
   "cell_type": "code",
   "execution_count": 15,
   "id": "eba798bc",
   "metadata": {},
   "outputs": [
    {
     "data": {
      "text/plain": [
       "0    2\n",
       "1    2\n",
       "2    1\n",
       "3    1\n",
       "Name: dtw, dtype: int64"
      ]
     },
     "execution_count": 15,
     "metadata": {},
     "output_type": "execute_result"
    }
   ],
   "source": [
    "clust_assign.dtw"
   ]
  },
  {
   "cell_type": "code",
   "execution_count": 16,
   "id": "dd2ccc1c",
   "metadata": {},
   "outputs": [],
   "source": [
    "with open(f'Results/Global/DeepAR/DTW/mod_1', 'rb') as f:\n",
    "    dtw_mod2 = pickle.load(f)\n",
    "    \n",
    "with open(f'Results/Global/DeepAR/DTW/mod_0', 'rb') as f:\n",
    "    dtw_mod1 = pickle.load(f)"
   ]
  },
  {
   "cell_type": "code",
   "execution_count": 17,
   "id": "b4d7a1c1",
   "metadata": {},
   "outputs": [],
   "source": [
    "dtw_mod_list = [dtw_mod2, dtw_mod2, dtw_mod1, dtw_mod1]"
   ]
  },
  {
   "cell_type": "code",
   "execution_count": 18,
   "id": "74464d1d",
   "metadata": {},
   "outputs": [
    {
     "name": "stderr",
     "output_type": "stream",
     "text": [
      "DTW DeepAR Unseen Preds: 100%|███████████████████| 4/4 [47:25<00:00, 711.26s/it]\n"
     ]
    }
   ],
   "source": [
    "with tqdm_joblib(tqdm(desc=\"DTW DeepAR Unseen Preds\", \n",
    "                      total=(len(subset_df_list)))) as progress_bar:\n",
    "    dtw_test_preds = Parallel(n_jobs=4)(delayed(compute_deepar_test_preds_clust)(dtw_mod_list[i],\n",
    "                                                                                 [subset_df_list[i]],\n",
    "                                                                                 [i+1]\n",
    "                                                                                ) for i in range(len(subset_df_list))) \n"
   ]
  },
  {
   "cell_type": "code",
   "execution_count": 19,
   "id": "dc8d42a9",
   "metadata": {},
   "outputs": [],
   "source": [
    "dtw_forec_means = {**dtw_test_preds[0][0], \n",
    "                       **dtw_test_preds[1][0],\n",
    "                       **dtw_test_preds[2][0], \n",
    "                       **dtw_test_preds[3][0]}\n",
    "\n",
    "dtw_forec_lo_80 = {**dtw_test_preds[0][2], \n",
    "                       **dtw_test_preds[1][2],\n",
    "                       **dtw_test_preds[2][2], \n",
    "                       **dtw_test_preds[3][2]}\n",
    "\n",
    "dtw_forec_hi_80 = {**dtw_test_preds[0][3], \n",
    "                       **dtw_test_preds[1][3],\n",
    "                       **dtw_test_preds[2][3], \n",
    "                       **dtw_test_preds[3][3]}\n",
    "\n",
    "dtw_forec_lo_95 = {**dtw_test_preds[0][4], \n",
    "                       **dtw_test_preds[1][4],\n",
    "                       **dtw_test_preds[2][4], \n",
    "                       **dtw_test_preds[3][4]}\n",
    "\n",
    "dtw_forec_hi_95 = {**dtw_test_preds[0][5], \n",
    "                       **dtw_test_preds[1][5],\n",
    "                       **dtw_test_preds[2][5], \n",
    "                       **dtw_test_preds[3][5]}\n",
    "\n",
    "dtw_forec_actuals = {k: test_df_list[k-1].y.to_list() for k in range(1, (len(test_df_list)+1))}\n",
    "\n",
    "dtwforec_actual_means = {k: np.mean(test_df_list[k-1].y.to_list()) for k in range(1, (len(test_df_list)+1))}"
   ]
  },
  {
   "cell_type": "code",
   "execution_count": 20,
   "id": "ced7562f",
   "metadata": {},
   "outputs": [],
   "source": [
    "dtw_int_score_80 = {k: interval_score(dtw_forec_actuals[k], \n",
    "                                          dtw_forec_lo_80[k],\n",
    "                                          dtw_forec_hi_80[k],\n",
    "                                          0.8) for k in dtw_forec_actuals.keys()\n",
    "                          }\n",
    "\n",
    "dtw_int_score_95 = {k: interval_score(dtw_forec_actuals[k], \n",
    "                                          dtw_forec_lo_95[k],\n",
    "                                          dtw_forec_hi_95[k],\n",
    "                                          0.95) for k in dtw_forec_actuals.keys()\n",
    "                          }\n",
    "\n",
    "dtw_rmse = {k: mean_squared_error(dtw_forec_actuals[k], \n",
    "                                      dtw_forec_means[k], \n",
    "                                      squared=False) for k in dtw_forec_actuals.keys()}\n",
    "\n",
    "dtw_mae = {k: mean_absolute_error(dtw_forec_actuals[k], \n",
    "                                      dtw_forec_means[k]) for k in dtw_forec_actuals.keys()}"
   ]
  },
  {
   "cell_type": "code",
   "execution_count": 21,
   "id": "87937e80",
   "metadata": {
    "scrolled": true
   },
   "outputs": [
    {
     "data": {
      "text/plain": [
       "52.785547213577274"
      ]
     },
     "execution_count": 21,
     "metadata": {},
     "output_type": "execute_result"
    }
   ],
   "source": [
    "np.mean(list(dtw_rmse.values()))"
   ]
  },
  {
   "cell_type": "code",
   "execution_count": 22,
   "id": "a29f0af6",
   "metadata": {
    "scrolled": true
   },
   "outputs": [
    {
     "data": {
      "text/plain": [
       "35.5589393095579"
      ]
     },
     "execution_count": 22,
     "metadata": {},
     "output_type": "execute_result"
    }
   ],
   "source": [
    "np.mean(list(dtw_mae.values()))"
   ]
  },
  {
   "cell_type": "code",
   "execution_count": 23,
   "id": "0c6e53d1",
   "metadata": {},
   "outputs": [
    {
     "data": {
      "text/plain": [
       "0.15655893297601284"
      ]
     },
     "execution_count": 23,
     "metadata": {},
     "output_type": "execute_result"
    }
   ],
   "source": [
    "np.mean([dtw_rmse[k]/dtwforec_actual_means[k] for k in dtw_rmse.keys()])"
   ]
  },
  {
   "cell_type": "code",
   "execution_count": 24,
   "id": "e7badfde",
   "metadata": {},
   "outputs": [
    {
     "data": {
      "text/plain": [
       "0.10546561065145782"
      ]
     },
     "execution_count": 24,
     "metadata": {},
     "output_type": "execute_result"
    }
   ],
   "source": [
    "np.mean([dtw_mae[k]/dtwforec_actual_means[k] for k in dtw_mae.keys()])"
   ]
  },
  {
   "cell_type": "code",
   "execution_count": 25,
   "id": "cac47f8e",
   "metadata": {},
   "outputs": [
    {
     "data": {
      "text/plain": [
       "76.09892065821357"
      ]
     },
     "execution_count": 25,
     "metadata": {},
     "output_type": "execute_result"
    }
   ],
   "source": [
    "np.mean(list(dtw_int_score_80.values()))"
   ]
  },
  {
   "cell_type": "code",
   "execution_count": 26,
   "id": "cf9248d8",
   "metadata": {},
   "outputs": [
    {
     "data": {
      "text/plain": [
       "129.38946105008804"
      ]
     },
     "execution_count": 26,
     "metadata": {},
     "output_type": "execute_result"
    }
   ],
   "source": [
    "np.mean(list(dtw_int_score_95.values()))"
   ]
  },
  {
   "cell_type": "code",
   "execution_count": 27,
   "id": "03a468df",
   "metadata": {},
   "outputs": [
    {
     "data": {
      "text/plain": [
       "0.24860774993708604"
      ]
     },
     "execution_count": 27,
     "metadata": {},
     "output_type": "execute_result"
    }
   ],
   "source": [
    "np.mean([dtw_int_score_80[k]/dtwforec_actual_means[k] for k in dtw_int_score_80.keys()])"
   ]
  },
  {
   "cell_type": "code",
   "execution_count": 28,
   "id": "8f48c504",
   "metadata": {},
   "outputs": [
    {
     "data": {
      "text/plain": [
       "0.4155185919973791"
      ]
     },
     "execution_count": 28,
     "metadata": {},
     "output_type": "execute_result"
    },
    {
     "name": "stderr",
     "output_type": "stream",
     "text": [
      "/home/ec2-user/miniconda3/envs/thesis_env/lib/python3.8/site-packages/gluonts/dataset/common.py:324: FutureWarning: The 'freq' argument in Timestamp is deprecated and will be removed in a future version.\n",
      "  timestamp = pd.Timestamp(timestamp_input, freq=freq)\n",
      "/home/ec2-user/miniconda3/envs/thesis_env/lib/python3.8/site-packages/gluonts/dataset/common.py:327: FutureWarning: Timestamp.freq is deprecated and will be removed in a future version\n",
      "  if isinstance(timestamp.freq, Tick):\n",
      "/home/ec2-user/miniconda3/envs/thesis_env/lib/python3.8/site-packages/gluonts/dataset/common.py:329: FutureWarning: Timestamp.freq is deprecated and will be removed in a future version\n",
      "  timestamp.floor(timestamp.freq), timestamp.freq\n",
      "/home/ec2-user/miniconda3/envs/thesis_env/lib/python3.8/site-packages/gluonts/dataset/common.py:328: FutureWarning: The 'freq' argument in Timestamp is deprecated and will be removed in a future version.\n",
      "  return pd.Timestamp(\n",
      "/home/ec2-user/miniconda3/envs/thesis_env/lib/python3.8/site-packages/gluonts/transform/feature.py:340: FutureWarning: Timestamp.freq is deprecated and will be removed in a future version\n",
      "  self._freq_base is None or self._freq_base == start.freq.base\n",
      "/home/ec2-user/miniconda3/envs/thesis_env/lib/python3.8/site-packages/gluonts/transform/split.py:36: FutureWarning: Timestamp.freq is deprecated and will be removed in a future version\n",
      "  return _shift_timestamp_helper(ts, ts.freq, offset)\n",
      "/home/ec2-user/miniconda3/envs/thesis_env/lib/python3.8/site-packages/gluonts/transform/feature.py:384: FutureWarning: Timestamp.freq is deprecated and will be removed in a future version\n",
      "  ..., i0 : i0 + length * start.freq.n : start.freq.n\n",
      "/home/ec2-user/miniconda3/envs/thesis_env/lib/python3.8/site-packages/gluonts/dataset/common.py:324: FutureWarning: The 'freq' argument in Timestamp is deprecated and will be removed in a future version.\n",
      "  timestamp = pd.Timestamp(timestamp_input, freq=freq)\n",
      "/home/ec2-user/miniconda3/envs/thesis_env/lib/python3.8/site-packages/gluonts/dataset/common.py:327: FutureWarning: Timestamp.freq is deprecated and will be removed in a future version\n",
      "  if isinstance(timestamp.freq, Tick):\n",
      "/home/ec2-user/miniconda3/envs/thesis_env/lib/python3.8/site-packages/gluonts/dataset/common.py:329: FutureWarning: Timestamp.freq is deprecated and will be removed in a future version\n",
      "  timestamp.floor(timestamp.freq), timestamp.freq\n",
      "/home/ec2-user/miniconda3/envs/thesis_env/lib/python3.8/site-packages/gluonts/dataset/common.py:328: FutureWarning: The 'freq' argument in Timestamp is deprecated and will be removed in a future version.\n",
      "  return pd.Timestamp(\n",
      "/home/ec2-user/miniconda3/envs/thesis_env/lib/python3.8/site-packages/gluonts/transform/feature.py:340: FutureWarning: Timestamp.freq is deprecated and will be removed in a future version\n",
      "  self._freq_base is None or self._freq_base == start.freq.base\n",
      "/home/ec2-user/miniconda3/envs/thesis_env/lib/python3.8/site-packages/gluonts/transform/split.py:36: FutureWarning: Timestamp.freq is deprecated and will be removed in a future version\n",
      "  return _shift_timestamp_helper(ts, ts.freq, offset)\n",
      "/home/ec2-user/miniconda3/envs/thesis_env/lib/python3.8/site-packages/gluonts/transform/feature.py:384: FutureWarning: Timestamp.freq is deprecated and will be removed in a future version\n",
      "  ..., i0 : i0 + length * start.freq.n : start.freq.n\n",
      "/home/ec2-user/miniconda3/envs/thesis_env/lib/python3.8/site-packages/gluonts/dataset/common.py:324: FutureWarning: The 'freq' argument in Timestamp is deprecated and will be removed in a future version.\n",
      "  timestamp = pd.Timestamp(timestamp_input, freq=freq)\n",
      "/home/ec2-user/miniconda3/envs/thesis_env/lib/python3.8/site-packages/gluonts/dataset/common.py:327: FutureWarning: Timestamp.freq is deprecated and will be removed in a future version\n",
      "  if isinstance(timestamp.freq, Tick):\n",
      "/home/ec2-user/miniconda3/envs/thesis_env/lib/python3.8/site-packages/gluonts/dataset/common.py:329: FutureWarning: Timestamp.freq is deprecated and will be removed in a future version\n",
      "  timestamp.floor(timestamp.freq), timestamp.freq\n",
      "/home/ec2-user/miniconda3/envs/thesis_env/lib/python3.8/site-packages/gluonts/dataset/common.py:328: FutureWarning: The 'freq' argument in Timestamp is deprecated and will be removed in a future version.\n",
      "  return pd.Timestamp(\n",
      "/home/ec2-user/miniconda3/envs/thesis_env/lib/python3.8/site-packages/gluonts/transform/feature.py:340: FutureWarning: Timestamp.freq is deprecated and will be removed in a future version\n",
      "  self._freq_base is None or self._freq_base == start.freq.base\n",
      "/home/ec2-user/miniconda3/envs/thesis_env/lib/python3.8/site-packages/gluonts/transform/split.py:36: FutureWarning: Timestamp.freq is deprecated and will be removed in a future version\n",
      "  return _shift_timestamp_helper(ts, ts.freq, offset)\n",
      "/home/ec2-user/miniconda3/envs/thesis_env/lib/python3.8/site-packages/gluonts/transform/feature.py:384: FutureWarning: Timestamp.freq is deprecated and will be removed in a future version\n",
      "  ..., i0 : i0 + length * start.freq.n : start.freq.n\n",
      "/home/ec2-user/miniconda3/envs/thesis_env/lib/python3.8/site-packages/gluonts/dataset/common.py:324: FutureWarning: The 'freq' argument in Timestamp is deprecated and will be removed in a future version.\n",
      "  timestamp = pd.Timestamp(timestamp_input, freq=freq)\n",
      "/home/ec2-user/miniconda3/envs/thesis_env/lib/python3.8/site-packages/gluonts/dataset/common.py:327: FutureWarning: Timestamp.freq is deprecated and will be removed in a future version\n",
      "  if isinstance(timestamp.freq, Tick):\n",
      "/home/ec2-user/miniconda3/envs/thesis_env/lib/python3.8/site-packages/gluonts/dataset/common.py:329: FutureWarning: Timestamp.freq is deprecated and will be removed in a future version\n",
      "  timestamp.floor(timestamp.freq), timestamp.freq\n",
      "/home/ec2-user/miniconda3/envs/thesis_env/lib/python3.8/site-packages/gluonts/dataset/common.py:328: FutureWarning: The 'freq' argument in Timestamp is deprecated and will be removed in a future version.\n",
      "  return pd.Timestamp(\n",
      "/home/ec2-user/miniconda3/envs/thesis_env/lib/python3.8/site-packages/gluonts/transform/feature.py:340: FutureWarning: Timestamp.freq is deprecated and will be removed in a future version\n",
      "  self._freq_base is None or self._freq_base == start.freq.base\n",
      "/home/ec2-user/miniconda3/envs/thesis_env/lib/python3.8/site-packages/gluonts/transform/split.py:36: FutureWarning: Timestamp.freq is deprecated and will be removed in a future version\n",
      "  return _shift_timestamp_helper(ts, ts.freq, offset)\n",
      "/home/ec2-user/miniconda3/envs/thesis_env/lib/python3.8/site-packages/gluonts/transform/feature.py:384: FutureWarning: Timestamp.freq is deprecated and will be removed in a future version\n",
      "  ..., i0 : i0 + length * start.freq.n : start.freq.n\n"
     ]
    }
   ],
   "source": [
    "np.mean([dtw_int_score_95[k]/dtwforec_actual_means[k] for k in dtw_int_score_95.keys()])"
   ]
  },
  {
   "cell_type": "code",
   "execution_count": null,
   "id": "0bf728e0",
   "metadata": {},
   "outputs": [],
   "source": []
  }
 ],
 "metadata": {
  "kernelspec": {
   "display_name": "Python 3 (ipykernel)",
   "language": "python",
   "name": "python3"
  },
  "language_info": {
   "codemirror_mode": {
    "name": "ipython",
    "version": 3
   },
   "file_extension": ".py",
   "mimetype": "text/x-python",
   "name": "python",
   "nbconvert_exporter": "python",
   "pygments_lexer": "ipython3",
   "version": "3.8.12"
  }
 },
 "nbformat": 4,
 "nbformat_minor": 5
}
